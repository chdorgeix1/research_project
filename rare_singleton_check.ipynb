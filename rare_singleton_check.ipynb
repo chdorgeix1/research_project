{
 "cells": [
  {
   "cell_type": "code",
   "execution_count": 7,
   "id": "2657ab94",
   "metadata": {},
   "outputs": [
    {
     "data": {
      "text/html": [
       "<div>\n",
       "<style scoped>\n",
       "    .dataframe tbody tr th:only-of-type {\n",
       "        vertical-align: middle;\n",
       "    }\n",
       "\n",
       "    .dataframe tbody tr th {\n",
       "        vertical-align: top;\n",
       "    }\n",
       "\n",
       "    .dataframe thead th {\n",
       "        text-align: right;\n",
       "    }\n",
       "</style>\n",
       "<table border=\"1\" class=\"dataframe\">\n",
       "  <thead>\n",
       "    <tr style=\"text-align: right;\">\n",
       "      <th></th>\n",
       "      <th>paired_end</th>\n",
       "      <th>samples</th>\n",
       "      <th>strain_1</th>\n",
       "      <th>strain_2</th>\n",
       "      <th>strain_3</th>\n",
       "      <th>strain_4</th>\n",
       "      <th>strain_5</th>\n",
       "      <th>strain_6</th>\n",
       "      <th>strain_7</th>\n",
       "      <th>strain_8</th>\n",
       "    </tr>\n",
       "  </thead>\n",
       "  <tbody>\n",
       "    <tr>\n",
       "      <th>0</th>\n",
       "      <td>R1</td>\n",
       "      <td>CMB_1</td>\n",
       "      <td>0</td>\n",
       "      <td>1</td>\n",
       "      <td>0</td>\n",
       "      <td>1</td>\n",
       "      <td>1</td>\n",
       "      <td>1</td>\n",
       "      <td>0</td>\n",
       "      <td>1</td>\n",
       "    </tr>\n",
       "    <tr>\n",
       "      <th>1</th>\n",
       "      <td>R2</td>\n",
       "      <td>CMB_1</td>\n",
       "      <td>1</td>\n",
       "      <td>0</td>\n",
       "      <td>1</td>\n",
       "      <td>1</td>\n",
       "      <td>1</td>\n",
       "      <td>1</td>\n",
       "      <td>1</td>\n",
       "      <td>1</td>\n",
       "    </tr>\n",
       "    <tr>\n",
       "      <th>2</th>\n",
       "      <td>R1</td>\n",
       "      <td>LM_1</td>\n",
       "      <td>1</td>\n",
       "      <td>1</td>\n",
       "      <td>0</td>\n",
       "      <td>1</td>\n",
       "      <td>1</td>\n",
       "      <td>1</td>\n",
       "      <td>1</td>\n",
       "      <td>1</td>\n",
       "    </tr>\n",
       "    <tr>\n",
       "      <th>3</th>\n",
       "      <td>R2</td>\n",
       "      <td>LM_1</td>\n",
       "      <td>1</td>\n",
       "      <td>0</td>\n",
       "      <td>1</td>\n",
       "      <td>1</td>\n",
       "      <td>0</td>\n",
       "      <td>1</td>\n",
       "      <td>1</td>\n",
       "      <td>1</td>\n",
       "    </tr>\n",
       "  </tbody>\n",
       "</table>\n",
       "</div>"
      ],
      "text/plain": [
       "  paired_end samples  strain_1  strain_2  strain_3  strain_4  strain_5  \\\n",
       "0         R1   CMB_1         0         1         0         1         1   \n",
       "1         R2   CMB_1         1         0         1         1         1   \n",
       "2         R1    LM_1         1         1         0         1         1   \n",
       "3         R2    LM_1         1         0         1         1         0   \n",
       "\n",
       "   strain_6  strain_7  strain_8  \n",
       "0         1         0         1  \n",
       "1         1         1         1  \n",
       "2         1         1         1  \n",
       "3         1         1         1  "
      ]
     },
     "execution_count": 7,
     "metadata": {},
     "output_type": "execute_result"
    }
   ],
   "source": [
    "# Goal output for data\n",
    "\n",
    "# Example dataframe for set up \n",
    "import pandas as pd\n",
    "import numpy as np\n",
    "# intialise data of lists.\n",
    "example_data = {'samples':['CMB_1', 'CMB_1', 'LM_1', 'LM_1'],\n",
    "        'paired_end':['R1', 'R2', 'R1', 'R2'],\n",
    "        'strain_1':[0, 1, 1, 1],\n",
    "        'strain_2':[1, 0, 1, 0],\n",
    "        'strain_3':[0, 1, 0, 1],\n",
    "        'strain_4':[1, 1, 1, 1],\n",
    "        'strain_5':[1, 1, 1, 0],\n",
    "        'strain_6':[1, 1, 1, 1],\n",
    "        'strain_7':[0, 1, 1, 1],\n",
    "        'strain_8':[1, 1, 1, 1]}\n",
    " \n",
    "example_df = pd.DataFrame(example_data)\n",
    "example_df.head()"
   ]
  },
  {
   "cell_type": "code",
   "execution_count": 8,
   "id": "1cf3f039",
   "metadata": {},
   "outputs": [],
   "source": [
    "import dataProcessingRareSingleton as DP"
   ]
  },
  {
   "cell_type": "code",
   "execution_count": 9,
   "id": "22480b75",
   "metadata": {},
   "outputs": [],
   "source": [
    "import VDBarChart as VDBP"
   ]
  },
  {
   "cell_type": "code",
   "execution_count": 10,
   "id": "f4c1c888",
   "metadata": {},
   "outputs": [],
   "source": [
    "# reading csv file \n",
    "df = DP.data_processing('/Users/15404/Documents/GitHub/research_project/raw_data/', 'genus', False)"
   ]
  },
  {
   "cell_type": "code",
   "execution_count": 13,
   "id": "9b7ad0a1",
   "metadata": {},
   "outputs": [],
   "source": [
    "import pandas as pd\n",
    "my_path = '/Users/15404/Documents/GitHub/research_project/raw_data/'\n",
    "test_df = DP.data_processing(my_path, 'genus', 0, False)\n",
    "#test_df.head()"
   ]
  },
  {
   "cell_type": "code",
   "execution_count": 25,
   "id": "368b97af",
   "metadata": {
    "scrolled": true
   },
   "outputs": [
    {
     "data": {
      "text/plain": [
       "32.88716000000001"
      ]
     },
     "execution_count": 25,
     "metadata": {},
     "output_type": "execute_result"
    }
   ],
   "source": [
    "sum(test_df.iloc[0].values[2:])"
   ]
  },
  {
   "cell_type": "code",
   "execution_count": 49,
   "id": "bfc3a969",
   "metadata": {},
   "outputs": [],
   "source": [
    "import pandas as pd\n",
    "my_path = '/Users/15404/Documents/GitHub/research_project/raw_data/'\n",
    "test_df = DP.data_processing(my_path, 'genus', 0.1, True)\n",
    "#test_df.head()"
   ]
  },
  {
   "cell_type": "code",
   "execution_count": 50,
   "id": "0dbaf9c2",
   "metadata": {},
   "outputs": [
    {
     "data": {
      "text/plain": [
       "38.0"
      ]
     },
     "execution_count": 50,
     "metadata": {},
     "output_type": "execute_result"
    }
   ],
   "source": [
    "sum(test_df.iloc[2].values[2:])"
   ]
  },
  {
   "cell_type": "code",
   "execution_count": 51,
   "id": "0e983527",
   "metadata": {},
   "outputs": [
    {
     "name": "stderr",
     "output_type": "stream",
     "text": [
      "C:\\Users\\15404\\anaconda3.1\\envs\\conda_aml5\\lib\\site-packages\\matplotlib\\figure.py:98: MatplotlibDeprecationWarning: \n",
      "Adding an axes using the same arguments as a previous axes currently reuses the earlier instance.  In a future version, a new instance will always be created and returned.  Meanwhile, this warning can be suppressed, and the future behavior ensured, by passing a unique label to each axes instance.\n",
      "  \"Adding an axes using the same arguments as a previous axes \"\n"
     ]
    },
    {
     "data": {
      "image/png": "[encoded data removed]",
      "text/plain": [
       "<Figure size 720x720 with 1 Axes>"
      ]
     },
     "metadata": {
      "needs_background": "light"
     },
     "output_type": "display_data"
    }
   ],
   "source": [
    "VDBP.VDBarChart(test_df)"
   ]
  },
  {
   "cell_type": "code",
   "execution_count": null,
   "id": "d1f4ffe9",
   "metadata": {},
   "outputs": [],
   "source": []
  }
 ],
 "metadata": {
  "kernelspec": {
   "display_name": "Python [conda env:conda_aml5]",
   "language": "python",
   "name": "conda-env-conda_aml5-py"
  },
  "language_info": {
   "codemirror_mode": {
    "name": "ipython",
    "version": 3
   },
   "file_extension": ".py",
   "mimetype": "text/x-python",
   "name": "python",
   "nbconvert_exporter": "python",
   "pygments_lexer": "ipython3",
   "version": "3.5.6"
  }
 },
 "nbformat": 4,
 "nbformat_minor": 5
}
