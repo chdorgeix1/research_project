{
 "cells": [
  {
   "cell_type": "code",
   "execution_count": 1,
   "id": "50e69557",
   "metadata": {},
   "outputs": [
    {
     "data": {
      "text/html": [
       "<div>\n",
       "<style scoped>\n",
       "    .dataframe tbody tr th:only-of-type {\n",
       "        vertical-align: middle;\n",
       "    }\n",
       "\n",
       "    .dataframe tbody tr th {\n",
       "        vertical-align: top;\n",
       "    }\n",
       "\n",
       "    .dataframe thead th {\n",
       "        text-align: right;\n",
       "    }\n",
       "</style>\n",
       "<table border=\"1\" class=\"dataframe\">\n",
       "  <thead>\n",
       "    <tr style=\"text-align: right;\">\n",
       "      <th></th>\n",
       "      <th>paired_end</th>\n",
       "      <th>samples</th>\n",
       "      <th>strain_1</th>\n",
       "      <th>strain_2</th>\n",
       "      <th>strain_3</th>\n",
       "      <th>strain_4</th>\n",
       "      <th>strain_5</th>\n",
       "      <th>strain_6</th>\n",
       "      <th>strain_7</th>\n",
       "      <th>strain_8</th>\n",
       "    </tr>\n",
       "  </thead>\n",
       "  <tbody>\n",
       "    <tr>\n",
       "      <th>0</th>\n",
       "      <td>R1</td>\n",
       "      <td>CMB_1</td>\n",
       "      <td>0</td>\n",
       "      <td>1</td>\n",
       "      <td>0</td>\n",
       "      <td>1</td>\n",
       "      <td>1</td>\n",
       "      <td>1</td>\n",
       "      <td>0</td>\n",
       "      <td>1</td>\n",
       "    </tr>\n",
       "    <tr>\n",
       "      <th>1</th>\n",
       "      <td>R2</td>\n",
       "      <td>CMB_1</td>\n",
       "      <td>1</td>\n",
       "      <td>0</td>\n",
       "      <td>1</td>\n",
       "      <td>1</td>\n",
       "      <td>1</td>\n",
       "      <td>1</td>\n",
       "      <td>1</td>\n",
       "      <td>1</td>\n",
       "    </tr>\n",
       "    <tr>\n",
       "      <th>2</th>\n",
       "      <td>R1</td>\n",
       "      <td>LM_1</td>\n",
       "      <td>1</td>\n",
       "      <td>1</td>\n",
       "      <td>0</td>\n",
       "      <td>1</td>\n",
       "      <td>1</td>\n",
       "      <td>1</td>\n",
       "      <td>1</td>\n",
       "      <td>1</td>\n",
       "    </tr>\n",
       "    <tr>\n",
       "      <th>3</th>\n",
       "      <td>R2</td>\n",
       "      <td>LM_1</td>\n",
       "      <td>1</td>\n",
       "      <td>0</td>\n",
       "      <td>1</td>\n",
       "      <td>1</td>\n",
       "      <td>0</td>\n",
       "      <td>1</td>\n",
       "      <td>1</td>\n",
       "      <td>1</td>\n",
       "    </tr>\n",
       "  </tbody>\n",
       "</table>\n",
       "</div>"
      ],
      "text/plain": [
       "  paired_end samples  strain_1  strain_2  strain_3  strain_4  strain_5  \\\n",
       "0         R1   CMB_1         0         1         0         1         1   \n",
       "1         R2   CMB_1         1         0         1         1         1   \n",
       "2         R1    LM_1         1         1         0         1         1   \n",
       "3         R2    LM_1         1         0         1         1         0   \n",
       "\n",
       "   strain_6  strain_7  strain_8  \n",
       "0         1         0         1  \n",
       "1         1         1         1  \n",
       "2         1         1         1  \n",
       "3         1         1         1  "
      ]
     },
     "execution_count": 1,
     "metadata": {},
     "output_type": "execute_result"
    }
   ],
   "source": [
    "# Goal output for data\n",
    "\n",
    "# Example dataframe for set up \n",
    "import pandas as pd\n",
    "import numpy as np\n",
    "# intialise data of lists.\n",
    "example_data = {'samples':['CMB_1', 'CMB_1', 'LM_1', 'LM_1'],\n",
    "        'paired_end':['R1', 'R2', 'R1', 'R2'],\n",
    "        'strain_1':[0, 1, 1, 1],\n",
    "        'strain_2':[1, 0, 1, 0],\n",
    "        'strain_3':[0, 1, 0, 1],\n",
    "        'strain_4':[1, 1, 1, 1],\n",
    "        'strain_5':[1, 1, 1, 0],\n",
    "        'strain_6':[1, 1, 1, 1],\n",
    "        'strain_7':[0, 1, 1, 1],\n",
    "        'strain_8':[1, 1, 1, 1]}\n",
    " \n",
    "example_df = pd.DataFrame(example_data)\n",
    "example_df.head()"
   ]
  },
  {
   "cell_type": "code",
   "execution_count": 13,
   "id": "05c97d8f",
   "metadata": {},
   "outputs": [],
   "source": [
    "import dataProcessing as DP"
   ]
  },
  {
   "cell_type": "code",
   "execution_count": 14,
   "id": "0b5902b5",
   "metadata": {},
   "outputs": [],
   "source": [
    "import VDBarChart as VDBP"
   ]
  },
  {
   "cell_type": "code",
   "execution_count": 15,
   "id": "88bccf30",
   "metadata": {},
   "outputs": [],
   "source": [
    "# reading csv file \n",
    "df = DP.data_processing('/Users/15404/Documents/GitHub/research_project/raw_data/', 'genus', False)"
   ]
  },
  {
   "cell_type": "code",
   "execution_count": 19,
   "id": "0ab4cd59",
   "metadata": {},
   "outputs": [],
   "source": [
    "import pandas as pd\n",
    "my_path = '/Users/15404/Documents/GitHub/research_project/raw_data/'\n",
    "test_df = DP.data_processing(my_path, 'genus', False)\n",
    "#test_df.head()"
   ]
  },
  {
   "cell_type": "code",
   "execution_count": 21,
   "id": "5942e601",
   "metadata": {},
   "outputs": [],
   "source": [
    "test_df[test_df > 0] = 100"
   ]
  },
  {
   "cell_type": "code",
   "execution_count": null,
   "id": "95ffdaac",
   "metadata": {},
   "outputs": [],
   "source": []
  }
 ],
 "metadata": {
  "kernelspec": {
   "display_name": "Python [conda env:conda_aml5]",
   "language": "python",
   "name": "conda-env-conda_aml5-py"
  },
  "language_info": {
   "codemirror_mode": {
    "name": "ipython",
    "version": 3
   },
   "file_extension": ".py",
   "mimetype": "text/x-python",
   "name": "python",
   "nbconvert_exporter": "python",
   "pygments_lexer": "ipython3",
   "version": "3.5.6"
  }
 },
 "nbformat": 4,
 "nbformat_minor": 5
}
