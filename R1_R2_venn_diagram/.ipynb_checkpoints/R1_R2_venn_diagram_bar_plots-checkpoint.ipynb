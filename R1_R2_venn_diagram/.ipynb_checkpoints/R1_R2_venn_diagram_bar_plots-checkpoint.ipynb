{
 "cells": [
  {
   "cell_type": "code",
   "execution_count": 14,
   "id": "3ce90f42",
   "metadata": {},
   "outputs": [
    {
     "name": "stdout",
     "output_type": "stream",
     "text": [
      "[6 8 3 5 4 7 2 9 6 5]\n"
     ]
    },
    {
     "data": {
      "text/plain": [
       "<Figure size 640x480 with 1 Axes>"
      ]
     },
     "metadata": {},
     "output_type": "display_data"
    }
   ],
   "source": [
    "#Example code taken from open ai for barplots\n",
    "\n",
    "import matplotlib.pyplot as plt\n",
    "import numpy as np\n",
    "# data\n",
    "x = np.arange(10)\n",
    "y1 = np.random.randint(10, size=10)\n",
    "y2 = np.random.randint(10, size=10)\n",
    "y3 = np.random.randint(10, size=10)\n",
    "print(y1)\n",
    "# plot\n",
    "plt.bar(x, y1, color='b')\n",
    "plt.bar(x, y2, color='g', bottom=y1)\n",
    "plt.bar(x, y3, color='r', bottom=y1+y2)\n",
    "# labels\n",
    "plt.xticks(x, ('Bill', 'Fred', 'Mary', 'Sue', 'John', 'Jane', 'Joe', 'Ashley', 'Mitch', 'Oscar'))\n",
    "plt.title('Stacked Bar Chart')\n",
    "plt.xlabel('Person')\n",
    "plt.ylabel('Score')\n",
    "# show\n",
    "plt.show()"
   ]
  },
  {
   "cell_type": "code",
   "execution_count": 33,
   "id": "40d91b44",
   "metadata": {},
   "outputs": [
    {
     "data": {
      "text/html": [
       "<div>\n",
       "<style scoped>\n",
       "    .dataframe tbody tr th:only-of-type {\n",
       "        vertical-align: middle;\n",
       "    }\n",
       "\n",
       "    .dataframe tbody tr th {\n",
       "        vertical-align: top;\n",
       "    }\n",
       "\n",
       "    .dataframe thead th {\n",
       "        text-align: right;\n",
       "    }\n",
       "</style>\n",
       "<table border=\"1\" class=\"dataframe\">\n",
       "  <thead>\n",
       "    <tr style=\"text-align: right;\">\n",
       "      <th></th>\n",
       "      <th>samples</th>\n",
       "      <th>paired_end</th>\n",
       "      <th>strain_1</th>\n",
       "      <th>strain_2</th>\n",
       "    </tr>\n",
       "  </thead>\n",
       "  <tbody>\n",
       "    <tr>\n",
       "      <th>0</th>\n",
       "      <td>CMB_1</td>\n",
       "      <td>R1</td>\n",
       "      <td>1</td>\n",
       "      <td>1</td>\n",
       "    </tr>\n",
       "    <tr>\n",
       "      <th>1</th>\n",
       "      <td>CMB_1</td>\n",
       "      <td>R2</td>\n",
       "      <td>1</td>\n",
       "      <td>0</td>\n",
       "    </tr>\n",
       "    <tr>\n",
       "      <th>2</th>\n",
       "      <td>LM_1</td>\n",
       "      <td>R1</td>\n",
       "      <td>1</td>\n",
       "      <td>1</td>\n",
       "    </tr>\n",
       "    <tr>\n",
       "      <th>3</th>\n",
       "      <td>LM_1</td>\n",
       "      <td>R2</td>\n",
       "      <td>1</td>\n",
       "      <td>1</td>\n",
       "    </tr>\n",
       "  </tbody>\n",
       "</table>\n",
       "</div>"
      ],
      "text/plain": [
       "  samples paired_end  strain_1  strain_2\n",
       "0   CMB_1         R1         1         1\n",
       "1   CMB_1         R2         1         0\n",
       "2    LM_1         R1         1         1\n",
       "3    LM_1         R2         1         1"
      ]
     },
     "execution_count": 33,
     "metadata": {},
     "output_type": "execute_result"
    }
   ],
   "source": [
    "# Example dataframe for set up \n",
    "import pandas as pd\n",
    "\n",
    "# intialise data of lists.\n",
    "data = {'samples':['CMB_1', 'CMB_1', 'LM_1', 'LM_1'],\n",
    "        'paired_end':['R1', 'R2', 'R1', 'R2'],\n",
    "        'strain_1':[1, 1, 1, 1],\n",
    "        'strain_2':[1, 0, 0, 1]}\n",
    " \n",
    "df = pd.DataFrame(data)\n",
    "\n",
    "# shift column 'Name' to first position\n",
    "first_column = df.pop('samples')\n",
    "  \n",
    "# insert column using insert(position,column_name,\n",
    "# first_column) function\n",
    "df.insert(0, 'samples', first_column)\n",
    "\n",
    "df.head()"
   ]
  },
  {
   "cell_type": "code",
   "execution_count": 34,
   "id": "42086d79",
   "metadata": {},
   "outputs": [
    {
     "name": "stdout",
     "output_type": "stream",
     "text": [
      "  samples paired_end  strain_1  strain_2\n",
      "0   CMB_1         R1         1         1\n",
      "2    LM_1         R1         1         1\n"
     ]
    }
   ],
   "source": [
    "print(df[df['paired_end'] == 'R1'])"
   ]
  },
  {
   "cell_type": "code",
   "execution_count": 35,
   "id": "354e241f",
   "metadata": {},
   "outputs": [
    {
     "name": "stdout",
     "output_type": "stream",
     "text": [
      "CMB_1\n",
      "LM_1\n"
     ]
    }
   ],
   "source": [
    "for samplo in df.samples.unique():\n",
    "    print(samplo)"
   ]
  },
  {
   "cell_type": "code",
   "execution_count": 36,
   "id": "a92fe4db",
   "metadata": {},
   "outputs": [],
   "source": [
    "def VDBarChart(df):\n",
    "    R1_list = []\n",
    "    R2_list = []\n",
    "    bar_chart_counter = 1\n",
    "    for sample in df.samples.unique():\n",
    "        df1 = df[df['samples'] == sample]\n",
    "        #print(df1.head())\n",
    "        df2 = df1[df1['paired_end'] == 'R1']\n",
    "        #print(df2.head())\n",
    "        for (columnName, columnData) in df2.iteritems():\n",
    "            if columnName == 'samples' or columnName == 'paired_end':\n",
    "                None\n",
    "            else:\n",
    "                R1_list.append(columnData.values[0])\n",
    "        df3 = df1[df1['paired_end'] == 'R2']\n",
    "        for (columnName, columnData) in df3.iteritems():\n",
    "            if columnName == 'samples' or columnName == 'paired_end':\n",
    "                None\n",
    "            else:\n",
    "                R2_list.append(columnData.values[0])\n",
    "\n",
    "        a = 0 #is only in R1_list\n",
    "        b = 0 #is in both lists\n",
    "        c = 0 #is only in R2_list\n",
    "\n",
    "        for i in range(len(R1_list)):   \n",
    "            x = R1_list[i] - R2_list[i]\n",
    "            if x == -1:\n",
    "                c += 1\n",
    "            elif x == 1:\n",
    "                a += 1\n",
    "            elif x == 0 and R1_list[i] == 1:\n",
    "                b += 1\n",
    "\n",
    "        #print(a, b, c)            \n",
    "        #print(R1_list)\n",
    "        #print(R2_list)\n",
    "        if bar_chart_counter == 1:\n",
    "            plt.bar(bar_chart_counter, a, color='b', label = 'R1')\n",
    "            plt.bar(bar_chart_counter, b, color='g', bottom=a, label = 'Both')\n",
    "            plt.bar(bar_chart_counter, c, color='y', bottom=a + b, label = 'R2')\n",
    "        else:\n",
    "            plt.bar(bar_chart_counter, a, color='b')\n",
    "            plt.bar(bar_chart_counter, b, color='g', bottom=a)\n",
    "            plt.bar(bar_chart_counter, c, color='y', bottom=a + b)\n",
    "        plt.legend()\n",
    "        bar_chart_counter += 1\n",
    "    plt.show()"
   ]
  },
  {
   "cell_type": "code",
   "execution_count": 37,
   "id": "dd42a6c3",
   "metadata": {},
   "outputs": [
    {
     "data": {
      "text/html": [
       "<div>\n",
       "<style scoped>\n",
       "    .dataframe tbody tr th:only-of-type {\n",
       "        vertical-align: middle;\n",
       "    }\n",
       "\n",
       "    .dataframe tbody tr th {\n",
       "        vertical-align: top;\n",
       "    }\n",
       "\n",
       "    .dataframe thead th {\n",
       "        text-align: right;\n",
       "    }\n",
       "</style>\n",
       "<table border=\"1\" class=\"dataframe\">\n",
       "  <thead>\n",
       "    <tr style=\"text-align: right;\">\n",
       "      <th></th>\n",
       "      <th>samples</th>\n",
       "      <th>paired_end</th>\n",
       "      <th>strain_1</th>\n",
       "      <th>strain_2</th>\n",
       "    </tr>\n",
       "  </thead>\n",
       "  <tbody>\n",
       "    <tr>\n",
       "      <th>0</th>\n",
       "      <td>CMB_1</td>\n",
       "      <td>R1</td>\n",
       "      <td>1</td>\n",
       "      <td>1</td>\n",
       "    </tr>\n",
       "    <tr>\n",
       "      <th>1</th>\n",
       "      <td>CMB_1</td>\n",
       "      <td>R2</td>\n",
       "      <td>1</td>\n",
       "      <td>0</td>\n",
       "    </tr>\n",
       "    <tr>\n",
       "      <th>2</th>\n",
       "      <td>LM_1</td>\n",
       "      <td>R1</td>\n",
       "      <td>1</td>\n",
       "      <td>1</td>\n",
       "    </tr>\n",
       "    <tr>\n",
       "      <th>3</th>\n",
       "      <td>LM_1</td>\n",
       "      <td>R2</td>\n",
       "      <td>1</td>\n",
       "      <td>1</td>\n",
       "    </tr>\n",
       "  </tbody>\n",
       "</table>\n",
       "</div>"
      ],
      "text/plain": [
       "  samples paired_end  strain_1  strain_2\n",
       "0   CMB_1         R1         1         1\n",
       "1   CMB_1         R2         1         0\n",
       "2    LM_1         R1         1         1\n",
       "3    LM_1         R2         1         1"
      ]
     },
     "execution_count": 37,
     "metadata": {},
     "output_type": "execute_result"
    }
   ],
   "source": [
    "df.head()"
   ]
  },
  {
   "cell_type": "code",
   "execution_count": 38,
   "id": "7cfcb458",
   "metadata": {},
   "outputs": [
    {
     "data": {
      "image/png": "[encoded data removed]",
      "text/plain": [
       "<Figure size 432x288 with 1 Axes>"
      ]
     },
     "metadata": {
      "needs_background": "light"
     },
     "output_type": "display_data"
    }
   ],
   "source": [
    "VDBarChart(df)"
   ]
  },
  {
   "cell_type": "code",
   "execution_count": null,
   "id": "f03cac0c",
   "metadata": {},
   "outputs": [],
   "source": []
  }
 ],
 "metadata": {
  "kernelspec": {
   "display_name": "Python [conda env:conda_aml5]",
   "language": "python",
   "name": "conda-env-conda_aml5-py"
  },
  "language_info": {
   "codemirror_mode": {
    "name": "ipython",
    "version": 3
   },
   "file_extension": ".py",
   "mimetype": "text/x-python",
   "name": "python",
   "nbconvert_exporter": "python",
   "pygments_lexer": "ipython3",
   "version": "3.5.6"
  }
 },
 "nbformat": 4,
 "nbformat_minor": 5
}
