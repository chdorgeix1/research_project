{
 "cells": [
  {
   "cell_type": "code",
   "execution_count": 15,
   "id": "bbfd78fd",
   "metadata": {},
   "outputs": [],
   "source": [
    "from os import listdir\n",
    "from os.path import isfile, join\n",
    "import numpy as np\n",
    "import re\n",
    "import pandas as pd\n",
    "import numpy as np\n",
    "\n",
    "from dataProcessing import data_processing"
   ]
  },
  {
   "cell_type": "code",
   "execution_count": 16,
   "id": "ec147bee",
   "metadata": {},
   "outputs": [],
   "source": [
    "my_path = '/Users/15404/Documents/GitHub/research_project/data/202107_output/'\n",
    "x = data_processing(my_path, 'phylum', presence = False)"
   ]
  },
  {
   "cell_type": "code",
   "execution_count": 17,
   "id": "db18dad0",
   "metadata": {},
   "outputs": [],
   "source": [
    "my_path_2 = '/Users/15404/Documents/GitHub/research_project/data/202109_output/'\n",
    "y = data_processing(my_path_2, 'phylum', presence = False)"
   ]
  },
  {
   "cell_type": "code",
   "execution_count": 18,
   "id": "08bc000a",
   "metadata": {},
   "outputs": [],
   "source": [
    "my_path_3 = '/Users/15404/Documents/GitHub/research_project/data/5488_output/'\n",
    "z = data_processing(my_path_3, 'phylum', presence = False)"
   ]
  },
  {
   "cell_type": "code",
   "execution_count": 19,
   "id": "eae25d1f",
   "metadata": {},
   "outputs": [],
   "source": [
    "my_path_4 = '/Users/15404/Documents/GitHub/research_project/data/leaf_output/'\n",
    "leaf = data_processing(my_path_4, 'phylum', presence = False)"
   ]
  },
  {
   "cell_type": "code",
   "execution_count": 4,
   "id": "0a9c290a",
   "metadata": {},
   "outputs": [
    {
     "data": {
      "text/plain": [
       "(96, 80)"
      ]
     },
     "execution_count": 4,
     "metadata": {},
     "output_type": "execute_result"
    }
   ],
   "source": [
    "x.shape"
   ]
  },
  {
   "cell_type": "code",
   "execution_count": 6,
   "id": "eb7a5448",
   "metadata": {},
   "outputs": [
    {
     "data": {
      "text/plain": [
       "(96, 113)"
      ]
     },
     "execution_count": 6,
     "metadata": {},
     "output_type": "execute_result"
    }
   ],
   "source": [
    "y.shape"
   ]
  },
  {
   "cell_type": "code",
   "execution_count": 7,
   "id": "c918e0fb",
   "metadata": {},
   "outputs": [
    {
     "data": {
      "text/plain": [
       "(122, 104)"
      ]
     },
     "execution_count": 7,
     "metadata": {},
     "output_type": "execute_result"
    }
   ],
   "source": [
    "z.shape"
   ]
  },
  {
   "cell_type": "code",
   "execution_count": 20,
   "id": "7005bc79",
   "metadata": {},
   "outputs": [
    {
     "data": {
      "text/plain": [
       "(190, 91)"
      ]
     },
     "execution_count": 20,
     "metadata": {},
     "output_type": "execute_result"
    }
   ],
   "source": [
    "leaf.shape"
   ]
  },
  {
   "cell_type": "code",
   "execution_count": null,
   "id": "0bf41d6b",
   "metadata": {},
   "outputs": [],
   "source": []
  }
 ],
 "metadata": {
  "kernelspec": {
   "display_name": "Python [conda env:conda_aml5]",
   "language": "python",
   "name": "conda-env-conda_aml5-py"
  },
  "language_info": {
   "codemirror_mode": {
    "name": "ipython",
    "version": 3
   },
   "file_extension": ".py",
   "mimetype": "text/x-python",
   "name": "python",
   "nbconvert_exporter": "python",
   "pygments_lexer": "ipython3",
   "version": "3.5.6"
  }
 },
 "nbformat": 4,
 "nbformat_minor": 5
}
