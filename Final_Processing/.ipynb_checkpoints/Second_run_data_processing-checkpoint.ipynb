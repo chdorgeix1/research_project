{
 "cells": [
  {
   "cell_type": "code",
   "execution_count": 86,
   "id": "1c45eb4e",
   "metadata": {},
   "outputs": [],
   "source": [
    "from os import listdir\n",
    "from os.path import isfile, join\n",
    "import numpy as np\n",
    "import re\n",
    "import pandas as pd\n",
    "import numpy as np"
   ]
  },
  {
   "cell_type": "markdown",
   "id": "9457b644",
   "metadata": {},
   "source": [
    "### Processing New, Mitochondria/Chloroplast Removed Data"
   ]
  },
  {
   "cell_type": "markdown",
   "id": "3f31be3a",
   "metadata": {},
   "source": [
    "#### The purpose of this code is to create CSVs of the original data from superkingdom to species level taxonomy"
   ]
  },
  {
   "cell_type": "code",
   "execution_count": 99,
   "id": "38acadba",
   "metadata": {},
   "outputs": [],
   "source": [
    "#File Path\n",
    "leaf_path_1 = r\"C:\\Users\\15404\\Documents\\GitHub\\research_project\\Final_Processing\\original_data\\rerun_leaves_1\\\\\""
   ]
  },
  {
   "cell_type": "code",
   "execution_count": 100,
   "id": "f2967c1e",
   "metadata": {},
   "outputs": [],
   "source": [
    "file_list = [f for f in listdir(leaf_path_1) if isfile(join(leaf_path_1, f))]\n",
    "# print(len(file_list))"
   ]
  },
  {
   "cell_type": "code",
   "execution_count": 101,
   "id": "d5456d89",
   "metadata": {},
   "outputs": [],
   "source": [
    "taxon_list = ['superkingdom', 'phylum', 'class', 'order', 'family', 'genus', 'species', 'strain']"
   ]
  },
  {
   "cell_type": "code",
   "execution_count": 102,
   "id": "fa9009ca",
   "metadata": {},
   "outputs": [
    {
     "name": "stdout",
     "output_type": "stream",
     "text": [
      "superkingdom\n",
      "(323, 6)\n",
      "phylum\n",
      "(1208, 6)\n",
      "class\n",
      "(2692, 6)\n",
      "order\n",
      "(5770, 6)\n",
      "family\n",
      "(10061, 6)\n",
      "genus\n",
      "(19467, 6)\n",
      "species\n",
      "(67811, 6)\n",
      "strain\n",
      "(67811, 6)\n"
     ]
    }
   ],
   "source": [
    "for taxon_level in taxon_list:\n",
    "    df1 = pd.DataFrame(columns = ['sample', 'taxon_id', 'level', 'taxon_path', 'taxon', 'val'])\n",
    "    for tsv in file_list:\n",
    "        with open(leaf_path_1 + tsv, 'r') as myfile:\n",
    "            line_list = []\n",
    "            for line in myfile:\n",
    "                if line[0] != '@' and len(line) > 1:\n",
    "                    fileContent = re.sub(\"\\t\", \",\", line)\n",
    "                    fileContent = re.sub(\"\\n\", \"\", fileContent)\n",
    "                    new_line = fileContent.split(',')    \n",
    "                    if new_line[1] == taxon_level and taxon_level != 'strain' and \"||\" not in line:\n",
    "                        line_list.append(new_line)\n",
    "                    elif new_line[1] == taxon_level and taxon_level == 'strain' and \"||\" not in line:\n",
    "                        line_list.append(new_line[0:5])\n",
    "        df2 = pd.DataFrame(line_list)\n",
    "        df2.rename(columns = {0:'taxon_id', 1:'level', 2:'taxon_path', 3:'taxon', 4:'val'}, inplace = True) \n",
    "        df2.insert(0, \"sample\", [tsv]*len(line_list), True)\n",
    "        \n",
    "        df1 = pd.concat([df1, df2], ignore_index=True)\n",
    "    #csv_name = 'rerun_2_leaf_microbiome_' + taxon_level +'.csv'\n",
    "    #df1.to_csv(csv_name)\n",
    "    #print(csv_name)\n",
    "    print(taxon_level)\n",
    "    print(df1.shape)"
   ]
  },
  {
   "cell_type": "code",
   "execution_count": 69,
   "id": "32ccf9fe",
   "metadata": {},
   "outputs": [
    {
     "data": {
      "text/html": [
       "<div>\n",
       "<style scoped>\n",
       "    .dataframe tbody tr th:only-of-type {\n",
       "        vertical-align: middle;\n",
       "    }\n",
       "\n",
       "    .dataframe tbody tr th {\n",
       "        vertical-align: top;\n",
       "    }\n",
       "\n",
       "    .dataframe thead th {\n",
       "        text-align: right;\n",
       "    }\n",
       "</style>\n",
       "<table border=\"1\" class=\"dataframe\">\n",
       "  <thead>\n",
       "    <tr style=\"text-align: right;\">\n",
       "      <th></th>\n",
       "      <th>sample</th>\n",
       "      <th>taxon_id</th>\n",
       "      <th>level</th>\n",
       "      <th>taxon_path</th>\n",
       "      <th>taxon</th>\n",
       "      <th>val</th>\n",
       "    </tr>\n",
       "  </thead>\n",
       "  <tbody>\n",
       "    <tr>\n",
       "      <th>0</th>\n",
       "      <td>1A01_S1_L001_R1_001</td>\n",
       "      <td>2080750.0</td>\n",
       "      <td>strain</td>\n",
       "      <td>2|201174|1760|85007|1653|1716|2080750|2080750.0</td>\n",
       "      <td>Bacteria|Actinobacteria|Actinobacteria|Coryneb...</td>\n",
       "      <td>0.63429</td>\n",
       "    </tr>\n",
       "    <tr>\n",
       "      <th>1</th>\n",
       "      <td>1A01_S1_L001_R1_001</td>\n",
       "      <td>114090.1.1</td>\n",
       "      <td>strain</td>\n",
       "      <td>2|1239|91061|186826|33958|1253|114090|114090.1.1</td>\n",
       "      <td>Bacteria|Firmicutes|Bacilli|Lactobacillales|La...</td>\n",
       "      <td>0.06341</td>\n",
       "    </tr>\n",
       "    <tr>\n",
       "      <th>2</th>\n",
       "      <td>1A01_S1_L001_R1_001</td>\n",
       "      <td>925409.0</td>\n",
       "      <td>strain</td>\n",
       "      <td>2|976|1853228|1853229|563835|1612198|925409|92...</td>\n",
       "      <td>Bacteria|Bacteroidetes|Chitinophagia|Chitinoph...</td>\n",
       "      <td>0.04896</td>\n",
       "    </tr>\n",
       "    <tr>\n",
       "      <th>3</th>\n",
       "      <td>1A01_S1_L001_R1_001</td>\n",
       "      <td>2057185.0</td>\n",
       "      <td>strain</td>\n",
       "      <td>2|201174|1760|85007|1762|1763|2057185|2057185.0</td>\n",
       "      <td>Bacteria|Actinobacteria|Actinobacteria|Coryneb...</td>\n",
       "      <td>0.03646</td>\n",
       "    </tr>\n",
       "    <tr>\n",
       "      <th>4</th>\n",
       "      <td>1A01_S1_L001_R1_001</td>\n",
       "      <td>267747.1</td>\n",
       "      <td>strain</td>\n",
       "      <td>2|201174|1760|85009|31957|1912216|1747|267747.1</td>\n",
       "      <td>Bacteria|Actinobacteria|Actinobacteria|Propion...</td>\n",
       "      <td>0.02978</td>\n",
       "    </tr>\n",
       "  </tbody>\n",
       "</table>\n",
       "</div>"
      ],
      "text/plain": [
       "                sample    taxon_id   level  \\\n",
       "0  1A01_S1_L001_R1_001   2080750.0  strain   \n",
       "1  1A01_S1_L001_R1_001  114090.1.1  strain   \n",
       "2  1A01_S1_L001_R1_001    925409.0  strain   \n",
       "3  1A01_S1_L001_R1_001   2057185.0  strain   \n",
       "4  1A01_S1_L001_R1_001    267747.1  strain   \n",
       "\n",
       "                                          taxon_path  \\\n",
       "0    2|201174|1760|85007|1653|1716|2080750|2080750.0   \n",
       "1   2|1239|91061|186826|33958|1253|114090|114090.1.1   \n",
       "2  2|976|1853228|1853229|563835|1612198|925409|92...   \n",
       "3    2|201174|1760|85007|1762|1763|2057185|2057185.0   \n",
       "4    2|201174|1760|85009|31957|1912216|1747|267747.1   \n",
       "\n",
       "                                               taxon      val  \n",
       "0  Bacteria|Actinobacteria|Actinobacteria|Coryneb...  0.63429  \n",
       "1  Bacteria|Firmicutes|Bacilli|Lactobacillales|La...  0.06341  \n",
       "2  Bacteria|Bacteroidetes|Chitinophagia|Chitinoph...  0.04896  \n",
       "3  Bacteria|Actinobacteria|Actinobacteria|Coryneb...  0.03646  \n",
       "4  Bacteria|Actinobacteria|Actinobacteria|Propion...  0.02978  "
      ]
     },
     "execution_count": 69,
     "metadata": {},
     "output_type": "execute_result"
    }
   ],
   "source": [
    "df1.head()"
   ]
  }
 ],
 "metadata": {
  "kernelspec": {
   "display_name": "Python 3 (ipykernel)",
   "language": "python",
   "name": "python3"
  },
  "language_info": {
   "codemirror_mode": {
    "name": "ipython",
    "version": 3
   },
   "file_extension": ".py",
   "mimetype": "text/x-python",
   "name": "python",
   "nbconvert_exporter": "python",
   "pygments_lexer": "ipython3",
   "version": "3.11.4"
  }
 },
 "nbformat": 4,
 "nbformat_minor": 5
}
