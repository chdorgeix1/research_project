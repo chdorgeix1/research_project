{
 "cells": [
  {
   "cell_type": "code",
   "execution_count": 1,
   "id": "179c2b96",
   "metadata": {},
   "outputs": [],
   "source": [
    "import pandas as pd\n",
    "import numpy as np\n",
    "import sqlite3"
   ]
  },
  {
   "cell_type": "markdown",
   "id": "00710b8f",
   "metadata": {},
   "source": [
    "# Create DB File and Connect"
   ]
  },
  {
   "cell_type": "code",
   "execution_count": 2,
   "id": "a01e1e9d",
   "metadata": {},
   "outputs": [
    {
     "data": {
      "text/plain": [
       "<sqlite3.Cursor at 0x1f6b5765cc0>"
      ]
     },
     "execution_count": 2,
     "metadata": {},
     "output_type": "execute_result"
    }
   ],
   "source": [
    "# Connect to the database. If it does not exist, it will be created\n",
    "conn = sqlite3.connect('new_db.db')\n",
    "# Create a cursor object. This is how we interact with the database\n",
    "curs = conn.cursor()\n",
    "\n",
    "\n",
    "### IMPORTANT!!! ###\n",
    "# By default, sqlite does not enforce foreign key constraints. \n",
    "# According to the documentation, this is for backwards compatibility. You have to turn them on yourself.\n",
    "curs.execute('PRAGMA foreign_keys=ON;')\n"
   ]
  },
  {
   "cell_type": "code",
   "execution_count": 3,
   "id": "d6dde6bf",
   "metadata": {},
   "outputs": [
    {
     "data": {
      "text/plain": [
       "<sqlite3.Cursor at 0x1f6b5765cc0>"
      ]
     },
     "execution_count": 3,
     "metadata": {},
     "output_type": "execute_result"
    }
   ],
   "source": [
    "# Define the tables\n",
    "\n",
    "# If running this more than once, you'll need to drop the table before you can redefine it\n",
    "\n",
    "curs.execute(\"DROP TABLE IF EXISTS tSample;\")\n",
    "\n",
    "sql = \"\"\"\n",
    "CREATE TABLE tSample (\n",
    "    sample_id TEXT PRIMARY KEY,\n",
    "    site_id TEXT,\n",
    "    collect_date DATETIME\n",
    ")\n",
    ";\"\"\"\n",
    "curs.execute(sql)"
   ]
  },
  {
   "cell_type": "code",
   "execution_count": 7,
   "id": "e66fa88c",
   "metadata": {},
   "outputs": [],
   "source": [
    "tsampledf = pd.read_csv(r'C:\\Users\\15404\\Documents\\GitHub\\research_project\\sql_db\\csv_folder/sample.csv')"
   ]
  },
  {
   "cell_type": "code",
   "execution_count": 9,
   "id": "77fae62a",
   "metadata": {},
   "outputs": [],
   "source": [
    "# INSERT INTO (column names) VALUES (values to insert)\n",
    "# The : indicates parameter names.\n",
    "# They do not need to be the same as the columns we are inserting into, but it helps keep the code clean.\n",
    "# They are matched up in order. For example, if instead of :lat I called it :x, then :x would be inserted into\n",
    "# the lat column, since lat is the second column in the list of column names.\n",
    "sql = \"\"\"\n",
    "INSERT INTO tSample (sample_id, site_id, collect_date) VALUES (:sample_id, :site_id, :date)\n",
    ";\"\"\"\n",
    "\n",
    "# I'm going to loop over the dataframe such that each row will be returned as a dictionary.\n",
    "# The keys for the dictionary will be the column names, and the values will be the values in the dataframe.\n",
    "# I've ensured that the names in my dataframe match exactly the parameter names above - the way this works\n",
    "# is that SQL will look for that key in the dictionary.  For example, since I have a parameter :loc_id, \n",
    "# it will look for a key in the dictionary called loc_id.\n",
    "\n",
    "\n",
    "\n",
    "\n",
    "\n",
    "for row in tsampledf.to_dict(orient='records'):\n",
    "    # Uncomment this to see the dictionaries\n",
    "    #print(row)\n",
    "    \n",
    "    # The second input for curs.execute() are parameters\n",
    "    curs.execute(sql, row)"
   ]
  },
  {
   "cell_type": "code",
   "execution_count": null,
   "id": "32f71aa7",
   "metadata": {},
   "outputs": [],
   "source": []
  }
 ],
 "metadata": {
  "kernelspec": {
   "display_name": "Python 3 (ipykernel)",
   "language": "python",
   "name": "python3"
  },
  "language_info": {
   "codemirror_mode": {
    "name": "ipython",
    "version": 3
   },
   "file_extension": ".py",
   "mimetype": "text/x-python",
   "name": "python",
   "nbconvert_exporter": "python",
   "pygments_lexer": "ipython3",
   "version": "3.11.4"
  }
 },
 "nbformat": 4,
 "nbformat_minor": 5
}
