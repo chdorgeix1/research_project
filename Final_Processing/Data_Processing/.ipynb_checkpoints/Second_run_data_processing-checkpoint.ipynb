{
 "cells": [
  {
   "cell_type": "code",
   "execution_count": 1,
   "id": "1c45eb4e",
   "metadata": {},
   "outputs": [],
   "source": [
    "from os import listdir\n",
    "from os.path import isfile, join\n",
    "import numpy as np\n",
    "import re\n",
    "import pandas as pd\n",
    "import numpy as np"
   ]
  },
  {
   "cell_type": "markdown",
   "id": "9457b644",
   "metadata": {},
   "source": [
    "### Processing New, Mitochondria/Chloroplast Removed Data"
   ]
  },
  {
   "cell_type": "markdown",
   "id": "3f31be3a",
   "metadata": {},
   "source": [
    "#### The purpose of this code is to create CSVs of the original data from superkingdom to species level taxonomy"
   ]
  },
  {
   "cell_type": "code",
   "execution_count": 2,
   "id": "38acadba",
   "metadata": {},
   "outputs": [],
   "source": [
    "#File Path\n",
    "leaf_path_1 = r\"C:\\Users\\15404\\Documents\\GitHub\\research_project\\Final_Processing\\Data\\original_data\\5488_soil\\\\\""
   ]
  },
  {
   "cell_type": "code",
   "execution_count": 3,
   "id": "f2967c1e",
   "metadata": {},
   "outputs": [],
   "source": [
    "file_list = [f for f in listdir(leaf_path_1) if isfile(join(leaf_path_1, f))]\n",
    "# print(len(file_list))"
   ]
  },
  {
   "cell_type": "code",
   "execution_count": 4,
   "id": "d5456d89",
   "metadata": {},
   "outputs": [],
   "source": [
    "taxon_list = ['superkingdom', 'phylum', 'class', 'order', 'family', 'genus', 'species', 'strain']"
   ]
  },
  {
   "cell_type": "code",
   "execution_count": 5,
   "id": "fa9009ca",
   "metadata": {},
   "outputs": [
    {
     "name": "stdout",
     "output_type": "stream",
     "text": [
      "rerun_soil_microbiome_superkingdom.csv\n",
      "superkingdom\n",
      "(364, 6)\n",
      "rerun_soil_microbiome_phylum.csv\n",
      "phylum\n",
      "(5141, 6)\n",
      "rerun_soil_microbiome_class.csv\n",
      "class\n",
      "(7323, 6)\n",
      "rerun_soil_microbiome_order.csv\n",
      "order\n",
      "(14409, 6)\n",
      "rerun_soil_microbiome_family.csv\n",
      "family\n",
      "(29633, 6)\n",
      "rerun_soil_microbiome_genus.csv\n",
      "genus\n",
      "(96166, 6)\n",
      "rerun_soil_microbiome_species.csv\n",
      "species\n",
      "(409153, 6)\n",
      "rerun_soil_microbiome_strain.csv\n",
      "strain\n",
      "(409153, 6)\n"
     ]
    }
   ],
   "source": [
    "for taxon_level in taxon_list:\n",
    "    df1 = pd.DataFrame(columns = ['sample', 'taxon_id', 'level', 'taxon_path', 'taxon', 'val'])\n",
    "    for tsv in file_list:\n",
    "        with open(leaf_path_1 + tsv, 'r') as myfile:\n",
    "            line_list = []\n",
    "            for line in myfile:\n",
    "                if line[0] != '@' and len(line) > 1:\n",
    "                    fileContent = re.sub(\"\\t\", \",\", line)\n",
    "                    fileContent = re.sub(\"\\n\", \"\", fileContent)\n",
    "                    new_line = fileContent.split(',')    \n",
    "                    if new_line[1] == taxon_level and taxon_level != 'strain' and \"||\" not in line:\n",
    "                        line_list.append(new_line)\n",
    "                    elif new_line[1] == taxon_level and taxon_level == 'strain' and \"||\" not in line:\n",
    "                        line_list.append(new_line[0:5])\n",
    "        df2 = pd.DataFrame(line_list)\n",
    "        df2.rename(columns = {0:'taxon_id', 1:'level', 2:'taxon_path', 3:'taxon', 4:'val'}, inplace = True) \n",
    "        df2.insert(0, \"sample\", [tsv]*len(line_list), True)\n",
    "        \n",
    "        df1 = pd.concat([df1, df2], ignore_index=True)\n",
    "    csv_name = 'rerun_soil_microbiome_' + taxon_level +'.csv'\n",
    "    df1.to_csv(csv_name)\n",
    "    print(csv_name)\n",
    "    print(taxon_level)\n",
    "    print(df1.shape)"
   ]
  },
  {
   "cell_type": "code",
   "execution_count": 6,
   "id": "32ccf9fe",
   "metadata": {},
   "outputs": [
    {
     "data": {
      "text/html": [
       "<div>\n",
       "<style scoped>\n",
       "    .dataframe tbody tr th:only-of-type {\n",
       "        vertical-align: middle;\n",
       "    }\n",
       "\n",
       "    .dataframe tbody tr th {\n",
       "        vertical-align: top;\n",
       "    }\n",
       "\n",
       "    .dataframe thead th {\n",
       "        text-align: right;\n",
       "    }\n",
       "</style>\n",
       "<table border=\"1\" class=\"dataframe\">\n",
       "  <thead>\n",
       "    <tr style=\"text-align: right;\">\n",
       "      <th></th>\n",
       "      <th>sample</th>\n",
       "      <th>taxon_id</th>\n",
       "      <th>level</th>\n",
       "      <th>taxon_path</th>\n",
       "      <th>taxon</th>\n",
       "      <th>val</th>\n",
       "    </tr>\n",
       "  </thead>\n",
       "  <tbody>\n",
       "    <tr>\n",
       "      <th>0</th>\n",
       "      <td>JP_CMB_10_S135_L002_R1_001</td>\n",
       "      <td>1274631.0</td>\n",
       "      <td>strain</td>\n",
       "      <td>2|1224|28211|356|41294|374|1274631|1274631.0</td>\n",
       "      <td>Bacteria|Proteobacteria|Alphaproteobacteria|Rh...</td>\n",
       "      <td>0.10423</td>\n",
       "    </tr>\n",
       "    <tr>\n",
       "      <th>1</th>\n",
       "      <td>JP_CMB_10_S135_L002_R1_001</td>\n",
       "      <td>1882747.0</td>\n",
       "      <td>strain</td>\n",
       "      <td>2|1224|28211|356|41294|1033|1882747|1882747.0</td>\n",
       "      <td>Bacteria|Proteobacteria|Alphaproteobacteria|Rh...</td>\n",
       "      <td>0.08656</td>\n",
       "    </tr>\n",
       "    <tr>\n",
       "      <th>2</th>\n",
       "      <td>JP_CMB_10_S135_L002_R1_001</td>\n",
       "      <td>335659.0</td>\n",
       "      <td>strain</td>\n",
       "      <td>2|1224|28211|356|41294|374|335659|335659.0</td>\n",
       "      <td>Bacteria|Proteobacteria|Alphaproteobacteria|Rh...</td>\n",
       "      <td>0.08652</td>\n",
       "    </tr>\n",
       "    <tr>\n",
       "      <th>3</th>\n",
       "      <td>JP_CMB_10_S135_L002_R1_001</td>\n",
       "      <td>1437360.0.1</td>\n",
       "      <td>strain</td>\n",
       "      <td>2|1224|28211|356|41294|374|1437360|1437360.0.1</td>\n",
       "      <td>Bacteria|Proteobacteria|Alphaproteobacteria|Rh...</td>\n",
       "      <td>0.08649</td>\n",
       "    </tr>\n",
       "    <tr>\n",
       "      <th>4</th>\n",
       "      <td>JP_CMB_10_S135_L002_R1_001</td>\n",
       "      <td>1404768.0</td>\n",
       "      <td>strain</td>\n",
       "      <td>2|1224|28211|356|41294|374|1404768|1404768.0</td>\n",
       "      <td>Bacteria|Proteobacteria|Alphaproteobacteria|Rh...</td>\n",
       "      <td>0.0788</td>\n",
       "    </tr>\n",
       "  </tbody>\n",
       "</table>\n",
       "</div>"
      ],
      "text/plain": [
       "                       sample     taxon_id   level  \\\n",
       "0  JP_CMB_10_S135_L002_R1_001    1274631.0  strain   \n",
       "1  JP_CMB_10_S135_L002_R1_001    1882747.0  strain   \n",
       "2  JP_CMB_10_S135_L002_R1_001     335659.0  strain   \n",
       "3  JP_CMB_10_S135_L002_R1_001  1437360.0.1  strain   \n",
       "4  JP_CMB_10_S135_L002_R1_001    1404768.0  strain   \n",
       "\n",
       "                                       taxon_path  \\\n",
       "0    2|1224|28211|356|41294|374|1274631|1274631.0   \n",
       "1   2|1224|28211|356|41294|1033|1882747|1882747.0   \n",
       "2      2|1224|28211|356|41294|374|335659|335659.0   \n",
       "3  2|1224|28211|356|41294|374|1437360|1437360.0.1   \n",
       "4    2|1224|28211|356|41294|374|1404768|1404768.0   \n",
       "\n",
       "                                               taxon      val  \n",
       "0  Bacteria|Proteobacteria|Alphaproteobacteria|Rh...  0.10423  \n",
       "1  Bacteria|Proteobacteria|Alphaproteobacteria|Rh...  0.08656  \n",
       "2  Bacteria|Proteobacteria|Alphaproteobacteria|Rh...  0.08652  \n",
       "3  Bacteria|Proteobacteria|Alphaproteobacteria|Rh...  0.08649  \n",
       "4  Bacteria|Proteobacteria|Alphaproteobacteria|Rh...   0.0788  "
      ]
     },
     "execution_count": 6,
     "metadata": {},
     "output_type": "execute_result"
    }
   ],
   "source": [
    "df1.head()"
   ]
  },
  {
   "cell_type": "code",
   "execution_count": null,
   "id": "89f654d3",
   "metadata": {},
   "outputs": [],
   "source": []
  }
 ],
 "metadata": {
  "kernelspec": {
   "display_name": "Python 3 (ipykernel)",
   "language": "python",
   "name": "python3"
  },
  "language_info": {
   "codemirror_mode": {
    "name": "ipython",
    "version": 3
   },
   "file_extension": ".py",
   "mimetype": "text/x-python",
   "name": "python",
   "nbconvert_exporter": "python",
   "pygments_lexer": "ipython3",
   "version": "3.11.4"
  }
 },
 "nbformat": 4,
 "nbformat_minor": 5
}
