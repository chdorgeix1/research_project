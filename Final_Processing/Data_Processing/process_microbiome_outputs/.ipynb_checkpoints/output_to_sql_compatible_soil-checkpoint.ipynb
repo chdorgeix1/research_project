{
 "cells": [
  {
   "cell_type": "code",
   "execution_count": 1,
   "id": "e421d6bd",
   "metadata": {},
   "outputs": [],
   "source": [
    "import os\n",
    "from os import listdir\n",
    "from os.path import isfile, join\n",
    "import numpy as np\n",
    "import re\n",
    "import pandas as pd\n",
    "import numpy as np"
   ]
  },
  {
   "cell_type": "code",
   "execution_count": 2,
   "id": "7e261d3b",
   "metadata": {},
   "outputs": [],
   "source": [
    "soil_rel = r\"C:\\Users\\15404\\Documents\\GitHub\\research_project\\Final_Processing\\Data\\soil_microbiome_kingom_to_strain\"\n",
    "\n",
    "soil_count = r\"C:\\Users\\15404\\Documents\\GitHub\\research_project\\Final_Processing\\Data\\soil_microbiome_count_k_to_spec\""
   ]
  },
  {
   "cell_type": "code",
   "execution_count": 3,
   "id": "987f0d3d",
   "metadata": {
    "scrolled": true
   },
   "outputs": [
    {
     "name": "stdout",
     "output_type": "stream",
     "text": [
      "7\n",
      "7\n"
     ]
    }
   ],
   "source": [
    "rel_list = os.listdir(soil_rel)\n",
    "\n",
    "count_list = os.listdir(soil_count)\n",
    "\n",
    "print(len(rel_list))\n",
    "print(len(count_list))"
   ]
  },
  {
   "cell_type": "code",
   "execution_count": 4,
   "id": "e2df38dd",
   "metadata": {},
   "outputs": [
    {
     "data": {
      "text/plain": [
       "7"
      ]
     },
     "execution_count": 4,
     "metadata": {},
     "output_type": "execute_result"
    }
   ],
   "source": [
    "name_list = ['class', 'family', 'genus', 'order', 'phylum', 'species', 'superkingdom']\n",
    "len(name_list)"
   ]
  },
  {
   "cell_type": "code",
   "execution_count": 5,
   "id": "2870bab1",
   "metadata": {},
   "outputs": [
    {
     "name": "stdout",
     "output_type": "stream",
     "text": [
      "('rerun_soil_microbiome_class.csv', 'count_soil_microbiome_class.csv', 'class')\n",
      "(9882, 4)\n",
      "processed_soil_data_w_counts/soil_microbiome_class.csv\n",
      "('rerun_soil_microbiome_family.csv', 'count_soil_microbiome_family.csv', 'family')\n",
      "(40010, 4)\n",
      "processed_soil_data_w_counts/soil_microbiome_family.csv\n",
      "('rerun_soil_microbiome_genus.csv', 'count_soil_microbiome_genus.csv', 'genus')\n",
      "(129870, 4)\n",
      "processed_soil_data_w_counts/soil_microbiome_genus.csv\n",
      "('rerun_soil_microbiome_order.csv', 'count_soil_microbiome_order.csv', 'order')\n",
      "(19445, 4)\n",
      "processed_soil_data_w_counts/soil_microbiome_order.csv\n",
      "('rerun_soil_microbiome_phylum.csv', 'count_soil_microbiome_phylum.csv', 'phylum')\n",
      "(6964, 4)\n",
      "processed_soil_data_w_counts/soil_microbiome_phylum.csv\n",
      "('rerun_soil_microbiome_species.csv', 'count_soil_microbiome_species.csv', 'species')\n",
      "(546872, 4)\n",
      "processed_soil_data_w_counts/soil_microbiome_species.csv\n",
      "('rerun_soil_microbiome_superkingdom.csv', 'count_soil_microbiome_superkingdom.csv', 'superkingdom')\n",
      "(493, 4)\n",
      "processed_soil_data_w_counts/soil_microbiome_superkingdom.csv\n"
     ]
    }
   ],
   "source": [
    "for files in zip(rel_list, count_list, name_list):\n",
    "    print(files)\n",
    "    rel_df = pd.read_csv(soil_rel + '\\\\' + str(files[0]))\n",
    "    count_df = pd.read_csv(soil_count + '\\\\' + str(files[1]))  \n",
    "    rel_df['count'] = count_df['val']\n",
    "    combined_df = rel_df.copy()    \n",
    "    \n",
    "    sample_list = []\n",
    "    for samples in combined_df['sample']:\n",
    "        sample_list.append(samples.split('_')[1] + samples.split('_')[2])\n",
    "\n",
    "    combined_df['sample_id'] = sample_list\n",
    "            \n",
    "    combined_df = combined_df.drop(['Unnamed: 0', 'taxon_id', 'taxon_path', 'level', 'sample'], axis =1)\n",
    "\n",
    "    csv_name = \"processed_soil_data_w_counts/soil_microbiome_\" + files[2] + '.csv'\n",
    "    print(combined_df.shape)\n",
    "    print(csv_name)\n",
    "    combined_df.to_csv(csv_name)"
   ]
  },
  {
   "cell_type": "code",
   "execution_count": null,
   "id": "bad1030b",
   "metadata": {},
   "outputs": [],
   "source": []
  }
 ],
 "metadata": {
  "kernelspec": {
   "display_name": "Python 3 (ipykernel)",
   "language": "python",
   "name": "python3"
  },
  "language_info": {
   "codemirror_mode": {
    "name": "ipython",
    "version": 3
   },
   "file_extension": ".py",
   "mimetype": "text/x-python",
   "name": "python",
   "nbconvert_exporter": "python",
   "pygments_lexer": "ipython3",
   "version": "3.11.4"
  }
 },
 "nbformat": 4,
 "nbformat_minor": 5
}
