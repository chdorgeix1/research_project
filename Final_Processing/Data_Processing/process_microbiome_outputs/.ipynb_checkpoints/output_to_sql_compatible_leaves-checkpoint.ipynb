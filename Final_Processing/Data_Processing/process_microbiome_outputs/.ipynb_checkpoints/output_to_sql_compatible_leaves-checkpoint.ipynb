{
 "cells": [
  {
   "cell_type": "code",
   "execution_count": 12,
   "id": "e421d6bd",
   "metadata": {},
   "outputs": [],
   "source": [
    "import os\n",
    "from os import listdir\n",
    "from os.path import isfile, join\n",
    "import numpy as np\n",
    "import re\n",
    "import pandas as pd\n",
    "import numpy as np"
   ]
  },
  {
   "cell_type": "code",
   "execution_count": 13,
   "id": "b74b69f5",
   "metadata": {},
   "outputs": [],
   "source": [
    "leaf1_rel = r\"C:\\Users\\15404\\Documents\\GitHub\\research_project\\Final_Processing\\Data\\leaf_microbiome_kingdom_to_strain\\rerun_1_kingdom_to_strain\"\n",
    "leaf2_rel = r\"C:\\Users\\15404\\Documents\\GitHub\\research_project\\Final_Processing\\Data\\leaf_microbiome_kingdom_to_strain\\rerun_2_kingdom_to_strain\"\n",
    "\n",
    "leaf1_count = r\"C:\\Users\\15404\\Documents\\GitHub\\research_project\\Final_Processing\\Data\\leaf_microbiome_count_k_to_spec\\leaf_1_count_kingdom_to_strain\"\n",
    "leaf2_count = r\"C:\\Users\\15404\\Documents\\GitHub\\research_project\\Final_Processing\\Data\\leaf_microbiome_count_k_to_spec\\leaf_2_count_kingdom_to_strain\""
   ]
  },
  {
   "cell_type": "code",
   "execution_count": 22,
   "id": "987f0d3d",
   "metadata": {
    "scrolled": true
   },
   "outputs": [
    {
     "name": "stdout",
     "output_type": "stream",
     "text": [
      "7\n",
      "7\n",
      "7\n",
      "7\n"
     ]
    }
   ],
   "source": [
    "rel_list_1 = os.listdir(leaf1_rel)\n",
    "rel_list_2 = os.listdir(leaf2_rel)\n",
    "\n",
    "count_list_1 = os.listdir(leaf1_count)\n",
    "count_list_2 = os.listdir(leaf2_count)"
   ]
  },
  {
   "cell_type": "code",
   "execution_count": 46,
   "id": "e2df38dd",
   "metadata": {},
   "outputs": [
    {
     "data": {
      "text/plain": [
       "7"
      ]
     },
     "execution_count": 46,
     "metadata": {},
     "output_type": "execute_result"
    }
   ],
   "source": [
    "name_list = ['class', 'family', 'genus', 'order', 'phylum', 'species', 'superkingdom']"
   ]
  },
  {
   "cell_type": "code",
   "execution_count": 47,
   "id": "551ebe67",
   "metadata": {},
   "outputs": [
    {
     "name": "stdout",
     "output_type": "stream",
     "text": [
      "(192, 3)\n"
     ]
    }
   ],
   "source": [
    "site_df = pd.read_csv('edited_leaf_site_list.csv')"
   ]
  },
  {
   "cell_type": "code",
   "execution_count": 76,
   "id": "810fdb3b",
   "metadata": {},
   "outputs": [
    {
     "name": "stdout",
     "output_type": "stream",
     "text": [
      "(6438, 4)\n",
      "processed_leaf_data_w_counts/leaf_microbiome_class.csv\n",
      "(23710, 4)\n",
      "processed_leaf_data_w_counts/leaf_microbiome_family.csv\n",
      "(48534, 4)\n",
      "processed_leaf_data_w_counts/leaf_microbiome_genus.csv\n",
      "(13573, 4)\n",
      "processed_leaf_data_w_counts/leaf_microbiome_order.csv\n",
      "(3023, 4)\n",
      "processed_leaf_data_w_counts/leaf_microbiome_phylum.csv\n",
      "(178091, 4)\n",
      "processed_leaf_data_w_counts/leaf_microbiome_species.csv\n",
      "(756, 4)\n",
      "processed_leaf_data_w_counts/leaf_microbiome_superkingdom.csv\n"
     ]
    }
   ],
   "source": [
    "for files in zip(rel_list_1, rel_list_2, count_list_1, count_list_2, name_list):\n",
    "    testdf1 = pd.read_csv(leaf1_rel + '\\\\' + str(files[0]))\n",
    "    testdf2 = pd.read_csv(leaf2_rel + '\\\\' + str(files[1]))\n",
    "    testdf3 = pd.read_csv(leaf1_count + '\\\\' + str(files[2]))\n",
    "    testdf4 = pd.read_csv(leaf2_count + '\\\\' + str(files[3]))\n",
    "        \n",
    "    rel_df = pd.concat([testdf1, testdf2], ignore_index=True)\n",
    "    count_df = pd.concat([testdf3, testdf4], ignore_index=True)\n",
    "    rel_df['count'] = count_df['val']\n",
    "\n",
    "    combined_df = rel_df.copy()\n",
    "    \n",
    "    sample_list = []\n",
    "    for samples in combined_df['sample'].unique():\n",
    "        sample_list.append(samples[0:4])\n",
    "        \n",
    "    sample_ids = []\n",
    "    for ids in sample_list:\n",
    "        sample_ids.append((site_df[site_df['samples'] == ids]['sample_id']).values[0])\n",
    "\n",
    "    combined_df['sample_id'] = combined_df['sample']\n",
    "    \n",
    "    for info in zip(combined_df['sample'].unique(), sample_ids):\n",
    "        combined_df['sample_id'] = combined_df['sample_id'].replace([info[0]], info[1])\n",
    "        \n",
    "    combined_df = combined_df.drop(['Unnamed: 0', 'taxon_id', 'taxon_path', 'level', 'sample'], axis =1)\n",
    "    \n",
    "    csv_name = \"processed_leaf_data_w_counts/leaf_microbiome_\" + files[4] + '.csv'\n",
    "    print(combined_df.shape)\n",
    "    print(csv_name)\n",
    "    combined_df.to_csv(csv_name)"
   ]
  }
 ],
 "metadata": {
  "kernelspec": {
   "display_name": "Python 3 (ipykernel)",
   "language": "python",
   "name": "python3"
  },
  "language_info": {
   "codemirror_mode": {
    "name": "ipython",
    "version": 3
   },
   "file_extension": ".py",
   "mimetype": "text/x-python",
   "name": "python",
   "nbconvert_exporter": "python",
   "pygments_lexer": "ipython3",
   "version": "3.11.4"
  }
 },
 "nbformat": 4,
 "nbformat_minor": 5
}
