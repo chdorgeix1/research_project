{
 "cells": [
  {
   "cell_type": "code",
   "execution_count": 1,
   "id": "e421d6bd",
   "metadata": {},
   "outputs": [],
   "source": [
    "import os\n",
    "from os import listdir\n",
    "from os.path import isfile, join\n",
    "import numpy as np\n",
    "import re\n",
    "import pandas as pd\n",
    "import numpy as np"
   ]
  },
  {
   "cell_type": "code",
   "execution_count": 2,
   "id": "b74b69f5",
   "metadata": {},
   "outputs": [],
   "source": [
    "soil_path = r\"C:\\Users\\15404\\Documents\\GitHub\\research_project\\Final_Processing\\Data\\soil_microbiome_kingom_to_strain\""
   ]
  },
  {
   "cell_type": "code",
   "execution_count": 3,
   "id": "987f0d3d",
   "metadata": {
    "scrolled": true
   },
   "outputs": [
    {
     "name": "stdout",
     "output_type": "stream",
     "text": [
      "8\n"
     ]
    }
   ],
   "source": [
    "file_list = os.listdir(soil_path)\n",
    "\n",
    "print(len(file_list))"
   ]
  },
  {
   "cell_type": "code",
   "execution_count": 69,
   "id": "e2df38dd",
   "metadata": {},
   "outputs": [
    {
     "data": {
      "text/plain": [
       "8"
      ]
     },
     "execution_count": 69,
     "metadata": {},
     "output_type": "execute_result"
    }
   ],
   "source": [
    "#name_list = ['superkingdom']\n",
    "name_list = ['class', 'family', 'genus', 'order', 'phylum', 'species', 'strain', 'superkingdom']\n",
    "len(name_list)"
   ]
  },
  {
   "cell_type": "code",
   "execution_count": 72,
   "id": "810fdb3b",
   "metadata": {},
   "outputs": [
    {
     "name": "stdout",
     "output_type": "stream",
     "text": [
      "processed_soil_data/soil_microbiome_class.csv\n",
      "(7323, 3)\n",
      "processed_soil_data/soil_microbiome_family.csv\n",
      "(29633, 3)\n",
      "processed_soil_data/soil_microbiome_genus.csv\n",
      "(96166, 3)\n",
      "processed_soil_data/soil_microbiome_order.csv\n",
      "(14409, 3)\n",
      "processed_soil_data/soil_microbiome_phylum.csv\n",
      "(5141, 3)\n",
      "processed_soil_data/soil_microbiome_species.csv\n",
      "(409153, 3)\n",
      "processed_soil_data/soil_microbiome_strain.csv\n",
      "(409153, 3)\n",
      "processed_soil_data/soil_microbiome_superkingdom.csv\n",
      "(364, 3)\n"
     ]
    }
   ],
   "source": [
    "for i in zip(file_list, name_list):\n",
    "    os.chdir(r\"C:\\Users\\15404\\Documents\\GitHub\\research_project\\Final_Processing\\Data\")\n",
    "    testdf1 = pd.read_csv(\"soil_microbiome_kingom_to_strain/\" + (str(i[0])))\n",
    "    sample_list = []\n",
    "    for samples in testdf1['sample']:\n",
    "        sample_list.append(samples.split('_')[1] + samples.split('_')[2])\n",
    "\n",
    "    testdf1['sample_id'] = sample_list\n",
    "\n",
    "    \n",
    "    testdf1 = testdf1.drop(['Unnamed: 0', 'taxon_id', 'taxon_path', 'level', 'sample'], axis =1)\n",
    "\n",
    "    os.chdir(r\"C:\\Users\\15404\\Documents\\GitHub\\research_project\\Final_Processing\\Data_Processing\\process_microbiome_outputs\")\n",
    "    csv_name = \"processed_soil_data/soil_microbiome_\" + i[1] + '.csv'\n",
    "    print(csv_name)\n",
    "    print(testdf1.shape)\n",
    "    testdf1.to_csv(csv_name)"
   ]
  },
  {
   "cell_type": "code",
   "execution_count": null,
   "id": "2870bab1",
   "metadata": {},
   "outputs": [],
   "source": []
  }
 ],
 "metadata": {
  "kernelspec": {
   "display_name": "Python 3 (ipykernel)",
   "language": "python",
   "name": "python3"
  },
  "language_info": {
   "codemirror_mode": {
    "name": "ipython",
    "version": 3
   },
   "file_extension": ".py",
   "mimetype": "text/x-python",
   "name": "python",
   "nbconvert_exporter": "python",
   "pygments_lexer": "ipython3",
   "version": "3.11.4"
  }
 },
 "nbformat": 4,
 "nbformat_minor": 5
}
