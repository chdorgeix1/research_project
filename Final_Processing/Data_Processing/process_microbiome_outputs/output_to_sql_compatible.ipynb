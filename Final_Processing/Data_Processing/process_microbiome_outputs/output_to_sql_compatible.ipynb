{
 "cells": [
  {
   "cell_type": "code",
   "execution_count": 1,
   "id": "91fec9f9",
   "metadata": {},
   "outputs": [],
   "source": [
    "# to do:\n",
    "# combine rerun_1 and rerun_2\n",
    "# add sample_id to files\n",
    "# get files in correct format for sqldb"
   ]
  },
  {
   "cell_type": "code",
   "execution_count": 1,
   "id": "e421d6bd",
   "metadata": {},
   "outputs": [],
   "source": [
    "import os\n",
    "from os import listdir\n",
    "from os.path import isfile, join\n",
    "import numpy as np\n",
    "import re\n",
    "import pandas as pd\n",
    "import numpy as np"
   ]
  },
  {
   "cell_type": "code",
   "execution_count": 2,
   "id": "b74b69f5",
   "metadata": {},
   "outputs": [],
   "source": [
    "leaf_path_1 = r\"C:\\Users\\15404\\Documents\\GitHub\\research_project\\Final_Processing\\rerun_1_kingdom_to_strain\"\n",
    "leaf_path_2 = r\"C:\\Users\\15404\\Documents\\GitHub\\research_project\\Final_Processing\\rerun_2_kingdom_to_strain\""
   ]
  },
  {
   "cell_type": "code",
   "execution_count": 3,
   "id": "987f0d3d",
   "metadata": {
    "scrolled": true
   },
   "outputs": [
    {
     "name": "stdout",
     "output_type": "stream",
     "text": [
      "8\n",
      "8\n",
      "Files and directories in ' C:\\Users\\15404\\Documents\\GitHub\\research_project\\Final_Processing\\rerun_1_kingdom_to_strain ':\n",
      "['rerun_2_leaf_microbiome_class.csv', 'rerun_2_leaf_microbiome_family.csv', 'rerun_2_leaf_microbiome_genus.csv', 'rerun_2_leaf_microbiome_order.csv', 'rerun_2_leaf_microbiome_phylum.csv', 'rerun_2_leaf_microbiome_species.csv', 'rerun_2_leaf_microbiome_strain.csv', 'rerun_2_leaf_microbiome_superkingdom.csv']\n"
     ]
    }
   ],
   "source": [
    "file_list_1 = os.listdir(leaf_path_1)\n",
    "file_list_2 = os.listdir(leaf_path_2)\n",
    "\n",
    "print(len(file_list_1))\n",
    "print(len(file_list_2))\n",
    "\n",
    "\n",
    "print(\"Files and directories in '\", leaf_path_1, \"':\")\n",
    "print((file_list_2))\n"
   ]
  },
  {
   "cell_type": "code",
   "execution_count": 4,
   "id": "e2df38dd",
   "metadata": {},
   "outputs": [
    {
     "data": {
      "text/plain": [
       "8"
      ]
     },
     "execution_count": 4,
     "metadata": {},
     "output_type": "execute_result"
    }
   ],
   "source": [
    "name_list = ['class', 'family', 'genus', 'order', 'phylum', 'species', 'strain', 'superkingdom']\n",
    "len(name_list)"
   ]
  },
  {
   "cell_type": "code",
   "execution_count": 5,
   "id": "551ebe67",
   "metadata": {},
   "outputs": [
    {
     "name": "stdout",
     "output_type": "stream",
     "text": [
      "(192, 3)\n"
     ]
    }
   ],
   "source": [
    "site_df = pd.read_csv('edited_leaf_site_list.csv')\n",
    "print(site_df.shape)"
   ]
  },
  {
   "cell_type": "code",
   "execution_count": 6,
   "id": "810fdb3b",
   "metadata": {},
   "outputs": [
    {
     "name": "stdout",
     "output_type": "stream",
     "text": [
      "(6438, 3)\n",
      "(23710, 3)\n",
      "(48534, 3)\n",
      "(13573, 3)\n",
      "(3023, 3)\n",
      "(178091, 3)\n",
      "(178091, 3)\n",
      "(756, 3)\n"
     ]
    }
   ],
   "source": [
    "for i in zip(file_list_1, file_list_2, name_list):\n",
    "    testdf1 = pd.read_csv('../rerun_1_kingdom_to_strain/' + str(i[0]))\n",
    "    testdf2 = pd.read_csv('../rerun_2_kingdom_to_strain/' + str(i[1]))\n",
    "    testdf3 = pd.concat([testdf1, testdf2], ignore_index=True)\n",
    "    sample_list = []\n",
    "    for samples in testdf3['sample'].unique():\n",
    "        sample_list.append(samples[0:4])\n",
    "\n",
    "    sample_ids = []\n",
    "    for ids in sample_list:\n",
    "        sample_ids.append((site_df[site_df['samples'] == ids]['sample_id']).values[0])\n",
    "\n",
    "    testdf3['sample_id'] = testdf3['sample']\n",
    "    \n",
    "    for info in zip(testdf3['sample'].unique(), sample_ids):\n",
    "        testdf3['sample_id'] = testdf3['sample_id'].replace([info[0]], info[1])\n",
    "        \n",
    "    testdf3 = testdf3.drop(['Unnamed: 0', 'taxon_id', 'taxon_path', 'level', 'sample'], axis =1)\n",
    "    \n",
    "    csv_name = \"processed_leaf_data/leaf_microbiome_\" + i[2] + '.csv'\n",
    "#     print(csv_name)\n",
    "    print(testdf3.shape)\n",
    "#     print(testdf3['sample_id'].unique())\n",
    "    testdf3.to_csv(csv_name)"
   ]
  },
  {
   "cell_type": "code",
   "execution_count": 4,
   "id": "5afc9071",
   "metadata": {},
   "outputs": [],
   "source": [
    "df1 = pd.read_csv(r\"C:\\Users\\15404\\Documents\\GitHub\\research_project\\Final_Processing\\rerun_1_kingom_to_strain\\rerun_1_leaf_microbiome_genus.csv\")\n",
    "df2 = pd.read_csv(r\"C:\\Users\\15404\\Documents\\GitHub\\research_project\\Final_Processing\\rerun_2_kingdom_to_strain\\rerun_2_leaf_microbiome_genus.csv\")"
   ]
  },
  {
   "cell_type": "code",
   "execution_count": 5,
   "id": "183a1cfe",
   "metadata": {},
   "outputs": [
    {
     "data": {
      "text/html": [
       "<div>\n",
       "<style scoped>\n",
       "    .dataframe tbody tr th:only-of-type {\n",
       "        vertical-align: middle;\n",
       "    }\n",
       "\n",
       "    .dataframe tbody tr th {\n",
       "        vertical-align: top;\n",
       "    }\n",
       "\n",
       "    .dataframe thead th {\n",
       "        text-align: right;\n",
       "    }\n",
       "</style>\n",
       "<table border=\"1\" class=\"dataframe\">\n",
       "  <thead>\n",
       "    <tr style=\"text-align: right;\">\n",
       "      <th></th>\n",
       "      <th>Unnamed: 0</th>\n",
       "      <th>sample</th>\n",
       "      <th>taxon_id</th>\n",
       "      <th>level</th>\n",
       "      <th>taxon_path</th>\n",
       "      <th>taxon</th>\n",
       "      <th>val</th>\n",
       "    </tr>\n",
       "  </thead>\n",
       "  <tbody>\n",
       "    <tr>\n",
       "      <th>0</th>\n",
       "      <td>0</td>\n",
       "      <td>1A01_S1_L001_R1_001</td>\n",
       "      <td>1716</td>\n",
       "      <td>genus</td>\n",
       "      <td>2|201174|1760|85007|1653|1716</td>\n",
       "      <td>Bacteria|Actinobacteria|Actinobacteria|Coryneb...</td>\n",
       "      <td>0.63776</td>\n",
       "    </tr>\n",
       "    <tr>\n",
       "      <th>1</th>\n",
       "      <td>1</td>\n",
       "      <td>1A01_S1_L001_R1_001</td>\n",
       "      <td>374</td>\n",
       "      <td>genus</td>\n",
       "      <td>2|1224|28211|356|41294|374</td>\n",
       "      <td>Bacteria|Proteobacteria|Alphaproteobacteria|Rh...</td>\n",
       "      <td>0.11405</td>\n",
       "    </tr>\n",
       "    <tr>\n",
       "      <th>2</th>\n",
       "      <td>2</td>\n",
       "      <td>1A01_S1_L001_R1_001</td>\n",
       "      <td>286</td>\n",
       "      <td>genus</td>\n",
       "      <td>2|1224|1236|72274|135621|286</td>\n",
       "      <td>Bacteria|Proteobacteria|Gammaproteobacteria|Ps...</td>\n",
       "      <td>0.11190</td>\n",
       "    </tr>\n",
       "    <tr>\n",
       "      <th>3</th>\n",
       "      <td>3</td>\n",
       "      <td>1A01_S1_L001_R1_001</td>\n",
       "      <td>89966</td>\n",
       "      <td>genus</td>\n",
       "      <td>2|976|768503|768507|1853232|89966</td>\n",
       "      <td>Bacteria|Bacteroidetes|Cytophagia|Cytophagales...</td>\n",
       "      <td>0.09485</td>\n",
       "    </tr>\n",
       "    <tr>\n",
       "      <th>4</th>\n",
       "      <td>4</td>\n",
       "      <td>1A01_S1_L001_R1_001</td>\n",
       "      <td>13687</td>\n",
       "      <td>genus</td>\n",
       "      <td>2|1224|28211|204457|41297|13687</td>\n",
       "      <td>Bacteria|Proteobacteria|Alphaproteobacteria|Sp...</td>\n",
       "      <td>0.08559</td>\n",
       "    </tr>\n",
       "  </tbody>\n",
       "</table>\n",
       "</div>"
      ],
      "text/plain": [
       "   Unnamed: 0               sample  taxon_id  level  \\\n",
       "0           0  1A01_S1_L001_R1_001      1716  genus   \n",
       "1           1  1A01_S1_L001_R1_001       374  genus   \n",
       "2           2  1A01_S1_L001_R1_001       286  genus   \n",
       "3           3  1A01_S1_L001_R1_001     89966  genus   \n",
       "4           4  1A01_S1_L001_R1_001     13687  genus   \n",
       "\n",
       "                          taxon_path  \\\n",
       "0      2|201174|1760|85007|1653|1716   \n",
       "1         2|1224|28211|356|41294|374   \n",
       "2       2|1224|1236|72274|135621|286   \n",
       "3  2|976|768503|768507|1853232|89966   \n",
       "4    2|1224|28211|204457|41297|13687   \n",
       "\n",
       "                                               taxon      val  \n",
       "0  Bacteria|Actinobacteria|Actinobacteria|Coryneb...  0.63776  \n",
       "1  Bacteria|Proteobacteria|Alphaproteobacteria|Rh...  0.11405  \n",
       "2  Bacteria|Proteobacteria|Gammaproteobacteria|Ps...  0.11190  \n",
       "3  Bacteria|Bacteroidetes|Cytophagia|Cytophagales...  0.09485  \n",
       "4  Bacteria|Proteobacteria|Alphaproteobacteria|Sp...  0.08559  "
      ]
     },
     "execution_count": 5,
     "metadata": {},
     "output_type": "execute_result"
    }
   ],
   "source": [
    "df1.head()"
   ]
  },
  {
   "cell_type": "code",
   "execution_count": 6,
   "id": "521b64bd",
   "metadata": {},
   "outputs": [
    {
     "data": {
      "text/html": [
       "<div>\n",
       "<style scoped>\n",
       "    .dataframe tbody tr th:only-of-type {\n",
       "        vertical-align: middle;\n",
       "    }\n",
       "\n",
       "    .dataframe tbody tr th {\n",
       "        vertical-align: top;\n",
       "    }\n",
       "\n",
       "    .dataframe thead th {\n",
       "        text-align: right;\n",
       "    }\n",
       "</style>\n",
       "<table border=\"1\" class=\"dataframe\">\n",
       "  <thead>\n",
       "    <tr style=\"text-align: right;\">\n",
       "      <th></th>\n",
       "      <th>Unnamed: 0</th>\n",
       "      <th>sample</th>\n",
       "      <th>taxon_id</th>\n",
       "      <th>level</th>\n",
       "      <th>taxon_path</th>\n",
       "      <th>taxon</th>\n",
       "      <th>val</th>\n",
       "    </tr>\n",
       "  </thead>\n",
       "  <tbody>\n",
       "    <tr>\n",
       "      <th>0</th>\n",
       "      <td>0</td>\n",
       "      <td>2A01_S97_L002_R1_001</td>\n",
       "      <td>286</td>\n",
       "      <td>genus</td>\n",
       "      <td>2|1224|1236|72274|135621|286</td>\n",
       "      <td>Bacteria|Proteobacteria|Gammaproteobacteria|Ps...</td>\n",
       "      <td>4.18999</td>\n",
       "    </tr>\n",
       "    <tr>\n",
       "      <th>1</th>\n",
       "      <td>1</td>\n",
       "      <td>2A01_S97_L002_R1_001</td>\n",
       "      <td>33882</td>\n",
       "      <td>genus</td>\n",
       "      <td>2|201174|1760|85006|85023|33882</td>\n",
       "      <td>Bacteria|Actinobacteria|Actinobacteria|Microco...</td>\n",
       "      <td>0.17281</td>\n",
       "    </tr>\n",
       "    <tr>\n",
       "      <th>2</th>\n",
       "      <td>2</td>\n",
       "      <td>2A01_S97_L002_R1_001</td>\n",
       "      <td>1612198</td>\n",
       "      <td>genus</td>\n",
       "      <td>2|976|1853228|1853229|563835|1612198</td>\n",
       "      <td>Bacteria|Bacteroidetes|Chitinophagia|Chitinoph...</td>\n",
       "      <td>0.09946</td>\n",
       "    </tr>\n",
       "    <tr>\n",
       "      <th>3</th>\n",
       "      <td>3</td>\n",
       "      <td>2A01_S97_L002_R1_001</td>\n",
       "      <td>89966</td>\n",
       "      <td>genus</td>\n",
       "      <td>2|976|768503|768507|1853232|89966</td>\n",
       "      <td>Bacteria|Bacteroidetes|Cytophagia|Cytophagales...</td>\n",
       "      <td>0.06849</td>\n",
       "    </tr>\n",
       "    <tr>\n",
       "      <th>4</th>\n",
       "      <td>4</td>\n",
       "      <td>2A01_S97_L002_R1_001</td>\n",
       "      <td>374</td>\n",
       "      <td>genus</td>\n",
       "      <td>2|1224|28211|356|41294|374</td>\n",
       "      <td>Bacteria|Proteobacteria|Alphaproteobacteria|Rh...</td>\n",
       "      <td>0.05341</td>\n",
       "    </tr>\n",
       "  </tbody>\n",
       "</table>\n",
       "</div>"
      ],
      "text/plain": [
       "   Unnamed: 0                sample  taxon_id  level  \\\n",
       "0           0  2A01_S97_L002_R1_001       286  genus   \n",
       "1           1  2A01_S97_L002_R1_001     33882  genus   \n",
       "2           2  2A01_S97_L002_R1_001   1612198  genus   \n",
       "3           3  2A01_S97_L002_R1_001     89966  genus   \n",
       "4           4  2A01_S97_L002_R1_001       374  genus   \n",
       "\n",
       "                             taxon_path  \\\n",
       "0          2|1224|1236|72274|135621|286   \n",
       "1       2|201174|1760|85006|85023|33882   \n",
       "2  2|976|1853228|1853229|563835|1612198   \n",
       "3     2|976|768503|768507|1853232|89966   \n",
       "4            2|1224|28211|356|41294|374   \n",
       "\n",
       "                                               taxon      val  \n",
       "0  Bacteria|Proteobacteria|Gammaproteobacteria|Ps...  4.18999  \n",
       "1  Bacteria|Actinobacteria|Actinobacteria|Microco...  0.17281  \n",
       "2  Bacteria|Bacteroidetes|Chitinophagia|Chitinoph...  0.09946  \n",
       "3  Bacteria|Bacteroidetes|Cytophagia|Cytophagales...  0.06849  \n",
       "4  Bacteria|Proteobacteria|Alphaproteobacteria|Rh...  0.05341  "
      ]
     },
     "execution_count": 6,
     "metadata": {},
     "output_type": "execute_result"
    }
   ],
   "source": [
    "df2.head()"
   ]
  },
  {
   "cell_type": "code",
   "execution_count": 7,
   "id": "b7da0054",
   "metadata": {},
   "outputs": [
    {
     "name": "stdout",
     "output_type": "stream",
     "text": [
      "(19467, 7)\n",
      "(24403, 7)\n"
     ]
    }
   ],
   "source": [
    "print(df1.shape)\n",
    "print(df2.shape)"
   ]
  },
  {
   "cell_type": "code",
   "execution_count": 8,
   "id": "9db17bbf",
   "metadata": {},
   "outputs": [],
   "source": [
    "df3 = pd.concat([df1, df2], ignore_index=True)"
   ]
  },
  {
   "cell_type": "code",
   "execution_count": 9,
   "id": "3faa7055",
   "metadata": {},
   "outputs": [
    {
     "data": {
      "text/plain": [
       "(43870, 7)"
      ]
     },
     "execution_count": 9,
     "metadata": {},
     "output_type": "execute_result"
    }
   ],
   "source": [
    "df3.shape"
   ]
  },
  {
   "cell_type": "code",
   "execution_count": 10,
   "id": "2e4b6300",
   "metadata": {},
   "outputs": [],
   "source": [
    "site_df = pd.read_csv('leaf_site_list.csv')"
   ]
  },
  {
   "cell_type": "code",
   "execution_count": 11,
   "id": "568343db",
   "metadata": {},
   "outputs": [
    {
     "name": "stdout",
     "output_type": "stream",
     "text": [
      "['1A01', '1A02', '1A03']\n",
      "176\n"
     ]
    }
   ],
   "source": [
    "sample_list = []\n",
    "for i in df3['sample'].unique():\n",
    "    sample_list.append(i[0:4])\n",
    "\n",
    "print(sample_list[0:3])\n",
    "print(len(sample_list))"
   ]
  },
  {
   "cell_type": "code",
   "execution_count": 12,
   "id": "8ddb6bf5",
   "metadata": {},
   "outputs": [
    {
     "name": "stdout",
     "output_type": "stream",
     "text": [
      "['RRL1', 'RRL9', 'RRL17', 'FRW3', 'FRW12']\n",
      "176\n"
     ]
    }
   ],
   "source": [
    "sample_ids = []\n",
    "for i in sample_list:\n",
    "    sample_ids.append((site_df[site_df['samples'] == i]['sample_id']).values[0])\n",
    "\n",
    "print(sample_ids[0:5])\n",
    "print(len(sample_ids))"
   ]
  },
  {
   "cell_type": "code",
   "execution_count": 13,
   "id": "24b33e16",
   "metadata": {},
   "outputs": [],
   "source": [
    "df3['sample_id'] = df3['sample']"
   ]
  },
  {
   "cell_type": "code",
   "execution_count": 14,
   "id": "3b73d762",
   "metadata": {},
   "outputs": [
    {
     "data": {
      "text/html": [
       "<div>\n",
       "<style scoped>\n",
       "    .dataframe tbody tr th:only-of-type {\n",
       "        vertical-align: middle;\n",
       "    }\n",
       "\n",
       "    .dataframe tbody tr th {\n",
       "        vertical-align: top;\n",
       "    }\n",
       "\n",
       "    .dataframe thead th {\n",
       "        text-align: right;\n",
       "    }\n",
       "</style>\n",
       "<table border=\"1\" class=\"dataframe\">\n",
       "  <thead>\n",
       "    <tr style=\"text-align: right;\">\n",
       "      <th></th>\n",
       "      <th>Unnamed: 0</th>\n",
       "      <th>sample</th>\n",
       "      <th>taxon_id</th>\n",
       "      <th>level</th>\n",
       "      <th>taxon_path</th>\n",
       "      <th>taxon</th>\n",
       "      <th>val</th>\n",
       "      <th>sample_id</th>\n",
       "    </tr>\n",
       "  </thead>\n",
       "  <tbody>\n",
       "    <tr>\n",
       "      <th>0</th>\n",
       "      <td>0</td>\n",
       "      <td>1A01_S1_L001_R1_001</td>\n",
       "      <td>1716</td>\n",
       "      <td>genus</td>\n",
       "      <td>2|201174|1760|85007|1653|1716</td>\n",
       "      <td>Bacteria|Actinobacteria|Actinobacteria|Coryneb...</td>\n",
       "      <td>0.63776</td>\n",
       "      <td>1A01_S1_L001_R1_001</td>\n",
       "    </tr>\n",
       "    <tr>\n",
       "      <th>1</th>\n",
       "      <td>1</td>\n",
       "      <td>1A01_S1_L001_R1_001</td>\n",
       "      <td>374</td>\n",
       "      <td>genus</td>\n",
       "      <td>2|1224|28211|356|41294|374</td>\n",
       "      <td>Bacteria|Proteobacteria|Alphaproteobacteria|Rh...</td>\n",
       "      <td>0.11405</td>\n",
       "      <td>1A01_S1_L001_R1_001</td>\n",
       "    </tr>\n",
       "    <tr>\n",
       "      <th>2</th>\n",
       "      <td>2</td>\n",
       "      <td>1A01_S1_L001_R1_001</td>\n",
       "      <td>286</td>\n",
       "      <td>genus</td>\n",
       "      <td>2|1224|1236|72274|135621|286</td>\n",
       "      <td>Bacteria|Proteobacteria|Gammaproteobacteria|Ps...</td>\n",
       "      <td>0.11190</td>\n",
       "      <td>1A01_S1_L001_R1_001</td>\n",
       "    </tr>\n",
       "    <tr>\n",
       "      <th>3</th>\n",
       "      <td>3</td>\n",
       "      <td>1A01_S1_L001_R1_001</td>\n",
       "      <td>89966</td>\n",
       "      <td>genus</td>\n",
       "      <td>2|976|768503|768507|1853232|89966</td>\n",
       "      <td>Bacteria|Bacteroidetes|Cytophagia|Cytophagales...</td>\n",
       "      <td>0.09485</td>\n",
       "      <td>1A01_S1_L001_R1_001</td>\n",
       "    </tr>\n",
       "    <tr>\n",
       "      <th>4</th>\n",
       "      <td>4</td>\n",
       "      <td>1A01_S1_L001_R1_001</td>\n",
       "      <td>13687</td>\n",
       "      <td>genus</td>\n",
       "      <td>2|1224|28211|204457|41297|13687</td>\n",
       "      <td>Bacteria|Proteobacteria|Alphaproteobacteria|Sp...</td>\n",
       "      <td>0.08559</td>\n",
       "      <td>1A01_S1_L001_R1_001</td>\n",
       "    </tr>\n",
       "  </tbody>\n",
       "</table>\n",
       "</div>"
      ],
      "text/plain": [
       "   Unnamed: 0               sample  taxon_id  level  \\\n",
       "0           0  1A01_S1_L001_R1_001      1716  genus   \n",
       "1           1  1A01_S1_L001_R1_001       374  genus   \n",
       "2           2  1A01_S1_L001_R1_001       286  genus   \n",
       "3           3  1A01_S1_L001_R1_001     89966  genus   \n",
       "4           4  1A01_S1_L001_R1_001     13687  genus   \n",
       "\n",
       "                          taxon_path  \\\n",
       "0      2|201174|1760|85007|1653|1716   \n",
       "1         2|1224|28211|356|41294|374   \n",
       "2       2|1224|1236|72274|135621|286   \n",
       "3  2|976|768503|768507|1853232|89966   \n",
       "4    2|1224|28211|204457|41297|13687   \n",
       "\n",
       "                                               taxon      val  \\\n",
       "0  Bacteria|Actinobacteria|Actinobacteria|Coryneb...  0.63776   \n",
       "1  Bacteria|Proteobacteria|Alphaproteobacteria|Rh...  0.11405   \n",
       "2  Bacteria|Proteobacteria|Gammaproteobacteria|Ps...  0.11190   \n",
       "3  Bacteria|Bacteroidetes|Cytophagia|Cytophagales...  0.09485   \n",
       "4  Bacteria|Proteobacteria|Alphaproteobacteria|Sp...  0.08559   \n",
       "\n",
       "             sample_id  \n",
       "0  1A01_S1_L001_R1_001  \n",
       "1  1A01_S1_L001_R1_001  \n",
       "2  1A01_S1_L001_R1_001  \n",
       "3  1A01_S1_L001_R1_001  \n",
       "4  1A01_S1_L001_R1_001  "
      ]
     },
     "execution_count": 14,
     "metadata": {},
     "output_type": "execute_result"
    }
   ],
   "source": [
    "df3.head()"
   ]
  },
  {
   "cell_type": "code",
   "execution_count": 18,
   "id": "74a15d96",
   "metadata": {},
   "outputs": [],
   "source": [
    "for info in zip(df3['sample'].unique(), sample_ids):\n",
    "    df3['sample_id'] = df3['sample_id'].replace([info[0]], info[1])"
   ]
  },
  {
   "cell_type": "code",
   "execution_count": 19,
   "id": "0147db50",
   "metadata": {},
   "outputs": [
    {
     "data": {
      "text/html": [
       "<div>\n",
       "<style scoped>\n",
       "    .dataframe tbody tr th:only-of-type {\n",
       "        vertical-align: middle;\n",
       "    }\n",
       "\n",
       "    .dataframe tbody tr th {\n",
       "        vertical-align: top;\n",
       "    }\n",
       "\n",
       "    .dataframe thead th {\n",
       "        text-align: right;\n",
       "    }\n",
       "</style>\n",
       "<table border=\"1\" class=\"dataframe\">\n",
       "  <thead>\n",
       "    <tr style=\"text-align: right;\">\n",
       "      <th></th>\n",
       "      <th>Unnamed: 0</th>\n",
       "      <th>sample</th>\n",
       "      <th>taxon_id</th>\n",
       "      <th>level</th>\n",
       "      <th>taxon_path</th>\n",
       "      <th>taxon</th>\n",
       "      <th>val</th>\n",
       "      <th>sample_id</th>\n",
       "    </tr>\n",
       "  </thead>\n",
       "  <tbody>\n",
       "    <tr>\n",
       "      <th>43865</th>\n",
       "      <td>24398</td>\n",
       "      <td>2H12_S192_L002_R1_001</td>\n",
       "      <td>360145</td>\n",
       "      <td>genus</td>\n",
       "      <td>2759|4890|147550|5151|5152|360145</td>\n",
       "      <td>Eukaryota|Ascomycota|Sordariomycetes|Ophiostom...</td>\n",
       "      <td>0.00011</td>\n",
       "      <td>RF12</td>\n",
       "    </tr>\n",
       "    <tr>\n",
       "      <th>43866</th>\n",
       "      <td>24399</td>\n",
       "      <td>2H12_S192_L002_R1_001</td>\n",
       "      <td>544</td>\n",
       "      <td>genus</td>\n",
       "      <td>2|1224|1236|91347|543|544</td>\n",
       "      <td>Bacteria|Proteobacteria|Gammaproteobacteria|En...</td>\n",
       "      <td>0.00010</td>\n",
       "      <td>RF12</td>\n",
       "    </tr>\n",
       "    <tr>\n",
       "      <th>43867</th>\n",
       "      <td>24400</td>\n",
       "      <td>2H12_S192_L002_R1_001</td>\n",
       "      <td>5073</td>\n",
       "      <td>genus</td>\n",
       "      <td>2759|4890|147545|5042|1131492|5073</td>\n",
       "      <td>Eukaryota|Ascomycota|Eurotiomycetes|Eurotiales...</td>\n",
       "      <td>0.00010</td>\n",
       "      <td>RF12</td>\n",
       "    </tr>\n",
       "    <tr>\n",
       "      <th>43868</th>\n",
       "      <td>24401</td>\n",
       "      <td>2H12_S192_L002_R1_001</td>\n",
       "      <td>228398</td>\n",
       "      <td>genus</td>\n",
       "      <td>2|201174|1760|85011|2062|228398</td>\n",
       "      <td>Bacteria|Actinobacteria|Actinobacteria|Strepto...</td>\n",
       "      <td>0.00010</td>\n",
       "      <td>RF12</td>\n",
       "    </tr>\n",
       "    <tr>\n",
       "      <th>43869</th>\n",
       "      <td>24402</td>\n",
       "      <td>2H12_S192_L002_R1_001</td>\n",
       "      <td>649460</td>\n",
       "      <td>genus</td>\n",
       "      <td>2|976|1853228|1853229|563835|649460</td>\n",
       "      <td>Bacteria|Bacteroidetes|Chitinophagia|Chitinoph...</td>\n",
       "      <td>0.00010</td>\n",
       "      <td>RF12</td>\n",
       "    </tr>\n",
       "  </tbody>\n",
       "</table>\n",
       "</div>"
      ],
      "text/plain": [
       "       Unnamed: 0                 sample  taxon_id  level  \\\n",
       "43865       24398  2H12_S192_L002_R1_001    360145  genus   \n",
       "43866       24399  2H12_S192_L002_R1_001       544  genus   \n",
       "43867       24400  2H12_S192_L002_R1_001      5073  genus   \n",
       "43868       24401  2H12_S192_L002_R1_001    228398  genus   \n",
       "43869       24402  2H12_S192_L002_R1_001    649460  genus   \n",
       "\n",
       "                                taxon_path  \\\n",
       "43865    2759|4890|147550|5151|5152|360145   \n",
       "43866            2|1224|1236|91347|543|544   \n",
       "43867   2759|4890|147545|5042|1131492|5073   \n",
       "43868      2|201174|1760|85011|2062|228398   \n",
       "43869  2|976|1853228|1853229|563835|649460   \n",
       "\n",
       "                                                   taxon      val sample_id  \n",
       "43865  Eukaryota|Ascomycota|Sordariomycetes|Ophiostom...  0.00011      RF12  \n",
       "43866  Bacteria|Proteobacteria|Gammaproteobacteria|En...  0.00010      RF12  \n",
       "43867  Eukaryota|Ascomycota|Eurotiomycetes|Eurotiales...  0.00010      RF12  \n",
       "43868  Bacteria|Actinobacteria|Actinobacteria|Strepto...  0.00010      RF12  \n",
       "43869  Bacteria|Bacteroidetes|Chitinophagia|Chitinoph...  0.00010      RF12  "
      ]
     },
     "execution_count": 19,
     "metadata": {},
     "output_type": "execute_result"
    }
   ],
   "source": [
    "df3.tail()"
   ]
  },
  {
   "cell_type": "code",
   "execution_count": 21,
   "id": "81061e99",
   "metadata": {},
   "outputs": [
    {
     "data": {
      "text/plain": [
       "array(['RRL1', 'RRL9', 'RRL17', 'FRW3', 'FRW12', 'MMP7', 'MMP15', 'PNR3',\n",
       "       'CMB13', 'CMB21', 'SLG1', 'SLG13', 'RRL2', 'RRL10', 'RRL18',\n",
       "       'FRW4', 'FRW13', 'MMP8', 'MMP16', 'CMB6', 'CMB14', 'CMB22', 'SLG2',\n",
       "       'SLG14', 'RRL3', 'RRL11', 'RRL19', 'CMB15', 'RRL4', 'RRL12',\n",
       "       'FRW6', 'MMP2', 'MMP10', 'MMP18', 'CMB24', 'SLG4', 'SLG18', 'FRW8',\n",
       "       'MMP3', 'MMP11', 'MMP19', 'CMB9', 'CMB17', 'CMB25', 'SLG5',\n",
       "       'SLG15', 'RRL6', 'RRL14', 'RRL22', 'FRW9', 'MMP4', 'MMP12',\n",
       "       'MMP20', 'CMB10', 'CMB18', 'CMB26', 'SLG6', 'SLG20', 'RRL7',\n",
       "       'RRL15', 'FRW1', 'FRW10', 'MMP5', 'MMP13', 'PNR1', 'CMB11',\n",
       "       'CMB19', 'CMB27', 'SLG8', 'SLG23', 'RRL8', 'RRL16', 'FRW2',\n",
       "       'FRW11', 'MMP6', 'MMP14', 'PNR2', 'RF13', 'CMB20', 'CMB28',\n",
       "       'SLG10', 'LFS1', 'LFS2', 'LFS11', 'SGC4', 'SGC12', 'HR1', 'PTW3',\n",
       "       'GH1', 'LM7', 'LM15', 'LM23', 'MKP5', 'RF5', 'LFS3', 'LFS12',\n",
       "       'SGC5', 'RGT1', 'HR2', 'PTW4', 'GH2', 'LM8', 'LM16', 'LM25',\n",
       "       'MKP6', 'LFS4', 'LFS13', 'SGC6', 'RGT2', 'HR3', 'PTW5', 'LM1',\n",
       "       'LM9', 'LM17', 'SLG21', 'MKP7', 'LFS5', 'LFS14', 'SGC7', 'RGT3',\n",
       "       'HR4', 'PTW6', 'SLG17', 'LM10', 'LM18', 'LM28', 'MKP8', 'RF8',\n",
       "       'LFS6', 'LFS15', 'SGC8', 'RGT4', 'HR5', 'PTW7', 'LM3', 'LM11',\n",
       "       'LM19', 'MKP1', 'RF1', 'RF9', 'LFS7', 'SGC1', 'SGC9', 'RGT5',\n",
       "       'HR6', 'PTW8', 'LM4', 'LM12', 'LM20', 'MKP2', 'RF2', 'RF10',\n",
       "       'LFS8', 'SGC2', 'SGC10', 'RGT6', 'PTW1', 'PTW9', 'LM5', 'LM13',\n",
       "       'LM21', 'MKP3', 'RF3', 'RF11', 'LFS9', 'SGC3', 'SGC11', 'RGT7',\n",
       "       'PTW2', 'PTW10', 'LM6', 'LM14', 'LM22', 'MKP4', 'RF4', 'RF12'],\n",
       "      dtype=object)"
      ]
     },
     "execution_count": 21,
     "metadata": {},
     "output_type": "execute_result"
    }
   ],
   "source": [
    "df3['sample_id'].unique()"
   ]
  },
  {
   "cell_type": "code",
   "execution_count": 26,
   "id": "6ef1a5e4",
   "metadata": {},
   "outputs": [],
   "source": [
    "df3 = df3.drop(['Unnamed: 0', 'taxon_id', 'taxon_path', 'level', 'sample'], axis =1)"
   ]
  },
  {
   "cell_type": "code",
   "execution_count": 27,
   "id": "86f2799a",
   "metadata": {},
   "outputs": [],
   "source": [
    "df3.to_csv(\"leaf_microbiome_genus.csv\")"
   ]
  },
  {
   "cell_type": "code",
   "execution_count": null,
   "id": "438abcab",
   "metadata": {},
   "outputs": [],
   "source": []
  }
 ],
 "metadata": {
  "kernelspec": {
   "display_name": "Python 3 (ipykernel)",
   "language": "python",
   "name": "python3"
  },
  "language_info": {
   "codemirror_mode": {
    "name": "ipython",
    "version": 3
   },
   "file_extension": ".py",
   "mimetype": "text/x-python",
   "name": "python",
   "nbconvert_exporter": "python",
   "pygments_lexer": "ipython3",
   "version": "3.11.4"
  }
 },
 "nbformat": 4,
 "nbformat_minor": 5
}
