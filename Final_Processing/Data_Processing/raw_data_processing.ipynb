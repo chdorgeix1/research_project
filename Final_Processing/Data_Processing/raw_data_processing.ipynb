{
 "cells": [
  {
   "cell_type": "code",
   "execution_count": 1,
   "id": "1c45eb4e",
   "metadata": {},
   "outputs": [],
   "source": [
    "from os import listdir\n",
    "from os.path import isfile, join\n",
    "import numpy as np\n",
    "import re\n",
    "import pandas as pd\n",
    "import numpy as np"
   ]
  },
  {
   "cell_type": "markdown",
   "id": "9457b644",
   "metadata": {},
   "source": [
    "### Processing New, Mitochondria/Chloroplast Removed Data"
   ]
  },
  {
   "cell_type": "code",
   "execution_count": 2,
   "id": "c2ffe99e",
   "metadata": {},
   "outputs": [],
   "source": [
    "leaf_1_dataset = False\n",
    "leaf_2_dataset = False\n",
    "soil_dataset = True\n",
    "\n",
    "a, b, c = leaf_1_dataset, leaf_2_dataset, soil_dataset\n",
    "if ((a and b) or (b and c) or (a and c)): \n",
    "    raise Exception('Cannot run two sets at the same time must only have 1 be true')\n",
    "elif a == b == c:\n",
    "    raise Exception('Need at least 1 set of data to be true')"
   ]
  },
  {
   "cell_type": "code",
   "execution_count": 7,
   "id": "f6bcf895",
   "metadata": {},
   "outputs": [],
   "source": [
    "if leaf_1_dataset:\n",
    "    data_path = r\"C:\\Users\\15404\\Documents\\GitHub\\research_project\\Final_Processing\\Data\\original_data\\leaf_microbiome_1\\\\\"\n",
    "    rel_path = r'C:\\Users\\15404\\Documents\\GitHub\\research_project\\Final_Processing\\Data\\leaf_microbiome_kingdom_to_strain\\rerun_1_kingdom_to_strain\\\\'\n",
    "    count_path = r'C:\\Users\\15404\\Documents\\GitHub\\research_project\\Final_Processing\\Data\\leaf_microbiome_count_k_to_spec\\leaf_1_count_kingdom_to_strain\\\\'\n",
    "    read_lengths = r'C:\\Users\\15404\\Documents\\GitHub\\research_project\\Final_Processing\\Data_Processing\\read_lengths_folder\\leaf_1_read_lengths_output.txt'\n",
    "    \n",
    "if leaf_2_dataset:\n",
    "    data_path = r\"C:\\Users\\15404\\Documents\\GitHub\\research_project\\Final_Processing\\Data\\original_data\\leaf_microbiome_2\\\\\"\n",
    "    rel_path = r'C:\\Users\\15404\\Documents\\GitHub\\research_project\\Final_Processing\\Data\\leaf_microbiome_kingdom_to_strain\\rerun_2_kingdom_to_strain\\\\'\n",
    "    count_path = r'C:\\Users\\15404\\Documents\\GitHub\\research_project\\Final_Processing\\Data\\leaf_microbiome_count_k_to_spec\\leaf_2_count_kingdom_to_strain\\\\'\n",
    "    read_lengths = r'C:\\Users\\15404\\Documents\\GitHub\\research_project\\Final_Processing\\Data_Processing\\read_lengths_folder\\leaf_2_read_lengths_output.txt'\n",
    "\n",
    "if soil_dataset:\n",
    "    data_path = r\"C:\\Users\\15404\\Documents\\GitHub\\research_project\\Final_Processing\\Data\\original_data\\5488_soil_2\\\\\"\n",
    "    rel_path = r'C:\\Users\\15404\\Documents\\GitHub\\research_project\\Final_Processing\\Data\\soil_microbiome_kingom_to_strain\\\\'\n",
    "    count_path = r'C:\\Users\\15404\\Documents\\GitHub\\research_project\\Final_Processing\\Data\\soil_microbiome_count_k_to_spec\\\\'\n",
    "    read_lengths = r'C:\\Users\\15404\\Documents\\GitHub\\research_project\\Final_Processing\\Data_Processing\\read_lengths_folder\\5488_read_lengths_output.txt'"
   ]
  },
  {
   "cell_type": "markdown",
   "id": "3f31be3a",
   "metadata": {},
   "source": [
    "#### The purpose of this code is to create CSVs of the original data from superkingdom to species level taxonomy"
   ]
  },
  {
   "cell_type": "code",
   "execution_count": 8,
   "id": "f2967c1e",
   "metadata": {},
   "outputs": [],
   "source": [
    "file_list = [f for f in listdir(data_path) if isfile(join(data_path, f))]\n",
    "# print(len(file_list))"
   ]
  },
  {
   "cell_type": "code",
   "execution_count": 9,
   "id": "d5456d89",
   "metadata": {},
   "outputs": [],
   "source": [
    "taxon_list = ['superkingdom', 'phylum', 'class', 'order', 'family', 'genus', 'species'] #, 'strain']"
   ]
  },
  {
   "cell_type": "markdown",
   "id": "7c2b08d7",
   "metadata": {},
   "source": [
    "### Create Relative Abundance Datasets"
   ]
  },
  {
   "cell_type": "code",
   "execution_count": 10,
   "id": "fa9009ca",
   "metadata": {},
   "outputs": [
    {
     "name": "stdout",
     "output_type": "stream",
     "text": [
      "(493, 6)\n",
      "(6964, 6)\n",
      "(9882, 6)\n",
      "(19445, 6)\n",
      "(40010, 6)\n",
      "(129870, 6)\n",
      "(546872, 6)\n"
     ]
    }
   ],
   "source": [
    "for taxon_level in taxon_list:\n",
    "    df1 = pd.DataFrame(columns = ['sample', 'taxon_id', 'level', 'taxon_path', 'taxon', 'val'])\n",
    "    for tsv in file_list:\n",
    "        with open(data_path + tsv, 'r') as myfile:\n",
    "            line_list = []\n",
    "            for line in myfile:\n",
    "                if line[0] != '@' and len(line) > 1:\n",
    "                    fileContent = re.sub(\"\\t\", \",\", line)\n",
    "                    fileContent = re.sub(\"\\n\", \"\", fileContent)\n",
    "                    new_line = fileContent.split(',')    \n",
    "                    if new_line[1] == taxon_level and taxon_level != 'strain' and \"||\" not in line:\n",
    "                        line_list.append(new_line)\n",
    "                    elif new_line[1] == taxon_level and taxon_level == 'strain' and \"||\" not in line:\n",
    "                        line_list.append(new_line[0:5])\n",
    "        df2 = pd.DataFrame(line_list)\n",
    "        df2.rename(columns = {0:'taxon_id', 1:'level', 2:'taxon_path', 3:'taxon', 4:'val'}, inplace = True) \n",
    "        df2.insert(0, \"sample\", [tsv]*len(line_list), True)\n",
    "        \n",
    "        df1 = pd.concat([df1, df2], ignore_index=True)\n",
    "        \n",
    "    print(df1.shape)\n",
    "#     print(taxon_level)\n",
    "#     print(max(df1['val']))\n",
    "#     print(min(df1['val']))\n",
    "    csv_name = 'rerun_soil_microbiome_' + taxon_level +'.csv'\n",
    "    df1.to_csv(rel_path + csv_name)"
   ]
  },
  {
   "cell_type": "markdown",
   "id": "58b75661",
   "metadata": {},
   "source": [
    "### Create Count Datasets"
   ]
  },
  {
   "cell_type": "code",
   "execution_count": 11,
   "id": "eb34e37c",
   "metadata": {},
   "outputs": [],
   "source": [
    "# Import read counts txt\n",
    "#read_dict = {'JP_CMB_10_S135_L002_R1_001': 13299182, 'JP_CMB_11_S97_L002_R1_001': 19554716}\n",
    "\n",
    "RL_dict = {}\n",
    "read_lengths_file = open(read_lengths,\"r\")\n",
    "\n",
    "rl_file_list = [line.split('\\n') for line in read_lengths_file.readlines()]\n",
    "\n",
    "for i in range(int(len(rl_file_list)/2)):\n",
    "    RL_dict[rl_file_list[i*2][0][0:-6]] = rl_file_list[i*2 + 1][0]"
   ]
  },
  {
   "cell_type": "code",
   "execution_count": 12,
   "id": "32ccf9fe",
   "metadata": {},
   "outputs": [
    {
     "name": "stdout",
     "output_type": "stream",
     "text": [
      "(493, 6)\n",
      "(6964, 6)\n",
      "(9882, 6)\n",
      "(19445, 6)\n",
      "(40010, 6)\n",
      "(129870, 6)\n",
      "(546872, 6)\n"
     ]
    }
   ],
   "source": [
    "for taxon_level in taxon_list:\n",
    "    df1 = pd.DataFrame(columns = ['sample', 'taxon_id', 'level', 'taxon_path', 'taxon', 'val'])\n",
    "    for tsv in file_list:\n",
    "        with open(data_path + tsv, 'r') as myfile:\n",
    "            line_list = []\n",
    "            number_reads = float(RL_dict[tsv])\n",
    "            for line in myfile:\n",
    "                if line[0] != '@' and len(line) > 1:\n",
    "                    fileContent = re.sub(\"\\t\", \",\", line)\n",
    "                    fileContent = re.sub(\"\\n\", \"\", fileContent)\n",
    "                    new_line = fileContent.split(',')    \n",
    "                    if new_line[1] == taxon_level and taxon_level != 'strain' and \"||\" not in line:\n",
    "                        new_line[4] = float(new_line[4]) / 100 * number_reads\n",
    "                        line_list.append(new_line)\n",
    "                    elif new_line[1] == taxon_level and taxon_level == 'strain' and \"||\" not in line:\n",
    "                        new_line[4] = float(new_line[4]) / 100 * number_reads\n",
    "                        line_list.append(new_line[0:5])\n",
    "        rel_ab_list = []\n",
    "        for i in line_list:\n",
    "            rel_ab_list.append(i[4])\n",
    "        df2 = pd.DataFrame(line_list)\n",
    "        df2.rename(columns = {0:'taxon_id', 1:'level', 2:'taxon_path', 3:'taxon', 4:'val'}, inplace = True) \n",
    "        df2.insert(0, \"sample\", [tsv]*len(line_list), True)\n",
    "        \n",
    "        df1 = pd.concat([df1, df2], ignore_index=True)\n",
    "    \n",
    "#     print(taxon_level)\n",
    "    print(df1.shape)\n",
    "#     print(taxon_level)\n",
    "#     #print(df1.head())\n",
    "#     print(max(df1['val']))\n",
    "#     print(min(df1['val']))\n",
    "#     print('')\n",
    "    csv_name = 'count_soil_microbiome_' + taxon_level +'.csv'\n",
    "    df1.to_csv(count_path + csv_name)\n",
    "    #print(csv_name)"
   ]
  },
  {
   "cell_type": "code",
   "execution_count": null,
   "id": "b883af85",
   "metadata": {},
   "outputs": [],
   "source": []
  }
 ],
 "metadata": {
  "kernelspec": {
   "display_name": "Python 3 (ipykernel)",
   "language": "python",
   "name": "python3"
  },
  "language_info": {
   "codemirror_mode": {
    "name": "ipython",
    "version": 3
   },
   "file_extension": ".py",
   "mimetype": "text/x-python",
   "name": "python",
   "nbconvert_exporter": "python",
   "pygments_lexer": "ipython3",
   "version": "3.11.4"
  }
 },
 "nbformat": 4,
 "nbformat_minor": 5
}
