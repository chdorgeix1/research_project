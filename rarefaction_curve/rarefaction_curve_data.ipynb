{
 "cells": [
  {
   "cell_type": "code",
   "execution_count": 4,
   "id": "4fe4e822",
   "metadata": {},
   "outputs": [],
   "source": [
    "from os import listdir\n",
    "from os.path import isfile, join\n",
    "import numpy as np\n",
    "import re\n",
    "import pandas as pd\n",
    "import numpy as np\n",
    "import dataProcessing as DP"
   ]
  },
  {
   "cell_type": "code",
   "execution_count": 8,
   "id": "1a459905",
   "metadata": {},
   "outputs": [
    {
     "data": {
      "text/html": [
       "<div>\n",
       "<style scoped>\n",
       "    .dataframe tbody tr th:only-of-type {\n",
       "        vertical-align: middle;\n",
       "    }\n",
       "\n",
       "    .dataframe tbody tr th {\n",
       "        vertical-align: top;\n",
       "    }\n",
       "\n",
       "    .dataframe thead th {\n",
       "        text-align: right;\n",
       "    }\n",
       "</style>\n",
       "<table border=\"1\" class=\"dataframe\">\n",
       "  <thead>\n",
       "    <tr style=\"text-align: right;\">\n",
       "      <th></th>\n",
       "      <th>samples</th>\n",
       "      <th>paired_end</th>\n",
       "      <th>Archaea</th>\n",
       "      <th>Bacteria</th>\n",
       "      <th>Eukaryota</th>\n",
       "      <th>Viruses</th>\n",
       "    </tr>\n",
       "  </thead>\n",
       "  <tbody>\n",
       "    <tr>\n",
       "      <th>0</th>\n",
       "      <td>A01</td>\n",
       "      <td>R1</td>\n",
       "      <td>0.00336</td>\n",
       "      <td>23.34365</td>\n",
       "      <td>0.00684</td>\n",
       "      <td>0.59792</td>\n",
       "    </tr>\n",
       "    <tr>\n",
       "      <th>1</th>\n",
       "      <td>A02</td>\n",
       "      <td>R2</td>\n",
       "      <td>0.03808</td>\n",
       "      <td>21.59308</td>\n",
       "      <td>0.00418</td>\n",
       "      <td>0.85997</td>\n",
       "    </tr>\n",
       "    <tr>\n",
       "      <th>2</th>\n",
       "      <td>A03</td>\n",
       "      <td>R1</td>\n",
       "      <td>0.05335</td>\n",
       "      <td>19.6071</td>\n",
       "      <td>0.00311</td>\n",
       "      <td>2.1287</td>\n",
       "    </tr>\n",
       "    <tr>\n",
       "      <th>3</th>\n",
       "      <td>E05</td>\n",
       "      <td>R2</td>\n",
       "      <td>0.01423</td>\n",
       "      <td>21.61262</td>\n",
       "      <td>0.00146</td>\n",
       "      <td>2.3803</td>\n",
       "    </tr>\n",
       "    <tr>\n",
       "      <th>4</th>\n",
       "      <td>F10</td>\n",
       "      <td>R1</td>\n",
       "      <td>0.03823</td>\n",
       "      <td>20.71059</td>\n",
       "      <td>0.00574</td>\n",
       "      <td>0.70016</td>\n",
       "    </tr>\n",
       "  </tbody>\n",
       "</table>\n",
       "</div>"
      ],
      "text/plain": [
       "  samples paired_end  Archaea  Bacteria Eukaryota  Viruses\n",
       "0     A01         R1  0.00336  23.34365   0.00684  0.59792\n",
       "1     A02         R2  0.03808  21.59308   0.00418  0.85997\n",
       "2     A03         R1  0.05335   19.6071   0.00311   2.1287\n",
       "3     E05         R2  0.01423  21.61262   0.00146   2.3803\n",
       "4     F10         R1  0.03823  20.71059   0.00574  0.70016"
      ]
     },
     "execution_count": 8,
     "metadata": {},
     "output_type": "execute_result"
    }
   ],
   "source": [
    "my_path = '/Users/15404/Documents/GitHub/research_project/rarefaction_curve_data/'\n",
    "df = DP.data_processing(my_path, 'superkingdom', False)\n",
    "df.head()"
   ]
  },
  {
   "cell_type": "code",
   "execution_count": 9,
   "id": "220e2ec7",
   "metadata": {},
   "outputs": [],
   "source": [
    "df.to_csv('rarefaction_data.csv')"
   ]
  },
  {
   "cell_type": "code",
   "execution_count": null,
   "id": "db96c915",
   "metadata": {},
   "outputs": [],
   "source": []
  }
 ],
 "metadata": {
  "kernelspec": {
   "display_name": "Python [conda env:conda_aml5]",
   "language": "python",
   "name": "conda-env-conda_aml5-py"
  },
  "language_info": {
   "codemirror_mode": {
    "name": "ipython",
    "version": 3
   },
   "file_extension": ".py",
   "mimetype": "text/x-python",
   "name": "python",
   "nbconvert_exporter": "python",
   "pygments_lexer": "ipython3",
   "version": "3.5.6"
  }
 },
 "nbformat": 4,
 "nbformat_minor": 5
}
