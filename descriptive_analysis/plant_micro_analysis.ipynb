{
 "cells": [
  {
   "cell_type": "code",
   "execution_count": 32,
   "id": "fd18f17c",
   "metadata": {},
   "outputs": [],
   "source": [
    "import pandas as pd\n",
    "import numpy as np\n",
    "import sqlite3\n",
    "import plotly.express as px\n",
    "from sklearn.decomposition import PCA\n",
    "from sklearn.preprocessing import StandardScaler\n",
    "import matplotlib.pyplot as plt\n",
    "import seaborn as sns\n",
    "from sklearn.manifold import TSNE\n",
    "import statsmodels\n",
    "import statsmodels.api as sm\n",
    "from statsmodels.multivariate.manova import MANOVA\n",
    "from scipy import stats\n",
    "\n",
    "from useful_functions import *"
   ]
  },
  {
   "cell_type": "markdown",
   "id": "a1cb9bd3",
   "metadata": {},
   "source": [
    "## Import Data"
   ]
  },
  {
   "cell_type": "code",
   "execution_count": 33,
   "id": "21d504b1",
   "metadata": {},
   "outputs": [
    {
     "data": {
      "text/plain": [
       "(277695, 15)"
      ]
     },
     "execution_count": 33,
     "metadata": {},
     "output_type": "execute_result"
    }
   ],
   "source": [
    "tables_to_join = [\"tPlantMicrobeGenera\", \"tSample\", \"tPlantDNA\"]\n",
    "common_column = \"sample_id\"\n",
    "full_df = import_all_data(tables_to_join, common_column)\n",
    "full_df.shape"
   ]
  },
  {
   "cell_type": "code",
   "execution_count": 34,
   "id": "91e25d49",
   "metadata": {},
   "outputs": [
    {
     "data": {
      "text/html": [
       "<div>\n",
       "<style scoped>\n",
       "    .dataframe tbody tr th:only-of-type {\n",
       "        vertical-align: middle;\n",
       "    }\n",
       "\n",
       "    .dataframe tbody tr th {\n",
       "        vertical-align: top;\n",
       "    }\n",
       "\n",
       "    .dataframe thead th {\n",
       "        text-align: right;\n",
       "    }\n",
       "</style>\n",
       "<table border=\"1\" class=\"dataframe\">\n",
       "  <thead>\n",
       "    <tr style=\"text-align: right;\">\n",
       "      <th></th>\n",
       "      <th>sample_id</th>\n",
       "      <th>genera</th>\n",
       "      <th>relative_abundance</th>\n",
       "      <th>sample_id</th>\n",
       "      <th>site_id</th>\n",
       "      <th>collect_date</th>\n",
       "      <th>sample_id</th>\n",
       "      <th>V1</th>\n",
       "      <th>V2</th>\n",
       "      <th>species</th>\n",
       "      <th>PC1</th>\n",
       "      <th>PC2</th>\n",
       "      <th>PC3</th>\n",
       "      <th>PC4</th>\n",
       "      <th>PC5</th>\n",
       "    </tr>\n",
       "  </thead>\n",
       "  <tbody>\n",
       "    <tr>\n",
       "      <th>0</th>\n",
       "      <td>RRL1</td>\n",
       "      <td>Archaea|Euryarchaeota|Halobacteria|Halobacteri...</td>\n",
       "      <td>0.00000</td>\n",
       "      <td>RRL1</td>\n",
       "      <td>RRL</td>\n",
       "      <td>6/25/2021</td>\n",
       "      <td>RRL1</td>\n",
       "      <td>0.753244</td>\n",
       "      <td>0.246756</td>\n",
       "      <td>exaltata</td>\n",
       "      <td>0.194769</td>\n",
       "      <td>0.048276</td>\n",
       "      <td>-0.023880</td>\n",
       "      <td>-0.017138</td>\n",
       "      <td>-0.039842</td>\n",
       "    </tr>\n",
       "    <tr>\n",
       "      <th>1</th>\n",
       "      <td>RRL2</td>\n",
       "      <td>Archaea|Euryarchaeota|Halobacteria|Halobacteri...</td>\n",
       "      <td>0.01333</td>\n",
       "      <td>RRL2</td>\n",
       "      <td>RRL</td>\n",
       "      <td>6/25/2021</td>\n",
       "      <td>RRL2</td>\n",
       "      <td>0.708412</td>\n",
       "      <td>0.291588</td>\n",
       "      <td>exaltata</td>\n",
       "      <td>0.154924</td>\n",
       "      <td>0.071277</td>\n",
       "      <td>0.000923</td>\n",
       "      <td>-0.025830</td>\n",
       "      <td>0.005592</td>\n",
       "    </tr>\n",
       "    <tr>\n",
       "      <th>2</th>\n",
       "      <td>RRL3</td>\n",
       "      <td>Archaea|Euryarchaeota|Halobacteria|Halobacteri...</td>\n",
       "      <td>0.00000</td>\n",
       "      <td>RRL3</td>\n",
       "      <td>RRL</td>\n",
       "      <td>6/25/2021</td>\n",
       "      <td>RRL3</td>\n",
       "      <td>0.778046</td>\n",
       "      <td>0.221954</td>\n",
       "      <td>exaltata</td>\n",
       "      <td>0.187750</td>\n",
       "      <td>0.035009</td>\n",
       "      <td>-0.016006</td>\n",
       "      <td>-0.012529</td>\n",
       "      <td>-0.011169</td>\n",
       "    </tr>\n",
       "    <tr>\n",
       "      <th>3</th>\n",
       "      <td>RRL4</td>\n",
       "      <td>Archaea|Euryarchaeota|Halobacteria|Halobacteri...</td>\n",
       "      <td>0.00943</td>\n",
       "      <td>RRL4</td>\n",
       "      <td>RRL</td>\n",
       "      <td>6/25/2021</td>\n",
       "      <td>RRL4</td>\n",
       "      <td>0.720367</td>\n",
       "      <td>0.279633</td>\n",
       "      <td>exaltata</td>\n",
       "      <td>0.167167</td>\n",
       "      <td>0.046053</td>\n",
       "      <td>-0.032754</td>\n",
       "      <td>-0.016192</td>\n",
       "      <td>-0.028988</td>\n",
       "    </tr>\n",
       "    <tr>\n",
       "      <th>4</th>\n",
       "      <td>RRL5</td>\n",
       "      <td>Archaea|Euryarchaeota|Halobacteria|Halobacteri...</td>\n",
       "      <td>0.00581</td>\n",
       "      <td>RRL5</td>\n",
       "      <td>RRL</td>\n",
       "      <td>6/25/2021</td>\n",
       "      <td>RRL5</td>\n",
       "      <td>0.572487</td>\n",
       "      <td>0.427513</td>\n",
       "      <td>exaltata</td>\n",
       "      <td>0.099801</td>\n",
       "      <td>0.089800</td>\n",
       "      <td>0.000613</td>\n",
       "      <td>-0.004979</td>\n",
       "      <td>0.017524</td>\n",
       "    </tr>\n",
       "  </tbody>\n",
       "</table>\n",
       "</div>"
      ],
      "text/plain": [
       "  sample_id                                             genera  \\\n",
       "0      RRL1  Archaea|Euryarchaeota|Halobacteria|Halobacteri...   \n",
       "1      RRL2  Archaea|Euryarchaeota|Halobacteria|Halobacteri...   \n",
       "2      RRL3  Archaea|Euryarchaeota|Halobacteria|Halobacteri...   \n",
       "3      RRL4  Archaea|Euryarchaeota|Halobacteria|Halobacteri...   \n",
       "4      RRL5  Archaea|Euryarchaeota|Halobacteria|Halobacteri...   \n",
       "\n",
       "   relative_abundance sample_id site_id collect_date sample_id        V1  \\\n",
       "0             0.00000      RRL1     RRL    6/25/2021      RRL1  0.753244   \n",
       "1             0.01333      RRL2     RRL    6/25/2021      RRL2  0.708412   \n",
       "2             0.00000      RRL3     RRL    6/25/2021      RRL3  0.778046   \n",
       "3             0.00943      RRL4     RRL    6/25/2021      RRL4  0.720367   \n",
       "4             0.00581      RRL5     RRL    6/25/2021      RRL5  0.572487   \n",
       "\n",
       "         V2   species       PC1       PC2       PC3       PC4       PC5  \n",
       "0  0.246756  exaltata  0.194769  0.048276 -0.023880 -0.017138 -0.039842  \n",
       "1  0.291588  exaltata  0.154924  0.071277  0.000923 -0.025830  0.005592  \n",
       "2  0.221954  exaltata  0.187750  0.035009 -0.016006 -0.012529 -0.011169  \n",
       "3  0.279633  exaltata  0.167167  0.046053 -0.032754 -0.016192 -0.028988  \n",
       "4  0.427513  exaltata  0.099801  0.089800  0.000613 -0.004979  0.017524  "
      ]
     },
     "execution_count": 34,
     "metadata": {},
     "output_type": "execute_result"
    }
   ],
   "source": [
    "full_df.head()"
   ]
  },
  {
   "cell_type": "markdown",
   "id": "bbdd0e55",
   "metadata": {},
   "source": [
    "## Clean Data"
   ]
  },
  {
   "cell_type": "code",
   "execution_count": 112,
   "id": "5aac0081",
   "metadata": {},
   "outputs": [
    {
     "data": {
      "text/plain": [
       "(277695, 13)"
      ]
     },
     "execution_count": 112,
     "metadata": {},
     "output_type": "execute_result"
    }
   ],
   "source": [
    "#drop duplicate columns\n",
    "df = full_df\n",
    "df = df.T.drop_duplicates().T\n",
    "df.shape"
   ]
  },
  {
   "cell_type": "code",
   "execution_count": 364,
   "id": "7bbf318a",
   "metadata": {},
   "outputs": [],
   "source": [
    "subdf = df"
   ]
  },
  {
   "cell_type": "code",
   "execution_count": 365,
   "id": "b5980c31",
   "metadata": {},
   "outputs": [
    {
     "data": {
      "text/plain": [
       "(165, 1683)"
      ]
     },
     "execution_count": 365,
     "metadata": {},
     "output_type": "execute_result"
    }
   ],
   "source": [
    "origin_pivoted_df = subdf.pivot(index=['sample_id', 'site_id', 'species', 'V2'], columns='genera', values='relative_abundance')\n",
    "origin_pivoted_df.shape"
   ]
  },
  {
   "cell_type": "code",
   "execution_count": 366,
   "id": "503f029e",
   "metadata": {},
   "outputs": [
    {
     "data": {
      "text/html": [
       "<div>\n",
       "<style scoped>\n",
       "    .dataframe tbody tr th:only-of-type {\n",
       "        vertical-align: middle;\n",
       "    }\n",
       "\n",
       "    .dataframe tbody tr th {\n",
       "        vertical-align: top;\n",
       "    }\n",
       "\n",
       "    .dataframe thead th {\n",
       "        text-align: right;\n",
       "    }\n",
       "</style>\n",
       "<table border=\"1\" class=\"dataframe\">\n",
       "  <thead>\n",
       "    <tr style=\"text-align: right;\">\n",
       "      <th></th>\n",
       "      <th></th>\n",
       "      <th></th>\n",
       "      <th>genera</th>\n",
       "      <th>Archaea|Euryarchaeota|Halobacteria|Halobacteriales|Haloarculaceae|Halapricum</th>\n",
       "      <th>Archaea|Euryarchaeota|Halobacteria|Halobacteriales|Halococcaceae|Halococcus</th>\n",
       "      <th>Archaea|Euryarchaeota|Halobacteria|Natrialbales|Natrialbaceae|Natrinema</th>\n",
       "      <th>Archaea|Euryarchaeota|Halobacteria|Natrialbales|Natrialbaceae|Natronococcus</th>\n",
       "      <th>Archaea|Euryarchaeota|Halobacteria|Natrialbales|Natrialbaceae|Saliphagus</th>\n",
       "      <th>Archaea|Euryarchaeota|Methanobacteria|Methanobacteriales|Methanobacteriaceae|Methanobacterium</th>\n",
       "      <th>Archaea|Euryarchaeota|Methanobacteria|Methanobacteriales|Methanobacteriaceae|Methanobrevibacter</th>\n",
       "      <th>Archaea|Euryarchaeota|Thermoplasmata|Methanomassiliicoccales|Methanomassiliicoccaceae|Methanomassiliicoccus</th>\n",
       "      <th>Archaea|Thaumarchaeota|Nitrososphaeria|Nitrososphaerales|Nitrososphaeraceae|Candidatus Nitrosocosmicus</th>\n",
       "      <th>Bacteria|Abditibacteriota|Abditibacteria|Abditibacteriales|Abitibacteriaceae|Abditibacterium</th>\n",
       "      <th>...</th>\n",
       "      <th>Viruses|||Caudovirales|Siphoviridae|Np1virus</th>\n",
       "      <th>Viruses|||Caudovirales|Siphoviridae|Pa6virus</th>\n",
       "      <th>Viruses|||Caudovirales|Siphoviridae|Sextaecvirus</th>\n",
       "      <th>Viruses|||Caudovirales|Siphoviridae|Sk1virus</th>\n",
       "      <th>Viruses|||Herpesvirales|Herpesviridae|Varicellovirus</th>\n",
       "      <th>Viruses||||Baculoviridae|Alphabaculovirus</th>\n",
       "      <th>Viruses||||Baculoviridae|Betabaculovirus</th>\n",
       "      <th>Viruses||||Microviridae|Phix174microvirus</th>\n",
       "      <th>Viruses||||Mimiviridae|Cafeteriavirus</th>\n",
       "      <th>Viruses||||Partitiviridae|Betapartitivirus</th>\n",
       "    </tr>\n",
       "    <tr>\n",
       "      <th>sample_id</th>\n",
       "      <th>site_id</th>\n",
       "      <th>species</th>\n",
       "      <th>V2</th>\n",
       "      <th></th>\n",
       "      <th></th>\n",
       "      <th></th>\n",
       "      <th></th>\n",
       "      <th></th>\n",
       "      <th></th>\n",
       "      <th></th>\n",
       "      <th></th>\n",
       "      <th></th>\n",
       "      <th></th>\n",
       "      <th></th>\n",
       "      <th></th>\n",
       "      <th></th>\n",
       "      <th></th>\n",
       "      <th></th>\n",
       "      <th></th>\n",
       "      <th></th>\n",
       "      <th></th>\n",
       "      <th></th>\n",
       "      <th></th>\n",
       "      <th></th>\n",
       "    </tr>\n",
       "  </thead>\n",
       "  <tbody>\n",
       "    <tr>\n",
       "      <th>CMB10</th>\n",
       "      <th>CMB</th>\n",
       "      <th>syriaca</th>\n",
       "      <th>0.999777121</th>\n",
       "      <td>0.0</td>\n",
       "      <td>0.0765</td>\n",
       "      <td>0.0</td>\n",
       "      <td>0.0</td>\n",
       "      <td>0.00256</td>\n",
       "      <td>0.0</td>\n",
       "      <td>0.0</td>\n",
       "      <td>0.0</td>\n",
       "      <td>0.0</td>\n",
       "      <td>0.0</td>\n",
       "      <td>...</td>\n",
       "      <td>0.0</td>\n",
       "      <td>0.0</td>\n",
       "      <td>0.0</td>\n",
       "      <td>0.0</td>\n",
       "      <td>0.33369</td>\n",
       "      <td>0.0</td>\n",
       "      <td>0.0</td>\n",
       "      <td>0.28122</td>\n",
       "      <td>0.0</td>\n",
       "      <td>0.0</td>\n",
       "    </tr>\n",
       "    <tr>\n",
       "      <th>CMB11</th>\n",
       "      <th>CMB</th>\n",
       "      <th>syriaca</th>\n",
       "      <th>0.999999983</th>\n",
       "      <td>0.0</td>\n",
       "      <td>0.07147</td>\n",
       "      <td>0.0</td>\n",
       "      <td>0.0</td>\n",
       "      <td>0.00267</td>\n",
       "      <td>0.0</td>\n",
       "      <td>0.01641</td>\n",
       "      <td>0.0</td>\n",
       "      <td>0.0</td>\n",
       "      <td>0.0</td>\n",
       "      <td>...</td>\n",
       "      <td>0.0</td>\n",
       "      <td>0.0</td>\n",
       "      <td>0.0</td>\n",
       "      <td>0.0</td>\n",
       "      <td>0.69867</td>\n",
       "      <td>0.0</td>\n",
       "      <td>0.0</td>\n",
       "      <td>0.56396</td>\n",
       "      <td>0.0</td>\n",
       "      <td>0.0</td>\n",
       "    </tr>\n",
       "    <tr>\n",
       "      <th>CMB13</th>\n",
       "      <th>CMB</th>\n",
       "      <th>syriaca</th>\n",
       "      <th>0.989130596</th>\n",
       "      <td>0.0</td>\n",
       "      <td>0.09585</td>\n",
       "      <td>0.0</td>\n",
       "      <td>0.0</td>\n",
       "      <td>0.00428</td>\n",
       "      <td>0.0</td>\n",
       "      <td>0.0</td>\n",
       "      <td>0.0</td>\n",
       "      <td>0.0</td>\n",
       "      <td>0.0</td>\n",
       "      <td>...</td>\n",
       "      <td>0.0</td>\n",
       "      <td>0.0</td>\n",
       "      <td>0.0</td>\n",
       "      <td>0.0</td>\n",
       "      <td>0.0</td>\n",
       "      <td>0.0</td>\n",
       "      <td>0.0</td>\n",
       "      <td>0.0</td>\n",
       "      <td>0.0</td>\n",
       "      <td>0.0</td>\n",
       "    </tr>\n",
       "    <tr>\n",
       "      <th>CMB14</th>\n",
       "      <th>CMB</th>\n",
       "      <th>syriaca</th>\n",
       "      <th>0.99999205</th>\n",
       "      <td>0.0</td>\n",
       "      <td>0.1262</td>\n",
       "      <td>0.0</td>\n",
       "      <td>0.0</td>\n",
       "      <td>0.00329</td>\n",
       "      <td>0.0</td>\n",
       "      <td>0.0136</td>\n",
       "      <td>0.0</td>\n",
       "      <td>0.0</td>\n",
       "      <td>0.0</td>\n",
       "      <td>...</td>\n",
       "      <td>0.0</td>\n",
       "      <td>0.0</td>\n",
       "      <td>0.0</td>\n",
       "      <td>0.0</td>\n",
       "      <td>0.81434</td>\n",
       "      <td>0.0</td>\n",
       "      <td>0.0</td>\n",
       "      <td>0.39777</td>\n",
       "      <td>0.0</td>\n",
       "      <td>0.0</td>\n",
       "    </tr>\n",
       "    <tr>\n",
       "      <th>CMB15</th>\n",
       "      <th>CMB</th>\n",
       "      <th>syriaca</th>\n",
       "      <th>0.998547653</th>\n",
       "      <td>0.02993</td>\n",
       "      <td>0.08792</td>\n",
       "      <td>0.0</td>\n",
       "      <td>0.0</td>\n",
       "      <td>0.0</td>\n",
       "      <td>0.0</td>\n",
       "      <td>0.0</td>\n",
       "      <td>0.0</td>\n",
       "      <td>0.0</td>\n",
       "      <td>0.0</td>\n",
       "      <td>...</td>\n",
       "      <td>0.0</td>\n",
       "      <td>0.0</td>\n",
       "      <td>0.0</td>\n",
       "      <td>0.0</td>\n",
       "      <td>0.5256</td>\n",
       "      <td>0.01059</td>\n",
       "      <td>0.0</td>\n",
       "      <td>0.0</td>\n",
       "      <td>0.0</td>\n",
       "      <td>0.0</td>\n",
       "    </tr>\n",
       "  </tbody>\n",
       "</table>\n",
       "<p>5 rows × 1683 columns</p>\n",
       "</div>"
      ],
      "text/plain": [
       "genera                                Archaea|Euryarchaeota|Halobacteria|Halobacteriales|Haloarculaceae|Halapricum  \\\n",
       "sample_id site_id species V2                                                                                         \n",
       "CMB10     CMB     syriaca 0.999777121                                                0.0                             \n",
       "CMB11     CMB     syriaca 0.999999983                                                0.0                             \n",
       "CMB13     CMB     syriaca 0.989130596                                                0.0                             \n",
       "CMB14     CMB     syriaca 0.99999205                                                 0.0                             \n",
       "CMB15     CMB     syriaca 0.998547653                                            0.02993                             \n",
       "\n",
       "genera                                Archaea|Euryarchaeota|Halobacteria|Halobacteriales|Halococcaceae|Halococcus  \\\n",
       "sample_id site_id species V2                                                                                        \n",
       "CMB10     CMB     syriaca 0.999777121                                             0.0765                            \n",
       "CMB11     CMB     syriaca 0.999999983                                            0.07147                            \n",
       "CMB13     CMB     syriaca 0.989130596                                            0.09585                            \n",
       "CMB14     CMB     syriaca 0.99999205                                              0.1262                            \n",
       "CMB15     CMB     syriaca 0.998547653                                            0.08792                            \n",
       "\n",
       "genera                                Archaea|Euryarchaeota|Halobacteria|Natrialbales|Natrialbaceae|Natrinema  \\\n",
       "sample_id site_id species V2                                                                                    \n",
       "CMB10     CMB     syriaca 0.999777121                                                0.0                        \n",
       "CMB11     CMB     syriaca 0.999999983                                                0.0                        \n",
       "CMB13     CMB     syriaca 0.989130596                                                0.0                        \n",
       "CMB14     CMB     syriaca 0.99999205                                                 0.0                        \n",
       "CMB15     CMB     syriaca 0.998547653                                                0.0                        \n",
       "\n",
       "genera                                Archaea|Euryarchaeota|Halobacteria|Natrialbales|Natrialbaceae|Natronococcus  \\\n",
       "sample_id site_id species V2                                                                                        \n",
       "CMB10     CMB     syriaca 0.999777121                                                0.0                            \n",
       "CMB11     CMB     syriaca 0.999999983                                                0.0                            \n",
       "CMB13     CMB     syriaca 0.989130596                                                0.0                            \n",
       "CMB14     CMB     syriaca 0.99999205                                                 0.0                            \n",
       "CMB15     CMB     syriaca 0.998547653                                                0.0                            \n",
       "\n",
       "genera                                Archaea|Euryarchaeota|Halobacteria|Natrialbales|Natrialbaceae|Saliphagus  \\\n",
       "sample_id site_id species V2                                                                                     \n",
       "CMB10     CMB     syriaca 0.999777121                                            0.00256                         \n",
       "CMB11     CMB     syriaca 0.999999983                                            0.00267                         \n",
       "CMB13     CMB     syriaca 0.989130596                                            0.00428                         \n",
       "CMB14     CMB     syriaca 0.99999205                                             0.00329                         \n",
       "CMB15     CMB     syriaca 0.998547653                                                0.0                         \n",
       "\n",
       "genera                                Archaea|Euryarchaeota|Methanobacteria|Methanobacteriales|Methanobacteriaceae|Methanobacterium  \\\n",
       "sample_id site_id species V2                                                                                                          \n",
       "CMB10     CMB     syriaca 0.999777121                                                0.0                                              \n",
       "CMB11     CMB     syriaca 0.999999983                                                0.0                                              \n",
       "CMB13     CMB     syriaca 0.989130596                                                0.0                                              \n",
       "CMB14     CMB     syriaca 0.99999205                                                 0.0                                              \n",
       "CMB15     CMB     syriaca 0.998547653                                                0.0                                              \n",
       "\n",
       "genera                                Archaea|Euryarchaeota|Methanobacteria|Methanobacteriales|Methanobacteriaceae|Methanobrevibacter  \\\n",
       "sample_id site_id species V2                                                                                                            \n",
       "CMB10     CMB     syriaca 0.999777121                                                0.0                                                \n",
       "CMB11     CMB     syriaca 0.999999983                                            0.01641                                                \n",
       "CMB13     CMB     syriaca 0.989130596                                                0.0                                                \n",
       "CMB14     CMB     syriaca 0.99999205                                              0.0136                                                \n",
       "CMB15     CMB     syriaca 0.998547653                                                0.0                                                \n",
       "\n",
       "genera                                Archaea|Euryarchaeota|Thermoplasmata|Methanomassiliicoccales|Methanomassiliicoccaceae|Methanomassiliicoccus  \\\n",
       "sample_id site_id species V2                                                                                                                        \n",
       "CMB10     CMB     syriaca 0.999777121                                                0.0                                                            \n",
       "CMB11     CMB     syriaca 0.999999983                                                0.0                                                            \n",
       "CMB13     CMB     syriaca 0.989130596                                                0.0                                                            \n",
       "CMB14     CMB     syriaca 0.99999205                                                 0.0                                                            \n",
       "CMB15     CMB     syriaca 0.998547653                                                0.0                                                            \n",
       "\n",
       "genera                                Archaea|Thaumarchaeota|Nitrososphaeria|Nitrososphaerales|Nitrososphaeraceae|Candidatus Nitrosocosmicus  \\\n",
       "sample_id site_id species V2                                                                                                                   \n",
       "CMB10     CMB     syriaca 0.999777121                                                0.0                                                       \n",
       "CMB11     CMB     syriaca 0.999999983                                                0.0                                                       \n",
       "CMB13     CMB     syriaca 0.989130596                                                0.0                                                       \n",
       "CMB14     CMB     syriaca 0.99999205                                                 0.0                                                       \n",
       "CMB15     CMB     syriaca 0.998547653                                                0.0                                                       \n",
       "\n",
       "genera                                Bacteria|Abditibacteriota|Abditibacteria|Abditibacteriales|Abitibacteriaceae|Abditibacterium  \\\n",
       "sample_id site_id species V2                                                                                                         \n",
       "CMB10     CMB     syriaca 0.999777121                                                0.0                                             \n",
       "CMB11     CMB     syriaca 0.999999983                                                0.0                                             \n",
       "CMB13     CMB     syriaca 0.989130596                                                0.0                                             \n",
       "CMB14     CMB     syriaca 0.99999205                                                 0.0                                             \n",
       "CMB15     CMB     syriaca 0.998547653                                                0.0                                             \n",
       "\n",
       "genera                                 ...  \\\n",
       "sample_id site_id species V2           ...   \n",
       "CMB10     CMB     syriaca 0.999777121  ...   \n",
       "CMB11     CMB     syriaca 0.999999983  ...   \n",
       "CMB13     CMB     syriaca 0.989130596  ...   \n",
       "CMB14     CMB     syriaca 0.99999205   ...   \n",
       "CMB15     CMB     syriaca 0.998547653  ...   \n",
       "\n",
       "genera                                Viruses|||Caudovirales|Siphoviridae|Np1virus  \\\n",
       "sample_id site_id species V2                                                         \n",
       "CMB10     CMB     syriaca 0.999777121                                          0.0   \n",
       "CMB11     CMB     syriaca 0.999999983                                          0.0   \n",
       "CMB13     CMB     syriaca 0.989130596                                          0.0   \n",
       "CMB14     CMB     syriaca 0.99999205                                           0.0   \n",
       "CMB15     CMB     syriaca 0.998547653                                          0.0   \n",
       "\n",
       "genera                                Viruses|||Caudovirales|Siphoviridae|Pa6virus  \\\n",
       "sample_id site_id species V2                                                         \n",
       "CMB10     CMB     syriaca 0.999777121                                          0.0   \n",
       "CMB11     CMB     syriaca 0.999999983                                          0.0   \n",
       "CMB13     CMB     syriaca 0.989130596                                          0.0   \n",
       "CMB14     CMB     syriaca 0.99999205                                           0.0   \n",
       "CMB15     CMB     syriaca 0.998547653                                          0.0   \n",
       "\n",
       "genera                                Viruses|||Caudovirales|Siphoviridae|Sextaecvirus  \\\n",
       "sample_id site_id species V2                                                             \n",
       "CMB10     CMB     syriaca 0.999777121                                              0.0   \n",
       "CMB11     CMB     syriaca 0.999999983                                              0.0   \n",
       "CMB13     CMB     syriaca 0.989130596                                              0.0   \n",
       "CMB14     CMB     syriaca 0.99999205                                               0.0   \n",
       "CMB15     CMB     syriaca 0.998547653                                              0.0   \n",
       "\n",
       "genera                                Viruses|||Caudovirales|Siphoviridae|Sk1virus  \\\n",
       "sample_id site_id species V2                                                         \n",
       "CMB10     CMB     syriaca 0.999777121                                          0.0   \n",
       "CMB11     CMB     syriaca 0.999999983                                          0.0   \n",
       "CMB13     CMB     syriaca 0.989130596                                          0.0   \n",
       "CMB14     CMB     syriaca 0.99999205                                           0.0   \n",
       "CMB15     CMB     syriaca 0.998547653                                          0.0   \n",
       "\n",
       "genera                                Viruses|||Herpesvirales|Herpesviridae|Varicellovirus  \\\n",
       "sample_id site_id species V2                                                                 \n",
       "CMB10     CMB     syriaca 0.999777121                                            0.33369     \n",
       "CMB11     CMB     syriaca 0.999999983                                            0.69867     \n",
       "CMB13     CMB     syriaca 0.989130596                                                0.0     \n",
       "CMB14     CMB     syriaca 0.99999205                                             0.81434     \n",
       "CMB15     CMB     syriaca 0.998547653                                             0.5256     \n",
       "\n",
       "genera                                Viruses||||Baculoviridae|Alphabaculovirus  \\\n",
       "sample_id site_id species V2                                                      \n",
       "CMB10     CMB     syriaca 0.999777121                                       0.0   \n",
       "CMB11     CMB     syriaca 0.999999983                                       0.0   \n",
       "CMB13     CMB     syriaca 0.989130596                                       0.0   \n",
       "CMB14     CMB     syriaca 0.99999205                                        0.0   \n",
       "CMB15     CMB     syriaca 0.998547653                                   0.01059   \n",
       "\n",
       "genera                                Viruses||||Baculoviridae|Betabaculovirus  \\\n",
       "sample_id site_id species V2                                                     \n",
       "CMB10     CMB     syriaca 0.999777121                                      0.0   \n",
       "CMB11     CMB     syriaca 0.999999983                                      0.0   \n",
       "CMB13     CMB     syriaca 0.989130596                                      0.0   \n",
       "CMB14     CMB     syriaca 0.99999205                                       0.0   \n",
       "CMB15     CMB     syriaca 0.998547653                                      0.0   \n",
       "\n",
       "genera                                Viruses||||Microviridae|Phix174microvirus  \\\n",
       "sample_id site_id species V2                                                      \n",
       "CMB10     CMB     syriaca 0.999777121                                   0.28122   \n",
       "CMB11     CMB     syriaca 0.999999983                                   0.56396   \n",
       "CMB13     CMB     syriaca 0.989130596                                       0.0   \n",
       "CMB14     CMB     syriaca 0.99999205                                    0.39777   \n",
       "CMB15     CMB     syriaca 0.998547653                                       0.0   \n",
       "\n",
       "genera                                Viruses||||Mimiviridae|Cafeteriavirus  \\\n",
       "sample_id site_id species V2                                                  \n",
       "CMB10     CMB     syriaca 0.999777121                                   0.0   \n",
       "CMB11     CMB     syriaca 0.999999983                                   0.0   \n",
       "CMB13     CMB     syriaca 0.989130596                                   0.0   \n",
       "CMB14     CMB     syriaca 0.99999205                                    0.0   \n",
       "CMB15     CMB     syriaca 0.998547653                                   0.0   \n",
       "\n",
       "genera                                Viruses||||Partitiviridae|Betapartitivirus  \n",
       "sample_id site_id species V2                                                      \n",
       "CMB10     CMB     syriaca 0.999777121                                        0.0  \n",
       "CMB11     CMB     syriaca 0.999999983                                        0.0  \n",
       "CMB13     CMB     syriaca 0.989130596                                        0.0  \n",
       "CMB14     CMB     syriaca 0.99999205                                         0.0  \n",
       "CMB15     CMB     syriaca 0.998547653                                        0.0  \n",
       "\n",
       "[5 rows x 1683 columns]"
      ]
     },
     "execution_count": 366,
     "metadata": {},
     "output_type": "execute_result"
    }
   ],
   "source": [
    "origin_pivoted_df.head()"
   ]
  },
  {
   "cell_type": "code",
   "execution_count": 367,
   "id": "97a15e10",
   "metadata": {},
   "outputs": [],
   "source": [
    "row_sum = origin_pivoted_df.sum(axis=1)"
   ]
  },
  {
   "cell_type": "code",
   "execution_count": 368,
   "id": "2b755daa",
   "metadata": {},
   "outputs": [],
   "source": [
    "origin_pivoted_df = origin_pivoted_df.reset_index()"
   ]
  },
  {
   "cell_type": "markdown",
   "id": "a42c4423",
   "metadata": {},
   "source": [
    "### Create Dataset with Values summing to 1 for each row"
   ]
  },
  {
   "cell_type": "code",
   "execution_count": 369,
   "id": "59c9ea50",
   "metadata": {},
   "outputs": [],
   "source": [
    "genera_col = origin_pivoted_df.columns\n",
    "genera_col = genera_col.drop(['sample_id','site_id', 'species', 'V2'])"
   ]
  },
  {
   "cell_type": "code",
   "execution_count": 370,
   "id": "00494d5d",
   "metadata": {},
   "outputs": [],
   "source": [
    "sub_pivot = origin_pivoted_df[genera_col].astype(float)"
   ]
  },
  {
   "cell_type": "code",
   "execution_count": 371,
   "id": "67a53d36",
   "metadata": {},
   "outputs": [],
   "source": [
    "for row in range(sub_pivot.shape[0]):\n",
    "    sub_pivot.loc[row] = sub_pivot.loc[row]/row_sum[row]"
   ]
  },
  {
   "cell_type": "code",
   "execution_count": 372,
   "id": "c9c357d0",
   "metadata": {},
   "outputs": [
    {
     "data": {
      "text/plain": [
       "0      1.0\n",
       "1      1.0\n",
       "2      1.0\n",
       "3      1.0\n",
       "4      1.0\n",
       "      ... \n",
       "160    1.0\n",
       "161    1.0\n",
       "162    1.0\n",
       "163    1.0\n",
       "164    1.0\n",
       "Length: 165, dtype: float64"
      ]
     },
     "execution_count": 372,
     "metadata": {},
     "output_type": "execute_result"
    }
   ],
   "source": [
    "new_sum = sub_pivot.sum(axis=1)\n",
    "new_sum"
   ]
  },
  {
   "cell_type": "code",
   "execution_count": 373,
   "id": "0339ddf3",
   "metadata": {},
   "outputs": [],
   "source": [
    "origin_pivoted_df[genera_col] = sub_pivot"
   ]
  },
  {
   "cell_type": "code",
   "execution_count": 374,
   "id": "b12d299f",
   "metadata": {},
   "outputs": [
    {
     "data": {
      "text/html": [
       "<div>\n",
       "<style scoped>\n",
       "    .dataframe tbody tr th:only-of-type {\n",
       "        vertical-align: middle;\n",
       "    }\n",
       "\n",
       "    .dataframe tbody tr th {\n",
       "        vertical-align: top;\n",
       "    }\n",
       "\n",
       "    .dataframe thead th {\n",
       "        text-align: right;\n",
       "    }\n",
       "</style>\n",
       "<table border=\"1\" class=\"dataframe\">\n",
       "  <thead>\n",
       "    <tr style=\"text-align: right;\">\n",
       "      <th>genera</th>\n",
       "      <th>sample_id</th>\n",
       "      <th>site_id</th>\n",
       "      <th>species</th>\n",
       "      <th>V2</th>\n",
       "      <th>Archaea|Euryarchaeota|Halobacteria|Halobacteriales|Haloarculaceae|Halapricum</th>\n",
       "      <th>Archaea|Euryarchaeota|Halobacteria|Halobacteriales|Halococcaceae|Halococcus</th>\n",
       "      <th>Archaea|Euryarchaeota|Halobacteria|Natrialbales|Natrialbaceae|Natrinema</th>\n",
       "      <th>Archaea|Euryarchaeota|Halobacteria|Natrialbales|Natrialbaceae|Natronococcus</th>\n",
       "      <th>Archaea|Euryarchaeota|Halobacteria|Natrialbales|Natrialbaceae|Saliphagus</th>\n",
       "      <th>Archaea|Euryarchaeota|Methanobacteria|Methanobacteriales|Methanobacteriaceae|Methanobacterium</th>\n",
       "      <th>...</th>\n",
       "      <th>Viruses|||Caudovirales|Siphoviridae|Np1virus</th>\n",
       "      <th>Viruses|||Caudovirales|Siphoviridae|Pa6virus</th>\n",
       "      <th>Viruses|||Caudovirales|Siphoviridae|Sextaecvirus</th>\n",
       "      <th>Viruses|||Caudovirales|Siphoviridae|Sk1virus</th>\n",
       "      <th>Viruses|||Herpesvirales|Herpesviridae|Varicellovirus</th>\n",
       "      <th>Viruses||||Baculoviridae|Alphabaculovirus</th>\n",
       "      <th>Viruses||||Baculoviridae|Betabaculovirus</th>\n",
       "      <th>Viruses||||Microviridae|Phix174microvirus</th>\n",
       "      <th>Viruses||||Mimiviridae|Cafeteriavirus</th>\n",
       "      <th>Viruses||||Partitiviridae|Betapartitivirus</th>\n",
       "    </tr>\n",
       "  </thead>\n",
       "  <tbody>\n",
       "    <tr>\n",
       "      <th>0</th>\n",
       "      <td>CMB10</td>\n",
       "      <td>CMB</td>\n",
       "      <td>syriaca</td>\n",
       "      <td>0.999777</td>\n",
       "      <td>0.000000</td>\n",
       "      <td>0.002321</td>\n",
       "      <td>0.0</td>\n",
       "      <td>0.0</td>\n",
       "      <td>0.000078</td>\n",
       "      <td>0.0</td>\n",
       "      <td>...</td>\n",
       "      <td>0.0</td>\n",
       "      <td>0.0</td>\n",
       "      <td>0.0</td>\n",
       "      <td>0.0</td>\n",
       "      <td>0.010126</td>\n",
       "      <td>0.000000</td>\n",
       "      <td>0.0</td>\n",
       "      <td>0.008534</td>\n",
       "      <td>0.0</td>\n",
       "      <td>0.0</td>\n",
       "    </tr>\n",
       "    <tr>\n",
       "      <th>1</th>\n",
       "      <td>CMB11</td>\n",
       "      <td>CMB</td>\n",
       "      <td>syriaca</td>\n",
       "      <td>1.000000</td>\n",
       "      <td>0.000000</td>\n",
       "      <td>0.002065</td>\n",
       "      <td>0.0</td>\n",
       "      <td>0.0</td>\n",
       "      <td>0.000077</td>\n",
       "      <td>0.0</td>\n",
       "      <td>...</td>\n",
       "      <td>0.0</td>\n",
       "      <td>0.0</td>\n",
       "      <td>0.0</td>\n",
       "      <td>0.0</td>\n",
       "      <td>0.020183</td>\n",
       "      <td>0.000000</td>\n",
       "      <td>0.0</td>\n",
       "      <td>0.016292</td>\n",
       "      <td>0.0</td>\n",
       "      <td>0.0</td>\n",
       "    </tr>\n",
       "    <tr>\n",
       "      <th>2</th>\n",
       "      <td>CMB13</td>\n",
       "      <td>CMB</td>\n",
       "      <td>syriaca</td>\n",
       "      <td>0.989131</td>\n",
       "      <td>0.000000</td>\n",
       "      <td>0.003318</td>\n",
       "      <td>0.0</td>\n",
       "      <td>0.0</td>\n",
       "      <td>0.000148</td>\n",
       "      <td>0.0</td>\n",
       "      <td>...</td>\n",
       "      <td>0.0</td>\n",
       "      <td>0.0</td>\n",
       "      <td>0.0</td>\n",
       "      <td>0.0</td>\n",
       "      <td>0.000000</td>\n",
       "      <td>0.000000</td>\n",
       "      <td>0.0</td>\n",
       "      <td>0.000000</td>\n",
       "      <td>0.0</td>\n",
       "      <td>0.0</td>\n",
       "    </tr>\n",
       "    <tr>\n",
       "      <th>3</th>\n",
       "      <td>CMB14</td>\n",
       "      <td>CMB</td>\n",
       "      <td>syriaca</td>\n",
       "      <td>0.999992</td>\n",
       "      <td>0.000000</td>\n",
       "      <td>0.004577</td>\n",
       "      <td>0.0</td>\n",
       "      <td>0.0</td>\n",
       "      <td>0.000119</td>\n",
       "      <td>0.0</td>\n",
       "      <td>...</td>\n",
       "      <td>0.0</td>\n",
       "      <td>0.0</td>\n",
       "      <td>0.0</td>\n",
       "      <td>0.0</td>\n",
       "      <td>0.029538</td>\n",
       "      <td>0.000000</td>\n",
       "      <td>0.0</td>\n",
       "      <td>0.014428</td>\n",
       "      <td>0.0</td>\n",
       "      <td>0.0</td>\n",
       "    </tr>\n",
       "    <tr>\n",
       "      <th>4</th>\n",
       "      <td>CMB15</td>\n",
       "      <td>CMB</td>\n",
       "      <td>syriaca</td>\n",
       "      <td>0.998548</td>\n",
       "      <td>0.000963</td>\n",
       "      <td>0.002829</td>\n",
       "      <td>0.0</td>\n",
       "      <td>0.0</td>\n",
       "      <td>0.000000</td>\n",
       "      <td>0.0</td>\n",
       "      <td>...</td>\n",
       "      <td>0.0</td>\n",
       "      <td>0.0</td>\n",
       "      <td>0.0</td>\n",
       "      <td>0.0</td>\n",
       "      <td>0.016913</td>\n",
       "      <td>0.000341</td>\n",
       "      <td>0.0</td>\n",
       "      <td>0.000000</td>\n",
       "      <td>0.0</td>\n",
       "      <td>0.0</td>\n",
       "    </tr>\n",
       "  </tbody>\n",
       "</table>\n",
       "<p>5 rows × 1687 columns</p>\n",
       "</div>"
      ],
      "text/plain": [
       "genera sample_id site_id  species        V2  \\\n",
       "0          CMB10     CMB  syriaca  0.999777   \n",
       "1          CMB11     CMB  syriaca  1.000000   \n",
       "2          CMB13     CMB  syriaca  0.989131   \n",
       "3          CMB14     CMB  syriaca  0.999992   \n",
       "4          CMB15     CMB  syriaca  0.998548   \n",
       "\n",
       "genera  Archaea|Euryarchaeota|Halobacteria|Halobacteriales|Haloarculaceae|Halapricum  \\\n",
       "0                                                0.000000                              \n",
       "1                                                0.000000                              \n",
       "2                                                0.000000                              \n",
       "3                                                0.000000                              \n",
       "4                                                0.000963                              \n",
       "\n",
       "genera  Archaea|Euryarchaeota|Halobacteria|Halobacteriales|Halococcaceae|Halococcus  \\\n",
       "0                                                0.002321                             \n",
       "1                                                0.002065                             \n",
       "2                                                0.003318                             \n",
       "3                                                0.004577                             \n",
       "4                                                0.002829                             \n",
       "\n",
       "genera  Archaea|Euryarchaeota|Halobacteria|Natrialbales|Natrialbaceae|Natrinema  \\\n",
       "0                                                     0.0                         \n",
       "1                                                     0.0                         \n",
       "2                                                     0.0                         \n",
       "3                                                     0.0                         \n",
       "4                                                     0.0                         \n",
       "\n",
       "genera  Archaea|Euryarchaeota|Halobacteria|Natrialbales|Natrialbaceae|Natronococcus  \\\n",
       "0                                                     0.0                             \n",
       "1                                                     0.0                             \n",
       "2                                                     0.0                             \n",
       "3                                                     0.0                             \n",
       "4                                                     0.0                             \n",
       "\n",
       "genera  Archaea|Euryarchaeota|Halobacteria|Natrialbales|Natrialbaceae|Saliphagus  \\\n",
       "0                                                0.000078                          \n",
       "1                                                0.000077                          \n",
       "2                                                0.000148                          \n",
       "3                                                0.000119                          \n",
       "4                                                0.000000                          \n",
       "\n",
       "genera  Archaea|Euryarchaeota|Methanobacteria|Methanobacteriales|Methanobacteriaceae|Methanobacterium  \\\n",
       "0                                                     0.0                                               \n",
       "1                                                     0.0                                               \n",
       "2                                                     0.0                                               \n",
       "3                                                     0.0                                               \n",
       "4                                                     0.0                                               \n",
       "\n",
       "genera  ...  Viruses|||Caudovirales|Siphoviridae|Np1virus  \\\n",
       "0       ...                                           0.0   \n",
       "1       ...                                           0.0   \n",
       "2       ...                                           0.0   \n",
       "3       ...                                           0.0   \n",
       "4       ...                                           0.0   \n",
       "\n",
       "genera  Viruses|||Caudovirales|Siphoviridae|Pa6virus  \\\n",
       "0                                                0.0   \n",
       "1                                                0.0   \n",
       "2                                                0.0   \n",
       "3                                                0.0   \n",
       "4                                                0.0   \n",
       "\n",
       "genera  Viruses|||Caudovirales|Siphoviridae|Sextaecvirus  \\\n",
       "0                                                    0.0   \n",
       "1                                                    0.0   \n",
       "2                                                    0.0   \n",
       "3                                                    0.0   \n",
       "4                                                    0.0   \n",
       "\n",
       "genera  Viruses|||Caudovirales|Siphoviridae|Sk1virus  \\\n",
       "0                                                0.0   \n",
       "1                                                0.0   \n",
       "2                                                0.0   \n",
       "3                                                0.0   \n",
       "4                                                0.0   \n",
       "\n",
       "genera  Viruses|||Herpesvirales|Herpesviridae|Varicellovirus  \\\n",
       "0                                                0.010126      \n",
       "1                                                0.020183      \n",
       "2                                                0.000000      \n",
       "3                                                0.029538      \n",
       "4                                                0.016913      \n",
       "\n",
       "genera  Viruses||||Baculoviridae|Alphabaculovirus  \\\n",
       "0                                        0.000000   \n",
       "1                                        0.000000   \n",
       "2                                        0.000000   \n",
       "3                                        0.000000   \n",
       "4                                        0.000341   \n",
       "\n",
       "genera  Viruses||||Baculoviridae|Betabaculovirus  \\\n",
       "0                                            0.0   \n",
       "1                                            0.0   \n",
       "2                                            0.0   \n",
       "3                                            0.0   \n",
       "4                                            0.0   \n",
       "\n",
       "genera  Viruses||||Microviridae|Phix174microvirus  \\\n",
       "0                                        0.008534   \n",
       "1                                        0.016292   \n",
       "2                                        0.000000   \n",
       "3                                        0.014428   \n",
       "4                                        0.000000   \n",
       "\n",
       "genera  Viruses||||Mimiviridae|Cafeteriavirus  \\\n",
       "0                                         0.0   \n",
       "1                                         0.0   \n",
       "2                                         0.0   \n",
       "3                                         0.0   \n",
       "4                                         0.0   \n",
       "\n",
       "genera  Viruses||||Partitiviridae|Betapartitivirus  \n",
       "0                                              0.0  \n",
       "1                                              0.0  \n",
       "2                                              0.0  \n",
       "3                                              0.0  \n",
       "4                                              0.0  \n",
       "\n",
       "[5 rows x 1687 columns]"
      ]
     },
     "execution_count": 374,
     "metadata": {},
     "output_type": "execute_result"
    }
   ],
   "source": [
    "origin_pivoted_df.head()"
   ]
  },
  {
   "cell_type": "code",
   "execution_count": 375,
   "id": "38e1b206",
   "metadata": {},
   "outputs": [
    {
     "name": "stdout",
     "output_type": "stream",
     "text": [
      "0      1.0\n",
      "1      1.0\n",
      "2      1.0\n",
      "3      1.0\n",
      "4      1.0\n",
      "      ... \n",
      "160    1.0\n",
      "161    1.0\n",
      "162    1.0\n",
      "163    1.0\n",
      "164    1.0\n",
      "Length: 165, dtype: float64\n"
     ]
    }
   ],
   "source": [
    "row_sum = origin_pivoted_df[genera_col].sum(axis=1)\n",
    "print(row_sum)"
   ]
  },
  {
   "cell_type": "markdown",
   "id": "f2fb86f7",
   "metadata": {},
   "source": [
    "### Without further modification PCA by Site"
   ]
  },
  {
   "cell_type": "code",
   "execution_count": 376,
   "id": "8931f3e3",
   "metadata": {},
   "outputs": [],
   "source": [
    "pivoted_df = origin_pivoted_df"
   ]
  },
  {
   "cell_type": "code",
   "execution_count": 377,
   "id": "5934ff54",
   "metadata": {},
   "outputs": [
    {
     "data": {
      "application/vnd.plotly.v1+json": {
       "config": {
        "plotlyServerURL": "https://plot.ly"
       },
       "data": [
        {
         "hovertemplate": "color=CMB<br>0=%{x}<br>1=%{y}<extra></extra>",
         "legendgroup": "CMB",
         "marker": {
          "color": "#636efa",
          "symbol": "circle"
         },
         "mode": "markers",
         "name": "CMB",
         "orientation": "v",
         "showlegend": true,
         "type": "scatter",
         "x": [
          0.08078289119390177,
          0.05863243230871187,
          0.07182117960569503,
          0.040304404077907564,
          -0.10066180403559208,
          -0.02672690596934389,
          -0.054349690245226685,
          0.025111395352256958,
          -0.07784085030080708,
          -0.13202446566693324,
          0.08450385136008881,
          -0.06945369276191161,
          0.06928515082547022,
          0.03877709751713346,
          0.016423614096980836,
          -0.004234347365642616,
          0.11611702901940156,
          0.04175340487652961,
          0.13339181562400432,
          -0.03814575365887044
         ],
         "xaxis": "x",
         "y": [
          0.01869665851586228,
          0.011900753965739082,
          0.022186800210186645,
          -0.0024055215527143767,
          0.16864913967630094,
          -0.01706691093288326,
          0.16256126678153315,
          0.03738061884861626,
          0.08366245695324605,
          0.11915267773750032,
          0.026518831869577264,
          -0.01863663898144351,
          -0.010530133458312533,
          0.02755151109357967,
          0.055428885523343914,
          -0.012489334992166678,
          0.03832010799106212,
          0.003677430995218502,
          0.019419775513543278,
          0.03471761592662312
         ],
         "yaxis": "y"
        },
        {
         "hovertemplate": "color=FRW<br>0=%{x}<br>1=%{y}<extra></extra>",
         "legendgroup": "FRW",
         "marker": {
          "color": "#EF553B",
          "symbol": "circle"
         },
         "mode": "markers",
         "name": "FRW",
         "orientation": "v",
         "showlegend": true,
         "type": "scatter",
         "x": [
          -0.03730464578850815,
          -0.01049875445702642,
          -0.007420064784823697,
          0.041515534033191,
          0.05436119708657081,
          -0.05309335366359798,
          0.060448008881284716,
          -0.041905843727374666,
          -0.0077398275896548305,
          0.05832558264316504,
          -0.025940193832521045
         ],
         "xaxis": "x",
         "y": [
          -0.05281766406062988,
          -0.03829127155609464,
          -0.021569756453795948,
          -0.02182661911038681,
          -0.010172409295701595,
          -0.00288500411634711,
          -0.0006980416099414741,
          -0.04194118364754601,
          -0.036269286017586,
          -0.0011750711169464662,
          -0.044732299469488826
         ],
         "yaxis": "y"
        },
        {
         "hovertemplate": "color=HR<br>0=%{x}<br>1=%{y}<extra></extra>",
         "legendgroup": "HR",
         "marker": {
          "color": "#00cc96",
          "symbol": "circle"
         },
         "mode": "markers",
         "name": "HR",
         "orientation": "v",
         "showlegend": true,
         "type": "scatter",
         "x": [
          0.039843732774522786,
          0.06209891887124049,
          0.04843155166561189,
          0.03056163567395069,
          0.05486387362214803,
          -0.04832265089043673
         ],
         "xaxis": "x",
         "y": [
          -0.017247410928425203,
          -1.3101011485622827e-05,
          -0.003945714315428249,
          0.0068505340534904535,
          0.0001473647125275475,
          -0.004589658279706853
         ],
         "yaxis": "y"
        },
        {
         "hovertemplate": "color=LFS<br>0=%{x}<br>1=%{y}<extra></extra>",
         "legendgroup": "LFS",
         "marker": {
          "color": "#ab63fa",
          "symbol": "circle"
         },
         "mode": "markers",
         "name": "LFS",
         "orientation": "v",
         "showlegend": true,
         "type": "scatter",
         "x": [
          0.04395650925517105,
          0.0016676444636595988,
          -0.021466528401331685,
          0.06995153368404546,
          -0.02793691129244991,
          -0.04241416453294916,
          0.0881344661449647,
          -0.005782062223510047,
          0.08288196915043129,
          -0.03576968870424176,
          -0.028522952425934806,
          -0.005225103806986089,
          0.04682564666335213,
          -0.03106295833974793
         ],
         "xaxis": "x",
         "y": [
          -0.0062826972652075055,
          0.038506928384486036,
          0.027260582626357152,
          0.016761622658844098,
          0.05070758140372257,
          0.13298645674918647,
          0.0405685848117969,
          -0.032971286356259635,
          0.020021427180888545,
          0.01563408503861787,
          0.0011751936662675233,
          0.021785504172890328,
          0.018092040183619748,
          0.06457561664360706
         ],
         "yaxis": "y"
        },
        {
         "hovertemplate": "color=LM<br>0=%{x}<br>1=%{y}<extra></extra>",
         "legendgroup": "LM",
         "marker": {
          "color": "#FFA15A",
          "symbol": "circle"
         },
         "mode": "markers",
         "name": "LM",
         "orientation": "v",
         "showlegend": true,
         "type": "scatter",
         "x": [
          0.00650272390297753,
          0.014922165699302393,
          -0.04276597064650535,
          0.011995850501790088,
          -0.015377188744788148,
          -0.01447756103547697,
          -0.007958378197095738,
          -0.041763608508509895,
          -0.00777101796102567,
          -0.08398903046330303,
          -0.006656189356471736,
          -0.059222075581407047,
          -0.008753579834599035,
          -0.02121956223731928,
          -0.022913252829805383,
          -0.003430742317398018,
          0.01281777281239696,
          -0.033001083073728656,
          0.017782142729604256,
          0.03951269045932172
         ],
         "xaxis": "x",
         "y": [
          -0.03156290421123188,
          -0.030126015249060147,
          -0.012264011596567634,
          0.004677343917199831,
          0.0042438644883873245,
          0.017098771945654956,
          0.026438717171947745,
          -0.0334918150554397,
          -0.02012539596494421,
          -0.035755415193975654,
          -0.036446431928367495,
          -0.023636455975848625,
          -0.03717864224209256,
          -0.004850752687610176,
          -0.014150199765743282,
          0.027603896035707263,
          0.0028049265589027736,
          -0.049572599123494133,
          -0.030570609898888556,
          0.008678266044120184
         ],
         "yaxis": "y"
        },
        {
         "hovertemplate": "color=MKP<br>0=%{x}<br>1=%{y}<extra></extra>",
         "legendgroup": "MKP",
         "marker": {
          "color": "#19d3f3",
          "symbol": "circle"
         },
         "mode": "markers",
         "name": "MKP",
         "orientation": "v",
         "showlegend": true,
         "type": "scatter",
         "x": [
          -0.019050591742217026,
          0.023437859825085103,
          -0.08177710233395002,
          0.04822069402159135,
          0.01490111489753244,
          -0.024023114683856865,
          0.042713664054850345,
          -0.09510301909723118
         ],
         "xaxis": "x",
         "y": [
          -0.004707692821465659,
          0.03593355734526295,
          0.03393885580585814,
          0.021722301943472515,
          0.001974518404176757,
          0.03946444211809609,
          0.0039801654608119155,
          0.005601727827479987
         ],
         "yaxis": "y"
        },
        {
         "hovertemplate": "color=MMP<br>0=%{x}<br>1=%{y}<extra></extra>",
         "legendgroup": "MMP",
         "marker": {
          "color": "#FF6692",
          "symbol": "circle"
         },
         "mode": "markers",
         "name": "MMP",
         "orientation": "v",
         "showlegend": true,
         "type": "scatter",
         "x": [
          -0.0437154118683015,
          -0.009551589678134905,
          0.03457732960031797,
          -0.03018625401594929,
          0.03376523347172096,
          -0.019243101061520197,
          -0.06342710134572653,
          -0.06460652067929573,
          -0.04833772080559115,
          0.03928425454494415,
          -0.10978013522823529,
          0.1116266815699687,
          -0.03159325334252925,
          -0.018192433617559588,
          -0.006674190680513862,
          0.03420523378973813,
          -0.0024589065147269345,
          -0.02866789744493422,
          0.030361307683715585
         ],
         "xaxis": "x",
         "y": [
          -0.05919620946648615,
          -0.02430302454754865,
          0.014124217819346729,
          -0.03753166612623492,
          -0.008772261888589986,
          -0.031084358772529457,
          -0.033222820087347005,
          -0.03650682215213104,
          0.0465892101418299,
          0.040285333765631925,
          -0.030130321455194446,
          0.009112410410591196,
          0.007941703225498127,
          -0.052342978938895966,
          -0.029605150383433667,
          0.03787663739265856,
          -0.034579058863040545,
          -0.03681303348071553,
          -0.01639649770484822
         ],
         "yaxis": "y"
        },
        {
         "hovertemplate": "color=PNR<br>0=%{x}<br>1=%{y}<extra></extra>",
         "legendgroup": "PNR",
         "marker": {
          "color": "#B6E880",
          "symbol": "circle"
         },
         "mode": "markers",
         "name": "PNR",
         "orientation": "v",
         "showlegend": true,
         "type": "scatter",
         "x": [
          0.0016294571037251656,
          -0.05990329735456945,
          -0.06291648644946901
         ],
         "xaxis": "x",
         "y": [
          -0.02063706317575135,
          0.018653378678497902,
          -0.019851513527484543
         ],
         "yaxis": "y"
        },
        {
         "hovertemplate": "color=PTW<br>0=%{x}<br>1=%{y}<extra></extra>",
         "legendgroup": "PTW",
         "marker": {
          "color": "#FF97FF",
          "symbol": "circle"
         },
         "mode": "markers",
         "name": "PTW",
         "orientation": "v",
         "showlegend": true,
         "type": "scatter",
         "x": [
          0.07036648178644589,
          -0.0493528623682403,
          0.024398666008902333,
          -0.059218833799848415,
          -0.0008620331348875904,
          -0.08221080277117059,
          -0.038420624322273715,
          -0.002542079578894825,
          0.0381579920802813,
          -0.0019596789415792597
         ],
         "xaxis": "x",
         "y": [
          0.018270577408033013,
          -0.0028975508784072376,
          0.018963271816348753,
          0.02145372580628846,
          0.0248126376687197,
          0.02080959650629509,
          0.019887010333506195,
          0.03030413273435688,
          0.021863305867454802,
          0.018838627763620816
         ],
         "yaxis": "y"
        },
        {
         "hovertemplate": "color=RF<br>0=%{x}<br>1=%{y}<extra></extra>",
         "legendgroup": "RF",
         "marker": {
          "color": "#FECB52",
          "symbol": "circle"
         },
         "mode": "markers",
         "name": "RF",
         "orientation": "v",
         "showlegend": true,
         "type": "scatter",
         "x": [
          -0.03064950917764705,
          0.10148253189884185,
          0.0144696103606768,
          -0.04466024095763723,
          -0.014442302862273527,
          -0.04465954284697389,
          0.02414410857725315,
          0.05017179752925635,
          0.050811513209426576,
          0.05882084195872642,
          -0.07169770069818918
         ],
         "xaxis": "x",
         "y": [
          -0.019046679289864425,
          0.0021785386483678163,
          0.01373928242815174,
          0.006049998924912342,
          0.006120147587358586,
          -0.04477531389901762,
          -0.015345755917565325,
          0.00012866045612417145,
          0.031115825474319715,
          0.01943290147371059,
          -0.013170868880994094
         ],
         "yaxis": "y"
        },
        {
         "hovertemplate": "color=RGT<br>0=%{x}<br>1=%{y}<extra></extra>",
         "legendgroup": "RGT",
         "marker": {
          "color": "#636efa",
          "symbol": "circle"
         },
         "mode": "markers",
         "name": "RGT",
         "orientation": "v",
         "showlegend": true,
         "type": "scatter",
         "x": [
          -0.052009428989407844,
          -0.03977796522312824,
          -0.03516506275108018,
          0.01137951448485827,
          0.03627594020340499,
          -0.0074586754853513924,
          0.03815803998063845
         ],
         "xaxis": "x",
         "y": [
          -0.04337925960931039,
          -0.028816119354260053,
          -0.006262959851290382,
          -0.03610446568473627,
          -0.017175158457228237,
          -0.03922994844006955,
          -0.018521924344592555
         ],
         "yaxis": "y"
        },
        {
         "hovertemplate": "color=RRL<br>0=%{x}<br>1=%{y}<extra></extra>",
         "legendgroup": "RRL",
         "marker": {
          "color": "#EF553B",
          "symbol": "circle"
         },
         "mode": "markers",
         "name": "RRL",
         "orientation": "v",
         "showlegend": true,
         "type": "scatter",
         "x": [
          0.009394945652777415,
          0.044338944207437565,
          0.0513303951951795,
          -0.0018804550243119137,
          0.06372641302687823,
          0.026539649406019758,
          0.01773893387476416,
          0.024704582810546785,
          0.08838682019079523,
          -0.04362789804934458,
          0.004751122557038745,
          -0.026236675076447776,
          0.06742241892764686,
          0.08101552118894738,
          0.04075428489235638,
          0.015627548034325374,
          0.015375411126026084,
          -0.031018313084296992,
          -0.09550721058142933
         ],
         "xaxis": "x",
         "y": [
          -0.01917699055319157,
          -0.013984420393281977,
          -0.0030819836754523862,
          0.0007361847468867523,
          -0.011767690966882006,
          -0.0024724022685451577,
          -0.03548626726829446,
          -0.013176119272737492,
          -0.01073561573790018,
          -0.04039000601941258,
          -0.02603333266666154,
          -0.02427988615511389,
          -0.005162124473489853,
          0.0008989826464863372,
          -0.023994147757325376,
          -0.03052154259212588,
          0.0033019577695258683,
          -0.03968578558928292,
          -0.008160563243430067
         ],
         "yaxis": "y"
        },
        {
         "hovertemplate": "color=SLG<br>0=%{x}<br>1=%{y}<extra></extra>",
         "legendgroup": "SLG",
         "marker": {
          "color": "#00cc96",
          "symbol": "circle"
         },
         "mode": "markers",
         "name": "SLG",
         "orientation": "v",
         "showlegend": true,
         "type": "scatter",
         "x": [
          0.01170982422697565,
          -0.03187222107824012,
          -0.024623502050090874,
          -0.031285083546442126,
          -0.0038135502196555123,
          -0.04656389749109695,
          -0.026564107705166748,
          -0.027030815016920427,
          0.04160533703305073,
          0.005249644586003712,
          0.03658844357388441,
          -0.019958134991667608,
          -0.06841176895542402,
          -0.014193009999317701,
          0.015469360698338406,
          -0.02612229559687787,
          -0.04324802085519764
         ],
         "xaxis": "x",
         "y": [
          -0.011084174531184857,
          -0.007393135793186451,
          -0.004098753988676547,
          -0.036709512191100156,
          -0.014961262958663223,
          -0.026723830715876636,
          0.06585271392129292,
          -0.02116003306865555,
          -0.003700377185552767,
          -0.03174591868477045,
          0.008143652506337857,
          0.00778058147536505,
          -0.03026122354428444,
          -0.015651712106425318,
          -0.01358195385018505,
          0.018115441633670945,
          -0.028564547314018675
         ],
         "yaxis": "y"
        }
       ],
       "layout": {
        "legend": {
         "title": {
          "text": "color"
         },
         "tracegroupgap": 0
        },
        "margin": {
         "t": 60
        },
        "template": {
         "data": {
          "bar": [
           {
            "error_x": {
             "color": "#2a3f5f"
            },
            "error_y": {
             "color": "#2a3f5f"
            },
            "marker": {
             "line": {
              "color": "#E5ECF6",
              "width": 0.5
             },
             "pattern": {
              "fillmode": "overlay",
              "size": 10,
              "solidity": 0.2
             }
            },
            "type": "bar"
           }
          ],
          "barpolar": [
           {
            "marker": {
             "line": {
              "color": "#E5ECF6",
              "width": 0.5
             },
             "pattern": {
              "fillmode": "overlay",
              "size": 10,
              "solidity": 0.2
             }
            },
            "type": "barpolar"
           }
          ],
          "carpet": [
           {
            "aaxis": {
             "endlinecolor": "#2a3f5f",
             "gridcolor": "white",
             "linecolor": "white",
             "minorgridcolor": "white",
             "startlinecolor": "#2a3f5f"
            },
            "baxis": {
             "endlinecolor": "#2a3f5f",
             "gridcolor": "white",
             "linecolor": "white",
             "minorgridcolor": "white",
             "startlinecolor": "#2a3f5f"
            },
            "type": "carpet"
           }
          ],
          "choropleth": [
           {
            "colorbar": {
             "outlinewidth": 0,
             "ticks": ""
            },
            "type": "choropleth"
           }
          ],
          "contour": [
           {
            "colorbar": {
             "outlinewidth": 0,
             "ticks": ""
            },
            "colorscale": [
             [
              0,
              "#0d0887"
             ],
             [
              0.1111111111111111,
              "#46039f"
             ],
             [
              0.2222222222222222,
              "#7201a8"
             ],
             [
              0.3333333333333333,
              "#9c179e"
             ],
             [
              0.4444444444444444,
              "#bd3786"
             ],
             [
              0.5555555555555556,
              "#d8576b"
             ],
             [
              0.6666666666666666,
              "#ed7953"
             ],
             [
              0.7777777777777778,
              "#fb9f3a"
             ],
             [
              0.8888888888888888,
              "#fdca26"
             ],
             [
              1,
              "#f0f921"
             ]
            ],
            "type": "contour"
           }
          ],
          "contourcarpet": [
           {
            "colorbar": {
             "outlinewidth": 0,
             "ticks": ""
            },
            "type": "contourcarpet"
           }
          ],
          "heatmap": [
           {
            "colorbar": {
             "outlinewidth": 0,
             "ticks": ""
            },
            "colorscale": [
             [
              0,
              "#0d0887"
             ],
             [
              0.1111111111111111,
              "#46039f"
             ],
             [
              0.2222222222222222,
              "#7201a8"
             ],
             [
              0.3333333333333333,
              "#9c179e"
             ],
             [
              0.4444444444444444,
              "#bd3786"
             ],
             [
              0.5555555555555556,
              "#d8576b"
             ],
             [
              0.6666666666666666,
              "#ed7953"
             ],
             [
              0.7777777777777778,
              "#fb9f3a"
             ],
             [
              0.8888888888888888,
              "#fdca26"
             ],
             [
              1,
              "#f0f921"
             ]
            ],
            "type": "heatmap"
           }
          ],
          "heatmapgl": [
           {
            "colorbar": {
             "outlinewidth": 0,
             "ticks": ""
            },
            "colorscale": [
             [
              0,
              "#0d0887"
             ],
             [
              0.1111111111111111,
              "#46039f"
             ],
             [
              0.2222222222222222,
              "#7201a8"
             ],
             [
              0.3333333333333333,
              "#9c179e"
             ],
             [
              0.4444444444444444,
              "#bd3786"
             ],
             [
              0.5555555555555556,
              "#d8576b"
             ],
             [
              0.6666666666666666,
              "#ed7953"
             ],
             [
              0.7777777777777778,
              "#fb9f3a"
             ],
             [
              0.8888888888888888,
              "#fdca26"
             ],
             [
              1,
              "#f0f921"
             ]
            ],
            "type": "heatmapgl"
           }
          ],
          "histogram": [
           {
            "marker": {
             "pattern": {
              "fillmode": "overlay",
              "size": 10,
              "solidity": 0.2
             }
            },
            "type": "histogram"
           }
          ],
          "histogram2d": [
           {
            "colorbar": {
             "outlinewidth": 0,
             "ticks": ""
            },
            "colorscale": [
             [
              0,
              "#0d0887"
             ],
             [
              0.1111111111111111,
              "#46039f"
             ],
             [
              0.2222222222222222,
              "#7201a8"
             ],
             [
              0.3333333333333333,
              "#9c179e"
             ],
             [
              0.4444444444444444,
              "#bd3786"
             ],
             [
              0.5555555555555556,
              "#d8576b"
             ],
             [
              0.6666666666666666,
              "#ed7953"
             ],
             [
              0.7777777777777778,
              "#fb9f3a"
             ],
             [
              0.8888888888888888,
              "#fdca26"
             ],
             [
              1,
              "#f0f921"
             ]
            ],
            "type": "histogram2d"
           }
          ],
          "histogram2dcontour": [
           {
            "colorbar": {
             "outlinewidth": 0,
             "ticks": ""
            },
            "colorscale": [
             [
              0,
              "#0d0887"
             ],
             [
              0.1111111111111111,
              "#46039f"
             ],
             [
              0.2222222222222222,
              "#7201a8"
             ],
             [
              0.3333333333333333,
              "#9c179e"
             ],
             [
              0.4444444444444444,
              "#bd3786"
             ],
             [
              0.5555555555555556,
              "#d8576b"
             ],
             [
              0.6666666666666666,
              "#ed7953"
             ],
             [
              0.7777777777777778,
              "#fb9f3a"
             ],
             [
              0.8888888888888888,
              "#fdca26"
             ],
             [
              1,
              "#f0f921"
             ]
            ],
            "type": "histogram2dcontour"
           }
          ],
          "mesh3d": [
           {
            "colorbar": {
             "outlinewidth": 0,
             "ticks": ""
            },
            "type": "mesh3d"
           }
          ],
          "parcoords": [
           {
            "line": {
             "colorbar": {
              "outlinewidth": 0,
              "ticks": ""
             }
            },
            "type": "parcoords"
           }
          ],
          "pie": [
           {
            "automargin": true,
            "type": "pie"
           }
          ],
          "scatter": [
           {
            "fillpattern": {
             "fillmode": "overlay",
             "size": 10,
             "solidity": 0.2
            },
            "type": "scatter"
           }
          ],
          "scatter3d": [
           {
            "line": {
             "colorbar": {
              "outlinewidth": 0,
              "ticks": ""
             }
            },
            "marker": {
             "colorbar": {
              "outlinewidth": 0,
              "ticks": ""
             }
            },
            "type": "scatter3d"
           }
          ],
          "scattercarpet": [
           {
            "marker": {
             "colorbar": {
              "outlinewidth": 0,
              "ticks": ""
             }
            },
            "type": "scattercarpet"
           }
          ],
          "scattergeo": [
           {
            "marker": {
             "colorbar": {
              "outlinewidth": 0,
              "ticks": ""
             }
            },
            "type": "scattergeo"
           }
          ],
          "scattergl": [
           {
            "marker": {
             "colorbar": {
              "outlinewidth": 0,
              "ticks": ""
             }
            },
            "type": "scattergl"
           }
          ],
          "scattermapbox": [
           {
            "marker": {
             "colorbar": {
              "outlinewidth": 0,
              "ticks": ""
             }
            },
            "type": "scattermapbox"
           }
          ],
          "scatterpolar": [
           {
            "marker": {
             "colorbar": {
              "outlinewidth": 0,
              "ticks": ""
             }
            },
            "type": "scatterpolar"
           }
          ],
          "scatterpolargl": [
           {
            "marker": {
             "colorbar": {
              "outlinewidth": 0,
              "ticks": ""
             }
            },
            "type": "scatterpolargl"
           }
          ],
          "scatterternary": [
           {
            "marker": {
             "colorbar": {
              "outlinewidth": 0,
              "ticks": ""
             }
            },
            "type": "scatterternary"
           }
          ],
          "surface": [
           {
            "colorbar": {
             "outlinewidth": 0,
             "ticks": ""
            },
            "colorscale": [
             [
              0,
              "#0d0887"
             ],
             [
              0.1111111111111111,
              "#46039f"
             ],
             [
              0.2222222222222222,
              "#7201a8"
             ],
             [
              0.3333333333333333,
              "#9c179e"
             ],
             [
              0.4444444444444444,
              "#bd3786"
             ],
             [
              0.5555555555555556,
              "#d8576b"
             ],
             [
              0.6666666666666666,
              "#ed7953"
             ],
             [
              0.7777777777777778,
              "#fb9f3a"
             ],
             [
              0.8888888888888888,
              "#fdca26"
             ],
             [
              1,
              "#f0f921"
             ]
            ],
            "type": "surface"
           }
          ],
          "table": [
           {
            "cells": {
             "fill": {
              "color": "#EBF0F8"
             },
             "line": {
              "color": "white"
             }
            },
            "header": {
             "fill": {
              "color": "#C8D4E3"
             },
             "line": {
              "color": "white"
             }
            },
            "type": "table"
           }
          ]
         },
         "layout": {
          "annotationdefaults": {
           "arrowcolor": "#2a3f5f",
           "arrowhead": 0,
           "arrowwidth": 1
          },
          "autotypenumbers": "strict",
          "coloraxis": {
           "colorbar": {
            "outlinewidth": 0,
            "ticks": ""
           }
          },
          "colorscale": {
           "diverging": [
            [
             0,
             "#8e0152"
            ],
            [
             0.1,
             "#c51b7d"
            ],
            [
             0.2,
             "#de77ae"
            ],
            [
             0.3,
             "#f1b6da"
            ],
            [
             0.4,
             "#fde0ef"
            ],
            [
             0.5,
             "#f7f7f7"
            ],
            [
             0.6,
             "#e6f5d0"
            ],
            [
             0.7,
             "#b8e186"
            ],
            [
             0.8,
             "#7fbc41"
            ],
            [
             0.9,
             "#4d9221"
            ],
            [
             1,
             "#276419"
            ]
           ],
           "sequential": [
            [
             0,
             "#0d0887"
            ],
            [
             0.1111111111111111,
             "#46039f"
            ],
            [
             0.2222222222222222,
             "#7201a8"
            ],
            [
             0.3333333333333333,
             "#9c179e"
            ],
            [
             0.4444444444444444,
             "#bd3786"
            ],
            [
             0.5555555555555556,
             "#d8576b"
            ],
            [
             0.6666666666666666,
             "#ed7953"
            ],
            [
             0.7777777777777778,
             "#fb9f3a"
            ],
            [
             0.8888888888888888,
             "#fdca26"
            ],
            [
             1,
             "#f0f921"
            ]
           ],
           "sequentialminus": [
            [
             0,
             "#0d0887"
            ],
            [
             0.1111111111111111,
             "#46039f"
            ],
            [
             0.2222222222222222,
             "#7201a8"
            ],
            [
             0.3333333333333333,
             "#9c179e"
            ],
            [
             0.4444444444444444,
             "#bd3786"
            ],
            [
             0.5555555555555556,
             "#d8576b"
            ],
            [
             0.6666666666666666,
             "#ed7953"
            ],
            [
             0.7777777777777778,
             "#fb9f3a"
            ],
            [
             0.8888888888888888,
             "#fdca26"
            ],
            [
             1,
             "#f0f921"
            ]
           ]
          },
          "colorway": [
           "#636efa",
           "#EF553B",
           "#00cc96",
           "#ab63fa",
           "#FFA15A",
           "#19d3f3",
           "#FF6692",
           "#B6E880",
           "#FF97FF",
           "#FECB52"
          ],
          "font": {
           "color": "#2a3f5f"
          },
          "geo": {
           "bgcolor": "white",
           "lakecolor": "white",
           "landcolor": "#E5ECF6",
           "showlakes": true,
           "showland": true,
           "subunitcolor": "white"
          },
          "hoverlabel": {
           "align": "left"
          },
          "hovermode": "closest",
          "mapbox": {
           "style": "light"
          },
          "paper_bgcolor": "white",
          "plot_bgcolor": "#E5ECF6",
          "polar": {
           "angularaxis": {
            "gridcolor": "white",
            "linecolor": "white",
            "ticks": ""
           },
           "bgcolor": "#E5ECF6",
           "radialaxis": {
            "gridcolor": "white",
            "linecolor": "white",
            "ticks": ""
           }
          },
          "scene": {
           "xaxis": {
            "backgroundcolor": "#E5ECF6",
            "gridcolor": "white",
            "gridwidth": 2,
            "linecolor": "white",
            "showbackground": true,
            "ticks": "",
            "zerolinecolor": "white"
           },
           "yaxis": {
            "backgroundcolor": "#E5ECF6",
            "gridcolor": "white",
            "gridwidth": 2,
            "linecolor": "white",
            "showbackground": true,
            "ticks": "",
            "zerolinecolor": "white"
           },
           "zaxis": {
            "backgroundcolor": "#E5ECF6",
            "gridcolor": "white",
            "gridwidth": 2,
            "linecolor": "white",
            "showbackground": true,
            "ticks": "",
            "zerolinecolor": "white"
           }
          },
          "shapedefaults": {
           "line": {
            "color": "#2a3f5f"
           }
          },
          "ternary": {
           "aaxis": {
            "gridcolor": "white",
            "linecolor": "white",
            "ticks": ""
           },
           "baxis": {
            "gridcolor": "white",
            "linecolor": "white",
            "ticks": ""
           },
           "bgcolor": "#E5ECF6",
           "caxis": {
            "gridcolor": "white",
            "linecolor": "white",
            "ticks": ""
           }
          },
          "title": {
           "x": 0.05
          },
          "xaxis": {
           "automargin": true,
           "gridcolor": "white",
           "linecolor": "white",
           "ticks": "",
           "title": {
            "standoff": 15
           },
           "zerolinecolor": "white",
           "zerolinewidth": 2
          },
          "yaxis": {
           "automargin": true,
           "gridcolor": "white",
           "linecolor": "white",
           "ticks": "",
           "title": {
            "standoff": 15
           },
           "zerolinecolor": "white",
           "zerolinewidth": 2
          }
         }
        },
        "title": {
         "text": "Plant Nutrients by Site Not Including Nitrogen PCA"
        },
        "xaxis": {
         "anchor": "y",
         "domain": [
          0,
          1
         ],
         "title": {
          "text": "PC1 28.3%"
         }
        },
        "yaxis": {
         "anchor": "x",
         "domain": [
          0,
          1
         ],
         "title": {
          "text": "PC2 15.0%"
         }
        }
       }
      },
      "text/html": [
       "<div>                            <div id=\"036f3df7-7fca-406d-8256-b403e2515913\" class=\"plotly-graph-div\" style=\"height:525px; width:100%;\"></div>            <script type=\"text/javascript\">                require([\"plotly\"], function(Plotly) {                    window.PLOTLYENV=window.PLOTLYENV || {};                                    if (document.getElementById(\"036f3df7-7fca-406d-8256-b403e2515913\")) {                    Plotly.newPlot(                        \"036f3df7-7fca-406d-8256-b403e2515913\",                        [{\"hovertemplate\":\"color=CMB<br>0=%{x}<br>1=%{y}<extra></extra>\",\"legendgroup\":\"CMB\",\"marker\":{\"color\":\"#636efa\",\"symbol\":\"circle\"},\"mode\":\"markers\",\"name\":\"CMB\",\"orientation\":\"v\",\"showlegend\":true,\"x\":[0.08078289119390177,0.05863243230871187,0.07182117960569503,0.040304404077907564,-0.10066180403559208,-0.02672690596934389,-0.054349690245226685,0.025111395352256958,-0.07784085030080708,-0.13202446566693324,0.08450385136008881,-0.06945369276191161,0.06928515082547022,0.03877709751713346,0.016423614096980836,-0.004234347365642616,0.11611702901940156,0.04175340487652961,0.13339181562400432,-0.03814575365887044],\"xaxis\":\"x\",\"y\":[0.01869665851586228,0.011900753965739082,0.022186800210186645,-0.0024055215527143767,0.16864913967630094,-0.01706691093288326,0.16256126678153315,0.03738061884861626,0.08366245695324605,0.11915267773750032,0.026518831869577264,-0.01863663898144351,-0.010530133458312533,0.02755151109357967,0.055428885523343914,-0.012489334992166678,0.03832010799106212,0.003677430995218502,0.019419775513543278,0.03471761592662312],\"yaxis\":\"y\",\"type\":\"scatter\"},{\"hovertemplate\":\"color=FRW<br>0=%{x}<br>1=%{y}<extra></extra>\",\"legendgroup\":\"FRW\",\"marker\":{\"color\":\"#EF553B\",\"symbol\":\"circle\"},\"mode\":\"markers\",\"name\":\"FRW\",\"orientation\":\"v\",\"showlegend\":true,\"x\":[-0.03730464578850815,-0.01049875445702642,-0.007420064784823697,0.041515534033191,0.05436119708657081,-0.05309335366359798,0.060448008881284716,-0.041905843727374666,-0.0077398275896548305,0.05832558264316504,-0.025940193832521045],\"xaxis\":\"x\",\"y\":[-0.05281766406062988,-0.03829127155609464,-0.021569756453795948,-0.02182661911038681,-0.010172409295701595,-0.00288500411634711,-0.0006980416099414741,-0.04194118364754601,-0.036269286017586,-0.0011750711169464662,-0.044732299469488826],\"yaxis\":\"y\",\"type\":\"scatter\"},{\"hovertemplate\":\"color=HR<br>0=%{x}<br>1=%{y}<extra></extra>\",\"legendgroup\":\"HR\",\"marker\":{\"color\":\"#00cc96\",\"symbol\":\"circle\"},\"mode\":\"markers\",\"name\":\"HR\",\"orientation\":\"v\",\"showlegend\":true,\"x\":[0.039843732774522786,0.06209891887124049,0.04843155166561189,0.03056163567395069,0.05486387362214803,-0.04832265089043673],\"xaxis\":\"x\",\"y\":[-0.017247410928425203,-1.3101011485622827e-05,-0.003945714315428249,0.0068505340534904535,0.0001473647125275475,-0.004589658279706853],\"yaxis\":\"y\",\"type\":\"scatter\"},{\"hovertemplate\":\"color=LFS<br>0=%{x}<br>1=%{y}<extra></extra>\",\"legendgroup\":\"LFS\",\"marker\":{\"color\":\"#ab63fa\",\"symbol\":\"circle\"},\"mode\":\"markers\",\"name\":\"LFS\",\"orientation\":\"v\",\"showlegend\":true,\"x\":[0.04395650925517105,0.0016676444636595988,-0.021466528401331685,0.06995153368404546,-0.02793691129244991,-0.04241416453294916,0.0881344661449647,-0.005782062223510047,0.08288196915043129,-0.03576968870424176,-0.028522952425934806,-0.005225103806986089,0.04682564666335213,-0.03106295833974793],\"xaxis\":\"x\",\"y\":[-0.0062826972652075055,0.038506928384486036,0.027260582626357152,0.016761622658844098,0.05070758140372257,0.13298645674918647,0.0405685848117969,-0.032971286356259635,0.020021427180888545,0.01563408503861787,0.0011751936662675233,0.021785504172890328,0.018092040183619748,0.06457561664360706],\"yaxis\":\"y\",\"type\":\"scatter\"},{\"hovertemplate\":\"color=LM<br>0=%{x}<br>1=%{y}<extra></extra>\",\"legendgroup\":\"LM\",\"marker\":{\"color\":\"#FFA15A\",\"symbol\":\"circle\"},\"mode\":\"markers\",\"name\":\"LM\",\"orientation\":\"v\",\"showlegend\":true,\"x\":[0.00650272390297753,0.014922165699302393,-0.04276597064650535,0.011995850501790088,-0.015377188744788148,-0.01447756103547697,-0.007958378197095738,-0.041763608508509895,-0.00777101796102567,-0.08398903046330303,-0.006656189356471736,-0.059222075581407047,-0.008753579834599035,-0.02121956223731928,-0.022913252829805383,-0.003430742317398018,0.01281777281239696,-0.033001083073728656,0.017782142729604256,0.03951269045932172],\"xaxis\":\"x\",\"y\":[-0.03156290421123188,-0.030126015249060147,-0.012264011596567634,0.004677343917199831,0.0042438644883873245,0.017098771945654956,0.026438717171947745,-0.0334918150554397,-0.02012539596494421,-0.035755415193975654,-0.036446431928367495,-0.023636455975848625,-0.03717864224209256,-0.004850752687610176,-0.014150199765743282,0.027603896035707263,0.0028049265589027736,-0.049572599123494133,-0.030570609898888556,0.008678266044120184],\"yaxis\":\"y\",\"type\":\"scatter\"},{\"hovertemplate\":\"color=MKP<br>0=%{x}<br>1=%{y}<extra></extra>\",\"legendgroup\":\"MKP\",\"marker\":{\"color\":\"#19d3f3\",\"symbol\":\"circle\"},\"mode\":\"markers\",\"name\":\"MKP\",\"orientation\":\"v\",\"showlegend\":true,\"x\":[-0.019050591742217026,0.023437859825085103,-0.08177710233395002,0.04822069402159135,0.01490111489753244,-0.024023114683856865,0.042713664054850345,-0.09510301909723118],\"xaxis\":\"x\",\"y\":[-0.004707692821465659,0.03593355734526295,0.03393885580585814,0.021722301943472515,0.001974518404176757,0.03946444211809609,0.0039801654608119155,0.005601727827479987],\"yaxis\":\"y\",\"type\":\"scatter\"},{\"hovertemplate\":\"color=MMP<br>0=%{x}<br>1=%{y}<extra></extra>\",\"legendgroup\":\"MMP\",\"marker\":{\"color\":\"#FF6692\",\"symbol\":\"circle\"},\"mode\":\"markers\",\"name\":\"MMP\",\"orientation\":\"v\",\"showlegend\":true,\"x\":[-0.0437154118683015,-0.009551589678134905,0.03457732960031797,-0.03018625401594929,0.03376523347172096,-0.019243101061520197,-0.06342710134572653,-0.06460652067929573,-0.04833772080559115,0.03928425454494415,-0.10978013522823529,0.1116266815699687,-0.03159325334252925,-0.018192433617559588,-0.006674190680513862,0.03420523378973813,-0.0024589065147269345,-0.02866789744493422,0.030361307683715585],\"xaxis\":\"x\",\"y\":[-0.05919620946648615,-0.02430302454754865,0.014124217819346729,-0.03753166612623492,-0.008772261888589986,-0.031084358772529457,-0.033222820087347005,-0.03650682215213104,0.0465892101418299,0.040285333765631925,-0.030130321455194446,0.009112410410591196,0.007941703225498127,-0.052342978938895966,-0.029605150383433667,0.03787663739265856,-0.034579058863040545,-0.03681303348071553,-0.01639649770484822],\"yaxis\":\"y\",\"type\":\"scatter\"},{\"hovertemplate\":\"color=PNR<br>0=%{x}<br>1=%{y}<extra></extra>\",\"legendgroup\":\"PNR\",\"marker\":{\"color\":\"#B6E880\",\"symbol\":\"circle\"},\"mode\":\"markers\",\"name\":\"PNR\",\"orientation\":\"v\",\"showlegend\":true,\"x\":[0.0016294571037251656,-0.05990329735456945,-0.06291648644946901],\"xaxis\":\"x\",\"y\":[-0.02063706317575135,0.018653378678497902,-0.019851513527484543],\"yaxis\":\"y\",\"type\":\"scatter\"},{\"hovertemplate\":\"color=PTW<br>0=%{x}<br>1=%{y}<extra></extra>\",\"legendgroup\":\"PTW\",\"marker\":{\"color\":\"#FF97FF\",\"symbol\":\"circle\"},\"mode\":\"markers\",\"name\":\"PTW\",\"orientation\":\"v\",\"showlegend\":true,\"x\":[0.07036648178644589,-0.0493528623682403,0.024398666008902333,-0.059218833799848415,-0.0008620331348875904,-0.08221080277117059,-0.038420624322273715,-0.002542079578894825,0.0381579920802813,-0.0019596789415792597],\"xaxis\":\"x\",\"y\":[0.018270577408033013,-0.0028975508784072376,0.018963271816348753,0.02145372580628846,0.0248126376687197,0.02080959650629509,0.019887010333506195,0.03030413273435688,0.021863305867454802,0.018838627763620816],\"yaxis\":\"y\",\"type\":\"scatter\"},{\"hovertemplate\":\"color=RF<br>0=%{x}<br>1=%{y}<extra></extra>\",\"legendgroup\":\"RF\",\"marker\":{\"color\":\"#FECB52\",\"symbol\":\"circle\"},\"mode\":\"markers\",\"name\":\"RF\",\"orientation\":\"v\",\"showlegend\":true,\"x\":[-0.03064950917764705,0.10148253189884185,0.0144696103606768,-0.04466024095763723,-0.014442302862273527,-0.04465954284697389,0.02414410857725315,0.05017179752925635,0.050811513209426576,0.05882084195872642,-0.07169770069818918],\"xaxis\":\"x\",\"y\":[-0.019046679289864425,0.0021785386483678163,0.01373928242815174,0.006049998924912342,0.006120147587358586,-0.04477531389901762,-0.015345755917565325,0.00012866045612417145,0.031115825474319715,0.01943290147371059,-0.013170868880994094],\"yaxis\":\"y\",\"type\":\"scatter\"},{\"hovertemplate\":\"color=RGT<br>0=%{x}<br>1=%{y}<extra></extra>\",\"legendgroup\":\"RGT\",\"marker\":{\"color\":\"#636efa\",\"symbol\":\"circle\"},\"mode\":\"markers\",\"name\":\"RGT\",\"orientation\":\"v\",\"showlegend\":true,\"x\":[-0.052009428989407844,-0.03977796522312824,-0.03516506275108018,0.01137951448485827,0.03627594020340499,-0.0074586754853513924,0.03815803998063845],\"xaxis\":\"x\",\"y\":[-0.04337925960931039,-0.028816119354260053,-0.006262959851290382,-0.03610446568473627,-0.017175158457228237,-0.03922994844006955,-0.018521924344592555],\"yaxis\":\"y\",\"type\":\"scatter\"},{\"hovertemplate\":\"color=RRL<br>0=%{x}<br>1=%{y}<extra></extra>\",\"legendgroup\":\"RRL\",\"marker\":{\"color\":\"#EF553B\",\"symbol\":\"circle\"},\"mode\":\"markers\",\"name\":\"RRL\",\"orientation\":\"v\",\"showlegend\":true,\"x\":[0.009394945652777415,0.044338944207437565,0.0513303951951795,-0.0018804550243119137,0.06372641302687823,0.026539649406019758,0.01773893387476416,0.024704582810546785,0.08838682019079523,-0.04362789804934458,0.004751122557038745,-0.026236675076447776,0.06742241892764686,0.08101552118894738,0.04075428489235638,0.015627548034325374,0.015375411126026084,-0.031018313084296992,-0.09550721058142933],\"xaxis\":\"x\",\"y\":[-0.01917699055319157,-0.013984420393281977,-0.0030819836754523862,0.0007361847468867523,-0.011767690966882006,-0.0024724022685451577,-0.03548626726829446,-0.013176119272737492,-0.01073561573790018,-0.04039000601941258,-0.02603333266666154,-0.02427988615511389,-0.005162124473489853,0.0008989826464863372,-0.023994147757325376,-0.03052154259212588,0.0033019577695258683,-0.03968578558928292,-0.008160563243430067],\"yaxis\":\"y\",\"type\":\"scatter\"},{\"hovertemplate\":\"color=SLG<br>0=%{x}<br>1=%{y}<extra></extra>\",\"legendgroup\":\"SLG\",\"marker\":{\"color\":\"#00cc96\",\"symbol\":\"circle\"},\"mode\":\"markers\",\"name\":\"SLG\",\"orientation\":\"v\",\"showlegend\":true,\"x\":[0.01170982422697565,-0.03187222107824012,-0.024623502050090874,-0.031285083546442126,-0.0038135502196555123,-0.04656389749109695,-0.026564107705166748,-0.027030815016920427,0.04160533703305073,0.005249644586003712,0.03658844357388441,-0.019958134991667608,-0.06841176895542402,-0.014193009999317701,0.015469360698338406,-0.02612229559687787,-0.04324802085519764],\"xaxis\":\"x\",\"y\":[-0.011084174531184857,-0.007393135793186451,-0.004098753988676547,-0.036709512191100156,-0.014961262958663223,-0.026723830715876636,0.06585271392129292,-0.02116003306865555,-0.003700377185552767,-0.03174591868477045,0.008143652506337857,0.00778058147536505,-0.03026122354428444,-0.015651712106425318,-0.01358195385018505,0.018115441633670945,-0.028564547314018675],\"yaxis\":\"y\",\"type\":\"scatter\"}],                        {\"template\":{\"data\":{\"histogram2dcontour\":[{\"type\":\"histogram2dcontour\",\"colorbar\":{\"outlinewidth\":0,\"ticks\":\"\"},\"colorscale\":[[0.0,\"#0d0887\"],[0.1111111111111111,\"#46039f\"],[0.2222222222222222,\"#7201a8\"],[0.3333333333333333,\"#9c179e\"],[0.4444444444444444,\"#bd3786\"],[0.5555555555555556,\"#d8576b\"],[0.6666666666666666,\"#ed7953\"],[0.7777777777777778,\"#fb9f3a\"],[0.8888888888888888,\"#fdca26\"],[1.0,\"#f0f921\"]]}],\"choropleth\":[{\"type\":\"choropleth\",\"colorbar\":{\"outlinewidth\":0,\"ticks\":\"\"}}],\"histogram2d\":[{\"type\":\"histogram2d\",\"colorbar\":{\"outlinewidth\":0,\"ticks\":\"\"},\"colorscale\":[[0.0,\"#0d0887\"],[0.1111111111111111,\"#46039f\"],[0.2222222222222222,\"#7201a8\"],[0.3333333333333333,\"#9c179e\"],[0.4444444444444444,\"#bd3786\"],[0.5555555555555556,\"#d8576b\"],[0.6666666666666666,\"#ed7953\"],[0.7777777777777778,\"#fb9f3a\"],[0.8888888888888888,\"#fdca26\"],[1.0,\"#f0f921\"]]}],\"heatmap\":[{\"type\":\"heatmap\",\"colorbar\":{\"outlinewidth\":0,\"ticks\":\"\"},\"colorscale\":[[0.0,\"#0d0887\"],[0.1111111111111111,\"#46039f\"],[0.2222222222222222,\"#7201a8\"],[0.3333333333333333,\"#9c179e\"],[0.4444444444444444,\"#bd3786\"],[0.5555555555555556,\"#d8576b\"],[0.6666666666666666,\"#ed7953\"],[0.7777777777777778,\"#fb9f3a\"],[0.8888888888888888,\"#fdca26\"],[1.0,\"#f0f921\"]]}],\"heatmapgl\":[{\"type\":\"heatmapgl\",\"colorbar\":{\"outlinewidth\":0,\"ticks\":\"\"},\"colorscale\":[[0.0,\"#0d0887\"],[0.1111111111111111,\"#46039f\"],[0.2222222222222222,\"#7201a8\"],[0.3333333333333333,\"#9c179e\"],[0.4444444444444444,\"#bd3786\"],[0.5555555555555556,\"#d8576b\"],[0.6666666666666666,\"#ed7953\"],[0.7777777777777778,\"#fb9f3a\"],[0.8888888888888888,\"#fdca26\"],[1.0,\"#f0f921\"]]}],\"contourcarpet\":[{\"type\":\"contourcarpet\",\"colorbar\":{\"outlinewidth\":0,\"ticks\":\"\"}}],\"contour\":[{\"type\":\"contour\",\"colorbar\":{\"outlinewidth\":0,\"ticks\":\"\"},\"colorscale\":[[0.0,\"#0d0887\"],[0.1111111111111111,\"#46039f\"],[0.2222222222222222,\"#7201a8\"],[0.3333333333333333,\"#9c179e\"],[0.4444444444444444,\"#bd3786\"],[0.5555555555555556,\"#d8576b\"],[0.6666666666666666,\"#ed7953\"],[0.7777777777777778,\"#fb9f3a\"],[0.8888888888888888,\"#fdca26\"],[1.0,\"#f0f921\"]]}],\"surface\":[{\"type\":\"surface\",\"colorbar\":{\"outlinewidth\":0,\"ticks\":\"\"},\"colorscale\":[[0.0,\"#0d0887\"],[0.1111111111111111,\"#46039f\"],[0.2222222222222222,\"#7201a8\"],[0.3333333333333333,\"#9c179e\"],[0.4444444444444444,\"#bd3786\"],[0.5555555555555556,\"#d8576b\"],[0.6666666666666666,\"#ed7953\"],[0.7777777777777778,\"#fb9f3a\"],[0.8888888888888888,\"#fdca26\"],[1.0,\"#f0f921\"]]}],\"mesh3d\":[{\"type\":\"mesh3d\",\"colorbar\":{\"outlinewidth\":0,\"ticks\":\"\"}}],\"scatter\":[{\"fillpattern\":{\"fillmode\":\"overlay\",\"size\":10,\"solidity\":0.2},\"type\":\"scatter\"}],\"parcoords\":[{\"type\":\"parcoords\",\"line\":{\"colorbar\":{\"outlinewidth\":0,\"ticks\":\"\"}}}],\"scatterpolargl\":[{\"type\":\"scatterpolargl\",\"marker\":{\"colorbar\":{\"outlinewidth\":0,\"ticks\":\"\"}}}],\"bar\":[{\"error_x\":{\"color\":\"#2a3f5f\"},\"error_y\":{\"color\":\"#2a3f5f\"},\"marker\":{\"line\":{\"color\":\"#E5ECF6\",\"width\":0.5},\"pattern\":{\"fillmode\":\"overlay\",\"size\":10,\"solidity\":0.2}},\"type\":\"bar\"}],\"scattergeo\":[{\"type\":\"scattergeo\",\"marker\":{\"colorbar\":{\"outlinewidth\":0,\"ticks\":\"\"}}}],\"scatterpolar\":[{\"type\":\"scatterpolar\",\"marker\":{\"colorbar\":{\"outlinewidth\":0,\"ticks\":\"\"}}}],\"histogram\":[{\"marker\":{\"pattern\":{\"fillmode\":\"overlay\",\"size\":10,\"solidity\":0.2}},\"type\":\"histogram\"}],\"scattergl\":[{\"type\":\"scattergl\",\"marker\":{\"colorbar\":{\"outlinewidth\":0,\"ticks\":\"\"}}}],\"scatter3d\":[{\"type\":\"scatter3d\",\"line\":{\"colorbar\":{\"outlinewidth\":0,\"ticks\":\"\"}},\"marker\":{\"colorbar\":{\"outlinewidth\":0,\"ticks\":\"\"}}}],\"scattermapbox\":[{\"type\":\"scattermapbox\",\"marker\":{\"colorbar\":{\"outlinewidth\":0,\"ticks\":\"\"}}}],\"scatterternary\":[{\"type\":\"scatterternary\",\"marker\":{\"colorbar\":{\"outlinewidth\":0,\"ticks\":\"\"}}}],\"scattercarpet\":[{\"type\":\"scattercarpet\",\"marker\":{\"colorbar\":{\"outlinewidth\":0,\"ticks\":\"\"}}}],\"carpet\":[{\"aaxis\":{\"endlinecolor\":\"#2a3f5f\",\"gridcolor\":\"white\",\"linecolor\":\"white\",\"minorgridcolor\":\"white\",\"startlinecolor\":\"#2a3f5f\"},\"baxis\":{\"endlinecolor\":\"#2a3f5f\",\"gridcolor\":\"white\",\"linecolor\":\"white\",\"minorgridcolor\":\"white\",\"startlinecolor\":\"#2a3f5f\"},\"type\":\"carpet\"}],\"table\":[{\"cells\":{\"fill\":{\"color\":\"#EBF0F8\"},\"line\":{\"color\":\"white\"}},\"header\":{\"fill\":{\"color\":\"#C8D4E3\"},\"line\":{\"color\":\"white\"}},\"type\":\"table\"}],\"barpolar\":[{\"marker\":{\"line\":{\"color\":\"#E5ECF6\",\"width\":0.5},\"pattern\":{\"fillmode\":\"overlay\",\"size\":10,\"solidity\":0.2}},\"type\":\"barpolar\"}],\"pie\":[{\"automargin\":true,\"type\":\"pie\"}]},\"layout\":{\"autotypenumbers\":\"strict\",\"colorway\":[\"#636efa\",\"#EF553B\",\"#00cc96\",\"#ab63fa\",\"#FFA15A\",\"#19d3f3\",\"#FF6692\",\"#B6E880\",\"#FF97FF\",\"#FECB52\"],\"font\":{\"color\":\"#2a3f5f\"},\"hovermode\":\"closest\",\"hoverlabel\":{\"align\":\"left\"},\"paper_bgcolor\":\"white\",\"plot_bgcolor\":\"#E5ECF6\",\"polar\":{\"bgcolor\":\"#E5ECF6\",\"angularaxis\":{\"gridcolor\":\"white\",\"linecolor\":\"white\",\"ticks\":\"\"},\"radialaxis\":{\"gridcolor\":\"white\",\"linecolor\":\"white\",\"ticks\":\"\"}},\"ternary\":{\"bgcolor\":\"#E5ECF6\",\"aaxis\":{\"gridcolor\":\"white\",\"linecolor\":\"white\",\"ticks\":\"\"},\"baxis\":{\"gridcolor\":\"white\",\"linecolor\":\"white\",\"ticks\":\"\"},\"caxis\":{\"gridcolor\":\"white\",\"linecolor\":\"white\",\"ticks\":\"\"}},\"coloraxis\":{\"colorbar\":{\"outlinewidth\":0,\"ticks\":\"\"}},\"colorscale\":{\"sequential\":[[0.0,\"#0d0887\"],[0.1111111111111111,\"#46039f\"],[0.2222222222222222,\"#7201a8\"],[0.3333333333333333,\"#9c179e\"],[0.4444444444444444,\"#bd3786\"],[0.5555555555555556,\"#d8576b\"],[0.6666666666666666,\"#ed7953\"],[0.7777777777777778,\"#fb9f3a\"],[0.8888888888888888,\"#fdca26\"],[1.0,\"#f0f921\"]],\"sequentialminus\":[[0.0,\"#0d0887\"],[0.1111111111111111,\"#46039f\"],[0.2222222222222222,\"#7201a8\"],[0.3333333333333333,\"#9c179e\"],[0.4444444444444444,\"#bd3786\"],[0.5555555555555556,\"#d8576b\"],[0.6666666666666666,\"#ed7953\"],[0.7777777777777778,\"#fb9f3a\"],[0.8888888888888888,\"#fdca26\"],[1.0,\"#f0f921\"]],\"diverging\":[[0,\"#8e0152\"],[0.1,\"#c51b7d\"],[0.2,\"#de77ae\"],[0.3,\"#f1b6da\"],[0.4,\"#fde0ef\"],[0.5,\"#f7f7f7\"],[0.6,\"#e6f5d0\"],[0.7,\"#b8e186\"],[0.8,\"#7fbc41\"],[0.9,\"#4d9221\"],[1,\"#276419\"]]},\"xaxis\":{\"gridcolor\":\"white\",\"linecolor\":\"white\",\"ticks\":\"\",\"title\":{\"standoff\":15},\"zerolinecolor\":\"white\",\"automargin\":true,\"zerolinewidth\":2},\"yaxis\":{\"gridcolor\":\"white\",\"linecolor\":\"white\",\"ticks\":\"\",\"title\":{\"standoff\":15},\"zerolinecolor\":\"white\",\"automargin\":true,\"zerolinewidth\":2},\"scene\":{\"xaxis\":{\"backgroundcolor\":\"#E5ECF6\",\"gridcolor\":\"white\",\"linecolor\":\"white\",\"showbackground\":true,\"ticks\":\"\",\"zerolinecolor\":\"white\",\"gridwidth\":2},\"yaxis\":{\"backgroundcolor\":\"#E5ECF6\",\"gridcolor\":\"white\",\"linecolor\":\"white\",\"showbackground\":true,\"ticks\":\"\",\"zerolinecolor\":\"white\",\"gridwidth\":2},\"zaxis\":{\"backgroundcolor\":\"#E5ECF6\",\"gridcolor\":\"white\",\"linecolor\":\"white\",\"showbackground\":true,\"ticks\":\"\",\"zerolinecolor\":\"white\",\"gridwidth\":2}},\"shapedefaults\":{\"line\":{\"color\":\"#2a3f5f\"}},\"annotationdefaults\":{\"arrowcolor\":\"#2a3f5f\",\"arrowhead\":0,\"arrowwidth\":1},\"geo\":{\"bgcolor\":\"white\",\"landcolor\":\"#E5ECF6\",\"subunitcolor\":\"white\",\"showland\":true,\"showlakes\":true,\"lakecolor\":\"white\"},\"title\":{\"x\":0.05},\"mapbox\":{\"style\":\"light\"}}},\"xaxis\":{\"anchor\":\"y\",\"domain\":[0.0,1.0],\"title\":{\"text\":\"PC1 28.3%\"}},\"yaxis\":{\"anchor\":\"x\",\"domain\":[0.0,1.0],\"title\":{\"text\":\"PC2 15.0%\"}},\"legend\":{\"title\":{\"text\":\"color\"},\"tracegroupgap\":0},\"margin\":{\"t\":60},\"title\":{\"text\":\"Plant Nutrients by Site Not Including Nitrogen PCA\"}},                        {\"responsive\": true}                    ).then(function(){\n",
       "                            \n",
       "var gd = document.getElementById('036f3df7-7fca-406d-8256-b403e2515913');\n",
       "var x = new MutationObserver(function (mutations, observer) {{\n",
       "        var display = window.getComputedStyle(gd).display;\n",
       "        if (!display || display === 'none') {{\n",
       "            console.log([gd, 'removed!']);\n",
       "            Plotly.purge(gd);\n",
       "            observer.disconnect();\n",
       "        }}\n",
       "}});\n",
       "\n",
       "// Listen for the removal of the full notebook cells\n",
       "var notebookContainer = gd.closest('#notebook-container');\n",
       "if (notebookContainer) {{\n",
       "    x.observe(notebookContainer, {childList: true});\n",
       "}}\n",
       "\n",
       "// Listen for the clearing of the current output cell\n",
       "var outputEl = gd.closest('.output');\n",
       "if (outputEl) {{\n",
       "    x.observe(outputEl, {childList: true});\n",
       "}}\n",
       "\n",
       "                        })                };                });            </script>        </div>"
      ]
     },
     "metadata": {},
     "output_type": "display_data"
    }
   ],
   "source": [
    "X = pivoted_df[genera_col]\n",
    "\n",
    "pca = PCA(n_components=2)\n",
    "components = pca.fit_transform(X)\n",
    "\n",
    "fig = px.scatter(components, x=0, y=1, color=pivoted_df['site_id'])\n",
    "fig.update_layout(\n",
    "    title = \"Plant Nutrients by Site Not Including Nitrogen PCA\",\n",
    "    xaxis_title=\"PC1 \" + str(round(100*pca.explained_variance_ratio_[0], 1)) + '%',\n",
    "    yaxis_title=\"PC2 \" + str(round(100*pca.explained_variance_ratio_[1], 1)) + '%')\n",
    "fig.show()"
   ]
  },
  {
   "cell_type": "markdown",
   "id": "1c8218d1",
   "metadata": {},
   "source": [
    "### Without further modification PCA by Species"
   ]
  },
  {
   "cell_type": "code",
   "execution_count": 378,
   "id": "c7b5d954",
   "metadata": {},
   "outputs": [
    {
     "data": {
      "application/vnd.plotly.v1+json": {
       "config": {
        "plotlyServerURL": "https://plot.ly"
       },
       "data": [
        {
         "hovertemplate": "color=syriaca<br>0=%{x}<br>1=%{y}<extra></extra>",
         "legendgroup": "syriaca",
         "marker": {
          "color": "#636efa",
          "symbol": "circle"
         },
         "mode": "markers",
         "name": "syriaca",
         "orientation": "v",
         "showlegend": true,
         "type": "scatter",
         "x": [
          0.08078289119226495,
          0.058632432308245656,
          0.07182117960416222,
          0.040304404077724065,
          -0.10066180403527186,
          -0.026726905971746845,
          -0.054349690247705,
          0.025111395346665243,
          -0.07784085030119282,
          -0.13202446566747414,
          0.08450385136164118,
          -0.0694536927606409,
          0.06928515082351078,
          0.038777097515082196,
          0.016423614097740832,
          -0.004234347369751636,
          0.11611702902148799,
          0.04175340487277962,
          0.13339181562108132,
          -0.038145753663733344,
          -0.03730464578928799,
          -0.010498754452993796,
          -0.007420064782636041,
          0.041515534029558994,
          0.05436119708927787,
          -0.053093353663940177,
          0.06044800888382199,
          -0.04190584372848522,
          -0.007739827590966709,
          0.058325582640437586,
          -0.025940193830661516,
          0.014922165697156568,
          -0.042765970652392495,
          0.01199585049733475,
          -0.015377188741442064,
          -0.014477561039797072,
          -0.00795837819181751,
          -0.04176360850980958,
          -0.0077710179591118185,
          -0.08398903046831513,
          -0.006656189357238868,
          -0.059222075580087706,
          -0.00875357983892771,
          -0.02121956223844948,
          -0.022913252827274938,
          -0.003430742325747679,
          0.039512690464938584,
          -0.019050591736467896,
          0.023437859825129775,
          -0.08177710233765284,
          0.048220694022319786,
          0.014901114894744204,
          -0.024023114684931447,
          0.04271366406239527,
          -0.09510301909907946,
          -0.043715411870742016,
          -0.009551589679331536,
          0.03457732959917991,
          -0.03018625401953564,
          0.03376523347119651,
          -0.019243101063313627,
          -0.06342710134599586,
          -0.06460652068031159,
          -0.04833772080663266,
          0.03928425454532594,
          -0.10978013522762997,
          0.11162668157125757,
          -0.031593253337723066,
          -0.01819243361845637,
          -0.0066741906795750134,
          0.034205233794285195,
          -0.0024589065135571003,
          -0.028667897450048826,
          0.030361307691070444,
          0.0016294571039413982,
          -0.0629164864492192,
          -0.030649509173511075,
          0.10148253189745506,
          0.014469610360794367,
          -0.04466024095576369,
          -0.044659542851015144,
          0.02414410858270708,
          0.05017179752628922,
          0.05081151321057072,
          0.05882084195487593,
          -0.07169770067369616,
          -0.05200942898803568,
          -0.03977796522511643,
          -0.035165062743829294,
          0.011379514486776538,
          0.03627594020216779,
          -0.00745867548116602,
          0.03815803998078263,
          -0.031872221079297595,
          -0.02462350204495618,
          -0.03128508354392715,
          -0.003813550219749832,
          -0.04656389749506624,
          -0.026564107705765734,
          -0.027030815018728276,
          0.005249644582776181,
          0.03658844357664815,
          -0.019958134988709936,
          -0.04324802085496602
         ],
         "xaxis": "x",
         "y": [
          0.0186966585685695,
          0.0119007539676495,
          0.02218679998540531,
          -0.0024055215875751156,
          0.1686491397891048,
          -0.017066910918844762,
          0.16256126693290004,
          0.03738061915276977,
          0.08366245683560722,
          0.11915267782291222,
          0.026518831860434324,
          -0.018636639209243508,
          -0.010530133385841408,
          0.02755151122460831,
          0.05542888535704464,
          -0.012489334739198936,
          0.03832010782657954,
          0.0036774312500747397,
          0.019419775457201284,
          0.034717616058185845,
          -0.05281766418039953,
          -0.03829127146091521,
          -0.02156975675562248,
          -0.021826618982486452,
          -0.01017240926104677,
          -0.002885004317055094,
          -0.000698041618202271,
          -0.04194118378663058,
          -0.036269285608432913,
          -0.0011750713014873988,
          -0.04473229982130643,
          -0.030126015090640803,
          -0.012264011478742095,
          0.004677344084294346,
          0.004243864543151033,
          0.017098771990907626,
          0.026438716795141766,
          -0.033491814939224034,
          -0.020125396000355802,
          -0.03575541518285527,
          -0.03644643200202489,
          -0.023636456349587043,
          -0.037178642066486654,
          -0.00485075278350195,
          -0.014150199843058578,
          0.027603896776403535,
          0.008678265627927948,
          -0.0047076932452425726,
          0.03593355733610193,
          0.03393885585740229,
          0.02172230177694405,
          0.001974518637691861,
          0.039464442121385127,
          0.003980164747046167,
          0.005601727935085217,
          -0.059196209188320296,
          -0.024303024288389288,
          0.014124218085305161,
          -0.037531665889247355,
          -0.008772261564745662,
          -0.031084358806955266,
          -0.03322282001729961,
          -0.036506821929451254,
          0.04658921011421272,
          0.04028533386027695,
          -0.030130321774892006,
          0.009112410415683742,
          0.007941702963310898,
          -0.052342978627995716,
          -0.02960515033588471,
          0.03787663712360668,
          -0.03457905929412283,
          -0.03681303325052111,
          -0.016396498011381867,
          -0.02063706327877793,
          -0.019851513674758608,
          -0.019046679528283247,
          0.002178538706704789,
          0.01373928242383782,
          0.006049998797511948,
          -0.04477531368423254,
          -0.015345756236103108,
          0.00012866073047577845,
          0.031115825208388716,
          0.019432901910565605,
          -0.013170869782480518,
          -0.04337925957960034,
          -0.028816119346990045,
          -0.006262959867469878,
          -0.036104465898983334,
          -0.017175158344923742,
          -0.03922994872828499,
          -0.018521924390914053,
          -0.00739313574597298,
          -0.0040987541702110315,
          -0.03670951224288847,
          -0.014961262986945122,
          -0.02672383016742051,
          0.06585271404224825,
          -0.021160033152721348,
          -0.031745918335287664,
          0.008143652303208637,
          0.007780581597886629,
          -0.028564547392348833
         ],
         "yaxis": "y"
        },
        {
         "hovertemplate": "color=quadrifolia<br>0=%{x}<br>1=%{y}<extra></extra>",
         "legendgroup": "quadrifolia",
         "marker": {
          "color": "#EF553B",
          "symbol": "circle"
         },
         "mode": "markers",
         "name": "quadrifolia",
         "orientation": "v",
         "showlegend": true,
         "type": "scatter",
         "x": [
          0.03984373277387284,
          0.06209891887574654,
          0.048431551670158196,
          0.030561635676861668,
          0.054863873623316774,
          -0.048322650886285776,
          0.006502723912987439,
          0.012817772813346954,
          -0.03300108307203166,
          0.01778214273515391
         ],
         "xaxis": "x",
         "y": [
          -0.017247410776581314,
          -1.3101053609348318e-05,
          -0.003945714553951357,
          0.006850533973306292,
          0.00014736480506797822,
          -0.004589658419143736,
          -0.031562904890670894,
          0.002804926478813262,
          -0.04957259916108485,
          -0.030570610284859856
         ],
         "yaxis": "y"
        },
        {
         "hovertemplate": "color=exaltata<br>0=%{x}<br>1=%{y}<extra></extra>",
         "legendgroup": "exaltata",
         "marker": {
          "color": "#00cc96",
          "symbol": "circle"
         },
         "mode": "markers",
         "name": "exaltata",
         "orientation": "v",
         "showlegend": true,
         "type": "scatter",
         "x": [
          0.043956509254818026,
          0.0016676444672163566,
          -0.021466528403130875,
          0.0699515336844732,
          -0.027936911290734355,
          -0.04241416452789934,
          0.08813446614957293,
          -0.005782062218062662,
          0.08288196915007477,
          -0.03576968870903579,
          -0.028522952423962293,
          -0.005225103806569668,
          0.046825646668053604,
          -0.03106295833634488,
          0.0703664817855979,
          -0.04935286236663193,
          0.02439866600617447,
          -0.05921883380537414,
          -0.0008620331350002508,
          -0.08221080277098806,
          -0.03842062432280472,
          -0.0025420795797916453,
          0.03815799207852964,
          -0.0019596789411254643,
          -0.014442302865457283,
          0.009394945651925427,
          0.04433894420674742,
          0.05133039518797802,
          -0.0018804550260835492,
          0.06372641302646859,
          0.026539649405712913,
          0.017738933873484252,
          0.024704582806914142,
          0.08838682019106464,
          -0.04362789804802212,
          0.004751122553637796,
          -0.026236675076947904,
          0.06742241892535865,
          0.0810155211884165,
          0.04075428489041084,
          0.015627548034153938,
          0.015375411124034876,
          -0.031018313083174674,
          -0.09550721058106909,
          0.01170982422109534,
          0.04160533703204441,
          -0.06841176895688164,
          -0.014193010004674569,
          0.015469360694731834,
          -0.02612229559926175
         ],
         "xaxis": "x",
         "y": [
          -0.0062826974311933305,
          0.038506928246142526,
          0.02726058263252925,
          0.016761622698902637,
          0.05070758134305978,
          0.13298645649688362,
          0.040568584380548084,
          -0.03297128661628801,
          0.020021427203266728,
          0.0156340854539338,
          0.0011751936160674169,
          0.021785504293281983,
          0.01809204005994871,
          0.06457561624623757,
          0.018270577227856476,
          -0.0028975510405128847,
          0.018963271973053225,
          0.021453726578306315,
          0.02481263755660609,
          0.020809596603679998,
          0.019887010403062257,
          0.03030413271342159,
          0.021863305864142923,
          0.018838627751872887,
          0.006120147532267935,
          -0.019176990571128358,
          -0.013984420516864148,
          -0.003081983113346189,
          0.0007361847463191771,
          -0.011767690827405777,
          -0.002472402233700826,
          -0.0354862671897134,
          -0.013176118940963004,
          -0.01073561570645168,
          -0.04039000634428977,
          -0.02603333258056234,
          -0.02427988582019406,
          -0.005162124294502384,
          0.0008989827052421541,
          -0.023994147807281443,
          -0.030521542329233726,
          0.003301957887782949,
          -0.039685785846763307,
          -0.00816056348694301,
          -0.011084173890046962,
          -0.003700377310336825,
          -0.03026122341006269,
          -0.015651711340643547,
          -0.013581953655921,
          0.01811544195012038
         ],
         "yaxis": "y"
        },
        {
         "hovertemplate": "color=hybrid<br>0=%{x}<br>1=%{y}<extra></extra>",
         "legendgroup": "hybrid",
         "marker": {
          "color": "#ab63fa",
          "symbol": "circle"
         },
         "mode": "markers",
         "name": "hybrid",
         "orientation": "v",
         "showlegend": true,
         "type": "scatter",
         "x": [
          -0.05990329735998473
         ],
         "xaxis": "x",
         "y": [
          0.018653378851582313
         ],
         "yaxis": "y"
        }
       ],
       "layout": {
        "legend": {
         "title": {
          "text": "color"
         },
         "tracegroupgap": 0
        },
        "margin": {
         "t": 60
        },
        "template": {
         "data": {
          "bar": [
           {
            "error_x": {
             "color": "#2a3f5f"
            },
            "error_y": {
             "color": "#2a3f5f"
            },
            "marker": {
             "line": {
              "color": "#E5ECF6",
              "width": 0.5
             },
             "pattern": {
              "fillmode": "overlay",
              "size": 10,
              "solidity": 0.2
             }
            },
            "type": "bar"
           }
          ],
          "barpolar": [
           {
            "marker": {
             "line": {
              "color": "#E5ECF6",
              "width": 0.5
             },
             "pattern": {
              "fillmode": "overlay",
              "size": 10,
              "solidity": 0.2
             }
            },
            "type": "barpolar"
           }
          ],
          "carpet": [
           {
            "aaxis": {
             "endlinecolor": "#2a3f5f",
             "gridcolor": "white",
             "linecolor": "white",
             "minorgridcolor": "white",
             "startlinecolor": "#2a3f5f"
            },
            "baxis": {
             "endlinecolor": "#2a3f5f",
             "gridcolor": "white",
             "linecolor": "white",
             "minorgridcolor": "white",
             "startlinecolor": "#2a3f5f"
            },
            "type": "carpet"
           }
          ],
          "choropleth": [
           {
            "colorbar": {
             "outlinewidth": 0,
             "ticks": ""
            },
            "type": "choropleth"
           }
          ],
          "contour": [
           {
            "colorbar": {
             "outlinewidth": 0,
             "ticks": ""
            },
            "colorscale": [
             [
              0,
              "#0d0887"
             ],
             [
              0.1111111111111111,
              "#46039f"
             ],
             [
              0.2222222222222222,
              "#7201a8"
             ],
             [
              0.3333333333333333,
              "#9c179e"
             ],
             [
              0.4444444444444444,
              "#bd3786"
             ],
             [
              0.5555555555555556,
              "#d8576b"
             ],
             [
              0.6666666666666666,
              "#ed7953"
             ],
             [
              0.7777777777777778,
              "#fb9f3a"
             ],
             [
              0.8888888888888888,
              "#fdca26"
             ],
             [
              1,
              "#f0f921"
             ]
            ],
            "type": "contour"
           }
          ],
          "contourcarpet": [
           {
            "colorbar": {
             "outlinewidth": 0,
             "ticks": ""
            },
            "type": "contourcarpet"
           }
          ],
          "heatmap": [
           {
            "colorbar": {
             "outlinewidth": 0,
             "ticks": ""
            },
            "colorscale": [
             [
              0,
              "#0d0887"
             ],
             [
              0.1111111111111111,
              "#46039f"
             ],
             [
              0.2222222222222222,
              "#7201a8"
             ],
             [
              0.3333333333333333,
              "#9c179e"
             ],
             [
              0.4444444444444444,
              "#bd3786"
             ],
             [
              0.5555555555555556,
              "#d8576b"
             ],
             [
              0.6666666666666666,
              "#ed7953"
             ],
             [
              0.7777777777777778,
              "#fb9f3a"
             ],
             [
              0.8888888888888888,
              "#fdca26"
             ],
             [
              1,
              "#f0f921"
             ]
            ],
            "type": "heatmap"
           }
          ],
          "heatmapgl": [
           {
            "colorbar": {
             "outlinewidth": 0,
             "ticks": ""
            },
            "colorscale": [
             [
              0,
              "#0d0887"
             ],
             [
              0.1111111111111111,
              "#46039f"
             ],
             [
              0.2222222222222222,
              "#7201a8"
             ],
             [
              0.3333333333333333,
              "#9c179e"
             ],
             [
              0.4444444444444444,
              "#bd3786"
             ],
             [
              0.5555555555555556,
              "#d8576b"
             ],
             [
              0.6666666666666666,
              "#ed7953"
             ],
             [
              0.7777777777777778,
              "#fb9f3a"
             ],
             [
              0.8888888888888888,
              "#fdca26"
             ],
             [
              1,
              "#f0f921"
             ]
            ],
            "type": "heatmapgl"
           }
          ],
          "histogram": [
           {
            "marker": {
             "pattern": {
              "fillmode": "overlay",
              "size": 10,
              "solidity": 0.2
             }
            },
            "type": "histogram"
           }
          ],
          "histogram2d": [
           {
            "colorbar": {
             "outlinewidth": 0,
             "ticks": ""
            },
            "colorscale": [
             [
              0,
              "#0d0887"
             ],
             [
              0.1111111111111111,
              "#46039f"
             ],
             [
              0.2222222222222222,
              "#7201a8"
             ],
             [
              0.3333333333333333,
              "#9c179e"
             ],
             [
              0.4444444444444444,
              "#bd3786"
             ],
             [
              0.5555555555555556,
              "#d8576b"
             ],
             [
              0.6666666666666666,
              "#ed7953"
             ],
             [
              0.7777777777777778,
              "#fb9f3a"
             ],
             [
              0.8888888888888888,
              "#fdca26"
             ],
             [
              1,
              "#f0f921"
             ]
            ],
            "type": "histogram2d"
           }
          ],
          "histogram2dcontour": [
           {
            "colorbar": {
             "outlinewidth": 0,
             "ticks": ""
            },
            "colorscale": [
             [
              0,
              "#0d0887"
             ],
             [
              0.1111111111111111,
              "#46039f"
             ],
             [
              0.2222222222222222,
              "#7201a8"
             ],
             [
              0.3333333333333333,
              "#9c179e"
             ],
             [
              0.4444444444444444,
              "#bd3786"
             ],
             [
              0.5555555555555556,
              "#d8576b"
             ],
             [
              0.6666666666666666,
              "#ed7953"
             ],
             [
              0.7777777777777778,
              "#fb9f3a"
             ],
             [
              0.8888888888888888,
              "#fdca26"
             ],
             [
              1,
              "#f0f921"
             ]
            ],
            "type": "histogram2dcontour"
           }
          ],
          "mesh3d": [
           {
            "colorbar": {
             "outlinewidth": 0,
             "ticks": ""
            },
            "type": "mesh3d"
           }
          ],
          "parcoords": [
           {
            "line": {
             "colorbar": {
              "outlinewidth": 0,
              "ticks": ""
             }
            },
            "type": "parcoords"
           }
          ],
          "pie": [
           {
            "automargin": true,
            "type": "pie"
           }
          ],
          "scatter": [
           {
            "fillpattern": {
             "fillmode": "overlay",
             "size": 10,
             "solidity": 0.2
            },
            "type": "scatter"
           }
          ],
          "scatter3d": [
           {
            "line": {
             "colorbar": {
              "outlinewidth": 0,
              "ticks": ""
             }
            },
            "marker": {
             "colorbar": {
              "outlinewidth": 0,
              "ticks": ""
             }
            },
            "type": "scatter3d"
           }
          ],
          "scattercarpet": [
           {
            "marker": {
             "colorbar": {
              "outlinewidth": 0,
              "ticks": ""
             }
            },
            "type": "scattercarpet"
           }
          ],
          "scattergeo": [
           {
            "marker": {
             "colorbar": {
              "outlinewidth": 0,
              "ticks": ""
             }
            },
            "type": "scattergeo"
           }
          ],
          "scattergl": [
           {
            "marker": {
             "colorbar": {
              "outlinewidth": 0,
              "ticks": ""
             }
            },
            "type": "scattergl"
           }
          ],
          "scattermapbox": [
           {
            "marker": {
             "colorbar": {
              "outlinewidth": 0,
              "ticks": ""
             }
            },
            "type": "scattermapbox"
           }
          ],
          "scatterpolar": [
           {
            "marker": {
             "colorbar": {
              "outlinewidth": 0,
              "ticks": ""
             }
            },
            "type": "scatterpolar"
           }
          ],
          "scatterpolargl": [
           {
            "marker": {
             "colorbar": {
              "outlinewidth": 0,
              "ticks": ""
             }
            },
            "type": "scatterpolargl"
           }
          ],
          "scatterternary": [
           {
            "marker": {
             "colorbar": {
              "outlinewidth": 0,
              "ticks": ""
             }
            },
            "type": "scatterternary"
           }
          ],
          "surface": [
           {
            "colorbar": {
             "outlinewidth": 0,
             "ticks": ""
            },
            "colorscale": [
             [
              0,
              "#0d0887"
             ],
             [
              0.1111111111111111,
              "#46039f"
             ],
             [
              0.2222222222222222,
              "#7201a8"
             ],
             [
              0.3333333333333333,
              "#9c179e"
             ],
             [
              0.4444444444444444,
              "#bd3786"
             ],
             [
              0.5555555555555556,
              "#d8576b"
             ],
             [
              0.6666666666666666,
              "#ed7953"
             ],
             [
              0.7777777777777778,
              "#fb9f3a"
             ],
             [
              0.8888888888888888,
              "#fdca26"
             ],
             [
              1,
              "#f0f921"
             ]
            ],
            "type": "surface"
           }
          ],
          "table": [
           {
            "cells": {
             "fill": {
              "color": "#EBF0F8"
             },
             "line": {
              "color": "white"
             }
            },
            "header": {
             "fill": {
              "color": "#C8D4E3"
             },
             "line": {
              "color": "white"
             }
            },
            "type": "table"
           }
          ]
         },
         "layout": {
          "annotationdefaults": {
           "arrowcolor": "#2a3f5f",
           "arrowhead": 0,
           "arrowwidth": 1
          },
          "autotypenumbers": "strict",
          "coloraxis": {
           "colorbar": {
            "outlinewidth": 0,
            "ticks": ""
           }
          },
          "colorscale": {
           "diverging": [
            [
             0,
             "#8e0152"
            ],
            [
             0.1,
             "#c51b7d"
            ],
            [
             0.2,
             "#de77ae"
            ],
            [
             0.3,
             "#f1b6da"
            ],
            [
             0.4,
             "#fde0ef"
            ],
            [
             0.5,
             "#f7f7f7"
            ],
            [
             0.6,
             "#e6f5d0"
            ],
            [
             0.7,
             "#b8e186"
            ],
            [
             0.8,
             "#7fbc41"
            ],
            [
             0.9,
             "#4d9221"
            ],
            [
             1,
             "#276419"
            ]
           ],
           "sequential": [
            [
             0,
             "#0d0887"
            ],
            [
             0.1111111111111111,
             "#46039f"
            ],
            [
             0.2222222222222222,
             "#7201a8"
            ],
            [
             0.3333333333333333,
             "#9c179e"
            ],
            [
             0.4444444444444444,
             "#bd3786"
            ],
            [
             0.5555555555555556,
             "#d8576b"
            ],
            [
             0.6666666666666666,
             "#ed7953"
            ],
            [
             0.7777777777777778,
             "#fb9f3a"
            ],
            [
             0.8888888888888888,
             "#fdca26"
            ],
            [
             1,
             "#f0f921"
            ]
           ],
           "sequentialminus": [
            [
             0,
             "#0d0887"
            ],
            [
             0.1111111111111111,
             "#46039f"
            ],
            [
             0.2222222222222222,
             "#7201a8"
            ],
            [
             0.3333333333333333,
             "#9c179e"
            ],
            [
             0.4444444444444444,
             "#bd3786"
            ],
            [
             0.5555555555555556,
             "#d8576b"
            ],
            [
             0.6666666666666666,
             "#ed7953"
            ],
            [
             0.7777777777777778,
             "#fb9f3a"
            ],
            [
             0.8888888888888888,
             "#fdca26"
            ],
            [
             1,
             "#f0f921"
            ]
           ]
          },
          "colorway": [
           "#636efa",
           "#EF553B",
           "#00cc96",
           "#ab63fa",
           "#FFA15A",
           "#19d3f3",
           "#FF6692",
           "#B6E880",
           "#FF97FF",
           "#FECB52"
          ],
          "font": {
           "color": "#2a3f5f"
          },
          "geo": {
           "bgcolor": "white",
           "lakecolor": "white",
           "landcolor": "#E5ECF6",
           "showlakes": true,
           "showland": true,
           "subunitcolor": "white"
          },
          "hoverlabel": {
           "align": "left"
          },
          "hovermode": "closest",
          "mapbox": {
           "style": "light"
          },
          "paper_bgcolor": "white",
          "plot_bgcolor": "#E5ECF6",
          "polar": {
           "angularaxis": {
            "gridcolor": "white",
            "linecolor": "white",
            "ticks": ""
           },
           "bgcolor": "#E5ECF6",
           "radialaxis": {
            "gridcolor": "white",
            "linecolor": "white",
            "ticks": ""
           }
          },
          "scene": {
           "xaxis": {
            "backgroundcolor": "#E5ECF6",
            "gridcolor": "white",
            "gridwidth": 2,
            "linecolor": "white",
            "showbackground": true,
            "ticks": "",
            "zerolinecolor": "white"
           },
           "yaxis": {
            "backgroundcolor": "#E5ECF6",
            "gridcolor": "white",
            "gridwidth": 2,
            "linecolor": "white",
            "showbackground": true,
            "ticks": "",
            "zerolinecolor": "white"
           },
           "zaxis": {
            "backgroundcolor": "#E5ECF6",
            "gridcolor": "white",
            "gridwidth": 2,
            "linecolor": "white",
            "showbackground": true,
            "ticks": "",
            "zerolinecolor": "white"
           }
          },
          "shapedefaults": {
           "line": {
            "color": "#2a3f5f"
           }
          },
          "ternary": {
           "aaxis": {
            "gridcolor": "white",
            "linecolor": "white",
            "ticks": ""
           },
           "baxis": {
            "gridcolor": "white",
            "linecolor": "white",
            "ticks": ""
           },
           "bgcolor": "#E5ECF6",
           "caxis": {
            "gridcolor": "white",
            "linecolor": "white",
            "ticks": ""
           }
          },
          "title": {
           "x": 0.05
          },
          "xaxis": {
           "automargin": true,
           "gridcolor": "white",
           "linecolor": "white",
           "ticks": "",
           "title": {
            "standoff": 15
           },
           "zerolinecolor": "white",
           "zerolinewidth": 2
          },
          "yaxis": {
           "automargin": true,
           "gridcolor": "white",
           "linecolor": "white",
           "ticks": "",
           "title": {
            "standoff": 15
           },
           "zerolinecolor": "white",
           "zerolinewidth": 2
          }
         }
        },
        "title": {
         "text": "Plant Nutrients by Site Not Including Nitrogen PCA"
        },
        "xaxis": {
         "anchor": "y",
         "domain": [
          0,
          1
         ],
         "title": {
          "text": "PC1 28.3%"
         }
        },
        "yaxis": {
         "anchor": "x",
         "domain": [
          0,
          1
         ],
         "title": {
          "text": "PC2 15.0%"
         }
        }
       }
      },
      "text/html": [
       "<div>                            <div id=\"ff474147-1b6a-496c-83a4-f55e69a84ac8\" class=\"plotly-graph-div\" style=\"height:525px; width:100%;\"></div>            <script type=\"text/javascript\">                require([\"plotly\"], function(Plotly) {                    window.PLOTLYENV=window.PLOTLYENV || {};                                    if (document.getElementById(\"ff474147-1b6a-496c-83a4-f55e69a84ac8\")) {                    Plotly.newPlot(                        \"ff474147-1b6a-496c-83a4-f55e69a84ac8\",                        [{\"hovertemplate\":\"color=syriaca<br>0=%{x}<br>1=%{y}<extra></extra>\",\"legendgroup\":\"syriaca\",\"marker\":{\"color\":\"#636efa\",\"symbol\":\"circle\"},\"mode\":\"markers\",\"name\":\"syriaca\",\"orientation\":\"v\",\"showlegend\":true,\"x\":[0.08078289119226495,0.058632432308245656,0.07182117960416222,0.040304404077724065,-0.10066180403527186,-0.026726905971746845,-0.054349690247705,0.025111395346665243,-0.07784085030119282,-0.13202446566747414,0.08450385136164118,-0.0694536927606409,0.06928515082351078,0.038777097515082196,0.016423614097740832,-0.004234347369751636,0.11611702902148799,0.04175340487277962,0.13339181562108132,-0.038145753663733344,-0.03730464578928799,-0.010498754452993796,-0.007420064782636041,0.041515534029558994,0.05436119708927787,-0.053093353663940177,0.06044800888382199,-0.04190584372848522,-0.007739827590966709,0.058325582640437586,-0.025940193830661516,0.014922165697156568,-0.042765970652392495,0.01199585049733475,-0.015377188741442064,-0.014477561039797072,-0.00795837819181751,-0.04176360850980958,-0.0077710179591118185,-0.08398903046831513,-0.006656189357238868,-0.059222075580087706,-0.00875357983892771,-0.02121956223844948,-0.022913252827274938,-0.003430742325747679,0.039512690464938584,-0.019050591736467896,0.023437859825129775,-0.08177710233765284,0.048220694022319786,0.014901114894744204,-0.024023114684931447,0.04271366406239527,-0.09510301909907946,-0.043715411870742016,-0.009551589679331536,0.03457732959917991,-0.03018625401953564,0.03376523347119651,-0.019243101063313627,-0.06342710134599586,-0.06460652068031159,-0.04833772080663266,0.03928425454532594,-0.10978013522762997,0.11162668157125757,-0.031593253337723066,-0.01819243361845637,-0.0066741906795750134,0.034205233794285195,-0.0024589065135571003,-0.028667897450048826,0.030361307691070444,0.0016294571039413982,-0.0629164864492192,-0.030649509173511075,0.10148253189745506,0.014469610360794367,-0.04466024095576369,-0.044659542851015144,0.02414410858270708,0.05017179752628922,0.05081151321057072,0.05882084195487593,-0.07169770067369616,-0.05200942898803568,-0.03977796522511643,-0.035165062743829294,0.011379514486776538,0.03627594020216779,-0.00745867548116602,0.03815803998078263,-0.031872221079297595,-0.02462350204495618,-0.03128508354392715,-0.003813550219749832,-0.04656389749506624,-0.026564107705765734,-0.027030815018728276,0.005249644582776181,0.03658844357664815,-0.019958134988709936,-0.04324802085496602],\"xaxis\":\"x\",\"y\":[0.0186966585685695,0.0119007539676495,0.02218679998540531,-0.0024055215875751156,0.1686491397891048,-0.017066910918844762,0.16256126693290004,0.03738061915276977,0.08366245683560722,0.11915267782291222,0.026518831860434324,-0.018636639209243508,-0.010530133385841408,0.02755151122460831,0.05542888535704464,-0.012489334739198936,0.03832010782657954,0.0036774312500747397,0.019419775457201284,0.034717616058185845,-0.05281766418039953,-0.03829127146091521,-0.02156975675562248,-0.021826618982486452,-0.01017240926104677,-0.002885004317055094,-0.000698041618202271,-0.04194118378663058,-0.036269285608432913,-0.0011750713014873988,-0.04473229982130643,-0.030126015090640803,-0.012264011478742095,0.004677344084294346,0.004243864543151033,0.017098771990907626,0.026438716795141766,-0.033491814939224034,-0.020125396000355802,-0.03575541518285527,-0.03644643200202489,-0.023636456349587043,-0.037178642066486654,-0.00485075278350195,-0.014150199843058578,0.027603896776403535,0.008678265627927948,-0.0047076932452425726,0.03593355733610193,0.03393885585740229,0.02172230177694405,0.001974518637691861,0.039464442121385127,0.003980164747046167,0.005601727935085217,-0.059196209188320296,-0.024303024288389288,0.014124218085305161,-0.037531665889247355,-0.008772261564745662,-0.031084358806955266,-0.03322282001729961,-0.036506821929451254,0.04658921011421272,0.04028533386027695,-0.030130321774892006,0.009112410415683742,0.007941702963310898,-0.052342978627995716,-0.02960515033588471,0.03787663712360668,-0.03457905929412283,-0.03681303325052111,-0.016396498011381867,-0.02063706327877793,-0.019851513674758608,-0.019046679528283247,0.002178538706704789,0.01373928242383782,0.006049998797511948,-0.04477531368423254,-0.015345756236103108,0.00012866073047577845,0.031115825208388716,0.019432901910565605,-0.013170869782480518,-0.04337925957960034,-0.028816119346990045,-0.006262959867469878,-0.036104465898983334,-0.017175158344923742,-0.03922994872828499,-0.018521924390914053,-0.00739313574597298,-0.0040987541702110315,-0.03670951224288847,-0.014961262986945122,-0.02672383016742051,0.06585271404224825,-0.021160033152721348,-0.031745918335287664,0.008143652303208637,0.007780581597886629,-0.028564547392348833],\"yaxis\":\"y\",\"type\":\"scatter\"},{\"hovertemplate\":\"color=quadrifolia<br>0=%{x}<br>1=%{y}<extra></extra>\",\"legendgroup\":\"quadrifolia\",\"marker\":{\"color\":\"#EF553B\",\"symbol\":\"circle\"},\"mode\":\"markers\",\"name\":\"quadrifolia\",\"orientation\":\"v\",\"showlegend\":true,\"x\":[0.03984373277387284,0.06209891887574654,0.048431551670158196,0.030561635676861668,0.054863873623316774,-0.048322650886285776,0.006502723912987439,0.012817772813346954,-0.03300108307203166,0.01778214273515391],\"xaxis\":\"x\",\"y\":[-0.017247410776581314,-1.3101053609348318e-05,-0.003945714553951357,0.006850533973306292,0.00014736480506797822,-0.004589658419143736,-0.031562904890670894,0.002804926478813262,-0.04957259916108485,-0.030570610284859856],\"yaxis\":\"y\",\"type\":\"scatter\"},{\"hovertemplate\":\"color=exaltata<br>0=%{x}<br>1=%{y}<extra></extra>\",\"legendgroup\":\"exaltata\",\"marker\":{\"color\":\"#00cc96\",\"symbol\":\"circle\"},\"mode\":\"markers\",\"name\":\"exaltata\",\"orientation\":\"v\",\"showlegend\":true,\"x\":[0.043956509254818026,0.0016676444672163566,-0.021466528403130875,0.0699515336844732,-0.027936911290734355,-0.04241416452789934,0.08813446614957293,-0.005782062218062662,0.08288196915007477,-0.03576968870903579,-0.028522952423962293,-0.005225103806569668,0.046825646668053604,-0.03106295833634488,0.0703664817855979,-0.04935286236663193,0.02439866600617447,-0.05921883380537414,-0.0008620331350002508,-0.08221080277098806,-0.03842062432280472,-0.0025420795797916453,0.03815799207852964,-0.0019596789411254643,-0.014442302865457283,0.009394945651925427,0.04433894420674742,0.05133039518797802,-0.0018804550260835492,0.06372641302646859,0.026539649405712913,0.017738933873484252,0.024704582806914142,0.08838682019106464,-0.04362789804802212,0.004751122553637796,-0.026236675076947904,0.06742241892535865,0.0810155211884165,0.04075428489041084,0.015627548034153938,0.015375411124034876,-0.031018313083174674,-0.09550721058106909,0.01170982422109534,0.04160533703204441,-0.06841176895688164,-0.014193010004674569,0.015469360694731834,-0.02612229559926175],\"xaxis\":\"x\",\"y\":[-0.0062826974311933305,0.038506928246142526,0.02726058263252925,0.016761622698902637,0.05070758134305978,0.13298645649688362,0.040568584380548084,-0.03297128661628801,0.020021427203266728,0.0156340854539338,0.0011751936160674169,0.021785504293281983,0.01809204005994871,0.06457561624623757,0.018270577227856476,-0.0028975510405128847,0.018963271973053225,0.021453726578306315,0.02481263755660609,0.020809596603679998,0.019887010403062257,0.03030413271342159,0.021863305864142923,0.018838627751872887,0.006120147532267935,-0.019176990571128358,-0.013984420516864148,-0.003081983113346189,0.0007361847463191771,-0.011767690827405777,-0.002472402233700826,-0.0354862671897134,-0.013176118940963004,-0.01073561570645168,-0.04039000634428977,-0.02603333258056234,-0.02427988582019406,-0.005162124294502384,0.0008989827052421541,-0.023994147807281443,-0.030521542329233726,0.003301957887782949,-0.039685785846763307,-0.00816056348694301,-0.011084173890046962,-0.003700377310336825,-0.03026122341006269,-0.015651711340643547,-0.013581953655921,0.01811544195012038],\"yaxis\":\"y\",\"type\":\"scatter\"},{\"hovertemplate\":\"color=hybrid<br>0=%{x}<br>1=%{y}<extra></extra>\",\"legendgroup\":\"hybrid\",\"marker\":{\"color\":\"#ab63fa\",\"symbol\":\"circle\"},\"mode\":\"markers\",\"name\":\"hybrid\",\"orientation\":\"v\",\"showlegend\":true,\"x\":[-0.05990329735998473],\"xaxis\":\"x\",\"y\":[0.018653378851582313],\"yaxis\":\"y\",\"type\":\"scatter\"}],                        {\"template\":{\"data\":{\"histogram2dcontour\":[{\"type\":\"histogram2dcontour\",\"colorbar\":{\"outlinewidth\":0,\"ticks\":\"\"},\"colorscale\":[[0.0,\"#0d0887\"],[0.1111111111111111,\"#46039f\"],[0.2222222222222222,\"#7201a8\"],[0.3333333333333333,\"#9c179e\"],[0.4444444444444444,\"#bd3786\"],[0.5555555555555556,\"#d8576b\"],[0.6666666666666666,\"#ed7953\"],[0.7777777777777778,\"#fb9f3a\"],[0.8888888888888888,\"#fdca26\"],[1.0,\"#f0f921\"]]}],\"choropleth\":[{\"type\":\"choropleth\",\"colorbar\":{\"outlinewidth\":0,\"ticks\":\"\"}}],\"histogram2d\":[{\"type\":\"histogram2d\",\"colorbar\":{\"outlinewidth\":0,\"ticks\":\"\"},\"colorscale\":[[0.0,\"#0d0887\"],[0.1111111111111111,\"#46039f\"],[0.2222222222222222,\"#7201a8\"],[0.3333333333333333,\"#9c179e\"],[0.4444444444444444,\"#bd3786\"],[0.5555555555555556,\"#d8576b\"],[0.6666666666666666,\"#ed7953\"],[0.7777777777777778,\"#fb9f3a\"],[0.8888888888888888,\"#fdca26\"],[1.0,\"#f0f921\"]]}],\"heatmap\":[{\"type\":\"heatmap\",\"colorbar\":{\"outlinewidth\":0,\"ticks\":\"\"},\"colorscale\":[[0.0,\"#0d0887\"],[0.1111111111111111,\"#46039f\"],[0.2222222222222222,\"#7201a8\"],[0.3333333333333333,\"#9c179e\"],[0.4444444444444444,\"#bd3786\"],[0.5555555555555556,\"#d8576b\"],[0.6666666666666666,\"#ed7953\"],[0.7777777777777778,\"#fb9f3a\"],[0.8888888888888888,\"#fdca26\"],[1.0,\"#f0f921\"]]}],\"heatmapgl\":[{\"type\":\"heatmapgl\",\"colorbar\":{\"outlinewidth\":0,\"ticks\":\"\"},\"colorscale\":[[0.0,\"#0d0887\"],[0.1111111111111111,\"#46039f\"],[0.2222222222222222,\"#7201a8\"],[0.3333333333333333,\"#9c179e\"],[0.4444444444444444,\"#bd3786\"],[0.5555555555555556,\"#d8576b\"],[0.6666666666666666,\"#ed7953\"],[0.7777777777777778,\"#fb9f3a\"],[0.8888888888888888,\"#fdca26\"],[1.0,\"#f0f921\"]]}],\"contourcarpet\":[{\"type\":\"contourcarpet\",\"colorbar\":{\"outlinewidth\":0,\"ticks\":\"\"}}],\"contour\":[{\"type\":\"contour\",\"colorbar\":{\"outlinewidth\":0,\"ticks\":\"\"},\"colorscale\":[[0.0,\"#0d0887\"],[0.1111111111111111,\"#46039f\"],[0.2222222222222222,\"#7201a8\"],[0.3333333333333333,\"#9c179e\"],[0.4444444444444444,\"#bd3786\"],[0.5555555555555556,\"#d8576b\"],[0.6666666666666666,\"#ed7953\"],[0.7777777777777778,\"#fb9f3a\"],[0.8888888888888888,\"#fdca26\"],[1.0,\"#f0f921\"]]}],\"surface\":[{\"type\":\"surface\",\"colorbar\":{\"outlinewidth\":0,\"ticks\":\"\"},\"colorscale\":[[0.0,\"#0d0887\"],[0.1111111111111111,\"#46039f\"],[0.2222222222222222,\"#7201a8\"],[0.3333333333333333,\"#9c179e\"],[0.4444444444444444,\"#bd3786\"],[0.5555555555555556,\"#d8576b\"],[0.6666666666666666,\"#ed7953\"],[0.7777777777777778,\"#fb9f3a\"],[0.8888888888888888,\"#fdca26\"],[1.0,\"#f0f921\"]]}],\"mesh3d\":[{\"type\":\"mesh3d\",\"colorbar\":{\"outlinewidth\":0,\"ticks\":\"\"}}],\"scatter\":[{\"fillpattern\":{\"fillmode\":\"overlay\",\"size\":10,\"solidity\":0.2},\"type\":\"scatter\"}],\"parcoords\":[{\"type\":\"parcoords\",\"line\":{\"colorbar\":{\"outlinewidth\":0,\"ticks\":\"\"}}}],\"scatterpolargl\":[{\"type\":\"scatterpolargl\",\"marker\":{\"colorbar\":{\"outlinewidth\":0,\"ticks\":\"\"}}}],\"bar\":[{\"error_x\":{\"color\":\"#2a3f5f\"},\"error_y\":{\"color\":\"#2a3f5f\"},\"marker\":{\"line\":{\"color\":\"#E5ECF6\",\"width\":0.5},\"pattern\":{\"fillmode\":\"overlay\",\"size\":10,\"solidity\":0.2}},\"type\":\"bar\"}],\"scattergeo\":[{\"type\":\"scattergeo\",\"marker\":{\"colorbar\":{\"outlinewidth\":0,\"ticks\":\"\"}}}],\"scatterpolar\":[{\"type\":\"scatterpolar\",\"marker\":{\"colorbar\":{\"outlinewidth\":0,\"ticks\":\"\"}}}],\"histogram\":[{\"marker\":{\"pattern\":{\"fillmode\":\"overlay\",\"size\":10,\"solidity\":0.2}},\"type\":\"histogram\"}],\"scattergl\":[{\"type\":\"scattergl\",\"marker\":{\"colorbar\":{\"outlinewidth\":0,\"ticks\":\"\"}}}],\"scatter3d\":[{\"type\":\"scatter3d\",\"line\":{\"colorbar\":{\"outlinewidth\":0,\"ticks\":\"\"}},\"marker\":{\"colorbar\":{\"outlinewidth\":0,\"ticks\":\"\"}}}],\"scattermapbox\":[{\"type\":\"scattermapbox\",\"marker\":{\"colorbar\":{\"outlinewidth\":0,\"ticks\":\"\"}}}],\"scatterternary\":[{\"type\":\"scatterternary\",\"marker\":{\"colorbar\":{\"outlinewidth\":0,\"ticks\":\"\"}}}],\"scattercarpet\":[{\"type\":\"scattercarpet\",\"marker\":{\"colorbar\":{\"outlinewidth\":0,\"ticks\":\"\"}}}],\"carpet\":[{\"aaxis\":{\"endlinecolor\":\"#2a3f5f\",\"gridcolor\":\"white\",\"linecolor\":\"white\",\"minorgridcolor\":\"white\",\"startlinecolor\":\"#2a3f5f\"},\"baxis\":{\"endlinecolor\":\"#2a3f5f\",\"gridcolor\":\"white\",\"linecolor\":\"white\",\"minorgridcolor\":\"white\",\"startlinecolor\":\"#2a3f5f\"},\"type\":\"carpet\"}],\"table\":[{\"cells\":{\"fill\":{\"color\":\"#EBF0F8\"},\"line\":{\"color\":\"white\"}},\"header\":{\"fill\":{\"color\":\"#C8D4E3\"},\"line\":{\"color\":\"white\"}},\"type\":\"table\"}],\"barpolar\":[{\"marker\":{\"line\":{\"color\":\"#E5ECF6\",\"width\":0.5},\"pattern\":{\"fillmode\":\"overlay\",\"size\":10,\"solidity\":0.2}},\"type\":\"barpolar\"}],\"pie\":[{\"automargin\":true,\"type\":\"pie\"}]},\"layout\":{\"autotypenumbers\":\"strict\",\"colorway\":[\"#636efa\",\"#EF553B\",\"#00cc96\",\"#ab63fa\",\"#FFA15A\",\"#19d3f3\",\"#FF6692\",\"#B6E880\",\"#FF97FF\",\"#FECB52\"],\"font\":{\"color\":\"#2a3f5f\"},\"hovermode\":\"closest\",\"hoverlabel\":{\"align\":\"left\"},\"paper_bgcolor\":\"white\",\"plot_bgcolor\":\"#E5ECF6\",\"polar\":{\"bgcolor\":\"#E5ECF6\",\"angularaxis\":{\"gridcolor\":\"white\",\"linecolor\":\"white\",\"ticks\":\"\"},\"radialaxis\":{\"gridcolor\":\"white\",\"linecolor\":\"white\",\"ticks\":\"\"}},\"ternary\":{\"bgcolor\":\"#E5ECF6\",\"aaxis\":{\"gridcolor\":\"white\",\"linecolor\":\"white\",\"ticks\":\"\"},\"baxis\":{\"gridcolor\":\"white\",\"linecolor\":\"white\",\"ticks\":\"\"},\"caxis\":{\"gridcolor\":\"white\",\"linecolor\":\"white\",\"ticks\":\"\"}},\"coloraxis\":{\"colorbar\":{\"outlinewidth\":0,\"ticks\":\"\"}},\"colorscale\":{\"sequential\":[[0.0,\"#0d0887\"],[0.1111111111111111,\"#46039f\"],[0.2222222222222222,\"#7201a8\"],[0.3333333333333333,\"#9c179e\"],[0.4444444444444444,\"#bd3786\"],[0.5555555555555556,\"#d8576b\"],[0.6666666666666666,\"#ed7953\"],[0.7777777777777778,\"#fb9f3a\"],[0.8888888888888888,\"#fdca26\"],[1.0,\"#f0f921\"]],\"sequentialminus\":[[0.0,\"#0d0887\"],[0.1111111111111111,\"#46039f\"],[0.2222222222222222,\"#7201a8\"],[0.3333333333333333,\"#9c179e\"],[0.4444444444444444,\"#bd3786\"],[0.5555555555555556,\"#d8576b\"],[0.6666666666666666,\"#ed7953\"],[0.7777777777777778,\"#fb9f3a\"],[0.8888888888888888,\"#fdca26\"],[1.0,\"#f0f921\"]],\"diverging\":[[0,\"#8e0152\"],[0.1,\"#c51b7d\"],[0.2,\"#de77ae\"],[0.3,\"#f1b6da\"],[0.4,\"#fde0ef\"],[0.5,\"#f7f7f7\"],[0.6,\"#e6f5d0\"],[0.7,\"#b8e186\"],[0.8,\"#7fbc41\"],[0.9,\"#4d9221\"],[1,\"#276419\"]]},\"xaxis\":{\"gridcolor\":\"white\",\"linecolor\":\"white\",\"ticks\":\"\",\"title\":{\"standoff\":15},\"zerolinecolor\":\"white\",\"automargin\":true,\"zerolinewidth\":2},\"yaxis\":{\"gridcolor\":\"white\",\"linecolor\":\"white\",\"ticks\":\"\",\"title\":{\"standoff\":15},\"zerolinecolor\":\"white\",\"automargin\":true,\"zerolinewidth\":2},\"scene\":{\"xaxis\":{\"backgroundcolor\":\"#E5ECF6\",\"gridcolor\":\"white\",\"linecolor\":\"white\",\"showbackground\":true,\"ticks\":\"\",\"zerolinecolor\":\"white\",\"gridwidth\":2},\"yaxis\":{\"backgroundcolor\":\"#E5ECF6\",\"gridcolor\":\"white\",\"linecolor\":\"white\",\"showbackground\":true,\"ticks\":\"\",\"zerolinecolor\":\"white\",\"gridwidth\":2},\"zaxis\":{\"backgroundcolor\":\"#E5ECF6\",\"gridcolor\":\"white\",\"linecolor\":\"white\",\"showbackground\":true,\"ticks\":\"\",\"zerolinecolor\":\"white\",\"gridwidth\":2}},\"shapedefaults\":{\"line\":{\"color\":\"#2a3f5f\"}},\"annotationdefaults\":{\"arrowcolor\":\"#2a3f5f\",\"arrowhead\":0,\"arrowwidth\":1},\"geo\":{\"bgcolor\":\"white\",\"landcolor\":\"#E5ECF6\",\"subunitcolor\":\"white\",\"showland\":true,\"showlakes\":true,\"lakecolor\":\"white\"},\"title\":{\"x\":0.05},\"mapbox\":{\"style\":\"light\"}}},\"xaxis\":{\"anchor\":\"y\",\"domain\":[0.0,1.0],\"title\":{\"text\":\"PC1 28.3%\"}},\"yaxis\":{\"anchor\":\"x\",\"domain\":[0.0,1.0],\"title\":{\"text\":\"PC2 15.0%\"}},\"legend\":{\"title\":{\"text\":\"color\"},\"tracegroupgap\":0},\"margin\":{\"t\":60},\"title\":{\"text\":\"Plant Nutrients by Site Not Including Nitrogen PCA\"}},                        {\"responsive\": true}                    ).then(function(){\n",
       "                            \n",
       "var gd = document.getElementById('ff474147-1b6a-496c-83a4-f55e69a84ac8');\n",
       "var x = new MutationObserver(function (mutations, observer) {{\n",
       "        var display = window.getComputedStyle(gd).display;\n",
       "        if (!display || display === 'none') {{\n",
       "            console.log([gd, 'removed!']);\n",
       "            Plotly.purge(gd);\n",
       "            observer.disconnect();\n",
       "        }}\n",
       "}});\n",
       "\n",
       "// Listen for the removal of the full notebook cells\n",
       "var notebookContainer = gd.closest('#notebook-container');\n",
       "if (notebookContainer) {{\n",
       "    x.observe(notebookContainer, {childList: true});\n",
       "}}\n",
       "\n",
       "// Listen for the clearing of the current output cell\n",
       "var outputEl = gd.closest('.output');\n",
       "if (outputEl) {{\n",
       "    x.observe(outputEl, {childList: true});\n",
       "}}\n",
       "\n",
       "                        })                };                });            </script>        </div>"
      ]
     },
     "metadata": {},
     "output_type": "display_data"
    }
   ],
   "source": [
    "X = pivoted_df[genera_col]\n",
    "\n",
    "pca = PCA(n_components=2)\n",
    "components = pca.fit_transform(X)\n",
    "\n",
    "fig = px.scatter(components, x=0, y=1, color=pivoted_df['species'])\n",
    "fig.update_layout(\n",
    "    title = \"Plant Nutrients by Site Not Including Nitrogen PCA\",\n",
    "    xaxis_title=\"PC1 \" + str(round(100*pca.explained_variance_ratio_[0], 1)) + '%',\n",
    "    yaxis_title=\"PC2 \" + str(round(100*pca.explained_variance_ratio_[1], 1)) + '%')\n",
    "fig.show()"
   ]
  },
  {
   "cell_type": "markdown",
   "id": "ade42b6b",
   "metadata": {},
   "source": [
    "### Get Top 100 Genera"
   ]
  },
  {
   "cell_type": "code",
   "execution_count": 379,
   "id": "5628e853",
   "metadata": {},
   "outputs": [
    {
     "data": {
      "text/html": [
       "<div>\n",
       "<style scoped>\n",
       "    .dataframe tbody tr th:only-of-type {\n",
       "        vertical-align: middle;\n",
       "    }\n",
       "\n",
       "    .dataframe tbody tr th {\n",
       "        vertical-align: top;\n",
       "    }\n",
       "\n",
       "    .dataframe thead th {\n",
       "        text-align: right;\n",
       "    }\n",
       "</style>\n",
       "<table border=\"1\" class=\"dataframe\">\n",
       "  <thead>\n",
       "    <tr style=\"text-align: right;\">\n",
       "      <th>genera</th>\n",
       "      <th>sample_id</th>\n",
       "      <th>site_id</th>\n",
       "      <th>species</th>\n",
       "      <th>V2</th>\n",
       "      <th>Archaea|Euryarchaeota|Halobacteria|Halobacteriales|Haloarculaceae|Halapricum</th>\n",
       "      <th>Archaea|Euryarchaeota|Halobacteria|Halobacteriales|Halococcaceae|Halococcus</th>\n",
       "      <th>Archaea|Euryarchaeota|Halobacteria|Natrialbales|Natrialbaceae|Natrinema</th>\n",
       "      <th>Archaea|Euryarchaeota|Halobacteria|Natrialbales|Natrialbaceae|Natronococcus</th>\n",
       "      <th>Archaea|Euryarchaeota|Halobacteria|Natrialbales|Natrialbaceae|Saliphagus</th>\n",
       "      <th>Archaea|Euryarchaeota|Methanobacteria|Methanobacteriales|Methanobacteriaceae|Methanobacterium</th>\n",
       "      <th>...</th>\n",
       "      <th>Viruses|||Caudovirales|Siphoviridae|Np1virus</th>\n",
       "      <th>Viruses|||Caudovirales|Siphoviridae|Pa6virus</th>\n",
       "      <th>Viruses|||Caudovirales|Siphoviridae|Sextaecvirus</th>\n",
       "      <th>Viruses|||Caudovirales|Siphoviridae|Sk1virus</th>\n",
       "      <th>Viruses|||Herpesvirales|Herpesviridae|Varicellovirus</th>\n",
       "      <th>Viruses||||Baculoviridae|Alphabaculovirus</th>\n",
       "      <th>Viruses||||Baculoviridae|Betabaculovirus</th>\n",
       "      <th>Viruses||||Microviridae|Phix174microvirus</th>\n",
       "      <th>Viruses||||Mimiviridae|Cafeteriavirus</th>\n",
       "      <th>Viruses||||Partitiviridae|Betapartitivirus</th>\n",
       "    </tr>\n",
       "  </thead>\n",
       "  <tbody>\n",
       "    <tr>\n",
       "      <th>0</th>\n",
       "      <td>CMB10</td>\n",
       "      <td>CMB</td>\n",
       "      <td>syriaca</td>\n",
       "      <td>0.999777</td>\n",
       "      <td>0.000000</td>\n",
       "      <td>0.002321</td>\n",
       "      <td>0.0</td>\n",
       "      <td>0.0</td>\n",
       "      <td>0.000078</td>\n",
       "      <td>0.0</td>\n",
       "      <td>...</td>\n",
       "      <td>0.0</td>\n",
       "      <td>0.0</td>\n",
       "      <td>0.0</td>\n",
       "      <td>0.0</td>\n",
       "      <td>0.010126</td>\n",
       "      <td>0.000000</td>\n",
       "      <td>0.0</td>\n",
       "      <td>0.008534</td>\n",
       "      <td>0.0</td>\n",
       "      <td>0.0</td>\n",
       "    </tr>\n",
       "    <tr>\n",
       "      <th>1</th>\n",
       "      <td>CMB11</td>\n",
       "      <td>CMB</td>\n",
       "      <td>syriaca</td>\n",
       "      <td>1.000000</td>\n",
       "      <td>0.000000</td>\n",
       "      <td>0.002065</td>\n",
       "      <td>0.0</td>\n",
       "      <td>0.0</td>\n",
       "      <td>0.000077</td>\n",
       "      <td>0.0</td>\n",
       "      <td>...</td>\n",
       "      <td>0.0</td>\n",
       "      <td>0.0</td>\n",
       "      <td>0.0</td>\n",
       "      <td>0.0</td>\n",
       "      <td>0.020183</td>\n",
       "      <td>0.000000</td>\n",
       "      <td>0.0</td>\n",
       "      <td>0.016292</td>\n",
       "      <td>0.0</td>\n",
       "      <td>0.0</td>\n",
       "    </tr>\n",
       "    <tr>\n",
       "      <th>2</th>\n",
       "      <td>CMB13</td>\n",
       "      <td>CMB</td>\n",
       "      <td>syriaca</td>\n",
       "      <td>0.989131</td>\n",
       "      <td>0.000000</td>\n",
       "      <td>0.003318</td>\n",
       "      <td>0.0</td>\n",
       "      <td>0.0</td>\n",
       "      <td>0.000148</td>\n",
       "      <td>0.0</td>\n",
       "      <td>...</td>\n",
       "      <td>0.0</td>\n",
       "      <td>0.0</td>\n",
       "      <td>0.0</td>\n",
       "      <td>0.0</td>\n",
       "      <td>0.000000</td>\n",
       "      <td>0.000000</td>\n",
       "      <td>0.0</td>\n",
       "      <td>0.000000</td>\n",
       "      <td>0.0</td>\n",
       "      <td>0.0</td>\n",
       "    </tr>\n",
       "    <tr>\n",
       "      <th>3</th>\n",
       "      <td>CMB14</td>\n",
       "      <td>CMB</td>\n",
       "      <td>syriaca</td>\n",
       "      <td>0.999992</td>\n",
       "      <td>0.000000</td>\n",
       "      <td>0.004577</td>\n",
       "      <td>0.0</td>\n",
       "      <td>0.0</td>\n",
       "      <td>0.000119</td>\n",
       "      <td>0.0</td>\n",
       "      <td>...</td>\n",
       "      <td>0.0</td>\n",
       "      <td>0.0</td>\n",
       "      <td>0.0</td>\n",
       "      <td>0.0</td>\n",
       "      <td>0.029538</td>\n",
       "      <td>0.000000</td>\n",
       "      <td>0.0</td>\n",
       "      <td>0.014428</td>\n",
       "      <td>0.0</td>\n",
       "      <td>0.0</td>\n",
       "    </tr>\n",
       "    <tr>\n",
       "      <th>4</th>\n",
       "      <td>CMB15</td>\n",
       "      <td>CMB</td>\n",
       "      <td>syriaca</td>\n",
       "      <td>0.998548</td>\n",
       "      <td>0.000963</td>\n",
       "      <td>0.002829</td>\n",
       "      <td>0.0</td>\n",
       "      <td>0.0</td>\n",
       "      <td>0.000000</td>\n",
       "      <td>0.0</td>\n",
       "      <td>...</td>\n",
       "      <td>0.0</td>\n",
       "      <td>0.0</td>\n",
       "      <td>0.0</td>\n",
       "      <td>0.0</td>\n",
       "      <td>0.016913</td>\n",
       "      <td>0.000341</td>\n",
       "      <td>0.0</td>\n",
       "      <td>0.000000</td>\n",
       "      <td>0.0</td>\n",
       "      <td>0.0</td>\n",
       "    </tr>\n",
       "  </tbody>\n",
       "</table>\n",
       "<p>5 rows × 1687 columns</p>\n",
       "</div>"
      ],
      "text/plain": [
       "genera sample_id site_id  species        V2  \\\n",
       "0          CMB10     CMB  syriaca  0.999777   \n",
       "1          CMB11     CMB  syriaca  1.000000   \n",
       "2          CMB13     CMB  syriaca  0.989131   \n",
       "3          CMB14     CMB  syriaca  0.999992   \n",
       "4          CMB15     CMB  syriaca  0.998548   \n",
       "\n",
       "genera  Archaea|Euryarchaeota|Halobacteria|Halobacteriales|Haloarculaceae|Halapricum  \\\n",
       "0                                                0.000000                              \n",
       "1                                                0.000000                              \n",
       "2                                                0.000000                              \n",
       "3                                                0.000000                              \n",
       "4                                                0.000963                              \n",
       "\n",
       "genera  Archaea|Euryarchaeota|Halobacteria|Halobacteriales|Halococcaceae|Halococcus  \\\n",
       "0                                                0.002321                             \n",
       "1                                                0.002065                             \n",
       "2                                                0.003318                             \n",
       "3                                                0.004577                             \n",
       "4                                                0.002829                             \n",
       "\n",
       "genera  Archaea|Euryarchaeota|Halobacteria|Natrialbales|Natrialbaceae|Natrinema  \\\n",
       "0                                                     0.0                         \n",
       "1                                                     0.0                         \n",
       "2                                                     0.0                         \n",
       "3                                                     0.0                         \n",
       "4                                                     0.0                         \n",
       "\n",
       "genera  Archaea|Euryarchaeota|Halobacteria|Natrialbales|Natrialbaceae|Natronococcus  \\\n",
       "0                                                     0.0                             \n",
       "1                                                     0.0                             \n",
       "2                                                     0.0                             \n",
       "3                                                     0.0                             \n",
       "4                                                     0.0                             \n",
       "\n",
       "genera  Archaea|Euryarchaeota|Halobacteria|Natrialbales|Natrialbaceae|Saliphagus  \\\n",
       "0                                                0.000078                          \n",
       "1                                                0.000077                          \n",
       "2                                                0.000148                          \n",
       "3                                                0.000119                          \n",
       "4                                                0.000000                          \n",
       "\n",
       "genera  Archaea|Euryarchaeota|Methanobacteria|Methanobacteriales|Methanobacteriaceae|Methanobacterium  \\\n",
       "0                                                     0.0                                               \n",
       "1                                                     0.0                                               \n",
       "2                                                     0.0                                               \n",
       "3                                                     0.0                                               \n",
       "4                                                     0.0                                               \n",
       "\n",
       "genera  ...  Viruses|||Caudovirales|Siphoviridae|Np1virus  \\\n",
       "0       ...                                           0.0   \n",
       "1       ...                                           0.0   \n",
       "2       ...                                           0.0   \n",
       "3       ...                                           0.0   \n",
       "4       ...                                           0.0   \n",
       "\n",
       "genera  Viruses|||Caudovirales|Siphoviridae|Pa6virus  \\\n",
       "0                                                0.0   \n",
       "1                                                0.0   \n",
       "2                                                0.0   \n",
       "3                                                0.0   \n",
       "4                                                0.0   \n",
       "\n",
       "genera  Viruses|||Caudovirales|Siphoviridae|Sextaecvirus  \\\n",
       "0                                                    0.0   \n",
       "1                                                    0.0   \n",
       "2                                                    0.0   \n",
       "3                                                    0.0   \n",
       "4                                                    0.0   \n",
       "\n",
       "genera  Viruses|||Caudovirales|Siphoviridae|Sk1virus  \\\n",
       "0                                                0.0   \n",
       "1                                                0.0   \n",
       "2                                                0.0   \n",
       "3                                                0.0   \n",
       "4                                                0.0   \n",
       "\n",
       "genera  Viruses|||Herpesvirales|Herpesviridae|Varicellovirus  \\\n",
       "0                                                0.010126      \n",
       "1                                                0.020183      \n",
       "2                                                0.000000      \n",
       "3                                                0.029538      \n",
       "4                                                0.016913      \n",
       "\n",
       "genera  Viruses||||Baculoviridae|Alphabaculovirus  \\\n",
       "0                                        0.000000   \n",
       "1                                        0.000000   \n",
       "2                                        0.000000   \n",
       "3                                        0.000000   \n",
       "4                                        0.000341   \n",
       "\n",
       "genera  Viruses||||Baculoviridae|Betabaculovirus  \\\n",
       "0                                            0.0   \n",
       "1                                            0.0   \n",
       "2                                            0.0   \n",
       "3                                            0.0   \n",
       "4                                            0.0   \n",
       "\n",
       "genera  Viruses||||Microviridae|Phix174microvirus  \\\n",
       "0                                        0.008534   \n",
       "1                                        0.016292   \n",
       "2                                        0.000000   \n",
       "3                                        0.014428   \n",
       "4                                        0.000000   \n",
       "\n",
       "genera  Viruses||||Mimiviridae|Cafeteriavirus  \\\n",
       "0                                         0.0   \n",
       "1                                         0.0   \n",
       "2                                         0.0   \n",
       "3                                         0.0   \n",
       "4                                         0.0   \n",
       "\n",
       "genera  Viruses||||Partitiviridae|Betapartitivirus  \n",
       "0                                              0.0  \n",
       "1                                              0.0  \n",
       "2                                              0.0  \n",
       "3                                              0.0  \n",
       "4                                              0.0  \n",
       "\n",
       "[5 rows x 1687 columns]"
      ]
     },
     "execution_count": 379,
     "metadata": {},
     "output_type": "execute_result"
    }
   ],
   "source": [
    "pivoted_df.head()"
   ]
  },
  {
   "cell_type": "code",
   "execution_count": 380,
   "id": "cf17230e",
   "metadata": {},
   "outputs": [],
   "source": [
    "sum_row = pivoted_df[genera_col].sum()"
   ]
  },
  {
   "cell_type": "code",
   "execution_count": 381,
   "id": "41ef50a5",
   "metadata": {},
   "outputs": [],
   "source": [
    "top_100 = sum_row.nlargest(100)\n"
   ]
  },
  {
   "cell_type": "code",
   "execution_count": 389,
   "id": "4ffd9206",
   "metadata": {},
   "outputs": [],
   "source": [
    "select_columns = (top_100.index).tolist()"
   ]
  },
  {
   "cell_type": "code",
   "execution_count": 390,
   "id": "c2e98fbe",
   "metadata": {},
   "outputs": [],
   "source": [
    "select_columns.insert(0, 'V2')\n",
    "select_columns.insert(0, 'sample_id')\n",
    "select_columns.insert(0, 'site_id')\n",
    "select_columns.insert(0, 'species')"
   ]
  },
  {
   "cell_type": "code",
   "execution_count": 391,
   "id": "5e5721ee",
   "metadata": {},
   "outputs": [],
   "source": [
    "pivoted_df = pivoted_df[select_columns]"
   ]
  },
  {
   "cell_type": "code",
   "execution_count": 392,
   "id": "080d1cbb",
   "metadata": {},
   "outputs": [
    {
     "data": {
      "text/html": [
       "<div>\n",
       "<style scoped>\n",
       "    .dataframe tbody tr th:only-of-type {\n",
       "        vertical-align: middle;\n",
       "    }\n",
       "\n",
       "    .dataframe tbody tr th {\n",
       "        vertical-align: top;\n",
       "    }\n",
       "\n",
       "    .dataframe thead th {\n",
       "        text-align: right;\n",
       "    }\n",
       "</style>\n",
       "<table border=\"1\" class=\"dataframe\">\n",
       "  <thead>\n",
       "    <tr style=\"text-align: right;\">\n",
       "      <th>genera</th>\n",
       "      <th>species</th>\n",
       "      <th>site_id</th>\n",
       "      <th>sample_id</th>\n",
       "      <th>V2</th>\n",
       "      <th>Bacteria|Cyanobacteria||Synechococcales|Synechococcaceae|Synechococcus</th>\n",
       "      <th>Bacteria|Cyanobacteria||Synechococcales|Synechococcaceae|Thermosynechococcus</th>\n",
       "      <th>Bacteria|Cyanobacteria||Synechococcales|Prochloraceae|Prochlorococcus</th>\n",
       "      <th>Bacteria|Cyanobacteria||Gloeoemargaritales|Gloeomargaritaceae|Gloeomargarita</th>\n",
       "      <th>Eukaryota||Chlorarachniophyceae|||Lotharella</th>\n",
       "      <th>Bacteria|Proteobacteria|Gammaproteobacteria|Pseudomonadales|Pseudomonadaceae|Pseudomonas</th>\n",
       "      <th>...</th>\n",
       "      <th>Eukaryota|Apicomplexa|Conoidasida|Eucoccidiorida|Cryptosporidiidae|Cryptosporidium</th>\n",
       "      <th>Bacteria|Cyanobacteria||Chroococcales|Aphanothecaceae|Halothece</th>\n",
       "      <th>Bacteria|Tenericutes|Mollicutes|Mycoplasmatales|Mycoplasmataceae|Mycoplasma</th>\n",
       "      <th>Bacteria|Proteobacteria|Alphaproteobacteria|Rickettsiales|Anaplasmataceae|Neorickettsia</th>\n",
       "      <th>Bacteria|Proteobacteria|Betaproteobacteria|Burkholderiales|Burkholderiaceae|Paraburkholderia</th>\n",
       "      <th>Bacteria|Proteobacteria|Betaproteobacteria|Burkholderiales|Burkholderiaceae|Burkholderia</th>\n",
       "      <th>Bacteria|Cyanobacteria||Chroococcales|Chroococcaceae|Chondrocystis</th>\n",
       "      <th>Bacteria|Actinobacteria|Actinobacteria|Propionibacteriales|Nocardioidaceae|Kribbella</th>\n",
       "      <th>Bacteria|Proteobacteria|Epsilonproteobacteria|Campylobacterales|Campylobacteraceae|Arcobacter</th>\n",
       "      <th>Bacteria|Bacteroidetes|Sphingobacteriia|Sphingobacteriales|Sphingobacteriaceae|Pedobacter</th>\n",
       "    </tr>\n",
       "  </thead>\n",
       "  <tbody>\n",
       "    <tr>\n",
       "      <th>0</th>\n",
       "      <td>syriaca</td>\n",
       "      <td>CMB</td>\n",
       "      <td>CMB10</td>\n",
       "      <td>0.999777</td>\n",
       "      <td>0.251082</td>\n",
       "      <td>0.109277</td>\n",
       "      <td>0.040132</td>\n",
       "      <td>0.037915</td>\n",
       "      <td>0.032095</td>\n",
       "      <td>0.022154</td>\n",
       "      <td>...</td>\n",
       "      <td>0.000027</td>\n",
       "      <td>0.000000</td>\n",
       "      <td>0.000000</td>\n",
       "      <td>0.000000</td>\n",
       "      <td>0.000403</td>\n",
       "      <td>0.000673</td>\n",
       "      <td>0.001045</td>\n",
       "      <td>0.000606</td>\n",
       "      <td>0.000467</td>\n",
       "      <td>0.002218</td>\n",
       "    </tr>\n",
       "    <tr>\n",
       "      <th>1</th>\n",
       "      <td>syriaca</td>\n",
       "      <td>CMB</td>\n",
       "      <td>CMB11</td>\n",
       "      <td>1.000000</td>\n",
       "      <td>0.229215</td>\n",
       "      <td>0.108392</td>\n",
       "      <td>0.047850</td>\n",
       "      <td>0.043322</td>\n",
       "      <td>0.032733</td>\n",
       "      <td>0.033949</td>\n",
       "      <td>...</td>\n",
       "      <td>0.000089</td>\n",
       "      <td>0.012809</td>\n",
       "      <td>0.000000</td>\n",
       "      <td>0.000000</td>\n",
       "      <td>0.000647</td>\n",
       "      <td>0.001016</td>\n",
       "      <td>0.001058</td>\n",
       "      <td>0.000445</td>\n",
       "      <td>0.000000</td>\n",
       "      <td>0.000139</td>\n",
       "    </tr>\n",
       "    <tr>\n",
       "      <th>2</th>\n",
       "      <td>syriaca</td>\n",
       "      <td>CMB</td>\n",
       "      <td>CMB13</td>\n",
       "      <td>0.989131</td>\n",
       "      <td>0.248940</td>\n",
       "      <td>0.130199</td>\n",
       "      <td>0.066974</td>\n",
       "      <td>0.037310</td>\n",
       "      <td>0.042894</td>\n",
       "      <td>0.035666</td>\n",
       "      <td>...</td>\n",
       "      <td>0.001993</td>\n",
       "      <td>0.000000</td>\n",
       "      <td>0.000000</td>\n",
       "      <td>0.000725</td>\n",
       "      <td>0.001145</td>\n",
       "      <td>0.000769</td>\n",
       "      <td>0.001315</td>\n",
       "      <td>0.000622</td>\n",
       "      <td>0.000000</td>\n",
       "      <td>0.000789</td>\n",
       "    </tr>\n",
       "    <tr>\n",
       "      <th>3</th>\n",
       "      <td>syriaca</td>\n",
       "      <td>CMB</td>\n",
       "      <td>CMB14</td>\n",
       "      <td>0.999992</td>\n",
       "      <td>0.207900</td>\n",
       "      <td>0.115806</td>\n",
       "      <td>0.037190</td>\n",
       "      <td>0.045575</td>\n",
       "      <td>0.039696</td>\n",
       "      <td>0.022566</td>\n",
       "      <td>...</td>\n",
       "      <td>0.001717</td>\n",
       "      <td>0.000000</td>\n",
       "      <td>0.000004</td>\n",
       "      <td>0.000000</td>\n",
       "      <td>0.000888</td>\n",
       "      <td>0.000668</td>\n",
       "      <td>0.001097</td>\n",
       "      <td>0.001082</td>\n",
       "      <td>0.000000</td>\n",
       "      <td>0.002480</td>\n",
       "    </tr>\n",
       "    <tr>\n",
       "      <th>4</th>\n",
       "      <td>syriaca</td>\n",
       "      <td>CMB</td>\n",
       "      <td>CMB15</td>\n",
       "      <td>0.998548</td>\n",
       "      <td>0.115334</td>\n",
       "      <td>0.067272</td>\n",
       "      <td>0.002857</td>\n",
       "      <td>0.033787</td>\n",
       "      <td>0.023724</td>\n",
       "      <td>0.208106</td>\n",
       "      <td>...</td>\n",
       "      <td>0.000106</td>\n",
       "      <td>0.000000</td>\n",
       "      <td>0.029350</td>\n",
       "      <td>0.000696</td>\n",
       "      <td>0.000867</td>\n",
       "      <td>0.002539</td>\n",
       "      <td>0.000896</td>\n",
       "      <td>0.000538</td>\n",
       "      <td>0.000000</td>\n",
       "      <td>0.000812</td>\n",
       "    </tr>\n",
       "  </tbody>\n",
       "</table>\n",
       "<p>5 rows × 104 columns</p>\n",
       "</div>"
      ],
      "text/plain": [
       "genera  species site_id sample_id        V2  \\\n",
       "0       syriaca     CMB     CMB10  0.999777   \n",
       "1       syriaca     CMB     CMB11  1.000000   \n",
       "2       syriaca     CMB     CMB13  0.989131   \n",
       "3       syriaca     CMB     CMB14  0.999992   \n",
       "4       syriaca     CMB     CMB15  0.998548   \n",
       "\n",
       "genera  Bacteria|Cyanobacteria||Synechococcales|Synechococcaceae|Synechococcus  \\\n",
       "0                                                0.251082                        \n",
       "1                                                0.229215                        \n",
       "2                                                0.248940                        \n",
       "3                                                0.207900                        \n",
       "4                                                0.115334                        \n",
       "\n",
       "genera  Bacteria|Cyanobacteria||Synechococcales|Synechococcaceae|Thermosynechococcus  \\\n",
       "0                                                0.109277                              \n",
       "1                                                0.108392                              \n",
       "2                                                0.130199                              \n",
       "3                                                0.115806                              \n",
       "4                                                0.067272                              \n",
       "\n",
       "genera  Bacteria|Cyanobacteria||Synechococcales|Prochloraceae|Prochlorococcus  \\\n",
       "0                                                0.040132                       \n",
       "1                                                0.047850                       \n",
       "2                                                0.066974                       \n",
       "3                                                0.037190                       \n",
       "4                                                0.002857                       \n",
       "\n",
       "genera  Bacteria|Cyanobacteria||Gloeoemargaritales|Gloeomargaritaceae|Gloeomargarita  \\\n",
       "0                                                0.037915                              \n",
       "1                                                0.043322                              \n",
       "2                                                0.037310                              \n",
       "3                                                0.045575                              \n",
       "4                                                0.033787                              \n",
       "\n",
       "genera  Eukaryota||Chlorarachniophyceae|||Lotharella  \\\n",
       "0                                           0.032095   \n",
       "1                                           0.032733   \n",
       "2                                           0.042894   \n",
       "3                                           0.039696   \n",
       "4                                           0.023724   \n",
       "\n",
       "genera  Bacteria|Proteobacteria|Gammaproteobacteria|Pseudomonadales|Pseudomonadaceae|Pseudomonas  \\\n",
       "0                                                0.022154                                          \n",
       "1                                                0.033949                                          \n",
       "2                                                0.035666                                          \n",
       "3                                                0.022566                                          \n",
       "4                                                0.208106                                          \n",
       "\n",
       "genera  ...  \\\n",
       "0       ...   \n",
       "1       ...   \n",
       "2       ...   \n",
       "3       ...   \n",
       "4       ...   \n",
       "\n",
       "genera  Eukaryota|Apicomplexa|Conoidasida|Eucoccidiorida|Cryptosporidiidae|Cryptosporidium  \\\n",
       "0                                                0.000027                                    \n",
       "1                                                0.000089                                    \n",
       "2                                                0.001993                                    \n",
       "3                                                0.001717                                    \n",
       "4                                                0.000106                                    \n",
       "\n",
       "genera  Bacteria|Cyanobacteria||Chroococcales|Aphanothecaceae|Halothece  \\\n",
       "0                                                0.000000                 \n",
       "1                                                0.012809                 \n",
       "2                                                0.000000                 \n",
       "3                                                0.000000                 \n",
       "4                                                0.000000                 \n",
       "\n",
       "genera  Bacteria|Tenericutes|Mollicutes|Mycoplasmatales|Mycoplasmataceae|Mycoplasma  \\\n",
       "0                                                0.000000                             \n",
       "1                                                0.000000                             \n",
       "2                                                0.000000                             \n",
       "3                                                0.000004                             \n",
       "4                                                0.029350                             \n",
       "\n",
       "genera  Bacteria|Proteobacteria|Alphaproteobacteria|Rickettsiales|Anaplasmataceae|Neorickettsia  \\\n",
       "0                                                0.000000                                         \n",
       "1                                                0.000000                                         \n",
       "2                                                0.000725                                         \n",
       "3                                                0.000000                                         \n",
       "4                                                0.000696                                         \n",
       "\n",
       "genera  Bacteria|Proteobacteria|Betaproteobacteria|Burkholderiales|Burkholderiaceae|Paraburkholderia  \\\n",
       "0                                                0.000403                                              \n",
       "1                                                0.000647                                              \n",
       "2                                                0.001145                                              \n",
       "3                                                0.000888                                              \n",
       "4                                                0.000867                                              \n",
       "\n",
       "genera  Bacteria|Proteobacteria|Betaproteobacteria|Burkholderiales|Burkholderiaceae|Burkholderia  \\\n",
       "0                                                0.000673                                          \n",
       "1                                                0.001016                                          \n",
       "2                                                0.000769                                          \n",
       "3                                                0.000668                                          \n",
       "4                                                0.002539                                          \n",
       "\n",
       "genera  Bacteria|Cyanobacteria||Chroococcales|Chroococcaceae|Chondrocystis  \\\n",
       "0                                                0.001045                    \n",
       "1                                                0.001058                    \n",
       "2                                                0.001315                    \n",
       "3                                                0.001097                    \n",
       "4                                                0.000896                    \n",
       "\n",
       "genera  Bacteria|Actinobacteria|Actinobacteria|Propionibacteriales|Nocardioidaceae|Kribbella  \\\n",
       "0                                                0.000606                                      \n",
       "1                                                0.000445                                      \n",
       "2                                                0.000622                                      \n",
       "3                                                0.001082                                      \n",
       "4                                                0.000538                                      \n",
       "\n",
       "genera  Bacteria|Proteobacteria|Epsilonproteobacteria|Campylobacterales|Campylobacteraceae|Arcobacter  \\\n",
       "0                                                0.000467                                               \n",
       "1                                                0.000000                                               \n",
       "2                                                0.000000                                               \n",
       "3                                                0.000000                                               \n",
       "4                                                0.000000                                               \n",
       "\n",
       "genera  Bacteria|Bacteroidetes|Sphingobacteriia|Sphingobacteriales|Sphingobacteriaceae|Pedobacter  \n",
       "0                                                0.002218                                          \n",
       "1                                                0.000139                                          \n",
       "2                                                0.000789                                          \n",
       "3                                                0.002480                                          \n",
       "4                                                0.000812                                          \n",
       "\n",
       "[5 rows x 104 columns]"
      ]
     },
     "execution_count": 392,
     "metadata": {},
     "output_type": "execute_result"
    }
   ],
   "source": [
    "pivoted_df.head()"
   ]
  },
  {
   "cell_type": "code",
   "execution_count": 393,
   "id": "91df6fdc",
   "metadata": {},
   "outputs": [],
   "source": [
    "pivoted_df[top_100.index] = StandardScaler().fit_transform(pivoted_df[top_100.index])  "
   ]
  },
  {
   "cell_type": "code",
   "execution_count": 394,
   "id": "2c23d18d",
   "metadata": {},
   "outputs": [
    {
     "data": {
      "text/html": [
       "<div>\n",
       "<style scoped>\n",
       "    .dataframe tbody tr th:only-of-type {\n",
       "        vertical-align: middle;\n",
       "    }\n",
       "\n",
       "    .dataframe tbody tr th {\n",
       "        vertical-align: top;\n",
       "    }\n",
       "\n",
       "    .dataframe thead th {\n",
       "        text-align: right;\n",
       "    }\n",
       "</style>\n",
       "<table border=\"1\" class=\"dataframe\">\n",
       "  <thead>\n",
       "    <tr style=\"text-align: right;\">\n",
       "      <th>genera</th>\n",
       "      <th>species</th>\n",
       "      <th>site_id</th>\n",
       "      <th>sample_id</th>\n",
       "      <th>V2</th>\n",
       "      <th>Bacteria|Cyanobacteria||Synechococcales|Synechococcaceae|Synechococcus</th>\n",
       "      <th>Bacteria|Cyanobacteria||Synechococcales|Synechococcaceae|Thermosynechococcus</th>\n",
       "      <th>Bacteria|Cyanobacteria||Synechococcales|Prochloraceae|Prochlorococcus</th>\n",
       "      <th>Bacteria|Cyanobacteria||Gloeoemargaritales|Gloeomargaritaceae|Gloeomargarita</th>\n",
       "      <th>Eukaryota||Chlorarachniophyceae|||Lotharella</th>\n",
       "      <th>Bacteria|Proteobacteria|Gammaproteobacteria|Pseudomonadales|Pseudomonadaceae|Pseudomonas</th>\n",
       "      <th>...</th>\n",
       "      <th>Eukaryota|Apicomplexa|Conoidasida|Eucoccidiorida|Cryptosporidiidae|Cryptosporidium</th>\n",
       "      <th>Bacteria|Cyanobacteria||Chroococcales|Aphanothecaceae|Halothece</th>\n",
       "      <th>Bacteria|Tenericutes|Mollicutes|Mycoplasmatales|Mycoplasmataceae|Mycoplasma</th>\n",
       "      <th>Bacteria|Proteobacteria|Alphaproteobacteria|Rickettsiales|Anaplasmataceae|Neorickettsia</th>\n",
       "      <th>Bacteria|Proteobacteria|Betaproteobacteria|Burkholderiales|Burkholderiaceae|Paraburkholderia</th>\n",
       "      <th>Bacteria|Proteobacteria|Betaproteobacteria|Burkholderiales|Burkholderiaceae|Burkholderia</th>\n",
       "      <th>Bacteria|Cyanobacteria||Chroococcales|Chroococcaceae|Chondrocystis</th>\n",
       "      <th>Bacteria|Actinobacteria|Actinobacteria|Propionibacteriales|Nocardioidaceae|Kribbella</th>\n",
       "      <th>Bacteria|Proteobacteria|Epsilonproteobacteria|Campylobacterales|Campylobacteraceae|Arcobacter</th>\n",
       "      <th>Bacteria|Bacteroidetes|Sphingobacteriia|Sphingobacteriales|Sphingobacteriaceae|Pedobacter</th>\n",
       "    </tr>\n",
       "  </thead>\n",
       "  <tbody>\n",
       "    <tr>\n",
       "      <th>0</th>\n",
       "      <td>syriaca</td>\n",
       "      <td>CMB</td>\n",
       "      <td>CMB10</td>\n",
       "      <td>0.999777</td>\n",
       "      <td>1.658585</td>\n",
       "      <td>0.449190</td>\n",
       "      <td>-0.625305</td>\n",
       "      <td>0.059558</td>\n",
       "      <td>-0.639892</td>\n",
       "      <td>-0.180795</td>\n",
       "      <td>...</td>\n",
       "      <td>-0.850650</td>\n",
       "      <td>-0.273722</td>\n",
       "      <td>-0.301103</td>\n",
       "      <td>-0.840935</td>\n",
       "      <td>-1.427351</td>\n",
       "      <td>-0.933677</td>\n",
       "      <td>0.148441</td>\n",
       "      <td>-0.682586</td>\n",
       "      <td>-0.460162</td>\n",
       "      <td>1.298733</td>\n",
       "    </tr>\n",
       "    <tr>\n",
       "      <th>1</th>\n",
       "      <td>syriaca</td>\n",
       "      <td>CMB</td>\n",
       "      <td>CMB11</td>\n",
       "      <td>1.000000</td>\n",
       "      <td>1.177418</td>\n",
       "      <td>0.398179</td>\n",
       "      <td>-0.265843</td>\n",
       "      <td>0.624099</td>\n",
       "      <td>-0.554101</td>\n",
       "      <td>0.179081</td>\n",
       "      <td>...</td>\n",
       "      <td>-0.800855</td>\n",
       "      <td>3.046865</td>\n",
       "      <td>-0.301103</td>\n",
       "      <td>-0.840935</td>\n",
       "      <td>-0.874566</td>\n",
       "      <td>-0.003229</td>\n",
       "      <td>0.205422</td>\n",
       "      <td>-0.969094</td>\n",
       "      <td>-0.884026</td>\n",
       "      <td>-0.815379</td>\n",
       "    </tr>\n",
       "    <tr>\n",
       "      <th>2</th>\n",
       "      <td>syriaca</td>\n",
       "      <td>CMB</td>\n",
       "      <td>CMB13</td>\n",
       "      <td>0.989131</td>\n",
       "      <td>1.611450</td>\n",
       "      <td>1.654841</td>\n",
       "      <td>0.624824</td>\n",
       "      <td>-0.003629</td>\n",
       "      <td>0.812189</td>\n",
       "      <td>0.231470</td>\n",
       "      <td>...</td>\n",
       "      <td>0.729160</td>\n",
       "      <td>-0.273722</td>\n",
       "      <td>-0.301103</td>\n",
       "      <td>-0.262099</td>\n",
       "      <td>0.249085</td>\n",
       "      <td>-0.673772</td>\n",
       "      <td>1.278165</td>\n",
       "      <td>-0.653412</td>\n",
       "      <td>-0.884026</td>\n",
       "      <td>-0.154274</td>\n",
       "    </tr>\n",
       "    <tr>\n",
       "      <th>3</th>\n",
       "      <td>syriaca</td>\n",
       "      <td>CMB</td>\n",
       "      <td>CMB14</td>\n",
       "      <td>0.999992</td>\n",
       "      <td>0.708383</td>\n",
       "      <td>0.825395</td>\n",
       "      <td>-0.762340</td>\n",
       "      <td>0.859331</td>\n",
       "      <td>0.382159</td>\n",
       "      <td>-0.168207</td>\n",
       "      <td>...</td>\n",
       "      <td>0.507545</td>\n",
       "      <td>-0.273722</td>\n",
       "      <td>-0.299964</td>\n",
       "      <td>-0.840935</td>\n",
       "      <td>-0.331097</td>\n",
       "      <td>-0.946951</td>\n",
       "      <td>0.367025</td>\n",
       "      <td>0.165866</td>\n",
       "      <td>-0.884026</td>\n",
       "      <td>1.565384</td>\n",
       "    </tr>\n",
       "    <tr>\n",
       "      <th>4</th>\n",
       "      <td>syriaca</td>\n",
       "      <td>CMB</td>\n",
       "      <td>CMB15</td>\n",
       "      <td>0.998548</td>\n",
       "      <td>-1.328517</td>\n",
       "      <td>-1.971450</td>\n",
       "      <td>-2.361323</td>\n",
       "      <td>-0.371434</td>\n",
       "      <td>-1.765472</td>\n",
       "      <td>5.492609</td>\n",
       "      <td>...</td>\n",
       "      <td>-0.787252</td>\n",
       "      <td>-0.273722</td>\n",
       "      <td>8.075702</td>\n",
       "      <td>-0.285143</td>\n",
       "      <td>-0.378678</td>\n",
       "      <td>4.127426</td>\n",
       "      <td>-0.473773</td>\n",
       "      <td>-0.804276</td>\n",
       "      <td>-0.884026</td>\n",
       "      <td>-0.130607</td>\n",
       "    </tr>\n",
       "  </tbody>\n",
       "</table>\n",
       "<p>5 rows × 104 columns</p>\n",
       "</div>"
      ],
      "text/plain": [
       "genera  species site_id sample_id        V2  \\\n",
       "0       syriaca     CMB     CMB10  0.999777   \n",
       "1       syriaca     CMB     CMB11  1.000000   \n",
       "2       syriaca     CMB     CMB13  0.989131   \n",
       "3       syriaca     CMB     CMB14  0.999992   \n",
       "4       syriaca     CMB     CMB15  0.998548   \n",
       "\n",
       "genera  Bacteria|Cyanobacteria||Synechococcales|Synechococcaceae|Synechococcus  \\\n",
       "0                                                1.658585                        \n",
       "1                                                1.177418                        \n",
       "2                                                1.611450                        \n",
       "3                                                0.708383                        \n",
       "4                                               -1.328517                        \n",
       "\n",
       "genera  Bacteria|Cyanobacteria||Synechococcales|Synechococcaceae|Thermosynechococcus  \\\n",
       "0                                                0.449190                              \n",
       "1                                                0.398179                              \n",
       "2                                                1.654841                              \n",
       "3                                                0.825395                              \n",
       "4                                               -1.971450                              \n",
       "\n",
       "genera  Bacteria|Cyanobacteria||Synechococcales|Prochloraceae|Prochlorococcus  \\\n",
       "0                                               -0.625305                       \n",
       "1                                               -0.265843                       \n",
       "2                                                0.624824                       \n",
       "3                                               -0.762340                       \n",
       "4                                               -2.361323                       \n",
       "\n",
       "genera  Bacteria|Cyanobacteria||Gloeoemargaritales|Gloeomargaritaceae|Gloeomargarita  \\\n",
       "0                                                0.059558                              \n",
       "1                                                0.624099                              \n",
       "2                                               -0.003629                              \n",
       "3                                                0.859331                              \n",
       "4                                               -0.371434                              \n",
       "\n",
       "genera  Eukaryota||Chlorarachniophyceae|||Lotharella  \\\n",
       "0                                          -0.639892   \n",
       "1                                          -0.554101   \n",
       "2                                           0.812189   \n",
       "3                                           0.382159   \n",
       "4                                          -1.765472   \n",
       "\n",
       "genera  Bacteria|Proteobacteria|Gammaproteobacteria|Pseudomonadales|Pseudomonadaceae|Pseudomonas  \\\n",
       "0                                               -0.180795                                          \n",
       "1                                                0.179081                                          \n",
       "2                                                0.231470                                          \n",
       "3                                               -0.168207                                          \n",
       "4                                                5.492609                                          \n",
       "\n",
       "genera  ...  \\\n",
       "0       ...   \n",
       "1       ...   \n",
       "2       ...   \n",
       "3       ...   \n",
       "4       ...   \n",
       "\n",
       "genera  Eukaryota|Apicomplexa|Conoidasida|Eucoccidiorida|Cryptosporidiidae|Cryptosporidium  \\\n",
       "0                                               -0.850650                                    \n",
       "1                                               -0.800855                                    \n",
       "2                                                0.729160                                    \n",
       "3                                                0.507545                                    \n",
       "4                                               -0.787252                                    \n",
       "\n",
       "genera  Bacteria|Cyanobacteria||Chroococcales|Aphanothecaceae|Halothece  \\\n",
       "0                                               -0.273722                 \n",
       "1                                                3.046865                 \n",
       "2                                               -0.273722                 \n",
       "3                                               -0.273722                 \n",
       "4                                               -0.273722                 \n",
       "\n",
       "genera  Bacteria|Tenericutes|Mollicutes|Mycoplasmatales|Mycoplasmataceae|Mycoplasma  \\\n",
       "0                                               -0.301103                             \n",
       "1                                               -0.301103                             \n",
       "2                                               -0.301103                             \n",
       "3                                               -0.299964                             \n",
       "4                                                8.075702                             \n",
       "\n",
       "genera  Bacteria|Proteobacteria|Alphaproteobacteria|Rickettsiales|Anaplasmataceae|Neorickettsia  \\\n",
       "0                                               -0.840935                                         \n",
       "1                                               -0.840935                                         \n",
       "2                                               -0.262099                                         \n",
       "3                                               -0.840935                                         \n",
       "4                                               -0.285143                                         \n",
       "\n",
       "genera  Bacteria|Proteobacteria|Betaproteobacteria|Burkholderiales|Burkholderiaceae|Paraburkholderia  \\\n",
       "0                                               -1.427351                                              \n",
       "1                                               -0.874566                                              \n",
       "2                                                0.249085                                              \n",
       "3                                               -0.331097                                              \n",
       "4                                               -0.378678                                              \n",
       "\n",
       "genera  Bacteria|Proteobacteria|Betaproteobacteria|Burkholderiales|Burkholderiaceae|Burkholderia  \\\n",
       "0                                               -0.933677                                          \n",
       "1                                               -0.003229                                          \n",
       "2                                               -0.673772                                          \n",
       "3                                               -0.946951                                          \n",
       "4                                                4.127426                                          \n",
       "\n",
       "genera  Bacteria|Cyanobacteria||Chroococcales|Chroococcaceae|Chondrocystis  \\\n",
       "0                                                0.148441                    \n",
       "1                                                0.205422                    \n",
       "2                                                1.278165                    \n",
       "3                                                0.367025                    \n",
       "4                                               -0.473773                    \n",
       "\n",
       "genera  Bacteria|Actinobacteria|Actinobacteria|Propionibacteriales|Nocardioidaceae|Kribbella  \\\n",
       "0                                               -0.682586                                      \n",
       "1                                               -0.969094                                      \n",
       "2                                               -0.653412                                      \n",
       "3                                                0.165866                                      \n",
       "4                                               -0.804276                                      \n",
       "\n",
       "genera  Bacteria|Proteobacteria|Epsilonproteobacteria|Campylobacterales|Campylobacteraceae|Arcobacter  \\\n",
       "0                                               -0.460162                                               \n",
       "1                                               -0.884026                                               \n",
       "2                                               -0.884026                                               \n",
       "3                                               -0.884026                                               \n",
       "4                                               -0.884026                                               \n",
       "\n",
       "genera  Bacteria|Bacteroidetes|Sphingobacteriia|Sphingobacteriales|Sphingobacteriaceae|Pedobacter  \n",
       "0                                                1.298733                                          \n",
       "1                                               -0.815379                                          \n",
       "2                                               -0.154274                                          \n",
       "3                                                1.565384                                          \n",
       "4                                               -0.130607                                          \n",
       "\n",
       "[5 rows x 104 columns]"
      ]
     },
     "execution_count": 394,
     "metadata": {},
     "output_type": "execute_result"
    }
   ],
   "source": [
    "pivoted_df.head()"
   ]
  },
  {
   "cell_type": "markdown",
   "id": "d775903e",
   "metadata": {},
   "source": [
    "### PCA By Site with Top 100 Most Relatively Abundant Genera"
   ]
  },
  {
   "cell_type": "code",
   "execution_count": 395,
   "id": "5135e28a",
   "metadata": {},
   "outputs": [
    {
     "data": {
      "application/vnd.plotly.v1+json": {
       "config": {
        "plotlyServerURL": "https://plot.ly"
       },
       "data": [
        {
         "hovertemplate": "color=CMB<br>0=%{x}<br>1=%{y}<extra></extra>",
         "legendgroup": "CMB",
         "marker": {
          "color": "#636efa",
          "symbol": "circle"
         },
         "mode": "markers",
         "name": "CMB",
         "orientation": "v",
         "showlegend": true,
         "type": "scatter",
         "x": [
          -3.912245688935983,
          -2.6414260259734315,
          -1.4153476899810977,
          -0.15470825178805778,
          -2.7056829118566146,
          -4.080797381837201,
          -1.7553495915859294,
          -1.03635701218205,
          0.3520484203362567,
          -2.9841175434160885,
          -1.0263377394003963,
          -3.8966546796490205,
          -1.799214767598943,
          -4.972331315361421,
          -1.4209213424381018,
          -3.3024295784814592,
          -0.1475675572942251,
          1.5658432254049672,
          -0.5833708740437152,
          -2.8523259988186296
         ],
         "xaxis": "x",
         "y": [
          4.009251156759129,
          3.0778937884970525,
          -0.3788098279984101,
          0.8998233233864379,
          8.186611190686612,
          3.191187742079788,
          4.395183669647391,
          1.9745573215203085,
          5.843699550961366,
          6.4822524520558416,
          1.4645938399948089,
          -1.8758585580164422,
          0.9738155718103373,
          2.772643068531872,
          1.7252260697982866,
          -0.16950603916626353,
          0.836786692667198,
          1.9375019472734791,
          1.944248308258753,
          8.632149833697735
         ],
         "yaxis": "y"
        },
        {
         "hovertemplate": "color=FRW<br>0=%{x}<br>1=%{y}<extra></extra>",
         "legendgroup": "FRW",
         "marker": {
          "color": "#EF553B",
          "symbol": "circle"
         },
         "mode": "markers",
         "name": "FRW",
         "orientation": "v",
         "showlegend": true,
         "type": "scatter",
         "x": [
          0.309704056083695,
          -5.453358752904414,
          -3.3158076611544725,
          -0.25324374491907065,
          -0.9173122880097699,
          -3.0863044972889426,
          -3.024478772453918,
          -0.6174920134412718,
          0.5216940854911731,
          0.04793858376152466,
          -5.450884719062117
         ],
         "xaxis": "x",
         "y": [
          -7.214749173042674,
          -3.5294171179062936,
          -2.7078063011598608,
          -3.3533869743910087,
          -0.014151695029216276,
          -1.0983814002939802,
          -2.2588015143147295,
          -4.898040866470961,
          -5.278583406882941,
          -2.2273108875958716,
          -3.6935567938820935
         ],
         "yaxis": "y"
        },
        {
         "hovertemplate": "color=HR<br>0=%{x}<br>1=%{y}<extra></extra>",
         "legendgroup": "HR",
         "marker": {
          "color": "#00cc96",
          "symbol": "circle"
         },
         "mode": "markers",
         "name": "HR",
         "orientation": "v",
         "showlegend": true,
         "type": "scatter",
         "x": [
          0.9261555074428932,
          -4.293190969713646,
          -6.39696757580814,
          -4.320780344637743,
          -4.636023399768341,
          -3.266928950582195
         ],
         "xaxis": "x",
         "y": [
          0.4052811826197438,
          1.116934771950873,
          -1.5522134141677295,
          0.15798832184035141,
          2.07698575224719,
          -0.7723602095906519
         ],
         "yaxis": "y"
        },
        {
         "hovertemplate": "color=LFS<br>0=%{x}<br>1=%{y}<extra></extra>",
         "legendgroup": "LFS",
         "marker": {
          "color": "#ab63fa",
          "symbol": "circle"
         },
         "mode": "markers",
         "name": "LFS",
         "orientation": "v",
         "showlegend": true,
         "type": "scatter",
         "x": [
          4.31662473357132,
          -4.7872163741880405,
          -2.0337470513278286,
          1.7433224453474503,
          -2.9237965399144157,
          -4.463832404471978,
          -0.5407688847424482,
          3.5529336716935953,
          0.8735786980884452,
          6.349807781486815,
          -0.8493795889925884,
          5.470933008719049,
          -1.1133263364959969,
          -2.2466573863382036
         ],
         "xaxis": "x",
         "y": [
          0.7460382015470264,
          2.5932509024449146,
          1.8685997162138632,
          0.6979305582261293,
          3.0025605081835836,
          4.4064566207841995,
          2.668519248510657,
          -1.368059979579895,
          2.555304755154749,
          2.4090200277824567,
          0.7970618147837226,
          3.1492079491591842,
          2.6665357048764053,
          2.8646379301103098
         ],
         "yaxis": "y"
        },
        {
         "hovertemplate": "color=LM<br>0=%{x}<br>1=%{y}<extra></extra>",
         "legendgroup": "LM",
         "marker": {
          "color": "#FFA15A",
          "symbol": "circle"
         },
         "mode": "markers",
         "name": "LM",
         "orientation": "v",
         "showlegend": true,
         "type": "scatter",
         "x": [
          -4.415030287081011,
          -2.3355818945100824,
          -0.2645752373905269,
          -3.0885635875988733,
          -1.704467856646592,
          -0.89473135994258,
          -1.384188670915867,
          1.3490552090275452,
          -1.2147968984644533,
          -0.5394597921128511,
          -0.8956037012997355,
          -3.8744357674011023,
          2.077027699401428,
          2.380848234101584,
          2.2569647742364634,
          -0.8548360180339706,
          1.6807410953432298,
          -3.395674517044476,
          -4.286093552215979,
          -2.9841212510588835
         ],
         "xaxis": "x",
         "y": [
          -1.450257932812712,
          -4.200410662694339,
          0.50362464083197,
          3.7347594883376547,
          3.1036056928690368,
          5.769781716654086,
          2.698839380821181,
          -7.677878724210534,
          -3.5910558338372613,
          1.130587144341705,
          -5.7455103970403485,
          0.725007499218205,
          1.6029230402169954,
          2.4169489775604083,
          -6.438904982881323,
          5.940766263495328,
          1.137420148785422,
          -3.9248481887521693,
          -3.3060784428134453,
          4.2093694862506155
         ],
         "yaxis": "y"
        },
        {
         "hovertemplate": "color=MKP<br>0=%{x}<br>1=%{y}<extra></extra>",
         "legendgroup": "MKP",
         "marker": {
          "color": "#19d3f3",
          "symbol": "circle"
         },
         "mode": "markers",
         "name": "MKP",
         "orientation": "v",
         "showlegend": true,
         "type": "scatter",
         "x": [
          3.7203925385162187,
          -0.5459054654871305,
          -1.2976510187526498,
          -0.04011476790658681,
          0.8083216002727323,
          -1.8901300081094212,
          -5.728518890464522,
          -3.1989600289293705
         ],
         "xaxis": "x",
         "y": [
          0.24043406173666734,
          1.1514693045599547,
          1.2476702778896898,
          2.006617626343118,
          -5.214930951486005,
          6.356112392464111,
          -3.367912197255933,
          -2.31132142200286
         ],
         "yaxis": "y"
        },
        {
         "hovertemplate": "color=MMP<br>0=%{x}<br>1=%{y}<extra></extra>",
         "legendgroup": "MMP",
         "marker": {
          "color": "#FF6692",
          "symbol": "circle"
         },
         "mode": "markers",
         "name": "MMP",
         "orientation": "v",
         "showlegend": true,
         "type": "scatter",
         "x": [
          3.262245553734986,
          -2.1459881972717882,
          -2.2514306672518627,
          2.0367336915194727,
          4.4719182423363835,
          -2.908165035823001,
          1.7290311166225487,
          2.3855623039309704,
          -1.6963581729542714,
          -1.3985457868220956,
          3.4957256977139597,
          -3.140288222443952,
          2.493181049743058,
          0.9468155911562031,
          0.06590858715950261,
          -2.590845682226272,
          -1.5795208290273595,
          1.1443330095926498,
          -2.674479117617723
         ],
         "xaxis": "x",
         "y": [
          -7.725176565231469,
          -6.5781763575496495,
          -3.1820659509388634,
          -7.023508579652381,
          0.2535859557020986,
          -4.821146524702803,
          -4.291009986697907,
          -4.187006843194602,
          1.329624111313921,
          1.830647555226698,
          -0.5680309069966215,
          -3.410744687983321,
          -3.431004699139402,
          -4.778256279975123,
          -2.907984361960061,
          -3.853542205685106,
          -6.071654226289721,
          -7.722243871381786,
          -3.625087524398318
         ],
         "yaxis": "y"
        },
        {
         "hovertemplate": "color=PNR<br>0=%{x}<br>1=%{y}<extra></extra>",
         "legendgroup": "PNR",
         "marker": {
          "color": "#B6E880",
          "symbol": "circle"
         },
         "mode": "markers",
         "name": "PNR",
         "orientation": "v",
         "showlegend": true,
         "type": "scatter",
         "x": [
          0.052342493466859354,
          -1.6334554301138602,
          -1.7896258807578342
         ],
         "xaxis": "x",
         "y": [
          -1.9648708198102853,
          7.827228752328533,
          0.14154565426807245
         ],
         "yaxis": "y"
        },
        {
         "hovertemplate": "color=PTW<br>0=%{x}<br>1=%{y}<extra></extra>",
         "legendgroup": "PTW",
         "marker": {
          "color": "#FF97FF",
          "symbol": "circle"
         },
         "mode": "markers",
         "name": "PTW",
         "orientation": "v",
         "showlegend": true,
         "type": "scatter",
         "x": [
          -3.082277343432726,
          -1.4908260350538614,
          -2.9106396156017182,
          -4.117618060963768,
          -3.038186109961712,
          -2.6514009269852874,
          0.08818461994758214,
          1.0436341134817178,
          1.595622370623977,
          -1.0735367537894336
         ],
         "xaxis": "x",
         "y": [
          4.345073403063848,
          -0.4488072913888502,
          5.549880292191561,
          7.648750456490565,
          4.38948459461184,
          4.864404520857221,
          5.020962968430233,
          6.113598573739948,
          3.791378368993827,
          4.4674746571078705
         ],
         "yaxis": "y"
        },
        {
         "hovertemplate": "color=RF<br>0=%{x}<br>1=%{y}<extra></extra>",
         "legendgroup": "RF",
         "marker": {
          "color": "#FECB52",
          "symbol": "circle"
         },
         "mode": "markers",
         "name": "RF",
         "orientation": "v",
         "showlegend": true,
         "type": "scatter",
         "x": [
          0.09458550208952285,
          -2.783543060393596,
          -1.8812726649366218,
          0.9962832568368267,
          10.808446350648314,
          4.5980670326117705,
          0.6863820796462679,
          -2.6844531897553265,
          -2.109437396738562,
          -2.635332636460474,
          4.89889113147065
         ],
         "xaxis": "x",
         "y": [
          -3.96855220163219,
          0.8487506711713187,
          -2.9112073732014134,
          0.9777876060230748,
          2.3781099852583907,
          -6.316567860746675,
          0.08835739304728873,
          -4.3413516129090475,
          3.723682147679554,
          1.914527230936427,
          2.3054597303229576
         ],
         "yaxis": "y"
        },
        {
         "hovertemplate": "color=RGT<br>0=%{x}<br>1=%{y}<extra></extra>",
         "legendgroup": "RGT",
         "marker": {
          "color": "#636efa",
          "symbol": "circle"
         },
         "mode": "markers",
         "name": "RGT",
         "orientation": "v",
         "showlegend": true,
         "type": "scatter",
         "x": [
          2.4949954142598734,
          8.194133042350316,
          -0.2967734108304787,
          2.0837625264078943,
          -3.4070080883532494,
          -5.062304697314525,
          -7.1673587969084505
         ],
         "xaxis": "x",
         "y": [
          -4.899508819763121,
          -4.213020533462373,
          -1.3521697224271072,
          -0.5314253504918462,
          -4.9168987009777,
          -5.335327552370558,
          -3.5146022533968386
         ],
         "yaxis": "y"
        },
        {
         "hovertemplate": "color=RRL<br>0=%{x}<br>1=%{y}<extra></extra>",
         "legendgroup": "RRL",
         "marker": {
          "color": "#EF553B",
          "symbol": "circle"
         },
         "mode": "markers",
         "name": "RRL",
         "orientation": "v",
         "showlegend": true,
         "type": "scatter",
         "x": [
          7.076633869103633,
          0.8002876299285779,
          7.731783815479355,
          3.6417567601389145,
          2.249234235127201,
          0.2693766320991804,
          8.253611035197908,
          2.31557327796451,
          -0.9508846761005438,
          6.776222331269685,
          6.705291113469749,
          3.073939008126361,
          1.0674968744743536,
          3.2103018700753707,
          6.131685974739126,
          1.5575193741894695,
          6.36690562047862,
          12.589550775522465,
          12.272104605532155
         ],
         "xaxis": "x",
         "y": [
          1.7666604150026397,
          0.4334976120938976,
          1.1355688140749158,
          1.4429994826451804,
          1.360498559250274,
          1.2410409608374682,
          0.15815918647389227,
          -0.13722008342281908,
          -0.3069666741484367,
          0.1932148249164784,
          1.4836331053230503,
          1.5784858383353828,
          2.6746253961125817,
          1.5155906628858553,
          0.7279388288277311,
          -1.202778223899272,
          0.5125123796547872,
          0.7074556289992862,
          2.513553774303249
         ],
         "yaxis": "y"
        },
        {
         "hovertemplate": "color=SLG<br>0=%{x}<br>1=%{y}<extra></extra>",
         "legendgroup": "SLG",
         "marker": {
          "color": "#00cc96",
          "symbol": "circle"
         },
         "mode": "markers",
         "name": "SLG",
         "orientation": "v",
         "showlegend": true,
         "type": "scatter",
         "x": [
          4.9747626335053985,
          2.9215560202873982,
          -2.403154383703204,
          3.122858208733689,
          -1.4643759383484647,
          -5.979196720993718,
          -1.4763872510788727,
          2.448186567138495,
          2.6361613752608855,
          -3.0805341626280076,
          -3.258962090084453,
          -3.3540461327482434,
          13.398691020171665,
          7.572136028203739,
          9.049779951106673,
          3.1177656176760085,
          0.37844557302159126
         ],
         "xaxis": "x",
         "y": [
          3.254518769415517,
          -6.9627787445985065,
          -2.634786103029004,
          -0.24157431322225983,
          -3.602038488627828,
          -3.966980245644118,
          5.12507481089851,
          -0.7400084772525073,
          0.37343182323326674,
          -6.199217881282295,
          1.8591936256535773,
          0.19595616271746127,
          -0.5147821780573814,
          1.5328826752074702,
          1.8374024936132096,
          -0.12622233746490805,
          -4.793479785398419
         ],
         "yaxis": "y"
        }
       ],
       "layout": {
        "legend": {
         "title": {
          "text": "color"
         },
         "tracegroupgap": 0
        },
        "margin": {
         "t": 60
        },
        "template": {
         "data": {
          "bar": [
           {
            "error_x": {
             "color": "#2a3f5f"
            },
            "error_y": {
             "color": "#2a3f5f"
            },
            "marker": {
             "line": {
              "color": "#E5ECF6",
              "width": 0.5
             },
             "pattern": {
              "fillmode": "overlay",
              "size": 10,
              "solidity": 0.2
             }
            },
            "type": "bar"
           }
          ],
          "barpolar": [
           {
            "marker": {
             "line": {
              "color": "#E5ECF6",
              "width": 0.5
             },
             "pattern": {
              "fillmode": "overlay",
              "size": 10,
              "solidity": 0.2
             }
            },
            "type": "barpolar"
           }
          ],
          "carpet": [
           {
            "aaxis": {
             "endlinecolor": "#2a3f5f",
             "gridcolor": "white",
             "linecolor": "white",
             "minorgridcolor": "white",
             "startlinecolor": "#2a3f5f"
            },
            "baxis": {
             "endlinecolor": "#2a3f5f",
             "gridcolor": "white",
             "linecolor": "white",
             "minorgridcolor": "white",
             "startlinecolor": "#2a3f5f"
            },
            "type": "carpet"
           }
          ],
          "choropleth": [
           {
            "colorbar": {
             "outlinewidth": 0,
             "ticks": ""
            },
            "type": "choropleth"
           }
          ],
          "contour": [
           {
            "colorbar": {
             "outlinewidth": 0,
             "ticks": ""
            },
            "colorscale": [
             [
              0,
              "#0d0887"
             ],
             [
              0.1111111111111111,
              "#46039f"
             ],
             [
              0.2222222222222222,
              "#7201a8"
             ],
             [
              0.3333333333333333,
              "#9c179e"
             ],
             [
              0.4444444444444444,
              "#bd3786"
             ],
             [
              0.5555555555555556,
              "#d8576b"
             ],
             [
              0.6666666666666666,
              "#ed7953"
             ],
             [
              0.7777777777777778,
              "#fb9f3a"
             ],
             [
              0.8888888888888888,
              "#fdca26"
             ],
             [
              1,
              "#f0f921"
             ]
            ],
            "type": "contour"
           }
          ],
          "contourcarpet": [
           {
            "colorbar": {
             "outlinewidth": 0,
             "ticks": ""
            },
            "type": "contourcarpet"
           }
          ],
          "heatmap": [
           {
            "colorbar": {
             "outlinewidth": 0,
             "ticks": ""
            },
            "colorscale": [
             [
              0,
              "#0d0887"
             ],
             [
              0.1111111111111111,
              "#46039f"
             ],
             [
              0.2222222222222222,
              "#7201a8"
             ],
             [
              0.3333333333333333,
              "#9c179e"
             ],
             [
              0.4444444444444444,
              "#bd3786"
             ],
             [
              0.5555555555555556,
              "#d8576b"
             ],
             [
              0.6666666666666666,
              "#ed7953"
             ],
             [
              0.7777777777777778,
              "#fb9f3a"
             ],
             [
              0.8888888888888888,
              "#fdca26"
             ],
             [
              1,
              "#f0f921"
             ]
            ],
            "type": "heatmap"
           }
          ],
          "heatmapgl": [
           {
            "colorbar": {
             "outlinewidth": 0,
             "ticks": ""
            },
            "colorscale": [
             [
              0,
              "#0d0887"
             ],
             [
              0.1111111111111111,
              "#46039f"
             ],
             [
              0.2222222222222222,
              "#7201a8"
             ],
             [
              0.3333333333333333,
              "#9c179e"
             ],
             [
              0.4444444444444444,
              "#bd3786"
             ],
             [
              0.5555555555555556,
              "#d8576b"
             ],
             [
              0.6666666666666666,
              "#ed7953"
             ],
             [
              0.7777777777777778,
              "#fb9f3a"
             ],
             [
              0.8888888888888888,
              "#fdca26"
             ],
             [
              1,
              "#f0f921"
             ]
            ],
            "type": "heatmapgl"
           }
          ],
          "histogram": [
           {
            "marker": {
             "pattern": {
              "fillmode": "overlay",
              "size": 10,
              "solidity": 0.2
             }
            },
            "type": "histogram"
           }
          ],
          "histogram2d": [
           {
            "colorbar": {
             "outlinewidth": 0,
             "ticks": ""
            },
            "colorscale": [
             [
              0,
              "#0d0887"
             ],
             [
              0.1111111111111111,
              "#46039f"
             ],
             [
              0.2222222222222222,
              "#7201a8"
             ],
             [
              0.3333333333333333,
              "#9c179e"
             ],
             [
              0.4444444444444444,
              "#bd3786"
             ],
             [
              0.5555555555555556,
              "#d8576b"
             ],
             [
              0.6666666666666666,
              "#ed7953"
             ],
             [
              0.7777777777777778,
              "#fb9f3a"
             ],
             [
              0.8888888888888888,
              "#fdca26"
             ],
             [
              1,
              "#f0f921"
             ]
            ],
            "type": "histogram2d"
           }
          ],
          "histogram2dcontour": [
           {
            "colorbar": {
             "outlinewidth": 0,
             "ticks": ""
            },
            "colorscale": [
             [
              0,
              "#0d0887"
             ],
             [
              0.1111111111111111,
              "#46039f"
             ],
             [
              0.2222222222222222,
              "#7201a8"
             ],
             [
              0.3333333333333333,
              "#9c179e"
             ],
             [
              0.4444444444444444,
              "#bd3786"
             ],
             [
              0.5555555555555556,
              "#d8576b"
             ],
             [
              0.6666666666666666,
              "#ed7953"
             ],
             [
              0.7777777777777778,
              "#fb9f3a"
             ],
             [
              0.8888888888888888,
              "#fdca26"
             ],
             [
              1,
              "#f0f921"
             ]
            ],
            "type": "histogram2dcontour"
           }
          ],
          "mesh3d": [
           {
            "colorbar": {
             "outlinewidth": 0,
             "ticks": ""
            },
            "type": "mesh3d"
           }
          ],
          "parcoords": [
           {
            "line": {
             "colorbar": {
              "outlinewidth": 0,
              "ticks": ""
             }
            },
            "type": "parcoords"
           }
          ],
          "pie": [
           {
            "automargin": true,
            "type": "pie"
           }
          ],
          "scatter": [
           {
            "fillpattern": {
             "fillmode": "overlay",
             "size": 10,
             "solidity": 0.2
            },
            "type": "scatter"
           }
          ],
          "scatter3d": [
           {
            "line": {
             "colorbar": {
              "outlinewidth": 0,
              "ticks": ""
             }
            },
            "marker": {
             "colorbar": {
              "outlinewidth": 0,
              "ticks": ""
             }
            },
            "type": "scatter3d"
           }
          ],
          "scattercarpet": [
           {
            "marker": {
             "colorbar": {
              "outlinewidth": 0,
              "ticks": ""
             }
            },
            "type": "scattercarpet"
           }
          ],
          "scattergeo": [
           {
            "marker": {
             "colorbar": {
              "outlinewidth": 0,
              "ticks": ""
             }
            },
            "type": "scattergeo"
           }
          ],
          "scattergl": [
           {
            "marker": {
             "colorbar": {
              "outlinewidth": 0,
              "ticks": ""
             }
            },
            "type": "scattergl"
           }
          ],
          "scattermapbox": [
           {
            "marker": {
             "colorbar": {
              "outlinewidth": 0,
              "ticks": ""
             }
            },
            "type": "scattermapbox"
           }
          ],
          "scatterpolar": [
           {
            "marker": {
             "colorbar": {
              "outlinewidth": 0,
              "ticks": ""
             }
            },
            "type": "scatterpolar"
           }
          ],
          "scatterpolargl": [
           {
            "marker": {
             "colorbar": {
              "outlinewidth": 0,
              "ticks": ""
             }
            },
            "type": "scatterpolargl"
           }
          ],
          "scatterternary": [
           {
            "marker": {
             "colorbar": {
              "outlinewidth": 0,
              "ticks": ""
             }
            },
            "type": "scatterternary"
           }
          ],
          "surface": [
           {
            "colorbar": {
             "outlinewidth": 0,
             "ticks": ""
            },
            "colorscale": [
             [
              0,
              "#0d0887"
             ],
             [
              0.1111111111111111,
              "#46039f"
             ],
             [
              0.2222222222222222,
              "#7201a8"
             ],
             [
              0.3333333333333333,
              "#9c179e"
             ],
             [
              0.4444444444444444,
              "#bd3786"
             ],
             [
              0.5555555555555556,
              "#d8576b"
             ],
             [
              0.6666666666666666,
              "#ed7953"
             ],
             [
              0.7777777777777778,
              "#fb9f3a"
             ],
             [
              0.8888888888888888,
              "#fdca26"
             ],
             [
              1,
              "#f0f921"
             ]
            ],
            "type": "surface"
           }
          ],
          "table": [
           {
            "cells": {
             "fill": {
              "color": "#EBF0F8"
             },
             "line": {
              "color": "white"
             }
            },
            "header": {
             "fill": {
              "color": "#C8D4E3"
             },
             "line": {
              "color": "white"
             }
            },
            "type": "table"
           }
          ]
         },
         "layout": {
          "annotationdefaults": {
           "arrowcolor": "#2a3f5f",
           "arrowhead": 0,
           "arrowwidth": 1
          },
          "autotypenumbers": "strict",
          "coloraxis": {
           "colorbar": {
            "outlinewidth": 0,
            "ticks": ""
           }
          },
          "colorscale": {
           "diverging": [
            [
             0,
             "#8e0152"
            ],
            [
             0.1,
             "#c51b7d"
            ],
            [
             0.2,
             "#de77ae"
            ],
            [
             0.3,
             "#f1b6da"
            ],
            [
             0.4,
             "#fde0ef"
            ],
            [
             0.5,
             "#f7f7f7"
            ],
            [
             0.6,
             "#e6f5d0"
            ],
            [
             0.7,
             "#b8e186"
            ],
            [
             0.8,
             "#7fbc41"
            ],
            [
             0.9,
             "#4d9221"
            ],
            [
             1,
             "#276419"
            ]
           ],
           "sequential": [
            [
             0,
             "#0d0887"
            ],
            [
             0.1111111111111111,
             "#46039f"
            ],
            [
             0.2222222222222222,
             "#7201a8"
            ],
            [
             0.3333333333333333,
             "#9c179e"
            ],
            [
             0.4444444444444444,
             "#bd3786"
            ],
            [
             0.5555555555555556,
             "#d8576b"
            ],
            [
             0.6666666666666666,
             "#ed7953"
            ],
            [
             0.7777777777777778,
             "#fb9f3a"
            ],
            [
             0.8888888888888888,
             "#fdca26"
            ],
            [
             1,
             "#f0f921"
            ]
           ],
           "sequentialminus": [
            [
             0,
             "#0d0887"
            ],
            [
             0.1111111111111111,
             "#46039f"
            ],
            [
             0.2222222222222222,
             "#7201a8"
            ],
            [
             0.3333333333333333,
             "#9c179e"
            ],
            [
             0.4444444444444444,
             "#bd3786"
            ],
            [
             0.5555555555555556,
             "#d8576b"
            ],
            [
             0.6666666666666666,
             "#ed7953"
            ],
            [
             0.7777777777777778,
             "#fb9f3a"
            ],
            [
             0.8888888888888888,
             "#fdca26"
            ],
            [
             1,
             "#f0f921"
            ]
           ]
          },
          "colorway": [
           "#636efa",
           "#EF553B",
           "#00cc96",
           "#ab63fa",
           "#FFA15A",
           "#19d3f3",
           "#FF6692",
           "#B6E880",
           "#FF97FF",
           "#FECB52"
          ],
          "font": {
           "color": "#2a3f5f"
          },
          "geo": {
           "bgcolor": "white",
           "lakecolor": "white",
           "landcolor": "#E5ECF6",
           "showlakes": true,
           "showland": true,
           "subunitcolor": "white"
          },
          "hoverlabel": {
           "align": "left"
          },
          "hovermode": "closest",
          "mapbox": {
           "style": "light"
          },
          "paper_bgcolor": "white",
          "plot_bgcolor": "#E5ECF6",
          "polar": {
           "angularaxis": {
            "gridcolor": "white",
            "linecolor": "white",
            "ticks": ""
           },
           "bgcolor": "#E5ECF6",
           "radialaxis": {
            "gridcolor": "white",
            "linecolor": "white",
            "ticks": ""
           }
          },
          "scene": {
           "xaxis": {
            "backgroundcolor": "#E5ECF6",
            "gridcolor": "white",
            "gridwidth": 2,
            "linecolor": "white",
            "showbackground": true,
            "ticks": "",
            "zerolinecolor": "white"
           },
           "yaxis": {
            "backgroundcolor": "#E5ECF6",
            "gridcolor": "white",
            "gridwidth": 2,
            "linecolor": "white",
            "showbackground": true,
            "ticks": "",
            "zerolinecolor": "white"
           },
           "zaxis": {
            "backgroundcolor": "#E5ECF6",
            "gridcolor": "white",
            "gridwidth": 2,
            "linecolor": "white",
            "showbackground": true,
            "ticks": "",
            "zerolinecolor": "white"
           }
          },
          "shapedefaults": {
           "line": {
            "color": "#2a3f5f"
           }
          },
          "ternary": {
           "aaxis": {
            "gridcolor": "white",
            "linecolor": "white",
            "ticks": ""
           },
           "baxis": {
            "gridcolor": "white",
            "linecolor": "white",
            "ticks": ""
           },
           "bgcolor": "#E5ECF6",
           "caxis": {
            "gridcolor": "white",
            "linecolor": "white",
            "ticks": ""
           }
          },
          "title": {
           "x": 0.05
          },
          "xaxis": {
           "automargin": true,
           "gridcolor": "white",
           "linecolor": "white",
           "ticks": "",
           "title": {
            "standoff": 15
           },
           "zerolinecolor": "white",
           "zerolinewidth": 2
          },
          "yaxis": {
           "automargin": true,
           "gridcolor": "white",
           "linecolor": "white",
           "ticks": "",
           "title": {
            "standoff": 15
           },
           "zerolinecolor": "white",
           "zerolinewidth": 2
          }
         }
        },
        "title": {
         "text": "Top 100 Plant Microbes by Site PCA"
        },
        "xaxis": {
         "anchor": "y",
         "domain": [
          0,
          1
         ],
         "title": {
          "text": "PC1 14.4%"
         }
        },
        "yaxis": {
         "anchor": "x",
         "domain": [
          0,
          1
         ],
         "title": {
          "text": "PC2 13.0%"
         }
        }
       }
      },
      "text/html": [
       "<div>                            <div id=\"78afe941-b5b3-48a4-84f5-f5b798e80f97\" class=\"plotly-graph-div\" style=\"height:525px; width:100%;\"></div>            <script type=\"text/javascript\">                require([\"plotly\"], function(Plotly) {                    window.PLOTLYENV=window.PLOTLYENV || {};                                    if (document.getElementById(\"78afe941-b5b3-48a4-84f5-f5b798e80f97\")) {                    Plotly.newPlot(                        \"78afe941-b5b3-48a4-84f5-f5b798e80f97\",                        [{\"hovertemplate\":\"color=CMB<br>0=%{x}<br>1=%{y}<extra></extra>\",\"legendgroup\":\"CMB\",\"marker\":{\"color\":\"#636efa\",\"symbol\":\"circle\"},\"mode\":\"markers\",\"name\":\"CMB\",\"orientation\":\"v\",\"showlegend\":true,\"x\":[-3.912245688935983,-2.6414260259734315,-1.4153476899810977,-0.15470825178805778,-2.7056829118566146,-4.080797381837201,-1.7553495915859294,-1.03635701218205,0.3520484203362567,-2.9841175434160885,-1.0263377394003963,-3.8966546796490205,-1.799214767598943,-4.972331315361421,-1.4209213424381018,-3.3024295784814592,-0.1475675572942251,1.5658432254049672,-0.5833708740437152,-2.8523259988186296],\"xaxis\":\"x\",\"y\":[4.009251156759129,3.0778937884970525,-0.3788098279984101,0.8998233233864379,8.186611190686612,3.191187742079788,4.395183669647391,1.9745573215203085,5.843699550961366,6.4822524520558416,1.4645938399948089,-1.8758585580164422,0.9738155718103373,2.772643068531872,1.7252260697982866,-0.16950603916626353,0.836786692667198,1.9375019472734791,1.944248308258753,8.632149833697735],\"yaxis\":\"y\",\"type\":\"scatter\"},{\"hovertemplate\":\"color=FRW<br>0=%{x}<br>1=%{y}<extra></extra>\",\"legendgroup\":\"FRW\",\"marker\":{\"color\":\"#EF553B\",\"symbol\":\"circle\"},\"mode\":\"markers\",\"name\":\"FRW\",\"orientation\":\"v\",\"showlegend\":true,\"x\":[0.309704056083695,-5.453358752904414,-3.3158076611544725,-0.25324374491907065,-0.9173122880097699,-3.0863044972889426,-3.024478772453918,-0.6174920134412718,0.5216940854911731,0.04793858376152466,-5.450884719062117],\"xaxis\":\"x\",\"y\":[-7.214749173042674,-3.5294171179062936,-2.7078063011598608,-3.3533869743910087,-0.014151695029216276,-1.0983814002939802,-2.2588015143147295,-4.898040866470961,-5.278583406882941,-2.2273108875958716,-3.6935567938820935],\"yaxis\":\"y\",\"type\":\"scatter\"},{\"hovertemplate\":\"color=HR<br>0=%{x}<br>1=%{y}<extra></extra>\",\"legendgroup\":\"HR\",\"marker\":{\"color\":\"#00cc96\",\"symbol\":\"circle\"},\"mode\":\"markers\",\"name\":\"HR\",\"orientation\":\"v\",\"showlegend\":true,\"x\":[0.9261555074428932,-4.293190969713646,-6.39696757580814,-4.320780344637743,-4.636023399768341,-3.266928950582195],\"xaxis\":\"x\",\"y\":[0.4052811826197438,1.116934771950873,-1.5522134141677295,0.15798832184035141,2.07698575224719,-0.7723602095906519],\"yaxis\":\"y\",\"type\":\"scatter\"},{\"hovertemplate\":\"color=LFS<br>0=%{x}<br>1=%{y}<extra></extra>\",\"legendgroup\":\"LFS\",\"marker\":{\"color\":\"#ab63fa\",\"symbol\":\"circle\"},\"mode\":\"markers\",\"name\":\"LFS\",\"orientation\":\"v\",\"showlegend\":true,\"x\":[4.31662473357132,-4.7872163741880405,-2.0337470513278286,1.7433224453474503,-2.9237965399144157,-4.463832404471978,-0.5407688847424482,3.5529336716935953,0.8735786980884452,6.349807781486815,-0.8493795889925884,5.470933008719049,-1.1133263364959969,-2.2466573863382036],\"xaxis\":\"x\",\"y\":[0.7460382015470264,2.5932509024449146,1.8685997162138632,0.6979305582261293,3.0025605081835836,4.4064566207841995,2.668519248510657,-1.368059979579895,2.555304755154749,2.4090200277824567,0.7970618147837226,3.1492079491591842,2.6665357048764053,2.8646379301103098],\"yaxis\":\"y\",\"type\":\"scatter\"},{\"hovertemplate\":\"color=LM<br>0=%{x}<br>1=%{y}<extra></extra>\",\"legendgroup\":\"LM\",\"marker\":{\"color\":\"#FFA15A\",\"symbol\":\"circle\"},\"mode\":\"markers\",\"name\":\"LM\",\"orientation\":\"v\",\"showlegend\":true,\"x\":[-4.415030287081011,-2.3355818945100824,-0.2645752373905269,-3.0885635875988733,-1.704467856646592,-0.89473135994258,-1.384188670915867,1.3490552090275452,-1.2147968984644533,-0.5394597921128511,-0.8956037012997355,-3.8744357674011023,2.077027699401428,2.380848234101584,2.2569647742364634,-0.8548360180339706,1.6807410953432298,-3.395674517044476,-4.286093552215979,-2.9841212510588835],\"xaxis\":\"x\",\"y\":[-1.450257932812712,-4.200410662694339,0.50362464083197,3.7347594883376547,3.1036056928690368,5.769781716654086,2.698839380821181,-7.677878724210534,-3.5910558338372613,1.130587144341705,-5.7455103970403485,0.725007499218205,1.6029230402169954,2.4169489775604083,-6.438904982881323,5.940766263495328,1.137420148785422,-3.9248481887521693,-3.3060784428134453,4.2093694862506155],\"yaxis\":\"y\",\"type\":\"scatter\"},{\"hovertemplate\":\"color=MKP<br>0=%{x}<br>1=%{y}<extra></extra>\",\"legendgroup\":\"MKP\",\"marker\":{\"color\":\"#19d3f3\",\"symbol\":\"circle\"},\"mode\":\"markers\",\"name\":\"MKP\",\"orientation\":\"v\",\"showlegend\":true,\"x\":[3.7203925385162187,-0.5459054654871305,-1.2976510187526498,-0.04011476790658681,0.8083216002727323,-1.8901300081094212,-5.728518890464522,-3.1989600289293705],\"xaxis\":\"x\",\"y\":[0.24043406173666734,1.1514693045599547,1.2476702778896898,2.006617626343118,-5.214930951486005,6.356112392464111,-3.367912197255933,-2.31132142200286],\"yaxis\":\"y\",\"type\":\"scatter\"},{\"hovertemplate\":\"color=MMP<br>0=%{x}<br>1=%{y}<extra></extra>\",\"legendgroup\":\"MMP\",\"marker\":{\"color\":\"#FF6692\",\"symbol\":\"circle\"},\"mode\":\"markers\",\"name\":\"MMP\",\"orientation\":\"v\",\"showlegend\":true,\"x\":[3.262245553734986,-2.1459881972717882,-2.2514306672518627,2.0367336915194727,4.4719182423363835,-2.908165035823001,1.7290311166225487,2.3855623039309704,-1.6963581729542714,-1.3985457868220956,3.4957256977139597,-3.140288222443952,2.493181049743058,0.9468155911562031,0.06590858715950261,-2.590845682226272,-1.5795208290273595,1.1443330095926498,-2.674479117617723],\"xaxis\":\"x\",\"y\":[-7.725176565231469,-6.5781763575496495,-3.1820659509388634,-7.023508579652381,0.2535859557020986,-4.821146524702803,-4.291009986697907,-4.187006843194602,1.329624111313921,1.830647555226698,-0.5680309069966215,-3.410744687983321,-3.431004699139402,-4.778256279975123,-2.907984361960061,-3.853542205685106,-6.071654226289721,-7.722243871381786,-3.625087524398318],\"yaxis\":\"y\",\"type\":\"scatter\"},{\"hovertemplate\":\"color=PNR<br>0=%{x}<br>1=%{y}<extra></extra>\",\"legendgroup\":\"PNR\",\"marker\":{\"color\":\"#B6E880\",\"symbol\":\"circle\"},\"mode\":\"markers\",\"name\":\"PNR\",\"orientation\":\"v\",\"showlegend\":true,\"x\":[0.052342493466859354,-1.6334554301138602,-1.7896258807578342],\"xaxis\":\"x\",\"y\":[-1.9648708198102853,7.827228752328533,0.14154565426807245],\"yaxis\":\"y\",\"type\":\"scatter\"},{\"hovertemplate\":\"color=PTW<br>0=%{x}<br>1=%{y}<extra></extra>\",\"legendgroup\":\"PTW\",\"marker\":{\"color\":\"#FF97FF\",\"symbol\":\"circle\"},\"mode\":\"markers\",\"name\":\"PTW\",\"orientation\":\"v\",\"showlegend\":true,\"x\":[-3.082277343432726,-1.4908260350538614,-2.9106396156017182,-4.117618060963768,-3.038186109961712,-2.6514009269852874,0.08818461994758214,1.0436341134817178,1.595622370623977,-1.0735367537894336],\"xaxis\":\"x\",\"y\":[4.345073403063848,-0.4488072913888502,5.549880292191561,7.648750456490565,4.38948459461184,4.864404520857221,5.020962968430233,6.113598573739948,3.791378368993827,4.4674746571078705],\"yaxis\":\"y\",\"type\":\"scatter\"},{\"hovertemplate\":\"color=RF<br>0=%{x}<br>1=%{y}<extra></extra>\",\"legendgroup\":\"RF\",\"marker\":{\"color\":\"#FECB52\",\"symbol\":\"circle\"},\"mode\":\"markers\",\"name\":\"RF\",\"orientation\":\"v\",\"showlegend\":true,\"x\":[0.09458550208952285,-2.783543060393596,-1.8812726649366218,0.9962832568368267,10.808446350648314,4.5980670326117705,0.6863820796462679,-2.6844531897553265,-2.109437396738562,-2.635332636460474,4.89889113147065],\"xaxis\":\"x\",\"y\":[-3.96855220163219,0.8487506711713187,-2.9112073732014134,0.9777876060230748,2.3781099852583907,-6.316567860746675,0.08835739304728873,-4.3413516129090475,3.723682147679554,1.914527230936427,2.3054597303229576],\"yaxis\":\"y\",\"type\":\"scatter\"},{\"hovertemplate\":\"color=RGT<br>0=%{x}<br>1=%{y}<extra></extra>\",\"legendgroup\":\"RGT\",\"marker\":{\"color\":\"#636efa\",\"symbol\":\"circle\"},\"mode\":\"markers\",\"name\":\"RGT\",\"orientation\":\"v\",\"showlegend\":true,\"x\":[2.4949954142598734,8.194133042350316,-0.2967734108304787,2.0837625264078943,-3.4070080883532494,-5.062304697314525,-7.1673587969084505],\"xaxis\":\"x\",\"y\":[-4.899508819763121,-4.213020533462373,-1.3521697224271072,-0.5314253504918462,-4.9168987009777,-5.335327552370558,-3.5146022533968386],\"yaxis\":\"y\",\"type\":\"scatter\"},{\"hovertemplate\":\"color=RRL<br>0=%{x}<br>1=%{y}<extra></extra>\",\"legendgroup\":\"RRL\",\"marker\":{\"color\":\"#EF553B\",\"symbol\":\"circle\"},\"mode\":\"markers\",\"name\":\"RRL\",\"orientation\":\"v\",\"showlegend\":true,\"x\":[7.076633869103633,0.8002876299285779,7.731783815479355,3.6417567601389145,2.249234235127201,0.2693766320991804,8.253611035197908,2.31557327796451,-0.9508846761005438,6.776222331269685,6.705291113469749,3.073939008126361,1.0674968744743536,3.2103018700753707,6.131685974739126,1.5575193741894695,6.36690562047862,12.589550775522465,12.272104605532155],\"xaxis\":\"x\",\"y\":[1.7666604150026397,0.4334976120938976,1.1355688140749158,1.4429994826451804,1.360498559250274,1.2410409608374682,0.15815918647389227,-0.13722008342281908,-0.3069666741484367,0.1932148249164784,1.4836331053230503,1.5784858383353828,2.6746253961125817,1.5155906628858553,0.7279388288277311,-1.202778223899272,0.5125123796547872,0.7074556289992862,2.513553774303249],\"yaxis\":\"y\",\"type\":\"scatter\"},{\"hovertemplate\":\"color=SLG<br>0=%{x}<br>1=%{y}<extra></extra>\",\"legendgroup\":\"SLG\",\"marker\":{\"color\":\"#00cc96\",\"symbol\":\"circle\"},\"mode\":\"markers\",\"name\":\"SLG\",\"orientation\":\"v\",\"showlegend\":true,\"x\":[4.9747626335053985,2.9215560202873982,-2.403154383703204,3.122858208733689,-1.4643759383484647,-5.979196720993718,-1.4763872510788727,2.448186567138495,2.6361613752608855,-3.0805341626280076,-3.258962090084453,-3.3540461327482434,13.398691020171665,7.572136028203739,9.049779951106673,3.1177656176760085,0.37844557302159126],\"xaxis\":\"x\",\"y\":[3.254518769415517,-6.9627787445985065,-2.634786103029004,-0.24157431322225983,-3.602038488627828,-3.966980245644118,5.12507481089851,-0.7400084772525073,0.37343182323326674,-6.199217881282295,1.8591936256535773,0.19595616271746127,-0.5147821780573814,1.5328826752074702,1.8374024936132096,-0.12622233746490805,-4.793479785398419],\"yaxis\":\"y\",\"type\":\"scatter\"}],                        {\"template\":{\"data\":{\"histogram2dcontour\":[{\"type\":\"histogram2dcontour\",\"colorbar\":{\"outlinewidth\":0,\"ticks\":\"\"},\"colorscale\":[[0.0,\"#0d0887\"],[0.1111111111111111,\"#46039f\"],[0.2222222222222222,\"#7201a8\"],[0.3333333333333333,\"#9c179e\"],[0.4444444444444444,\"#bd3786\"],[0.5555555555555556,\"#d8576b\"],[0.6666666666666666,\"#ed7953\"],[0.7777777777777778,\"#fb9f3a\"],[0.8888888888888888,\"#fdca26\"],[1.0,\"#f0f921\"]]}],\"choropleth\":[{\"type\":\"choropleth\",\"colorbar\":{\"outlinewidth\":0,\"ticks\":\"\"}}],\"histogram2d\":[{\"type\":\"histogram2d\",\"colorbar\":{\"outlinewidth\":0,\"ticks\":\"\"},\"colorscale\":[[0.0,\"#0d0887\"],[0.1111111111111111,\"#46039f\"],[0.2222222222222222,\"#7201a8\"],[0.3333333333333333,\"#9c179e\"],[0.4444444444444444,\"#bd3786\"],[0.5555555555555556,\"#d8576b\"],[0.6666666666666666,\"#ed7953\"],[0.7777777777777778,\"#fb9f3a\"],[0.8888888888888888,\"#fdca26\"],[1.0,\"#f0f921\"]]}],\"heatmap\":[{\"type\":\"heatmap\",\"colorbar\":{\"outlinewidth\":0,\"ticks\":\"\"},\"colorscale\":[[0.0,\"#0d0887\"],[0.1111111111111111,\"#46039f\"],[0.2222222222222222,\"#7201a8\"],[0.3333333333333333,\"#9c179e\"],[0.4444444444444444,\"#bd3786\"],[0.5555555555555556,\"#d8576b\"],[0.6666666666666666,\"#ed7953\"],[0.7777777777777778,\"#fb9f3a\"],[0.8888888888888888,\"#fdca26\"],[1.0,\"#f0f921\"]]}],\"heatmapgl\":[{\"type\":\"heatmapgl\",\"colorbar\":{\"outlinewidth\":0,\"ticks\":\"\"},\"colorscale\":[[0.0,\"#0d0887\"],[0.1111111111111111,\"#46039f\"],[0.2222222222222222,\"#7201a8\"],[0.3333333333333333,\"#9c179e\"],[0.4444444444444444,\"#bd3786\"],[0.5555555555555556,\"#d8576b\"],[0.6666666666666666,\"#ed7953\"],[0.7777777777777778,\"#fb9f3a\"],[0.8888888888888888,\"#fdca26\"],[1.0,\"#f0f921\"]]}],\"contourcarpet\":[{\"type\":\"contourcarpet\",\"colorbar\":{\"outlinewidth\":0,\"ticks\":\"\"}}],\"contour\":[{\"type\":\"contour\",\"colorbar\":{\"outlinewidth\":0,\"ticks\":\"\"},\"colorscale\":[[0.0,\"#0d0887\"],[0.1111111111111111,\"#46039f\"],[0.2222222222222222,\"#7201a8\"],[0.3333333333333333,\"#9c179e\"],[0.4444444444444444,\"#bd3786\"],[0.5555555555555556,\"#d8576b\"],[0.6666666666666666,\"#ed7953\"],[0.7777777777777778,\"#fb9f3a\"],[0.8888888888888888,\"#fdca26\"],[1.0,\"#f0f921\"]]}],\"surface\":[{\"type\":\"surface\",\"colorbar\":{\"outlinewidth\":0,\"ticks\":\"\"},\"colorscale\":[[0.0,\"#0d0887\"],[0.1111111111111111,\"#46039f\"],[0.2222222222222222,\"#7201a8\"],[0.3333333333333333,\"#9c179e\"],[0.4444444444444444,\"#bd3786\"],[0.5555555555555556,\"#d8576b\"],[0.6666666666666666,\"#ed7953\"],[0.7777777777777778,\"#fb9f3a\"],[0.8888888888888888,\"#fdca26\"],[1.0,\"#f0f921\"]]}],\"mesh3d\":[{\"type\":\"mesh3d\",\"colorbar\":{\"outlinewidth\":0,\"ticks\":\"\"}}],\"scatter\":[{\"fillpattern\":{\"fillmode\":\"overlay\",\"size\":10,\"solidity\":0.2},\"type\":\"scatter\"}],\"parcoords\":[{\"type\":\"parcoords\",\"line\":{\"colorbar\":{\"outlinewidth\":0,\"ticks\":\"\"}}}],\"scatterpolargl\":[{\"type\":\"scatterpolargl\",\"marker\":{\"colorbar\":{\"outlinewidth\":0,\"ticks\":\"\"}}}],\"bar\":[{\"error_x\":{\"color\":\"#2a3f5f\"},\"error_y\":{\"color\":\"#2a3f5f\"},\"marker\":{\"line\":{\"color\":\"#E5ECF6\",\"width\":0.5},\"pattern\":{\"fillmode\":\"overlay\",\"size\":10,\"solidity\":0.2}},\"type\":\"bar\"}],\"scattergeo\":[{\"type\":\"scattergeo\",\"marker\":{\"colorbar\":{\"outlinewidth\":0,\"ticks\":\"\"}}}],\"scatterpolar\":[{\"type\":\"scatterpolar\",\"marker\":{\"colorbar\":{\"outlinewidth\":0,\"ticks\":\"\"}}}],\"histogram\":[{\"marker\":{\"pattern\":{\"fillmode\":\"overlay\",\"size\":10,\"solidity\":0.2}},\"type\":\"histogram\"}],\"scattergl\":[{\"type\":\"scattergl\",\"marker\":{\"colorbar\":{\"outlinewidth\":0,\"ticks\":\"\"}}}],\"scatter3d\":[{\"type\":\"scatter3d\",\"line\":{\"colorbar\":{\"outlinewidth\":0,\"ticks\":\"\"}},\"marker\":{\"colorbar\":{\"outlinewidth\":0,\"ticks\":\"\"}}}],\"scattermapbox\":[{\"type\":\"scattermapbox\",\"marker\":{\"colorbar\":{\"outlinewidth\":0,\"ticks\":\"\"}}}],\"scatterternary\":[{\"type\":\"scatterternary\",\"marker\":{\"colorbar\":{\"outlinewidth\":0,\"ticks\":\"\"}}}],\"scattercarpet\":[{\"type\":\"scattercarpet\",\"marker\":{\"colorbar\":{\"outlinewidth\":0,\"ticks\":\"\"}}}],\"carpet\":[{\"aaxis\":{\"endlinecolor\":\"#2a3f5f\",\"gridcolor\":\"white\",\"linecolor\":\"white\",\"minorgridcolor\":\"white\",\"startlinecolor\":\"#2a3f5f\"},\"baxis\":{\"endlinecolor\":\"#2a3f5f\",\"gridcolor\":\"white\",\"linecolor\":\"white\",\"minorgridcolor\":\"white\",\"startlinecolor\":\"#2a3f5f\"},\"type\":\"carpet\"}],\"table\":[{\"cells\":{\"fill\":{\"color\":\"#EBF0F8\"},\"line\":{\"color\":\"white\"}},\"header\":{\"fill\":{\"color\":\"#C8D4E3\"},\"line\":{\"color\":\"white\"}},\"type\":\"table\"}],\"barpolar\":[{\"marker\":{\"line\":{\"color\":\"#E5ECF6\",\"width\":0.5},\"pattern\":{\"fillmode\":\"overlay\",\"size\":10,\"solidity\":0.2}},\"type\":\"barpolar\"}],\"pie\":[{\"automargin\":true,\"type\":\"pie\"}]},\"layout\":{\"autotypenumbers\":\"strict\",\"colorway\":[\"#636efa\",\"#EF553B\",\"#00cc96\",\"#ab63fa\",\"#FFA15A\",\"#19d3f3\",\"#FF6692\",\"#B6E880\",\"#FF97FF\",\"#FECB52\"],\"font\":{\"color\":\"#2a3f5f\"},\"hovermode\":\"closest\",\"hoverlabel\":{\"align\":\"left\"},\"paper_bgcolor\":\"white\",\"plot_bgcolor\":\"#E5ECF6\",\"polar\":{\"bgcolor\":\"#E5ECF6\",\"angularaxis\":{\"gridcolor\":\"white\",\"linecolor\":\"white\",\"ticks\":\"\"},\"radialaxis\":{\"gridcolor\":\"white\",\"linecolor\":\"white\",\"ticks\":\"\"}},\"ternary\":{\"bgcolor\":\"#E5ECF6\",\"aaxis\":{\"gridcolor\":\"white\",\"linecolor\":\"white\",\"ticks\":\"\"},\"baxis\":{\"gridcolor\":\"white\",\"linecolor\":\"white\",\"ticks\":\"\"},\"caxis\":{\"gridcolor\":\"white\",\"linecolor\":\"white\",\"ticks\":\"\"}},\"coloraxis\":{\"colorbar\":{\"outlinewidth\":0,\"ticks\":\"\"}},\"colorscale\":{\"sequential\":[[0.0,\"#0d0887\"],[0.1111111111111111,\"#46039f\"],[0.2222222222222222,\"#7201a8\"],[0.3333333333333333,\"#9c179e\"],[0.4444444444444444,\"#bd3786\"],[0.5555555555555556,\"#d8576b\"],[0.6666666666666666,\"#ed7953\"],[0.7777777777777778,\"#fb9f3a\"],[0.8888888888888888,\"#fdca26\"],[1.0,\"#f0f921\"]],\"sequentialminus\":[[0.0,\"#0d0887\"],[0.1111111111111111,\"#46039f\"],[0.2222222222222222,\"#7201a8\"],[0.3333333333333333,\"#9c179e\"],[0.4444444444444444,\"#bd3786\"],[0.5555555555555556,\"#d8576b\"],[0.6666666666666666,\"#ed7953\"],[0.7777777777777778,\"#fb9f3a\"],[0.8888888888888888,\"#fdca26\"],[1.0,\"#f0f921\"]],\"diverging\":[[0,\"#8e0152\"],[0.1,\"#c51b7d\"],[0.2,\"#de77ae\"],[0.3,\"#f1b6da\"],[0.4,\"#fde0ef\"],[0.5,\"#f7f7f7\"],[0.6,\"#e6f5d0\"],[0.7,\"#b8e186\"],[0.8,\"#7fbc41\"],[0.9,\"#4d9221\"],[1,\"#276419\"]]},\"xaxis\":{\"gridcolor\":\"white\",\"linecolor\":\"white\",\"ticks\":\"\",\"title\":{\"standoff\":15},\"zerolinecolor\":\"white\",\"automargin\":true,\"zerolinewidth\":2},\"yaxis\":{\"gridcolor\":\"white\",\"linecolor\":\"white\",\"ticks\":\"\",\"title\":{\"standoff\":15},\"zerolinecolor\":\"white\",\"automargin\":true,\"zerolinewidth\":2},\"scene\":{\"xaxis\":{\"backgroundcolor\":\"#E5ECF6\",\"gridcolor\":\"white\",\"linecolor\":\"white\",\"showbackground\":true,\"ticks\":\"\",\"zerolinecolor\":\"white\",\"gridwidth\":2},\"yaxis\":{\"backgroundcolor\":\"#E5ECF6\",\"gridcolor\":\"white\",\"linecolor\":\"white\",\"showbackground\":true,\"ticks\":\"\",\"zerolinecolor\":\"white\",\"gridwidth\":2},\"zaxis\":{\"backgroundcolor\":\"#E5ECF6\",\"gridcolor\":\"white\",\"linecolor\":\"white\",\"showbackground\":true,\"ticks\":\"\",\"zerolinecolor\":\"white\",\"gridwidth\":2}},\"shapedefaults\":{\"line\":{\"color\":\"#2a3f5f\"}},\"annotationdefaults\":{\"arrowcolor\":\"#2a3f5f\",\"arrowhead\":0,\"arrowwidth\":1},\"geo\":{\"bgcolor\":\"white\",\"landcolor\":\"#E5ECF6\",\"subunitcolor\":\"white\",\"showland\":true,\"showlakes\":true,\"lakecolor\":\"white\"},\"title\":{\"x\":0.05},\"mapbox\":{\"style\":\"light\"}}},\"xaxis\":{\"anchor\":\"y\",\"domain\":[0.0,1.0],\"title\":{\"text\":\"PC1 14.4%\"}},\"yaxis\":{\"anchor\":\"x\",\"domain\":[0.0,1.0],\"title\":{\"text\":\"PC2 13.0%\"}},\"legend\":{\"title\":{\"text\":\"color\"},\"tracegroupgap\":0},\"margin\":{\"t\":60},\"title\":{\"text\":\"Top 100 Plant Microbes by Site PCA\"}},                        {\"responsive\": true}                    ).then(function(){\n",
       "                            \n",
       "var gd = document.getElementById('78afe941-b5b3-48a4-84f5-f5b798e80f97');\n",
       "var x = new MutationObserver(function (mutations, observer) {{\n",
       "        var display = window.getComputedStyle(gd).display;\n",
       "        if (!display || display === 'none') {{\n",
       "            console.log([gd, 'removed!']);\n",
       "            Plotly.purge(gd);\n",
       "            observer.disconnect();\n",
       "        }}\n",
       "}});\n",
       "\n",
       "// Listen for the removal of the full notebook cells\n",
       "var notebookContainer = gd.closest('#notebook-container');\n",
       "if (notebookContainer) {{\n",
       "    x.observe(notebookContainer, {childList: true});\n",
       "}}\n",
       "\n",
       "// Listen for the clearing of the current output cell\n",
       "var outputEl = gd.closest('.output');\n",
       "if (outputEl) {{\n",
       "    x.observe(outputEl, {childList: true});\n",
       "}}\n",
       "\n",
       "                        })                };                });            </script>        </div>"
      ]
     },
     "metadata": {},
     "output_type": "display_data"
    }
   ],
   "source": [
    "X = pivoted_df[top_100.index]\n",
    "\n",
    "pca = PCA(n_components=2)\n",
    "components = pca.fit_transform(X)\n",
    "\n",
    "fig = px.scatter(components, x=0, y=1, color=pivoted_df['site_id'])\n",
    "fig.update_layout(\n",
    "    title = \"Top 100 Plant Microbes by Site PCA\",\n",
    "    xaxis_title=\"PC1 \" + str(round(100*pca.explained_variance_ratio_[0], 1)) + '%',\n",
    "    yaxis_title=\"PC2 \" + str(round(100*pca.explained_variance_ratio_[1], 1)) + '%')\n",
    "fig.show()"
   ]
  },
  {
   "cell_type": "markdown",
   "id": "3a6834df",
   "metadata": {},
   "source": [
    "### PCA By Species with Top 100 Most Relatively Abundant Genera"
   ]
  },
  {
   "cell_type": "code",
   "execution_count": 396,
   "id": "45ca4abc",
   "metadata": {},
   "outputs": [
    {
     "data": {
      "text/html": [
       "<div>\n",
       "<style scoped>\n",
       "    .dataframe tbody tr th:only-of-type {\n",
       "        vertical-align: middle;\n",
       "    }\n",
       "\n",
       "    .dataframe tbody tr th {\n",
       "        vertical-align: top;\n",
       "    }\n",
       "\n",
       "    .dataframe thead th {\n",
       "        text-align: right;\n",
       "    }\n",
       "</style>\n",
       "<table border=\"1\" class=\"dataframe\">\n",
       "  <thead>\n",
       "    <tr style=\"text-align: right;\">\n",
       "      <th>genera</th>\n",
       "      <th>species</th>\n",
       "      <th>site_id</th>\n",
       "      <th>sample_id</th>\n",
       "      <th>V2</th>\n",
       "      <th>Bacteria|Cyanobacteria||Synechococcales|Synechococcaceae|Synechococcus</th>\n",
       "      <th>Bacteria|Cyanobacteria||Synechococcales|Synechococcaceae|Thermosynechococcus</th>\n",
       "      <th>Bacteria|Cyanobacteria||Synechococcales|Prochloraceae|Prochlorococcus</th>\n",
       "      <th>Bacteria|Cyanobacteria||Gloeoemargaritales|Gloeomargaritaceae|Gloeomargarita</th>\n",
       "      <th>Eukaryota||Chlorarachniophyceae|||Lotharella</th>\n",
       "      <th>Bacteria|Proteobacteria|Gammaproteobacteria|Pseudomonadales|Pseudomonadaceae|Pseudomonas</th>\n",
       "      <th>...</th>\n",
       "      <th>Eukaryota|Apicomplexa|Conoidasida|Eucoccidiorida|Cryptosporidiidae|Cryptosporidium</th>\n",
       "      <th>Bacteria|Cyanobacteria||Chroococcales|Aphanothecaceae|Halothece</th>\n",
       "      <th>Bacteria|Tenericutes|Mollicutes|Mycoplasmatales|Mycoplasmataceae|Mycoplasma</th>\n",
       "      <th>Bacteria|Proteobacteria|Alphaproteobacteria|Rickettsiales|Anaplasmataceae|Neorickettsia</th>\n",
       "      <th>Bacteria|Proteobacteria|Betaproteobacteria|Burkholderiales|Burkholderiaceae|Paraburkholderia</th>\n",
       "      <th>Bacteria|Proteobacteria|Betaproteobacteria|Burkholderiales|Burkholderiaceae|Burkholderia</th>\n",
       "      <th>Bacteria|Cyanobacteria||Chroococcales|Chroococcaceae|Chondrocystis</th>\n",
       "      <th>Bacteria|Actinobacteria|Actinobacteria|Propionibacteriales|Nocardioidaceae|Kribbella</th>\n",
       "      <th>Bacteria|Proteobacteria|Epsilonproteobacteria|Campylobacterales|Campylobacteraceae|Arcobacter</th>\n",
       "      <th>Bacteria|Bacteroidetes|Sphingobacteriia|Sphingobacteriales|Sphingobacteriaceae|Pedobacter</th>\n",
       "    </tr>\n",
       "  </thead>\n",
       "  <tbody>\n",
       "    <tr>\n",
       "      <th>0</th>\n",
       "      <td>syriaca</td>\n",
       "      <td>CMB</td>\n",
       "      <td>CMB10</td>\n",
       "      <td>0.999777</td>\n",
       "      <td>1.658585</td>\n",
       "      <td>0.449190</td>\n",
       "      <td>-0.625305</td>\n",
       "      <td>0.059558</td>\n",
       "      <td>-0.639892</td>\n",
       "      <td>-0.180795</td>\n",
       "      <td>...</td>\n",
       "      <td>-0.850650</td>\n",
       "      <td>-0.273722</td>\n",
       "      <td>-0.301103</td>\n",
       "      <td>-0.840935</td>\n",
       "      <td>-1.427351</td>\n",
       "      <td>-0.933677</td>\n",
       "      <td>0.148441</td>\n",
       "      <td>-0.682586</td>\n",
       "      <td>-0.460162</td>\n",
       "      <td>1.298733</td>\n",
       "    </tr>\n",
       "    <tr>\n",
       "      <th>1</th>\n",
       "      <td>syriaca</td>\n",
       "      <td>CMB</td>\n",
       "      <td>CMB11</td>\n",
       "      <td>1.000000</td>\n",
       "      <td>1.177418</td>\n",
       "      <td>0.398179</td>\n",
       "      <td>-0.265843</td>\n",
       "      <td>0.624099</td>\n",
       "      <td>-0.554101</td>\n",
       "      <td>0.179081</td>\n",
       "      <td>...</td>\n",
       "      <td>-0.800855</td>\n",
       "      <td>3.046865</td>\n",
       "      <td>-0.301103</td>\n",
       "      <td>-0.840935</td>\n",
       "      <td>-0.874566</td>\n",
       "      <td>-0.003229</td>\n",
       "      <td>0.205422</td>\n",
       "      <td>-0.969094</td>\n",
       "      <td>-0.884026</td>\n",
       "      <td>-0.815379</td>\n",
       "    </tr>\n",
       "    <tr>\n",
       "      <th>2</th>\n",
       "      <td>syriaca</td>\n",
       "      <td>CMB</td>\n",
       "      <td>CMB13</td>\n",
       "      <td>0.989131</td>\n",
       "      <td>1.611450</td>\n",
       "      <td>1.654841</td>\n",
       "      <td>0.624824</td>\n",
       "      <td>-0.003629</td>\n",
       "      <td>0.812189</td>\n",
       "      <td>0.231470</td>\n",
       "      <td>...</td>\n",
       "      <td>0.729160</td>\n",
       "      <td>-0.273722</td>\n",
       "      <td>-0.301103</td>\n",
       "      <td>-0.262099</td>\n",
       "      <td>0.249085</td>\n",
       "      <td>-0.673772</td>\n",
       "      <td>1.278165</td>\n",
       "      <td>-0.653412</td>\n",
       "      <td>-0.884026</td>\n",
       "      <td>-0.154274</td>\n",
       "    </tr>\n",
       "    <tr>\n",
       "      <th>3</th>\n",
       "      <td>syriaca</td>\n",
       "      <td>CMB</td>\n",
       "      <td>CMB14</td>\n",
       "      <td>0.999992</td>\n",
       "      <td>0.708383</td>\n",
       "      <td>0.825395</td>\n",
       "      <td>-0.762340</td>\n",
       "      <td>0.859331</td>\n",
       "      <td>0.382159</td>\n",
       "      <td>-0.168207</td>\n",
       "      <td>...</td>\n",
       "      <td>0.507545</td>\n",
       "      <td>-0.273722</td>\n",
       "      <td>-0.299964</td>\n",
       "      <td>-0.840935</td>\n",
       "      <td>-0.331097</td>\n",
       "      <td>-0.946951</td>\n",
       "      <td>0.367025</td>\n",
       "      <td>0.165866</td>\n",
       "      <td>-0.884026</td>\n",
       "      <td>1.565384</td>\n",
       "    </tr>\n",
       "    <tr>\n",
       "      <th>4</th>\n",
       "      <td>syriaca</td>\n",
       "      <td>CMB</td>\n",
       "      <td>CMB15</td>\n",
       "      <td>0.998548</td>\n",
       "      <td>-1.328517</td>\n",
       "      <td>-1.971450</td>\n",
       "      <td>-2.361323</td>\n",
       "      <td>-0.371434</td>\n",
       "      <td>-1.765472</td>\n",
       "      <td>5.492609</td>\n",
       "      <td>...</td>\n",
       "      <td>-0.787252</td>\n",
       "      <td>-0.273722</td>\n",
       "      <td>8.075702</td>\n",
       "      <td>-0.285143</td>\n",
       "      <td>-0.378678</td>\n",
       "      <td>4.127426</td>\n",
       "      <td>-0.473773</td>\n",
       "      <td>-0.804276</td>\n",
       "      <td>-0.884026</td>\n",
       "      <td>-0.130607</td>\n",
       "    </tr>\n",
       "    <tr>\n",
       "      <th>...</th>\n",
       "      <td>...</td>\n",
       "      <td>...</td>\n",
       "      <td>...</td>\n",
       "      <td>...</td>\n",
       "      <td>...</td>\n",
       "      <td>...</td>\n",
       "      <td>...</td>\n",
       "      <td>...</td>\n",
       "      <td>...</td>\n",
       "      <td>...</td>\n",
       "      <td>...</td>\n",
       "      <td>...</td>\n",
       "      <td>...</td>\n",
       "      <td>...</td>\n",
       "      <td>...</td>\n",
       "      <td>...</td>\n",
       "      <td>...</td>\n",
       "      <td>...</td>\n",
       "      <td>...</td>\n",
       "      <td>...</td>\n",
       "      <td>...</td>\n",
       "    </tr>\n",
       "    <tr>\n",
       "      <th>160</th>\n",
       "      <td>exaltata</td>\n",
       "      <td>SLG</td>\n",
       "      <td>SLG3</td>\n",
       "      <td>0.448157</td>\n",
       "      <td>-1.418869</td>\n",
       "      <td>-0.189635</td>\n",
       "      <td>-0.533663</td>\n",
       "      <td>-1.306735</td>\n",
       "      <td>1.374545</td>\n",
       "      <td>-0.116692</td>\n",
       "      <td>...</td>\n",
       "      <td>2.606280</td>\n",
       "      <td>-0.273722</td>\n",
       "      <td>-0.301103</td>\n",
       "      <td>0.131230</td>\n",
       "      <td>-0.306830</td>\n",
       "      <td>1.333618</td>\n",
       "      <td>-0.264715</td>\n",
       "      <td>3.580879</td>\n",
       "      <td>-0.873582</td>\n",
       "      <td>-0.397858</td>\n",
       "    </tr>\n",
       "    <tr>\n",
       "      <th>161</th>\n",
       "      <td>exaltata</td>\n",
       "      <td>SLG</td>\n",
       "      <td>SLG4</td>\n",
       "      <td>0.412527</td>\n",
       "      <td>-0.379646</td>\n",
       "      <td>-0.113333</td>\n",
       "      <td>-0.296765</td>\n",
       "      <td>-1.105328</td>\n",
       "      <td>0.343613</td>\n",
       "      <td>-0.142021</td>\n",
       "      <td>...</td>\n",
       "      <td>2.088852</td>\n",
       "      <td>-0.273722</td>\n",
       "      <td>-0.301103</td>\n",
       "      <td>-0.840935</td>\n",
       "      <td>-0.180688</td>\n",
       "      <td>0.984771</td>\n",
       "      <td>-0.454309</td>\n",
       "      <td>1.635411</td>\n",
       "      <td>-0.867103</td>\n",
       "      <td>0.438445</td>\n",
       "    </tr>\n",
       "    <tr>\n",
       "      <th>162</th>\n",
       "      <td>exaltata</td>\n",
       "      <td>SLG</td>\n",
       "      <td>SLG5</td>\n",
       "      <td>0.307915</td>\n",
       "      <td>0.320774</td>\n",
       "      <td>0.388606</td>\n",
       "      <td>-0.180938</td>\n",
       "      <td>-0.613701</td>\n",
       "      <td>1.588720</td>\n",
       "      <td>-0.338801</td>\n",
       "      <td>...</td>\n",
       "      <td>2.214822</td>\n",
       "      <td>-0.273722</td>\n",
       "      <td>-0.301103</td>\n",
       "      <td>-0.840935</td>\n",
       "      <td>-0.339239</td>\n",
       "      <td>2.231707</td>\n",
       "      <td>-0.352268</td>\n",
       "      <td>2.335984</td>\n",
       "      <td>-0.884026</td>\n",
       "      <td>0.572019</td>\n",
       "    </tr>\n",
       "    <tr>\n",
       "      <th>163</th>\n",
       "      <td>exaltata</td>\n",
       "      <td>SLG</td>\n",
       "      <td>SLG6</td>\n",
       "      <td>0.482944</td>\n",
       "      <td>-0.502977</td>\n",
       "      <td>1.097577</td>\n",
       "      <td>0.754959</td>\n",
       "      <td>0.398210</td>\n",
       "      <td>0.511668</td>\n",
       "      <td>1.590049</td>\n",
       "      <td>...</td>\n",
       "      <td>1.186561</td>\n",
       "      <td>-0.273722</td>\n",
       "      <td>-0.301103</td>\n",
       "      <td>-0.840935</td>\n",
       "      <td>-1.007637</td>\n",
       "      <td>-0.156764</td>\n",
       "      <td>0.771243</td>\n",
       "      <td>0.493329</td>\n",
       "      <td>-0.868546</td>\n",
       "      <td>-0.235852</td>\n",
       "    </tr>\n",
       "    <tr>\n",
       "      <th>164</th>\n",
       "      <td>syriaca</td>\n",
       "      <td>SLG</td>\n",
       "      <td>SLG8</td>\n",
       "      <td>0.999504</td>\n",
       "      <td>-1.082782</td>\n",
       "      <td>0.702963</td>\n",
       "      <td>0.462102</td>\n",
       "      <td>0.129314</td>\n",
       "      <td>0.854269</td>\n",
       "      <td>-0.013929</td>\n",
       "      <td>...</td>\n",
       "      <td>-0.858383</td>\n",
       "      <td>-0.273722</td>\n",
       "      <td>-0.301103</td>\n",
       "      <td>0.498339</td>\n",
       "      <td>-0.917937</td>\n",
       "      <td>0.025103</td>\n",
       "      <td>0.804469</td>\n",
       "      <td>0.057847</td>\n",
       "      <td>1.452795</td>\n",
       "      <td>-0.782605</td>\n",
       "    </tr>\n",
       "  </tbody>\n",
       "</table>\n",
       "<p>165 rows × 104 columns</p>\n",
       "</div>"
      ],
      "text/plain": [
       "genera   species site_id sample_id        V2  \\\n",
       "0        syriaca     CMB     CMB10  0.999777   \n",
       "1        syriaca     CMB     CMB11  1.000000   \n",
       "2        syriaca     CMB     CMB13  0.989131   \n",
       "3        syriaca     CMB     CMB14  0.999992   \n",
       "4        syriaca     CMB     CMB15  0.998548   \n",
       "..           ...     ...       ...       ...   \n",
       "160     exaltata     SLG      SLG3  0.448157   \n",
       "161     exaltata     SLG      SLG4  0.412527   \n",
       "162     exaltata     SLG      SLG5  0.307915   \n",
       "163     exaltata     SLG      SLG6  0.482944   \n",
       "164      syriaca     SLG      SLG8  0.999504   \n",
       "\n",
       "genera  Bacteria|Cyanobacteria||Synechococcales|Synechococcaceae|Synechococcus  \\\n",
       "0                                                1.658585                        \n",
       "1                                                1.177418                        \n",
       "2                                                1.611450                        \n",
       "3                                                0.708383                        \n",
       "4                                               -1.328517                        \n",
       "..                                                    ...                        \n",
       "160                                             -1.418869                        \n",
       "161                                             -0.379646                        \n",
       "162                                              0.320774                        \n",
       "163                                             -0.502977                        \n",
       "164                                             -1.082782                        \n",
       "\n",
       "genera  Bacteria|Cyanobacteria||Synechococcales|Synechococcaceae|Thermosynechococcus  \\\n",
       "0                                                0.449190                              \n",
       "1                                                0.398179                              \n",
       "2                                                1.654841                              \n",
       "3                                                0.825395                              \n",
       "4                                               -1.971450                              \n",
       "..                                                    ...                              \n",
       "160                                             -0.189635                              \n",
       "161                                             -0.113333                              \n",
       "162                                              0.388606                              \n",
       "163                                              1.097577                              \n",
       "164                                              0.702963                              \n",
       "\n",
       "genera  Bacteria|Cyanobacteria||Synechococcales|Prochloraceae|Prochlorococcus  \\\n",
       "0                                               -0.625305                       \n",
       "1                                               -0.265843                       \n",
       "2                                                0.624824                       \n",
       "3                                               -0.762340                       \n",
       "4                                               -2.361323                       \n",
       "..                                                    ...                       \n",
       "160                                             -0.533663                       \n",
       "161                                             -0.296765                       \n",
       "162                                             -0.180938                       \n",
       "163                                              0.754959                       \n",
       "164                                              0.462102                       \n",
       "\n",
       "genera  Bacteria|Cyanobacteria||Gloeoemargaritales|Gloeomargaritaceae|Gloeomargarita  \\\n",
       "0                                                0.059558                              \n",
       "1                                                0.624099                              \n",
       "2                                               -0.003629                              \n",
       "3                                                0.859331                              \n",
       "4                                               -0.371434                              \n",
       "..                                                    ...                              \n",
       "160                                             -1.306735                              \n",
       "161                                             -1.105328                              \n",
       "162                                             -0.613701                              \n",
       "163                                              0.398210                              \n",
       "164                                              0.129314                              \n",
       "\n",
       "genera  Eukaryota||Chlorarachniophyceae|||Lotharella  \\\n",
       "0                                          -0.639892   \n",
       "1                                          -0.554101   \n",
       "2                                           0.812189   \n",
       "3                                           0.382159   \n",
       "4                                          -1.765472   \n",
       "..                                               ...   \n",
       "160                                         1.374545   \n",
       "161                                         0.343613   \n",
       "162                                         1.588720   \n",
       "163                                         0.511668   \n",
       "164                                         0.854269   \n",
       "\n",
       "genera  Bacteria|Proteobacteria|Gammaproteobacteria|Pseudomonadales|Pseudomonadaceae|Pseudomonas  \\\n",
       "0                                               -0.180795                                          \n",
       "1                                                0.179081                                          \n",
       "2                                                0.231470                                          \n",
       "3                                               -0.168207                                          \n",
       "4                                                5.492609                                          \n",
       "..                                                    ...                                          \n",
       "160                                             -0.116692                                          \n",
       "161                                             -0.142021                                          \n",
       "162                                             -0.338801                                          \n",
       "163                                              1.590049                                          \n",
       "164                                             -0.013929                                          \n",
       "\n",
       "genera  ...  \\\n",
       "0       ...   \n",
       "1       ...   \n",
       "2       ...   \n",
       "3       ...   \n",
       "4       ...   \n",
       "..      ...   \n",
       "160     ...   \n",
       "161     ...   \n",
       "162     ...   \n",
       "163     ...   \n",
       "164     ...   \n",
       "\n",
       "genera  Eukaryota|Apicomplexa|Conoidasida|Eucoccidiorida|Cryptosporidiidae|Cryptosporidium  \\\n",
       "0                                               -0.850650                                    \n",
       "1                                               -0.800855                                    \n",
       "2                                                0.729160                                    \n",
       "3                                                0.507545                                    \n",
       "4                                               -0.787252                                    \n",
       "..                                                    ...                                    \n",
       "160                                              2.606280                                    \n",
       "161                                              2.088852                                    \n",
       "162                                              2.214822                                    \n",
       "163                                              1.186561                                    \n",
       "164                                             -0.858383                                    \n",
       "\n",
       "genera  Bacteria|Cyanobacteria||Chroococcales|Aphanothecaceae|Halothece  \\\n",
       "0                                               -0.273722                 \n",
       "1                                                3.046865                 \n",
       "2                                               -0.273722                 \n",
       "3                                               -0.273722                 \n",
       "4                                               -0.273722                 \n",
       "..                                                    ...                 \n",
       "160                                             -0.273722                 \n",
       "161                                             -0.273722                 \n",
       "162                                             -0.273722                 \n",
       "163                                             -0.273722                 \n",
       "164                                             -0.273722                 \n",
       "\n",
       "genera  Bacteria|Tenericutes|Mollicutes|Mycoplasmatales|Mycoplasmataceae|Mycoplasma  \\\n",
       "0                                               -0.301103                             \n",
       "1                                               -0.301103                             \n",
       "2                                               -0.301103                             \n",
       "3                                               -0.299964                             \n",
       "4                                                8.075702                             \n",
       "..                                                    ...                             \n",
       "160                                             -0.301103                             \n",
       "161                                             -0.301103                             \n",
       "162                                             -0.301103                             \n",
       "163                                             -0.301103                             \n",
       "164                                             -0.301103                             \n",
       "\n",
       "genera  Bacteria|Proteobacteria|Alphaproteobacteria|Rickettsiales|Anaplasmataceae|Neorickettsia  \\\n",
       "0                                               -0.840935                                         \n",
       "1                                               -0.840935                                         \n",
       "2                                               -0.262099                                         \n",
       "3                                               -0.840935                                         \n",
       "4                                               -0.285143                                         \n",
       "..                                                    ...                                         \n",
       "160                                              0.131230                                         \n",
       "161                                             -0.840935                                         \n",
       "162                                             -0.840935                                         \n",
       "163                                             -0.840935                                         \n",
       "164                                              0.498339                                         \n",
       "\n",
       "genera  Bacteria|Proteobacteria|Betaproteobacteria|Burkholderiales|Burkholderiaceae|Paraburkholderia  \\\n",
       "0                                               -1.427351                                              \n",
       "1                                               -0.874566                                              \n",
       "2                                                0.249085                                              \n",
       "3                                               -0.331097                                              \n",
       "4                                               -0.378678                                              \n",
       "..                                                    ...                                              \n",
       "160                                             -0.306830                                              \n",
       "161                                             -0.180688                                              \n",
       "162                                             -0.339239                                              \n",
       "163                                             -1.007637                                              \n",
       "164                                             -0.917937                                              \n",
       "\n",
       "genera  Bacteria|Proteobacteria|Betaproteobacteria|Burkholderiales|Burkholderiaceae|Burkholderia  \\\n",
       "0                                               -0.933677                                          \n",
       "1                                               -0.003229                                          \n",
       "2                                               -0.673772                                          \n",
       "3                                               -0.946951                                          \n",
       "4                                                4.127426                                          \n",
       "..                                                    ...                                          \n",
       "160                                              1.333618                                          \n",
       "161                                              0.984771                                          \n",
       "162                                              2.231707                                          \n",
       "163                                             -0.156764                                          \n",
       "164                                              0.025103                                          \n",
       "\n",
       "genera  Bacteria|Cyanobacteria||Chroococcales|Chroococcaceae|Chondrocystis  \\\n",
       "0                                                0.148441                    \n",
       "1                                                0.205422                    \n",
       "2                                                1.278165                    \n",
       "3                                                0.367025                    \n",
       "4                                               -0.473773                    \n",
       "..                                                    ...                    \n",
       "160                                             -0.264715                    \n",
       "161                                             -0.454309                    \n",
       "162                                             -0.352268                    \n",
       "163                                              0.771243                    \n",
       "164                                              0.804469                    \n",
       "\n",
       "genera  Bacteria|Actinobacteria|Actinobacteria|Propionibacteriales|Nocardioidaceae|Kribbella  \\\n",
       "0                                               -0.682586                                      \n",
       "1                                               -0.969094                                      \n",
       "2                                               -0.653412                                      \n",
       "3                                                0.165866                                      \n",
       "4                                               -0.804276                                      \n",
       "..                                                    ...                                      \n",
       "160                                              3.580879                                      \n",
       "161                                              1.635411                                      \n",
       "162                                              2.335984                                      \n",
       "163                                              0.493329                                      \n",
       "164                                              0.057847                                      \n",
       "\n",
       "genera  Bacteria|Proteobacteria|Epsilonproteobacteria|Campylobacterales|Campylobacteraceae|Arcobacter  \\\n",
       "0                                               -0.460162                                               \n",
       "1                                               -0.884026                                               \n",
       "2                                               -0.884026                                               \n",
       "3                                               -0.884026                                               \n",
       "4                                               -0.884026                                               \n",
       "..                                                    ...                                               \n",
       "160                                             -0.873582                                               \n",
       "161                                             -0.867103                                               \n",
       "162                                             -0.884026                                               \n",
       "163                                             -0.868546                                               \n",
       "164                                              1.452795                                               \n",
       "\n",
       "genera  Bacteria|Bacteroidetes|Sphingobacteriia|Sphingobacteriales|Sphingobacteriaceae|Pedobacter  \n",
       "0                                                1.298733                                          \n",
       "1                                               -0.815379                                          \n",
       "2                                               -0.154274                                          \n",
       "3                                                1.565384                                          \n",
       "4                                               -0.130607                                          \n",
       "..                                                    ...                                          \n",
       "160                                             -0.397858                                          \n",
       "161                                              0.438445                                          \n",
       "162                                              0.572019                                          \n",
       "163                                             -0.235852                                          \n",
       "164                                             -0.782605                                          \n",
       "\n",
       "[165 rows x 104 columns]"
      ]
     },
     "execution_count": 396,
     "metadata": {},
     "output_type": "execute_result"
    }
   ],
   "source": [
    "pivoted_df"
   ]
  },
  {
   "cell_type": "code",
   "execution_count": 397,
   "id": "3d5ba61c",
   "metadata": {},
   "outputs": [
    {
     "data": {
      "application/vnd.plotly.v1+json": {
       "config": {
        "plotlyServerURL": "https://plot.ly"
       },
       "data": [
        {
         "hovertemplate": "color=syriaca<br>0=%{x}<br>1=%{y}<extra></extra>",
         "legendgroup": "syriaca",
         "marker": {
          "color": "#636efa",
          "symbol": "circle"
         },
         "mode": "markers",
         "name": "syriaca",
         "orientation": "v",
         "showlegend": true,
         "type": "scatter",
         "x": [
          -3.912245688935983,
          -2.6414260259734315,
          -1.4153476899810977,
          -0.15470825178805778,
          -2.7056829118566146,
          -4.080797381837201,
          -1.7553495915859294,
          -1.03635701218205,
          0.3520484203362567,
          -2.9841175434160885,
          -1.0263377394003963,
          -3.8966546796490205,
          -1.799214767598943,
          -4.972331315361421,
          -1.4209213424381018,
          -3.3024295784814592,
          -0.1475675572942251,
          1.5658432254049672,
          -0.5833708740437152,
          -2.8523259988186296,
          0.309704056083695,
          -5.453358752904414,
          -3.3158076611544725,
          -0.25324374491907065,
          -0.9173122880097699,
          -3.0863044972889426,
          -3.024478772453918,
          -0.6174920134412718,
          0.5216940854911731,
          0.04793858376152466,
          -5.450884719062117,
          -2.3355818945100824,
          -0.2645752373905269,
          -3.0885635875988733,
          -1.704467856646592,
          -0.89473135994258,
          -1.384188670915867,
          1.3490552090275452,
          -1.2147968984644533,
          -0.5394597921128511,
          -0.8956037012997355,
          -3.8744357674011023,
          2.077027699401428,
          2.380848234101584,
          2.2569647742364634,
          -0.8548360180339706,
          -2.9841212510588835,
          3.7203925385162187,
          -0.5459054654871305,
          -1.2976510187526498,
          -0.04011476790658681,
          0.8083216002727323,
          -1.8901300081094212,
          -5.728518890464522,
          -3.1989600289293705,
          3.262245553734986,
          -2.1459881972717882,
          -2.2514306672518627,
          2.0367336915194727,
          4.4719182423363835,
          -2.908165035823001,
          1.7290311166225487,
          2.3855623039309704,
          -1.6963581729542714,
          -1.3985457868220956,
          3.4957256977139597,
          -3.140288222443952,
          2.493181049743058,
          0.9468155911562031,
          0.06590858715950261,
          -2.590845682226272,
          -1.5795208290273595,
          1.1443330095926498,
          -2.674479117617723,
          0.052342493466859354,
          -1.7896258807578342,
          0.09458550208952285,
          -2.783543060393596,
          -1.8812726649366218,
          0.9962832568368267,
          4.5980670326117705,
          0.6863820796462679,
          -2.6844531897553265,
          -2.109437396738562,
          -2.635332636460474,
          4.89889113147065,
          2.4949954142598734,
          8.194133042350316,
          -0.2967734108304787,
          2.0837625264078943,
          -3.4070080883532494,
          -5.062304697314525,
          -7.1673587969084505,
          2.9215560202873982,
          -2.403154383703204,
          3.122858208733689,
          -1.4643759383484647,
          -5.979196720993718,
          -1.4763872510788727,
          2.448186567138495,
          -3.0805341626280076,
          -3.258962090084453,
          -3.3540461327482434,
          0.37844557302159126
         ],
         "xaxis": "x",
         "y": [
          4.009251156759129,
          3.0778937884970525,
          -0.3788098279984101,
          0.8998233233864379,
          8.186611190686612,
          3.191187742079788,
          4.395183669647391,
          1.9745573215203085,
          5.843699550961366,
          6.4822524520558416,
          1.4645938399948089,
          -1.8758585580164422,
          0.9738155718103373,
          2.772643068531872,
          1.7252260697982866,
          -0.16950603916626353,
          0.836786692667198,
          1.9375019472734791,
          1.944248308258753,
          8.632149833697735,
          -7.214749173042674,
          -3.5294171179062936,
          -2.7078063011598608,
          -3.3533869743910087,
          -0.014151695029216276,
          -1.0983814002939802,
          -2.2588015143147295,
          -4.898040866470961,
          -5.278583406882941,
          -2.2273108875958716,
          -3.6935567938820935,
          -4.200410662694339,
          0.50362464083197,
          3.7347594883376547,
          3.1036056928690368,
          5.769781716654086,
          2.698839380821181,
          -7.677878724210534,
          -3.5910558338372613,
          1.130587144341705,
          -5.7455103970403485,
          0.725007499218205,
          1.6029230402169954,
          2.4169489775604083,
          -6.438904982881323,
          5.940766263495328,
          4.2093694862506155,
          0.24043406173666734,
          1.1514693045599547,
          1.2476702778896898,
          2.006617626343118,
          -5.214930951486005,
          6.356112392464111,
          -3.367912197255933,
          -2.31132142200286,
          -7.725176565231469,
          -6.5781763575496495,
          -3.1820659509388634,
          -7.023508579652381,
          0.2535859557020986,
          -4.821146524702803,
          -4.291009986697907,
          -4.187006843194602,
          1.329624111313921,
          1.830647555226698,
          -0.5680309069966215,
          -3.410744687983321,
          -3.431004699139402,
          -4.778256279975123,
          -2.907984361960061,
          -3.853542205685106,
          -6.071654226289721,
          -7.722243871381786,
          -3.625087524398318,
          -1.9648708198102853,
          0.14154565426807245,
          -3.96855220163219,
          0.8487506711713187,
          -2.9112073732014134,
          0.9777876060230748,
          -6.316567860746675,
          0.08835739304728873,
          -4.3413516129090475,
          3.723682147679554,
          1.914527230936427,
          2.3054597303229576,
          -4.899508819763121,
          -4.213020533462373,
          -1.3521697224271072,
          -0.5314253504918462,
          -4.9168987009777,
          -5.335327552370558,
          -3.5146022533968386,
          -6.9627787445985065,
          -2.634786103029004,
          -0.24157431322225983,
          -3.602038488627828,
          -3.966980245644118,
          5.12507481089851,
          -0.7400084772525073,
          -6.199217881282295,
          1.8591936256535773,
          0.19595616271746127,
          -4.793479785398419
         ],
         "yaxis": "y"
        },
        {
         "hovertemplate": "color=quadrifolia<br>0=%{x}<br>1=%{y}<extra></extra>",
         "legendgroup": "quadrifolia",
         "marker": {
          "color": "#EF553B",
          "symbol": "circle"
         },
         "mode": "markers",
         "name": "quadrifolia",
         "orientation": "v",
         "showlegend": true,
         "type": "scatter",
         "x": [
          0.9261555074428932,
          -4.293190969713646,
          -6.39696757580814,
          -4.320780344637743,
          -4.636023399768341,
          -3.266928950582195,
          -4.415030287081011,
          1.6807410953432298,
          -3.395674517044476,
          -4.286093552215979
         ],
         "xaxis": "x",
         "y": [
          0.4052811826197438,
          1.116934771950873,
          -1.5522134141677295,
          0.15798832184035141,
          2.07698575224719,
          -0.7723602095906519,
          -1.450257932812712,
          1.137420148785422,
          -3.9248481887521693,
          -3.3060784428134453
         ],
         "yaxis": "y"
        },
        {
         "hovertemplate": "color=exaltata<br>0=%{x}<br>1=%{y}<extra></extra>",
         "legendgroup": "exaltata",
         "marker": {
          "color": "#00cc96",
          "symbol": "circle"
         },
         "mode": "markers",
         "name": "exaltata",
         "orientation": "v",
         "showlegend": true,
         "type": "scatter",
         "x": [
          4.31662473357132,
          -4.7872163741880405,
          -2.0337470513278286,
          1.7433224453474503,
          -2.9237965399144157,
          -4.463832404471978,
          -0.5407688847424482,
          3.5529336716935953,
          0.8735786980884452,
          6.349807781486815,
          -0.8493795889925884,
          5.470933008719049,
          -1.1133263364959969,
          -2.2466573863382036,
          -3.082277343432726,
          -1.4908260350538614,
          -2.9106396156017182,
          -4.117618060963768,
          -3.038186109961712,
          -2.6514009269852874,
          0.08818461994758214,
          1.0436341134817178,
          1.595622370623977,
          -1.0735367537894336,
          10.808446350648314,
          7.076633869103633,
          0.8002876299285779,
          7.731783815479355,
          3.6417567601389145,
          2.249234235127201,
          0.2693766320991804,
          8.253611035197908,
          2.31557327796451,
          -0.9508846761005438,
          6.776222331269685,
          6.705291113469749,
          3.073939008126361,
          1.0674968744743536,
          3.2103018700753707,
          6.131685974739126,
          1.5575193741894695,
          6.36690562047862,
          12.589550775522465,
          12.272104605532155,
          4.9747626335053985,
          2.6361613752608855,
          13.398691020171665,
          7.572136028203739,
          9.049779951106673,
          3.1177656176760085
         ],
         "xaxis": "x",
         "y": [
          0.7460382015470264,
          2.5932509024449146,
          1.8685997162138632,
          0.6979305582261293,
          3.0025605081835836,
          4.4064566207841995,
          2.668519248510657,
          -1.368059979579895,
          2.555304755154749,
          2.4090200277824567,
          0.7970618147837226,
          3.1492079491591842,
          2.6665357048764053,
          2.8646379301103098,
          4.345073403063848,
          -0.4488072913888502,
          5.549880292191561,
          7.648750456490565,
          4.38948459461184,
          4.864404520857221,
          5.020962968430233,
          6.113598573739948,
          3.791378368993827,
          4.4674746571078705,
          2.3781099852583907,
          1.7666604150026397,
          0.4334976120938976,
          1.1355688140749158,
          1.4429994826451804,
          1.360498559250274,
          1.2410409608374682,
          0.15815918647389227,
          -0.13722008342281908,
          -0.3069666741484367,
          0.1932148249164784,
          1.4836331053230503,
          1.5784858383353828,
          2.6746253961125817,
          1.5155906628858553,
          0.7279388288277311,
          -1.202778223899272,
          0.5125123796547872,
          0.7074556289992862,
          2.513553774303249,
          3.254518769415517,
          0.37343182323326674,
          -0.5147821780573814,
          1.5328826752074702,
          1.8374024936132096,
          -0.12622233746490805
         ],
         "yaxis": "y"
        },
        {
         "hovertemplate": "color=hybrid<br>0=%{x}<br>1=%{y}<extra></extra>",
         "legendgroup": "hybrid",
         "marker": {
          "color": "#ab63fa",
          "symbol": "circle"
         },
         "mode": "markers",
         "name": "hybrid",
         "orientation": "v",
         "showlegend": true,
         "type": "scatter",
         "x": [
          -1.6334554301138602
         ],
         "xaxis": "x",
         "y": [
          7.827228752328533
         ],
         "yaxis": "y"
        }
       ],
       "layout": {
        "legend": {
         "title": {
          "text": "color"
         },
         "tracegroupgap": 0
        },
        "margin": {
         "t": 60
        },
        "template": {
         "data": {
          "bar": [
           {
            "error_x": {
             "color": "#2a3f5f"
            },
            "error_y": {
             "color": "#2a3f5f"
            },
            "marker": {
             "line": {
              "color": "#E5ECF6",
              "width": 0.5
             },
             "pattern": {
              "fillmode": "overlay",
              "size": 10,
              "solidity": 0.2
             }
            },
            "type": "bar"
           }
          ],
          "barpolar": [
           {
            "marker": {
             "line": {
              "color": "#E5ECF6",
              "width": 0.5
             },
             "pattern": {
              "fillmode": "overlay",
              "size": 10,
              "solidity": 0.2
             }
            },
            "type": "barpolar"
           }
          ],
          "carpet": [
           {
            "aaxis": {
             "endlinecolor": "#2a3f5f",
             "gridcolor": "white",
             "linecolor": "white",
             "minorgridcolor": "white",
             "startlinecolor": "#2a3f5f"
            },
            "baxis": {
             "endlinecolor": "#2a3f5f",
             "gridcolor": "white",
             "linecolor": "white",
             "minorgridcolor": "white",
             "startlinecolor": "#2a3f5f"
            },
            "type": "carpet"
           }
          ],
          "choropleth": [
           {
            "colorbar": {
             "outlinewidth": 0,
             "ticks": ""
            },
            "type": "choropleth"
           }
          ],
          "contour": [
           {
            "colorbar": {
             "outlinewidth": 0,
             "ticks": ""
            },
            "colorscale": [
             [
              0,
              "#0d0887"
             ],
             [
              0.1111111111111111,
              "#46039f"
             ],
             [
              0.2222222222222222,
              "#7201a8"
             ],
             [
              0.3333333333333333,
              "#9c179e"
             ],
             [
              0.4444444444444444,
              "#bd3786"
             ],
             [
              0.5555555555555556,
              "#d8576b"
             ],
             [
              0.6666666666666666,
              "#ed7953"
             ],
             [
              0.7777777777777778,
              "#fb9f3a"
             ],
             [
              0.8888888888888888,
              "#fdca26"
             ],
             [
              1,
              "#f0f921"
             ]
            ],
            "type": "contour"
           }
          ],
          "contourcarpet": [
           {
            "colorbar": {
             "outlinewidth": 0,
             "ticks": ""
            },
            "type": "contourcarpet"
           }
          ],
          "heatmap": [
           {
            "colorbar": {
             "outlinewidth": 0,
             "ticks": ""
            },
            "colorscale": [
             [
              0,
              "#0d0887"
             ],
             [
              0.1111111111111111,
              "#46039f"
             ],
             [
              0.2222222222222222,
              "#7201a8"
             ],
             [
              0.3333333333333333,
              "#9c179e"
             ],
             [
              0.4444444444444444,
              "#bd3786"
             ],
             [
              0.5555555555555556,
              "#d8576b"
             ],
             [
              0.6666666666666666,
              "#ed7953"
             ],
             [
              0.7777777777777778,
              "#fb9f3a"
             ],
             [
              0.8888888888888888,
              "#fdca26"
             ],
             [
              1,
              "#f0f921"
             ]
            ],
            "type": "heatmap"
           }
          ],
          "heatmapgl": [
           {
            "colorbar": {
             "outlinewidth": 0,
             "ticks": ""
            },
            "colorscale": [
             [
              0,
              "#0d0887"
             ],
             [
              0.1111111111111111,
              "#46039f"
             ],
             [
              0.2222222222222222,
              "#7201a8"
             ],
             [
              0.3333333333333333,
              "#9c179e"
             ],
             [
              0.4444444444444444,
              "#bd3786"
             ],
             [
              0.5555555555555556,
              "#d8576b"
             ],
             [
              0.6666666666666666,
              "#ed7953"
             ],
             [
              0.7777777777777778,
              "#fb9f3a"
             ],
             [
              0.8888888888888888,
              "#fdca26"
             ],
             [
              1,
              "#f0f921"
             ]
            ],
            "type": "heatmapgl"
           }
          ],
          "histogram": [
           {
            "marker": {
             "pattern": {
              "fillmode": "overlay",
              "size": 10,
              "solidity": 0.2
             }
            },
            "type": "histogram"
           }
          ],
          "histogram2d": [
           {
            "colorbar": {
             "outlinewidth": 0,
             "ticks": ""
            },
            "colorscale": [
             [
              0,
              "#0d0887"
             ],
             [
              0.1111111111111111,
              "#46039f"
             ],
             [
              0.2222222222222222,
              "#7201a8"
             ],
             [
              0.3333333333333333,
              "#9c179e"
             ],
             [
              0.4444444444444444,
              "#bd3786"
             ],
             [
              0.5555555555555556,
              "#d8576b"
             ],
             [
              0.6666666666666666,
              "#ed7953"
             ],
             [
              0.7777777777777778,
              "#fb9f3a"
             ],
             [
              0.8888888888888888,
              "#fdca26"
             ],
             [
              1,
              "#f0f921"
             ]
            ],
            "type": "histogram2d"
           }
          ],
          "histogram2dcontour": [
           {
            "colorbar": {
             "outlinewidth": 0,
             "ticks": ""
            },
            "colorscale": [
             [
              0,
              "#0d0887"
             ],
             [
              0.1111111111111111,
              "#46039f"
             ],
             [
              0.2222222222222222,
              "#7201a8"
             ],
             [
              0.3333333333333333,
              "#9c179e"
             ],
             [
              0.4444444444444444,
              "#bd3786"
             ],
             [
              0.5555555555555556,
              "#d8576b"
             ],
             [
              0.6666666666666666,
              "#ed7953"
             ],
             [
              0.7777777777777778,
              "#fb9f3a"
             ],
             [
              0.8888888888888888,
              "#fdca26"
             ],
             [
              1,
              "#f0f921"
             ]
            ],
            "type": "histogram2dcontour"
           }
          ],
          "mesh3d": [
           {
            "colorbar": {
             "outlinewidth": 0,
             "ticks": ""
            },
            "type": "mesh3d"
           }
          ],
          "parcoords": [
           {
            "line": {
             "colorbar": {
              "outlinewidth": 0,
              "ticks": ""
             }
            },
            "type": "parcoords"
           }
          ],
          "pie": [
           {
            "automargin": true,
            "type": "pie"
           }
          ],
          "scatter": [
           {
            "fillpattern": {
             "fillmode": "overlay",
             "size": 10,
             "solidity": 0.2
            },
            "type": "scatter"
           }
          ],
          "scatter3d": [
           {
            "line": {
             "colorbar": {
              "outlinewidth": 0,
              "ticks": ""
             }
            },
            "marker": {
             "colorbar": {
              "outlinewidth": 0,
              "ticks": ""
             }
            },
            "type": "scatter3d"
           }
          ],
          "scattercarpet": [
           {
            "marker": {
             "colorbar": {
              "outlinewidth": 0,
              "ticks": ""
             }
            },
            "type": "scattercarpet"
           }
          ],
          "scattergeo": [
           {
            "marker": {
             "colorbar": {
              "outlinewidth": 0,
              "ticks": ""
             }
            },
            "type": "scattergeo"
           }
          ],
          "scattergl": [
           {
            "marker": {
             "colorbar": {
              "outlinewidth": 0,
              "ticks": ""
             }
            },
            "type": "scattergl"
           }
          ],
          "scattermapbox": [
           {
            "marker": {
             "colorbar": {
              "outlinewidth": 0,
              "ticks": ""
             }
            },
            "type": "scattermapbox"
           }
          ],
          "scatterpolar": [
           {
            "marker": {
             "colorbar": {
              "outlinewidth": 0,
              "ticks": ""
             }
            },
            "type": "scatterpolar"
           }
          ],
          "scatterpolargl": [
           {
            "marker": {
             "colorbar": {
              "outlinewidth": 0,
              "ticks": ""
             }
            },
            "type": "scatterpolargl"
           }
          ],
          "scatterternary": [
           {
            "marker": {
             "colorbar": {
              "outlinewidth": 0,
              "ticks": ""
             }
            },
            "type": "scatterternary"
           }
          ],
          "surface": [
           {
            "colorbar": {
             "outlinewidth": 0,
             "ticks": ""
            },
            "colorscale": [
             [
              0,
              "#0d0887"
             ],
             [
              0.1111111111111111,
              "#46039f"
             ],
             [
              0.2222222222222222,
              "#7201a8"
             ],
             [
              0.3333333333333333,
              "#9c179e"
             ],
             [
              0.4444444444444444,
              "#bd3786"
             ],
             [
              0.5555555555555556,
              "#d8576b"
             ],
             [
              0.6666666666666666,
              "#ed7953"
             ],
             [
              0.7777777777777778,
              "#fb9f3a"
             ],
             [
              0.8888888888888888,
              "#fdca26"
             ],
             [
              1,
              "#f0f921"
             ]
            ],
            "type": "surface"
           }
          ],
          "table": [
           {
            "cells": {
             "fill": {
              "color": "#EBF0F8"
             },
             "line": {
              "color": "white"
             }
            },
            "header": {
             "fill": {
              "color": "#C8D4E3"
             },
             "line": {
              "color": "white"
             }
            },
            "type": "table"
           }
          ]
         },
         "layout": {
          "annotationdefaults": {
           "arrowcolor": "#2a3f5f",
           "arrowhead": 0,
           "arrowwidth": 1
          },
          "autotypenumbers": "strict",
          "coloraxis": {
           "colorbar": {
            "outlinewidth": 0,
            "ticks": ""
           }
          },
          "colorscale": {
           "diverging": [
            [
             0,
             "#8e0152"
            ],
            [
             0.1,
             "#c51b7d"
            ],
            [
             0.2,
             "#de77ae"
            ],
            [
             0.3,
             "#f1b6da"
            ],
            [
             0.4,
             "#fde0ef"
            ],
            [
             0.5,
             "#f7f7f7"
            ],
            [
             0.6,
             "#e6f5d0"
            ],
            [
             0.7,
             "#b8e186"
            ],
            [
             0.8,
             "#7fbc41"
            ],
            [
             0.9,
             "#4d9221"
            ],
            [
             1,
             "#276419"
            ]
           ],
           "sequential": [
            [
             0,
             "#0d0887"
            ],
            [
             0.1111111111111111,
             "#46039f"
            ],
            [
             0.2222222222222222,
             "#7201a8"
            ],
            [
             0.3333333333333333,
             "#9c179e"
            ],
            [
             0.4444444444444444,
             "#bd3786"
            ],
            [
             0.5555555555555556,
             "#d8576b"
            ],
            [
             0.6666666666666666,
             "#ed7953"
            ],
            [
             0.7777777777777778,
             "#fb9f3a"
            ],
            [
             0.8888888888888888,
             "#fdca26"
            ],
            [
             1,
             "#f0f921"
            ]
           ],
           "sequentialminus": [
            [
             0,
             "#0d0887"
            ],
            [
             0.1111111111111111,
             "#46039f"
            ],
            [
             0.2222222222222222,
             "#7201a8"
            ],
            [
             0.3333333333333333,
             "#9c179e"
            ],
            [
             0.4444444444444444,
             "#bd3786"
            ],
            [
             0.5555555555555556,
             "#d8576b"
            ],
            [
             0.6666666666666666,
             "#ed7953"
            ],
            [
             0.7777777777777778,
             "#fb9f3a"
            ],
            [
             0.8888888888888888,
             "#fdca26"
            ],
            [
             1,
             "#f0f921"
            ]
           ]
          },
          "colorway": [
           "#636efa",
           "#EF553B",
           "#00cc96",
           "#ab63fa",
           "#FFA15A",
           "#19d3f3",
           "#FF6692",
           "#B6E880",
           "#FF97FF",
           "#FECB52"
          ],
          "font": {
           "color": "#2a3f5f"
          },
          "geo": {
           "bgcolor": "white",
           "lakecolor": "white",
           "landcolor": "#E5ECF6",
           "showlakes": true,
           "showland": true,
           "subunitcolor": "white"
          },
          "hoverlabel": {
           "align": "left"
          },
          "hovermode": "closest",
          "mapbox": {
           "style": "light"
          },
          "paper_bgcolor": "white",
          "plot_bgcolor": "#E5ECF6",
          "polar": {
           "angularaxis": {
            "gridcolor": "white",
            "linecolor": "white",
            "ticks": ""
           },
           "bgcolor": "#E5ECF6",
           "radialaxis": {
            "gridcolor": "white",
            "linecolor": "white",
            "ticks": ""
           }
          },
          "scene": {
           "xaxis": {
            "backgroundcolor": "#E5ECF6",
            "gridcolor": "white",
            "gridwidth": 2,
            "linecolor": "white",
            "showbackground": true,
            "ticks": "",
            "zerolinecolor": "white"
           },
           "yaxis": {
            "backgroundcolor": "#E5ECF6",
            "gridcolor": "white",
            "gridwidth": 2,
            "linecolor": "white",
            "showbackground": true,
            "ticks": "",
            "zerolinecolor": "white"
           },
           "zaxis": {
            "backgroundcolor": "#E5ECF6",
            "gridcolor": "white",
            "gridwidth": 2,
            "linecolor": "white",
            "showbackground": true,
            "ticks": "",
            "zerolinecolor": "white"
           }
          },
          "shapedefaults": {
           "line": {
            "color": "#2a3f5f"
           }
          },
          "ternary": {
           "aaxis": {
            "gridcolor": "white",
            "linecolor": "white",
            "ticks": ""
           },
           "baxis": {
            "gridcolor": "white",
            "linecolor": "white",
            "ticks": ""
           },
           "bgcolor": "#E5ECF6",
           "caxis": {
            "gridcolor": "white",
            "linecolor": "white",
            "ticks": ""
           }
          },
          "title": {
           "x": 0.05
          },
          "xaxis": {
           "automargin": true,
           "gridcolor": "white",
           "linecolor": "white",
           "ticks": "",
           "title": {
            "standoff": 15
           },
           "zerolinecolor": "white",
           "zerolinewidth": 2
          },
          "yaxis": {
           "automargin": true,
           "gridcolor": "white",
           "linecolor": "white",
           "ticks": "",
           "title": {
            "standoff": 15
           },
           "zerolinecolor": "white",
           "zerolinewidth": 2
          }
         }
        },
        "title": {
         "text": "Plant Nutrients by Site Not Including Nitrogen PCA"
        },
        "xaxis": {
         "anchor": "y",
         "domain": [
          0,
          1
         ],
         "title": {
          "text": "PC1 14.4%"
         }
        },
        "yaxis": {
         "anchor": "x",
         "domain": [
          0,
          1
         ],
         "title": {
          "text": "PC2 13.0%"
         }
        }
       }
      },
      "text/html": [
       "<div>                            <div id=\"d397951b-6ca2-44a4-b03e-e495e2050bad\" class=\"plotly-graph-div\" style=\"height:525px; width:100%;\"></div>            <script type=\"text/javascript\">                require([\"plotly\"], function(Plotly) {                    window.PLOTLYENV=window.PLOTLYENV || {};                                    if (document.getElementById(\"d397951b-6ca2-44a4-b03e-e495e2050bad\")) {                    Plotly.newPlot(                        \"d397951b-6ca2-44a4-b03e-e495e2050bad\",                        [{\"hovertemplate\":\"color=syriaca<br>0=%{x}<br>1=%{y}<extra></extra>\",\"legendgroup\":\"syriaca\",\"marker\":{\"color\":\"#636efa\",\"symbol\":\"circle\"},\"mode\":\"markers\",\"name\":\"syriaca\",\"orientation\":\"v\",\"showlegend\":true,\"x\":[-3.912245688935983,-2.6414260259734315,-1.4153476899810977,-0.15470825178805778,-2.7056829118566146,-4.080797381837201,-1.7553495915859294,-1.03635701218205,0.3520484203362567,-2.9841175434160885,-1.0263377394003963,-3.8966546796490205,-1.799214767598943,-4.972331315361421,-1.4209213424381018,-3.3024295784814592,-0.1475675572942251,1.5658432254049672,-0.5833708740437152,-2.8523259988186296,0.309704056083695,-5.453358752904414,-3.3158076611544725,-0.25324374491907065,-0.9173122880097699,-3.0863044972889426,-3.024478772453918,-0.6174920134412718,0.5216940854911731,0.04793858376152466,-5.450884719062117,-2.3355818945100824,-0.2645752373905269,-3.0885635875988733,-1.704467856646592,-0.89473135994258,-1.384188670915867,1.3490552090275452,-1.2147968984644533,-0.5394597921128511,-0.8956037012997355,-3.8744357674011023,2.077027699401428,2.380848234101584,2.2569647742364634,-0.8548360180339706,-2.9841212510588835,3.7203925385162187,-0.5459054654871305,-1.2976510187526498,-0.04011476790658681,0.8083216002727323,-1.8901300081094212,-5.728518890464522,-3.1989600289293705,3.262245553734986,-2.1459881972717882,-2.2514306672518627,2.0367336915194727,4.4719182423363835,-2.908165035823001,1.7290311166225487,2.3855623039309704,-1.6963581729542714,-1.3985457868220956,3.4957256977139597,-3.140288222443952,2.493181049743058,0.9468155911562031,0.06590858715950261,-2.590845682226272,-1.5795208290273595,1.1443330095926498,-2.674479117617723,0.052342493466859354,-1.7896258807578342,0.09458550208952285,-2.783543060393596,-1.8812726649366218,0.9962832568368267,4.5980670326117705,0.6863820796462679,-2.6844531897553265,-2.109437396738562,-2.635332636460474,4.89889113147065,2.4949954142598734,8.194133042350316,-0.2967734108304787,2.0837625264078943,-3.4070080883532494,-5.062304697314525,-7.1673587969084505,2.9215560202873982,-2.403154383703204,3.122858208733689,-1.4643759383484647,-5.979196720993718,-1.4763872510788727,2.448186567138495,-3.0805341626280076,-3.258962090084453,-3.3540461327482434,0.37844557302159126],\"xaxis\":\"x\",\"y\":[4.009251156759129,3.0778937884970525,-0.3788098279984101,0.8998233233864379,8.186611190686612,3.191187742079788,4.395183669647391,1.9745573215203085,5.843699550961366,6.4822524520558416,1.4645938399948089,-1.8758585580164422,0.9738155718103373,2.772643068531872,1.7252260697982866,-0.16950603916626353,0.836786692667198,1.9375019472734791,1.944248308258753,8.632149833697735,-7.214749173042674,-3.5294171179062936,-2.7078063011598608,-3.3533869743910087,-0.014151695029216276,-1.0983814002939802,-2.2588015143147295,-4.898040866470961,-5.278583406882941,-2.2273108875958716,-3.6935567938820935,-4.200410662694339,0.50362464083197,3.7347594883376547,3.1036056928690368,5.769781716654086,2.698839380821181,-7.677878724210534,-3.5910558338372613,1.130587144341705,-5.7455103970403485,0.725007499218205,1.6029230402169954,2.4169489775604083,-6.438904982881323,5.940766263495328,4.2093694862506155,0.24043406173666734,1.1514693045599547,1.2476702778896898,2.006617626343118,-5.214930951486005,6.356112392464111,-3.367912197255933,-2.31132142200286,-7.725176565231469,-6.5781763575496495,-3.1820659509388634,-7.023508579652381,0.2535859557020986,-4.821146524702803,-4.291009986697907,-4.187006843194602,1.329624111313921,1.830647555226698,-0.5680309069966215,-3.410744687983321,-3.431004699139402,-4.778256279975123,-2.907984361960061,-3.853542205685106,-6.071654226289721,-7.722243871381786,-3.625087524398318,-1.9648708198102853,0.14154565426807245,-3.96855220163219,0.8487506711713187,-2.9112073732014134,0.9777876060230748,-6.316567860746675,0.08835739304728873,-4.3413516129090475,3.723682147679554,1.914527230936427,2.3054597303229576,-4.899508819763121,-4.213020533462373,-1.3521697224271072,-0.5314253504918462,-4.9168987009777,-5.335327552370558,-3.5146022533968386,-6.9627787445985065,-2.634786103029004,-0.24157431322225983,-3.602038488627828,-3.966980245644118,5.12507481089851,-0.7400084772525073,-6.199217881282295,1.8591936256535773,0.19595616271746127,-4.793479785398419],\"yaxis\":\"y\",\"type\":\"scatter\"},{\"hovertemplate\":\"color=quadrifolia<br>0=%{x}<br>1=%{y}<extra></extra>\",\"legendgroup\":\"quadrifolia\",\"marker\":{\"color\":\"#EF553B\",\"symbol\":\"circle\"},\"mode\":\"markers\",\"name\":\"quadrifolia\",\"orientation\":\"v\",\"showlegend\":true,\"x\":[0.9261555074428932,-4.293190969713646,-6.39696757580814,-4.320780344637743,-4.636023399768341,-3.266928950582195,-4.415030287081011,1.6807410953432298,-3.395674517044476,-4.286093552215979],\"xaxis\":\"x\",\"y\":[0.4052811826197438,1.116934771950873,-1.5522134141677295,0.15798832184035141,2.07698575224719,-0.7723602095906519,-1.450257932812712,1.137420148785422,-3.9248481887521693,-3.3060784428134453],\"yaxis\":\"y\",\"type\":\"scatter\"},{\"hovertemplate\":\"color=exaltata<br>0=%{x}<br>1=%{y}<extra></extra>\",\"legendgroup\":\"exaltata\",\"marker\":{\"color\":\"#00cc96\",\"symbol\":\"circle\"},\"mode\":\"markers\",\"name\":\"exaltata\",\"orientation\":\"v\",\"showlegend\":true,\"x\":[4.31662473357132,-4.7872163741880405,-2.0337470513278286,1.7433224453474503,-2.9237965399144157,-4.463832404471978,-0.5407688847424482,3.5529336716935953,0.8735786980884452,6.349807781486815,-0.8493795889925884,5.470933008719049,-1.1133263364959969,-2.2466573863382036,-3.082277343432726,-1.4908260350538614,-2.9106396156017182,-4.117618060963768,-3.038186109961712,-2.6514009269852874,0.08818461994758214,1.0436341134817178,1.595622370623977,-1.0735367537894336,10.808446350648314,7.076633869103633,0.8002876299285779,7.731783815479355,3.6417567601389145,2.249234235127201,0.2693766320991804,8.253611035197908,2.31557327796451,-0.9508846761005438,6.776222331269685,6.705291113469749,3.073939008126361,1.0674968744743536,3.2103018700753707,6.131685974739126,1.5575193741894695,6.36690562047862,12.589550775522465,12.272104605532155,4.9747626335053985,2.6361613752608855,13.398691020171665,7.572136028203739,9.049779951106673,3.1177656176760085],\"xaxis\":\"x\",\"y\":[0.7460382015470264,2.5932509024449146,1.8685997162138632,0.6979305582261293,3.0025605081835836,4.4064566207841995,2.668519248510657,-1.368059979579895,2.555304755154749,2.4090200277824567,0.7970618147837226,3.1492079491591842,2.6665357048764053,2.8646379301103098,4.345073403063848,-0.4488072913888502,5.549880292191561,7.648750456490565,4.38948459461184,4.864404520857221,5.020962968430233,6.113598573739948,3.791378368993827,4.4674746571078705,2.3781099852583907,1.7666604150026397,0.4334976120938976,1.1355688140749158,1.4429994826451804,1.360498559250274,1.2410409608374682,0.15815918647389227,-0.13722008342281908,-0.3069666741484367,0.1932148249164784,1.4836331053230503,1.5784858383353828,2.6746253961125817,1.5155906628858553,0.7279388288277311,-1.202778223899272,0.5125123796547872,0.7074556289992862,2.513553774303249,3.254518769415517,0.37343182323326674,-0.5147821780573814,1.5328826752074702,1.8374024936132096,-0.12622233746490805],\"yaxis\":\"y\",\"type\":\"scatter\"},{\"hovertemplate\":\"color=hybrid<br>0=%{x}<br>1=%{y}<extra></extra>\",\"legendgroup\":\"hybrid\",\"marker\":{\"color\":\"#ab63fa\",\"symbol\":\"circle\"},\"mode\":\"markers\",\"name\":\"hybrid\",\"orientation\":\"v\",\"showlegend\":true,\"x\":[-1.6334554301138602],\"xaxis\":\"x\",\"y\":[7.827228752328533],\"yaxis\":\"y\",\"type\":\"scatter\"}],                        {\"template\":{\"data\":{\"histogram2dcontour\":[{\"type\":\"histogram2dcontour\",\"colorbar\":{\"outlinewidth\":0,\"ticks\":\"\"},\"colorscale\":[[0.0,\"#0d0887\"],[0.1111111111111111,\"#46039f\"],[0.2222222222222222,\"#7201a8\"],[0.3333333333333333,\"#9c179e\"],[0.4444444444444444,\"#bd3786\"],[0.5555555555555556,\"#d8576b\"],[0.6666666666666666,\"#ed7953\"],[0.7777777777777778,\"#fb9f3a\"],[0.8888888888888888,\"#fdca26\"],[1.0,\"#f0f921\"]]}],\"choropleth\":[{\"type\":\"choropleth\",\"colorbar\":{\"outlinewidth\":0,\"ticks\":\"\"}}],\"histogram2d\":[{\"type\":\"histogram2d\",\"colorbar\":{\"outlinewidth\":0,\"ticks\":\"\"},\"colorscale\":[[0.0,\"#0d0887\"],[0.1111111111111111,\"#46039f\"],[0.2222222222222222,\"#7201a8\"],[0.3333333333333333,\"#9c179e\"],[0.4444444444444444,\"#bd3786\"],[0.5555555555555556,\"#d8576b\"],[0.6666666666666666,\"#ed7953\"],[0.7777777777777778,\"#fb9f3a\"],[0.8888888888888888,\"#fdca26\"],[1.0,\"#f0f921\"]]}],\"heatmap\":[{\"type\":\"heatmap\",\"colorbar\":{\"outlinewidth\":0,\"ticks\":\"\"},\"colorscale\":[[0.0,\"#0d0887\"],[0.1111111111111111,\"#46039f\"],[0.2222222222222222,\"#7201a8\"],[0.3333333333333333,\"#9c179e\"],[0.4444444444444444,\"#bd3786\"],[0.5555555555555556,\"#d8576b\"],[0.6666666666666666,\"#ed7953\"],[0.7777777777777778,\"#fb9f3a\"],[0.8888888888888888,\"#fdca26\"],[1.0,\"#f0f921\"]]}],\"heatmapgl\":[{\"type\":\"heatmapgl\",\"colorbar\":{\"outlinewidth\":0,\"ticks\":\"\"},\"colorscale\":[[0.0,\"#0d0887\"],[0.1111111111111111,\"#46039f\"],[0.2222222222222222,\"#7201a8\"],[0.3333333333333333,\"#9c179e\"],[0.4444444444444444,\"#bd3786\"],[0.5555555555555556,\"#d8576b\"],[0.6666666666666666,\"#ed7953\"],[0.7777777777777778,\"#fb9f3a\"],[0.8888888888888888,\"#fdca26\"],[1.0,\"#f0f921\"]]}],\"contourcarpet\":[{\"type\":\"contourcarpet\",\"colorbar\":{\"outlinewidth\":0,\"ticks\":\"\"}}],\"contour\":[{\"type\":\"contour\",\"colorbar\":{\"outlinewidth\":0,\"ticks\":\"\"},\"colorscale\":[[0.0,\"#0d0887\"],[0.1111111111111111,\"#46039f\"],[0.2222222222222222,\"#7201a8\"],[0.3333333333333333,\"#9c179e\"],[0.4444444444444444,\"#bd3786\"],[0.5555555555555556,\"#d8576b\"],[0.6666666666666666,\"#ed7953\"],[0.7777777777777778,\"#fb9f3a\"],[0.8888888888888888,\"#fdca26\"],[1.0,\"#f0f921\"]]}],\"surface\":[{\"type\":\"surface\",\"colorbar\":{\"outlinewidth\":0,\"ticks\":\"\"},\"colorscale\":[[0.0,\"#0d0887\"],[0.1111111111111111,\"#46039f\"],[0.2222222222222222,\"#7201a8\"],[0.3333333333333333,\"#9c179e\"],[0.4444444444444444,\"#bd3786\"],[0.5555555555555556,\"#d8576b\"],[0.6666666666666666,\"#ed7953\"],[0.7777777777777778,\"#fb9f3a\"],[0.8888888888888888,\"#fdca26\"],[1.0,\"#f0f921\"]]}],\"mesh3d\":[{\"type\":\"mesh3d\",\"colorbar\":{\"outlinewidth\":0,\"ticks\":\"\"}}],\"scatter\":[{\"fillpattern\":{\"fillmode\":\"overlay\",\"size\":10,\"solidity\":0.2},\"type\":\"scatter\"}],\"parcoords\":[{\"type\":\"parcoords\",\"line\":{\"colorbar\":{\"outlinewidth\":0,\"ticks\":\"\"}}}],\"scatterpolargl\":[{\"type\":\"scatterpolargl\",\"marker\":{\"colorbar\":{\"outlinewidth\":0,\"ticks\":\"\"}}}],\"bar\":[{\"error_x\":{\"color\":\"#2a3f5f\"},\"error_y\":{\"color\":\"#2a3f5f\"},\"marker\":{\"line\":{\"color\":\"#E5ECF6\",\"width\":0.5},\"pattern\":{\"fillmode\":\"overlay\",\"size\":10,\"solidity\":0.2}},\"type\":\"bar\"}],\"scattergeo\":[{\"type\":\"scattergeo\",\"marker\":{\"colorbar\":{\"outlinewidth\":0,\"ticks\":\"\"}}}],\"scatterpolar\":[{\"type\":\"scatterpolar\",\"marker\":{\"colorbar\":{\"outlinewidth\":0,\"ticks\":\"\"}}}],\"histogram\":[{\"marker\":{\"pattern\":{\"fillmode\":\"overlay\",\"size\":10,\"solidity\":0.2}},\"type\":\"histogram\"}],\"scattergl\":[{\"type\":\"scattergl\",\"marker\":{\"colorbar\":{\"outlinewidth\":0,\"ticks\":\"\"}}}],\"scatter3d\":[{\"type\":\"scatter3d\",\"line\":{\"colorbar\":{\"outlinewidth\":0,\"ticks\":\"\"}},\"marker\":{\"colorbar\":{\"outlinewidth\":0,\"ticks\":\"\"}}}],\"scattermapbox\":[{\"type\":\"scattermapbox\",\"marker\":{\"colorbar\":{\"outlinewidth\":0,\"ticks\":\"\"}}}],\"scatterternary\":[{\"type\":\"scatterternary\",\"marker\":{\"colorbar\":{\"outlinewidth\":0,\"ticks\":\"\"}}}],\"scattercarpet\":[{\"type\":\"scattercarpet\",\"marker\":{\"colorbar\":{\"outlinewidth\":0,\"ticks\":\"\"}}}],\"carpet\":[{\"aaxis\":{\"endlinecolor\":\"#2a3f5f\",\"gridcolor\":\"white\",\"linecolor\":\"white\",\"minorgridcolor\":\"white\",\"startlinecolor\":\"#2a3f5f\"},\"baxis\":{\"endlinecolor\":\"#2a3f5f\",\"gridcolor\":\"white\",\"linecolor\":\"white\",\"minorgridcolor\":\"white\",\"startlinecolor\":\"#2a3f5f\"},\"type\":\"carpet\"}],\"table\":[{\"cells\":{\"fill\":{\"color\":\"#EBF0F8\"},\"line\":{\"color\":\"white\"}},\"header\":{\"fill\":{\"color\":\"#C8D4E3\"},\"line\":{\"color\":\"white\"}},\"type\":\"table\"}],\"barpolar\":[{\"marker\":{\"line\":{\"color\":\"#E5ECF6\",\"width\":0.5},\"pattern\":{\"fillmode\":\"overlay\",\"size\":10,\"solidity\":0.2}},\"type\":\"barpolar\"}],\"pie\":[{\"automargin\":true,\"type\":\"pie\"}]},\"layout\":{\"autotypenumbers\":\"strict\",\"colorway\":[\"#636efa\",\"#EF553B\",\"#00cc96\",\"#ab63fa\",\"#FFA15A\",\"#19d3f3\",\"#FF6692\",\"#B6E880\",\"#FF97FF\",\"#FECB52\"],\"font\":{\"color\":\"#2a3f5f\"},\"hovermode\":\"closest\",\"hoverlabel\":{\"align\":\"left\"},\"paper_bgcolor\":\"white\",\"plot_bgcolor\":\"#E5ECF6\",\"polar\":{\"bgcolor\":\"#E5ECF6\",\"angularaxis\":{\"gridcolor\":\"white\",\"linecolor\":\"white\",\"ticks\":\"\"},\"radialaxis\":{\"gridcolor\":\"white\",\"linecolor\":\"white\",\"ticks\":\"\"}},\"ternary\":{\"bgcolor\":\"#E5ECF6\",\"aaxis\":{\"gridcolor\":\"white\",\"linecolor\":\"white\",\"ticks\":\"\"},\"baxis\":{\"gridcolor\":\"white\",\"linecolor\":\"white\",\"ticks\":\"\"},\"caxis\":{\"gridcolor\":\"white\",\"linecolor\":\"white\",\"ticks\":\"\"}},\"coloraxis\":{\"colorbar\":{\"outlinewidth\":0,\"ticks\":\"\"}},\"colorscale\":{\"sequential\":[[0.0,\"#0d0887\"],[0.1111111111111111,\"#46039f\"],[0.2222222222222222,\"#7201a8\"],[0.3333333333333333,\"#9c179e\"],[0.4444444444444444,\"#bd3786\"],[0.5555555555555556,\"#d8576b\"],[0.6666666666666666,\"#ed7953\"],[0.7777777777777778,\"#fb9f3a\"],[0.8888888888888888,\"#fdca26\"],[1.0,\"#f0f921\"]],\"sequentialminus\":[[0.0,\"#0d0887\"],[0.1111111111111111,\"#46039f\"],[0.2222222222222222,\"#7201a8\"],[0.3333333333333333,\"#9c179e\"],[0.4444444444444444,\"#bd3786\"],[0.5555555555555556,\"#d8576b\"],[0.6666666666666666,\"#ed7953\"],[0.7777777777777778,\"#fb9f3a\"],[0.8888888888888888,\"#fdca26\"],[1.0,\"#f0f921\"]],\"diverging\":[[0,\"#8e0152\"],[0.1,\"#c51b7d\"],[0.2,\"#de77ae\"],[0.3,\"#f1b6da\"],[0.4,\"#fde0ef\"],[0.5,\"#f7f7f7\"],[0.6,\"#e6f5d0\"],[0.7,\"#b8e186\"],[0.8,\"#7fbc41\"],[0.9,\"#4d9221\"],[1,\"#276419\"]]},\"xaxis\":{\"gridcolor\":\"white\",\"linecolor\":\"white\",\"ticks\":\"\",\"title\":{\"standoff\":15},\"zerolinecolor\":\"white\",\"automargin\":true,\"zerolinewidth\":2},\"yaxis\":{\"gridcolor\":\"white\",\"linecolor\":\"white\",\"ticks\":\"\",\"title\":{\"standoff\":15},\"zerolinecolor\":\"white\",\"automargin\":true,\"zerolinewidth\":2},\"scene\":{\"xaxis\":{\"backgroundcolor\":\"#E5ECF6\",\"gridcolor\":\"white\",\"linecolor\":\"white\",\"showbackground\":true,\"ticks\":\"\",\"zerolinecolor\":\"white\",\"gridwidth\":2},\"yaxis\":{\"backgroundcolor\":\"#E5ECF6\",\"gridcolor\":\"white\",\"linecolor\":\"white\",\"showbackground\":true,\"ticks\":\"\",\"zerolinecolor\":\"white\",\"gridwidth\":2},\"zaxis\":{\"backgroundcolor\":\"#E5ECF6\",\"gridcolor\":\"white\",\"linecolor\":\"white\",\"showbackground\":true,\"ticks\":\"\",\"zerolinecolor\":\"white\",\"gridwidth\":2}},\"shapedefaults\":{\"line\":{\"color\":\"#2a3f5f\"}},\"annotationdefaults\":{\"arrowcolor\":\"#2a3f5f\",\"arrowhead\":0,\"arrowwidth\":1},\"geo\":{\"bgcolor\":\"white\",\"landcolor\":\"#E5ECF6\",\"subunitcolor\":\"white\",\"showland\":true,\"showlakes\":true,\"lakecolor\":\"white\"},\"title\":{\"x\":0.05},\"mapbox\":{\"style\":\"light\"}}},\"xaxis\":{\"anchor\":\"y\",\"domain\":[0.0,1.0],\"title\":{\"text\":\"PC1 14.4%\"}},\"yaxis\":{\"anchor\":\"x\",\"domain\":[0.0,1.0],\"title\":{\"text\":\"PC2 13.0%\"}},\"legend\":{\"title\":{\"text\":\"color\"},\"tracegroupgap\":0},\"margin\":{\"t\":60},\"title\":{\"text\":\"Plant Nutrients by Site Not Including Nitrogen PCA\"}},                        {\"responsive\": true}                    ).then(function(){\n",
       "                            \n",
       "var gd = document.getElementById('d397951b-6ca2-44a4-b03e-e495e2050bad');\n",
       "var x = new MutationObserver(function (mutations, observer) {{\n",
       "        var display = window.getComputedStyle(gd).display;\n",
       "        if (!display || display === 'none') {{\n",
       "            console.log([gd, 'removed!']);\n",
       "            Plotly.purge(gd);\n",
       "            observer.disconnect();\n",
       "        }}\n",
       "}});\n",
       "\n",
       "// Listen for the removal of the full notebook cells\n",
       "var notebookContainer = gd.closest('#notebook-container');\n",
       "if (notebookContainer) {{\n",
       "    x.observe(notebookContainer, {childList: true});\n",
       "}}\n",
       "\n",
       "// Listen for the clearing of the current output cell\n",
       "var outputEl = gd.closest('.output');\n",
       "if (outputEl) {{\n",
       "    x.observe(outputEl, {childList: true});\n",
       "}}\n",
       "\n",
       "                        })                };                });            </script>        </div>"
      ]
     },
     "metadata": {},
     "output_type": "display_data"
    }
   ],
   "source": [
    "X = pivoted_df[top_100.index]\n",
    "\n",
    "pca = PCA(n_components=2)\n",
    "components = pca.fit_transform(X)\n",
    "\n",
    "fig = px.scatter(components, x=0, y=1, color=pivoted_df['species'])\n",
    "fig.update_layout(\n",
    "    title = \"Plant Nutrients by Site Not Including Nitrogen PCA\",\n",
    "    xaxis_title=\"PC1 \" + str(round(100*pca.explained_variance_ratio_[0], 1)) + '%',\n",
    "    yaxis_title=\"PC2 \" + str(round(100*pca.explained_variance_ratio_[1], 1)) + '%')\n",
    "fig.show()"
   ]
  },
  {
   "cell_type": "markdown",
   "id": "8670cc80",
   "metadata": {},
   "source": [
    "### PCA Using only Syriaca and Exaltata"
   ]
  },
  {
   "cell_type": "code",
   "execution_count": 398,
   "id": "8ded471d",
   "metadata": {},
   "outputs": [],
   "source": [
    "pivoted_df = pivoted_df[pivoted_df[\"species\"].isin(['syriaca', 'exaltata'])]"
   ]
  },
  {
   "cell_type": "code",
   "execution_count": 403,
   "id": "70be0b70",
   "metadata": {},
   "outputs": [
    {
     "data": {
      "application/vnd.plotly.v1+json": {
       "config": {
        "plotlyServerURL": "https://plot.ly"
       },
       "data": [
        {
         "hovertemplate": "color=syriaca<br>0=%{x}<br>1=%{y}<extra></extra>",
         "legendgroup": "syriaca",
         "marker": {
          "color": "#636efa",
          "symbol": "circle"
         },
         "mode": "markers",
         "name": "syriaca",
         "orientation": "v",
         "showlegend": true,
         "type": "scatter",
         "x": [
          -4.517759582173825,
          -3.042038131354049,
          -1.5761324927461786,
          -0.45905329533794953,
          -4.082389816161959,
          -4.655894297449549,
          -2.629088182655011,
          -1.5842652835644577,
          -0.7328217017161245,
          -4.03857370321575,
          -1.3038122814806343,
          -3.900641468565085,
          -1.9876626698667492,
          -5.439414487952932,
          -1.8671964969612886,
          -3.620550353710616,
          -0.4675832945561788,
          1.1863055446389001,
          -0.8617419063342335,
          -4.242531059640851,
          0.6618163179265052,
          -5.111677618250036,
          -3.379558869565096,
          -0.3181803532329125,
          -1.0494948558939419,
          -3.5027561589421166,
          -2.9733909281725834,
          -0.477079529654459,
          0.7087435270069626,
          0.07647655487400928,
          -5.401520357557958,
          -2.046836346050508,
          -0.6894903496094003,
          -3.7220567029987546,
          -2.0102212672624993,
          -1.9328443313168882,
          -1.4956451452631494,
          1.6359076949766593,
          -1.1558046067579637,
          -1.2962192043999403,
          -0.5550948270904311,
          -4.413712633684765,
          1.6896845075369848,
          2.0654707410289346,
          2.3922737911614087,
          -1.7518626254991132,
          -3.5218494847320767,
          3.5516871213857164,
          -0.866975598837399,
          -1.7761478139352989,
          -0.3761978107718356,
          1.0438178560890474,
          -2.898498675783526,
          -5.4328988405588845,
          -3.2352513351266756,
          3.5791667064717205,
          -1.6931155584272672,
          -2.138069110094572,
          2.1847497981142356,
          4.280302788951614,
          -2.753284696934191,
          1.9124130583457852,
          2.454433346935697,
          -2.20011294436611,
          -1.6906937826806483,
          3.4234170352981756,
          -3.043868556209133,
          2.1502431141595015,
          1.0849987144653142,
          0.12474985646668355,
          -2.5680472807631642,
          -1.298628336628746,
          1.4800974097012547,
          -2.48325068805299,
          -0.09103162821548595,
          -2.105842600659894,
          0.28842804437310604,
          -3.1127194485031344,
          -1.8199014984759978,
          0.7390212962758788,
          4.793281046417802,
          0.6001973838421615,
          -2.5827756947461387,
          -2.631186176703134,
          -3.105179265329405,
          4.403690565899356,
          2.849565978659356,
          8.277324844314178,
          -0.2211572715400413,
          2.1284251618327628,
          -3.1633716427478933,
          -4.561726527650641,
          -6.887645404965173,
          3.1778305397537623,
          -2.2769598852703115,
          3.157035329832978,
          -1.3526990339083378,
          -5.703318741484189,
          -2.3790773899987148,
          2.1534640292357623,
          -2.746993957280742,
          -3.3530253460953108,
          -3.3705109247267373,
          0.6180673949076191
         ],
         "xaxis": "x",
         "y": [
          3.5872308426308974,
          2.7929077222637333,
          -0.5289969125031722,
          0.8460580883791203,
          7.807170524595534,
          2.813889015155889,
          4.134324294028603,
          1.8345807031368944,
          5.752049173899644,
          6.074523749605681,
          1.4601410781001465,
          -2.1684469840437717,
          0.8237790654643865,
          2.234407939224058,
          1.5492777969035347,
          -0.5030143987233008,
          0.8125996131401565,
          2.0520123115961484,
          1.9117793812441204,
          8.223876171515537,
          -7.224965178962731,
          -4.0227119737030925,
          -2.9855800768566683,
          -3.4533918770908048,
          -0.15122353321763046,
          -1.5724567261674798,
          -2.525261740414177,
          -5.000386415730843,
          -5.294277805481305,
          -2.1938854087995927,
          -4.252621801944133,
          -4.315025978771482,
          0.4160442754523884,
          3.3362330212405804,
          2.9846916155064145,
          5.4820938965510315,
          2.7781064085610323,
          -7.617857281573117,
          -3.7339521109945997,
          0.8674583872153565,
          -5.715863034358585,
          0.22562612435443416,
          1.7187173477150748,
          2.7728620801045505,
          -6.315527645601286,
          5.710492287462265,
          3.9682711124594947,
          0.7054283866074351,
          1.1454438241372153,
          1.1433133693736928,
          2.0380429095475736,
          -5.094593964720774,
          6.129141392250882,
          -3.7538650017063966,
          -2.6236686078563713,
          -7.43473472869192,
          -6.778769431759196,
          -3.387675734076676,
          -6.926819375364873,
          0.658202901250727,
          -5.21761080516423,
          -4.143107742476047,
          -4.019257922123694,
          1.0402912186034172,
          1.6520645023302891,
          -0.3719765055609631,
          -3.704271141173448,
          -3.3772915856147514,
          -4.703923569230466,
          -2.8454413385998185,
          -4.100577125378246,
          -6.264151664363789,
          -7.661507306929733,
          -3.8390098703552837,
          -1.9957113272295315,
          -0.11579114054774926,
          -3.9041495476107224,
          0.567957472752192,
          -3.066716382200301,
          1.0341776938284446,
          -5.915757195341359,
          0.1894878296136233,
          -4.552189967421197,
          3.5775231717445046,
          1.5850259694966056,
          2.7337658633772333,
          -4.585669195067993,
          -3.3903055200542243,
          -1.3157868451805557,
          -0.23224127612938913,
          -5.210661863397673,
          -5.7100427038937065,
          -4.097438904774444,
          -6.711895080975921,
          -2.799568308519715,
          0.15669499852898733,
          -3.754942289748439,
          -4.518130484086319,
          4.872565524523522,
          -0.5994877519104754,
          -6.438424209394142,
          1.6604161510792732,
          -0.24958895924845367,
          -4.745792394829365
         ],
         "yaxis": "y"
        },
        {
         "hovertemplate": "color=exaltata<br>0=%{x}<br>1=%{y}<extra></extra>",
         "legendgroup": "exaltata",
         "marker": {
          "color": "#EF553B",
          "symbol": "circle"
         },
         "mode": "markers",
         "name": "exaltata",
         "orientation": "v",
         "showlegend": true,
         "type": "scatter",
         "x": [
          4.106415681382628,
          -5.052193144527851,
          -2.387770775535279,
          1.655063574119034,
          -3.2718011656082857,
          -4.995872325712655,
          -0.7521263171601441,
          3.6645996143265913,
          0.665871234620401,
          5.839498254019235,
          -0.9641376603685016,
          5.046077473492232,
          -1.23931872596774,
          -2.6165074355285594,
          -3.7136686058176664,
          -1.7303131661286542,
          -3.4596702171998035,
          -5.083532876334057,
          -3.7646167702802615,
          -3.383098985290886,
          -0.7222119078422389,
          0.07240775194624348,
          0.9589741251958724,
          -1.5235394086024576,
          10.223314088085079,
          6.649906746081411,
          0.5693272016685329,
          7.351698678924863,
          3.128684063540493,
          2.0044762916355534,
          0.05834567780788459,
          8.066044187925039,
          2.0028609436616893,
          -0.9800673693658815,
          6.698677100730357,
          6.495797541524864,
          2.895719694249268,
          0.7307716369397931,
          2.991756762133254,
          5.887472020197952,
          1.5372564295322317,
          6.100762375668478,
          12.31823389304035,
          11.789954959254528,
          4.482249911776036,
          2.497187674003176,
          13.03978971789954,
          7.278447048863597,
          8.746863581449084,
          2.947463989545568
         ],
         "xaxis": "x",
         "y": [
          1.158331064652116,
          2.159630591666937,
          1.6033483072208181,
          0.94968469566698,
          2.7789859901139295,
          4.092423863144367,
          2.8046958310010344,
          -0.9039725998295876,
          2.7410701639994555,
          3.060696293828664,
          0.8147789616864978,
          3.7110436034468286,
          2.685389404227115,
          2.6717463189663446,
          4.106037251142333,
          -0.5772167470373031,
          5.289374556268168,
          7.247306313763116,
          4.035524582175462,
          4.602636580154843,
          5.053913269618393,
          6.036471676140133,
          3.7748710422628218,
          4.383801264903781,
          3.319508555396403,
          2.38102659009802,
          0.48476314765041206,
          1.8141551477703761,
          1.7255524289569115,
          1.5690757142262965,
          1.2594934637085924,
          0.9612996399353229,
          -0.03211564549271618,
          -0.3955111599367103,
          0.8349062851727342,
          2.1175981945994833,
          1.8638388665833208,
          2.7879261880392137,
          1.8358443564029123,
          1.3146770263856253,
          -1.090027213874759,
          1.1390248506858573,
          1.8784734337042228,
          3.640154334679351,
          3.6972126351021912,
          0.6261803161320065,
          0.695561267045896,
          2.2628321970097764,
          2.7545230199203177,
          0.1466985280094891
         ],
         "yaxis": "y"
        }
       ],
       "layout": {
        "legend": {
         "title": {
          "text": "color"
         },
         "tracegroupgap": 0
        },
        "margin": {
         "t": 60
        },
        "template": {
         "data": {
          "bar": [
           {
            "error_x": {
             "color": "#2a3f5f"
            },
            "error_y": {
             "color": "#2a3f5f"
            },
            "marker": {
             "line": {
              "color": "#E5ECF6",
              "width": 0.5
             },
             "pattern": {
              "fillmode": "overlay",
              "size": 10,
              "solidity": 0.2
             }
            },
            "type": "bar"
           }
          ],
          "barpolar": [
           {
            "marker": {
             "line": {
              "color": "#E5ECF6",
              "width": 0.5
             },
             "pattern": {
              "fillmode": "overlay",
              "size": 10,
              "solidity": 0.2
             }
            },
            "type": "barpolar"
           }
          ],
          "carpet": [
           {
            "aaxis": {
             "endlinecolor": "#2a3f5f",
             "gridcolor": "white",
             "linecolor": "white",
             "minorgridcolor": "white",
             "startlinecolor": "#2a3f5f"
            },
            "baxis": {
             "endlinecolor": "#2a3f5f",
             "gridcolor": "white",
             "linecolor": "white",
             "minorgridcolor": "white",
             "startlinecolor": "#2a3f5f"
            },
            "type": "carpet"
           }
          ],
          "choropleth": [
           {
            "colorbar": {
             "outlinewidth": 0,
             "ticks": ""
            },
            "type": "choropleth"
           }
          ],
          "contour": [
           {
            "colorbar": {
             "outlinewidth": 0,
             "ticks": ""
            },
            "colorscale": [
             [
              0,
              "#0d0887"
             ],
             [
              0.1111111111111111,
              "#46039f"
             ],
             [
              0.2222222222222222,
              "#7201a8"
             ],
             [
              0.3333333333333333,
              "#9c179e"
             ],
             [
              0.4444444444444444,
              "#bd3786"
             ],
             [
              0.5555555555555556,
              "#d8576b"
             ],
             [
              0.6666666666666666,
              "#ed7953"
             ],
             [
              0.7777777777777778,
              "#fb9f3a"
             ],
             [
              0.8888888888888888,
              "#fdca26"
             ],
             [
              1,
              "#f0f921"
             ]
            ],
            "type": "contour"
           }
          ],
          "contourcarpet": [
           {
            "colorbar": {
             "outlinewidth": 0,
             "ticks": ""
            },
            "type": "contourcarpet"
           }
          ],
          "heatmap": [
           {
            "colorbar": {
             "outlinewidth": 0,
             "ticks": ""
            },
            "colorscale": [
             [
              0,
              "#0d0887"
             ],
             [
              0.1111111111111111,
              "#46039f"
             ],
             [
              0.2222222222222222,
              "#7201a8"
             ],
             [
              0.3333333333333333,
              "#9c179e"
             ],
             [
              0.4444444444444444,
              "#bd3786"
             ],
             [
              0.5555555555555556,
              "#d8576b"
             ],
             [
              0.6666666666666666,
              "#ed7953"
             ],
             [
              0.7777777777777778,
              "#fb9f3a"
             ],
             [
              0.8888888888888888,
              "#fdca26"
             ],
             [
              1,
              "#f0f921"
             ]
            ],
            "type": "heatmap"
           }
          ],
          "heatmapgl": [
           {
            "colorbar": {
             "outlinewidth": 0,
             "ticks": ""
            },
            "colorscale": [
             [
              0,
              "#0d0887"
             ],
             [
              0.1111111111111111,
              "#46039f"
             ],
             [
              0.2222222222222222,
              "#7201a8"
             ],
             [
              0.3333333333333333,
              "#9c179e"
             ],
             [
              0.4444444444444444,
              "#bd3786"
             ],
             [
              0.5555555555555556,
              "#d8576b"
             ],
             [
              0.6666666666666666,
              "#ed7953"
             ],
             [
              0.7777777777777778,
              "#fb9f3a"
             ],
             [
              0.8888888888888888,
              "#fdca26"
             ],
             [
              1,
              "#f0f921"
             ]
            ],
            "type": "heatmapgl"
           }
          ],
          "histogram": [
           {
            "marker": {
             "pattern": {
              "fillmode": "overlay",
              "size": 10,
              "solidity": 0.2
             }
            },
            "type": "histogram"
           }
          ],
          "histogram2d": [
           {
            "colorbar": {
             "outlinewidth": 0,
             "ticks": ""
            },
            "colorscale": [
             [
              0,
              "#0d0887"
             ],
             [
              0.1111111111111111,
              "#46039f"
             ],
             [
              0.2222222222222222,
              "#7201a8"
             ],
             [
              0.3333333333333333,
              "#9c179e"
             ],
             [
              0.4444444444444444,
              "#bd3786"
             ],
             [
              0.5555555555555556,
              "#d8576b"
             ],
             [
              0.6666666666666666,
              "#ed7953"
             ],
             [
              0.7777777777777778,
              "#fb9f3a"
             ],
             [
              0.8888888888888888,
              "#fdca26"
             ],
             [
              1,
              "#f0f921"
             ]
            ],
            "type": "histogram2d"
           }
          ],
          "histogram2dcontour": [
           {
            "colorbar": {
             "outlinewidth": 0,
             "ticks": ""
            },
            "colorscale": [
             [
              0,
              "#0d0887"
             ],
             [
              0.1111111111111111,
              "#46039f"
             ],
             [
              0.2222222222222222,
              "#7201a8"
             ],
             [
              0.3333333333333333,
              "#9c179e"
             ],
             [
              0.4444444444444444,
              "#bd3786"
             ],
             [
              0.5555555555555556,
              "#d8576b"
             ],
             [
              0.6666666666666666,
              "#ed7953"
             ],
             [
              0.7777777777777778,
              "#fb9f3a"
             ],
             [
              0.8888888888888888,
              "#fdca26"
             ],
             [
              1,
              "#f0f921"
             ]
            ],
            "type": "histogram2dcontour"
           }
          ],
          "mesh3d": [
           {
            "colorbar": {
             "outlinewidth": 0,
             "ticks": ""
            },
            "type": "mesh3d"
           }
          ],
          "parcoords": [
           {
            "line": {
             "colorbar": {
              "outlinewidth": 0,
              "ticks": ""
             }
            },
            "type": "parcoords"
           }
          ],
          "pie": [
           {
            "automargin": true,
            "type": "pie"
           }
          ],
          "scatter": [
           {
            "fillpattern": {
             "fillmode": "overlay",
             "size": 10,
             "solidity": 0.2
            },
            "type": "scatter"
           }
          ],
          "scatter3d": [
           {
            "line": {
             "colorbar": {
              "outlinewidth": 0,
              "ticks": ""
             }
            },
            "marker": {
             "colorbar": {
              "outlinewidth": 0,
              "ticks": ""
             }
            },
            "type": "scatter3d"
           }
          ],
          "scattercarpet": [
           {
            "marker": {
             "colorbar": {
              "outlinewidth": 0,
              "ticks": ""
             }
            },
            "type": "scattercarpet"
           }
          ],
          "scattergeo": [
           {
            "marker": {
             "colorbar": {
              "outlinewidth": 0,
              "ticks": ""
             }
            },
            "type": "scattergeo"
           }
          ],
          "scattergl": [
           {
            "marker": {
             "colorbar": {
              "outlinewidth": 0,
              "ticks": ""
             }
            },
            "type": "scattergl"
           }
          ],
          "scattermapbox": [
           {
            "marker": {
             "colorbar": {
              "outlinewidth": 0,
              "ticks": ""
             }
            },
            "type": "scattermapbox"
           }
          ],
          "scatterpolar": [
           {
            "marker": {
             "colorbar": {
              "outlinewidth": 0,
              "ticks": ""
             }
            },
            "type": "scatterpolar"
           }
          ],
          "scatterpolargl": [
           {
            "marker": {
             "colorbar": {
              "outlinewidth": 0,
              "ticks": ""
             }
            },
            "type": "scatterpolargl"
           }
          ],
          "scatterternary": [
           {
            "marker": {
             "colorbar": {
              "outlinewidth": 0,
              "ticks": ""
             }
            },
            "type": "scatterternary"
           }
          ],
          "surface": [
           {
            "colorbar": {
             "outlinewidth": 0,
             "ticks": ""
            },
            "colorscale": [
             [
              0,
              "#0d0887"
             ],
             [
              0.1111111111111111,
              "#46039f"
             ],
             [
              0.2222222222222222,
              "#7201a8"
             ],
             [
              0.3333333333333333,
              "#9c179e"
             ],
             [
              0.4444444444444444,
              "#bd3786"
             ],
             [
              0.5555555555555556,
              "#d8576b"
             ],
             [
              0.6666666666666666,
              "#ed7953"
             ],
             [
              0.7777777777777778,
              "#fb9f3a"
             ],
             [
              0.8888888888888888,
              "#fdca26"
             ],
             [
              1,
              "#f0f921"
             ]
            ],
            "type": "surface"
           }
          ],
          "table": [
           {
            "cells": {
             "fill": {
              "color": "#EBF0F8"
             },
             "line": {
              "color": "white"
             }
            },
            "header": {
             "fill": {
              "color": "#C8D4E3"
             },
             "line": {
              "color": "white"
             }
            },
            "type": "table"
           }
          ]
         },
         "layout": {
          "annotationdefaults": {
           "arrowcolor": "#2a3f5f",
           "arrowhead": 0,
           "arrowwidth": 1
          },
          "autotypenumbers": "strict",
          "coloraxis": {
           "colorbar": {
            "outlinewidth": 0,
            "ticks": ""
           }
          },
          "colorscale": {
           "diverging": [
            [
             0,
             "#8e0152"
            ],
            [
             0.1,
             "#c51b7d"
            ],
            [
             0.2,
             "#de77ae"
            ],
            [
             0.3,
             "#f1b6da"
            ],
            [
             0.4,
             "#fde0ef"
            ],
            [
             0.5,
             "#f7f7f7"
            ],
            [
             0.6,
             "#e6f5d0"
            ],
            [
             0.7,
             "#b8e186"
            ],
            [
             0.8,
             "#7fbc41"
            ],
            [
             0.9,
             "#4d9221"
            ],
            [
             1,
             "#276419"
            ]
           ],
           "sequential": [
            [
             0,
             "#0d0887"
            ],
            [
             0.1111111111111111,
             "#46039f"
            ],
            [
             0.2222222222222222,
             "#7201a8"
            ],
            [
             0.3333333333333333,
             "#9c179e"
            ],
            [
             0.4444444444444444,
             "#bd3786"
            ],
            [
             0.5555555555555556,
             "#d8576b"
            ],
            [
             0.6666666666666666,
             "#ed7953"
            ],
            [
             0.7777777777777778,
             "#fb9f3a"
            ],
            [
             0.8888888888888888,
             "#fdca26"
            ],
            [
             1,
             "#f0f921"
            ]
           ],
           "sequentialminus": [
            [
             0,
             "#0d0887"
            ],
            [
             0.1111111111111111,
             "#46039f"
            ],
            [
             0.2222222222222222,
             "#7201a8"
            ],
            [
             0.3333333333333333,
             "#9c179e"
            ],
            [
             0.4444444444444444,
             "#bd3786"
            ],
            [
             0.5555555555555556,
             "#d8576b"
            ],
            [
             0.6666666666666666,
             "#ed7953"
            ],
            [
             0.7777777777777778,
             "#fb9f3a"
            ],
            [
             0.8888888888888888,
             "#fdca26"
            ],
            [
             1,
             "#f0f921"
            ]
           ]
          },
          "colorway": [
           "#636efa",
           "#EF553B",
           "#00cc96",
           "#ab63fa",
           "#FFA15A",
           "#19d3f3",
           "#FF6692",
           "#B6E880",
           "#FF97FF",
           "#FECB52"
          ],
          "font": {
           "color": "#2a3f5f"
          },
          "geo": {
           "bgcolor": "white",
           "lakecolor": "white",
           "landcolor": "#E5ECF6",
           "showlakes": true,
           "showland": true,
           "subunitcolor": "white"
          },
          "hoverlabel": {
           "align": "left"
          },
          "hovermode": "closest",
          "mapbox": {
           "style": "light"
          },
          "paper_bgcolor": "white",
          "plot_bgcolor": "#E5ECF6",
          "polar": {
           "angularaxis": {
            "gridcolor": "white",
            "linecolor": "white",
            "ticks": ""
           },
           "bgcolor": "#E5ECF6",
           "radialaxis": {
            "gridcolor": "white",
            "linecolor": "white",
            "ticks": ""
           }
          },
          "scene": {
           "xaxis": {
            "backgroundcolor": "#E5ECF6",
            "gridcolor": "white",
            "gridwidth": 2,
            "linecolor": "white",
            "showbackground": true,
            "ticks": "",
            "zerolinecolor": "white"
           },
           "yaxis": {
            "backgroundcolor": "#E5ECF6",
            "gridcolor": "white",
            "gridwidth": 2,
            "linecolor": "white",
            "showbackground": true,
            "ticks": "",
            "zerolinecolor": "white"
           },
           "zaxis": {
            "backgroundcolor": "#E5ECF6",
            "gridcolor": "white",
            "gridwidth": 2,
            "linecolor": "white",
            "showbackground": true,
            "ticks": "",
            "zerolinecolor": "white"
           }
          },
          "shapedefaults": {
           "line": {
            "color": "#2a3f5f"
           }
          },
          "ternary": {
           "aaxis": {
            "gridcolor": "white",
            "linecolor": "white",
            "ticks": ""
           },
           "baxis": {
            "gridcolor": "white",
            "linecolor": "white",
            "ticks": ""
           },
           "bgcolor": "#E5ECF6",
           "caxis": {
            "gridcolor": "white",
            "linecolor": "white",
            "ticks": ""
           }
          },
          "title": {
           "x": 0.05
          },
          "xaxis": {
           "automargin": true,
           "gridcolor": "white",
           "linecolor": "white",
           "ticks": "",
           "title": {
            "standoff": 15
           },
           "zerolinecolor": "white",
           "zerolinewidth": 2
          },
          "yaxis": {
           "automargin": true,
           "gridcolor": "white",
           "linecolor": "white",
           "ticks": "",
           "title": {
            "standoff": 15
           },
           "zerolinecolor": "white",
           "zerolinewidth": 2
          }
         }
        },
        "title": {
         "text": "Plant Microbes by Species PCA"
        },
        "xaxis": {
         "anchor": "y",
         "domain": [
          0,
          1
         ],
         "title": {
          "text": "PC1 14.4%"
         }
        },
        "yaxis": {
         "anchor": "x",
         "domain": [
          0,
          1
         ],
         "title": {
          "text": "PC2 13.2%"
         }
        }
       }
      },
      "text/html": [
       "<div>                            <div id=\"7564ae52-630b-4658-a451-db8c3692530a\" class=\"plotly-graph-div\" style=\"height:525px; width:100%;\"></div>            <script type=\"text/javascript\">                require([\"plotly\"], function(Plotly) {                    window.PLOTLYENV=window.PLOTLYENV || {};                                    if (document.getElementById(\"7564ae52-630b-4658-a451-db8c3692530a\")) {                    Plotly.newPlot(                        \"7564ae52-630b-4658-a451-db8c3692530a\",                        [{\"hovertemplate\":\"color=syriaca<br>0=%{x}<br>1=%{y}<extra></extra>\",\"legendgroup\":\"syriaca\",\"marker\":{\"color\":\"#636efa\",\"symbol\":\"circle\"},\"mode\":\"markers\",\"name\":\"syriaca\",\"orientation\":\"v\",\"showlegend\":true,\"x\":[-4.517759582173825,-3.042038131354049,-1.5761324927461786,-0.45905329533794953,-4.082389816161959,-4.655894297449549,-2.629088182655011,-1.5842652835644577,-0.7328217017161245,-4.03857370321575,-1.3038122814806343,-3.900641468565085,-1.9876626698667492,-5.439414487952932,-1.8671964969612886,-3.620550353710616,-0.4675832945561788,1.1863055446389001,-0.8617419063342335,-4.242531059640851,0.6618163179265052,-5.111677618250036,-3.379558869565096,-0.3181803532329125,-1.0494948558939419,-3.5027561589421166,-2.9733909281725834,-0.477079529654459,0.7087435270069626,0.07647655487400928,-5.401520357557958,-2.046836346050508,-0.6894903496094003,-3.7220567029987546,-2.0102212672624993,-1.9328443313168882,-1.4956451452631494,1.6359076949766593,-1.1558046067579637,-1.2962192043999403,-0.5550948270904311,-4.413712633684765,1.6896845075369848,2.0654707410289346,2.3922737911614087,-1.7518626254991132,-3.5218494847320767,3.5516871213857164,-0.866975598837399,-1.7761478139352989,-0.3761978107718356,1.0438178560890474,-2.898498675783526,-5.4328988405588845,-3.2352513351266756,3.5791667064717205,-1.6931155584272672,-2.138069110094572,2.1847497981142356,4.280302788951614,-2.753284696934191,1.9124130583457852,2.454433346935697,-2.20011294436611,-1.6906937826806483,3.4234170352981756,-3.043868556209133,2.1502431141595015,1.0849987144653142,0.12474985646668355,-2.5680472807631642,-1.298628336628746,1.4800974097012547,-2.48325068805299,-0.09103162821548595,-2.105842600659894,0.28842804437310604,-3.1127194485031344,-1.8199014984759978,0.7390212962758788,4.793281046417802,0.6001973838421615,-2.5827756947461387,-2.631186176703134,-3.105179265329405,4.403690565899356,2.849565978659356,8.277324844314178,-0.2211572715400413,2.1284251618327628,-3.1633716427478933,-4.561726527650641,-6.887645404965173,3.1778305397537623,-2.2769598852703115,3.157035329832978,-1.3526990339083378,-5.703318741484189,-2.3790773899987148,2.1534640292357623,-2.746993957280742,-3.3530253460953108,-3.3705109247267373,0.6180673949076191],\"xaxis\":\"x\",\"y\":[3.5872308426308974,2.7929077222637333,-0.5289969125031722,0.8460580883791203,7.807170524595534,2.813889015155889,4.134324294028603,1.8345807031368944,5.752049173899644,6.074523749605681,1.4601410781001465,-2.1684469840437717,0.8237790654643865,2.234407939224058,1.5492777969035347,-0.5030143987233008,0.8125996131401565,2.0520123115961484,1.9117793812441204,8.223876171515537,-7.224965178962731,-4.0227119737030925,-2.9855800768566683,-3.4533918770908048,-0.15122353321763046,-1.5724567261674798,-2.525261740414177,-5.000386415730843,-5.294277805481305,-2.1938854087995927,-4.252621801944133,-4.315025978771482,0.4160442754523884,3.3362330212405804,2.9846916155064145,5.4820938965510315,2.7781064085610323,-7.617857281573117,-3.7339521109945997,0.8674583872153565,-5.715863034358585,0.22562612435443416,1.7187173477150748,2.7728620801045505,-6.315527645601286,5.710492287462265,3.9682711124594947,0.7054283866074351,1.1454438241372153,1.1433133693736928,2.0380429095475736,-5.094593964720774,6.129141392250882,-3.7538650017063966,-2.6236686078563713,-7.43473472869192,-6.778769431759196,-3.387675734076676,-6.926819375364873,0.658202901250727,-5.21761080516423,-4.143107742476047,-4.019257922123694,1.0402912186034172,1.6520645023302891,-0.3719765055609631,-3.704271141173448,-3.3772915856147514,-4.703923569230466,-2.8454413385998185,-4.100577125378246,-6.264151664363789,-7.661507306929733,-3.8390098703552837,-1.9957113272295315,-0.11579114054774926,-3.9041495476107224,0.567957472752192,-3.066716382200301,1.0341776938284446,-5.915757195341359,0.1894878296136233,-4.552189967421197,3.5775231717445046,1.5850259694966056,2.7337658633772333,-4.585669195067993,-3.3903055200542243,-1.3157868451805557,-0.23224127612938913,-5.210661863397673,-5.7100427038937065,-4.097438904774444,-6.711895080975921,-2.799568308519715,0.15669499852898733,-3.754942289748439,-4.518130484086319,4.872565524523522,-0.5994877519104754,-6.438424209394142,1.6604161510792732,-0.24958895924845367,-4.745792394829365],\"yaxis\":\"y\",\"type\":\"scatter\"},{\"hovertemplate\":\"color=exaltata<br>0=%{x}<br>1=%{y}<extra></extra>\",\"legendgroup\":\"exaltata\",\"marker\":{\"color\":\"#EF553B\",\"symbol\":\"circle\"},\"mode\":\"markers\",\"name\":\"exaltata\",\"orientation\":\"v\",\"showlegend\":true,\"x\":[4.106415681382628,-5.052193144527851,-2.387770775535279,1.655063574119034,-3.2718011656082857,-4.995872325712655,-0.7521263171601441,3.6645996143265913,0.665871234620401,5.839498254019235,-0.9641376603685016,5.046077473492232,-1.23931872596774,-2.6165074355285594,-3.7136686058176664,-1.7303131661286542,-3.4596702171998035,-5.083532876334057,-3.7646167702802615,-3.383098985290886,-0.7222119078422389,0.07240775194624348,0.9589741251958724,-1.5235394086024576,10.223314088085079,6.649906746081411,0.5693272016685329,7.351698678924863,3.128684063540493,2.0044762916355534,0.05834567780788459,8.066044187925039,2.0028609436616893,-0.9800673693658815,6.698677100730357,6.495797541524864,2.895719694249268,0.7307716369397931,2.991756762133254,5.887472020197952,1.5372564295322317,6.100762375668478,12.31823389304035,11.789954959254528,4.482249911776036,2.497187674003176,13.03978971789954,7.278447048863597,8.746863581449084,2.947463989545568],\"xaxis\":\"x\",\"y\":[1.158331064652116,2.159630591666937,1.6033483072208181,0.94968469566698,2.7789859901139295,4.092423863144367,2.8046958310010344,-0.9039725998295876,2.7410701639994555,3.060696293828664,0.8147789616864978,3.7110436034468286,2.685389404227115,2.6717463189663446,4.106037251142333,-0.5772167470373031,5.289374556268168,7.247306313763116,4.035524582175462,4.602636580154843,5.053913269618393,6.036471676140133,3.7748710422628218,4.383801264903781,3.319508555396403,2.38102659009802,0.48476314765041206,1.8141551477703761,1.7255524289569115,1.5690757142262965,1.2594934637085924,0.9612996399353229,-0.03211564549271618,-0.3955111599367103,0.8349062851727342,2.1175981945994833,1.8638388665833208,2.7879261880392137,1.8358443564029123,1.3146770263856253,-1.090027213874759,1.1390248506858573,1.8784734337042228,3.640154334679351,3.6972126351021912,0.6261803161320065,0.695561267045896,2.2628321970097764,2.7545230199203177,0.1466985280094891],\"yaxis\":\"y\",\"type\":\"scatter\"}],                        {\"template\":{\"data\":{\"histogram2dcontour\":[{\"type\":\"histogram2dcontour\",\"colorbar\":{\"outlinewidth\":0,\"ticks\":\"\"},\"colorscale\":[[0.0,\"#0d0887\"],[0.1111111111111111,\"#46039f\"],[0.2222222222222222,\"#7201a8\"],[0.3333333333333333,\"#9c179e\"],[0.4444444444444444,\"#bd3786\"],[0.5555555555555556,\"#d8576b\"],[0.6666666666666666,\"#ed7953\"],[0.7777777777777778,\"#fb9f3a\"],[0.8888888888888888,\"#fdca26\"],[1.0,\"#f0f921\"]]}],\"choropleth\":[{\"type\":\"choropleth\",\"colorbar\":{\"outlinewidth\":0,\"ticks\":\"\"}}],\"histogram2d\":[{\"type\":\"histogram2d\",\"colorbar\":{\"outlinewidth\":0,\"ticks\":\"\"},\"colorscale\":[[0.0,\"#0d0887\"],[0.1111111111111111,\"#46039f\"],[0.2222222222222222,\"#7201a8\"],[0.3333333333333333,\"#9c179e\"],[0.4444444444444444,\"#bd3786\"],[0.5555555555555556,\"#d8576b\"],[0.6666666666666666,\"#ed7953\"],[0.7777777777777778,\"#fb9f3a\"],[0.8888888888888888,\"#fdca26\"],[1.0,\"#f0f921\"]]}],\"heatmap\":[{\"type\":\"heatmap\",\"colorbar\":{\"outlinewidth\":0,\"ticks\":\"\"},\"colorscale\":[[0.0,\"#0d0887\"],[0.1111111111111111,\"#46039f\"],[0.2222222222222222,\"#7201a8\"],[0.3333333333333333,\"#9c179e\"],[0.4444444444444444,\"#bd3786\"],[0.5555555555555556,\"#d8576b\"],[0.6666666666666666,\"#ed7953\"],[0.7777777777777778,\"#fb9f3a\"],[0.8888888888888888,\"#fdca26\"],[1.0,\"#f0f921\"]]}],\"heatmapgl\":[{\"type\":\"heatmapgl\",\"colorbar\":{\"outlinewidth\":0,\"ticks\":\"\"},\"colorscale\":[[0.0,\"#0d0887\"],[0.1111111111111111,\"#46039f\"],[0.2222222222222222,\"#7201a8\"],[0.3333333333333333,\"#9c179e\"],[0.4444444444444444,\"#bd3786\"],[0.5555555555555556,\"#d8576b\"],[0.6666666666666666,\"#ed7953\"],[0.7777777777777778,\"#fb9f3a\"],[0.8888888888888888,\"#fdca26\"],[1.0,\"#f0f921\"]]}],\"contourcarpet\":[{\"type\":\"contourcarpet\",\"colorbar\":{\"outlinewidth\":0,\"ticks\":\"\"}}],\"contour\":[{\"type\":\"contour\",\"colorbar\":{\"outlinewidth\":0,\"ticks\":\"\"},\"colorscale\":[[0.0,\"#0d0887\"],[0.1111111111111111,\"#46039f\"],[0.2222222222222222,\"#7201a8\"],[0.3333333333333333,\"#9c179e\"],[0.4444444444444444,\"#bd3786\"],[0.5555555555555556,\"#d8576b\"],[0.6666666666666666,\"#ed7953\"],[0.7777777777777778,\"#fb9f3a\"],[0.8888888888888888,\"#fdca26\"],[1.0,\"#f0f921\"]]}],\"surface\":[{\"type\":\"surface\",\"colorbar\":{\"outlinewidth\":0,\"ticks\":\"\"},\"colorscale\":[[0.0,\"#0d0887\"],[0.1111111111111111,\"#46039f\"],[0.2222222222222222,\"#7201a8\"],[0.3333333333333333,\"#9c179e\"],[0.4444444444444444,\"#bd3786\"],[0.5555555555555556,\"#d8576b\"],[0.6666666666666666,\"#ed7953\"],[0.7777777777777778,\"#fb9f3a\"],[0.8888888888888888,\"#fdca26\"],[1.0,\"#f0f921\"]]}],\"mesh3d\":[{\"type\":\"mesh3d\",\"colorbar\":{\"outlinewidth\":0,\"ticks\":\"\"}}],\"scatter\":[{\"fillpattern\":{\"fillmode\":\"overlay\",\"size\":10,\"solidity\":0.2},\"type\":\"scatter\"}],\"parcoords\":[{\"type\":\"parcoords\",\"line\":{\"colorbar\":{\"outlinewidth\":0,\"ticks\":\"\"}}}],\"scatterpolargl\":[{\"type\":\"scatterpolargl\",\"marker\":{\"colorbar\":{\"outlinewidth\":0,\"ticks\":\"\"}}}],\"bar\":[{\"error_x\":{\"color\":\"#2a3f5f\"},\"error_y\":{\"color\":\"#2a3f5f\"},\"marker\":{\"line\":{\"color\":\"#E5ECF6\",\"width\":0.5},\"pattern\":{\"fillmode\":\"overlay\",\"size\":10,\"solidity\":0.2}},\"type\":\"bar\"}],\"scattergeo\":[{\"type\":\"scattergeo\",\"marker\":{\"colorbar\":{\"outlinewidth\":0,\"ticks\":\"\"}}}],\"scatterpolar\":[{\"type\":\"scatterpolar\",\"marker\":{\"colorbar\":{\"outlinewidth\":0,\"ticks\":\"\"}}}],\"histogram\":[{\"marker\":{\"pattern\":{\"fillmode\":\"overlay\",\"size\":10,\"solidity\":0.2}},\"type\":\"histogram\"}],\"scattergl\":[{\"type\":\"scattergl\",\"marker\":{\"colorbar\":{\"outlinewidth\":0,\"ticks\":\"\"}}}],\"scatter3d\":[{\"type\":\"scatter3d\",\"line\":{\"colorbar\":{\"outlinewidth\":0,\"ticks\":\"\"}},\"marker\":{\"colorbar\":{\"outlinewidth\":0,\"ticks\":\"\"}}}],\"scattermapbox\":[{\"type\":\"scattermapbox\",\"marker\":{\"colorbar\":{\"outlinewidth\":0,\"ticks\":\"\"}}}],\"scatterternary\":[{\"type\":\"scatterternary\",\"marker\":{\"colorbar\":{\"outlinewidth\":0,\"ticks\":\"\"}}}],\"scattercarpet\":[{\"type\":\"scattercarpet\",\"marker\":{\"colorbar\":{\"outlinewidth\":0,\"ticks\":\"\"}}}],\"carpet\":[{\"aaxis\":{\"endlinecolor\":\"#2a3f5f\",\"gridcolor\":\"white\",\"linecolor\":\"white\",\"minorgridcolor\":\"white\",\"startlinecolor\":\"#2a3f5f\"},\"baxis\":{\"endlinecolor\":\"#2a3f5f\",\"gridcolor\":\"white\",\"linecolor\":\"white\",\"minorgridcolor\":\"white\",\"startlinecolor\":\"#2a3f5f\"},\"type\":\"carpet\"}],\"table\":[{\"cells\":{\"fill\":{\"color\":\"#EBF0F8\"},\"line\":{\"color\":\"white\"}},\"header\":{\"fill\":{\"color\":\"#C8D4E3\"},\"line\":{\"color\":\"white\"}},\"type\":\"table\"}],\"barpolar\":[{\"marker\":{\"line\":{\"color\":\"#E5ECF6\",\"width\":0.5},\"pattern\":{\"fillmode\":\"overlay\",\"size\":10,\"solidity\":0.2}},\"type\":\"barpolar\"}],\"pie\":[{\"automargin\":true,\"type\":\"pie\"}]},\"layout\":{\"autotypenumbers\":\"strict\",\"colorway\":[\"#636efa\",\"#EF553B\",\"#00cc96\",\"#ab63fa\",\"#FFA15A\",\"#19d3f3\",\"#FF6692\",\"#B6E880\",\"#FF97FF\",\"#FECB52\"],\"font\":{\"color\":\"#2a3f5f\"},\"hovermode\":\"closest\",\"hoverlabel\":{\"align\":\"left\"},\"paper_bgcolor\":\"white\",\"plot_bgcolor\":\"#E5ECF6\",\"polar\":{\"bgcolor\":\"#E5ECF6\",\"angularaxis\":{\"gridcolor\":\"white\",\"linecolor\":\"white\",\"ticks\":\"\"},\"radialaxis\":{\"gridcolor\":\"white\",\"linecolor\":\"white\",\"ticks\":\"\"}},\"ternary\":{\"bgcolor\":\"#E5ECF6\",\"aaxis\":{\"gridcolor\":\"white\",\"linecolor\":\"white\",\"ticks\":\"\"},\"baxis\":{\"gridcolor\":\"white\",\"linecolor\":\"white\",\"ticks\":\"\"},\"caxis\":{\"gridcolor\":\"white\",\"linecolor\":\"white\",\"ticks\":\"\"}},\"coloraxis\":{\"colorbar\":{\"outlinewidth\":0,\"ticks\":\"\"}},\"colorscale\":{\"sequential\":[[0.0,\"#0d0887\"],[0.1111111111111111,\"#46039f\"],[0.2222222222222222,\"#7201a8\"],[0.3333333333333333,\"#9c179e\"],[0.4444444444444444,\"#bd3786\"],[0.5555555555555556,\"#d8576b\"],[0.6666666666666666,\"#ed7953\"],[0.7777777777777778,\"#fb9f3a\"],[0.8888888888888888,\"#fdca26\"],[1.0,\"#f0f921\"]],\"sequentialminus\":[[0.0,\"#0d0887\"],[0.1111111111111111,\"#46039f\"],[0.2222222222222222,\"#7201a8\"],[0.3333333333333333,\"#9c179e\"],[0.4444444444444444,\"#bd3786\"],[0.5555555555555556,\"#d8576b\"],[0.6666666666666666,\"#ed7953\"],[0.7777777777777778,\"#fb9f3a\"],[0.8888888888888888,\"#fdca26\"],[1.0,\"#f0f921\"]],\"diverging\":[[0,\"#8e0152\"],[0.1,\"#c51b7d\"],[0.2,\"#de77ae\"],[0.3,\"#f1b6da\"],[0.4,\"#fde0ef\"],[0.5,\"#f7f7f7\"],[0.6,\"#e6f5d0\"],[0.7,\"#b8e186\"],[0.8,\"#7fbc41\"],[0.9,\"#4d9221\"],[1,\"#276419\"]]},\"xaxis\":{\"gridcolor\":\"white\",\"linecolor\":\"white\",\"ticks\":\"\",\"title\":{\"standoff\":15},\"zerolinecolor\":\"white\",\"automargin\":true,\"zerolinewidth\":2},\"yaxis\":{\"gridcolor\":\"white\",\"linecolor\":\"white\",\"ticks\":\"\",\"title\":{\"standoff\":15},\"zerolinecolor\":\"white\",\"automargin\":true,\"zerolinewidth\":2},\"scene\":{\"xaxis\":{\"backgroundcolor\":\"#E5ECF6\",\"gridcolor\":\"white\",\"linecolor\":\"white\",\"showbackground\":true,\"ticks\":\"\",\"zerolinecolor\":\"white\",\"gridwidth\":2},\"yaxis\":{\"backgroundcolor\":\"#E5ECF6\",\"gridcolor\":\"white\",\"linecolor\":\"white\",\"showbackground\":true,\"ticks\":\"\",\"zerolinecolor\":\"white\",\"gridwidth\":2},\"zaxis\":{\"backgroundcolor\":\"#E5ECF6\",\"gridcolor\":\"white\",\"linecolor\":\"white\",\"showbackground\":true,\"ticks\":\"\",\"zerolinecolor\":\"white\",\"gridwidth\":2}},\"shapedefaults\":{\"line\":{\"color\":\"#2a3f5f\"}},\"annotationdefaults\":{\"arrowcolor\":\"#2a3f5f\",\"arrowhead\":0,\"arrowwidth\":1},\"geo\":{\"bgcolor\":\"white\",\"landcolor\":\"#E5ECF6\",\"subunitcolor\":\"white\",\"showland\":true,\"showlakes\":true,\"lakecolor\":\"white\"},\"title\":{\"x\":0.05},\"mapbox\":{\"style\":\"light\"}}},\"xaxis\":{\"anchor\":\"y\",\"domain\":[0.0,1.0],\"title\":{\"text\":\"PC1 14.4%\"}},\"yaxis\":{\"anchor\":\"x\",\"domain\":[0.0,1.0],\"title\":{\"text\":\"PC2 13.2%\"}},\"legend\":{\"title\":{\"text\":\"color\"},\"tracegroupgap\":0},\"margin\":{\"t\":60},\"title\":{\"text\":\"Plant Microbes by Species PCA\"}},                        {\"responsive\": true}                    ).then(function(){\n",
       "                            \n",
       "var gd = document.getElementById('7564ae52-630b-4658-a451-db8c3692530a');\n",
       "var x = new MutationObserver(function (mutations, observer) {{\n",
       "        var display = window.getComputedStyle(gd).display;\n",
       "        if (!display || display === 'none') {{\n",
       "            console.log([gd, 'removed!']);\n",
       "            Plotly.purge(gd);\n",
       "            observer.disconnect();\n",
       "        }}\n",
       "}});\n",
       "\n",
       "// Listen for the removal of the full notebook cells\n",
       "var notebookContainer = gd.closest('#notebook-container');\n",
       "if (notebookContainer) {{\n",
       "    x.observe(notebookContainer, {childList: true});\n",
       "}}\n",
       "\n",
       "// Listen for the clearing of the current output cell\n",
       "var outputEl = gd.closest('.output');\n",
       "if (outputEl) {{\n",
       "    x.observe(outputEl, {childList: true});\n",
       "}}\n",
       "\n",
       "                        })                };                });            </script>        </div>"
      ]
     },
     "metadata": {},
     "output_type": "display_data"
    }
   ],
   "source": [
    "X = pivoted_df[top_100.index]\n",
    "\n",
    "pca = PCA(n_components=2)\n",
    "components = pca.fit_transform(X)\n",
    "\n",
    "fig = px.scatter(components, x=0, y=1, color=pivoted_df['species'])\n",
    "fig.update_layout(\n",
    "    title = \"Plant Microbes by Species PCA\",\n",
    "    xaxis_title=\"PC1 \" + str(round(100*pca.explained_variance_ratio_[0], 1)) + '%',\n",
    "    yaxis_title=\"PC2 \" + str(round(100*pca.explained_variance_ratio_[1], 1)) + '%')\n",
    "fig.show()"
   ]
  },
  {
   "cell_type": "code",
   "execution_count": 404,
   "id": "d18b8b98",
   "metadata": {},
   "outputs": [
    {
     "data": {
      "application/vnd.plotly.v1+json": {
       "config": {
        "plotlyServerURL": "https://plot.ly"
       },
       "data": [
        {
         "hovertemplate": "0=%{x}<br>1=%{y}<br>color=%{marker.color}<extra></extra>",
         "legendgroup": "",
         "marker": {
          "color": [
           0.999777121,
           0.999999983,
           0.989130596,
           0.99999205,
           0.998547653,
           0.999243483,
           1,
           0.999999996,
           0.999935194,
           0.994411087,
           0.999994372,
           0.99897665,
           0.982635596,
           1,
           0.998350817,
           1,
           0.999846434,
           0.388694493,
           0.999999966,
           0.999998074,
           0.7852478009999999,
           0.99999504,
           0.99986691,
           0.996053809,
           0.93800131,
           0.995266379,
           0.95193434,
           0.656546865,
           0.963354074,
           0.6929732259999999,
           0.949617207,
           0.331716367,
           0.150532867,
           0.254647149,
           0.110557472,
           0.415349998,
           0.249776299,
           0.198886866,
           0.221165635,
           1.46e-06,
           0.060469465,
           0.250345752,
           0.27031741800000003,
           0.242603207,
           0.5342088110000001,
           0.99998903,
           0.999997212,
           0.993939326,
           0.993886933,
           0.999996209,
           0.976830919,
           0.931411864,
           0.970629199,
           0.921160983,
           0.999999685,
           0.999080836,
           0.99613745,
           0.982562258,
           0.945970293,
           0.977759091,
           0.947113913,
           0.96071195,
           0.977027431,
           0.9416044,
           0.999997617,
           0.986708141,
           0.964799716,
           0.99997927,
           0.998593042,
           0.999987456,
           0.992059724,
           0.9093784,
           0.988045417,
           0.961333795,
           0.999996167,
           0.985847727,
           0.999880149,
           0.99612139,
           0.966110769,
           0.950022725,
           0.928784175,
           0.999998278,
           0.921600652,
           0.999937501,
           0.920482076,
           0.983129509,
           0.999999914,
           0.904952487,
           0.999999928,
           0.999047821,
           0.08724231,
           0.7881207709999999,
           0.099424202,
           0.24624796,
           0.190611213,
           0.24507513,
           0.110320222,
           0.141064807,
           0.377154042,
           0.313959884,
           0.9001262459999999,
           0.959044822,
           0.993314449,
           0.933384203,
           0.655692078,
           0.926441789,
           0.984147743,
           0.932884191,
           0.895977067,
           0.999987321,
           0.989302792,
           0.999927077,
           0.999282893,
           1,
           0.999999941,
           0.999508419,
           0.999971273,
           0.99999935,
           0.246756057,
           0.407226935,
           0.415827155,
           0.378610566,
           0.14313463,
           0.376871167,
           0.408486828,
           0.243565632,
           0.32191292,
           0.291587812,
           0.112471831,
           0.211598351,
           0.208825287,
           0.221953818,
           0.279633368,
           0.427512638,
           0.346038525,
           0.224518484,
           0.418634317,
           0.473557148,
           0.999994941,
           0.869887693,
           0.999812032,
           0.999837812,
           0.999521809,
           0.880211753,
           0.960833927,
           0.31804617,
           1,
           0.998071671,
           0.999999515,
           0.44815706,
           0.41252699,
           0.307914727,
           0.48294375,
           0.999503515
          ],
          "coloraxis": "coloraxis",
          "symbol": "circle"
         },
         "mode": "markers",
         "name": "",
         "orientation": "v",
         "showlegend": false,
         "type": "scatter",
         "x": [
          -4.517759582173825,
          -3.042038131354049,
          -1.5761324927461786,
          -0.45905329533794953,
          -4.082389816161959,
          -4.655894297449549,
          -2.629088182655011,
          -1.5842652835644577,
          -0.7328217017161245,
          -4.03857370321575,
          -1.3038122814806343,
          -3.900641468565085,
          -1.9876626698667492,
          -5.439414487952932,
          -1.8671964969612886,
          -3.620550353710616,
          -0.4675832945561788,
          1.1863055446389001,
          -0.8617419063342335,
          -4.242531059640851,
          0.6618163179265052,
          -5.111677618250036,
          -3.379558869565096,
          -0.3181803532329125,
          -1.0494948558939419,
          -3.5027561589421166,
          -2.9733909281725834,
          -0.477079529654459,
          0.7087435270069626,
          0.07647655487400928,
          -5.401520357557958,
          4.106415681382628,
          -5.052193144527851,
          -2.387770775535279,
          1.655063574119034,
          -3.2718011656082857,
          -4.995872325712655,
          -0.7521263171601441,
          3.6645996143265913,
          0.665871234620401,
          5.839498254019235,
          -0.9641376603685016,
          5.046077473492232,
          -1.23931872596774,
          -2.6165074355285594,
          -2.046836346050508,
          -0.6894903496094003,
          -3.7220567029987546,
          -2.0102212672624993,
          -1.9328443313168882,
          -1.4956451452631494,
          1.6359076949766593,
          -1.1558046067579637,
          -1.2962192043999403,
          -0.5550948270904311,
          -4.413712633684765,
          1.6896845075369848,
          2.0654707410289346,
          2.3922737911614087,
          -1.7518626254991132,
          -3.5218494847320767,
          3.5516871213857164,
          -0.866975598837399,
          -1.7761478139352989,
          -0.3761978107718356,
          1.0438178560890474,
          -2.898498675783526,
          -5.4328988405588845,
          -3.2352513351266756,
          3.5791667064717205,
          -1.6931155584272672,
          -2.138069110094572,
          2.1847497981142356,
          4.280302788951614,
          -2.753284696934191,
          1.9124130583457852,
          2.454433346935697,
          -2.20011294436611,
          -1.6906937826806483,
          3.4234170352981756,
          -3.043868556209133,
          2.1502431141595015,
          1.0849987144653142,
          0.12474985646668355,
          -2.5680472807631642,
          -1.298628336628746,
          1.4800974097012547,
          -2.48325068805299,
          -0.09103162821548595,
          -2.105842600659894,
          -3.7136686058176664,
          -1.7303131661286542,
          -3.4596702171998035,
          -5.083532876334057,
          -3.7646167702802615,
          -3.383098985290886,
          -0.7222119078422389,
          0.07240775194624348,
          0.9589741251958724,
          -1.5235394086024576,
          0.28842804437310604,
          -3.1127194485031344,
          -1.8199014984759978,
          0.7390212962758788,
          10.223314088085079,
          4.793281046417802,
          0.6001973838421615,
          -2.5827756947461387,
          -2.631186176703134,
          -3.105179265329405,
          4.403690565899356,
          2.849565978659356,
          8.277324844314178,
          -0.2211572715400413,
          2.1284251618327628,
          -3.1633716427478933,
          -4.561726527650641,
          -6.887645404965173,
          6.649906746081411,
          0.5693272016685329,
          7.351698678924863,
          3.128684063540493,
          2.0044762916355534,
          0.05834567780788459,
          8.066044187925039,
          2.0028609436616893,
          -0.9800673693658815,
          6.698677100730357,
          6.495797541524864,
          2.895719694249268,
          0.7307716369397931,
          2.991756762133254,
          5.887472020197952,
          1.5372564295322317,
          6.100762375668478,
          12.31823389304035,
          11.789954959254528,
          4.482249911776036,
          3.1778305397537623,
          -2.2769598852703115,
          3.157035329832978,
          -1.3526990339083378,
          -5.703318741484189,
          -2.3790773899987148,
          2.1534640292357623,
          2.497187674003176,
          -2.746993957280742,
          -3.3530253460953108,
          -3.3705109247267373,
          13.03978971789954,
          7.278447048863597,
          8.746863581449084,
          2.947463989545568,
          0.6180673949076191
         ],
         "xaxis": "x",
         "y": [
          3.5872308426308974,
          2.7929077222637333,
          -0.5289969125031722,
          0.8460580883791203,
          7.807170524595534,
          2.813889015155889,
          4.134324294028603,
          1.8345807031368944,
          5.752049173899644,
          6.074523749605681,
          1.4601410781001465,
          -2.1684469840437717,
          0.8237790654643865,
          2.234407939224058,
          1.5492777969035347,
          -0.5030143987233008,
          0.8125996131401565,
          2.0520123115961484,
          1.9117793812441204,
          8.223876171515537,
          -7.224965178962731,
          -4.0227119737030925,
          -2.9855800768566683,
          -3.4533918770908048,
          -0.15122353321763046,
          -1.5724567261674798,
          -2.525261740414177,
          -5.000386415730843,
          -5.294277805481305,
          -2.1938854087995927,
          -4.252621801944133,
          1.158331064652116,
          2.159630591666937,
          1.6033483072208181,
          0.94968469566698,
          2.7789859901139295,
          4.092423863144367,
          2.8046958310010344,
          -0.9039725998295876,
          2.7410701639994555,
          3.060696293828664,
          0.8147789616864978,
          3.7110436034468286,
          2.685389404227115,
          2.6717463189663446,
          -4.315025978771482,
          0.4160442754523884,
          3.3362330212405804,
          2.9846916155064145,
          5.4820938965510315,
          2.7781064085610323,
          -7.617857281573117,
          -3.7339521109945997,
          0.8674583872153565,
          -5.715863034358585,
          0.22562612435443416,
          1.7187173477150748,
          2.7728620801045505,
          -6.315527645601286,
          5.710492287462265,
          3.9682711124594947,
          0.7054283866074351,
          1.1454438241372153,
          1.1433133693736928,
          2.0380429095475736,
          -5.094593964720774,
          6.129141392250882,
          -3.7538650017063966,
          -2.6236686078563713,
          -7.43473472869192,
          -6.778769431759196,
          -3.387675734076676,
          -6.926819375364873,
          0.658202901250727,
          -5.21761080516423,
          -4.143107742476047,
          -4.019257922123694,
          1.0402912186034172,
          1.6520645023302891,
          -0.3719765055609631,
          -3.704271141173448,
          -3.3772915856147514,
          -4.703923569230466,
          -2.8454413385998185,
          -4.100577125378246,
          -6.264151664363789,
          -7.661507306929733,
          -3.8390098703552837,
          -1.9957113272295315,
          -0.11579114054774926,
          4.106037251142333,
          -0.5772167470373031,
          5.289374556268168,
          7.247306313763116,
          4.035524582175462,
          4.602636580154843,
          5.053913269618393,
          6.036471676140133,
          3.7748710422628218,
          4.383801264903781,
          -3.9041495476107224,
          0.567957472752192,
          -3.066716382200301,
          1.0341776938284446,
          3.319508555396403,
          -5.915757195341359,
          0.1894878296136233,
          -4.552189967421197,
          3.5775231717445046,
          1.5850259694966056,
          2.7337658633772333,
          -4.585669195067993,
          -3.3903055200542243,
          -1.3157868451805557,
          -0.23224127612938913,
          -5.210661863397673,
          -5.7100427038937065,
          -4.097438904774444,
          2.38102659009802,
          0.48476314765041206,
          1.8141551477703761,
          1.7255524289569115,
          1.5690757142262965,
          1.2594934637085924,
          0.9612996399353229,
          -0.03211564549271618,
          -0.3955111599367103,
          0.8349062851727342,
          2.1175981945994833,
          1.8638388665833208,
          2.7879261880392137,
          1.8358443564029123,
          1.3146770263856253,
          -1.090027213874759,
          1.1390248506858573,
          1.8784734337042228,
          3.640154334679351,
          3.6972126351021912,
          -6.711895080975921,
          -2.799568308519715,
          0.15669499852898733,
          -3.754942289748439,
          -4.518130484086319,
          4.872565524523522,
          -0.5994877519104754,
          0.6261803161320065,
          -6.438424209394142,
          1.6604161510792732,
          -0.24958895924845367,
          0.695561267045896,
          2.2628321970097764,
          2.7545230199203177,
          0.1466985280094891,
          -4.745792394829365
         ],
         "yaxis": "y"
        }
       ],
       "layout": {
        "coloraxis": {
         "colorbar": {
          "title": {
           "text": "color"
          }
         },
         "colorscale": [
          [
           0,
           "#0d0887"
          ],
          [
           0.1111111111111111,
           "#46039f"
          ],
          [
           0.2222222222222222,
           "#7201a8"
          ],
          [
           0.3333333333333333,
           "#9c179e"
          ],
          [
           0.4444444444444444,
           "#bd3786"
          ],
          [
           0.5555555555555556,
           "#d8576b"
          ],
          [
           0.6666666666666666,
           "#ed7953"
          ],
          [
           0.7777777777777778,
           "#fb9f3a"
          ],
          [
           0.8888888888888888,
           "#fdca26"
          ],
          [
           1,
           "#f0f921"
          ]
         ]
        },
        "legend": {
         "tracegroupgap": 0
        },
        "margin": {
         "t": 60
        },
        "template": {
         "data": {
          "bar": [
           {
            "error_x": {
             "color": "#2a3f5f"
            },
            "error_y": {
             "color": "#2a3f5f"
            },
            "marker": {
             "line": {
              "color": "#E5ECF6",
              "width": 0.5
             },
             "pattern": {
              "fillmode": "overlay",
              "size": 10,
              "solidity": 0.2
             }
            },
            "type": "bar"
           }
          ],
          "barpolar": [
           {
            "marker": {
             "line": {
              "color": "#E5ECF6",
              "width": 0.5
             },
             "pattern": {
              "fillmode": "overlay",
              "size": 10,
              "solidity": 0.2
             }
            },
            "type": "barpolar"
           }
          ],
          "carpet": [
           {
            "aaxis": {
             "endlinecolor": "#2a3f5f",
             "gridcolor": "white",
             "linecolor": "white",
             "minorgridcolor": "white",
             "startlinecolor": "#2a3f5f"
            },
            "baxis": {
             "endlinecolor": "#2a3f5f",
             "gridcolor": "white",
             "linecolor": "white",
             "minorgridcolor": "white",
             "startlinecolor": "#2a3f5f"
            },
            "type": "carpet"
           }
          ],
          "choropleth": [
           {
            "colorbar": {
             "outlinewidth": 0,
             "ticks": ""
            },
            "type": "choropleth"
           }
          ],
          "contour": [
           {
            "colorbar": {
             "outlinewidth": 0,
             "ticks": ""
            },
            "colorscale": [
             [
              0,
              "#0d0887"
             ],
             [
              0.1111111111111111,
              "#46039f"
             ],
             [
              0.2222222222222222,
              "#7201a8"
             ],
             [
              0.3333333333333333,
              "#9c179e"
             ],
             [
              0.4444444444444444,
              "#bd3786"
             ],
             [
              0.5555555555555556,
              "#d8576b"
             ],
             [
              0.6666666666666666,
              "#ed7953"
             ],
             [
              0.7777777777777778,
              "#fb9f3a"
             ],
             [
              0.8888888888888888,
              "#fdca26"
             ],
             [
              1,
              "#f0f921"
             ]
            ],
            "type": "contour"
           }
          ],
          "contourcarpet": [
           {
            "colorbar": {
             "outlinewidth": 0,
             "ticks": ""
            },
            "type": "contourcarpet"
           }
          ],
          "heatmap": [
           {
            "colorbar": {
             "outlinewidth": 0,
             "ticks": ""
            },
            "colorscale": [
             [
              0,
              "#0d0887"
             ],
             [
              0.1111111111111111,
              "#46039f"
             ],
             [
              0.2222222222222222,
              "#7201a8"
             ],
             [
              0.3333333333333333,
              "#9c179e"
             ],
             [
              0.4444444444444444,
              "#bd3786"
             ],
             [
              0.5555555555555556,
              "#d8576b"
             ],
             [
              0.6666666666666666,
              "#ed7953"
             ],
             [
              0.7777777777777778,
              "#fb9f3a"
             ],
             [
              0.8888888888888888,
              "#fdca26"
             ],
             [
              1,
              "#f0f921"
             ]
            ],
            "type": "heatmap"
           }
          ],
          "heatmapgl": [
           {
            "colorbar": {
             "outlinewidth": 0,
             "ticks": ""
            },
            "colorscale": [
             [
              0,
              "#0d0887"
             ],
             [
              0.1111111111111111,
              "#46039f"
             ],
             [
              0.2222222222222222,
              "#7201a8"
             ],
             [
              0.3333333333333333,
              "#9c179e"
             ],
             [
              0.4444444444444444,
              "#bd3786"
             ],
             [
              0.5555555555555556,
              "#d8576b"
             ],
             [
              0.6666666666666666,
              "#ed7953"
             ],
             [
              0.7777777777777778,
              "#fb9f3a"
             ],
             [
              0.8888888888888888,
              "#fdca26"
             ],
             [
              1,
              "#f0f921"
             ]
            ],
            "type": "heatmapgl"
           }
          ],
          "histogram": [
           {
            "marker": {
             "pattern": {
              "fillmode": "overlay",
              "size": 10,
              "solidity": 0.2
             }
            },
            "type": "histogram"
           }
          ],
          "histogram2d": [
           {
            "colorbar": {
             "outlinewidth": 0,
             "ticks": ""
            },
            "colorscale": [
             [
              0,
              "#0d0887"
             ],
             [
              0.1111111111111111,
              "#46039f"
             ],
             [
              0.2222222222222222,
              "#7201a8"
             ],
             [
              0.3333333333333333,
              "#9c179e"
             ],
             [
              0.4444444444444444,
              "#bd3786"
             ],
             [
              0.5555555555555556,
              "#d8576b"
             ],
             [
              0.6666666666666666,
              "#ed7953"
             ],
             [
              0.7777777777777778,
              "#fb9f3a"
             ],
             [
              0.8888888888888888,
              "#fdca26"
             ],
             [
              1,
              "#f0f921"
             ]
            ],
            "type": "histogram2d"
           }
          ],
          "histogram2dcontour": [
           {
            "colorbar": {
             "outlinewidth": 0,
             "ticks": ""
            },
            "colorscale": [
             [
              0,
              "#0d0887"
             ],
             [
              0.1111111111111111,
              "#46039f"
             ],
             [
              0.2222222222222222,
              "#7201a8"
             ],
             [
              0.3333333333333333,
              "#9c179e"
             ],
             [
              0.4444444444444444,
              "#bd3786"
             ],
             [
              0.5555555555555556,
              "#d8576b"
             ],
             [
              0.6666666666666666,
              "#ed7953"
             ],
             [
              0.7777777777777778,
              "#fb9f3a"
             ],
             [
              0.8888888888888888,
              "#fdca26"
             ],
             [
              1,
              "#f0f921"
             ]
            ],
            "type": "histogram2dcontour"
           }
          ],
          "mesh3d": [
           {
            "colorbar": {
             "outlinewidth": 0,
             "ticks": ""
            },
            "type": "mesh3d"
           }
          ],
          "parcoords": [
           {
            "line": {
             "colorbar": {
              "outlinewidth": 0,
              "ticks": ""
             }
            },
            "type": "parcoords"
           }
          ],
          "pie": [
           {
            "automargin": true,
            "type": "pie"
           }
          ],
          "scatter": [
           {
            "fillpattern": {
             "fillmode": "overlay",
             "size": 10,
             "solidity": 0.2
            },
            "type": "scatter"
           }
          ],
          "scatter3d": [
           {
            "line": {
             "colorbar": {
              "outlinewidth": 0,
              "ticks": ""
             }
            },
            "marker": {
             "colorbar": {
              "outlinewidth": 0,
              "ticks": ""
             }
            },
            "type": "scatter3d"
           }
          ],
          "scattercarpet": [
           {
            "marker": {
             "colorbar": {
              "outlinewidth": 0,
              "ticks": ""
             }
            },
            "type": "scattercarpet"
           }
          ],
          "scattergeo": [
           {
            "marker": {
             "colorbar": {
              "outlinewidth": 0,
              "ticks": ""
             }
            },
            "type": "scattergeo"
           }
          ],
          "scattergl": [
           {
            "marker": {
             "colorbar": {
              "outlinewidth": 0,
              "ticks": ""
             }
            },
            "type": "scattergl"
           }
          ],
          "scattermapbox": [
           {
            "marker": {
             "colorbar": {
              "outlinewidth": 0,
              "ticks": ""
             }
            },
            "type": "scattermapbox"
           }
          ],
          "scatterpolar": [
           {
            "marker": {
             "colorbar": {
              "outlinewidth": 0,
              "ticks": ""
             }
            },
            "type": "scatterpolar"
           }
          ],
          "scatterpolargl": [
           {
            "marker": {
             "colorbar": {
              "outlinewidth": 0,
              "ticks": ""
             }
            },
            "type": "scatterpolargl"
           }
          ],
          "scatterternary": [
           {
            "marker": {
             "colorbar": {
              "outlinewidth": 0,
              "ticks": ""
             }
            },
            "type": "scatterternary"
           }
          ],
          "surface": [
           {
            "colorbar": {
             "outlinewidth": 0,
             "ticks": ""
            },
            "colorscale": [
             [
              0,
              "#0d0887"
             ],
             [
              0.1111111111111111,
              "#46039f"
             ],
             [
              0.2222222222222222,
              "#7201a8"
             ],
             [
              0.3333333333333333,
              "#9c179e"
             ],
             [
              0.4444444444444444,
              "#bd3786"
             ],
             [
              0.5555555555555556,
              "#d8576b"
             ],
             [
              0.6666666666666666,
              "#ed7953"
             ],
             [
              0.7777777777777778,
              "#fb9f3a"
             ],
             [
              0.8888888888888888,
              "#fdca26"
             ],
             [
              1,
              "#f0f921"
             ]
            ],
            "type": "surface"
           }
          ],
          "table": [
           {
            "cells": {
             "fill": {
              "color": "#EBF0F8"
             },
             "line": {
              "color": "white"
             }
            },
            "header": {
             "fill": {
              "color": "#C8D4E3"
             },
             "line": {
              "color": "white"
             }
            },
            "type": "table"
           }
          ]
         },
         "layout": {
          "annotationdefaults": {
           "arrowcolor": "#2a3f5f",
           "arrowhead": 0,
           "arrowwidth": 1
          },
          "autotypenumbers": "strict",
          "coloraxis": {
           "colorbar": {
            "outlinewidth": 0,
            "ticks": ""
           }
          },
          "colorscale": {
           "diverging": [
            [
             0,
             "#8e0152"
            ],
            [
             0.1,
             "#c51b7d"
            ],
            [
             0.2,
             "#de77ae"
            ],
            [
             0.3,
             "#f1b6da"
            ],
            [
             0.4,
             "#fde0ef"
            ],
            [
             0.5,
             "#f7f7f7"
            ],
            [
             0.6,
             "#e6f5d0"
            ],
            [
             0.7,
             "#b8e186"
            ],
            [
             0.8,
             "#7fbc41"
            ],
            [
             0.9,
             "#4d9221"
            ],
            [
             1,
             "#276419"
            ]
           ],
           "sequential": [
            [
             0,
             "#0d0887"
            ],
            [
             0.1111111111111111,
             "#46039f"
            ],
            [
             0.2222222222222222,
             "#7201a8"
            ],
            [
             0.3333333333333333,
             "#9c179e"
            ],
            [
             0.4444444444444444,
             "#bd3786"
            ],
            [
             0.5555555555555556,
             "#d8576b"
            ],
            [
             0.6666666666666666,
             "#ed7953"
            ],
            [
             0.7777777777777778,
             "#fb9f3a"
            ],
            [
             0.8888888888888888,
             "#fdca26"
            ],
            [
             1,
             "#f0f921"
            ]
           ],
           "sequentialminus": [
            [
             0,
             "#0d0887"
            ],
            [
             0.1111111111111111,
             "#46039f"
            ],
            [
             0.2222222222222222,
             "#7201a8"
            ],
            [
             0.3333333333333333,
             "#9c179e"
            ],
            [
             0.4444444444444444,
             "#bd3786"
            ],
            [
             0.5555555555555556,
             "#d8576b"
            ],
            [
             0.6666666666666666,
             "#ed7953"
            ],
            [
             0.7777777777777778,
             "#fb9f3a"
            ],
            [
             0.8888888888888888,
             "#fdca26"
            ],
            [
             1,
             "#f0f921"
            ]
           ]
          },
          "colorway": [
           "#636efa",
           "#EF553B",
           "#00cc96",
           "#ab63fa",
           "#FFA15A",
           "#19d3f3",
           "#FF6692",
           "#B6E880",
           "#FF97FF",
           "#FECB52"
          ],
          "font": {
           "color": "#2a3f5f"
          },
          "geo": {
           "bgcolor": "white",
           "lakecolor": "white",
           "landcolor": "#E5ECF6",
           "showlakes": true,
           "showland": true,
           "subunitcolor": "white"
          },
          "hoverlabel": {
           "align": "left"
          },
          "hovermode": "closest",
          "mapbox": {
           "style": "light"
          },
          "paper_bgcolor": "white",
          "plot_bgcolor": "#E5ECF6",
          "polar": {
           "angularaxis": {
            "gridcolor": "white",
            "linecolor": "white",
            "ticks": ""
           },
           "bgcolor": "#E5ECF6",
           "radialaxis": {
            "gridcolor": "white",
            "linecolor": "white",
            "ticks": ""
           }
          },
          "scene": {
           "xaxis": {
            "backgroundcolor": "#E5ECF6",
            "gridcolor": "white",
            "gridwidth": 2,
            "linecolor": "white",
            "showbackground": true,
            "ticks": "",
            "zerolinecolor": "white"
           },
           "yaxis": {
            "backgroundcolor": "#E5ECF6",
            "gridcolor": "white",
            "gridwidth": 2,
            "linecolor": "white",
            "showbackground": true,
            "ticks": "",
            "zerolinecolor": "white"
           },
           "zaxis": {
            "backgroundcolor": "#E5ECF6",
            "gridcolor": "white",
            "gridwidth": 2,
            "linecolor": "white",
            "showbackground": true,
            "ticks": "",
            "zerolinecolor": "white"
           }
          },
          "shapedefaults": {
           "line": {
            "color": "#2a3f5f"
           }
          },
          "ternary": {
           "aaxis": {
            "gridcolor": "white",
            "linecolor": "white",
            "ticks": ""
           },
           "baxis": {
            "gridcolor": "white",
            "linecolor": "white",
            "ticks": ""
           },
           "bgcolor": "#E5ECF6",
           "caxis": {
            "gridcolor": "white",
            "linecolor": "white",
            "ticks": ""
           }
          },
          "title": {
           "x": 0.05
          },
          "xaxis": {
           "automargin": true,
           "gridcolor": "white",
           "linecolor": "white",
           "ticks": "",
           "title": {
            "standoff": 15
           },
           "zerolinecolor": "white",
           "zerolinewidth": 2
          },
          "yaxis": {
           "automargin": true,
           "gridcolor": "white",
           "linecolor": "white",
           "ticks": "",
           "title": {
            "standoff": 15
           },
           "zerolinecolor": "white",
           "zerolinewidth": 2
          }
         }
        },
        "title": {
         "text": "Plant Nutrients by Site Not Including Nitrogen PCA"
        },
        "xaxis": {
         "anchor": "y",
         "domain": [
          0,
          1
         ],
         "title": {
          "text": "PC1 14.4%"
         }
        },
        "yaxis": {
         "anchor": "x",
         "domain": [
          0,
          1
         ],
         "title": {
          "text": "PC2 13.2%"
         }
        }
       }
      },
      "text/html": [
       "<div>                            <div id=\"568eafcb-e297-435e-b8fa-ea3ade4433f2\" class=\"plotly-graph-div\" style=\"height:525px; width:100%;\"></div>            <script type=\"text/javascript\">                require([\"plotly\"], function(Plotly) {                    window.PLOTLYENV=window.PLOTLYENV || {};                                    if (document.getElementById(\"568eafcb-e297-435e-b8fa-ea3ade4433f2\")) {                    Plotly.newPlot(                        \"568eafcb-e297-435e-b8fa-ea3ade4433f2\",                        [{\"hovertemplate\":\"0=%{x}<br>1=%{y}<br>color=%{marker.color}<extra></extra>\",\"legendgroup\":\"\",\"marker\":{\"color\":[0.999777121,0.999999983,0.989130596,0.99999205,0.998547653,0.999243483,1.0,0.999999996,0.999935194,0.994411087,0.999994372,0.99897665,0.982635596,1.0,0.998350817,1.0,0.999846434,0.388694493,0.999999966,0.999998074,0.7852478009999999,0.99999504,0.99986691,0.996053809,0.93800131,0.995266379,0.95193434,0.656546865,0.963354074,0.6929732259999999,0.949617207,0.331716367,0.150532867,0.254647149,0.110557472,0.415349998,0.249776299,0.198886866,0.221165635,1.46e-06,0.060469465,0.250345752,0.27031741800000003,0.242603207,0.5342088110000001,0.99998903,0.999997212,0.993939326,0.993886933,0.999996209,0.976830919,0.931411864,0.970629199,0.921160983,0.999999685,0.999080836,0.99613745,0.982562258,0.945970293,0.977759091,0.947113913,0.96071195,0.977027431,0.9416044,0.999997617,0.986708141,0.964799716,0.99997927,0.998593042,0.999987456,0.992059724,0.9093784,0.988045417,0.961333795,0.999996167,0.985847727,0.999880149,0.99612139,0.966110769,0.950022725,0.928784175,0.999998278,0.921600652,0.999937501,0.920482076,0.983129509,0.999999914,0.904952487,0.999999928,0.999047821,0.08724231,0.7881207709999999,0.099424202,0.24624796,0.190611213,0.24507513,0.110320222,0.141064807,0.377154042,0.313959884,0.9001262459999999,0.959044822,0.993314449,0.933384203,0.655692078,0.926441789,0.984147743,0.932884191,0.895977067,0.999987321,0.989302792,0.999927077,0.999282893,1.0,0.999999941,0.999508419,0.999971273,0.99999935,0.246756057,0.407226935,0.415827155,0.378610566,0.14313463,0.376871167,0.408486828,0.243565632,0.32191292,0.291587812,0.112471831,0.211598351,0.208825287,0.221953818,0.279633368,0.427512638,0.346038525,0.224518484,0.418634317,0.473557148,0.999994941,0.869887693,0.999812032,0.999837812,0.999521809,0.880211753,0.960833927,0.31804617,1.0,0.998071671,0.999999515,0.44815706,0.41252699,0.307914727,0.48294375,0.999503515],\"coloraxis\":\"coloraxis\",\"symbol\":\"circle\"},\"mode\":\"markers\",\"name\":\"\",\"orientation\":\"v\",\"showlegend\":false,\"x\":[-4.517759582173825,-3.042038131354049,-1.5761324927461786,-0.45905329533794953,-4.082389816161959,-4.655894297449549,-2.629088182655011,-1.5842652835644577,-0.7328217017161245,-4.03857370321575,-1.3038122814806343,-3.900641468565085,-1.9876626698667492,-5.439414487952932,-1.8671964969612886,-3.620550353710616,-0.4675832945561788,1.1863055446389001,-0.8617419063342335,-4.242531059640851,0.6618163179265052,-5.111677618250036,-3.379558869565096,-0.3181803532329125,-1.0494948558939419,-3.5027561589421166,-2.9733909281725834,-0.477079529654459,0.7087435270069626,0.07647655487400928,-5.401520357557958,4.106415681382628,-5.052193144527851,-2.387770775535279,1.655063574119034,-3.2718011656082857,-4.995872325712655,-0.7521263171601441,3.6645996143265913,0.665871234620401,5.839498254019235,-0.9641376603685016,5.046077473492232,-1.23931872596774,-2.6165074355285594,-2.046836346050508,-0.6894903496094003,-3.7220567029987546,-2.0102212672624993,-1.9328443313168882,-1.4956451452631494,1.6359076949766593,-1.1558046067579637,-1.2962192043999403,-0.5550948270904311,-4.413712633684765,1.6896845075369848,2.0654707410289346,2.3922737911614087,-1.7518626254991132,-3.5218494847320767,3.5516871213857164,-0.866975598837399,-1.7761478139352989,-0.3761978107718356,1.0438178560890474,-2.898498675783526,-5.4328988405588845,-3.2352513351266756,3.5791667064717205,-1.6931155584272672,-2.138069110094572,2.1847497981142356,4.280302788951614,-2.753284696934191,1.9124130583457852,2.454433346935697,-2.20011294436611,-1.6906937826806483,3.4234170352981756,-3.043868556209133,2.1502431141595015,1.0849987144653142,0.12474985646668355,-2.5680472807631642,-1.298628336628746,1.4800974097012547,-2.48325068805299,-0.09103162821548595,-2.105842600659894,-3.7136686058176664,-1.7303131661286542,-3.4596702171998035,-5.083532876334057,-3.7646167702802615,-3.383098985290886,-0.7222119078422389,0.07240775194624348,0.9589741251958724,-1.5235394086024576,0.28842804437310604,-3.1127194485031344,-1.8199014984759978,0.7390212962758788,10.223314088085079,4.793281046417802,0.6001973838421615,-2.5827756947461387,-2.631186176703134,-3.105179265329405,4.403690565899356,2.849565978659356,8.277324844314178,-0.2211572715400413,2.1284251618327628,-3.1633716427478933,-4.561726527650641,-6.887645404965173,6.649906746081411,0.5693272016685329,7.351698678924863,3.128684063540493,2.0044762916355534,0.05834567780788459,8.066044187925039,2.0028609436616893,-0.9800673693658815,6.698677100730357,6.495797541524864,2.895719694249268,0.7307716369397931,2.991756762133254,5.887472020197952,1.5372564295322317,6.100762375668478,12.31823389304035,11.789954959254528,4.482249911776036,3.1778305397537623,-2.2769598852703115,3.157035329832978,-1.3526990339083378,-5.703318741484189,-2.3790773899987148,2.1534640292357623,2.497187674003176,-2.746993957280742,-3.3530253460953108,-3.3705109247267373,13.03978971789954,7.278447048863597,8.746863581449084,2.947463989545568,0.6180673949076191],\"xaxis\":\"x\",\"y\":[3.5872308426308974,2.7929077222637333,-0.5289969125031722,0.8460580883791203,7.807170524595534,2.813889015155889,4.134324294028603,1.8345807031368944,5.752049173899644,6.074523749605681,1.4601410781001465,-2.1684469840437717,0.8237790654643865,2.234407939224058,1.5492777969035347,-0.5030143987233008,0.8125996131401565,2.0520123115961484,1.9117793812441204,8.223876171515537,-7.224965178962731,-4.0227119737030925,-2.9855800768566683,-3.4533918770908048,-0.15122353321763046,-1.5724567261674798,-2.525261740414177,-5.000386415730843,-5.294277805481305,-2.1938854087995927,-4.252621801944133,1.158331064652116,2.159630591666937,1.6033483072208181,0.94968469566698,2.7789859901139295,4.092423863144367,2.8046958310010344,-0.9039725998295876,2.7410701639994555,3.060696293828664,0.8147789616864978,3.7110436034468286,2.685389404227115,2.6717463189663446,-4.315025978771482,0.4160442754523884,3.3362330212405804,2.9846916155064145,5.4820938965510315,2.7781064085610323,-7.617857281573117,-3.7339521109945997,0.8674583872153565,-5.715863034358585,0.22562612435443416,1.7187173477150748,2.7728620801045505,-6.315527645601286,5.710492287462265,3.9682711124594947,0.7054283866074351,1.1454438241372153,1.1433133693736928,2.0380429095475736,-5.094593964720774,6.129141392250882,-3.7538650017063966,-2.6236686078563713,-7.43473472869192,-6.778769431759196,-3.387675734076676,-6.926819375364873,0.658202901250727,-5.21761080516423,-4.143107742476047,-4.019257922123694,1.0402912186034172,1.6520645023302891,-0.3719765055609631,-3.704271141173448,-3.3772915856147514,-4.703923569230466,-2.8454413385998185,-4.100577125378246,-6.264151664363789,-7.661507306929733,-3.8390098703552837,-1.9957113272295315,-0.11579114054774926,4.106037251142333,-0.5772167470373031,5.289374556268168,7.247306313763116,4.035524582175462,4.602636580154843,5.053913269618393,6.036471676140133,3.7748710422628218,4.383801264903781,-3.9041495476107224,0.567957472752192,-3.066716382200301,1.0341776938284446,3.319508555396403,-5.915757195341359,0.1894878296136233,-4.552189967421197,3.5775231717445046,1.5850259694966056,2.7337658633772333,-4.585669195067993,-3.3903055200542243,-1.3157868451805557,-0.23224127612938913,-5.210661863397673,-5.7100427038937065,-4.097438904774444,2.38102659009802,0.48476314765041206,1.8141551477703761,1.7255524289569115,1.5690757142262965,1.2594934637085924,0.9612996399353229,-0.03211564549271618,-0.3955111599367103,0.8349062851727342,2.1175981945994833,1.8638388665833208,2.7879261880392137,1.8358443564029123,1.3146770263856253,-1.090027213874759,1.1390248506858573,1.8784734337042228,3.640154334679351,3.6972126351021912,-6.711895080975921,-2.799568308519715,0.15669499852898733,-3.754942289748439,-4.518130484086319,4.872565524523522,-0.5994877519104754,0.6261803161320065,-6.438424209394142,1.6604161510792732,-0.24958895924845367,0.695561267045896,2.2628321970097764,2.7545230199203177,0.1466985280094891,-4.745792394829365],\"yaxis\":\"y\",\"type\":\"scatter\"}],                        {\"template\":{\"data\":{\"histogram2dcontour\":[{\"type\":\"histogram2dcontour\",\"colorbar\":{\"outlinewidth\":0,\"ticks\":\"\"},\"colorscale\":[[0.0,\"#0d0887\"],[0.1111111111111111,\"#46039f\"],[0.2222222222222222,\"#7201a8\"],[0.3333333333333333,\"#9c179e\"],[0.4444444444444444,\"#bd3786\"],[0.5555555555555556,\"#d8576b\"],[0.6666666666666666,\"#ed7953\"],[0.7777777777777778,\"#fb9f3a\"],[0.8888888888888888,\"#fdca26\"],[1.0,\"#f0f921\"]]}],\"choropleth\":[{\"type\":\"choropleth\",\"colorbar\":{\"outlinewidth\":0,\"ticks\":\"\"}}],\"histogram2d\":[{\"type\":\"histogram2d\",\"colorbar\":{\"outlinewidth\":0,\"ticks\":\"\"},\"colorscale\":[[0.0,\"#0d0887\"],[0.1111111111111111,\"#46039f\"],[0.2222222222222222,\"#7201a8\"],[0.3333333333333333,\"#9c179e\"],[0.4444444444444444,\"#bd3786\"],[0.5555555555555556,\"#d8576b\"],[0.6666666666666666,\"#ed7953\"],[0.7777777777777778,\"#fb9f3a\"],[0.8888888888888888,\"#fdca26\"],[1.0,\"#f0f921\"]]}],\"heatmap\":[{\"type\":\"heatmap\",\"colorbar\":{\"outlinewidth\":0,\"ticks\":\"\"},\"colorscale\":[[0.0,\"#0d0887\"],[0.1111111111111111,\"#46039f\"],[0.2222222222222222,\"#7201a8\"],[0.3333333333333333,\"#9c179e\"],[0.4444444444444444,\"#bd3786\"],[0.5555555555555556,\"#d8576b\"],[0.6666666666666666,\"#ed7953\"],[0.7777777777777778,\"#fb9f3a\"],[0.8888888888888888,\"#fdca26\"],[1.0,\"#f0f921\"]]}],\"heatmapgl\":[{\"type\":\"heatmapgl\",\"colorbar\":{\"outlinewidth\":0,\"ticks\":\"\"},\"colorscale\":[[0.0,\"#0d0887\"],[0.1111111111111111,\"#46039f\"],[0.2222222222222222,\"#7201a8\"],[0.3333333333333333,\"#9c179e\"],[0.4444444444444444,\"#bd3786\"],[0.5555555555555556,\"#d8576b\"],[0.6666666666666666,\"#ed7953\"],[0.7777777777777778,\"#fb9f3a\"],[0.8888888888888888,\"#fdca26\"],[1.0,\"#f0f921\"]]}],\"contourcarpet\":[{\"type\":\"contourcarpet\",\"colorbar\":{\"outlinewidth\":0,\"ticks\":\"\"}}],\"contour\":[{\"type\":\"contour\",\"colorbar\":{\"outlinewidth\":0,\"ticks\":\"\"},\"colorscale\":[[0.0,\"#0d0887\"],[0.1111111111111111,\"#46039f\"],[0.2222222222222222,\"#7201a8\"],[0.3333333333333333,\"#9c179e\"],[0.4444444444444444,\"#bd3786\"],[0.5555555555555556,\"#d8576b\"],[0.6666666666666666,\"#ed7953\"],[0.7777777777777778,\"#fb9f3a\"],[0.8888888888888888,\"#fdca26\"],[1.0,\"#f0f921\"]]}],\"surface\":[{\"type\":\"surface\",\"colorbar\":{\"outlinewidth\":0,\"ticks\":\"\"},\"colorscale\":[[0.0,\"#0d0887\"],[0.1111111111111111,\"#46039f\"],[0.2222222222222222,\"#7201a8\"],[0.3333333333333333,\"#9c179e\"],[0.4444444444444444,\"#bd3786\"],[0.5555555555555556,\"#d8576b\"],[0.6666666666666666,\"#ed7953\"],[0.7777777777777778,\"#fb9f3a\"],[0.8888888888888888,\"#fdca26\"],[1.0,\"#f0f921\"]]}],\"mesh3d\":[{\"type\":\"mesh3d\",\"colorbar\":{\"outlinewidth\":0,\"ticks\":\"\"}}],\"scatter\":[{\"fillpattern\":{\"fillmode\":\"overlay\",\"size\":10,\"solidity\":0.2},\"type\":\"scatter\"}],\"parcoords\":[{\"type\":\"parcoords\",\"line\":{\"colorbar\":{\"outlinewidth\":0,\"ticks\":\"\"}}}],\"scatterpolargl\":[{\"type\":\"scatterpolargl\",\"marker\":{\"colorbar\":{\"outlinewidth\":0,\"ticks\":\"\"}}}],\"bar\":[{\"error_x\":{\"color\":\"#2a3f5f\"},\"error_y\":{\"color\":\"#2a3f5f\"},\"marker\":{\"line\":{\"color\":\"#E5ECF6\",\"width\":0.5},\"pattern\":{\"fillmode\":\"overlay\",\"size\":10,\"solidity\":0.2}},\"type\":\"bar\"}],\"scattergeo\":[{\"type\":\"scattergeo\",\"marker\":{\"colorbar\":{\"outlinewidth\":0,\"ticks\":\"\"}}}],\"scatterpolar\":[{\"type\":\"scatterpolar\",\"marker\":{\"colorbar\":{\"outlinewidth\":0,\"ticks\":\"\"}}}],\"histogram\":[{\"marker\":{\"pattern\":{\"fillmode\":\"overlay\",\"size\":10,\"solidity\":0.2}},\"type\":\"histogram\"}],\"scattergl\":[{\"type\":\"scattergl\",\"marker\":{\"colorbar\":{\"outlinewidth\":0,\"ticks\":\"\"}}}],\"scatter3d\":[{\"type\":\"scatter3d\",\"line\":{\"colorbar\":{\"outlinewidth\":0,\"ticks\":\"\"}},\"marker\":{\"colorbar\":{\"outlinewidth\":0,\"ticks\":\"\"}}}],\"scattermapbox\":[{\"type\":\"scattermapbox\",\"marker\":{\"colorbar\":{\"outlinewidth\":0,\"ticks\":\"\"}}}],\"scatterternary\":[{\"type\":\"scatterternary\",\"marker\":{\"colorbar\":{\"outlinewidth\":0,\"ticks\":\"\"}}}],\"scattercarpet\":[{\"type\":\"scattercarpet\",\"marker\":{\"colorbar\":{\"outlinewidth\":0,\"ticks\":\"\"}}}],\"carpet\":[{\"aaxis\":{\"endlinecolor\":\"#2a3f5f\",\"gridcolor\":\"white\",\"linecolor\":\"white\",\"minorgridcolor\":\"white\",\"startlinecolor\":\"#2a3f5f\"},\"baxis\":{\"endlinecolor\":\"#2a3f5f\",\"gridcolor\":\"white\",\"linecolor\":\"white\",\"minorgridcolor\":\"white\",\"startlinecolor\":\"#2a3f5f\"},\"type\":\"carpet\"}],\"table\":[{\"cells\":{\"fill\":{\"color\":\"#EBF0F8\"},\"line\":{\"color\":\"white\"}},\"header\":{\"fill\":{\"color\":\"#C8D4E3\"},\"line\":{\"color\":\"white\"}},\"type\":\"table\"}],\"barpolar\":[{\"marker\":{\"line\":{\"color\":\"#E5ECF6\",\"width\":0.5},\"pattern\":{\"fillmode\":\"overlay\",\"size\":10,\"solidity\":0.2}},\"type\":\"barpolar\"}],\"pie\":[{\"automargin\":true,\"type\":\"pie\"}]},\"layout\":{\"autotypenumbers\":\"strict\",\"colorway\":[\"#636efa\",\"#EF553B\",\"#00cc96\",\"#ab63fa\",\"#FFA15A\",\"#19d3f3\",\"#FF6692\",\"#B6E880\",\"#FF97FF\",\"#FECB52\"],\"font\":{\"color\":\"#2a3f5f\"},\"hovermode\":\"closest\",\"hoverlabel\":{\"align\":\"left\"},\"paper_bgcolor\":\"white\",\"plot_bgcolor\":\"#E5ECF6\",\"polar\":{\"bgcolor\":\"#E5ECF6\",\"angularaxis\":{\"gridcolor\":\"white\",\"linecolor\":\"white\",\"ticks\":\"\"},\"radialaxis\":{\"gridcolor\":\"white\",\"linecolor\":\"white\",\"ticks\":\"\"}},\"ternary\":{\"bgcolor\":\"#E5ECF6\",\"aaxis\":{\"gridcolor\":\"white\",\"linecolor\":\"white\",\"ticks\":\"\"},\"baxis\":{\"gridcolor\":\"white\",\"linecolor\":\"white\",\"ticks\":\"\"},\"caxis\":{\"gridcolor\":\"white\",\"linecolor\":\"white\",\"ticks\":\"\"}},\"coloraxis\":{\"colorbar\":{\"outlinewidth\":0,\"ticks\":\"\"}},\"colorscale\":{\"sequential\":[[0.0,\"#0d0887\"],[0.1111111111111111,\"#46039f\"],[0.2222222222222222,\"#7201a8\"],[0.3333333333333333,\"#9c179e\"],[0.4444444444444444,\"#bd3786\"],[0.5555555555555556,\"#d8576b\"],[0.6666666666666666,\"#ed7953\"],[0.7777777777777778,\"#fb9f3a\"],[0.8888888888888888,\"#fdca26\"],[1.0,\"#f0f921\"]],\"sequentialminus\":[[0.0,\"#0d0887\"],[0.1111111111111111,\"#46039f\"],[0.2222222222222222,\"#7201a8\"],[0.3333333333333333,\"#9c179e\"],[0.4444444444444444,\"#bd3786\"],[0.5555555555555556,\"#d8576b\"],[0.6666666666666666,\"#ed7953\"],[0.7777777777777778,\"#fb9f3a\"],[0.8888888888888888,\"#fdca26\"],[1.0,\"#f0f921\"]],\"diverging\":[[0,\"#8e0152\"],[0.1,\"#c51b7d\"],[0.2,\"#de77ae\"],[0.3,\"#f1b6da\"],[0.4,\"#fde0ef\"],[0.5,\"#f7f7f7\"],[0.6,\"#e6f5d0\"],[0.7,\"#b8e186\"],[0.8,\"#7fbc41\"],[0.9,\"#4d9221\"],[1,\"#276419\"]]},\"xaxis\":{\"gridcolor\":\"white\",\"linecolor\":\"white\",\"ticks\":\"\",\"title\":{\"standoff\":15},\"zerolinecolor\":\"white\",\"automargin\":true,\"zerolinewidth\":2},\"yaxis\":{\"gridcolor\":\"white\",\"linecolor\":\"white\",\"ticks\":\"\",\"title\":{\"standoff\":15},\"zerolinecolor\":\"white\",\"automargin\":true,\"zerolinewidth\":2},\"scene\":{\"xaxis\":{\"backgroundcolor\":\"#E5ECF6\",\"gridcolor\":\"white\",\"linecolor\":\"white\",\"showbackground\":true,\"ticks\":\"\",\"zerolinecolor\":\"white\",\"gridwidth\":2},\"yaxis\":{\"backgroundcolor\":\"#E5ECF6\",\"gridcolor\":\"white\",\"linecolor\":\"white\",\"showbackground\":true,\"ticks\":\"\",\"zerolinecolor\":\"white\",\"gridwidth\":2},\"zaxis\":{\"backgroundcolor\":\"#E5ECF6\",\"gridcolor\":\"white\",\"linecolor\":\"white\",\"showbackground\":true,\"ticks\":\"\",\"zerolinecolor\":\"white\",\"gridwidth\":2}},\"shapedefaults\":{\"line\":{\"color\":\"#2a3f5f\"}},\"annotationdefaults\":{\"arrowcolor\":\"#2a3f5f\",\"arrowhead\":0,\"arrowwidth\":1},\"geo\":{\"bgcolor\":\"white\",\"landcolor\":\"#E5ECF6\",\"subunitcolor\":\"white\",\"showland\":true,\"showlakes\":true,\"lakecolor\":\"white\"},\"title\":{\"x\":0.05},\"mapbox\":{\"style\":\"light\"}}},\"xaxis\":{\"anchor\":\"y\",\"domain\":[0.0,1.0],\"title\":{\"text\":\"PC1 14.4%\"}},\"yaxis\":{\"anchor\":\"x\",\"domain\":[0.0,1.0],\"title\":{\"text\":\"PC2 13.2%\"}},\"coloraxis\":{\"colorbar\":{\"title\":{\"text\":\"color\"}},\"colorscale\":[[0.0,\"#0d0887\"],[0.1111111111111111,\"#46039f\"],[0.2222222222222222,\"#7201a8\"],[0.3333333333333333,\"#9c179e\"],[0.4444444444444444,\"#bd3786\"],[0.5555555555555556,\"#d8576b\"],[0.6666666666666666,\"#ed7953\"],[0.7777777777777778,\"#fb9f3a\"],[0.8888888888888888,\"#fdca26\"],[1.0,\"#f0f921\"]]},\"legend\":{\"tracegroupgap\":0},\"margin\":{\"t\":60},\"title\":{\"text\":\"Plant Nutrients by Site Not Including Nitrogen PCA\"}},                        {\"responsive\": true}                    ).then(function(){\n",
       "                            \n",
       "var gd = document.getElementById('568eafcb-e297-435e-b8fa-ea3ade4433f2');\n",
       "var x = new MutationObserver(function (mutations, observer) {{\n",
       "        var display = window.getComputedStyle(gd).display;\n",
       "        if (!display || display === 'none') {{\n",
       "            console.log([gd, 'removed!']);\n",
       "            Plotly.purge(gd);\n",
       "            observer.disconnect();\n",
       "        }}\n",
       "}});\n",
       "\n",
       "// Listen for the removal of the full notebook cells\n",
       "var notebookContainer = gd.closest('#notebook-container');\n",
       "if (notebookContainer) {{\n",
       "    x.observe(notebookContainer, {childList: true});\n",
       "}}\n",
       "\n",
       "// Listen for the clearing of the current output cell\n",
       "var outputEl = gd.closest('.output');\n",
       "if (outputEl) {{\n",
       "    x.observe(outputEl, {childList: true});\n",
       "}}\n",
       "\n",
       "                        })                };                });            </script>        </div>"
      ]
     },
     "metadata": {},
     "output_type": "display_data"
    }
   ],
   "source": [
    "X = pivoted_df[top_100.index]\n",
    "\n",
    "pca = PCA(n_components=2)\n",
    "components = pca.fit_transform(X)\n",
    "\n",
    "fig = px.scatter(components, x=0, y=1, color=pivoted_df['V2'])\n",
    "fig.update_layout(\n",
    "    title = \"Plant Nutrients by Site Not Including Nitrogen PCA\",\n",
    "    xaxis_title=\"PC1 \" + str(round(100*pca.explained_variance_ratio_[0], 1)) + '%',\n",
    "    yaxis_title=\"PC2 \" + str(round(100*pca.explained_variance_ratio_[1], 1)) + '%')\n",
    "fig.show()"
   ]
  },
  {
   "cell_type": "code",
   "execution_count": 400,
   "id": "acdb35bc",
   "metadata": {},
   "outputs": [
    {
     "data": {
      "text/html": [
       "<div>\n",
       "<style scoped>\n",
       "    .dataframe tbody tr th:only-of-type {\n",
       "        vertical-align: middle;\n",
       "    }\n",
       "\n",
       "    .dataframe tbody tr th {\n",
       "        vertical-align: top;\n",
       "    }\n",
       "\n",
       "    .dataframe thead th {\n",
       "        text-align: right;\n",
       "    }\n",
       "</style>\n",
       "<table border=\"1\" class=\"dataframe\">\n",
       "  <thead>\n",
       "    <tr style=\"text-align: right;\">\n",
       "      <th>genera</th>\n",
       "      <th>species</th>\n",
       "      <th>site_id</th>\n",
       "      <th>sample_id</th>\n",
       "      <th>V2</th>\n",
       "      <th>Bacteria|Cyanobacteria||Synechococcales|Synechococcaceae|Synechococcus</th>\n",
       "      <th>Bacteria|Cyanobacteria||Synechococcales|Synechococcaceae|Thermosynechococcus</th>\n",
       "      <th>Bacteria|Cyanobacteria||Synechococcales|Prochloraceae|Prochlorococcus</th>\n",
       "      <th>Bacteria|Cyanobacteria||Gloeoemargaritales|Gloeomargaritaceae|Gloeomargarita</th>\n",
       "      <th>Eukaryota||Chlorarachniophyceae|||Lotharella</th>\n",
       "      <th>Bacteria|Proteobacteria|Gammaproteobacteria|Pseudomonadales|Pseudomonadaceae|Pseudomonas</th>\n",
       "      <th>...</th>\n",
       "      <th>Eukaryota|Apicomplexa|Conoidasida|Eucoccidiorida|Cryptosporidiidae|Cryptosporidium</th>\n",
       "      <th>Bacteria|Cyanobacteria||Chroococcales|Aphanothecaceae|Halothece</th>\n",
       "      <th>Bacteria|Tenericutes|Mollicutes|Mycoplasmatales|Mycoplasmataceae|Mycoplasma</th>\n",
       "      <th>Bacteria|Proteobacteria|Alphaproteobacteria|Rickettsiales|Anaplasmataceae|Neorickettsia</th>\n",
       "      <th>Bacteria|Proteobacteria|Betaproteobacteria|Burkholderiales|Burkholderiaceae|Paraburkholderia</th>\n",
       "      <th>Bacteria|Proteobacteria|Betaproteobacteria|Burkholderiales|Burkholderiaceae|Burkholderia</th>\n",
       "      <th>Bacteria|Cyanobacteria||Chroococcales|Chroococcaceae|Chondrocystis</th>\n",
       "      <th>Bacteria|Actinobacteria|Actinobacteria|Propionibacteriales|Nocardioidaceae|Kribbella</th>\n",
       "      <th>Bacteria|Proteobacteria|Epsilonproteobacteria|Campylobacterales|Campylobacteraceae|Arcobacter</th>\n",
       "      <th>Bacteria|Bacteroidetes|Sphingobacteriia|Sphingobacteriales|Sphingobacteriaceae|Pedobacter</th>\n",
       "    </tr>\n",
       "  </thead>\n",
       "  <tbody>\n",
       "    <tr>\n",
       "      <th>0</th>\n",
       "      <td>syriaca</td>\n",
       "      <td>CMB</td>\n",
       "      <td>CMB10</td>\n",
       "      <td>0.999777</td>\n",
       "      <td>1.658585</td>\n",
       "      <td>0.449190</td>\n",
       "      <td>-0.625305</td>\n",
       "      <td>0.059558</td>\n",
       "      <td>-0.639892</td>\n",
       "      <td>-0.180795</td>\n",
       "      <td>...</td>\n",
       "      <td>-0.850650</td>\n",
       "      <td>-0.273722</td>\n",
       "      <td>-0.301103</td>\n",
       "      <td>-0.840935</td>\n",
       "      <td>-1.427351</td>\n",
       "      <td>-0.933677</td>\n",
       "      <td>0.148441</td>\n",
       "      <td>-0.682586</td>\n",
       "      <td>-0.460162</td>\n",
       "      <td>1.298733</td>\n",
       "    </tr>\n",
       "    <tr>\n",
       "      <th>1</th>\n",
       "      <td>syriaca</td>\n",
       "      <td>CMB</td>\n",
       "      <td>CMB11</td>\n",
       "      <td>1.000000</td>\n",
       "      <td>1.177418</td>\n",
       "      <td>0.398179</td>\n",
       "      <td>-0.265843</td>\n",
       "      <td>0.624099</td>\n",
       "      <td>-0.554101</td>\n",
       "      <td>0.179081</td>\n",
       "      <td>...</td>\n",
       "      <td>-0.800855</td>\n",
       "      <td>3.046865</td>\n",
       "      <td>-0.301103</td>\n",
       "      <td>-0.840935</td>\n",
       "      <td>-0.874566</td>\n",
       "      <td>-0.003229</td>\n",
       "      <td>0.205422</td>\n",
       "      <td>-0.969094</td>\n",
       "      <td>-0.884026</td>\n",
       "      <td>-0.815379</td>\n",
       "    </tr>\n",
       "    <tr>\n",
       "      <th>2</th>\n",
       "      <td>syriaca</td>\n",
       "      <td>CMB</td>\n",
       "      <td>CMB13</td>\n",
       "      <td>0.989131</td>\n",
       "      <td>1.611450</td>\n",
       "      <td>1.654841</td>\n",
       "      <td>0.624824</td>\n",
       "      <td>-0.003629</td>\n",
       "      <td>0.812189</td>\n",
       "      <td>0.231470</td>\n",
       "      <td>...</td>\n",
       "      <td>0.729160</td>\n",
       "      <td>-0.273722</td>\n",
       "      <td>-0.301103</td>\n",
       "      <td>-0.262099</td>\n",
       "      <td>0.249085</td>\n",
       "      <td>-0.673772</td>\n",
       "      <td>1.278165</td>\n",
       "      <td>-0.653412</td>\n",
       "      <td>-0.884026</td>\n",
       "      <td>-0.154274</td>\n",
       "    </tr>\n",
       "    <tr>\n",
       "      <th>3</th>\n",
       "      <td>syriaca</td>\n",
       "      <td>CMB</td>\n",
       "      <td>CMB14</td>\n",
       "      <td>0.999992</td>\n",
       "      <td>0.708383</td>\n",
       "      <td>0.825395</td>\n",
       "      <td>-0.762340</td>\n",
       "      <td>0.859331</td>\n",
       "      <td>0.382159</td>\n",
       "      <td>-0.168207</td>\n",
       "      <td>...</td>\n",
       "      <td>0.507545</td>\n",
       "      <td>-0.273722</td>\n",
       "      <td>-0.299964</td>\n",
       "      <td>-0.840935</td>\n",
       "      <td>-0.331097</td>\n",
       "      <td>-0.946951</td>\n",
       "      <td>0.367025</td>\n",
       "      <td>0.165866</td>\n",
       "      <td>-0.884026</td>\n",
       "      <td>1.565384</td>\n",
       "    </tr>\n",
       "    <tr>\n",
       "      <th>4</th>\n",
       "      <td>syriaca</td>\n",
       "      <td>CMB</td>\n",
       "      <td>CMB15</td>\n",
       "      <td>0.998548</td>\n",
       "      <td>-1.328517</td>\n",
       "      <td>-1.971450</td>\n",
       "      <td>-2.361323</td>\n",
       "      <td>-0.371434</td>\n",
       "      <td>-1.765472</td>\n",
       "      <td>5.492609</td>\n",
       "      <td>...</td>\n",
       "      <td>-0.787252</td>\n",
       "      <td>-0.273722</td>\n",
       "      <td>8.075702</td>\n",
       "      <td>-0.285143</td>\n",
       "      <td>-0.378678</td>\n",
       "      <td>4.127426</td>\n",
       "      <td>-0.473773</td>\n",
       "      <td>-0.804276</td>\n",
       "      <td>-0.884026</td>\n",
       "      <td>-0.130607</td>\n",
       "    </tr>\n",
       "  </tbody>\n",
       "</table>\n",
       "<p>5 rows × 104 columns</p>\n",
       "</div>"
      ],
      "text/plain": [
       "genera  species site_id sample_id        V2  \\\n",
       "0       syriaca     CMB     CMB10  0.999777   \n",
       "1       syriaca     CMB     CMB11  1.000000   \n",
       "2       syriaca     CMB     CMB13  0.989131   \n",
       "3       syriaca     CMB     CMB14  0.999992   \n",
       "4       syriaca     CMB     CMB15  0.998548   \n",
       "\n",
       "genera  Bacteria|Cyanobacteria||Synechococcales|Synechococcaceae|Synechococcus  \\\n",
       "0                                                1.658585                        \n",
       "1                                                1.177418                        \n",
       "2                                                1.611450                        \n",
       "3                                                0.708383                        \n",
       "4                                               -1.328517                        \n",
       "\n",
       "genera  Bacteria|Cyanobacteria||Synechococcales|Synechococcaceae|Thermosynechococcus  \\\n",
       "0                                                0.449190                              \n",
       "1                                                0.398179                              \n",
       "2                                                1.654841                              \n",
       "3                                                0.825395                              \n",
       "4                                               -1.971450                              \n",
       "\n",
       "genera  Bacteria|Cyanobacteria||Synechococcales|Prochloraceae|Prochlorococcus  \\\n",
       "0                                               -0.625305                       \n",
       "1                                               -0.265843                       \n",
       "2                                                0.624824                       \n",
       "3                                               -0.762340                       \n",
       "4                                               -2.361323                       \n",
       "\n",
       "genera  Bacteria|Cyanobacteria||Gloeoemargaritales|Gloeomargaritaceae|Gloeomargarita  \\\n",
       "0                                                0.059558                              \n",
       "1                                                0.624099                              \n",
       "2                                               -0.003629                              \n",
       "3                                                0.859331                              \n",
       "4                                               -0.371434                              \n",
       "\n",
       "genera  Eukaryota||Chlorarachniophyceae|||Lotharella  \\\n",
       "0                                          -0.639892   \n",
       "1                                          -0.554101   \n",
       "2                                           0.812189   \n",
       "3                                           0.382159   \n",
       "4                                          -1.765472   \n",
       "\n",
       "genera  Bacteria|Proteobacteria|Gammaproteobacteria|Pseudomonadales|Pseudomonadaceae|Pseudomonas  \\\n",
       "0                                               -0.180795                                          \n",
       "1                                                0.179081                                          \n",
       "2                                                0.231470                                          \n",
       "3                                               -0.168207                                          \n",
       "4                                                5.492609                                          \n",
       "\n",
       "genera  ...  \\\n",
       "0       ...   \n",
       "1       ...   \n",
       "2       ...   \n",
       "3       ...   \n",
       "4       ...   \n",
       "\n",
       "genera  Eukaryota|Apicomplexa|Conoidasida|Eucoccidiorida|Cryptosporidiidae|Cryptosporidium  \\\n",
       "0                                               -0.850650                                    \n",
       "1                                               -0.800855                                    \n",
       "2                                                0.729160                                    \n",
       "3                                                0.507545                                    \n",
       "4                                               -0.787252                                    \n",
       "\n",
       "genera  Bacteria|Cyanobacteria||Chroococcales|Aphanothecaceae|Halothece  \\\n",
       "0                                               -0.273722                 \n",
       "1                                                3.046865                 \n",
       "2                                               -0.273722                 \n",
       "3                                               -0.273722                 \n",
       "4                                               -0.273722                 \n",
       "\n",
       "genera  Bacteria|Tenericutes|Mollicutes|Mycoplasmatales|Mycoplasmataceae|Mycoplasma  \\\n",
       "0                                               -0.301103                             \n",
       "1                                               -0.301103                             \n",
       "2                                               -0.301103                             \n",
       "3                                               -0.299964                             \n",
       "4                                                8.075702                             \n",
       "\n",
       "genera  Bacteria|Proteobacteria|Alphaproteobacteria|Rickettsiales|Anaplasmataceae|Neorickettsia  \\\n",
       "0                                               -0.840935                                         \n",
       "1                                               -0.840935                                         \n",
       "2                                               -0.262099                                         \n",
       "3                                               -0.840935                                         \n",
       "4                                               -0.285143                                         \n",
       "\n",
       "genera  Bacteria|Proteobacteria|Betaproteobacteria|Burkholderiales|Burkholderiaceae|Paraburkholderia  \\\n",
       "0                                               -1.427351                                              \n",
       "1                                               -0.874566                                              \n",
       "2                                                0.249085                                              \n",
       "3                                               -0.331097                                              \n",
       "4                                               -0.378678                                              \n",
       "\n",
       "genera  Bacteria|Proteobacteria|Betaproteobacteria|Burkholderiales|Burkholderiaceae|Burkholderia  \\\n",
       "0                                               -0.933677                                          \n",
       "1                                               -0.003229                                          \n",
       "2                                               -0.673772                                          \n",
       "3                                               -0.946951                                          \n",
       "4                                                4.127426                                          \n",
       "\n",
       "genera  Bacteria|Cyanobacteria||Chroococcales|Chroococcaceae|Chondrocystis  \\\n",
       "0                                                0.148441                    \n",
       "1                                                0.205422                    \n",
       "2                                                1.278165                    \n",
       "3                                                0.367025                    \n",
       "4                                               -0.473773                    \n",
       "\n",
       "genera  Bacteria|Actinobacteria|Actinobacteria|Propionibacteriales|Nocardioidaceae|Kribbella  \\\n",
       "0                                               -0.682586                                      \n",
       "1                                               -0.969094                                      \n",
       "2                                               -0.653412                                      \n",
       "3                                                0.165866                                      \n",
       "4                                               -0.804276                                      \n",
       "\n",
       "genera  Bacteria|Proteobacteria|Epsilonproteobacteria|Campylobacterales|Campylobacteraceae|Arcobacter  \\\n",
       "0                                               -0.460162                                               \n",
       "1                                               -0.884026                                               \n",
       "2                                               -0.884026                                               \n",
       "3                                               -0.884026                                               \n",
       "4                                               -0.884026                                               \n",
       "\n",
       "genera  Bacteria|Bacteroidetes|Sphingobacteriia|Sphingobacteriales|Sphingobacteriaceae|Pedobacter  \n",
       "0                                                1.298733                                          \n",
       "1                                               -0.815379                                          \n",
       "2                                               -0.154274                                          \n",
       "3                                                1.565384                                          \n",
       "4                                               -0.130607                                          \n",
       "\n",
       "[5 rows x 104 columns]"
      ]
     },
     "execution_count": 400,
     "metadata": {},
     "output_type": "execute_result"
    }
   ],
   "source": [
    "pivoted_df.head()"
   ]
  },
  {
   "cell_type": "code",
   "execution_count": 401,
   "id": "c74274fb",
   "metadata": {},
   "outputs": [],
   "source": [
    "X = (pivoted_df[top_100.index]).astype(float)\n",
    "Y = pd.get_dummies(pivoted_df['species'])"
   ]
  },
  {
   "cell_type": "code",
   "execution_count": 308,
   "id": "09e87832",
   "metadata": {},
   "outputs": [
    {
     "name": "stdout",
     "output_type": "stream",
     "text": [
      "                  Multivariate linear model\n",
      "==============================================================\n",
      "                                                              \n",
      "--------------------------------------------------------------\n",
      "           x0           Value   Num DF   Den DF F Value Pr > F\n",
      "--------------------------------------------------------------\n",
      "          Wilks' lambda 0.1857 100.0000 53.0000  2.3246 0.0005\n",
      "         Pillai's trace 0.8143 100.0000 53.0000  2.3246 0.0005\n",
      " Hotelling-Lawley trace 4.3861 100.0000 53.0000  2.3246 0.0005\n",
      "    Roy's greatest root 4.3861 100.0000 53.0000  2.3246 0.0005\n",
      "--------------------------------------------------------------\n",
      "                                                              \n",
      "--------------------------------------------------------------\n",
      "           x1           Value   Num DF   Den DF F Value Pr > F\n",
      "--------------------------------------------------------------\n",
      "          Wilks' lambda 0.2871 100.0000 53.0000  1.3158 0.1365\n",
      "         Pillai's trace 0.7129 100.0000 53.0000  1.3158 0.1365\n",
      " Hotelling-Lawley trace 2.4827 100.0000 53.0000  1.3158 0.1365\n",
      "    Roy's greatest root 2.4827 100.0000 53.0000  1.3158 0.1365\n",
      "==============================================================\n",
      "\n"
     ]
    }
   ],
   "source": [
    "# Fit the MANOVA model\n",
    "manova = MANOVA(X, Y)\n",
    "manova_results = manova.mv_test()\n",
    "\n",
    "print(manova_results)"
   ]
  },
  {
   "cell_type": "markdown",
   "id": "70bb0a10",
   "metadata": {},
   "source": [
    "### TSNE Using Top 100 Genera for Syriaca & Exaltata"
   ]
  },
  {
   "cell_type": "code",
   "execution_count": 313,
   "id": "dde5402c",
   "metadata": {},
   "outputs": [
    {
     "data": {
      "application/vnd.plotly.v1+json": {
       "config": {
        "plotlyServerURL": "https://plot.ly"
       },
       "data": [
        {
         "hovertemplate": "color=syriaca<br>0=%{x}<br>1=%{y}<extra></extra>",
         "legendgroup": "syriaca",
         "marker": {
          "color": "#636efa",
          "symbol": "circle"
         },
         "mode": "markers",
         "name": "syriaca",
         "orientation": "v",
         "showlegend": true,
         "type": "scatter",
         "x": [
          -11.190742492675781,
          -13.309123039245605,
          -15.059049606323242,
          -14.94653034210205,
          -3.6182172298431396,
          -10.521336555480957,
          1.6159918308258057,
          -6.0110578536987305,
          4.958749294281006,
          2.132464647293091,
          -20.635648727416992,
          9.68635368347168,
          -13.348718643188477,
          -5.988051414489746,
          -19.1127872467041,
          7.490237712860107,
          -21.736120223999023,
          -6.355025291442871,
          -15.93361759185791,
          -5.614855766296387,
          39.10648727416992,
          26.580795288085938,
          7.382318019866943,
          -5.171751022338867,
          -22.40129280090332,
          18.661710739135742,
          32.53832244873047,
          39.91932678222656,
          51.03195571899414,
          21.961294174194336,
          31.117156982421875,
          35.34560012817383,
          21.123777389526367,
          -5.209603786468506,
          -12.699318885803223,
          9.793282508850098,
          -19.719514846801758,
          42.310768127441406,
          39.63802719116211,
          11.088191032409668,
          36.79637145996094,
          13.040177345275879,
          -32.61578369140625,
          -50.353702545166016,
          43.090782165527344,
          -3.0967235565185547,
          -11.456685066223145,
          -37.75335693359375,
          -2.6862175464630127,
          1.8231300115585327,
          -11.392120361328125,
          35.617271423339844,
          -7.4099931716918945,
          39.080413818359375,
          27.775785446166992,
          37.27216339111328,
          43.09209442138672,
          22.666841506958008,
          40.27152633666992,
          -53.581077575683594,
          32.392539978027344,
          44.19944763183594,
          47.76384353637695,
          -17.263408660888672,
          -18.143566131591797,
          5.242415904998779,
          22.09868812561035,
          25.306190490722656,
          44.052955627441406,
          28.02043914794922,
          22.322118759155273,
          40.686119079589844,
          36.95939636230469,
          19.63502311706543,
          31.683345794677734,
          9.93505859375,
          28.72068214416504,
          -6.238313674926758,
          27.720033645629883,
          -29.913206100463867,
          43.0845947265625,
          -6.999447822570801,
          48.13909912109375,
          -7.261213779449463,
          -5.119363784790039,
          -51.51527404785156,
          42.463104248046875,
          45.01689529418945,
          29.489059448242188,
          -35.865962982177734,
          46.127811431884766,
          45.10211181640625,
          42.1330680847168,
          44.82130813598633,
          30.646377563476562,
          -36.41218948364258,
          29.84759521484375,
          27.33738899230957,
          5.9932661056518555,
          -15.230795860290527,
          43.90721893310547,
          -16.6700382232666,
          12.670619010925293,
          50.10688400268555
         ],
         "xaxis": "x",
         "y": [
          -6.1170334815979,
          -6.423942565917969,
          6.00355339050293,
          -3.1268208026885986,
          -41.28989791870117,
          -4.1991143226623535,
          -37.581459045410156,
          14.024086952209473,
          -40.012203216552734,
          -38.661903381347656,
          -5.994307041168213,
          4.027864456176758,
          6.474340438842773,
          -7.1025214195251465,
          -0.15465974807739258,
          6.133251667022705,
          -3.940392017364502,
          16.17288589477539,
          -6.658670425415039,
          -41.112876892089844,
          15.074951171875,
          -0.37213265895843506,
          7.989665985107422,
          19.896991729736328,
          11.481134414672852,
          -11.94915771484375,
          1.3070460557937622,
          13.83644962310791,
          12.907946586608887,
          6.372420310974121,
          18.795276641845703,
          5.792203903198242,
          -11.144017219543457,
          -6.105174541473389,
          -16.62123680114746,
          -13.272117614746094,
          -17.724689483642578,
          24.75933074951172,
          24.908971786499023,
          -11.584641456604004,
          9.406744003295898,
          -12.9395112991333,
          -10.651795387268066,
          -3.887242078781128,
          23.731992721557617,
          -12.947977066040039,
          -17.388790130615234,
          -9.51249885559082,
          -2.6504788398742676,
          -18.416906356811523,
          -19.792842864990234,
          11.460356712341309,
          -40.67607498168945,
          1.2654107809066772,
          6.979986667633057,
          17.357872009277344,
          -1.7290551662445068,
          10.622814178466797,
          17.110288619995117,
          7.947786808013916,
          17.89955711364746,
          15.901055335998535,
          15.147380828857422,
          14.857580184936523,
          13.118117332458496,
          -9.81985092163086,
          8.968785285949707,
          -8.870722770690918,
          13.791637420654297,
          -5.813286304473877,
          12.892294883728027,
          11.626728057861328,
          14.028122901916504,
          9.064196586608887,
          -1.3444069623947144,
          -18.890504837036133,
          10.014229774475098,
          -0.5226656794548035,
          8.275178909301758,
          1.6716796159744263,
          27.227447509765625,
          1.5181723833084106,
          -0.9331559538841248,
          -15.439454078674316,
          -3.343754291534424,
          -1.81438410282135,
          29.175094604492188,
          29.09503173828125,
          -3.1073520183563232,
          -8.059815406799316,
          0.3456757962703705,
          1.1358250379562378,
          0.11438441276550293,
          19.348527908325195,
          -0.3165580630302429,
          -3.152714490890503,
          1.900131344795227,
          1.9629228115081787,
          -40.42490005493164,
          3.8174872398376465,
          -3.8689420223236084,
          -16.56867027282715,
          -22.752182006835938,
          13.934672355651855
         ],
         "yaxis": "y"
        },
        {
         "hovertemplate": "color=exaltata<br>0=%{x}<br>1=%{y}<extra></extra>",
         "legendgroup": "exaltata",
         "marker": {
          "color": "#EF553B",
          "symbol": "circle"
         },
         "mode": "markers",
         "name": "exaltata",
         "orientation": "v",
         "showlegend": true,
         "type": "scatter",
         "x": [
          -35.98196792602539,
          6.170236587524414,
          5.6598734855651855,
          -26.180269241333008,
          7.129246711730957,
          7.059103012084961,
          -22.15447425842285,
          -35.75516128540039,
          -24.454938888549805,
          -46.22449493408203,
          -0.37520304322242737,
          -48.16889572143555,
          -17.768796920776367,
          -17.290102005004883,
          -8.721685409545898,
          22.3990535736084,
          -6.09607458114624,
          -0.7863218784332275,
          6.0192766189575195,
          4.015176296234131,
          -2.4322714805603027,
          -2.98591685295105,
          3.6293892860412598,
          -12.840229034423828,
          -59.008296966552734,
          -52.46189498901367,
          -23.001880645751953,
          -58.40911865234375,
          -50.54557418823242,
          -24.840965270996094,
          -21.100605010986328,
          -54.09557342529297,
          -6.121321678161621,
          -16.356143951416016,
          -55.488922119140625,
          -54.61955261230469,
          -26.239931106567383,
          -23.24917221069336,
          -29.479286193847656,
          -53.03352355957031,
          -20.816518783569336,
          -58.292442321777344,
          -63.21751022338867,
          -57.049110412597656,
          -40.210208892822266,
          -28.153532028198242,
          -64.2755355834961,
          -41.254241943359375,
          -57.9997444152832,
          -26.279603958129883
         ],
         "xaxis": "x",
         "y": [
          -1.9110625982284546,
          -17.768436431884766,
          -19.154468536376953,
          -0.9081369042396545,
          -20.958532333374023,
          -24.821414947509766,
          -14.665655136108398,
          -6.786290168762207,
          -10.108119010925293,
          2.9799745082855225,
          -25.68116569519043,
          2.469989538192749,
          -17.30031967163086,
          -19.385181427001953,
          -40.23814010620117,
          -10.55628776550293,
          -13.39606761932373,
          -13.222440719604492,
          -16.062114715576172,
          -14.606321334838867,
          -25.293243408203125,
          -21.175201416015625,
          -21.33881378173828,
          -9.794062614440918,
          1.670914649963379,
          2.2293381690979004,
          -1.5243607759475708,
          10.5607328414917,
          6.114014148712158,
          -0.08208374679088593,
          11.882882118225098,
          3.935429811477661,
          17.71702003479004,
          7.285294055938721,
          0.14692425727844238,
          2.189016819000244,
          3.6826586723327637,
          1.2768632173538208,
          -3.3924195766448975,
          5.182323932647705,
          5.659767150878906,
          9.368144035339355,
          -0.5504526495933533,
          -1.5842864513397217,
          13.197464942932129,
          -0.33505702018737793,
          -0.9165575504302979,
          13.027751922607422,
          5.592736721038818,
          -3.143623113632202
         ],
         "yaxis": "y"
        }
       ],
       "layout": {
        "legend": {
         "title": {
          "text": "color"
         },
         "tracegroupgap": 0
        },
        "margin": {
         "t": 60
        },
        "template": {
         "data": {
          "bar": [
           {
            "error_x": {
             "color": "#2a3f5f"
            },
            "error_y": {
             "color": "#2a3f5f"
            },
            "marker": {
             "line": {
              "color": "#E5ECF6",
              "width": 0.5
             },
             "pattern": {
              "fillmode": "overlay",
              "size": 10,
              "solidity": 0.2
             }
            },
            "type": "bar"
           }
          ],
          "barpolar": [
           {
            "marker": {
             "line": {
              "color": "#E5ECF6",
              "width": 0.5
             },
             "pattern": {
              "fillmode": "overlay",
              "size": 10,
              "solidity": 0.2
             }
            },
            "type": "barpolar"
           }
          ],
          "carpet": [
           {
            "aaxis": {
             "endlinecolor": "#2a3f5f",
             "gridcolor": "white",
             "linecolor": "white",
             "minorgridcolor": "white",
             "startlinecolor": "#2a3f5f"
            },
            "baxis": {
             "endlinecolor": "#2a3f5f",
             "gridcolor": "white",
             "linecolor": "white",
             "minorgridcolor": "white",
             "startlinecolor": "#2a3f5f"
            },
            "type": "carpet"
           }
          ],
          "choropleth": [
           {
            "colorbar": {
             "outlinewidth": 0,
             "ticks": ""
            },
            "type": "choropleth"
           }
          ],
          "contour": [
           {
            "colorbar": {
             "outlinewidth": 0,
             "ticks": ""
            },
            "colorscale": [
             [
              0,
              "#0d0887"
             ],
             [
              0.1111111111111111,
              "#46039f"
             ],
             [
              0.2222222222222222,
              "#7201a8"
             ],
             [
              0.3333333333333333,
              "#9c179e"
             ],
             [
              0.4444444444444444,
              "#bd3786"
             ],
             [
              0.5555555555555556,
              "#d8576b"
             ],
             [
              0.6666666666666666,
              "#ed7953"
             ],
             [
              0.7777777777777778,
              "#fb9f3a"
             ],
             [
              0.8888888888888888,
              "#fdca26"
             ],
             [
              1,
              "#f0f921"
             ]
            ],
            "type": "contour"
           }
          ],
          "contourcarpet": [
           {
            "colorbar": {
             "outlinewidth": 0,
             "ticks": ""
            },
            "type": "contourcarpet"
           }
          ],
          "heatmap": [
           {
            "colorbar": {
             "outlinewidth": 0,
             "ticks": ""
            },
            "colorscale": [
             [
              0,
              "#0d0887"
             ],
             [
              0.1111111111111111,
              "#46039f"
             ],
             [
              0.2222222222222222,
              "#7201a8"
             ],
             [
              0.3333333333333333,
              "#9c179e"
             ],
             [
              0.4444444444444444,
              "#bd3786"
             ],
             [
              0.5555555555555556,
              "#d8576b"
             ],
             [
              0.6666666666666666,
              "#ed7953"
             ],
             [
              0.7777777777777778,
              "#fb9f3a"
             ],
             [
              0.8888888888888888,
              "#fdca26"
             ],
             [
              1,
              "#f0f921"
             ]
            ],
            "type": "heatmap"
           }
          ],
          "heatmapgl": [
           {
            "colorbar": {
             "outlinewidth": 0,
             "ticks": ""
            },
            "colorscale": [
             [
              0,
              "#0d0887"
             ],
             [
              0.1111111111111111,
              "#46039f"
             ],
             [
              0.2222222222222222,
              "#7201a8"
             ],
             [
              0.3333333333333333,
              "#9c179e"
             ],
             [
              0.4444444444444444,
              "#bd3786"
             ],
             [
              0.5555555555555556,
              "#d8576b"
             ],
             [
              0.6666666666666666,
              "#ed7953"
             ],
             [
              0.7777777777777778,
              "#fb9f3a"
             ],
             [
              0.8888888888888888,
              "#fdca26"
             ],
             [
              1,
              "#f0f921"
             ]
            ],
            "type": "heatmapgl"
           }
          ],
          "histogram": [
           {
            "marker": {
             "pattern": {
              "fillmode": "overlay",
              "size": 10,
              "solidity": 0.2
             }
            },
            "type": "histogram"
           }
          ],
          "histogram2d": [
           {
            "colorbar": {
             "outlinewidth": 0,
             "ticks": ""
            },
            "colorscale": [
             [
              0,
              "#0d0887"
             ],
             [
              0.1111111111111111,
              "#46039f"
             ],
             [
              0.2222222222222222,
              "#7201a8"
             ],
             [
              0.3333333333333333,
              "#9c179e"
             ],
             [
              0.4444444444444444,
              "#bd3786"
             ],
             [
              0.5555555555555556,
              "#d8576b"
             ],
             [
              0.6666666666666666,
              "#ed7953"
             ],
             [
              0.7777777777777778,
              "#fb9f3a"
             ],
             [
              0.8888888888888888,
              "#fdca26"
             ],
             [
              1,
              "#f0f921"
             ]
            ],
            "type": "histogram2d"
           }
          ],
          "histogram2dcontour": [
           {
            "colorbar": {
             "outlinewidth": 0,
             "ticks": ""
            },
            "colorscale": [
             [
              0,
              "#0d0887"
             ],
             [
              0.1111111111111111,
              "#46039f"
             ],
             [
              0.2222222222222222,
              "#7201a8"
             ],
             [
              0.3333333333333333,
              "#9c179e"
             ],
             [
              0.4444444444444444,
              "#bd3786"
             ],
             [
              0.5555555555555556,
              "#d8576b"
             ],
             [
              0.6666666666666666,
              "#ed7953"
             ],
             [
              0.7777777777777778,
              "#fb9f3a"
             ],
             [
              0.8888888888888888,
              "#fdca26"
             ],
             [
              1,
              "#f0f921"
             ]
            ],
            "type": "histogram2dcontour"
           }
          ],
          "mesh3d": [
           {
            "colorbar": {
             "outlinewidth": 0,
             "ticks": ""
            },
            "type": "mesh3d"
           }
          ],
          "parcoords": [
           {
            "line": {
             "colorbar": {
              "outlinewidth": 0,
              "ticks": ""
             }
            },
            "type": "parcoords"
           }
          ],
          "pie": [
           {
            "automargin": true,
            "type": "pie"
           }
          ],
          "scatter": [
           {
            "fillpattern": {
             "fillmode": "overlay",
             "size": 10,
             "solidity": 0.2
            },
            "type": "scatter"
           }
          ],
          "scatter3d": [
           {
            "line": {
             "colorbar": {
              "outlinewidth": 0,
              "ticks": ""
             }
            },
            "marker": {
             "colorbar": {
              "outlinewidth": 0,
              "ticks": ""
             }
            },
            "type": "scatter3d"
           }
          ],
          "scattercarpet": [
           {
            "marker": {
             "colorbar": {
              "outlinewidth": 0,
              "ticks": ""
             }
            },
            "type": "scattercarpet"
           }
          ],
          "scattergeo": [
           {
            "marker": {
             "colorbar": {
              "outlinewidth": 0,
              "ticks": ""
             }
            },
            "type": "scattergeo"
           }
          ],
          "scattergl": [
           {
            "marker": {
             "colorbar": {
              "outlinewidth": 0,
              "ticks": ""
             }
            },
            "type": "scattergl"
           }
          ],
          "scattermapbox": [
           {
            "marker": {
             "colorbar": {
              "outlinewidth": 0,
              "ticks": ""
             }
            },
            "type": "scattermapbox"
           }
          ],
          "scatterpolar": [
           {
            "marker": {
             "colorbar": {
              "outlinewidth": 0,
              "ticks": ""
             }
            },
            "type": "scatterpolar"
           }
          ],
          "scatterpolargl": [
           {
            "marker": {
             "colorbar": {
              "outlinewidth": 0,
              "ticks": ""
             }
            },
            "type": "scatterpolargl"
           }
          ],
          "scatterternary": [
           {
            "marker": {
             "colorbar": {
              "outlinewidth": 0,
              "ticks": ""
             }
            },
            "type": "scatterternary"
           }
          ],
          "surface": [
           {
            "colorbar": {
             "outlinewidth": 0,
             "ticks": ""
            },
            "colorscale": [
             [
              0,
              "#0d0887"
             ],
             [
              0.1111111111111111,
              "#46039f"
             ],
             [
              0.2222222222222222,
              "#7201a8"
             ],
             [
              0.3333333333333333,
              "#9c179e"
             ],
             [
              0.4444444444444444,
              "#bd3786"
             ],
             [
              0.5555555555555556,
              "#d8576b"
             ],
             [
              0.6666666666666666,
              "#ed7953"
             ],
             [
              0.7777777777777778,
              "#fb9f3a"
             ],
             [
              0.8888888888888888,
              "#fdca26"
             ],
             [
              1,
              "#f0f921"
             ]
            ],
            "type": "surface"
           }
          ],
          "table": [
           {
            "cells": {
             "fill": {
              "color": "#EBF0F8"
             },
             "line": {
              "color": "white"
             }
            },
            "header": {
             "fill": {
              "color": "#C8D4E3"
             },
             "line": {
              "color": "white"
             }
            },
            "type": "table"
           }
          ]
         },
         "layout": {
          "annotationdefaults": {
           "arrowcolor": "#2a3f5f",
           "arrowhead": 0,
           "arrowwidth": 1
          },
          "autotypenumbers": "strict",
          "coloraxis": {
           "colorbar": {
            "outlinewidth": 0,
            "ticks": ""
           }
          },
          "colorscale": {
           "diverging": [
            [
             0,
             "#8e0152"
            ],
            [
             0.1,
             "#c51b7d"
            ],
            [
             0.2,
             "#de77ae"
            ],
            [
             0.3,
             "#f1b6da"
            ],
            [
             0.4,
             "#fde0ef"
            ],
            [
             0.5,
             "#f7f7f7"
            ],
            [
             0.6,
             "#e6f5d0"
            ],
            [
             0.7,
             "#b8e186"
            ],
            [
             0.8,
             "#7fbc41"
            ],
            [
             0.9,
             "#4d9221"
            ],
            [
             1,
             "#276419"
            ]
           ],
           "sequential": [
            [
             0,
             "#0d0887"
            ],
            [
             0.1111111111111111,
             "#46039f"
            ],
            [
             0.2222222222222222,
             "#7201a8"
            ],
            [
             0.3333333333333333,
             "#9c179e"
            ],
            [
             0.4444444444444444,
             "#bd3786"
            ],
            [
             0.5555555555555556,
             "#d8576b"
            ],
            [
             0.6666666666666666,
             "#ed7953"
            ],
            [
             0.7777777777777778,
             "#fb9f3a"
            ],
            [
             0.8888888888888888,
             "#fdca26"
            ],
            [
             1,
             "#f0f921"
            ]
           ],
           "sequentialminus": [
            [
             0,
             "#0d0887"
            ],
            [
             0.1111111111111111,
             "#46039f"
            ],
            [
             0.2222222222222222,
             "#7201a8"
            ],
            [
             0.3333333333333333,
             "#9c179e"
            ],
            [
             0.4444444444444444,
             "#bd3786"
            ],
            [
             0.5555555555555556,
             "#d8576b"
            ],
            [
             0.6666666666666666,
             "#ed7953"
            ],
            [
             0.7777777777777778,
             "#fb9f3a"
            ],
            [
             0.8888888888888888,
             "#fdca26"
            ],
            [
             1,
             "#f0f921"
            ]
           ]
          },
          "colorway": [
           "#636efa",
           "#EF553B",
           "#00cc96",
           "#ab63fa",
           "#FFA15A",
           "#19d3f3",
           "#FF6692",
           "#B6E880",
           "#FF97FF",
           "#FECB52"
          ],
          "font": {
           "color": "#2a3f5f"
          },
          "geo": {
           "bgcolor": "white",
           "lakecolor": "white",
           "landcolor": "#E5ECF6",
           "showlakes": true,
           "showland": true,
           "subunitcolor": "white"
          },
          "hoverlabel": {
           "align": "left"
          },
          "hovermode": "closest",
          "mapbox": {
           "style": "light"
          },
          "paper_bgcolor": "white",
          "plot_bgcolor": "#E5ECF6",
          "polar": {
           "angularaxis": {
            "gridcolor": "white",
            "linecolor": "white",
            "ticks": ""
           },
           "bgcolor": "#E5ECF6",
           "radialaxis": {
            "gridcolor": "white",
            "linecolor": "white",
            "ticks": ""
           }
          },
          "scene": {
           "xaxis": {
            "backgroundcolor": "#E5ECF6",
            "gridcolor": "white",
            "gridwidth": 2,
            "linecolor": "white",
            "showbackground": true,
            "ticks": "",
            "zerolinecolor": "white"
           },
           "yaxis": {
            "backgroundcolor": "#E5ECF6",
            "gridcolor": "white",
            "gridwidth": 2,
            "linecolor": "white",
            "showbackground": true,
            "ticks": "",
            "zerolinecolor": "white"
           },
           "zaxis": {
            "backgroundcolor": "#E5ECF6",
            "gridcolor": "white",
            "gridwidth": 2,
            "linecolor": "white",
            "showbackground": true,
            "ticks": "",
            "zerolinecolor": "white"
           }
          },
          "shapedefaults": {
           "line": {
            "color": "#2a3f5f"
           }
          },
          "ternary": {
           "aaxis": {
            "gridcolor": "white",
            "linecolor": "white",
            "ticks": ""
           },
           "baxis": {
            "gridcolor": "white",
            "linecolor": "white",
            "ticks": ""
           },
           "bgcolor": "#E5ECF6",
           "caxis": {
            "gridcolor": "white",
            "linecolor": "white",
            "ticks": ""
           }
          },
          "title": {
           "x": 0.05
          },
          "xaxis": {
           "automargin": true,
           "gridcolor": "white",
           "linecolor": "white",
           "ticks": "",
           "title": {
            "standoff": 15
           },
           "zerolinecolor": "white",
           "zerolinewidth": 2
          },
          "yaxis": {
           "automargin": true,
           "gridcolor": "white",
           "linecolor": "white",
           "ticks": "",
           "title": {
            "standoff": 15
           },
           "zerolinecolor": "white",
           "zerolinewidth": 2
          }
         }
        },
        "title": {
         "text": "Plant Nutrients Excluding Nitrogen by Species TSNE Perplexity-Value = 4"
        },
        "xaxis": {
         "anchor": "y",
         "domain": [
          0,
          1
         ],
         "title": {
          "text": "0"
         }
        },
        "yaxis": {
         "anchor": "x",
         "domain": [
          0,
          1
         ],
         "title": {
          "text": "1"
         }
        }
       }
      },
      "text/html": [
       "<div>                            <div id=\"6dfd6f7f-1baa-452f-a462-b964fb112691\" class=\"plotly-graph-div\" style=\"height:525px; width:100%;\"></div>            <script type=\"text/javascript\">                require([\"plotly\"], function(Plotly) {                    window.PLOTLYENV=window.PLOTLYENV || {};                                    if (document.getElementById(\"6dfd6f7f-1baa-452f-a462-b964fb112691\")) {                    Plotly.newPlot(                        \"6dfd6f7f-1baa-452f-a462-b964fb112691\",                        [{\"hovertemplate\":\"color=syriaca<br>0=%{x}<br>1=%{y}<extra></extra>\",\"legendgroup\":\"syriaca\",\"marker\":{\"color\":\"#636efa\",\"symbol\":\"circle\"},\"mode\":\"markers\",\"name\":\"syriaca\",\"orientation\":\"v\",\"showlegend\":true,\"x\":[-11.190742492675781,-13.309123039245605,-15.059049606323242,-14.94653034210205,-3.6182172298431396,-10.521336555480957,1.6159918308258057,-6.0110578536987305,4.958749294281006,2.132464647293091,-20.635648727416992,9.68635368347168,-13.348718643188477,-5.988051414489746,-19.1127872467041,7.490237712860107,-21.736120223999023,-6.355025291442871,-15.93361759185791,-5.614855766296387,39.10648727416992,26.580795288085938,7.382318019866943,-5.171751022338867,-22.40129280090332,18.661710739135742,32.53832244873047,39.91932678222656,51.03195571899414,21.961294174194336,31.117156982421875,35.34560012817383,21.123777389526367,-5.209603786468506,-12.699318885803223,9.793282508850098,-19.719514846801758,42.310768127441406,39.63802719116211,11.088191032409668,36.79637145996094,13.040177345275879,-32.61578369140625,-50.353702545166016,43.090782165527344,-3.0967235565185547,-11.456685066223145,-37.75335693359375,-2.6862175464630127,1.8231300115585327,-11.392120361328125,35.617271423339844,-7.4099931716918945,39.080413818359375,27.775785446166992,37.27216339111328,43.09209442138672,22.666841506958008,40.27152633666992,-53.581077575683594,32.392539978027344,44.19944763183594,47.76384353637695,-17.263408660888672,-18.143566131591797,5.242415904998779,22.09868812561035,25.306190490722656,44.052955627441406,28.02043914794922,22.322118759155273,40.686119079589844,36.95939636230469,19.63502311706543,31.683345794677734,9.93505859375,28.72068214416504,-6.238313674926758,27.720033645629883,-29.913206100463867,43.0845947265625,-6.999447822570801,48.13909912109375,-7.261213779449463,-5.119363784790039,-51.51527404785156,42.463104248046875,45.01689529418945,29.489059448242188,-35.865962982177734,46.127811431884766,45.10211181640625,42.1330680847168,44.82130813598633,30.646377563476562,-36.41218948364258,29.84759521484375,27.33738899230957,5.9932661056518555,-15.230795860290527,43.90721893310547,-16.6700382232666,12.670619010925293,50.10688400268555],\"xaxis\":\"x\",\"y\":[-6.1170334815979,-6.423942565917969,6.00355339050293,-3.1268208026885986,-41.28989791870117,-4.1991143226623535,-37.581459045410156,14.024086952209473,-40.012203216552734,-38.661903381347656,-5.994307041168213,4.027864456176758,6.474340438842773,-7.1025214195251465,-0.15465974807739258,6.133251667022705,-3.940392017364502,16.17288589477539,-6.658670425415039,-41.112876892089844,15.074951171875,-0.37213265895843506,7.989665985107422,19.896991729736328,11.481134414672852,-11.94915771484375,1.3070460557937622,13.83644962310791,12.907946586608887,6.372420310974121,18.795276641845703,5.792203903198242,-11.144017219543457,-6.105174541473389,-16.62123680114746,-13.272117614746094,-17.724689483642578,24.75933074951172,24.908971786499023,-11.584641456604004,9.406744003295898,-12.9395112991333,-10.651795387268066,-3.887242078781128,23.731992721557617,-12.947977066040039,-17.388790130615234,-9.51249885559082,-2.6504788398742676,-18.416906356811523,-19.792842864990234,11.460356712341309,-40.67607498168945,1.2654107809066772,6.979986667633057,17.357872009277344,-1.7290551662445068,10.622814178466797,17.110288619995117,7.947786808013916,17.89955711364746,15.901055335998535,15.147380828857422,14.857580184936523,13.118117332458496,-9.81985092163086,8.968785285949707,-8.870722770690918,13.791637420654297,-5.813286304473877,12.892294883728027,11.626728057861328,14.028122901916504,9.064196586608887,-1.3444069623947144,-18.890504837036133,10.014229774475098,-0.5226656794548035,8.275178909301758,1.6716796159744263,27.227447509765625,1.5181723833084106,-0.9331559538841248,-15.439454078674316,-3.343754291534424,-1.81438410282135,29.175094604492188,29.09503173828125,-3.1073520183563232,-8.059815406799316,0.3456757962703705,1.1358250379562378,0.11438441276550293,19.348527908325195,-0.3165580630302429,-3.152714490890503,1.900131344795227,1.9629228115081787,-40.42490005493164,3.8174872398376465,-3.8689420223236084,-16.56867027282715,-22.752182006835938,13.934672355651855],\"yaxis\":\"y\",\"type\":\"scatter\"},{\"hovertemplate\":\"color=exaltata<br>0=%{x}<br>1=%{y}<extra></extra>\",\"legendgroup\":\"exaltata\",\"marker\":{\"color\":\"#EF553B\",\"symbol\":\"circle\"},\"mode\":\"markers\",\"name\":\"exaltata\",\"orientation\":\"v\",\"showlegend\":true,\"x\":[-35.98196792602539,6.170236587524414,5.6598734855651855,-26.180269241333008,7.129246711730957,7.059103012084961,-22.15447425842285,-35.75516128540039,-24.454938888549805,-46.22449493408203,-0.37520304322242737,-48.16889572143555,-17.768796920776367,-17.290102005004883,-8.721685409545898,22.3990535736084,-6.09607458114624,-0.7863218784332275,6.0192766189575195,4.015176296234131,-2.4322714805603027,-2.98591685295105,3.6293892860412598,-12.840229034423828,-59.008296966552734,-52.46189498901367,-23.001880645751953,-58.40911865234375,-50.54557418823242,-24.840965270996094,-21.100605010986328,-54.09557342529297,-6.121321678161621,-16.356143951416016,-55.488922119140625,-54.61955261230469,-26.239931106567383,-23.24917221069336,-29.479286193847656,-53.03352355957031,-20.816518783569336,-58.292442321777344,-63.21751022338867,-57.049110412597656,-40.210208892822266,-28.153532028198242,-64.2755355834961,-41.254241943359375,-57.9997444152832,-26.279603958129883],\"xaxis\":\"x\",\"y\":[-1.9110625982284546,-17.768436431884766,-19.154468536376953,-0.9081369042396545,-20.958532333374023,-24.821414947509766,-14.665655136108398,-6.786290168762207,-10.108119010925293,2.9799745082855225,-25.68116569519043,2.469989538192749,-17.30031967163086,-19.385181427001953,-40.23814010620117,-10.55628776550293,-13.39606761932373,-13.222440719604492,-16.062114715576172,-14.606321334838867,-25.293243408203125,-21.175201416015625,-21.33881378173828,-9.794062614440918,1.670914649963379,2.2293381690979004,-1.5243607759475708,10.5607328414917,6.114014148712158,-0.08208374679088593,11.882882118225098,3.935429811477661,17.71702003479004,7.285294055938721,0.14692425727844238,2.189016819000244,3.6826586723327637,1.2768632173538208,-3.3924195766448975,5.182323932647705,5.659767150878906,9.368144035339355,-0.5504526495933533,-1.5842864513397217,13.197464942932129,-0.33505702018737793,-0.9165575504302979,13.027751922607422,5.592736721038818,-3.143623113632202],\"yaxis\":\"y\",\"type\":\"scatter\"}],                        {\"template\":{\"data\":{\"histogram2dcontour\":[{\"type\":\"histogram2dcontour\",\"colorbar\":{\"outlinewidth\":0,\"ticks\":\"\"},\"colorscale\":[[0.0,\"#0d0887\"],[0.1111111111111111,\"#46039f\"],[0.2222222222222222,\"#7201a8\"],[0.3333333333333333,\"#9c179e\"],[0.4444444444444444,\"#bd3786\"],[0.5555555555555556,\"#d8576b\"],[0.6666666666666666,\"#ed7953\"],[0.7777777777777778,\"#fb9f3a\"],[0.8888888888888888,\"#fdca26\"],[1.0,\"#f0f921\"]]}],\"choropleth\":[{\"type\":\"choropleth\",\"colorbar\":{\"outlinewidth\":0,\"ticks\":\"\"}}],\"histogram2d\":[{\"type\":\"histogram2d\",\"colorbar\":{\"outlinewidth\":0,\"ticks\":\"\"},\"colorscale\":[[0.0,\"#0d0887\"],[0.1111111111111111,\"#46039f\"],[0.2222222222222222,\"#7201a8\"],[0.3333333333333333,\"#9c179e\"],[0.4444444444444444,\"#bd3786\"],[0.5555555555555556,\"#d8576b\"],[0.6666666666666666,\"#ed7953\"],[0.7777777777777778,\"#fb9f3a\"],[0.8888888888888888,\"#fdca26\"],[1.0,\"#f0f921\"]]}],\"heatmap\":[{\"type\":\"heatmap\",\"colorbar\":{\"outlinewidth\":0,\"ticks\":\"\"},\"colorscale\":[[0.0,\"#0d0887\"],[0.1111111111111111,\"#46039f\"],[0.2222222222222222,\"#7201a8\"],[0.3333333333333333,\"#9c179e\"],[0.4444444444444444,\"#bd3786\"],[0.5555555555555556,\"#d8576b\"],[0.6666666666666666,\"#ed7953\"],[0.7777777777777778,\"#fb9f3a\"],[0.8888888888888888,\"#fdca26\"],[1.0,\"#f0f921\"]]}],\"heatmapgl\":[{\"type\":\"heatmapgl\",\"colorbar\":{\"outlinewidth\":0,\"ticks\":\"\"},\"colorscale\":[[0.0,\"#0d0887\"],[0.1111111111111111,\"#46039f\"],[0.2222222222222222,\"#7201a8\"],[0.3333333333333333,\"#9c179e\"],[0.4444444444444444,\"#bd3786\"],[0.5555555555555556,\"#d8576b\"],[0.6666666666666666,\"#ed7953\"],[0.7777777777777778,\"#fb9f3a\"],[0.8888888888888888,\"#fdca26\"],[1.0,\"#f0f921\"]]}],\"contourcarpet\":[{\"type\":\"contourcarpet\",\"colorbar\":{\"outlinewidth\":0,\"ticks\":\"\"}}],\"contour\":[{\"type\":\"contour\",\"colorbar\":{\"outlinewidth\":0,\"ticks\":\"\"},\"colorscale\":[[0.0,\"#0d0887\"],[0.1111111111111111,\"#46039f\"],[0.2222222222222222,\"#7201a8\"],[0.3333333333333333,\"#9c179e\"],[0.4444444444444444,\"#bd3786\"],[0.5555555555555556,\"#d8576b\"],[0.6666666666666666,\"#ed7953\"],[0.7777777777777778,\"#fb9f3a\"],[0.8888888888888888,\"#fdca26\"],[1.0,\"#f0f921\"]]}],\"surface\":[{\"type\":\"surface\",\"colorbar\":{\"outlinewidth\":0,\"ticks\":\"\"},\"colorscale\":[[0.0,\"#0d0887\"],[0.1111111111111111,\"#46039f\"],[0.2222222222222222,\"#7201a8\"],[0.3333333333333333,\"#9c179e\"],[0.4444444444444444,\"#bd3786\"],[0.5555555555555556,\"#d8576b\"],[0.6666666666666666,\"#ed7953\"],[0.7777777777777778,\"#fb9f3a\"],[0.8888888888888888,\"#fdca26\"],[1.0,\"#f0f921\"]]}],\"mesh3d\":[{\"type\":\"mesh3d\",\"colorbar\":{\"outlinewidth\":0,\"ticks\":\"\"}}],\"scatter\":[{\"fillpattern\":{\"fillmode\":\"overlay\",\"size\":10,\"solidity\":0.2},\"type\":\"scatter\"}],\"parcoords\":[{\"type\":\"parcoords\",\"line\":{\"colorbar\":{\"outlinewidth\":0,\"ticks\":\"\"}}}],\"scatterpolargl\":[{\"type\":\"scatterpolargl\",\"marker\":{\"colorbar\":{\"outlinewidth\":0,\"ticks\":\"\"}}}],\"bar\":[{\"error_x\":{\"color\":\"#2a3f5f\"},\"error_y\":{\"color\":\"#2a3f5f\"},\"marker\":{\"line\":{\"color\":\"#E5ECF6\",\"width\":0.5},\"pattern\":{\"fillmode\":\"overlay\",\"size\":10,\"solidity\":0.2}},\"type\":\"bar\"}],\"scattergeo\":[{\"type\":\"scattergeo\",\"marker\":{\"colorbar\":{\"outlinewidth\":0,\"ticks\":\"\"}}}],\"scatterpolar\":[{\"type\":\"scatterpolar\",\"marker\":{\"colorbar\":{\"outlinewidth\":0,\"ticks\":\"\"}}}],\"histogram\":[{\"marker\":{\"pattern\":{\"fillmode\":\"overlay\",\"size\":10,\"solidity\":0.2}},\"type\":\"histogram\"}],\"scattergl\":[{\"type\":\"scattergl\",\"marker\":{\"colorbar\":{\"outlinewidth\":0,\"ticks\":\"\"}}}],\"scatter3d\":[{\"type\":\"scatter3d\",\"line\":{\"colorbar\":{\"outlinewidth\":0,\"ticks\":\"\"}},\"marker\":{\"colorbar\":{\"outlinewidth\":0,\"ticks\":\"\"}}}],\"scattermapbox\":[{\"type\":\"scattermapbox\",\"marker\":{\"colorbar\":{\"outlinewidth\":0,\"ticks\":\"\"}}}],\"scatterternary\":[{\"type\":\"scatterternary\",\"marker\":{\"colorbar\":{\"outlinewidth\":0,\"ticks\":\"\"}}}],\"scattercarpet\":[{\"type\":\"scattercarpet\",\"marker\":{\"colorbar\":{\"outlinewidth\":0,\"ticks\":\"\"}}}],\"carpet\":[{\"aaxis\":{\"endlinecolor\":\"#2a3f5f\",\"gridcolor\":\"white\",\"linecolor\":\"white\",\"minorgridcolor\":\"white\",\"startlinecolor\":\"#2a3f5f\"},\"baxis\":{\"endlinecolor\":\"#2a3f5f\",\"gridcolor\":\"white\",\"linecolor\":\"white\",\"minorgridcolor\":\"white\",\"startlinecolor\":\"#2a3f5f\"},\"type\":\"carpet\"}],\"table\":[{\"cells\":{\"fill\":{\"color\":\"#EBF0F8\"},\"line\":{\"color\":\"white\"}},\"header\":{\"fill\":{\"color\":\"#C8D4E3\"},\"line\":{\"color\":\"white\"}},\"type\":\"table\"}],\"barpolar\":[{\"marker\":{\"line\":{\"color\":\"#E5ECF6\",\"width\":0.5},\"pattern\":{\"fillmode\":\"overlay\",\"size\":10,\"solidity\":0.2}},\"type\":\"barpolar\"}],\"pie\":[{\"automargin\":true,\"type\":\"pie\"}]},\"layout\":{\"autotypenumbers\":\"strict\",\"colorway\":[\"#636efa\",\"#EF553B\",\"#00cc96\",\"#ab63fa\",\"#FFA15A\",\"#19d3f3\",\"#FF6692\",\"#B6E880\",\"#FF97FF\",\"#FECB52\"],\"font\":{\"color\":\"#2a3f5f\"},\"hovermode\":\"closest\",\"hoverlabel\":{\"align\":\"left\"},\"paper_bgcolor\":\"white\",\"plot_bgcolor\":\"#E5ECF6\",\"polar\":{\"bgcolor\":\"#E5ECF6\",\"angularaxis\":{\"gridcolor\":\"white\",\"linecolor\":\"white\",\"ticks\":\"\"},\"radialaxis\":{\"gridcolor\":\"white\",\"linecolor\":\"white\",\"ticks\":\"\"}},\"ternary\":{\"bgcolor\":\"#E5ECF6\",\"aaxis\":{\"gridcolor\":\"white\",\"linecolor\":\"white\",\"ticks\":\"\"},\"baxis\":{\"gridcolor\":\"white\",\"linecolor\":\"white\",\"ticks\":\"\"},\"caxis\":{\"gridcolor\":\"white\",\"linecolor\":\"white\",\"ticks\":\"\"}},\"coloraxis\":{\"colorbar\":{\"outlinewidth\":0,\"ticks\":\"\"}},\"colorscale\":{\"sequential\":[[0.0,\"#0d0887\"],[0.1111111111111111,\"#46039f\"],[0.2222222222222222,\"#7201a8\"],[0.3333333333333333,\"#9c179e\"],[0.4444444444444444,\"#bd3786\"],[0.5555555555555556,\"#d8576b\"],[0.6666666666666666,\"#ed7953\"],[0.7777777777777778,\"#fb9f3a\"],[0.8888888888888888,\"#fdca26\"],[1.0,\"#f0f921\"]],\"sequentialminus\":[[0.0,\"#0d0887\"],[0.1111111111111111,\"#46039f\"],[0.2222222222222222,\"#7201a8\"],[0.3333333333333333,\"#9c179e\"],[0.4444444444444444,\"#bd3786\"],[0.5555555555555556,\"#d8576b\"],[0.6666666666666666,\"#ed7953\"],[0.7777777777777778,\"#fb9f3a\"],[0.8888888888888888,\"#fdca26\"],[1.0,\"#f0f921\"]],\"diverging\":[[0,\"#8e0152\"],[0.1,\"#c51b7d\"],[0.2,\"#de77ae\"],[0.3,\"#f1b6da\"],[0.4,\"#fde0ef\"],[0.5,\"#f7f7f7\"],[0.6,\"#e6f5d0\"],[0.7,\"#b8e186\"],[0.8,\"#7fbc41\"],[0.9,\"#4d9221\"],[1,\"#276419\"]]},\"xaxis\":{\"gridcolor\":\"white\",\"linecolor\":\"white\",\"ticks\":\"\",\"title\":{\"standoff\":15},\"zerolinecolor\":\"white\",\"automargin\":true,\"zerolinewidth\":2},\"yaxis\":{\"gridcolor\":\"white\",\"linecolor\":\"white\",\"ticks\":\"\",\"title\":{\"standoff\":15},\"zerolinecolor\":\"white\",\"automargin\":true,\"zerolinewidth\":2},\"scene\":{\"xaxis\":{\"backgroundcolor\":\"#E5ECF6\",\"gridcolor\":\"white\",\"linecolor\":\"white\",\"showbackground\":true,\"ticks\":\"\",\"zerolinecolor\":\"white\",\"gridwidth\":2},\"yaxis\":{\"backgroundcolor\":\"#E5ECF6\",\"gridcolor\":\"white\",\"linecolor\":\"white\",\"showbackground\":true,\"ticks\":\"\",\"zerolinecolor\":\"white\",\"gridwidth\":2},\"zaxis\":{\"backgroundcolor\":\"#E5ECF6\",\"gridcolor\":\"white\",\"linecolor\":\"white\",\"showbackground\":true,\"ticks\":\"\",\"zerolinecolor\":\"white\",\"gridwidth\":2}},\"shapedefaults\":{\"line\":{\"color\":\"#2a3f5f\"}},\"annotationdefaults\":{\"arrowcolor\":\"#2a3f5f\",\"arrowhead\":0,\"arrowwidth\":1},\"geo\":{\"bgcolor\":\"white\",\"landcolor\":\"#E5ECF6\",\"subunitcolor\":\"white\",\"showland\":true,\"showlakes\":true,\"lakecolor\":\"white\"},\"title\":{\"x\":0.05},\"mapbox\":{\"style\":\"light\"}}},\"xaxis\":{\"anchor\":\"y\",\"domain\":[0.0,1.0],\"title\":{\"text\":\"0\"}},\"yaxis\":{\"anchor\":\"x\",\"domain\":[0.0,1.0],\"title\":{\"text\":\"1\"}},\"legend\":{\"title\":{\"text\":\"color\"},\"tracegroupgap\":0},\"margin\":{\"t\":60},\"title\":{\"text\":\"Plant Nutrients Excluding Nitrogen by Species TSNE Perplexity-Value = 4\"}},                        {\"responsive\": true}                    ).then(function(){\n",
       "                            \n",
       "var gd = document.getElementById('6dfd6f7f-1baa-452f-a462-b964fb112691');\n",
       "var x = new MutationObserver(function (mutations, observer) {{\n",
       "        var display = window.getComputedStyle(gd).display;\n",
       "        if (!display || display === 'none') {{\n",
       "            console.log([gd, 'removed!']);\n",
       "            Plotly.purge(gd);\n",
       "            observer.disconnect();\n",
       "        }}\n",
       "}});\n",
       "\n",
       "// Listen for the removal of the full notebook cells\n",
       "var notebookContainer = gd.closest('#notebook-container');\n",
       "if (notebookContainer) {{\n",
       "    x.observe(notebookContainer, {childList: true});\n",
       "}}\n",
       "\n",
       "// Listen for the clearing of the current output cell\n",
       "var outputEl = gd.closest('.output');\n",
       "if (outputEl) {{\n",
       "    x.observe(outputEl, {childList: true});\n",
       "}}\n",
       "\n",
       "                        })                };                });            </script>        </div>"
      ]
     },
     "metadata": {},
     "output_type": "display_data"
    }
   ],
   "source": [
    "X = pivoted_df[top_100.index]\n",
    "\n",
    "perplexity_value = 4 # Change this to your desired perplexity\n",
    "\n",
    "tsne = TSNE(n_components=2, perplexity=perplexity_value, random_state=42)\n",
    "tsne_transformed = tsne.fit_transform(X)\n",
    "\n",
    "\n",
    "fig = px.scatter(tsne_transformed, x=0, y=1, color=pivoted_df['species'])\n",
    "fig.update_layout(title = 'Plant Nutrients Excluding Nitrogen by Species TSNE Perplexity-Value = ' + str(perplexity_value))\n",
    "fig.show()"
   ]
  },
  {
   "cell_type": "code",
   "execution_count": 412,
   "id": "d1958164",
   "metadata": {},
   "outputs": [
    {
     "data": {
      "application/vnd.plotly.v1+json": {
       "config": {
        "plotlyServerURL": "https://plot.ly"
       },
       "data": [
        {
         "hovertemplate": "0=%{x}<br>1=%{y}<br>color=%{marker.color}<extra></extra>",
         "legendgroup": "",
         "marker": {
          "color": [
           0.999777121,
           0.999999983,
           0.989130596,
           0.99999205,
           0.998547653,
           0.999243483,
           1,
           0.999999996,
           0.999935194,
           0.994411087,
           0.999994372,
           0.99897665,
           0.982635596,
           1,
           0.998350817,
           1,
           0.999846434,
           0.388694493,
           0.999999966,
           0.999998074,
           0.7852478009999999,
           0.99999504,
           0.99986691,
           0.996053809,
           0.93800131,
           0.995266379,
           0.95193434,
           0.656546865,
           0.963354074,
           0.6929732259999999,
           0.949617207,
           0.331716367,
           0.150532867,
           0.254647149,
           0.110557472,
           0.415349998,
           0.249776299,
           0.198886866,
           0.221165635,
           1.46e-06,
           0.060469465,
           0.250345752,
           0.27031741800000003,
           0.242603207,
           0.5342088110000001,
           0.99998903,
           0.999997212,
           0.993939326,
           0.993886933,
           0.999996209,
           0.976830919,
           0.931411864,
           0.970629199,
           0.921160983,
           0.999999685,
           0.999080836,
           0.99613745,
           0.982562258,
           0.945970293,
           0.977759091,
           0.947113913,
           0.96071195,
           0.977027431,
           0.9416044,
           0.999997617,
           0.986708141,
           0.964799716,
           0.99997927,
           0.998593042,
           0.999987456,
           0.992059724,
           0.9093784,
           0.988045417,
           0.961333795,
           0.999996167,
           0.985847727,
           0.999880149,
           0.99612139,
           0.966110769,
           0.950022725,
           0.928784175,
           0.999998278,
           0.921600652,
           0.999937501,
           0.920482076,
           0.983129509,
           0.999999914,
           0.904952487,
           0.999999928,
           0.999047821,
           0.08724231,
           0.7881207709999999,
           0.099424202,
           0.24624796,
           0.190611213,
           0.24507513,
           0.110320222,
           0.141064807,
           0.377154042,
           0.313959884,
           0.9001262459999999,
           0.959044822,
           0.993314449,
           0.933384203,
           0.655692078,
           0.926441789,
           0.984147743,
           0.932884191,
           0.895977067,
           0.999987321,
           0.989302792,
           0.999927077,
           0.999282893,
           1,
           0.999999941,
           0.999508419,
           0.999971273,
           0.99999935,
           0.246756057,
           0.407226935,
           0.415827155,
           0.378610566,
           0.14313463,
           0.376871167,
           0.408486828,
           0.243565632,
           0.32191292,
           0.291587812,
           0.112471831,
           0.211598351,
           0.208825287,
           0.221953818,
           0.279633368,
           0.427512638,
           0.346038525,
           0.224518484,
           0.418634317,
           0.473557148,
           0.999994941,
           0.869887693,
           0.999812032,
           0.999837812,
           0.999521809,
           0.880211753,
           0.960833927,
           0.31804617,
           1,
           0.998071671,
           0.999999515,
           0.44815706,
           0.41252699,
           0.307914727,
           0.48294375,
           0.999503515
          ],
          "coloraxis": "coloraxis",
          "symbol": "circle"
         },
         "mode": "markers",
         "name": "",
         "orientation": "v",
         "showlegend": false,
         "type": "scatter",
         "x": [
          -9.273329734802246,
          -7.457231044769287,
          6.588874340057373,
          -6.4442925453186035,
          -47.9669075012207,
          -10.707210540771484,
          -49.537132263183594,
          13.753904342651367,
          -45.67302322387695,
          -48.42504119873047,
          -0.41956764459609985,
          0.07236401736736298,
          4.865783214569092,
          -14.938895225524902,
          4.169222354888916,
          2.958268165588379,
          0.14570794999599457,
          15.238449096679688,
          -4.706728935241699,
          -46.840415954589844,
          28.222930908203125,
          19.064794540405273,
          4.735917568206787,
          18.634605407714844,
          13.240915298461914,
          21.970182418823242,
          16.57810401916504,
          26.591787338256836,
          21.3986873626709,
          4.358970642089844,
          20.96980857849121,
          -2.548065662384033,
          -14.249200820922852,
          -10.861096382141113,
          -0.21214735507965088,
          -13.312300682067871,
          -13.580763816833496,
          -20.11016845703125,
          -7.103917121887207,
          -7.012436389923096,
          4.784991264343262,
          -14.34742546081543,
          4.121312141418457,
          -23.978702545166016,
          -22.366195678710938,
          25.272462844848633,
          22.331886291503906,
          -15.77221393585205,
          -26.868614196777344,
          -22.788349151611328,
          -24.119850158691406,
          36.65581130981445,
          34.89982223510742,
          -24.839733123779297,
          27.698200225830078,
          -23.25697135925293,
          -7.652179718017578,
          -4.865419864654541,
          36.55413055419922,
          -24.460147857666016,
          -27.97910499572754,
          -10.452056884765625,
          -19.047962188720703,
          -10.782058715820312,
          -30.248714447021484,
          29.908958435058594,
          -45.61320495605469,
          2.0180156230926514,
          3.9484667778015137,
          32.348533630371094,
          3.890909433364868,
          7.997659683227539,
          29.496387481689453,
          9.009952545166016,
          22.60776710510254,
          27.06557273864746,
          24.885934829711914,
          15.08246898651123,
          13.806964874267578,
          -21.25389289855957,
          7.120144367218018,
          22.32180404663086,
          25.951251983642578,
          21.100481033325195,
          8.646456718444824,
          25.43130111694336,
          29.67847442626953,
          8.642646789550781,
          20.647281646728516,
          -8.32924747467041,
          -44.688941955566406,
          22.37347412109375,
          -24.912281036376953,
          -23.466632843017578,
          -16.108680725097656,
          -18.18737030029297,
          -15.345808029174805,
          -7.548279762268066,
          -9.573092460632324,
          -7.432565212249756,
          7.090921878814697,
          -16.19963836669922,
          5.2906813621521,
          -1.5852000713348389,
          1.1413451433181763,
          39.131195068359375,
          -16.67420768737793,
          -0.8848270773887634,
          -26.20323371887207,
          -16.756032943725586,
          -3.0539777278900146,
          40.07859802246094,
          41.63577651977539,
          20.29435920715332,
          -8.294528007507324,
          -0.3382381200790405,
          -0.1848972737789154,
          2.623577117919922,
          3.185392379760742,
          0.7185541391372681,
          9.92853832244873,
          7.989401817321777,
          0.4437943994998932,
          13.392218589782715,
          5.031153678894043,
          16.522741317749023,
          7.528223514556885,
          1.310030460357666,
          3.315183401107788,
          -2.22983455657959,
          2.9020493030548096,
          -2.7006466388702393,
          6.550014495849609,
          6.218997955322266,
          9.00107479095459,
          -4.866016864776611,
          -0.5090080499649048,
          -36.22897720336914,
          29.72475814819336,
          19.285625457763672,
          -3.7938811779022217,
          17.603193283081055,
          16.43360137939453,
          -44.841007232666016,
          7.3989033699035645,
          0.17561934888362885,
          5.1183762550354,
          -25.216297149658203,
          -6.749855995178223,
          -5.5228705406188965,
          -37.26611328125,
          5.001793384552002,
          2.5137743949890137,
          22.569751739501953
         ],
         "xaxis": "x",
         "y": [
          12.194188117980957,
          12.212465286254883,
          9.995682716369629,
          16.35604476928711,
          9.61700439453125,
          13.587387084960938,
          2.701781749725342,
          31.638084411621094,
          0.2678185999393463,
          2.3933017253875732,
          17.872005462646484,
          -5.113882064819336,
          10.242650032043457,
          9.55949592590332,
          31.001056671142578,
          -3.190929651260376,
          20.08700942993164,
          30.11279296875,
          12.600473403930664,
          11.241421699523926,
          -38.39790725708008,
          -30.47284507751465,
          -3.7094006538391113,
          28.378158569335938,
          17.560462951660156,
          -10.474061965942383,
          -24.463991165161133,
          -38.3272590637207,
          -50.01163864135742,
          -23.66826057434082,
          -39.18031311035156,
          39.48381423950195,
          -3.1227431297302246,
          -5.572538375854492,
          27.073318481445312,
          -5.993692398071289,
          -0.7017602324485779,
          25.290868759155273,
          37.09182357788086,
          27.1086368560791,
          51.71099090576172,
          -11.95143985748291,
          53.61904525756836,
          21.079442977905273,
          20.129972457885742,
          -29.28147315979004,
          -12.83061695098877,
          10.445282936096191,
          15.566266059875488,
          -4.999434947967529,
          23.190155029296875,
          -48.503475189208984,
          -50.22663497924805,
          -5.25364351272583,
          -32.22018814086914,
          -7.284231662750244,
          18.928815841674805,
          55.314571380615234,
          -47.24811553955078,
          3.3487489223480225,
          14.829386711120605,
          37.08194351196289,
          13.366779327392578,
          -8.172948837280273,
          15.159002304077148,
          -32.85355758666992,
          12.688307762145996,
          -33.70063018798828,
          -30.71615219116211,
          -38.39888381958008,
          -38.65172576904297,
          -22.111347198486328,
          -40.243167877197266,
          60.422950744628906,
          -39.007999420166016,
          -44.918052673339844,
          -47.424072265625,
          11.65766716003418,
          13.155549049377441,
          34.51011276245117,
          -23.90996742248535,
          -17.108116149902344,
          -43.23685073852539,
          -20.7341365814209,
          -20.083358764648438,
          -36.5211067199707,
          -36.330406188964844,
          -25.402233123779297,
          -26.312984466552734,
          -5.835149765014648,
          13.665647506713867,
          -14.178088188171387,
          6.121201992034912,
          1.5020942687988281,
          -3.1088194847106934,
          -2.1007838249206543,
          -13.666179656982422,
          5.865464210510254,
          -2.873704433441162,
          8.316275596618652,
          -31.466657638549805,
          16.288053512573242,
          -30.62847328186035,
          31.260082244873047,
          57.30226135253906,
          -49.661766052246094,
          18.51300621032715,
          -42.20293045043945,
          7.993906497955322,
          13.36419677734375,
          56.386898040771484,
          -51.46763229370117,
          -49.27803421020508,
          -23.131988525390625,
          36.7420539855957,
          -39.96421432495117,
          -38.74003601074219,
          -36.664493560791016,
          57.5120735168457,
          22.61684799194336,
          66.93488311767578,
          56.91551971435547,
          25.194278717041016,
          16.2548770904541,
          59.778018951416016,
          29.31562614440918,
          11.480595588684082,
          61.72647476196289,
          60.419620513916016,
          24.188753128051758,
          24.16132354736328,
          27.57636833190918,
          59.15401077270508,
          17.268657684326172,
          66.26795959472656,
          67.55245208740234,
          62.80873107910156,
          -25.748220443725586,
          -46.363616943359375,
          -26.132787704467773,
          39.34590530395508,
          -27.55886459350586,
          -29.44281578063965,
          -0.4512046277523041,
          7.7523579597473145,
          29.204551696777344,
          -40.497352600097656,
          20.478439331054688,
          -10.00610637664795,
          68.39264678955078,
          -25.788917541503906,
          63.952030181884766,
          27.488037109375,
          -49.350650787353516
         ],
         "yaxis": "y"
        }
       ],
       "layout": {
        "coloraxis": {
         "colorbar": {
          "title": {
           "text": "color"
          }
         },
         "colorscale": [
          [
           0,
           "#0d0887"
          ],
          [
           0.1111111111111111,
           "#46039f"
          ],
          [
           0.2222222222222222,
           "#7201a8"
          ],
          [
           0.3333333333333333,
           "#9c179e"
          ],
          [
           0.4444444444444444,
           "#bd3786"
          ],
          [
           0.5555555555555556,
           "#d8576b"
          ],
          [
           0.6666666666666666,
           "#ed7953"
          ],
          [
           0.7777777777777778,
           "#fb9f3a"
          ],
          [
           0.8888888888888888,
           "#fdca26"
          ],
          [
           1,
           "#f0f921"
          ]
         ]
        },
        "legend": {
         "tracegroupgap": 0
        },
        "margin": {
         "t": 60
        },
        "template": {
         "data": {
          "bar": [
           {
            "error_x": {
             "color": "#2a3f5f"
            },
            "error_y": {
             "color": "#2a3f5f"
            },
            "marker": {
             "line": {
              "color": "#E5ECF6",
              "width": 0.5
             },
             "pattern": {
              "fillmode": "overlay",
              "size": 10,
              "solidity": 0.2
             }
            },
            "type": "bar"
           }
          ],
          "barpolar": [
           {
            "marker": {
             "line": {
              "color": "#E5ECF6",
              "width": 0.5
             },
             "pattern": {
              "fillmode": "overlay",
              "size": 10,
              "solidity": 0.2
             }
            },
            "type": "barpolar"
           }
          ],
          "carpet": [
           {
            "aaxis": {
             "endlinecolor": "#2a3f5f",
             "gridcolor": "white",
             "linecolor": "white",
             "minorgridcolor": "white",
             "startlinecolor": "#2a3f5f"
            },
            "baxis": {
             "endlinecolor": "#2a3f5f",
             "gridcolor": "white",
             "linecolor": "white",
             "minorgridcolor": "white",
             "startlinecolor": "#2a3f5f"
            },
            "type": "carpet"
           }
          ],
          "choropleth": [
           {
            "colorbar": {
             "outlinewidth": 0,
             "ticks": ""
            },
            "type": "choropleth"
           }
          ],
          "contour": [
           {
            "colorbar": {
             "outlinewidth": 0,
             "ticks": ""
            },
            "colorscale": [
             [
              0,
              "#0d0887"
             ],
             [
              0.1111111111111111,
              "#46039f"
             ],
             [
              0.2222222222222222,
              "#7201a8"
             ],
             [
              0.3333333333333333,
              "#9c179e"
             ],
             [
              0.4444444444444444,
              "#bd3786"
             ],
             [
              0.5555555555555556,
              "#d8576b"
             ],
             [
              0.6666666666666666,
              "#ed7953"
             ],
             [
              0.7777777777777778,
              "#fb9f3a"
             ],
             [
              0.8888888888888888,
              "#fdca26"
             ],
             [
              1,
              "#f0f921"
             ]
            ],
            "type": "contour"
           }
          ],
          "contourcarpet": [
           {
            "colorbar": {
             "outlinewidth": 0,
             "ticks": ""
            },
            "type": "contourcarpet"
           }
          ],
          "heatmap": [
           {
            "colorbar": {
             "outlinewidth": 0,
             "ticks": ""
            },
            "colorscale": [
             [
              0,
              "#0d0887"
             ],
             [
              0.1111111111111111,
              "#46039f"
             ],
             [
              0.2222222222222222,
              "#7201a8"
             ],
             [
              0.3333333333333333,
              "#9c179e"
             ],
             [
              0.4444444444444444,
              "#bd3786"
             ],
             [
              0.5555555555555556,
              "#d8576b"
             ],
             [
              0.6666666666666666,
              "#ed7953"
             ],
             [
              0.7777777777777778,
              "#fb9f3a"
             ],
             [
              0.8888888888888888,
              "#fdca26"
             ],
             [
              1,
              "#f0f921"
             ]
            ],
            "type": "heatmap"
           }
          ],
          "heatmapgl": [
           {
            "colorbar": {
             "outlinewidth": 0,
             "ticks": ""
            },
            "colorscale": [
             [
              0,
              "#0d0887"
             ],
             [
              0.1111111111111111,
              "#46039f"
             ],
             [
              0.2222222222222222,
              "#7201a8"
             ],
             [
              0.3333333333333333,
              "#9c179e"
             ],
             [
              0.4444444444444444,
              "#bd3786"
             ],
             [
              0.5555555555555556,
              "#d8576b"
             ],
             [
              0.6666666666666666,
              "#ed7953"
             ],
             [
              0.7777777777777778,
              "#fb9f3a"
             ],
             [
              0.8888888888888888,
              "#fdca26"
             ],
             [
              1,
              "#f0f921"
             ]
            ],
            "type": "heatmapgl"
           }
          ],
          "histogram": [
           {
            "marker": {
             "pattern": {
              "fillmode": "overlay",
              "size": 10,
              "solidity": 0.2
             }
            },
            "type": "histogram"
           }
          ],
          "histogram2d": [
           {
            "colorbar": {
             "outlinewidth": 0,
             "ticks": ""
            },
            "colorscale": [
             [
              0,
              "#0d0887"
             ],
             [
              0.1111111111111111,
              "#46039f"
             ],
             [
              0.2222222222222222,
              "#7201a8"
             ],
             [
              0.3333333333333333,
              "#9c179e"
             ],
             [
              0.4444444444444444,
              "#bd3786"
             ],
             [
              0.5555555555555556,
              "#d8576b"
             ],
             [
              0.6666666666666666,
              "#ed7953"
             ],
             [
              0.7777777777777778,
              "#fb9f3a"
             ],
             [
              0.8888888888888888,
              "#fdca26"
             ],
             [
              1,
              "#f0f921"
             ]
            ],
            "type": "histogram2d"
           }
          ],
          "histogram2dcontour": [
           {
            "colorbar": {
             "outlinewidth": 0,
             "ticks": ""
            },
            "colorscale": [
             [
              0,
              "#0d0887"
             ],
             [
              0.1111111111111111,
              "#46039f"
             ],
             [
              0.2222222222222222,
              "#7201a8"
             ],
             [
              0.3333333333333333,
              "#9c179e"
             ],
             [
              0.4444444444444444,
              "#bd3786"
             ],
             [
              0.5555555555555556,
              "#d8576b"
             ],
             [
              0.6666666666666666,
              "#ed7953"
             ],
             [
              0.7777777777777778,
              "#fb9f3a"
             ],
             [
              0.8888888888888888,
              "#fdca26"
             ],
             [
              1,
              "#f0f921"
             ]
            ],
            "type": "histogram2dcontour"
           }
          ],
          "mesh3d": [
           {
            "colorbar": {
             "outlinewidth": 0,
             "ticks": ""
            },
            "type": "mesh3d"
           }
          ],
          "parcoords": [
           {
            "line": {
             "colorbar": {
              "outlinewidth": 0,
              "ticks": ""
             }
            },
            "type": "parcoords"
           }
          ],
          "pie": [
           {
            "automargin": true,
            "type": "pie"
           }
          ],
          "scatter": [
           {
            "fillpattern": {
             "fillmode": "overlay",
             "size": 10,
             "solidity": 0.2
            },
            "type": "scatter"
           }
          ],
          "scatter3d": [
           {
            "line": {
             "colorbar": {
              "outlinewidth": 0,
              "ticks": ""
             }
            },
            "marker": {
             "colorbar": {
              "outlinewidth": 0,
              "ticks": ""
             }
            },
            "type": "scatter3d"
           }
          ],
          "scattercarpet": [
           {
            "marker": {
             "colorbar": {
              "outlinewidth": 0,
              "ticks": ""
             }
            },
            "type": "scattercarpet"
           }
          ],
          "scattergeo": [
           {
            "marker": {
             "colorbar": {
              "outlinewidth": 0,
              "ticks": ""
             }
            },
            "type": "scattergeo"
           }
          ],
          "scattergl": [
           {
            "marker": {
             "colorbar": {
              "outlinewidth": 0,
              "ticks": ""
             }
            },
            "type": "scattergl"
           }
          ],
          "scattermapbox": [
           {
            "marker": {
             "colorbar": {
              "outlinewidth": 0,
              "ticks": ""
             }
            },
            "type": "scattermapbox"
           }
          ],
          "scatterpolar": [
           {
            "marker": {
             "colorbar": {
              "outlinewidth": 0,
              "ticks": ""
             }
            },
            "type": "scatterpolar"
           }
          ],
          "scatterpolargl": [
           {
            "marker": {
             "colorbar": {
              "outlinewidth": 0,
              "ticks": ""
             }
            },
            "type": "scatterpolargl"
           }
          ],
          "scatterternary": [
           {
            "marker": {
             "colorbar": {
              "outlinewidth": 0,
              "ticks": ""
             }
            },
            "type": "scatterternary"
           }
          ],
          "surface": [
           {
            "colorbar": {
             "outlinewidth": 0,
             "ticks": ""
            },
            "colorscale": [
             [
              0,
              "#0d0887"
             ],
             [
              0.1111111111111111,
              "#46039f"
             ],
             [
              0.2222222222222222,
              "#7201a8"
             ],
             [
              0.3333333333333333,
              "#9c179e"
             ],
             [
              0.4444444444444444,
              "#bd3786"
             ],
             [
              0.5555555555555556,
              "#d8576b"
             ],
             [
              0.6666666666666666,
              "#ed7953"
             ],
             [
              0.7777777777777778,
              "#fb9f3a"
             ],
             [
              0.8888888888888888,
              "#fdca26"
             ],
             [
              1,
              "#f0f921"
             ]
            ],
            "type": "surface"
           }
          ],
          "table": [
           {
            "cells": {
             "fill": {
              "color": "#EBF0F8"
             },
             "line": {
              "color": "white"
             }
            },
            "header": {
             "fill": {
              "color": "#C8D4E3"
             },
             "line": {
              "color": "white"
             }
            },
            "type": "table"
           }
          ]
         },
         "layout": {
          "annotationdefaults": {
           "arrowcolor": "#2a3f5f",
           "arrowhead": 0,
           "arrowwidth": 1
          },
          "autotypenumbers": "strict",
          "coloraxis": {
           "colorbar": {
            "outlinewidth": 0,
            "ticks": ""
           }
          },
          "colorscale": {
           "diverging": [
            [
             0,
             "#8e0152"
            ],
            [
             0.1,
             "#c51b7d"
            ],
            [
             0.2,
             "#de77ae"
            ],
            [
             0.3,
             "#f1b6da"
            ],
            [
             0.4,
             "#fde0ef"
            ],
            [
             0.5,
             "#f7f7f7"
            ],
            [
             0.6,
             "#e6f5d0"
            ],
            [
             0.7,
             "#b8e186"
            ],
            [
             0.8,
             "#7fbc41"
            ],
            [
             0.9,
             "#4d9221"
            ],
            [
             1,
             "#276419"
            ]
           ],
           "sequential": [
            [
             0,
             "#0d0887"
            ],
            [
             0.1111111111111111,
             "#46039f"
            ],
            [
             0.2222222222222222,
             "#7201a8"
            ],
            [
             0.3333333333333333,
             "#9c179e"
            ],
            [
             0.4444444444444444,
             "#bd3786"
            ],
            [
             0.5555555555555556,
             "#d8576b"
            ],
            [
             0.6666666666666666,
             "#ed7953"
            ],
            [
             0.7777777777777778,
             "#fb9f3a"
            ],
            [
             0.8888888888888888,
             "#fdca26"
            ],
            [
             1,
             "#f0f921"
            ]
           ],
           "sequentialminus": [
            [
             0,
             "#0d0887"
            ],
            [
             0.1111111111111111,
             "#46039f"
            ],
            [
             0.2222222222222222,
             "#7201a8"
            ],
            [
             0.3333333333333333,
             "#9c179e"
            ],
            [
             0.4444444444444444,
             "#bd3786"
            ],
            [
             0.5555555555555556,
             "#d8576b"
            ],
            [
             0.6666666666666666,
             "#ed7953"
            ],
            [
             0.7777777777777778,
             "#fb9f3a"
            ],
            [
             0.8888888888888888,
             "#fdca26"
            ],
            [
             1,
             "#f0f921"
            ]
           ]
          },
          "colorway": [
           "#636efa",
           "#EF553B",
           "#00cc96",
           "#ab63fa",
           "#FFA15A",
           "#19d3f3",
           "#FF6692",
           "#B6E880",
           "#FF97FF",
           "#FECB52"
          ],
          "font": {
           "color": "#2a3f5f"
          },
          "geo": {
           "bgcolor": "white",
           "lakecolor": "white",
           "landcolor": "#E5ECF6",
           "showlakes": true,
           "showland": true,
           "subunitcolor": "white"
          },
          "hoverlabel": {
           "align": "left"
          },
          "hovermode": "closest",
          "mapbox": {
           "style": "light"
          },
          "paper_bgcolor": "white",
          "plot_bgcolor": "#E5ECF6",
          "polar": {
           "angularaxis": {
            "gridcolor": "white",
            "linecolor": "white",
            "ticks": ""
           },
           "bgcolor": "#E5ECF6",
           "radialaxis": {
            "gridcolor": "white",
            "linecolor": "white",
            "ticks": ""
           }
          },
          "scene": {
           "xaxis": {
            "backgroundcolor": "#E5ECF6",
            "gridcolor": "white",
            "gridwidth": 2,
            "linecolor": "white",
            "showbackground": true,
            "ticks": "",
            "zerolinecolor": "white"
           },
           "yaxis": {
            "backgroundcolor": "#E5ECF6",
            "gridcolor": "white",
            "gridwidth": 2,
            "linecolor": "white",
            "showbackground": true,
            "ticks": "",
            "zerolinecolor": "white"
           },
           "zaxis": {
            "backgroundcolor": "#E5ECF6",
            "gridcolor": "white",
            "gridwidth": 2,
            "linecolor": "white",
            "showbackground": true,
            "ticks": "",
            "zerolinecolor": "white"
           }
          },
          "shapedefaults": {
           "line": {
            "color": "#2a3f5f"
           }
          },
          "ternary": {
           "aaxis": {
            "gridcolor": "white",
            "linecolor": "white",
            "ticks": ""
           },
           "baxis": {
            "gridcolor": "white",
            "linecolor": "white",
            "ticks": ""
           },
           "bgcolor": "#E5ECF6",
           "caxis": {
            "gridcolor": "white",
            "linecolor": "white",
            "ticks": ""
           }
          },
          "title": {
           "x": 0.05
          },
          "xaxis": {
           "automargin": true,
           "gridcolor": "white",
           "linecolor": "white",
           "ticks": "",
           "title": {
            "standoff": 15
           },
           "zerolinecolor": "white",
           "zerolinewidth": 2
          },
          "yaxis": {
           "automargin": true,
           "gridcolor": "white",
           "linecolor": "white",
           "ticks": "",
           "title": {
            "standoff": 15
           },
           "zerolinecolor": "white",
           "zerolinewidth": 2
          }
         }
        },
        "title": {
         "text": "Plant Microbes by Species TSNE Perplexity-Value = 3"
        },
        "xaxis": {
         "anchor": "y",
         "domain": [
          0,
          1
         ],
         "title": {
          "text": "0"
         }
        },
        "yaxis": {
         "anchor": "x",
         "domain": [
          0,
          1
         ],
         "title": {
          "text": "1"
         }
        }
       }
      },
      "text/html": [
       "<div>                            <div id=\"e6d1ec52-4303-4b3d-80e0-bec2444630fd\" class=\"plotly-graph-div\" style=\"height:525px; width:100%;\"></div>            <script type=\"text/javascript\">                require([\"plotly\"], function(Plotly) {                    window.PLOTLYENV=window.PLOTLYENV || {};                                    if (document.getElementById(\"e6d1ec52-4303-4b3d-80e0-bec2444630fd\")) {                    Plotly.newPlot(                        \"e6d1ec52-4303-4b3d-80e0-bec2444630fd\",                        [{\"hovertemplate\":\"0=%{x}<br>1=%{y}<br>color=%{marker.color}<extra></extra>\",\"legendgroup\":\"\",\"marker\":{\"color\":[0.999777121,0.999999983,0.989130596,0.99999205,0.998547653,0.999243483,1.0,0.999999996,0.999935194,0.994411087,0.999994372,0.99897665,0.982635596,1.0,0.998350817,1.0,0.999846434,0.388694493,0.999999966,0.999998074,0.7852478009999999,0.99999504,0.99986691,0.996053809,0.93800131,0.995266379,0.95193434,0.656546865,0.963354074,0.6929732259999999,0.949617207,0.331716367,0.150532867,0.254647149,0.110557472,0.415349998,0.249776299,0.198886866,0.221165635,1.46e-06,0.060469465,0.250345752,0.27031741800000003,0.242603207,0.5342088110000001,0.99998903,0.999997212,0.993939326,0.993886933,0.999996209,0.976830919,0.931411864,0.970629199,0.921160983,0.999999685,0.999080836,0.99613745,0.982562258,0.945970293,0.977759091,0.947113913,0.96071195,0.977027431,0.9416044,0.999997617,0.986708141,0.964799716,0.99997927,0.998593042,0.999987456,0.992059724,0.9093784,0.988045417,0.961333795,0.999996167,0.985847727,0.999880149,0.99612139,0.966110769,0.950022725,0.928784175,0.999998278,0.921600652,0.999937501,0.920482076,0.983129509,0.999999914,0.904952487,0.999999928,0.999047821,0.08724231,0.7881207709999999,0.099424202,0.24624796,0.190611213,0.24507513,0.110320222,0.141064807,0.377154042,0.313959884,0.9001262459999999,0.959044822,0.993314449,0.933384203,0.655692078,0.926441789,0.984147743,0.932884191,0.895977067,0.999987321,0.989302792,0.999927077,0.999282893,1.0,0.999999941,0.999508419,0.999971273,0.99999935,0.246756057,0.407226935,0.415827155,0.378610566,0.14313463,0.376871167,0.408486828,0.243565632,0.32191292,0.291587812,0.112471831,0.211598351,0.208825287,0.221953818,0.279633368,0.427512638,0.346038525,0.224518484,0.418634317,0.473557148,0.999994941,0.869887693,0.999812032,0.999837812,0.999521809,0.880211753,0.960833927,0.31804617,1.0,0.998071671,0.999999515,0.44815706,0.41252699,0.307914727,0.48294375,0.999503515],\"coloraxis\":\"coloraxis\",\"symbol\":\"circle\"},\"mode\":\"markers\",\"name\":\"\",\"orientation\":\"v\",\"showlegend\":false,\"x\":[-9.273329734802246,-7.457231044769287,6.588874340057373,-6.4442925453186035,-47.9669075012207,-10.707210540771484,-49.537132263183594,13.753904342651367,-45.67302322387695,-48.42504119873047,-0.41956764459609985,0.07236401736736298,4.865783214569092,-14.938895225524902,4.169222354888916,2.958268165588379,0.14570794999599457,15.238449096679688,-4.706728935241699,-46.840415954589844,28.222930908203125,19.064794540405273,4.735917568206787,18.634605407714844,13.240915298461914,21.970182418823242,16.57810401916504,26.591787338256836,21.3986873626709,4.358970642089844,20.96980857849121,-2.548065662384033,-14.249200820922852,-10.861096382141113,-0.21214735507965088,-13.312300682067871,-13.580763816833496,-20.11016845703125,-7.103917121887207,-7.012436389923096,4.784991264343262,-14.34742546081543,4.121312141418457,-23.978702545166016,-22.366195678710938,25.272462844848633,22.331886291503906,-15.77221393585205,-26.868614196777344,-22.788349151611328,-24.119850158691406,36.65581130981445,34.89982223510742,-24.839733123779297,27.698200225830078,-23.25697135925293,-7.652179718017578,-4.865419864654541,36.55413055419922,-24.460147857666016,-27.97910499572754,-10.452056884765625,-19.047962188720703,-10.782058715820312,-30.248714447021484,29.908958435058594,-45.61320495605469,2.0180156230926514,3.9484667778015137,32.348533630371094,3.890909433364868,7.997659683227539,29.496387481689453,9.009952545166016,22.60776710510254,27.06557273864746,24.885934829711914,15.08246898651123,13.806964874267578,-21.25389289855957,7.120144367218018,22.32180404663086,25.951251983642578,21.100481033325195,8.646456718444824,25.43130111694336,29.67847442626953,8.642646789550781,20.647281646728516,-8.32924747467041,-44.688941955566406,22.37347412109375,-24.912281036376953,-23.466632843017578,-16.108680725097656,-18.18737030029297,-15.345808029174805,-7.548279762268066,-9.573092460632324,-7.432565212249756,7.090921878814697,-16.19963836669922,5.2906813621521,-1.5852000713348389,1.1413451433181763,39.131195068359375,-16.67420768737793,-0.8848270773887634,-26.20323371887207,-16.756032943725586,-3.0539777278900146,40.07859802246094,41.63577651977539,20.29435920715332,-8.294528007507324,-0.3382381200790405,-0.1848972737789154,2.623577117919922,3.185392379760742,0.7185541391372681,9.92853832244873,7.989401817321777,0.4437943994998932,13.392218589782715,5.031153678894043,16.522741317749023,7.528223514556885,1.310030460357666,3.315183401107788,-2.22983455657959,2.9020493030548096,-2.7006466388702393,6.550014495849609,6.218997955322266,9.00107479095459,-4.866016864776611,-0.5090080499649048,-36.22897720336914,29.72475814819336,19.285625457763672,-3.7938811779022217,17.603193283081055,16.43360137939453,-44.841007232666016,7.3989033699035645,0.17561934888362885,5.1183762550354,-25.216297149658203,-6.749855995178223,-5.5228705406188965,-37.26611328125,5.001793384552002,2.5137743949890137,22.569751739501953],\"xaxis\":\"x\",\"y\":[12.194188117980957,12.212465286254883,9.995682716369629,16.35604476928711,9.61700439453125,13.587387084960938,2.701781749725342,31.638084411621094,0.2678185999393463,2.3933017253875732,17.872005462646484,-5.113882064819336,10.242650032043457,9.55949592590332,31.001056671142578,-3.190929651260376,20.08700942993164,30.11279296875,12.600473403930664,11.241421699523926,-38.39790725708008,-30.47284507751465,-3.7094006538391113,28.378158569335938,17.560462951660156,-10.474061965942383,-24.463991165161133,-38.3272590637207,-50.01163864135742,-23.66826057434082,-39.18031311035156,39.48381423950195,-3.1227431297302246,-5.572538375854492,27.073318481445312,-5.993692398071289,-0.7017602324485779,25.290868759155273,37.09182357788086,27.1086368560791,51.71099090576172,-11.95143985748291,53.61904525756836,21.079442977905273,20.129972457885742,-29.28147315979004,-12.83061695098877,10.445282936096191,15.566266059875488,-4.999434947967529,23.190155029296875,-48.503475189208984,-50.22663497924805,-5.25364351272583,-32.22018814086914,-7.284231662750244,18.928815841674805,55.314571380615234,-47.24811553955078,3.3487489223480225,14.829386711120605,37.08194351196289,13.366779327392578,-8.172948837280273,15.159002304077148,-32.85355758666992,12.688307762145996,-33.70063018798828,-30.71615219116211,-38.39888381958008,-38.65172576904297,-22.111347198486328,-40.243167877197266,60.422950744628906,-39.007999420166016,-44.918052673339844,-47.424072265625,11.65766716003418,13.155549049377441,34.51011276245117,-23.90996742248535,-17.108116149902344,-43.23685073852539,-20.7341365814209,-20.083358764648438,-36.5211067199707,-36.330406188964844,-25.402233123779297,-26.312984466552734,-5.835149765014648,13.665647506713867,-14.178088188171387,6.121201992034912,1.5020942687988281,-3.1088194847106934,-2.1007838249206543,-13.666179656982422,5.865464210510254,-2.873704433441162,8.316275596618652,-31.466657638549805,16.288053512573242,-30.62847328186035,31.260082244873047,57.30226135253906,-49.661766052246094,18.51300621032715,-42.20293045043945,7.993906497955322,13.36419677734375,56.386898040771484,-51.46763229370117,-49.27803421020508,-23.131988525390625,36.7420539855957,-39.96421432495117,-38.74003601074219,-36.664493560791016,57.5120735168457,22.61684799194336,66.93488311767578,56.91551971435547,25.194278717041016,16.2548770904541,59.778018951416016,29.31562614440918,11.480595588684082,61.72647476196289,60.419620513916016,24.188753128051758,24.16132354736328,27.57636833190918,59.15401077270508,17.268657684326172,66.26795959472656,67.55245208740234,62.80873107910156,-25.748220443725586,-46.363616943359375,-26.132787704467773,39.34590530395508,-27.55886459350586,-29.44281578063965,-0.4512046277523041,7.7523579597473145,29.204551696777344,-40.497352600097656,20.478439331054688,-10.00610637664795,68.39264678955078,-25.788917541503906,63.952030181884766,27.488037109375,-49.350650787353516],\"yaxis\":\"y\",\"type\":\"scatter\"}],                        {\"template\":{\"data\":{\"histogram2dcontour\":[{\"type\":\"histogram2dcontour\",\"colorbar\":{\"outlinewidth\":0,\"ticks\":\"\"},\"colorscale\":[[0.0,\"#0d0887\"],[0.1111111111111111,\"#46039f\"],[0.2222222222222222,\"#7201a8\"],[0.3333333333333333,\"#9c179e\"],[0.4444444444444444,\"#bd3786\"],[0.5555555555555556,\"#d8576b\"],[0.6666666666666666,\"#ed7953\"],[0.7777777777777778,\"#fb9f3a\"],[0.8888888888888888,\"#fdca26\"],[1.0,\"#f0f921\"]]}],\"choropleth\":[{\"type\":\"choropleth\",\"colorbar\":{\"outlinewidth\":0,\"ticks\":\"\"}}],\"histogram2d\":[{\"type\":\"histogram2d\",\"colorbar\":{\"outlinewidth\":0,\"ticks\":\"\"},\"colorscale\":[[0.0,\"#0d0887\"],[0.1111111111111111,\"#46039f\"],[0.2222222222222222,\"#7201a8\"],[0.3333333333333333,\"#9c179e\"],[0.4444444444444444,\"#bd3786\"],[0.5555555555555556,\"#d8576b\"],[0.6666666666666666,\"#ed7953\"],[0.7777777777777778,\"#fb9f3a\"],[0.8888888888888888,\"#fdca26\"],[1.0,\"#f0f921\"]]}],\"heatmap\":[{\"type\":\"heatmap\",\"colorbar\":{\"outlinewidth\":0,\"ticks\":\"\"},\"colorscale\":[[0.0,\"#0d0887\"],[0.1111111111111111,\"#46039f\"],[0.2222222222222222,\"#7201a8\"],[0.3333333333333333,\"#9c179e\"],[0.4444444444444444,\"#bd3786\"],[0.5555555555555556,\"#d8576b\"],[0.6666666666666666,\"#ed7953\"],[0.7777777777777778,\"#fb9f3a\"],[0.8888888888888888,\"#fdca26\"],[1.0,\"#f0f921\"]]}],\"heatmapgl\":[{\"type\":\"heatmapgl\",\"colorbar\":{\"outlinewidth\":0,\"ticks\":\"\"},\"colorscale\":[[0.0,\"#0d0887\"],[0.1111111111111111,\"#46039f\"],[0.2222222222222222,\"#7201a8\"],[0.3333333333333333,\"#9c179e\"],[0.4444444444444444,\"#bd3786\"],[0.5555555555555556,\"#d8576b\"],[0.6666666666666666,\"#ed7953\"],[0.7777777777777778,\"#fb9f3a\"],[0.8888888888888888,\"#fdca26\"],[1.0,\"#f0f921\"]]}],\"contourcarpet\":[{\"type\":\"contourcarpet\",\"colorbar\":{\"outlinewidth\":0,\"ticks\":\"\"}}],\"contour\":[{\"type\":\"contour\",\"colorbar\":{\"outlinewidth\":0,\"ticks\":\"\"},\"colorscale\":[[0.0,\"#0d0887\"],[0.1111111111111111,\"#46039f\"],[0.2222222222222222,\"#7201a8\"],[0.3333333333333333,\"#9c179e\"],[0.4444444444444444,\"#bd3786\"],[0.5555555555555556,\"#d8576b\"],[0.6666666666666666,\"#ed7953\"],[0.7777777777777778,\"#fb9f3a\"],[0.8888888888888888,\"#fdca26\"],[1.0,\"#f0f921\"]]}],\"surface\":[{\"type\":\"surface\",\"colorbar\":{\"outlinewidth\":0,\"ticks\":\"\"},\"colorscale\":[[0.0,\"#0d0887\"],[0.1111111111111111,\"#46039f\"],[0.2222222222222222,\"#7201a8\"],[0.3333333333333333,\"#9c179e\"],[0.4444444444444444,\"#bd3786\"],[0.5555555555555556,\"#d8576b\"],[0.6666666666666666,\"#ed7953\"],[0.7777777777777778,\"#fb9f3a\"],[0.8888888888888888,\"#fdca26\"],[1.0,\"#f0f921\"]]}],\"mesh3d\":[{\"type\":\"mesh3d\",\"colorbar\":{\"outlinewidth\":0,\"ticks\":\"\"}}],\"scatter\":[{\"fillpattern\":{\"fillmode\":\"overlay\",\"size\":10,\"solidity\":0.2},\"type\":\"scatter\"}],\"parcoords\":[{\"type\":\"parcoords\",\"line\":{\"colorbar\":{\"outlinewidth\":0,\"ticks\":\"\"}}}],\"scatterpolargl\":[{\"type\":\"scatterpolargl\",\"marker\":{\"colorbar\":{\"outlinewidth\":0,\"ticks\":\"\"}}}],\"bar\":[{\"error_x\":{\"color\":\"#2a3f5f\"},\"error_y\":{\"color\":\"#2a3f5f\"},\"marker\":{\"line\":{\"color\":\"#E5ECF6\",\"width\":0.5},\"pattern\":{\"fillmode\":\"overlay\",\"size\":10,\"solidity\":0.2}},\"type\":\"bar\"}],\"scattergeo\":[{\"type\":\"scattergeo\",\"marker\":{\"colorbar\":{\"outlinewidth\":0,\"ticks\":\"\"}}}],\"scatterpolar\":[{\"type\":\"scatterpolar\",\"marker\":{\"colorbar\":{\"outlinewidth\":0,\"ticks\":\"\"}}}],\"histogram\":[{\"marker\":{\"pattern\":{\"fillmode\":\"overlay\",\"size\":10,\"solidity\":0.2}},\"type\":\"histogram\"}],\"scattergl\":[{\"type\":\"scattergl\",\"marker\":{\"colorbar\":{\"outlinewidth\":0,\"ticks\":\"\"}}}],\"scatter3d\":[{\"type\":\"scatter3d\",\"line\":{\"colorbar\":{\"outlinewidth\":0,\"ticks\":\"\"}},\"marker\":{\"colorbar\":{\"outlinewidth\":0,\"ticks\":\"\"}}}],\"scattermapbox\":[{\"type\":\"scattermapbox\",\"marker\":{\"colorbar\":{\"outlinewidth\":0,\"ticks\":\"\"}}}],\"scatterternary\":[{\"type\":\"scatterternary\",\"marker\":{\"colorbar\":{\"outlinewidth\":0,\"ticks\":\"\"}}}],\"scattercarpet\":[{\"type\":\"scattercarpet\",\"marker\":{\"colorbar\":{\"outlinewidth\":0,\"ticks\":\"\"}}}],\"carpet\":[{\"aaxis\":{\"endlinecolor\":\"#2a3f5f\",\"gridcolor\":\"white\",\"linecolor\":\"white\",\"minorgridcolor\":\"white\",\"startlinecolor\":\"#2a3f5f\"},\"baxis\":{\"endlinecolor\":\"#2a3f5f\",\"gridcolor\":\"white\",\"linecolor\":\"white\",\"minorgridcolor\":\"white\",\"startlinecolor\":\"#2a3f5f\"},\"type\":\"carpet\"}],\"table\":[{\"cells\":{\"fill\":{\"color\":\"#EBF0F8\"},\"line\":{\"color\":\"white\"}},\"header\":{\"fill\":{\"color\":\"#C8D4E3\"},\"line\":{\"color\":\"white\"}},\"type\":\"table\"}],\"barpolar\":[{\"marker\":{\"line\":{\"color\":\"#E5ECF6\",\"width\":0.5},\"pattern\":{\"fillmode\":\"overlay\",\"size\":10,\"solidity\":0.2}},\"type\":\"barpolar\"}],\"pie\":[{\"automargin\":true,\"type\":\"pie\"}]},\"layout\":{\"autotypenumbers\":\"strict\",\"colorway\":[\"#636efa\",\"#EF553B\",\"#00cc96\",\"#ab63fa\",\"#FFA15A\",\"#19d3f3\",\"#FF6692\",\"#B6E880\",\"#FF97FF\",\"#FECB52\"],\"font\":{\"color\":\"#2a3f5f\"},\"hovermode\":\"closest\",\"hoverlabel\":{\"align\":\"left\"},\"paper_bgcolor\":\"white\",\"plot_bgcolor\":\"#E5ECF6\",\"polar\":{\"bgcolor\":\"#E5ECF6\",\"angularaxis\":{\"gridcolor\":\"white\",\"linecolor\":\"white\",\"ticks\":\"\"},\"radialaxis\":{\"gridcolor\":\"white\",\"linecolor\":\"white\",\"ticks\":\"\"}},\"ternary\":{\"bgcolor\":\"#E5ECF6\",\"aaxis\":{\"gridcolor\":\"white\",\"linecolor\":\"white\",\"ticks\":\"\"},\"baxis\":{\"gridcolor\":\"white\",\"linecolor\":\"white\",\"ticks\":\"\"},\"caxis\":{\"gridcolor\":\"white\",\"linecolor\":\"white\",\"ticks\":\"\"}},\"coloraxis\":{\"colorbar\":{\"outlinewidth\":0,\"ticks\":\"\"}},\"colorscale\":{\"sequential\":[[0.0,\"#0d0887\"],[0.1111111111111111,\"#46039f\"],[0.2222222222222222,\"#7201a8\"],[0.3333333333333333,\"#9c179e\"],[0.4444444444444444,\"#bd3786\"],[0.5555555555555556,\"#d8576b\"],[0.6666666666666666,\"#ed7953\"],[0.7777777777777778,\"#fb9f3a\"],[0.8888888888888888,\"#fdca26\"],[1.0,\"#f0f921\"]],\"sequentialminus\":[[0.0,\"#0d0887\"],[0.1111111111111111,\"#46039f\"],[0.2222222222222222,\"#7201a8\"],[0.3333333333333333,\"#9c179e\"],[0.4444444444444444,\"#bd3786\"],[0.5555555555555556,\"#d8576b\"],[0.6666666666666666,\"#ed7953\"],[0.7777777777777778,\"#fb9f3a\"],[0.8888888888888888,\"#fdca26\"],[1.0,\"#f0f921\"]],\"diverging\":[[0,\"#8e0152\"],[0.1,\"#c51b7d\"],[0.2,\"#de77ae\"],[0.3,\"#f1b6da\"],[0.4,\"#fde0ef\"],[0.5,\"#f7f7f7\"],[0.6,\"#e6f5d0\"],[0.7,\"#b8e186\"],[0.8,\"#7fbc41\"],[0.9,\"#4d9221\"],[1,\"#276419\"]]},\"xaxis\":{\"gridcolor\":\"white\",\"linecolor\":\"white\",\"ticks\":\"\",\"title\":{\"standoff\":15},\"zerolinecolor\":\"white\",\"automargin\":true,\"zerolinewidth\":2},\"yaxis\":{\"gridcolor\":\"white\",\"linecolor\":\"white\",\"ticks\":\"\",\"title\":{\"standoff\":15},\"zerolinecolor\":\"white\",\"automargin\":true,\"zerolinewidth\":2},\"scene\":{\"xaxis\":{\"backgroundcolor\":\"#E5ECF6\",\"gridcolor\":\"white\",\"linecolor\":\"white\",\"showbackground\":true,\"ticks\":\"\",\"zerolinecolor\":\"white\",\"gridwidth\":2},\"yaxis\":{\"backgroundcolor\":\"#E5ECF6\",\"gridcolor\":\"white\",\"linecolor\":\"white\",\"showbackground\":true,\"ticks\":\"\",\"zerolinecolor\":\"white\",\"gridwidth\":2},\"zaxis\":{\"backgroundcolor\":\"#E5ECF6\",\"gridcolor\":\"white\",\"linecolor\":\"white\",\"showbackground\":true,\"ticks\":\"\",\"zerolinecolor\":\"white\",\"gridwidth\":2}},\"shapedefaults\":{\"line\":{\"color\":\"#2a3f5f\"}},\"annotationdefaults\":{\"arrowcolor\":\"#2a3f5f\",\"arrowhead\":0,\"arrowwidth\":1},\"geo\":{\"bgcolor\":\"white\",\"landcolor\":\"#E5ECF6\",\"subunitcolor\":\"white\",\"showland\":true,\"showlakes\":true,\"lakecolor\":\"white\"},\"title\":{\"x\":0.05},\"mapbox\":{\"style\":\"light\"}}},\"xaxis\":{\"anchor\":\"y\",\"domain\":[0.0,1.0],\"title\":{\"text\":\"0\"}},\"yaxis\":{\"anchor\":\"x\",\"domain\":[0.0,1.0],\"title\":{\"text\":\"1\"}},\"coloraxis\":{\"colorbar\":{\"title\":{\"text\":\"color\"}},\"colorscale\":[[0.0,\"#0d0887\"],[0.1111111111111111,\"#46039f\"],[0.2222222222222222,\"#7201a8\"],[0.3333333333333333,\"#9c179e\"],[0.4444444444444444,\"#bd3786\"],[0.5555555555555556,\"#d8576b\"],[0.6666666666666666,\"#ed7953\"],[0.7777777777777778,\"#fb9f3a\"],[0.8888888888888888,\"#fdca26\"],[1.0,\"#f0f921\"]]},\"legend\":{\"tracegroupgap\":0},\"margin\":{\"t\":60},\"title\":{\"text\":\"Plant Microbes by Species TSNE Perplexity-Value = 3\"}},                        {\"responsive\": true}                    ).then(function(){\n",
       "                            \n",
       "var gd = document.getElementById('e6d1ec52-4303-4b3d-80e0-bec2444630fd');\n",
       "var x = new MutationObserver(function (mutations, observer) {{\n",
       "        var display = window.getComputedStyle(gd).display;\n",
       "        if (!display || display === 'none') {{\n",
       "            console.log([gd, 'removed!']);\n",
       "            Plotly.purge(gd);\n",
       "            observer.disconnect();\n",
       "        }}\n",
       "}});\n",
       "\n",
       "// Listen for the removal of the full notebook cells\n",
       "var notebookContainer = gd.closest('#notebook-container');\n",
       "if (notebookContainer) {{\n",
       "    x.observe(notebookContainer, {childList: true});\n",
       "}}\n",
       "\n",
       "// Listen for the clearing of the current output cell\n",
       "var outputEl = gd.closest('.output');\n",
       "if (outputEl) {{\n",
       "    x.observe(outputEl, {childList: true});\n",
       "}}\n",
       "\n",
       "                        })                };                });            </script>        </div>"
      ]
     },
     "metadata": {},
     "output_type": "display_data"
    }
   ],
   "source": [
    "X = pivoted_df[top_100.index]\n",
    "\n",
    "perplexity_value = 3 # Change this to your desired perplexity\n",
    "\n",
    "tsne = TSNE(n_components=2, perplexity=perplexity_value, random_state=42)\n",
    "tsne_transformed = tsne.fit_transform(X)\n",
    "\n",
    "\n",
    "fig = px.scatter(tsne_transformed, x=0, y=1, color=pivoted_df['V2'])\n",
    "fig.update_layout(title = 'Plant Microbes by Species TSNE Perplexity-Value = ' + str(perplexity_value))\n",
    "fig.show()"
   ]
  },
  {
   "cell_type": "code",
   "execution_count": 255,
   "id": "be7d77bd",
   "metadata": {},
   "outputs": [],
   "source": [
    "def get_X_top_microbes(df, x_Num):\n",
    "    df.astype(float)\n",
    "    sum_row = df.sum()\n",
    "    top_X = sum_row.nlargest(x_Num)\n",
    "    select_columns = (top_X.index).tolist()\n",
    "    select_columns.insert(0, 'sample_id')\n",
    "    select_columns.insert(0, 'site_id')\n",
    "    select_columns.insert(0, 'species')\n",
    "    return select_columns"
   ]
  },
  {
   "cell_type": "markdown",
   "id": "4893e5d7",
   "metadata": {},
   "source": [
    "### Create PCA With Top 500 Most Abundant Genera"
   ]
  },
  {
   "cell_type": "code",
   "execution_count": 256,
   "id": "0d39ddef",
   "metadata": {},
   "outputs": [],
   "source": [
    "cols = get_X_top_microbes(origin_pivoted_df[genera_col], 500)"
   ]
  },
  {
   "cell_type": "code",
   "execution_count": 267,
   "id": "7f3193cc",
   "metadata": {},
   "outputs": [],
   "source": [
    "newdf = origin_pivoted_df[cols]"
   ]
  },
  {
   "cell_type": "code",
   "execution_count": 268,
   "id": "f84be71d",
   "metadata": {},
   "outputs": [],
   "source": [
    "genera_cols = newdf.columns.drop(['sample_id', 'site_id', 'species'])"
   ]
  },
  {
   "cell_type": "code",
   "execution_count": 269,
   "id": "739c7997",
   "metadata": {
    "collapsed": true
   },
   "outputs": [
    {
     "data": {
      "text/html": [
       "<div>\n",
       "<style scoped>\n",
       "    .dataframe tbody tr th:only-of-type {\n",
       "        vertical-align: middle;\n",
       "    }\n",
       "\n",
       "    .dataframe tbody tr th {\n",
       "        vertical-align: top;\n",
       "    }\n",
       "\n",
       "    .dataframe thead th {\n",
       "        text-align: right;\n",
       "    }\n",
       "</style>\n",
       "<table border=\"1\" class=\"dataframe\">\n",
       "  <thead>\n",
       "    <tr style=\"text-align: right;\">\n",
       "      <th>genera</th>\n",
       "      <th>Bacteria|Cyanobacteria||Synechococcales|Synechococcaceae|Synechococcus</th>\n",
       "      <th>Bacteria|Cyanobacteria||Synechococcales|Synechococcaceae|Thermosynechococcus</th>\n",
       "      <th>Bacteria|Cyanobacteria||Synechococcales|Prochloraceae|Prochlorococcus</th>\n",
       "      <th>Bacteria|Cyanobacteria||Gloeoemargaritales|Gloeomargaritaceae|Gloeomargarita</th>\n",
       "      <th>Eukaryota||Chlorarachniophyceae|||Lotharella</th>\n",
       "      <th>Bacteria|Proteobacteria|Gammaproteobacteria|Pseudomonadales|Pseudomonadaceae|Pseudomonas</th>\n",
       "      <th>Bacteria|Firmicutes|Clostridia|Clostridiales|Clostridiaceae|Clostridium</th>\n",
       "      <th>Bacteria|Cyanobacteria||Chroococcales|Microcystaceae|Microcystis</th>\n",
       "      <th>Bacteria|Cyanobacteria||Synechococcales|Leptolyngbyaceae|Leptolyngbya</th>\n",
       "      <th>Bacteria|Tenericutes|Mollicutes|Entomoplasmatales|Spiroplasmataceae|Spiroplasma</th>\n",
       "      <th>...</th>\n",
       "      <th>Bacteria|Proteobacteria|Gammaproteobacteria|Cellvibrionales|Microbulbiferaceae|Microbulbifer</th>\n",
       "      <th>Bacteria|Proteobacteria|Alphaproteobacteria|Sphingomonadales|Sphingomonadaceae|Citromicrobium</th>\n",
       "      <th>Eukaryota|Cryptomycota||||Paramicrosporidium</th>\n",
       "      <th>Bacteria|Proteobacteria|Alphaproteobacteria|Rhizobiales|Hyphomicrobiaceae|Pelagibacterium</th>\n",
       "      <th>Bacteria|Proteobacteria|Alphaproteobacteria|Rhodospirillales|Rhodospirillaceae|Rhodovibrio</th>\n",
       "      <th>Bacteria|Proteobacteria|Gammaproteobacteria|Enterobacterales|Enterobacteriaceae|Lelliottia</th>\n",
       "      <th>Bacteria|Proteobacteria|Betaproteobacteria|Neisseriales|Chromobacteriaceae|Jeongeupia</th>\n",
       "      <th>Bacteria|Actinobacteria|Actinobacteria|Catenulisporales|Catenulisporaceae|Catenulispora</th>\n",
       "      <th>Bacteria|Proteobacteria|Deltaproteobacteria|Myxococcales|Anaeromyxobacteraceae|Anaeromyxobacter</th>\n",
       "      <th>Bacteria|Proteobacteria|Gammaproteobacteria|Chromatiales|Ectothiorhodospiraceae|Thioalkalivibrio</th>\n",
       "    </tr>\n",
       "  </thead>\n",
       "  <tbody>\n",
       "    <tr>\n",
       "      <th>0</th>\n",
       "      <td>0.251082</td>\n",
       "      <td>0.109277</td>\n",
       "      <td>0.040132</td>\n",
       "      <td>0.037915</td>\n",
       "      <td>0.032095</td>\n",
       "      <td>0.022154</td>\n",
       "      <td>0.005456</td>\n",
       "      <td>0.019813</td>\n",
       "      <td>0.020639</td>\n",
       "      <td>0.025652</td>\n",
       "      <td>...</td>\n",
       "      <td>0.000000</td>\n",
       "      <td>0.000023</td>\n",
       "      <td>0.000003</td>\n",
       "      <td>0.000463</td>\n",
       "      <td>0.0</td>\n",
       "      <td>0.00000</td>\n",
       "      <td>0.000000</td>\n",
       "      <td>0.0</td>\n",
       "      <td>0.000000</td>\n",
       "      <td>0.000021</td>\n",
       "    </tr>\n",
       "    <tr>\n",
       "      <th>1</th>\n",
       "      <td>0.229215</td>\n",
       "      <td>0.108392</td>\n",
       "      <td>0.047850</td>\n",
       "      <td>0.043322</td>\n",
       "      <td>0.032733</td>\n",
       "      <td>0.033949</td>\n",
       "      <td>0.005406</td>\n",
       "      <td>0.016569</td>\n",
       "      <td>0.017079</td>\n",
       "      <td>0.009108</td>\n",
       "      <td>...</td>\n",
       "      <td>0.000000</td>\n",
       "      <td>0.000053</td>\n",
       "      <td>0.000095</td>\n",
       "      <td>0.000000</td>\n",
       "      <td>0.0</td>\n",
       "      <td>0.00000</td>\n",
       "      <td>0.000000</td>\n",
       "      <td>0.0</td>\n",
       "      <td>0.000000</td>\n",
       "      <td>0.000000</td>\n",
       "    </tr>\n",
       "    <tr>\n",
       "      <th>2</th>\n",
       "      <td>0.248940</td>\n",
       "      <td>0.130199</td>\n",
       "      <td>0.066974</td>\n",
       "      <td>0.037310</td>\n",
       "      <td>0.042894</td>\n",
       "      <td>0.035666</td>\n",
       "      <td>0.010133</td>\n",
       "      <td>0.019148</td>\n",
       "      <td>0.017978</td>\n",
       "      <td>0.024753</td>\n",
       "      <td>...</td>\n",
       "      <td>0.000000</td>\n",
       "      <td>0.000000</td>\n",
       "      <td>0.000008</td>\n",
       "      <td>0.000000</td>\n",
       "      <td>0.0</td>\n",
       "      <td>0.00000</td>\n",
       "      <td>0.000000</td>\n",
       "      <td>0.0</td>\n",
       "      <td>0.000000</td>\n",
       "      <td>0.000000</td>\n",
       "    </tr>\n",
       "    <tr>\n",
       "      <th>3</th>\n",
       "      <td>0.207900</td>\n",
       "      <td>0.115806</td>\n",
       "      <td>0.037190</td>\n",
       "      <td>0.045575</td>\n",
       "      <td>0.039696</td>\n",
       "      <td>0.022566</td>\n",
       "      <td>0.010152</td>\n",
       "      <td>0.017804</td>\n",
       "      <td>0.022806</td>\n",
       "      <td>0.027088</td>\n",
       "      <td>...</td>\n",
       "      <td>0.000000</td>\n",
       "      <td>0.000000</td>\n",
       "      <td>0.000000</td>\n",
       "      <td>0.000000</td>\n",
       "      <td>0.0</td>\n",
       "      <td>0.00000</td>\n",
       "      <td>0.000000</td>\n",
       "      <td>0.0</td>\n",
       "      <td>0.000000</td>\n",
       "      <td>0.000000</td>\n",
       "    </tr>\n",
       "    <tr>\n",
       "      <th>4</th>\n",
       "      <td>0.115334</td>\n",
       "      <td>0.067272</td>\n",
       "      <td>0.002857</td>\n",
       "      <td>0.033787</td>\n",
       "      <td>0.023724</td>\n",
       "      <td>0.208106</td>\n",
       "      <td>0.055318</td>\n",
       "      <td>0.026221</td>\n",
       "      <td>0.009993</td>\n",
       "      <td>0.018769</td>\n",
       "      <td>...</td>\n",
       "      <td>0.000172</td>\n",
       "      <td>0.000079</td>\n",
       "      <td>0.000000</td>\n",
       "      <td>0.000000</td>\n",
       "      <td>0.0</td>\n",
       "      <td>0.00006</td>\n",
       "      <td>0.000246</td>\n",
       "      <td>0.0</td>\n",
       "      <td>0.000144</td>\n",
       "      <td>0.000971</td>\n",
       "    </tr>\n",
       "    <tr>\n",
       "      <th>...</th>\n",
       "      <td>...</td>\n",
       "      <td>...</td>\n",
       "      <td>...</td>\n",
       "      <td>...</td>\n",
       "      <td>...</td>\n",
       "      <td>...</td>\n",
       "      <td>...</td>\n",
       "      <td>...</td>\n",
       "      <td>...</td>\n",
       "      <td>...</td>\n",
       "      <td>...</td>\n",
       "      <td>...</td>\n",
       "      <td>...</td>\n",
       "      <td>...</td>\n",
       "      <td>...</td>\n",
       "      <td>...</td>\n",
       "      <td>...</td>\n",
       "      <td>...</td>\n",
       "      <td>...</td>\n",
       "      <td>...</td>\n",
       "      <td>...</td>\n",
       "    </tr>\n",
       "    <tr>\n",
       "      <th>160</th>\n",
       "      <td>0.111228</td>\n",
       "      <td>0.098192</td>\n",
       "      <td>0.042100</td>\n",
       "      <td>0.024829</td>\n",
       "      <td>0.047077</td>\n",
       "      <td>0.024255</td>\n",
       "      <td>0.007749</td>\n",
       "      <td>0.014598</td>\n",
       "      <td>0.011725</td>\n",
       "      <td>0.020289</td>\n",
       "      <td>...</td>\n",
       "      <td>0.000000</td>\n",
       "      <td>0.000000</td>\n",
       "      <td>0.000032</td>\n",
       "      <td>0.000000</td>\n",
       "      <td>0.0</td>\n",
       "      <td>0.00000</td>\n",
       "      <td>0.000000</td>\n",
       "      <td>0.0</td>\n",
       "      <td>0.000000</td>\n",
       "      <td>0.000000</td>\n",
       "    </tr>\n",
       "    <tr>\n",
       "      <th>161</th>\n",
       "      <td>0.158455</td>\n",
       "      <td>0.099516</td>\n",
       "      <td>0.047186</td>\n",
       "      <td>0.026758</td>\n",
       "      <td>0.039410</td>\n",
       "      <td>0.023425</td>\n",
       "      <td>0.009242</td>\n",
       "      <td>0.016238</td>\n",
       "      <td>0.011032</td>\n",
       "      <td>0.015572</td>\n",
       "      <td>...</td>\n",
       "      <td>0.000000</td>\n",
       "      <td>0.000000</td>\n",
       "      <td>0.000006</td>\n",
       "      <td>0.000061</td>\n",
       "      <td>0.0</td>\n",
       "      <td>0.00000</td>\n",
       "      <td>0.000000</td>\n",
       "      <td>0.0</td>\n",
       "      <td>0.000000</td>\n",
       "      <td>0.000000</td>\n",
       "    </tr>\n",
       "    <tr>\n",
       "      <th>162</th>\n",
       "      <td>0.190285</td>\n",
       "      <td>0.108226</td>\n",
       "      <td>0.049673</td>\n",
       "      <td>0.031467</td>\n",
       "      <td>0.048670</td>\n",
       "      <td>0.016975</td>\n",
       "      <td>0.022262</td>\n",
       "      <td>0.000202</td>\n",
       "      <td>0.010868</td>\n",
       "      <td>0.009011</td>\n",
       "      <td>...</td>\n",
       "      <td>0.000000</td>\n",
       "      <td>0.000000</td>\n",
       "      <td>0.000000</td>\n",
       "      <td>0.000000</td>\n",
       "      <td>0.0</td>\n",
       "      <td>0.00000</td>\n",
       "      <td>0.000000</td>\n",
       "      <td>0.0</td>\n",
       "      <td>0.000000</td>\n",
       "      <td>0.000000</td>\n",
       "    </tr>\n",
       "    <tr>\n",
       "      <th>163</th>\n",
       "      <td>0.152850</td>\n",
       "      <td>0.120529</td>\n",
       "      <td>0.069768</td>\n",
       "      <td>0.041159</td>\n",
       "      <td>0.040659</td>\n",
       "      <td>0.080195</td>\n",
       "      <td>0.008704</td>\n",
       "      <td>0.021942</td>\n",
       "      <td>0.019087</td>\n",
       "      <td>0.010170</td>\n",
       "      <td>...</td>\n",
       "      <td>0.000000</td>\n",
       "      <td>0.000000</td>\n",
       "      <td>0.000018</td>\n",
       "      <td>0.000000</td>\n",
       "      <td>0.0</td>\n",
       "      <td>0.00000</td>\n",
       "      <td>0.000000</td>\n",
       "      <td>0.0</td>\n",
       "      <td>0.000000</td>\n",
       "      <td>0.000000</td>\n",
       "    </tr>\n",
       "    <tr>\n",
       "      <th>164</th>\n",
       "      <td>0.126501</td>\n",
       "      <td>0.113681</td>\n",
       "      <td>0.063480</td>\n",
       "      <td>0.038583</td>\n",
       "      <td>0.043207</td>\n",
       "      <td>0.027623</td>\n",
       "      <td>0.013501</td>\n",
       "      <td>0.032229</td>\n",
       "      <td>0.017795</td>\n",
       "      <td>0.029251</td>\n",
       "      <td>...</td>\n",
       "      <td>0.000000</td>\n",
       "      <td>0.000110</td>\n",
       "      <td>0.000007</td>\n",
       "      <td>0.000030</td>\n",
       "      <td>0.0</td>\n",
       "      <td>0.00000</td>\n",
       "      <td>0.000000</td>\n",
       "      <td>0.0</td>\n",
       "      <td>0.000000</td>\n",
       "      <td>0.000000</td>\n",
       "    </tr>\n",
       "  </tbody>\n",
       "</table>\n",
       "<p>165 rows × 500 columns</p>\n",
       "</div>"
      ],
      "text/plain": [
       "genera  Bacteria|Cyanobacteria||Synechococcales|Synechococcaceae|Synechococcus  \\\n",
       "0                                                0.251082                        \n",
       "1                                                0.229215                        \n",
       "2                                                0.248940                        \n",
       "3                                                0.207900                        \n",
       "4                                                0.115334                        \n",
       "..                                                    ...                        \n",
       "160                                              0.111228                        \n",
       "161                                              0.158455                        \n",
       "162                                              0.190285                        \n",
       "163                                              0.152850                        \n",
       "164                                              0.126501                        \n",
       "\n",
       "genera  Bacteria|Cyanobacteria||Synechococcales|Synechococcaceae|Thermosynechococcus  \\\n",
       "0                                                0.109277                              \n",
       "1                                                0.108392                              \n",
       "2                                                0.130199                              \n",
       "3                                                0.115806                              \n",
       "4                                                0.067272                              \n",
       "..                                                    ...                              \n",
       "160                                              0.098192                              \n",
       "161                                              0.099516                              \n",
       "162                                              0.108226                              \n",
       "163                                              0.120529                              \n",
       "164                                              0.113681                              \n",
       "\n",
       "genera  Bacteria|Cyanobacteria||Synechococcales|Prochloraceae|Prochlorococcus  \\\n",
       "0                                                0.040132                       \n",
       "1                                                0.047850                       \n",
       "2                                                0.066974                       \n",
       "3                                                0.037190                       \n",
       "4                                                0.002857                       \n",
       "..                                                    ...                       \n",
       "160                                              0.042100                       \n",
       "161                                              0.047186                       \n",
       "162                                              0.049673                       \n",
       "163                                              0.069768                       \n",
       "164                                              0.063480                       \n",
       "\n",
       "genera  Bacteria|Cyanobacteria||Gloeoemargaritales|Gloeomargaritaceae|Gloeomargarita  \\\n",
       "0                                                0.037915                              \n",
       "1                                                0.043322                              \n",
       "2                                                0.037310                              \n",
       "3                                                0.045575                              \n",
       "4                                                0.033787                              \n",
       "..                                                    ...                              \n",
       "160                                              0.024829                              \n",
       "161                                              0.026758                              \n",
       "162                                              0.031467                              \n",
       "163                                              0.041159                              \n",
       "164                                              0.038583                              \n",
       "\n",
       "genera  Eukaryota||Chlorarachniophyceae|||Lotharella  \\\n",
       "0                                           0.032095   \n",
       "1                                           0.032733   \n",
       "2                                           0.042894   \n",
       "3                                           0.039696   \n",
       "4                                           0.023724   \n",
       "..                                               ...   \n",
       "160                                         0.047077   \n",
       "161                                         0.039410   \n",
       "162                                         0.048670   \n",
       "163                                         0.040659   \n",
       "164                                         0.043207   \n",
       "\n",
       "genera  Bacteria|Proteobacteria|Gammaproteobacteria|Pseudomonadales|Pseudomonadaceae|Pseudomonas  \\\n",
       "0                                                0.022154                                          \n",
       "1                                                0.033949                                          \n",
       "2                                                0.035666                                          \n",
       "3                                                0.022566                                          \n",
       "4                                                0.208106                                          \n",
       "..                                                    ...                                          \n",
       "160                                              0.024255                                          \n",
       "161                                              0.023425                                          \n",
       "162                                              0.016975                                          \n",
       "163                                              0.080195                                          \n",
       "164                                              0.027623                                          \n",
       "\n",
       "genera  Bacteria|Firmicutes|Clostridia|Clostridiales|Clostridiaceae|Clostridium  \\\n",
       "0                                                0.005456                         \n",
       "1                                                0.005406                         \n",
       "2                                                0.010133                         \n",
       "3                                                0.010152                         \n",
       "4                                                0.055318                         \n",
       "..                                                    ...                         \n",
       "160                                              0.007749                         \n",
       "161                                              0.009242                         \n",
       "162                                              0.022262                         \n",
       "163                                              0.008704                         \n",
       "164                                              0.013501                         \n",
       "\n",
       "genera  Bacteria|Cyanobacteria||Chroococcales|Microcystaceae|Microcystis  \\\n",
       "0                                                0.019813                  \n",
       "1                                                0.016569                  \n",
       "2                                                0.019148                  \n",
       "3                                                0.017804                  \n",
       "4                                                0.026221                  \n",
       "..                                                    ...                  \n",
       "160                                              0.014598                  \n",
       "161                                              0.016238                  \n",
       "162                                              0.000202                  \n",
       "163                                              0.021942                  \n",
       "164                                              0.032229                  \n",
       "\n",
       "genera  Bacteria|Cyanobacteria||Synechococcales|Leptolyngbyaceae|Leptolyngbya  \\\n",
       "0                                                0.020639                       \n",
       "1                                                0.017079                       \n",
       "2                                                0.017978                       \n",
       "3                                                0.022806                       \n",
       "4                                                0.009993                       \n",
       "..                                                    ...                       \n",
       "160                                              0.011725                       \n",
       "161                                              0.011032                       \n",
       "162                                              0.010868                       \n",
       "163                                              0.019087                       \n",
       "164                                              0.017795                       \n",
       "\n",
       "genera  Bacteria|Tenericutes|Mollicutes|Entomoplasmatales|Spiroplasmataceae|Spiroplasma  \\\n",
       "0                                                0.025652                                 \n",
       "1                                                0.009108                                 \n",
       "2                                                0.024753                                 \n",
       "3                                                0.027088                                 \n",
       "4                                                0.018769                                 \n",
       "..                                                    ...                                 \n",
       "160                                              0.020289                                 \n",
       "161                                              0.015572                                 \n",
       "162                                              0.009011                                 \n",
       "163                                              0.010170                                 \n",
       "164                                              0.029251                                 \n",
       "\n",
       "genera  ...  \\\n",
       "0       ...   \n",
       "1       ...   \n",
       "2       ...   \n",
       "3       ...   \n",
       "4       ...   \n",
       "..      ...   \n",
       "160     ...   \n",
       "161     ...   \n",
       "162     ...   \n",
       "163     ...   \n",
       "164     ...   \n",
       "\n",
       "genera  Bacteria|Proteobacteria|Gammaproteobacteria|Cellvibrionales|Microbulbiferaceae|Microbulbifer  \\\n",
       "0                                                0.000000                                              \n",
       "1                                                0.000000                                              \n",
       "2                                                0.000000                                              \n",
       "3                                                0.000000                                              \n",
       "4                                                0.000172                                              \n",
       "..                                                    ...                                              \n",
       "160                                              0.000000                                              \n",
       "161                                              0.000000                                              \n",
       "162                                              0.000000                                              \n",
       "163                                              0.000000                                              \n",
       "164                                              0.000000                                              \n",
       "\n",
       "genera  Bacteria|Proteobacteria|Alphaproteobacteria|Sphingomonadales|Sphingomonadaceae|Citromicrobium  \\\n",
       "0                                                0.000023                                               \n",
       "1                                                0.000053                                               \n",
       "2                                                0.000000                                               \n",
       "3                                                0.000000                                               \n",
       "4                                                0.000079                                               \n",
       "..                                                    ...                                               \n",
       "160                                              0.000000                                               \n",
       "161                                              0.000000                                               \n",
       "162                                              0.000000                                               \n",
       "163                                              0.000000                                               \n",
       "164                                              0.000110                                               \n",
       "\n",
       "genera  Eukaryota|Cryptomycota||||Paramicrosporidium  \\\n",
       "0                                           0.000003   \n",
       "1                                           0.000095   \n",
       "2                                           0.000008   \n",
       "3                                           0.000000   \n",
       "4                                           0.000000   \n",
       "..                                               ...   \n",
       "160                                         0.000032   \n",
       "161                                         0.000006   \n",
       "162                                         0.000000   \n",
       "163                                         0.000018   \n",
       "164                                         0.000007   \n",
       "\n",
       "genera  Bacteria|Proteobacteria|Alphaproteobacteria|Rhizobiales|Hyphomicrobiaceae|Pelagibacterium  \\\n",
       "0                                                0.000463                                           \n",
       "1                                                0.000000                                           \n",
       "2                                                0.000000                                           \n",
       "3                                                0.000000                                           \n",
       "4                                                0.000000                                           \n",
       "..                                                    ...                                           \n",
       "160                                              0.000000                                           \n",
       "161                                              0.000061                                           \n",
       "162                                              0.000000                                           \n",
       "163                                              0.000000                                           \n",
       "164                                              0.000030                                           \n",
       "\n",
       "genera  Bacteria|Proteobacteria|Alphaproteobacteria|Rhodospirillales|Rhodospirillaceae|Rhodovibrio  \\\n",
       "0                                                     0.0                                            \n",
       "1                                                     0.0                                            \n",
       "2                                                     0.0                                            \n",
       "3                                                     0.0                                            \n",
       "4                                                     0.0                                            \n",
       "..                                                    ...                                            \n",
       "160                                                   0.0                                            \n",
       "161                                                   0.0                                            \n",
       "162                                                   0.0                                            \n",
       "163                                                   0.0                                            \n",
       "164                                                   0.0                                            \n",
       "\n",
       "genera  Bacteria|Proteobacteria|Gammaproteobacteria|Enterobacterales|Enterobacteriaceae|Lelliottia  \\\n",
       "0                                                 0.00000                                            \n",
       "1                                                 0.00000                                            \n",
       "2                                                 0.00000                                            \n",
       "3                                                 0.00000                                            \n",
       "4                                                 0.00006                                            \n",
       "..                                                    ...                                            \n",
       "160                                               0.00000                                            \n",
       "161                                               0.00000                                            \n",
       "162                                               0.00000                                            \n",
       "163                                               0.00000                                            \n",
       "164                                               0.00000                                            \n",
       "\n",
       "genera  Bacteria|Proteobacteria|Betaproteobacteria|Neisseriales|Chromobacteriaceae|Jeongeupia  \\\n",
       "0                                                0.000000                                       \n",
       "1                                                0.000000                                       \n",
       "2                                                0.000000                                       \n",
       "3                                                0.000000                                       \n",
       "4                                                0.000246                                       \n",
       "..                                                    ...                                       \n",
       "160                                              0.000000                                       \n",
       "161                                              0.000000                                       \n",
       "162                                              0.000000                                       \n",
       "163                                              0.000000                                       \n",
       "164                                              0.000000                                       \n",
       "\n",
       "genera  Bacteria|Actinobacteria|Actinobacteria|Catenulisporales|Catenulisporaceae|Catenulispora  \\\n",
       "0                                                     0.0                                         \n",
       "1                                                     0.0                                         \n",
       "2                                                     0.0                                         \n",
       "3                                                     0.0                                         \n",
       "4                                                     0.0                                         \n",
       "..                                                    ...                                         \n",
       "160                                                   0.0                                         \n",
       "161                                                   0.0                                         \n",
       "162                                                   0.0                                         \n",
       "163                                                   0.0                                         \n",
       "164                                                   0.0                                         \n",
       "\n",
       "genera  Bacteria|Proteobacteria|Deltaproteobacteria|Myxococcales|Anaeromyxobacteraceae|Anaeromyxobacter  \\\n",
       "0                                                0.000000                                                 \n",
       "1                                                0.000000                                                 \n",
       "2                                                0.000000                                                 \n",
       "3                                                0.000000                                                 \n",
       "4                                                0.000144                                                 \n",
       "..                                                    ...                                                 \n",
       "160                                              0.000000                                                 \n",
       "161                                              0.000000                                                 \n",
       "162                                              0.000000                                                 \n",
       "163                                              0.000000                                                 \n",
       "164                                              0.000000                                                 \n",
       "\n",
       "genera  Bacteria|Proteobacteria|Gammaproteobacteria|Chromatiales|Ectothiorhodospiraceae|Thioalkalivibrio  \n",
       "0                                                0.000021                                                 \n",
       "1                                                0.000000                                                 \n",
       "2                                                0.000000                                                 \n",
       "3                                                0.000000                                                 \n",
       "4                                                0.000971                                                 \n",
       "..                                                    ...                                                 \n",
       "160                                              0.000000                                                 \n",
       "161                                              0.000000                                                 \n",
       "162                                              0.000000                                                 \n",
       "163                                              0.000000                                                 \n",
       "164                                              0.000000                                                 \n",
       "\n",
       "[165 rows x 500 columns]"
      ]
     },
     "execution_count": 269,
     "metadata": {},
     "output_type": "execute_result"
    }
   ],
   "source": [
    "newdf[genera_cols]"
   ]
  },
  {
   "cell_type": "code",
   "execution_count": 270,
   "id": "91ae30c7",
   "metadata": {
    "scrolled": true
   },
   "outputs": [
    {
     "name": "stderr",
     "output_type": "stream",
     "text": [
      "C:\\Users\\15404\\AppData\\Local\\Temp\\ipykernel_18032\\2673082118.py:1: SettingWithCopyWarning:\n",
      "\n",
      "\n",
      "A value is trying to be set on a copy of a slice from a DataFrame.\n",
      "Try using .loc[row_indexer,col_indexer] = value instead\n",
      "\n",
      "See the caveats in the documentation: https://pandas.pydata.org/pandas-docs/stable/user_guide/indexing.html#returning-a-view-versus-a-copy\n",
      "\n"
     ]
    }
   ],
   "source": [
    "newdf[genera_cols] = StandardScaler().fit_transform(newdf[genera_cols])  "
   ]
  },
  {
   "cell_type": "code",
   "execution_count": 271,
   "id": "f64e2311",
   "metadata": {
    "collapsed": true
   },
   "outputs": [
    {
     "data": {
      "text/html": [
       "<div>\n",
       "<style scoped>\n",
       "    .dataframe tbody tr th:only-of-type {\n",
       "        vertical-align: middle;\n",
       "    }\n",
       "\n",
       "    .dataframe tbody tr th {\n",
       "        vertical-align: top;\n",
       "    }\n",
       "\n",
       "    .dataframe thead th {\n",
       "        text-align: right;\n",
       "    }\n",
       "</style>\n",
       "<table border=\"1\" class=\"dataframe\">\n",
       "  <thead>\n",
       "    <tr style=\"text-align: right;\">\n",
       "      <th>genera</th>\n",
       "      <th>Bacteria|Cyanobacteria||Synechococcales|Synechococcaceae|Synechococcus</th>\n",
       "      <th>Bacteria|Cyanobacteria||Synechococcales|Synechococcaceae|Thermosynechococcus</th>\n",
       "      <th>Bacteria|Cyanobacteria||Synechococcales|Prochloraceae|Prochlorococcus</th>\n",
       "      <th>Bacteria|Cyanobacteria||Gloeoemargaritales|Gloeomargaritaceae|Gloeomargarita</th>\n",
       "      <th>Eukaryota||Chlorarachniophyceae|||Lotharella</th>\n",
       "      <th>Bacteria|Proteobacteria|Gammaproteobacteria|Pseudomonadales|Pseudomonadaceae|Pseudomonas</th>\n",
       "      <th>Bacteria|Firmicutes|Clostridia|Clostridiales|Clostridiaceae|Clostridium</th>\n",
       "      <th>Bacteria|Cyanobacteria||Chroococcales|Microcystaceae|Microcystis</th>\n",
       "      <th>Bacteria|Cyanobacteria||Synechococcales|Leptolyngbyaceae|Leptolyngbya</th>\n",
       "      <th>Bacteria|Tenericutes|Mollicutes|Entomoplasmatales|Spiroplasmataceae|Spiroplasma</th>\n",
       "      <th>...</th>\n",
       "      <th>Bacteria|Proteobacteria|Gammaproteobacteria|Cellvibrionales|Microbulbiferaceae|Microbulbifer</th>\n",
       "      <th>Bacteria|Proteobacteria|Alphaproteobacteria|Sphingomonadales|Sphingomonadaceae|Citromicrobium</th>\n",
       "      <th>Eukaryota|Cryptomycota||||Paramicrosporidium</th>\n",
       "      <th>Bacteria|Proteobacteria|Alphaproteobacteria|Rhizobiales|Hyphomicrobiaceae|Pelagibacterium</th>\n",
       "      <th>Bacteria|Proteobacteria|Alphaproteobacteria|Rhodospirillales|Rhodospirillaceae|Rhodovibrio</th>\n",
       "      <th>Bacteria|Proteobacteria|Gammaproteobacteria|Enterobacterales|Enterobacteriaceae|Lelliottia</th>\n",
       "      <th>Bacteria|Proteobacteria|Betaproteobacteria|Neisseriales|Chromobacteriaceae|Jeongeupia</th>\n",
       "      <th>Bacteria|Actinobacteria|Actinobacteria|Catenulisporales|Catenulisporaceae|Catenulispora</th>\n",
       "      <th>Bacteria|Proteobacteria|Deltaproteobacteria|Myxococcales|Anaeromyxobacteraceae|Anaeromyxobacter</th>\n",
       "      <th>Bacteria|Proteobacteria|Gammaproteobacteria|Chromatiales|Ectothiorhodospiraceae|Thioalkalivibrio</th>\n",
       "    </tr>\n",
       "  </thead>\n",
       "  <tbody>\n",
       "    <tr>\n",
       "      <th>0</th>\n",
       "      <td>1.658585</td>\n",
       "      <td>0.449190</td>\n",
       "      <td>-0.625305</td>\n",
       "      <td>0.059558</td>\n",
       "      <td>-0.639892</td>\n",
       "      <td>-0.180795</td>\n",
       "      <td>-0.799835</td>\n",
       "      <td>-0.092409</td>\n",
       "      <td>0.159199</td>\n",
       "      <td>0.811721</td>\n",
       "      <td>...</td>\n",
       "      <td>-0.137485</td>\n",
       "      <td>-0.053608</td>\n",
       "      <td>-0.556045</td>\n",
       "      <td>3.567996</td>\n",
       "      <td>-0.220287</td>\n",
       "      <td>-0.277120</td>\n",
       "      <td>-0.231399</td>\n",
       "      <td>-0.236345</td>\n",
       "      <td>-0.176828</td>\n",
       "      <td>-0.028724</td>\n",
       "    </tr>\n",
       "    <tr>\n",
       "      <th>1</th>\n",
       "      <td>1.177418</td>\n",
       "      <td>0.398179</td>\n",
       "      <td>-0.265843</td>\n",
       "      <td>0.624099</td>\n",
       "      <td>-0.554101</td>\n",
       "      <td>0.179081</td>\n",
       "      <td>-0.801790</td>\n",
       "      <td>-0.460056</td>\n",
       "      <td>-0.443335</td>\n",
       "      <td>-0.891395</td>\n",
       "      <td>...</td>\n",
       "      <td>-0.137485</td>\n",
       "      <td>0.470029</td>\n",
       "      <td>1.649963</td>\n",
       "      <td>-0.209719</td>\n",
       "      <td>-0.220287</td>\n",
       "      <td>-0.277120</td>\n",
       "      <td>-0.231399</td>\n",
       "      <td>-0.236345</td>\n",
       "      <td>-0.176828</td>\n",
       "      <td>-0.217899</td>\n",
       "    </tr>\n",
       "    <tr>\n",
       "      <th>2</th>\n",
       "      <td>1.611450</td>\n",
       "      <td>1.654841</td>\n",
       "      <td>0.624824</td>\n",
       "      <td>-0.003629</td>\n",
       "      <td>0.812189</td>\n",
       "      <td>0.231470</td>\n",
       "      <td>-0.616597</td>\n",
       "      <td>-0.167826</td>\n",
       "      <td>-0.291096</td>\n",
       "      <td>0.719188</td>\n",
       "      <td>...</td>\n",
       "      <td>-0.137485</td>\n",
       "      <td>-0.451136</td>\n",
       "      <td>-0.445865</td>\n",
       "      <td>-0.209719</td>\n",
       "      <td>-0.220287</td>\n",
       "      <td>-0.277120</td>\n",
       "      <td>-0.231399</td>\n",
       "      <td>-0.236345</td>\n",
       "      <td>-0.176828</td>\n",
       "      <td>-0.217899</td>\n",
       "    </tr>\n",
       "    <tr>\n",
       "      <th>3</th>\n",
       "      <td>0.708383</td>\n",
       "      <td>0.825395</td>\n",
       "      <td>-0.762340</td>\n",
       "      <td>0.859331</td>\n",
       "      <td>0.382159</td>\n",
       "      <td>-0.168207</td>\n",
       "      <td>-0.615823</td>\n",
       "      <td>-0.320116</td>\n",
       "      <td>0.525896</td>\n",
       "      <td>0.959611</td>\n",
       "      <td>...</td>\n",
       "      <td>-0.137485</td>\n",
       "      <td>-0.451136</td>\n",
       "      <td>-0.629034</td>\n",
       "      <td>-0.209719</td>\n",
       "      <td>-0.220287</td>\n",
       "      <td>-0.277120</td>\n",
       "      <td>-0.231399</td>\n",
       "      <td>-0.236345</td>\n",
       "      <td>-0.176828</td>\n",
       "      <td>-0.217899</td>\n",
       "    </tr>\n",
       "    <tr>\n",
       "      <th>4</th>\n",
       "      <td>-1.328517</td>\n",
       "      <td>-1.971450</td>\n",
       "      <td>-2.361323</td>\n",
       "      <td>-0.371434</td>\n",
       "      <td>-1.765472</td>\n",
       "      <td>5.492609</td>\n",
       "      <td>1.153886</td>\n",
       "      <td>0.633603</td>\n",
       "      <td>-1.642494</td>\n",
       "      <td>0.103209</td>\n",
       "      <td>...</td>\n",
       "      <td>0.759616</td>\n",
       "      <td>0.907725</td>\n",
       "      <td>-0.629034</td>\n",
       "      <td>-0.209719</td>\n",
       "      <td>-0.220287</td>\n",
       "      <td>0.371796</td>\n",
       "      <td>2.008069</td>\n",
       "      <td>-0.236345</td>\n",
       "      <td>0.855504</td>\n",
       "      <td>8.430593</td>\n",
       "    </tr>\n",
       "    <tr>\n",
       "      <th>...</th>\n",
       "      <td>...</td>\n",
       "      <td>...</td>\n",
       "      <td>...</td>\n",
       "      <td>...</td>\n",
       "      <td>...</td>\n",
       "      <td>...</td>\n",
       "      <td>...</td>\n",
       "      <td>...</td>\n",
       "      <td>...</td>\n",
       "      <td>...</td>\n",
       "      <td>...</td>\n",
       "      <td>...</td>\n",
       "      <td>...</td>\n",
       "      <td>...</td>\n",
       "      <td>...</td>\n",
       "      <td>...</td>\n",
       "      <td>...</td>\n",
       "      <td>...</td>\n",
       "      <td>...</td>\n",
       "      <td>...</td>\n",
       "      <td>...</td>\n",
       "    </tr>\n",
       "    <tr>\n",
       "      <th>160</th>\n",
       "      <td>-1.418869</td>\n",
       "      <td>-0.189635</td>\n",
       "      <td>-0.533663</td>\n",
       "      <td>-1.306735</td>\n",
       "      <td>1.374545</td>\n",
       "      <td>-0.116692</td>\n",
       "      <td>-0.710016</td>\n",
       "      <td>-0.683384</td>\n",
       "      <td>-1.349335</td>\n",
       "      <td>0.259615</td>\n",
       "      <td>...</td>\n",
       "      <td>-0.137485</td>\n",
       "      <td>-0.451136</td>\n",
       "      <td>0.141006</td>\n",
       "      <td>-0.209719</td>\n",
       "      <td>-0.220287</td>\n",
       "      <td>-0.277120</td>\n",
       "      <td>-0.231399</td>\n",
       "      <td>-0.236345</td>\n",
       "      <td>-0.176828</td>\n",
       "      <td>-0.217899</td>\n",
       "    </tr>\n",
       "    <tr>\n",
       "      <th>161</th>\n",
       "      <td>-0.379646</td>\n",
       "      <td>-0.113333</td>\n",
       "      <td>-0.296765</td>\n",
       "      <td>-1.105328</td>\n",
       "      <td>0.343613</td>\n",
       "      <td>-0.142021</td>\n",
       "      <td>-0.651485</td>\n",
       "      <td>-0.497536</td>\n",
       "      <td>-1.466559</td>\n",
       "      <td>-0.225907</td>\n",
       "      <td>...</td>\n",
       "      <td>-0.137485</td>\n",
       "      <td>-0.451136</td>\n",
       "      <td>-0.495191</td>\n",
       "      <td>0.289959</td>\n",
       "      <td>-0.220287</td>\n",
       "      <td>-0.277120</td>\n",
       "      <td>-0.231399</td>\n",
       "      <td>-0.236345</td>\n",
       "      <td>-0.176828</td>\n",
       "      <td>-0.217899</td>\n",
       "    </tr>\n",
       "    <tr>\n",
       "      <th>162</th>\n",
       "      <td>0.320774</td>\n",
       "      <td>0.388606</td>\n",
       "      <td>-0.180938</td>\n",
       "      <td>-0.613701</td>\n",
       "      <td>1.588720</td>\n",
       "      <td>-0.338801</td>\n",
       "      <td>-0.141353</td>\n",
       "      <td>-2.314530</td>\n",
       "      <td>-1.494283</td>\n",
       "      <td>-0.901352</td>\n",
       "      <td>...</td>\n",
       "      <td>-0.137485</td>\n",
       "      <td>-0.451136</td>\n",
       "      <td>-0.629034</td>\n",
       "      <td>-0.209719</td>\n",
       "      <td>-0.220287</td>\n",
       "      <td>-0.277120</td>\n",
       "      <td>-0.231399</td>\n",
       "      <td>-0.236345</td>\n",
       "      <td>-0.176828</td>\n",
       "      <td>-0.217899</td>\n",
       "    </tr>\n",
       "    <tr>\n",
       "      <th>163</th>\n",
       "      <td>-0.502977</td>\n",
       "      <td>1.097577</td>\n",
       "      <td>0.754959</td>\n",
       "      <td>0.398210</td>\n",
       "      <td>0.511668</td>\n",
       "      <td>1.590049</td>\n",
       "      <td>-0.672576</td>\n",
       "      <td>0.148792</td>\n",
       "      <td>-0.103465</td>\n",
       "      <td>-0.781996</td>\n",
       "      <td>...</td>\n",
       "      <td>-0.137485</td>\n",
       "      <td>-0.451136</td>\n",
       "      <td>-0.192866</td>\n",
       "      <td>-0.209719</td>\n",
       "      <td>-0.220287</td>\n",
       "      <td>-0.277120</td>\n",
       "      <td>-0.231399</td>\n",
       "      <td>-0.236345</td>\n",
       "      <td>-0.176828</td>\n",
       "      <td>-0.217899</td>\n",
       "    </tr>\n",
       "    <tr>\n",
       "      <th>164</th>\n",
       "      <td>-1.082782</td>\n",
       "      <td>0.702963</td>\n",
       "      <td>0.462102</td>\n",
       "      <td>0.129314</td>\n",
       "      <td>0.854269</td>\n",
       "      <td>-0.013929</td>\n",
       "      <td>-0.484598</td>\n",
       "      <td>1.314368</td>\n",
       "      <td>-0.322199</td>\n",
       "      <td>1.182259</td>\n",
       "      <td>...</td>\n",
       "      <td>-0.137485</td>\n",
       "      <td>1.441688</td>\n",
       "      <td>-0.460442</td>\n",
       "      <td>0.032779</td>\n",
       "      <td>-0.220287</td>\n",
       "      <td>-0.277120</td>\n",
       "      <td>-0.231399</td>\n",
       "      <td>-0.236345</td>\n",
       "      <td>-0.176828</td>\n",
       "      <td>-0.217899</td>\n",
       "    </tr>\n",
       "  </tbody>\n",
       "</table>\n",
       "<p>165 rows × 500 columns</p>\n",
       "</div>"
      ],
      "text/plain": [
       "genera  Bacteria|Cyanobacteria||Synechococcales|Synechococcaceae|Synechococcus  \\\n",
       "0                                                1.658585                        \n",
       "1                                                1.177418                        \n",
       "2                                                1.611450                        \n",
       "3                                                0.708383                        \n",
       "4                                               -1.328517                        \n",
       "..                                                    ...                        \n",
       "160                                             -1.418869                        \n",
       "161                                             -0.379646                        \n",
       "162                                              0.320774                        \n",
       "163                                             -0.502977                        \n",
       "164                                             -1.082782                        \n",
       "\n",
       "genera  Bacteria|Cyanobacteria||Synechococcales|Synechococcaceae|Thermosynechococcus  \\\n",
       "0                                                0.449190                              \n",
       "1                                                0.398179                              \n",
       "2                                                1.654841                              \n",
       "3                                                0.825395                              \n",
       "4                                               -1.971450                              \n",
       "..                                                    ...                              \n",
       "160                                             -0.189635                              \n",
       "161                                             -0.113333                              \n",
       "162                                              0.388606                              \n",
       "163                                              1.097577                              \n",
       "164                                              0.702963                              \n",
       "\n",
       "genera  Bacteria|Cyanobacteria||Synechococcales|Prochloraceae|Prochlorococcus  \\\n",
       "0                                               -0.625305                       \n",
       "1                                               -0.265843                       \n",
       "2                                                0.624824                       \n",
       "3                                               -0.762340                       \n",
       "4                                               -2.361323                       \n",
       "..                                                    ...                       \n",
       "160                                             -0.533663                       \n",
       "161                                             -0.296765                       \n",
       "162                                             -0.180938                       \n",
       "163                                              0.754959                       \n",
       "164                                              0.462102                       \n",
       "\n",
       "genera  Bacteria|Cyanobacteria||Gloeoemargaritales|Gloeomargaritaceae|Gloeomargarita  \\\n",
       "0                                                0.059558                              \n",
       "1                                                0.624099                              \n",
       "2                                               -0.003629                              \n",
       "3                                                0.859331                              \n",
       "4                                               -0.371434                              \n",
       "..                                                    ...                              \n",
       "160                                             -1.306735                              \n",
       "161                                             -1.105328                              \n",
       "162                                             -0.613701                              \n",
       "163                                              0.398210                              \n",
       "164                                              0.129314                              \n",
       "\n",
       "genera  Eukaryota||Chlorarachniophyceae|||Lotharella  \\\n",
       "0                                          -0.639892   \n",
       "1                                          -0.554101   \n",
       "2                                           0.812189   \n",
       "3                                           0.382159   \n",
       "4                                          -1.765472   \n",
       "..                                               ...   \n",
       "160                                         1.374545   \n",
       "161                                         0.343613   \n",
       "162                                         1.588720   \n",
       "163                                         0.511668   \n",
       "164                                         0.854269   \n",
       "\n",
       "genera  Bacteria|Proteobacteria|Gammaproteobacteria|Pseudomonadales|Pseudomonadaceae|Pseudomonas  \\\n",
       "0                                               -0.180795                                          \n",
       "1                                                0.179081                                          \n",
       "2                                                0.231470                                          \n",
       "3                                               -0.168207                                          \n",
       "4                                                5.492609                                          \n",
       "..                                                    ...                                          \n",
       "160                                             -0.116692                                          \n",
       "161                                             -0.142021                                          \n",
       "162                                             -0.338801                                          \n",
       "163                                              1.590049                                          \n",
       "164                                             -0.013929                                          \n",
       "\n",
       "genera  Bacteria|Firmicutes|Clostridia|Clostridiales|Clostridiaceae|Clostridium  \\\n",
       "0                                               -0.799835                         \n",
       "1                                               -0.801790                         \n",
       "2                                               -0.616597                         \n",
       "3                                               -0.615823                         \n",
       "4                                                1.153886                         \n",
       "..                                                    ...                         \n",
       "160                                             -0.710016                         \n",
       "161                                             -0.651485                         \n",
       "162                                             -0.141353                         \n",
       "163                                             -0.672576                         \n",
       "164                                             -0.484598                         \n",
       "\n",
       "genera  Bacteria|Cyanobacteria||Chroococcales|Microcystaceae|Microcystis  \\\n",
       "0                                               -0.092409                  \n",
       "1                                               -0.460056                  \n",
       "2                                               -0.167826                  \n",
       "3                                               -0.320116                  \n",
       "4                                                0.633603                  \n",
       "..                                                    ...                  \n",
       "160                                             -0.683384                  \n",
       "161                                             -0.497536                  \n",
       "162                                             -2.314530                  \n",
       "163                                              0.148792                  \n",
       "164                                              1.314368                  \n",
       "\n",
       "genera  Bacteria|Cyanobacteria||Synechococcales|Leptolyngbyaceae|Leptolyngbya  \\\n",
       "0                                                0.159199                       \n",
       "1                                               -0.443335                       \n",
       "2                                               -0.291096                       \n",
       "3                                                0.525896                       \n",
       "4                                               -1.642494                       \n",
       "..                                                    ...                       \n",
       "160                                             -1.349335                       \n",
       "161                                             -1.466559                       \n",
       "162                                             -1.494283                       \n",
       "163                                             -0.103465                       \n",
       "164                                             -0.322199                       \n",
       "\n",
       "genera  Bacteria|Tenericutes|Mollicutes|Entomoplasmatales|Spiroplasmataceae|Spiroplasma  \\\n",
       "0                                                0.811721                                 \n",
       "1                                               -0.891395                                 \n",
       "2                                                0.719188                                 \n",
       "3                                                0.959611                                 \n",
       "4                                                0.103209                                 \n",
       "..                                                    ...                                 \n",
       "160                                              0.259615                                 \n",
       "161                                             -0.225907                                 \n",
       "162                                             -0.901352                                 \n",
       "163                                             -0.781996                                 \n",
       "164                                              1.182259                                 \n",
       "\n",
       "genera  ...  \\\n",
       "0       ...   \n",
       "1       ...   \n",
       "2       ...   \n",
       "3       ...   \n",
       "4       ...   \n",
       "..      ...   \n",
       "160     ...   \n",
       "161     ...   \n",
       "162     ...   \n",
       "163     ...   \n",
       "164     ...   \n",
       "\n",
       "genera  Bacteria|Proteobacteria|Gammaproteobacteria|Cellvibrionales|Microbulbiferaceae|Microbulbifer  \\\n",
       "0                                               -0.137485                                              \n",
       "1                                               -0.137485                                              \n",
       "2                                               -0.137485                                              \n",
       "3                                               -0.137485                                              \n",
       "4                                                0.759616                                              \n",
       "..                                                    ...                                              \n",
       "160                                             -0.137485                                              \n",
       "161                                             -0.137485                                              \n",
       "162                                             -0.137485                                              \n",
       "163                                             -0.137485                                              \n",
       "164                                             -0.137485                                              \n",
       "\n",
       "genera  Bacteria|Proteobacteria|Alphaproteobacteria|Sphingomonadales|Sphingomonadaceae|Citromicrobium  \\\n",
       "0                                               -0.053608                                               \n",
       "1                                                0.470029                                               \n",
       "2                                               -0.451136                                               \n",
       "3                                               -0.451136                                               \n",
       "4                                                0.907725                                               \n",
       "..                                                    ...                                               \n",
       "160                                             -0.451136                                               \n",
       "161                                             -0.451136                                               \n",
       "162                                             -0.451136                                               \n",
       "163                                             -0.451136                                               \n",
       "164                                              1.441688                                               \n",
       "\n",
       "genera  Eukaryota|Cryptomycota||||Paramicrosporidium  \\\n",
       "0                                          -0.556045   \n",
       "1                                           1.649963   \n",
       "2                                          -0.445865   \n",
       "3                                          -0.629034   \n",
       "4                                          -0.629034   \n",
       "..                                               ...   \n",
       "160                                         0.141006   \n",
       "161                                        -0.495191   \n",
       "162                                        -0.629034   \n",
       "163                                        -0.192866   \n",
       "164                                        -0.460442   \n",
       "\n",
       "genera  Bacteria|Proteobacteria|Alphaproteobacteria|Rhizobiales|Hyphomicrobiaceae|Pelagibacterium  \\\n",
       "0                                                3.567996                                           \n",
       "1                                               -0.209719                                           \n",
       "2                                               -0.209719                                           \n",
       "3                                               -0.209719                                           \n",
       "4                                               -0.209719                                           \n",
       "..                                                    ...                                           \n",
       "160                                             -0.209719                                           \n",
       "161                                              0.289959                                           \n",
       "162                                             -0.209719                                           \n",
       "163                                             -0.209719                                           \n",
       "164                                              0.032779                                           \n",
       "\n",
       "genera  Bacteria|Proteobacteria|Alphaproteobacteria|Rhodospirillales|Rhodospirillaceae|Rhodovibrio  \\\n",
       "0                                               -0.220287                                            \n",
       "1                                               -0.220287                                            \n",
       "2                                               -0.220287                                            \n",
       "3                                               -0.220287                                            \n",
       "4                                               -0.220287                                            \n",
       "..                                                    ...                                            \n",
       "160                                             -0.220287                                            \n",
       "161                                             -0.220287                                            \n",
       "162                                             -0.220287                                            \n",
       "163                                             -0.220287                                            \n",
       "164                                             -0.220287                                            \n",
       "\n",
       "genera  Bacteria|Proteobacteria|Gammaproteobacteria|Enterobacterales|Enterobacteriaceae|Lelliottia  \\\n",
       "0                                               -0.277120                                            \n",
       "1                                               -0.277120                                            \n",
       "2                                               -0.277120                                            \n",
       "3                                               -0.277120                                            \n",
       "4                                                0.371796                                            \n",
       "..                                                    ...                                            \n",
       "160                                             -0.277120                                            \n",
       "161                                             -0.277120                                            \n",
       "162                                             -0.277120                                            \n",
       "163                                             -0.277120                                            \n",
       "164                                             -0.277120                                            \n",
       "\n",
       "genera  Bacteria|Proteobacteria|Betaproteobacteria|Neisseriales|Chromobacteriaceae|Jeongeupia  \\\n",
       "0                                               -0.231399                                       \n",
       "1                                               -0.231399                                       \n",
       "2                                               -0.231399                                       \n",
       "3                                               -0.231399                                       \n",
       "4                                                2.008069                                       \n",
       "..                                                    ...                                       \n",
       "160                                             -0.231399                                       \n",
       "161                                             -0.231399                                       \n",
       "162                                             -0.231399                                       \n",
       "163                                             -0.231399                                       \n",
       "164                                             -0.231399                                       \n",
       "\n",
       "genera  Bacteria|Actinobacteria|Actinobacteria|Catenulisporales|Catenulisporaceae|Catenulispora  \\\n",
       "0                                               -0.236345                                         \n",
       "1                                               -0.236345                                         \n",
       "2                                               -0.236345                                         \n",
       "3                                               -0.236345                                         \n",
       "4                                               -0.236345                                         \n",
       "..                                                    ...                                         \n",
       "160                                             -0.236345                                         \n",
       "161                                             -0.236345                                         \n",
       "162                                             -0.236345                                         \n",
       "163                                             -0.236345                                         \n",
       "164                                             -0.236345                                         \n",
       "\n",
       "genera  Bacteria|Proteobacteria|Deltaproteobacteria|Myxococcales|Anaeromyxobacteraceae|Anaeromyxobacter  \\\n",
       "0                                               -0.176828                                                 \n",
       "1                                               -0.176828                                                 \n",
       "2                                               -0.176828                                                 \n",
       "3                                               -0.176828                                                 \n",
       "4                                                0.855504                                                 \n",
       "..                                                    ...                                                 \n",
       "160                                             -0.176828                                                 \n",
       "161                                             -0.176828                                                 \n",
       "162                                             -0.176828                                                 \n",
       "163                                             -0.176828                                                 \n",
       "164                                             -0.176828                                                 \n",
       "\n",
       "genera  Bacteria|Proteobacteria|Gammaproteobacteria|Chromatiales|Ectothiorhodospiraceae|Thioalkalivibrio  \n",
       "0                                               -0.028724                                                 \n",
       "1                                               -0.217899                                                 \n",
       "2                                               -0.217899                                                 \n",
       "3                                               -0.217899                                                 \n",
       "4                                                8.430593                                                 \n",
       "..                                                    ...                                                 \n",
       "160                                             -0.217899                                                 \n",
       "161                                             -0.217899                                                 \n",
       "162                                             -0.217899                                                 \n",
       "163                                             -0.217899                                                 \n",
       "164                                             -0.217899                                                 \n",
       "\n",
       "[165 rows x 500 columns]"
      ]
     },
     "execution_count": 271,
     "metadata": {},
     "output_type": "execute_result"
    }
   ],
   "source": [
    "newdf[genera_cols]"
   ]
  },
  {
   "cell_type": "markdown",
   "id": "730ffa32",
   "metadata": {},
   "source": [
    "### PCA By Site with Top 500 Most Relatively Abundant Genera"
   ]
  },
  {
   "cell_type": "code",
   "execution_count": 272,
   "id": "0add91a1",
   "metadata": {
    "scrolled": false
   },
   "outputs": [
    {
     "data": {
      "application/vnd.plotly.v1+json": {
       "config": {
        "plotlyServerURL": "https://plot.ly"
       },
       "data": [
        {
         "hovertemplate": "color=CMB<br>0=%{x}<br>1=%{y}<extra></extra>",
         "legendgroup": "CMB",
         "marker": {
          "color": "#636efa",
          "symbol": "circle"
         },
         "mode": "markers",
         "name": "CMB",
         "orientation": "v",
         "showlegend": true,
         "type": "scatter",
         "x": [
          5.818226970042154,
          3.5398139994880937,
          0.4731927936934165,
          -0.5073338429429298,
          23.448797851736398,
          8.667881195689427,
          8.172163887740613,
          6.2780092488852,
          14.157486173951831,
          9.1058907933376,
          0.17890283294638867,
          -0.5650211842204194,
          -1.3757700702410836,
          4.392810100203098,
          0.21257090167606466,
          0.8772970830175529,
          -0.04619712966206907,
          1.0137684686007558,
          -0.12624576207718197,
          29.848718298522993
         ],
         "xaxis": "x",
         "y": [
          -1.4760880322059784,
          -0.024744944760157636,
          0.2629501762836895,
          3.032379418929916,
          0.25917504094554356,
          -0.4431231022121071,
          2.8236987165875744,
          1.9257521739315295,
          7.607989339978281,
          0.0737947428210127,
          1.5669444587631844,
          -4.033977156088415,
          0.9871021856262636,
          -2.975782436530077,
          2.079623386227596,
          -4.219749289138765,
          4.0742799786465635,
          5.738375528503582,
          2.491342066755728,
          -1.8783736710277115
         ],
         "yaxis": "y"
        },
        {
         "hovertemplate": "color=FRW<br>0=%{x}<br>1=%{y}<extra></extra>",
         "legendgroup": "FRW",
         "marker": {
          "color": "#EF553B",
          "symbol": "circle"
         },
         "mode": "markers",
         "name": "FRW",
         "orientation": "v",
         "showlegend": true,
         "type": "scatter",
         "x": [
          -9.782256909448426,
          -3.6435542239068353,
          -2.283033990668756,
          -4.110804234680134,
          -1.104310786569694,
          1.5220964728106086,
          -2.630077291222968,
          -6.96013444520536,
          -8.864086595672156,
          -3.640816061379994,
          0.572054343014756
         ],
         "xaxis": "x",
         "y": [
          -3.623177511536065,
          -8.178716817865972,
          -6.011042962849966,
          -3.2958241864241087,
          -0.8361971754609345,
          -3.4256943098438737,
          -4.3472834384891454,
          -3.5424512429388626,
          -3.893190254774811,
          -1.0234738996158579,
          -9.198148375163113
         ],
         "yaxis": "y"
        },
        {
         "hovertemplate": "color=HR<br>0=%{x}<br>1=%{y}<extra></extra>",
         "legendgroup": "HR",
         "marker": {
          "color": "#00cc96",
          "symbol": "circle"
         },
         "mode": "markers",
         "name": "HR",
         "orientation": "v",
         "showlegend": true,
         "type": "scatter",
         "x": [
          -3.4656915193703632,
          -0.025618192976934257,
          0.10137262954594109,
          -0.5795706278656911,
          2.069715669058645,
          -1.677771750650545
         ],
         "xaxis": "x",
         "y": [
          0.6483535593356536,
          -6.1266264763366785,
          -11.819194963959383,
          -8.592683726974535,
          -5.11849169535995,
          -7.474186514223602
         ],
         "yaxis": "y"
        },
        {
         "hovertemplate": "color=LFS<br>0=%{x}<br>1=%{y}<extra></extra>",
         "legendgroup": "LFS",
         "marker": {
          "color": "#ab63fa",
          "symbol": "circle"
         },
         "mode": "markers",
         "name": "LFS",
         "orientation": "v",
         "showlegend": true,
         "type": "scatter",
         "x": [
          -4.188629817368057,
          5.499084570243376,
          7.458181136022475,
          -2.2472134223428837,
          5.974460864027378,
          10.566673996403061,
          -0.34400939036887396,
          -6.701542997887872,
          -2.0327267584124287,
          -3.5969361964602737,
          0.7907992748601148,
          -1.512472905964227,
          -0.525647034734414,
          1.906401012607832
         ],
         "xaxis": "x",
         "y": [
          8.972159793800827,
          -4.50353490510484,
          -0.7400994802152793,
          3.2414412248360622,
          -2.748812394492461,
          -6.5264508891300315,
          1.4114129692315174,
          7.292562711675721,
          3.9478642925737737,
          11.803588771903426,
          -3.472974496522429,
          10.537475905834693,
          -0.9587085942960341,
          -1.849465264750272
         ],
         "yaxis": "y"
        },
        {
         "hovertemplate": "color=LM<br>0=%{x}<br>1=%{y}<extra></extra>",
         "legendgroup": "LM",
         "marker": {
          "color": "#FFA15A",
          "symbol": "circle"
         },
         "mode": "markers",
         "name": "LM",
         "orientation": "v",
         "showlegend": true,
         "type": "scatter",
         "x": [
          -3.296327238519019,
          -5.784164911217691,
          7.069372595719329,
          7.190743874023068,
          0.33755227224874074,
          23.054158397188854,
          -0.16309480845482355,
          -8.901780709186514,
          -3.5563055827007566,
          9.664067356669204,
          -6.525343482560181,
          11.068757020363563,
          0.26850609222923916,
          2.203049966321043,
          -7.501845010758465,
          16.44594425750389,
          -2.873683578539849,
          -5.795010668383118,
          -3.8882942916150847,
          5.037483336576242
         ],
         "xaxis": "x",
         "y": [
          -8.276306852316063,
          -6.917816251137267,
          -2.3000558480249307,
          -1.4377406542092592,
          -1.7626055213461402,
          2.3864803215046315,
          -1.996924509394014,
          -1.8509765371080926,
          -4.562431718673632,
          -0.032871647862491235,
          -5.936052431939577,
          -4.572591207861218,
          4.760542016143116,
          3.5780351765486413,
          -1.714340849635629,
          1.3397714302166748,
          6.5809625220830466,
          -8.477628736180945,
          -9.27174897405802,
          -1.251249357320095
         ],
         "yaxis": "y"
        },
        {
         "hovertemplate": "color=MKP<br>0=%{x}<br>1=%{y}<extra></extra>",
         "legendgroup": "MKP",
         "marker": {
          "color": "#19d3f3",
          "symbol": "circle"
         },
         "mode": "markers",
         "name": "MKP",
         "orientation": "v",
         "showlegend": true,
         "type": "scatter",
         "x": [
          -4.5582154393275545,
          -2.1065038151796007,
          1.672800542921862,
          -0.48553599880158294,
          -8.587020927326234,
          14.525949749337512,
          -3.6776856030524945,
          -3.265868264035811
         ],
         "xaxis": "x",
         "y": [
          3.1662900924234805,
          0.2205408504176737,
          -2.382073767777115,
          1.079881741668125,
          -3.854402856463089,
          -0.3894572686962048,
          -9.962783627735224,
          -7.561071164985792
         ],
         "yaxis": "y"
        },
        {
         "hovertemplate": "color=MMP<br>0=%{x}<br>1=%{y}<extra></extra>",
         "legendgroup": "MMP",
         "marker": {
          "color": "#FF6692",
          "symbol": "circle"
         },
         "mode": "markers",
         "name": "MMP",
         "orientation": "v",
         "showlegend": true,
         "type": "scatter",
         "x": [
          -10.997339620023256,
          -8.190165252496248,
          -4.245838480733749,
          -10.615018539285726,
          -4.321156526837392,
          -3.947556710288793,
          -6.384727054644637,
          -7.676323744727338,
          6.16333289056962,
          2.3556101774070033,
          -3.1722394462067625,
          -4.934516648182774,
          -1.23300571041958,
          -6.762238986007116,
          -3.971522215077597,
          -0.8492703639693459,
          -8.487939428941447,
          -9.587448171236389,
          -5.16479619550666
         ],
         "xaxis": "x",
         "y": [
          -1.9090658714701283,
          -7.941342832415291,
          -4.256728397353756,
          -1.9644835617112888,
          6.737835655263264,
          -5.648965588900255,
          -1.6349448421403374,
          -0.2937263208855523,
          -3.7441780187951683,
          -1.4463487453734596,
          2.040448240087557,
          -7.208408934157545,
          0.4195044574133983,
          -1.422090244437556,
          -2.6642202011332974,
          -5.060207012785414,
          -4.454988691795629,
          -5.146918565091093,
          -7.514064874612897
         ],
         "yaxis": "y"
        },
        {
         "hovertemplate": "color=PNR<br>0=%{x}<br>1=%{y}<extra></extra>",
         "legendgroup": "PNR",
         "marker": {
          "color": "#B6E880",
          "symbol": "circle"
         },
         "mode": "markers",
         "name": "PNR",
         "orientation": "v",
         "showlegend": true,
         "type": "scatter",
         "x": [
          -0.7585725505086832,
          16.32660064228014,
          2.2219568656917956
         ],
         "xaxis": "x",
         "y": [
          -1.2934270732748046,
          0.6597194887046812,
          -4.7716418900757445
         ],
         "yaxis": "y"
        },
        {
         "hovertemplate": "color=PTW<br>0=%{x}<br>1=%{y}<extra></extra>",
         "legendgroup": "PTW",
         "marker": {
          "color": "#FF97FF",
          "symbol": "circle"
         },
         "mode": "markers",
         "name": "PTW",
         "orientation": "v",
         "showlegend": true,
         "type": "scatter",
         "x": [
          13.848719891558522,
          4.167373291539951,
          13.10300328186534,
          17.619747495814718,
          16.43182112204144,
          19.74963340300039,
          13.133649542754782,
          16.499337543092228,
          7.882296818779265,
          7.15282243651101
         ],
         "xaxis": "x",
         "y": [
          -2.468650704096121,
          -4.3255438254410095,
          -0.381276096082697,
          -2.3307829066546972,
          -1.1609535930897144,
          -2.473492417693061,
          1.3478265801916673,
          2.3687905872952424,
          4.347648982067731,
          0.7207261883628303
         ],
         "yaxis": "y"
        },
        {
         "hovertemplate": "color=RF<br>0=%{x}<br>1=%{y}<extra></extra>",
         "legendgroup": "RF",
         "marker": {
          "color": "#FECB52",
          "symbol": "circle"
         },
         "mode": "markers",
         "name": "RF",
         "orientation": "v",
         "showlegend": true,
         "type": "scatter",
         "x": [
          -7.125982576277442,
          -1.049918677212158,
          -5.348398688237706,
          -1.928363202956776,
          -0.3325691763279336,
          -9.824773882647218,
          -2.4046046013341114,
          -5.3300721327153875,
          2.0108475724629074,
          1.5380804503850918,
          -1.9425947355438777
         ],
         "xaxis": "x",
         "y": [
          -3.860095949065193,
          -2.580396963884042,
          -6.0870679943785095,
          3.4656805801606967,
          19.925323188643677,
          0.008448319015888283,
          4.046708171014417,
          -4.957794526192523,
          0.3270377548170454,
          -1.9390019734392487,
          8.753152242953519
         ],
         "yaxis": "y"
        },
        {
         "hovertemplate": "color=RGT<br>0=%{x}<br>1=%{y}<extra></extra>",
         "legendgroup": "RGT",
         "marker": {
          "color": "#636efa",
          "symbol": "circle"
         },
         "mode": "markers",
         "name": "RGT",
         "orientation": "v",
         "showlegend": true,
         "type": "scatter",
         "x": [
          -8.199420411925185,
          -9.011586227278816,
          -0.794724928014542,
          -4.365245021119905,
          -3.5667519349675714,
          -5.623840733476093,
          -1.3789276431230786
         ],
         "xaxis": "x",
         "y": [
          -1.0772740044022933,
          5.097596726145612,
          -5.109369512559415,
          1.014968776108302,
          -10.788100244431048,
          -10.847562604528738,
          -13.861408174418083
         ],
         "yaxis": "y"
        },
        {
         "hovertemplate": "color=RRL<br>0=%{x}<br>1=%{y}<extra></extra>",
         "legendgroup": "RRL",
         "marker": {
          "color": "#EF553B",
          "symbol": "circle"
         },
         "mode": "markers",
         "name": "RRL",
         "orientation": "v",
         "showlegend": true,
         "type": "scatter",
         "x": [
          -0.4027425003718955,
          0.09515304217084779,
          -3.765455558859136,
          3.1824990408317264,
          -0.07579776835794189,
          0.22120186720294244,
          -4.723278244638089,
          0.7982893396411763,
          -3.622432486449239,
          -4.708331992899108,
          -1.938340025836049,
          -0.8192340119170797,
          1.6818364072738268,
          -1.2507593361613953,
          -4.0332740089846775,
          -3.871175509926719,
          -4.612247705865171,
          -6.980986021429531,
          -4.505037136766673
         ],
         "xaxis": "x",
         "y": [
          13.752888515327228,
          3.7047154618276483,
          12.405837243087651,
          6.511780220831421,
          5.113334093340042,
          2.848439318045528,
          10.967785870877764,
          4.8721587117719825,
          0.3930008023396675,
          9.891768949067329,
          9.829251547771948,
          5.699644551188421,
          3.9738489755362782,
          7.754285206396946,
          9.888873636277687,
          4.39019851547061,
          12.41332101483394,
          19.011417476403544,
          15.449689113433438
         ],
         "yaxis": "y"
        },
        {
         "hovertemplate": "color=SLG<br>0=%{x}<br>1=%{y}<extra></extra>",
         "legendgroup": "SLG",
         "marker": {
          "color": "#00cc96",
          "symbol": "circle"
         },
         "mode": "markers",
         "name": "SLG",
         "orientation": "v",
         "showlegend": true,
         "type": "scatter",
         "x": [
          -0.6204580424987916,
          -9.687866425897749,
          -2.7073642815174583,
          -5.081801462017171,
          -5.199089658529635,
          -3.0129363596061203,
          9.580301540163537,
          -2.7244109587545857,
          -3.9088904360083796,
          -7.403884622116776,
          -0.33025374390984646,
          -0.9123456942265179,
          -7.409433557363685,
          -4.090551432987449,
          -4.529236245866983,
          -3.623267858217522,
          -7.36638391407456
         ],
         "xaxis": "x",
         "y": [
          10.02507953104316,
          -1.4526730812001007,
          -5.7690947198561275,
          2.779944428125554,
          -5.476212960886289,
          -10.590146961902056,
          1.599365903601711,
          2.7610993420861085,
          4.70941618801156,
          -8.515185141782469,
          -3.623134932280651,
          -5.50977266841957,
          19.69560124409061,
          9.957040953339927,
          12.052175523590103,
          6.18540589331998,
          -3.379413149371713
         ],
         "yaxis": "y"
        }
       ],
       "layout": {
        "legend": {
         "title": {
          "text": "color"
         },
         "tracegroupgap": 0
        },
        "margin": {
         "t": 60
        },
        "template": {
         "data": {
          "bar": [
           {
            "error_x": {
             "color": "#2a3f5f"
            },
            "error_y": {
             "color": "#2a3f5f"
            },
            "marker": {
             "line": {
              "color": "#E5ECF6",
              "width": 0.5
             },
             "pattern": {
              "fillmode": "overlay",
              "size": 10,
              "solidity": 0.2
             }
            },
            "type": "bar"
           }
          ],
          "barpolar": [
           {
            "marker": {
             "line": {
              "color": "#E5ECF6",
              "width": 0.5
             },
             "pattern": {
              "fillmode": "overlay",
              "size": 10,
              "solidity": 0.2
             }
            },
            "type": "barpolar"
           }
          ],
          "carpet": [
           {
            "aaxis": {
             "endlinecolor": "#2a3f5f",
             "gridcolor": "white",
             "linecolor": "white",
             "minorgridcolor": "white",
             "startlinecolor": "#2a3f5f"
            },
            "baxis": {
             "endlinecolor": "#2a3f5f",
             "gridcolor": "white",
             "linecolor": "white",
             "minorgridcolor": "white",
             "startlinecolor": "#2a3f5f"
            },
            "type": "carpet"
           }
          ],
          "choropleth": [
           {
            "colorbar": {
             "outlinewidth": 0,
             "ticks": ""
            },
            "type": "choropleth"
           }
          ],
          "contour": [
           {
            "colorbar": {
             "outlinewidth": 0,
             "ticks": ""
            },
            "colorscale": [
             [
              0,
              "#0d0887"
             ],
             [
              0.1111111111111111,
              "#46039f"
             ],
             [
              0.2222222222222222,
              "#7201a8"
             ],
             [
              0.3333333333333333,
              "#9c179e"
             ],
             [
              0.4444444444444444,
              "#bd3786"
             ],
             [
              0.5555555555555556,
              "#d8576b"
             ],
             [
              0.6666666666666666,
              "#ed7953"
             ],
             [
              0.7777777777777778,
              "#fb9f3a"
             ],
             [
              0.8888888888888888,
              "#fdca26"
             ],
             [
              1,
              "#f0f921"
             ]
            ],
            "type": "contour"
           }
          ],
          "contourcarpet": [
           {
            "colorbar": {
             "outlinewidth": 0,
             "ticks": ""
            },
            "type": "contourcarpet"
           }
          ],
          "heatmap": [
           {
            "colorbar": {
             "outlinewidth": 0,
             "ticks": ""
            },
            "colorscale": [
             [
              0,
              "#0d0887"
             ],
             [
              0.1111111111111111,
              "#46039f"
             ],
             [
              0.2222222222222222,
              "#7201a8"
             ],
             [
              0.3333333333333333,
              "#9c179e"
             ],
             [
              0.4444444444444444,
              "#bd3786"
             ],
             [
              0.5555555555555556,
              "#d8576b"
             ],
             [
              0.6666666666666666,
              "#ed7953"
             ],
             [
              0.7777777777777778,
              "#fb9f3a"
             ],
             [
              0.8888888888888888,
              "#fdca26"
             ],
             [
              1,
              "#f0f921"
             ]
            ],
            "type": "heatmap"
           }
          ],
          "heatmapgl": [
           {
            "colorbar": {
             "outlinewidth": 0,
             "ticks": ""
            },
            "colorscale": [
             [
              0,
              "#0d0887"
             ],
             [
              0.1111111111111111,
              "#46039f"
             ],
             [
              0.2222222222222222,
              "#7201a8"
             ],
             [
              0.3333333333333333,
              "#9c179e"
             ],
             [
              0.4444444444444444,
              "#bd3786"
             ],
             [
              0.5555555555555556,
              "#d8576b"
             ],
             [
              0.6666666666666666,
              "#ed7953"
             ],
             [
              0.7777777777777778,
              "#fb9f3a"
             ],
             [
              0.8888888888888888,
              "#fdca26"
             ],
             [
              1,
              "#f0f921"
             ]
            ],
            "type": "heatmapgl"
           }
          ],
          "histogram": [
           {
            "marker": {
             "pattern": {
              "fillmode": "overlay",
              "size": 10,
              "solidity": 0.2
             }
            },
            "type": "histogram"
           }
          ],
          "histogram2d": [
           {
            "colorbar": {
             "outlinewidth": 0,
             "ticks": ""
            },
            "colorscale": [
             [
              0,
              "#0d0887"
             ],
             [
              0.1111111111111111,
              "#46039f"
             ],
             [
              0.2222222222222222,
              "#7201a8"
             ],
             [
              0.3333333333333333,
              "#9c179e"
             ],
             [
              0.4444444444444444,
              "#bd3786"
             ],
             [
              0.5555555555555556,
              "#d8576b"
             ],
             [
              0.6666666666666666,
              "#ed7953"
             ],
             [
              0.7777777777777778,
              "#fb9f3a"
             ],
             [
              0.8888888888888888,
              "#fdca26"
             ],
             [
              1,
              "#f0f921"
             ]
            ],
            "type": "histogram2d"
           }
          ],
          "histogram2dcontour": [
           {
            "colorbar": {
             "outlinewidth": 0,
             "ticks": ""
            },
            "colorscale": [
             [
              0,
              "#0d0887"
             ],
             [
              0.1111111111111111,
              "#46039f"
             ],
             [
              0.2222222222222222,
              "#7201a8"
             ],
             [
              0.3333333333333333,
              "#9c179e"
             ],
             [
              0.4444444444444444,
              "#bd3786"
             ],
             [
              0.5555555555555556,
              "#d8576b"
             ],
             [
              0.6666666666666666,
              "#ed7953"
             ],
             [
              0.7777777777777778,
              "#fb9f3a"
             ],
             [
              0.8888888888888888,
              "#fdca26"
             ],
             [
              1,
              "#f0f921"
             ]
            ],
            "type": "histogram2dcontour"
           }
          ],
          "mesh3d": [
           {
            "colorbar": {
             "outlinewidth": 0,
             "ticks": ""
            },
            "type": "mesh3d"
           }
          ],
          "parcoords": [
           {
            "line": {
             "colorbar": {
              "outlinewidth": 0,
              "ticks": ""
             }
            },
            "type": "parcoords"
           }
          ],
          "pie": [
           {
            "automargin": true,
            "type": "pie"
           }
          ],
          "scatter": [
           {
            "fillpattern": {
             "fillmode": "overlay",
             "size": 10,
             "solidity": 0.2
            },
            "type": "scatter"
           }
          ],
          "scatter3d": [
           {
            "line": {
             "colorbar": {
              "outlinewidth": 0,
              "ticks": ""
             }
            },
            "marker": {
             "colorbar": {
              "outlinewidth": 0,
              "ticks": ""
             }
            },
            "type": "scatter3d"
           }
          ],
          "scattercarpet": [
           {
            "marker": {
             "colorbar": {
              "outlinewidth": 0,
              "ticks": ""
             }
            },
            "type": "scattercarpet"
           }
          ],
          "scattergeo": [
           {
            "marker": {
             "colorbar": {
              "outlinewidth": 0,
              "ticks": ""
             }
            },
            "type": "scattergeo"
           }
          ],
          "scattergl": [
           {
            "marker": {
             "colorbar": {
              "outlinewidth": 0,
              "ticks": ""
             }
            },
            "type": "scattergl"
           }
          ],
          "scattermapbox": [
           {
            "marker": {
             "colorbar": {
              "outlinewidth": 0,
              "ticks": ""
             }
            },
            "type": "scattermapbox"
           }
          ],
          "scatterpolar": [
           {
            "marker": {
             "colorbar": {
              "outlinewidth": 0,
              "ticks": ""
             }
            },
            "type": "scatterpolar"
           }
          ],
          "scatterpolargl": [
           {
            "marker": {
             "colorbar": {
              "outlinewidth": 0,
              "ticks": ""
             }
            },
            "type": "scatterpolargl"
           }
          ],
          "scatterternary": [
           {
            "marker": {
             "colorbar": {
              "outlinewidth": 0,
              "ticks": ""
             }
            },
            "type": "scatterternary"
           }
          ],
          "surface": [
           {
            "colorbar": {
             "outlinewidth": 0,
             "ticks": ""
            },
            "colorscale": [
             [
              0,
              "#0d0887"
             ],
             [
              0.1111111111111111,
              "#46039f"
             ],
             [
              0.2222222222222222,
              "#7201a8"
             ],
             [
              0.3333333333333333,
              "#9c179e"
             ],
             [
              0.4444444444444444,
              "#bd3786"
             ],
             [
              0.5555555555555556,
              "#d8576b"
             ],
             [
              0.6666666666666666,
              "#ed7953"
             ],
             [
              0.7777777777777778,
              "#fb9f3a"
             ],
             [
              0.8888888888888888,
              "#fdca26"
             ],
             [
              1,
              "#f0f921"
             ]
            ],
            "type": "surface"
           }
          ],
          "table": [
           {
            "cells": {
             "fill": {
              "color": "#EBF0F8"
             },
             "line": {
              "color": "white"
             }
            },
            "header": {
             "fill": {
              "color": "#C8D4E3"
             },
             "line": {
              "color": "white"
             }
            },
            "type": "table"
           }
          ]
         },
         "layout": {
          "annotationdefaults": {
           "arrowcolor": "#2a3f5f",
           "arrowhead": 0,
           "arrowwidth": 1
          },
          "autotypenumbers": "strict",
          "coloraxis": {
           "colorbar": {
            "outlinewidth": 0,
            "ticks": ""
           }
          },
          "colorscale": {
           "diverging": [
            [
             0,
             "#8e0152"
            ],
            [
             0.1,
             "#c51b7d"
            ],
            [
             0.2,
             "#de77ae"
            ],
            [
             0.3,
             "#f1b6da"
            ],
            [
             0.4,
             "#fde0ef"
            ],
            [
             0.5,
             "#f7f7f7"
            ],
            [
             0.6,
             "#e6f5d0"
            ],
            [
             0.7,
             "#b8e186"
            ],
            [
             0.8,
             "#7fbc41"
            ],
            [
             0.9,
             "#4d9221"
            ],
            [
             1,
             "#276419"
            ]
           ],
           "sequential": [
            [
             0,
             "#0d0887"
            ],
            [
             0.1111111111111111,
             "#46039f"
            ],
            [
             0.2222222222222222,
             "#7201a8"
            ],
            [
             0.3333333333333333,
             "#9c179e"
            ],
            [
             0.4444444444444444,
             "#bd3786"
            ],
            [
             0.5555555555555556,
             "#d8576b"
            ],
            [
             0.6666666666666666,
             "#ed7953"
            ],
            [
             0.7777777777777778,
             "#fb9f3a"
            ],
            [
             0.8888888888888888,
             "#fdca26"
            ],
            [
             1,
             "#f0f921"
            ]
           ],
           "sequentialminus": [
            [
             0,
             "#0d0887"
            ],
            [
             0.1111111111111111,
             "#46039f"
            ],
            [
             0.2222222222222222,
             "#7201a8"
            ],
            [
             0.3333333333333333,
             "#9c179e"
            ],
            [
             0.4444444444444444,
             "#bd3786"
            ],
            [
             0.5555555555555556,
             "#d8576b"
            ],
            [
             0.6666666666666666,
             "#ed7953"
            ],
            [
             0.7777777777777778,
             "#fb9f3a"
            ],
            [
             0.8888888888888888,
             "#fdca26"
            ],
            [
             1,
             "#f0f921"
            ]
           ]
          },
          "colorway": [
           "#636efa",
           "#EF553B",
           "#00cc96",
           "#ab63fa",
           "#FFA15A",
           "#19d3f3",
           "#FF6692",
           "#B6E880",
           "#FF97FF",
           "#FECB52"
          ],
          "font": {
           "color": "#2a3f5f"
          },
          "geo": {
           "bgcolor": "white",
           "lakecolor": "white",
           "landcolor": "#E5ECF6",
           "showlakes": true,
           "showland": true,
           "subunitcolor": "white"
          },
          "hoverlabel": {
           "align": "left"
          },
          "hovermode": "closest",
          "mapbox": {
           "style": "light"
          },
          "paper_bgcolor": "white",
          "plot_bgcolor": "#E5ECF6",
          "polar": {
           "angularaxis": {
            "gridcolor": "white",
            "linecolor": "white",
            "ticks": ""
           },
           "bgcolor": "#E5ECF6",
           "radialaxis": {
            "gridcolor": "white",
            "linecolor": "white",
            "ticks": ""
           }
          },
          "scene": {
           "xaxis": {
            "backgroundcolor": "#E5ECF6",
            "gridcolor": "white",
            "gridwidth": 2,
            "linecolor": "white",
            "showbackground": true,
            "ticks": "",
            "zerolinecolor": "white"
           },
           "yaxis": {
            "backgroundcolor": "#E5ECF6",
            "gridcolor": "white",
            "gridwidth": 2,
            "linecolor": "white",
            "showbackground": true,
            "ticks": "",
            "zerolinecolor": "white"
           },
           "zaxis": {
            "backgroundcolor": "#E5ECF6",
            "gridcolor": "white",
            "gridwidth": 2,
            "linecolor": "white",
            "showbackground": true,
            "ticks": "",
            "zerolinecolor": "white"
           }
          },
          "shapedefaults": {
           "line": {
            "color": "#2a3f5f"
           }
          },
          "ternary": {
           "aaxis": {
            "gridcolor": "white",
            "linecolor": "white",
            "ticks": ""
           },
           "baxis": {
            "gridcolor": "white",
            "linecolor": "white",
            "ticks": ""
           },
           "bgcolor": "#E5ECF6",
           "caxis": {
            "gridcolor": "white",
            "linecolor": "white",
            "ticks": ""
           }
          },
          "title": {
           "x": 0.05
          },
          "xaxis": {
           "automargin": true,
           "gridcolor": "white",
           "linecolor": "white",
           "ticks": "",
           "title": {
            "standoff": 15
           },
           "zerolinecolor": "white",
           "zerolinewidth": 2
          },
          "yaxis": {
           "automargin": true,
           "gridcolor": "white",
           "linecolor": "white",
           "ticks": "",
           "title": {
            "standoff": 15
           },
           "zerolinecolor": "white",
           "zerolinewidth": 2
          }
         }
        },
        "title": {
         "text": "Plant Nutrients by Site Not Including Nitrogen PCA"
        },
        "xaxis": {
         "anchor": "y",
         "domain": [
          0,
          1
         ],
         "title": {
          "text": "PC1 10.3%"
         }
        },
        "yaxis": {
         "anchor": "x",
         "domain": [
          0,
          1
         ],
         "title": {
          "text": "PC2 7.7%"
         }
        }
       }
      },
      "text/html": [
       "<div>                            <div id=\"9b251baf-7a68-4ffc-810a-a6a16ce7a303\" class=\"plotly-graph-div\" style=\"height:525px; width:100%;\"></div>            <script type=\"text/javascript\">                require([\"plotly\"], function(Plotly) {                    window.PLOTLYENV=window.PLOTLYENV || {};                                    if (document.getElementById(\"9b251baf-7a68-4ffc-810a-a6a16ce7a303\")) {                    Plotly.newPlot(                        \"9b251baf-7a68-4ffc-810a-a6a16ce7a303\",                        [{\"hovertemplate\":\"color=CMB<br>0=%{x}<br>1=%{y}<extra></extra>\",\"legendgroup\":\"CMB\",\"marker\":{\"color\":\"#636efa\",\"symbol\":\"circle\"},\"mode\":\"markers\",\"name\":\"CMB\",\"orientation\":\"v\",\"showlegend\":true,\"x\":[5.818226970042154,3.5398139994880937,0.4731927936934165,-0.5073338429429298,23.448797851736398,8.667881195689427,8.172163887740613,6.2780092488852,14.157486173951831,9.1058907933376,0.17890283294638867,-0.5650211842204194,-1.3757700702410836,4.392810100203098,0.21257090167606466,0.8772970830175529,-0.04619712966206907,1.0137684686007558,-0.12624576207718197,29.848718298522993],\"xaxis\":\"x\",\"y\":[-1.4760880322059784,-0.024744944760157636,0.2629501762836895,3.032379418929916,0.25917504094554356,-0.4431231022121071,2.8236987165875744,1.9257521739315295,7.607989339978281,0.0737947428210127,1.5669444587631844,-4.033977156088415,0.9871021856262636,-2.975782436530077,2.079623386227596,-4.219749289138765,4.0742799786465635,5.738375528503582,2.491342066755728,-1.8783736710277115],\"yaxis\":\"y\",\"type\":\"scatter\"},{\"hovertemplate\":\"color=FRW<br>0=%{x}<br>1=%{y}<extra></extra>\",\"legendgroup\":\"FRW\",\"marker\":{\"color\":\"#EF553B\",\"symbol\":\"circle\"},\"mode\":\"markers\",\"name\":\"FRW\",\"orientation\":\"v\",\"showlegend\":true,\"x\":[-9.782256909448426,-3.6435542239068353,-2.283033990668756,-4.110804234680134,-1.104310786569694,1.5220964728106086,-2.630077291222968,-6.96013444520536,-8.864086595672156,-3.640816061379994,0.572054343014756],\"xaxis\":\"x\",\"y\":[-3.623177511536065,-8.178716817865972,-6.011042962849966,-3.2958241864241087,-0.8361971754609345,-3.4256943098438737,-4.3472834384891454,-3.5424512429388626,-3.893190254774811,-1.0234738996158579,-9.198148375163113],\"yaxis\":\"y\",\"type\":\"scatter\"},{\"hovertemplate\":\"color=HR<br>0=%{x}<br>1=%{y}<extra></extra>\",\"legendgroup\":\"HR\",\"marker\":{\"color\":\"#00cc96\",\"symbol\":\"circle\"},\"mode\":\"markers\",\"name\":\"HR\",\"orientation\":\"v\",\"showlegend\":true,\"x\":[-3.4656915193703632,-0.025618192976934257,0.10137262954594109,-0.5795706278656911,2.069715669058645,-1.677771750650545],\"xaxis\":\"x\",\"y\":[0.6483535593356536,-6.1266264763366785,-11.819194963959383,-8.592683726974535,-5.11849169535995,-7.474186514223602],\"yaxis\":\"y\",\"type\":\"scatter\"},{\"hovertemplate\":\"color=LFS<br>0=%{x}<br>1=%{y}<extra></extra>\",\"legendgroup\":\"LFS\",\"marker\":{\"color\":\"#ab63fa\",\"symbol\":\"circle\"},\"mode\":\"markers\",\"name\":\"LFS\",\"orientation\":\"v\",\"showlegend\":true,\"x\":[-4.188629817368057,5.499084570243376,7.458181136022475,-2.2472134223428837,5.974460864027378,10.566673996403061,-0.34400939036887396,-6.701542997887872,-2.0327267584124287,-3.5969361964602737,0.7907992748601148,-1.512472905964227,-0.525647034734414,1.906401012607832],\"xaxis\":\"x\",\"y\":[8.972159793800827,-4.50353490510484,-0.7400994802152793,3.2414412248360622,-2.748812394492461,-6.5264508891300315,1.4114129692315174,7.292562711675721,3.9478642925737737,11.803588771903426,-3.472974496522429,10.537475905834693,-0.9587085942960341,-1.849465264750272],\"yaxis\":\"y\",\"type\":\"scatter\"},{\"hovertemplate\":\"color=LM<br>0=%{x}<br>1=%{y}<extra></extra>\",\"legendgroup\":\"LM\",\"marker\":{\"color\":\"#FFA15A\",\"symbol\":\"circle\"},\"mode\":\"markers\",\"name\":\"LM\",\"orientation\":\"v\",\"showlegend\":true,\"x\":[-3.296327238519019,-5.784164911217691,7.069372595719329,7.190743874023068,0.33755227224874074,23.054158397188854,-0.16309480845482355,-8.901780709186514,-3.5563055827007566,9.664067356669204,-6.525343482560181,11.068757020363563,0.26850609222923916,2.203049966321043,-7.501845010758465,16.44594425750389,-2.873683578539849,-5.795010668383118,-3.8882942916150847,5.037483336576242],\"xaxis\":\"x\",\"y\":[-8.276306852316063,-6.917816251137267,-2.3000558480249307,-1.4377406542092592,-1.7626055213461402,2.3864803215046315,-1.996924509394014,-1.8509765371080926,-4.562431718673632,-0.032871647862491235,-5.936052431939577,-4.572591207861218,4.760542016143116,3.5780351765486413,-1.714340849635629,1.3397714302166748,6.5809625220830466,-8.477628736180945,-9.27174897405802,-1.251249357320095],\"yaxis\":\"y\",\"type\":\"scatter\"},{\"hovertemplate\":\"color=MKP<br>0=%{x}<br>1=%{y}<extra></extra>\",\"legendgroup\":\"MKP\",\"marker\":{\"color\":\"#19d3f3\",\"symbol\":\"circle\"},\"mode\":\"markers\",\"name\":\"MKP\",\"orientation\":\"v\",\"showlegend\":true,\"x\":[-4.5582154393275545,-2.1065038151796007,1.672800542921862,-0.48553599880158294,-8.587020927326234,14.525949749337512,-3.6776856030524945,-3.265868264035811],\"xaxis\":\"x\",\"y\":[3.1662900924234805,0.2205408504176737,-2.382073767777115,1.079881741668125,-3.854402856463089,-0.3894572686962048,-9.962783627735224,-7.561071164985792],\"yaxis\":\"y\",\"type\":\"scatter\"},{\"hovertemplate\":\"color=MMP<br>0=%{x}<br>1=%{y}<extra></extra>\",\"legendgroup\":\"MMP\",\"marker\":{\"color\":\"#FF6692\",\"symbol\":\"circle\"},\"mode\":\"markers\",\"name\":\"MMP\",\"orientation\":\"v\",\"showlegend\":true,\"x\":[-10.997339620023256,-8.190165252496248,-4.245838480733749,-10.615018539285726,-4.321156526837392,-3.947556710288793,-6.384727054644637,-7.676323744727338,6.16333289056962,2.3556101774070033,-3.1722394462067625,-4.934516648182774,-1.23300571041958,-6.762238986007116,-3.971522215077597,-0.8492703639693459,-8.487939428941447,-9.587448171236389,-5.16479619550666],\"xaxis\":\"x\",\"y\":[-1.9090658714701283,-7.941342832415291,-4.256728397353756,-1.9644835617112888,6.737835655263264,-5.648965588900255,-1.6349448421403374,-0.2937263208855523,-3.7441780187951683,-1.4463487453734596,2.040448240087557,-7.208408934157545,0.4195044574133983,-1.422090244437556,-2.6642202011332974,-5.060207012785414,-4.454988691795629,-5.146918565091093,-7.514064874612897],\"yaxis\":\"y\",\"type\":\"scatter\"},{\"hovertemplate\":\"color=PNR<br>0=%{x}<br>1=%{y}<extra></extra>\",\"legendgroup\":\"PNR\",\"marker\":{\"color\":\"#B6E880\",\"symbol\":\"circle\"},\"mode\":\"markers\",\"name\":\"PNR\",\"orientation\":\"v\",\"showlegend\":true,\"x\":[-0.7585725505086832,16.32660064228014,2.2219568656917956],\"xaxis\":\"x\",\"y\":[-1.2934270732748046,0.6597194887046812,-4.7716418900757445],\"yaxis\":\"y\",\"type\":\"scatter\"},{\"hovertemplate\":\"color=PTW<br>0=%{x}<br>1=%{y}<extra></extra>\",\"legendgroup\":\"PTW\",\"marker\":{\"color\":\"#FF97FF\",\"symbol\":\"circle\"},\"mode\":\"markers\",\"name\":\"PTW\",\"orientation\":\"v\",\"showlegend\":true,\"x\":[13.848719891558522,4.167373291539951,13.10300328186534,17.619747495814718,16.43182112204144,19.74963340300039,13.133649542754782,16.499337543092228,7.882296818779265,7.15282243651101],\"xaxis\":\"x\",\"y\":[-2.468650704096121,-4.3255438254410095,-0.381276096082697,-2.3307829066546972,-1.1609535930897144,-2.473492417693061,1.3478265801916673,2.3687905872952424,4.347648982067731,0.7207261883628303],\"yaxis\":\"y\",\"type\":\"scatter\"},{\"hovertemplate\":\"color=RF<br>0=%{x}<br>1=%{y}<extra></extra>\",\"legendgroup\":\"RF\",\"marker\":{\"color\":\"#FECB52\",\"symbol\":\"circle\"},\"mode\":\"markers\",\"name\":\"RF\",\"orientation\":\"v\",\"showlegend\":true,\"x\":[-7.125982576277442,-1.049918677212158,-5.348398688237706,-1.928363202956776,-0.3325691763279336,-9.824773882647218,-2.4046046013341114,-5.3300721327153875,2.0108475724629074,1.5380804503850918,-1.9425947355438777],\"xaxis\":\"x\",\"y\":[-3.860095949065193,-2.580396963884042,-6.0870679943785095,3.4656805801606967,19.925323188643677,0.008448319015888283,4.046708171014417,-4.957794526192523,0.3270377548170454,-1.9390019734392487,8.753152242953519],\"yaxis\":\"y\",\"type\":\"scatter\"},{\"hovertemplate\":\"color=RGT<br>0=%{x}<br>1=%{y}<extra></extra>\",\"legendgroup\":\"RGT\",\"marker\":{\"color\":\"#636efa\",\"symbol\":\"circle\"},\"mode\":\"markers\",\"name\":\"RGT\",\"orientation\":\"v\",\"showlegend\":true,\"x\":[-8.199420411925185,-9.011586227278816,-0.794724928014542,-4.365245021119905,-3.5667519349675714,-5.623840733476093,-1.3789276431230786],\"xaxis\":\"x\",\"y\":[-1.0772740044022933,5.097596726145612,-5.109369512559415,1.014968776108302,-10.788100244431048,-10.847562604528738,-13.861408174418083],\"yaxis\":\"y\",\"type\":\"scatter\"},{\"hovertemplate\":\"color=RRL<br>0=%{x}<br>1=%{y}<extra></extra>\",\"legendgroup\":\"RRL\",\"marker\":{\"color\":\"#EF553B\",\"symbol\":\"circle\"},\"mode\":\"markers\",\"name\":\"RRL\",\"orientation\":\"v\",\"showlegend\":true,\"x\":[-0.4027425003718955,0.09515304217084779,-3.765455558859136,3.1824990408317264,-0.07579776835794189,0.22120186720294244,-4.723278244638089,0.7982893396411763,-3.622432486449239,-4.708331992899108,-1.938340025836049,-0.8192340119170797,1.6818364072738268,-1.2507593361613953,-4.0332740089846775,-3.871175509926719,-4.612247705865171,-6.980986021429531,-4.505037136766673],\"xaxis\":\"x\",\"y\":[13.752888515327228,3.7047154618276483,12.405837243087651,6.511780220831421,5.113334093340042,2.848439318045528,10.967785870877764,4.8721587117719825,0.3930008023396675,9.891768949067329,9.829251547771948,5.699644551188421,3.9738489755362782,7.754285206396946,9.888873636277687,4.39019851547061,12.41332101483394,19.011417476403544,15.449689113433438],\"yaxis\":\"y\",\"type\":\"scatter\"},{\"hovertemplate\":\"color=SLG<br>0=%{x}<br>1=%{y}<extra></extra>\",\"legendgroup\":\"SLG\",\"marker\":{\"color\":\"#00cc96\",\"symbol\":\"circle\"},\"mode\":\"markers\",\"name\":\"SLG\",\"orientation\":\"v\",\"showlegend\":true,\"x\":[-0.6204580424987916,-9.687866425897749,-2.7073642815174583,-5.081801462017171,-5.199089658529635,-3.0129363596061203,9.580301540163537,-2.7244109587545857,-3.9088904360083796,-7.403884622116776,-0.33025374390984646,-0.9123456942265179,-7.409433557363685,-4.090551432987449,-4.529236245866983,-3.623267858217522,-7.36638391407456],\"xaxis\":\"x\",\"y\":[10.02507953104316,-1.4526730812001007,-5.7690947198561275,2.779944428125554,-5.476212960886289,-10.590146961902056,1.599365903601711,2.7610993420861085,4.70941618801156,-8.515185141782469,-3.623134932280651,-5.50977266841957,19.69560124409061,9.957040953339927,12.052175523590103,6.18540589331998,-3.379413149371713],\"yaxis\":\"y\",\"type\":\"scatter\"}],                        {\"template\":{\"data\":{\"histogram2dcontour\":[{\"type\":\"histogram2dcontour\",\"colorbar\":{\"outlinewidth\":0,\"ticks\":\"\"},\"colorscale\":[[0.0,\"#0d0887\"],[0.1111111111111111,\"#46039f\"],[0.2222222222222222,\"#7201a8\"],[0.3333333333333333,\"#9c179e\"],[0.4444444444444444,\"#bd3786\"],[0.5555555555555556,\"#d8576b\"],[0.6666666666666666,\"#ed7953\"],[0.7777777777777778,\"#fb9f3a\"],[0.8888888888888888,\"#fdca26\"],[1.0,\"#f0f921\"]]}],\"choropleth\":[{\"type\":\"choropleth\",\"colorbar\":{\"outlinewidth\":0,\"ticks\":\"\"}}],\"histogram2d\":[{\"type\":\"histogram2d\",\"colorbar\":{\"outlinewidth\":0,\"ticks\":\"\"},\"colorscale\":[[0.0,\"#0d0887\"],[0.1111111111111111,\"#46039f\"],[0.2222222222222222,\"#7201a8\"],[0.3333333333333333,\"#9c179e\"],[0.4444444444444444,\"#bd3786\"],[0.5555555555555556,\"#d8576b\"],[0.6666666666666666,\"#ed7953\"],[0.7777777777777778,\"#fb9f3a\"],[0.8888888888888888,\"#fdca26\"],[1.0,\"#f0f921\"]]}],\"heatmap\":[{\"type\":\"heatmap\",\"colorbar\":{\"outlinewidth\":0,\"ticks\":\"\"},\"colorscale\":[[0.0,\"#0d0887\"],[0.1111111111111111,\"#46039f\"],[0.2222222222222222,\"#7201a8\"],[0.3333333333333333,\"#9c179e\"],[0.4444444444444444,\"#bd3786\"],[0.5555555555555556,\"#d8576b\"],[0.6666666666666666,\"#ed7953\"],[0.7777777777777778,\"#fb9f3a\"],[0.8888888888888888,\"#fdca26\"],[1.0,\"#f0f921\"]]}],\"heatmapgl\":[{\"type\":\"heatmapgl\",\"colorbar\":{\"outlinewidth\":0,\"ticks\":\"\"},\"colorscale\":[[0.0,\"#0d0887\"],[0.1111111111111111,\"#46039f\"],[0.2222222222222222,\"#7201a8\"],[0.3333333333333333,\"#9c179e\"],[0.4444444444444444,\"#bd3786\"],[0.5555555555555556,\"#d8576b\"],[0.6666666666666666,\"#ed7953\"],[0.7777777777777778,\"#fb9f3a\"],[0.8888888888888888,\"#fdca26\"],[1.0,\"#f0f921\"]]}],\"contourcarpet\":[{\"type\":\"contourcarpet\",\"colorbar\":{\"outlinewidth\":0,\"ticks\":\"\"}}],\"contour\":[{\"type\":\"contour\",\"colorbar\":{\"outlinewidth\":0,\"ticks\":\"\"},\"colorscale\":[[0.0,\"#0d0887\"],[0.1111111111111111,\"#46039f\"],[0.2222222222222222,\"#7201a8\"],[0.3333333333333333,\"#9c179e\"],[0.4444444444444444,\"#bd3786\"],[0.5555555555555556,\"#d8576b\"],[0.6666666666666666,\"#ed7953\"],[0.7777777777777778,\"#fb9f3a\"],[0.8888888888888888,\"#fdca26\"],[1.0,\"#f0f921\"]]}],\"surface\":[{\"type\":\"surface\",\"colorbar\":{\"outlinewidth\":0,\"ticks\":\"\"},\"colorscale\":[[0.0,\"#0d0887\"],[0.1111111111111111,\"#46039f\"],[0.2222222222222222,\"#7201a8\"],[0.3333333333333333,\"#9c179e\"],[0.4444444444444444,\"#bd3786\"],[0.5555555555555556,\"#d8576b\"],[0.6666666666666666,\"#ed7953\"],[0.7777777777777778,\"#fb9f3a\"],[0.8888888888888888,\"#fdca26\"],[1.0,\"#f0f921\"]]}],\"mesh3d\":[{\"type\":\"mesh3d\",\"colorbar\":{\"outlinewidth\":0,\"ticks\":\"\"}}],\"scatter\":[{\"fillpattern\":{\"fillmode\":\"overlay\",\"size\":10,\"solidity\":0.2},\"type\":\"scatter\"}],\"parcoords\":[{\"type\":\"parcoords\",\"line\":{\"colorbar\":{\"outlinewidth\":0,\"ticks\":\"\"}}}],\"scatterpolargl\":[{\"type\":\"scatterpolargl\",\"marker\":{\"colorbar\":{\"outlinewidth\":0,\"ticks\":\"\"}}}],\"bar\":[{\"error_x\":{\"color\":\"#2a3f5f\"},\"error_y\":{\"color\":\"#2a3f5f\"},\"marker\":{\"line\":{\"color\":\"#E5ECF6\",\"width\":0.5},\"pattern\":{\"fillmode\":\"overlay\",\"size\":10,\"solidity\":0.2}},\"type\":\"bar\"}],\"scattergeo\":[{\"type\":\"scattergeo\",\"marker\":{\"colorbar\":{\"outlinewidth\":0,\"ticks\":\"\"}}}],\"scatterpolar\":[{\"type\":\"scatterpolar\",\"marker\":{\"colorbar\":{\"outlinewidth\":0,\"ticks\":\"\"}}}],\"histogram\":[{\"marker\":{\"pattern\":{\"fillmode\":\"overlay\",\"size\":10,\"solidity\":0.2}},\"type\":\"histogram\"}],\"scattergl\":[{\"type\":\"scattergl\",\"marker\":{\"colorbar\":{\"outlinewidth\":0,\"ticks\":\"\"}}}],\"scatter3d\":[{\"type\":\"scatter3d\",\"line\":{\"colorbar\":{\"outlinewidth\":0,\"ticks\":\"\"}},\"marker\":{\"colorbar\":{\"outlinewidth\":0,\"ticks\":\"\"}}}],\"scattermapbox\":[{\"type\":\"scattermapbox\",\"marker\":{\"colorbar\":{\"outlinewidth\":0,\"ticks\":\"\"}}}],\"scatterternary\":[{\"type\":\"scatterternary\",\"marker\":{\"colorbar\":{\"outlinewidth\":0,\"ticks\":\"\"}}}],\"scattercarpet\":[{\"type\":\"scattercarpet\",\"marker\":{\"colorbar\":{\"outlinewidth\":0,\"ticks\":\"\"}}}],\"carpet\":[{\"aaxis\":{\"endlinecolor\":\"#2a3f5f\",\"gridcolor\":\"white\",\"linecolor\":\"white\",\"minorgridcolor\":\"white\",\"startlinecolor\":\"#2a3f5f\"},\"baxis\":{\"endlinecolor\":\"#2a3f5f\",\"gridcolor\":\"white\",\"linecolor\":\"white\",\"minorgridcolor\":\"white\",\"startlinecolor\":\"#2a3f5f\"},\"type\":\"carpet\"}],\"table\":[{\"cells\":{\"fill\":{\"color\":\"#EBF0F8\"},\"line\":{\"color\":\"white\"}},\"header\":{\"fill\":{\"color\":\"#C8D4E3\"},\"line\":{\"color\":\"white\"}},\"type\":\"table\"}],\"barpolar\":[{\"marker\":{\"line\":{\"color\":\"#E5ECF6\",\"width\":0.5},\"pattern\":{\"fillmode\":\"overlay\",\"size\":10,\"solidity\":0.2}},\"type\":\"barpolar\"}],\"pie\":[{\"automargin\":true,\"type\":\"pie\"}]},\"layout\":{\"autotypenumbers\":\"strict\",\"colorway\":[\"#636efa\",\"#EF553B\",\"#00cc96\",\"#ab63fa\",\"#FFA15A\",\"#19d3f3\",\"#FF6692\",\"#B6E880\",\"#FF97FF\",\"#FECB52\"],\"font\":{\"color\":\"#2a3f5f\"},\"hovermode\":\"closest\",\"hoverlabel\":{\"align\":\"left\"},\"paper_bgcolor\":\"white\",\"plot_bgcolor\":\"#E5ECF6\",\"polar\":{\"bgcolor\":\"#E5ECF6\",\"angularaxis\":{\"gridcolor\":\"white\",\"linecolor\":\"white\",\"ticks\":\"\"},\"radialaxis\":{\"gridcolor\":\"white\",\"linecolor\":\"white\",\"ticks\":\"\"}},\"ternary\":{\"bgcolor\":\"#E5ECF6\",\"aaxis\":{\"gridcolor\":\"white\",\"linecolor\":\"white\",\"ticks\":\"\"},\"baxis\":{\"gridcolor\":\"white\",\"linecolor\":\"white\",\"ticks\":\"\"},\"caxis\":{\"gridcolor\":\"white\",\"linecolor\":\"white\",\"ticks\":\"\"}},\"coloraxis\":{\"colorbar\":{\"outlinewidth\":0,\"ticks\":\"\"}},\"colorscale\":{\"sequential\":[[0.0,\"#0d0887\"],[0.1111111111111111,\"#46039f\"],[0.2222222222222222,\"#7201a8\"],[0.3333333333333333,\"#9c179e\"],[0.4444444444444444,\"#bd3786\"],[0.5555555555555556,\"#d8576b\"],[0.6666666666666666,\"#ed7953\"],[0.7777777777777778,\"#fb9f3a\"],[0.8888888888888888,\"#fdca26\"],[1.0,\"#f0f921\"]],\"sequentialminus\":[[0.0,\"#0d0887\"],[0.1111111111111111,\"#46039f\"],[0.2222222222222222,\"#7201a8\"],[0.3333333333333333,\"#9c179e\"],[0.4444444444444444,\"#bd3786\"],[0.5555555555555556,\"#d8576b\"],[0.6666666666666666,\"#ed7953\"],[0.7777777777777778,\"#fb9f3a\"],[0.8888888888888888,\"#fdca26\"],[1.0,\"#f0f921\"]],\"diverging\":[[0,\"#8e0152\"],[0.1,\"#c51b7d\"],[0.2,\"#de77ae\"],[0.3,\"#f1b6da\"],[0.4,\"#fde0ef\"],[0.5,\"#f7f7f7\"],[0.6,\"#e6f5d0\"],[0.7,\"#b8e186\"],[0.8,\"#7fbc41\"],[0.9,\"#4d9221\"],[1,\"#276419\"]]},\"xaxis\":{\"gridcolor\":\"white\",\"linecolor\":\"white\",\"ticks\":\"\",\"title\":{\"standoff\":15},\"zerolinecolor\":\"white\",\"automargin\":true,\"zerolinewidth\":2},\"yaxis\":{\"gridcolor\":\"white\",\"linecolor\":\"white\",\"ticks\":\"\",\"title\":{\"standoff\":15},\"zerolinecolor\":\"white\",\"automargin\":true,\"zerolinewidth\":2},\"scene\":{\"xaxis\":{\"backgroundcolor\":\"#E5ECF6\",\"gridcolor\":\"white\",\"linecolor\":\"white\",\"showbackground\":true,\"ticks\":\"\",\"zerolinecolor\":\"white\",\"gridwidth\":2},\"yaxis\":{\"backgroundcolor\":\"#E5ECF6\",\"gridcolor\":\"white\",\"linecolor\":\"white\",\"showbackground\":true,\"ticks\":\"\",\"zerolinecolor\":\"white\",\"gridwidth\":2},\"zaxis\":{\"backgroundcolor\":\"#E5ECF6\",\"gridcolor\":\"white\",\"linecolor\":\"white\",\"showbackground\":true,\"ticks\":\"\",\"zerolinecolor\":\"white\",\"gridwidth\":2}},\"shapedefaults\":{\"line\":{\"color\":\"#2a3f5f\"}},\"annotationdefaults\":{\"arrowcolor\":\"#2a3f5f\",\"arrowhead\":0,\"arrowwidth\":1},\"geo\":{\"bgcolor\":\"white\",\"landcolor\":\"#E5ECF6\",\"subunitcolor\":\"white\",\"showland\":true,\"showlakes\":true,\"lakecolor\":\"white\"},\"title\":{\"x\":0.05},\"mapbox\":{\"style\":\"light\"}}},\"xaxis\":{\"anchor\":\"y\",\"domain\":[0.0,1.0],\"title\":{\"text\":\"PC1 10.3%\"}},\"yaxis\":{\"anchor\":\"x\",\"domain\":[0.0,1.0],\"title\":{\"text\":\"PC2 7.7%\"}},\"legend\":{\"title\":{\"text\":\"color\"},\"tracegroupgap\":0},\"margin\":{\"t\":60},\"title\":{\"text\":\"Plant Nutrients by Site Not Including Nitrogen PCA\"}},                        {\"responsive\": true}                    ).then(function(){\n",
       "                            \n",
       "var gd = document.getElementById('9b251baf-7a68-4ffc-810a-a6a16ce7a303');\n",
       "var x = new MutationObserver(function (mutations, observer) {{\n",
       "        var display = window.getComputedStyle(gd).display;\n",
       "        if (!display || display === 'none') {{\n",
       "            console.log([gd, 'removed!']);\n",
       "            Plotly.purge(gd);\n",
       "            observer.disconnect();\n",
       "        }}\n",
       "}});\n",
       "\n",
       "// Listen for the removal of the full notebook cells\n",
       "var notebookContainer = gd.closest('#notebook-container');\n",
       "if (notebookContainer) {{\n",
       "    x.observe(notebookContainer, {childList: true});\n",
       "}}\n",
       "\n",
       "// Listen for the clearing of the current output cell\n",
       "var outputEl = gd.closest('.output');\n",
       "if (outputEl) {{\n",
       "    x.observe(outputEl, {childList: true});\n",
       "}}\n",
       "\n",
       "                        })                };                });            </script>        </div>"
      ]
     },
     "metadata": {},
     "output_type": "display_data"
    }
   ],
   "source": [
    "X = newdf[genera_cols]\n",
    "pca = PCA(n_components=2)\n",
    "components = pca.fit_transform(X)\n",
    "\n",
    "fig = px.scatter(components, x=0, y=1, color=newdf['site_id'])\n",
    "fig.update_layout(\n",
    "    title = \"Plant Nutrients by Site Not Including Nitrogen PCA\",\n",
    "    xaxis_title=\"PC1 \" + str(round(100*pca.explained_variance_ratio_[0], 1)) + '%',\n",
    "    yaxis_title=\"PC2 \" + str(round(100*pca.explained_variance_ratio_[1], 1)) + '%')\n",
    "fig.show()"
   ]
  },
  {
   "cell_type": "markdown",
   "id": "b8e0f9a9",
   "metadata": {},
   "source": [
    "### PCA By Species with Top 500 Most Relatively Abundant Genera"
   ]
  },
  {
   "cell_type": "code",
   "execution_count": 273,
   "id": "08d036e3",
   "metadata": {},
   "outputs": [
    {
     "data": {
      "application/vnd.plotly.v1+json": {
       "config": {
        "plotlyServerURL": "https://plot.ly"
       },
       "data": [
        {
         "hovertemplate": "color=syriaca<br>0=%{x}<br>1=%{y}<extra></extra>",
         "legendgroup": "syriaca",
         "marker": {
          "color": "#636efa",
          "symbol": "circle"
         },
         "mode": "markers",
         "name": "syriaca",
         "orientation": "v",
         "showlegend": true,
         "type": "scatter",
         "x": [
          5.818226970042154,
          3.5398139994880937,
          0.4731927936934165,
          -0.5073338429429298,
          23.448797851736398,
          8.667881195689427,
          8.172163887740613,
          6.2780092488852,
          14.157486173951831,
          9.1058907933376,
          0.17890283294638867,
          -0.5650211842204194,
          -1.3757700702410836,
          4.392810100203098,
          0.21257090167606466,
          0.8772970830175529,
          -0.04619712966206907,
          1.0137684686007558,
          -0.12624576207718197,
          29.848718298522993,
          -9.782256909448426,
          -3.6435542239068353,
          -2.283033990668756,
          -4.110804234680134,
          -1.104310786569694,
          1.5220964728106086,
          -2.630077291222968,
          -6.96013444520536,
          -8.864086595672156,
          -3.640816061379994,
          0.572054343014756,
          -5.784164911217691,
          7.069372595719329,
          7.190743874023068,
          0.33755227224874074,
          23.054158397188854,
          -0.16309480845482355,
          -8.901780709186514,
          -3.5563055827007566,
          9.664067356669204,
          -6.525343482560181,
          11.068757020363563,
          0.26850609222923916,
          2.203049966321043,
          -7.501845010758465,
          16.44594425750389,
          5.037483336576242,
          -4.5582154393275545,
          -2.1065038151796007,
          1.672800542921862,
          -0.48553599880158294,
          -8.587020927326234,
          14.525949749337512,
          -3.6776856030524945,
          -3.265868264035811,
          -10.997339620023256,
          -8.190165252496248,
          -4.245838480733749,
          -10.615018539285726,
          -4.321156526837392,
          -3.947556710288793,
          -6.384727054644637,
          -7.676323744727338,
          6.16333289056962,
          2.3556101774070033,
          -3.1722394462067625,
          -4.934516648182774,
          -1.23300571041958,
          -6.762238986007116,
          -3.971522215077597,
          -0.8492703639693459,
          -8.487939428941447,
          -9.587448171236389,
          -5.16479619550666,
          -0.7585725505086832,
          2.2219568656917956,
          -7.125982576277442,
          -1.049918677212158,
          -5.348398688237706,
          -1.928363202956776,
          -9.824773882647218,
          -2.4046046013341114,
          -5.3300721327153875,
          2.0108475724629074,
          1.5380804503850918,
          -1.9425947355438777,
          -8.199420411925185,
          -9.011586227278816,
          -0.794724928014542,
          -4.365245021119905,
          -3.5667519349675714,
          -5.623840733476093,
          -1.3789276431230786,
          -9.687866425897749,
          -2.7073642815174583,
          -5.081801462017171,
          -5.199089658529635,
          -3.0129363596061203,
          9.580301540163537,
          -2.7244109587545857,
          -7.403884622116776,
          -0.33025374390984646,
          -0.9123456942265179,
          -7.36638391407456
         ],
         "xaxis": "x",
         "y": [
          -1.4760880322059784,
          -0.024744944760157636,
          0.2629501762836895,
          3.032379418929916,
          0.25917504094554356,
          -0.4431231022121071,
          2.8236987165875744,
          1.9257521739315295,
          7.607989339978281,
          0.0737947428210127,
          1.5669444587631844,
          -4.033977156088415,
          0.9871021856262636,
          -2.975782436530077,
          2.079623386227596,
          -4.219749289138765,
          4.0742799786465635,
          5.738375528503582,
          2.491342066755728,
          -1.8783736710277115,
          -3.623177511536065,
          -8.178716817865972,
          -6.011042962849966,
          -3.2958241864241087,
          -0.8361971754609345,
          -3.4256943098438737,
          -4.3472834384891454,
          -3.5424512429388626,
          -3.893190254774811,
          -1.0234738996158579,
          -9.198148375163113,
          -6.917816251137267,
          -2.3000558480249307,
          -1.4377406542092592,
          -1.7626055213461402,
          2.3864803215046315,
          -1.996924509394014,
          -1.8509765371080926,
          -4.562431718673632,
          -0.032871647862491235,
          -5.936052431939577,
          -4.572591207861218,
          4.760542016143116,
          3.5780351765486413,
          -1.714340849635629,
          1.3397714302166748,
          -1.251249357320095,
          3.1662900924234805,
          0.2205408504176737,
          -2.382073767777115,
          1.079881741668125,
          -3.854402856463089,
          -0.3894572686962048,
          -9.962783627735224,
          -7.561071164985792,
          -1.9090658714701283,
          -7.941342832415291,
          -4.256728397353756,
          -1.9644835617112888,
          6.737835655263264,
          -5.648965588900255,
          -1.6349448421403374,
          -0.2937263208855523,
          -3.7441780187951683,
          -1.4463487453734596,
          2.040448240087557,
          -7.208408934157545,
          0.4195044574133983,
          -1.422090244437556,
          -2.6642202011332974,
          -5.060207012785414,
          -4.454988691795629,
          -5.146918565091093,
          -7.514064874612897,
          -1.2934270732748046,
          -4.7716418900757445,
          -3.860095949065193,
          -2.580396963884042,
          -6.0870679943785095,
          3.4656805801606967,
          0.008448319015888283,
          4.046708171014417,
          -4.957794526192523,
          0.3270377548170454,
          -1.9390019734392487,
          8.753152242953519,
          -1.0772740044022933,
          5.097596726145612,
          -5.109369512559415,
          1.014968776108302,
          -10.788100244431048,
          -10.847562604528738,
          -13.861408174418083,
          -1.4526730812001007,
          -5.7690947198561275,
          2.779944428125554,
          -5.476212960886289,
          -10.590146961902056,
          1.599365903601711,
          2.7610993420861085,
          -8.515185141782469,
          -3.623134932280651,
          -5.50977266841957,
          -3.379413149371713
         ],
         "yaxis": "y"
        },
        {
         "hovertemplate": "color=quadrifolia<br>0=%{x}<br>1=%{y}<extra></extra>",
         "legendgroup": "quadrifolia",
         "marker": {
          "color": "#EF553B",
          "symbol": "circle"
         },
         "mode": "markers",
         "name": "quadrifolia",
         "orientation": "v",
         "showlegend": true,
         "type": "scatter",
         "x": [
          -3.4656915193703632,
          -0.025618192976934257,
          0.10137262954594109,
          -0.5795706278656911,
          2.069715669058645,
          -1.677771750650545,
          -3.296327238519019,
          -2.873683578539849,
          -5.795010668383118,
          -3.8882942916150847
         ],
         "xaxis": "x",
         "y": [
          0.6483535593356536,
          -6.1266264763366785,
          -11.819194963959383,
          -8.592683726974535,
          -5.11849169535995,
          -7.474186514223602,
          -8.276306852316063,
          6.5809625220830466,
          -8.477628736180945,
          -9.27174897405802
         ],
         "yaxis": "y"
        },
        {
         "hovertemplate": "color=exaltata<br>0=%{x}<br>1=%{y}<extra></extra>",
         "legendgroup": "exaltata",
         "marker": {
          "color": "#00cc96",
          "symbol": "circle"
         },
         "mode": "markers",
         "name": "exaltata",
         "orientation": "v",
         "showlegend": true,
         "type": "scatter",
         "x": [
          -4.188629817368057,
          5.499084570243376,
          7.458181136022475,
          -2.2472134223428837,
          5.974460864027378,
          10.566673996403061,
          -0.34400939036887396,
          -6.701542997887872,
          -2.0327267584124287,
          -3.5969361964602737,
          0.7907992748601148,
          -1.512472905964227,
          -0.525647034734414,
          1.906401012607832,
          13.848719891558522,
          4.167373291539951,
          13.10300328186534,
          17.619747495814718,
          16.43182112204144,
          19.74963340300039,
          13.133649542754782,
          16.499337543092228,
          7.882296818779265,
          7.15282243651101,
          -0.3325691763279336,
          -0.4027425003718955,
          0.09515304217084779,
          -3.765455558859136,
          3.1824990408317264,
          -0.07579776835794189,
          0.22120186720294244,
          -4.723278244638089,
          0.7982893396411763,
          -3.622432486449239,
          -4.708331992899108,
          -1.938340025836049,
          -0.8192340119170797,
          1.6818364072738268,
          -1.2507593361613953,
          -4.0332740089846775,
          -3.871175509926719,
          -4.612247705865171,
          -6.980986021429531,
          -4.505037136766673,
          -0.6204580424987916,
          -3.9088904360083796,
          -7.409433557363685,
          -4.090551432987449,
          -4.529236245866983,
          -3.623267858217522
         ],
         "xaxis": "x",
         "y": [
          8.972159793800827,
          -4.50353490510484,
          -0.7400994802152793,
          3.2414412248360622,
          -2.748812394492461,
          -6.5264508891300315,
          1.4114129692315174,
          7.292562711675721,
          3.9478642925737737,
          11.803588771903426,
          -3.472974496522429,
          10.537475905834693,
          -0.9587085942960341,
          -1.849465264750272,
          -2.468650704096121,
          -4.3255438254410095,
          -0.381276096082697,
          -2.3307829066546972,
          -1.1609535930897144,
          -2.473492417693061,
          1.3478265801916673,
          2.3687905872952424,
          4.347648982067731,
          0.7207261883628303,
          19.925323188643677,
          13.752888515327228,
          3.7047154618276483,
          12.405837243087651,
          6.511780220831421,
          5.113334093340042,
          2.848439318045528,
          10.967785870877764,
          4.8721587117719825,
          0.3930008023396675,
          9.891768949067329,
          9.829251547771948,
          5.699644551188421,
          3.9738489755362782,
          7.754285206396946,
          9.888873636277687,
          4.39019851547061,
          12.41332101483394,
          19.011417476403544,
          15.449689113433438,
          10.02507953104316,
          4.70941618801156,
          19.69560124409061,
          9.957040953339927,
          12.052175523590103,
          6.18540589331998
         ],
         "yaxis": "y"
        },
        {
         "hovertemplate": "color=hybrid<br>0=%{x}<br>1=%{y}<extra></extra>",
         "legendgroup": "hybrid",
         "marker": {
          "color": "#ab63fa",
          "symbol": "circle"
         },
         "mode": "markers",
         "name": "hybrid",
         "orientation": "v",
         "showlegend": true,
         "type": "scatter",
         "x": [
          16.32660064228014
         ],
         "xaxis": "x",
         "y": [
          0.6597194887046812
         ],
         "yaxis": "y"
        }
       ],
       "layout": {
        "legend": {
         "title": {
          "text": "color"
         },
         "tracegroupgap": 0
        },
        "margin": {
         "t": 60
        },
        "template": {
         "data": {
          "bar": [
           {
            "error_x": {
             "color": "#2a3f5f"
            },
            "error_y": {
             "color": "#2a3f5f"
            },
            "marker": {
             "line": {
              "color": "#E5ECF6",
              "width": 0.5
             },
             "pattern": {
              "fillmode": "overlay",
              "size": 10,
              "solidity": 0.2
             }
            },
            "type": "bar"
           }
          ],
          "barpolar": [
           {
            "marker": {
             "line": {
              "color": "#E5ECF6",
              "width": 0.5
             },
             "pattern": {
              "fillmode": "overlay",
              "size": 10,
              "solidity": 0.2
             }
            },
            "type": "barpolar"
           }
          ],
          "carpet": [
           {
            "aaxis": {
             "endlinecolor": "#2a3f5f",
             "gridcolor": "white",
             "linecolor": "white",
             "minorgridcolor": "white",
             "startlinecolor": "#2a3f5f"
            },
            "baxis": {
             "endlinecolor": "#2a3f5f",
             "gridcolor": "white",
             "linecolor": "white",
             "minorgridcolor": "white",
             "startlinecolor": "#2a3f5f"
            },
            "type": "carpet"
           }
          ],
          "choropleth": [
           {
            "colorbar": {
             "outlinewidth": 0,
             "ticks": ""
            },
            "type": "choropleth"
           }
          ],
          "contour": [
           {
            "colorbar": {
             "outlinewidth": 0,
             "ticks": ""
            },
            "colorscale": [
             [
              0,
              "#0d0887"
             ],
             [
              0.1111111111111111,
              "#46039f"
             ],
             [
              0.2222222222222222,
              "#7201a8"
             ],
             [
              0.3333333333333333,
              "#9c179e"
             ],
             [
              0.4444444444444444,
              "#bd3786"
             ],
             [
              0.5555555555555556,
              "#d8576b"
             ],
             [
              0.6666666666666666,
              "#ed7953"
             ],
             [
              0.7777777777777778,
              "#fb9f3a"
             ],
             [
              0.8888888888888888,
              "#fdca26"
             ],
             [
              1,
              "#f0f921"
             ]
            ],
            "type": "contour"
           }
          ],
          "contourcarpet": [
           {
            "colorbar": {
             "outlinewidth": 0,
             "ticks": ""
            },
            "type": "contourcarpet"
           }
          ],
          "heatmap": [
           {
            "colorbar": {
             "outlinewidth": 0,
             "ticks": ""
            },
            "colorscale": [
             [
              0,
              "#0d0887"
             ],
             [
              0.1111111111111111,
              "#46039f"
             ],
             [
              0.2222222222222222,
              "#7201a8"
             ],
             [
              0.3333333333333333,
              "#9c179e"
             ],
             [
              0.4444444444444444,
              "#bd3786"
             ],
             [
              0.5555555555555556,
              "#d8576b"
             ],
             [
              0.6666666666666666,
              "#ed7953"
             ],
             [
              0.7777777777777778,
              "#fb9f3a"
             ],
             [
              0.8888888888888888,
              "#fdca26"
             ],
             [
              1,
              "#f0f921"
             ]
            ],
            "type": "heatmap"
           }
          ],
          "heatmapgl": [
           {
            "colorbar": {
             "outlinewidth": 0,
             "ticks": ""
            },
            "colorscale": [
             [
              0,
              "#0d0887"
             ],
             [
              0.1111111111111111,
              "#46039f"
             ],
             [
              0.2222222222222222,
              "#7201a8"
             ],
             [
              0.3333333333333333,
              "#9c179e"
             ],
             [
              0.4444444444444444,
              "#bd3786"
             ],
             [
              0.5555555555555556,
              "#d8576b"
             ],
             [
              0.6666666666666666,
              "#ed7953"
             ],
             [
              0.7777777777777778,
              "#fb9f3a"
             ],
             [
              0.8888888888888888,
              "#fdca26"
             ],
             [
              1,
              "#f0f921"
             ]
            ],
            "type": "heatmapgl"
           }
          ],
          "histogram": [
           {
            "marker": {
             "pattern": {
              "fillmode": "overlay",
              "size": 10,
              "solidity": 0.2
             }
            },
            "type": "histogram"
           }
          ],
          "histogram2d": [
           {
            "colorbar": {
             "outlinewidth": 0,
             "ticks": ""
            },
            "colorscale": [
             [
              0,
              "#0d0887"
             ],
             [
              0.1111111111111111,
              "#46039f"
             ],
             [
              0.2222222222222222,
              "#7201a8"
             ],
             [
              0.3333333333333333,
              "#9c179e"
             ],
             [
              0.4444444444444444,
              "#bd3786"
             ],
             [
              0.5555555555555556,
              "#d8576b"
             ],
             [
              0.6666666666666666,
              "#ed7953"
             ],
             [
              0.7777777777777778,
              "#fb9f3a"
             ],
             [
              0.8888888888888888,
              "#fdca26"
             ],
             [
              1,
              "#f0f921"
             ]
            ],
            "type": "histogram2d"
           }
          ],
          "histogram2dcontour": [
           {
            "colorbar": {
             "outlinewidth": 0,
             "ticks": ""
            },
            "colorscale": [
             [
              0,
              "#0d0887"
             ],
             [
              0.1111111111111111,
              "#46039f"
             ],
             [
              0.2222222222222222,
              "#7201a8"
             ],
             [
              0.3333333333333333,
              "#9c179e"
             ],
             [
              0.4444444444444444,
              "#bd3786"
             ],
             [
              0.5555555555555556,
              "#d8576b"
             ],
             [
              0.6666666666666666,
              "#ed7953"
             ],
             [
              0.7777777777777778,
              "#fb9f3a"
             ],
             [
              0.8888888888888888,
              "#fdca26"
             ],
             [
              1,
              "#f0f921"
             ]
            ],
            "type": "histogram2dcontour"
           }
          ],
          "mesh3d": [
           {
            "colorbar": {
             "outlinewidth": 0,
             "ticks": ""
            },
            "type": "mesh3d"
           }
          ],
          "parcoords": [
           {
            "line": {
             "colorbar": {
              "outlinewidth": 0,
              "ticks": ""
             }
            },
            "type": "parcoords"
           }
          ],
          "pie": [
           {
            "automargin": true,
            "type": "pie"
           }
          ],
          "scatter": [
           {
            "fillpattern": {
             "fillmode": "overlay",
             "size": 10,
             "solidity": 0.2
            },
            "type": "scatter"
           }
          ],
          "scatter3d": [
           {
            "line": {
             "colorbar": {
              "outlinewidth": 0,
              "ticks": ""
             }
            },
            "marker": {
             "colorbar": {
              "outlinewidth": 0,
              "ticks": ""
             }
            },
            "type": "scatter3d"
           }
          ],
          "scattercarpet": [
           {
            "marker": {
             "colorbar": {
              "outlinewidth": 0,
              "ticks": ""
             }
            },
            "type": "scattercarpet"
           }
          ],
          "scattergeo": [
           {
            "marker": {
             "colorbar": {
              "outlinewidth": 0,
              "ticks": ""
             }
            },
            "type": "scattergeo"
           }
          ],
          "scattergl": [
           {
            "marker": {
             "colorbar": {
              "outlinewidth": 0,
              "ticks": ""
             }
            },
            "type": "scattergl"
           }
          ],
          "scattermapbox": [
           {
            "marker": {
             "colorbar": {
              "outlinewidth": 0,
              "ticks": ""
             }
            },
            "type": "scattermapbox"
           }
          ],
          "scatterpolar": [
           {
            "marker": {
             "colorbar": {
              "outlinewidth": 0,
              "ticks": ""
             }
            },
            "type": "scatterpolar"
           }
          ],
          "scatterpolargl": [
           {
            "marker": {
             "colorbar": {
              "outlinewidth": 0,
              "ticks": ""
             }
            },
            "type": "scatterpolargl"
           }
          ],
          "scatterternary": [
           {
            "marker": {
             "colorbar": {
              "outlinewidth": 0,
              "ticks": ""
             }
            },
            "type": "scatterternary"
           }
          ],
          "surface": [
           {
            "colorbar": {
             "outlinewidth": 0,
             "ticks": ""
            },
            "colorscale": [
             [
              0,
              "#0d0887"
             ],
             [
              0.1111111111111111,
              "#46039f"
             ],
             [
              0.2222222222222222,
              "#7201a8"
             ],
             [
              0.3333333333333333,
              "#9c179e"
             ],
             [
              0.4444444444444444,
              "#bd3786"
             ],
             [
              0.5555555555555556,
              "#d8576b"
             ],
             [
              0.6666666666666666,
              "#ed7953"
             ],
             [
              0.7777777777777778,
              "#fb9f3a"
             ],
             [
              0.8888888888888888,
              "#fdca26"
             ],
             [
              1,
              "#f0f921"
             ]
            ],
            "type": "surface"
           }
          ],
          "table": [
           {
            "cells": {
             "fill": {
              "color": "#EBF0F8"
             },
             "line": {
              "color": "white"
             }
            },
            "header": {
             "fill": {
              "color": "#C8D4E3"
             },
             "line": {
              "color": "white"
             }
            },
            "type": "table"
           }
          ]
         },
         "layout": {
          "annotationdefaults": {
           "arrowcolor": "#2a3f5f",
           "arrowhead": 0,
           "arrowwidth": 1
          },
          "autotypenumbers": "strict",
          "coloraxis": {
           "colorbar": {
            "outlinewidth": 0,
            "ticks": ""
           }
          },
          "colorscale": {
           "diverging": [
            [
             0,
             "#8e0152"
            ],
            [
             0.1,
             "#c51b7d"
            ],
            [
             0.2,
             "#de77ae"
            ],
            [
             0.3,
             "#f1b6da"
            ],
            [
             0.4,
             "#fde0ef"
            ],
            [
             0.5,
             "#f7f7f7"
            ],
            [
             0.6,
             "#e6f5d0"
            ],
            [
             0.7,
             "#b8e186"
            ],
            [
             0.8,
             "#7fbc41"
            ],
            [
             0.9,
             "#4d9221"
            ],
            [
             1,
             "#276419"
            ]
           ],
           "sequential": [
            [
             0,
             "#0d0887"
            ],
            [
             0.1111111111111111,
             "#46039f"
            ],
            [
             0.2222222222222222,
             "#7201a8"
            ],
            [
             0.3333333333333333,
             "#9c179e"
            ],
            [
             0.4444444444444444,
             "#bd3786"
            ],
            [
             0.5555555555555556,
             "#d8576b"
            ],
            [
             0.6666666666666666,
             "#ed7953"
            ],
            [
             0.7777777777777778,
             "#fb9f3a"
            ],
            [
             0.8888888888888888,
             "#fdca26"
            ],
            [
             1,
             "#f0f921"
            ]
           ],
           "sequentialminus": [
            [
             0,
             "#0d0887"
            ],
            [
             0.1111111111111111,
             "#46039f"
            ],
            [
             0.2222222222222222,
             "#7201a8"
            ],
            [
             0.3333333333333333,
             "#9c179e"
            ],
            [
             0.4444444444444444,
             "#bd3786"
            ],
            [
             0.5555555555555556,
             "#d8576b"
            ],
            [
             0.6666666666666666,
             "#ed7953"
            ],
            [
             0.7777777777777778,
             "#fb9f3a"
            ],
            [
             0.8888888888888888,
             "#fdca26"
            ],
            [
             1,
             "#f0f921"
            ]
           ]
          },
          "colorway": [
           "#636efa",
           "#EF553B",
           "#00cc96",
           "#ab63fa",
           "#FFA15A",
           "#19d3f3",
           "#FF6692",
           "#B6E880",
           "#FF97FF",
           "#FECB52"
          ],
          "font": {
           "color": "#2a3f5f"
          },
          "geo": {
           "bgcolor": "white",
           "lakecolor": "white",
           "landcolor": "#E5ECF6",
           "showlakes": true,
           "showland": true,
           "subunitcolor": "white"
          },
          "hoverlabel": {
           "align": "left"
          },
          "hovermode": "closest",
          "mapbox": {
           "style": "light"
          },
          "paper_bgcolor": "white",
          "plot_bgcolor": "#E5ECF6",
          "polar": {
           "angularaxis": {
            "gridcolor": "white",
            "linecolor": "white",
            "ticks": ""
           },
           "bgcolor": "#E5ECF6",
           "radialaxis": {
            "gridcolor": "white",
            "linecolor": "white",
            "ticks": ""
           }
          },
          "scene": {
           "xaxis": {
            "backgroundcolor": "#E5ECF6",
            "gridcolor": "white",
            "gridwidth": 2,
            "linecolor": "white",
            "showbackground": true,
            "ticks": "",
            "zerolinecolor": "white"
           },
           "yaxis": {
            "backgroundcolor": "#E5ECF6",
            "gridcolor": "white",
            "gridwidth": 2,
            "linecolor": "white",
            "showbackground": true,
            "ticks": "",
            "zerolinecolor": "white"
           },
           "zaxis": {
            "backgroundcolor": "#E5ECF6",
            "gridcolor": "white",
            "gridwidth": 2,
            "linecolor": "white",
            "showbackground": true,
            "ticks": "",
            "zerolinecolor": "white"
           }
          },
          "shapedefaults": {
           "line": {
            "color": "#2a3f5f"
           }
          },
          "ternary": {
           "aaxis": {
            "gridcolor": "white",
            "linecolor": "white",
            "ticks": ""
           },
           "baxis": {
            "gridcolor": "white",
            "linecolor": "white",
            "ticks": ""
           },
           "bgcolor": "#E5ECF6",
           "caxis": {
            "gridcolor": "white",
            "linecolor": "white",
            "ticks": ""
           }
          },
          "title": {
           "x": 0.05
          },
          "xaxis": {
           "automargin": true,
           "gridcolor": "white",
           "linecolor": "white",
           "ticks": "",
           "title": {
            "standoff": 15
           },
           "zerolinecolor": "white",
           "zerolinewidth": 2
          },
          "yaxis": {
           "automargin": true,
           "gridcolor": "white",
           "linecolor": "white",
           "ticks": "",
           "title": {
            "standoff": 15
           },
           "zerolinecolor": "white",
           "zerolinewidth": 2
          }
         }
        },
        "title": {
         "text": "Plant Nutrients by Site Not Including Nitrogen PCA"
        },
        "xaxis": {
         "anchor": "y",
         "domain": [
          0,
          1
         ],
         "title": {
          "text": "PC1 10.3%"
         }
        },
        "yaxis": {
         "anchor": "x",
         "domain": [
          0,
          1
         ],
         "title": {
          "text": "PC2 7.7%"
         }
        }
       }
      },
      "text/html": [
       "<div>                            <div id=\"7c1ad951-ea94-492b-878c-fa0de8317b3a\" class=\"plotly-graph-div\" style=\"height:525px; width:100%;\"></div>            <script type=\"text/javascript\">                require([\"plotly\"], function(Plotly) {                    window.PLOTLYENV=window.PLOTLYENV || {};                                    if (document.getElementById(\"7c1ad951-ea94-492b-878c-fa0de8317b3a\")) {                    Plotly.newPlot(                        \"7c1ad951-ea94-492b-878c-fa0de8317b3a\",                        [{\"hovertemplate\":\"color=syriaca<br>0=%{x}<br>1=%{y}<extra></extra>\",\"legendgroup\":\"syriaca\",\"marker\":{\"color\":\"#636efa\",\"symbol\":\"circle\"},\"mode\":\"markers\",\"name\":\"syriaca\",\"orientation\":\"v\",\"showlegend\":true,\"x\":[5.818226970042154,3.5398139994880937,0.4731927936934165,-0.5073338429429298,23.448797851736398,8.667881195689427,8.172163887740613,6.2780092488852,14.157486173951831,9.1058907933376,0.17890283294638867,-0.5650211842204194,-1.3757700702410836,4.392810100203098,0.21257090167606466,0.8772970830175529,-0.04619712966206907,1.0137684686007558,-0.12624576207718197,29.848718298522993,-9.782256909448426,-3.6435542239068353,-2.283033990668756,-4.110804234680134,-1.104310786569694,1.5220964728106086,-2.630077291222968,-6.96013444520536,-8.864086595672156,-3.640816061379994,0.572054343014756,-5.784164911217691,7.069372595719329,7.190743874023068,0.33755227224874074,23.054158397188854,-0.16309480845482355,-8.901780709186514,-3.5563055827007566,9.664067356669204,-6.525343482560181,11.068757020363563,0.26850609222923916,2.203049966321043,-7.501845010758465,16.44594425750389,5.037483336576242,-4.5582154393275545,-2.1065038151796007,1.672800542921862,-0.48553599880158294,-8.587020927326234,14.525949749337512,-3.6776856030524945,-3.265868264035811,-10.997339620023256,-8.190165252496248,-4.245838480733749,-10.615018539285726,-4.321156526837392,-3.947556710288793,-6.384727054644637,-7.676323744727338,6.16333289056962,2.3556101774070033,-3.1722394462067625,-4.934516648182774,-1.23300571041958,-6.762238986007116,-3.971522215077597,-0.8492703639693459,-8.487939428941447,-9.587448171236389,-5.16479619550666,-0.7585725505086832,2.2219568656917956,-7.125982576277442,-1.049918677212158,-5.348398688237706,-1.928363202956776,-9.824773882647218,-2.4046046013341114,-5.3300721327153875,2.0108475724629074,1.5380804503850918,-1.9425947355438777,-8.199420411925185,-9.011586227278816,-0.794724928014542,-4.365245021119905,-3.5667519349675714,-5.623840733476093,-1.3789276431230786,-9.687866425897749,-2.7073642815174583,-5.081801462017171,-5.199089658529635,-3.0129363596061203,9.580301540163537,-2.7244109587545857,-7.403884622116776,-0.33025374390984646,-0.9123456942265179,-7.36638391407456],\"xaxis\":\"x\",\"y\":[-1.4760880322059784,-0.024744944760157636,0.2629501762836895,3.032379418929916,0.25917504094554356,-0.4431231022121071,2.8236987165875744,1.9257521739315295,7.607989339978281,0.0737947428210127,1.5669444587631844,-4.033977156088415,0.9871021856262636,-2.975782436530077,2.079623386227596,-4.219749289138765,4.0742799786465635,5.738375528503582,2.491342066755728,-1.8783736710277115,-3.623177511536065,-8.178716817865972,-6.011042962849966,-3.2958241864241087,-0.8361971754609345,-3.4256943098438737,-4.3472834384891454,-3.5424512429388626,-3.893190254774811,-1.0234738996158579,-9.198148375163113,-6.917816251137267,-2.3000558480249307,-1.4377406542092592,-1.7626055213461402,2.3864803215046315,-1.996924509394014,-1.8509765371080926,-4.562431718673632,-0.032871647862491235,-5.936052431939577,-4.572591207861218,4.760542016143116,3.5780351765486413,-1.714340849635629,1.3397714302166748,-1.251249357320095,3.1662900924234805,0.2205408504176737,-2.382073767777115,1.079881741668125,-3.854402856463089,-0.3894572686962048,-9.962783627735224,-7.561071164985792,-1.9090658714701283,-7.941342832415291,-4.256728397353756,-1.9644835617112888,6.737835655263264,-5.648965588900255,-1.6349448421403374,-0.2937263208855523,-3.7441780187951683,-1.4463487453734596,2.040448240087557,-7.208408934157545,0.4195044574133983,-1.422090244437556,-2.6642202011332974,-5.060207012785414,-4.454988691795629,-5.146918565091093,-7.514064874612897,-1.2934270732748046,-4.7716418900757445,-3.860095949065193,-2.580396963884042,-6.0870679943785095,3.4656805801606967,0.008448319015888283,4.046708171014417,-4.957794526192523,0.3270377548170454,-1.9390019734392487,8.753152242953519,-1.0772740044022933,5.097596726145612,-5.109369512559415,1.014968776108302,-10.788100244431048,-10.847562604528738,-13.861408174418083,-1.4526730812001007,-5.7690947198561275,2.779944428125554,-5.476212960886289,-10.590146961902056,1.599365903601711,2.7610993420861085,-8.515185141782469,-3.623134932280651,-5.50977266841957,-3.379413149371713],\"yaxis\":\"y\",\"type\":\"scatter\"},{\"hovertemplate\":\"color=quadrifolia<br>0=%{x}<br>1=%{y}<extra></extra>\",\"legendgroup\":\"quadrifolia\",\"marker\":{\"color\":\"#EF553B\",\"symbol\":\"circle\"},\"mode\":\"markers\",\"name\":\"quadrifolia\",\"orientation\":\"v\",\"showlegend\":true,\"x\":[-3.4656915193703632,-0.025618192976934257,0.10137262954594109,-0.5795706278656911,2.069715669058645,-1.677771750650545,-3.296327238519019,-2.873683578539849,-5.795010668383118,-3.8882942916150847],\"xaxis\":\"x\",\"y\":[0.6483535593356536,-6.1266264763366785,-11.819194963959383,-8.592683726974535,-5.11849169535995,-7.474186514223602,-8.276306852316063,6.5809625220830466,-8.477628736180945,-9.27174897405802],\"yaxis\":\"y\",\"type\":\"scatter\"},{\"hovertemplate\":\"color=exaltata<br>0=%{x}<br>1=%{y}<extra></extra>\",\"legendgroup\":\"exaltata\",\"marker\":{\"color\":\"#00cc96\",\"symbol\":\"circle\"},\"mode\":\"markers\",\"name\":\"exaltata\",\"orientation\":\"v\",\"showlegend\":true,\"x\":[-4.188629817368057,5.499084570243376,7.458181136022475,-2.2472134223428837,5.974460864027378,10.566673996403061,-0.34400939036887396,-6.701542997887872,-2.0327267584124287,-3.5969361964602737,0.7907992748601148,-1.512472905964227,-0.525647034734414,1.906401012607832,13.848719891558522,4.167373291539951,13.10300328186534,17.619747495814718,16.43182112204144,19.74963340300039,13.133649542754782,16.499337543092228,7.882296818779265,7.15282243651101,-0.3325691763279336,-0.4027425003718955,0.09515304217084779,-3.765455558859136,3.1824990408317264,-0.07579776835794189,0.22120186720294244,-4.723278244638089,0.7982893396411763,-3.622432486449239,-4.708331992899108,-1.938340025836049,-0.8192340119170797,1.6818364072738268,-1.2507593361613953,-4.0332740089846775,-3.871175509926719,-4.612247705865171,-6.980986021429531,-4.505037136766673,-0.6204580424987916,-3.9088904360083796,-7.409433557363685,-4.090551432987449,-4.529236245866983,-3.623267858217522],\"xaxis\":\"x\",\"y\":[8.972159793800827,-4.50353490510484,-0.7400994802152793,3.2414412248360622,-2.748812394492461,-6.5264508891300315,1.4114129692315174,7.292562711675721,3.9478642925737737,11.803588771903426,-3.472974496522429,10.537475905834693,-0.9587085942960341,-1.849465264750272,-2.468650704096121,-4.3255438254410095,-0.381276096082697,-2.3307829066546972,-1.1609535930897144,-2.473492417693061,1.3478265801916673,2.3687905872952424,4.347648982067731,0.7207261883628303,19.925323188643677,13.752888515327228,3.7047154618276483,12.405837243087651,6.511780220831421,5.113334093340042,2.848439318045528,10.967785870877764,4.8721587117719825,0.3930008023396675,9.891768949067329,9.829251547771948,5.699644551188421,3.9738489755362782,7.754285206396946,9.888873636277687,4.39019851547061,12.41332101483394,19.011417476403544,15.449689113433438,10.02507953104316,4.70941618801156,19.69560124409061,9.957040953339927,12.052175523590103,6.18540589331998],\"yaxis\":\"y\",\"type\":\"scatter\"},{\"hovertemplate\":\"color=hybrid<br>0=%{x}<br>1=%{y}<extra></extra>\",\"legendgroup\":\"hybrid\",\"marker\":{\"color\":\"#ab63fa\",\"symbol\":\"circle\"},\"mode\":\"markers\",\"name\":\"hybrid\",\"orientation\":\"v\",\"showlegend\":true,\"x\":[16.32660064228014],\"xaxis\":\"x\",\"y\":[0.6597194887046812],\"yaxis\":\"y\",\"type\":\"scatter\"}],                        {\"template\":{\"data\":{\"histogram2dcontour\":[{\"type\":\"histogram2dcontour\",\"colorbar\":{\"outlinewidth\":0,\"ticks\":\"\"},\"colorscale\":[[0.0,\"#0d0887\"],[0.1111111111111111,\"#46039f\"],[0.2222222222222222,\"#7201a8\"],[0.3333333333333333,\"#9c179e\"],[0.4444444444444444,\"#bd3786\"],[0.5555555555555556,\"#d8576b\"],[0.6666666666666666,\"#ed7953\"],[0.7777777777777778,\"#fb9f3a\"],[0.8888888888888888,\"#fdca26\"],[1.0,\"#f0f921\"]]}],\"choropleth\":[{\"type\":\"choropleth\",\"colorbar\":{\"outlinewidth\":0,\"ticks\":\"\"}}],\"histogram2d\":[{\"type\":\"histogram2d\",\"colorbar\":{\"outlinewidth\":0,\"ticks\":\"\"},\"colorscale\":[[0.0,\"#0d0887\"],[0.1111111111111111,\"#46039f\"],[0.2222222222222222,\"#7201a8\"],[0.3333333333333333,\"#9c179e\"],[0.4444444444444444,\"#bd3786\"],[0.5555555555555556,\"#d8576b\"],[0.6666666666666666,\"#ed7953\"],[0.7777777777777778,\"#fb9f3a\"],[0.8888888888888888,\"#fdca26\"],[1.0,\"#f0f921\"]]}],\"heatmap\":[{\"type\":\"heatmap\",\"colorbar\":{\"outlinewidth\":0,\"ticks\":\"\"},\"colorscale\":[[0.0,\"#0d0887\"],[0.1111111111111111,\"#46039f\"],[0.2222222222222222,\"#7201a8\"],[0.3333333333333333,\"#9c179e\"],[0.4444444444444444,\"#bd3786\"],[0.5555555555555556,\"#d8576b\"],[0.6666666666666666,\"#ed7953\"],[0.7777777777777778,\"#fb9f3a\"],[0.8888888888888888,\"#fdca26\"],[1.0,\"#f0f921\"]]}],\"heatmapgl\":[{\"type\":\"heatmapgl\",\"colorbar\":{\"outlinewidth\":0,\"ticks\":\"\"},\"colorscale\":[[0.0,\"#0d0887\"],[0.1111111111111111,\"#46039f\"],[0.2222222222222222,\"#7201a8\"],[0.3333333333333333,\"#9c179e\"],[0.4444444444444444,\"#bd3786\"],[0.5555555555555556,\"#d8576b\"],[0.6666666666666666,\"#ed7953\"],[0.7777777777777778,\"#fb9f3a\"],[0.8888888888888888,\"#fdca26\"],[1.0,\"#f0f921\"]]}],\"contourcarpet\":[{\"type\":\"contourcarpet\",\"colorbar\":{\"outlinewidth\":0,\"ticks\":\"\"}}],\"contour\":[{\"type\":\"contour\",\"colorbar\":{\"outlinewidth\":0,\"ticks\":\"\"},\"colorscale\":[[0.0,\"#0d0887\"],[0.1111111111111111,\"#46039f\"],[0.2222222222222222,\"#7201a8\"],[0.3333333333333333,\"#9c179e\"],[0.4444444444444444,\"#bd3786\"],[0.5555555555555556,\"#d8576b\"],[0.6666666666666666,\"#ed7953\"],[0.7777777777777778,\"#fb9f3a\"],[0.8888888888888888,\"#fdca26\"],[1.0,\"#f0f921\"]]}],\"surface\":[{\"type\":\"surface\",\"colorbar\":{\"outlinewidth\":0,\"ticks\":\"\"},\"colorscale\":[[0.0,\"#0d0887\"],[0.1111111111111111,\"#46039f\"],[0.2222222222222222,\"#7201a8\"],[0.3333333333333333,\"#9c179e\"],[0.4444444444444444,\"#bd3786\"],[0.5555555555555556,\"#d8576b\"],[0.6666666666666666,\"#ed7953\"],[0.7777777777777778,\"#fb9f3a\"],[0.8888888888888888,\"#fdca26\"],[1.0,\"#f0f921\"]]}],\"mesh3d\":[{\"type\":\"mesh3d\",\"colorbar\":{\"outlinewidth\":0,\"ticks\":\"\"}}],\"scatter\":[{\"fillpattern\":{\"fillmode\":\"overlay\",\"size\":10,\"solidity\":0.2},\"type\":\"scatter\"}],\"parcoords\":[{\"type\":\"parcoords\",\"line\":{\"colorbar\":{\"outlinewidth\":0,\"ticks\":\"\"}}}],\"scatterpolargl\":[{\"type\":\"scatterpolargl\",\"marker\":{\"colorbar\":{\"outlinewidth\":0,\"ticks\":\"\"}}}],\"bar\":[{\"error_x\":{\"color\":\"#2a3f5f\"},\"error_y\":{\"color\":\"#2a3f5f\"},\"marker\":{\"line\":{\"color\":\"#E5ECF6\",\"width\":0.5},\"pattern\":{\"fillmode\":\"overlay\",\"size\":10,\"solidity\":0.2}},\"type\":\"bar\"}],\"scattergeo\":[{\"type\":\"scattergeo\",\"marker\":{\"colorbar\":{\"outlinewidth\":0,\"ticks\":\"\"}}}],\"scatterpolar\":[{\"type\":\"scatterpolar\",\"marker\":{\"colorbar\":{\"outlinewidth\":0,\"ticks\":\"\"}}}],\"histogram\":[{\"marker\":{\"pattern\":{\"fillmode\":\"overlay\",\"size\":10,\"solidity\":0.2}},\"type\":\"histogram\"}],\"scattergl\":[{\"type\":\"scattergl\",\"marker\":{\"colorbar\":{\"outlinewidth\":0,\"ticks\":\"\"}}}],\"scatter3d\":[{\"type\":\"scatter3d\",\"line\":{\"colorbar\":{\"outlinewidth\":0,\"ticks\":\"\"}},\"marker\":{\"colorbar\":{\"outlinewidth\":0,\"ticks\":\"\"}}}],\"scattermapbox\":[{\"type\":\"scattermapbox\",\"marker\":{\"colorbar\":{\"outlinewidth\":0,\"ticks\":\"\"}}}],\"scatterternary\":[{\"type\":\"scatterternary\",\"marker\":{\"colorbar\":{\"outlinewidth\":0,\"ticks\":\"\"}}}],\"scattercarpet\":[{\"type\":\"scattercarpet\",\"marker\":{\"colorbar\":{\"outlinewidth\":0,\"ticks\":\"\"}}}],\"carpet\":[{\"aaxis\":{\"endlinecolor\":\"#2a3f5f\",\"gridcolor\":\"white\",\"linecolor\":\"white\",\"minorgridcolor\":\"white\",\"startlinecolor\":\"#2a3f5f\"},\"baxis\":{\"endlinecolor\":\"#2a3f5f\",\"gridcolor\":\"white\",\"linecolor\":\"white\",\"minorgridcolor\":\"white\",\"startlinecolor\":\"#2a3f5f\"},\"type\":\"carpet\"}],\"table\":[{\"cells\":{\"fill\":{\"color\":\"#EBF0F8\"},\"line\":{\"color\":\"white\"}},\"header\":{\"fill\":{\"color\":\"#C8D4E3\"},\"line\":{\"color\":\"white\"}},\"type\":\"table\"}],\"barpolar\":[{\"marker\":{\"line\":{\"color\":\"#E5ECF6\",\"width\":0.5},\"pattern\":{\"fillmode\":\"overlay\",\"size\":10,\"solidity\":0.2}},\"type\":\"barpolar\"}],\"pie\":[{\"automargin\":true,\"type\":\"pie\"}]},\"layout\":{\"autotypenumbers\":\"strict\",\"colorway\":[\"#636efa\",\"#EF553B\",\"#00cc96\",\"#ab63fa\",\"#FFA15A\",\"#19d3f3\",\"#FF6692\",\"#B6E880\",\"#FF97FF\",\"#FECB52\"],\"font\":{\"color\":\"#2a3f5f\"},\"hovermode\":\"closest\",\"hoverlabel\":{\"align\":\"left\"},\"paper_bgcolor\":\"white\",\"plot_bgcolor\":\"#E5ECF6\",\"polar\":{\"bgcolor\":\"#E5ECF6\",\"angularaxis\":{\"gridcolor\":\"white\",\"linecolor\":\"white\",\"ticks\":\"\"},\"radialaxis\":{\"gridcolor\":\"white\",\"linecolor\":\"white\",\"ticks\":\"\"}},\"ternary\":{\"bgcolor\":\"#E5ECF6\",\"aaxis\":{\"gridcolor\":\"white\",\"linecolor\":\"white\",\"ticks\":\"\"},\"baxis\":{\"gridcolor\":\"white\",\"linecolor\":\"white\",\"ticks\":\"\"},\"caxis\":{\"gridcolor\":\"white\",\"linecolor\":\"white\",\"ticks\":\"\"}},\"coloraxis\":{\"colorbar\":{\"outlinewidth\":0,\"ticks\":\"\"}},\"colorscale\":{\"sequential\":[[0.0,\"#0d0887\"],[0.1111111111111111,\"#46039f\"],[0.2222222222222222,\"#7201a8\"],[0.3333333333333333,\"#9c179e\"],[0.4444444444444444,\"#bd3786\"],[0.5555555555555556,\"#d8576b\"],[0.6666666666666666,\"#ed7953\"],[0.7777777777777778,\"#fb9f3a\"],[0.8888888888888888,\"#fdca26\"],[1.0,\"#f0f921\"]],\"sequentialminus\":[[0.0,\"#0d0887\"],[0.1111111111111111,\"#46039f\"],[0.2222222222222222,\"#7201a8\"],[0.3333333333333333,\"#9c179e\"],[0.4444444444444444,\"#bd3786\"],[0.5555555555555556,\"#d8576b\"],[0.6666666666666666,\"#ed7953\"],[0.7777777777777778,\"#fb9f3a\"],[0.8888888888888888,\"#fdca26\"],[1.0,\"#f0f921\"]],\"diverging\":[[0,\"#8e0152\"],[0.1,\"#c51b7d\"],[0.2,\"#de77ae\"],[0.3,\"#f1b6da\"],[0.4,\"#fde0ef\"],[0.5,\"#f7f7f7\"],[0.6,\"#e6f5d0\"],[0.7,\"#b8e186\"],[0.8,\"#7fbc41\"],[0.9,\"#4d9221\"],[1,\"#276419\"]]},\"xaxis\":{\"gridcolor\":\"white\",\"linecolor\":\"white\",\"ticks\":\"\",\"title\":{\"standoff\":15},\"zerolinecolor\":\"white\",\"automargin\":true,\"zerolinewidth\":2},\"yaxis\":{\"gridcolor\":\"white\",\"linecolor\":\"white\",\"ticks\":\"\",\"title\":{\"standoff\":15},\"zerolinecolor\":\"white\",\"automargin\":true,\"zerolinewidth\":2},\"scene\":{\"xaxis\":{\"backgroundcolor\":\"#E5ECF6\",\"gridcolor\":\"white\",\"linecolor\":\"white\",\"showbackground\":true,\"ticks\":\"\",\"zerolinecolor\":\"white\",\"gridwidth\":2},\"yaxis\":{\"backgroundcolor\":\"#E5ECF6\",\"gridcolor\":\"white\",\"linecolor\":\"white\",\"showbackground\":true,\"ticks\":\"\",\"zerolinecolor\":\"white\",\"gridwidth\":2},\"zaxis\":{\"backgroundcolor\":\"#E5ECF6\",\"gridcolor\":\"white\",\"linecolor\":\"white\",\"showbackground\":true,\"ticks\":\"\",\"zerolinecolor\":\"white\",\"gridwidth\":2}},\"shapedefaults\":{\"line\":{\"color\":\"#2a3f5f\"}},\"annotationdefaults\":{\"arrowcolor\":\"#2a3f5f\",\"arrowhead\":0,\"arrowwidth\":1},\"geo\":{\"bgcolor\":\"white\",\"landcolor\":\"#E5ECF6\",\"subunitcolor\":\"white\",\"showland\":true,\"showlakes\":true,\"lakecolor\":\"white\"},\"title\":{\"x\":0.05},\"mapbox\":{\"style\":\"light\"}}},\"xaxis\":{\"anchor\":\"y\",\"domain\":[0.0,1.0],\"title\":{\"text\":\"PC1 10.3%\"}},\"yaxis\":{\"anchor\":\"x\",\"domain\":[0.0,1.0],\"title\":{\"text\":\"PC2 7.7%\"}},\"legend\":{\"title\":{\"text\":\"color\"},\"tracegroupgap\":0},\"margin\":{\"t\":60},\"title\":{\"text\":\"Plant Nutrients by Site Not Including Nitrogen PCA\"}},                        {\"responsive\": true}                    ).then(function(){\n",
       "                            \n",
       "var gd = document.getElementById('7c1ad951-ea94-492b-878c-fa0de8317b3a');\n",
       "var x = new MutationObserver(function (mutations, observer) {{\n",
       "        var display = window.getComputedStyle(gd).display;\n",
       "        if (!display || display === 'none') {{\n",
       "            console.log([gd, 'removed!']);\n",
       "            Plotly.purge(gd);\n",
       "            observer.disconnect();\n",
       "        }}\n",
       "}});\n",
       "\n",
       "// Listen for the removal of the full notebook cells\n",
       "var notebookContainer = gd.closest('#notebook-container');\n",
       "if (notebookContainer) {{\n",
       "    x.observe(notebookContainer, {childList: true});\n",
       "}}\n",
       "\n",
       "// Listen for the clearing of the current output cell\n",
       "var outputEl = gd.closest('.output');\n",
       "if (outputEl) {{\n",
       "    x.observe(outputEl, {childList: true});\n",
       "}}\n",
       "\n",
       "                        })                };                });            </script>        </div>"
      ]
     },
     "metadata": {},
     "output_type": "display_data"
    }
   ],
   "source": [
    "X = newdf[genera_cols]\n",
    "pca = PCA(n_components=2)\n",
    "components = pca.fit_transform(X)\n",
    "\n",
    "fig = px.scatter(components, x=0, y=1, color=newdf['species'])\n",
    "fig.update_layout(\n",
    "    title = \"Plant Nutrients by Site Not Including Nitrogen PCA\",\n",
    "    xaxis_title=\"PC1 \" + str(round(100*pca.explained_variance_ratio_[0], 1)) + '%',\n",
    "    yaxis_title=\"PC2 \" + str(round(100*pca.explained_variance_ratio_[1], 1)) + '%')\n",
    "fig.show()"
   ]
  },
  {
   "cell_type": "markdown",
   "id": "d64bb76c",
   "metadata": {},
   "source": [
    "### PCA By Species with only Syriaca & Exaltata"
   ]
  },
  {
   "cell_type": "code",
   "execution_count": 274,
   "id": "4e13c99f",
   "metadata": {},
   "outputs": [
    {
     "data": {
      "text/plain": [
       "(154, 503)"
      ]
     },
     "execution_count": 274,
     "metadata": {},
     "output_type": "execute_result"
    }
   ],
   "source": [
    "newdf = newdf[newdf[\"species\"].isin(['syriaca', 'exaltata'])]\n",
    "newdf.shape"
   ]
  },
  {
   "cell_type": "code",
   "execution_count": 275,
   "id": "21a054e4",
   "metadata": {},
   "outputs": [
    {
     "data": {
      "application/vnd.plotly.v1+json": {
       "config": {
        "plotlyServerURL": "https://plot.ly"
       },
       "data": [
        {
         "hovertemplate": "color=syriaca<br>0=%{x}<br>1=%{y}<extra></extra>",
         "legendgroup": "syriaca",
         "marker": {
          "color": "#636efa",
          "symbol": "circle"
         },
         "mode": "markers",
         "name": "syriaca",
         "orientation": "v",
         "showlegend": true,
         "type": "scatter",
         "x": [
          5.899443469828545,
          3.656411360242106,
          0.4003225662539225,
          -0.5658374209480083,
          23.63974481641387,
          8.740187968603891,
          8.03675902099861,
          6.379723008470624,
          14.070850855344956,
          9.149035707720731,
          0.25376515409519784,
          -0.2897032338863706,
          -1.372242003973012,
          4.4663864006428895,
          0.14808458911433628,
          1.2126133293845276,
          -0.06847685223929202,
          0.8031229710571419,
          -0.12211045523519665,
          30.115664603645932,
          -9.667819293515027,
          -3.385540888975004,
          -1.9030958237853992,
          -4.079665329057404,
          -1.1333123511475502,
          1.5253175097459442,
          -2.450785970755206,
          -6.886319348051245,
          -8.734581024478985,
          -3.53912107557322,
          0.9418559517488857,
          -5.4018368651207895,
          6.8789694726318205,
          7.090759122448419,
          0.40923695511394226,
          22.370792510988913,
          0.0037987257779171836,
          -8.91121714218861,
          -3.4729636004038706,
          9.297217381998312,
          -6.288561734657271,
          10.950841276179869,
          -0.03241111985300209,
          1.8821270085803103,
          -7.537411732125034,
          16.1395430363116,
          4.912377818770707,
          -4.7325288155340575,
          -2.023532695006588,
          1.8084189571141598,
          -0.46230725667763717,
          -8.370051333096942,
          14.642357278623985,
          -3.168359917271953,
          -2.9948809323133374,
          -10.975818294421897,
          -7.863113871475598,
          -4.0697198038227365,
          -10.59370926725073,
          -4.644604945172146,
          -3.8531012426634144,
          -6.47162188045867,
          -7.76992062838086,
          6.188347366497871,
          2.294863280556782,
          -3.406550210816863,
          -4.686199057562754,
          -1.466988940928724,
          -6.701732949642749,
          -3.805559045848516,
          -0.6069280323275842,
          -8.333969485915162,
          -9.483515036269775,
          -4.898369713150284,
          -0.7648975559508898,
          2.2549036837379055,
          -6.91644038736318,
          -0.9574581401950897,
          -5.111642234659152,
          -2.0384377451344484,
          -9.888470727211718,
          -2.4728823710857624,
          -5.069239217651707,
          2.025058794241877,
          1.582952529161338,
          -2.284418705265574,
          -8.162877386538367,
          -9.18385547814636,
          -0.532974843493043,
          -4.466855755022534,
          -3.2052232808239287,
          -5.12250422734381,
          -0.7265833833984546,
          -9.742165684988484,
          -2.5497023740263587,
          -5.2805647107001095,
          -4.965996342060154,
          -2.567147439812538,
          9.422461845651947,
          -3.0593797301537977,
          -7.052342589136382,
          -0.0584649732160433,
          -0.7988254484023547,
          -7.3269509888637545
         ],
         "xaxis": "x",
         "y": [
          -1.1404790447241548,
          0.2885967617093719,
          0.15927226594820412,
          2.9483146855167632,
          -0.12108555417211452,
          -0.5221939135347706,
          2.736893268777418,
          1.548439801518326,
          7.252589397869062,
          0.3910539415223977,
          1.7227107124574068,
          -4.059152635187791,
          1.2042181268417247,
          -2.5609753566995344,
          1.9821429849743122,
          -4.365760187535289,
          3.859708375956496,
          5.635834649095337,
          2.5255741115528942,
          -2.1402936836825086,
          -5.0183974249820595,
          -8.592511491338545,
          -6.332715586291645,
          -4.288923445318158,
          -0.8464935065754792,
          -4.464839855350778,
          -4.6712559530920394,
          -4.732277169934431,
          -5.146042153279298,
          -1.317651397676188,
          -9.647547199022895,
          -7.411911053965505,
          -3.281549701863321,
          -1.1401222618054634,
          -1.5106142524236401,
          1.865406195162475,
          -1.4997075832412912,
          -3.483875716803848,
          -5.372807754507073,
          -1.074730270443745,
          -6.978670451755544,
          -5.503318644127643,
          4.261194386953041,
          3.1954175808448606,
          -3.607176923653906,
          1.3867138053062738,
          -0.8796552197932814,
          2.7261840859940913,
          0.1859178935225294,
          -3.0108132622860126,
          1.237068307033606,
          -4.912729844039286,
          -0.2750031400014567,
          -9.935505662302553,
          -8.069582473145228,
          -3.6481415852066243,
          -8.875508119533455,
          -4.655406463765187,
          -3.7980209329441976,
          6.20689953247986,
          -6.7293299151807995,
          -2.56273581664709,
          -1.5817657552667121,
          -4.239682274343224,
          -1.3880356743884568,
          1.1775259796507234,
          -7.793678153085583,
          -1.2623894663626665,
          -2.3123122814338752,
          -3.593951596366897,
          -6.1755312084623535,
          -5.665788971833434,
          -6.597057834080117,
          -8.381732969946498,
          -2.2881971375154877,
          -5.293420468880308,
          -4.6453396671677325,
          -2.566773743794401,
          -6.687412008178255,
          3.5044248018486197,
          -1.6165562671531217,
          3.89792747821383,
          -5.725491356036305,
          0.558882911682754,
          -1.984887746891647,
          8.498273420648294,
          -1.9751551835199646,
          3.5912848703855778,
          -5.399587776536039,
          0.8643041095825763,
          -11.724405125420168,
          -11.074480897619905,
          -13.75235601462032,
          -3.042347845062999,
          -6.038990844568743,
          2.606235157986362,
          -6.034214818372873,
          -10.747078306148733,
          1.2613097343879536,
          1.8402309019834313,
          -9.436695142768103,
          -2.9126357668873,
          -5.438272891520562,
          -4.615902647135538
         ],
         "yaxis": "y"
        },
        {
         "hovertemplate": "color=exaltata<br>0=%{x}<br>1=%{y}<extra></extra>",
         "legendgroup": "exaltata",
         "marker": {
          "color": "#EF553B",
          "symbol": "circle"
         },
         "mode": "markers",
         "name": "exaltata",
         "orientation": "v",
         "showlegend": true,
         "type": "scatter",
         "x": [
          -4.539750219691717,
          5.733664479871689,
          7.502587169401344,
          -2.3524715912909353,
          6.205150317767382,
          10.960167980394656,
          -0.32026585377185113,
          -6.915168386003523,
          -2.1131308484580438,
          -3.8794626667298653,
          1.0321617841366995,
          -1.8280253014251886,
          -0.42351555141601227,
          2.0153584356798313,
          14.02596446017137,
          4.331745445461109,
          13.060778329410516,
          17.762597354718615,
          16.632344954024877,
          19.915395080704126,
          13.118069738545532,
          16.39045881203538,
          7.741660703191213,
          7.238718294228317,
          -1.274126190523822,
          -0.9366627401838005,
          -0.04898765037472734,
          -4.307743319912125,
          3.0303199463992567,
          -0.24030687100832138,
          0.14146863478371993,
          -5.159668216162884,
          0.5404546272454452,
          -3.603442516288364,
          -5.082670085780666,
          -2.3009579241478577,
          -0.9781332622371745,
          1.58410205987228,
          -1.5009842896681902,
          -4.356396224085006,
          -4.026546311442089,
          -5.190116520685434,
          -7.767051756723311,
          -5.122267164992596,
          -1.0011451022442857,
          -4.112440601599302,
          -8.284053842003695,
          -4.495006945149029,
          -5.0316016062835285,
          -3.832987032837377
         ],
         "xaxis": "x",
         "y": [
          8.606326422326312,
          -3.7001105785085553,
          -0.6412654063437746,
          3.2538289966547516,
          -2.3278413411370065,
          -5.934172852373675,
          1.7166526946910772,
          6.9907840639265215,
          4.106710427670214,
          11.098205709288418,
          -3.386842388657292,
          10.696435503601782,
          -0.10048334414833944,
          -1.4857562254929007,
          -1.9573916128010314,
          -4.814727306363437,
          0.015434134154641559,
          -1.833814345906711,
          -0.8976028844842653,
          -1.9927862971517136,
          1.236993663942113,
          2.213633714535069,
          4.491721765025892,
          1.0163013120404192,
          18.961448226672225,
          13.340170269353326,
          3.6789292906855557,
          11.922567873574874,
          6.115357279867717,
          5.204889875128815,
          3.0691277930397005,
          10.606073374719223,
          4.480917321855057,
          0.27415857596769194,
          9.458421623539454,
          9.524938034555426,
          5.864518893923153,
          4.278703152070558,
          7.869161937055282,
          9.53756709555763,
          4.216243965127094,
          11.663687168474183,
          18.241516467741015,
          14.823802518522673,
          9.748587343523738,
          4.514155746482444,
          18.626715536145998,
          9.567262721482923,
          11.414701367909112,
          5.683232934332206
         ],
         "yaxis": "y"
        }
       ],
       "layout": {
        "legend": {
         "title": {
          "text": "color"
         },
         "tracegroupgap": 0
        },
        "margin": {
         "t": 60
        },
        "template": {
         "data": {
          "bar": [
           {
            "error_x": {
             "color": "#2a3f5f"
            },
            "error_y": {
             "color": "#2a3f5f"
            },
            "marker": {
             "line": {
              "color": "#E5ECF6",
              "width": 0.5
             },
             "pattern": {
              "fillmode": "overlay",
              "size": 10,
              "solidity": 0.2
             }
            },
            "type": "bar"
           }
          ],
          "barpolar": [
           {
            "marker": {
             "line": {
              "color": "#E5ECF6",
              "width": 0.5
             },
             "pattern": {
              "fillmode": "overlay",
              "size": 10,
              "solidity": 0.2
             }
            },
            "type": "barpolar"
           }
          ],
          "carpet": [
           {
            "aaxis": {
             "endlinecolor": "#2a3f5f",
             "gridcolor": "white",
             "linecolor": "white",
             "minorgridcolor": "white",
             "startlinecolor": "#2a3f5f"
            },
            "baxis": {
             "endlinecolor": "#2a3f5f",
             "gridcolor": "white",
             "linecolor": "white",
             "minorgridcolor": "white",
             "startlinecolor": "#2a3f5f"
            },
            "type": "carpet"
           }
          ],
          "choropleth": [
           {
            "colorbar": {
             "outlinewidth": 0,
             "ticks": ""
            },
            "type": "choropleth"
           }
          ],
          "contour": [
           {
            "colorbar": {
             "outlinewidth": 0,
             "ticks": ""
            },
            "colorscale": [
             [
              0,
              "#0d0887"
             ],
             [
              0.1111111111111111,
              "#46039f"
             ],
             [
              0.2222222222222222,
              "#7201a8"
             ],
             [
              0.3333333333333333,
              "#9c179e"
             ],
             [
              0.4444444444444444,
              "#bd3786"
             ],
             [
              0.5555555555555556,
              "#d8576b"
             ],
             [
              0.6666666666666666,
              "#ed7953"
             ],
             [
              0.7777777777777778,
              "#fb9f3a"
             ],
             [
              0.8888888888888888,
              "#fdca26"
             ],
             [
              1,
              "#f0f921"
             ]
            ],
            "type": "contour"
           }
          ],
          "contourcarpet": [
           {
            "colorbar": {
             "outlinewidth": 0,
             "ticks": ""
            },
            "type": "contourcarpet"
           }
          ],
          "heatmap": [
           {
            "colorbar": {
             "outlinewidth": 0,
             "ticks": ""
            },
            "colorscale": [
             [
              0,
              "#0d0887"
             ],
             [
              0.1111111111111111,
              "#46039f"
             ],
             [
              0.2222222222222222,
              "#7201a8"
             ],
             [
              0.3333333333333333,
              "#9c179e"
             ],
             [
              0.4444444444444444,
              "#bd3786"
             ],
             [
              0.5555555555555556,
              "#d8576b"
             ],
             [
              0.6666666666666666,
              "#ed7953"
             ],
             [
              0.7777777777777778,
              "#fb9f3a"
             ],
             [
              0.8888888888888888,
              "#fdca26"
             ],
             [
              1,
              "#f0f921"
             ]
            ],
            "type": "heatmap"
           }
          ],
          "heatmapgl": [
           {
            "colorbar": {
             "outlinewidth": 0,
             "ticks": ""
            },
            "colorscale": [
             [
              0,
              "#0d0887"
             ],
             [
              0.1111111111111111,
              "#46039f"
             ],
             [
              0.2222222222222222,
              "#7201a8"
             ],
             [
              0.3333333333333333,
              "#9c179e"
             ],
             [
              0.4444444444444444,
              "#bd3786"
             ],
             [
              0.5555555555555556,
              "#d8576b"
             ],
             [
              0.6666666666666666,
              "#ed7953"
             ],
             [
              0.7777777777777778,
              "#fb9f3a"
             ],
             [
              0.8888888888888888,
              "#fdca26"
             ],
             [
              1,
              "#f0f921"
             ]
            ],
            "type": "heatmapgl"
           }
          ],
          "histogram": [
           {
            "marker": {
             "pattern": {
              "fillmode": "overlay",
              "size": 10,
              "solidity": 0.2
             }
            },
            "type": "histogram"
           }
          ],
          "histogram2d": [
           {
            "colorbar": {
             "outlinewidth": 0,
             "ticks": ""
            },
            "colorscale": [
             [
              0,
              "#0d0887"
             ],
             [
              0.1111111111111111,
              "#46039f"
             ],
             [
              0.2222222222222222,
              "#7201a8"
             ],
             [
              0.3333333333333333,
              "#9c179e"
             ],
             [
              0.4444444444444444,
              "#bd3786"
             ],
             [
              0.5555555555555556,
              "#d8576b"
             ],
             [
              0.6666666666666666,
              "#ed7953"
             ],
             [
              0.7777777777777778,
              "#fb9f3a"
             ],
             [
              0.8888888888888888,
              "#fdca26"
             ],
             [
              1,
              "#f0f921"
             ]
            ],
            "type": "histogram2d"
           }
          ],
          "histogram2dcontour": [
           {
            "colorbar": {
             "outlinewidth": 0,
             "ticks": ""
            },
            "colorscale": [
             [
              0,
              "#0d0887"
             ],
             [
              0.1111111111111111,
              "#46039f"
             ],
             [
              0.2222222222222222,
              "#7201a8"
             ],
             [
              0.3333333333333333,
              "#9c179e"
             ],
             [
              0.4444444444444444,
              "#bd3786"
             ],
             [
              0.5555555555555556,
              "#d8576b"
             ],
             [
              0.6666666666666666,
              "#ed7953"
             ],
             [
              0.7777777777777778,
              "#fb9f3a"
             ],
             [
              0.8888888888888888,
              "#fdca26"
             ],
             [
              1,
              "#f0f921"
             ]
            ],
            "type": "histogram2dcontour"
           }
          ],
          "mesh3d": [
           {
            "colorbar": {
             "outlinewidth": 0,
             "ticks": ""
            },
            "type": "mesh3d"
           }
          ],
          "parcoords": [
           {
            "line": {
             "colorbar": {
              "outlinewidth": 0,
              "ticks": ""
             }
            },
            "type": "parcoords"
           }
          ],
          "pie": [
           {
            "automargin": true,
            "type": "pie"
           }
          ],
          "scatter": [
           {
            "fillpattern": {
             "fillmode": "overlay",
             "size": 10,
             "solidity": 0.2
            },
            "type": "scatter"
           }
          ],
          "scatter3d": [
           {
            "line": {
             "colorbar": {
              "outlinewidth": 0,
              "ticks": ""
             }
            },
            "marker": {
             "colorbar": {
              "outlinewidth": 0,
              "ticks": ""
             }
            },
            "type": "scatter3d"
           }
          ],
          "scattercarpet": [
           {
            "marker": {
             "colorbar": {
              "outlinewidth": 0,
              "ticks": ""
             }
            },
            "type": "scattercarpet"
           }
          ],
          "scattergeo": [
           {
            "marker": {
             "colorbar": {
              "outlinewidth": 0,
              "ticks": ""
             }
            },
            "type": "scattergeo"
           }
          ],
          "scattergl": [
           {
            "marker": {
             "colorbar": {
              "outlinewidth": 0,
              "ticks": ""
             }
            },
            "type": "scattergl"
           }
          ],
          "scattermapbox": [
           {
            "marker": {
             "colorbar": {
              "outlinewidth": 0,
              "ticks": ""
             }
            },
            "type": "scattermapbox"
           }
          ],
          "scatterpolar": [
           {
            "marker": {
             "colorbar": {
              "outlinewidth": 0,
              "ticks": ""
             }
            },
            "type": "scatterpolar"
           }
          ],
          "scatterpolargl": [
           {
            "marker": {
             "colorbar": {
              "outlinewidth": 0,
              "ticks": ""
             }
            },
            "type": "scatterpolargl"
           }
          ],
          "scatterternary": [
           {
            "marker": {
             "colorbar": {
              "outlinewidth": 0,
              "ticks": ""
             }
            },
            "type": "scatterternary"
           }
          ],
          "surface": [
           {
            "colorbar": {
             "outlinewidth": 0,
             "ticks": ""
            },
            "colorscale": [
             [
              0,
              "#0d0887"
             ],
             [
              0.1111111111111111,
              "#46039f"
             ],
             [
              0.2222222222222222,
              "#7201a8"
             ],
             [
              0.3333333333333333,
              "#9c179e"
             ],
             [
              0.4444444444444444,
              "#bd3786"
             ],
             [
              0.5555555555555556,
              "#d8576b"
             ],
             [
              0.6666666666666666,
              "#ed7953"
             ],
             [
              0.7777777777777778,
              "#fb9f3a"
             ],
             [
              0.8888888888888888,
              "#fdca26"
             ],
             [
              1,
              "#f0f921"
             ]
            ],
            "type": "surface"
           }
          ],
          "table": [
           {
            "cells": {
             "fill": {
              "color": "#EBF0F8"
             },
             "line": {
              "color": "white"
             }
            },
            "header": {
             "fill": {
              "color": "#C8D4E3"
             },
             "line": {
              "color": "white"
             }
            },
            "type": "table"
           }
          ]
         },
         "layout": {
          "annotationdefaults": {
           "arrowcolor": "#2a3f5f",
           "arrowhead": 0,
           "arrowwidth": 1
          },
          "autotypenumbers": "strict",
          "coloraxis": {
           "colorbar": {
            "outlinewidth": 0,
            "ticks": ""
           }
          },
          "colorscale": {
           "diverging": [
            [
             0,
             "#8e0152"
            ],
            [
             0.1,
             "#c51b7d"
            ],
            [
             0.2,
             "#de77ae"
            ],
            [
             0.3,
             "#f1b6da"
            ],
            [
             0.4,
             "#fde0ef"
            ],
            [
             0.5,
             "#f7f7f7"
            ],
            [
             0.6,
             "#e6f5d0"
            ],
            [
             0.7,
             "#b8e186"
            ],
            [
             0.8,
             "#7fbc41"
            ],
            [
             0.9,
             "#4d9221"
            ],
            [
             1,
             "#276419"
            ]
           ],
           "sequential": [
            [
             0,
             "#0d0887"
            ],
            [
             0.1111111111111111,
             "#46039f"
            ],
            [
             0.2222222222222222,
             "#7201a8"
            ],
            [
             0.3333333333333333,
             "#9c179e"
            ],
            [
             0.4444444444444444,
             "#bd3786"
            ],
            [
             0.5555555555555556,
             "#d8576b"
            ],
            [
             0.6666666666666666,
             "#ed7953"
            ],
            [
             0.7777777777777778,
             "#fb9f3a"
            ],
            [
             0.8888888888888888,
             "#fdca26"
            ],
            [
             1,
             "#f0f921"
            ]
           ],
           "sequentialminus": [
            [
             0,
             "#0d0887"
            ],
            [
             0.1111111111111111,
             "#46039f"
            ],
            [
             0.2222222222222222,
             "#7201a8"
            ],
            [
             0.3333333333333333,
             "#9c179e"
            ],
            [
             0.4444444444444444,
             "#bd3786"
            ],
            [
             0.5555555555555556,
             "#d8576b"
            ],
            [
             0.6666666666666666,
             "#ed7953"
            ],
            [
             0.7777777777777778,
             "#fb9f3a"
            ],
            [
             0.8888888888888888,
             "#fdca26"
            ],
            [
             1,
             "#f0f921"
            ]
           ]
          },
          "colorway": [
           "#636efa",
           "#EF553B",
           "#00cc96",
           "#ab63fa",
           "#FFA15A",
           "#19d3f3",
           "#FF6692",
           "#B6E880",
           "#FF97FF",
           "#FECB52"
          ],
          "font": {
           "color": "#2a3f5f"
          },
          "geo": {
           "bgcolor": "white",
           "lakecolor": "white",
           "landcolor": "#E5ECF6",
           "showlakes": true,
           "showland": true,
           "subunitcolor": "white"
          },
          "hoverlabel": {
           "align": "left"
          },
          "hovermode": "closest",
          "mapbox": {
           "style": "light"
          },
          "paper_bgcolor": "white",
          "plot_bgcolor": "#E5ECF6",
          "polar": {
           "angularaxis": {
            "gridcolor": "white",
            "linecolor": "white",
            "ticks": ""
           },
           "bgcolor": "#E5ECF6",
           "radialaxis": {
            "gridcolor": "white",
            "linecolor": "white",
            "ticks": ""
           }
          },
          "scene": {
           "xaxis": {
            "backgroundcolor": "#E5ECF6",
            "gridcolor": "white",
            "gridwidth": 2,
            "linecolor": "white",
            "showbackground": true,
            "ticks": "",
            "zerolinecolor": "white"
           },
           "yaxis": {
            "backgroundcolor": "#E5ECF6",
            "gridcolor": "white",
            "gridwidth": 2,
            "linecolor": "white",
            "showbackground": true,
            "ticks": "",
            "zerolinecolor": "white"
           },
           "zaxis": {
            "backgroundcolor": "#E5ECF6",
            "gridcolor": "white",
            "gridwidth": 2,
            "linecolor": "white",
            "showbackground": true,
            "ticks": "",
            "zerolinecolor": "white"
           }
          },
          "shapedefaults": {
           "line": {
            "color": "#2a3f5f"
           }
          },
          "ternary": {
           "aaxis": {
            "gridcolor": "white",
            "linecolor": "white",
            "ticks": ""
           },
           "baxis": {
            "gridcolor": "white",
            "linecolor": "white",
            "ticks": ""
           },
           "bgcolor": "#E5ECF6",
           "caxis": {
            "gridcolor": "white",
            "linecolor": "white",
            "ticks": ""
           }
          },
          "title": {
           "x": 0.05
          },
          "xaxis": {
           "automargin": true,
           "gridcolor": "white",
           "linecolor": "white",
           "ticks": "",
           "title": {
            "standoff": 15
           },
           "zerolinecolor": "white",
           "zerolinewidth": 2
          },
          "yaxis": {
           "automargin": true,
           "gridcolor": "white",
           "linecolor": "white",
           "ticks": "",
           "title": {
            "standoff": 15
           },
           "zerolinecolor": "white",
           "zerolinewidth": 2
          }
         }
        },
        "title": {
         "text": "Plant Nutrients by Site Not Including Nitrogen PCA"
        },
        "xaxis": {
         "anchor": "y",
         "domain": [
          0,
          1
         ],
         "title": {
          "text": "PC1 10.6%"
         }
        },
        "yaxis": {
         "anchor": "x",
         "domain": [
          0,
          1
         ],
         "title": {
          "text": "PC2 7.5%"
         }
        }
       }
      },
      "text/html": [
       "<div>                            <div id=\"de87849b-02a1-402e-b8ab-437c82b286f6\" class=\"plotly-graph-div\" style=\"height:525px; width:100%;\"></div>            <script type=\"text/javascript\">                require([\"plotly\"], function(Plotly) {                    window.PLOTLYENV=window.PLOTLYENV || {};                                    if (document.getElementById(\"de87849b-02a1-402e-b8ab-437c82b286f6\")) {                    Plotly.newPlot(                        \"de87849b-02a1-402e-b8ab-437c82b286f6\",                        [{\"hovertemplate\":\"color=syriaca<br>0=%{x}<br>1=%{y}<extra></extra>\",\"legendgroup\":\"syriaca\",\"marker\":{\"color\":\"#636efa\",\"symbol\":\"circle\"},\"mode\":\"markers\",\"name\":\"syriaca\",\"orientation\":\"v\",\"showlegend\":true,\"x\":[5.899443469828545,3.656411360242106,0.4003225662539225,-0.5658374209480083,23.63974481641387,8.740187968603891,8.03675902099861,6.379723008470624,14.070850855344956,9.149035707720731,0.25376515409519784,-0.2897032338863706,-1.372242003973012,4.4663864006428895,0.14808458911433628,1.2126133293845276,-0.06847685223929202,0.8031229710571419,-0.12211045523519665,30.115664603645932,-9.667819293515027,-3.385540888975004,-1.9030958237853992,-4.079665329057404,-1.1333123511475502,1.5253175097459442,-2.450785970755206,-6.886319348051245,-8.734581024478985,-3.53912107557322,0.9418559517488857,-5.4018368651207895,6.8789694726318205,7.090759122448419,0.40923695511394226,22.370792510988913,0.0037987257779171836,-8.91121714218861,-3.4729636004038706,9.297217381998312,-6.288561734657271,10.950841276179869,-0.03241111985300209,1.8821270085803103,-7.537411732125034,16.1395430363116,4.912377818770707,-4.7325288155340575,-2.023532695006588,1.8084189571141598,-0.46230725667763717,-8.370051333096942,14.642357278623985,-3.168359917271953,-2.9948809323133374,-10.975818294421897,-7.863113871475598,-4.0697198038227365,-10.59370926725073,-4.644604945172146,-3.8531012426634144,-6.47162188045867,-7.76992062838086,6.188347366497871,2.294863280556782,-3.406550210816863,-4.686199057562754,-1.466988940928724,-6.701732949642749,-3.805559045848516,-0.6069280323275842,-8.333969485915162,-9.483515036269775,-4.898369713150284,-0.7648975559508898,2.2549036837379055,-6.91644038736318,-0.9574581401950897,-5.111642234659152,-2.0384377451344484,-9.888470727211718,-2.4728823710857624,-5.069239217651707,2.025058794241877,1.582952529161338,-2.284418705265574,-8.162877386538367,-9.18385547814636,-0.532974843493043,-4.466855755022534,-3.2052232808239287,-5.12250422734381,-0.7265833833984546,-9.742165684988484,-2.5497023740263587,-5.2805647107001095,-4.965996342060154,-2.567147439812538,9.422461845651947,-3.0593797301537977,-7.052342589136382,-0.0584649732160433,-0.7988254484023547,-7.3269509888637545],\"xaxis\":\"x\",\"y\":[-1.1404790447241548,0.2885967617093719,0.15927226594820412,2.9483146855167632,-0.12108555417211452,-0.5221939135347706,2.736893268777418,1.548439801518326,7.252589397869062,0.3910539415223977,1.7227107124574068,-4.059152635187791,1.2042181268417247,-2.5609753566995344,1.9821429849743122,-4.365760187535289,3.859708375956496,5.635834649095337,2.5255741115528942,-2.1402936836825086,-5.0183974249820595,-8.592511491338545,-6.332715586291645,-4.288923445318158,-0.8464935065754792,-4.464839855350778,-4.6712559530920394,-4.732277169934431,-5.146042153279298,-1.317651397676188,-9.647547199022895,-7.411911053965505,-3.281549701863321,-1.1401222618054634,-1.5106142524236401,1.865406195162475,-1.4997075832412912,-3.483875716803848,-5.372807754507073,-1.074730270443745,-6.978670451755544,-5.503318644127643,4.261194386953041,3.1954175808448606,-3.607176923653906,1.3867138053062738,-0.8796552197932814,2.7261840859940913,0.1859178935225294,-3.0108132622860126,1.237068307033606,-4.912729844039286,-0.2750031400014567,-9.935505662302553,-8.069582473145228,-3.6481415852066243,-8.875508119533455,-4.655406463765187,-3.7980209329441976,6.20689953247986,-6.7293299151807995,-2.56273581664709,-1.5817657552667121,-4.239682274343224,-1.3880356743884568,1.1775259796507234,-7.793678153085583,-1.2623894663626665,-2.3123122814338752,-3.593951596366897,-6.1755312084623535,-5.665788971833434,-6.597057834080117,-8.381732969946498,-2.2881971375154877,-5.293420468880308,-4.6453396671677325,-2.566773743794401,-6.687412008178255,3.5044248018486197,-1.6165562671531217,3.89792747821383,-5.725491356036305,0.558882911682754,-1.984887746891647,8.498273420648294,-1.9751551835199646,3.5912848703855778,-5.399587776536039,0.8643041095825763,-11.724405125420168,-11.074480897619905,-13.75235601462032,-3.042347845062999,-6.038990844568743,2.606235157986362,-6.034214818372873,-10.747078306148733,1.2613097343879536,1.8402309019834313,-9.436695142768103,-2.9126357668873,-5.438272891520562,-4.615902647135538],\"yaxis\":\"y\",\"type\":\"scatter\"},{\"hovertemplate\":\"color=exaltata<br>0=%{x}<br>1=%{y}<extra></extra>\",\"legendgroup\":\"exaltata\",\"marker\":{\"color\":\"#EF553B\",\"symbol\":\"circle\"},\"mode\":\"markers\",\"name\":\"exaltata\",\"orientation\":\"v\",\"showlegend\":true,\"x\":[-4.539750219691717,5.733664479871689,7.502587169401344,-2.3524715912909353,6.205150317767382,10.960167980394656,-0.32026585377185113,-6.915168386003523,-2.1131308484580438,-3.8794626667298653,1.0321617841366995,-1.8280253014251886,-0.42351555141601227,2.0153584356798313,14.02596446017137,4.331745445461109,13.060778329410516,17.762597354718615,16.632344954024877,19.915395080704126,13.118069738545532,16.39045881203538,7.741660703191213,7.238718294228317,-1.274126190523822,-0.9366627401838005,-0.04898765037472734,-4.307743319912125,3.0303199463992567,-0.24030687100832138,0.14146863478371993,-5.159668216162884,0.5404546272454452,-3.603442516288364,-5.082670085780666,-2.3009579241478577,-0.9781332622371745,1.58410205987228,-1.5009842896681902,-4.356396224085006,-4.026546311442089,-5.190116520685434,-7.767051756723311,-5.122267164992596,-1.0011451022442857,-4.112440601599302,-8.284053842003695,-4.495006945149029,-5.0316016062835285,-3.832987032837377],\"xaxis\":\"x\",\"y\":[8.606326422326312,-3.7001105785085553,-0.6412654063437746,3.2538289966547516,-2.3278413411370065,-5.934172852373675,1.7166526946910772,6.9907840639265215,4.106710427670214,11.098205709288418,-3.386842388657292,10.696435503601782,-0.10048334414833944,-1.4857562254929007,-1.9573916128010314,-4.814727306363437,0.015434134154641559,-1.833814345906711,-0.8976028844842653,-1.9927862971517136,1.236993663942113,2.213633714535069,4.491721765025892,1.0163013120404192,18.961448226672225,13.340170269353326,3.6789292906855557,11.922567873574874,6.115357279867717,5.204889875128815,3.0691277930397005,10.606073374719223,4.480917321855057,0.27415857596769194,9.458421623539454,9.524938034555426,5.864518893923153,4.278703152070558,7.869161937055282,9.53756709555763,4.216243965127094,11.663687168474183,18.241516467741015,14.823802518522673,9.748587343523738,4.514155746482444,18.626715536145998,9.567262721482923,11.414701367909112,5.683232934332206],\"yaxis\":\"y\",\"type\":\"scatter\"}],                        {\"template\":{\"data\":{\"histogram2dcontour\":[{\"type\":\"histogram2dcontour\",\"colorbar\":{\"outlinewidth\":0,\"ticks\":\"\"},\"colorscale\":[[0.0,\"#0d0887\"],[0.1111111111111111,\"#46039f\"],[0.2222222222222222,\"#7201a8\"],[0.3333333333333333,\"#9c179e\"],[0.4444444444444444,\"#bd3786\"],[0.5555555555555556,\"#d8576b\"],[0.6666666666666666,\"#ed7953\"],[0.7777777777777778,\"#fb9f3a\"],[0.8888888888888888,\"#fdca26\"],[1.0,\"#f0f921\"]]}],\"choropleth\":[{\"type\":\"choropleth\",\"colorbar\":{\"outlinewidth\":0,\"ticks\":\"\"}}],\"histogram2d\":[{\"type\":\"histogram2d\",\"colorbar\":{\"outlinewidth\":0,\"ticks\":\"\"},\"colorscale\":[[0.0,\"#0d0887\"],[0.1111111111111111,\"#46039f\"],[0.2222222222222222,\"#7201a8\"],[0.3333333333333333,\"#9c179e\"],[0.4444444444444444,\"#bd3786\"],[0.5555555555555556,\"#d8576b\"],[0.6666666666666666,\"#ed7953\"],[0.7777777777777778,\"#fb9f3a\"],[0.8888888888888888,\"#fdca26\"],[1.0,\"#f0f921\"]]}],\"heatmap\":[{\"type\":\"heatmap\",\"colorbar\":{\"outlinewidth\":0,\"ticks\":\"\"},\"colorscale\":[[0.0,\"#0d0887\"],[0.1111111111111111,\"#46039f\"],[0.2222222222222222,\"#7201a8\"],[0.3333333333333333,\"#9c179e\"],[0.4444444444444444,\"#bd3786\"],[0.5555555555555556,\"#d8576b\"],[0.6666666666666666,\"#ed7953\"],[0.7777777777777778,\"#fb9f3a\"],[0.8888888888888888,\"#fdca26\"],[1.0,\"#f0f921\"]]}],\"heatmapgl\":[{\"type\":\"heatmapgl\",\"colorbar\":{\"outlinewidth\":0,\"ticks\":\"\"},\"colorscale\":[[0.0,\"#0d0887\"],[0.1111111111111111,\"#46039f\"],[0.2222222222222222,\"#7201a8\"],[0.3333333333333333,\"#9c179e\"],[0.4444444444444444,\"#bd3786\"],[0.5555555555555556,\"#d8576b\"],[0.6666666666666666,\"#ed7953\"],[0.7777777777777778,\"#fb9f3a\"],[0.8888888888888888,\"#fdca26\"],[1.0,\"#f0f921\"]]}],\"contourcarpet\":[{\"type\":\"contourcarpet\",\"colorbar\":{\"outlinewidth\":0,\"ticks\":\"\"}}],\"contour\":[{\"type\":\"contour\",\"colorbar\":{\"outlinewidth\":0,\"ticks\":\"\"},\"colorscale\":[[0.0,\"#0d0887\"],[0.1111111111111111,\"#46039f\"],[0.2222222222222222,\"#7201a8\"],[0.3333333333333333,\"#9c179e\"],[0.4444444444444444,\"#bd3786\"],[0.5555555555555556,\"#d8576b\"],[0.6666666666666666,\"#ed7953\"],[0.7777777777777778,\"#fb9f3a\"],[0.8888888888888888,\"#fdca26\"],[1.0,\"#f0f921\"]]}],\"surface\":[{\"type\":\"surface\",\"colorbar\":{\"outlinewidth\":0,\"ticks\":\"\"},\"colorscale\":[[0.0,\"#0d0887\"],[0.1111111111111111,\"#46039f\"],[0.2222222222222222,\"#7201a8\"],[0.3333333333333333,\"#9c179e\"],[0.4444444444444444,\"#bd3786\"],[0.5555555555555556,\"#d8576b\"],[0.6666666666666666,\"#ed7953\"],[0.7777777777777778,\"#fb9f3a\"],[0.8888888888888888,\"#fdca26\"],[1.0,\"#f0f921\"]]}],\"mesh3d\":[{\"type\":\"mesh3d\",\"colorbar\":{\"outlinewidth\":0,\"ticks\":\"\"}}],\"scatter\":[{\"fillpattern\":{\"fillmode\":\"overlay\",\"size\":10,\"solidity\":0.2},\"type\":\"scatter\"}],\"parcoords\":[{\"type\":\"parcoords\",\"line\":{\"colorbar\":{\"outlinewidth\":0,\"ticks\":\"\"}}}],\"scatterpolargl\":[{\"type\":\"scatterpolargl\",\"marker\":{\"colorbar\":{\"outlinewidth\":0,\"ticks\":\"\"}}}],\"bar\":[{\"error_x\":{\"color\":\"#2a3f5f\"},\"error_y\":{\"color\":\"#2a3f5f\"},\"marker\":{\"line\":{\"color\":\"#E5ECF6\",\"width\":0.5},\"pattern\":{\"fillmode\":\"overlay\",\"size\":10,\"solidity\":0.2}},\"type\":\"bar\"}],\"scattergeo\":[{\"type\":\"scattergeo\",\"marker\":{\"colorbar\":{\"outlinewidth\":0,\"ticks\":\"\"}}}],\"scatterpolar\":[{\"type\":\"scatterpolar\",\"marker\":{\"colorbar\":{\"outlinewidth\":0,\"ticks\":\"\"}}}],\"histogram\":[{\"marker\":{\"pattern\":{\"fillmode\":\"overlay\",\"size\":10,\"solidity\":0.2}},\"type\":\"histogram\"}],\"scattergl\":[{\"type\":\"scattergl\",\"marker\":{\"colorbar\":{\"outlinewidth\":0,\"ticks\":\"\"}}}],\"scatter3d\":[{\"type\":\"scatter3d\",\"line\":{\"colorbar\":{\"outlinewidth\":0,\"ticks\":\"\"}},\"marker\":{\"colorbar\":{\"outlinewidth\":0,\"ticks\":\"\"}}}],\"scattermapbox\":[{\"type\":\"scattermapbox\",\"marker\":{\"colorbar\":{\"outlinewidth\":0,\"ticks\":\"\"}}}],\"scatterternary\":[{\"type\":\"scatterternary\",\"marker\":{\"colorbar\":{\"outlinewidth\":0,\"ticks\":\"\"}}}],\"scattercarpet\":[{\"type\":\"scattercarpet\",\"marker\":{\"colorbar\":{\"outlinewidth\":0,\"ticks\":\"\"}}}],\"carpet\":[{\"aaxis\":{\"endlinecolor\":\"#2a3f5f\",\"gridcolor\":\"white\",\"linecolor\":\"white\",\"minorgridcolor\":\"white\",\"startlinecolor\":\"#2a3f5f\"},\"baxis\":{\"endlinecolor\":\"#2a3f5f\",\"gridcolor\":\"white\",\"linecolor\":\"white\",\"minorgridcolor\":\"white\",\"startlinecolor\":\"#2a3f5f\"},\"type\":\"carpet\"}],\"table\":[{\"cells\":{\"fill\":{\"color\":\"#EBF0F8\"},\"line\":{\"color\":\"white\"}},\"header\":{\"fill\":{\"color\":\"#C8D4E3\"},\"line\":{\"color\":\"white\"}},\"type\":\"table\"}],\"barpolar\":[{\"marker\":{\"line\":{\"color\":\"#E5ECF6\",\"width\":0.5},\"pattern\":{\"fillmode\":\"overlay\",\"size\":10,\"solidity\":0.2}},\"type\":\"barpolar\"}],\"pie\":[{\"automargin\":true,\"type\":\"pie\"}]},\"layout\":{\"autotypenumbers\":\"strict\",\"colorway\":[\"#636efa\",\"#EF553B\",\"#00cc96\",\"#ab63fa\",\"#FFA15A\",\"#19d3f3\",\"#FF6692\",\"#B6E880\",\"#FF97FF\",\"#FECB52\"],\"font\":{\"color\":\"#2a3f5f\"},\"hovermode\":\"closest\",\"hoverlabel\":{\"align\":\"left\"},\"paper_bgcolor\":\"white\",\"plot_bgcolor\":\"#E5ECF6\",\"polar\":{\"bgcolor\":\"#E5ECF6\",\"angularaxis\":{\"gridcolor\":\"white\",\"linecolor\":\"white\",\"ticks\":\"\"},\"radialaxis\":{\"gridcolor\":\"white\",\"linecolor\":\"white\",\"ticks\":\"\"}},\"ternary\":{\"bgcolor\":\"#E5ECF6\",\"aaxis\":{\"gridcolor\":\"white\",\"linecolor\":\"white\",\"ticks\":\"\"},\"baxis\":{\"gridcolor\":\"white\",\"linecolor\":\"white\",\"ticks\":\"\"},\"caxis\":{\"gridcolor\":\"white\",\"linecolor\":\"white\",\"ticks\":\"\"}},\"coloraxis\":{\"colorbar\":{\"outlinewidth\":0,\"ticks\":\"\"}},\"colorscale\":{\"sequential\":[[0.0,\"#0d0887\"],[0.1111111111111111,\"#46039f\"],[0.2222222222222222,\"#7201a8\"],[0.3333333333333333,\"#9c179e\"],[0.4444444444444444,\"#bd3786\"],[0.5555555555555556,\"#d8576b\"],[0.6666666666666666,\"#ed7953\"],[0.7777777777777778,\"#fb9f3a\"],[0.8888888888888888,\"#fdca26\"],[1.0,\"#f0f921\"]],\"sequentialminus\":[[0.0,\"#0d0887\"],[0.1111111111111111,\"#46039f\"],[0.2222222222222222,\"#7201a8\"],[0.3333333333333333,\"#9c179e\"],[0.4444444444444444,\"#bd3786\"],[0.5555555555555556,\"#d8576b\"],[0.6666666666666666,\"#ed7953\"],[0.7777777777777778,\"#fb9f3a\"],[0.8888888888888888,\"#fdca26\"],[1.0,\"#f0f921\"]],\"diverging\":[[0,\"#8e0152\"],[0.1,\"#c51b7d\"],[0.2,\"#de77ae\"],[0.3,\"#f1b6da\"],[0.4,\"#fde0ef\"],[0.5,\"#f7f7f7\"],[0.6,\"#e6f5d0\"],[0.7,\"#b8e186\"],[0.8,\"#7fbc41\"],[0.9,\"#4d9221\"],[1,\"#276419\"]]},\"xaxis\":{\"gridcolor\":\"white\",\"linecolor\":\"white\",\"ticks\":\"\",\"title\":{\"standoff\":15},\"zerolinecolor\":\"white\",\"automargin\":true,\"zerolinewidth\":2},\"yaxis\":{\"gridcolor\":\"white\",\"linecolor\":\"white\",\"ticks\":\"\",\"title\":{\"standoff\":15},\"zerolinecolor\":\"white\",\"automargin\":true,\"zerolinewidth\":2},\"scene\":{\"xaxis\":{\"backgroundcolor\":\"#E5ECF6\",\"gridcolor\":\"white\",\"linecolor\":\"white\",\"showbackground\":true,\"ticks\":\"\",\"zerolinecolor\":\"white\",\"gridwidth\":2},\"yaxis\":{\"backgroundcolor\":\"#E5ECF6\",\"gridcolor\":\"white\",\"linecolor\":\"white\",\"showbackground\":true,\"ticks\":\"\",\"zerolinecolor\":\"white\",\"gridwidth\":2},\"zaxis\":{\"backgroundcolor\":\"#E5ECF6\",\"gridcolor\":\"white\",\"linecolor\":\"white\",\"showbackground\":true,\"ticks\":\"\",\"zerolinecolor\":\"white\",\"gridwidth\":2}},\"shapedefaults\":{\"line\":{\"color\":\"#2a3f5f\"}},\"annotationdefaults\":{\"arrowcolor\":\"#2a3f5f\",\"arrowhead\":0,\"arrowwidth\":1},\"geo\":{\"bgcolor\":\"white\",\"landcolor\":\"#E5ECF6\",\"subunitcolor\":\"white\",\"showland\":true,\"showlakes\":true,\"lakecolor\":\"white\"},\"title\":{\"x\":0.05},\"mapbox\":{\"style\":\"light\"}}},\"xaxis\":{\"anchor\":\"y\",\"domain\":[0.0,1.0],\"title\":{\"text\":\"PC1 10.6%\"}},\"yaxis\":{\"anchor\":\"x\",\"domain\":[0.0,1.0],\"title\":{\"text\":\"PC2 7.5%\"}},\"legend\":{\"title\":{\"text\":\"color\"},\"tracegroupgap\":0},\"margin\":{\"t\":60},\"title\":{\"text\":\"Plant Nutrients by Site Not Including Nitrogen PCA\"}},                        {\"responsive\": true}                    ).then(function(){\n",
       "                            \n",
       "var gd = document.getElementById('de87849b-02a1-402e-b8ab-437c82b286f6');\n",
       "var x = new MutationObserver(function (mutations, observer) {{\n",
       "        var display = window.getComputedStyle(gd).display;\n",
       "        if (!display || display === 'none') {{\n",
       "            console.log([gd, 'removed!']);\n",
       "            Plotly.purge(gd);\n",
       "            observer.disconnect();\n",
       "        }}\n",
       "}});\n",
       "\n",
       "// Listen for the removal of the full notebook cells\n",
       "var notebookContainer = gd.closest('#notebook-container');\n",
       "if (notebookContainer) {{\n",
       "    x.observe(notebookContainer, {childList: true});\n",
       "}}\n",
       "\n",
       "// Listen for the clearing of the current output cell\n",
       "var outputEl = gd.closest('.output');\n",
       "if (outputEl) {{\n",
       "    x.observe(outputEl, {childList: true});\n",
       "}}\n",
       "\n",
       "                        })                };                });            </script>        </div>"
      ]
     },
     "metadata": {},
     "output_type": "display_data"
    }
   ],
   "source": [
    "X = newdf[genera_cols]\n",
    "pca = PCA(n_components=2)\n",
    "components = pca.fit_transform(X)\n",
    "\n",
    "fig = px.scatter(components, x=0, y=1, color=newdf['species'])\n",
    "fig.update_layout(\n",
    "    title = \"Plant Nutrients by Site Not Including Nitrogen PCA\",\n",
    "    xaxis_title=\"PC1 \" + str(round(100*pca.explained_variance_ratio_[0], 1)) + '%',\n",
    "    yaxis_title=\"PC2 \" + str(round(100*pca.explained_variance_ratio_[1], 1)) + '%')\n",
    "fig.show()"
   ]
  },
  {
   "cell_type": "code",
   "execution_count": null,
   "id": "30d0970a",
   "metadata": {},
   "outputs": [],
   "source": []
  }
 ],
 "metadata": {
  "kernelspec": {
   "display_name": "Python 3 (ipykernel)",
   "language": "python",
   "name": "python3"
  },
  "language_info": {
   "codemirror_mode": {
    "name": "ipython",
    "version": 3
   },
   "file_extension": ".py",
   "mimetype": "text/x-python",
   "name": "python",
   "nbconvert_exporter": "python",
   "pygments_lexer": "ipython3",
   "version": "3.11.4"
  }
 },
 "nbformat": 4,
 "nbformat_minor": 5
}
