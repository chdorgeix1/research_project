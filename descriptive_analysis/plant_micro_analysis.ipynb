{
 "cells": [
  {
   "cell_type": "code",
   "execution_count": 11,
   "id": "39a97d55",
   "metadata": {},
   "outputs": [],
   "source": [
    "import pandas as pd\n",
    "import numpy as np\n",
    "import sqlite3\n",
    "import plotly.express as px\n",
    "from sklearn.decomposition import PCA\n",
    "from sklearn.preprocessing import StandardScaler\n",
    "import matplotlib.pyplot as plt\n",
    "import seaborn as sns\n",
    "from sklearn.manifold import TSNE\n",
    "import statsmodels\n",
    "import statsmodels.api as sm\n",
    "from statsmodels.multivariate.manova import MANOVA\n",
    "from scipy import stats\n",
    "\n",
    "from useful_functions import *"
   ]
  },
  {
   "cell_type": "code",
   "execution_count": 6,
   "id": "38ce1373",
   "metadata": {},
   "outputs": [
    {
     "data": {
      "text/plain": [
       "(0, 3)"
      ]
     },
     "execution_count": 6,
     "metadata": {},
     "output_type": "execute_result"
    }
   ],
   "source": [
    "table = \"tPlantMicrobeGenera\"\n",
    "full_df = import_microbe_data(table)\n",
    "full_df.shape"
   ]
  },
  {
   "cell_type": "code",
   "execution_count": 12,
   "id": "ee1963a9",
   "metadata": {},
   "outputs": [
    {
     "data": {
      "text/plain": [
       "(277695, 15)"
      ]
     },
     "execution_count": 12,
     "metadata": {},
     "output_type": "execute_result"
    }
   ],
   "source": [
    "tables_to_join = [\"tPlantMicrobeGenera\", \"tSample\", \"tPlantDNA\"]\n",
    "common_column = \"sample_id\"\n",
    "full_df = import_all_data(tables_to_join, common_column)\n",
    "full_df.shape"
   ]
  },
  {
   "cell_type": "code",
   "execution_count": 13,
   "id": "352ae158",
   "metadata": {},
   "outputs": [
    {
     "data": {
      "text/html": [
       "<div>\n",
       "<style scoped>\n",
       "    .dataframe tbody tr th:only-of-type {\n",
       "        vertical-align: middle;\n",
       "    }\n",
       "\n",
       "    .dataframe tbody tr th {\n",
       "        vertical-align: top;\n",
       "    }\n",
       "\n",
       "    .dataframe thead th {\n",
       "        text-align: right;\n",
       "    }\n",
       "</style>\n",
       "<table border=\"1\" class=\"dataframe\">\n",
       "  <thead>\n",
       "    <tr style=\"text-align: right;\">\n",
       "      <th></th>\n",
       "      <th>sample_id</th>\n",
       "      <th>genera</th>\n",
       "      <th>relative_abundance</th>\n",
       "      <th>sample_id</th>\n",
       "      <th>site_id</th>\n",
       "      <th>collect_date</th>\n",
       "      <th>sample_id</th>\n",
       "      <th>V1</th>\n",
       "      <th>V2</th>\n",
       "      <th>species</th>\n",
       "      <th>PC1</th>\n",
       "      <th>PC2</th>\n",
       "      <th>PC3</th>\n",
       "      <th>PC4</th>\n",
       "      <th>PC5</th>\n",
       "    </tr>\n",
       "  </thead>\n",
       "  <tbody>\n",
       "    <tr>\n",
       "      <th>0</th>\n",
       "      <td>RRL1</td>\n",
       "      <td>Archaea|Euryarchaeota|Halobacteria|Halobacteri...</td>\n",
       "      <td>0.00000</td>\n",
       "      <td>RRL1</td>\n",
       "      <td>RRL</td>\n",
       "      <td>6/25/2021</td>\n",
       "      <td>RRL1</td>\n",
       "      <td>0.753244</td>\n",
       "      <td>0.246756</td>\n",
       "      <td>exaltata</td>\n",
       "      <td>0.194769</td>\n",
       "      <td>0.048276</td>\n",
       "      <td>-0.023880</td>\n",
       "      <td>-0.017138</td>\n",
       "      <td>-0.039842</td>\n",
       "    </tr>\n",
       "    <tr>\n",
       "      <th>1</th>\n",
       "      <td>RRL2</td>\n",
       "      <td>Archaea|Euryarchaeota|Halobacteria|Halobacteri...</td>\n",
       "      <td>0.01333</td>\n",
       "      <td>RRL2</td>\n",
       "      <td>RRL</td>\n",
       "      <td>6/25/2021</td>\n",
       "      <td>RRL2</td>\n",
       "      <td>0.708412</td>\n",
       "      <td>0.291588</td>\n",
       "      <td>exaltata</td>\n",
       "      <td>0.154924</td>\n",
       "      <td>0.071277</td>\n",
       "      <td>0.000923</td>\n",
       "      <td>-0.025830</td>\n",
       "      <td>0.005592</td>\n",
       "    </tr>\n",
       "    <tr>\n",
       "      <th>2</th>\n",
       "      <td>RRL3</td>\n",
       "      <td>Archaea|Euryarchaeota|Halobacteria|Halobacteri...</td>\n",
       "      <td>0.00000</td>\n",
       "      <td>RRL3</td>\n",
       "      <td>RRL</td>\n",
       "      <td>6/25/2021</td>\n",
       "      <td>RRL3</td>\n",
       "      <td>0.778046</td>\n",
       "      <td>0.221954</td>\n",
       "      <td>exaltata</td>\n",
       "      <td>0.187750</td>\n",
       "      <td>0.035009</td>\n",
       "      <td>-0.016006</td>\n",
       "      <td>-0.012529</td>\n",
       "      <td>-0.011169</td>\n",
       "    </tr>\n",
       "    <tr>\n",
       "      <th>3</th>\n",
       "      <td>RRL4</td>\n",
       "      <td>Archaea|Euryarchaeota|Halobacteria|Halobacteri...</td>\n",
       "      <td>0.00943</td>\n",
       "      <td>RRL4</td>\n",
       "      <td>RRL</td>\n",
       "      <td>6/25/2021</td>\n",
       "      <td>RRL4</td>\n",
       "      <td>0.720367</td>\n",
       "      <td>0.279633</td>\n",
       "      <td>exaltata</td>\n",
       "      <td>0.167167</td>\n",
       "      <td>0.046053</td>\n",
       "      <td>-0.032754</td>\n",
       "      <td>-0.016192</td>\n",
       "      <td>-0.028988</td>\n",
       "    </tr>\n",
       "    <tr>\n",
       "      <th>4</th>\n",
       "      <td>RRL5</td>\n",
       "      <td>Archaea|Euryarchaeota|Halobacteria|Halobacteri...</td>\n",
       "      <td>0.00581</td>\n",
       "      <td>RRL5</td>\n",
       "      <td>RRL</td>\n",
       "      <td>6/25/2021</td>\n",
       "      <td>RRL5</td>\n",
       "      <td>0.572487</td>\n",
       "      <td>0.427513</td>\n",
       "      <td>exaltata</td>\n",
       "      <td>0.099801</td>\n",
       "      <td>0.089800</td>\n",
       "      <td>0.000613</td>\n",
       "      <td>-0.004979</td>\n",
       "      <td>0.017524</td>\n",
       "    </tr>\n",
       "  </tbody>\n",
       "</table>\n",
       "</div>"
      ],
      "text/plain": [
       "  sample_id                                             genera  \\\n",
       "0      RRL1  Archaea|Euryarchaeota|Halobacteria|Halobacteri...   \n",
       "1      RRL2  Archaea|Euryarchaeota|Halobacteria|Halobacteri...   \n",
       "2      RRL3  Archaea|Euryarchaeota|Halobacteria|Halobacteri...   \n",
       "3      RRL4  Archaea|Euryarchaeota|Halobacteria|Halobacteri...   \n",
       "4      RRL5  Archaea|Euryarchaeota|Halobacteria|Halobacteri...   \n",
       "\n",
       "   relative_abundance sample_id site_id collect_date sample_id        V1  \\\n",
       "0             0.00000      RRL1     RRL    6/25/2021      RRL1  0.753244   \n",
       "1             0.01333      RRL2     RRL    6/25/2021      RRL2  0.708412   \n",
       "2             0.00000      RRL3     RRL    6/25/2021      RRL3  0.778046   \n",
       "3             0.00943      RRL4     RRL    6/25/2021      RRL4  0.720367   \n",
       "4             0.00581      RRL5     RRL    6/25/2021      RRL5  0.572487   \n",
       "\n",
       "         V2   species       PC1       PC2       PC3       PC4       PC5  \n",
       "0  0.246756  exaltata  0.194769  0.048276 -0.023880 -0.017138 -0.039842  \n",
       "1  0.291588  exaltata  0.154924  0.071277  0.000923 -0.025830  0.005592  \n",
       "2  0.221954  exaltata  0.187750  0.035009 -0.016006 -0.012529 -0.011169  \n",
       "3  0.279633  exaltata  0.167167  0.046053 -0.032754 -0.016192 -0.028988  \n",
       "4  0.427513  exaltata  0.099801  0.089800  0.000613 -0.004979  0.017524  "
      ]
     },
     "execution_count": 13,
     "metadata": {},
     "output_type": "execute_result"
    }
   ],
   "source": [
    "full_df.head()"
   ]
  },
  {
   "cell_type": "code",
   "execution_count": 14,
   "id": "97b5abde",
   "metadata": {},
   "outputs": [
    {
     "data": {
      "text/plain": [
       "(277695, 13)"
      ]
     },
     "execution_count": 14,
     "metadata": {},
     "output_type": "execute_result"
    }
   ],
   "source": [
    "#drop duplicate columns\n",
    "df = full_df\n",
    "df = df.T.drop_duplicates().T\n",
    "df.shape"
   ]
  },
  {
   "cell_type": "code",
   "execution_count": null,
   "id": "b923660a",
   "metadata": {},
   "outputs": [],
   "source": []
  }
 ],
 "metadata": {
  "kernelspec": {
   "display_name": "Python 3 (ipykernel)",
   "language": "python",
   "name": "python3"
  },
  "language_info": {
   "codemirror_mode": {
    "name": "ipython",
    "version": 3
   },
   "file_extension": ".py",
   "mimetype": "text/x-python",
   "name": "python",
   "nbconvert_exporter": "python",
   "pygments_lexer": "ipython3",
   "version": "3.11.4"
  }
 },
 "nbformat": 4,
 "nbformat_minor": 5
}
