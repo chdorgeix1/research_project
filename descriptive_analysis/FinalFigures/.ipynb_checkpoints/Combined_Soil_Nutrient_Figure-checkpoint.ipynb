{
 "cells": [
  {
   "cell_type": "code",
   "execution_count": 76,
   "id": "d697f8f0",
   "metadata": {},
   "outputs": [],
   "source": [
    "import numpy as np\n",
    "import sqlite3\n",
    "import plotly.express as px\n",
    "import pandas as pd\n",
    "import sqlite3\n",
    "from sklearn.decomposition import PCA\n",
    "from sklearn.preprocessing import StandardScaler\n",
    "import matplotlib.pyplot as plt\n",
    "import seaborn as sns\n",
    "from sklearn.manifold import TSNE\n",
    "import statsmodels\n",
    "import statsmodels.api as sm\n",
    "from statsmodels.multivariate.manova import MANOVA\n",
    "from useful_functions import *"
   ]
  },
  {
   "cell_type": "code",
   "execution_count": 19,
   "id": "fa6b431e",
   "metadata": {},
   "outputs": [
    {
     "data": {
      "text/plain": [
       "(160, 29)"
      ]
     },
     "execution_count": 19,
     "metadata": {},
     "output_type": "execute_result"
    }
   ],
   "source": [
    "tables_to_join = [\"tSoilNutrients\", \"tPlantDNA\", \"tSample\"]\n",
    "common_column = \"sample_id\"\n",
    "full_df = import_all_data(tables_to_join, common_column)\n",
    "full_df.shape"
   ]
  },
  {
   "cell_type": "code",
   "execution_count": 20,
   "id": "f7e28c5b",
   "metadata": {},
   "outputs": [],
   "source": [
    "full_df = full_df.T.drop_duplicates().T"
   ]
  },
  {
   "cell_type": "code",
   "execution_count": 21,
   "id": "673b38da",
   "metadata": {},
   "outputs": [
    {
     "data": {
      "text/html": [
       "<div>\n",
       "<style scoped>\n",
       "    .dataframe tbody tr th:only-of-type {\n",
       "        vertical-align: middle;\n",
       "    }\n",
       "\n",
       "    .dataframe tbody tr th {\n",
       "        vertical-align: top;\n",
       "    }\n",
       "\n",
       "    .dataframe thead th {\n",
       "        text-align: right;\n",
       "    }\n",
       "</style>\n",
       "<table border=\"1\" class=\"dataframe\">\n",
       "  <thead>\n",
       "    <tr style=\"text-align: right;\">\n",
       "      <th></th>\n",
       "      <th>sample_id</th>\n",
       "      <th>OM</th>\n",
       "      <th>ENR</th>\n",
       "      <th>CEC</th>\n",
       "      <th>pH</th>\n",
       "      <th>BpH</th>\n",
       "      <th>Phosphorus</th>\n",
       "      <th>Potassium</th>\n",
       "      <th>Calcium</th>\n",
       "      <th>Magnesium</th>\n",
       "      <th>...</th>\n",
       "      <th>V1</th>\n",
       "      <th>V2</th>\n",
       "      <th>species</th>\n",
       "      <th>PC1</th>\n",
       "      <th>PC2</th>\n",
       "      <th>PC3</th>\n",
       "      <th>PC4</th>\n",
       "      <th>PC5</th>\n",
       "      <th>site_id</th>\n",
       "      <th>collect_date</th>\n",
       "    </tr>\n",
       "  </thead>\n",
       "  <tbody>\n",
       "    <tr>\n",
       "      <th>0</th>\n",
       "      <td>RRL1</td>\n",
       "      <td>19.4</td>\n",
       "      <td>150.0</td>\n",
       "      <td>9.5</td>\n",
       "      <td>5.9</td>\n",
       "      <td>6.77</td>\n",
       "      <td>10.0</td>\n",
       "      <td>180.0</td>\n",
       "      <td>1200.0</td>\n",
       "      <td>153.0</td>\n",
       "      <td>...</td>\n",
       "      <td>0.753244</td>\n",
       "      <td>0.246756</td>\n",
       "      <td>exaltata</td>\n",
       "      <td>0.194769</td>\n",
       "      <td>0.048276</td>\n",
       "      <td>-0.02388</td>\n",
       "      <td>-0.017138</td>\n",
       "      <td>-0.039842</td>\n",
       "      <td>RRL</td>\n",
       "      <td>6/25/2021</td>\n",
       "    </tr>\n",
       "    <tr>\n",
       "      <th>1</th>\n",
       "      <td>RRL9</td>\n",
       "      <td>17.6</td>\n",
       "      <td>150.0</td>\n",
       "      <td>4.8</td>\n",
       "      <td>5.4</td>\n",
       "      <td>6.79</td>\n",
       "      <td>11.0</td>\n",
       "      <td>107.0</td>\n",
       "      <td>471.0</td>\n",
       "      <td>89.0</td>\n",
       "      <td>...</td>\n",
       "      <td>0.581366</td>\n",
       "      <td>0.418634</td>\n",
       "      <td>exaltata</td>\n",
       "      <td>0.097719</td>\n",
       "      <td>0.094733</td>\n",
       "      <td>-0.00656</td>\n",
       "      <td>0.012822</td>\n",
       "      <td>-0.022248</td>\n",
       "      <td>RRL</td>\n",
       "      <td>6/25/2021</td>\n",
       "    </tr>\n",
       "    <tr>\n",
       "      <th>2</th>\n",
       "      <td>RRL17</td>\n",
       "      <td>14.7</td>\n",
       "      <td>150.0</td>\n",
       "      <td>6.7</td>\n",
       "      <td>6.0</td>\n",
       "      <td>6.83</td>\n",
       "      <td>9.0</td>\n",
       "      <td>172.0</td>\n",
       "      <td>824.0</td>\n",
       "      <td>133.0</td>\n",
       "      <td>...</td>\n",
       "      <td>0.591513</td>\n",
       "      <td>0.408487</td>\n",
       "      <td>exaltata</td>\n",
       "      <td>0.099527</td>\n",
       "      <td>0.091996</td>\n",
       "      <td>0.004098</td>\n",
       "      <td>-0.021347</td>\n",
       "      <td>0.00719</td>\n",
       "      <td>RRL</td>\n",
       "      <td>6/25/2021</td>\n",
       "    </tr>\n",
       "    <tr>\n",
       "      <th>3</th>\n",
       "      <td>FRW3</td>\n",
       "      <td>11.2</td>\n",
       "      <td>150.0</td>\n",
       "      <td>15.0</td>\n",
       "      <td>6.4</td>\n",
       "      <td>6.8</td>\n",
       "      <td>25.0</td>\n",
       "      <td>133.0</td>\n",
       "      <td>2437.0</td>\n",
       "      <td>127.0</td>\n",
       "      <td>...</td>\n",
       "      <td>0.048066</td>\n",
       "      <td>0.951934</td>\n",
       "      <td>syriaca</td>\n",
       "      <td>-0.139465</td>\n",
       "      <td>-0.064022</td>\n",
       "      <td>-0.009963</td>\n",
       "      <td>-0.047536</td>\n",
       "      <td>0.024757</td>\n",
       "      <td>FRW</td>\n",
       "      <td>6/25/2021</td>\n",
       "    </tr>\n",
       "    <tr>\n",
       "      <th>4</th>\n",
       "      <td>FRW12</td>\n",
       "      <td>11.9</td>\n",
       "      <td>150.0</td>\n",
       "      <td>12.8</td>\n",
       "      <td>6.6</td>\n",
       "      <td>6.85</td>\n",
       "      <td>25.0</td>\n",
       "      <td>137.0</td>\n",
       "      <td>2098.0</td>\n",
       "      <td>130.0</td>\n",
       "      <td>...</td>\n",
       "      <td>0.003946</td>\n",
       "      <td>0.996054</td>\n",
       "      <td>syriaca</td>\n",
       "      <td>-0.155135</td>\n",
       "      <td>0.055455</td>\n",
       "      <td>0.009907</td>\n",
       "      <td>-0.043334</td>\n",
       "      <td>-0.009337</td>\n",
       "      <td>FRW</td>\n",
       "      <td>6/25/2021</td>\n",
       "    </tr>\n",
       "  </tbody>\n",
       "</table>\n",
       "<p>5 rows × 27 columns</p>\n",
       "</div>"
      ],
      "text/plain": [
       "  sample_id    OM    ENR   CEC   pH   BpH Phosphorus Potassium Calcium  \\\n",
       "0      RRL1  19.4  150.0   9.5  5.9  6.77       10.0     180.0  1200.0   \n",
       "1      RRL9  17.6  150.0   4.8  5.4  6.79       11.0     107.0   471.0   \n",
       "2     RRL17  14.7  150.0   6.7  6.0  6.83        9.0     172.0   824.0   \n",
       "3      FRW3  11.2  150.0  15.0  6.4   6.8       25.0     133.0  2437.0   \n",
       "4     FRW12  11.9  150.0  12.8  6.6  6.85       25.0     137.0  2098.0   \n",
       "\n",
       "  Magnesium  ...        V1        V2   species       PC1       PC2       PC3  \\\n",
       "0     153.0  ...  0.753244  0.246756  exaltata  0.194769  0.048276  -0.02388   \n",
       "1      89.0  ...  0.581366  0.418634  exaltata  0.097719  0.094733  -0.00656   \n",
       "2     133.0  ...  0.591513  0.408487  exaltata  0.099527  0.091996  0.004098   \n",
       "3     127.0  ...  0.048066  0.951934   syriaca -0.139465 -0.064022 -0.009963   \n",
       "4     130.0  ...  0.003946  0.996054   syriaca -0.155135  0.055455  0.009907   \n",
       "\n",
       "        PC4       PC5 site_id collect_date  \n",
       "0 -0.017138 -0.039842     RRL    6/25/2021  \n",
       "1  0.012822 -0.022248     RRL    6/25/2021  \n",
       "2 -0.021347   0.00719     RRL    6/25/2021  \n",
       "3 -0.047536  0.024757     FRW    6/25/2021  \n",
       "4 -0.043334 -0.009337     FRW    6/25/2021  \n",
       "\n",
       "[5 rows x 27 columns]"
      ]
     },
     "execution_count": 21,
     "metadata": {},
     "output_type": "execute_result"
    }
   ],
   "source": [
    "full_df.head()"
   ]
  },
  {
   "cell_type": "code",
   "execution_count": 68,
   "id": "c06a0119",
   "metadata": {},
   "outputs": [],
   "source": [
    "df = full_df.copy()"
   ]
  },
  {
   "cell_type": "code",
   "execution_count": 69,
   "id": "826f8900",
   "metadata": {},
   "outputs": [
    {
     "name": "stdout",
     "output_type": "stream",
     "text": [
      "Index(['OM', 'ENR', 'CEC', 'pH', 'BpH', 'Phosphorus', 'Potassium', 'Calcium',\n",
      "       'Magnesium', 'Sulfur', 'Sodium', 'Zinc', 'Manganese', 'Iron', 'Copper',\n",
      "       'Boron'],\n",
      "      dtype='object')\n"
     ]
    }
   ],
   "source": [
    "nutrients = df.columns.drop(['sample_id','site_id','collect_date','V1', 'V2', 'species', 'PC1', 'PC2', 'PC3', 'PC4', 'PC5'])\n",
    "print(nutrients)"
   ]
  },
  {
   "cell_type": "code",
   "execution_count": 70,
   "id": "d12ded30",
   "metadata": {},
   "outputs": [
    {
     "data": {
      "text/plain": [
       "(151, 27)"
      ]
     },
     "execution_count": 70,
     "metadata": {},
     "output_type": "execute_result"
    }
   ],
   "source": [
    "df = df[df[\"species\"].isin(['syriaca','exaltata'])]\n",
    "df.shape"
   ]
  },
  {
   "cell_type": "markdown",
   "id": "831dbbe4",
   "metadata": {},
   "source": [
    "### Combined Soil Nutrients PCA Figure"
   ]
  },
  {
   "cell_type": "code",
   "execution_count": 71,
   "id": "0d10cb13",
   "metadata": {},
   "outputs": [],
   "source": [
    "df[nutrients] = StandardScaler().fit_transform(df[nutrients])  "
   ]
  },
  {
   "cell_type": "code",
   "execution_count": 72,
   "id": "2a7b9363",
   "metadata": {},
   "outputs": [
    {
     "data": {
      "application/vnd.plotly.v1+json": {
       "config": {
        "plotlyServerURL": "https://plot.ly"
       },
       "data": [
        {
         "hovertemplate": "color=RRL<br>0=%{x}<br>1=%{y}<extra></extra>",
         "legendgroup": "RRL",
         "marker": {
          "color": "#636efa",
          "symbol": "circle"
         },
         "mode": "markers",
         "name": "RRL",
         "orientation": "v",
         "showlegend": true,
         "type": "scatter",
         "x": [
          0.5416762396504596,
          -1.813921190599203,
          -1.0589813432099744,
          -0.18772173392121258,
          -1.956381197865565,
          -0.38416378619574865,
          -0.9778637347577569,
          -1.1138148000036654,
          -0.497854559753956,
          -1.422748998023912,
          -0.6119635803685881,
          -2.5514769276078617,
          -0.7080106439987969,
          -1.050253793006823,
          -1.759108852431406,
          -1.363339886997684,
          -0.9118659817101016,
          -0.7607981513797187,
          -1.6076449441869298
         ],
         "xaxis": "x",
         "y": [
          -3.0749362967665586,
          -2.724154547801261,
          -2.5754381337039747,
          -2.551119206306836,
          -2.9371776257056617,
          -2.6301805966354754,
          -2.1450327821740345,
          -2.120854248270934,
          -3.0272726194911628,
          -1.6016134627757894,
          -2.190919191054948,
          -2.4753781782380826,
          -1.6592991199067395,
          -2.499061035660638,
          -3.1993000173939103,
          -2.9453588225094327,
          -2.5259302226174576,
          -2.8419683637766697,
          -2.5274886099623988
         ],
         "yaxis": "y"
        },
        {
         "hovertemplate": "color=FRW<br>0=%{x}<br>1=%{y}<extra></extra>",
         "legendgroup": "FRW",
         "marker": {
          "color": "#EF553B",
          "symbol": "circle"
         },
         "mode": "markers",
         "name": "FRW",
         "orientation": "v",
         "showlegend": true,
         "type": "scatter",
         "x": [
          1.8578277187998224,
          1.5348531906752552,
          2.143001222291335,
          2.5403569033296534,
          1.5459217965055223,
          3.050884441692633,
          1.1366869091000744,
          1.3610880541057078,
          1.4765634497492728,
          1.5024052744419665,
          2.358769290212146
         ],
         "xaxis": "x",
         "y": [
          -1.335802089982181,
          -1.7189424383017087,
          -1.380075773456553,
          -1.5479422047814135,
          -1.119490722119689,
          -1.6053638810133548,
          -1.7195826026156071,
          -1.68078583517676,
          -2.1650566929742237,
          -2.062943138569302,
          -1.8465002399168409
         ],
         "yaxis": "y"
        },
        {
         "hovertemplate": "color=MMP<br>0=%{x}<br>1=%{y}<extra></extra>",
         "legendgroup": "MMP",
         "marker": {
          "color": "#00cc96",
          "symbol": "circle"
         },
         "mode": "markers",
         "name": "MMP",
         "orientation": "v",
         "showlegend": true,
         "type": "scatter",
         "x": [
          -0.3299314590843869,
          -1.4598906614564064,
          0.4998690046749899,
          -0.9596315758426827,
          -2.2194317233934107,
          -0.417783560067567,
          -0.08833153693467141,
          -0.2671747111921009,
          -1.0832440134809713,
          -2.60201112808941,
          -1.59940512460389,
          -2.4593339738202205,
          0.37225572926922385,
          -0.5812426519773763,
          -1.639954294461834,
          -1.2426539927675129,
          0.03643118608414543,
          -1.6201569602138748,
          1.2261142549471324
         ],
         "xaxis": "x",
         "y": [
          2.144701290224888,
          3.445467240941828,
          1.9958668490096716,
          1.5278679152382872,
          1.3540590849322909,
          1.5968384093059214,
          2.8838520173721873,
          1.3377020144687726,
          0.8999012075967117,
          1.1073821032325,
          1.6680503932583226,
          0.6922491749307421,
          1.9012841900819895,
          2.0770261039693145,
          0.9157269383202802,
          1.2312881419830042,
          1.5549091891020927,
          0.933845908260622,
          3.6156320853034996
         ],
         "yaxis": "y"
        },
        {
         "hovertemplate": "color=PNR<br>0=%{x}<br>1=%{y}<extra></extra>",
         "legendgroup": "PNR",
         "marker": {
          "color": "#ab63fa",
          "symbol": "circle"
         },
         "mode": "markers",
         "name": "PNR",
         "orientation": "v",
         "showlegend": true,
         "type": "scatter",
         "x": [
          3.157643173371579,
          0.924276857492185
         ],
         "xaxis": "x",
         "y": [
          -1.4593239082829095,
          -1.8020143687395356
         ],
         "yaxis": "y"
        },
        {
         "hovertemplate": "color=CMB<br>0=%{x}<br>1=%{y}<extra></extra>",
         "legendgroup": "CMB",
         "marker": {
          "color": "#FFA15A",
          "symbol": "circle"
         },
         "mode": "markers",
         "name": "CMB",
         "orientation": "v",
         "showlegend": true,
         "type": "scatter",
         "x": [
          -2.9004333469656114,
          -2.322821212861232,
          -1.6263430290342316,
          -3.158215816153354,
          -2.229589389858971,
          -2.2742752829232504,
          -1.362410939379818,
          -0.987026858308957,
          -1.4197459969123893,
          -2.5526669396990536,
          -1.4406530675833626,
          -1.8041119875154559,
          -0.41106937983200925,
          -3.2786129476657293,
          -0.6413768448666453,
          -1.2852149080268054,
          -3.176572772360019,
          -1.058295364122033,
          -2.0294179733940663,
          -1.9959484430650776,
          -2.6983798323054016
         ],
         "xaxis": "x",
         "y": [
          1.1554046326440615,
          2.2997501546885,
          2.4918978905667704,
          1.1858883336410957,
          1.1083136135948446,
          0.4881428135852942,
          2.114687639252464,
          1.2626889112741793,
          1.0182228180123738,
          1.6416368930496419,
          1.8545283684090608,
          1.047555638613121,
          1.6686524909549196,
          1.603494505106765,
          1.4061016270748636,
          1.1867928412372404,
          1.5283955284709838,
          1.0980982632121168,
          0.8746352262410494,
          1.248342145846083,
          0.23976931689860917
         ],
         "yaxis": "y"
        },
        {
         "hovertemplate": "color=SLG<br>0=%{x}<br>1=%{y}<extra></extra>",
         "legendgroup": "SLG",
         "marker": {
          "color": "#19d3f3",
          "symbol": "circle"
         },
         "mode": "markers",
         "name": "SLG",
         "orientation": "v",
         "showlegend": true,
         "type": "scatter",
         "x": [
          -2.64932093690847,
          2.0791981584862103,
          -2.165574958361714,
          2.729588351318535,
          -2.019859110944551,
          0.11469095139391669,
          -2.2237452371457564,
          3.487028699429897,
          -2.5938854618270413,
          0.5538833331956851,
          -2.422070368902948,
          3.257333013759944,
          -1.8773805757858715,
          2.8786130298814396,
          -1.4052794295975666,
          0.418902230791233,
          2.3949734068347683
         ],
         "xaxis": "x",
         "y": [
          -1.6771871572716455,
          -0.8868302613413694,
          -1.157151911442153,
          -1.2631497493072918,
          -0.7445903546105509,
          -2.038131974492718,
          -0.872369973872178,
          -0.48441278411764677,
          -1.2051819213959678,
          -1.4051984641347284,
          -1.4534627792962282,
          -2.0820453707947757,
          -1.3917497517123243,
          -1.0116249751362263,
          -0.929753144897779,
          -1.5725420700910395,
          -0.5670756253413864
         ],
         "yaxis": "y"
        },
        {
         "hovertemplate": "color=RF<br>0=%{x}<br>1=%{y}<extra></extra>",
         "legendgroup": "RF",
         "marker": {
          "color": "#FF6692",
          "symbol": "circle"
         },
         "mode": "markers",
         "name": "RF",
         "orientation": "v",
         "showlegend": true,
         "type": "scatter",
         "x": [
          -2.681299482079489,
          -1.0204599284174882,
          -1.1207042712183872,
          -1.7492512122286896,
          -0.3575599203500836,
          0.11237571572486624,
          -0.9799267535684939,
          0.37748542537598684,
          -1.2521154123298603,
          0.5652488765890017,
          -1.2169062454742532
         ],
         "xaxis": "x",
         "y": [
          -1.283448007424864,
          -0.7332377074812289,
          0.3001054668240022,
          -1.5799260493798626,
          -0.6628143561488605,
          0.04143486039785362,
          0.40034167648775515,
          -0.92923731427605,
          0.47824630044266864,
          0.20726160959874843,
          -0.3455575738322544
         ],
         "yaxis": "y"
        },
        {
         "hovertemplate": "color=LFS<br>0=%{x}<br>1=%{y}<extra></extra>",
         "legendgroup": "LFS",
         "marker": {
          "color": "#B6E880",
          "symbol": "circle"
         },
         "mode": "markers",
         "name": "LFS",
         "orientation": "v",
         "showlegend": true,
         "type": "scatter",
         "x": [
          -1.8559662893758773,
          1.3058889765616275,
          -0.5568852539394502,
          1.9410148418784765,
          0.051835497528087915,
          0.23250611150385547,
          2.552749532203171,
          0.2176352327644445,
          2.4307881852241673,
          0.8939869683483066,
          0.055683892604199564,
          -0.5682672827506076,
          -3.792780678464483,
          0.26359678176303836
         ],
         "xaxis": "x",
         "y": [
          3.056957765973987,
          5.054095314954487,
          3.2318399435624725,
          4.192671800386263,
          3.1737243991722135,
          3.4180934317526637,
          5.171263252837806,
          3.7229048757843817,
          4.318717535566572,
          4.039037902973209,
          4.939661813450153,
          4.345569390927312,
          -2.445683583635768,
          3.7183189691554905
         ],
         "yaxis": "y"
        },
        {
         "hovertemplate": "color=PTW<br>0=%{x}<br>1=%{y}<extra></extra>",
         "legendgroup": "PTW",
         "marker": {
          "color": "#FF97FF",
          "symbol": "circle"
         },
         "mode": "markers",
         "name": "PTW",
         "orientation": "v",
         "showlegend": true,
         "type": "scatter",
         "x": [
          -2.4285289176634497,
          -1.852907737055986,
          -1.21429886448968,
          -1.3532503809711054,
          -0.835074185308819,
          -1.1521969517683905
         ],
         "xaxis": "x",
         "y": [
          -1.760575101535712,
          -2.1812923862876157,
          -2.2092821459839587,
          -2.1920690574860724,
          -1.382678303374756,
          -1.2618225844323998
         ],
         "yaxis": "y"
        },
        {
         "hovertemplate": "color=LM<br>0=%{x}<br>1=%{y}<extra></extra>",
         "legendgroup": "LM",
         "marker": {
          "color": "#FECB52",
          "symbol": "circle"
         },
         "mode": "markers",
         "name": "LM",
         "orientation": "v",
         "showlegend": true,
         "type": "scatter",
         "x": [
          1.4684534118039665,
          1.2985210719300087,
          2.3675742649043032,
          -0.35226359403679774,
          1.119187942185033,
          1.55246584418433,
          2.11971955003304,
          1.5165037785986768,
          -0.6209358025349252,
          0.8588984343390619,
          0.07290047125226537,
          -0.30376634583489437,
          0.5060657357764186,
          0.6360749271123023,
          0.7641314108094205,
          -0.5555383890783067
         ],
         "xaxis": "x",
         "y": [
          0.4887159630296959,
          0.3087166988893406,
          0.6582459349061192,
          -0.7237718413008736,
          -0.08786423807364864,
          1.6066946846415464,
          0.3444413595412098,
          1.2885487180475947,
          -2.127973027559651,
          -0.4361976268313584,
          -0.47611794539157554,
          -0.44586665614015136,
          -0.4847344694666854,
          0.21065928815690302,
          0.4175739542937578,
          -0.8635264943657389
         ],
         "yaxis": "y"
        },
        {
         "hovertemplate": "color=MKP<br>0=%{x}<br>1=%{y}<extra></extra>",
         "legendgroup": "MKP",
         "marker": {
          "color": "#636efa",
          "symbol": "circle"
         },
         "mode": "markers",
         "name": "MKP",
         "orientation": "v",
         "showlegend": true,
         "type": "scatter",
         "x": [
          5.967805983000015,
          4.521465795010157,
          4.640402125040444,
          3.7889583287585005,
          4.458412479166287,
          3.9267577073099553,
          4.482208581043263,
          4.048119242878461
         ],
         "xaxis": "x",
         "y": [
          -0.14424940858021115,
          0.13893344917972922,
          1.404508574648249,
          -1.0476273420268525,
          -0.6197273997859941,
          -1.246780081438099,
          -0.5569492106294157,
          -1.1932997105017724
         ],
         "yaxis": "y"
        },
        {
         "hovertemplate": "color=RGT<br>0=%{x}<br>1=%{y}<extra></extra>",
         "legendgroup": "RGT",
         "marker": {
          "color": "#EF553B",
          "symbol": "circle"
         },
         "mode": "markers",
         "name": "RGT",
         "orientation": "v",
         "showlegend": true,
         "type": "scatter",
         "x": [
          3.0065532441219465,
          2.1817628212916653,
          2.4797177767952165,
          1.2603124440766644,
          1.4600441429012716,
          4.621001978304994,
          3.8336223824705136
         ],
         "xaxis": "x",
         "y": [
          -0.17773784864442926,
          -0.6306147863757937,
          -0.4312458970155035,
          -0.6265343376094079,
          -0.5707662280502456,
          0.10001084583820707,
          0.11402827567753218
         ],
         "yaxis": "y"
        }
       ],
       "layout": {
        "legend": {
         "title": {
          "text": "color"
         },
         "tracegroupgap": 0
        },
        "margin": {
         "t": 60
        },
        "template": {
         "data": {
          "bar": [
           {
            "error_x": {
             "color": "#2a3f5f"
            },
            "error_y": {
             "color": "#2a3f5f"
            },
            "marker": {
             "line": {
              "color": "#E5ECF6",
              "width": 0.5
             },
             "pattern": {
              "fillmode": "overlay",
              "size": 10,
              "solidity": 0.2
             }
            },
            "type": "bar"
           }
          ],
          "barpolar": [
           {
            "marker": {
             "line": {
              "color": "#E5ECF6",
              "width": 0.5
             },
             "pattern": {
              "fillmode": "overlay",
              "size": 10,
              "solidity": 0.2
             }
            },
            "type": "barpolar"
           }
          ],
          "carpet": [
           {
            "aaxis": {
             "endlinecolor": "#2a3f5f",
             "gridcolor": "white",
             "linecolor": "white",
             "minorgridcolor": "white",
             "startlinecolor": "#2a3f5f"
            },
            "baxis": {
             "endlinecolor": "#2a3f5f",
             "gridcolor": "white",
             "linecolor": "white",
             "minorgridcolor": "white",
             "startlinecolor": "#2a3f5f"
            },
            "type": "carpet"
           }
          ],
          "choropleth": [
           {
            "colorbar": {
             "outlinewidth": 0,
             "ticks": ""
            },
            "type": "choropleth"
           }
          ],
          "contour": [
           {
            "colorbar": {
             "outlinewidth": 0,
             "ticks": ""
            },
            "colorscale": [
             [
              0,
              "#0d0887"
             ],
             [
              0.1111111111111111,
              "#46039f"
             ],
             [
              0.2222222222222222,
              "#7201a8"
             ],
             [
              0.3333333333333333,
              "#9c179e"
             ],
             [
              0.4444444444444444,
              "#bd3786"
             ],
             [
              0.5555555555555556,
              "#d8576b"
             ],
             [
              0.6666666666666666,
              "#ed7953"
             ],
             [
              0.7777777777777778,
              "#fb9f3a"
             ],
             [
              0.8888888888888888,
              "#fdca26"
             ],
             [
              1,
              "#f0f921"
             ]
            ],
            "type": "contour"
           }
          ],
          "contourcarpet": [
           {
            "colorbar": {
             "outlinewidth": 0,
             "ticks": ""
            },
            "type": "contourcarpet"
           }
          ],
          "heatmap": [
           {
            "colorbar": {
             "outlinewidth": 0,
             "ticks": ""
            },
            "colorscale": [
             [
              0,
              "#0d0887"
             ],
             [
              0.1111111111111111,
              "#46039f"
             ],
             [
              0.2222222222222222,
              "#7201a8"
             ],
             [
              0.3333333333333333,
              "#9c179e"
             ],
             [
              0.4444444444444444,
              "#bd3786"
             ],
             [
              0.5555555555555556,
              "#d8576b"
             ],
             [
              0.6666666666666666,
              "#ed7953"
             ],
             [
              0.7777777777777778,
              "#fb9f3a"
             ],
             [
              0.8888888888888888,
              "#fdca26"
             ],
             [
              1,
              "#f0f921"
             ]
            ],
            "type": "heatmap"
           }
          ],
          "heatmapgl": [
           {
            "colorbar": {
             "outlinewidth": 0,
             "ticks": ""
            },
            "colorscale": [
             [
              0,
              "#0d0887"
             ],
             [
              0.1111111111111111,
              "#46039f"
             ],
             [
              0.2222222222222222,
              "#7201a8"
             ],
             [
              0.3333333333333333,
              "#9c179e"
             ],
             [
              0.4444444444444444,
              "#bd3786"
             ],
             [
              0.5555555555555556,
              "#d8576b"
             ],
             [
              0.6666666666666666,
              "#ed7953"
             ],
             [
              0.7777777777777778,
              "#fb9f3a"
             ],
             [
              0.8888888888888888,
              "#fdca26"
             ],
             [
              1,
              "#f0f921"
             ]
            ],
            "type": "heatmapgl"
           }
          ],
          "histogram": [
           {
            "marker": {
             "pattern": {
              "fillmode": "overlay",
              "size": 10,
              "solidity": 0.2
             }
            },
            "type": "histogram"
           }
          ],
          "histogram2d": [
           {
            "colorbar": {
             "outlinewidth": 0,
             "ticks": ""
            },
            "colorscale": [
             [
              0,
              "#0d0887"
             ],
             [
              0.1111111111111111,
              "#46039f"
             ],
             [
              0.2222222222222222,
              "#7201a8"
             ],
             [
              0.3333333333333333,
              "#9c179e"
             ],
             [
              0.4444444444444444,
              "#bd3786"
             ],
             [
              0.5555555555555556,
              "#d8576b"
             ],
             [
              0.6666666666666666,
              "#ed7953"
             ],
             [
              0.7777777777777778,
              "#fb9f3a"
             ],
             [
              0.8888888888888888,
              "#fdca26"
             ],
             [
              1,
              "#f0f921"
             ]
            ],
            "type": "histogram2d"
           }
          ],
          "histogram2dcontour": [
           {
            "colorbar": {
             "outlinewidth": 0,
             "ticks": ""
            },
            "colorscale": [
             [
              0,
              "#0d0887"
             ],
             [
              0.1111111111111111,
              "#46039f"
             ],
             [
              0.2222222222222222,
              "#7201a8"
             ],
             [
              0.3333333333333333,
              "#9c179e"
             ],
             [
              0.4444444444444444,
              "#bd3786"
             ],
             [
              0.5555555555555556,
              "#d8576b"
             ],
             [
              0.6666666666666666,
              "#ed7953"
             ],
             [
              0.7777777777777778,
              "#fb9f3a"
             ],
             [
              0.8888888888888888,
              "#fdca26"
             ],
             [
              1,
              "#f0f921"
             ]
            ],
            "type": "histogram2dcontour"
           }
          ],
          "mesh3d": [
           {
            "colorbar": {
             "outlinewidth": 0,
             "ticks": ""
            },
            "type": "mesh3d"
           }
          ],
          "parcoords": [
           {
            "line": {
             "colorbar": {
              "outlinewidth": 0,
              "ticks": ""
             }
            },
            "type": "parcoords"
           }
          ],
          "pie": [
           {
            "automargin": true,
            "type": "pie"
           }
          ],
          "scatter": [
           {
            "fillpattern": {
             "fillmode": "overlay",
             "size": 10,
             "solidity": 0.2
            },
            "type": "scatter"
           }
          ],
          "scatter3d": [
           {
            "line": {
             "colorbar": {
              "outlinewidth": 0,
              "ticks": ""
             }
            },
            "marker": {
             "colorbar": {
              "outlinewidth": 0,
              "ticks": ""
             }
            },
            "type": "scatter3d"
           }
          ],
          "scattercarpet": [
           {
            "marker": {
             "colorbar": {
              "outlinewidth": 0,
              "ticks": ""
             }
            },
            "type": "scattercarpet"
           }
          ],
          "scattergeo": [
           {
            "marker": {
             "colorbar": {
              "outlinewidth": 0,
              "ticks": ""
             }
            },
            "type": "scattergeo"
           }
          ],
          "scattergl": [
           {
            "marker": {
             "colorbar": {
              "outlinewidth": 0,
              "ticks": ""
             }
            },
            "type": "scattergl"
           }
          ],
          "scattermapbox": [
           {
            "marker": {
             "colorbar": {
              "outlinewidth": 0,
              "ticks": ""
             }
            },
            "type": "scattermapbox"
           }
          ],
          "scatterpolar": [
           {
            "marker": {
             "colorbar": {
              "outlinewidth": 0,
              "ticks": ""
             }
            },
            "type": "scatterpolar"
           }
          ],
          "scatterpolargl": [
           {
            "marker": {
             "colorbar": {
              "outlinewidth": 0,
              "ticks": ""
             }
            },
            "type": "scatterpolargl"
           }
          ],
          "scatterternary": [
           {
            "marker": {
             "colorbar": {
              "outlinewidth": 0,
              "ticks": ""
             }
            },
            "type": "scatterternary"
           }
          ],
          "surface": [
           {
            "colorbar": {
             "outlinewidth": 0,
             "ticks": ""
            },
            "colorscale": [
             [
              0,
              "#0d0887"
             ],
             [
              0.1111111111111111,
              "#46039f"
             ],
             [
              0.2222222222222222,
              "#7201a8"
             ],
             [
              0.3333333333333333,
              "#9c179e"
             ],
             [
              0.4444444444444444,
              "#bd3786"
             ],
             [
              0.5555555555555556,
              "#d8576b"
             ],
             [
              0.6666666666666666,
              "#ed7953"
             ],
             [
              0.7777777777777778,
              "#fb9f3a"
             ],
             [
              0.8888888888888888,
              "#fdca26"
             ],
             [
              1,
              "#f0f921"
             ]
            ],
            "type": "surface"
           }
          ],
          "table": [
           {
            "cells": {
             "fill": {
              "color": "#EBF0F8"
             },
             "line": {
              "color": "white"
             }
            },
            "header": {
             "fill": {
              "color": "#C8D4E3"
             },
             "line": {
              "color": "white"
             }
            },
            "type": "table"
           }
          ]
         },
         "layout": {
          "annotationdefaults": {
           "arrowcolor": "#2a3f5f",
           "arrowhead": 0,
           "arrowwidth": 1
          },
          "autotypenumbers": "strict",
          "coloraxis": {
           "colorbar": {
            "outlinewidth": 0,
            "ticks": ""
           }
          },
          "colorscale": {
           "diverging": [
            [
             0,
             "#8e0152"
            ],
            [
             0.1,
             "#c51b7d"
            ],
            [
             0.2,
             "#de77ae"
            ],
            [
             0.3,
             "#f1b6da"
            ],
            [
             0.4,
             "#fde0ef"
            ],
            [
             0.5,
             "#f7f7f7"
            ],
            [
             0.6,
             "#e6f5d0"
            ],
            [
             0.7,
             "#b8e186"
            ],
            [
             0.8,
             "#7fbc41"
            ],
            [
             0.9,
             "#4d9221"
            ],
            [
             1,
             "#276419"
            ]
           ],
           "sequential": [
            [
             0,
             "#0d0887"
            ],
            [
             0.1111111111111111,
             "#46039f"
            ],
            [
             0.2222222222222222,
             "#7201a8"
            ],
            [
             0.3333333333333333,
             "#9c179e"
            ],
            [
             0.4444444444444444,
             "#bd3786"
            ],
            [
             0.5555555555555556,
             "#d8576b"
            ],
            [
             0.6666666666666666,
             "#ed7953"
            ],
            [
             0.7777777777777778,
             "#fb9f3a"
            ],
            [
             0.8888888888888888,
             "#fdca26"
            ],
            [
             1,
             "#f0f921"
            ]
           ],
           "sequentialminus": [
            [
             0,
             "#0d0887"
            ],
            [
             0.1111111111111111,
             "#46039f"
            ],
            [
             0.2222222222222222,
             "#7201a8"
            ],
            [
             0.3333333333333333,
             "#9c179e"
            ],
            [
             0.4444444444444444,
             "#bd3786"
            ],
            [
             0.5555555555555556,
             "#d8576b"
            ],
            [
             0.6666666666666666,
             "#ed7953"
            ],
            [
             0.7777777777777778,
             "#fb9f3a"
            ],
            [
             0.8888888888888888,
             "#fdca26"
            ],
            [
             1,
             "#f0f921"
            ]
           ]
          },
          "colorway": [
           "#636efa",
           "#EF553B",
           "#00cc96",
           "#ab63fa",
           "#FFA15A",
           "#19d3f3",
           "#FF6692",
           "#B6E880",
           "#FF97FF",
           "#FECB52"
          ],
          "font": {
           "color": "#2a3f5f"
          },
          "geo": {
           "bgcolor": "white",
           "lakecolor": "white",
           "landcolor": "#E5ECF6",
           "showlakes": true,
           "showland": true,
           "subunitcolor": "white"
          },
          "hoverlabel": {
           "align": "left"
          },
          "hovermode": "closest",
          "mapbox": {
           "style": "light"
          },
          "paper_bgcolor": "white",
          "plot_bgcolor": "#E5ECF6",
          "polar": {
           "angularaxis": {
            "gridcolor": "white",
            "linecolor": "white",
            "ticks": ""
           },
           "bgcolor": "#E5ECF6",
           "radialaxis": {
            "gridcolor": "white",
            "linecolor": "white",
            "ticks": ""
           }
          },
          "scene": {
           "xaxis": {
            "backgroundcolor": "#E5ECF6",
            "gridcolor": "white",
            "gridwidth": 2,
            "linecolor": "white",
            "showbackground": true,
            "ticks": "",
            "zerolinecolor": "white"
           },
           "yaxis": {
            "backgroundcolor": "#E5ECF6",
            "gridcolor": "white",
            "gridwidth": 2,
            "linecolor": "white",
            "showbackground": true,
            "ticks": "",
            "zerolinecolor": "white"
           },
           "zaxis": {
            "backgroundcolor": "#E5ECF6",
            "gridcolor": "white",
            "gridwidth": 2,
            "linecolor": "white",
            "showbackground": true,
            "ticks": "",
            "zerolinecolor": "white"
           }
          },
          "shapedefaults": {
           "line": {
            "color": "#2a3f5f"
           }
          },
          "ternary": {
           "aaxis": {
            "gridcolor": "white",
            "linecolor": "white",
            "ticks": ""
           },
           "baxis": {
            "gridcolor": "white",
            "linecolor": "white",
            "ticks": ""
           },
           "bgcolor": "#E5ECF6",
           "caxis": {
            "gridcolor": "white",
            "linecolor": "white",
            "ticks": ""
           }
          },
          "title": {
           "x": 0.05
          },
          "xaxis": {
           "automargin": true,
           "gridcolor": "white",
           "linecolor": "white",
           "ticks": "",
           "title": {
            "standoff": 15
           },
           "zerolinecolor": "white",
           "zerolinewidth": 2
          },
          "yaxis": {
           "automargin": true,
           "gridcolor": "white",
           "linecolor": "white",
           "ticks": "",
           "title": {
            "standoff": 15
           },
           "zerolinecolor": "white",
           "zerolinewidth": 2
          }
         }
        },
        "xaxis": {
         "anchor": "y",
         "domain": [
          0,
          1
         ],
         "title": {
          "text": "PC1 25.4%"
         }
        },
        "yaxis": {
         "anchor": "x",
         "domain": [
          0,
          1
         ],
         "title": {
          "text": "PC2 23.9%"
         }
        }
       }
      },
      "text/html": [
       "<div>                            <div id=\"bb06a9c8-2b60-4c87-8934-0f00eeb3ee72\" class=\"plotly-graph-div\" style=\"height:525px; width:100%;\"></div>            <script type=\"text/javascript\">                require([\"plotly\"], function(Plotly) {                    window.PLOTLYENV=window.PLOTLYENV || {};                                    if (document.getElementById(\"bb06a9c8-2b60-4c87-8934-0f00eeb3ee72\")) {                    Plotly.newPlot(                        \"bb06a9c8-2b60-4c87-8934-0f00eeb3ee72\",                        [{\"hovertemplate\":\"color=RRL<br>0=%{x}<br>1=%{y}<extra></extra>\",\"legendgroup\":\"RRL\",\"marker\":{\"color\":\"#636efa\",\"symbol\":\"circle\"},\"mode\":\"markers\",\"name\":\"RRL\",\"orientation\":\"v\",\"showlegend\":true,\"x\":[0.5416762396504596,-1.813921190599203,-1.0589813432099744,-0.18772173392121258,-1.956381197865565,-0.38416378619574865,-0.9778637347577569,-1.1138148000036654,-0.497854559753956,-1.422748998023912,-0.6119635803685881,-2.5514769276078617,-0.7080106439987969,-1.050253793006823,-1.759108852431406,-1.363339886997684,-0.9118659817101016,-0.7607981513797187,-1.6076449441869298],\"xaxis\":\"x\",\"y\":[-3.0749362967665586,-2.724154547801261,-2.5754381337039747,-2.551119206306836,-2.9371776257056617,-2.6301805966354754,-2.1450327821740345,-2.120854248270934,-3.0272726194911628,-1.6016134627757894,-2.190919191054948,-2.4753781782380826,-1.6592991199067395,-2.499061035660638,-3.1993000173939103,-2.9453588225094327,-2.5259302226174576,-2.8419683637766697,-2.5274886099623988],\"yaxis\":\"y\",\"type\":\"scatter\"},{\"hovertemplate\":\"color=FRW<br>0=%{x}<br>1=%{y}<extra></extra>\",\"legendgroup\":\"FRW\",\"marker\":{\"color\":\"#EF553B\",\"symbol\":\"circle\"},\"mode\":\"markers\",\"name\":\"FRW\",\"orientation\":\"v\",\"showlegend\":true,\"x\":[1.8578277187998224,1.5348531906752552,2.143001222291335,2.5403569033296534,1.5459217965055223,3.050884441692633,1.1366869091000744,1.3610880541057078,1.4765634497492728,1.5024052744419665,2.358769290212146],\"xaxis\":\"x\",\"y\":[-1.335802089982181,-1.7189424383017087,-1.380075773456553,-1.5479422047814135,-1.119490722119689,-1.6053638810133548,-1.7195826026156071,-1.68078583517676,-2.1650566929742237,-2.062943138569302,-1.8465002399168409],\"yaxis\":\"y\",\"type\":\"scatter\"},{\"hovertemplate\":\"color=MMP<br>0=%{x}<br>1=%{y}<extra></extra>\",\"legendgroup\":\"MMP\",\"marker\":{\"color\":\"#00cc96\",\"symbol\":\"circle\"},\"mode\":\"markers\",\"name\":\"MMP\",\"orientation\":\"v\",\"showlegend\":true,\"x\":[-0.3299314590843869,-1.4598906614564064,0.4998690046749899,-0.9596315758426827,-2.2194317233934107,-0.417783560067567,-0.08833153693467141,-0.2671747111921009,-1.0832440134809713,-2.60201112808941,-1.59940512460389,-2.4593339738202205,0.37225572926922385,-0.5812426519773763,-1.639954294461834,-1.2426539927675129,0.03643118608414543,-1.6201569602138748,1.2261142549471324],\"xaxis\":\"x\",\"y\":[2.144701290224888,3.445467240941828,1.9958668490096716,1.5278679152382872,1.3540590849322909,1.5968384093059214,2.8838520173721873,1.3377020144687726,0.8999012075967117,1.1073821032325,1.6680503932583226,0.6922491749307421,1.9012841900819895,2.0770261039693145,0.9157269383202802,1.2312881419830042,1.5549091891020927,0.933845908260622,3.6156320853034996],\"yaxis\":\"y\",\"type\":\"scatter\"},{\"hovertemplate\":\"color=PNR<br>0=%{x}<br>1=%{y}<extra></extra>\",\"legendgroup\":\"PNR\",\"marker\":{\"color\":\"#ab63fa\",\"symbol\":\"circle\"},\"mode\":\"markers\",\"name\":\"PNR\",\"orientation\":\"v\",\"showlegend\":true,\"x\":[3.157643173371579,0.924276857492185],\"xaxis\":\"x\",\"y\":[-1.4593239082829095,-1.8020143687395356],\"yaxis\":\"y\",\"type\":\"scatter\"},{\"hovertemplate\":\"color=CMB<br>0=%{x}<br>1=%{y}<extra></extra>\",\"legendgroup\":\"CMB\",\"marker\":{\"color\":\"#FFA15A\",\"symbol\":\"circle\"},\"mode\":\"markers\",\"name\":\"CMB\",\"orientation\":\"v\",\"showlegend\":true,\"x\":[-2.9004333469656114,-2.322821212861232,-1.6263430290342316,-3.158215816153354,-2.229589389858971,-2.2742752829232504,-1.362410939379818,-0.987026858308957,-1.4197459969123893,-2.5526669396990536,-1.4406530675833626,-1.8041119875154559,-0.41106937983200925,-3.2786129476657293,-0.6413768448666453,-1.2852149080268054,-3.176572772360019,-1.058295364122033,-2.0294179733940663,-1.9959484430650776,-2.6983798323054016],\"xaxis\":\"x\",\"y\":[1.1554046326440615,2.2997501546885,2.4918978905667704,1.1858883336410957,1.1083136135948446,0.4881428135852942,2.114687639252464,1.2626889112741793,1.0182228180123738,1.6416368930496419,1.8545283684090608,1.047555638613121,1.6686524909549196,1.603494505106765,1.4061016270748636,1.1867928412372404,1.5283955284709838,1.0980982632121168,0.8746352262410494,1.248342145846083,0.23976931689860917],\"yaxis\":\"y\",\"type\":\"scatter\"},{\"hovertemplate\":\"color=SLG<br>0=%{x}<br>1=%{y}<extra></extra>\",\"legendgroup\":\"SLG\",\"marker\":{\"color\":\"#19d3f3\",\"symbol\":\"circle\"},\"mode\":\"markers\",\"name\":\"SLG\",\"orientation\":\"v\",\"showlegend\":true,\"x\":[-2.64932093690847,2.0791981584862103,-2.165574958361714,2.729588351318535,-2.019859110944551,0.11469095139391669,-2.2237452371457564,3.487028699429897,-2.5938854618270413,0.5538833331956851,-2.422070368902948,3.257333013759944,-1.8773805757858715,2.8786130298814396,-1.4052794295975666,0.418902230791233,2.3949734068347683],\"xaxis\":\"x\",\"y\":[-1.6771871572716455,-0.8868302613413694,-1.157151911442153,-1.2631497493072918,-0.7445903546105509,-2.038131974492718,-0.872369973872178,-0.48441278411764677,-1.2051819213959678,-1.4051984641347284,-1.4534627792962282,-2.0820453707947757,-1.3917497517123243,-1.0116249751362263,-0.929753144897779,-1.5725420700910395,-0.5670756253413864],\"yaxis\":\"y\",\"type\":\"scatter\"},{\"hovertemplate\":\"color=RF<br>0=%{x}<br>1=%{y}<extra></extra>\",\"legendgroup\":\"RF\",\"marker\":{\"color\":\"#FF6692\",\"symbol\":\"circle\"},\"mode\":\"markers\",\"name\":\"RF\",\"orientation\":\"v\",\"showlegend\":true,\"x\":[-2.681299482079489,-1.0204599284174882,-1.1207042712183872,-1.7492512122286896,-0.3575599203500836,0.11237571572486624,-0.9799267535684939,0.37748542537598684,-1.2521154123298603,0.5652488765890017,-1.2169062454742532],\"xaxis\":\"x\",\"y\":[-1.283448007424864,-0.7332377074812289,0.3001054668240022,-1.5799260493798626,-0.6628143561488605,0.04143486039785362,0.40034167648775515,-0.92923731427605,0.47824630044266864,0.20726160959874843,-0.3455575738322544],\"yaxis\":\"y\",\"type\":\"scatter\"},{\"hovertemplate\":\"color=LFS<br>0=%{x}<br>1=%{y}<extra></extra>\",\"legendgroup\":\"LFS\",\"marker\":{\"color\":\"#B6E880\",\"symbol\":\"circle\"},\"mode\":\"markers\",\"name\":\"LFS\",\"orientation\":\"v\",\"showlegend\":true,\"x\":[-1.8559662893758773,1.3058889765616275,-0.5568852539394502,1.9410148418784765,0.051835497528087915,0.23250611150385547,2.552749532203171,0.2176352327644445,2.4307881852241673,0.8939869683483066,0.055683892604199564,-0.5682672827506076,-3.792780678464483,0.26359678176303836],\"xaxis\":\"x\",\"y\":[3.056957765973987,5.054095314954487,3.2318399435624725,4.192671800386263,3.1737243991722135,3.4180934317526637,5.171263252837806,3.7229048757843817,4.318717535566572,4.039037902973209,4.939661813450153,4.345569390927312,-2.445683583635768,3.7183189691554905],\"yaxis\":\"y\",\"type\":\"scatter\"},{\"hovertemplate\":\"color=PTW<br>0=%{x}<br>1=%{y}<extra></extra>\",\"legendgroup\":\"PTW\",\"marker\":{\"color\":\"#FF97FF\",\"symbol\":\"circle\"},\"mode\":\"markers\",\"name\":\"PTW\",\"orientation\":\"v\",\"showlegend\":true,\"x\":[-2.4285289176634497,-1.852907737055986,-1.21429886448968,-1.3532503809711054,-0.835074185308819,-1.1521969517683905],\"xaxis\":\"x\",\"y\":[-1.760575101535712,-2.1812923862876157,-2.2092821459839587,-2.1920690574860724,-1.382678303374756,-1.2618225844323998],\"yaxis\":\"y\",\"type\":\"scatter\"},{\"hovertemplate\":\"color=LM<br>0=%{x}<br>1=%{y}<extra></extra>\",\"legendgroup\":\"LM\",\"marker\":{\"color\":\"#FECB52\",\"symbol\":\"circle\"},\"mode\":\"markers\",\"name\":\"LM\",\"orientation\":\"v\",\"showlegend\":true,\"x\":[1.4684534118039665,1.2985210719300087,2.3675742649043032,-0.35226359403679774,1.119187942185033,1.55246584418433,2.11971955003304,1.5165037785986768,-0.6209358025349252,0.8588984343390619,0.07290047125226537,-0.30376634583489437,0.5060657357764186,0.6360749271123023,0.7641314108094205,-0.5555383890783067],\"xaxis\":\"x\",\"y\":[0.4887159630296959,0.3087166988893406,0.6582459349061192,-0.7237718413008736,-0.08786423807364864,1.6066946846415464,0.3444413595412098,1.2885487180475947,-2.127973027559651,-0.4361976268313584,-0.47611794539157554,-0.44586665614015136,-0.4847344694666854,0.21065928815690302,0.4175739542937578,-0.8635264943657389],\"yaxis\":\"y\",\"type\":\"scatter\"},{\"hovertemplate\":\"color=MKP<br>0=%{x}<br>1=%{y}<extra></extra>\",\"legendgroup\":\"MKP\",\"marker\":{\"color\":\"#636efa\",\"symbol\":\"circle\"},\"mode\":\"markers\",\"name\":\"MKP\",\"orientation\":\"v\",\"showlegend\":true,\"x\":[5.967805983000015,4.521465795010157,4.640402125040444,3.7889583287585005,4.458412479166287,3.9267577073099553,4.482208581043263,4.048119242878461],\"xaxis\":\"x\",\"y\":[-0.14424940858021115,0.13893344917972922,1.404508574648249,-1.0476273420268525,-0.6197273997859941,-1.246780081438099,-0.5569492106294157,-1.1932997105017724],\"yaxis\":\"y\",\"type\":\"scatter\"},{\"hovertemplate\":\"color=RGT<br>0=%{x}<br>1=%{y}<extra></extra>\",\"legendgroup\":\"RGT\",\"marker\":{\"color\":\"#EF553B\",\"symbol\":\"circle\"},\"mode\":\"markers\",\"name\":\"RGT\",\"orientation\":\"v\",\"showlegend\":true,\"x\":[3.0065532441219465,2.1817628212916653,2.4797177767952165,1.2603124440766644,1.4600441429012716,4.621001978304994,3.8336223824705136],\"xaxis\":\"x\",\"y\":[-0.17773784864442926,-0.6306147863757937,-0.4312458970155035,-0.6265343376094079,-0.5707662280502456,0.10001084583820707,0.11402827567753218],\"yaxis\":\"y\",\"type\":\"scatter\"}],                        {\"template\":{\"data\":{\"histogram2dcontour\":[{\"type\":\"histogram2dcontour\",\"colorbar\":{\"outlinewidth\":0,\"ticks\":\"\"},\"colorscale\":[[0.0,\"#0d0887\"],[0.1111111111111111,\"#46039f\"],[0.2222222222222222,\"#7201a8\"],[0.3333333333333333,\"#9c179e\"],[0.4444444444444444,\"#bd3786\"],[0.5555555555555556,\"#d8576b\"],[0.6666666666666666,\"#ed7953\"],[0.7777777777777778,\"#fb9f3a\"],[0.8888888888888888,\"#fdca26\"],[1.0,\"#f0f921\"]]}],\"choropleth\":[{\"type\":\"choropleth\",\"colorbar\":{\"outlinewidth\":0,\"ticks\":\"\"}}],\"histogram2d\":[{\"type\":\"histogram2d\",\"colorbar\":{\"outlinewidth\":0,\"ticks\":\"\"},\"colorscale\":[[0.0,\"#0d0887\"],[0.1111111111111111,\"#46039f\"],[0.2222222222222222,\"#7201a8\"],[0.3333333333333333,\"#9c179e\"],[0.4444444444444444,\"#bd3786\"],[0.5555555555555556,\"#d8576b\"],[0.6666666666666666,\"#ed7953\"],[0.7777777777777778,\"#fb9f3a\"],[0.8888888888888888,\"#fdca26\"],[1.0,\"#f0f921\"]]}],\"heatmap\":[{\"type\":\"heatmap\",\"colorbar\":{\"outlinewidth\":0,\"ticks\":\"\"},\"colorscale\":[[0.0,\"#0d0887\"],[0.1111111111111111,\"#46039f\"],[0.2222222222222222,\"#7201a8\"],[0.3333333333333333,\"#9c179e\"],[0.4444444444444444,\"#bd3786\"],[0.5555555555555556,\"#d8576b\"],[0.6666666666666666,\"#ed7953\"],[0.7777777777777778,\"#fb9f3a\"],[0.8888888888888888,\"#fdca26\"],[1.0,\"#f0f921\"]]}],\"heatmapgl\":[{\"type\":\"heatmapgl\",\"colorbar\":{\"outlinewidth\":0,\"ticks\":\"\"},\"colorscale\":[[0.0,\"#0d0887\"],[0.1111111111111111,\"#46039f\"],[0.2222222222222222,\"#7201a8\"],[0.3333333333333333,\"#9c179e\"],[0.4444444444444444,\"#bd3786\"],[0.5555555555555556,\"#d8576b\"],[0.6666666666666666,\"#ed7953\"],[0.7777777777777778,\"#fb9f3a\"],[0.8888888888888888,\"#fdca26\"],[1.0,\"#f0f921\"]]}],\"contourcarpet\":[{\"type\":\"contourcarpet\",\"colorbar\":{\"outlinewidth\":0,\"ticks\":\"\"}}],\"contour\":[{\"type\":\"contour\",\"colorbar\":{\"outlinewidth\":0,\"ticks\":\"\"},\"colorscale\":[[0.0,\"#0d0887\"],[0.1111111111111111,\"#46039f\"],[0.2222222222222222,\"#7201a8\"],[0.3333333333333333,\"#9c179e\"],[0.4444444444444444,\"#bd3786\"],[0.5555555555555556,\"#d8576b\"],[0.6666666666666666,\"#ed7953\"],[0.7777777777777778,\"#fb9f3a\"],[0.8888888888888888,\"#fdca26\"],[1.0,\"#f0f921\"]]}],\"surface\":[{\"type\":\"surface\",\"colorbar\":{\"outlinewidth\":0,\"ticks\":\"\"},\"colorscale\":[[0.0,\"#0d0887\"],[0.1111111111111111,\"#46039f\"],[0.2222222222222222,\"#7201a8\"],[0.3333333333333333,\"#9c179e\"],[0.4444444444444444,\"#bd3786\"],[0.5555555555555556,\"#d8576b\"],[0.6666666666666666,\"#ed7953\"],[0.7777777777777778,\"#fb9f3a\"],[0.8888888888888888,\"#fdca26\"],[1.0,\"#f0f921\"]]}],\"mesh3d\":[{\"type\":\"mesh3d\",\"colorbar\":{\"outlinewidth\":0,\"ticks\":\"\"}}],\"scatter\":[{\"fillpattern\":{\"fillmode\":\"overlay\",\"size\":10,\"solidity\":0.2},\"type\":\"scatter\"}],\"parcoords\":[{\"type\":\"parcoords\",\"line\":{\"colorbar\":{\"outlinewidth\":0,\"ticks\":\"\"}}}],\"scatterpolargl\":[{\"type\":\"scatterpolargl\",\"marker\":{\"colorbar\":{\"outlinewidth\":0,\"ticks\":\"\"}}}],\"bar\":[{\"error_x\":{\"color\":\"#2a3f5f\"},\"error_y\":{\"color\":\"#2a3f5f\"},\"marker\":{\"line\":{\"color\":\"#E5ECF6\",\"width\":0.5},\"pattern\":{\"fillmode\":\"overlay\",\"size\":10,\"solidity\":0.2}},\"type\":\"bar\"}],\"scattergeo\":[{\"type\":\"scattergeo\",\"marker\":{\"colorbar\":{\"outlinewidth\":0,\"ticks\":\"\"}}}],\"scatterpolar\":[{\"type\":\"scatterpolar\",\"marker\":{\"colorbar\":{\"outlinewidth\":0,\"ticks\":\"\"}}}],\"histogram\":[{\"marker\":{\"pattern\":{\"fillmode\":\"overlay\",\"size\":10,\"solidity\":0.2}},\"type\":\"histogram\"}],\"scattergl\":[{\"type\":\"scattergl\",\"marker\":{\"colorbar\":{\"outlinewidth\":0,\"ticks\":\"\"}}}],\"scatter3d\":[{\"type\":\"scatter3d\",\"line\":{\"colorbar\":{\"outlinewidth\":0,\"ticks\":\"\"}},\"marker\":{\"colorbar\":{\"outlinewidth\":0,\"ticks\":\"\"}}}],\"scattermapbox\":[{\"type\":\"scattermapbox\",\"marker\":{\"colorbar\":{\"outlinewidth\":0,\"ticks\":\"\"}}}],\"scatterternary\":[{\"type\":\"scatterternary\",\"marker\":{\"colorbar\":{\"outlinewidth\":0,\"ticks\":\"\"}}}],\"scattercarpet\":[{\"type\":\"scattercarpet\",\"marker\":{\"colorbar\":{\"outlinewidth\":0,\"ticks\":\"\"}}}],\"carpet\":[{\"aaxis\":{\"endlinecolor\":\"#2a3f5f\",\"gridcolor\":\"white\",\"linecolor\":\"white\",\"minorgridcolor\":\"white\",\"startlinecolor\":\"#2a3f5f\"},\"baxis\":{\"endlinecolor\":\"#2a3f5f\",\"gridcolor\":\"white\",\"linecolor\":\"white\",\"minorgridcolor\":\"white\",\"startlinecolor\":\"#2a3f5f\"},\"type\":\"carpet\"}],\"table\":[{\"cells\":{\"fill\":{\"color\":\"#EBF0F8\"},\"line\":{\"color\":\"white\"}},\"header\":{\"fill\":{\"color\":\"#C8D4E3\"},\"line\":{\"color\":\"white\"}},\"type\":\"table\"}],\"barpolar\":[{\"marker\":{\"line\":{\"color\":\"#E5ECF6\",\"width\":0.5},\"pattern\":{\"fillmode\":\"overlay\",\"size\":10,\"solidity\":0.2}},\"type\":\"barpolar\"}],\"pie\":[{\"automargin\":true,\"type\":\"pie\"}]},\"layout\":{\"autotypenumbers\":\"strict\",\"colorway\":[\"#636efa\",\"#EF553B\",\"#00cc96\",\"#ab63fa\",\"#FFA15A\",\"#19d3f3\",\"#FF6692\",\"#B6E880\",\"#FF97FF\",\"#FECB52\"],\"font\":{\"color\":\"#2a3f5f\"},\"hovermode\":\"closest\",\"hoverlabel\":{\"align\":\"left\"},\"paper_bgcolor\":\"white\",\"plot_bgcolor\":\"#E5ECF6\",\"polar\":{\"bgcolor\":\"#E5ECF6\",\"angularaxis\":{\"gridcolor\":\"white\",\"linecolor\":\"white\",\"ticks\":\"\"},\"radialaxis\":{\"gridcolor\":\"white\",\"linecolor\":\"white\",\"ticks\":\"\"}},\"ternary\":{\"bgcolor\":\"#E5ECF6\",\"aaxis\":{\"gridcolor\":\"white\",\"linecolor\":\"white\",\"ticks\":\"\"},\"baxis\":{\"gridcolor\":\"white\",\"linecolor\":\"white\",\"ticks\":\"\"},\"caxis\":{\"gridcolor\":\"white\",\"linecolor\":\"white\",\"ticks\":\"\"}},\"coloraxis\":{\"colorbar\":{\"outlinewidth\":0,\"ticks\":\"\"}},\"colorscale\":{\"sequential\":[[0.0,\"#0d0887\"],[0.1111111111111111,\"#46039f\"],[0.2222222222222222,\"#7201a8\"],[0.3333333333333333,\"#9c179e\"],[0.4444444444444444,\"#bd3786\"],[0.5555555555555556,\"#d8576b\"],[0.6666666666666666,\"#ed7953\"],[0.7777777777777778,\"#fb9f3a\"],[0.8888888888888888,\"#fdca26\"],[1.0,\"#f0f921\"]],\"sequentialminus\":[[0.0,\"#0d0887\"],[0.1111111111111111,\"#46039f\"],[0.2222222222222222,\"#7201a8\"],[0.3333333333333333,\"#9c179e\"],[0.4444444444444444,\"#bd3786\"],[0.5555555555555556,\"#d8576b\"],[0.6666666666666666,\"#ed7953\"],[0.7777777777777778,\"#fb9f3a\"],[0.8888888888888888,\"#fdca26\"],[1.0,\"#f0f921\"]],\"diverging\":[[0,\"#8e0152\"],[0.1,\"#c51b7d\"],[0.2,\"#de77ae\"],[0.3,\"#f1b6da\"],[0.4,\"#fde0ef\"],[0.5,\"#f7f7f7\"],[0.6,\"#e6f5d0\"],[0.7,\"#b8e186\"],[0.8,\"#7fbc41\"],[0.9,\"#4d9221\"],[1,\"#276419\"]]},\"xaxis\":{\"gridcolor\":\"white\",\"linecolor\":\"white\",\"ticks\":\"\",\"title\":{\"standoff\":15},\"zerolinecolor\":\"white\",\"automargin\":true,\"zerolinewidth\":2},\"yaxis\":{\"gridcolor\":\"white\",\"linecolor\":\"white\",\"ticks\":\"\",\"title\":{\"standoff\":15},\"zerolinecolor\":\"white\",\"automargin\":true,\"zerolinewidth\":2},\"scene\":{\"xaxis\":{\"backgroundcolor\":\"#E5ECF6\",\"gridcolor\":\"white\",\"linecolor\":\"white\",\"showbackground\":true,\"ticks\":\"\",\"zerolinecolor\":\"white\",\"gridwidth\":2},\"yaxis\":{\"backgroundcolor\":\"#E5ECF6\",\"gridcolor\":\"white\",\"linecolor\":\"white\",\"showbackground\":true,\"ticks\":\"\",\"zerolinecolor\":\"white\",\"gridwidth\":2},\"zaxis\":{\"backgroundcolor\":\"#E5ECF6\",\"gridcolor\":\"white\",\"linecolor\":\"white\",\"showbackground\":true,\"ticks\":\"\",\"zerolinecolor\":\"white\",\"gridwidth\":2}},\"shapedefaults\":{\"line\":{\"color\":\"#2a3f5f\"}},\"annotationdefaults\":{\"arrowcolor\":\"#2a3f5f\",\"arrowhead\":0,\"arrowwidth\":1},\"geo\":{\"bgcolor\":\"white\",\"landcolor\":\"#E5ECF6\",\"subunitcolor\":\"white\",\"showland\":true,\"showlakes\":true,\"lakecolor\":\"white\"},\"title\":{\"x\":0.05},\"mapbox\":{\"style\":\"light\"}}},\"xaxis\":{\"anchor\":\"y\",\"domain\":[0.0,1.0],\"title\":{\"text\":\"PC1 25.4%\"}},\"yaxis\":{\"anchor\":\"x\",\"domain\":[0.0,1.0],\"title\":{\"text\":\"PC2 23.9%\"}},\"legend\":{\"title\":{\"text\":\"color\"},\"tracegroupgap\":0},\"margin\":{\"t\":60}},                        {\"responsive\": true}                    ).then(function(){\n",
       "                            \n",
       "var gd = document.getElementById('bb06a9c8-2b60-4c87-8934-0f00eeb3ee72');\n",
       "var x = new MutationObserver(function (mutations, observer) {{\n",
       "        var display = window.getComputedStyle(gd).display;\n",
       "        if (!display || display === 'none') {{\n",
       "            console.log([gd, 'removed!']);\n",
       "            Plotly.purge(gd);\n",
       "            observer.disconnect();\n",
       "        }}\n",
       "}});\n",
       "\n",
       "// Listen for the removal of the full notebook cells\n",
       "var notebookContainer = gd.closest('#notebook-container');\n",
       "if (notebookContainer) {{\n",
       "    x.observe(notebookContainer, {childList: true});\n",
       "}}\n",
       "\n",
       "// Listen for the clearing of the current output cell\n",
       "var outputEl = gd.closest('.output');\n",
       "if (outputEl) {{\n",
       "    x.observe(outputEl, {childList: true});\n",
       "}}\n",
       "\n",
       "                        })                };                });            </script>        </div>"
      ]
     },
     "metadata": {},
     "output_type": "display_data"
    },
    {
     "data": {
      "application/vnd.plotly.v1+json": {
       "config": {
        "plotlyServerURL": "https://plot.ly"
       },
       "data": [
        {
         "hovertemplate": "color=exaltata<br>0=%{x}<br>1=%{y}<extra></extra>",
         "legendgroup": "exaltata",
         "marker": {
          "color": "#636efa",
          "symbol": "circle"
         },
         "mode": "markers",
         "name": "exaltata",
         "orientation": "v",
         "showlegend": true,
         "type": "scatter",
         "x": [
          0.5416762396504596,
          -1.813921190599203,
          -1.0589813432099744,
          -2.64932093690847,
          -0.18772173392121258,
          -1.956381197865565,
          -0.38416378619574865,
          -2.165574958361714,
          -0.9778637347577569,
          -1.1138148000036654,
          -0.497854559753956,
          -2.019859110944551,
          -1.422748998023912,
          -0.6119635803685881,
          -2.5514769276078617,
          -2.2237452371457564,
          -0.7080106439987969,
          -1.050253793006823,
          -1.759108852431406,
          -2.5938854618270413,
          -1.363339886997684,
          -0.9118659817101016,
          -2.422070368902948,
          -0.7607981513797187,
          -1.6076449441869298,
          -2.681299482079489,
          -1.8559662893758773,
          1.3058889765616275,
          -0.5568852539394502,
          -2.4285289176634497,
          1.9410148418784765,
          0.051835497528087915,
          -1.852907737055986,
          0.23250611150385547,
          2.552749532203171,
          -1.21429886448968,
          0.2176352327644445,
          2.4307881852241673,
          -1.3532503809711054,
          0.8939869683483066,
          0.055683892604199564,
          -0.5682672827506076,
          -3.792780678464483,
          -0.835074185308819,
          0.26359678176303836,
          -1.1521969517683905
         ],
         "xaxis": "x",
         "y": [
          -3.0749362967665586,
          -2.724154547801261,
          -2.5754381337039747,
          -1.6771871572716455,
          -2.551119206306836,
          -2.9371776257056617,
          -2.6301805966354754,
          -1.157151911442153,
          -2.1450327821740345,
          -2.120854248270934,
          -3.0272726194911628,
          -0.7445903546105509,
          -1.6016134627757894,
          -2.190919191054948,
          -2.4753781782380826,
          -0.872369973872178,
          -1.6592991199067395,
          -2.499061035660638,
          -3.1993000173939103,
          -1.2051819213959678,
          -2.9453588225094327,
          -2.5259302226174576,
          -1.4534627792962282,
          -2.8419683637766697,
          -2.5274886099623988,
          -1.283448007424864,
          3.056957765973987,
          5.054095314954487,
          3.2318399435624725,
          -1.760575101535712,
          4.192671800386263,
          3.1737243991722135,
          -2.1812923862876157,
          3.4180934317526637,
          5.171263252837806,
          -2.2092821459839587,
          3.7229048757843817,
          4.318717535566572,
          -2.1920690574860724,
          4.039037902973209,
          4.939661813450153,
          4.345569390927312,
          -2.445683583635768,
          -1.382678303374756,
          3.7183189691554905,
          -1.2618225844323998
         ],
         "yaxis": "y"
        },
        {
         "hovertemplate": "color=syriaca<br>0=%{x}<br>1=%{y}<extra></extra>",
         "legendgroup": "syriaca",
         "marker": {
          "color": "#EF553B",
          "symbol": "circle"
         },
         "mode": "markers",
         "name": "syriaca",
         "orientation": "v",
         "showlegend": true,
         "type": "scatter",
         "x": [
          1.8578277187998224,
          1.5348531906752552,
          -0.3299314590843869,
          -1.4598906614564064,
          3.157643173371579,
          -2.9004333469656114,
          -2.322821212861232,
          2.0791981584862103,
          2.143001222291335,
          2.5403569033296534,
          0.4998690046749899,
          -0.9596315758426827,
          -1.6263430290342316,
          -3.158215816153354,
          -2.229589389858971,
          2.729588351318535,
          -2.2194317233934107,
          -0.417783560067567,
          -0.08833153693467141,
          -2.2742752829232504,
          -1.362410939379818,
          0.11469095139391669,
          1.5459217965055223,
          -0.2671747111921009,
          -1.0832440134809713,
          -2.60201112808941,
          -0.987026858308957,
          -1.4197459969123893,
          -2.5526669396990536,
          3.487028699429897,
          3.050884441692633,
          -1.59940512460389,
          -2.4593339738202205,
          0.37225572926922385,
          -1.4406530675833626,
          -1.8041119875154559,
          -0.41106937983200925,
          0.5538833331956851,
          1.1366869091000744,
          -0.5812426519773763,
          -1.639954294461834,
          -3.2786129476657293,
          -0.6413768448666453,
          -1.2852149080268054,
          3.257333013759944,
          1.3610880541057078,
          1.4765634497492728,
          -1.2426539927675129,
          0.03643118608414543,
          0.924276857492185,
          -3.176572772360019,
          -1.058295364122033,
          -2.0294179733940663,
          -1.8773805757858715,
          2.8786130298814396,
          1.5024052744419665,
          2.358769290212146,
          -1.6201569602138748,
          1.2261142549471324,
          -1.9959484430650776,
          -2.6983798323054016,
          -1.4052794295975666,
          1.4684534118039665,
          1.2985210719300087,
          5.967805983000015,
          -1.0204599284174882,
          3.0065532441219465,
          2.3675742649043032,
          -0.35226359403679774,
          4.521465795010157,
          2.1817628212916653,
          1.119187942185033,
          1.55246584418433,
          0.418902230791233,
          4.640402125040444,
          2.4797177767952165,
          2.3949734068347683,
          2.11971955003304,
          1.5165037785986768,
          -0.6209358025349252,
          3.7889583287585005,
          -1.1207042712183872,
          1.2603124440766644,
          0.8588984343390619,
          4.458412479166287,
          -1.7492512122286896,
          -0.3575599203500836,
          1.4600441429012716,
          0.07290047125226537,
          -0.30376634583489437,
          3.9267577073099553,
          0.11237571572486624,
          -0.9799267535684939,
          4.621001978304994,
          0.5060657357764186,
          0.6360749271123023,
          4.482208581043263,
          0.37748542537598684,
          -1.2521154123298603,
          3.8336223824705136,
          0.7641314108094205,
          -0.5555383890783067,
          4.048119242878461,
          0.5652488765890017,
          -1.2169062454742532
         ],
         "xaxis": "x",
         "y": [
          -1.335802089982181,
          -1.7189424383017087,
          2.144701290224888,
          3.445467240941828,
          -1.4593239082829095,
          1.1554046326440615,
          2.2997501546885,
          -0.8868302613413694,
          -1.380075773456553,
          -1.5479422047814135,
          1.9958668490096716,
          1.5278679152382872,
          2.4918978905667704,
          1.1858883336410957,
          1.1083136135948446,
          -1.2631497493072918,
          1.3540590849322909,
          1.5968384093059214,
          2.8838520173721873,
          0.4881428135852942,
          2.114687639252464,
          -2.038131974492718,
          -1.119490722119689,
          1.3377020144687726,
          0.8999012075967117,
          1.1073821032325,
          1.2626889112741793,
          1.0182228180123738,
          1.6416368930496419,
          -0.48441278411764677,
          -1.6053638810133548,
          1.6680503932583226,
          0.6922491749307421,
          1.9012841900819895,
          1.8545283684090608,
          1.047555638613121,
          1.6686524909549196,
          -1.4051984641347284,
          -1.7195826026156071,
          2.0770261039693145,
          0.9157269383202802,
          1.603494505106765,
          1.4061016270748636,
          1.1867928412372404,
          -2.0820453707947757,
          -1.68078583517676,
          -2.1650566929742237,
          1.2312881419830042,
          1.5549091891020927,
          -1.8020143687395356,
          1.5283955284709838,
          1.0980982632121168,
          0.8746352262410494,
          -1.3917497517123243,
          -1.0116249751362263,
          -2.062943138569302,
          -1.8465002399168409,
          0.933845908260622,
          3.6156320853034996,
          1.248342145846083,
          0.23976931689860917,
          -0.929753144897779,
          0.4887159630296959,
          0.3087166988893406,
          -0.14424940858021115,
          -0.7332377074812289,
          -0.17773784864442926,
          0.6582459349061192,
          -0.7237718413008736,
          0.13893344917972922,
          -0.6306147863757937,
          -0.08786423807364864,
          1.6066946846415464,
          -1.5725420700910395,
          1.404508574648249,
          -0.4312458970155035,
          -0.5670756253413864,
          0.3444413595412098,
          1.2885487180475947,
          -2.127973027559651,
          -1.0476273420268525,
          0.3001054668240022,
          -0.6265343376094079,
          -0.4361976268313584,
          -0.6197273997859941,
          -1.5799260493798626,
          -0.6628143561488605,
          -0.5707662280502456,
          -0.47611794539157554,
          -0.44586665614015136,
          -1.246780081438099,
          0.04143486039785362,
          0.40034167648775515,
          0.10001084583820707,
          -0.4847344694666854,
          0.21065928815690302,
          -0.5569492106294157,
          -0.92923731427605,
          0.47824630044266864,
          0.11402827567753218,
          0.4175739542937578,
          -0.8635264943657389,
          -1.1932997105017724,
          0.20726160959874843,
          -0.3455575738322544
         ],
         "yaxis": "y"
        }
       ],
       "layout": {
        "legend": {
         "title": {
          "text": "color"
         },
         "tracegroupgap": 0
        },
        "margin": {
         "t": 60
        },
        "template": {
         "data": {
          "bar": [
           {
            "error_x": {
             "color": "#2a3f5f"
            },
            "error_y": {
             "color": "#2a3f5f"
            },
            "marker": {
             "line": {
              "color": "#E5ECF6",
              "width": 0.5
             },
             "pattern": {
              "fillmode": "overlay",
              "size": 10,
              "solidity": 0.2
             }
            },
            "type": "bar"
           }
          ],
          "barpolar": [
           {
            "marker": {
             "line": {
              "color": "#E5ECF6",
              "width": 0.5
             },
             "pattern": {
              "fillmode": "overlay",
              "size": 10,
              "solidity": 0.2
             }
            },
            "type": "barpolar"
           }
          ],
          "carpet": [
           {
            "aaxis": {
             "endlinecolor": "#2a3f5f",
             "gridcolor": "white",
             "linecolor": "white",
             "minorgridcolor": "white",
             "startlinecolor": "#2a3f5f"
            },
            "baxis": {
             "endlinecolor": "#2a3f5f",
             "gridcolor": "white",
             "linecolor": "white",
             "minorgridcolor": "white",
             "startlinecolor": "#2a3f5f"
            },
            "type": "carpet"
           }
          ],
          "choropleth": [
           {
            "colorbar": {
             "outlinewidth": 0,
             "ticks": ""
            },
            "type": "choropleth"
           }
          ],
          "contour": [
           {
            "colorbar": {
             "outlinewidth": 0,
             "ticks": ""
            },
            "colorscale": [
             [
              0,
              "#0d0887"
             ],
             [
              0.1111111111111111,
              "#46039f"
             ],
             [
              0.2222222222222222,
              "#7201a8"
             ],
             [
              0.3333333333333333,
              "#9c179e"
             ],
             [
              0.4444444444444444,
              "#bd3786"
             ],
             [
              0.5555555555555556,
              "#d8576b"
             ],
             [
              0.6666666666666666,
              "#ed7953"
             ],
             [
              0.7777777777777778,
              "#fb9f3a"
             ],
             [
              0.8888888888888888,
              "#fdca26"
             ],
             [
              1,
              "#f0f921"
             ]
            ],
            "type": "contour"
           }
          ],
          "contourcarpet": [
           {
            "colorbar": {
             "outlinewidth": 0,
             "ticks": ""
            },
            "type": "contourcarpet"
           }
          ],
          "heatmap": [
           {
            "colorbar": {
             "outlinewidth": 0,
             "ticks": ""
            },
            "colorscale": [
             [
              0,
              "#0d0887"
             ],
             [
              0.1111111111111111,
              "#46039f"
             ],
             [
              0.2222222222222222,
              "#7201a8"
             ],
             [
              0.3333333333333333,
              "#9c179e"
             ],
             [
              0.4444444444444444,
              "#bd3786"
             ],
             [
              0.5555555555555556,
              "#d8576b"
             ],
             [
              0.6666666666666666,
              "#ed7953"
             ],
             [
              0.7777777777777778,
              "#fb9f3a"
             ],
             [
              0.8888888888888888,
              "#fdca26"
             ],
             [
              1,
              "#f0f921"
             ]
            ],
            "type": "heatmap"
           }
          ],
          "heatmapgl": [
           {
            "colorbar": {
             "outlinewidth": 0,
             "ticks": ""
            },
            "colorscale": [
             [
              0,
              "#0d0887"
             ],
             [
              0.1111111111111111,
              "#46039f"
             ],
             [
              0.2222222222222222,
              "#7201a8"
             ],
             [
              0.3333333333333333,
              "#9c179e"
             ],
             [
              0.4444444444444444,
              "#bd3786"
             ],
             [
              0.5555555555555556,
              "#d8576b"
             ],
             [
              0.6666666666666666,
              "#ed7953"
             ],
             [
              0.7777777777777778,
              "#fb9f3a"
             ],
             [
              0.8888888888888888,
              "#fdca26"
             ],
             [
              1,
              "#f0f921"
             ]
            ],
            "type": "heatmapgl"
           }
          ],
          "histogram": [
           {
            "marker": {
             "pattern": {
              "fillmode": "overlay",
              "size": 10,
              "solidity": 0.2
             }
            },
            "type": "histogram"
           }
          ],
          "histogram2d": [
           {
            "colorbar": {
             "outlinewidth": 0,
             "ticks": ""
            },
            "colorscale": [
             [
              0,
              "#0d0887"
             ],
             [
              0.1111111111111111,
              "#46039f"
             ],
             [
              0.2222222222222222,
              "#7201a8"
             ],
             [
              0.3333333333333333,
              "#9c179e"
             ],
             [
              0.4444444444444444,
              "#bd3786"
             ],
             [
              0.5555555555555556,
              "#d8576b"
             ],
             [
              0.6666666666666666,
              "#ed7953"
             ],
             [
              0.7777777777777778,
              "#fb9f3a"
             ],
             [
              0.8888888888888888,
              "#fdca26"
             ],
             [
              1,
              "#f0f921"
             ]
            ],
            "type": "histogram2d"
           }
          ],
          "histogram2dcontour": [
           {
            "colorbar": {
             "outlinewidth": 0,
             "ticks": ""
            },
            "colorscale": [
             [
              0,
              "#0d0887"
             ],
             [
              0.1111111111111111,
              "#46039f"
             ],
             [
              0.2222222222222222,
              "#7201a8"
             ],
             [
              0.3333333333333333,
              "#9c179e"
             ],
             [
              0.4444444444444444,
              "#bd3786"
             ],
             [
              0.5555555555555556,
              "#d8576b"
             ],
             [
              0.6666666666666666,
              "#ed7953"
             ],
             [
              0.7777777777777778,
              "#fb9f3a"
             ],
             [
              0.8888888888888888,
              "#fdca26"
             ],
             [
              1,
              "#f0f921"
             ]
            ],
            "type": "histogram2dcontour"
           }
          ],
          "mesh3d": [
           {
            "colorbar": {
             "outlinewidth": 0,
             "ticks": ""
            },
            "type": "mesh3d"
           }
          ],
          "parcoords": [
           {
            "line": {
             "colorbar": {
              "outlinewidth": 0,
              "ticks": ""
             }
            },
            "type": "parcoords"
           }
          ],
          "pie": [
           {
            "automargin": true,
            "type": "pie"
           }
          ],
          "scatter": [
           {
            "fillpattern": {
             "fillmode": "overlay",
             "size": 10,
             "solidity": 0.2
            },
            "type": "scatter"
           }
          ],
          "scatter3d": [
           {
            "line": {
             "colorbar": {
              "outlinewidth": 0,
              "ticks": ""
             }
            },
            "marker": {
             "colorbar": {
              "outlinewidth": 0,
              "ticks": ""
             }
            },
            "type": "scatter3d"
           }
          ],
          "scattercarpet": [
           {
            "marker": {
             "colorbar": {
              "outlinewidth": 0,
              "ticks": ""
             }
            },
            "type": "scattercarpet"
           }
          ],
          "scattergeo": [
           {
            "marker": {
             "colorbar": {
              "outlinewidth": 0,
              "ticks": ""
             }
            },
            "type": "scattergeo"
           }
          ],
          "scattergl": [
           {
            "marker": {
             "colorbar": {
              "outlinewidth": 0,
              "ticks": ""
             }
            },
            "type": "scattergl"
           }
          ],
          "scattermapbox": [
           {
            "marker": {
             "colorbar": {
              "outlinewidth": 0,
              "ticks": ""
             }
            },
            "type": "scattermapbox"
           }
          ],
          "scatterpolar": [
           {
            "marker": {
             "colorbar": {
              "outlinewidth": 0,
              "ticks": ""
             }
            },
            "type": "scatterpolar"
           }
          ],
          "scatterpolargl": [
           {
            "marker": {
             "colorbar": {
              "outlinewidth": 0,
              "ticks": ""
             }
            },
            "type": "scatterpolargl"
           }
          ],
          "scatterternary": [
           {
            "marker": {
             "colorbar": {
              "outlinewidth": 0,
              "ticks": ""
             }
            },
            "type": "scatterternary"
           }
          ],
          "surface": [
           {
            "colorbar": {
             "outlinewidth": 0,
             "ticks": ""
            },
            "colorscale": [
             [
              0,
              "#0d0887"
             ],
             [
              0.1111111111111111,
              "#46039f"
             ],
             [
              0.2222222222222222,
              "#7201a8"
             ],
             [
              0.3333333333333333,
              "#9c179e"
             ],
             [
              0.4444444444444444,
              "#bd3786"
             ],
             [
              0.5555555555555556,
              "#d8576b"
             ],
             [
              0.6666666666666666,
              "#ed7953"
             ],
             [
              0.7777777777777778,
              "#fb9f3a"
             ],
             [
              0.8888888888888888,
              "#fdca26"
             ],
             [
              1,
              "#f0f921"
             ]
            ],
            "type": "surface"
           }
          ],
          "table": [
           {
            "cells": {
             "fill": {
              "color": "#EBF0F8"
             },
             "line": {
              "color": "white"
             }
            },
            "header": {
             "fill": {
              "color": "#C8D4E3"
             },
             "line": {
              "color": "white"
             }
            },
            "type": "table"
           }
          ]
         },
         "layout": {
          "annotationdefaults": {
           "arrowcolor": "#2a3f5f",
           "arrowhead": 0,
           "arrowwidth": 1
          },
          "autotypenumbers": "strict",
          "coloraxis": {
           "colorbar": {
            "outlinewidth": 0,
            "ticks": ""
           }
          },
          "colorscale": {
           "diverging": [
            [
             0,
             "#8e0152"
            ],
            [
             0.1,
             "#c51b7d"
            ],
            [
             0.2,
             "#de77ae"
            ],
            [
             0.3,
             "#f1b6da"
            ],
            [
             0.4,
             "#fde0ef"
            ],
            [
             0.5,
             "#f7f7f7"
            ],
            [
             0.6,
             "#e6f5d0"
            ],
            [
             0.7,
             "#b8e186"
            ],
            [
             0.8,
             "#7fbc41"
            ],
            [
             0.9,
             "#4d9221"
            ],
            [
             1,
             "#276419"
            ]
           ],
           "sequential": [
            [
             0,
             "#0d0887"
            ],
            [
             0.1111111111111111,
             "#46039f"
            ],
            [
             0.2222222222222222,
             "#7201a8"
            ],
            [
             0.3333333333333333,
             "#9c179e"
            ],
            [
             0.4444444444444444,
             "#bd3786"
            ],
            [
             0.5555555555555556,
             "#d8576b"
            ],
            [
             0.6666666666666666,
             "#ed7953"
            ],
            [
             0.7777777777777778,
             "#fb9f3a"
            ],
            [
             0.8888888888888888,
             "#fdca26"
            ],
            [
             1,
             "#f0f921"
            ]
           ],
           "sequentialminus": [
            [
             0,
             "#0d0887"
            ],
            [
             0.1111111111111111,
             "#46039f"
            ],
            [
             0.2222222222222222,
             "#7201a8"
            ],
            [
             0.3333333333333333,
             "#9c179e"
            ],
            [
             0.4444444444444444,
             "#bd3786"
            ],
            [
             0.5555555555555556,
             "#d8576b"
            ],
            [
             0.6666666666666666,
             "#ed7953"
            ],
            [
             0.7777777777777778,
             "#fb9f3a"
            ],
            [
             0.8888888888888888,
             "#fdca26"
            ],
            [
             1,
             "#f0f921"
            ]
           ]
          },
          "colorway": [
           "#636efa",
           "#EF553B",
           "#00cc96",
           "#ab63fa",
           "#FFA15A",
           "#19d3f3",
           "#FF6692",
           "#B6E880",
           "#FF97FF",
           "#FECB52"
          ],
          "font": {
           "color": "#2a3f5f"
          },
          "geo": {
           "bgcolor": "white",
           "lakecolor": "white",
           "landcolor": "#E5ECF6",
           "showlakes": true,
           "showland": true,
           "subunitcolor": "white"
          },
          "hoverlabel": {
           "align": "left"
          },
          "hovermode": "closest",
          "mapbox": {
           "style": "light"
          },
          "paper_bgcolor": "white",
          "plot_bgcolor": "#E5ECF6",
          "polar": {
           "angularaxis": {
            "gridcolor": "white",
            "linecolor": "white",
            "ticks": ""
           },
           "bgcolor": "#E5ECF6",
           "radialaxis": {
            "gridcolor": "white",
            "linecolor": "white",
            "ticks": ""
           }
          },
          "scene": {
           "xaxis": {
            "backgroundcolor": "#E5ECF6",
            "gridcolor": "white",
            "gridwidth": 2,
            "linecolor": "white",
            "showbackground": true,
            "ticks": "",
            "zerolinecolor": "white"
           },
           "yaxis": {
            "backgroundcolor": "#E5ECF6",
            "gridcolor": "white",
            "gridwidth": 2,
            "linecolor": "white",
            "showbackground": true,
            "ticks": "",
            "zerolinecolor": "white"
           },
           "zaxis": {
            "backgroundcolor": "#E5ECF6",
            "gridcolor": "white",
            "gridwidth": 2,
            "linecolor": "white",
            "showbackground": true,
            "ticks": "",
            "zerolinecolor": "white"
           }
          },
          "shapedefaults": {
           "line": {
            "color": "#2a3f5f"
           }
          },
          "ternary": {
           "aaxis": {
            "gridcolor": "white",
            "linecolor": "white",
            "ticks": ""
           },
           "baxis": {
            "gridcolor": "white",
            "linecolor": "white",
            "ticks": ""
           },
           "bgcolor": "#E5ECF6",
           "caxis": {
            "gridcolor": "white",
            "linecolor": "white",
            "ticks": ""
           }
          },
          "title": {
           "x": 0.05
          },
          "xaxis": {
           "automargin": true,
           "gridcolor": "white",
           "linecolor": "white",
           "ticks": "",
           "title": {
            "standoff": 15
           },
           "zerolinecolor": "white",
           "zerolinewidth": 2
          },
          "yaxis": {
           "automargin": true,
           "gridcolor": "white",
           "linecolor": "white",
           "ticks": "",
           "title": {
            "standoff": 15
           },
           "zerolinecolor": "white",
           "zerolinewidth": 2
          }
         }
        },
        "xaxis": {
         "anchor": "y",
         "domain": [
          0,
          1
         ],
         "title": {
          "text": "PC1 25.4%"
         }
        },
        "yaxis": {
         "anchor": "x",
         "domain": [
          0,
          1
         ],
         "title": {
          "text": "PC2 23.9%"
         }
        }
       }
      },
      "text/html": [
       "<div>                            <div id=\"9d918aa1-d144-4c4f-8a25-e5c07f0c3f90\" class=\"plotly-graph-div\" style=\"height:525px; width:100%;\"></div>            <script type=\"text/javascript\">                require([\"plotly\"], function(Plotly) {                    window.PLOTLYENV=window.PLOTLYENV || {};                                    if (document.getElementById(\"9d918aa1-d144-4c4f-8a25-e5c07f0c3f90\")) {                    Plotly.newPlot(                        \"9d918aa1-d144-4c4f-8a25-e5c07f0c3f90\",                        [{\"hovertemplate\":\"color=exaltata<br>0=%{x}<br>1=%{y}<extra></extra>\",\"legendgroup\":\"exaltata\",\"marker\":{\"color\":\"#636efa\",\"symbol\":\"circle\"},\"mode\":\"markers\",\"name\":\"exaltata\",\"orientation\":\"v\",\"showlegend\":true,\"x\":[0.5416762396504596,-1.813921190599203,-1.0589813432099744,-2.64932093690847,-0.18772173392121258,-1.956381197865565,-0.38416378619574865,-2.165574958361714,-0.9778637347577569,-1.1138148000036654,-0.497854559753956,-2.019859110944551,-1.422748998023912,-0.6119635803685881,-2.5514769276078617,-2.2237452371457564,-0.7080106439987969,-1.050253793006823,-1.759108852431406,-2.5938854618270413,-1.363339886997684,-0.9118659817101016,-2.422070368902948,-0.7607981513797187,-1.6076449441869298,-2.681299482079489,-1.8559662893758773,1.3058889765616275,-0.5568852539394502,-2.4285289176634497,1.9410148418784765,0.051835497528087915,-1.852907737055986,0.23250611150385547,2.552749532203171,-1.21429886448968,0.2176352327644445,2.4307881852241673,-1.3532503809711054,0.8939869683483066,0.055683892604199564,-0.5682672827506076,-3.792780678464483,-0.835074185308819,0.26359678176303836,-1.1521969517683905],\"xaxis\":\"x\",\"y\":[-3.0749362967665586,-2.724154547801261,-2.5754381337039747,-1.6771871572716455,-2.551119206306836,-2.9371776257056617,-2.6301805966354754,-1.157151911442153,-2.1450327821740345,-2.120854248270934,-3.0272726194911628,-0.7445903546105509,-1.6016134627757894,-2.190919191054948,-2.4753781782380826,-0.872369973872178,-1.6592991199067395,-2.499061035660638,-3.1993000173939103,-1.2051819213959678,-2.9453588225094327,-2.5259302226174576,-1.4534627792962282,-2.8419683637766697,-2.5274886099623988,-1.283448007424864,3.056957765973987,5.054095314954487,3.2318399435624725,-1.760575101535712,4.192671800386263,3.1737243991722135,-2.1812923862876157,3.4180934317526637,5.171263252837806,-2.2092821459839587,3.7229048757843817,4.318717535566572,-2.1920690574860724,4.039037902973209,4.939661813450153,4.345569390927312,-2.445683583635768,-1.382678303374756,3.7183189691554905,-1.2618225844323998],\"yaxis\":\"y\",\"type\":\"scatter\"},{\"hovertemplate\":\"color=syriaca<br>0=%{x}<br>1=%{y}<extra></extra>\",\"legendgroup\":\"syriaca\",\"marker\":{\"color\":\"#EF553B\",\"symbol\":\"circle\"},\"mode\":\"markers\",\"name\":\"syriaca\",\"orientation\":\"v\",\"showlegend\":true,\"x\":[1.8578277187998224,1.5348531906752552,-0.3299314590843869,-1.4598906614564064,3.157643173371579,-2.9004333469656114,-2.322821212861232,2.0791981584862103,2.143001222291335,2.5403569033296534,0.4998690046749899,-0.9596315758426827,-1.6263430290342316,-3.158215816153354,-2.229589389858971,2.729588351318535,-2.2194317233934107,-0.417783560067567,-0.08833153693467141,-2.2742752829232504,-1.362410939379818,0.11469095139391669,1.5459217965055223,-0.2671747111921009,-1.0832440134809713,-2.60201112808941,-0.987026858308957,-1.4197459969123893,-2.5526669396990536,3.487028699429897,3.050884441692633,-1.59940512460389,-2.4593339738202205,0.37225572926922385,-1.4406530675833626,-1.8041119875154559,-0.41106937983200925,0.5538833331956851,1.1366869091000744,-0.5812426519773763,-1.639954294461834,-3.2786129476657293,-0.6413768448666453,-1.2852149080268054,3.257333013759944,1.3610880541057078,1.4765634497492728,-1.2426539927675129,0.03643118608414543,0.924276857492185,-3.176572772360019,-1.058295364122033,-2.0294179733940663,-1.8773805757858715,2.8786130298814396,1.5024052744419665,2.358769290212146,-1.6201569602138748,1.2261142549471324,-1.9959484430650776,-2.6983798323054016,-1.4052794295975666,1.4684534118039665,1.2985210719300087,5.967805983000015,-1.0204599284174882,3.0065532441219465,2.3675742649043032,-0.35226359403679774,4.521465795010157,2.1817628212916653,1.119187942185033,1.55246584418433,0.418902230791233,4.640402125040444,2.4797177767952165,2.3949734068347683,2.11971955003304,1.5165037785986768,-0.6209358025349252,3.7889583287585005,-1.1207042712183872,1.2603124440766644,0.8588984343390619,4.458412479166287,-1.7492512122286896,-0.3575599203500836,1.4600441429012716,0.07290047125226537,-0.30376634583489437,3.9267577073099553,0.11237571572486624,-0.9799267535684939,4.621001978304994,0.5060657357764186,0.6360749271123023,4.482208581043263,0.37748542537598684,-1.2521154123298603,3.8336223824705136,0.7641314108094205,-0.5555383890783067,4.048119242878461,0.5652488765890017,-1.2169062454742532],\"xaxis\":\"x\",\"y\":[-1.335802089982181,-1.7189424383017087,2.144701290224888,3.445467240941828,-1.4593239082829095,1.1554046326440615,2.2997501546885,-0.8868302613413694,-1.380075773456553,-1.5479422047814135,1.9958668490096716,1.5278679152382872,2.4918978905667704,1.1858883336410957,1.1083136135948446,-1.2631497493072918,1.3540590849322909,1.5968384093059214,2.8838520173721873,0.4881428135852942,2.114687639252464,-2.038131974492718,-1.119490722119689,1.3377020144687726,0.8999012075967117,1.1073821032325,1.2626889112741793,1.0182228180123738,1.6416368930496419,-0.48441278411764677,-1.6053638810133548,1.6680503932583226,0.6922491749307421,1.9012841900819895,1.8545283684090608,1.047555638613121,1.6686524909549196,-1.4051984641347284,-1.7195826026156071,2.0770261039693145,0.9157269383202802,1.603494505106765,1.4061016270748636,1.1867928412372404,-2.0820453707947757,-1.68078583517676,-2.1650566929742237,1.2312881419830042,1.5549091891020927,-1.8020143687395356,1.5283955284709838,1.0980982632121168,0.8746352262410494,-1.3917497517123243,-1.0116249751362263,-2.062943138569302,-1.8465002399168409,0.933845908260622,3.6156320853034996,1.248342145846083,0.23976931689860917,-0.929753144897779,0.4887159630296959,0.3087166988893406,-0.14424940858021115,-0.7332377074812289,-0.17773784864442926,0.6582459349061192,-0.7237718413008736,0.13893344917972922,-0.6306147863757937,-0.08786423807364864,1.6066946846415464,-1.5725420700910395,1.404508574648249,-0.4312458970155035,-0.5670756253413864,0.3444413595412098,1.2885487180475947,-2.127973027559651,-1.0476273420268525,0.3001054668240022,-0.6265343376094079,-0.4361976268313584,-0.6197273997859941,-1.5799260493798626,-0.6628143561488605,-0.5707662280502456,-0.47611794539157554,-0.44586665614015136,-1.246780081438099,0.04143486039785362,0.40034167648775515,0.10001084583820707,-0.4847344694666854,0.21065928815690302,-0.5569492106294157,-0.92923731427605,0.47824630044266864,0.11402827567753218,0.4175739542937578,-0.8635264943657389,-1.1932997105017724,0.20726160959874843,-0.3455575738322544],\"yaxis\":\"y\",\"type\":\"scatter\"}],                        {\"template\":{\"data\":{\"histogram2dcontour\":[{\"type\":\"histogram2dcontour\",\"colorbar\":{\"outlinewidth\":0,\"ticks\":\"\"},\"colorscale\":[[0.0,\"#0d0887\"],[0.1111111111111111,\"#46039f\"],[0.2222222222222222,\"#7201a8\"],[0.3333333333333333,\"#9c179e\"],[0.4444444444444444,\"#bd3786\"],[0.5555555555555556,\"#d8576b\"],[0.6666666666666666,\"#ed7953\"],[0.7777777777777778,\"#fb9f3a\"],[0.8888888888888888,\"#fdca26\"],[1.0,\"#f0f921\"]]}],\"choropleth\":[{\"type\":\"choropleth\",\"colorbar\":{\"outlinewidth\":0,\"ticks\":\"\"}}],\"histogram2d\":[{\"type\":\"histogram2d\",\"colorbar\":{\"outlinewidth\":0,\"ticks\":\"\"},\"colorscale\":[[0.0,\"#0d0887\"],[0.1111111111111111,\"#46039f\"],[0.2222222222222222,\"#7201a8\"],[0.3333333333333333,\"#9c179e\"],[0.4444444444444444,\"#bd3786\"],[0.5555555555555556,\"#d8576b\"],[0.6666666666666666,\"#ed7953\"],[0.7777777777777778,\"#fb9f3a\"],[0.8888888888888888,\"#fdca26\"],[1.0,\"#f0f921\"]]}],\"heatmap\":[{\"type\":\"heatmap\",\"colorbar\":{\"outlinewidth\":0,\"ticks\":\"\"},\"colorscale\":[[0.0,\"#0d0887\"],[0.1111111111111111,\"#46039f\"],[0.2222222222222222,\"#7201a8\"],[0.3333333333333333,\"#9c179e\"],[0.4444444444444444,\"#bd3786\"],[0.5555555555555556,\"#d8576b\"],[0.6666666666666666,\"#ed7953\"],[0.7777777777777778,\"#fb9f3a\"],[0.8888888888888888,\"#fdca26\"],[1.0,\"#f0f921\"]]}],\"heatmapgl\":[{\"type\":\"heatmapgl\",\"colorbar\":{\"outlinewidth\":0,\"ticks\":\"\"},\"colorscale\":[[0.0,\"#0d0887\"],[0.1111111111111111,\"#46039f\"],[0.2222222222222222,\"#7201a8\"],[0.3333333333333333,\"#9c179e\"],[0.4444444444444444,\"#bd3786\"],[0.5555555555555556,\"#d8576b\"],[0.6666666666666666,\"#ed7953\"],[0.7777777777777778,\"#fb9f3a\"],[0.8888888888888888,\"#fdca26\"],[1.0,\"#f0f921\"]]}],\"contourcarpet\":[{\"type\":\"contourcarpet\",\"colorbar\":{\"outlinewidth\":0,\"ticks\":\"\"}}],\"contour\":[{\"type\":\"contour\",\"colorbar\":{\"outlinewidth\":0,\"ticks\":\"\"},\"colorscale\":[[0.0,\"#0d0887\"],[0.1111111111111111,\"#46039f\"],[0.2222222222222222,\"#7201a8\"],[0.3333333333333333,\"#9c179e\"],[0.4444444444444444,\"#bd3786\"],[0.5555555555555556,\"#d8576b\"],[0.6666666666666666,\"#ed7953\"],[0.7777777777777778,\"#fb9f3a\"],[0.8888888888888888,\"#fdca26\"],[1.0,\"#f0f921\"]]}],\"surface\":[{\"type\":\"surface\",\"colorbar\":{\"outlinewidth\":0,\"ticks\":\"\"},\"colorscale\":[[0.0,\"#0d0887\"],[0.1111111111111111,\"#46039f\"],[0.2222222222222222,\"#7201a8\"],[0.3333333333333333,\"#9c179e\"],[0.4444444444444444,\"#bd3786\"],[0.5555555555555556,\"#d8576b\"],[0.6666666666666666,\"#ed7953\"],[0.7777777777777778,\"#fb9f3a\"],[0.8888888888888888,\"#fdca26\"],[1.0,\"#f0f921\"]]}],\"mesh3d\":[{\"type\":\"mesh3d\",\"colorbar\":{\"outlinewidth\":0,\"ticks\":\"\"}}],\"scatter\":[{\"fillpattern\":{\"fillmode\":\"overlay\",\"size\":10,\"solidity\":0.2},\"type\":\"scatter\"}],\"parcoords\":[{\"type\":\"parcoords\",\"line\":{\"colorbar\":{\"outlinewidth\":0,\"ticks\":\"\"}}}],\"scatterpolargl\":[{\"type\":\"scatterpolargl\",\"marker\":{\"colorbar\":{\"outlinewidth\":0,\"ticks\":\"\"}}}],\"bar\":[{\"error_x\":{\"color\":\"#2a3f5f\"},\"error_y\":{\"color\":\"#2a3f5f\"},\"marker\":{\"line\":{\"color\":\"#E5ECF6\",\"width\":0.5},\"pattern\":{\"fillmode\":\"overlay\",\"size\":10,\"solidity\":0.2}},\"type\":\"bar\"}],\"scattergeo\":[{\"type\":\"scattergeo\",\"marker\":{\"colorbar\":{\"outlinewidth\":0,\"ticks\":\"\"}}}],\"scatterpolar\":[{\"type\":\"scatterpolar\",\"marker\":{\"colorbar\":{\"outlinewidth\":0,\"ticks\":\"\"}}}],\"histogram\":[{\"marker\":{\"pattern\":{\"fillmode\":\"overlay\",\"size\":10,\"solidity\":0.2}},\"type\":\"histogram\"}],\"scattergl\":[{\"type\":\"scattergl\",\"marker\":{\"colorbar\":{\"outlinewidth\":0,\"ticks\":\"\"}}}],\"scatter3d\":[{\"type\":\"scatter3d\",\"line\":{\"colorbar\":{\"outlinewidth\":0,\"ticks\":\"\"}},\"marker\":{\"colorbar\":{\"outlinewidth\":0,\"ticks\":\"\"}}}],\"scattermapbox\":[{\"type\":\"scattermapbox\",\"marker\":{\"colorbar\":{\"outlinewidth\":0,\"ticks\":\"\"}}}],\"scatterternary\":[{\"type\":\"scatterternary\",\"marker\":{\"colorbar\":{\"outlinewidth\":0,\"ticks\":\"\"}}}],\"scattercarpet\":[{\"type\":\"scattercarpet\",\"marker\":{\"colorbar\":{\"outlinewidth\":0,\"ticks\":\"\"}}}],\"carpet\":[{\"aaxis\":{\"endlinecolor\":\"#2a3f5f\",\"gridcolor\":\"white\",\"linecolor\":\"white\",\"minorgridcolor\":\"white\",\"startlinecolor\":\"#2a3f5f\"},\"baxis\":{\"endlinecolor\":\"#2a3f5f\",\"gridcolor\":\"white\",\"linecolor\":\"white\",\"minorgridcolor\":\"white\",\"startlinecolor\":\"#2a3f5f\"},\"type\":\"carpet\"}],\"table\":[{\"cells\":{\"fill\":{\"color\":\"#EBF0F8\"},\"line\":{\"color\":\"white\"}},\"header\":{\"fill\":{\"color\":\"#C8D4E3\"},\"line\":{\"color\":\"white\"}},\"type\":\"table\"}],\"barpolar\":[{\"marker\":{\"line\":{\"color\":\"#E5ECF6\",\"width\":0.5},\"pattern\":{\"fillmode\":\"overlay\",\"size\":10,\"solidity\":0.2}},\"type\":\"barpolar\"}],\"pie\":[{\"automargin\":true,\"type\":\"pie\"}]},\"layout\":{\"autotypenumbers\":\"strict\",\"colorway\":[\"#636efa\",\"#EF553B\",\"#00cc96\",\"#ab63fa\",\"#FFA15A\",\"#19d3f3\",\"#FF6692\",\"#B6E880\",\"#FF97FF\",\"#FECB52\"],\"font\":{\"color\":\"#2a3f5f\"},\"hovermode\":\"closest\",\"hoverlabel\":{\"align\":\"left\"},\"paper_bgcolor\":\"white\",\"plot_bgcolor\":\"#E5ECF6\",\"polar\":{\"bgcolor\":\"#E5ECF6\",\"angularaxis\":{\"gridcolor\":\"white\",\"linecolor\":\"white\",\"ticks\":\"\"},\"radialaxis\":{\"gridcolor\":\"white\",\"linecolor\":\"white\",\"ticks\":\"\"}},\"ternary\":{\"bgcolor\":\"#E5ECF6\",\"aaxis\":{\"gridcolor\":\"white\",\"linecolor\":\"white\",\"ticks\":\"\"},\"baxis\":{\"gridcolor\":\"white\",\"linecolor\":\"white\",\"ticks\":\"\"},\"caxis\":{\"gridcolor\":\"white\",\"linecolor\":\"white\",\"ticks\":\"\"}},\"coloraxis\":{\"colorbar\":{\"outlinewidth\":0,\"ticks\":\"\"}},\"colorscale\":{\"sequential\":[[0.0,\"#0d0887\"],[0.1111111111111111,\"#46039f\"],[0.2222222222222222,\"#7201a8\"],[0.3333333333333333,\"#9c179e\"],[0.4444444444444444,\"#bd3786\"],[0.5555555555555556,\"#d8576b\"],[0.6666666666666666,\"#ed7953\"],[0.7777777777777778,\"#fb9f3a\"],[0.8888888888888888,\"#fdca26\"],[1.0,\"#f0f921\"]],\"sequentialminus\":[[0.0,\"#0d0887\"],[0.1111111111111111,\"#46039f\"],[0.2222222222222222,\"#7201a8\"],[0.3333333333333333,\"#9c179e\"],[0.4444444444444444,\"#bd3786\"],[0.5555555555555556,\"#d8576b\"],[0.6666666666666666,\"#ed7953\"],[0.7777777777777778,\"#fb9f3a\"],[0.8888888888888888,\"#fdca26\"],[1.0,\"#f0f921\"]],\"diverging\":[[0,\"#8e0152\"],[0.1,\"#c51b7d\"],[0.2,\"#de77ae\"],[0.3,\"#f1b6da\"],[0.4,\"#fde0ef\"],[0.5,\"#f7f7f7\"],[0.6,\"#e6f5d0\"],[0.7,\"#b8e186\"],[0.8,\"#7fbc41\"],[0.9,\"#4d9221\"],[1,\"#276419\"]]},\"xaxis\":{\"gridcolor\":\"white\",\"linecolor\":\"white\",\"ticks\":\"\",\"title\":{\"standoff\":15},\"zerolinecolor\":\"white\",\"automargin\":true,\"zerolinewidth\":2},\"yaxis\":{\"gridcolor\":\"white\",\"linecolor\":\"white\",\"ticks\":\"\",\"title\":{\"standoff\":15},\"zerolinecolor\":\"white\",\"automargin\":true,\"zerolinewidth\":2},\"scene\":{\"xaxis\":{\"backgroundcolor\":\"#E5ECF6\",\"gridcolor\":\"white\",\"linecolor\":\"white\",\"showbackground\":true,\"ticks\":\"\",\"zerolinecolor\":\"white\",\"gridwidth\":2},\"yaxis\":{\"backgroundcolor\":\"#E5ECF6\",\"gridcolor\":\"white\",\"linecolor\":\"white\",\"showbackground\":true,\"ticks\":\"\",\"zerolinecolor\":\"white\",\"gridwidth\":2},\"zaxis\":{\"backgroundcolor\":\"#E5ECF6\",\"gridcolor\":\"white\",\"linecolor\":\"white\",\"showbackground\":true,\"ticks\":\"\",\"zerolinecolor\":\"white\",\"gridwidth\":2}},\"shapedefaults\":{\"line\":{\"color\":\"#2a3f5f\"}},\"annotationdefaults\":{\"arrowcolor\":\"#2a3f5f\",\"arrowhead\":0,\"arrowwidth\":1},\"geo\":{\"bgcolor\":\"white\",\"landcolor\":\"#E5ECF6\",\"subunitcolor\":\"white\",\"showland\":true,\"showlakes\":true,\"lakecolor\":\"white\"},\"title\":{\"x\":0.05},\"mapbox\":{\"style\":\"light\"}}},\"xaxis\":{\"anchor\":\"y\",\"domain\":[0.0,1.0],\"title\":{\"text\":\"PC1 25.4%\"}},\"yaxis\":{\"anchor\":\"x\",\"domain\":[0.0,1.0],\"title\":{\"text\":\"PC2 23.9%\"}},\"legend\":{\"title\":{\"text\":\"color\"},\"tracegroupgap\":0},\"margin\":{\"t\":60}},                        {\"responsive\": true}                    ).then(function(){\n",
       "                            \n",
       "var gd = document.getElementById('9d918aa1-d144-4c4f-8a25-e5c07f0c3f90');\n",
       "var x = new MutationObserver(function (mutations, observer) {{\n",
       "        var display = window.getComputedStyle(gd).display;\n",
       "        if (!display || display === 'none') {{\n",
       "            console.log([gd, 'removed!']);\n",
       "            Plotly.purge(gd);\n",
       "            observer.disconnect();\n",
       "        }}\n",
       "}});\n",
       "\n",
       "// Listen for the removal of the full notebook cells\n",
       "var notebookContainer = gd.closest('#notebook-container');\n",
       "if (notebookContainer) {{\n",
       "    x.observe(notebookContainer, {childList: true});\n",
       "}}\n",
       "\n",
       "// Listen for the clearing of the current output cell\n",
       "var outputEl = gd.closest('.output');\n",
       "if (outputEl) {{\n",
       "    x.observe(outputEl, {childList: true});\n",
       "}}\n",
       "\n",
       "                        })                };                });            </script>        </div>"
      ]
     },
     "metadata": {},
     "output_type": "display_data"
    }
   ],
   "source": [
    "X = df[nutrients]\n",
    "\n",
    "pca = PCA(n_components=2)\n",
    "components = pca.fit_transform(X)\n",
    "\n",
    "fig1 = px.scatter(components, x=0, y=1, color=df['site_id'])\n",
    "fig1.update_layout(\n",
    "    xaxis_title=\"PC1 \" + str(round(100*pca.explained_variance_ratio_[0], 1)) + '%',\n",
    "    yaxis_title=\"PC2 \" + str(round(100*pca.explained_variance_ratio_[1], 1)) + '%')\n",
    "\n",
    "fig2 = px.scatter(components, x=0, y=1, color=df['species'])\n",
    "fig2.update_layout(\n",
    "    xaxis_title=\"PC1 \" + str(round(100*pca.explained_variance_ratio_[0], 1)) + '%',\n",
    "    yaxis_title=\"PC2 \" + str(round(100*pca.explained_variance_ratio_[1], 1)) + '%')\n",
    "\n",
    "\n",
    "\n",
    "fig1.show()\n",
    "fig2.show()"
   ]
  },
  {
   "cell_type": "code",
   "execution_count": 39,
   "id": "0ba9ae34",
   "metadata": {},
   "outputs": [],
   "source": [
    "X = df[nutrients]\n",
    "\n",
    "pca = PCA(n_components=2)\n",
    "components = pca.fit_transform(X)"
   ]
  },
  {
   "cell_type": "code",
   "execution_count": 43,
   "id": "4eb4d682",
   "metadata": {},
   "outputs": [],
   "source": [
    "x_list = []\n",
    "y_list = []\n",
    "for i in components:\n",
    "    x_list.append(i[0])\n",
    "    y_list.append(i[1])"
   ]
  },
  {
   "cell_type": "code",
   "execution_count": 62,
   "id": "dd844013",
   "metadata": {},
   "outputs": [
    {
     "data": {
      "text/plain": [
       "<matplotlib.collections.PathCollection at 0x23d7fe86010>"
      ]
     },
     "execution_count": 62,
     "metadata": {},
     "output_type": "execute_result"
    },
    {
     "data": {
      "image/png": "[encoded data removed]",
      "text/plain": [
       "<Figure size 640x480 with 1 Axes>"
      ]
     },
     "metadata": {},
     "output_type": "display_data"
    }
   ],
   "source": [
    "plt.scatter(x_list, y_list)"
   ]
  },
  {
   "cell_type": "code",
   "execution_count": 89,
   "id": "e74e8132",
   "metadata": {},
   "outputs": [
    {
     "name": "stdout",
     "output_type": "stream",
     "text": [
      "(19, 27)\n",
      "(11, 27)\n",
      "(19, 27)\n",
      "(2, 27)\n",
      "(21, 27)\n",
      "(17, 27)\n",
      "(11, 27)\n",
      "(14, 27)\n",
      "(6, 27)\n",
      "(16, 27)\n",
      "(8, 27)\n",
      "(7, 27)\n"
     ]
    },
    {
     "data": {
      "application/vnd.plotly.v1+json": {
       "config": {
        "plotlyServerURL": "https://plot.ly"
       },
       "data": [
        {
         "mode": "markers",
         "type": "scatter",
         "x": [
          5.210114811446343,
          -0.4728510756516797,
          -0.8603746113678938,
          1.136122540701641,
          -0.7427048012322042,
          -0.20533955778039756,
          -0.11586378419510165,
          0.02182134683970397,
          -0.16439352995194584,
          -0.48974803695183283,
          0.3492851969686509,
          -1.2699917603105615,
          -0.3189988462616398,
          -0.11835480413226934,
          -0.9659454582655566,
          -0.5175341390409511,
          -0.2964167226799338,
          0.21336667775910972,
          -0.39219344589347893
         ],
         "xaxis": "x",
         "y": [
          0.5169073441294096,
          -1.0497954976602777,
          1.244376446609422,
          -0.9692305724188455,
          -0.7260462710402031,
          1.0347435255175013,
          -0.6371030349245719,
          -1.3676518709615855,
          1.823768788423973,
          -1.2947059954282467,
          -0.8166517811124832,
          0.14961063589260526,
          0.050932400280153965,
          -0.019386583989313127,
          0.6309933373658192,
          0.30579159202292594,
          0.9577726548628086,
          -0.19306026686273267,
          0.35873514929364025
         ],
         "yaxis": "y"
        },
        {
         "mode": "markers",
         "type": "scatter",
         "x": [
          5.210114811446343,
          -0.4728510756516797,
          -0.8603746113678938,
          1.136122540701641,
          -0.7427048012322042,
          -0.20533955778039756,
          -0.11586378419510165,
          0.02182134683970397,
          -0.16439352995194584,
          -0.48974803695183283,
          0.3492851969686509,
          -1.2699917603105615,
          -0.3189988462616398,
          -0.11835480413226934,
          -0.9659454582655566,
          -0.5175341390409511,
          -0.2964167226799338,
          0.21336667775910972,
          -0.39219344589347893
         ],
         "xaxis": "x",
         "y": [
          0.5169073441294096,
          -1.0497954976602777,
          1.244376446609422,
          -0.9692305724188455,
          -0.7260462710402031,
          1.0347435255175013,
          -0.6371030349245719,
          -1.3676518709615855,
          1.823768788423973,
          -1.2947059954282467,
          -0.8166517811124832,
          0.14961063589260526,
          0.050932400280153965,
          -0.019386583989313127,
          0.6309933373658192,
          0.30579159202292594,
          0.9577726548628086,
          -0.19306026686273267,
          0.35873514929364025
         ],
         "yaxis": "y"
        },
        {
         "mode": "markers",
         "type": "scatter",
         "x": [
          0.3552655689048327,
          0.036986540967569266,
          -0.7512866010565359,
          0.7341453125828313,
          -0.06868619757798179,
          4.307446829618365,
          -0.7996026969129907,
          -0.3802805011440964,
          -1.1251017293122694,
          -1.0765140568765288,
          -1.232372469193195
         ],
         "xaxis": "x",
         "y": [
          -0.6061657434761347,
          -0.5693819692144481,
          0.1579833779285757,
          2.360861620718159,
          -0.12867179659543806,
          -0.586923900047573,
          0.7020419649053523,
          0.22960439933671528,
          -0.589900361866746,
          -0.4398839192021792,
          -0.5295636724862824
         ],
         "yaxis": "y"
        },
        {
         "mode": "markers",
         "type": "scatter",
         "x": [
          0.3552655689048327,
          0.036986540967569266,
          -0.7512866010565359,
          0.7341453125828313,
          -0.06868619757798179,
          4.307446829618365,
          -0.7996026969129907,
          -0.3802805011440964,
          -1.1251017293122694,
          -1.0765140568765288,
          -1.232372469193195
         ],
         "xaxis": "x",
         "y": [
          -0.6061657434761347,
          -0.5693819692144481,
          0.1579833779285757,
          2.360861620718159,
          -0.12867179659543806,
          -0.586923900047573,
          0.7020419649053523,
          0.22960439933671528,
          -0.589900361866746,
          -0.4398839192021792,
          -0.5295636724862824
         ],
         "yaxis": "y"
        },
        {
         "mode": "markers",
         "type": "scatter",
         "x": [
          0.31070110970288173,
          -0.43007108892966284,
          1.359906918723849,
          0.2688400790512804,
          -1.6009298305187125,
          0.34234294241403623,
          1.3041203581636944,
          0.3630076342977657,
          -0.5459105482218559,
          -2.1153157327161862,
          -0.6146134827899984,
          -2.137439034520853,
          1.4393094594034175,
          0.3902861779813899,
          -1.0481427376863088,
          -0.4513804310705264,
          1.2693150325675522,
          -1.1552003259929844,
          3.0511735001412195
         ],
         "xaxis": "x",
         "y": [
          0.7145254524294692,
          3.164370174662475,
          -0.26451215287549823,
          -1.0888118698291092,
          0.26835037717820953,
          -0.19765066820328014,
          0.2735789130726041,
          -0.2387615988057785,
          -0.8645514668400482,
          0.032843400085695286,
          -0.10130730096797154,
          -0.07874144153398467,
          -0.7441464582458841,
          0.2896626929486126,
          -0.40582853275612407,
          -0.45660345945509334,
          -1.0432048181855753,
          -0.18444627881328507,
          0.9252350361345697
         ],
         "yaxis": "y"
        },
        {
         "mode": "markers",
         "type": "scatter",
         "x": [
          0.31070110970288173,
          -0.43007108892966284,
          1.359906918723849,
          0.2688400790512804,
          -1.6009298305187125,
          0.34234294241403623,
          1.3041203581636944,
          0.3630076342977657,
          -0.5459105482218559,
          -2.1153157327161862,
          -0.6146134827899984,
          -2.137439034520853,
          1.4393094594034175,
          0.3902861779813899,
          -1.0481427376863088,
          -0.4513804310705264,
          1.2693150325675522,
          -1.1552003259929844,
          3.0511735001412195
         ],
         "xaxis": "x",
         "y": [
          0.7145254524294692,
          3.164370174662475,
          -0.26451215287549823,
          -1.0888118698291092,
          0.26835037717820953,
          -0.19765066820328014,
          0.2735789130726041,
          -0.2387615988057785,
          -0.8645514668400482,
          0.032843400085695286,
          -0.10130730096797154,
          -0.07874144153398467,
          -0.7441464582458841,
          0.2896626929486126,
          -0.40582853275612407,
          -0.45660345945509334,
          -1.0432048181855753,
          -0.18444627881328507,
          0.9252350361345697
         ],
         "yaxis": "y"
        },
        {
         "mode": "markers",
         "type": "scatter",
         "x": [
          3.6143690816171343,
          -3.614369081617132
         ],
         "xaxis": "x",
         "y": [
          8.857084252718444e-16,
          8.857084252718449e-16
         ],
         "yaxis": "y"
        },
        {
         "mode": "markers",
         "type": "scatter",
         "x": [
          3.6143690816171343,
          -3.614369081617132
         ],
         "xaxis": "x",
         "y": [
          8.857084252718444e-16,
          8.857084252718449e-16
         ],
         "yaxis": "y"
        },
        {
         "mode": "markers",
         "type": "scatter",
         "x": [
          -1.0443644068102007,
          -0.44489997766619155,
          0.1291156222695264,
          -1.6855738976179109,
          -0.37160183352037723,
          -0.7768504813517476,
          0.9834927280447989,
          1.1243707816671318,
          0.6762759900935414,
          -0.8447874435264807,
          0.8191944514064019,
          0.4182704599072949,
          1.9481509930249337,
          -1.7820958293304097,
          1.468382059915869,
          0.650421986946983,
          -1.3657299633616333,
          0.8966713625434158,
          0.23141042548157423,
          -0.02355695250181159,
          -1.0062960756147086
         ],
         "xaxis": "x",
         "y": [
          -0.3749500951200874,
          1.0190254495997109,
          2.9010627665440425,
          -0.3447385780613274,
          -0.6283494346513449,
          -0.7702390590536492,
          1.0148266022727952,
          -0.5744063164349789,
          -0.8577492344464106,
          0.48551512110038325,
          0.489174392926847,
          -0.473924595965204,
          -0.42604052027276473,
          0.5976251863469446,
          -0.5171446183740105,
          0.7971533766690312,
          -0.06184970346513865,
          -0.2556209093528728,
          -0.7168063181171345,
          -0.15719535397917062,
          -1.1453681581656583
         ],
         "yaxis": "y"
        },
        {
         "mode": "markers",
         "type": "scatter",
         "x": [
          -1.0443644068102007,
          -0.44489997766619155,
          0.1291156222695264,
          -1.6855738976179109,
          -0.37160183352037723,
          -0.7768504813517476,
          0.9834927280447989,
          1.1243707816671318,
          0.6762759900935414,
          -0.8447874435264807,
          0.8191944514064019,
          0.4182704599072949,
          1.9481509930249337,
          -1.7820958293304097,
          1.468382059915869,
          0.650421986946983,
          -1.3657299633616333,
          0.8966713625434158,
          0.23141042548157423,
          -0.02355695250181159,
          -1.0062960756147086
         ],
         "xaxis": "x",
         "y": [
          -0.3749500951200874,
          1.0190254495997109,
          2.9010627665440425,
          -0.3447385780613274,
          -0.6283494346513449,
          -0.7702390590536492,
          1.0148266022727952,
          -0.5744063164349789,
          -0.8577492344464106,
          0.48551512110038325,
          0.489174392926847,
          -0.473924595965204,
          -0.42604052027276473,
          0.5976251863469446,
          -0.5171446183740105,
          0.7971533766690312,
          -0.06184970346513865,
          -0.2556209093528728,
          -0.7168063181171345,
          -0.15719535397917062,
          -1.1453681581656583
         ],
         "yaxis": "y"
        },
        {
         "mode": "markers",
         "type": "scatter",
         "x": [
          -2.793567368186257,
          2.046888040583085,
          -2.2830768092959732,
          2.7422564006993846,
          -2.0009345565882177,
          0.005468873356805534,
          -2.231334362598552,
          3.6169902228467072,
          -2.6293217146307355,
          0.44416272157814757,
          -2.5537364557162765,
          3.1398799328203975,
          -1.8909193676035325,
          2.9837288601035024,
          -1.428674566180841,
          0.33164593183094815,
          2.500544216981409
         ],
         "xaxis": "x",
         "y": [
          -0.06420776432358506,
          -0.9383063392947264,
          0.03313763687552658,
          -1.237470404354943,
          0.2813885134368396,
          -0.5788945504514492,
          0.10141071763667397,
          -0.9985251151491878,
          0.13951896747241133,
          -0.5947432471669047,
          0.5074473369071038,
          5.441796924508752,
          0.2789204711348069,
          -0.7899295468784207,
          -0.10709814007268692,
          -0.4025357670906193,
          -1.0719096931895944
         ],
         "yaxis": "y"
        },
        {
         "mode": "markers",
         "type": "scatter",
         "x": [
          -2.793567368186257,
          2.046888040583085,
          -2.2830768092959732,
          2.7422564006993846,
          -2.0009345565882177,
          0.005468873356805534,
          -2.231334362598552,
          3.6169902228467072,
          -2.6293217146307355,
          0.44416272157814757,
          -2.5537364557162765,
          3.1398799328203975,
          -1.8909193676035325,
          2.9837288601035024,
          -1.428674566180841,
          0.33164593183094815,
          2.500544216981409
         ],
         "xaxis": "x",
         "y": [
          -0.06420776432358506,
          -0.9383063392947264,
          0.03313763687552658,
          -1.237470404354943,
          0.2813885134368396,
          -0.5788945504514492,
          0.10141071763667397,
          -0.9985251151491878,
          0.13951896747241133,
          -0.5947432471669047,
          0.5074473369071038,
          5.441796924508752,
          0.2789204711348069,
          -0.7899295468784207,
          -0.10709814007268692,
          -0.4025357670906193,
          -1.0719096931895944
         ],
         "yaxis": "y"
        },
        {
         "mode": "markers",
         "type": "scatter",
         "x": [
          3.1174367882656355,
          1.0061837032043235,
          -0.6591210096827749,
          1.9521850149832292,
          -0.5948022781884648,
          -1.1392260752321195,
          -0.8803779869856191,
          -0.8700152564185887,
          -0.846188906287766,
          -1.2227110911552876,
          0.1366370974974326
         ],
         "xaxis": "x",
         "y": [
          0.3379989497006708,
          -0.47509103113236867,
          0.9883775485458759,
          -0.49759959444747737,
          -0.5175505906903983,
          -0.5160658015136944,
          1.1773648027640518,
          -1.2239977691925685,
          1.5338785125580028,
          -1.1265244490018038,
          0.3192094224097089
         ],
         "yaxis": "y"
        },
        {
         "mode": "markers",
         "type": "scatter",
         "x": [
          3.1174367882656355,
          1.0061837032043235,
          -0.6591210096827749,
          1.9521850149832292,
          -0.5948022781884648,
          -1.1392260752321195,
          -0.8803779869856191,
          -0.8700152564185887,
          -0.846188906287766,
          -1.2227110911552876,
          0.1366370974974326
         ],
         "xaxis": "x",
         "y": [
          0.3379989497006708,
          -0.47509103113236867,
          0.9883775485458759,
          -0.49759959444747737,
          -0.5175505906903983,
          -0.5160658015136944,
          1.1773648027640518,
          -1.2239977691925685,
          1.5338785125580028,
          -1.1265244490018038,
          0.3192094224097089
         ],
         "yaxis": "y"
        },
        {
         "mode": "markers",
         "type": "scatter",
         "x": [
          1.178824224781843,
          -1.734461357083722,
          0.227605305560294,
          -2.0848149966089546,
          -0.15804334345623428,
          -0.6141794245523887,
          -2.0338137310643862,
          -0.07316506509037028,
          -1.5419322045995465,
          -0.7023787348088907,
          -1.1915468093553383,
          -0.4288504638666788,
          9.02259241866284,
          0.13416418148153164
         ],
         "xaxis": "x",
         "y": [
          -2.627422615718818,
          1.4463087839834,
          -2.0970159476531216,
          1.0955635512048276,
          -1.2310662613106302,
          -1.8021989219050272,
          2.8461200269108673,
          0.12766765041497896,
          2.547370604776995,
          0.37113989273587794,
          -1.3098144937731253,
          -1.3955617807998886,
          1.6449154392989649,
          0.38399407183470063
         ],
         "yaxis": "y"
        },
        {
         "mode": "markers",
         "type": "scatter",
         "x": [
          1.178824224781843,
          -1.734461357083722,
          0.227605305560294,
          -2.0848149966089546,
          -0.15804334345623428,
          -0.6141794245523887,
          -2.0338137310643862,
          -0.07316506509037028,
          -1.5419322045995465,
          -0.7023787348088907,
          -1.1915468093553383,
          -0.4288504638666788,
          9.02259241866284,
          0.13416418148153164
         ],
         "xaxis": "x",
         "y": [
          -2.627422615718818,
          1.4463087839834,
          -2.0970159476531216,
          1.0955635512048276,
          -1.2310662613106302,
          -1.8021989219050272,
          2.8461200269108673,
          0.12766765041497896,
          2.547370604776995,
          0.37113989273587794,
          -1.3098144937731253,
          -1.3955617807998886,
          1.6449154392989649,
          0.38399407183470063
         ],
         "yaxis": "y"
        },
        {
         "mode": "markers",
         "type": "scatter",
         "x": [
          -1.020489576308318,
          -0.49550165489121584,
          -0.14085756475299732,
          -0.731534175438127,
          0.7257201630029446,
          1.6626628083877135
         ],
         "xaxis": "x",
         "y": [
          1.0544854271120436,
          -0.008344739431304463,
          -0.3288144913325225,
          -0.7179455070174894,
          -0.5330199977471918,
          0.5336393084164649
         ],
         "yaxis": "y"
        },
        {
         "mode": "markers",
         "type": "scatter",
         "x": [
          -1.020489576308318,
          -0.49550165489121584,
          -0.14085756475299732,
          -0.731534175438127,
          0.7257201630029446,
          1.6626628083877135
         ],
         "xaxis": "x",
         "y": [
          1.0544854271120436,
          -0.008344739431304463,
          -0.3288144913325225,
          -0.7179455070174894,
          -0.5330199977471918,
          0.5336393084164649
         ],
         "yaxis": "y"
        },
        {
         "mode": "markers",
         "type": "scatter",
         "x": [
          -1.613343306997325,
          1.3757426814427984,
          -2.9918896058822297,
          2.1703120893785086,
          -1.6148562748754713,
          -2.5755764695197843,
          -2.427317163418324,
          -2.3022867182209787,
          3.1939121882680714,
          0.17433662012961787,
          0.2663999187938149,
          2.2931941792762225,
          0.18129802285388652,
          1.7697353054105576,
          -0.6111359038364494,
          2.711474437197087
         ],
         "xaxis": "x",
         "y": [
          -0.6850477362619579,
          0.9139405177721961,
          1.120929693460925,
          -1.215727586861926,
          -0.5751845788439192,
          -1.3137177946021825,
          0.25506704926799767,
          0.5983261471670618,
          -1.3128148048611916,
          -0.1773214939925527,
          -0.03482324881187031,
          0.6464417472676771,
          -1.023368926927767,
          4.695897116018639,
          -0.32246423661336715,
          -1.5701318631777599
         ],
         "yaxis": "y"
        },
        {
         "mode": "markers",
         "type": "scatter",
         "x": [
          -1.613343306997325,
          1.3757426814427984,
          -2.9918896058822297,
          2.1703120893785086,
          -1.6148562748754713,
          -2.5755764695197843,
          -2.427317163418324,
          -2.3022867182209787,
          3.1939121882680714,
          0.17433662012961787,
          0.2663999187938149,
          2.2931941792762225,
          0.18129802285388652,
          1.7697353054105576,
          -0.6111359038364494,
          2.711474437197087
         ],
         "xaxis": "x",
         "y": [
          -0.6850477362619579,
          0.9139405177721961,
          1.120929693460925,
          -1.215727586861926,
          -0.5751845788439192,
          -1.3137177946021825,
          0.25506704926799767,
          0.5983261471670618,
          -1.3128148048611916,
          -0.1773214939925527,
          -0.03482324881187031,
          0.6464417472676771,
          -1.023368926927767,
          4.695897116018639,
          -0.32246423661336715,
          -1.5701318631777599
         ],
         "yaxis": "y"
        },
        {
         "mode": "markers",
         "type": "scatter",
         "x": [
          -1.8908110592737624,
          12.299769632231586,
          -1.025814905720632,
          -1.7031078283079804,
          -1.7174908036365308,
          -2.003298051484429,
          -1.7406829388981016,
          -2.2185640449101487
         ],
         "xaxis": "x",
         "y": [
          0.15625950026810956,
          -0.24729079643897228,
          3.9104513168196338,
          -0.43282012587812224,
          -0.6416294732504989,
          -0.9276308612462769,
          -0.7969787749634419,
          -1.0203607853104275
         ],
         "yaxis": "y"
        },
        {
         "mode": "markers",
         "type": "scatter",
         "x": [
          -1.8908110592737624,
          12.299769632231586,
          -1.025814905720632,
          -1.7031078283079804,
          -1.7174908036365308,
          -2.003298051484429,
          -1.7406829388981016,
          -2.2185640449101487
         ],
         "xaxis": "x",
         "y": [
          0.15625950026810956,
          -0.24729079643897228,
          3.9104513168196338,
          -0.43282012587812224,
          -0.6416294732504989,
          -0.9276308612462769,
          -0.7969787749634419,
          -1.0203607853104275
         ],
         "yaxis": "y"
        },
        {
         "mode": "markers",
         "type": "scatter",
         "x": [
          0.5293252624357406,
          -1.0323565847166982,
          -0.8319957632108778,
          -1.4781425870786353,
          -0.9339774698007947,
          2.1453514101433986,
          1.6017957322278678
         ],
         "xaxis": "x",
         "y": [
          0.07040783901475814,
          -0.8823047661620785,
          -1.121268948599102,
          0.5104271649550286,
          1.2197447177739567,
          -0.5748619811000817,
          0.77785597411752
         ],
         "yaxis": "y"
        },
        {
         "mode": "markers",
         "type": "scatter",
         "x": [
          0.5293252624357406,
          -1.0323565847166982,
          -0.8319957632108778,
          -1.4781425870786353,
          -0.9339774698007947,
          2.1453514101433986,
          1.6017957322278678
         ],
         "xaxis": "x",
         "y": [
          0.07040783901475814,
          -0.8823047661620785,
          -1.121268948599102,
          0.5104271649550286,
          1.2197447177739567,
          -0.5748619811000817,
          0.77785597411752
         ],
         "yaxis": "y"
        }
       ],
       "layout": {
        "template": {
         "data": {
          "bar": [
           {
            "error_x": {
             "color": "#2a3f5f"
            },
            "error_y": {
             "color": "#2a3f5f"
            },
            "marker": {
             "line": {
              "color": "#E5ECF6",
              "width": 0.5
             },
             "pattern": {
              "fillmode": "overlay",
              "size": 10,
              "solidity": 0.2
             }
            },
            "type": "bar"
           }
          ],
          "barpolar": [
           {
            "marker": {
             "line": {
              "color": "#E5ECF6",
              "width": 0.5
             },
             "pattern": {
              "fillmode": "overlay",
              "size": 10,
              "solidity": 0.2
             }
            },
            "type": "barpolar"
           }
          ],
          "carpet": [
           {
            "aaxis": {
             "endlinecolor": "#2a3f5f",
             "gridcolor": "white",
             "linecolor": "white",
             "minorgridcolor": "white",
             "startlinecolor": "#2a3f5f"
            },
            "baxis": {
             "endlinecolor": "#2a3f5f",
             "gridcolor": "white",
             "linecolor": "white",
             "minorgridcolor": "white",
             "startlinecolor": "#2a3f5f"
            },
            "type": "carpet"
           }
          ],
          "choropleth": [
           {
            "colorbar": {
             "outlinewidth": 0,
             "ticks": ""
            },
            "type": "choropleth"
           }
          ],
          "contour": [
           {
            "colorbar": {
             "outlinewidth": 0,
             "ticks": ""
            },
            "colorscale": [
             [
              0,
              "#0d0887"
             ],
             [
              0.1111111111111111,
              "#46039f"
             ],
             [
              0.2222222222222222,
              "#7201a8"
             ],
             [
              0.3333333333333333,
              "#9c179e"
             ],
             [
              0.4444444444444444,
              "#bd3786"
             ],
             [
              0.5555555555555556,
              "#d8576b"
             ],
             [
              0.6666666666666666,
              "#ed7953"
             ],
             [
              0.7777777777777778,
              "#fb9f3a"
             ],
             [
              0.8888888888888888,
              "#fdca26"
             ],
             [
              1,
              "#f0f921"
             ]
            ],
            "type": "contour"
           }
          ],
          "contourcarpet": [
           {
            "colorbar": {
             "outlinewidth": 0,
             "ticks": ""
            },
            "type": "contourcarpet"
           }
          ],
          "heatmap": [
           {
            "colorbar": {
             "outlinewidth": 0,
             "ticks": ""
            },
            "colorscale": [
             [
              0,
              "#0d0887"
             ],
             [
              0.1111111111111111,
              "#46039f"
             ],
             [
              0.2222222222222222,
              "#7201a8"
             ],
             [
              0.3333333333333333,
              "#9c179e"
             ],
             [
              0.4444444444444444,
              "#bd3786"
             ],
             [
              0.5555555555555556,
              "#d8576b"
             ],
             [
              0.6666666666666666,
              "#ed7953"
             ],
             [
              0.7777777777777778,
              "#fb9f3a"
             ],
             [
              0.8888888888888888,
              "#fdca26"
             ],
             [
              1,
              "#f0f921"
             ]
            ],
            "type": "heatmap"
           }
          ],
          "heatmapgl": [
           {
            "colorbar": {
             "outlinewidth": 0,
             "ticks": ""
            },
            "colorscale": [
             [
              0,
              "#0d0887"
             ],
             [
              0.1111111111111111,
              "#46039f"
             ],
             [
              0.2222222222222222,
              "#7201a8"
             ],
             [
              0.3333333333333333,
              "#9c179e"
             ],
             [
              0.4444444444444444,
              "#bd3786"
             ],
             [
              0.5555555555555556,
              "#d8576b"
             ],
             [
              0.6666666666666666,
              "#ed7953"
             ],
             [
              0.7777777777777778,
              "#fb9f3a"
             ],
             [
              0.8888888888888888,
              "#fdca26"
             ],
             [
              1,
              "#f0f921"
             ]
            ],
            "type": "heatmapgl"
           }
          ],
          "histogram": [
           {
            "marker": {
             "pattern": {
              "fillmode": "overlay",
              "size": 10,
              "solidity": 0.2
             }
            },
            "type": "histogram"
           }
          ],
          "histogram2d": [
           {
            "colorbar": {
             "outlinewidth": 0,
             "ticks": ""
            },
            "colorscale": [
             [
              0,
              "#0d0887"
             ],
             [
              0.1111111111111111,
              "#46039f"
             ],
             [
              0.2222222222222222,
              "#7201a8"
             ],
             [
              0.3333333333333333,
              "#9c179e"
             ],
             [
              0.4444444444444444,
              "#bd3786"
             ],
             [
              0.5555555555555556,
              "#d8576b"
             ],
             [
              0.6666666666666666,
              "#ed7953"
             ],
             [
              0.7777777777777778,
              "#fb9f3a"
             ],
             [
              0.8888888888888888,
              "#fdca26"
             ],
             [
              1,
              "#f0f921"
             ]
            ],
            "type": "histogram2d"
           }
          ],
          "histogram2dcontour": [
           {
            "colorbar": {
             "outlinewidth": 0,
             "ticks": ""
            },
            "colorscale": [
             [
              0,
              "#0d0887"
             ],
             [
              0.1111111111111111,
              "#46039f"
             ],
             [
              0.2222222222222222,
              "#7201a8"
             ],
             [
              0.3333333333333333,
              "#9c179e"
             ],
             [
              0.4444444444444444,
              "#bd3786"
             ],
             [
              0.5555555555555556,
              "#d8576b"
             ],
             [
              0.6666666666666666,
              "#ed7953"
             ],
             [
              0.7777777777777778,
              "#fb9f3a"
             ],
             [
              0.8888888888888888,
              "#fdca26"
             ],
             [
              1,
              "#f0f921"
             ]
            ],
            "type": "histogram2dcontour"
           }
          ],
          "mesh3d": [
           {
            "colorbar": {
             "outlinewidth": 0,
             "ticks": ""
            },
            "type": "mesh3d"
           }
          ],
          "parcoords": [
           {
            "line": {
             "colorbar": {
              "outlinewidth": 0,
              "ticks": ""
             }
            },
            "type": "parcoords"
           }
          ],
          "pie": [
           {
            "automargin": true,
            "type": "pie"
           }
          ],
          "scatter": [
           {
            "fillpattern": {
             "fillmode": "overlay",
             "size": 10,
             "solidity": 0.2
            },
            "type": "scatter"
           }
          ],
          "scatter3d": [
           {
            "line": {
             "colorbar": {
              "outlinewidth": 0,
              "ticks": ""
             }
            },
            "marker": {
             "colorbar": {
              "outlinewidth": 0,
              "ticks": ""
             }
            },
            "type": "scatter3d"
           }
          ],
          "scattercarpet": [
           {
            "marker": {
             "colorbar": {
              "outlinewidth": 0,
              "ticks": ""
             }
            },
            "type": "scattercarpet"
           }
          ],
          "scattergeo": [
           {
            "marker": {
             "colorbar": {
              "outlinewidth": 0,
              "ticks": ""
             }
            },
            "type": "scattergeo"
           }
          ],
          "scattergl": [
           {
            "marker": {
             "colorbar": {
              "outlinewidth": 0,
              "ticks": ""
             }
            },
            "type": "scattergl"
           }
          ],
          "scattermapbox": [
           {
            "marker": {
             "colorbar": {
              "outlinewidth": 0,
              "ticks": ""
             }
            },
            "type": "scattermapbox"
           }
          ],
          "scatterpolar": [
           {
            "marker": {
             "colorbar": {
              "outlinewidth": 0,
              "ticks": ""
             }
            },
            "type": "scatterpolar"
           }
          ],
          "scatterpolargl": [
           {
            "marker": {
             "colorbar": {
              "outlinewidth": 0,
              "ticks": ""
             }
            },
            "type": "scatterpolargl"
           }
          ],
          "scatterternary": [
           {
            "marker": {
             "colorbar": {
              "outlinewidth": 0,
              "ticks": ""
             }
            },
            "type": "scatterternary"
           }
          ],
          "surface": [
           {
            "colorbar": {
             "outlinewidth": 0,
             "ticks": ""
            },
            "colorscale": [
             [
              0,
              "#0d0887"
             ],
             [
              0.1111111111111111,
              "#46039f"
             ],
             [
              0.2222222222222222,
              "#7201a8"
             ],
             [
              0.3333333333333333,
              "#9c179e"
             ],
             [
              0.4444444444444444,
              "#bd3786"
             ],
             [
              0.5555555555555556,
              "#d8576b"
             ],
             [
              0.6666666666666666,
              "#ed7953"
             ],
             [
              0.7777777777777778,
              "#fb9f3a"
             ],
             [
              0.8888888888888888,
              "#fdca26"
             ],
             [
              1,
              "#f0f921"
             ]
            ],
            "type": "surface"
           }
          ],
          "table": [
           {
            "cells": {
             "fill": {
              "color": "#EBF0F8"
             },
             "line": {
              "color": "white"
             }
            },
            "header": {
             "fill": {
              "color": "#C8D4E3"
             },
             "line": {
              "color": "white"
             }
            },
            "type": "table"
           }
          ]
         },
         "layout": {
          "annotationdefaults": {
           "arrowcolor": "#2a3f5f",
           "arrowhead": 0,
           "arrowwidth": 1
          },
          "autotypenumbers": "strict",
          "coloraxis": {
           "colorbar": {
            "outlinewidth": 0,
            "ticks": ""
           }
          },
          "colorscale": {
           "diverging": [
            [
             0,
             "#8e0152"
            ],
            [
             0.1,
             "#c51b7d"
            ],
            [
             0.2,
             "#de77ae"
            ],
            [
             0.3,
             "#f1b6da"
            ],
            [
             0.4,
             "#fde0ef"
            ],
            [
             0.5,
             "#f7f7f7"
            ],
            [
             0.6,
             "#e6f5d0"
            ],
            [
             0.7,
             "#b8e186"
            ],
            [
             0.8,
             "#7fbc41"
            ],
            [
             0.9,
             "#4d9221"
            ],
            [
             1,
             "#276419"
            ]
           ],
           "sequential": [
            [
             0,
             "#0d0887"
            ],
            [
             0.1111111111111111,
             "#46039f"
            ],
            [
             0.2222222222222222,
             "#7201a8"
            ],
            [
             0.3333333333333333,
             "#9c179e"
            ],
            [
             0.4444444444444444,
             "#bd3786"
            ],
            [
             0.5555555555555556,
             "#d8576b"
            ],
            [
             0.6666666666666666,
             "#ed7953"
            ],
            [
             0.7777777777777778,
             "#fb9f3a"
            ],
            [
             0.8888888888888888,
             "#fdca26"
            ],
            [
             1,
             "#f0f921"
            ]
           ],
           "sequentialminus": [
            [
             0,
             "#0d0887"
            ],
            [
             0.1111111111111111,
             "#46039f"
            ],
            [
             0.2222222222222222,
             "#7201a8"
            ],
            [
             0.3333333333333333,
             "#9c179e"
            ],
            [
             0.4444444444444444,
             "#bd3786"
            ],
            [
             0.5555555555555556,
             "#d8576b"
            ],
            [
             0.6666666666666666,
             "#ed7953"
            ],
            [
             0.7777777777777778,
             "#fb9f3a"
            ],
            [
             0.8888888888888888,
             "#fdca26"
            ],
            [
             1,
             "#f0f921"
            ]
           ]
          },
          "colorway": [
           "#636efa",
           "#EF553B",
           "#00cc96",
           "#ab63fa",
           "#FFA15A",
           "#19d3f3",
           "#FF6692",
           "#B6E880",
           "#FF97FF",
           "#FECB52"
          ],
          "font": {
           "color": "#2a3f5f"
          },
          "geo": {
           "bgcolor": "white",
           "lakecolor": "white",
           "landcolor": "#E5ECF6",
           "showlakes": true,
           "showland": true,
           "subunitcolor": "white"
          },
          "hoverlabel": {
           "align": "left"
          },
          "hovermode": "closest",
          "mapbox": {
           "style": "light"
          },
          "paper_bgcolor": "white",
          "plot_bgcolor": "#E5ECF6",
          "polar": {
           "angularaxis": {
            "gridcolor": "white",
            "linecolor": "white",
            "ticks": ""
           },
           "bgcolor": "#E5ECF6",
           "radialaxis": {
            "gridcolor": "white",
            "linecolor": "white",
            "ticks": ""
           }
          },
          "scene": {
           "xaxis": {
            "backgroundcolor": "#E5ECF6",
            "gridcolor": "white",
            "gridwidth": 2,
            "linecolor": "white",
            "showbackground": true,
            "ticks": "",
            "zerolinecolor": "white"
           },
           "yaxis": {
            "backgroundcolor": "#E5ECF6",
            "gridcolor": "white",
            "gridwidth": 2,
            "linecolor": "white",
            "showbackground": true,
            "ticks": "",
            "zerolinecolor": "white"
           },
           "zaxis": {
            "backgroundcolor": "#E5ECF6",
            "gridcolor": "white",
            "gridwidth": 2,
            "linecolor": "white",
            "showbackground": true,
            "ticks": "",
            "zerolinecolor": "white"
           }
          },
          "shapedefaults": {
           "line": {
            "color": "#2a3f5f"
           }
          },
          "ternary": {
           "aaxis": {
            "gridcolor": "white",
            "linecolor": "white",
            "ticks": ""
           },
           "baxis": {
            "gridcolor": "white",
            "linecolor": "white",
            "ticks": ""
           },
           "bgcolor": "#E5ECF6",
           "caxis": {
            "gridcolor": "white",
            "linecolor": "white",
            "ticks": ""
           }
          },
          "title": {
           "x": 0.05
          },
          "xaxis": {
           "automargin": true,
           "gridcolor": "white",
           "linecolor": "white",
           "ticks": "",
           "title": {
            "standoff": 15
           },
           "zerolinecolor": "white",
           "zerolinewidth": 2
          },
          "yaxis": {
           "automargin": true,
           "gridcolor": "white",
           "linecolor": "white",
           "ticks": "",
           "title": {
            "standoff": 15
           },
           "zerolinecolor": "white",
           "zerolinewidth": 2
          }
         }
        },
        "xaxis": {
         "anchor": "y",
         "domain": [
          0,
          0.45
         ]
        },
        "xaxis2": {
         "anchor": "y2",
         "domain": [
          0.55,
          1
         ]
        },
        "xaxis3": {
         "anchor": "y3",
         "domain": [
          0,
          0.45
         ]
        },
        "xaxis4": {
         "anchor": "y4",
         "domain": [
          0.55,
          1
         ]
        },
        "yaxis": {
         "anchor": "x",
         "domain": [
          0.575,
          1
         ]
        },
        "yaxis2": {
         "anchor": "x2",
         "domain": [
          0.575,
          1
         ]
        },
        "yaxis3": {
         "anchor": "x3",
         "domain": [
          0,
          0.425
         ]
        },
        "yaxis4": {
         "anchor": "x4",
         "domain": [
          0,
          0.425
         ]
        }
       }
      },
      "text/html": [
       "<div>                            <div id=\"f144cb84-c36b-49ea-ba20-b9035feb78bb\" class=\"plotly-graph-div\" style=\"height:525px; width:100%;\"></div>            <script type=\"text/javascript\">                require([\"plotly\"], function(Plotly) {                    window.PLOTLYENV=window.PLOTLYENV || {};                                    if (document.getElementById(\"f144cb84-c36b-49ea-ba20-b9035feb78bb\")) {                    Plotly.newPlot(                        \"f144cb84-c36b-49ea-ba20-b9035feb78bb\",                        [{\"mode\":\"markers\",\"x\":[5.210114811446343,-0.4728510756516797,-0.8603746113678938,1.136122540701641,-0.7427048012322042,-0.20533955778039756,-0.11586378419510165,0.02182134683970397,-0.16439352995194584,-0.48974803695183283,0.3492851969686509,-1.2699917603105615,-0.3189988462616398,-0.11835480413226934,-0.9659454582655566,-0.5175341390409511,-0.2964167226799338,0.21336667775910972,-0.39219344589347893],\"y\":[0.5169073441294096,-1.0497954976602777,1.244376446609422,-0.9692305724188455,-0.7260462710402031,1.0347435255175013,-0.6371030349245719,-1.3676518709615855,1.823768788423973,-1.2947059954282467,-0.8166517811124832,0.14961063589260526,0.050932400280153965,-0.019386583989313127,0.6309933373658192,0.30579159202292594,0.9577726548628086,-0.19306026686273267,0.35873514929364025],\"type\":\"scatter\",\"xaxis\":\"x\",\"yaxis\":\"y\"},{\"mode\":\"markers\",\"x\":[5.210114811446343,-0.4728510756516797,-0.8603746113678938,1.136122540701641,-0.7427048012322042,-0.20533955778039756,-0.11586378419510165,0.02182134683970397,-0.16439352995194584,-0.48974803695183283,0.3492851969686509,-1.2699917603105615,-0.3189988462616398,-0.11835480413226934,-0.9659454582655566,-0.5175341390409511,-0.2964167226799338,0.21336667775910972,-0.39219344589347893],\"y\":[0.5169073441294096,-1.0497954976602777,1.244376446609422,-0.9692305724188455,-0.7260462710402031,1.0347435255175013,-0.6371030349245719,-1.3676518709615855,1.823768788423973,-1.2947059954282467,-0.8166517811124832,0.14961063589260526,0.050932400280153965,-0.019386583989313127,0.6309933373658192,0.30579159202292594,0.9577726548628086,-0.19306026686273267,0.35873514929364025],\"type\":\"scatter\",\"xaxis\":\"x\",\"yaxis\":\"y\"},{\"mode\":\"markers\",\"x\":[0.3552655689048327,0.036986540967569266,-0.7512866010565359,0.7341453125828313,-0.06868619757798179,4.307446829618365,-0.7996026969129907,-0.3802805011440964,-1.1251017293122694,-1.0765140568765288,-1.232372469193195],\"y\":[-0.6061657434761347,-0.5693819692144481,0.1579833779285757,2.360861620718159,-0.12867179659543806,-0.586923900047573,0.7020419649053523,0.22960439933671528,-0.589900361866746,-0.4398839192021792,-0.5295636724862824],\"type\":\"scatter\",\"xaxis\":\"x\",\"yaxis\":\"y\"},{\"mode\":\"markers\",\"x\":[0.3552655689048327,0.036986540967569266,-0.7512866010565359,0.7341453125828313,-0.06868619757798179,4.307446829618365,-0.7996026969129907,-0.3802805011440964,-1.1251017293122694,-1.0765140568765288,-1.232372469193195],\"y\":[-0.6061657434761347,-0.5693819692144481,0.1579833779285757,2.360861620718159,-0.12867179659543806,-0.586923900047573,0.7020419649053523,0.22960439933671528,-0.589900361866746,-0.4398839192021792,-0.5295636724862824],\"type\":\"scatter\",\"xaxis\":\"x\",\"yaxis\":\"y\"},{\"mode\":\"markers\",\"x\":[0.31070110970288173,-0.43007108892966284,1.359906918723849,0.2688400790512804,-1.6009298305187125,0.34234294241403623,1.3041203581636944,0.3630076342977657,-0.5459105482218559,-2.1153157327161862,-0.6146134827899984,-2.137439034520853,1.4393094594034175,0.3902861779813899,-1.0481427376863088,-0.4513804310705264,1.2693150325675522,-1.1552003259929844,3.0511735001412195],\"y\":[0.7145254524294692,3.164370174662475,-0.26451215287549823,-1.0888118698291092,0.26835037717820953,-0.19765066820328014,0.2735789130726041,-0.2387615988057785,-0.8645514668400482,0.032843400085695286,-0.10130730096797154,-0.07874144153398467,-0.7441464582458841,0.2896626929486126,-0.40582853275612407,-0.45660345945509334,-1.0432048181855753,-0.18444627881328507,0.9252350361345697],\"type\":\"scatter\",\"xaxis\":\"x\",\"yaxis\":\"y\"},{\"mode\":\"markers\",\"x\":[0.31070110970288173,-0.43007108892966284,1.359906918723849,0.2688400790512804,-1.6009298305187125,0.34234294241403623,1.3041203581636944,0.3630076342977657,-0.5459105482218559,-2.1153157327161862,-0.6146134827899984,-2.137439034520853,1.4393094594034175,0.3902861779813899,-1.0481427376863088,-0.4513804310705264,1.2693150325675522,-1.1552003259929844,3.0511735001412195],\"y\":[0.7145254524294692,3.164370174662475,-0.26451215287549823,-1.0888118698291092,0.26835037717820953,-0.19765066820328014,0.2735789130726041,-0.2387615988057785,-0.8645514668400482,0.032843400085695286,-0.10130730096797154,-0.07874144153398467,-0.7441464582458841,0.2896626929486126,-0.40582853275612407,-0.45660345945509334,-1.0432048181855753,-0.18444627881328507,0.9252350361345697],\"type\":\"scatter\",\"xaxis\":\"x\",\"yaxis\":\"y\"},{\"mode\":\"markers\",\"x\":[3.6143690816171343,-3.614369081617132],\"y\":[8.857084252718444e-16,8.857084252718449e-16],\"type\":\"scatter\",\"xaxis\":\"x\",\"yaxis\":\"y\"},{\"mode\":\"markers\",\"x\":[3.6143690816171343,-3.614369081617132],\"y\":[8.857084252718444e-16,8.857084252718449e-16],\"type\":\"scatter\",\"xaxis\":\"x\",\"yaxis\":\"y\"},{\"mode\":\"markers\",\"x\":[-1.0443644068102007,-0.44489997766619155,0.1291156222695264,-1.6855738976179109,-0.37160183352037723,-0.7768504813517476,0.9834927280447989,1.1243707816671318,0.6762759900935414,-0.8447874435264807,0.8191944514064019,0.4182704599072949,1.9481509930249337,-1.7820958293304097,1.468382059915869,0.650421986946983,-1.3657299633616333,0.8966713625434158,0.23141042548157423,-0.02355695250181159,-1.0062960756147086],\"y\":[-0.3749500951200874,1.0190254495997109,2.9010627665440425,-0.3447385780613274,-0.6283494346513449,-0.7702390590536492,1.0148266022727952,-0.5744063164349789,-0.8577492344464106,0.48551512110038325,0.489174392926847,-0.473924595965204,-0.42604052027276473,0.5976251863469446,-0.5171446183740105,0.7971533766690312,-0.06184970346513865,-0.2556209093528728,-0.7168063181171345,-0.15719535397917062,-1.1453681581656583],\"type\":\"scatter\",\"xaxis\":\"x\",\"yaxis\":\"y\"},{\"mode\":\"markers\",\"x\":[-1.0443644068102007,-0.44489997766619155,0.1291156222695264,-1.6855738976179109,-0.37160183352037723,-0.7768504813517476,0.9834927280447989,1.1243707816671318,0.6762759900935414,-0.8447874435264807,0.8191944514064019,0.4182704599072949,1.9481509930249337,-1.7820958293304097,1.468382059915869,0.650421986946983,-1.3657299633616333,0.8966713625434158,0.23141042548157423,-0.02355695250181159,-1.0062960756147086],\"y\":[-0.3749500951200874,1.0190254495997109,2.9010627665440425,-0.3447385780613274,-0.6283494346513449,-0.7702390590536492,1.0148266022727952,-0.5744063164349789,-0.8577492344464106,0.48551512110038325,0.489174392926847,-0.473924595965204,-0.42604052027276473,0.5976251863469446,-0.5171446183740105,0.7971533766690312,-0.06184970346513865,-0.2556209093528728,-0.7168063181171345,-0.15719535397917062,-1.1453681581656583],\"type\":\"scatter\",\"xaxis\":\"x\",\"yaxis\":\"y\"},{\"mode\":\"markers\",\"x\":[-2.793567368186257,2.046888040583085,-2.2830768092959732,2.7422564006993846,-2.0009345565882177,0.005468873356805534,-2.231334362598552,3.6169902228467072,-2.6293217146307355,0.44416272157814757,-2.5537364557162765,3.1398799328203975,-1.8909193676035325,2.9837288601035024,-1.428674566180841,0.33164593183094815,2.500544216981409],\"y\":[-0.06420776432358506,-0.9383063392947264,0.03313763687552658,-1.237470404354943,0.2813885134368396,-0.5788945504514492,0.10141071763667397,-0.9985251151491878,0.13951896747241133,-0.5947432471669047,0.5074473369071038,5.441796924508752,0.2789204711348069,-0.7899295468784207,-0.10709814007268692,-0.4025357670906193,-1.0719096931895944],\"type\":\"scatter\",\"xaxis\":\"x\",\"yaxis\":\"y\"},{\"mode\":\"markers\",\"x\":[-2.793567368186257,2.046888040583085,-2.2830768092959732,2.7422564006993846,-2.0009345565882177,0.005468873356805534,-2.231334362598552,3.6169902228467072,-2.6293217146307355,0.44416272157814757,-2.5537364557162765,3.1398799328203975,-1.8909193676035325,2.9837288601035024,-1.428674566180841,0.33164593183094815,2.500544216981409],\"y\":[-0.06420776432358506,-0.9383063392947264,0.03313763687552658,-1.237470404354943,0.2813885134368396,-0.5788945504514492,0.10141071763667397,-0.9985251151491878,0.13951896747241133,-0.5947432471669047,0.5074473369071038,5.441796924508752,0.2789204711348069,-0.7899295468784207,-0.10709814007268692,-0.4025357670906193,-1.0719096931895944],\"type\":\"scatter\",\"xaxis\":\"x\",\"yaxis\":\"y\"},{\"mode\":\"markers\",\"x\":[3.1174367882656355,1.0061837032043235,-0.6591210096827749,1.9521850149832292,-0.5948022781884648,-1.1392260752321195,-0.8803779869856191,-0.8700152564185887,-0.846188906287766,-1.2227110911552876,0.1366370974974326],\"y\":[0.3379989497006708,-0.47509103113236867,0.9883775485458759,-0.49759959444747737,-0.5175505906903983,-0.5160658015136944,1.1773648027640518,-1.2239977691925685,1.5338785125580028,-1.1265244490018038,0.3192094224097089],\"type\":\"scatter\",\"xaxis\":\"x\",\"yaxis\":\"y\"},{\"mode\":\"markers\",\"x\":[3.1174367882656355,1.0061837032043235,-0.6591210096827749,1.9521850149832292,-0.5948022781884648,-1.1392260752321195,-0.8803779869856191,-0.8700152564185887,-0.846188906287766,-1.2227110911552876,0.1366370974974326],\"y\":[0.3379989497006708,-0.47509103113236867,0.9883775485458759,-0.49759959444747737,-0.5175505906903983,-0.5160658015136944,1.1773648027640518,-1.2239977691925685,1.5338785125580028,-1.1265244490018038,0.3192094224097089],\"type\":\"scatter\",\"xaxis\":\"x\",\"yaxis\":\"y\"},{\"mode\":\"markers\",\"x\":[1.178824224781843,-1.734461357083722,0.227605305560294,-2.0848149966089546,-0.15804334345623428,-0.6141794245523887,-2.0338137310643862,-0.07316506509037028,-1.5419322045995465,-0.7023787348088907,-1.1915468093553383,-0.4288504638666788,9.02259241866284,0.13416418148153164],\"y\":[-2.627422615718818,1.4463087839834,-2.0970159476531216,1.0955635512048276,-1.2310662613106302,-1.8021989219050272,2.8461200269108673,0.12766765041497896,2.547370604776995,0.37113989273587794,-1.3098144937731253,-1.3955617807998886,1.6449154392989649,0.38399407183470063],\"type\":\"scatter\",\"xaxis\":\"x\",\"yaxis\":\"y\"},{\"mode\":\"markers\",\"x\":[1.178824224781843,-1.734461357083722,0.227605305560294,-2.0848149966089546,-0.15804334345623428,-0.6141794245523887,-2.0338137310643862,-0.07316506509037028,-1.5419322045995465,-0.7023787348088907,-1.1915468093553383,-0.4288504638666788,9.02259241866284,0.13416418148153164],\"y\":[-2.627422615718818,1.4463087839834,-2.0970159476531216,1.0955635512048276,-1.2310662613106302,-1.8021989219050272,2.8461200269108673,0.12766765041497896,2.547370604776995,0.37113989273587794,-1.3098144937731253,-1.3955617807998886,1.6449154392989649,0.38399407183470063],\"type\":\"scatter\",\"xaxis\":\"x\",\"yaxis\":\"y\"},{\"mode\":\"markers\",\"x\":[-1.020489576308318,-0.49550165489121584,-0.14085756475299732,-0.731534175438127,0.7257201630029446,1.6626628083877135],\"y\":[1.0544854271120436,-0.008344739431304463,-0.3288144913325225,-0.7179455070174894,-0.5330199977471918,0.5336393084164649],\"type\":\"scatter\",\"xaxis\":\"x\",\"yaxis\":\"y\"},{\"mode\":\"markers\",\"x\":[-1.020489576308318,-0.49550165489121584,-0.14085756475299732,-0.731534175438127,0.7257201630029446,1.6626628083877135],\"y\":[1.0544854271120436,-0.008344739431304463,-0.3288144913325225,-0.7179455070174894,-0.5330199977471918,0.5336393084164649],\"type\":\"scatter\",\"xaxis\":\"x\",\"yaxis\":\"y\"},{\"mode\":\"markers\",\"x\":[-1.613343306997325,1.3757426814427984,-2.9918896058822297,2.1703120893785086,-1.6148562748754713,-2.5755764695197843,-2.427317163418324,-2.3022867182209787,3.1939121882680714,0.17433662012961787,0.2663999187938149,2.2931941792762225,0.18129802285388652,1.7697353054105576,-0.6111359038364494,2.711474437197087],\"y\":[-0.6850477362619579,0.9139405177721961,1.120929693460925,-1.215727586861926,-0.5751845788439192,-1.3137177946021825,0.25506704926799767,0.5983261471670618,-1.3128148048611916,-0.1773214939925527,-0.03482324881187031,0.6464417472676771,-1.023368926927767,4.695897116018639,-0.32246423661336715,-1.5701318631777599],\"type\":\"scatter\",\"xaxis\":\"x\",\"yaxis\":\"y\"},{\"mode\":\"markers\",\"x\":[-1.613343306997325,1.3757426814427984,-2.9918896058822297,2.1703120893785086,-1.6148562748754713,-2.5755764695197843,-2.427317163418324,-2.3022867182209787,3.1939121882680714,0.17433662012961787,0.2663999187938149,2.2931941792762225,0.18129802285388652,1.7697353054105576,-0.6111359038364494,2.711474437197087],\"y\":[-0.6850477362619579,0.9139405177721961,1.120929693460925,-1.215727586861926,-0.5751845788439192,-1.3137177946021825,0.25506704926799767,0.5983261471670618,-1.3128148048611916,-0.1773214939925527,-0.03482324881187031,0.6464417472676771,-1.023368926927767,4.695897116018639,-0.32246423661336715,-1.5701318631777599],\"type\":\"scatter\",\"xaxis\":\"x\",\"yaxis\":\"y\"},{\"mode\":\"markers\",\"x\":[-1.8908110592737624,12.299769632231586,-1.025814905720632,-1.7031078283079804,-1.7174908036365308,-2.003298051484429,-1.7406829388981016,-2.2185640449101487],\"y\":[0.15625950026810956,-0.24729079643897228,3.9104513168196338,-0.43282012587812224,-0.6416294732504989,-0.9276308612462769,-0.7969787749634419,-1.0203607853104275],\"type\":\"scatter\",\"xaxis\":\"x\",\"yaxis\":\"y\"},{\"mode\":\"markers\",\"x\":[-1.8908110592737624,12.299769632231586,-1.025814905720632,-1.7031078283079804,-1.7174908036365308,-2.003298051484429,-1.7406829388981016,-2.2185640449101487],\"y\":[0.15625950026810956,-0.24729079643897228,3.9104513168196338,-0.43282012587812224,-0.6416294732504989,-0.9276308612462769,-0.7969787749634419,-1.0203607853104275],\"type\":\"scatter\",\"xaxis\":\"x\",\"yaxis\":\"y\"},{\"mode\":\"markers\",\"x\":[0.5293252624357406,-1.0323565847166982,-0.8319957632108778,-1.4781425870786353,-0.9339774698007947,2.1453514101433986,1.6017957322278678],\"y\":[0.07040783901475814,-0.8823047661620785,-1.121268948599102,0.5104271649550286,1.2197447177739567,-0.5748619811000817,0.77785597411752],\"type\":\"scatter\",\"xaxis\":\"x\",\"yaxis\":\"y\"},{\"mode\":\"markers\",\"x\":[0.5293252624357406,-1.0323565847166982,-0.8319957632108778,-1.4781425870786353,-0.9339774698007947,2.1453514101433986,1.6017957322278678],\"y\":[0.07040783901475814,-0.8823047661620785,-1.121268948599102,0.5104271649550286,1.2197447177739567,-0.5748619811000817,0.77785597411752],\"type\":\"scatter\",\"xaxis\":\"x\",\"yaxis\":\"y\"}],                        {\"template\":{\"data\":{\"histogram2dcontour\":[{\"type\":\"histogram2dcontour\",\"colorbar\":{\"outlinewidth\":0,\"ticks\":\"\"},\"colorscale\":[[0.0,\"#0d0887\"],[0.1111111111111111,\"#46039f\"],[0.2222222222222222,\"#7201a8\"],[0.3333333333333333,\"#9c179e\"],[0.4444444444444444,\"#bd3786\"],[0.5555555555555556,\"#d8576b\"],[0.6666666666666666,\"#ed7953\"],[0.7777777777777778,\"#fb9f3a\"],[0.8888888888888888,\"#fdca26\"],[1.0,\"#f0f921\"]]}],\"choropleth\":[{\"type\":\"choropleth\",\"colorbar\":{\"outlinewidth\":0,\"ticks\":\"\"}}],\"histogram2d\":[{\"type\":\"histogram2d\",\"colorbar\":{\"outlinewidth\":0,\"ticks\":\"\"},\"colorscale\":[[0.0,\"#0d0887\"],[0.1111111111111111,\"#46039f\"],[0.2222222222222222,\"#7201a8\"],[0.3333333333333333,\"#9c179e\"],[0.4444444444444444,\"#bd3786\"],[0.5555555555555556,\"#d8576b\"],[0.6666666666666666,\"#ed7953\"],[0.7777777777777778,\"#fb9f3a\"],[0.8888888888888888,\"#fdca26\"],[1.0,\"#f0f921\"]]}],\"heatmap\":[{\"type\":\"heatmap\",\"colorbar\":{\"outlinewidth\":0,\"ticks\":\"\"},\"colorscale\":[[0.0,\"#0d0887\"],[0.1111111111111111,\"#46039f\"],[0.2222222222222222,\"#7201a8\"],[0.3333333333333333,\"#9c179e\"],[0.4444444444444444,\"#bd3786\"],[0.5555555555555556,\"#d8576b\"],[0.6666666666666666,\"#ed7953\"],[0.7777777777777778,\"#fb9f3a\"],[0.8888888888888888,\"#fdca26\"],[1.0,\"#f0f921\"]]}],\"heatmapgl\":[{\"type\":\"heatmapgl\",\"colorbar\":{\"outlinewidth\":0,\"ticks\":\"\"},\"colorscale\":[[0.0,\"#0d0887\"],[0.1111111111111111,\"#46039f\"],[0.2222222222222222,\"#7201a8\"],[0.3333333333333333,\"#9c179e\"],[0.4444444444444444,\"#bd3786\"],[0.5555555555555556,\"#d8576b\"],[0.6666666666666666,\"#ed7953\"],[0.7777777777777778,\"#fb9f3a\"],[0.8888888888888888,\"#fdca26\"],[1.0,\"#f0f921\"]]}],\"contourcarpet\":[{\"type\":\"contourcarpet\",\"colorbar\":{\"outlinewidth\":0,\"ticks\":\"\"}}],\"contour\":[{\"type\":\"contour\",\"colorbar\":{\"outlinewidth\":0,\"ticks\":\"\"},\"colorscale\":[[0.0,\"#0d0887\"],[0.1111111111111111,\"#46039f\"],[0.2222222222222222,\"#7201a8\"],[0.3333333333333333,\"#9c179e\"],[0.4444444444444444,\"#bd3786\"],[0.5555555555555556,\"#d8576b\"],[0.6666666666666666,\"#ed7953\"],[0.7777777777777778,\"#fb9f3a\"],[0.8888888888888888,\"#fdca26\"],[1.0,\"#f0f921\"]]}],\"surface\":[{\"type\":\"surface\",\"colorbar\":{\"outlinewidth\":0,\"ticks\":\"\"},\"colorscale\":[[0.0,\"#0d0887\"],[0.1111111111111111,\"#46039f\"],[0.2222222222222222,\"#7201a8\"],[0.3333333333333333,\"#9c179e\"],[0.4444444444444444,\"#bd3786\"],[0.5555555555555556,\"#d8576b\"],[0.6666666666666666,\"#ed7953\"],[0.7777777777777778,\"#fb9f3a\"],[0.8888888888888888,\"#fdca26\"],[1.0,\"#f0f921\"]]}],\"mesh3d\":[{\"type\":\"mesh3d\",\"colorbar\":{\"outlinewidth\":0,\"ticks\":\"\"}}],\"scatter\":[{\"fillpattern\":{\"fillmode\":\"overlay\",\"size\":10,\"solidity\":0.2},\"type\":\"scatter\"}],\"parcoords\":[{\"type\":\"parcoords\",\"line\":{\"colorbar\":{\"outlinewidth\":0,\"ticks\":\"\"}}}],\"scatterpolargl\":[{\"type\":\"scatterpolargl\",\"marker\":{\"colorbar\":{\"outlinewidth\":0,\"ticks\":\"\"}}}],\"bar\":[{\"error_x\":{\"color\":\"#2a3f5f\"},\"error_y\":{\"color\":\"#2a3f5f\"},\"marker\":{\"line\":{\"color\":\"#E5ECF6\",\"width\":0.5},\"pattern\":{\"fillmode\":\"overlay\",\"size\":10,\"solidity\":0.2}},\"type\":\"bar\"}],\"scattergeo\":[{\"type\":\"scattergeo\",\"marker\":{\"colorbar\":{\"outlinewidth\":0,\"ticks\":\"\"}}}],\"scatterpolar\":[{\"type\":\"scatterpolar\",\"marker\":{\"colorbar\":{\"outlinewidth\":0,\"ticks\":\"\"}}}],\"histogram\":[{\"marker\":{\"pattern\":{\"fillmode\":\"overlay\",\"size\":10,\"solidity\":0.2}},\"type\":\"histogram\"}],\"scattergl\":[{\"type\":\"scattergl\",\"marker\":{\"colorbar\":{\"outlinewidth\":0,\"ticks\":\"\"}}}],\"scatter3d\":[{\"type\":\"scatter3d\",\"line\":{\"colorbar\":{\"outlinewidth\":0,\"ticks\":\"\"}},\"marker\":{\"colorbar\":{\"outlinewidth\":0,\"ticks\":\"\"}}}],\"scattermapbox\":[{\"type\":\"scattermapbox\",\"marker\":{\"colorbar\":{\"outlinewidth\":0,\"ticks\":\"\"}}}],\"scatterternary\":[{\"type\":\"scatterternary\",\"marker\":{\"colorbar\":{\"outlinewidth\":0,\"ticks\":\"\"}}}],\"scattercarpet\":[{\"type\":\"scattercarpet\",\"marker\":{\"colorbar\":{\"outlinewidth\":0,\"ticks\":\"\"}}}],\"carpet\":[{\"aaxis\":{\"endlinecolor\":\"#2a3f5f\",\"gridcolor\":\"white\",\"linecolor\":\"white\",\"minorgridcolor\":\"white\",\"startlinecolor\":\"#2a3f5f\"},\"baxis\":{\"endlinecolor\":\"#2a3f5f\",\"gridcolor\":\"white\",\"linecolor\":\"white\",\"minorgridcolor\":\"white\",\"startlinecolor\":\"#2a3f5f\"},\"type\":\"carpet\"}],\"table\":[{\"cells\":{\"fill\":{\"color\":\"#EBF0F8\"},\"line\":{\"color\":\"white\"}},\"header\":{\"fill\":{\"color\":\"#C8D4E3\"},\"line\":{\"color\":\"white\"}},\"type\":\"table\"}],\"barpolar\":[{\"marker\":{\"line\":{\"color\":\"#E5ECF6\",\"width\":0.5},\"pattern\":{\"fillmode\":\"overlay\",\"size\":10,\"solidity\":0.2}},\"type\":\"barpolar\"}],\"pie\":[{\"automargin\":true,\"type\":\"pie\"}]},\"layout\":{\"autotypenumbers\":\"strict\",\"colorway\":[\"#636efa\",\"#EF553B\",\"#00cc96\",\"#ab63fa\",\"#FFA15A\",\"#19d3f3\",\"#FF6692\",\"#B6E880\",\"#FF97FF\",\"#FECB52\"],\"font\":{\"color\":\"#2a3f5f\"},\"hovermode\":\"closest\",\"hoverlabel\":{\"align\":\"left\"},\"paper_bgcolor\":\"white\",\"plot_bgcolor\":\"#E5ECF6\",\"polar\":{\"bgcolor\":\"#E5ECF6\",\"angularaxis\":{\"gridcolor\":\"white\",\"linecolor\":\"white\",\"ticks\":\"\"},\"radialaxis\":{\"gridcolor\":\"white\",\"linecolor\":\"white\",\"ticks\":\"\"}},\"ternary\":{\"bgcolor\":\"#E5ECF6\",\"aaxis\":{\"gridcolor\":\"white\",\"linecolor\":\"white\",\"ticks\":\"\"},\"baxis\":{\"gridcolor\":\"white\",\"linecolor\":\"white\",\"ticks\":\"\"},\"caxis\":{\"gridcolor\":\"white\",\"linecolor\":\"white\",\"ticks\":\"\"}},\"coloraxis\":{\"colorbar\":{\"outlinewidth\":0,\"ticks\":\"\"}},\"colorscale\":{\"sequential\":[[0.0,\"#0d0887\"],[0.1111111111111111,\"#46039f\"],[0.2222222222222222,\"#7201a8\"],[0.3333333333333333,\"#9c179e\"],[0.4444444444444444,\"#bd3786\"],[0.5555555555555556,\"#d8576b\"],[0.6666666666666666,\"#ed7953\"],[0.7777777777777778,\"#fb9f3a\"],[0.8888888888888888,\"#fdca26\"],[1.0,\"#f0f921\"]],\"sequentialminus\":[[0.0,\"#0d0887\"],[0.1111111111111111,\"#46039f\"],[0.2222222222222222,\"#7201a8\"],[0.3333333333333333,\"#9c179e\"],[0.4444444444444444,\"#bd3786\"],[0.5555555555555556,\"#d8576b\"],[0.6666666666666666,\"#ed7953\"],[0.7777777777777778,\"#fb9f3a\"],[0.8888888888888888,\"#fdca26\"],[1.0,\"#f0f921\"]],\"diverging\":[[0,\"#8e0152\"],[0.1,\"#c51b7d\"],[0.2,\"#de77ae\"],[0.3,\"#f1b6da\"],[0.4,\"#fde0ef\"],[0.5,\"#f7f7f7\"],[0.6,\"#e6f5d0\"],[0.7,\"#b8e186\"],[0.8,\"#7fbc41\"],[0.9,\"#4d9221\"],[1,\"#276419\"]]},\"xaxis\":{\"gridcolor\":\"white\",\"linecolor\":\"white\",\"ticks\":\"\",\"title\":{\"standoff\":15},\"zerolinecolor\":\"white\",\"automargin\":true,\"zerolinewidth\":2},\"yaxis\":{\"gridcolor\":\"white\",\"linecolor\":\"white\",\"ticks\":\"\",\"title\":{\"standoff\":15},\"zerolinecolor\":\"white\",\"automargin\":true,\"zerolinewidth\":2},\"scene\":{\"xaxis\":{\"backgroundcolor\":\"#E5ECF6\",\"gridcolor\":\"white\",\"linecolor\":\"white\",\"showbackground\":true,\"ticks\":\"\",\"zerolinecolor\":\"white\",\"gridwidth\":2},\"yaxis\":{\"backgroundcolor\":\"#E5ECF6\",\"gridcolor\":\"white\",\"linecolor\":\"white\",\"showbackground\":true,\"ticks\":\"\",\"zerolinecolor\":\"white\",\"gridwidth\":2},\"zaxis\":{\"backgroundcolor\":\"#E5ECF6\",\"gridcolor\":\"white\",\"linecolor\":\"white\",\"showbackground\":true,\"ticks\":\"\",\"zerolinecolor\":\"white\",\"gridwidth\":2}},\"shapedefaults\":{\"line\":{\"color\":\"#2a3f5f\"}},\"annotationdefaults\":{\"arrowcolor\":\"#2a3f5f\",\"arrowhead\":0,\"arrowwidth\":1},\"geo\":{\"bgcolor\":\"white\",\"landcolor\":\"#E5ECF6\",\"subunitcolor\":\"white\",\"showland\":true,\"showlakes\":true,\"lakecolor\":\"white\"},\"title\":{\"x\":0.05},\"mapbox\":{\"style\":\"light\"}}},\"xaxis\":{\"anchor\":\"y\",\"domain\":[0.0,0.45]},\"yaxis\":{\"anchor\":\"x\",\"domain\":[0.575,1.0]},\"xaxis2\":{\"anchor\":\"y2\",\"domain\":[0.55,1.0]},\"yaxis2\":{\"anchor\":\"x2\",\"domain\":[0.575,1.0]},\"xaxis3\":{\"anchor\":\"y3\",\"domain\":[0.0,0.45]},\"yaxis3\":{\"anchor\":\"x3\",\"domain\":[0.0,0.425]},\"xaxis4\":{\"anchor\":\"y4\",\"domain\":[0.55,1.0]},\"yaxis4\":{\"anchor\":\"x4\",\"domain\":[0.0,0.425]}},                        {\"responsive\": true}                    ).then(function(){\n",
       "                            \n",
       "var gd = document.getElementById('f144cb84-c36b-49ea-ba20-b9035feb78bb');\n",
       "var x = new MutationObserver(function (mutations, observer) {{\n",
       "        var display = window.getComputedStyle(gd).display;\n",
       "        if (!display || display === 'none') {{\n",
       "            console.log([gd, 'removed!']);\n",
       "            Plotly.purge(gd);\n",
       "            observer.disconnect();\n",
       "        }}\n",
       "}});\n",
       "\n",
       "// Listen for the removal of the full notebook cells\n",
       "var notebookContainer = gd.closest('#notebook-container');\n",
       "if (notebookContainer) {{\n",
       "    x.observe(notebookContainer, {childList: true});\n",
       "}}\n",
       "\n",
       "// Listen for the clearing of the current output cell\n",
       "var outputEl = gd.closest('.output');\n",
       "if (outputEl) {{\n",
       "    x.observe(outputEl, {childList: true});\n",
       "}}\n",
       "\n",
       "                        })                };                });            </script>        </div>"
      ]
     },
     "metadata": {},
     "output_type": "display_data"
    }
   ],
   "source": [
    "fig = make_subplots(rows=2, cols=2)\n",
    "\n",
    "for site in df['site_id'].unique():\n",
    "    subdf = df[df['site_id'] == site]\n",
    "    print(subdf.shape)\n",
    "    X = subdf[nutrients]\n",
    "    pca = PCA(n_components=2)\n",
    "    components = pca.fit_transform(X)\n",
    "    \n",
    "    x_list = []\n",
    "    y_list = []\n",
    "    for i in components:\n",
    "        x_list.append(i[0])\n",
    "        y_list.append(i[1])\n",
    "    \n",
    "    fig.add_trace(go.Scatter(x=x_list, y=y_list, mode='markers'), row=1, col=1)\n",
    "    fig.add_trace(go.Scatter(x=x_list, y=y_list, mode='markers'), row=1, col=1)\n",
    "#fig.add_trace(go.Scatter(x=series2['timestamp'], y=series2['data']), row=1, col=2)\n",
    "\n",
    "fig.show()"
   ]
  },
  {
   "cell_type": "code",
   "execution_count": null,
   "id": "e9e96636",
   "metadata": {},
   "outputs": [],
   "source": []
  }
 ],
 "metadata": {
  "kernelspec": {
   "display_name": "Python 3 (ipykernel)",
   "language": "python",
   "name": "python3"
  },
  "language_info": {
   "codemirror_mode": {
    "name": "ipython",
    "version": 3
   },
   "file_extension": ".py",
   "mimetype": "text/x-python",
   "name": "python",
   "nbconvert_exporter": "python",
   "pygments_lexer": "ipython3",
   "version": "3.11.4"
  }
 },
 "nbformat": 4,
 "nbformat_minor": 5
}
