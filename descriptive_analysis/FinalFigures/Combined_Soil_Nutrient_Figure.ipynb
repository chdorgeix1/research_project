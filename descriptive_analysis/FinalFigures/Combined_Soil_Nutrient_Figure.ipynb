{
 "cells": [
  {
   "cell_type": "code",
   "execution_count": 2,
   "id": "5cafb06d",
   "metadata": {},
   "outputs": [],
   "source": [
    "import numpy as np\n",
    "import sqlite3\n",
    "import plotly.express as px\n",
    "import pandas as pd\n",
    "import sqlite3\n",
    "from sklearn.decomposition import PCA\n",
    "from sklearn.preprocessing import StandardScaler\n",
    "import matplotlib.pyplot as plt\n",
    "import seaborn as sns\n",
    "from sklearn.manifold import TSNE\n",
    "import statsmodels\n",
    "import statsmodels.api as sm\n",
    "from statsmodels.multivariate.manova import MANOVA\n",
    "from useful_functions import *"
   ]
  },
  {
   "cell_type": "code",
   "execution_count": 3,
   "id": "2ba6ff2c",
   "metadata": {},
   "outputs": [
    {
     "data": {
      "text/plain": [
       "(160, 29)"
      ]
     },
     "execution_count": 3,
     "metadata": {},
     "output_type": "execute_result"
    }
   ],
   "source": [
    "tables_to_join = [\"tSoilNutrients\", \"tPlantDNA\", \"tSample\"]\n",
    "common_column = \"sample_id\"\n",
    "full_df = import_all_data(tables_to_join, common_column)\n",
    "full_df.shape"
   ]
  },
  {
   "cell_type": "code",
   "execution_count": 4,
   "id": "6dfa1cd2",
   "metadata": {},
   "outputs": [],
   "source": [
    "full_df = full_df.T.drop_duplicates().T"
   ]
  },
  {
   "cell_type": "code",
   "execution_count": 5,
   "id": "a2413daa",
   "metadata": {},
   "outputs": [
    {
     "data": {
      "text/html": [
       "<div>\n",
       "<style scoped>\n",
       "    .dataframe tbody tr th:only-of-type {\n",
       "        vertical-align: middle;\n",
       "    }\n",
       "\n",
       "    .dataframe tbody tr th {\n",
       "        vertical-align: top;\n",
       "    }\n",
       "\n",
       "    .dataframe thead th {\n",
       "        text-align: right;\n",
       "    }\n",
       "</style>\n",
       "<table border=\"1\" class=\"dataframe\">\n",
       "  <thead>\n",
       "    <tr style=\"text-align: right;\">\n",
       "      <th></th>\n",
       "      <th>sample_id</th>\n",
       "      <th>OM</th>\n",
       "      <th>ENR</th>\n",
       "      <th>CEC</th>\n",
       "      <th>pH</th>\n",
       "      <th>BpH</th>\n",
       "      <th>Phosphorus</th>\n",
       "      <th>Potassium</th>\n",
       "      <th>Calcium</th>\n",
       "      <th>Magnesium</th>\n",
       "      <th>...</th>\n",
       "      <th>V1</th>\n",
       "      <th>V2</th>\n",
       "      <th>species</th>\n",
       "      <th>PC1</th>\n",
       "      <th>PC2</th>\n",
       "      <th>PC3</th>\n",
       "      <th>PC4</th>\n",
       "      <th>PC5</th>\n",
       "      <th>site_id</th>\n",
       "      <th>collect_date</th>\n",
       "    </tr>\n",
       "  </thead>\n",
       "  <tbody>\n",
       "    <tr>\n",
       "      <th>0</th>\n",
       "      <td>RRL1</td>\n",
       "      <td>19.4</td>\n",
       "      <td>150.0</td>\n",
       "      <td>9.5</td>\n",
       "      <td>5.9</td>\n",
       "      <td>6.77</td>\n",
       "      <td>10.0</td>\n",
       "      <td>180.0</td>\n",
       "      <td>1200.0</td>\n",
       "      <td>153.0</td>\n",
       "      <td>...</td>\n",
       "      <td>0.753244</td>\n",
       "      <td>0.246756</td>\n",
       "      <td>exaltata</td>\n",
       "      <td>0.194769</td>\n",
       "      <td>0.048276</td>\n",
       "      <td>-0.02388</td>\n",
       "      <td>-0.017138</td>\n",
       "      <td>-0.039842</td>\n",
       "      <td>RRL</td>\n",
       "      <td>6/25/2021</td>\n",
       "    </tr>\n",
       "    <tr>\n",
       "      <th>1</th>\n",
       "      <td>RRL9</td>\n",
       "      <td>17.6</td>\n",
       "      <td>150.0</td>\n",
       "      <td>4.8</td>\n",
       "      <td>5.4</td>\n",
       "      <td>6.79</td>\n",
       "      <td>11.0</td>\n",
       "      <td>107.0</td>\n",
       "      <td>471.0</td>\n",
       "      <td>89.0</td>\n",
       "      <td>...</td>\n",
       "      <td>0.581366</td>\n",
       "      <td>0.418634</td>\n",
       "      <td>exaltata</td>\n",
       "      <td>0.097719</td>\n",
       "      <td>0.094733</td>\n",
       "      <td>-0.00656</td>\n",
       "      <td>0.012822</td>\n",
       "      <td>-0.022248</td>\n",
       "      <td>RRL</td>\n",
       "      <td>6/25/2021</td>\n",
       "    </tr>\n",
       "    <tr>\n",
       "      <th>2</th>\n",
       "      <td>RRL17</td>\n",
       "      <td>14.7</td>\n",
       "      <td>150.0</td>\n",
       "      <td>6.7</td>\n",
       "      <td>6.0</td>\n",
       "      <td>6.83</td>\n",
       "      <td>9.0</td>\n",
       "      <td>172.0</td>\n",
       "      <td>824.0</td>\n",
       "      <td>133.0</td>\n",
       "      <td>...</td>\n",
       "      <td>0.591513</td>\n",
       "      <td>0.408487</td>\n",
       "      <td>exaltata</td>\n",
       "      <td>0.099527</td>\n",
       "      <td>0.091996</td>\n",
       "      <td>0.004098</td>\n",
       "      <td>-0.021347</td>\n",
       "      <td>0.00719</td>\n",
       "      <td>RRL</td>\n",
       "      <td>6/25/2021</td>\n",
       "    </tr>\n",
       "    <tr>\n",
       "      <th>3</th>\n",
       "      <td>FRW3</td>\n",
       "      <td>11.2</td>\n",
       "      <td>150.0</td>\n",
       "      <td>15.0</td>\n",
       "      <td>6.4</td>\n",
       "      <td>6.8</td>\n",
       "      <td>25.0</td>\n",
       "      <td>133.0</td>\n",
       "      <td>2437.0</td>\n",
       "      <td>127.0</td>\n",
       "      <td>...</td>\n",
       "      <td>0.048066</td>\n",
       "      <td>0.951934</td>\n",
       "      <td>syriaca</td>\n",
       "      <td>-0.139465</td>\n",
       "      <td>-0.064022</td>\n",
       "      <td>-0.009963</td>\n",
       "      <td>-0.047536</td>\n",
       "      <td>0.024757</td>\n",
       "      <td>FRW</td>\n",
       "      <td>6/25/2021</td>\n",
       "    </tr>\n",
       "    <tr>\n",
       "      <th>4</th>\n",
       "      <td>FRW12</td>\n",
       "      <td>11.9</td>\n",
       "      <td>150.0</td>\n",
       "      <td>12.8</td>\n",
       "      <td>6.6</td>\n",
       "      <td>6.85</td>\n",
       "      <td>25.0</td>\n",
       "      <td>137.0</td>\n",
       "      <td>2098.0</td>\n",
       "      <td>130.0</td>\n",
       "      <td>...</td>\n",
       "      <td>0.003946</td>\n",
       "      <td>0.996054</td>\n",
       "      <td>syriaca</td>\n",
       "      <td>-0.155135</td>\n",
       "      <td>0.055455</td>\n",
       "      <td>0.009907</td>\n",
       "      <td>-0.043334</td>\n",
       "      <td>-0.009337</td>\n",
       "      <td>FRW</td>\n",
       "      <td>6/25/2021</td>\n",
       "    </tr>\n",
       "  </tbody>\n",
       "</table>\n",
       "<p>5 rows × 27 columns</p>\n",
       "</div>"
      ],
      "text/plain": [
       "  sample_id    OM    ENR   CEC   pH   BpH Phosphorus Potassium Calcium  \\\n",
       "0      RRL1  19.4  150.0   9.5  5.9  6.77       10.0     180.0  1200.0   \n",
       "1      RRL9  17.6  150.0   4.8  5.4  6.79       11.0     107.0   471.0   \n",
       "2     RRL17  14.7  150.0   6.7  6.0  6.83        9.0     172.0   824.0   \n",
       "3      FRW3  11.2  150.0  15.0  6.4   6.8       25.0     133.0  2437.0   \n",
       "4     FRW12  11.9  150.0  12.8  6.6  6.85       25.0     137.0  2098.0   \n",
       "\n",
       "  Magnesium  ...        V1        V2   species       PC1       PC2       PC3  \\\n",
       "0     153.0  ...  0.753244  0.246756  exaltata  0.194769  0.048276  -0.02388   \n",
       "1      89.0  ...  0.581366  0.418634  exaltata  0.097719  0.094733  -0.00656   \n",
       "2     133.0  ...  0.591513  0.408487  exaltata  0.099527  0.091996  0.004098   \n",
       "3     127.0  ...  0.048066  0.951934   syriaca -0.139465 -0.064022 -0.009963   \n",
       "4     130.0  ...  0.003946  0.996054   syriaca -0.155135  0.055455  0.009907   \n",
       "\n",
       "        PC4       PC5 site_id collect_date  \n",
       "0 -0.017138 -0.039842     RRL    6/25/2021  \n",
       "1  0.012822 -0.022248     RRL    6/25/2021  \n",
       "2 -0.021347   0.00719     RRL    6/25/2021  \n",
       "3 -0.047536  0.024757     FRW    6/25/2021  \n",
       "4 -0.043334 -0.009337     FRW    6/25/2021  \n",
       "\n",
       "[5 rows x 27 columns]"
      ]
     },
     "execution_count": 5,
     "metadata": {},
     "output_type": "execute_result"
    }
   ],
   "source": [
    "full_df.head()"
   ]
  },
  {
   "cell_type": "code",
   "execution_count": 6,
   "id": "3a61f04e",
   "metadata": {},
   "outputs": [],
   "source": [
    "df = full_df.copy()"
   ]
  },
  {
   "cell_type": "code",
   "execution_count": 7,
   "id": "0e8cb62f",
   "metadata": {},
   "outputs": [
    {
     "name": "stdout",
     "output_type": "stream",
     "text": [
      "Index(['OM', 'ENR', 'CEC', 'pH', 'BpH', 'Phosphorus', 'Potassium', 'Calcium',\n",
      "       'Magnesium', 'Sulfur', 'Sodium', 'Zinc', 'Manganese', 'Iron', 'Copper',\n",
      "       'Boron'],\n",
      "      dtype='object')\n"
     ]
    }
   ],
   "source": [
    "nutrients = df.columns.drop(['sample_id','site_id','collect_date','V1', 'V2', 'species', 'PC1', 'PC2', 'PC3', 'PC4', 'PC5'])\n",
    "print(nutrients)"
   ]
  },
  {
   "cell_type": "code",
   "execution_count": 8,
   "id": "1e5f697a",
   "metadata": {},
   "outputs": [
    {
     "data": {
      "text/plain": [
       "(151, 27)"
      ]
     },
     "execution_count": 8,
     "metadata": {},
     "output_type": "execute_result"
    }
   ],
   "source": [
    "df = df[df[\"species\"].isin(['syriaca','exaltata'])]\n",
    "df.shape"
   ]
  },
  {
   "cell_type": "code",
   "execution_count": 9,
   "id": "c5ff8bc4",
   "metadata": {},
   "outputs": [],
   "source": [
    "site_list = df['site_id']\n",
    "\n",
    "df['BGR'] = site_list\n",
    "\n",
    "df['BGR'].replace({'CMB': 1, 'FRW': 1, 'LFS': 1, 'LM': 0, 'MMP': 1, 'MKP': 2,\n",
    "                    'PNR': 2, 'PTW': 0, 'RF': 2, 'RGT': 0, 'RRL': 0, 'SGC': 0, 'SLG': 1,'HR': 3}, inplace=True) #\n",
    "df = df[df[\"BGR\"].isin([0,1,2,3])]\n",
    "\n",
    "df['BGR'] = df['BGR'].replace([0], 'Wintergreen')\n",
    "df['BGR'] = df['BGR'].replace([1], 'Cole Mountain')\n",
    "df['BGR'] = df['BGR'].replace([2], 'Blacksburg')\n",
    "df['BGR'] = df['BGR'].replace([3], 'HR')"
   ]
  },
  {
   "cell_type": "code",
   "execution_count": 10,
   "id": "7839c3b9",
   "metadata": {},
   "outputs": [
    {
     "data": {
      "text/plain": [
       "(151, 28)"
      ]
     },
     "execution_count": 10,
     "metadata": {},
     "output_type": "execute_result"
    }
   ],
   "source": [
    "df.shape"
   ]
  },
  {
   "cell_type": "markdown",
   "id": "9ba27003",
   "metadata": {},
   "source": [
    "### Combined Soil Nutrients PCA Figure"
   ]
  },
  {
   "cell_type": "code",
   "execution_count": 14,
   "id": "b94d5d46",
   "metadata": {},
   "outputs": [],
   "source": [
    "df[nutrients] = StandardScaler().fit_transform(df[nutrients])  "
   ]
  },
  {
   "cell_type": "code",
   "execution_count": 15,
   "id": "a14d8eeb",
   "metadata": {},
   "outputs": [
    {
     "data": {
      "application/vnd.plotly.v1+json": {
       "config": {
        "plotlyServerURL": "https://plot.ly"
       },
       "data": [
        {
         "hovertemplate": "color=RRL<br>0=%{x}<br>1=%{y}<extra></extra>",
         "legendgroup": "RRL",
         "marker": {
          "color": "#636efa",
          "symbol": "circle"
         },
         "mode": "markers",
         "name": "RRL",
         "orientation": "v",
         "showlegend": true,
         "type": "scatter",
         "x": [
          0.5416762396503928,
          -1.813921190599267,
          -1.058981343210037,
          -0.1877217339212708,
          -1.9563811978656351,
          -0.3841637861958112,
          -0.9778637347578057,
          -1.113814800003713,
          -0.49785455975402915,
          -1.4227489980239467,
          -0.611963580368639,
          -2.551476927607921,
          -0.7080106439988341,
          -1.0502537930068818,
          -1.759108852431483,
          -1.3633398869977542,
          -0.9118659817101612,
          -0.7607981513797852,
          -1.6076449441869907
         ],
         "xaxis": "x",
         "y": [
          -3.074936296766575,
          -2.7241545478012226,
          -2.575438133703954,
          -2.551119206306834,
          -2.937177625705619,
          -2.6301805966354688,
          -2.1450327821740136,
          -2.120854248270912,
          -3.0272726194911543,
          -1.6016134627757588,
          -2.1909191910549377,
          -2.475378178238026,
          -1.6592991199067257,
          -2.4990610356606164,
          -3.1993000173938726,
          -2.9453588225094043,
          -2.525930222617439,
          -2.841968363776655,
          -2.5274886099623646
         ],
         "yaxis": "y"
        },
        {
         "hovertemplate": "color=FRW<br>0=%{x}<br>1=%{y}<extra></extra>",
         "legendgroup": "FRW",
         "marker": {
          "color": "#EF553B",
          "symbol": "circle"
         },
         "mode": "markers",
         "name": "FRW",
         "orientation": "v",
         "showlegend": true,
         "type": "scatter",
         "x": [
          1.8578277187997898,
          1.5348531906752143,
          2.1430012222913004,
          2.5403569033296147,
          1.5459217965054959,
          3.0508844416925975,
          1.1366869091000322,
          1.3610880541056676,
          1.4765634497492204,
          1.5024052744419156,
          2.358769290212103
         ],
         "xaxis": "x",
         "y": [
          -1.3358020899822238,
          -1.7189424383017442,
          -1.380075773456604,
          -1.5479422047814742,
          -1.1194907221197261,
          -1.6053638810134265,
          -1.7195826026156353,
          -1.6807858351767941,
          -2.165056692974259,
          -2.0629431385693384,
          -1.8465002399168955
         ],
         "yaxis": "y"
        },
        {
         "hovertemplate": "color=MMP<br>0=%{x}<br>1=%{y}<extra></extra>",
         "legendgroup": "MMP",
         "marker": {
          "color": "#00cc96",
          "symbol": "circle"
         },
         "mode": "markers",
         "name": "MMP",
         "orientation": "v",
         "showlegend": true,
         "type": "scatter",
         "x": [
          -0.32993145908433424,
          -1.4598906614563236,
          0.4998690046750386,
          -0.9596315758426458,
          -2.219431723393377,
          -0.4177835600675277,
          -0.08833153693459947,
          -0.26717471119206765,
          -1.083244013480949,
          -2.6020111280893823,
          -1.5994051246038476,
          -2.459333973820203,
          0.37225572926927186,
          -0.5812426519773253,
          -1.6399542944618104,
          -1.2426539927674813,
          0.03643118608418397,
          -1.620156960213852,
          1.226114254947222
         ],
         "xaxis": "x",
         "y": [
          2.1447012902248965,
          3.445467240941864,
          1.995866849009662,
          1.52786791523831,
          1.3540590849323426,
          1.5968384093059325,
          2.8838520173721918,
          1.3377020144687795,
          0.8999012075967371,
          1.1073821032325608,
          1.6680503932583604,
          0.6922491749307992,
          1.901284190081983,
          2.0770261039693296,
          0.9157269383203186,
          1.231288141983034,
          1.554909189102093,
          0.9338459082606596,
          3.6156320853034734
         ],
         "yaxis": "y"
        },
        {
         "hovertemplate": "color=PNR<br>0=%{x}<br>1=%{y}<extra></extra>",
         "legendgroup": "PNR",
         "marker": {
          "color": "#ab63fa",
          "symbol": "circle"
         },
         "mode": "markers",
         "name": "PNR",
         "orientation": "v",
         "showlegend": true,
         "type": "scatter",
         "x": [
          3.1576431733715418,
          0.9242768574921376
         ],
         "xaxis": "x",
         "y": [
          -1.4593239082829805,
          -1.8020143687395582
         ],
         "yaxis": "y"
        },
        {
         "hovertemplate": "color=CMB<br>0=%{x}<br>1=%{y}<extra></extra>",
         "legendgroup": "CMB",
         "marker": {
          "color": "#FFA15A",
          "symbol": "circle"
         },
         "mode": "markers",
         "name": "CMB",
         "orientation": "v",
         "showlegend": true,
         "type": "scatter",
         "x": [
          -2.900433346965583,
          -2.3228212128611765,
          -1.6263430290341692,
          -3.158215816153323,
          -2.2295893898589423,
          -2.2742752829232353,
          -1.3624109393797648,
          -0.9870268583089272,
          -1.4197459969123636,
          -2.552666939699014,
          -1.4406530675833173,
          -1.8041119875154303,
          -0.4110693798319679,
          -3.2786129476656893,
          -0.6413768448666114,
          -1.2852149080267765,
          -3.1765727723599806,
          -1.0582953641220063,
          -2.029417973394045,
          -1.9959484430650472,
          -2.6983798323053954
         ],
         "xaxis": "x",
         "y": [
          1.1554046326441292,
          2.2997501546885553,
          2.491897890566808,
          1.1858883336411692,
          1.108313613594897,
          0.4881428135853471,
          2.114687639252496,
          1.2626889112742037,
          1.0182228180124075,
          1.641636893049701,
          1.8545283684090954,
          1.047555638613163,
          1.6686524909549312,
          1.6034945051068419,
          1.4061016270748796,
          1.1867928412372704,
          1.5283955284710584,
          1.098098263212142,
          0.874635226241097,
          1.2483421458461297,
          0.2397693168986721
         ],
         "yaxis": "y"
        },
        {
         "hovertemplate": "color=SLG<br>0=%{x}<br>1=%{y}<extra></extra>",
         "legendgroup": "SLG",
         "marker": {
          "color": "#19d3f3",
          "symbol": "circle"
         },
         "mode": "markers",
         "name": "SLG",
         "orientation": "v",
         "showlegend": true,
         "type": "scatter",
         "x": [
          -2.6493209369085116,
          2.0791981584861867,
          -2.1655749583617423,
          2.7295883513185015,
          -2.0198591109445685,
          0.11469095139386545,
          -2.2237452371457773,
          3.487028699429885,
          -2.593885461827069,
          0.5538833331956498,
          -2.4220703689029834,
          3.2573330137598955,
          -1.8773805757859063,
          2.878613029881414,
          -1.4052794295975897,
          0.41890223079119354,
          2.394973406834753
         ],
         "xaxis": "x",
         "y": [
          -1.6771871572715855,
          -0.8868302613414167,
          -1.1571519114421032,
          -1.263149749307354,
          -0.7445903546105039,
          -2.03813197449272,
          -0.8723699738721274,
          -0.48441278411772615,
          -1.205181921395908,
          -1.405198464134742,
          -1.4534627792961743,
          -2.0820453707948485,
          -1.3917497517122819,
          -1.0116249751362925,
          -0.9297531448977475,
          -1.572542070091049,
          -0.5670756253414411
         ],
         "yaxis": "y"
        },
        {
         "hovertemplate": "color=RF<br>0=%{x}<br>1=%{y}<extra></extra>",
         "legendgroup": "RF",
         "marker": {
          "color": "#FF6692",
          "symbol": "circle"
         },
         "mode": "markers",
         "name": "RF",
         "orientation": "v",
         "showlegend": true,
         "type": "scatter",
         "x": [
          -2.6812994820795226,
          -1.0204599284175087,
          -1.1207042712183823,
          -1.7492512122287296,
          -0.3575599203501022,
          0.11237571572486472,
          -0.9799267535684872,
          0.3774854253759621,
          -1.252115412329852,
          0.565248876589005,
          -1.2169062454742636
         ],
         "xaxis": "x",
         "y": [
          -1.2834480074248058,
          -0.7332377074812065,
          0.30010546682402645,
          -1.5799260493798235,
          -0.6628143561488542,
          0.04143486039784921,
          0.40034167648777585,
          -0.9292373142760604,
          0.47824630044269534,
          0.20726160959873435,
          -0.34555757383222785
         ],
         "yaxis": "y"
        },
        {
         "hovertemplate": "color=LFS<br>0=%{x}<br>1=%{y}<extra></extra>",
         "legendgroup": "LFS",
         "marker": {
          "color": "#B6E880",
          "symbol": "circle"
         },
         "mode": "markers",
         "name": "LFS",
         "orientation": "v",
         "showlegend": true,
         "type": "scatter",
         "x": [
          -1.8559662893758038,
          1.305888976561753,
          -0.5568852539393703,
          1.9410148418785773,
          0.05183549752816803,
          0.23250611150393832,
          2.552749532203298,
          0.2176352327645338,
          2.4307881852242725,
          0.8939869683484031,
          0.055683892604318164,
          -0.5682672827505023,
          -3.792780678464536,
          0.26359678176313145
         ],
         "xaxis": "x",
         "y": [
          3.056957765974032,
          5.0540953149544645,
          3.2318399435624863,
          4.192671800386221,
          3.1737243991722135,
          3.4180934317526606,
          5.1712632528377505,
          3.7229048757843786,
          4.31871753556652,
          4.039037902973193,
          4.939661813450154,
          4.345569390927328,
          -2.445683583635679,
          3.718318969155486
         ],
         "yaxis": "y"
        },
        {
         "hovertemplate": "color=PTW<br>0=%{x}<br>1=%{y}<extra></extra>",
         "legendgroup": "PTW",
         "marker": {
          "color": "#FF97FF",
          "symbol": "circle"
         },
         "mode": "markers",
         "name": "PTW",
         "orientation": "v",
         "showlegend": true,
         "type": "scatter",
         "x": [
          -2.428528917663492,
          -1.8529077370560396,
          -1.214298864489733,
          -1.3532503809711587,
          -0.8350741853088522,
          -1.1521969517684214
         ],
         "xaxis": "x",
         "y": [
          -1.7605751015356583,
          -2.1812923862875753,
          -2.2092821459839325,
          -2.1920690574860426,
          -1.3826783033747385,
          -1.2618225844323756
         ],
         "yaxis": "y"
        },
        {
         "hovertemplate": "color=LM<br>0=%{x}<br>1=%{y}<extra></extra>",
         "legendgroup": "LM",
         "marker": {
          "color": "#FECB52",
          "symbol": "circle"
         },
         "mode": "markers",
         "name": "LM",
         "orientation": "v",
         "showlegend": true,
         "type": "scatter",
         "x": [
          1.4684534118039767,
          1.2985210719300138,
          2.3675742649043174,
          -0.3522635940368176,
          1.1191879421850304,
          1.5524658441843682,
          2.1197195500330466,
          1.5165037785987059,
          -0.6209358025349794,
          0.8588984343390491,
          0.07290047125225259,
          -0.30376634583490775,
          0.5060657357764056,
          0.6360749271123048,
          0.7641314108094293,
          -0.5555383890783292
         ],
         "xaxis": "x",
         "y": [
          0.4887159630296629,
          0.3087166988893102,
          0.658245934906066,
          -0.723771841300866,
          -0.08786423807367316,
          1.6066946846415122,
          0.34444135954116234,
          1.288548718047561,
          -2.1279730275596367,
          -0.4361976268313784,
          -0.476117945391578,
          -0.4458666561401465,
          -0.4847344694666965,
          0.21065928815688462,
          0.4175739542937405,
          -0.8635264943657273
         ],
         "yaxis": "y"
        },
        {
         "hovertemplate": "color=MKP<br>0=%{x}<br>1=%{y}<extra></extra>",
         "legendgroup": "MKP",
         "marker": {
          "color": "#636efa",
          "symbol": "circle"
         },
         "mode": "markers",
         "name": "MKP",
         "orientation": "v",
         "showlegend": true,
         "type": "scatter",
         "x": [
          5.9678059830000105,
          4.521465795010151,
          4.640402125040477,
          3.7889583287584747,
          4.458412479166267,
          3.9267577073099234,
          4.482208581043248,
          4.048119242878431
         ],
         "xaxis": "x",
         "y": [
          -0.14424940858034643,
          0.1389334491796283,
          1.4045085746481478,
          -1.0476273420269377,
          -0.6197273997860949,
          -1.246780081438188,
          -0.556949210629517,
          -1.193299710501865
         ],
         "yaxis": "y"
        },
        {
         "hovertemplate": "color=RGT<br>0=%{x}<br>1=%{y}<extra></extra>",
         "legendgroup": "RGT",
         "marker": {
          "color": "#EF553B",
          "symbol": "circle"
         },
         "mode": "markers",
         "name": "RGT",
         "orientation": "v",
         "showlegend": true,
         "type": "scatter",
         "x": [
          3.006553244121942,
          2.1817628212916484,
          2.479717776795204,
          1.2603124440766484,
          1.4600441429012556,
          4.621001978304997,
          3.833622382470516
         ],
         "xaxis": "x",
         "y": [
          -0.17773784864449851,
          -0.6306147863758446,
          -0.4312458970155618,
          -0.6265343376094372,
          -0.5707662280502799,
          0.10001084583810045,
          0.11402827567744415
         ],
         "yaxis": "y"
        }
       ],
       "layout": {
        "legend": {
         "title": {
          "text": "color"
         },
         "tracegroupgap": 0
        },
        "margin": {
         "t": 60
        },
        "template": {
         "data": {
          "bar": [
           {
            "error_x": {
             "color": "#2a3f5f"
            },
            "error_y": {
             "color": "#2a3f5f"
            },
            "marker": {
             "line": {
              "color": "#E5ECF6",
              "width": 0.5
             },
             "pattern": {
              "fillmode": "overlay",
              "size": 10,
              "solidity": 0.2
             }
            },
            "type": "bar"
           }
          ],
          "barpolar": [
           {
            "marker": {
             "line": {
              "color": "#E5ECF6",
              "width": 0.5
             },
             "pattern": {
              "fillmode": "overlay",
              "size": 10,
              "solidity": 0.2
             }
            },
            "type": "barpolar"
           }
          ],
          "carpet": [
           {
            "aaxis": {
             "endlinecolor": "#2a3f5f",
             "gridcolor": "white",
             "linecolor": "white",
             "minorgridcolor": "white",
             "startlinecolor": "#2a3f5f"
            },
            "baxis": {
             "endlinecolor": "#2a3f5f",
             "gridcolor": "white",
             "linecolor": "white",
             "minorgridcolor": "white",
             "startlinecolor": "#2a3f5f"
            },
            "type": "carpet"
           }
          ],
          "choropleth": [
           {
            "colorbar": {
             "outlinewidth": 0,
             "ticks": ""
            },
            "type": "choropleth"
           }
          ],
          "contour": [
           {
            "colorbar": {
             "outlinewidth": 0,
             "ticks": ""
            },
            "colorscale": [
             [
              0,
              "#0d0887"
             ],
             [
              0.1111111111111111,
              "#46039f"
             ],
             [
              0.2222222222222222,
              "#7201a8"
             ],
             [
              0.3333333333333333,
              "#9c179e"
             ],
             [
              0.4444444444444444,
              "#bd3786"
             ],
             [
              0.5555555555555556,
              "#d8576b"
             ],
             [
              0.6666666666666666,
              "#ed7953"
             ],
             [
              0.7777777777777778,
              "#fb9f3a"
             ],
             [
              0.8888888888888888,
              "#fdca26"
             ],
             [
              1,
              "#f0f921"
             ]
            ],
            "type": "contour"
           }
          ],
          "contourcarpet": [
           {
            "colorbar": {
             "outlinewidth": 0,
             "ticks": ""
            },
            "type": "contourcarpet"
           }
          ],
          "heatmap": [
           {
            "colorbar": {
             "outlinewidth": 0,
             "ticks": ""
            },
            "colorscale": [
             [
              0,
              "#0d0887"
             ],
             [
              0.1111111111111111,
              "#46039f"
             ],
             [
              0.2222222222222222,
              "#7201a8"
             ],
             [
              0.3333333333333333,
              "#9c179e"
             ],
             [
              0.4444444444444444,
              "#bd3786"
             ],
             [
              0.5555555555555556,
              "#d8576b"
             ],
             [
              0.6666666666666666,
              "#ed7953"
             ],
             [
              0.7777777777777778,
              "#fb9f3a"
             ],
             [
              0.8888888888888888,
              "#fdca26"
             ],
             [
              1,
              "#f0f921"
             ]
            ],
            "type": "heatmap"
           }
          ],
          "heatmapgl": [
           {
            "colorbar": {
             "outlinewidth": 0,
             "ticks": ""
            },
            "colorscale": [
             [
              0,
              "#0d0887"
             ],
             [
              0.1111111111111111,
              "#46039f"
             ],
             [
              0.2222222222222222,
              "#7201a8"
             ],
             [
              0.3333333333333333,
              "#9c179e"
             ],
             [
              0.4444444444444444,
              "#bd3786"
             ],
             [
              0.5555555555555556,
              "#d8576b"
             ],
             [
              0.6666666666666666,
              "#ed7953"
             ],
             [
              0.7777777777777778,
              "#fb9f3a"
             ],
             [
              0.8888888888888888,
              "#fdca26"
             ],
             [
              1,
              "#f0f921"
             ]
            ],
            "type": "heatmapgl"
           }
          ],
          "histogram": [
           {
            "marker": {
             "pattern": {
              "fillmode": "overlay",
              "size": 10,
              "solidity": 0.2
             }
            },
            "type": "histogram"
           }
          ],
          "histogram2d": [
           {
            "colorbar": {
             "outlinewidth": 0,
             "ticks": ""
            },
            "colorscale": [
             [
              0,
              "#0d0887"
             ],
             [
              0.1111111111111111,
              "#46039f"
             ],
             [
              0.2222222222222222,
              "#7201a8"
             ],
             [
              0.3333333333333333,
              "#9c179e"
             ],
             [
              0.4444444444444444,
              "#bd3786"
             ],
             [
              0.5555555555555556,
              "#d8576b"
             ],
             [
              0.6666666666666666,
              "#ed7953"
             ],
             [
              0.7777777777777778,
              "#fb9f3a"
             ],
             [
              0.8888888888888888,
              "#fdca26"
             ],
             [
              1,
              "#f0f921"
             ]
            ],
            "type": "histogram2d"
           }
          ],
          "histogram2dcontour": [
           {
            "colorbar": {
             "outlinewidth": 0,
             "ticks": ""
            },
            "colorscale": [
             [
              0,
              "#0d0887"
             ],
             [
              0.1111111111111111,
              "#46039f"
             ],
             [
              0.2222222222222222,
              "#7201a8"
             ],
             [
              0.3333333333333333,
              "#9c179e"
             ],
             [
              0.4444444444444444,
              "#bd3786"
             ],
             [
              0.5555555555555556,
              "#d8576b"
             ],
             [
              0.6666666666666666,
              "#ed7953"
             ],
             [
              0.7777777777777778,
              "#fb9f3a"
             ],
             [
              0.8888888888888888,
              "#fdca26"
             ],
             [
              1,
              "#f0f921"
             ]
            ],
            "type": "histogram2dcontour"
           }
          ],
          "mesh3d": [
           {
            "colorbar": {
             "outlinewidth": 0,
             "ticks": ""
            },
            "type": "mesh3d"
           }
          ],
          "parcoords": [
           {
            "line": {
             "colorbar": {
              "outlinewidth": 0,
              "ticks": ""
             }
            },
            "type": "parcoords"
           }
          ],
          "pie": [
           {
            "automargin": true,
            "type": "pie"
           }
          ],
          "scatter": [
           {
            "fillpattern": {
             "fillmode": "overlay",
             "size": 10,
             "solidity": 0.2
            },
            "type": "scatter"
           }
          ],
          "scatter3d": [
           {
            "line": {
             "colorbar": {
              "outlinewidth": 0,
              "ticks": ""
             }
            },
            "marker": {
             "colorbar": {
              "outlinewidth": 0,
              "ticks": ""
             }
            },
            "type": "scatter3d"
           }
          ],
          "scattercarpet": [
           {
            "marker": {
             "colorbar": {
              "outlinewidth": 0,
              "ticks": ""
             }
            },
            "type": "scattercarpet"
           }
          ],
          "scattergeo": [
           {
            "marker": {
             "colorbar": {
              "outlinewidth": 0,
              "ticks": ""
             }
            },
            "type": "scattergeo"
           }
          ],
          "scattergl": [
           {
            "marker": {
             "colorbar": {
              "outlinewidth": 0,
              "ticks": ""
             }
            },
            "type": "scattergl"
           }
          ],
          "scattermapbox": [
           {
            "marker": {
             "colorbar": {
              "outlinewidth": 0,
              "ticks": ""
             }
            },
            "type": "scattermapbox"
           }
          ],
          "scatterpolar": [
           {
            "marker": {
             "colorbar": {
              "outlinewidth": 0,
              "ticks": ""
             }
            },
            "type": "scatterpolar"
           }
          ],
          "scatterpolargl": [
           {
            "marker": {
             "colorbar": {
              "outlinewidth": 0,
              "ticks": ""
             }
            },
            "type": "scatterpolargl"
           }
          ],
          "scatterternary": [
           {
            "marker": {
             "colorbar": {
              "outlinewidth": 0,
              "ticks": ""
             }
            },
            "type": "scatterternary"
           }
          ],
          "surface": [
           {
            "colorbar": {
             "outlinewidth": 0,
             "ticks": ""
            },
            "colorscale": [
             [
              0,
              "#0d0887"
             ],
             [
              0.1111111111111111,
              "#46039f"
             ],
             [
              0.2222222222222222,
              "#7201a8"
             ],
             [
              0.3333333333333333,
              "#9c179e"
             ],
             [
              0.4444444444444444,
              "#bd3786"
             ],
             [
              0.5555555555555556,
              "#d8576b"
             ],
             [
              0.6666666666666666,
              "#ed7953"
             ],
             [
              0.7777777777777778,
              "#fb9f3a"
             ],
             [
              0.8888888888888888,
              "#fdca26"
             ],
             [
              1,
              "#f0f921"
             ]
            ],
            "type": "surface"
           }
          ],
          "table": [
           {
            "cells": {
             "fill": {
              "color": "#EBF0F8"
             },
             "line": {
              "color": "white"
             }
            },
            "header": {
             "fill": {
              "color": "#C8D4E3"
             },
             "line": {
              "color": "white"
             }
            },
            "type": "table"
           }
          ]
         },
         "layout": {
          "annotationdefaults": {
           "arrowcolor": "#2a3f5f",
           "arrowhead": 0,
           "arrowwidth": 1
          },
          "autotypenumbers": "strict",
          "coloraxis": {
           "colorbar": {
            "outlinewidth": 0,
            "ticks": ""
           }
          },
          "colorscale": {
           "diverging": [
            [
             0,
             "#8e0152"
            ],
            [
             0.1,
             "#c51b7d"
            ],
            [
             0.2,
             "#de77ae"
            ],
            [
             0.3,
             "#f1b6da"
            ],
            [
             0.4,
             "#fde0ef"
            ],
            [
             0.5,
             "#f7f7f7"
            ],
            [
             0.6,
             "#e6f5d0"
            ],
            [
             0.7,
             "#b8e186"
            ],
            [
             0.8,
             "#7fbc41"
            ],
            [
             0.9,
             "#4d9221"
            ],
            [
             1,
             "#276419"
            ]
           ],
           "sequential": [
            [
             0,
             "#0d0887"
            ],
            [
             0.1111111111111111,
             "#46039f"
            ],
            [
             0.2222222222222222,
             "#7201a8"
            ],
            [
             0.3333333333333333,
             "#9c179e"
            ],
            [
             0.4444444444444444,
             "#bd3786"
            ],
            [
             0.5555555555555556,
             "#d8576b"
            ],
            [
             0.6666666666666666,
             "#ed7953"
            ],
            [
             0.7777777777777778,
             "#fb9f3a"
            ],
            [
             0.8888888888888888,
             "#fdca26"
            ],
            [
             1,
             "#f0f921"
            ]
           ],
           "sequentialminus": [
            [
             0,
             "#0d0887"
            ],
            [
             0.1111111111111111,
             "#46039f"
            ],
            [
             0.2222222222222222,
             "#7201a8"
            ],
            [
             0.3333333333333333,
             "#9c179e"
            ],
            [
             0.4444444444444444,
             "#bd3786"
            ],
            [
             0.5555555555555556,
             "#d8576b"
            ],
            [
             0.6666666666666666,
             "#ed7953"
            ],
            [
             0.7777777777777778,
             "#fb9f3a"
            ],
            [
             0.8888888888888888,
             "#fdca26"
            ],
            [
             1,
             "#f0f921"
            ]
           ]
          },
          "colorway": [
           "#636efa",
           "#EF553B",
           "#00cc96",
           "#ab63fa",
           "#FFA15A",
           "#19d3f3",
           "#FF6692",
           "#B6E880",
           "#FF97FF",
           "#FECB52"
          ],
          "font": {
           "color": "#2a3f5f"
          },
          "geo": {
           "bgcolor": "white",
           "lakecolor": "white",
           "landcolor": "#E5ECF6",
           "showlakes": true,
           "showland": true,
           "subunitcolor": "white"
          },
          "hoverlabel": {
           "align": "left"
          },
          "hovermode": "closest",
          "mapbox": {
           "style": "light"
          },
          "paper_bgcolor": "white",
          "plot_bgcolor": "#E5ECF6",
          "polar": {
           "angularaxis": {
            "gridcolor": "white",
            "linecolor": "white",
            "ticks": ""
           },
           "bgcolor": "#E5ECF6",
           "radialaxis": {
            "gridcolor": "white",
            "linecolor": "white",
            "ticks": ""
           }
          },
          "scene": {
           "xaxis": {
            "backgroundcolor": "#E5ECF6",
            "gridcolor": "white",
            "gridwidth": 2,
            "linecolor": "white",
            "showbackground": true,
            "ticks": "",
            "zerolinecolor": "white"
           },
           "yaxis": {
            "backgroundcolor": "#E5ECF6",
            "gridcolor": "white",
            "gridwidth": 2,
            "linecolor": "white",
            "showbackground": true,
            "ticks": "",
            "zerolinecolor": "white"
           },
           "zaxis": {
            "backgroundcolor": "#E5ECF6",
            "gridcolor": "white",
            "gridwidth": 2,
            "linecolor": "white",
            "showbackground": true,
            "ticks": "",
            "zerolinecolor": "white"
           }
          },
          "shapedefaults": {
           "line": {
            "color": "#2a3f5f"
           }
          },
          "ternary": {
           "aaxis": {
            "gridcolor": "white",
            "linecolor": "white",
            "ticks": ""
           },
           "baxis": {
            "gridcolor": "white",
            "linecolor": "white",
            "ticks": ""
           },
           "bgcolor": "#E5ECF6",
           "caxis": {
            "gridcolor": "white",
            "linecolor": "white",
            "ticks": ""
           }
          },
          "title": {
           "x": 0.05
          },
          "xaxis": {
           "automargin": true,
           "gridcolor": "white",
           "linecolor": "white",
           "ticks": "",
           "title": {
            "standoff": 15
           },
           "zerolinecolor": "white",
           "zerolinewidth": 2
          },
          "yaxis": {
           "automargin": true,
           "gridcolor": "white",
           "linecolor": "white",
           "ticks": "",
           "title": {
            "standoff": 15
           },
           "zerolinecolor": "white",
           "zerolinewidth": 2
          }
         }
        },
        "title": {
         "text": "Soil Microbes by Site without Reduction"
        },
        "xaxis": {
         "anchor": "y",
         "domain": [
          0,
          1
         ],
         "title": {
          "text": "PC1 25.4%"
         }
        },
        "yaxis": {
         "anchor": "x",
         "domain": [
          0,
          1
         ],
         "title": {
          "text": "PC2 23.9%"
         }
        }
       }
      },
      "text/html": [
       "<div>                            <div id=\"0f0cbd75-29ff-49e2-8a84-5fcb2e62aa39\" class=\"plotly-graph-div\" style=\"height:525px; width:100%;\"></div>            <script type=\"text/javascript\">                require([\"plotly\"], function(Plotly) {                    window.PLOTLYENV=window.PLOTLYENV || {};                                    if (document.getElementById(\"0f0cbd75-29ff-49e2-8a84-5fcb2e62aa39\")) {                    Plotly.newPlot(                        \"0f0cbd75-29ff-49e2-8a84-5fcb2e62aa39\",                        [{\"hovertemplate\":\"color=RRL<br>0=%{x}<br>1=%{y}<extra></extra>\",\"legendgroup\":\"RRL\",\"marker\":{\"color\":\"#636efa\",\"symbol\":\"circle\"},\"mode\":\"markers\",\"name\":\"RRL\",\"orientation\":\"v\",\"showlegend\":true,\"x\":[0.5416762396503928,-1.813921190599267,-1.058981343210037,-0.1877217339212708,-1.9563811978656351,-0.3841637861958112,-0.9778637347578057,-1.113814800003713,-0.49785455975402915,-1.4227489980239467,-0.611963580368639,-2.551476927607921,-0.7080106439988341,-1.0502537930068818,-1.759108852431483,-1.3633398869977542,-0.9118659817101612,-0.7607981513797852,-1.6076449441869907],\"xaxis\":\"x\",\"y\":[-3.074936296766575,-2.7241545478012226,-2.575438133703954,-2.551119206306834,-2.937177625705619,-2.6301805966354688,-2.1450327821740136,-2.120854248270912,-3.0272726194911543,-1.6016134627757588,-2.1909191910549377,-2.475378178238026,-1.6592991199067257,-2.4990610356606164,-3.1993000173938726,-2.9453588225094043,-2.525930222617439,-2.841968363776655,-2.5274886099623646],\"yaxis\":\"y\",\"type\":\"scatter\"},{\"hovertemplate\":\"color=FRW<br>0=%{x}<br>1=%{y}<extra></extra>\",\"legendgroup\":\"FRW\",\"marker\":{\"color\":\"#EF553B\",\"symbol\":\"circle\"},\"mode\":\"markers\",\"name\":\"FRW\",\"orientation\":\"v\",\"showlegend\":true,\"x\":[1.8578277187997898,1.5348531906752143,2.1430012222913004,2.5403569033296147,1.5459217965054959,3.0508844416925975,1.1366869091000322,1.3610880541056676,1.4765634497492204,1.5024052744419156,2.358769290212103],\"xaxis\":\"x\",\"y\":[-1.3358020899822238,-1.7189424383017442,-1.380075773456604,-1.5479422047814742,-1.1194907221197261,-1.6053638810134265,-1.7195826026156353,-1.6807858351767941,-2.165056692974259,-2.0629431385693384,-1.8465002399168955],\"yaxis\":\"y\",\"type\":\"scatter\"},{\"hovertemplate\":\"color=MMP<br>0=%{x}<br>1=%{y}<extra></extra>\",\"legendgroup\":\"MMP\",\"marker\":{\"color\":\"#00cc96\",\"symbol\":\"circle\"},\"mode\":\"markers\",\"name\":\"MMP\",\"orientation\":\"v\",\"showlegend\":true,\"x\":[-0.32993145908433424,-1.4598906614563236,0.4998690046750386,-0.9596315758426458,-2.219431723393377,-0.4177835600675277,-0.08833153693459947,-0.26717471119206765,-1.083244013480949,-2.6020111280893823,-1.5994051246038476,-2.459333973820203,0.37225572926927186,-0.5812426519773253,-1.6399542944618104,-1.2426539927674813,0.03643118608418397,-1.620156960213852,1.226114254947222],\"xaxis\":\"x\",\"y\":[2.1447012902248965,3.445467240941864,1.995866849009662,1.52786791523831,1.3540590849323426,1.5968384093059325,2.8838520173721918,1.3377020144687795,0.8999012075967371,1.1073821032325608,1.6680503932583604,0.6922491749307992,1.901284190081983,2.0770261039693296,0.9157269383203186,1.231288141983034,1.554909189102093,0.9338459082606596,3.6156320853034734],\"yaxis\":\"y\",\"type\":\"scatter\"},{\"hovertemplate\":\"color=PNR<br>0=%{x}<br>1=%{y}<extra></extra>\",\"legendgroup\":\"PNR\",\"marker\":{\"color\":\"#ab63fa\",\"symbol\":\"circle\"},\"mode\":\"markers\",\"name\":\"PNR\",\"orientation\":\"v\",\"showlegend\":true,\"x\":[3.1576431733715418,0.9242768574921376],\"xaxis\":\"x\",\"y\":[-1.4593239082829805,-1.8020143687395582],\"yaxis\":\"y\",\"type\":\"scatter\"},{\"hovertemplate\":\"color=CMB<br>0=%{x}<br>1=%{y}<extra></extra>\",\"legendgroup\":\"CMB\",\"marker\":{\"color\":\"#FFA15A\",\"symbol\":\"circle\"},\"mode\":\"markers\",\"name\":\"CMB\",\"orientation\":\"v\",\"showlegend\":true,\"x\":[-2.900433346965583,-2.3228212128611765,-1.6263430290341692,-3.158215816153323,-2.2295893898589423,-2.2742752829232353,-1.3624109393797648,-0.9870268583089272,-1.4197459969123636,-2.552666939699014,-1.4406530675833173,-1.8041119875154303,-0.4110693798319679,-3.2786129476656893,-0.6413768448666114,-1.2852149080267765,-3.1765727723599806,-1.0582953641220063,-2.029417973394045,-1.9959484430650472,-2.6983798323053954],\"xaxis\":\"x\",\"y\":[1.1554046326441292,2.2997501546885553,2.491897890566808,1.1858883336411692,1.108313613594897,0.4881428135853471,2.114687639252496,1.2626889112742037,1.0182228180124075,1.641636893049701,1.8545283684090954,1.047555638613163,1.6686524909549312,1.6034945051068419,1.4061016270748796,1.1867928412372704,1.5283955284710584,1.098098263212142,0.874635226241097,1.2483421458461297,0.2397693168986721],\"yaxis\":\"y\",\"type\":\"scatter\"},{\"hovertemplate\":\"color=SLG<br>0=%{x}<br>1=%{y}<extra></extra>\",\"legendgroup\":\"SLG\",\"marker\":{\"color\":\"#19d3f3\",\"symbol\":\"circle\"},\"mode\":\"markers\",\"name\":\"SLG\",\"orientation\":\"v\",\"showlegend\":true,\"x\":[-2.6493209369085116,2.0791981584861867,-2.1655749583617423,2.7295883513185015,-2.0198591109445685,0.11469095139386545,-2.2237452371457773,3.487028699429885,-2.593885461827069,0.5538833331956498,-2.4220703689029834,3.2573330137598955,-1.8773805757859063,2.878613029881414,-1.4052794295975897,0.41890223079119354,2.394973406834753],\"xaxis\":\"x\",\"y\":[-1.6771871572715855,-0.8868302613414167,-1.1571519114421032,-1.263149749307354,-0.7445903546105039,-2.03813197449272,-0.8723699738721274,-0.48441278411772615,-1.205181921395908,-1.405198464134742,-1.4534627792961743,-2.0820453707948485,-1.3917497517122819,-1.0116249751362925,-0.9297531448977475,-1.572542070091049,-0.5670756253414411],\"yaxis\":\"y\",\"type\":\"scatter\"},{\"hovertemplate\":\"color=RF<br>0=%{x}<br>1=%{y}<extra></extra>\",\"legendgroup\":\"RF\",\"marker\":{\"color\":\"#FF6692\",\"symbol\":\"circle\"},\"mode\":\"markers\",\"name\":\"RF\",\"orientation\":\"v\",\"showlegend\":true,\"x\":[-2.6812994820795226,-1.0204599284175087,-1.1207042712183823,-1.7492512122287296,-0.3575599203501022,0.11237571572486472,-0.9799267535684872,0.3774854253759621,-1.252115412329852,0.565248876589005,-1.2169062454742636],\"xaxis\":\"x\",\"y\":[-1.2834480074248058,-0.7332377074812065,0.30010546682402645,-1.5799260493798235,-0.6628143561488542,0.04143486039784921,0.40034167648777585,-0.9292373142760604,0.47824630044269534,0.20726160959873435,-0.34555757383222785],\"yaxis\":\"y\",\"type\":\"scatter\"},{\"hovertemplate\":\"color=LFS<br>0=%{x}<br>1=%{y}<extra></extra>\",\"legendgroup\":\"LFS\",\"marker\":{\"color\":\"#B6E880\",\"symbol\":\"circle\"},\"mode\":\"markers\",\"name\":\"LFS\",\"orientation\":\"v\",\"showlegend\":true,\"x\":[-1.8559662893758038,1.305888976561753,-0.5568852539393703,1.9410148418785773,0.05183549752816803,0.23250611150393832,2.552749532203298,0.2176352327645338,2.4307881852242725,0.8939869683484031,0.055683892604318164,-0.5682672827505023,-3.792780678464536,0.26359678176313145],\"xaxis\":\"x\",\"y\":[3.056957765974032,5.0540953149544645,3.2318399435624863,4.192671800386221,3.1737243991722135,3.4180934317526606,5.1712632528377505,3.7229048757843786,4.31871753556652,4.039037902973193,4.939661813450154,4.345569390927328,-2.445683583635679,3.718318969155486],\"yaxis\":\"y\",\"type\":\"scatter\"},{\"hovertemplate\":\"color=PTW<br>0=%{x}<br>1=%{y}<extra></extra>\",\"legendgroup\":\"PTW\",\"marker\":{\"color\":\"#FF97FF\",\"symbol\":\"circle\"},\"mode\":\"markers\",\"name\":\"PTW\",\"orientation\":\"v\",\"showlegend\":true,\"x\":[-2.428528917663492,-1.8529077370560396,-1.214298864489733,-1.3532503809711587,-0.8350741853088522,-1.1521969517684214],\"xaxis\":\"x\",\"y\":[-1.7605751015356583,-2.1812923862875753,-2.2092821459839325,-2.1920690574860426,-1.3826783033747385,-1.2618225844323756],\"yaxis\":\"y\",\"type\":\"scatter\"},{\"hovertemplate\":\"color=LM<br>0=%{x}<br>1=%{y}<extra></extra>\",\"legendgroup\":\"LM\",\"marker\":{\"color\":\"#FECB52\",\"symbol\":\"circle\"},\"mode\":\"markers\",\"name\":\"LM\",\"orientation\":\"v\",\"showlegend\":true,\"x\":[1.4684534118039767,1.2985210719300138,2.3675742649043174,-0.3522635940368176,1.1191879421850304,1.5524658441843682,2.1197195500330466,1.5165037785987059,-0.6209358025349794,0.8588984343390491,0.07290047125225259,-0.30376634583490775,0.5060657357764056,0.6360749271123048,0.7641314108094293,-0.5555383890783292],\"xaxis\":\"x\",\"y\":[0.4887159630296629,0.3087166988893102,0.658245934906066,-0.723771841300866,-0.08786423807367316,1.6066946846415122,0.34444135954116234,1.288548718047561,-2.1279730275596367,-0.4361976268313784,-0.476117945391578,-0.4458666561401465,-0.4847344694666965,0.21065928815688462,0.4175739542937405,-0.8635264943657273],\"yaxis\":\"y\",\"type\":\"scatter\"},{\"hovertemplate\":\"color=MKP<br>0=%{x}<br>1=%{y}<extra></extra>\",\"legendgroup\":\"MKP\",\"marker\":{\"color\":\"#636efa\",\"symbol\":\"circle\"},\"mode\":\"markers\",\"name\":\"MKP\",\"orientation\":\"v\",\"showlegend\":true,\"x\":[5.9678059830000105,4.521465795010151,4.640402125040477,3.7889583287584747,4.458412479166267,3.9267577073099234,4.482208581043248,4.048119242878431],\"xaxis\":\"x\",\"y\":[-0.14424940858034643,0.1389334491796283,1.4045085746481478,-1.0476273420269377,-0.6197273997860949,-1.246780081438188,-0.556949210629517,-1.193299710501865],\"yaxis\":\"y\",\"type\":\"scatter\"},{\"hovertemplate\":\"color=RGT<br>0=%{x}<br>1=%{y}<extra></extra>\",\"legendgroup\":\"RGT\",\"marker\":{\"color\":\"#EF553B\",\"symbol\":\"circle\"},\"mode\":\"markers\",\"name\":\"RGT\",\"orientation\":\"v\",\"showlegend\":true,\"x\":[3.006553244121942,2.1817628212916484,2.479717776795204,1.2603124440766484,1.4600441429012556,4.621001978304997,3.833622382470516],\"xaxis\":\"x\",\"y\":[-0.17773784864449851,-0.6306147863758446,-0.4312458970155618,-0.6265343376094372,-0.5707662280502799,0.10001084583810045,0.11402827567744415],\"yaxis\":\"y\",\"type\":\"scatter\"}],                        {\"template\":{\"data\":{\"histogram2dcontour\":[{\"type\":\"histogram2dcontour\",\"colorbar\":{\"outlinewidth\":0,\"ticks\":\"\"},\"colorscale\":[[0.0,\"#0d0887\"],[0.1111111111111111,\"#46039f\"],[0.2222222222222222,\"#7201a8\"],[0.3333333333333333,\"#9c179e\"],[0.4444444444444444,\"#bd3786\"],[0.5555555555555556,\"#d8576b\"],[0.6666666666666666,\"#ed7953\"],[0.7777777777777778,\"#fb9f3a\"],[0.8888888888888888,\"#fdca26\"],[1.0,\"#f0f921\"]]}],\"choropleth\":[{\"type\":\"choropleth\",\"colorbar\":{\"outlinewidth\":0,\"ticks\":\"\"}}],\"histogram2d\":[{\"type\":\"histogram2d\",\"colorbar\":{\"outlinewidth\":0,\"ticks\":\"\"},\"colorscale\":[[0.0,\"#0d0887\"],[0.1111111111111111,\"#46039f\"],[0.2222222222222222,\"#7201a8\"],[0.3333333333333333,\"#9c179e\"],[0.4444444444444444,\"#bd3786\"],[0.5555555555555556,\"#d8576b\"],[0.6666666666666666,\"#ed7953\"],[0.7777777777777778,\"#fb9f3a\"],[0.8888888888888888,\"#fdca26\"],[1.0,\"#f0f921\"]]}],\"heatmap\":[{\"type\":\"heatmap\",\"colorbar\":{\"outlinewidth\":0,\"ticks\":\"\"},\"colorscale\":[[0.0,\"#0d0887\"],[0.1111111111111111,\"#46039f\"],[0.2222222222222222,\"#7201a8\"],[0.3333333333333333,\"#9c179e\"],[0.4444444444444444,\"#bd3786\"],[0.5555555555555556,\"#d8576b\"],[0.6666666666666666,\"#ed7953\"],[0.7777777777777778,\"#fb9f3a\"],[0.8888888888888888,\"#fdca26\"],[1.0,\"#f0f921\"]]}],\"heatmapgl\":[{\"type\":\"heatmapgl\",\"colorbar\":{\"outlinewidth\":0,\"ticks\":\"\"},\"colorscale\":[[0.0,\"#0d0887\"],[0.1111111111111111,\"#46039f\"],[0.2222222222222222,\"#7201a8\"],[0.3333333333333333,\"#9c179e\"],[0.4444444444444444,\"#bd3786\"],[0.5555555555555556,\"#d8576b\"],[0.6666666666666666,\"#ed7953\"],[0.7777777777777778,\"#fb9f3a\"],[0.8888888888888888,\"#fdca26\"],[1.0,\"#f0f921\"]]}],\"contourcarpet\":[{\"type\":\"contourcarpet\",\"colorbar\":{\"outlinewidth\":0,\"ticks\":\"\"}}],\"contour\":[{\"type\":\"contour\",\"colorbar\":{\"outlinewidth\":0,\"ticks\":\"\"},\"colorscale\":[[0.0,\"#0d0887\"],[0.1111111111111111,\"#46039f\"],[0.2222222222222222,\"#7201a8\"],[0.3333333333333333,\"#9c179e\"],[0.4444444444444444,\"#bd3786\"],[0.5555555555555556,\"#d8576b\"],[0.6666666666666666,\"#ed7953\"],[0.7777777777777778,\"#fb9f3a\"],[0.8888888888888888,\"#fdca26\"],[1.0,\"#f0f921\"]]}],\"surface\":[{\"type\":\"surface\",\"colorbar\":{\"outlinewidth\":0,\"ticks\":\"\"},\"colorscale\":[[0.0,\"#0d0887\"],[0.1111111111111111,\"#46039f\"],[0.2222222222222222,\"#7201a8\"],[0.3333333333333333,\"#9c179e\"],[0.4444444444444444,\"#bd3786\"],[0.5555555555555556,\"#d8576b\"],[0.6666666666666666,\"#ed7953\"],[0.7777777777777778,\"#fb9f3a\"],[0.8888888888888888,\"#fdca26\"],[1.0,\"#f0f921\"]]}],\"mesh3d\":[{\"type\":\"mesh3d\",\"colorbar\":{\"outlinewidth\":0,\"ticks\":\"\"}}],\"scatter\":[{\"fillpattern\":{\"fillmode\":\"overlay\",\"size\":10,\"solidity\":0.2},\"type\":\"scatter\"}],\"parcoords\":[{\"type\":\"parcoords\",\"line\":{\"colorbar\":{\"outlinewidth\":0,\"ticks\":\"\"}}}],\"scatterpolargl\":[{\"type\":\"scatterpolargl\",\"marker\":{\"colorbar\":{\"outlinewidth\":0,\"ticks\":\"\"}}}],\"bar\":[{\"error_x\":{\"color\":\"#2a3f5f\"},\"error_y\":{\"color\":\"#2a3f5f\"},\"marker\":{\"line\":{\"color\":\"#E5ECF6\",\"width\":0.5},\"pattern\":{\"fillmode\":\"overlay\",\"size\":10,\"solidity\":0.2}},\"type\":\"bar\"}],\"scattergeo\":[{\"type\":\"scattergeo\",\"marker\":{\"colorbar\":{\"outlinewidth\":0,\"ticks\":\"\"}}}],\"scatterpolar\":[{\"type\":\"scatterpolar\",\"marker\":{\"colorbar\":{\"outlinewidth\":0,\"ticks\":\"\"}}}],\"histogram\":[{\"marker\":{\"pattern\":{\"fillmode\":\"overlay\",\"size\":10,\"solidity\":0.2}},\"type\":\"histogram\"}],\"scattergl\":[{\"type\":\"scattergl\",\"marker\":{\"colorbar\":{\"outlinewidth\":0,\"ticks\":\"\"}}}],\"scatter3d\":[{\"type\":\"scatter3d\",\"line\":{\"colorbar\":{\"outlinewidth\":0,\"ticks\":\"\"}},\"marker\":{\"colorbar\":{\"outlinewidth\":0,\"ticks\":\"\"}}}],\"scattermapbox\":[{\"type\":\"scattermapbox\",\"marker\":{\"colorbar\":{\"outlinewidth\":0,\"ticks\":\"\"}}}],\"scatterternary\":[{\"type\":\"scatterternary\",\"marker\":{\"colorbar\":{\"outlinewidth\":0,\"ticks\":\"\"}}}],\"scattercarpet\":[{\"type\":\"scattercarpet\",\"marker\":{\"colorbar\":{\"outlinewidth\":0,\"ticks\":\"\"}}}],\"carpet\":[{\"aaxis\":{\"endlinecolor\":\"#2a3f5f\",\"gridcolor\":\"white\",\"linecolor\":\"white\",\"minorgridcolor\":\"white\",\"startlinecolor\":\"#2a3f5f\"},\"baxis\":{\"endlinecolor\":\"#2a3f5f\",\"gridcolor\":\"white\",\"linecolor\":\"white\",\"minorgridcolor\":\"white\",\"startlinecolor\":\"#2a3f5f\"},\"type\":\"carpet\"}],\"table\":[{\"cells\":{\"fill\":{\"color\":\"#EBF0F8\"},\"line\":{\"color\":\"white\"}},\"header\":{\"fill\":{\"color\":\"#C8D4E3\"},\"line\":{\"color\":\"white\"}},\"type\":\"table\"}],\"barpolar\":[{\"marker\":{\"line\":{\"color\":\"#E5ECF6\",\"width\":0.5},\"pattern\":{\"fillmode\":\"overlay\",\"size\":10,\"solidity\":0.2}},\"type\":\"barpolar\"}],\"pie\":[{\"automargin\":true,\"type\":\"pie\"}]},\"layout\":{\"autotypenumbers\":\"strict\",\"colorway\":[\"#636efa\",\"#EF553B\",\"#00cc96\",\"#ab63fa\",\"#FFA15A\",\"#19d3f3\",\"#FF6692\",\"#B6E880\",\"#FF97FF\",\"#FECB52\"],\"font\":{\"color\":\"#2a3f5f\"},\"hovermode\":\"closest\",\"hoverlabel\":{\"align\":\"left\"},\"paper_bgcolor\":\"white\",\"plot_bgcolor\":\"#E5ECF6\",\"polar\":{\"bgcolor\":\"#E5ECF6\",\"angularaxis\":{\"gridcolor\":\"white\",\"linecolor\":\"white\",\"ticks\":\"\"},\"radialaxis\":{\"gridcolor\":\"white\",\"linecolor\":\"white\",\"ticks\":\"\"}},\"ternary\":{\"bgcolor\":\"#E5ECF6\",\"aaxis\":{\"gridcolor\":\"white\",\"linecolor\":\"white\",\"ticks\":\"\"},\"baxis\":{\"gridcolor\":\"white\",\"linecolor\":\"white\",\"ticks\":\"\"},\"caxis\":{\"gridcolor\":\"white\",\"linecolor\":\"white\",\"ticks\":\"\"}},\"coloraxis\":{\"colorbar\":{\"outlinewidth\":0,\"ticks\":\"\"}},\"colorscale\":{\"sequential\":[[0.0,\"#0d0887\"],[0.1111111111111111,\"#46039f\"],[0.2222222222222222,\"#7201a8\"],[0.3333333333333333,\"#9c179e\"],[0.4444444444444444,\"#bd3786\"],[0.5555555555555556,\"#d8576b\"],[0.6666666666666666,\"#ed7953\"],[0.7777777777777778,\"#fb9f3a\"],[0.8888888888888888,\"#fdca26\"],[1.0,\"#f0f921\"]],\"sequentialminus\":[[0.0,\"#0d0887\"],[0.1111111111111111,\"#46039f\"],[0.2222222222222222,\"#7201a8\"],[0.3333333333333333,\"#9c179e\"],[0.4444444444444444,\"#bd3786\"],[0.5555555555555556,\"#d8576b\"],[0.6666666666666666,\"#ed7953\"],[0.7777777777777778,\"#fb9f3a\"],[0.8888888888888888,\"#fdca26\"],[1.0,\"#f0f921\"]],\"diverging\":[[0,\"#8e0152\"],[0.1,\"#c51b7d\"],[0.2,\"#de77ae\"],[0.3,\"#f1b6da\"],[0.4,\"#fde0ef\"],[0.5,\"#f7f7f7\"],[0.6,\"#e6f5d0\"],[0.7,\"#b8e186\"],[0.8,\"#7fbc41\"],[0.9,\"#4d9221\"],[1,\"#276419\"]]},\"xaxis\":{\"gridcolor\":\"white\",\"linecolor\":\"white\",\"ticks\":\"\",\"title\":{\"standoff\":15},\"zerolinecolor\":\"white\",\"automargin\":true,\"zerolinewidth\":2},\"yaxis\":{\"gridcolor\":\"white\",\"linecolor\":\"white\",\"ticks\":\"\",\"title\":{\"standoff\":15},\"zerolinecolor\":\"white\",\"automargin\":true,\"zerolinewidth\":2},\"scene\":{\"xaxis\":{\"backgroundcolor\":\"#E5ECF6\",\"gridcolor\":\"white\",\"linecolor\":\"white\",\"showbackground\":true,\"ticks\":\"\",\"zerolinecolor\":\"white\",\"gridwidth\":2},\"yaxis\":{\"backgroundcolor\":\"#E5ECF6\",\"gridcolor\":\"white\",\"linecolor\":\"white\",\"showbackground\":true,\"ticks\":\"\",\"zerolinecolor\":\"white\",\"gridwidth\":2},\"zaxis\":{\"backgroundcolor\":\"#E5ECF6\",\"gridcolor\":\"white\",\"linecolor\":\"white\",\"showbackground\":true,\"ticks\":\"\",\"zerolinecolor\":\"white\",\"gridwidth\":2}},\"shapedefaults\":{\"line\":{\"color\":\"#2a3f5f\"}},\"annotationdefaults\":{\"arrowcolor\":\"#2a3f5f\",\"arrowhead\":0,\"arrowwidth\":1},\"geo\":{\"bgcolor\":\"white\",\"landcolor\":\"#E5ECF6\",\"subunitcolor\":\"white\",\"showland\":true,\"showlakes\":true,\"lakecolor\":\"white\"},\"title\":{\"x\":0.05},\"mapbox\":{\"style\":\"light\"}}},\"xaxis\":{\"anchor\":\"y\",\"domain\":[0.0,1.0],\"title\":{\"text\":\"PC1 25.4%\"}},\"yaxis\":{\"anchor\":\"x\",\"domain\":[0.0,1.0],\"title\":{\"text\":\"PC2 23.9%\"}},\"legend\":{\"title\":{\"text\":\"color\"},\"tracegroupgap\":0},\"margin\":{\"t\":60},\"title\":{\"text\":\"Soil Microbes by Site without Reduction\"}},                        {\"responsive\": true}                    ).then(function(){\n",
       "                            \n",
       "var gd = document.getElementById('0f0cbd75-29ff-49e2-8a84-5fcb2e62aa39');\n",
       "var x = new MutationObserver(function (mutations, observer) {{\n",
       "        var display = window.getComputedStyle(gd).display;\n",
       "        if (!display || display === 'none') {{\n",
       "            console.log([gd, 'removed!']);\n",
       "            Plotly.purge(gd);\n",
       "            observer.disconnect();\n",
       "        }}\n",
       "}});\n",
       "\n",
       "// Listen for the removal of the full notebook cells\n",
       "var notebookContainer = gd.closest('#notebook-container');\n",
       "if (notebookContainer) {{\n",
       "    x.observe(notebookContainer, {childList: true});\n",
       "}}\n",
       "\n",
       "// Listen for the clearing of the current output cell\n",
       "var outputEl = gd.closest('.output');\n",
       "if (outputEl) {{\n",
       "    x.observe(outputEl, {childList: true});\n",
       "}}\n",
       "\n",
       "                        })                };                });            </script>        </div>"
      ]
     },
     "metadata": {},
     "output_type": "display_data"
    },
    {
     "data": {
      "application/vnd.plotly.v1+json": {
       "config": {
        "plotlyServerURL": "https://plot.ly"
       },
       "data": [
        {
         "hovertemplate": "color=exaltata<br>0=%{x}<br>1=%{y}<extra></extra>",
         "legendgroup": "exaltata",
         "marker": {
          "color": "#636efa",
          "symbol": "circle"
         },
         "mode": "markers",
         "name": "exaltata",
         "orientation": "v",
         "showlegend": true,
         "type": "scatter",
         "x": [
          0.5416762396503928,
          -1.813921190599267,
          -1.058981343210037,
          -2.6493209369085116,
          -0.1877217339212708,
          -1.9563811978656351,
          -0.3841637861958112,
          -2.1655749583617423,
          -0.9778637347578057,
          -1.113814800003713,
          -0.49785455975402915,
          -2.0198591109445685,
          -1.4227489980239467,
          -0.611963580368639,
          -2.551476927607921,
          -2.2237452371457773,
          -0.7080106439988341,
          -1.0502537930068818,
          -1.759108852431483,
          -2.593885461827069,
          -1.3633398869977542,
          -0.9118659817101612,
          -2.4220703689029834,
          -0.7607981513797852,
          -1.6076449441869907,
          -2.6812994820795226,
          -1.8559662893758038,
          1.305888976561753,
          -0.5568852539393703,
          -2.428528917663492,
          1.9410148418785773,
          0.05183549752816803,
          -1.8529077370560396,
          0.23250611150393832,
          2.552749532203298,
          -1.214298864489733,
          0.2176352327645338,
          2.4307881852242725,
          -1.3532503809711587,
          0.8939869683484031,
          0.055683892604318164,
          -0.5682672827505023,
          -3.792780678464536,
          -0.8350741853088522,
          0.26359678176313145,
          -1.1521969517684214
         ],
         "xaxis": "x",
         "y": [
          -3.074936296766575,
          -2.7241545478012226,
          -2.575438133703954,
          -1.6771871572715855,
          -2.551119206306834,
          -2.937177625705619,
          -2.6301805966354688,
          -1.1571519114421032,
          -2.1450327821740136,
          -2.120854248270912,
          -3.0272726194911543,
          -0.7445903546105039,
          -1.6016134627757588,
          -2.1909191910549377,
          -2.475378178238026,
          -0.8723699738721274,
          -1.6592991199067257,
          -2.4990610356606164,
          -3.1993000173938726,
          -1.205181921395908,
          -2.9453588225094043,
          -2.525930222617439,
          -1.4534627792961743,
          -2.841968363776655,
          -2.5274886099623646,
          -1.2834480074248058,
          3.056957765974032,
          5.0540953149544645,
          3.2318399435624863,
          -1.7605751015356583,
          4.192671800386221,
          3.1737243991722135,
          -2.1812923862875753,
          3.4180934317526606,
          5.1712632528377505,
          -2.2092821459839325,
          3.7229048757843786,
          4.31871753556652,
          -2.1920690574860426,
          4.039037902973193,
          4.939661813450154,
          4.345569390927328,
          -2.445683583635679,
          -1.3826783033747385,
          3.718318969155486,
          -1.2618225844323756
         ],
         "yaxis": "y"
        },
        {
         "hovertemplate": "color=syriaca<br>0=%{x}<br>1=%{y}<extra></extra>",
         "legendgroup": "syriaca",
         "marker": {
          "color": "#EF553B",
          "symbol": "circle"
         },
         "mode": "markers",
         "name": "syriaca",
         "orientation": "v",
         "showlegend": true,
         "type": "scatter",
         "x": [
          1.8578277187997898,
          1.5348531906752143,
          -0.32993145908433424,
          -1.4598906614563236,
          3.1576431733715418,
          -2.900433346965583,
          -2.3228212128611765,
          2.0791981584861867,
          2.1430012222913004,
          2.5403569033296147,
          0.4998690046750386,
          -0.9596315758426458,
          -1.6263430290341692,
          -3.158215816153323,
          -2.2295893898589423,
          2.7295883513185015,
          -2.219431723393377,
          -0.4177835600675277,
          -0.08833153693459947,
          -2.2742752829232353,
          -1.3624109393797648,
          0.11469095139386545,
          1.5459217965054959,
          -0.26717471119206765,
          -1.083244013480949,
          -2.6020111280893823,
          -0.9870268583089272,
          -1.4197459969123636,
          -2.552666939699014,
          3.487028699429885,
          3.0508844416925975,
          -1.5994051246038476,
          -2.459333973820203,
          0.37225572926927186,
          -1.4406530675833173,
          -1.8041119875154303,
          -0.4110693798319679,
          0.5538833331956498,
          1.1366869091000322,
          -0.5812426519773253,
          -1.6399542944618104,
          -3.2786129476656893,
          -0.6413768448666114,
          -1.2852149080267765,
          3.2573330137598955,
          1.3610880541056676,
          1.4765634497492204,
          -1.2426539927674813,
          0.03643118608418397,
          0.9242768574921376,
          -3.1765727723599806,
          -1.0582953641220063,
          -2.029417973394045,
          -1.8773805757859063,
          2.878613029881414,
          1.5024052744419156,
          2.358769290212103,
          -1.620156960213852,
          1.226114254947222,
          -1.9959484430650472,
          -2.6983798323053954,
          -1.4052794295975897,
          1.4684534118039767,
          1.2985210719300138,
          5.9678059830000105,
          -1.0204599284175087,
          3.006553244121942,
          2.3675742649043174,
          -0.3522635940368176,
          4.521465795010151,
          2.1817628212916484,
          1.1191879421850304,
          1.5524658441843682,
          0.41890223079119354,
          4.640402125040477,
          2.479717776795204,
          2.394973406834753,
          2.1197195500330466,
          1.5165037785987059,
          -0.6209358025349794,
          3.7889583287584747,
          -1.1207042712183823,
          1.2603124440766484,
          0.8588984343390491,
          4.458412479166267,
          -1.7492512122287296,
          -0.3575599203501022,
          1.4600441429012556,
          0.07290047125225259,
          -0.30376634583490775,
          3.9267577073099234,
          0.11237571572486472,
          -0.9799267535684872,
          4.621001978304997,
          0.5060657357764056,
          0.6360749271123048,
          4.482208581043248,
          0.3774854253759621,
          -1.252115412329852,
          3.833622382470516,
          0.7641314108094293,
          -0.5555383890783292,
          4.048119242878431,
          0.565248876589005,
          -1.2169062454742636
         ],
         "xaxis": "x",
         "y": [
          -1.3358020899822238,
          -1.7189424383017442,
          2.1447012902248965,
          3.445467240941864,
          -1.4593239082829805,
          1.1554046326441292,
          2.2997501546885553,
          -0.8868302613414167,
          -1.380075773456604,
          -1.5479422047814742,
          1.995866849009662,
          1.52786791523831,
          2.491897890566808,
          1.1858883336411692,
          1.108313613594897,
          -1.263149749307354,
          1.3540590849323426,
          1.5968384093059325,
          2.8838520173721918,
          0.4881428135853471,
          2.114687639252496,
          -2.03813197449272,
          -1.1194907221197261,
          1.3377020144687795,
          0.8999012075967371,
          1.1073821032325608,
          1.2626889112742037,
          1.0182228180124075,
          1.641636893049701,
          -0.48441278411772615,
          -1.6053638810134265,
          1.6680503932583604,
          0.6922491749307992,
          1.901284190081983,
          1.8545283684090954,
          1.047555638613163,
          1.6686524909549312,
          -1.405198464134742,
          -1.7195826026156353,
          2.0770261039693296,
          0.9157269383203186,
          1.6034945051068419,
          1.4061016270748796,
          1.1867928412372704,
          -2.0820453707948485,
          -1.6807858351767941,
          -2.165056692974259,
          1.231288141983034,
          1.554909189102093,
          -1.8020143687395582,
          1.5283955284710584,
          1.098098263212142,
          0.874635226241097,
          -1.3917497517122819,
          -1.0116249751362925,
          -2.0629431385693384,
          -1.8465002399168955,
          0.9338459082606596,
          3.6156320853034734,
          1.2483421458461297,
          0.2397693168986721,
          -0.9297531448977475,
          0.4887159630296629,
          0.3087166988893102,
          -0.14424940858034643,
          -0.7332377074812065,
          -0.17773784864449851,
          0.658245934906066,
          -0.723771841300866,
          0.1389334491796283,
          -0.6306147863758446,
          -0.08786423807367316,
          1.6066946846415122,
          -1.572542070091049,
          1.4045085746481478,
          -0.4312458970155618,
          -0.5670756253414411,
          0.34444135954116234,
          1.288548718047561,
          -2.1279730275596367,
          -1.0476273420269377,
          0.30010546682402645,
          -0.6265343376094372,
          -0.4361976268313784,
          -0.6197273997860949,
          -1.5799260493798235,
          -0.6628143561488542,
          -0.5707662280502799,
          -0.476117945391578,
          -0.4458666561401465,
          -1.246780081438188,
          0.04143486039784921,
          0.40034167648777585,
          0.10001084583810045,
          -0.4847344694666965,
          0.21065928815688462,
          -0.556949210629517,
          -0.9292373142760604,
          0.47824630044269534,
          0.11402827567744415,
          0.4175739542937405,
          -0.8635264943657273,
          -1.193299710501865,
          0.20726160959873435,
          -0.34555757383222785
         ],
         "yaxis": "y"
        }
       ],
       "layout": {
        "legend": {
         "title": {
          "text": "color"
         },
         "tracegroupgap": 0
        },
        "margin": {
         "t": 60
        },
        "template": {
         "data": {
          "bar": [
           {
            "error_x": {
             "color": "#2a3f5f"
            },
            "error_y": {
             "color": "#2a3f5f"
            },
            "marker": {
             "line": {
              "color": "#E5ECF6",
              "width": 0.5
             },
             "pattern": {
              "fillmode": "overlay",
              "size": 10,
              "solidity": 0.2
             }
            },
            "type": "bar"
           }
          ],
          "barpolar": [
           {
            "marker": {
             "line": {
              "color": "#E5ECF6",
              "width": 0.5
             },
             "pattern": {
              "fillmode": "overlay",
              "size": 10,
              "solidity": 0.2
             }
            },
            "type": "barpolar"
           }
          ],
          "carpet": [
           {
            "aaxis": {
             "endlinecolor": "#2a3f5f",
             "gridcolor": "white",
             "linecolor": "white",
             "minorgridcolor": "white",
             "startlinecolor": "#2a3f5f"
            },
            "baxis": {
             "endlinecolor": "#2a3f5f",
             "gridcolor": "white",
             "linecolor": "white",
             "minorgridcolor": "white",
             "startlinecolor": "#2a3f5f"
            },
            "type": "carpet"
           }
          ],
          "choropleth": [
           {
            "colorbar": {
             "outlinewidth": 0,
             "ticks": ""
            },
            "type": "choropleth"
           }
          ],
          "contour": [
           {
            "colorbar": {
             "outlinewidth": 0,
             "ticks": ""
            },
            "colorscale": [
             [
              0,
              "#0d0887"
             ],
             [
              0.1111111111111111,
              "#46039f"
             ],
             [
              0.2222222222222222,
              "#7201a8"
             ],
             [
              0.3333333333333333,
              "#9c179e"
             ],
             [
              0.4444444444444444,
              "#bd3786"
             ],
             [
              0.5555555555555556,
              "#d8576b"
             ],
             [
              0.6666666666666666,
              "#ed7953"
             ],
             [
              0.7777777777777778,
              "#fb9f3a"
             ],
             [
              0.8888888888888888,
              "#fdca26"
             ],
             [
              1,
              "#f0f921"
             ]
            ],
            "type": "contour"
           }
          ],
          "contourcarpet": [
           {
            "colorbar": {
             "outlinewidth": 0,
             "ticks": ""
            },
            "type": "contourcarpet"
           }
          ],
          "heatmap": [
           {
            "colorbar": {
             "outlinewidth": 0,
             "ticks": ""
            },
            "colorscale": [
             [
              0,
              "#0d0887"
             ],
             [
              0.1111111111111111,
              "#46039f"
             ],
             [
              0.2222222222222222,
              "#7201a8"
             ],
             [
              0.3333333333333333,
              "#9c179e"
             ],
             [
              0.4444444444444444,
              "#bd3786"
             ],
             [
              0.5555555555555556,
              "#d8576b"
             ],
             [
              0.6666666666666666,
              "#ed7953"
             ],
             [
              0.7777777777777778,
              "#fb9f3a"
             ],
             [
              0.8888888888888888,
              "#fdca26"
             ],
             [
              1,
              "#f0f921"
             ]
            ],
            "type": "heatmap"
           }
          ],
          "heatmapgl": [
           {
            "colorbar": {
             "outlinewidth": 0,
             "ticks": ""
            },
            "colorscale": [
             [
              0,
              "#0d0887"
             ],
             [
              0.1111111111111111,
              "#46039f"
             ],
             [
              0.2222222222222222,
              "#7201a8"
             ],
             [
              0.3333333333333333,
              "#9c179e"
             ],
             [
              0.4444444444444444,
              "#bd3786"
             ],
             [
              0.5555555555555556,
              "#d8576b"
             ],
             [
              0.6666666666666666,
              "#ed7953"
             ],
             [
              0.7777777777777778,
              "#fb9f3a"
             ],
             [
              0.8888888888888888,
              "#fdca26"
             ],
             [
              1,
              "#f0f921"
             ]
            ],
            "type": "heatmapgl"
           }
          ],
          "histogram": [
           {
            "marker": {
             "pattern": {
              "fillmode": "overlay",
              "size": 10,
              "solidity": 0.2
             }
            },
            "type": "histogram"
           }
          ],
          "histogram2d": [
           {
            "colorbar": {
             "outlinewidth": 0,
             "ticks": ""
            },
            "colorscale": [
             [
              0,
              "#0d0887"
             ],
             [
              0.1111111111111111,
              "#46039f"
             ],
             [
              0.2222222222222222,
              "#7201a8"
             ],
             [
              0.3333333333333333,
              "#9c179e"
             ],
             [
              0.4444444444444444,
              "#bd3786"
             ],
             [
              0.5555555555555556,
              "#d8576b"
             ],
             [
              0.6666666666666666,
              "#ed7953"
             ],
             [
              0.7777777777777778,
              "#fb9f3a"
             ],
             [
              0.8888888888888888,
              "#fdca26"
             ],
             [
              1,
              "#f0f921"
             ]
            ],
            "type": "histogram2d"
           }
          ],
          "histogram2dcontour": [
           {
            "colorbar": {
             "outlinewidth": 0,
             "ticks": ""
            },
            "colorscale": [
             [
              0,
              "#0d0887"
             ],
             [
              0.1111111111111111,
              "#46039f"
             ],
             [
              0.2222222222222222,
              "#7201a8"
             ],
             [
              0.3333333333333333,
              "#9c179e"
             ],
             [
              0.4444444444444444,
              "#bd3786"
             ],
             [
              0.5555555555555556,
              "#d8576b"
             ],
             [
              0.6666666666666666,
              "#ed7953"
             ],
             [
              0.7777777777777778,
              "#fb9f3a"
             ],
             [
              0.8888888888888888,
              "#fdca26"
             ],
             [
              1,
              "#f0f921"
             ]
            ],
            "type": "histogram2dcontour"
           }
          ],
          "mesh3d": [
           {
            "colorbar": {
             "outlinewidth": 0,
             "ticks": ""
            },
            "type": "mesh3d"
           }
          ],
          "parcoords": [
           {
            "line": {
             "colorbar": {
              "outlinewidth": 0,
              "ticks": ""
             }
            },
            "type": "parcoords"
           }
          ],
          "pie": [
           {
            "automargin": true,
            "type": "pie"
           }
          ],
          "scatter": [
           {
            "fillpattern": {
             "fillmode": "overlay",
             "size": 10,
             "solidity": 0.2
            },
            "type": "scatter"
           }
          ],
          "scatter3d": [
           {
            "line": {
             "colorbar": {
              "outlinewidth": 0,
              "ticks": ""
             }
            },
            "marker": {
             "colorbar": {
              "outlinewidth": 0,
              "ticks": ""
             }
            },
            "type": "scatter3d"
           }
          ],
          "scattercarpet": [
           {
            "marker": {
             "colorbar": {
              "outlinewidth": 0,
              "ticks": ""
             }
            },
            "type": "scattercarpet"
           }
          ],
          "scattergeo": [
           {
            "marker": {
             "colorbar": {
              "outlinewidth": 0,
              "ticks": ""
             }
            },
            "type": "scattergeo"
           }
          ],
          "scattergl": [
           {
            "marker": {
             "colorbar": {
              "outlinewidth": 0,
              "ticks": ""
             }
            },
            "type": "scattergl"
           }
          ],
          "scattermapbox": [
           {
            "marker": {
             "colorbar": {
              "outlinewidth": 0,
              "ticks": ""
             }
            },
            "type": "scattermapbox"
           }
          ],
          "scatterpolar": [
           {
            "marker": {
             "colorbar": {
              "outlinewidth": 0,
              "ticks": ""
             }
            },
            "type": "scatterpolar"
           }
          ],
          "scatterpolargl": [
           {
            "marker": {
             "colorbar": {
              "outlinewidth": 0,
              "ticks": ""
             }
            },
            "type": "scatterpolargl"
           }
          ],
          "scatterternary": [
           {
            "marker": {
             "colorbar": {
              "outlinewidth": 0,
              "ticks": ""
             }
            },
            "type": "scatterternary"
           }
          ],
          "surface": [
           {
            "colorbar": {
             "outlinewidth": 0,
             "ticks": ""
            },
            "colorscale": [
             [
              0,
              "#0d0887"
             ],
             [
              0.1111111111111111,
              "#46039f"
             ],
             [
              0.2222222222222222,
              "#7201a8"
             ],
             [
              0.3333333333333333,
              "#9c179e"
             ],
             [
              0.4444444444444444,
              "#bd3786"
             ],
             [
              0.5555555555555556,
              "#d8576b"
             ],
             [
              0.6666666666666666,
              "#ed7953"
             ],
             [
              0.7777777777777778,
              "#fb9f3a"
             ],
             [
              0.8888888888888888,
              "#fdca26"
             ],
             [
              1,
              "#f0f921"
             ]
            ],
            "type": "surface"
           }
          ],
          "table": [
           {
            "cells": {
             "fill": {
              "color": "#EBF0F8"
             },
             "line": {
              "color": "white"
             }
            },
            "header": {
             "fill": {
              "color": "#C8D4E3"
             },
             "line": {
              "color": "white"
             }
            },
            "type": "table"
           }
          ]
         },
         "layout": {
          "annotationdefaults": {
           "arrowcolor": "#2a3f5f",
           "arrowhead": 0,
           "arrowwidth": 1
          },
          "autotypenumbers": "strict",
          "coloraxis": {
           "colorbar": {
            "outlinewidth": 0,
            "ticks": ""
           }
          },
          "colorscale": {
           "diverging": [
            [
             0,
             "#8e0152"
            ],
            [
             0.1,
             "#c51b7d"
            ],
            [
             0.2,
             "#de77ae"
            ],
            [
             0.3,
             "#f1b6da"
            ],
            [
             0.4,
             "#fde0ef"
            ],
            [
             0.5,
             "#f7f7f7"
            ],
            [
             0.6,
             "#e6f5d0"
            ],
            [
             0.7,
             "#b8e186"
            ],
            [
             0.8,
             "#7fbc41"
            ],
            [
             0.9,
             "#4d9221"
            ],
            [
             1,
             "#276419"
            ]
           ],
           "sequential": [
            [
             0,
             "#0d0887"
            ],
            [
             0.1111111111111111,
             "#46039f"
            ],
            [
             0.2222222222222222,
             "#7201a8"
            ],
            [
             0.3333333333333333,
             "#9c179e"
            ],
            [
             0.4444444444444444,
             "#bd3786"
            ],
            [
             0.5555555555555556,
             "#d8576b"
            ],
            [
             0.6666666666666666,
             "#ed7953"
            ],
            [
             0.7777777777777778,
             "#fb9f3a"
            ],
            [
             0.8888888888888888,
             "#fdca26"
            ],
            [
             1,
             "#f0f921"
            ]
           ],
           "sequentialminus": [
            [
             0,
             "#0d0887"
            ],
            [
             0.1111111111111111,
             "#46039f"
            ],
            [
             0.2222222222222222,
             "#7201a8"
            ],
            [
             0.3333333333333333,
             "#9c179e"
            ],
            [
             0.4444444444444444,
             "#bd3786"
            ],
            [
             0.5555555555555556,
             "#d8576b"
            ],
            [
             0.6666666666666666,
             "#ed7953"
            ],
            [
             0.7777777777777778,
             "#fb9f3a"
            ],
            [
             0.8888888888888888,
             "#fdca26"
            ],
            [
             1,
             "#f0f921"
            ]
           ]
          },
          "colorway": [
           "#636efa",
           "#EF553B",
           "#00cc96",
           "#ab63fa",
           "#FFA15A",
           "#19d3f3",
           "#FF6692",
           "#B6E880",
           "#FF97FF",
           "#FECB52"
          ],
          "font": {
           "color": "#2a3f5f"
          },
          "geo": {
           "bgcolor": "white",
           "lakecolor": "white",
           "landcolor": "#E5ECF6",
           "showlakes": true,
           "showland": true,
           "subunitcolor": "white"
          },
          "hoverlabel": {
           "align": "left"
          },
          "hovermode": "closest",
          "mapbox": {
           "style": "light"
          },
          "paper_bgcolor": "white",
          "plot_bgcolor": "#E5ECF6",
          "polar": {
           "angularaxis": {
            "gridcolor": "white",
            "linecolor": "white",
            "ticks": ""
           },
           "bgcolor": "#E5ECF6",
           "radialaxis": {
            "gridcolor": "white",
            "linecolor": "white",
            "ticks": ""
           }
          },
          "scene": {
           "xaxis": {
            "backgroundcolor": "#E5ECF6",
            "gridcolor": "white",
            "gridwidth": 2,
            "linecolor": "white",
            "showbackground": true,
            "ticks": "",
            "zerolinecolor": "white"
           },
           "yaxis": {
            "backgroundcolor": "#E5ECF6",
            "gridcolor": "white",
            "gridwidth": 2,
            "linecolor": "white",
            "showbackground": true,
            "ticks": "",
            "zerolinecolor": "white"
           },
           "zaxis": {
            "backgroundcolor": "#E5ECF6",
            "gridcolor": "white",
            "gridwidth": 2,
            "linecolor": "white",
            "showbackground": true,
            "ticks": "",
            "zerolinecolor": "white"
           }
          },
          "shapedefaults": {
           "line": {
            "color": "#2a3f5f"
           }
          },
          "ternary": {
           "aaxis": {
            "gridcolor": "white",
            "linecolor": "white",
            "ticks": ""
           },
           "baxis": {
            "gridcolor": "white",
            "linecolor": "white",
            "ticks": ""
           },
           "bgcolor": "#E5ECF6",
           "caxis": {
            "gridcolor": "white",
            "linecolor": "white",
            "ticks": ""
           }
          },
          "title": {
           "x": 0.05
          },
          "xaxis": {
           "automargin": true,
           "gridcolor": "white",
           "linecolor": "white",
           "ticks": "",
           "title": {
            "standoff": 15
           },
           "zerolinecolor": "white",
           "zerolinewidth": 2
          },
          "yaxis": {
           "automargin": true,
           "gridcolor": "white",
           "linecolor": "white",
           "ticks": "",
           "title": {
            "standoff": 15
           },
           "zerolinecolor": "white",
           "zerolinewidth": 2
          }
         }
        },
        "title": {
         "text": "Soil Microbes by Site without Reduction"
        },
        "xaxis": {
         "anchor": "y",
         "domain": [
          0,
          1
         ],
         "title": {
          "text": "PC1 25.4%"
         }
        },
        "yaxis": {
         "anchor": "x",
         "domain": [
          0,
          1
         ],
         "title": {
          "text": "PC2 23.9%"
         }
        }
       }
      },
      "text/html": [
       "<div>                            <div id=\"5a8ddc5d-9c07-4174-a5fa-b25c09156343\" class=\"plotly-graph-div\" style=\"height:525px; width:100%;\"></div>            <script type=\"text/javascript\">                require([\"plotly\"], function(Plotly) {                    window.PLOTLYENV=window.PLOTLYENV || {};                                    if (document.getElementById(\"5a8ddc5d-9c07-4174-a5fa-b25c09156343\")) {                    Plotly.newPlot(                        \"5a8ddc5d-9c07-4174-a5fa-b25c09156343\",                        [{\"hovertemplate\":\"color=exaltata<br>0=%{x}<br>1=%{y}<extra></extra>\",\"legendgroup\":\"exaltata\",\"marker\":{\"color\":\"#636efa\",\"symbol\":\"circle\"},\"mode\":\"markers\",\"name\":\"exaltata\",\"orientation\":\"v\",\"showlegend\":true,\"x\":[0.5416762396503928,-1.813921190599267,-1.058981343210037,-2.6493209369085116,-0.1877217339212708,-1.9563811978656351,-0.3841637861958112,-2.1655749583617423,-0.9778637347578057,-1.113814800003713,-0.49785455975402915,-2.0198591109445685,-1.4227489980239467,-0.611963580368639,-2.551476927607921,-2.2237452371457773,-0.7080106439988341,-1.0502537930068818,-1.759108852431483,-2.593885461827069,-1.3633398869977542,-0.9118659817101612,-2.4220703689029834,-0.7607981513797852,-1.6076449441869907,-2.6812994820795226,-1.8559662893758038,1.305888976561753,-0.5568852539393703,-2.428528917663492,1.9410148418785773,0.05183549752816803,-1.8529077370560396,0.23250611150393832,2.552749532203298,-1.214298864489733,0.2176352327645338,2.4307881852242725,-1.3532503809711587,0.8939869683484031,0.055683892604318164,-0.5682672827505023,-3.792780678464536,-0.8350741853088522,0.26359678176313145,-1.1521969517684214],\"xaxis\":\"x\",\"y\":[-3.074936296766575,-2.7241545478012226,-2.575438133703954,-1.6771871572715855,-2.551119206306834,-2.937177625705619,-2.6301805966354688,-1.1571519114421032,-2.1450327821740136,-2.120854248270912,-3.0272726194911543,-0.7445903546105039,-1.6016134627757588,-2.1909191910549377,-2.475378178238026,-0.8723699738721274,-1.6592991199067257,-2.4990610356606164,-3.1993000173938726,-1.205181921395908,-2.9453588225094043,-2.525930222617439,-1.4534627792961743,-2.841968363776655,-2.5274886099623646,-1.2834480074248058,3.056957765974032,5.0540953149544645,3.2318399435624863,-1.7605751015356583,4.192671800386221,3.1737243991722135,-2.1812923862875753,3.4180934317526606,5.1712632528377505,-2.2092821459839325,3.7229048757843786,4.31871753556652,-2.1920690574860426,4.039037902973193,4.939661813450154,4.345569390927328,-2.445683583635679,-1.3826783033747385,3.718318969155486,-1.2618225844323756],\"yaxis\":\"y\",\"type\":\"scatter\"},{\"hovertemplate\":\"color=syriaca<br>0=%{x}<br>1=%{y}<extra></extra>\",\"legendgroup\":\"syriaca\",\"marker\":{\"color\":\"#EF553B\",\"symbol\":\"circle\"},\"mode\":\"markers\",\"name\":\"syriaca\",\"orientation\":\"v\",\"showlegend\":true,\"x\":[1.8578277187997898,1.5348531906752143,-0.32993145908433424,-1.4598906614563236,3.1576431733715418,-2.900433346965583,-2.3228212128611765,2.0791981584861867,2.1430012222913004,2.5403569033296147,0.4998690046750386,-0.9596315758426458,-1.6263430290341692,-3.158215816153323,-2.2295893898589423,2.7295883513185015,-2.219431723393377,-0.4177835600675277,-0.08833153693459947,-2.2742752829232353,-1.3624109393797648,0.11469095139386545,1.5459217965054959,-0.26717471119206765,-1.083244013480949,-2.6020111280893823,-0.9870268583089272,-1.4197459969123636,-2.552666939699014,3.487028699429885,3.0508844416925975,-1.5994051246038476,-2.459333973820203,0.37225572926927186,-1.4406530675833173,-1.8041119875154303,-0.4110693798319679,0.5538833331956498,1.1366869091000322,-0.5812426519773253,-1.6399542944618104,-3.2786129476656893,-0.6413768448666114,-1.2852149080267765,3.2573330137598955,1.3610880541056676,1.4765634497492204,-1.2426539927674813,0.03643118608418397,0.9242768574921376,-3.1765727723599806,-1.0582953641220063,-2.029417973394045,-1.8773805757859063,2.878613029881414,1.5024052744419156,2.358769290212103,-1.620156960213852,1.226114254947222,-1.9959484430650472,-2.6983798323053954,-1.4052794295975897,1.4684534118039767,1.2985210719300138,5.9678059830000105,-1.0204599284175087,3.006553244121942,2.3675742649043174,-0.3522635940368176,4.521465795010151,2.1817628212916484,1.1191879421850304,1.5524658441843682,0.41890223079119354,4.640402125040477,2.479717776795204,2.394973406834753,2.1197195500330466,1.5165037785987059,-0.6209358025349794,3.7889583287584747,-1.1207042712183823,1.2603124440766484,0.8588984343390491,4.458412479166267,-1.7492512122287296,-0.3575599203501022,1.4600441429012556,0.07290047125225259,-0.30376634583490775,3.9267577073099234,0.11237571572486472,-0.9799267535684872,4.621001978304997,0.5060657357764056,0.6360749271123048,4.482208581043248,0.3774854253759621,-1.252115412329852,3.833622382470516,0.7641314108094293,-0.5555383890783292,4.048119242878431,0.565248876589005,-1.2169062454742636],\"xaxis\":\"x\",\"y\":[-1.3358020899822238,-1.7189424383017442,2.1447012902248965,3.445467240941864,-1.4593239082829805,1.1554046326441292,2.2997501546885553,-0.8868302613414167,-1.380075773456604,-1.5479422047814742,1.995866849009662,1.52786791523831,2.491897890566808,1.1858883336411692,1.108313613594897,-1.263149749307354,1.3540590849323426,1.5968384093059325,2.8838520173721918,0.4881428135853471,2.114687639252496,-2.03813197449272,-1.1194907221197261,1.3377020144687795,0.8999012075967371,1.1073821032325608,1.2626889112742037,1.0182228180124075,1.641636893049701,-0.48441278411772615,-1.6053638810134265,1.6680503932583604,0.6922491749307992,1.901284190081983,1.8545283684090954,1.047555638613163,1.6686524909549312,-1.405198464134742,-1.7195826026156353,2.0770261039693296,0.9157269383203186,1.6034945051068419,1.4061016270748796,1.1867928412372704,-2.0820453707948485,-1.6807858351767941,-2.165056692974259,1.231288141983034,1.554909189102093,-1.8020143687395582,1.5283955284710584,1.098098263212142,0.874635226241097,-1.3917497517122819,-1.0116249751362925,-2.0629431385693384,-1.8465002399168955,0.9338459082606596,3.6156320853034734,1.2483421458461297,0.2397693168986721,-0.9297531448977475,0.4887159630296629,0.3087166988893102,-0.14424940858034643,-0.7332377074812065,-0.17773784864449851,0.658245934906066,-0.723771841300866,0.1389334491796283,-0.6306147863758446,-0.08786423807367316,1.6066946846415122,-1.572542070091049,1.4045085746481478,-0.4312458970155618,-0.5670756253414411,0.34444135954116234,1.288548718047561,-2.1279730275596367,-1.0476273420269377,0.30010546682402645,-0.6265343376094372,-0.4361976268313784,-0.6197273997860949,-1.5799260493798235,-0.6628143561488542,-0.5707662280502799,-0.476117945391578,-0.4458666561401465,-1.246780081438188,0.04143486039784921,0.40034167648777585,0.10001084583810045,-0.4847344694666965,0.21065928815688462,-0.556949210629517,-0.9292373142760604,0.47824630044269534,0.11402827567744415,0.4175739542937405,-0.8635264943657273,-1.193299710501865,0.20726160959873435,-0.34555757383222785],\"yaxis\":\"y\",\"type\":\"scatter\"}],                        {\"template\":{\"data\":{\"histogram2dcontour\":[{\"type\":\"histogram2dcontour\",\"colorbar\":{\"outlinewidth\":0,\"ticks\":\"\"},\"colorscale\":[[0.0,\"#0d0887\"],[0.1111111111111111,\"#46039f\"],[0.2222222222222222,\"#7201a8\"],[0.3333333333333333,\"#9c179e\"],[0.4444444444444444,\"#bd3786\"],[0.5555555555555556,\"#d8576b\"],[0.6666666666666666,\"#ed7953\"],[0.7777777777777778,\"#fb9f3a\"],[0.8888888888888888,\"#fdca26\"],[1.0,\"#f0f921\"]]}],\"choropleth\":[{\"type\":\"choropleth\",\"colorbar\":{\"outlinewidth\":0,\"ticks\":\"\"}}],\"histogram2d\":[{\"type\":\"histogram2d\",\"colorbar\":{\"outlinewidth\":0,\"ticks\":\"\"},\"colorscale\":[[0.0,\"#0d0887\"],[0.1111111111111111,\"#46039f\"],[0.2222222222222222,\"#7201a8\"],[0.3333333333333333,\"#9c179e\"],[0.4444444444444444,\"#bd3786\"],[0.5555555555555556,\"#d8576b\"],[0.6666666666666666,\"#ed7953\"],[0.7777777777777778,\"#fb9f3a\"],[0.8888888888888888,\"#fdca26\"],[1.0,\"#f0f921\"]]}],\"heatmap\":[{\"type\":\"heatmap\",\"colorbar\":{\"outlinewidth\":0,\"ticks\":\"\"},\"colorscale\":[[0.0,\"#0d0887\"],[0.1111111111111111,\"#46039f\"],[0.2222222222222222,\"#7201a8\"],[0.3333333333333333,\"#9c179e\"],[0.4444444444444444,\"#bd3786\"],[0.5555555555555556,\"#d8576b\"],[0.6666666666666666,\"#ed7953\"],[0.7777777777777778,\"#fb9f3a\"],[0.8888888888888888,\"#fdca26\"],[1.0,\"#f0f921\"]]}],\"heatmapgl\":[{\"type\":\"heatmapgl\",\"colorbar\":{\"outlinewidth\":0,\"ticks\":\"\"},\"colorscale\":[[0.0,\"#0d0887\"],[0.1111111111111111,\"#46039f\"],[0.2222222222222222,\"#7201a8\"],[0.3333333333333333,\"#9c179e\"],[0.4444444444444444,\"#bd3786\"],[0.5555555555555556,\"#d8576b\"],[0.6666666666666666,\"#ed7953\"],[0.7777777777777778,\"#fb9f3a\"],[0.8888888888888888,\"#fdca26\"],[1.0,\"#f0f921\"]]}],\"contourcarpet\":[{\"type\":\"contourcarpet\",\"colorbar\":{\"outlinewidth\":0,\"ticks\":\"\"}}],\"contour\":[{\"type\":\"contour\",\"colorbar\":{\"outlinewidth\":0,\"ticks\":\"\"},\"colorscale\":[[0.0,\"#0d0887\"],[0.1111111111111111,\"#46039f\"],[0.2222222222222222,\"#7201a8\"],[0.3333333333333333,\"#9c179e\"],[0.4444444444444444,\"#bd3786\"],[0.5555555555555556,\"#d8576b\"],[0.6666666666666666,\"#ed7953\"],[0.7777777777777778,\"#fb9f3a\"],[0.8888888888888888,\"#fdca26\"],[1.0,\"#f0f921\"]]}],\"surface\":[{\"type\":\"surface\",\"colorbar\":{\"outlinewidth\":0,\"ticks\":\"\"},\"colorscale\":[[0.0,\"#0d0887\"],[0.1111111111111111,\"#46039f\"],[0.2222222222222222,\"#7201a8\"],[0.3333333333333333,\"#9c179e\"],[0.4444444444444444,\"#bd3786\"],[0.5555555555555556,\"#d8576b\"],[0.6666666666666666,\"#ed7953\"],[0.7777777777777778,\"#fb9f3a\"],[0.8888888888888888,\"#fdca26\"],[1.0,\"#f0f921\"]]}],\"mesh3d\":[{\"type\":\"mesh3d\",\"colorbar\":{\"outlinewidth\":0,\"ticks\":\"\"}}],\"scatter\":[{\"fillpattern\":{\"fillmode\":\"overlay\",\"size\":10,\"solidity\":0.2},\"type\":\"scatter\"}],\"parcoords\":[{\"type\":\"parcoords\",\"line\":{\"colorbar\":{\"outlinewidth\":0,\"ticks\":\"\"}}}],\"scatterpolargl\":[{\"type\":\"scatterpolargl\",\"marker\":{\"colorbar\":{\"outlinewidth\":0,\"ticks\":\"\"}}}],\"bar\":[{\"error_x\":{\"color\":\"#2a3f5f\"},\"error_y\":{\"color\":\"#2a3f5f\"},\"marker\":{\"line\":{\"color\":\"#E5ECF6\",\"width\":0.5},\"pattern\":{\"fillmode\":\"overlay\",\"size\":10,\"solidity\":0.2}},\"type\":\"bar\"}],\"scattergeo\":[{\"type\":\"scattergeo\",\"marker\":{\"colorbar\":{\"outlinewidth\":0,\"ticks\":\"\"}}}],\"scatterpolar\":[{\"type\":\"scatterpolar\",\"marker\":{\"colorbar\":{\"outlinewidth\":0,\"ticks\":\"\"}}}],\"histogram\":[{\"marker\":{\"pattern\":{\"fillmode\":\"overlay\",\"size\":10,\"solidity\":0.2}},\"type\":\"histogram\"}],\"scattergl\":[{\"type\":\"scattergl\",\"marker\":{\"colorbar\":{\"outlinewidth\":0,\"ticks\":\"\"}}}],\"scatter3d\":[{\"type\":\"scatter3d\",\"line\":{\"colorbar\":{\"outlinewidth\":0,\"ticks\":\"\"}},\"marker\":{\"colorbar\":{\"outlinewidth\":0,\"ticks\":\"\"}}}],\"scattermapbox\":[{\"type\":\"scattermapbox\",\"marker\":{\"colorbar\":{\"outlinewidth\":0,\"ticks\":\"\"}}}],\"scatterternary\":[{\"type\":\"scatterternary\",\"marker\":{\"colorbar\":{\"outlinewidth\":0,\"ticks\":\"\"}}}],\"scattercarpet\":[{\"type\":\"scattercarpet\",\"marker\":{\"colorbar\":{\"outlinewidth\":0,\"ticks\":\"\"}}}],\"carpet\":[{\"aaxis\":{\"endlinecolor\":\"#2a3f5f\",\"gridcolor\":\"white\",\"linecolor\":\"white\",\"minorgridcolor\":\"white\",\"startlinecolor\":\"#2a3f5f\"},\"baxis\":{\"endlinecolor\":\"#2a3f5f\",\"gridcolor\":\"white\",\"linecolor\":\"white\",\"minorgridcolor\":\"white\",\"startlinecolor\":\"#2a3f5f\"},\"type\":\"carpet\"}],\"table\":[{\"cells\":{\"fill\":{\"color\":\"#EBF0F8\"},\"line\":{\"color\":\"white\"}},\"header\":{\"fill\":{\"color\":\"#C8D4E3\"},\"line\":{\"color\":\"white\"}},\"type\":\"table\"}],\"barpolar\":[{\"marker\":{\"line\":{\"color\":\"#E5ECF6\",\"width\":0.5},\"pattern\":{\"fillmode\":\"overlay\",\"size\":10,\"solidity\":0.2}},\"type\":\"barpolar\"}],\"pie\":[{\"automargin\":true,\"type\":\"pie\"}]},\"layout\":{\"autotypenumbers\":\"strict\",\"colorway\":[\"#636efa\",\"#EF553B\",\"#00cc96\",\"#ab63fa\",\"#FFA15A\",\"#19d3f3\",\"#FF6692\",\"#B6E880\",\"#FF97FF\",\"#FECB52\"],\"font\":{\"color\":\"#2a3f5f\"},\"hovermode\":\"closest\",\"hoverlabel\":{\"align\":\"left\"},\"paper_bgcolor\":\"white\",\"plot_bgcolor\":\"#E5ECF6\",\"polar\":{\"bgcolor\":\"#E5ECF6\",\"angularaxis\":{\"gridcolor\":\"white\",\"linecolor\":\"white\",\"ticks\":\"\"},\"radialaxis\":{\"gridcolor\":\"white\",\"linecolor\":\"white\",\"ticks\":\"\"}},\"ternary\":{\"bgcolor\":\"#E5ECF6\",\"aaxis\":{\"gridcolor\":\"white\",\"linecolor\":\"white\",\"ticks\":\"\"},\"baxis\":{\"gridcolor\":\"white\",\"linecolor\":\"white\",\"ticks\":\"\"},\"caxis\":{\"gridcolor\":\"white\",\"linecolor\":\"white\",\"ticks\":\"\"}},\"coloraxis\":{\"colorbar\":{\"outlinewidth\":0,\"ticks\":\"\"}},\"colorscale\":{\"sequential\":[[0.0,\"#0d0887\"],[0.1111111111111111,\"#46039f\"],[0.2222222222222222,\"#7201a8\"],[0.3333333333333333,\"#9c179e\"],[0.4444444444444444,\"#bd3786\"],[0.5555555555555556,\"#d8576b\"],[0.6666666666666666,\"#ed7953\"],[0.7777777777777778,\"#fb9f3a\"],[0.8888888888888888,\"#fdca26\"],[1.0,\"#f0f921\"]],\"sequentialminus\":[[0.0,\"#0d0887\"],[0.1111111111111111,\"#46039f\"],[0.2222222222222222,\"#7201a8\"],[0.3333333333333333,\"#9c179e\"],[0.4444444444444444,\"#bd3786\"],[0.5555555555555556,\"#d8576b\"],[0.6666666666666666,\"#ed7953\"],[0.7777777777777778,\"#fb9f3a\"],[0.8888888888888888,\"#fdca26\"],[1.0,\"#f0f921\"]],\"diverging\":[[0,\"#8e0152\"],[0.1,\"#c51b7d\"],[0.2,\"#de77ae\"],[0.3,\"#f1b6da\"],[0.4,\"#fde0ef\"],[0.5,\"#f7f7f7\"],[0.6,\"#e6f5d0\"],[0.7,\"#b8e186\"],[0.8,\"#7fbc41\"],[0.9,\"#4d9221\"],[1,\"#276419\"]]},\"xaxis\":{\"gridcolor\":\"white\",\"linecolor\":\"white\",\"ticks\":\"\",\"title\":{\"standoff\":15},\"zerolinecolor\":\"white\",\"automargin\":true,\"zerolinewidth\":2},\"yaxis\":{\"gridcolor\":\"white\",\"linecolor\":\"white\",\"ticks\":\"\",\"title\":{\"standoff\":15},\"zerolinecolor\":\"white\",\"automargin\":true,\"zerolinewidth\":2},\"scene\":{\"xaxis\":{\"backgroundcolor\":\"#E5ECF6\",\"gridcolor\":\"white\",\"linecolor\":\"white\",\"showbackground\":true,\"ticks\":\"\",\"zerolinecolor\":\"white\",\"gridwidth\":2},\"yaxis\":{\"backgroundcolor\":\"#E5ECF6\",\"gridcolor\":\"white\",\"linecolor\":\"white\",\"showbackground\":true,\"ticks\":\"\",\"zerolinecolor\":\"white\",\"gridwidth\":2},\"zaxis\":{\"backgroundcolor\":\"#E5ECF6\",\"gridcolor\":\"white\",\"linecolor\":\"white\",\"showbackground\":true,\"ticks\":\"\",\"zerolinecolor\":\"white\",\"gridwidth\":2}},\"shapedefaults\":{\"line\":{\"color\":\"#2a3f5f\"}},\"annotationdefaults\":{\"arrowcolor\":\"#2a3f5f\",\"arrowhead\":0,\"arrowwidth\":1},\"geo\":{\"bgcolor\":\"white\",\"landcolor\":\"#E5ECF6\",\"subunitcolor\":\"white\",\"showland\":true,\"showlakes\":true,\"lakecolor\":\"white\"},\"title\":{\"x\":0.05},\"mapbox\":{\"style\":\"light\"}}},\"xaxis\":{\"anchor\":\"y\",\"domain\":[0.0,1.0],\"title\":{\"text\":\"PC1 25.4%\"}},\"yaxis\":{\"anchor\":\"x\",\"domain\":[0.0,1.0],\"title\":{\"text\":\"PC2 23.9%\"}},\"legend\":{\"title\":{\"text\":\"color\"},\"tracegroupgap\":0},\"margin\":{\"t\":60},\"title\":{\"text\":\"Soil Microbes by Site without Reduction\"}},                        {\"responsive\": true}                    ).then(function(){\n",
       "                            \n",
       "var gd = document.getElementById('5a8ddc5d-9c07-4174-a5fa-b25c09156343');\n",
       "var x = new MutationObserver(function (mutations, observer) {{\n",
       "        var display = window.getComputedStyle(gd).display;\n",
       "        if (!display || display === 'none') {{\n",
       "            console.log([gd, 'removed!']);\n",
       "            Plotly.purge(gd);\n",
       "            observer.disconnect();\n",
       "        }}\n",
       "}});\n",
       "\n",
       "// Listen for the removal of the full notebook cells\n",
       "var notebookContainer = gd.closest('#notebook-container');\n",
       "if (notebookContainer) {{\n",
       "    x.observe(notebookContainer, {childList: true});\n",
       "}}\n",
       "\n",
       "// Listen for the clearing of the current output cell\n",
       "var outputEl = gd.closest('.output');\n",
       "if (outputEl) {{\n",
       "    x.observe(outputEl, {childList: true});\n",
       "}}\n",
       "\n",
       "                        })                };                });            </script>        </div>"
      ]
     },
     "metadata": {},
     "output_type": "display_data"
    },
    {
     "data": {
      "application/vnd.plotly.v1+json": {
       "config": {
        "plotlyServerURL": "https://plot.ly"
       },
       "data": [
        {
         "hovertemplate": "color=Wintergreen<br>0=%{x}<br>1=%{y}<extra></extra>",
         "legendgroup": "Wintergreen",
         "marker": {
          "color": "#636efa",
          "symbol": "circle"
         },
         "mode": "markers",
         "name": "Wintergreen",
         "orientation": "v",
         "showlegend": true,
         "type": "scatter",
         "x": [
          0.5416762396503928,
          -1.813921190599267,
          -1.058981343210037,
          -0.1877217339212708,
          -1.9563811978656351,
          -0.3841637861958112,
          -0.9778637347578057,
          -1.113814800003713,
          -0.49785455975402915,
          -1.4227489980239467,
          -0.611963580368639,
          -2.551476927607921,
          -0.7080106439988341,
          -1.0502537930068818,
          -1.759108852431483,
          -1.3633398869977542,
          -0.9118659817101612,
          -0.7607981513797852,
          -1.6076449441869907,
          -2.428528917663492,
          1.4684534118039767,
          1.2985210719300138,
          3.006553244121942,
          -1.8529077370560396,
          2.3675742649043174,
          -0.3522635940368176,
          2.1817628212916484,
          -1.214298864489733,
          1.1191879421850304,
          1.5524658441843682,
          2.479717776795204,
          -1.3532503809711587,
          2.1197195500330466,
          1.5165037785987059,
          -0.6209358025349794,
          1.2603124440766484,
          0.8588984343390491,
          1.4600441429012556,
          0.07290047125225259,
          -0.30376634583490775,
          4.621001978304997,
          -0.8350741853088522,
          0.5060657357764056,
          0.6360749271123048,
          3.833622382470516,
          -1.1521969517684214,
          0.7641314108094293,
          -0.5555383890783292
         ],
         "xaxis": "x",
         "y": [
          -3.074936296766575,
          -2.7241545478012226,
          -2.575438133703954,
          -2.551119206306834,
          -2.937177625705619,
          -2.6301805966354688,
          -2.1450327821740136,
          -2.120854248270912,
          -3.0272726194911543,
          -1.6016134627757588,
          -2.1909191910549377,
          -2.475378178238026,
          -1.6592991199067257,
          -2.4990610356606164,
          -3.1993000173938726,
          -2.9453588225094043,
          -2.525930222617439,
          -2.841968363776655,
          -2.5274886099623646,
          -1.7605751015356583,
          0.4887159630296629,
          0.3087166988893102,
          -0.17773784864449851,
          -2.1812923862875753,
          0.658245934906066,
          -0.723771841300866,
          -0.6306147863758446,
          -2.2092821459839325,
          -0.08786423807367316,
          1.6066946846415122,
          -0.4312458970155618,
          -2.1920690574860426,
          0.34444135954116234,
          1.288548718047561,
          -2.1279730275596367,
          -0.6265343376094372,
          -0.4361976268313784,
          -0.5707662280502799,
          -0.476117945391578,
          -0.4458666561401465,
          0.10001084583810045,
          -1.3826783033747385,
          -0.4847344694666965,
          0.21065928815688462,
          0.11402827567744415,
          -1.2618225844323756,
          0.4175739542937405,
          -0.8635264943657273
         ],
         "yaxis": "y"
        },
        {
         "hovertemplate": "color=Cole Mountain<br>0=%{x}<br>1=%{y}<extra></extra>",
         "legendgroup": "Cole Mountain",
         "marker": {
          "color": "#EF553B",
          "symbol": "circle"
         },
         "mode": "markers",
         "name": "Cole Mountain",
         "orientation": "v",
         "showlegend": true,
         "type": "scatter",
         "x": [
          1.8578277187997898,
          1.5348531906752143,
          -0.32993145908433424,
          -1.4598906614563236,
          -2.900433346965583,
          -2.3228212128611765,
          -2.6493209369085116,
          2.0791981584861867,
          2.1430012222913004,
          2.5403569033296147,
          0.4998690046750386,
          -0.9596315758426458,
          -1.6263430290341692,
          -3.158215816153323,
          -2.2295893898589423,
          -2.1655749583617423,
          2.7295883513185015,
          -2.219431723393377,
          -0.4177835600675277,
          -0.08833153693459947,
          -2.2742752829232353,
          -1.3624109393797648,
          -2.0198591109445685,
          0.11469095139386545,
          1.5459217965054959,
          -0.26717471119206765,
          -1.083244013480949,
          -2.6020111280893823,
          -0.9870268583089272,
          -1.4197459969123636,
          -2.552666939699014,
          -2.2237452371457773,
          3.487028699429885,
          3.0508844416925975,
          -1.5994051246038476,
          -2.459333973820203,
          0.37225572926927186,
          -1.4406530675833173,
          -1.8041119875154303,
          -0.4110693798319679,
          -2.593885461827069,
          0.5538833331956498,
          1.1366869091000322,
          -0.5812426519773253,
          -1.6399542944618104,
          -3.2786129476656893,
          -0.6413768448666114,
          -1.2852149080267765,
          -2.4220703689029834,
          3.2573330137598955,
          1.3610880541056676,
          1.4765634497492204,
          -1.2426539927674813,
          0.03643118608418397,
          -3.1765727723599806,
          -1.0582953641220063,
          -2.029417973394045,
          -1.8773805757859063,
          2.878613029881414,
          1.5024052744419156,
          2.358769290212103,
          -1.620156960213852,
          1.226114254947222,
          -1.9959484430650472,
          -2.6983798323053954,
          -1.4052794295975897,
          -1.8559662893758038,
          1.305888976561753,
          -0.5568852539393703,
          1.9410148418785773,
          0.05183549752816803,
          0.23250611150393832,
          2.552749532203298,
          0.41890223079119354,
          0.2176352327645338,
          2.4307881852242725,
          2.394973406834753,
          0.8939869683484031,
          0.055683892604318164,
          -0.5682672827505023,
          -3.792780678464536,
          0.26359678176313145
         ],
         "xaxis": "x",
         "y": [
          -1.3358020899822238,
          -1.7189424383017442,
          2.1447012902248965,
          3.445467240941864,
          1.1554046326441292,
          2.2997501546885553,
          -1.6771871572715855,
          -0.8868302613414167,
          -1.380075773456604,
          -1.5479422047814742,
          1.995866849009662,
          1.52786791523831,
          2.491897890566808,
          1.1858883336411692,
          1.108313613594897,
          -1.1571519114421032,
          -1.263149749307354,
          1.3540590849323426,
          1.5968384093059325,
          2.8838520173721918,
          0.4881428135853471,
          2.114687639252496,
          -0.7445903546105039,
          -2.03813197449272,
          -1.1194907221197261,
          1.3377020144687795,
          0.8999012075967371,
          1.1073821032325608,
          1.2626889112742037,
          1.0182228180124075,
          1.641636893049701,
          -0.8723699738721274,
          -0.48441278411772615,
          -1.6053638810134265,
          1.6680503932583604,
          0.6922491749307992,
          1.901284190081983,
          1.8545283684090954,
          1.047555638613163,
          1.6686524909549312,
          -1.205181921395908,
          -1.405198464134742,
          -1.7195826026156353,
          2.0770261039693296,
          0.9157269383203186,
          1.6034945051068419,
          1.4061016270748796,
          1.1867928412372704,
          -1.4534627792961743,
          -2.0820453707948485,
          -1.6807858351767941,
          -2.165056692974259,
          1.231288141983034,
          1.554909189102093,
          1.5283955284710584,
          1.098098263212142,
          0.874635226241097,
          -1.3917497517122819,
          -1.0116249751362925,
          -2.0629431385693384,
          -1.8465002399168955,
          0.9338459082606596,
          3.6156320853034734,
          1.2483421458461297,
          0.2397693168986721,
          -0.9297531448977475,
          3.056957765974032,
          5.0540953149544645,
          3.2318399435624863,
          4.192671800386221,
          3.1737243991722135,
          3.4180934317526606,
          5.1712632528377505,
          -1.572542070091049,
          3.7229048757843786,
          4.31871753556652,
          -0.5670756253414411,
          4.039037902973193,
          4.939661813450154,
          4.345569390927328,
          -2.445683583635679,
          3.718318969155486
         ],
         "yaxis": "y"
        },
        {
         "hovertemplate": "color=Blacksburg<br>0=%{x}<br>1=%{y}<extra></extra>",
         "legendgroup": "Blacksburg",
         "marker": {
          "color": "#00cc96",
          "symbol": "circle"
         },
         "mode": "markers",
         "name": "Blacksburg",
         "orientation": "v",
         "showlegend": true,
         "type": "scatter",
         "x": [
          3.1576431733715418,
          0.9242768574921376,
          -2.6812994820795226,
          5.9678059830000105,
          -1.0204599284175087,
          4.521465795010151,
          4.640402125040477,
          3.7889583287584747,
          -1.1207042712183823,
          4.458412479166267,
          -1.7492512122287296,
          -0.3575599203501022,
          3.9267577073099234,
          0.11237571572486472,
          -0.9799267535684872,
          4.482208581043248,
          0.3774854253759621,
          -1.252115412329852,
          4.048119242878431,
          0.565248876589005,
          -1.2169062454742636
         ],
         "xaxis": "x",
         "y": [
          -1.4593239082829805,
          -1.8020143687395582,
          -1.2834480074248058,
          -0.14424940858034643,
          -0.7332377074812065,
          0.1389334491796283,
          1.4045085746481478,
          -1.0476273420269377,
          0.30010546682402645,
          -0.6197273997860949,
          -1.5799260493798235,
          -0.6628143561488542,
          -1.246780081438188,
          0.04143486039784921,
          0.40034167648777585,
          -0.556949210629517,
          -0.9292373142760604,
          0.47824630044269534,
          -1.193299710501865,
          0.20726160959873435,
          -0.34555757383222785
         ],
         "yaxis": "y"
        }
       ],
       "layout": {
        "legend": {
         "title": {
          "text": "color"
         },
         "tracegroupgap": 0
        },
        "margin": {
         "t": 60
        },
        "template": {
         "data": {
          "bar": [
           {
            "error_x": {
             "color": "#2a3f5f"
            },
            "error_y": {
             "color": "#2a3f5f"
            },
            "marker": {
             "line": {
              "color": "#E5ECF6",
              "width": 0.5
             },
             "pattern": {
              "fillmode": "overlay",
              "size": 10,
              "solidity": 0.2
             }
            },
            "type": "bar"
           }
          ],
          "barpolar": [
           {
            "marker": {
             "line": {
              "color": "#E5ECF6",
              "width": 0.5
             },
             "pattern": {
              "fillmode": "overlay",
              "size": 10,
              "solidity": 0.2
             }
            },
            "type": "barpolar"
           }
          ],
          "carpet": [
           {
            "aaxis": {
             "endlinecolor": "#2a3f5f",
             "gridcolor": "white",
             "linecolor": "white",
             "minorgridcolor": "white",
             "startlinecolor": "#2a3f5f"
            },
            "baxis": {
             "endlinecolor": "#2a3f5f",
             "gridcolor": "white",
             "linecolor": "white",
             "minorgridcolor": "white",
             "startlinecolor": "#2a3f5f"
            },
            "type": "carpet"
           }
          ],
          "choropleth": [
           {
            "colorbar": {
             "outlinewidth": 0,
             "ticks": ""
            },
            "type": "choropleth"
           }
          ],
          "contour": [
           {
            "colorbar": {
             "outlinewidth": 0,
             "ticks": ""
            },
            "colorscale": [
             [
              0,
              "#0d0887"
             ],
             [
              0.1111111111111111,
              "#46039f"
             ],
             [
              0.2222222222222222,
              "#7201a8"
             ],
             [
              0.3333333333333333,
              "#9c179e"
             ],
             [
              0.4444444444444444,
              "#bd3786"
             ],
             [
              0.5555555555555556,
              "#d8576b"
             ],
             [
              0.6666666666666666,
              "#ed7953"
             ],
             [
              0.7777777777777778,
              "#fb9f3a"
             ],
             [
              0.8888888888888888,
              "#fdca26"
             ],
             [
              1,
              "#f0f921"
             ]
            ],
            "type": "contour"
           }
          ],
          "contourcarpet": [
           {
            "colorbar": {
             "outlinewidth": 0,
             "ticks": ""
            },
            "type": "contourcarpet"
           }
          ],
          "heatmap": [
           {
            "colorbar": {
             "outlinewidth": 0,
             "ticks": ""
            },
            "colorscale": [
             [
              0,
              "#0d0887"
             ],
             [
              0.1111111111111111,
              "#46039f"
             ],
             [
              0.2222222222222222,
              "#7201a8"
             ],
             [
              0.3333333333333333,
              "#9c179e"
             ],
             [
              0.4444444444444444,
              "#bd3786"
             ],
             [
              0.5555555555555556,
              "#d8576b"
             ],
             [
              0.6666666666666666,
              "#ed7953"
             ],
             [
              0.7777777777777778,
              "#fb9f3a"
             ],
             [
              0.8888888888888888,
              "#fdca26"
             ],
             [
              1,
              "#f0f921"
             ]
            ],
            "type": "heatmap"
           }
          ],
          "heatmapgl": [
           {
            "colorbar": {
             "outlinewidth": 0,
             "ticks": ""
            },
            "colorscale": [
             [
              0,
              "#0d0887"
             ],
             [
              0.1111111111111111,
              "#46039f"
             ],
             [
              0.2222222222222222,
              "#7201a8"
             ],
             [
              0.3333333333333333,
              "#9c179e"
             ],
             [
              0.4444444444444444,
              "#bd3786"
             ],
             [
              0.5555555555555556,
              "#d8576b"
             ],
             [
              0.6666666666666666,
              "#ed7953"
             ],
             [
              0.7777777777777778,
              "#fb9f3a"
             ],
             [
              0.8888888888888888,
              "#fdca26"
             ],
             [
              1,
              "#f0f921"
             ]
            ],
            "type": "heatmapgl"
           }
          ],
          "histogram": [
           {
            "marker": {
             "pattern": {
              "fillmode": "overlay",
              "size": 10,
              "solidity": 0.2
             }
            },
            "type": "histogram"
           }
          ],
          "histogram2d": [
           {
            "colorbar": {
             "outlinewidth": 0,
             "ticks": ""
            },
            "colorscale": [
             [
              0,
              "#0d0887"
             ],
             [
              0.1111111111111111,
              "#46039f"
             ],
             [
              0.2222222222222222,
              "#7201a8"
             ],
             [
              0.3333333333333333,
              "#9c179e"
             ],
             [
              0.4444444444444444,
              "#bd3786"
             ],
             [
              0.5555555555555556,
              "#d8576b"
             ],
             [
              0.6666666666666666,
              "#ed7953"
             ],
             [
              0.7777777777777778,
              "#fb9f3a"
             ],
             [
              0.8888888888888888,
              "#fdca26"
             ],
             [
              1,
              "#f0f921"
             ]
            ],
            "type": "histogram2d"
           }
          ],
          "histogram2dcontour": [
           {
            "colorbar": {
             "outlinewidth": 0,
             "ticks": ""
            },
            "colorscale": [
             [
              0,
              "#0d0887"
             ],
             [
              0.1111111111111111,
              "#46039f"
             ],
             [
              0.2222222222222222,
              "#7201a8"
             ],
             [
              0.3333333333333333,
              "#9c179e"
             ],
             [
              0.4444444444444444,
              "#bd3786"
             ],
             [
              0.5555555555555556,
              "#d8576b"
             ],
             [
              0.6666666666666666,
              "#ed7953"
             ],
             [
              0.7777777777777778,
              "#fb9f3a"
             ],
             [
              0.8888888888888888,
              "#fdca26"
             ],
             [
              1,
              "#f0f921"
             ]
            ],
            "type": "histogram2dcontour"
           }
          ],
          "mesh3d": [
           {
            "colorbar": {
             "outlinewidth": 0,
             "ticks": ""
            },
            "type": "mesh3d"
           }
          ],
          "parcoords": [
           {
            "line": {
             "colorbar": {
              "outlinewidth": 0,
              "ticks": ""
             }
            },
            "type": "parcoords"
           }
          ],
          "pie": [
           {
            "automargin": true,
            "type": "pie"
           }
          ],
          "scatter": [
           {
            "fillpattern": {
             "fillmode": "overlay",
             "size": 10,
             "solidity": 0.2
            },
            "type": "scatter"
           }
          ],
          "scatter3d": [
           {
            "line": {
             "colorbar": {
              "outlinewidth": 0,
              "ticks": ""
             }
            },
            "marker": {
             "colorbar": {
              "outlinewidth": 0,
              "ticks": ""
             }
            },
            "type": "scatter3d"
           }
          ],
          "scattercarpet": [
           {
            "marker": {
             "colorbar": {
              "outlinewidth": 0,
              "ticks": ""
             }
            },
            "type": "scattercarpet"
           }
          ],
          "scattergeo": [
           {
            "marker": {
             "colorbar": {
              "outlinewidth": 0,
              "ticks": ""
             }
            },
            "type": "scattergeo"
           }
          ],
          "scattergl": [
           {
            "marker": {
             "colorbar": {
              "outlinewidth": 0,
              "ticks": ""
             }
            },
            "type": "scattergl"
           }
          ],
          "scattermapbox": [
           {
            "marker": {
             "colorbar": {
              "outlinewidth": 0,
              "ticks": ""
             }
            },
            "type": "scattermapbox"
           }
          ],
          "scatterpolar": [
           {
            "marker": {
             "colorbar": {
              "outlinewidth": 0,
              "ticks": ""
             }
            },
            "type": "scatterpolar"
           }
          ],
          "scatterpolargl": [
           {
            "marker": {
             "colorbar": {
              "outlinewidth": 0,
              "ticks": ""
             }
            },
            "type": "scatterpolargl"
           }
          ],
          "scatterternary": [
           {
            "marker": {
             "colorbar": {
              "outlinewidth": 0,
              "ticks": ""
             }
            },
            "type": "scatterternary"
           }
          ],
          "surface": [
           {
            "colorbar": {
             "outlinewidth": 0,
             "ticks": ""
            },
            "colorscale": [
             [
              0,
              "#0d0887"
             ],
             [
              0.1111111111111111,
              "#46039f"
             ],
             [
              0.2222222222222222,
              "#7201a8"
             ],
             [
              0.3333333333333333,
              "#9c179e"
             ],
             [
              0.4444444444444444,
              "#bd3786"
             ],
             [
              0.5555555555555556,
              "#d8576b"
             ],
             [
              0.6666666666666666,
              "#ed7953"
             ],
             [
              0.7777777777777778,
              "#fb9f3a"
             ],
             [
              0.8888888888888888,
              "#fdca26"
             ],
             [
              1,
              "#f0f921"
             ]
            ],
            "type": "surface"
           }
          ],
          "table": [
           {
            "cells": {
             "fill": {
              "color": "#EBF0F8"
             },
             "line": {
              "color": "white"
             }
            },
            "header": {
             "fill": {
              "color": "#C8D4E3"
             },
             "line": {
              "color": "white"
             }
            },
            "type": "table"
           }
          ]
         },
         "layout": {
          "annotationdefaults": {
           "arrowcolor": "#2a3f5f",
           "arrowhead": 0,
           "arrowwidth": 1
          },
          "autotypenumbers": "strict",
          "coloraxis": {
           "colorbar": {
            "outlinewidth": 0,
            "ticks": ""
           }
          },
          "colorscale": {
           "diverging": [
            [
             0,
             "#8e0152"
            ],
            [
             0.1,
             "#c51b7d"
            ],
            [
             0.2,
             "#de77ae"
            ],
            [
             0.3,
             "#f1b6da"
            ],
            [
             0.4,
             "#fde0ef"
            ],
            [
             0.5,
             "#f7f7f7"
            ],
            [
             0.6,
             "#e6f5d0"
            ],
            [
             0.7,
             "#b8e186"
            ],
            [
             0.8,
             "#7fbc41"
            ],
            [
             0.9,
             "#4d9221"
            ],
            [
             1,
             "#276419"
            ]
           ],
           "sequential": [
            [
             0,
             "#0d0887"
            ],
            [
             0.1111111111111111,
             "#46039f"
            ],
            [
             0.2222222222222222,
             "#7201a8"
            ],
            [
             0.3333333333333333,
             "#9c179e"
            ],
            [
             0.4444444444444444,
             "#bd3786"
            ],
            [
             0.5555555555555556,
             "#d8576b"
            ],
            [
             0.6666666666666666,
             "#ed7953"
            ],
            [
             0.7777777777777778,
             "#fb9f3a"
            ],
            [
             0.8888888888888888,
             "#fdca26"
            ],
            [
             1,
             "#f0f921"
            ]
           ],
           "sequentialminus": [
            [
             0,
             "#0d0887"
            ],
            [
             0.1111111111111111,
             "#46039f"
            ],
            [
             0.2222222222222222,
             "#7201a8"
            ],
            [
             0.3333333333333333,
             "#9c179e"
            ],
            [
             0.4444444444444444,
             "#bd3786"
            ],
            [
             0.5555555555555556,
             "#d8576b"
            ],
            [
             0.6666666666666666,
             "#ed7953"
            ],
            [
             0.7777777777777778,
             "#fb9f3a"
            ],
            [
             0.8888888888888888,
             "#fdca26"
            ],
            [
             1,
             "#f0f921"
            ]
           ]
          },
          "colorway": [
           "#636efa",
           "#EF553B",
           "#00cc96",
           "#ab63fa",
           "#FFA15A",
           "#19d3f3",
           "#FF6692",
           "#B6E880",
           "#FF97FF",
           "#FECB52"
          ],
          "font": {
           "color": "#2a3f5f"
          },
          "geo": {
           "bgcolor": "white",
           "lakecolor": "white",
           "landcolor": "#E5ECF6",
           "showlakes": true,
           "showland": true,
           "subunitcolor": "white"
          },
          "hoverlabel": {
           "align": "left"
          },
          "hovermode": "closest",
          "mapbox": {
           "style": "light"
          },
          "paper_bgcolor": "white",
          "plot_bgcolor": "#E5ECF6",
          "polar": {
           "angularaxis": {
            "gridcolor": "white",
            "linecolor": "white",
            "ticks": ""
           },
           "bgcolor": "#E5ECF6",
           "radialaxis": {
            "gridcolor": "white",
            "linecolor": "white",
            "ticks": ""
           }
          },
          "scene": {
           "xaxis": {
            "backgroundcolor": "#E5ECF6",
            "gridcolor": "white",
            "gridwidth": 2,
            "linecolor": "white",
            "showbackground": true,
            "ticks": "",
            "zerolinecolor": "white"
           },
           "yaxis": {
            "backgroundcolor": "#E5ECF6",
            "gridcolor": "white",
            "gridwidth": 2,
            "linecolor": "white",
            "showbackground": true,
            "ticks": "",
            "zerolinecolor": "white"
           },
           "zaxis": {
            "backgroundcolor": "#E5ECF6",
            "gridcolor": "white",
            "gridwidth": 2,
            "linecolor": "white",
            "showbackground": true,
            "ticks": "",
            "zerolinecolor": "white"
           }
          },
          "shapedefaults": {
           "line": {
            "color": "#2a3f5f"
           }
          },
          "ternary": {
           "aaxis": {
            "gridcolor": "white",
            "linecolor": "white",
            "ticks": ""
           },
           "baxis": {
            "gridcolor": "white",
            "linecolor": "white",
            "ticks": ""
           },
           "bgcolor": "#E5ECF6",
           "caxis": {
            "gridcolor": "white",
            "linecolor": "white",
            "ticks": ""
           }
          },
          "title": {
           "x": 0.05
          },
          "xaxis": {
           "automargin": true,
           "gridcolor": "white",
           "linecolor": "white",
           "ticks": "",
           "title": {
            "standoff": 15
           },
           "zerolinecolor": "white",
           "zerolinewidth": 2
          },
          "yaxis": {
           "automargin": true,
           "gridcolor": "white",
           "linecolor": "white",
           "ticks": "",
           "title": {
            "standoff": 15
           },
           "zerolinecolor": "white",
           "zerolinewidth": 2
          }
         }
        },
        "title": {
         "text": "Soil Microbes by Site without Reduction"
        },
        "xaxis": {
         "anchor": "y",
         "domain": [
          0,
          1
         ],
         "title": {
          "text": "PC1 25.4%"
         }
        },
        "yaxis": {
         "anchor": "x",
         "domain": [
          0,
          1
         ],
         "title": {
          "text": "PC2 23.9%"
         }
        }
       }
      },
      "text/html": [
       "<div>                            <div id=\"7d250eac-b6b3-4186-b7fb-cc488919e6e1\" class=\"plotly-graph-div\" style=\"height:525px; width:100%;\"></div>            <script type=\"text/javascript\">                require([\"plotly\"], function(Plotly) {                    window.PLOTLYENV=window.PLOTLYENV || {};                                    if (document.getElementById(\"7d250eac-b6b3-4186-b7fb-cc488919e6e1\")) {                    Plotly.newPlot(                        \"7d250eac-b6b3-4186-b7fb-cc488919e6e1\",                        [{\"hovertemplate\":\"color=Wintergreen<br>0=%{x}<br>1=%{y}<extra></extra>\",\"legendgroup\":\"Wintergreen\",\"marker\":{\"color\":\"#636efa\",\"symbol\":\"circle\"},\"mode\":\"markers\",\"name\":\"Wintergreen\",\"orientation\":\"v\",\"showlegend\":true,\"x\":[0.5416762396503928,-1.813921190599267,-1.058981343210037,-0.1877217339212708,-1.9563811978656351,-0.3841637861958112,-0.9778637347578057,-1.113814800003713,-0.49785455975402915,-1.4227489980239467,-0.611963580368639,-2.551476927607921,-0.7080106439988341,-1.0502537930068818,-1.759108852431483,-1.3633398869977542,-0.9118659817101612,-0.7607981513797852,-1.6076449441869907,-2.428528917663492,1.4684534118039767,1.2985210719300138,3.006553244121942,-1.8529077370560396,2.3675742649043174,-0.3522635940368176,2.1817628212916484,-1.214298864489733,1.1191879421850304,1.5524658441843682,2.479717776795204,-1.3532503809711587,2.1197195500330466,1.5165037785987059,-0.6209358025349794,1.2603124440766484,0.8588984343390491,1.4600441429012556,0.07290047125225259,-0.30376634583490775,4.621001978304997,-0.8350741853088522,0.5060657357764056,0.6360749271123048,3.833622382470516,-1.1521969517684214,0.7641314108094293,-0.5555383890783292],\"xaxis\":\"x\",\"y\":[-3.074936296766575,-2.7241545478012226,-2.575438133703954,-2.551119206306834,-2.937177625705619,-2.6301805966354688,-2.1450327821740136,-2.120854248270912,-3.0272726194911543,-1.6016134627757588,-2.1909191910549377,-2.475378178238026,-1.6592991199067257,-2.4990610356606164,-3.1993000173938726,-2.9453588225094043,-2.525930222617439,-2.841968363776655,-2.5274886099623646,-1.7605751015356583,0.4887159630296629,0.3087166988893102,-0.17773784864449851,-2.1812923862875753,0.658245934906066,-0.723771841300866,-0.6306147863758446,-2.2092821459839325,-0.08786423807367316,1.6066946846415122,-0.4312458970155618,-2.1920690574860426,0.34444135954116234,1.288548718047561,-2.1279730275596367,-0.6265343376094372,-0.4361976268313784,-0.5707662280502799,-0.476117945391578,-0.4458666561401465,0.10001084583810045,-1.3826783033747385,-0.4847344694666965,0.21065928815688462,0.11402827567744415,-1.2618225844323756,0.4175739542937405,-0.8635264943657273],\"yaxis\":\"y\",\"type\":\"scatter\"},{\"hovertemplate\":\"color=Cole Mountain<br>0=%{x}<br>1=%{y}<extra></extra>\",\"legendgroup\":\"Cole Mountain\",\"marker\":{\"color\":\"#EF553B\",\"symbol\":\"circle\"},\"mode\":\"markers\",\"name\":\"Cole Mountain\",\"orientation\":\"v\",\"showlegend\":true,\"x\":[1.8578277187997898,1.5348531906752143,-0.32993145908433424,-1.4598906614563236,-2.900433346965583,-2.3228212128611765,-2.6493209369085116,2.0791981584861867,2.1430012222913004,2.5403569033296147,0.4998690046750386,-0.9596315758426458,-1.6263430290341692,-3.158215816153323,-2.2295893898589423,-2.1655749583617423,2.7295883513185015,-2.219431723393377,-0.4177835600675277,-0.08833153693459947,-2.2742752829232353,-1.3624109393797648,-2.0198591109445685,0.11469095139386545,1.5459217965054959,-0.26717471119206765,-1.083244013480949,-2.6020111280893823,-0.9870268583089272,-1.4197459969123636,-2.552666939699014,-2.2237452371457773,3.487028699429885,3.0508844416925975,-1.5994051246038476,-2.459333973820203,0.37225572926927186,-1.4406530675833173,-1.8041119875154303,-0.4110693798319679,-2.593885461827069,0.5538833331956498,1.1366869091000322,-0.5812426519773253,-1.6399542944618104,-3.2786129476656893,-0.6413768448666114,-1.2852149080267765,-2.4220703689029834,3.2573330137598955,1.3610880541056676,1.4765634497492204,-1.2426539927674813,0.03643118608418397,-3.1765727723599806,-1.0582953641220063,-2.029417973394045,-1.8773805757859063,2.878613029881414,1.5024052744419156,2.358769290212103,-1.620156960213852,1.226114254947222,-1.9959484430650472,-2.6983798323053954,-1.4052794295975897,-1.8559662893758038,1.305888976561753,-0.5568852539393703,1.9410148418785773,0.05183549752816803,0.23250611150393832,2.552749532203298,0.41890223079119354,0.2176352327645338,2.4307881852242725,2.394973406834753,0.8939869683484031,0.055683892604318164,-0.5682672827505023,-3.792780678464536,0.26359678176313145],\"xaxis\":\"x\",\"y\":[-1.3358020899822238,-1.7189424383017442,2.1447012902248965,3.445467240941864,1.1554046326441292,2.2997501546885553,-1.6771871572715855,-0.8868302613414167,-1.380075773456604,-1.5479422047814742,1.995866849009662,1.52786791523831,2.491897890566808,1.1858883336411692,1.108313613594897,-1.1571519114421032,-1.263149749307354,1.3540590849323426,1.5968384093059325,2.8838520173721918,0.4881428135853471,2.114687639252496,-0.7445903546105039,-2.03813197449272,-1.1194907221197261,1.3377020144687795,0.8999012075967371,1.1073821032325608,1.2626889112742037,1.0182228180124075,1.641636893049701,-0.8723699738721274,-0.48441278411772615,-1.6053638810134265,1.6680503932583604,0.6922491749307992,1.901284190081983,1.8545283684090954,1.047555638613163,1.6686524909549312,-1.205181921395908,-1.405198464134742,-1.7195826026156353,2.0770261039693296,0.9157269383203186,1.6034945051068419,1.4061016270748796,1.1867928412372704,-1.4534627792961743,-2.0820453707948485,-1.6807858351767941,-2.165056692974259,1.231288141983034,1.554909189102093,1.5283955284710584,1.098098263212142,0.874635226241097,-1.3917497517122819,-1.0116249751362925,-2.0629431385693384,-1.8465002399168955,0.9338459082606596,3.6156320853034734,1.2483421458461297,0.2397693168986721,-0.9297531448977475,3.056957765974032,5.0540953149544645,3.2318399435624863,4.192671800386221,3.1737243991722135,3.4180934317526606,5.1712632528377505,-1.572542070091049,3.7229048757843786,4.31871753556652,-0.5670756253414411,4.039037902973193,4.939661813450154,4.345569390927328,-2.445683583635679,3.718318969155486],\"yaxis\":\"y\",\"type\":\"scatter\"},{\"hovertemplate\":\"color=Blacksburg<br>0=%{x}<br>1=%{y}<extra></extra>\",\"legendgroup\":\"Blacksburg\",\"marker\":{\"color\":\"#00cc96\",\"symbol\":\"circle\"},\"mode\":\"markers\",\"name\":\"Blacksburg\",\"orientation\":\"v\",\"showlegend\":true,\"x\":[3.1576431733715418,0.9242768574921376,-2.6812994820795226,5.9678059830000105,-1.0204599284175087,4.521465795010151,4.640402125040477,3.7889583287584747,-1.1207042712183823,4.458412479166267,-1.7492512122287296,-0.3575599203501022,3.9267577073099234,0.11237571572486472,-0.9799267535684872,4.482208581043248,0.3774854253759621,-1.252115412329852,4.048119242878431,0.565248876589005,-1.2169062454742636],\"xaxis\":\"x\",\"y\":[-1.4593239082829805,-1.8020143687395582,-1.2834480074248058,-0.14424940858034643,-0.7332377074812065,0.1389334491796283,1.4045085746481478,-1.0476273420269377,0.30010546682402645,-0.6197273997860949,-1.5799260493798235,-0.6628143561488542,-1.246780081438188,0.04143486039784921,0.40034167648777585,-0.556949210629517,-0.9292373142760604,0.47824630044269534,-1.193299710501865,0.20726160959873435,-0.34555757383222785],\"yaxis\":\"y\",\"type\":\"scatter\"}],                        {\"template\":{\"data\":{\"histogram2dcontour\":[{\"type\":\"histogram2dcontour\",\"colorbar\":{\"outlinewidth\":0,\"ticks\":\"\"},\"colorscale\":[[0.0,\"#0d0887\"],[0.1111111111111111,\"#46039f\"],[0.2222222222222222,\"#7201a8\"],[0.3333333333333333,\"#9c179e\"],[0.4444444444444444,\"#bd3786\"],[0.5555555555555556,\"#d8576b\"],[0.6666666666666666,\"#ed7953\"],[0.7777777777777778,\"#fb9f3a\"],[0.8888888888888888,\"#fdca26\"],[1.0,\"#f0f921\"]]}],\"choropleth\":[{\"type\":\"choropleth\",\"colorbar\":{\"outlinewidth\":0,\"ticks\":\"\"}}],\"histogram2d\":[{\"type\":\"histogram2d\",\"colorbar\":{\"outlinewidth\":0,\"ticks\":\"\"},\"colorscale\":[[0.0,\"#0d0887\"],[0.1111111111111111,\"#46039f\"],[0.2222222222222222,\"#7201a8\"],[0.3333333333333333,\"#9c179e\"],[0.4444444444444444,\"#bd3786\"],[0.5555555555555556,\"#d8576b\"],[0.6666666666666666,\"#ed7953\"],[0.7777777777777778,\"#fb9f3a\"],[0.8888888888888888,\"#fdca26\"],[1.0,\"#f0f921\"]]}],\"heatmap\":[{\"type\":\"heatmap\",\"colorbar\":{\"outlinewidth\":0,\"ticks\":\"\"},\"colorscale\":[[0.0,\"#0d0887\"],[0.1111111111111111,\"#46039f\"],[0.2222222222222222,\"#7201a8\"],[0.3333333333333333,\"#9c179e\"],[0.4444444444444444,\"#bd3786\"],[0.5555555555555556,\"#d8576b\"],[0.6666666666666666,\"#ed7953\"],[0.7777777777777778,\"#fb9f3a\"],[0.8888888888888888,\"#fdca26\"],[1.0,\"#f0f921\"]]}],\"heatmapgl\":[{\"type\":\"heatmapgl\",\"colorbar\":{\"outlinewidth\":0,\"ticks\":\"\"},\"colorscale\":[[0.0,\"#0d0887\"],[0.1111111111111111,\"#46039f\"],[0.2222222222222222,\"#7201a8\"],[0.3333333333333333,\"#9c179e\"],[0.4444444444444444,\"#bd3786\"],[0.5555555555555556,\"#d8576b\"],[0.6666666666666666,\"#ed7953\"],[0.7777777777777778,\"#fb9f3a\"],[0.8888888888888888,\"#fdca26\"],[1.0,\"#f0f921\"]]}],\"contourcarpet\":[{\"type\":\"contourcarpet\",\"colorbar\":{\"outlinewidth\":0,\"ticks\":\"\"}}],\"contour\":[{\"type\":\"contour\",\"colorbar\":{\"outlinewidth\":0,\"ticks\":\"\"},\"colorscale\":[[0.0,\"#0d0887\"],[0.1111111111111111,\"#46039f\"],[0.2222222222222222,\"#7201a8\"],[0.3333333333333333,\"#9c179e\"],[0.4444444444444444,\"#bd3786\"],[0.5555555555555556,\"#d8576b\"],[0.6666666666666666,\"#ed7953\"],[0.7777777777777778,\"#fb9f3a\"],[0.8888888888888888,\"#fdca26\"],[1.0,\"#f0f921\"]]}],\"surface\":[{\"type\":\"surface\",\"colorbar\":{\"outlinewidth\":0,\"ticks\":\"\"},\"colorscale\":[[0.0,\"#0d0887\"],[0.1111111111111111,\"#46039f\"],[0.2222222222222222,\"#7201a8\"],[0.3333333333333333,\"#9c179e\"],[0.4444444444444444,\"#bd3786\"],[0.5555555555555556,\"#d8576b\"],[0.6666666666666666,\"#ed7953\"],[0.7777777777777778,\"#fb9f3a\"],[0.8888888888888888,\"#fdca26\"],[1.0,\"#f0f921\"]]}],\"mesh3d\":[{\"type\":\"mesh3d\",\"colorbar\":{\"outlinewidth\":0,\"ticks\":\"\"}}],\"scatter\":[{\"fillpattern\":{\"fillmode\":\"overlay\",\"size\":10,\"solidity\":0.2},\"type\":\"scatter\"}],\"parcoords\":[{\"type\":\"parcoords\",\"line\":{\"colorbar\":{\"outlinewidth\":0,\"ticks\":\"\"}}}],\"scatterpolargl\":[{\"type\":\"scatterpolargl\",\"marker\":{\"colorbar\":{\"outlinewidth\":0,\"ticks\":\"\"}}}],\"bar\":[{\"error_x\":{\"color\":\"#2a3f5f\"},\"error_y\":{\"color\":\"#2a3f5f\"},\"marker\":{\"line\":{\"color\":\"#E5ECF6\",\"width\":0.5},\"pattern\":{\"fillmode\":\"overlay\",\"size\":10,\"solidity\":0.2}},\"type\":\"bar\"}],\"scattergeo\":[{\"type\":\"scattergeo\",\"marker\":{\"colorbar\":{\"outlinewidth\":0,\"ticks\":\"\"}}}],\"scatterpolar\":[{\"type\":\"scatterpolar\",\"marker\":{\"colorbar\":{\"outlinewidth\":0,\"ticks\":\"\"}}}],\"histogram\":[{\"marker\":{\"pattern\":{\"fillmode\":\"overlay\",\"size\":10,\"solidity\":0.2}},\"type\":\"histogram\"}],\"scattergl\":[{\"type\":\"scattergl\",\"marker\":{\"colorbar\":{\"outlinewidth\":0,\"ticks\":\"\"}}}],\"scatter3d\":[{\"type\":\"scatter3d\",\"line\":{\"colorbar\":{\"outlinewidth\":0,\"ticks\":\"\"}},\"marker\":{\"colorbar\":{\"outlinewidth\":0,\"ticks\":\"\"}}}],\"scattermapbox\":[{\"type\":\"scattermapbox\",\"marker\":{\"colorbar\":{\"outlinewidth\":0,\"ticks\":\"\"}}}],\"scatterternary\":[{\"type\":\"scatterternary\",\"marker\":{\"colorbar\":{\"outlinewidth\":0,\"ticks\":\"\"}}}],\"scattercarpet\":[{\"type\":\"scattercarpet\",\"marker\":{\"colorbar\":{\"outlinewidth\":0,\"ticks\":\"\"}}}],\"carpet\":[{\"aaxis\":{\"endlinecolor\":\"#2a3f5f\",\"gridcolor\":\"white\",\"linecolor\":\"white\",\"minorgridcolor\":\"white\",\"startlinecolor\":\"#2a3f5f\"},\"baxis\":{\"endlinecolor\":\"#2a3f5f\",\"gridcolor\":\"white\",\"linecolor\":\"white\",\"minorgridcolor\":\"white\",\"startlinecolor\":\"#2a3f5f\"},\"type\":\"carpet\"}],\"table\":[{\"cells\":{\"fill\":{\"color\":\"#EBF0F8\"},\"line\":{\"color\":\"white\"}},\"header\":{\"fill\":{\"color\":\"#C8D4E3\"},\"line\":{\"color\":\"white\"}},\"type\":\"table\"}],\"barpolar\":[{\"marker\":{\"line\":{\"color\":\"#E5ECF6\",\"width\":0.5},\"pattern\":{\"fillmode\":\"overlay\",\"size\":10,\"solidity\":0.2}},\"type\":\"barpolar\"}],\"pie\":[{\"automargin\":true,\"type\":\"pie\"}]},\"layout\":{\"autotypenumbers\":\"strict\",\"colorway\":[\"#636efa\",\"#EF553B\",\"#00cc96\",\"#ab63fa\",\"#FFA15A\",\"#19d3f3\",\"#FF6692\",\"#B6E880\",\"#FF97FF\",\"#FECB52\"],\"font\":{\"color\":\"#2a3f5f\"},\"hovermode\":\"closest\",\"hoverlabel\":{\"align\":\"left\"},\"paper_bgcolor\":\"white\",\"plot_bgcolor\":\"#E5ECF6\",\"polar\":{\"bgcolor\":\"#E5ECF6\",\"angularaxis\":{\"gridcolor\":\"white\",\"linecolor\":\"white\",\"ticks\":\"\"},\"radialaxis\":{\"gridcolor\":\"white\",\"linecolor\":\"white\",\"ticks\":\"\"}},\"ternary\":{\"bgcolor\":\"#E5ECF6\",\"aaxis\":{\"gridcolor\":\"white\",\"linecolor\":\"white\",\"ticks\":\"\"},\"baxis\":{\"gridcolor\":\"white\",\"linecolor\":\"white\",\"ticks\":\"\"},\"caxis\":{\"gridcolor\":\"white\",\"linecolor\":\"white\",\"ticks\":\"\"}},\"coloraxis\":{\"colorbar\":{\"outlinewidth\":0,\"ticks\":\"\"}},\"colorscale\":{\"sequential\":[[0.0,\"#0d0887\"],[0.1111111111111111,\"#46039f\"],[0.2222222222222222,\"#7201a8\"],[0.3333333333333333,\"#9c179e\"],[0.4444444444444444,\"#bd3786\"],[0.5555555555555556,\"#d8576b\"],[0.6666666666666666,\"#ed7953\"],[0.7777777777777778,\"#fb9f3a\"],[0.8888888888888888,\"#fdca26\"],[1.0,\"#f0f921\"]],\"sequentialminus\":[[0.0,\"#0d0887\"],[0.1111111111111111,\"#46039f\"],[0.2222222222222222,\"#7201a8\"],[0.3333333333333333,\"#9c179e\"],[0.4444444444444444,\"#bd3786\"],[0.5555555555555556,\"#d8576b\"],[0.6666666666666666,\"#ed7953\"],[0.7777777777777778,\"#fb9f3a\"],[0.8888888888888888,\"#fdca26\"],[1.0,\"#f0f921\"]],\"diverging\":[[0,\"#8e0152\"],[0.1,\"#c51b7d\"],[0.2,\"#de77ae\"],[0.3,\"#f1b6da\"],[0.4,\"#fde0ef\"],[0.5,\"#f7f7f7\"],[0.6,\"#e6f5d0\"],[0.7,\"#b8e186\"],[0.8,\"#7fbc41\"],[0.9,\"#4d9221\"],[1,\"#276419\"]]},\"xaxis\":{\"gridcolor\":\"white\",\"linecolor\":\"white\",\"ticks\":\"\",\"title\":{\"standoff\":15},\"zerolinecolor\":\"white\",\"automargin\":true,\"zerolinewidth\":2},\"yaxis\":{\"gridcolor\":\"white\",\"linecolor\":\"white\",\"ticks\":\"\",\"title\":{\"standoff\":15},\"zerolinecolor\":\"white\",\"automargin\":true,\"zerolinewidth\":2},\"scene\":{\"xaxis\":{\"backgroundcolor\":\"#E5ECF6\",\"gridcolor\":\"white\",\"linecolor\":\"white\",\"showbackground\":true,\"ticks\":\"\",\"zerolinecolor\":\"white\",\"gridwidth\":2},\"yaxis\":{\"backgroundcolor\":\"#E5ECF6\",\"gridcolor\":\"white\",\"linecolor\":\"white\",\"showbackground\":true,\"ticks\":\"\",\"zerolinecolor\":\"white\",\"gridwidth\":2},\"zaxis\":{\"backgroundcolor\":\"#E5ECF6\",\"gridcolor\":\"white\",\"linecolor\":\"white\",\"showbackground\":true,\"ticks\":\"\",\"zerolinecolor\":\"white\",\"gridwidth\":2}},\"shapedefaults\":{\"line\":{\"color\":\"#2a3f5f\"}},\"annotationdefaults\":{\"arrowcolor\":\"#2a3f5f\",\"arrowhead\":0,\"arrowwidth\":1},\"geo\":{\"bgcolor\":\"white\",\"landcolor\":\"#E5ECF6\",\"subunitcolor\":\"white\",\"showland\":true,\"showlakes\":true,\"lakecolor\":\"white\"},\"title\":{\"x\":0.05},\"mapbox\":{\"style\":\"light\"}}},\"xaxis\":{\"anchor\":\"y\",\"domain\":[0.0,1.0],\"title\":{\"text\":\"PC1 25.4%\"}},\"yaxis\":{\"anchor\":\"x\",\"domain\":[0.0,1.0],\"title\":{\"text\":\"PC2 23.9%\"}},\"legend\":{\"title\":{\"text\":\"color\"},\"tracegroupgap\":0},\"margin\":{\"t\":60},\"title\":{\"text\":\"Soil Microbes by Site without Reduction\"}},                        {\"responsive\": true}                    ).then(function(){\n",
       "                            \n",
       "var gd = document.getElementById('7d250eac-b6b3-4186-b7fb-cc488919e6e1');\n",
       "var x = new MutationObserver(function (mutations, observer) {{\n",
       "        var display = window.getComputedStyle(gd).display;\n",
       "        if (!display || display === 'none') {{\n",
       "            console.log([gd, 'removed!']);\n",
       "            Plotly.purge(gd);\n",
       "            observer.disconnect();\n",
       "        }}\n",
       "}});\n",
       "\n",
       "// Listen for the removal of the full notebook cells\n",
       "var notebookContainer = gd.closest('#notebook-container');\n",
       "if (notebookContainer) {{\n",
       "    x.observe(notebookContainer, {childList: true});\n",
       "}}\n",
       "\n",
       "// Listen for the clearing of the current output cell\n",
       "var outputEl = gd.closest('.output');\n",
       "if (outputEl) {{\n",
       "    x.observe(outputEl, {childList: true});\n",
       "}}\n",
       "\n",
       "                        })                };                });            </script>        </div>"
      ]
     },
     "metadata": {},
     "output_type": "display_data"
    }
   ],
   "source": [
    "X = df[nutrients]\n",
    "\n",
    "pca = PCA(n_components=2)\n",
    "components = pca.fit_transform(X)\n",
    "\n",
    "fig1 = px.scatter(components, x=0, y=1, color=df['site_id'])\n",
    "fig1.update_layout(\n",
    "    title = \"Soil Microbes by Site without Reduction\",\n",
    "    xaxis_title=\"PC1 \" + str(round(100*pca.explained_variance_ratio_[0], 1)) + '%',\n",
    "    yaxis_title=\"PC2 \" + str(round(100*pca.explained_variance_ratio_[1], 1)) + '%')\n",
    "\n",
    "fig2 = px.scatter(components, x=0, y=1, color=df['species'])\n",
    "fig2.update_layout(\n",
    "    title = \"Soil Microbes by Site without Reduction\",\n",
    "    xaxis_title=\"PC1 \" + str(round(100*pca.explained_variance_ratio_[0], 1)) + '%',\n",
    "    yaxis_title=\"PC2 \" + str(round(100*pca.explained_variance_ratio_[1], 1)) + '%')\n",
    "\n",
    "fig3 = px.scatter(components, x=0, y=1, color=df['BGR'])\n",
    "fig3.update_layout(\n",
    "    title = \"Soil Microbes by Site without Reduction\",\n",
    "    xaxis_title=\"PC1 \" + str(round(100*pca.explained_variance_ratio_[0], 1)) + '%',\n",
    "    yaxis_title=\"PC2 \" + str(round(100*pca.explained_variance_ratio_[1], 1)) + '%')\n",
    "\n",
    "fig1.show()\n",
    "fig2.show()\n",
    "fig3.show()"
   ]
  },
  {
   "cell_type": "code",
   "execution_count": 16,
   "id": "0b3d7b10",
   "metadata": {},
   "outputs": [],
   "source": [
    "#YAYYYYY THIS WORKS\n",
    "fig1.write_image(\"fig1.png\",format='png',engine='kaleido')\n",
    "fig2.write_image(\"fig2.png\",format='png',engine='kaleido')\n",
    "fig3.write_image(\"fig3.png\",format='png',engine='kaleido')"
   ]
  },
  {
   "cell_type": "code",
   "execution_count": 19,
   "id": "149edeef",
   "metadata": {},
   "outputs": [
    {
     "data": {
      "image/png": "[encoded data removed]",
      "text/plain": [
       "<Figure size 640x480 with 4 Axes>"
      ]
     },
     "metadata": {},
     "output_type": "display_data"
    }
   ],
   "source": [
    "import matplotlib.image as mpimg\n",
    "img1=mpimg.imread('fig1.png')\n",
    "img2=mpimg.imread('fig1.png')\n",
    "img3=mpimg.imread('fig1.png')\n",
    "\n",
    "\n",
    "# create 2 subplots\n",
    "fig, ax = plt.subplots(nrows=2, ncols=2)\n",
    "ax[0][0].imshow(img1)\n",
    "ax[0][1].imshow(img2)\n",
    "ax[1][0].imshow(img3)\n",
    "\n",
    "\n",
    "# plot 2 subplots\n",
    "ax[0][0].axis('off')\n",
    "ax[0][1].axis('off')\n",
    "ax[1][0].axis('off')\n",
    "\n",
    "fig.suptitle('Stacked subplots in one direction')\n",
    "plt.show()"
   ]
  },
  {
   "cell_type": "code",
   "execution_count": 23,
   "id": "f855af10",
   "metadata": {},
   "outputs": [],
   "source": [
    "fig.savefig(\"test.png\", bbox_inches='tight')"
   ]
  },
  {
   "cell_type": "code",
   "execution_count": null,
   "id": "37c1b9fc",
   "metadata": {},
   "outputs": [],
   "source": [
    "# create 2 subplots\n",
    "fig, ax = plt.subplots(nrows=1, ncols=2)\n",
    "ax[0].plot(x, y1)\n",
    "ax[1].plot(x, y2)\n",
    " \n",
    "# plot 2 subplots\n",
    "ax[0].set_title('Simple plot with sin(x)')\n",
    "ax[1].set_title('Simple plot with sin(x**2)')\n",
    " \n",
    "fig.suptitle('Stacked subplots in one direction')\n",
    "plt.show()"
   ]
  },
  {
   "cell_type": "code",
   "execution_count": null,
   "id": "3420b1d3",
   "metadata": {},
   "outputs": [],
   "source": [
    "X = df[nutrients]\n",
    "\n",
    "pca = PCA(n_components=2)\n",
    "components = pca.fit_transform(X)"
   ]
  },
  {
   "cell_type": "code",
   "execution_count": 43,
   "id": "67dc8c00",
   "metadata": {},
   "outputs": [],
   "source": [
    "x_list = []\n",
    "y_list = []\n",
    "for i in components:\n",
    "    x_list.append(i[0])\n",
    "    y_list.append(i[1])"
   ]
  },
  {
   "cell_type": "code",
   "execution_count": 62,
   "id": "b23e6542",
   "metadata": {},
   "outputs": [
    {
     "data": {
      "text/plain": [
       "<matplotlib.collections.PathCollection at 0x23d7fe86010>"
      ]
     },
     "execution_count": 62,
     "metadata": {},
     "output_type": "execute_result"
    },
    {
     "data": {
      "image/png": "[encoded data removed]",
      "text/plain": [
       "<Figure size 640x480 with 1 Axes>"
      ]
     },
     "metadata": {},
     "output_type": "display_data"
    }
   ],
   "source": [
    "plt.scatter(x_list, y_list)"
   ]
  },
  {
   "cell_type": "code",
   "execution_count": 89,
   "id": "7edb3bcc",
   "metadata": {},
   "outputs": [
    {
     "name": "stdout",
     "output_type": "stream",
     "text": [
      "(19, 27)\n",
      "(11, 27)\n",
      "(19, 27)\n",
      "(2, 27)\n",
      "(21, 27)\n",
      "(17, 27)\n",
      "(11, 27)\n",
      "(14, 27)\n",
      "(6, 27)\n",
      "(16, 27)\n",
      "(8, 27)\n",
      "(7, 27)\n"
     ]
    },
    {
     "data": {
      "application/vnd.plotly.v1+json": {
       "config": {
        "plotlyServerURL": "https://plot.ly"
       },
       "data": [
        {
         "mode": "markers",
         "type": "scatter",
         "x": [
          5.210114811446343,
          -0.4728510756516797,
          -0.8603746113678938,
          1.136122540701641,
          -0.7427048012322042,
          -0.20533955778039756,
          -0.11586378419510165,
          0.02182134683970397,
          -0.16439352995194584,
          -0.48974803695183283,
          0.3492851969686509,
          -1.2699917603105615,
          -0.3189988462616398,
          -0.11835480413226934,
          -0.9659454582655566,
          -0.5175341390409511,
          -0.2964167226799338,
          0.21336667775910972,
          -0.39219344589347893
         ],
         "xaxis": "x",
         "y": [
          0.5169073441294096,
          -1.0497954976602777,
          1.244376446609422,
          -0.9692305724188455,
          -0.7260462710402031,
          1.0347435255175013,
          -0.6371030349245719,
          -1.3676518709615855,
          1.823768788423973,
          -1.2947059954282467,
          -0.8166517811124832,
          0.14961063589260526,
          0.050932400280153965,
          -0.019386583989313127,
          0.6309933373658192,
          0.30579159202292594,
          0.9577726548628086,
          -0.19306026686273267,
          0.35873514929364025
         ],
         "yaxis": "y"
        },
        {
         "mode": "markers",
         "type": "scatter",
         "x": [
          5.210114811446343,
          -0.4728510756516797,
          -0.8603746113678938,
          1.136122540701641,
          -0.7427048012322042,
          -0.20533955778039756,
          -0.11586378419510165,
          0.02182134683970397,
          -0.16439352995194584,
          -0.48974803695183283,
          0.3492851969686509,
          -1.2699917603105615,
          -0.3189988462616398,
          -0.11835480413226934,
          -0.9659454582655566,
          -0.5175341390409511,
          -0.2964167226799338,
          0.21336667775910972,
          -0.39219344589347893
         ],
         "xaxis": "x",
         "y": [
          0.5169073441294096,
          -1.0497954976602777,
          1.244376446609422,
          -0.9692305724188455,
          -0.7260462710402031,
          1.0347435255175013,
          -0.6371030349245719,
          -1.3676518709615855,
          1.823768788423973,
          -1.2947059954282467,
          -0.8166517811124832,
          0.14961063589260526,
          0.050932400280153965,
          -0.019386583989313127,
          0.6309933373658192,
          0.30579159202292594,
          0.9577726548628086,
          -0.19306026686273267,
          0.35873514929364025
         ],
         "yaxis": "y"
        },
        {
         "mode": "markers",
         "type": "scatter",
         "x": [
          0.3552655689048327,
          0.036986540967569266,
          -0.7512866010565359,
          0.7341453125828313,
          -0.06868619757798179,
          4.307446829618365,
          -0.7996026969129907,
          -0.3802805011440964,
          -1.1251017293122694,
          -1.0765140568765288,
          -1.232372469193195
         ],
         "xaxis": "x",
         "y": [
          -0.6061657434761347,
          -0.5693819692144481,
          0.1579833779285757,
          2.360861620718159,
          -0.12867179659543806,
          -0.586923900047573,
          0.7020419649053523,
          0.22960439933671528,
          -0.589900361866746,
          -0.4398839192021792,
          -0.5295636724862824
         ],
         "yaxis": "y"
        },
        {
         "mode": "markers",
         "type": "scatter",
         "x": [
          0.3552655689048327,
          0.036986540967569266,
          -0.7512866010565359,
          0.7341453125828313,
          -0.06868619757798179,
          4.307446829618365,
          -0.7996026969129907,
          -0.3802805011440964,
          -1.1251017293122694,
          -1.0765140568765288,
          -1.232372469193195
         ],
         "xaxis": "x",
         "y": [
          -0.6061657434761347,
          -0.5693819692144481,
          0.1579833779285757,
          2.360861620718159,
          -0.12867179659543806,
          -0.586923900047573,
          0.7020419649053523,
          0.22960439933671528,
          -0.589900361866746,
          -0.4398839192021792,
          -0.5295636724862824
         ],
         "yaxis": "y"
        },
        {
         "mode": "markers",
         "type": "scatter",
         "x": [
          0.31070110970288173,
          -0.43007108892966284,
          1.359906918723849,
          0.2688400790512804,
          -1.6009298305187125,
          0.34234294241403623,
          1.3041203581636944,
          0.3630076342977657,
          -0.5459105482218559,
          -2.1153157327161862,
          -0.6146134827899984,
          -2.137439034520853,
          1.4393094594034175,
          0.3902861779813899,
          -1.0481427376863088,
          -0.4513804310705264,
          1.2693150325675522,
          -1.1552003259929844,
          3.0511735001412195
         ],
         "xaxis": "x",
         "y": [
          0.7145254524294692,
          3.164370174662475,
          -0.26451215287549823,
          -1.0888118698291092,
          0.26835037717820953,
          -0.19765066820328014,
          0.2735789130726041,
          -0.2387615988057785,
          -0.8645514668400482,
          0.032843400085695286,
          -0.10130730096797154,
          -0.07874144153398467,
          -0.7441464582458841,
          0.2896626929486126,
          -0.40582853275612407,
          -0.45660345945509334,
          -1.0432048181855753,
          -0.18444627881328507,
          0.9252350361345697
         ],
         "yaxis": "y"
        },
        {
         "mode": "markers",
         "type": "scatter",
         "x": [
          0.31070110970288173,
          -0.43007108892966284,
          1.359906918723849,
          0.2688400790512804,
          -1.6009298305187125,
          0.34234294241403623,
          1.3041203581636944,
          0.3630076342977657,
          -0.5459105482218559,
          -2.1153157327161862,
          -0.6146134827899984,
          -2.137439034520853,
          1.4393094594034175,
          0.3902861779813899,
          -1.0481427376863088,
          -0.4513804310705264,
          1.2693150325675522,
          -1.1552003259929844,
          3.0511735001412195
         ],
         "xaxis": "x",
         "y": [
          0.7145254524294692,
          3.164370174662475,
          -0.26451215287549823,
          -1.0888118698291092,
          0.26835037717820953,
          -0.19765066820328014,
          0.2735789130726041,
          -0.2387615988057785,
          -0.8645514668400482,
          0.032843400085695286,
          -0.10130730096797154,
          -0.07874144153398467,
          -0.7441464582458841,
          0.2896626929486126,
          -0.40582853275612407,
          -0.45660345945509334,
          -1.0432048181855753,
          -0.18444627881328507,
          0.9252350361345697
         ],
         "yaxis": "y"
        },
        {
         "mode": "markers",
         "type": "scatter",
         "x": [
          3.6143690816171343,
          -3.614369081617132
         ],
         "xaxis": "x",
         "y": [
          8.857084252718444e-16,
          8.857084252718449e-16
         ],
         "yaxis": "y"
        },
        {
         "mode": "markers",
         "type": "scatter",
         "x": [
          3.6143690816171343,
          -3.614369081617132
         ],
         "xaxis": "x",
         "y": [
          8.857084252718444e-16,
          8.857084252718449e-16
         ],
         "yaxis": "y"
        },
        {
         "mode": "markers",
         "type": "scatter",
         "x": [
          -1.0443644068102007,
          -0.44489997766619155,
          0.1291156222695264,
          -1.6855738976179109,
          -0.37160183352037723,
          -0.7768504813517476,
          0.9834927280447989,
          1.1243707816671318,
          0.6762759900935414,
          -0.8447874435264807,
          0.8191944514064019,
          0.4182704599072949,
          1.9481509930249337,
          -1.7820958293304097,
          1.468382059915869,
          0.650421986946983,
          -1.3657299633616333,
          0.8966713625434158,
          0.23141042548157423,
          -0.02355695250181159,
          -1.0062960756147086
         ],
         "xaxis": "x",
         "y": [
          -0.3749500951200874,
          1.0190254495997109,
          2.9010627665440425,
          -0.3447385780613274,
          -0.6283494346513449,
          -0.7702390590536492,
          1.0148266022727952,
          -0.5744063164349789,
          -0.8577492344464106,
          0.48551512110038325,
          0.489174392926847,
          -0.473924595965204,
          -0.42604052027276473,
          0.5976251863469446,
          -0.5171446183740105,
          0.7971533766690312,
          -0.06184970346513865,
          -0.2556209093528728,
          -0.7168063181171345,
          -0.15719535397917062,
          -1.1453681581656583
         ],
         "yaxis": "y"
        },
        {
         "mode": "markers",
         "type": "scatter",
         "x": [
          -1.0443644068102007,
          -0.44489997766619155,
          0.1291156222695264,
          -1.6855738976179109,
          -0.37160183352037723,
          -0.7768504813517476,
          0.9834927280447989,
          1.1243707816671318,
          0.6762759900935414,
          -0.8447874435264807,
          0.8191944514064019,
          0.4182704599072949,
          1.9481509930249337,
          -1.7820958293304097,
          1.468382059915869,
          0.650421986946983,
          -1.3657299633616333,
          0.8966713625434158,
          0.23141042548157423,
          -0.02355695250181159,
          -1.0062960756147086
         ],
         "xaxis": "x",
         "y": [
          -0.3749500951200874,
          1.0190254495997109,
          2.9010627665440425,
          -0.3447385780613274,
          -0.6283494346513449,
          -0.7702390590536492,
          1.0148266022727952,
          -0.5744063164349789,
          -0.8577492344464106,
          0.48551512110038325,
          0.489174392926847,
          -0.473924595965204,
          -0.42604052027276473,
          0.5976251863469446,
          -0.5171446183740105,
          0.7971533766690312,
          -0.06184970346513865,
          -0.2556209093528728,
          -0.7168063181171345,
          -0.15719535397917062,
          -1.1453681581656583
         ],
         "yaxis": "y"
        },
        {
         "mode": "markers",
         "type": "scatter",
         "x": [
          -2.793567368186257,
          2.046888040583085,
          -2.2830768092959732,
          2.7422564006993846,
          -2.0009345565882177,
          0.005468873356805534,
          -2.231334362598552,
          3.6169902228467072,
          -2.6293217146307355,
          0.44416272157814757,
          -2.5537364557162765,
          3.1398799328203975,
          -1.8909193676035325,
          2.9837288601035024,
          -1.428674566180841,
          0.33164593183094815,
          2.500544216981409
         ],
         "xaxis": "x",
         "y": [
          -0.06420776432358506,
          -0.9383063392947264,
          0.03313763687552658,
          -1.237470404354943,
          0.2813885134368396,
          -0.5788945504514492,
          0.10141071763667397,
          -0.9985251151491878,
          0.13951896747241133,
          -0.5947432471669047,
          0.5074473369071038,
          5.441796924508752,
          0.2789204711348069,
          -0.7899295468784207,
          -0.10709814007268692,
          -0.4025357670906193,
          -1.0719096931895944
         ],
         "yaxis": "y"
        },
        {
         "mode": "markers",
         "type": "scatter",
         "x": [
          -2.793567368186257,
          2.046888040583085,
          -2.2830768092959732,
          2.7422564006993846,
          -2.0009345565882177,
          0.005468873356805534,
          -2.231334362598552,
          3.6169902228467072,
          -2.6293217146307355,
          0.44416272157814757,
          -2.5537364557162765,
          3.1398799328203975,
          -1.8909193676035325,
          2.9837288601035024,
          -1.428674566180841,
          0.33164593183094815,
          2.500544216981409
         ],
         "xaxis": "x",
         "y": [
          -0.06420776432358506,
          -0.9383063392947264,
          0.03313763687552658,
          -1.237470404354943,
          0.2813885134368396,
          -0.5788945504514492,
          0.10141071763667397,
          -0.9985251151491878,
          0.13951896747241133,
          -0.5947432471669047,
          0.5074473369071038,
          5.441796924508752,
          0.2789204711348069,
          -0.7899295468784207,
          -0.10709814007268692,
          -0.4025357670906193,
          -1.0719096931895944
         ],
         "yaxis": "y"
        },
        {
         "mode": "markers",
         "type": "scatter",
         "x": [
          3.1174367882656355,
          1.0061837032043235,
          -0.6591210096827749,
          1.9521850149832292,
          -0.5948022781884648,
          -1.1392260752321195,
          -0.8803779869856191,
          -0.8700152564185887,
          -0.846188906287766,
          -1.2227110911552876,
          0.1366370974974326
         ],
         "xaxis": "x",
         "y": [
          0.3379989497006708,
          -0.47509103113236867,
          0.9883775485458759,
          -0.49759959444747737,
          -0.5175505906903983,
          -0.5160658015136944,
          1.1773648027640518,
          -1.2239977691925685,
          1.5338785125580028,
          -1.1265244490018038,
          0.3192094224097089
         ],
         "yaxis": "y"
        },
        {
         "mode": "markers",
         "type": "scatter",
         "x": [
          3.1174367882656355,
          1.0061837032043235,
          -0.6591210096827749,
          1.9521850149832292,
          -0.5948022781884648,
          -1.1392260752321195,
          -0.8803779869856191,
          -0.8700152564185887,
          -0.846188906287766,
          -1.2227110911552876,
          0.1366370974974326
         ],
         "xaxis": "x",
         "y": [
          0.3379989497006708,
          -0.47509103113236867,
          0.9883775485458759,
          -0.49759959444747737,
          -0.5175505906903983,
          -0.5160658015136944,
          1.1773648027640518,
          -1.2239977691925685,
          1.5338785125580028,
          -1.1265244490018038,
          0.3192094224097089
         ],
         "yaxis": "y"
        },
        {
         "mode": "markers",
         "type": "scatter",
         "x": [
          1.178824224781843,
          -1.734461357083722,
          0.227605305560294,
          -2.0848149966089546,
          -0.15804334345623428,
          -0.6141794245523887,
          -2.0338137310643862,
          -0.07316506509037028,
          -1.5419322045995465,
          -0.7023787348088907,
          -1.1915468093553383,
          -0.4288504638666788,
          9.02259241866284,
          0.13416418148153164
         ],
         "xaxis": "x",
         "y": [
          -2.627422615718818,
          1.4463087839834,
          -2.0970159476531216,
          1.0955635512048276,
          -1.2310662613106302,
          -1.8021989219050272,
          2.8461200269108673,
          0.12766765041497896,
          2.547370604776995,
          0.37113989273587794,
          -1.3098144937731253,
          -1.3955617807998886,
          1.6449154392989649,
          0.38399407183470063
         ],
         "yaxis": "y"
        },
        {
         "mode": "markers",
         "type": "scatter",
         "x": [
          1.178824224781843,
          -1.734461357083722,
          0.227605305560294,
          -2.0848149966089546,
          -0.15804334345623428,
          -0.6141794245523887,
          -2.0338137310643862,
          -0.07316506509037028,
          -1.5419322045995465,
          -0.7023787348088907,
          -1.1915468093553383,
          -0.4288504638666788,
          9.02259241866284,
          0.13416418148153164
         ],
         "xaxis": "x",
         "y": [
          -2.627422615718818,
          1.4463087839834,
          -2.0970159476531216,
          1.0955635512048276,
          -1.2310662613106302,
          -1.8021989219050272,
          2.8461200269108673,
          0.12766765041497896,
          2.547370604776995,
          0.37113989273587794,
          -1.3098144937731253,
          -1.3955617807998886,
          1.6449154392989649,
          0.38399407183470063
         ],
         "yaxis": "y"
        },
        {
         "mode": "markers",
         "type": "scatter",
         "x": [
          -1.020489576308318,
          -0.49550165489121584,
          -0.14085756475299732,
          -0.731534175438127,
          0.7257201630029446,
          1.6626628083877135
         ],
         "xaxis": "x",
         "y": [
          1.0544854271120436,
          -0.008344739431304463,
          -0.3288144913325225,
          -0.7179455070174894,
          -0.5330199977471918,
          0.5336393084164649
         ],
         "yaxis": "y"
        },
        {
         "mode": "markers",
         "type": "scatter",
         "x": [
          -1.020489576308318,
          -0.49550165489121584,
          -0.14085756475299732,
          -0.731534175438127,
          0.7257201630029446,
          1.6626628083877135
         ],
         "xaxis": "x",
         "y": [
          1.0544854271120436,
          -0.008344739431304463,
          -0.3288144913325225,
          -0.7179455070174894,
          -0.5330199977471918,
          0.5336393084164649
         ],
         "yaxis": "y"
        },
        {
         "mode": "markers",
         "type": "scatter",
         "x": [
          -1.613343306997325,
          1.3757426814427984,
          -2.9918896058822297,
          2.1703120893785086,
          -1.6148562748754713,
          -2.5755764695197843,
          -2.427317163418324,
          -2.3022867182209787,
          3.1939121882680714,
          0.17433662012961787,
          0.2663999187938149,
          2.2931941792762225,
          0.18129802285388652,
          1.7697353054105576,
          -0.6111359038364494,
          2.711474437197087
         ],
         "xaxis": "x",
         "y": [
          -0.6850477362619579,
          0.9139405177721961,
          1.120929693460925,
          -1.215727586861926,
          -0.5751845788439192,
          -1.3137177946021825,
          0.25506704926799767,
          0.5983261471670618,
          -1.3128148048611916,
          -0.1773214939925527,
          -0.03482324881187031,
          0.6464417472676771,
          -1.023368926927767,
          4.695897116018639,
          -0.32246423661336715,
          -1.5701318631777599
         ],
         "yaxis": "y"
        },
        {
         "mode": "markers",
         "type": "scatter",
         "x": [
          -1.613343306997325,
          1.3757426814427984,
          -2.9918896058822297,
          2.1703120893785086,
          -1.6148562748754713,
          -2.5755764695197843,
          -2.427317163418324,
          -2.3022867182209787,
          3.1939121882680714,
          0.17433662012961787,
          0.2663999187938149,
          2.2931941792762225,
          0.18129802285388652,
          1.7697353054105576,
          -0.6111359038364494,
          2.711474437197087
         ],
         "xaxis": "x",
         "y": [
          -0.6850477362619579,
          0.9139405177721961,
          1.120929693460925,
          -1.215727586861926,
          -0.5751845788439192,
          -1.3137177946021825,
          0.25506704926799767,
          0.5983261471670618,
          -1.3128148048611916,
          -0.1773214939925527,
          -0.03482324881187031,
          0.6464417472676771,
          -1.023368926927767,
          4.695897116018639,
          -0.32246423661336715,
          -1.5701318631777599
         ],
         "yaxis": "y"
        },
        {
         "mode": "markers",
         "type": "scatter",
         "x": [
          -1.8908110592737624,
          12.299769632231586,
          -1.025814905720632,
          -1.7031078283079804,
          -1.7174908036365308,
          -2.003298051484429,
          -1.7406829388981016,
          -2.2185640449101487
         ],
         "xaxis": "x",
         "y": [
          0.15625950026810956,
          -0.24729079643897228,
          3.9104513168196338,
          -0.43282012587812224,
          -0.6416294732504989,
          -0.9276308612462769,
          -0.7969787749634419,
          -1.0203607853104275
         ],
         "yaxis": "y"
        },
        {
         "mode": "markers",
         "type": "scatter",
         "x": [
          -1.8908110592737624,
          12.299769632231586,
          -1.025814905720632,
          -1.7031078283079804,
          -1.7174908036365308,
          -2.003298051484429,
          -1.7406829388981016,
          -2.2185640449101487
         ],
         "xaxis": "x",
         "y": [
          0.15625950026810956,
          -0.24729079643897228,
          3.9104513168196338,
          -0.43282012587812224,
          -0.6416294732504989,
          -0.9276308612462769,
          -0.7969787749634419,
          -1.0203607853104275
         ],
         "yaxis": "y"
        },
        {
         "mode": "markers",
         "type": "scatter",
         "x": [
          0.5293252624357406,
          -1.0323565847166982,
          -0.8319957632108778,
          -1.4781425870786353,
          -0.9339774698007947,
          2.1453514101433986,
          1.6017957322278678
         ],
         "xaxis": "x",
         "y": [
          0.07040783901475814,
          -0.8823047661620785,
          -1.121268948599102,
          0.5104271649550286,
          1.2197447177739567,
          -0.5748619811000817,
          0.77785597411752
         ],
         "yaxis": "y"
        },
        {
         "mode": "markers",
         "type": "scatter",
         "x": [
          0.5293252624357406,
          -1.0323565847166982,
          -0.8319957632108778,
          -1.4781425870786353,
          -0.9339774698007947,
          2.1453514101433986,
          1.6017957322278678
         ],
         "xaxis": "x",
         "y": [
          0.07040783901475814,
          -0.8823047661620785,
          -1.121268948599102,
          0.5104271649550286,
          1.2197447177739567,
          -0.5748619811000817,
          0.77785597411752
         ],
         "yaxis": "y"
        }
       ],
       "layout": {
        "template": {
         "data": {
          "bar": [
           {
            "error_x": {
             "color": "#2a3f5f"
            },
            "error_y": {
             "color": "#2a3f5f"
            },
            "marker": {
             "line": {
              "color": "#E5ECF6",
              "width": 0.5
             },
             "pattern": {
              "fillmode": "overlay",
              "size": 10,
              "solidity": 0.2
             }
            },
            "type": "bar"
           }
          ],
          "barpolar": [
           {
            "marker": {
             "line": {
              "color": "#E5ECF6",
              "width": 0.5
             },
             "pattern": {
              "fillmode": "overlay",
              "size": 10,
              "solidity": 0.2
             }
            },
            "type": "barpolar"
           }
          ],
          "carpet": [
           {
            "aaxis": {
             "endlinecolor": "#2a3f5f",
             "gridcolor": "white",
             "linecolor": "white",
             "minorgridcolor": "white",
             "startlinecolor": "#2a3f5f"
            },
            "baxis": {
             "endlinecolor": "#2a3f5f",
             "gridcolor": "white",
             "linecolor": "white",
             "minorgridcolor": "white",
             "startlinecolor": "#2a3f5f"
            },
            "type": "carpet"
           }
          ],
          "choropleth": [
           {
            "colorbar": {
             "outlinewidth": 0,
             "ticks": ""
            },
            "type": "choropleth"
           }
          ],
          "contour": [
           {
            "colorbar": {
             "outlinewidth": 0,
             "ticks": ""
            },
            "colorscale": [
             [
              0,
              "#0d0887"
             ],
             [
              0.1111111111111111,
              "#46039f"
             ],
             [
              0.2222222222222222,
              "#7201a8"
             ],
             [
              0.3333333333333333,
              "#9c179e"
             ],
             [
              0.4444444444444444,
              "#bd3786"
             ],
             [
              0.5555555555555556,
              "#d8576b"
             ],
             [
              0.6666666666666666,
              "#ed7953"
             ],
             [
              0.7777777777777778,
              "#fb9f3a"
             ],
             [
              0.8888888888888888,
              "#fdca26"
             ],
             [
              1,
              "#f0f921"
             ]
            ],
            "type": "contour"
           }
          ],
          "contourcarpet": [
           {
            "colorbar": {
             "outlinewidth": 0,
             "ticks": ""
            },
            "type": "contourcarpet"
           }
          ],
          "heatmap": [
           {
            "colorbar": {
             "outlinewidth": 0,
             "ticks": ""
            },
            "colorscale": [
             [
              0,
              "#0d0887"
             ],
             [
              0.1111111111111111,
              "#46039f"
             ],
             [
              0.2222222222222222,
              "#7201a8"
             ],
             [
              0.3333333333333333,
              "#9c179e"
             ],
             [
              0.4444444444444444,
              "#bd3786"
             ],
             [
              0.5555555555555556,
              "#d8576b"
             ],
             [
              0.6666666666666666,
              "#ed7953"
             ],
             [
              0.7777777777777778,
              "#fb9f3a"
             ],
             [
              0.8888888888888888,
              "#fdca26"
             ],
             [
              1,
              "#f0f921"
             ]
            ],
            "type": "heatmap"
           }
          ],
          "heatmapgl": [
           {
            "colorbar": {
             "outlinewidth": 0,
             "ticks": ""
            },
            "colorscale": [
             [
              0,
              "#0d0887"
             ],
             [
              0.1111111111111111,
              "#46039f"
             ],
             [
              0.2222222222222222,
              "#7201a8"
             ],
             [
              0.3333333333333333,
              "#9c179e"
             ],
             [
              0.4444444444444444,
              "#bd3786"
             ],
             [
              0.5555555555555556,
              "#d8576b"
             ],
             [
              0.6666666666666666,
              "#ed7953"
             ],
             [
              0.7777777777777778,
              "#fb9f3a"
             ],
             [
              0.8888888888888888,
              "#fdca26"
             ],
             [
              1,
              "#f0f921"
             ]
            ],
            "type": "heatmapgl"
           }
          ],
          "histogram": [
           {
            "marker": {
             "pattern": {
              "fillmode": "overlay",
              "size": 10,
              "solidity": 0.2
             }
            },
            "type": "histogram"
           }
          ],
          "histogram2d": [
           {
            "colorbar": {
             "outlinewidth": 0,
             "ticks": ""
            },
            "colorscale": [
             [
              0,
              "#0d0887"
             ],
             [
              0.1111111111111111,
              "#46039f"
             ],
             [
              0.2222222222222222,
              "#7201a8"
             ],
             [
              0.3333333333333333,
              "#9c179e"
             ],
             [
              0.4444444444444444,
              "#bd3786"
             ],
             [
              0.5555555555555556,
              "#d8576b"
             ],
             [
              0.6666666666666666,
              "#ed7953"
             ],
             [
              0.7777777777777778,
              "#fb9f3a"
             ],
             [
              0.8888888888888888,
              "#fdca26"
             ],
             [
              1,
              "#f0f921"
             ]
            ],
            "type": "histogram2d"
           }
          ],
          "histogram2dcontour": [
           {
            "colorbar": {
             "outlinewidth": 0,
             "ticks": ""
            },
            "colorscale": [
             [
              0,
              "#0d0887"
             ],
             [
              0.1111111111111111,
              "#46039f"
             ],
             [
              0.2222222222222222,
              "#7201a8"
             ],
             [
              0.3333333333333333,
              "#9c179e"
             ],
             [
              0.4444444444444444,
              "#bd3786"
             ],
             [
              0.5555555555555556,
              "#d8576b"
             ],
             [
              0.6666666666666666,
              "#ed7953"
             ],
             [
              0.7777777777777778,
              "#fb9f3a"
             ],
             [
              0.8888888888888888,
              "#fdca26"
             ],
             [
              1,
              "#f0f921"
             ]
            ],
            "type": "histogram2dcontour"
           }
          ],
          "mesh3d": [
           {
            "colorbar": {
             "outlinewidth": 0,
             "ticks": ""
            },
            "type": "mesh3d"
           }
          ],
          "parcoords": [
           {
            "line": {
             "colorbar": {
              "outlinewidth": 0,
              "ticks": ""
             }
            },
            "type": "parcoords"
           }
          ],
          "pie": [
           {
            "automargin": true,
            "type": "pie"
           }
          ],
          "scatter": [
           {
            "fillpattern": {
             "fillmode": "overlay",
             "size": 10,
             "solidity": 0.2
            },
            "type": "scatter"
           }
          ],
          "scatter3d": [
           {
            "line": {
             "colorbar": {
              "outlinewidth": 0,
              "ticks": ""
             }
            },
            "marker": {
             "colorbar": {
              "outlinewidth": 0,
              "ticks": ""
             }
            },
            "type": "scatter3d"
           }
          ],
          "scattercarpet": [
           {
            "marker": {
             "colorbar": {
              "outlinewidth": 0,
              "ticks": ""
             }
            },
            "type": "scattercarpet"
           }
          ],
          "scattergeo": [
           {
            "marker": {
             "colorbar": {
              "outlinewidth": 0,
              "ticks": ""
             }
            },
            "type": "scattergeo"
           }
          ],
          "scattergl": [
           {
            "marker": {
             "colorbar": {
              "outlinewidth": 0,
              "ticks": ""
             }
            },
            "type": "scattergl"
           }
          ],
          "scattermapbox": [
           {
            "marker": {
             "colorbar": {
              "outlinewidth": 0,
              "ticks": ""
             }
            },
            "type": "scattermapbox"
           }
          ],
          "scatterpolar": [
           {
            "marker": {
             "colorbar": {
              "outlinewidth": 0,
              "ticks": ""
             }
            },
            "type": "scatterpolar"
           }
          ],
          "scatterpolargl": [
           {
            "marker": {
             "colorbar": {
              "outlinewidth": 0,
              "ticks": ""
             }
            },
            "type": "scatterpolargl"
           }
          ],
          "scatterternary": [
           {
            "marker": {
             "colorbar": {
              "outlinewidth": 0,
              "ticks": ""
             }
            },
            "type": "scatterternary"
           }
          ],
          "surface": [
           {
            "colorbar": {
             "outlinewidth": 0,
             "ticks": ""
            },
            "colorscale": [
             [
              0,
              "#0d0887"
             ],
             [
              0.1111111111111111,
              "#46039f"
             ],
             [
              0.2222222222222222,
              "#7201a8"
             ],
             [
              0.3333333333333333,
              "#9c179e"
             ],
             [
              0.4444444444444444,
              "#bd3786"
             ],
             [
              0.5555555555555556,
              "#d8576b"
             ],
             [
              0.6666666666666666,
              "#ed7953"
             ],
             [
              0.7777777777777778,
              "#fb9f3a"
             ],
             [
              0.8888888888888888,
              "#fdca26"
             ],
             [
              1,
              "#f0f921"
             ]
            ],
            "type": "surface"
           }
          ],
          "table": [
           {
            "cells": {
             "fill": {
              "color": "#EBF0F8"
             },
             "line": {
              "color": "white"
             }
            },
            "header": {
             "fill": {
              "color": "#C8D4E3"
             },
             "line": {
              "color": "white"
             }
            },
            "type": "table"
           }
          ]
         },
         "layout": {
          "annotationdefaults": {
           "arrowcolor": "#2a3f5f",
           "arrowhead": 0,
           "arrowwidth": 1
          },
          "autotypenumbers": "strict",
          "coloraxis": {
           "colorbar": {
            "outlinewidth": 0,
            "ticks": ""
           }
          },
          "colorscale": {
           "diverging": [
            [
             0,
             "#8e0152"
            ],
            [
             0.1,
             "#c51b7d"
            ],
            [
             0.2,
             "#de77ae"
            ],
            [
             0.3,
             "#f1b6da"
            ],
            [
             0.4,
             "#fde0ef"
            ],
            [
             0.5,
             "#f7f7f7"
            ],
            [
             0.6,
             "#e6f5d0"
            ],
            [
             0.7,
             "#b8e186"
            ],
            [
             0.8,
             "#7fbc41"
            ],
            [
             0.9,
             "#4d9221"
            ],
            [
             1,
             "#276419"
            ]
           ],
           "sequential": [
            [
             0,
             "#0d0887"
            ],
            [
             0.1111111111111111,
             "#46039f"
            ],
            [
             0.2222222222222222,
             "#7201a8"
            ],
            [
             0.3333333333333333,
             "#9c179e"
            ],
            [
             0.4444444444444444,
             "#bd3786"
            ],
            [
             0.5555555555555556,
             "#d8576b"
            ],
            [
             0.6666666666666666,
             "#ed7953"
            ],
            [
             0.7777777777777778,
             "#fb9f3a"
            ],
            [
             0.8888888888888888,
             "#fdca26"
            ],
            [
             1,
             "#f0f921"
            ]
           ],
           "sequentialminus": [
            [
             0,
             "#0d0887"
            ],
            [
             0.1111111111111111,
             "#46039f"
            ],
            [
             0.2222222222222222,
             "#7201a8"
            ],
            [
             0.3333333333333333,
             "#9c179e"
            ],
            [
             0.4444444444444444,
             "#bd3786"
            ],
            [
             0.5555555555555556,
             "#d8576b"
            ],
            [
             0.6666666666666666,
             "#ed7953"
            ],
            [
             0.7777777777777778,
             "#fb9f3a"
            ],
            [
             0.8888888888888888,
             "#fdca26"
            ],
            [
             1,
             "#f0f921"
            ]
           ]
          },
          "colorway": [
           "#636efa",
           "#EF553B",
           "#00cc96",
           "#ab63fa",
           "#FFA15A",
           "#19d3f3",
           "#FF6692",
           "#B6E880",
           "#FF97FF",
           "#FECB52"
          ],
          "font": {
           "color": "#2a3f5f"
          },
          "geo": {
           "bgcolor": "white",
           "lakecolor": "white",
           "landcolor": "#E5ECF6",
           "showlakes": true,
           "showland": true,
           "subunitcolor": "white"
          },
          "hoverlabel": {
           "align": "left"
          },
          "hovermode": "closest",
          "mapbox": {
           "style": "light"
          },
          "paper_bgcolor": "white",
          "plot_bgcolor": "#E5ECF6",
          "polar": {
           "angularaxis": {
            "gridcolor": "white",
            "linecolor": "white",
            "ticks": ""
           },
           "bgcolor": "#E5ECF6",
           "radialaxis": {
            "gridcolor": "white",
            "linecolor": "white",
            "ticks": ""
           }
          },
          "scene": {
           "xaxis": {
            "backgroundcolor": "#E5ECF6",
            "gridcolor": "white",
            "gridwidth": 2,
            "linecolor": "white",
            "showbackground": true,
            "ticks": "",
            "zerolinecolor": "white"
           },
           "yaxis": {
            "backgroundcolor": "#E5ECF6",
            "gridcolor": "white",
            "gridwidth": 2,
            "linecolor": "white",
            "showbackground": true,
            "ticks": "",
            "zerolinecolor": "white"
           },
           "zaxis": {
            "backgroundcolor": "#E5ECF6",
            "gridcolor": "white",
            "gridwidth": 2,
            "linecolor": "white",
            "showbackground": true,
            "ticks": "",
            "zerolinecolor": "white"
           }
          },
          "shapedefaults": {
           "line": {
            "color": "#2a3f5f"
           }
          },
          "ternary": {
           "aaxis": {
            "gridcolor": "white",
            "linecolor": "white",
            "ticks": ""
           },
           "baxis": {
            "gridcolor": "white",
            "linecolor": "white",
            "ticks": ""
           },
           "bgcolor": "#E5ECF6",
           "caxis": {
            "gridcolor": "white",
            "linecolor": "white",
            "ticks": ""
           }
          },
          "title": {
           "x": 0.05
          },
          "xaxis": {
           "automargin": true,
           "gridcolor": "white",
           "linecolor": "white",
           "ticks": "",
           "title": {
            "standoff": 15
           },
           "zerolinecolor": "white",
           "zerolinewidth": 2
          },
          "yaxis": {
           "automargin": true,
           "gridcolor": "white",
           "linecolor": "white",
           "ticks": "",
           "title": {
            "standoff": 15
           },
           "zerolinecolor": "white",
           "zerolinewidth": 2
          }
         }
        },
        "xaxis": {
         "anchor": "y",
         "domain": [
          0,
          0.45
         ]
        },
        "xaxis2": {
         "anchor": "y2",
         "domain": [
          0.55,
          1
         ]
        },
        "xaxis3": {
         "anchor": "y3",
         "domain": [
          0,
          0.45
         ]
        },
        "xaxis4": {
         "anchor": "y4",
         "domain": [
          0.55,
          1
         ]
        },
        "yaxis": {
         "anchor": "x",
         "domain": [
          0.575,
          1
         ]
        },
        "yaxis2": {
         "anchor": "x2",
         "domain": [
          0.575,
          1
         ]
        },
        "yaxis3": {
         "anchor": "x3",
         "domain": [
          0,
          0.425
         ]
        },
        "yaxis4": {
         "anchor": "x4",
         "domain": [
          0,
          0.425
         ]
        }
       }
      },
      "text/html": [
       "<div>                            <div id=\"f144cb84-c36b-49ea-ba20-b9035feb78bb\" class=\"plotly-graph-div\" style=\"height:525px; width:100%;\"></div>            <script type=\"text/javascript\">                require([\"plotly\"], function(Plotly) {                    window.PLOTLYENV=window.PLOTLYENV || {};                                    if (document.getElementById(\"f144cb84-c36b-49ea-ba20-b9035feb78bb\")) {                    Plotly.newPlot(                        \"f144cb84-c36b-49ea-ba20-b9035feb78bb\",                        [{\"mode\":\"markers\",\"x\":[5.210114811446343,-0.4728510756516797,-0.8603746113678938,1.136122540701641,-0.7427048012322042,-0.20533955778039756,-0.11586378419510165,0.02182134683970397,-0.16439352995194584,-0.48974803695183283,0.3492851969686509,-1.2699917603105615,-0.3189988462616398,-0.11835480413226934,-0.9659454582655566,-0.5175341390409511,-0.2964167226799338,0.21336667775910972,-0.39219344589347893],\"y\":[0.5169073441294096,-1.0497954976602777,1.244376446609422,-0.9692305724188455,-0.7260462710402031,1.0347435255175013,-0.6371030349245719,-1.3676518709615855,1.823768788423973,-1.2947059954282467,-0.8166517811124832,0.14961063589260526,0.050932400280153965,-0.019386583989313127,0.6309933373658192,0.30579159202292594,0.9577726548628086,-0.19306026686273267,0.35873514929364025],\"type\":\"scatter\",\"xaxis\":\"x\",\"yaxis\":\"y\"},{\"mode\":\"markers\",\"x\":[5.210114811446343,-0.4728510756516797,-0.8603746113678938,1.136122540701641,-0.7427048012322042,-0.20533955778039756,-0.11586378419510165,0.02182134683970397,-0.16439352995194584,-0.48974803695183283,0.3492851969686509,-1.2699917603105615,-0.3189988462616398,-0.11835480413226934,-0.9659454582655566,-0.5175341390409511,-0.2964167226799338,0.21336667775910972,-0.39219344589347893],\"y\":[0.5169073441294096,-1.0497954976602777,1.244376446609422,-0.9692305724188455,-0.7260462710402031,1.0347435255175013,-0.6371030349245719,-1.3676518709615855,1.823768788423973,-1.2947059954282467,-0.8166517811124832,0.14961063589260526,0.050932400280153965,-0.019386583989313127,0.6309933373658192,0.30579159202292594,0.9577726548628086,-0.19306026686273267,0.35873514929364025],\"type\":\"scatter\",\"xaxis\":\"x\",\"yaxis\":\"y\"},{\"mode\":\"markers\",\"x\":[0.3552655689048327,0.036986540967569266,-0.7512866010565359,0.7341453125828313,-0.06868619757798179,4.307446829618365,-0.7996026969129907,-0.3802805011440964,-1.1251017293122694,-1.0765140568765288,-1.232372469193195],\"y\":[-0.6061657434761347,-0.5693819692144481,0.1579833779285757,2.360861620718159,-0.12867179659543806,-0.586923900047573,0.7020419649053523,0.22960439933671528,-0.589900361866746,-0.4398839192021792,-0.5295636724862824],\"type\":\"scatter\",\"xaxis\":\"x\",\"yaxis\":\"y\"},{\"mode\":\"markers\",\"x\":[0.3552655689048327,0.036986540967569266,-0.7512866010565359,0.7341453125828313,-0.06868619757798179,4.307446829618365,-0.7996026969129907,-0.3802805011440964,-1.1251017293122694,-1.0765140568765288,-1.232372469193195],\"y\":[-0.6061657434761347,-0.5693819692144481,0.1579833779285757,2.360861620718159,-0.12867179659543806,-0.586923900047573,0.7020419649053523,0.22960439933671528,-0.589900361866746,-0.4398839192021792,-0.5295636724862824],\"type\":\"scatter\",\"xaxis\":\"x\",\"yaxis\":\"y\"},{\"mode\":\"markers\",\"x\":[0.31070110970288173,-0.43007108892966284,1.359906918723849,0.2688400790512804,-1.6009298305187125,0.34234294241403623,1.3041203581636944,0.3630076342977657,-0.5459105482218559,-2.1153157327161862,-0.6146134827899984,-2.137439034520853,1.4393094594034175,0.3902861779813899,-1.0481427376863088,-0.4513804310705264,1.2693150325675522,-1.1552003259929844,3.0511735001412195],\"y\":[0.7145254524294692,3.164370174662475,-0.26451215287549823,-1.0888118698291092,0.26835037717820953,-0.19765066820328014,0.2735789130726041,-0.2387615988057785,-0.8645514668400482,0.032843400085695286,-0.10130730096797154,-0.07874144153398467,-0.7441464582458841,0.2896626929486126,-0.40582853275612407,-0.45660345945509334,-1.0432048181855753,-0.18444627881328507,0.9252350361345697],\"type\":\"scatter\",\"xaxis\":\"x\",\"yaxis\":\"y\"},{\"mode\":\"markers\",\"x\":[0.31070110970288173,-0.43007108892966284,1.359906918723849,0.2688400790512804,-1.6009298305187125,0.34234294241403623,1.3041203581636944,0.3630076342977657,-0.5459105482218559,-2.1153157327161862,-0.6146134827899984,-2.137439034520853,1.4393094594034175,0.3902861779813899,-1.0481427376863088,-0.4513804310705264,1.2693150325675522,-1.1552003259929844,3.0511735001412195],\"y\":[0.7145254524294692,3.164370174662475,-0.26451215287549823,-1.0888118698291092,0.26835037717820953,-0.19765066820328014,0.2735789130726041,-0.2387615988057785,-0.8645514668400482,0.032843400085695286,-0.10130730096797154,-0.07874144153398467,-0.7441464582458841,0.2896626929486126,-0.40582853275612407,-0.45660345945509334,-1.0432048181855753,-0.18444627881328507,0.9252350361345697],\"type\":\"scatter\",\"xaxis\":\"x\",\"yaxis\":\"y\"},{\"mode\":\"markers\",\"x\":[3.6143690816171343,-3.614369081617132],\"y\":[8.857084252718444e-16,8.857084252718449e-16],\"type\":\"scatter\",\"xaxis\":\"x\",\"yaxis\":\"y\"},{\"mode\":\"markers\",\"x\":[3.6143690816171343,-3.614369081617132],\"y\":[8.857084252718444e-16,8.857084252718449e-16],\"type\":\"scatter\",\"xaxis\":\"x\",\"yaxis\":\"y\"},{\"mode\":\"markers\",\"x\":[-1.0443644068102007,-0.44489997766619155,0.1291156222695264,-1.6855738976179109,-0.37160183352037723,-0.7768504813517476,0.9834927280447989,1.1243707816671318,0.6762759900935414,-0.8447874435264807,0.8191944514064019,0.4182704599072949,1.9481509930249337,-1.7820958293304097,1.468382059915869,0.650421986946983,-1.3657299633616333,0.8966713625434158,0.23141042548157423,-0.02355695250181159,-1.0062960756147086],\"y\":[-0.3749500951200874,1.0190254495997109,2.9010627665440425,-0.3447385780613274,-0.6283494346513449,-0.7702390590536492,1.0148266022727952,-0.5744063164349789,-0.8577492344464106,0.48551512110038325,0.489174392926847,-0.473924595965204,-0.42604052027276473,0.5976251863469446,-0.5171446183740105,0.7971533766690312,-0.06184970346513865,-0.2556209093528728,-0.7168063181171345,-0.15719535397917062,-1.1453681581656583],\"type\":\"scatter\",\"xaxis\":\"x\",\"yaxis\":\"y\"},{\"mode\":\"markers\",\"x\":[-1.0443644068102007,-0.44489997766619155,0.1291156222695264,-1.6855738976179109,-0.37160183352037723,-0.7768504813517476,0.9834927280447989,1.1243707816671318,0.6762759900935414,-0.8447874435264807,0.8191944514064019,0.4182704599072949,1.9481509930249337,-1.7820958293304097,1.468382059915869,0.650421986946983,-1.3657299633616333,0.8966713625434158,0.23141042548157423,-0.02355695250181159,-1.0062960756147086],\"y\":[-0.3749500951200874,1.0190254495997109,2.9010627665440425,-0.3447385780613274,-0.6283494346513449,-0.7702390590536492,1.0148266022727952,-0.5744063164349789,-0.8577492344464106,0.48551512110038325,0.489174392926847,-0.473924595965204,-0.42604052027276473,0.5976251863469446,-0.5171446183740105,0.7971533766690312,-0.06184970346513865,-0.2556209093528728,-0.7168063181171345,-0.15719535397917062,-1.1453681581656583],\"type\":\"scatter\",\"xaxis\":\"x\",\"yaxis\":\"y\"},{\"mode\":\"markers\",\"x\":[-2.793567368186257,2.046888040583085,-2.2830768092959732,2.7422564006993846,-2.0009345565882177,0.005468873356805534,-2.231334362598552,3.6169902228467072,-2.6293217146307355,0.44416272157814757,-2.5537364557162765,3.1398799328203975,-1.8909193676035325,2.9837288601035024,-1.428674566180841,0.33164593183094815,2.500544216981409],\"y\":[-0.06420776432358506,-0.9383063392947264,0.03313763687552658,-1.237470404354943,0.2813885134368396,-0.5788945504514492,0.10141071763667397,-0.9985251151491878,0.13951896747241133,-0.5947432471669047,0.5074473369071038,5.441796924508752,0.2789204711348069,-0.7899295468784207,-0.10709814007268692,-0.4025357670906193,-1.0719096931895944],\"type\":\"scatter\",\"xaxis\":\"x\",\"yaxis\":\"y\"},{\"mode\":\"markers\",\"x\":[-2.793567368186257,2.046888040583085,-2.2830768092959732,2.7422564006993846,-2.0009345565882177,0.005468873356805534,-2.231334362598552,3.6169902228467072,-2.6293217146307355,0.44416272157814757,-2.5537364557162765,3.1398799328203975,-1.8909193676035325,2.9837288601035024,-1.428674566180841,0.33164593183094815,2.500544216981409],\"y\":[-0.06420776432358506,-0.9383063392947264,0.03313763687552658,-1.237470404354943,0.2813885134368396,-0.5788945504514492,0.10141071763667397,-0.9985251151491878,0.13951896747241133,-0.5947432471669047,0.5074473369071038,5.441796924508752,0.2789204711348069,-0.7899295468784207,-0.10709814007268692,-0.4025357670906193,-1.0719096931895944],\"type\":\"scatter\",\"xaxis\":\"x\",\"yaxis\":\"y\"},{\"mode\":\"markers\",\"x\":[3.1174367882656355,1.0061837032043235,-0.6591210096827749,1.9521850149832292,-0.5948022781884648,-1.1392260752321195,-0.8803779869856191,-0.8700152564185887,-0.846188906287766,-1.2227110911552876,0.1366370974974326],\"y\":[0.3379989497006708,-0.47509103113236867,0.9883775485458759,-0.49759959444747737,-0.5175505906903983,-0.5160658015136944,1.1773648027640518,-1.2239977691925685,1.5338785125580028,-1.1265244490018038,0.3192094224097089],\"type\":\"scatter\",\"xaxis\":\"x\",\"yaxis\":\"y\"},{\"mode\":\"markers\",\"x\":[3.1174367882656355,1.0061837032043235,-0.6591210096827749,1.9521850149832292,-0.5948022781884648,-1.1392260752321195,-0.8803779869856191,-0.8700152564185887,-0.846188906287766,-1.2227110911552876,0.1366370974974326],\"y\":[0.3379989497006708,-0.47509103113236867,0.9883775485458759,-0.49759959444747737,-0.5175505906903983,-0.5160658015136944,1.1773648027640518,-1.2239977691925685,1.5338785125580028,-1.1265244490018038,0.3192094224097089],\"type\":\"scatter\",\"xaxis\":\"x\",\"yaxis\":\"y\"},{\"mode\":\"markers\",\"x\":[1.178824224781843,-1.734461357083722,0.227605305560294,-2.0848149966089546,-0.15804334345623428,-0.6141794245523887,-2.0338137310643862,-0.07316506509037028,-1.5419322045995465,-0.7023787348088907,-1.1915468093553383,-0.4288504638666788,9.02259241866284,0.13416418148153164],\"y\":[-2.627422615718818,1.4463087839834,-2.0970159476531216,1.0955635512048276,-1.2310662613106302,-1.8021989219050272,2.8461200269108673,0.12766765041497896,2.547370604776995,0.37113989273587794,-1.3098144937731253,-1.3955617807998886,1.6449154392989649,0.38399407183470063],\"type\":\"scatter\",\"xaxis\":\"x\",\"yaxis\":\"y\"},{\"mode\":\"markers\",\"x\":[1.178824224781843,-1.734461357083722,0.227605305560294,-2.0848149966089546,-0.15804334345623428,-0.6141794245523887,-2.0338137310643862,-0.07316506509037028,-1.5419322045995465,-0.7023787348088907,-1.1915468093553383,-0.4288504638666788,9.02259241866284,0.13416418148153164],\"y\":[-2.627422615718818,1.4463087839834,-2.0970159476531216,1.0955635512048276,-1.2310662613106302,-1.8021989219050272,2.8461200269108673,0.12766765041497896,2.547370604776995,0.37113989273587794,-1.3098144937731253,-1.3955617807998886,1.6449154392989649,0.38399407183470063],\"type\":\"scatter\",\"xaxis\":\"x\",\"yaxis\":\"y\"},{\"mode\":\"markers\",\"x\":[-1.020489576308318,-0.49550165489121584,-0.14085756475299732,-0.731534175438127,0.7257201630029446,1.6626628083877135],\"y\":[1.0544854271120436,-0.008344739431304463,-0.3288144913325225,-0.7179455070174894,-0.5330199977471918,0.5336393084164649],\"type\":\"scatter\",\"xaxis\":\"x\",\"yaxis\":\"y\"},{\"mode\":\"markers\",\"x\":[-1.020489576308318,-0.49550165489121584,-0.14085756475299732,-0.731534175438127,0.7257201630029446,1.6626628083877135],\"y\":[1.0544854271120436,-0.008344739431304463,-0.3288144913325225,-0.7179455070174894,-0.5330199977471918,0.5336393084164649],\"type\":\"scatter\",\"xaxis\":\"x\",\"yaxis\":\"y\"},{\"mode\":\"markers\",\"x\":[-1.613343306997325,1.3757426814427984,-2.9918896058822297,2.1703120893785086,-1.6148562748754713,-2.5755764695197843,-2.427317163418324,-2.3022867182209787,3.1939121882680714,0.17433662012961787,0.2663999187938149,2.2931941792762225,0.18129802285388652,1.7697353054105576,-0.6111359038364494,2.711474437197087],\"y\":[-0.6850477362619579,0.9139405177721961,1.120929693460925,-1.215727586861926,-0.5751845788439192,-1.3137177946021825,0.25506704926799767,0.5983261471670618,-1.3128148048611916,-0.1773214939925527,-0.03482324881187031,0.6464417472676771,-1.023368926927767,4.695897116018639,-0.32246423661336715,-1.5701318631777599],\"type\":\"scatter\",\"xaxis\":\"x\",\"yaxis\":\"y\"},{\"mode\":\"markers\",\"x\":[-1.613343306997325,1.3757426814427984,-2.9918896058822297,2.1703120893785086,-1.6148562748754713,-2.5755764695197843,-2.427317163418324,-2.3022867182209787,3.1939121882680714,0.17433662012961787,0.2663999187938149,2.2931941792762225,0.18129802285388652,1.7697353054105576,-0.6111359038364494,2.711474437197087],\"y\":[-0.6850477362619579,0.9139405177721961,1.120929693460925,-1.215727586861926,-0.5751845788439192,-1.3137177946021825,0.25506704926799767,0.5983261471670618,-1.3128148048611916,-0.1773214939925527,-0.03482324881187031,0.6464417472676771,-1.023368926927767,4.695897116018639,-0.32246423661336715,-1.5701318631777599],\"type\":\"scatter\",\"xaxis\":\"x\",\"yaxis\":\"y\"},{\"mode\":\"markers\",\"x\":[-1.8908110592737624,12.299769632231586,-1.025814905720632,-1.7031078283079804,-1.7174908036365308,-2.003298051484429,-1.7406829388981016,-2.2185640449101487],\"y\":[0.15625950026810956,-0.24729079643897228,3.9104513168196338,-0.43282012587812224,-0.6416294732504989,-0.9276308612462769,-0.7969787749634419,-1.0203607853104275],\"type\":\"scatter\",\"xaxis\":\"x\",\"yaxis\":\"y\"},{\"mode\":\"markers\",\"x\":[-1.8908110592737624,12.299769632231586,-1.025814905720632,-1.7031078283079804,-1.7174908036365308,-2.003298051484429,-1.7406829388981016,-2.2185640449101487],\"y\":[0.15625950026810956,-0.24729079643897228,3.9104513168196338,-0.43282012587812224,-0.6416294732504989,-0.9276308612462769,-0.7969787749634419,-1.0203607853104275],\"type\":\"scatter\",\"xaxis\":\"x\",\"yaxis\":\"y\"},{\"mode\":\"markers\",\"x\":[0.5293252624357406,-1.0323565847166982,-0.8319957632108778,-1.4781425870786353,-0.9339774698007947,2.1453514101433986,1.6017957322278678],\"y\":[0.07040783901475814,-0.8823047661620785,-1.121268948599102,0.5104271649550286,1.2197447177739567,-0.5748619811000817,0.77785597411752],\"type\":\"scatter\",\"xaxis\":\"x\",\"yaxis\":\"y\"},{\"mode\":\"markers\",\"x\":[0.5293252624357406,-1.0323565847166982,-0.8319957632108778,-1.4781425870786353,-0.9339774698007947,2.1453514101433986,1.6017957322278678],\"y\":[0.07040783901475814,-0.8823047661620785,-1.121268948599102,0.5104271649550286,1.2197447177739567,-0.5748619811000817,0.77785597411752],\"type\":\"scatter\",\"xaxis\":\"x\",\"yaxis\":\"y\"}],                        {\"template\":{\"data\":{\"histogram2dcontour\":[{\"type\":\"histogram2dcontour\",\"colorbar\":{\"outlinewidth\":0,\"ticks\":\"\"},\"colorscale\":[[0.0,\"#0d0887\"],[0.1111111111111111,\"#46039f\"],[0.2222222222222222,\"#7201a8\"],[0.3333333333333333,\"#9c179e\"],[0.4444444444444444,\"#bd3786\"],[0.5555555555555556,\"#d8576b\"],[0.6666666666666666,\"#ed7953\"],[0.7777777777777778,\"#fb9f3a\"],[0.8888888888888888,\"#fdca26\"],[1.0,\"#f0f921\"]]}],\"choropleth\":[{\"type\":\"choropleth\",\"colorbar\":{\"outlinewidth\":0,\"ticks\":\"\"}}],\"histogram2d\":[{\"type\":\"histogram2d\",\"colorbar\":{\"outlinewidth\":0,\"ticks\":\"\"},\"colorscale\":[[0.0,\"#0d0887\"],[0.1111111111111111,\"#46039f\"],[0.2222222222222222,\"#7201a8\"],[0.3333333333333333,\"#9c179e\"],[0.4444444444444444,\"#bd3786\"],[0.5555555555555556,\"#d8576b\"],[0.6666666666666666,\"#ed7953\"],[0.7777777777777778,\"#fb9f3a\"],[0.8888888888888888,\"#fdca26\"],[1.0,\"#f0f921\"]]}],\"heatmap\":[{\"type\":\"heatmap\",\"colorbar\":{\"outlinewidth\":0,\"ticks\":\"\"},\"colorscale\":[[0.0,\"#0d0887\"],[0.1111111111111111,\"#46039f\"],[0.2222222222222222,\"#7201a8\"],[0.3333333333333333,\"#9c179e\"],[0.4444444444444444,\"#bd3786\"],[0.5555555555555556,\"#d8576b\"],[0.6666666666666666,\"#ed7953\"],[0.7777777777777778,\"#fb9f3a\"],[0.8888888888888888,\"#fdca26\"],[1.0,\"#f0f921\"]]}],\"heatmapgl\":[{\"type\":\"heatmapgl\",\"colorbar\":{\"outlinewidth\":0,\"ticks\":\"\"},\"colorscale\":[[0.0,\"#0d0887\"],[0.1111111111111111,\"#46039f\"],[0.2222222222222222,\"#7201a8\"],[0.3333333333333333,\"#9c179e\"],[0.4444444444444444,\"#bd3786\"],[0.5555555555555556,\"#d8576b\"],[0.6666666666666666,\"#ed7953\"],[0.7777777777777778,\"#fb9f3a\"],[0.8888888888888888,\"#fdca26\"],[1.0,\"#f0f921\"]]}],\"contourcarpet\":[{\"type\":\"contourcarpet\",\"colorbar\":{\"outlinewidth\":0,\"ticks\":\"\"}}],\"contour\":[{\"type\":\"contour\",\"colorbar\":{\"outlinewidth\":0,\"ticks\":\"\"},\"colorscale\":[[0.0,\"#0d0887\"],[0.1111111111111111,\"#46039f\"],[0.2222222222222222,\"#7201a8\"],[0.3333333333333333,\"#9c179e\"],[0.4444444444444444,\"#bd3786\"],[0.5555555555555556,\"#d8576b\"],[0.6666666666666666,\"#ed7953\"],[0.7777777777777778,\"#fb9f3a\"],[0.8888888888888888,\"#fdca26\"],[1.0,\"#f0f921\"]]}],\"surface\":[{\"type\":\"surface\",\"colorbar\":{\"outlinewidth\":0,\"ticks\":\"\"},\"colorscale\":[[0.0,\"#0d0887\"],[0.1111111111111111,\"#46039f\"],[0.2222222222222222,\"#7201a8\"],[0.3333333333333333,\"#9c179e\"],[0.4444444444444444,\"#bd3786\"],[0.5555555555555556,\"#d8576b\"],[0.6666666666666666,\"#ed7953\"],[0.7777777777777778,\"#fb9f3a\"],[0.8888888888888888,\"#fdca26\"],[1.0,\"#f0f921\"]]}],\"mesh3d\":[{\"type\":\"mesh3d\",\"colorbar\":{\"outlinewidth\":0,\"ticks\":\"\"}}],\"scatter\":[{\"fillpattern\":{\"fillmode\":\"overlay\",\"size\":10,\"solidity\":0.2},\"type\":\"scatter\"}],\"parcoords\":[{\"type\":\"parcoords\",\"line\":{\"colorbar\":{\"outlinewidth\":0,\"ticks\":\"\"}}}],\"scatterpolargl\":[{\"type\":\"scatterpolargl\",\"marker\":{\"colorbar\":{\"outlinewidth\":0,\"ticks\":\"\"}}}],\"bar\":[{\"error_x\":{\"color\":\"#2a3f5f\"},\"error_y\":{\"color\":\"#2a3f5f\"},\"marker\":{\"line\":{\"color\":\"#E5ECF6\",\"width\":0.5},\"pattern\":{\"fillmode\":\"overlay\",\"size\":10,\"solidity\":0.2}},\"type\":\"bar\"}],\"scattergeo\":[{\"type\":\"scattergeo\",\"marker\":{\"colorbar\":{\"outlinewidth\":0,\"ticks\":\"\"}}}],\"scatterpolar\":[{\"type\":\"scatterpolar\",\"marker\":{\"colorbar\":{\"outlinewidth\":0,\"ticks\":\"\"}}}],\"histogram\":[{\"marker\":{\"pattern\":{\"fillmode\":\"overlay\",\"size\":10,\"solidity\":0.2}},\"type\":\"histogram\"}],\"scattergl\":[{\"type\":\"scattergl\",\"marker\":{\"colorbar\":{\"outlinewidth\":0,\"ticks\":\"\"}}}],\"scatter3d\":[{\"type\":\"scatter3d\",\"line\":{\"colorbar\":{\"outlinewidth\":0,\"ticks\":\"\"}},\"marker\":{\"colorbar\":{\"outlinewidth\":0,\"ticks\":\"\"}}}],\"scattermapbox\":[{\"type\":\"scattermapbox\",\"marker\":{\"colorbar\":{\"outlinewidth\":0,\"ticks\":\"\"}}}],\"scatterternary\":[{\"type\":\"scatterternary\",\"marker\":{\"colorbar\":{\"outlinewidth\":0,\"ticks\":\"\"}}}],\"scattercarpet\":[{\"type\":\"scattercarpet\",\"marker\":{\"colorbar\":{\"outlinewidth\":0,\"ticks\":\"\"}}}],\"carpet\":[{\"aaxis\":{\"endlinecolor\":\"#2a3f5f\",\"gridcolor\":\"white\",\"linecolor\":\"white\",\"minorgridcolor\":\"white\",\"startlinecolor\":\"#2a3f5f\"},\"baxis\":{\"endlinecolor\":\"#2a3f5f\",\"gridcolor\":\"white\",\"linecolor\":\"white\",\"minorgridcolor\":\"white\",\"startlinecolor\":\"#2a3f5f\"},\"type\":\"carpet\"}],\"table\":[{\"cells\":{\"fill\":{\"color\":\"#EBF0F8\"},\"line\":{\"color\":\"white\"}},\"header\":{\"fill\":{\"color\":\"#C8D4E3\"},\"line\":{\"color\":\"white\"}},\"type\":\"table\"}],\"barpolar\":[{\"marker\":{\"line\":{\"color\":\"#E5ECF6\",\"width\":0.5},\"pattern\":{\"fillmode\":\"overlay\",\"size\":10,\"solidity\":0.2}},\"type\":\"barpolar\"}],\"pie\":[{\"automargin\":true,\"type\":\"pie\"}]},\"layout\":{\"autotypenumbers\":\"strict\",\"colorway\":[\"#636efa\",\"#EF553B\",\"#00cc96\",\"#ab63fa\",\"#FFA15A\",\"#19d3f3\",\"#FF6692\",\"#B6E880\",\"#FF97FF\",\"#FECB52\"],\"font\":{\"color\":\"#2a3f5f\"},\"hovermode\":\"closest\",\"hoverlabel\":{\"align\":\"left\"},\"paper_bgcolor\":\"white\",\"plot_bgcolor\":\"#E5ECF6\",\"polar\":{\"bgcolor\":\"#E5ECF6\",\"angularaxis\":{\"gridcolor\":\"white\",\"linecolor\":\"white\",\"ticks\":\"\"},\"radialaxis\":{\"gridcolor\":\"white\",\"linecolor\":\"white\",\"ticks\":\"\"}},\"ternary\":{\"bgcolor\":\"#E5ECF6\",\"aaxis\":{\"gridcolor\":\"white\",\"linecolor\":\"white\",\"ticks\":\"\"},\"baxis\":{\"gridcolor\":\"white\",\"linecolor\":\"white\",\"ticks\":\"\"},\"caxis\":{\"gridcolor\":\"white\",\"linecolor\":\"white\",\"ticks\":\"\"}},\"coloraxis\":{\"colorbar\":{\"outlinewidth\":0,\"ticks\":\"\"}},\"colorscale\":{\"sequential\":[[0.0,\"#0d0887\"],[0.1111111111111111,\"#46039f\"],[0.2222222222222222,\"#7201a8\"],[0.3333333333333333,\"#9c179e\"],[0.4444444444444444,\"#bd3786\"],[0.5555555555555556,\"#d8576b\"],[0.6666666666666666,\"#ed7953\"],[0.7777777777777778,\"#fb9f3a\"],[0.8888888888888888,\"#fdca26\"],[1.0,\"#f0f921\"]],\"sequentialminus\":[[0.0,\"#0d0887\"],[0.1111111111111111,\"#46039f\"],[0.2222222222222222,\"#7201a8\"],[0.3333333333333333,\"#9c179e\"],[0.4444444444444444,\"#bd3786\"],[0.5555555555555556,\"#d8576b\"],[0.6666666666666666,\"#ed7953\"],[0.7777777777777778,\"#fb9f3a\"],[0.8888888888888888,\"#fdca26\"],[1.0,\"#f0f921\"]],\"diverging\":[[0,\"#8e0152\"],[0.1,\"#c51b7d\"],[0.2,\"#de77ae\"],[0.3,\"#f1b6da\"],[0.4,\"#fde0ef\"],[0.5,\"#f7f7f7\"],[0.6,\"#e6f5d0\"],[0.7,\"#b8e186\"],[0.8,\"#7fbc41\"],[0.9,\"#4d9221\"],[1,\"#276419\"]]},\"xaxis\":{\"gridcolor\":\"white\",\"linecolor\":\"white\",\"ticks\":\"\",\"title\":{\"standoff\":15},\"zerolinecolor\":\"white\",\"automargin\":true,\"zerolinewidth\":2},\"yaxis\":{\"gridcolor\":\"white\",\"linecolor\":\"white\",\"ticks\":\"\",\"title\":{\"standoff\":15},\"zerolinecolor\":\"white\",\"automargin\":true,\"zerolinewidth\":2},\"scene\":{\"xaxis\":{\"backgroundcolor\":\"#E5ECF6\",\"gridcolor\":\"white\",\"linecolor\":\"white\",\"showbackground\":true,\"ticks\":\"\",\"zerolinecolor\":\"white\",\"gridwidth\":2},\"yaxis\":{\"backgroundcolor\":\"#E5ECF6\",\"gridcolor\":\"white\",\"linecolor\":\"white\",\"showbackground\":true,\"ticks\":\"\",\"zerolinecolor\":\"white\",\"gridwidth\":2},\"zaxis\":{\"backgroundcolor\":\"#E5ECF6\",\"gridcolor\":\"white\",\"linecolor\":\"white\",\"showbackground\":true,\"ticks\":\"\",\"zerolinecolor\":\"white\",\"gridwidth\":2}},\"shapedefaults\":{\"line\":{\"color\":\"#2a3f5f\"}},\"annotationdefaults\":{\"arrowcolor\":\"#2a3f5f\",\"arrowhead\":0,\"arrowwidth\":1},\"geo\":{\"bgcolor\":\"white\",\"landcolor\":\"#E5ECF6\",\"subunitcolor\":\"white\",\"showland\":true,\"showlakes\":true,\"lakecolor\":\"white\"},\"title\":{\"x\":0.05},\"mapbox\":{\"style\":\"light\"}}},\"xaxis\":{\"anchor\":\"y\",\"domain\":[0.0,0.45]},\"yaxis\":{\"anchor\":\"x\",\"domain\":[0.575,1.0]},\"xaxis2\":{\"anchor\":\"y2\",\"domain\":[0.55,1.0]},\"yaxis2\":{\"anchor\":\"x2\",\"domain\":[0.575,1.0]},\"xaxis3\":{\"anchor\":\"y3\",\"domain\":[0.0,0.45]},\"yaxis3\":{\"anchor\":\"x3\",\"domain\":[0.0,0.425]},\"xaxis4\":{\"anchor\":\"y4\",\"domain\":[0.55,1.0]},\"yaxis4\":{\"anchor\":\"x4\",\"domain\":[0.0,0.425]}},                        {\"responsive\": true}                    ).then(function(){\n",
       "                            \n",
       "var gd = document.getElementById('f144cb84-c36b-49ea-ba20-b9035feb78bb');\n",
       "var x = new MutationObserver(function (mutations, observer) {{\n",
       "        var display = window.getComputedStyle(gd).display;\n",
       "        if (!display || display === 'none') {{\n",
       "            console.log([gd, 'removed!']);\n",
       "            Plotly.purge(gd);\n",
       "            observer.disconnect();\n",
       "        }}\n",
       "}});\n",
       "\n",
       "// Listen for the removal of the full notebook cells\n",
       "var notebookContainer = gd.closest('#notebook-container');\n",
       "if (notebookContainer) {{\n",
       "    x.observe(notebookContainer, {childList: true});\n",
       "}}\n",
       "\n",
       "// Listen for the clearing of the current output cell\n",
       "var outputEl = gd.closest('.output');\n",
       "if (outputEl) {{\n",
       "    x.observe(outputEl, {childList: true});\n",
       "}}\n",
       "\n",
       "                        })                };                });            </script>        </div>"
      ]
     },
     "metadata": {},
     "output_type": "display_data"
    }
   ],
   "source": [
    "fig = make_subplots(rows=2, cols=2)\n",
    "\n",
    "for site in df['site_id'].unique():\n",
    "    subdf = df[df['site_id'] == site]\n",
    "    print(subdf.shape)\n",
    "    X = subdf[nutrients]\n",
    "    pca = PCA(n_components=2)\n",
    "    components = pca.fit_transform(X)\n",
    "    \n",
    "    x_list = []\n",
    "    y_list = []\n",
    "    for i in components:\n",
    "        x_list.append(i[0])\n",
    "        y_list.append(i[1])\n",
    "    \n",
    "    fig.add_trace(go.Scatter(x=x_list, y=y_list, mode='markers'), row=1, col=1)\n",
    "    fig.add_trace(go.Scatter(x=x_list, y=y_list, mode='markers'), row=1, col=1)\n",
    "#fig.add_trace(go.Scatter(x=series2['timestamp'], y=series2['data']), row=1, col=2)\n",
    "\n",
    "fig.show()"
   ]
  },
  {
   "cell_type": "code",
   "execution_count": null,
   "id": "8d758d3a",
   "metadata": {},
   "outputs": [],
   "source": []
  }
 ],
 "metadata": {
  "kernelspec": {
   "display_name": "Python 3 (ipykernel)",
   "language": "python",
   "name": "python3"
  },
  "language_info": {
   "codemirror_mode": {
    "name": "ipython",
    "version": 3
   },
   "file_extension": ".py",
   "mimetype": "text/x-python",
   "name": "python",
   "nbconvert_exporter": "python",
   "pygments_lexer": "ipython3",
   "version": "3.11.4"
  }
 },
 "nbformat": 4,
 "nbformat_minor": 5
}
