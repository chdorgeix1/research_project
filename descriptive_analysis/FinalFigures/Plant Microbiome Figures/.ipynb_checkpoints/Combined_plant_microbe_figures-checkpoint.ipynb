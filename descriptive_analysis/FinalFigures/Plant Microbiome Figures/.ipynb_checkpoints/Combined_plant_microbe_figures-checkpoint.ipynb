{
 "cells": [
  {
   "cell_type": "code",
   "execution_count": 41,
   "id": "9e41f4da",
   "metadata": {},
   "outputs": [],
   "source": [
    "import numpy as np\n",
    "import sqlite3\n",
    "import plotly.express as px\n",
    "import pandas as pd\n",
    "import sqlite3\n",
    "from sklearn.decomposition import PCA\n",
    "from sklearn.preprocessing import StandardScaler\n",
    "import matplotlib.pyplot as plt\n",
    "import seaborn as sns\n",
    "from sklearn.manifold import TSNE\n",
    "import statsmodels\n",
    "import statsmodels.api as sm\n",
    "from statsmodels.multivariate.manova import MANOVA\n",
    "from useful_functions import *\n",
    "from pdf2image import convert_from_path\n",
    "from sklearn.manifold import TSNE"
   ]
  },
  {
   "cell_type": "code",
   "execution_count": 42,
   "id": "5e144f2b",
   "metadata": {},
   "outputs": [
    {
     "data": {
      "text/plain": [
       "(277695, 15)"
      ]
     },
     "execution_count": 42,
     "metadata": {},
     "output_type": "execute_result"
    }
   ],
   "source": [
    "tables_to_join = [\"tPlantMicrobeGenera\", \"tSample\", \"tPlantDNA\"]\n",
    "common_column = \"sample_id\"\n",
    "full_df = import_all_data(tables_to_join, common_column)\n",
    "full_df.shape"
   ]
  },
  {
   "cell_type": "code",
   "execution_count": null,
   "id": "8706e581",
   "metadata": {},
   "outputs": [],
   "source": [
    "full_df = full_df.T.drop_duplicates().T"
   ]
  },
  {
   "cell_type": "code",
   "execution_count": null,
   "id": "05a32232",
   "metadata": {},
   "outputs": [],
   "source": [
    "full_df.head()"
   ]
  },
  {
   "cell_type": "code",
   "execution_count": null,
   "id": "0b4df7fd",
   "metadata": {},
   "outputs": [],
   "source": [
    "df = full_df.copy()"
   ]
  },
  {
   "cell_type": "code",
   "execution_count": null,
   "id": "29de2e5d",
   "metadata": {},
   "outputs": [],
   "source": [
    "subdf = df.copy()"
   ]
  },
  {
   "cell_type": "code",
   "execution_count": null,
   "id": "d59dd409",
   "metadata": {},
   "outputs": [],
   "source": [
    "origin_pivoted_df = subdf.pivot(index=['sample_id', 'site_id', 'species', 'V2'], columns='genera', values='relative_abundance')\n",
    "origin_pivoted_df.shape\n",
    "\n",
    "row_sum = origin_pivoted_df.sum(axis=1)\n",
    "\n",
    "origin_pivoted_df = origin_pivoted_df.reset_index()\n",
    "\n",
    "genera_col = origin_pivoted_df.columns\n",
    "genera_col = genera_col.drop(['sample_id','site_id', 'species', 'V2'])\n",
    "\n",
    "sub_pivot = origin_pivoted_df[genera_col].astype(float)\n",
    "\n",
    "for row in range(sub_pivot.shape[0]):\n",
    "    sub_pivot.loc[row] = sub_pivot.loc[row]/row_sum[row]\n",
    "\n",
    "new_sum = sub_pivot.sum(axis=1)\n",
    "new_sum\n",
    "\n",
    "origin_pivoted_df[genera_col] = sub_pivot\n",
    "\n",
    "origin_pivoted_df.head()\n",
    "\n",
    "row_sum = origin_pivoted_df[genera_col].sum(axis=1)\n",
    "print(row_sum)"
   ]
  },
  {
   "cell_type": "code",
   "execution_count": null,
   "id": "0a5ae1d0",
   "metadata": {},
   "outputs": [],
   "source": [
    "sum_row = origin_pivoted_df[genera_col].sum()\n",
    "\n",
    "abundant_genera = sum_row.nlargest(500)\n",
    "\n",
    "select_columns = (abundant_genera.index).tolist()\n",
    "select_columns.insert(0, 'V2')\n",
    "select_columns.insert(0, 'sample_id')\n",
    "select_columns.insert(0, 'site_id')\n",
    "select_columns.insert(0, 'species')\n",
    "\n",
    "origin_pivoted_df = origin_pivoted_df[select_columns]\n",
    "\n",
    "origin_pivoted_df.head()"
   ]
  },
  {
   "cell_type": "code",
   "execution_count": null,
   "id": "b598a076",
   "metadata": {},
   "outputs": [],
   "source": [
    "opdf = origin_pivoted_df.copy()\n",
    "microbe_cols = abundant_genera.index"
   ]
  },
  {
   "cell_type": "code",
   "execution_count": null,
   "id": "055031bc",
   "metadata": {},
   "outputs": [],
   "source": [
    "opdf[microbe_cols] = StandardScaler().fit_transform(opdf[microbe_cols])  "
   ]
  },
  {
   "cell_type": "code",
   "execution_count": null,
   "id": "f3922345",
   "metadata": {},
   "outputs": [],
   "source": [
    "opdf.head()"
   ]
  },
  {
   "cell_type": "code",
   "execution_count": null,
   "id": "cbc95093",
   "metadata": {},
   "outputs": [],
   "source": [
    "opdf = opdf[opdf[\"species\"].isin(['syriaca','exaltata'])]\n",
    "opdf.shape"
   ]
  },
  {
   "cell_type": "code",
   "execution_count": null,
   "id": "9449017a",
   "metadata": {},
   "outputs": [],
   "source": [
    "df = opdf"
   ]
  },
  {
   "cell_type": "code",
   "execution_count": null,
   "id": "d88207f0",
   "metadata": {},
   "outputs": [],
   "source": [
    "site_list = df['site_id']\n",
    "\n",
    "df['BGR'] = site_list\n",
    "\n",
    "df['BGR'].replace({'CMB': 1, 'FRW': 1, 'LFS': 1, 'LM': 0, 'MMP': 1, 'MKP': 2,\n",
    "                    'PNR': 2, 'PTW': 0, 'RF': 2, 'RGT': 0, 'RRL': 0, 'SGC': 0, 'SLG': 1,'HR': 3}, inplace=True) #\n",
    "df = df[df[\"BGR\"].isin([0,1,2,3])]\n",
    "\n",
    "df['BGR'] = df['BGR'].replace([0], 'Wintergreen')\n",
    "df['BGR'] = df['BGR'].replace([1], 'Cole Mountain')\n",
    "df['BGR'] = df['BGR'].replace([2], 'Blacksburg')\n",
    "df['BGR'] = df['BGR'].replace([3], 'HR')"
   ]
  },
  {
   "cell_type": "code",
   "execution_count": null,
   "id": "75343644",
   "metadata": {},
   "outputs": [],
   "source": [
    "df.head()"
   ]
  },
  {
   "cell_type": "code",
   "execution_count": null,
   "id": "213866dd",
   "metadata": {},
   "outputs": [],
   "source": [
    "site_list = ['RRL', 'FRW', 'MMP', 'PNR', 'CMB', 'SLG', 'RF', 'LFS', 'PTW', 'LM', 'MKP', 'RGT']\n",
    "\n",
    "# Predefined set of colors\n",
    "unique_colors = ['red', 'green', 'blue', 'orange', 'purple', 'cyan', 'pink', 'brown', 'gray', 'olive', 'lime', 'teal']\n",
    "\n",
    "# Create a dictionary with list elements as keys and corresponding colors as values\n",
    "site_color_dict = dict(zip(site_list, unique_colors))\n",
    "\n",
    "print(site_color_dict)"
   ]
  },
  {
   "cell_type": "code",
   "execution_count": null,
   "id": "ac94c216",
   "metadata": {},
   "outputs": [],
   "source": [
    "X = df[microbe_cols]\n",
    "\n",
    "pca = PCA(n_components=2)\n",
    "principal_components = pca.fit_transform(X)\n",
    "\n",
    "for graph_type in ['site_id', 'species', 'BGR']:\n",
    "    if graph_type == 'site_id':\n",
    "        colors = site_color_dict\n",
    "    elif graph_type == 'species':\n",
    "        colors = {'syriaca': 'yellow', 'exaltata': 'green'}\n",
    "    else:\n",
    "        colors = {'Wintergreen': 'green', 'Cole Mountain': 'blue', 'Blacksburg': 'black'}\n",
    "    \n",
    "    fig, ax = plt.subplots()\n",
    "\n",
    "    for key, color in colors.items():\n",
    "        mask = (df[graph_type] == key)\n",
    "        ax.scatter(\n",
    "            principal_components[mask, 0],\n",
    "            principal_components[mask, 1],\n",
    "            c=color,\n",
    "            label= key\n",
    "        )\n",
    "    \n",
    "    ax.set_xlabel(\"PC1 \" + str(round(100*pca.explained_variance_ratio_[0], 1)) + '%')\n",
    "    ax.set_ylabel(\"PC2 \" + str(round(100*pca.explained_variance_ratio_[1], 1)) + '%')\n",
    "    ax.set_title('PCA with ' + graph_type + ' Colored Points')\n",
    "    ax.legend()\n",
    "    plt.show()\n",
    "    if graph_type == 'site_id':\n",
    "        ax.set_title('PCA of Field Sites and Leaf Nutrients')\n",
    "        fig1 = fig\n",
    "    elif graph_type == 'species':\n",
    "        ax.set_title('PCA of Plant Species and Leaf Nutrients')\n",
    "        fig2 = fig\n",
    "    else:\n",
    "        ax.set_title('PCA of Broad Geographic Region and Leaf Nutrients')\n",
    "        fig3 = fig"
   ]
  },
  {
   "cell_type": "code",
   "execution_count": null,
   "id": "74bcc42f",
   "metadata": {},
   "outputs": [],
   "source": [
    "perplexity_value = 15 # Change this to your desired perplexity\n",
    "\n",
    "tsne = TSNE(n_components=2, perplexity=perplexity_value, random_state=42)\n",
    "tsne_transformed = tsne.fit_transform(df[microbe_cols])\n",
    "\n",
    "\n",
    "for graph_type in ['site_id', 'species', 'BGR']:\n",
    "    if graph_type == 'site_id':\n",
    "        colors = site_color_dict\n",
    "    elif graph_type == 'species':\n",
    "        colors = {'syriaca': 'yellow', 'exaltata': 'green'}\n",
    "    else:\n",
    "        colors = {'Wintergreen': 'green', 'Cole Mountain': 'blue', 'Blacksburg': 'black'}\n",
    "\n",
    "    fig, ax = plt.subplots()\n",
    "\n",
    "    for key, color in colors.items():\n",
    "        mask = (df[graph_type] == key)\n",
    "        ax.scatter(\n",
    "            tsne_transformed[mask, 0],\n",
    "            tsne_transformed[mask, 1],\n",
    "            c=color,\n",
    "            label= key\n",
    "        )\n",
    "    \n",
    "    ax.set_xlabel(\"TSNE1\")\n",
    "    ax.set_ylabel(\"TSNE2\")\n",
    "    ax.set_title('TSNE with ' + graph_type + ' Colored Points')\n",
    "    ax.legend()\n",
    "    plt.show()\n",
    "\n",
    "    if graph_type == 'site_id':\n",
    "        ax.set_title('TSNE of and Leaf Microbiome, P.V. = ' + str(perplexity_value))\n",
    "        fig4 = fig\n",
    "    elif graph_type == 'species':\n",
    "        ax.set_title('TSNE of Species and Leaf Microbiome, P.V. = ' + str(perplexity_value))\n",
    "        fig5 = fig\n",
    "    else:\n",
    "        ax.set_title('TSNE of Broad Geographic Region and Leaf Microbiome, P.V. = ' + str(perplexity_value))\n",
    "        fig6 = fig"
   ]
  },
  {
   "cell_type": "code",
   "execution_count": null,
   "id": "49c74b29",
   "metadata": {},
   "outputs": [],
   "source": [
    "### Save Figures and Create Final Figure\n",
    "fig1.savefig('leaf_microbe_site_id.pdf', dpi=300, bbox_inches='tight')\n",
    "fig2.savefig('leaf_microbe_species.pdf', dpi=300, bbox_inches='tight')\n",
    "fig3.savefig('leaf_microbe_bgr.pdf', dpi=300, bbox_inches='tight')\n",
    "fig4.savefig('leaf_microbe_site_id_tsne.pdf', dpi=300, bbox_inches='tight')\n",
    "fig5.savefig('leaf_microbe_species_tsne.pdf', dpi=300, bbox_inches='tight')\n",
    "fig6.savefig('leaf_microbe_bgr_tsne.pdf', dpi=300, bbox_inches='tight')\n",
    "\n",
    "img1=convert_from_path('leaf_microbe_site_id.pdf')\n",
    "img2=convert_from_path('leaf_microbe_bgr.pdf')\n",
    "img3=convert_from_path('leaf_microbe_species.pdf')\n",
    "img4=convert_from_path('leaf_microbe_site_id_tsne.pdf')\n",
    "img5=convert_from_path('leaf_microbe_bgr_tsne.pdf')\n",
    "img6=convert_from_path('leaf_microbe_species_tsne.pdf')\n",
    "\n",
    "\n",
    "\n",
    "fig, ax = plt.subplots(nrows=3, ncols=2, figsize=(6, 8))\n",
    "\n",
    "ax[0][0].imshow(img1[0])\n",
    "ax[0][1].imshow(img4[0])\n",
    "ax[1][0].imshow(img2[0])\n",
    "ax[1][1].imshow(img5[0])\n",
    "ax[2][0].imshow(img3[0])\n",
    "ax[2][1].imshow(img6[0])\n",
    "\n",
    "# plot 2 subplots\n",
    "ax[0][0].axis('off')\n",
    "ax[0][1].axis('off')\n",
    "ax[1][0].axis('off')\n",
    "ax[1][1].axis('off')\n",
    "ax[2][0].axis('off')\n",
    "ax[2][1].axis('off')\n",
    "\n",
    "ax[0][0].annotate(\"A\", xy=(-0.05, 0.9), xycoords=\"axes fraction\")\n",
    "ax[1][0].annotate(\"C\", xy=(-0.05, 0.9), xycoords=\"axes fraction\")\n",
    "ax[0][1].annotate(\"B\", xy=(-0.05, 0.9), xycoords=\"axes fraction\")\n",
    "ax[1][1].annotate(\"D\", xy=(-0.05, 0.9), xycoords=\"axes fraction\")\n",
    "ax[2][0].annotate(\"E\", xy=(-0.05, 0.9), xycoords=\"axes fraction\")\n",
    "ax[2][1].annotate(\"F\", xy=(-0.05, 0.9), xycoords=\"axes fraction\")\n",
    "\n",
    "\n",
    "fig.suptitle('Leaf Microbes can be grouped by Plant Host Species')\n",
    "plt.tight_layout()\n",
    "plt.show()\n",
    "\n",
    "fig.savefig('combined_leaf_microbes.pdf', bbox_inches='tight', dpi = 1000)"
   ]
  },
  {
   "cell_type": "markdown",
   "id": "4b9f2a34",
   "metadata": {},
   "source": [
    "### Using Top 50 most Abundant Genera, Syriaca and Exaltata were found to have statistically different microbial leaf communities"
   ]
  },
  {
   "cell_type": "code",
   "execution_count": 19,
   "id": "32e5071c",
   "metadata": {
    "scrolled": false
   },
   "outputs": [
    {
     "name": "stdout",
     "output_type": "stream",
     "text": [
      "                  Multivariate linear model\n",
      "==============================================================\n",
      "                                                              \n",
      "--------------------------------------------------------------\n",
      "           x0           Value   Num DF  Den DF  F Value Pr > F\n",
      "--------------------------------------------------------------\n",
      "          Wilks' lambda 0.3550 50.0000 103.0000  3.7421 0.0000\n",
      "         Pillai's trace 0.6450 50.0000 103.0000  3.7421 0.0000\n",
      " Hotelling-Lawley trace 1.8166 50.0000 103.0000  3.7421 0.0000\n",
      "    Roy's greatest root 1.8166 50.0000 103.0000  3.7421 0.0000\n",
      "--------------------------------------------------------------\n",
      "                                                              \n",
      "--------------------------------------------------------------\n",
      "           x1           Value   Num DF  Den DF  F Value Pr > F\n",
      "--------------------------------------------------------------\n",
      "          Wilks' lambda 0.4982 50.0000 103.0000  2.0750 0.0009\n",
      "         Pillai's trace 0.5018 50.0000 103.0000  2.0750 0.0009\n",
      " Hotelling-Lawley trace 1.0073 50.0000 103.0000  2.0750 0.0009\n",
      "    Roy's greatest root 1.0073 50.0000 103.0000  2.0750 0.0009\n",
      "==============================================================\n",
      "\n"
     ]
    }
   ],
   "source": [
    "# X = (df[microbe_cols]).astype(float)\n",
    "# Y = pd.get_dummies(df['species'])\n",
    "\n",
    "# # Fit the MANOVA model\n",
    "# manova = MANOVA(X, Y)\n",
    "# manova_results = manova.mv_test()\n",
    "\n",
    "# print(manova_results)"
   ]
  },
  {
   "cell_type": "code",
   "execution_count": null,
   "id": "fb59117b",
   "metadata": {},
   "outputs": [],
   "source": []
  }
 ],
 "metadata": {
  "kernelspec": {
   "display_name": "Python 3 (ipykernel)",
   "language": "python",
   "name": "python3"
  },
  "language_info": {
   "codemirror_mode": {
    "name": "ipython",
    "version": 3
   },
   "file_extension": ".py",
   "mimetype": "text/x-python",
   "name": "python",
   "nbconvert_exporter": "python",
   "pygments_lexer": "ipython3",
   "version": "3.11.4"
  }
 },
 "nbformat": 4,
 "nbformat_minor": 5
}
