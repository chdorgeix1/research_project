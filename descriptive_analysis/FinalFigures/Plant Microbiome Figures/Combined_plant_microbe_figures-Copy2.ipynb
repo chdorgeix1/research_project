{
 "cells": [
  {
   "cell_type": "code",
   "execution_count": 1,
   "id": "290fec4a",
   "metadata": {},
   "outputs": [],
   "source": [
    "import numpy as np\n",
    "import sqlite3\n",
    "import plotly.express as px\n",
    "import pandas as pd\n",
    "import sqlite3\n",
    "from sklearn.decomposition import PCA\n",
    "from sklearn.preprocessing import StandardScaler\n",
    "import matplotlib.pyplot as plt\n",
    "import seaborn as sns\n",
    "from sklearn.manifold import TSNE\n",
    "import statsmodels\n",
    "import statsmodels.api as sm\n",
    "from statsmodels.multivariate.manova import MANOVA\n",
    "from useful_functions_2 import *\n",
    "from pdf2image import convert_from_path\n",
    "from sklearn.manifold import TSNE\n",
    "from scipy.spatial.distance import braycurtis\n",
    "from skbio.stats.distance import permanova\n",
    "from scipy.spatial.distance import pdist\n",
    "from skbio.stats.distance import DistanceMatrix"
   ]
  },
  {
   "cell_type": "code",
   "execution_count": 2,
   "id": "c464edb4",
   "metadata": {},
   "outputs": [
    {
     "data": {
      "text/plain": [
       "(39695, 15)"
      ]
     },
     "execution_count": 2,
     "metadata": {},
     "output_type": "execute_result"
    }
   ],
   "source": [
    "tables_to_join = [\"tPlantMicrobeGenera\", \"tSample\", \"tPlantDNA\"]\n",
    "common_column = \"sample_id\"\n",
    "full_df = import_all_data(tables_to_join, common_column)\n",
    "full_df.shape"
   ]
  },
  {
   "cell_type": "code",
   "execution_count": null,
   "id": "15f63409",
   "metadata": {},
   "outputs": [],
   "source": [
    "full_df = full_df.T.drop_duplicates().T"
   ]
  },
  {
   "cell_type": "code",
   "execution_count": null,
   "id": "687571d2",
   "metadata": {},
   "outputs": [],
   "source": [
    "full_df.head()"
   ]
  },
  {
   "cell_type": "code",
   "execution_count": null,
   "id": "652e1c2a",
   "metadata": {},
   "outputs": [],
   "source": [
    "df = full_df.copy()"
   ]
  },
  {
   "cell_type": "code",
   "execution_count": null,
   "id": "416127c8",
   "metadata": {},
   "outputs": [],
   "source": [
    "subdf = df.copy()"
   ]
  },
  {
   "cell_type": "code",
   "execution_count": null,
   "id": "89f9deeb",
   "metadata": {},
   "outputs": [],
   "source": [
    "subdf.head()"
   ]
  },
  {
   "cell_type": "code",
   "execution_count": null,
   "id": "3a816c74",
   "metadata": {},
   "outputs": [],
   "source": [
    "origin_pivoted_df = subdf.pivot(index=['sample_id', 'site_id', 'species', 'V2'], columns='genera', values='relative_abundance')\n",
    "origin_pivoted_df.shape\n",
    "\n",
    "# row_sum = origin_pivoted_df.sum(axis=1)\n",
    "\n",
    "origin_pivoted_df = origin_pivoted_df.reset_index()\n",
    "\n",
    "genera_col = origin_pivoted_df.columns\n",
    "genera_col = genera_col.drop(['sample_id','site_id', 'species', 'V2'])\n",
    "\n",
    "# sub_pivot = origin_pivoted_df[genera_col].astype(float)\n",
    "sta\n",
    "# for row in rangstae(sub_pivot.shape[0]):\n",
    "#     sub_pivot.loc[row] = sub_pivot.loc[row]/row_sum[row]\n",
    "\n",
    "# new_sum = sub_pivot.sum(axis=1)\n",
    "# new_sum\n",
    "\n",
    "# origin_pivoted_df[genera_col] = sub_pivot\n",
    "\n",
    "# origin_pivoted_df.head()\n",
    "\n",
    "# row_sum = origin_pivoted_df[genera_col].sum(axis=1)\n",
    "# print(row_sum)"
   ]
  },
  {
   "cell_type": "code",
   "execution_count": null,
   "id": "17dadbf3",
   "metadata": {},
   "outputs": [],
   "source": [
    "origin_pivoted_df = origin_pivoted_df.reset_index()\n",
    "origin_pivoted_df.head()"
   ]
  },
  {
   "cell_type": "code",
   "execution_count": null,
   "id": "22b65d0e",
   "metadata": {},
   "outputs": [],
   "source": [
    "genera_col"
   ]
  },
  {
   "cell_type": "code",
   "execution_count": null,
   "id": "97fddc41",
   "metadata": {},
   "outputs": [],
   "source": [
    "origin_pivoted_df[genera_col] = origin_pivoted_df[genera_col].astype(float)\n",
    "sum_row = origin_pivoted_df[genera_col].sum()\n"
   ]
  },
  {
   "cell_type": "code",
   "execution_count": null,
   "id": "093b266b",
   "metadata": {},
   "outputs": [],
   "source": [
    "sum_row = origin_pivoted_df[genera_col].sum()\n",
    "\n",
    "abundant_genera = sum_row.nlargest(100)\n",
    "\n",
    "select_columns = (abundant_genera.index).tolist()\n",
    "select_columns.insert(0, 'V2')\n",
    "select_columns.insert(0, 'sample_id')\n",
    "select_columns.insert(0, 'site_id')\n",
    "select_columns.insert(0, 'species')\n",
    "\n",
    "origin_pivoted_df = origin_pivoted_df[select_columns]\n",
    "\n",
    "origin_pivoted_df.head()"
   ]
  },
  {
   "cell_type": "code",
   "execution_count": null,
   "id": "94250bf5",
   "metadata": {},
   "outputs": [],
   "source": [
    "opdf = origin_pivoted_df.copy()\n",
    "opdf = opdf.fillna(0)\n",
    "microbe_cols = opdf.columns.drop(['species', 'site_id', 'sample_id', 'V2'])\n",
    "#microbe_cols = abundant_genera.index"
   ]
  },
  {
   "cell_type": "code",
   "execution_count": null,
   "id": "8877f2e5",
   "metadata": {},
   "outputs": [],
   "source": [
    "opdf[microbe_cols] = StandardScaler().fit_transform(opdf[microbe_cols])  "
   ]
  },
  {
   "cell_type": "code",
   "execution_count": null,
   "id": "70c90089",
   "metadata": {},
   "outputs": [],
   "source": [
    "opdf.head()"
   ]
  },
  {
   "cell_type": "code",
   "execution_count": null,
   "id": "b57ba802",
   "metadata": {},
   "outputs": [],
   "source": [
    "opdf = opdf[opdf[\"species\"].isin(['syriaca','exaltata'])]\n",
    "opdf.shape"
   ]
  },
  {
   "cell_type": "code",
   "execution_count": null,
   "id": "81a1fd1e",
   "metadata": {},
   "outputs": [],
   "source": [
    "df = opdf"
   ]
  },
  {
   "cell_type": "code",
   "execution_count": null,
   "id": "2dc594a2",
   "metadata": {},
   "outputs": [],
   "source": [
    "site_list = df['site_id']\n",
    "\n",
    "df['BGR'] = site_list\n",
    "\n",
    "df['BGR'].replace({'CMB': 1, 'FRW': 1, 'LFS': 1, 'LM': 0, 'MMP': 1, 'MKP': 2,\n",
    "                    'PNR': 2, 'PTW': 0, 'RF': 2, 'RGT': 0, 'RRL': 0, 'SGC': 0, 'SLG': 1,'HR': 3}, inplace=True) #\n",
    "df = df[df[\"BGR\"].isin([0,1,2,3])]\n",
    "\n",
    "df['BGR'] = df['BGR'].replace([0], 'Wintergreen')\n",
    "df['BGR'] = df['BGR'].replace([1], 'Cole Mountain')\n",
    "df['BGR'] = df['BGR'].replace([2], 'Blacksburg')\n",
    "df['BGR'] = df['BGR'].replace([3], 'HR')"
   ]
  },
  {
   "cell_type": "code",
   "execution_count": null,
   "id": "e4fe35f4",
   "metadata": {},
   "outputs": [],
   "source": [
    "# df = df[df[\"site_id\"].isin(['SGC', 'LFS', 'RF', 'RGT', 'LM', 'PTW', 'MKP', 'HR'])]\n",
    "# df.shape"
   ]
  },
  {
   "cell_type": "code",
   "execution_count": null,
   "id": "c7be524b",
   "metadata": {},
   "outputs": [],
   "source": [
    "site_list = df['site_id']\n",
    "\n",
    "df['run_id'] = site_list\n",
    "\n",
    "df['run_id'].replace({'RRL': 1, 'FRW': 1, 'MMP': 1, 'PNR': 1, 'CMB': 1, 'SLG': 1,\n",
    "                    'SGC': 2, 'LFS': 2, 'RF': 2, 'RGT': 2, 'LM': 2, 'PTW': 2, 'MKP': 2,'HR': 2, 'GH': 2}, inplace=True) #\n",
    "\n",
    "df = df[df[\"run_id\"].isin([1, 2])]\n",
    "df.shape"
   ]
  },
  {
   "cell_type": "code",
   "execution_count": null,
   "id": "bc314bf1",
   "metadata": {},
   "outputs": [],
   "source": [
    "df.head()"
   ]
  },
  {
   "cell_type": "code",
   "execution_count": null,
   "id": "847c081b",
   "metadata": {},
   "outputs": [],
   "source": [
    "df.shape"
   ]
  },
  {
   "cell_type": "code",
   "execution_count": null,
   "id": "ea4cf56e",
   "metadata": {},
   "outputs": [],
   "source": [
    "site_list = ['RRL', 'FRW', 'MMP', 'PNR', 'CMB', 'SLG', 'RF', 'LFS', 'PTW', 'LM', 'MKP', 'RGT']\n",
    "\n",
    "# Predefined set of colors\n",
    "unique_colors = ['red', 'green', 'blue', 'orange', 'purple', 'cyan', 'pink', 'brown', 'gray', 'olive', 'lime', 'teal']\n",
    "\n",
    "# Create a dictionary with list elements as keys and corresponding colors as values\n",
    "site_color_dict = dict(zip(site_list, unique_colors))\n",
    "\n",
    "print(site_color_dict)"
   ]
  },
  {
   "cell_type": "code",
   "execution_count": null,
   "id": "d6fc5578",
   "metadata": {},
   "outputs": [],
   "source": [
    "df.shape"
   ]
  },
  {
   "cell_type": "code",
   "execution_count": null,
   "id": "2e21fe72",
   "metadata": {},
   "outputs": [],
   "source": [
    "X = df[microbe_cols]\n",
    "\n",
    "pca = PCA(n_components=2)\n",
    "principal_components = pca.fit_transform(X)"
   ]
  },
  {
   "cell_type": "code",
   "execution_count": null,
   "id": "32f9bcc0",
   "metadata": {},
   "outputs": [],
   "source": [
    "pc1 = []\n",
    "pc2 = []\n",
    "for i in principal_components:\n",
    "    pc1.append(i[0])\n",
    "    pc2.append(i[1])\n",
    "    \n",
    "pc1_q3, pc1_q1 = np.percentile(pc1, [75 ,25])\n",
    "iqr1 = pc1_q3 - pc1_q1\n",
    "pc2_q3, pc2_q1 = np.percentile(pc2, [75 ,25])\n",
    "iqr2 = pc2_q3 - pc2_q1"
   ]
  },
  {
   "cell_type": "code",
   "execution_count": null,
   "id": "2d25f233",
   "metadata": {},
   "outputs": [],
   "source": [
    "# drop_indexs = []\n",
    "# for i in enumerate(principal_components):\n",
    "#     if i[1][0] > pc1_q3 + iqr1:\n",
    "#         drop_indexs.append(i[0])\n",
    "#         print(i)\n",
    "#     if i[1][1] > pc2_q3 + iqr2:\n",
    "#         print(i)\n",
    "#         drop_indexs.append(i[0])"
   ]
  },
  {
   "cell_type": "code",
   "execution_count": null,
   "id": "9f3015c9",
   "metadata": {},
   "outputs": [],
   "source": [
    "# df = df.drop(index=drop_indexs)\n",
    "# df.head()"
   ]
  },
  {
   "cell_type": "code",
   "execution_count": null,
   "id": "dde3fabf",
   "metadata": {},
   "outputs": [],
   "source": [
    "df.shape"
   ]
  },
  {
   "cell_type": "code",
   "execution_count": null,
   "id": "06d6e718",
   "metadata": {
    "scrolled": false
   },
   "outputs": [],
   "source": [
    "X = df[microbe_cols]\n",
    "\n",
    "pca = PCA(n_components=2)\n",
    "principal_components = pca.fit_transform(X)\n",
    "\n",
    "\n",
    "\n",
    "for graph_type in ['site_id', 'species', 'BGR', 'run_id']:\n",
    "    if graph_type == 'site_id':\n",
    "        colors = site_color_dict\n",
    "    elif graph_type == 'species':\n",
    "        colors = {'syriaca': 'yellow', 'exaltata': 'green'}\n",
    "    elif graph_type == 'BGR':\n",
    "        colors = {'Wintergreen': 'green', 'Cole Mountain': 'blue', 'Blacksburg': 'black'}\n",
    "    else:\n",
    "        colors = {1: 'red', 2: 'blue'}\n",
    "    \n",
    "    fig, ax = plt.subplots()\n",
    "\n",
    "    for key, color in colors.items():\n",
    "        mask = (df[graph_type] == key)\n",
    "        ax.scatter(\n",
    "            principal_components[mask, 0],\n",
    "            principal_components[mask, 1],\n",
    "            c=color,\n",
    "            label= key\n",
    "        )\n",
    "    \n",
    "    ax.set_xlabel(\"PC1 \" + str(round(100*pca.explained_variance_ratio_[0], 1)) + '%')\n",
    "    ax.set_ylabel(\"PC2 \" + str(round(100*pca.explained_variance_ratio_[1], 1)) + '%')\n",
    "    ax.set_title('PCA with ' + graph_type + ' Colored Points')\n",
    "    ax.legend()\n",
    "    plt.show()\n",
    "    if graph_type == 'site_id':\n",
    "        ax.set_title('PCA of Field Sites and Leaf Microbiome')\n",
    "        fig1 = fig\n",
    "    elif graph_type == 'species':\n",
    "        ax.set_title('PCA of Plant Species and Leaf Microbiome')\n",
    "        fig2 = fig\n",
    "    elif graph_type == 'BGR':\n",
    "        ax.set_title('PCA of Broad Geographic Region and Leaf Microbiome')\n",
    "        fig3 = fig\n",
    "    else:\n",
    "        ax.set_title('PCA of Run Id and Leaf Microbiome')\n",
    "        fig3 = fig"
   ]
  },
  {
   "cell_type": "code",
   "execution_count": null,
   "id": "5461fd84",
   "metadata": {
    "scrolled": false
   },
   "outputs": [],
   "source": [
    "perplexity_value = 15 # Change this to your desired perplexity\n",
    "\n",
    "tsne = TSNE(n_components=2, perplexity=perplexity_value, random_state=42)\n",
    "tsne_transformed = tsne.fit_transform(df[microbe_cols])\n",
    "\n",
    "\n",
    "for graph_type in ['site_id', 'species', 'BGR']:\n",
    "    if graph_type == 'site_id':\n",
    "        colors = site_color_dict\n",
    "    elif graph_type == 'species':\n",
    "        colors = {'syriaca': 'yellow', 'exaltata': 'green'}\n",
    "    elif graph_type == 'BGR':\n",
    "        colors = {'Wintergreen': 'green', 'Cole Mountain': 'blue', 'Blacksburg': 'black'}\n",
    "    else:\n",
    "        colors = {1: 'red', 2: 'blue'}\n",
    "    fig, ax = plt.subplots()\n",
    "\n",
    "    for key, color in colors.items():\n",
    "        mask = (df[graph_type] == key)\n",
    "        ax.scatter(\n",
    "            tsne_transformed[mask, 0],\n",
    "            tsne_transformed[mask, 1],\n",
    "            c=color,\n",
    "            label= key\n",
    "        )\n",
    "    \n",
    "    ax.set_xlabel(\"TSNE1\")\n",
    "    ax.set_ylabel(\"TSNE2\")\n",
    "    ax.set_title('TSNE with ' + graph_type + ' Colored Points')\n",
    "    ax.legend()\n",
    "    plt.show()\n",
    "\n",
    "    if graph_type == 'site_id':\n",
    "        ax.set_title('TSNE of Field Site and Leaf Microbiome, P.V. = ' + str(perplexity_value))\n",
    "        fig4 = fig\n",
    "    elif graph_type == 'species':\n",
    "        ax.set_title('TSNE of Species and Leaf Microbiome, P.V. = ' + str(perplexity_value))\n",
    "        fig5 = fig\n",
    "    elif graph_type == 'BGR':\n",
    "        ax.set_title('TSNE of Broad Geographic Region and Leaf Microbiome')\n",
    "        fig3 = fig\n",
    "    else:\n",
    "        ax.set_title('TSNE of Run Id and Leaf Microbiome')\n",
    "        fig3 = fig"
   ]
  },
  {
   "cell_type": "code",
   "execution_count": null,
   "id": "39088049",
   "metadata": {},
   "outputs": [],
   "source": [
    "dis_matrix = pdist(df[microbe_cols], 'braycurtis')\n",
    "from skbio.stats.distance import DistanceMatrix\n",
    "fin_matrix = DistanceMatrix(dis_matrix)\n",
    "permanova_site = permanova(fin_matrix, grouping = df['site_id'], permutations = 9*154)\n",
    "permanova_bgr = permanova(fin_matrix, grouping = df['BGR'], permutations = 9*154)\n",
    "permanova_species = permanova(fin_matrix, grouping = df['species'], permutations = 9*154)\n",
    "\n",
    "\n",
    "print(permanova_site)\n",
    "print('')\n",
    "print(permanova_bgr)\n",
    "print('')\n",
    "print(permanova_species)"
   ]
  },
  {
   "cell_type": "code",
   "execution_count": null,
   "id": "e7ee018b",
   "metadata": {},
   "outputs": [],
   "source": [
    "### Save Figures and Create Final Figure\n",
    "fig1.savefig('leaf_microbe_site_id.pdf', dpi=300, bbox_inches='tight')\n",
    "fig2.savefig('leaf_microbe_species.pdf', dpi=300, bbox_inches='tight')\n",
    "fig3.savefig('leaf_microbe_bgr.pdf', dpi=300, bbox_inches='tight')\n",
    "fig4.savefig('leaf_microbe_site_id_tsne.pdf', dpi=300, bbox_inches='tight')\n",
    "fig5.savefig('leaf_microbe_species_tsne.pdf', dpi=300, bbox_inches='tight')\n",
    "fig6.savefig('leaf_microbe_bgr_tsne.pdf', dpi=300, bbox_inches='tight')\n",
    "\n",
    "img1=convert_from_path('leaf_microbe_site_id.pdf')\n",
    "img2=convert_from_path('leaf_microbe_bgr.pdf')\n",
    "img3=convert_from_path('leaf_microbe_species.pdf')\n",
    "img4=convert_from_path('leaf_microbe_site_id_tsne.pdf')\n",
    "img5=convert_from_path('leaf_microbe_bgr_tsne.pdf')\n",
    "img6=convert_from_path('leaf_microbe_species_tsne.pdf')\n",
    "\n",
    "\n",
    "\n",
    "fig, ax = plt.subplots(nrows=3, ncols=2, figsize=(6, 8))\n",
    "\n",
    "ax[0][0].imshow(img1[0])\n",
    "ax[0][1].imshow(img4[0])\n",
    "ax[1][0].imshow(img2[0])\n",
    "ax[1][1].imshow(img5[0])\n",
    "ax[2][0].imshow(img3[0])\n",
    "ax[2][1].imshow(img6[0])\n",
    "\n",
    "# plot 2 subplots\n",
    "ax[0][0].axis('off')\n",
    "ax[0][1].axis('off')\n",
    "ax[1][0].axis('off')\n",
    "ax[1][1].axis('off')\n",
    "ax[2][0].axis('off')\n",
    "ax[2][1].axis('off')\n",
    "\n",
    "ax[0][0].annotate(\"A\", xy=(-0.05, 0.9), xycoords=\"axes fraction\")\n",
    "ax[1][0].annotate(\"C\", xy=(-0.05, 0.9), xycoords=\"axes fraction\")\n",
    "ax[0][1].annotate(\"B\", xy=(-0.05, 0.9), xycoords=\"axes fraction\")\n",
    "ax[1][1].annotate(\"D\", xy=(-0.05, 0.9), xycoords=\"axes fraction\")\n",
    "ax[2][0].annotate(\"E\", xy=(-0.05, 0.9), xycoords=\"axes fraction\")\n",
    "ax[2][1].annotate(\"F\", xy=(-0.05, 0.9), xycoords=\"axes fraction\")\n",
    "\n",
    "\n",
    "fig.suptitle('Leaf Microbes can be grouped by Plant Host Species')\n",
    "plt.tight_layout()\n",
    "plt.show()\n",
    "\n",
    "fig.savefig('combined_leaf_microbes.pdf', bbox_inches='tight', dpi = 1000)"
   ]
  },
  {
   "cell_type": "markdown",
   "id": "f182ba0e",
   "metadata": {},
   "source": [
    "### Using Top 50 most Abundant Genera, Syriaca and Exaltata were found to have statistically different microbial leaf communities"
   ]
  },
  {
   "cell_type": "code",
   "execution_count": null,
   "id": "1c414f82",
   "metadata": {},
   "outputs": [],
   "source": [
    "bardf = origin_pivoted_df.drop(['site_id', 'species', 'V2'], axis=1)\n",
    "bardf.head()"
   ]
  },
  {
   "cell_type": "code",
   "execution_count": null,
   "id": "529945e9",
   "metadata": {},
   "outputs": [],
   "source": []
  },
  {
   "cell_type": "code",
   "execution_count": null,
   "id": "b562f904",
   "metadata": {},
   "outputs": [],
   "source": [
    "bardf.shape"
   ]
  },
  {
   "cell_type": "code",
   "execution_count": null,
   "id": "5b29e46f",
   "metadata": {},
   "outputs": [],
   "source": [
    "import pandas as pd\n",
    "import matplotlib.pyplot as plt\n",
    "\n",
    "cumval=0\n",
    "fig = plt.figure(figsize=(12,8))\n",
    "for col in bardf.columns[~bardf.columns.isin(['sample_id'])]:\n",
    "    plt.bar(bardf.sample_id, bardf[col], bottom=cumval, label = col)\n",
    "    cumval = cumval+bardf[col]\n",
    "    print(col)\n",
    "\n",
    "_ = plt.xticks(rotation=30)\n",
    "_ = plt.legend(fontsize=18)\n",
    "\n",
    "leg = plt.legend(loc='upper center', bbox_to_anchor=(1.3, 1.05))"
   ]
  },
  {
   "cell_type": "code",
   "execution_count": null,
   "id": "043114e2",
   "metadata": {},
   "outputs": [],
   "source": []
  }
 ],
 "metadata": {
  "kernelspec": {
   "display_name": "Python 3 (ipykernel)",
   "language": "python",
   "name": "python3"
  },
  "language_info": {
   "codemirror_mode": {
    "name": "ipython",
    "version": 3
   },
   "file_extension": ".py",
   "mimetype": "text/x-python",
   "name": "python",
   "nbconvert_exporter": "python",
   "pygments_lexer": "ipython3",
   "version": "3.11.4"
  }
 },
 "nbformat": 4,
 "nbformat_minor": 5
}
