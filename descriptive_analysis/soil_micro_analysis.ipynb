{
 "cells": [
  {
   "cell_type": "code",
   "execution_count": 35,
   "id": "54f7d112",
   "metadata": {},
   "outputs": [],
   "source": [
    "import pandas as pd\n",
    "import numpy as np\n",
    "import sqlite3\n",
    "import plotly.express as px\n",
    "from sklearn.decomposition import PCA\n",
    "from sklearn.preprocessing import StandardScaler\n",
    "import matplotlib.pyplot as plt\n",
    "import seaborn as sns\n",
    "from sklearn.manifold import TSNE\n",
    "import statsmodels\n",
    "import statsmodels.api as sm\n",
    "from statsmodels.multivariate.manova import MANOVA\n",
    "from scipy import stats\n",
    "\n",
    "from useful_functions import *"
   ]
  },
  {
   "cell_type": "code",
   "execution_count": 36,
   "id": "07e1a1b4",
   "metadata": {},
   "outputs": [
    {
     "data": {
      "text/plain": [
       "(394056, 15)"
      ]
     },
     "execution_count": 36,
     "metadata": {},
     "output_type": "execute_result"
    }
   ],
   "source": [
    "tables_to_join = [\"tSoilMicrobeGenera\", \"tSample\", \"tPlantDNA\"]\n",
    "common_column = \"sample_id\"\n",
    "full_df = import_all_data(tables_to_join, common_column)\n",
    "full_df.shape"
   ]
  },
  {
   "cell_type": "code",
   "execution_count": 37,
   "id": "115c325e",
   "metadata": {},
   "outputs": [
    {
     "data": {
      "text/plain": [
       "(394056, 13)"
      ]
     },
     "execution_count": 37,
     "metadata": {},
     "output_type": "execute_result"
    }
   ],
   "source": [
    "#drop duplicate columns\n",
    "df = full_df.copy()\n",
    "df = df.T.drop_duplicates().T\n",
    "df.shape"
   ]
  },
  {
   "cell_type": "code",
   "execution_count": 38,
   "id": "846e7bc4",
   "metadata": {},
   "outputs": [
    {
     "data": {
      "text/html": [
       "<div>\n",
       "<style scoped>\n",
       "    .dataframe tbody tr th:only-of-type {\n",
       "        vertical-align: middle;\n",
       "    }\n",
       "\n",
       "    .dataframe tbody tr th {\n",
       "        vertical-align: top;\n",
       "    }\n",
       "\n",
       "    .dataframe thead th {\n",
       "        text-align: right;\n",
       "    }\n",
       "</style>\n",
       "<table border=\"1\" class=\"dataframe\">\n",
       "  <thead>\n",
       "    <tr style=\"text-align: right;\">\n",
       "      <th></th>\n",
       "      <th></th>\n",
       "      <th></th>\n",
       "      <th></th>\n",
       "      <th>genera</th>\n",
       "      <th>Archaea|Candidatus Korarchaeota||||Candidatus Korarchaeum</th>\n",
       "      <th>Archaea|Crenarchaeota|Thermoprotei|Acidilobales|Acidilobaceae|Acidilobus</th>\n",
       "      <th>Archaea|Crenarchaeota|Thermoprotei|Acidilobales|Caldisphaeraceae|Caldisphaera</th>\n",
       "      <th>Archaea|Crenarchaeota|Thermoprotei|Desulfurococcales|Desulfurococcaceae|Aeropyrum</th>\n",
       "      <th>Archaea|Crenarchaeota|Thermoprotei|Desulfurococcales|Desulfurococcaceae|Desulfurococcus</th>\n",
       "      <th>Archaea|Crenarchaeota|Thermoprotei|Desulfurococcales|Desulfurococcaceae|Ignicoccus</th>\n",
       "      <th>Archaea|Crenarchaeota|Thermoprotei|Desulfurococcales|Desulfurococcaceae|Staphylothermus</th>\n",
       "      <th>Archaea|Crenarchaeota|Thermoprotei|Desulfurococcales|Desulfurococcaceae|Thermogladius</th>\n",
       "      <th>Archaea|Crenarchaeota|Thermoprotei|Desulfurococcales|Desulfurococcaceae|Thermosphaera</th>\n",
       "      <th>Archaea|Crenarchaeota|Thermoprotei|Desulfurococcales|Pyrodictiaceae|Hyperthermus</th>\n",
       "      <th>...</th>\n",
       "      <th>Viruses||||Geminiviridae|Begomovirus</th>\n",
       "      <th>Viruses||||Inoviridae|Inovirus</th>\n",
       "      <th>Viruses||||Iridoviridae|Iridovirus</th>\n",
       "      <th>Viruses||||Microviridae|Phix174microvirus</th>\n",
       "      <th>Viruses||||Mimiviridae|Hokovirus</th>\n",
       "      <th>Viruses||||Mimiviridae|Klosneuvirus</th>\n",
       "      <th>Viruses||||Mimiviridae|Tupanvirus</th>\n",
       "      <th>Viruses||||Partitiviridae|Alphapartitivirus</th>\n",
       "      <th>Viruses||||Polydnaviridae|Bracovirus</th>\n",
       "      <th>Viruses|||||Pandoravirus</th>\n",
       "    </tr>\n",
       "    <tr>\n",
       "      <th>sample_id</th>\n",
       "      <th>site_id</th>\n",
       "      <th>species</th>\n",
       "      <th>V2</th>\n",
       "      <th>collect_date</th>\n",
       "      <th></th>\n",
       "      <th></th>\n",
       "      <th></th>\n",
       "      <th></th>\n",
       "      <th></th>\n",
       "      <th></th>\n",
       "      <th></th>\n",
       "      <th></th>\n",
       "      <th></th>\n",
       "      <th></th>\n",
       "      <th></th>\n",
       "      <th></th>\n",
       "      <th></th>\n",
       "      <th></th>\n",
       "      <th></th>\n",
       "      <th></th>\n",
       "      <th></th>\n",
       "      <th></th>\n",
       "      <th></th>\n",
       "      <th></th>\n",
       "      <th></th>\n",
       "    </tr>\n",
       "  </thead>\n",
       "  <tbody>\n",
       "    <tr>\n",
       "      <th>CMB10</th>\n",
       "      <th>CMB</th>\n",
       "      <th>syriaca</th>\n",
       "      <th>0.999777121</th>\n",
       "      <th>6/29/2021</th>\n",
       "      <td>0.0</td>\n",
       "      <td>0.0</td>\n",
       "      <td>0.0</td>\n",
       "      <td>0.00068</td>\n",
       "      <td>0.0</td>\n",
       "      <td>0.0</td>\n",
       "      <td>0.0</td>\n",
       "      <td>0.0</td>\n",
       "      <td>0.0</td>\n",
       "      <td>0.0</td>\n",
       "      <td>...</td>\n",
       "      <td>0.0</td>\n",
       "      <td>0.0</td>\n",
       "      <td>0.0</td>\n",
       "      <td>0.0</td>\n",
       "      <td>0.0</td>\n",
       "      <td>0.0</td>\n",
       "      <td>0.0</td>\n",
       "      <td>0.0</td>\n",
       "      <td>0.0</td>\n",
       "      <td>0.0</td>\n",
       "    </tr>\n",
       "    <tr>\n",
       "      <th>CMB11</th>\n",
       "      <th>CMB</th>\n",
       "      <th>syriaca</th>\n",
       "      <th>0.999999983</th>\n",
       "      <th>6/29/2021</th>\n",
       "      <td>0.0</td>\n",
       "      <td>0.0</td>\n",
       "      <td>0.0</td>\n",
       "      <td>0.0</td>\n",
       "      <td>0.0</td>\n",
       "      <td>0.0</td>\n",
       "      <td>0.0</td>\n",
       "      <td>0.0</td>\n",
       "      <td>0.0</td>\n",
       "      <td>0.0</td>\n",
       "      <td>...</td>\n",
       "      <td>0.0</td>\n",
       "      <td>0.0</td>\n",
       "      <td>0.0</td>\n",
       "      <td>0.0</td>\n",
       "      <td>0.0</td>\n",
       "      <td>0.0</td>\n",
       "      <td>0.0</td>\n",
       "      <td>0.0</td>\n",
       "      <td>0.0</td>\n",
       "      <td>0.0</td>\n",
       "    </tr>\n",
       "    <tr>\n",
       "      <th>CMB13</th>\n",
       "      <th>CMB</th>\n",
       "      <th>syriaca</th>\n",
       "      <th>0.989130596</th>\n",
       "      <th>6/29/2021</th>\n",
       "      <td>0.0</td>\n",
       "      <td>0.0</td>\n",
       "      <td>0.0</td>\n",
       "      <td>0.0</td>\n",
       "      <td>0.0</td>\n",
       "      <td>0.0</td>\n",
       "      <td>0.0</td>\n",
       "      <td>0.0</td>\n",
       "      <td>0.0</td>\n",
       "      <td>0.0</td>\n",
       "      <td>...</td>\n",
       "      <td>0.0</td>\n",
       "      <td>0.0</td>\n",
       "      <td>0.0</td>\n",
       "      <td>0.0</td>\n",
       "      <td>0.0</td>\n",
       "      <td>0.0</td>\n",
       "      <td>0.0</td>\n",
       "      <td>0.0</td>\n",
       "      <td>0.0</td>\n",
       "      <td>0.0</td>\n",
       "    </tr>\n",
       "    <tr>\n",
       "      <th>CMB15</th>\n",
       "      <th>CMB</th>\n",
       "      <th>syriaca</th>\n",
       "      <th>0.998547653</th>\n",
       "      <th>6/29/2021</th>\n",
       "      <td>0.0</td>\n",
       "      <td>0.0</td>\n",
       "      <td>0.0</td>\n",
       "      <td>0.0</td>\n",
       "      <td>0.0</td>\n",
       "      <td>0.0</td>\n",
       "      <td>0.0</td>\n",
       "      <td>0.0</td>\n",
       "      <td>0.0</td>\n",
       "      <td>0.0</td>\n",
       "      <td>...</td>\n",
       "      <td>0.0</td>\n",
       "      <td>0.0</td>\n",
       "      <td>0.0</td>\n",
       "      <td>0.0</td>\n",
       "      <td>0.0</td>\n",
       "      <td>0.0</td>\n",
       "      <td>0.0</td>\n",
       "      <td>0.0</td>\n",
       "      <td>0.0</td>\n",
       "      <td>0.0</td>\n",
       "    </tr>\n",
       "    <tr>\n",
       "      <th>CMB16</th>\n",
       "      <th>CMB</th>\n",
       "      <th>syriaca</th>\n",
       "      <th>0.999243483</th>\n",
       "      <th>6/29/2021</th>\n",
       "      <td>0.0</td>\n",
       "      <td>0.0</td>\n",
       "      <td>0.0</td>\n",
       "      <td>0.0</td>\n",
       "      <td>0.0</td>\n",
       "      <td>0.0</td>\n",
       "      <td>0.0</td>\n",
       "      <td>0.0</td>\n",
       "      <td>0.0</td>\n",
       "      <td>0.0</td>\n",
       "      <td>...</td>\n",
       "      <td>0.0</td>\n",
       "      <td>0.0</td>\n",
       "      <td>0.0</td>\n",
       "      <td>0.0</td>\n",
       "      <td>0.0</td>\n",
       "      <td>0.00308</td>\n",
       "      <td>0.0</td>\n",
       "      <td>0.0</td>\n",
       "      <td>0.0</td>\n",
       "      <td>0.0</td>\n",
       "    </tr>\n",
       "  </tbody>\n",
       "</table>\n",
       "<p>5 rows × 2526 columns</p>\n",
       "</div>"
      ],
      "text/plain": [
       "genera                                             Archaea|Candidatus Korarchaeota||||Candidatus Korarchaeum  \\\n",
       "sample_id site_id species V2          collect_date                                                             \n",
       "CMB10     CMB     syriaca 0.999777121 6/29/2021                                                   0.0          \n",
       "CMB11     CMB     syriaca 0.999999983 6/29/2021                                                   0.0          \n",
       "CMB13     CMB     syriaca 0.989130596 6/29/2021                                                   0.0          \n",
       "CMB15     CMB     syriaca 0.998547653 6/29/2021                                                   0.0          \n",
       "CMB16     CMB     syriaca 0.999243483 6/29/2021                                                   0.0          \n",
       "\n",
       "genera                                             Archaea|Crenarchaeota|Thermoprotei|Acidilobales|Acidilobaceae|Acidilobus  \\\n",
       "sample_id site_id species V2          collect_date                                                                            \n",
       "CMB10     CMB     syriaca 0.999777121 6/29/2021                                                   0.0                         \n",
       "CMB11     CMB     syriaca 0.999999983 6/29/2021                                                   0.0                         \n",
       "CMB13     CMB     syriaca 0.989130596 6/29/2021                                                   0.0                         \n",
       "CMB15     CMB     syriaca 0.998547653 6/29/2021                                                   0.0                         \n",
       "CMB16     CMB     syriaca 0.999243483 6/29/2021                                                   0.0                         \n",
       "\n",
       "genera                                             Archaea|Crenarchaeota|Thermoprotei|Acidilobales|Caldisphaeraceae|Caldisphaera  \\\n",
       "sample_id site_id species V2          collect_date                                                                                 \n",
       "CMB10     CMB     syriaca 0.999777121 6/29/2021                                                   0.0                              \n",
       "CMB11     CMB     syriaca 0.999999983 6/29/2021                                                   0.0                              \n",
       "CMB13     CMB     syriaca 0.989130596 6/29/2021                                                   0.0                              \n",
       "CMB15     CMB     syriaca 0.998547653 6/29/2021                                                   0.0                              \n",
       "CMB16     CMB     syriaca 0.999243483 6/29/2021                                                   0.0                              \n",
       "\n",
       "genera                                             Archaea|Crenarchaeota|Thermoprotei|Desulfurococcales|Desulfurococcaceae|Aeropyrum  \\\n",
       "sample_id site_id species V2          collect_date                                                                                     \n",
       "CMB10     CMB     syriaca 0.999777121 6/29/2021                                               0.00068                                  \n",
       "CMB11     CMB     syriaca 0.999999983 6/29/2021                                                   0.0                                  \n",
       "CMB13     CMB     syriaca 0.989130596 6/29/2021                                                   0.0                                  \n",
       "CMB15     CMB     syriaca 0.998547653 6/29/2021                                                   0.0                                  \n",
       "CMB16     CMB     syriaca 0.999243483 6/29/2021                                                   0.0                                  \n",
       "\n",
       "genera                                             Archaea|Crenarchaeota|Thermoprotei|Desulfurococcales|Desulfurococcaceae|Desulfurococcus  \\\n",
       "sample_id site_id species V2          collect_date                                                                                           \n",
       "CMB10     CMB     syriaca 0.999777121 6/29/2021                                                   0.0                                        \n",
       "CMB11     CMB     syriaca 0.999999983 6/29/2021                                                   0.0                                        \n",
       "CMB13     CMB     syriaca 0.989130596 6/29/2021                                                   0.0                                        \n",
       "CMB15     CMB     syriaca 0.998547653 6/29/2021                                                   0.0                                        \n",
       "CMB16     CMB     syriaca 0.999243483 6/29/2021                                                   0.0                                        \n",
       "\n",
       "genera                                             Archaea|Crenarchaeota|Thermoprotei|Desulfurococcales|Desulfurococcaceae|Ignicoccus  \\\n",
       "sample_id site_id species V2          collect_date                                                                                      \n",
       "CMB10     CMB     syriaca 0.999777121 6/29/2021                                                   0.0                                   \n",
       "CMB11     CMB     syriaca 0.999999983 6/29/2021                                                   0.0                                   \n",
       "CMB13     CMB     syriaca 0.989130596 6/29/2021                                                   0.0                                   \n",
       "CMB15     CMB     syriaca 0.998547653 6/29/2021                                                   0.0                                   \n",
       "CMB16     CMB     syriaca 0.999243483 6/29/2021                                                   0.0                                   \n",
       "\n",
       "genera                                             Archaea|Crenarchaeota|Thermoprotei|Desulfurococcales|Desulfurococcaceae|Staphylothermus  \\\n",
       "sample_id site_id species V2          collect_date                                                                                           \n",
       "CMB10     CMB     syriaca 0.999777121 6/29/2021                                                   0.0                                        \n",
       "CMB11     CMB     syriaca 0.999999983 6/29/2021                                                   0.0                                        \n",
       "CMB13     CMB     syriaca 0.989130596 6/29/2021                                                   0.0                                        \n",
       "CMB15     CMB     syriaca 0.998547653 6/29/2021                                                   0.0                                        \n",
       "CMB16     CMB     syriaca 0.999243483 6/29/2021                                                   0.0                                        \n",
       "\n",
       "genera                                             Archaea|Crenarchaeota|Thermoprotei|Desulfurococcales|Desulfurococcaceae|Thermogladius  \\\n",
       "sample_id site_id species V2          collect_date                                                                                         \n",
       "CMB10     CMB     syriaca 0.999777121 6/29/2021                                                   0.0                                      \n",
       "CMB11     CMB     syriaca 0.999999983 6/29/2021                                                   0.0                                      \n",
       "CMB13     CMB     syriaca 0.989130596 6/29/2021                                                   0.0                                      \n",
       "CMB15     CMB     syriaca 0.998547653 6/29/2021                                                   0.0                                      \n",
       "CMB16     CMB     syriaca 0.999243483 6/29/2021                                                   0.0                                      \n",
       "\n",
       "genera                                             Archaea|Crenarchaeota|Thermoprotei|Desulfurococcales|Desulfurococcaceae|Thermosphaera  \\\n",
       "sample_id site_id species V2          collect_date                                                                                         \n",
       "CMB10     CMB     syriaca 0.999777121 6/29/2021                                                   0.0                                      \n",
       "CMB11     CMB     syriaca 0.999999983 6/29/2021                                                   0.0                                      \n",
       "CMB13     CMB     syriaca 0.989130596 6/29/2021                                                   0.0                                      \n",
       "CMB15     CMB     syriaca 0.998547653 6/29/2021                                                   0.0                                      \n",
       "CMB16     CMB     syriaca 0.999243483 6/29/2021                                                   0.0                                      \n",
       "\n",
       "genera                                             Archaea|Crenarchaeota|Thermoprotei|Desulfurococcales|Pyrodictiaceae|Hyperthermus  \\\n",
       "sample_id site_id species V2          collect_date                                                                                    \n",
       "CMB10     CMB     syriaca 0.999777121 6/29/2021                                                   0.0                                 \n",
       "CMB11     CMB     syriaca 0.999999983 6/29/2021                                                   0.0                                 \n",
       "CMB13     CMB     syriaca 0.989130596 6/29/2021                                                   0.0                                 \n",
       "CMB15     CMB     syriaca 0.998547653 6/29/2021                                                   0.0                                 \n",
       "CMB16     CMB     syriaca 0.999243483 6/29/2021                                                   0.0                                 \n",
       "\n",
       "genera                                              ...  \\\n",
       "sample_id site_id species V2          collect_date  ...   \n",
       "CMB10     CMB     syriaca 0.999777121 6/29/2021     ...   \n",
       "CMB11     CMB     syriaca 0.999999983 6/29/2021     ...   \n",
       "CMB13     CMB     syriaca 0.989130596 6/29/2021     ...   \n",
       "CMB15     CMB     syriaca 0.998547653 6/29/2021     ...   \n",
       "CMB16     CMB     syriaca 0.999243483 6/29/2021     ...   \n",
       "\n",
       "genera                                             Viruses||||Geminiviridae|Begomovirus  \\\n",
       "sample_id site_id species V2          collect_date                                        \n",
       "CMB10     CMB     syriaca 0.999777121 6/29/2021                                     0.0   \n",
       "CMB11     CMB     syriaca 0.999999983 6/29/2021                                     0.0   \n",
       "CMB13     CMB     syriaca 0.989130596 6/29/2021                                     0.0   \n",
       "CMB15     CMB     syriaca 0.998547653 6/29/2021                                     0.0   \n",
       "CMB16     CMB     syriaca 0.999243483 6/29/2021                                     0.0   \n",
       "\n",
       "genera                                             Viruses||||Inoviridae|Inovirus  \\\n",
       "sample_id site_id species V2          collect_date                                  \n",
       "CMB10     CMB     syriaca 0.999777121 6/29/2021                               0.0   \n",
       "CMB11     CMB     syriaca 0.999999983 6/29/2021                               0.0   \n",
       "CMB13     CMB     syriaca 0.989130596 6/29/2021                               0.0   \n",
       "CMB15     CMB     syriaca 0.998547653 6/29/2021                               0.0   \n",
       "CMB16     CMB     syriaca 0.999243483 6/29/2021                               0.0   \n",
       "\n",
       "genera                                             Viruses||||Iridoviridae|Iridovirus  \\\n",
       "sample_id site_id species V2          collect_date                                      \n",
       "CMB10     CMB     syriaca 0.999777121 6/29/2021                                   0.0   \n",
       "CMB11     CMB     syriaca 0.999999983 6/29/2021                                   0.0   \n",
       "CMB13     CMB     syriaca 0.989130596 6/29/2021                                   0.0   \n",
       "CMB15     CMB     syriaca 0.998547653 6/29/2021                                   0.0   \n",
       "CMB16     CMB     syriaca 0.999243483 6/29/2021                                   0.0   \n",
       "\n",
       "genera                                             Viruses||||Microviridae|Phix174microvirus  \\\n",
       "sample_id site_id species V2          collect_date                                             \n",
       "CMB10     CMB     syriaca 0.999777121 6/29/2021                                          0.0   \n",
       "CMB11     CMB     syriaca 0.999999983 6/29/2021                                          0.0   \n",
       "CMB13     CMB     syriaca 0.989130596 6/29/2021                                          0.0   \n",
       "CMB15     CMB     syriaca 0.998547653 6/29/2021                                          0.0   \n",
       "CMB16     CMB     syriaca 0.999243483 6/29/2021                                          0.0   \n",
       "\n",
       "genera                                             Viruses||||Mimiviridae|Hokovirus  \\\n",
       "sample_id site_id species V2          collect_date                                    \n",
       "CMB10     CMB     syriaca 0.999777121 6/29/2021                                 0.0   \n",
       "CMB11     CMB     syriaca 0.999999983 6/29/2021                                 0.0   \n",
       "CMB13     CMB     syriaca 0.989130596 6/29/2021                                 0.0   \n",
       "CMB15     CMB     syriaca 0.998547653 6/29/2021                                 0.0   \n",
       "CMB16     CMB     syriaca 0.999243483 6/29/2021                                 0.0   \n",
       "\n",
       "genera                                             Viruses||||Mimiviridae|Klosneuvirus  \\\n",
       "sample_id site_id species V2          collect_date                                       \n",
       "CMB10     CMB     syriaca 0.999777121 6/29/2021                                    0.0   \n",
       "CMB11     CMB     syriaca 0.999999983 6/29/2021                                    0.0   \n",
       "CMB13     CMB     syriaca 0.989130596 6/29/2021                                    0.0   \n",
       "CMB15     CMB     syriaca 0.998547653 6/29/2021                                    0.0   \n",
       "CMB16     CMB     syriaca 0.999243483 6/29/2021                                0.00308   \n",
       "\n",
       "genera                                             Viruses||||Mimiviridae|Tupanvirus  \\\n",
       "sample_id site_id species V2          collect_date                                     \n",
       "CMB10     CMB     syriaca 0.999777121 6/29/2021                                  0.0   \n",
       "CMB11     CMB     syriaca 0.999999983 6/29/2021                                  0.0   \n",
       "CMB13     CMB     syriaca 0.989130596 6/29/2021                                  0.0   \n",
       "CMB15     CMB     syriaca 0.998547653 6/29/2021                                  0.0   \n",
       "CMB16     CMB     syriaca 0.999243483 6/29/2021                                  0.0   \n",
       "\n",
       "genera                                             Viruses||||Partitiviridae|Alphapartitivirus  \\\n",
       "sample_id site_id species V2          collect_date                                               \n",
       "CMB10     CMB     syriaca 0.999777121 6/29/2021                                            0.0   \n",
       "CMB11     CMB     syriaca 0.999999983 6/29/2021                                            0.0   \n",
       "CMB13     CMB     syriaca 0.989130596 6/29/2021                                            0.0   \n",
       "CMB15     CMB     syriaca 0.998547653 6/29/2021                                            0.0   \n",
       "CMB16     CMB     syriaca 0.999243483 6/29/2021                                            0.0   \n",
       "\n",
       "genera                                             Viruses||||Polydnaviridae|Bracovirus  \\\n",
       "sample_id site_id species V2          collect_date                                        \n",
       "CMB10     CMB     syriaca 0.999777121 6/29/2021                                     0.0   \n",
       "CMB11     CMB     syriaca 0.999999983 6/29/2021                                     0.0   \n",
       "CMB13     CMB     syriaca 0.989130596 6/29/2021                                     0.0   \n",
       "CMB15     CMB     syriaca 0.998547653 6/29/2021                                     0.0   \n",
       "CMB16     CMB     syriaca 0.999243483 6/29/2021                                     0.0   \n",
       "\n",
       "genera                                             Viruses|||||Pandoravirus  \n",
       "sample_id site_id species V2          collect_date                           \n",
       "CMB10     CMB     syriaca 0.999777121 6/29/2021                         0.0  \n",
       "CMB11     CMB     syriaca 0.999999983 6/29/2021                         0.0  \n",
       "CMB13     CMB     syriaca 0.989130596 6/29/2021                         0.0  \n",
       "CMB15     CMB     syriaca 0.998547653 6/29/2021                         0.0  \n",
       "CMB16     CMB     syriaca 0.999243483 6/29/2021                         0.0  \n",
       "\n",
       "[5 rows x 2526 columns]"
      ]
     },
     "execution_count": 38,
     "metadata": {},
     "output_type": "execute_result"
    }
   ],
   "source": [
    "pivoted_df = df.pivot(index=['sample_id', 'site_id', 'species', 'V2', 'collect_date'], columns='genera', values='relative_abundance')\n",
    "pivoted_df.head()"
   ]
  },
  {
   "cell_type": "code",
   "execution_count": 39,
   "id": "c8623324",
   "metadata": {},
   "outputs": [
    {
     "data": {
      "text/plain": [
       "(156, 2526)"
      ]
     },
     "execution_count": 39,
     "metadata": {},
     "output_type": "execute_result"
    }
   ],
   "source": [
    "pivoted_df.shape"
   ]
  },
  {
   "cell_type": "code",
   "execution_count": 50,
   "id": "52b8d3bd",
   "metadata": {},
   "outputs": [
    {
     "data": {
      "text/plain": [
       "array(['CMB', 'FRW', 'HR', 'LFS', 'LM', 'MKP', 'MMP', 'PNR', 'PTW', 'RF',\n",
       "       'RGT', 'RRL', 'SLG'], dtype=object)"
      ]
     },
     "execution_count": 50,
     "metadata": {},
     "output_type": "execute_result"
    }
   ],
   "source": [
    "pivoted_df['site_id'].unique()"
   ]
  },
  {
   "cell_type": "code",
   "execution_count": 40,
   "id": "8badb46f",
   "metadata": {},
   "outputs": [],
   "source": [
    "row_sum = pivoted_df.sum(axis=1)\n",
    "pivoted_df = pivoted_df.reset_index()"
   ]
  },
  {
   "cell_type": "code",
   "execution_count": 43,
   "id": "167a5d3f",
   "metadata": {},
   "outputs": [],
   "source": [
    "genera_col = pivoted_df.columns\n",
    "genera_col = genera_col.drop(['sample_id','site_id', 'species', 'V2', 'collect_date'])\n",
    "\n",
    "sub_pivot = pivoted_df[genera_col].astype(float).copy()"
   ]
  },
  {
   "cell_type": "code",
   "execution_count": 44,
   "id": "42fb4c35",
   "metadata": {},
   "outputs": [
    {
     "name": "stdout",
     "output_type": "stream",
     "text": [
      "0      1.0\n",
      "1      1.0\n",
      "2      1.0\n",
      "3      1.0\n",
      "4      1.0\n",
      "      ... \n",
      "151    1.0\n",
      "152    1.0\n",
      "153    1.0\n",
      "154    1.0\n",
      "155    1.0\n",
      "Length: 156, dtype: float64\n"
     ]
    }
   ],
   "source": [
    "# make all of the rows sum to 1\n",
    "for row in range(sub_pivot.shape[0]):\n",
    "    sub_pivot.loc[row] = sub_pivot.loc[row]/row_sum[row]\n",
    "\n",
    "# find the sum of each column\n",
    "new_sum = sub_pivot.sum(axis=1)\n",
    "new_sum\n",
    "\n",
    "# recombine original df with samples with new summed/\"oned\" data\n",
    "pivoted_df[genera_col] = sub_pivot\n",
    "\n",
    "row_sum = pivoted_df[genera_col].sum(axis=1)\n",
    "print(row_sum)"
   ]
  },
  {
   "cell_type": "code",
   "execution_count": null,
   "id": "334c99db",
   "metadata": {},
   "outputs": [],
   "source": [
    "### PCA ALL DATA"
   ]
  },
  {
   "cell_type": "code",
   "execution_count": 9,
   "id": "53c589f6",
   "metadata": {},
   "outputs": [],
   "source": [
    "pc1_df = pivoted_df.copy()"
   ]
  },
  {
   "cell_type": "code",
   "execution_count": 11,
   "id": "e779d88f",
   "metadata": {},
   "outputs": [
    {
     "data": {
      "application/vnd.plotly.v1+json": {
       "config": {
        "plotlyServerURL": "https://plot.ly"
       },
       "data": [
        {
         "hovertemplate": "color=CMB<br>0=%{x}<br>1=%{y}<extra></extra>",
         "legendgroup": "CMB",
         "marker": {
          "color": "#636efa",
          "symbol": "circle"
         },
         "mode": "markers",
         "name": "CMB",
         "orientation": "v",
         "showlegend": true,
         "type": "scatter",
         "x": [
          -0.023021653465846816,
          -0.023706132813709545,
          -0.02599173106388664,
          -0.028187682859546228,
          -0.025216505960194258,
          -0.024945011156818606,
          -0.023223838720028984,
          -0.02521397360334484,
          -0.03055861013495962,
          -0.02583740675486167,
          -0.027358124390524156,
          -0.029005960550157188,
          -0.024916496908114778,
          -0.0303016820911408,
          -0.02670220957248353,
          -0.025478198528781106,
          -0.025172532248257145,
          -0.026586717705605053,
          -0.022524911943268666
         ],
         "xaxis": "x",
         "y": [
          -0.07202278476425282,
          -0.07489826521136604,
          -0.08630811051540586,
          -0.0997288368172669,
          -0.08092407852002892,
          -0.08053580438801951,
          -0.06919345110524902,
          -0.08264288616134424,
          -0.1094692601440594,
          -0.0835834552514886,
          -0.09241441287881241,
          -0.10082883294787404,
          -0.0788572017652789,
          -0.10494532884162443,
          -0.08902033658542494,
          -0.08359235704784528,
          -0.08216102476352696,
          -0.0910316774450936,
          -0.06861385374902287
         ],
         "yaxis": "y"
        },
        {
         "hovertemplate": "color=FRW<br>0=%{x}<br>1=%{y}<extra></extra>",
         "legendgroup": "FRW",
         "marker": {
          "color": "#EF553B",
          "symbol": "circle"
         },
         "mode": "markers",
         "name": "FRW",
         "orientation": "v",
         "showlegend": true,
         "type": "scatter",
         "x": [
          -0.02707276620615231,
          -0.02715364819222299,
          -0.029854351134984823,
          -0.026134687009724353,
          -0.026709704973130938,
          -0.027619637579239777,
          -0.026499659936995604,
          -0.033636155690102656,
          -0.027702871704270896,
          -0.026913068630879763,
          -0.027443632726135214
         ],
         "xaxis": "x",
         "y": [
          0.16690816321995156,
          0.16509601096004708,
          0.20791390923589342,
          0.16421315700708625,
          0.1653262762162313,
          0.17813585262632708,
          0.1697947672269124,
          0.22989493861495927,
          0.16457001549608857,
          0.1589898479754041,
          0.1720392976687657
         ],
         "yaxis": "y"
        },
        {
         "hovertemplate": "color=HR<br>0=%{x}<br>1=%{y}<extra></extra>",
         "legendgroup": "HR",
         "marker": {
          "color": "#00cc96",
          "symbol": "circle"
         },
         "mode": "markers",
         "name": "HR",
         "orientation": "v",
         "showlegend": true,
         "type": "scatter",
         "x": [
          -0.030947677378778002,
          -0.008817750071558697,
          -0.016493926233014572,
          -0.01437380821803321
         ],
         "xaxis": "x",
         "y": [
          -0.11121888624154472,
          -0.04954816928612322,
          -0.04466560483442986,
          -0.039061302691364826
         ],
         "yaxis": "y"
        },
        {
         "hovertemplate": "color=LFS<br>0=%{x}<br>1=%{y}<extra></extra>",
         "legendgroup": "LFS",
         "marker": {
          "color": "#ab63fa",
          "symbol": "circle"
         },
         "mode": "markers",
         "name": "LFS",
         "orientation": "v",
         "showlegend": true,
         "type": "scatter",
         "x": [
          -0.025679191706138794,
          -0.02505591873954249,
          -0.02250297067181749,
          -0.023906471410026817,
          -0.023070937665804953,
          -0.026064129922290118,
          -0.024038828279905965,
          -0.023354991440080873,
          -0.023954945931679582,
          -0.023122711067087177,
          -0.02116406237519401,
          -0.022449676873161108,
          -0.02549073577955455
         ],
         "xaxis": "x",
         "y": [
          -0.08543265938158255,
          -0.08112095995925576,
          -0.06541690177393246,
          -0.07313419374621374,
          -0.06856807012367629,
          -0.08513474631923779,
          -0.07478307282300997,
          -0.0666604285433631,
          -0.07386068608487781,
          -0.06951752989204327,
          -0.06092606379230252,
          -0.06615780226424851,
          -0.0820473549990219
         ],
         "yaxis": "y"
        },
        {
         "hovertemplate": "color=LM<br>0=%{x}<br>1=%{y}<extra></extra>",
         "legendgroup": "LM",
         "marker": {
          "color": "#FFA15A",
          "symbol": "circle"
         },
         "mode": "markers",
         "name": "LM",
         "orientation": "v",
         "showlegend": true,
         "type": "scatter",
         "x": [
          -0.022769214933523817,
          -0.020346659321020085,
          -0.021260195868342813,
          -0.02135043206576237,
          -0.019939228707979966,
          -0.020893854974309345,
          -0.020757872242564885,
          -0.020768107932401397,
          -0.020502813851069675,
          -0.02121912913585464,
          -0.020012910434665212,
          -0.020992739843513755,
          -0.02182143665903329,
          -0.020296475795929487,
          -0.02095442110307246,
          -0.023567988757778928,
          -0.023516464923389317,
          -0.022554078181596476,
          -0.019962480253503133
         ],
         "xaxis": "x",
         "y": [
          -0.06791063351619464,
          -0.05539225164072091,
          -0.05963599620878631,
          -0.061828786848332894,
          -0.05428852556781206,
          -0.05864313798581762,
          -0.05742629674228412,
          -0.058619474464129254,
          -0.057525871736461454,
          -0.060532952953184664,
          -0.054956491921130106,
          -0.060593016035118456,
          -0.06264812873902344,
          -0.055815571529506704,
          -0.059653088651304476,
          -0.07192896706428108,
          -0.07257667618165274,
          -0.068107908357146,
          -0.05531137381013733
         ],
         "yaxis": "y"
        },
        {
         "hovertemplate": "color=MKP<br>0=%{x}<br>1=%{y}<extra></extra>",
         "legendgroup": "MKP",
         "marker": {
          "color": "#19d3f3",
          "symbol": "circle"
         },
         "mode": "markers",
         "name": "MKP",
         "orientation": "v",
         "showlegend": true,
         "type": "scatter",
         "x": [
          -0.019961368629450308,
          -0.021525426778097864,
          -0.020014062624760316,
          -0.020059009666816868,
          -0.019972483575925796,
          -0.020909832521039274,
          -0.018944700158371214,
          -0.019118980983590255
         ],
         "xaxis": "x",
         "y": [
          -0.06988222533979317,
          -0.05833002166957938,
          -0.05274843851845123,
          -0.053399574250352716,
          -0.05350080513362053,
          -0.054957861154079544,
          -0.049382046265903694,
          -0.049741132718663025
         ],
         "yaxis": "y"
        },
        {
         "hovertemplate": "color=MMP<br>0=%{x}<br>1=%{y}<extra></extra>",
         "legendgroup": "MMP",
         "marker": {
          "color": "#FF6692",
          "symbol": "circle"
         },
         "mode": "markers",
         "name": "MMP",
         "orientation": "v",
         "showlegend": true,
         "type": "scatter",
         "x": [
          -0.023430347184882325,
          -0.029016955148662177,
          -0.021501605988572915,
          -0.024503484016838013,
          -0.025574073001710475,
          -0.024386528650289212,
          -0.025492519285897273,
          -0.027558420496393135,
          -0.025617923851551705,
          -0.025782148568065048,
          -0.02871577863652039,
          -0.02371528058080688,
          -0.025173955714743634,
          -0.025763214475083302,
          -0.025363862197714294,
          -0.02446365722268572,
          -0.02663477092997818,
          -0.024018787908862884,
          -0.023971526108245843
         ],
         "xaxis": "x",
         "y": [
          -0.07107526117911948,
          -0.09894723355372453,
          -0.06232572761458052,
          -0.07700501053651589,
          -0.0799844754665866,
          -0.0751206481436678,
          -0.08116888321531043,
          -0.09472099299122756,
          -0.08111237252375172,
          -0.08405775267180743,
          -0.09583329568790347,
          -0.0729240975119815,
          -0.08048487573853934,
          -0.08293208030566414,
          -0.08085460644711284,
          -0.07676775499709847,
          -0.08678419924030804,
          -0.0743208275604347,
          -0.07396150700121297
         ],
         "yaxis": "y"
        },
        {
         "hovertemplate": "color=PNR<br>0=%{x}<br>1=%{y}<extra></extra>",
         "legendgroup": "PNR",
         "marker": {
          "color": "#B6E880",
          "symbol": "circle"
         },
         "mode": "markers",
         "name": "PNR",
         "orientation": "v",
         "showlegend": true,
         "type": "scatter",
         "x": [
          -0.02874967139826797,
          -0.030759089936517107,
          -0.02553233632358601
         ],
         "xaxis": "x",
         "y": [
          0.17957560605750025,
          0.19707105312792095,
          0.1889906020728393
         ],
         "yaxis": "y"
        },
        {
         "hovertemplate": "color=PTW<br>0=%{x}<br>1=%{y}<extra></extra>",
         "legendgroup": "PTW",
         "marker": {
          "color": "#FF97FF",
          "symbol": "circle"
         },
         "mode": "markers",
         "name": "PTW",
         "orientation": "v",
         "showlegend": true,
         "type": "scatter",
         "x": [
          -0.02184316036034723,
          -0.022198840045390463,
          -0.01956069240477175,
          -0.023859409634803184,
          -0.021395495564402737,
          -0.023080157872465753,
          -0.023823071817011605,
          -0.02411050582825987
         ],
         "xaxis": "x",
         "y": [
          -0.0660585830754698,
          -0.07057364828168479,
          -0.05323570444204215,
          -0.07779070771776399,
          -0.06265939901380502,
          -0.07193292406894915,
          -0.07538197603355119,
          -0.07940032820147011
         ],
         "yaxis": "y"
        },
        {
         "hovertemplate": "color=RF<br>0=%{x}<br>1=%{y}<extra></extra>",
         "legendgroup": "RF",
         "marker": {
          "color": "#FECB52",
          "symbol": "circle"
         },
         "mode": "markers",
         "name": "RF",
         "orientation": "v",
         "showlegend": true,
         "type": "scatter",
         "x": [
          -0.029400878835162392,
          -0.03234530556144247,
          -0.02821971192789336,
          -0.026597751295636043,
          -0.026739954307634206,
          -0.03174772746365075,
          -0.03146556808105109,
          -0.0243052594335321,
          -0.027417811234325445,
          -0.025071417923140688,
          -0.027792820002299656
         ],
         "xaxis": "x",
         "y": [
          0.1908744421180054,
          0.22284005059733505,
          0.17699173637595686,
          0.16297726034957907,
          0.1722762360623538,
          0.21085900198277804,
          0.21329683267535413,
          0.14024265452755977,
          0.16989694855285356,
          0.14258114397019658,
          0.17309111473857686
         ],
         "yaxis": "y"
        },
        {
         "hovertemplate": "color=RGT<br>0=%{x}<br>1=%{y}<extra></extra>",
         "legendgroup": "RGT",
         "marker": {
          "color": "#636efa",
          "symbol": "circle"
         },
         "mode": "markers",
         "name": "RGT",
         "orientation": "v",
         "showlegend": true,
         "type": "scatter",
         "x": [
          -0.02119621093946763,
          -0.020694733261513217,
          -0.02263084754673937,
          -0.020940960429571318,
          -0.021736812043888998
         ],
         "xaxis": "x",
         "y": [
          -0.056307204433911184,
          -0.05664870449567177,
          -0.06346054959777976,
          -0.05807029788650936,
          -0.06169681433882345
         ],
         "yaxis": "y"
        },
        {
         "hovertemplate": "color=RRL<br>0=%{x}<br>1=%{y}<extra></extra>",
         "legendgroup": "RRL",
         "marker": {
          "color": "#EF553B",
          "symbol": "circle"
         },
         "mode": "markers",
         "name": "RRL",
         "orientation": "v",
         "showlegend": true,
         "type": "scatter",
         "x": [
          0.8887087081748168,
          0.002377057522538846,
          0.8189202300538868,
          -0.011257251118540293,
          -0.009139395817097613,
          -0.023669772507282034,
          -0.024181849287081243,
          -0.021590647250440284,
          -0.023045518512813657,
          -0.02674298219682623,
          -0.034267058800848196,
          -0.016069723858248643,
          -0.008455240450898543,
          -0.014942358487757308,
          0.818677622127605,
          -0.018127424893019536,
          0.6393273587997037,
          -0.012729920030923278,
          0.4893148402224812
         ],
         "xaxis": "x",
         "y": [
          0.022984277925128506,
          -0.017075767446995047,
          0.01755028289271705,
          -0.07915532230079082,
          -0.02468648205871891,
          -0.08496741576084968,
          -0.08332500457710293,
          -0.07473747313355288,
          -0.07581322828157985,
          -0.10315811179032715,
          -0.14025982891522054,
          -0.06485271600105962,
          -0.029275502608493372,
          -0.08142603379080328,
          0.013503052238348997,
          -0.08780594203395545,
          -0.004213385408133983,
          -0.0898110481951559,
          -0.0012141904291969137
         ],
         "yaxis": "y"
        },
        {
         "hovertemplate": "color=SLG<br>0=%{x}<br>1=%{y}<extra></extra>",
         "legendgroup": "SLG",
         "marker": {
          "color": "#00cc96",
          "symbol": "circle"
         },
         "mode": "markers",
         "name": "SLG",
         "orientation": "v",
         "showlegend": true,
         "type": "scatter",
         "x": [
          -0.030656577083025705,
          -0.03151400623585081,
          -0.031453393111769756,
          -0.02566675663430219,
          -0.02989309800136335,
          -0.03098511324150857,
          -0.027495713826576774,
          -0.02678355106270385,
          -0.02537986637921887,
          -0.027508411675175766,
          -0.029825206066645377,
          -0.02841591631750527,
          -0.03156154367092934,
          -0.03263508493959037,
          -0.03265240427851459,
          -0.03283918620114456,
          -0.028769135580752527
         ],
         "xaxis": "x",
         "y": [
          0.20331288651122909,
          0.2117954141215563,
          0.20795110235180897,
          0.18265547098632495,
          0.19705802411372852,
          0.2067450490856804,
          0.17154978452805625,
          0.16029381172390064,
          0.16176630946593729,
          0.1691762918674226,
          0.20246845685573048,
          0.1816640590886844,
          0.21030298531052277,
          0.2205987810027291,
          0.21509478619272915,
          0.22459868309248,
          0.18322311455740584
         ],
         "yaxis": "y"
        }
       ],
       "layout": {
        "legend": {
         "title": {
          "text": "color"
         },
         "tracegroupgap": 0
        },
        "margin": {
         "t": 60
        },
        "template": {
         "data": {
          "bar": [
           {
            "error_x": {
             "color": "#2a3f5f"
            },
            "error_y": {
             "color": "#2a3f5f"
            },
            "marker": {
             "line": {
              "color": "#E5ECF6",
              "width": 0.5
             },
             "pattern": {
              "fillmode": "overlay",
              "size": 10,
              "solidity": 0.2
             }
            },
            "type": "bar"
           }
          ],
          "barpolar": [
           {
            "marker": {
             "line": {
              "color": "#E5ECF6",
              "width": 0.5
             },
             "pattern": {
              "fillmode": "overlay",
              "size": 10,
              "solidity": 0.2
             }
            },
            "type": "barpolar"
           }
          ],
          "carpet": [
           {
            "aaxis": {
             "endlinecolor": "#2a3f5f",
             "gridcolor": "white",
             "linecolor": "white",
             "minorgridcolor": "white",
             "startlinecolor": "#2a3f5f"
            },
            "baxis": {
             "endlinecolor": "#2a3f5f",
             "gridcolor": "white",
             "linecolor": "white",
             "minorgridcolor": "white",
             "startlinecolor": "#2a3f5f"
            },
            "type": "carpet"
           }
          ],
          "choropleth": [
           {
            "colorbar": {
             "outlinewidth": 0,
             "ticks": ""
            },
            "type": "choropleth"
           }
          ],
          "contour": [
           {
            "colorbar": {
             "outlinewidth": 0,
             "ticks": ""
            },
            "colorscale": [
             [
              0,
              "#0d0887"
             ],
             [
              0.1111111111111111,
              "#46039f"
             ],
             [
              0.2222222222222222,
              "#7201a8"
             ],
             [
              0.3333333333333333,
              "#9c179e"
             ],
             [
              0.4444444444444444,
              "#bd3786"
             ],
             [
              0.5555555555555556,
              "#d8576b"
             ],
             [
              0.6666666666666666,
              "#ed7953"
             ],
             [
              0.7777777777777778,
              "#fb9f3a"
             ],
             [
              0.8888888888888888,
              "#fdca26"
             ],
             [
              1,
              "#f0f921"
             ]
            ],
            "type": "contour"
           }
          ],
          "contourcarpet": [
           {
            "colorbar": {
             "outlinewidth": 0,
             "ticks": ""
            },
            "type": "contourcarpet"
           }
          ],
          "heatmap": [
           {
            "colorbar": {
             "outlinewidth": 0,
             "ticks": ""
            },
            "colorscale": [
             [
              0,
              "#0d0887"
             ],
             [
              0.1111111111111111,
              "#46039f"
             ],
             [
              0.2222222222222222,
              "#7201a8"
             ],
             [
              0.3333333333333333,
              "#9c179e"
             ],
             [
              0.4444444444444444,
              "#bd3786"
             ],
             [
              0.5555555555555556,
              "#d8576b"
             ],
             [
              0.6666666666666666,
              "#ed7953"
             ],
             [
              0.7777777777777778,
              "#fb9f3a"
             ],
             [
              0.8888888888888888,
              "#fdca26"
             ],
             [
              1,
              "#f0f921"
             ]
            ],
            "type": "heatmap"
           }
          ],
          "heatmapgl": [
           {
            "colorbar": {
             "outlinewidth": 0,
             "ticks": ""
            },
            "colorscale": [
             [
              0,
              "#0d0887"
             ],
             [
              0.1111111111111111,
              "#46039f"
             ],
             [
              0.2222222222222222,
              "#7201a8"
             ],
             [
              0.3333333333333333,
              "#9c179e"
             ],
             [
              0.4444444444444444,
              "#bd3786"
             ],
             [
              0.5555555555555556,
              "#d8576b"
             ],
             [
              0.6666666666666666,
              "#ed7953"
             ],
             [
              0.7777777777777778,
              "#fb9f3a"
             ],
             [
              0.8888888888888888,
              "#fdca26"
             ],
             [
              1,
              "#f0f921"
             ]
            ],
            "type": "heatmapgl"
           }
          ],
          "histogram": [
           {
            "marker": {
             "pattern": {
              "fillmode": "overlay",
              "size": 10,
              "solidity": 0.2
             }
            },
            "type": "histogram"
           }
          ],
          "histogram2d": [
           {
            "colorbar": {
             "outlinewidth": 0,
             "ticks": ""
            },
            "colorscale": [
             [
              0,
              "#0d0887"
             ],
             [
              0.1111111111111111,
              "#46039f"
             ],
             [
              0.2222222222222222,
              "#7201a8"
             ],
             [
              0.3333333333333333,
              "#9c179e"
             ],
             [
              0.4444444444444444,
              "#bd3786"
             ],
             [
              0.5555555555555556,
              "#d8576b"
             ],
             [
              0.6666666666666666,
              "#ed7953"
             ],
             [
              0.7777777777777778,
              "#fb9f3a"
             ],
             [
              0.8888888888888888,
              "#fdca26"
             ],
             [
              1,
              "#f0f921"
             ]
            ],
            "type": "histogram2d"
           }
          ],
          "histogram2dcontour": [
           {
            "colorbar": {
             "outlinewidth": 0,
             "ticks": ""
            },
            "colorscale": [
             [
              0,
              "#0d0887"
             ],
             [
              0.1111111111111111,
              "#46039f"
             ],
             [
              0.2222222222222222,
              "#7201a8"
             ],
             [
              0.3333333333333333,
              "#9c179e"
             ],
             [
              0.4444444444444444,
              "#bd3786"
             ],
             [
              0.5555555555555556,
              "#d8576b"
             ],
             [
              0.6666666666666666,
              "#ed7953"
             ],
             [
              0.7777777777777778,
              "#fb9f3a"
             ],
             [
              0.8888888888888888,
              "#fdca26"
             ],
             [
              1,
              "#f0f921"
             ]
            ],
            "type": "histogram2dcontour"
           }
          ],
          "mesh3d": [
           {
            "colorbar": {
             "outlinewidth": 0,
             "ticks": ""
            },
            "type": "mesh3d"
           }
          ],
          "parcoords": [
           {
            "line": {
             "colorbar": {
              "outlinewidth": 0,
              "ticks": ""
             }
            },
            "type": "parcoords"
           }
          ],
          "pie": [
           {
            "automargin": true,
            "type": "pie"
           }
          ],
          "scatter": [
           {
            "fillpattern": {
             "fillmode": "overlay",
             "size": 10,
             "solidity": 0.2
            },
            "type": "scatter"
           }
          ],
          "scatter3d": [
           {
            "line": {
             "colorbar": {
              "outlinewidth": 0,
              "ticks": ""
             }
            },
            "marker": {
             "colorbar": {
              "outlinewidth": 0,
              "ticks": ""
             }
            },
            "type": "scatter3d"
           }
          ],
          "scattercarpet": [
           {
            "marker": {
             "colorbar": {
              "outlinewidth": 0,
              "ticks": ""
             }
            },
            "type": "scattercarpet"
           }
          ],
          "scattergeo": [
           {
            "marker": {
             "colorbar": {
              "outlinewidth": 0,
              "ticks": ""
             }
            },
            "type": "scattergeo"
           }
          ],
          "scattergl": [
           {
            "marker": {
             "colorbar": {
              "outlinewidth": 0,
              "ticks": ""
             }
            },
            "type": "scattergl"
           }
          ],
          "scattermapbox": [
           {
            "marker": {
             "colorbar": {
              "outlinewidth": 0,
              "ticks": ""
             }
            },
            "type": "scattermapbox"
           }
          ],
          "scatterpolar": [
           {
            "marker": {
             "colorbar": {
              "outlinewidth": 0,
              "ticks": ""
             }
            },
            "type": "scatterpolar"
           }
          ],
          "scatterpolargl": [
           {
            "marker": {
             "colorbar": {
              "outlinewidth": 0,
              "ticks": ""
             }
            },
            "type": "scatterpolargl"
           }
          ],
          "scatterternary": [
           {
            "marker": {
             "colorbar": {
              "outlinewidth": 0,
              "ticks": ""
             }
            },
            "type": "scatterternary"
           }
          ],
          "surface": [
           {
            "colorbar": {
             "outlinewidth": 0,
             "ticks": ""
            },
            "colorscale": [
             [
              0,
              "#0d0887"
             ],
             [
              0.1111111111111111,
              "#46039f"
             ],
             [
              0.2222222222222222,
              "#7201a8"
             ],
             [
              0.3333333333333333,
              "#9c179e"
             ],
             [
              0.4444444444444444,
              "#bd3786"
             ],
             [
              0.5555555555555556,
              "#d8576b"
             ],
             [
              0.6666666666666666,
              "#ed7953"
             ],
             [
              0.7777777777777778,
              "#fb9f3a"
             ],
             [
              0.8888888888888888,
              "#fdca26"
             ],
             [
              1,
              "#f0f921"
             ]
            ],
            "type": "surface"
           }
          ],
          "table": [
           {
            "cells": {
             "fill": {
              "color": "#EBF0F8"
             },
             "line": {
              "color": "white"
             }
            },
            "header": {
             "fill": {
              "color": "#C8D4E3"
             },
             "line": {
              "color": "white"
             }
            },
            "type": "table"
           }
          ]
         },
         "layout": {
          "annotationdefaults": {
           "arrowcolor": "#2a3f5f",
           "arrowhead": 0,
           "arrowwidth": 1
          },
          "autotypenumbers": "strict",
          "coloraxis": {
           "colorbar": {
            "outlinewidth": 0,
            "ticks": ""
           }
          },
          "colorscale": {
           "diverging": [
            [
             0,
             "#8e0152"
            ],
            [
             0.1,
             "#c51b7d"
            ],
            [
             0.2,
             "#de77ae"
            ],
            [
             0.3,
             "#f1b6da"
            ],
            [
             0.4,
             "#fde0ef"
            ],
            [
             0.5,
             "#f7f7f7"
            ],
            [
             0.6,
             "#e6f5d0"
            ],
            [
             0.7,
             "#b8e186"
            ],
            [
             0.8,
             "#7fbc41"
            ],
            [
             0.9,
             "#4d9221"
            ],
            [
             1,
             "#276419"
            ]
           ],
           "sequential": [
            [
             0,
             "#0d0887"
            ],
            [
             0.1111111111111111,
             "#46039f"
            ],
            [
             0.2222222222222222,
             "#7201a8"
            ],
            [
             0.3333333333333333,
             "#9c179e"
            ],
            [
             0.4444444444444444,
             "#bd3786"
            ],
            [
             0.5555555555555556,
             "#d8576b"
            ],
            [
             0.6666666666666666,
             "#ed7953"
            ],
            [
             0.7777777777777778,
             "#fb9f3a"
            ],
            [
             0.8888888888888888,
             "#fdca26"
            ],
            [
             1,
             "#f0f921"
            ]
           ],
           "sequentialminus": [
            [
             0,
             "#0d0887"
            ],
            [
             0.1111111111111111,
             "#46039f"
            ],
            [
             0.2222222222222222,
             "#7201a8"
            ],
            [
             0.3333333333333333,
             "#9c179e"
            ],
            [
             0.4444444444444444,
             "#bd3786"
            ],
            [
             0.5555555555555556,
             "#d8576b"
            ],
            [
             0.6666666666666666,
             "#ed7953"
            ],
            [
             0.7777777777777778,
             "#fb9f3a"
            ],
            [
             0.8888888888888888,
             "#fdca26"
            ],
            [
             1,
             "#f0f921"
            ]
           ]
          },
          "colorway": [
           "#636efa",
           "#EF553B",
           "#00cc96",
           "#ab63fa",
           "#FFA15A",
           "#19d3f3",
           "#FF6692",
           "#B6E880",
           "#FF97FF",
           "#FECB52"
          ],
          "font": {
           "color": "#2a3f5f"
          },
          "geo": {
           "bgcolor": "white",
           "lakecolor": "white",
           "landcolor": "#E5ECF6",
           "showlakes": true,
           "showland": true,
           "subunitcolor": "white"
          },
          "hoverlabel": {
           "align": "left"
          },
          "hovermode": "closest",
          "mapbox": {
           "style": "light"
          },
          "paper_bgcolor": "white",
          "plot_bgcolor": "#E5ECF6",
          "polar": {
           "angularaxis": {
            "gridcolor": "white",
            "linecolor": "white",
            "ticks": ""
           },
           "bgcolor": "#E5ECF6",
           "radialaxis": {
            "gridcolor": "white",
            "linecolor": "white",
            "ticks": ""
           }
          },
          "scene": {
           "xaxis": {
            "backgroundcolor": "#E5ECF6",
            "gridcolor": "white",
            "gridwidth": 2,
            "linecolor": "white",
            "showbackground": true,
            "ticks": "",
            "zerolinecolor": "white"
           },
           "yaxis": {
            "backgroundcolor": "#E5ECF6",
            "gridcolor": "white",
            "gridwidth": 2,
            "linecolor": "white",
            "showbackground": true,
            "ticks": "",
            "zerolinecolor": "white"
           },
           "zaxis": {
            "backgroundcolor": "#E5ECF6",
            "gridcolor": "white",
            "gridwidth": 2,
            "linecolor": "white",
            "showbackground": true,
            "ticks": "",
            "zerolinecolor": "white"
           }
          },
          "shapedefaults": {
           "line": {
            "color": "#2a3f5f"
           }
          },
          "ternary": {
           "aaxis": {
            "gridcolor": "white",
            "linecolor": "white",
            "ticks": ""
           },
           "baxis": {
            "gridcolor": "white",
            "linecolor": "white",
            "ticks": ""
           },
           "bgcolor": "#E5ECF6",
           "caxis": {
            "gridcolor": "white",
            "linecolor": "white",
            "ticks": ""
           }
          },
          "title": {
           "x": 0.05
          },
          "xaxis": {
           "automargin": true,
           "gridcolor": "white",
           "linecolor": "white",
           "ticks": "",
           "title": {
            "standoff": 15
           },
           "zerolinecolor": "white",
           "zerolinewidth": 2
          },
          "yaxis": {
           "automargin": true,
           "gridcolor": "white",
           "linecolor": "white",
           "ticks": "",
           "title": {
            "standoff": 15
           },
           "zerolinecolor": "white",
           "zerolinewidth": 2
          }
         }
        },
        "title": {
         "text": "Soil Microbes by Site without Reduction"
        },
        "xaxis": {
         "anchor": "y",
         "domain": [
          0,
          1
         ],
         "title": {
          "text": "PC1 39.6%"
         }
        },
        "yaxis": {
         "anchor": "x",
         "domain": [
          0,
          1
         ],
         "title": {
          "text": "PC2 28.6%"
         }
        }
       }
      },
      "text/html": [
       "<div>                            <div id=\"36f3b9ce-72d3-43b2-8464-b187c5b9921e\" class=\"plotly-graph-div\" style=\"height:525px; width:100%;\"></div>            <script type=\"text/javascript\">                require([\"plotly\"], function(Plotly) {                    window.PLOTLYENV=window.PLOTLYENV || {};                                    if (document.getElementById(\"36f3b9ce-72d3-43b2-8464-b187c5b9921e\")) {                    Plotly.newPlot(                        \"36f3b9ce-72d3-43b2-8464-b187c5b9921e\",                        [{\"hovertemplate\":\"color=CMB<br>0=%{x}<br>1=%{y}<extra></extra>\",\"legendgroup\":\"CMB\",\"marker\":{\"color\":\"#636efa\",\"symbol\":\"circle\"},\"mode\":\"markers\",\"name\":\"CMB\",\"orientation\":\"v\",\"showlegend\":true,\"x\":[-0.023021653465846816,-0.023706132813709545,-0.02599173106388664,-0.028187682859546228,-0.025216505960194258,-0.024945011156818606,-0.023223838720028984,-0.02521397360334484,-0.03055861013495962,-0.02583740675486167,-0.027358124390524156,-0.029005960550157188,-0.024916496908114778,-0.0303016820911408,-0.02670220957248353,-0.025478198528781106,-0.025172532248257145,-0.026586717705605053,-0.022524911943268666],\"xaxis\":\"x\",\"y\":[-0.07202278476425282,-0.07489826521136604,-0.08630811051540586,-0.0997288368172669,-0.08092407852002892,-0.08053580438801951,-0.06919345110524902,-0.08264288616134424,-0.1094692601440594,-0.0835834552514886,-0.09241441287881241,-0.10082883294787404,-0.0788572017652789,-0.10494532884162443,-0.08902033658542494,-0.08359235704784528,-0.08216102476352696,-0.0910316774450936,-0.06861385374902287],\"yaxis\":\"y\",\"type\":\"scatter\"},{\"hovertemplate\":\"color=FRW<br>0=%{x}<br>1=%{y}<extra></extra>\",\"legendgroup\":\"FRW\",\"marker\":{\"color\":\"#EF553B\",\"symbol\":\"circle\"},\"mode\":\"markers\",\"name\":\"FRW\",\"orientation\":\"v\",\"showlegend\":true,\"x\":[-0.02707276620615231,-0.02715364819222299,-0.029854351134984823,-0.026134687009724353,-0.026709704973130938,-0.027619637579239777,-0.026499659936995604,-0.033636155690102656,-0.027702871704270896,-0.026913068630879763,-0.027443632726135214],\"xaxis\":\"x\",\"y\":[0.16690816321995156,0.16509601096004708,0.20791390923589342,0.16421315700708625,0.1653262762162313,0.17813585262632708,0.1697947672269124,0.22989493861495927,0.16457001549608857,0.1589898479754041,0.1720392976687657],\"yaxis\":\"y\",\"type\":\"scatter\"},{\"hovertemplate\":\"color=HR<br>0=%{x}<br>1=%{y}<extra></extra>\",\"legendgroup\":\"HR\",\"marker\":{\"color\":\"#00cc96\",\"symbol\":\"circle\"},\"mode\":\"markers\",\"name\":\"HR\",\"orientation\":\"v\",\"showlegend\":true,\"x\":[-0.030947677378778002,-0.008817750071558697,-0.016493926233014572,-0.01437380821803321],\"xaxis\":\"x\",\"y\":[-0.11121888624154472,-0.04954816928612322,-0.04466560483442986,-0.039061302691364826],\"yaxis\":\"y\",\"type\":\"scatter\"},{\"hovertemplate\":\"color=LFS<br>0=%{x}<br>1=%{y}<extra></extra>\",\"legendgroup\":\"LFS\",\"marker\":{\"color\":\"#ab63fa\",\"symbol\":\"circle\"},\"mode\":\"markers\",\"name\":\"LFS\",\"orientation\":\"v\",\"showlegend\":true,\"x\":[-0.025679191706138794,-0.02505591873954249,-0.02250297067181749,-0.023906471410026817,-0.023070937665804953,-0.026064129922290118,-0.024038828279905965,-0.023354991440080873,-0.023954945931679582,-0.023122711067087177,-0.02116406237519401,-0.022449676873161108,-0.02549073577955455],\"xaxis\":\"x\",\"y\":[-0.08543265938158255,-0.08112095995925576,-0.06541690177393246,-0.07313419374621374,-0.06856807012367629,-0.08513474631923779,-0.07478307282300997,-0.0666604285433631,-0.07386068608487781,-0.06951752989204327,-0.06092606379230252,-0.06615780226424851,-0.0820473549990219],\"yaxis\":\"y\",\"type\":\"scatter\"},{\"hovertemplate\":\"color=LM<br>0=%{x}<br>1=%{y}<extra></extra>\",\"legendgroup\":\"LM\",\"marker\":{\"color\":\"#FFA15A\",\"symbol\":\"circle\"},\"mode\":\"markers\",\"name\":\"LM\",\"orientation\":\"v\",\"showlegend\":true,\"x\":[-0.022769214933523817,-0.020346659321020085,-0.021260195868342813,-0.02135043206576237,-0.019939228707979966,-0.020893854974309345,-0.020757872242564885,-0.020768107932401397,-0.020502813851069675,-0.02121912913585464,-0.020012910434665212,-0.020992739843513755,-0.02182143665903329,-0.020296475795929487,-0.02095442110307246,-0.023567988757778928,-0.023516464923389317,-0.022554078181596476,-0.019962480253503133],\"xaxis\":\"x\",\"y\":[-0.06791063351619464,-0.05539225164072091,-0.05963599620878631,-0.061828786848332894,-0.05428852556781206,-0.05864313798581762,-0.05742629674228412,-0.058619474464129254,-0.057525871736461454,-0.060532952953184664,-0.054956491921130106,-0.060593016035118456,-0.06264812873902344,-0.055815571529506704,-0.059653088651304476,-0.07192896706428108,-0.07257667618165274,-0.068107908357146,-0.05531137381013733],\"yaxis\":\"y\",\"type\":\"scatter\"},{\"hovertemplate\":\"color=MKP<br>0=%{x}<br>1=%{y}<extra></extra>\",\"legendgroup\":\"MKP\",\"marker\":{\"color\":\"#19d3f3\",\"symbol\":\"circle\"},\"mode\":\"markers\",\"name\":\"MKP\",\"orientation\":\"v\",\"showlegend\":true,\"x\":[-0.019961368629450308,-0.021525426778097864,-0.020014062624760316,-0.020059009666816868,-0.019972483575925796,-0.020909832521039274,-0.018944700158371214,-0.019118980983590255],\"xaxis\":\"x\",\"y\":[-0.06988222533979317,-0.05833002166957938,-0.05274843851845123,-0.053399574250352716,-0.05350080513362053,-0.054957861154079544,-0.049382046265903694,-0.049741132718663025],\"yaxis\":\"y\",\"type\":\"scatter\"},{\"hovertemplate\":\"color=MMP<br>0=%{x}<br>1=%{y}<extra></extra>\",\"legendgroup\":\"MMP\",\"marker\":{\"color\":\"#FF6692\",\"symbol\":\"circle\"},\"mode\":\"markers\",\"name\":\"MMP\",\"orientation\":\"v\",\"showlegend\":true,\"x\":[-0.023430347184882325,-0.029016955148662177,-0.021501605988572915,-0.024503484016838013,-0.025574073001710475,-0.024386528650289212,-0.025492519285897273,-0.027558420496393135,-0.025617923851551705,-0.025782148568065048,-0.02871577863652039,-0.02371528058080688,-0.025173955714743634,-0.025763214475083302,-0.025363862197714294,-0.02446365722268572,-0.02663477092997818,-0.024018787908862884,-0.023971526108245843],\"xaxis\":\"x\",\"y\":[-0.07107526117911948,-0.09894723355372453,-0.06232572761458052,-0.07700501053651589,-0.0799844754665866,-0.0751206481436678,-0.08116888321531043,-0.09472099299122756,-0.08111237252375172,-0.08405775267180743,-0.09583329568790347,-0.0729240975119815,-0.08048487573853934,-0.08293208030566414,-0.08085460644711284,-0.07676775499709847,-0.08678419924030804,-0.0743208275604347,-0.07396150700121297],\"yaxis\":\"y\",\"type\":\"scatter\"},{\"hovertemplate\":\"color=PNR<br>0=%{x}<br>1=%{y}<extra></extra>\",\"legendgroup\":\"PNR\",\"marker\":{\"color\":\"#B6E880\",\"symbol\":\"circle\"},\"mode\":\"markers\",\"name\":\"PNR\",\"orientation\":\"v\",\"showlegend\":true,\"x\":[-0.02874967139826797,-0.030759089936517107,-0.02553233632358601],\"xaxis\":\"x\",\"y\":[0.17957560605750025,0.19707105312792095,0.1889906020728393],\"yaxis\":\"y\",\"type\":\"scatter\"},{\"hovertemplate\":\"color=PTW<br>0=%{x}<br>1=%{y}<extra></extra>\",\"legendgroup\":\"PTW\",\"marker\":{\"color\":\"#FF97FF\",\"symbol\":\"circle\"},\"mode\":\"markers\",\"name\":\"PTW\",\"orientation\":\"v\",\"showlegend\":true,\"x\":[-0.02184316036034723,-0.022198840045390463,-0.01956069240477175,-0.023859409634803184,-0.021395495564402737,-0.023080157872465753,-0.023823071817011605,-0.02411050582825987],\"xaxis\":\"x\",\"y\":[-0.0660585830754698,-0.07057364828168479,-0.05323570444204215,-0.07779070771776399,-0.06265939901380502,-0.07193292406894915,-0.07538197603355119,-0.07940032820147011],\"yaxis\":\"y\",\"type\":\"scatter\"},{\"hovertemplate\":\"color=RF<br>0=%{x}<br>1=%{y}<extra></extra>\",\"legendgroup\":\"RF\",\"marker\":{\"color\":\"#FECB52\",\"symbol\":\"circle\"},\"mode\":\"markers\",\"name\":\"RF\",\"orientation\":\"v\",\"showlegend\":true,\"x\":[-0.029400878835162392,-0.03234530556144247,-0.02821971192789336,-0.026597751295636043,-0.026739954307634206,-0.03174772746365075,-0.03146556808105109,-0.0243052594335321,-0.027417811234325445,-0.025071417923140688,-0.027792820002299656],\"xaxis\":\"x\",\"y\":[0.1908744421180054,0.22284005059733505,0.17699173637595686,0.16297726034957907,0.1722762360623538,0.21085900198277804,0.21329683267535413,0.14024265452755977,0.16989694855285356,0.14258114397019658,0.17309111473857686],\"yaxis\":\"y\",\"type\":\"scatter\"},{\"hovertemplate\":\"color=RGT<br>0=%{x}<br>1=%{y}<extra></extra>\",\"legendgroup\":\"RGT\",\"marker\":{\"color\":\"#636efa\",\"symbol\":\"circle\"},\"mode\":\"markers\",\"name\":\"RGT\",\"orientation\":\"v\",\"showlegend\":true,\"x\":[-0.02119621093946763,-0.020694733261513217,-0.02263084754673937,-0.020940960429571318,-0.021736812043888998],\"xaxis\":\"x\",\"y\":[-0.056307204433911184,-0.05664870449567177,-0.06346054959777976,-0.05807029788650936,-0.06169681433882345],\"yaxis\":\"y\",\"type\":\"scatter\"},{\"hovertemplate\":\"color=RRL<br>0=%{x}<br>1=%{y}<extra></extra>\",\"legendgroup\":\"RRL\",\"marker\":{\"color\":\"#EF553B\",\"symbol\":\"circle\"},\"mode\":\"markers\",\"name\":\"RRL\",\"orientation\":\"v\",\"showlegend\":true,\"x\":[0.8887087081748168,0.002377057522538846,0.8189202300538868,-0.011257251118540293,-0.009139395817097613,-0.023669772507282034,-0.024181849287081243,-0.021590647250440284,-0.023045518512813657,-0.02674298219682623,-0.034267058800848196,-0.016069723858248643,-0.008455240450898543,-0.014942358487757308,0.818677622127605,-0.018127424893019536,0.6393273587997037,-0.012729920030923278,0.4893148402224812],\"xaxis\":\"x\",\"y\":[0.022984277925128506,-0.017075767446995047,0.01755028289271705,-0.07915532230079082,-0.02468648205871891,-0.08496741576084968,-0.08332500457710293,-0.07473747313355288,-0.07581322828157985,-0.10315811179032715,-0.14025982891522054,-0.06485271600105962,-0.029275502608493372,-0.08142603379080328,0.013503052238348997,-0.08780594203395545,-0.004213385408133983,-0.0898110481951559,-0.0012141904291969137],\"yaxis\":\"y\",\"type\":\"scatter\"},{\"hovertemplate\":\"color=SLG<br>0=%{x}<br>1=%{y}<extra></extra>\",\"legendgroup\":\"SLG\",\"marker\":{\"color\":\"#00cc96\",\"symbol\":\"circle\"},\"mode\":\"markers\",\"name\":\"SLG\",\"orientation\":\"v\",\"showlegend\":true,\"x\":[-0.030656577083025705,-0.03151400623585081,-0.031453393111769756,-0.02566675663430219,-0.02989309800136335,-0.03098511324150857,-0.027495713826576774,-0.02678355106270385,-0.02537986637921887,-0.027508411675175766,-0.029825206066645377,-0.02841591631750527,-0.03156154367092934,-0.03263508493959037,-0.03265240427851459,-0.03283918620114456,-0.028769135580752527],\"xaxis\":\"x\",\"y\":[0.20331288651122909,0.2117954141215563,0.20795110235180897,0.18265547098632495,0.19705802411372852,0.2067450490856804,0.17154978452805625,0.16029381172390064,0.16176630946593729,0.1691762918674226,0.20246845685573048,0.1816640590886844,0.21030298531052277,0.2205987810027291,0.21509478619272915,0.22459868309248,0.18322311455740584],\"yaxis\":\"y\",\"type\":\"scatter\"}],                        {\"template\":{\"data\":{\"histogram2dcontour\":[{\"type\":\"histogram2dcontour\",\"colorbar\":{\"outlinewidth\":0,\"ticks\":\"\"},\"colorscale\":[[0.0,\"#0d0887\"],[0.1111111111111111,\"#46039f\"],[0.2222222222222222,\"#7201a8\"],[0.3333333333333333,\"#9c179e\"],[0.4444444444444444,\"#bd3786\"],[0.5555555555555556,\"#d8576b\"],[0.6666666666666666,\"#ed7953\"],[0.7777777777777778,\"#fb9f3a\"],[0.8888888888888888,\"#fdca26\"],[1.0,\"#f0f921\"]]}],\"choropleth\":[{\"type\":\"choropleth\",\"colorbar\":{\"outlinewidth\":0,\"ticks\":\"\"}}],\"histogram2d\":[{\"type\":\"histogram2d\",\"colorbar\":{\"outlinewidth\":0,\"ticks\":\"\"},\"colorscale\":[[0.0,\"#0d0887\"],[0.1111111111111111,\"#46039f\"],[0.2222222222222222,\"#7201a8\"],[0.3333333333333333,\"#9c179e\"],[0.4444444444444444,\"#bd3786\"],[0.5555555555555556,\"#d8576b\"],[0.6666666666666666,\"#ed7953\"],[0.7777777777777778,\"#fb9f3a\"],[0.8888888888888888,\"#fdca26\"],[1.0,\"#f0f921\"]]}],\"heatmap\":[{\"type\":\"heatmap\",\"colorbar\":{\"outlinewidth\":0,\"ticks\":\"\"},\"colorscale\":[[0.0,\"#0d0887\"],[0.1111111111111111,\"#46039f\"],[0.2222222222222222,\"#7201a8\"],[0.3333333333333333,\"#9c179e\"],[0.4444444444444444,\"#bd3786\"],[0.5555555555555556,\"#d8576b\"],[0.6666666666666666,\"#ed7953\"],[0.7777777777777778,\"#fb9f3a\"],[0.8888888888888888,\"#fdca26\"],[1.0,\"#f0f921\"]]}],\"heatmapgl\":[{\"type\":\"heatmapgl\",\"colorbar\":{\"outlinewidth\":0,\"ticks\":\"\"},\"colorscale\":[[0.0,\"#0d0887\"],[0.1111111111111111,\"#46039f\"],[0.2222222222222222,\"#7201a8\"],[0.3333333333333333,\"#9c179e\"],[0.4444444444444444,\"#bd3786\"],[0.5555555555555556,\"#d8576b\"],[0.6666666666666666,\"#ed7953\"],[0.7777777777777778,\"#fb9f3a\"],[0.8888888888888888,\"#fdca26\"],[1.0,\"#f0f921\"]]}],\"contourcarpet\":[{\"type\":\"contourcarpet\",\"colorbar\":{\"outlinewidth\":0,\"ticks\":\"\"}}],\"contour\":[{\"type\":\"contour\",\"colorbar\":{\"outlinewidth\":0,\"ticks\":\"\"},\"colorscale\":[[0.0,\"#0d0887\"],[0.1111111111111111,\"#46039f\"],[0.2222222222222222,\"#7201a8\"],[0.3333333333333333,\"#9c179e\"],[0.4444444444444444,\"#bd3786\"],[0.5555555555555556,\"#d8576b\"],[0.6666666666666666,\"#ed7953\"],[0.7777777777777778,\"#fb9f3a\"],[0.8888888888888888,\"#fdca26\"],[1.0,\"#f0f921\"]]}],\"surface\":[{\"type\":\"surface\",\"colorbar\":{\"outlinewidth\":0,\"ticks\":\"\"},\"colorscale\":[[0.0,\"#0d0887\"],[0.1111111111111111,\"#46039f\"],[0.2222222222222222,\"#7201a8\"],[0.3333333333333333,\"#9c179e\"],[0.4444444444444444,\"#bd3786\"],[0.5555555555555556,\"#d8576b\"],[0.6666666666666666,\"#ed7953\"],[0.7777777777777778,\"#fb9f3a\"],[0.8888888888888888,\"#fdca26\"],[1.0,\"#f0f921\"]]}],\"mesh3d\":[{\"type\":\"mesh3d\",\"colorbar\":{\"outlinewidth\":0,\"ticks\":\"\"}}],\"scatter\":[{\"fillpattern\":{\"fillmode\":\"overlay\",\"size\":10,\"solidity\":0.2},\"type\":\"scatter\"}],\"parcoords\":[{\"type\":\"parcoords\",\"line\":{\"colorbar\":{\"outlinewidth\":0,\"ticks\":\"\"}}}],\"scatterpolargl\":[{\"type\":\"scatterpolargl\",\"marker\":{\"colorbar\":{\"outlinewidth\":0,\"ticks\":\"\"}}}],\"bar\":[{\"error_x\":{\"color\":\"#2a3f5f\"},\"error_y\":{\"color\":\"#2a3f5f\"},\"marker\":{\"line\":{\"color\":\"#E5ECF6\",\"width\":0.5},\"pattern\":{\"fillmode\":\"overlay\",\"size\":10,\"solidity\":0.2}},\"type\":\"bar\"}],\"scattergeo\":[{\"type\":\"scattergeo\",\"marker\":{\"colorbar\":{\"outlinewidth\":0,\"ticks\":\"\"}}}],\"scatterpolar\":[{\"type\":\"scatterpolar\",\"marker\":{\"colorbar\":{\"outlinewidth\":0,\"ticks\":\"\"}}}],\"histogram\":[{\"marker\":{\"pattern\":{\"fillmode\":\"overlay\",\"size\":10,\"solidity\":0.2}},\"type\":\"histogram\"}],\"scattergl\":[{\"type\":\"scattergl\",\"marker\":{\"colorbar\":{\"outlinewidth\":0,\"ticks\":\"\"}}}],\"scatter3d\":[{\"type\":\"scatter3d\",\"line\":{\"colorbar\":{\"outlinewidth\":0,\"ticks\":\"\"}},\"marker\":{\"colorbar\":{\"outlinewidth\":0,\"ticks\":\"\"}}}],\"scattermapbox\":[{\"type\":\"scattermapbox\",\"marker\":{\"colorbar\":{\"outlinewidth\":0,\"ticks\":\"\"}}}],\"scatterternary\":[{\"type\":\"scatterternary\",\"marker\":{\"colorbar\":{\"outlinewidth\":0,\"ticks\":\"\"}}}],\"scattercarpet\":[{\"type\":\"scattercarpet\",\"marker\":{\"colorbar\":{\"outlinewidth\":0,\"ticks\":\"\"}}}],\"carpet\":[{\"aaxis\":{\"endlinecolor\":\"#2a3f5f\",\"gridcolor\":\"white\",\"linecolor\":\"white\",\"minorgridcolor\":\"white\",\"startlinecolor\":\"#2a3f5f\"},\"baxis\":{\"endlinecolor\":\"#2a3f5f\",\"gridcolor\":\"white\",\"linecolor\":\"white\",\"minorgridcolor\":\"white\",\"startlinecolor\":\"#2a3f5f\"},\"type\":\"carpet\"}],\"table\":[{\"cells\":{\"fill\":{\"color\":\"#EBF0F8\"},\"line\":{\"color\":\"white\"}},\"header\":{\"fill\":{\"color\":\"#C8D4E3\"},\"line\":{\"color\":\"white\"}},\"type\":\"table\"}],\"barpolar\":[{\"marker\":{\"line\":{\"color\":\"#E5ECF6\",\"width\":0.5},\"pattern\":{\"fillmode\":\"overlay\",\"size\":10,\"solidity\":0.2}},\"type\":\"barpolar\"}],\"pie\":[{\"automargin\":true,\"type\":\"pie\"}]},\"layout\":{\"autotypenumbers\":\"strict\",\"colorway\":[\"#636efa\",\"#EF553B\",\"#00cc96\",\"#ab63fa\",\"#FFA15A\",\"#19d3f3\",\"#FF6692\",\"#B6E880\",\"#FF97FF\",\"#FECB52\"],\"font\":{\"color\":\"#2a3f5f\"},\"hovermode\":\"closest\",\"hoverlabel\":{\"align\":\"left\"},\"paper_bgcolor\":\"white\",\"plot_bgcolor\":\"#E5ECF6\",\"polar\":{\"bgcolor\":\"#E5ECF6\",\"angularaxis\":{\"gridcolor\":\"white\",\"linecolor\":\"white\",\"ticks\":\"\"},\"radialaxis\":{\"gridcolor\":\"white\",\"linecolor\":\"white\",\"ticks\":\"\"}},\"ternary\":{\"bgcolor\":\"#E5ECF6\",\"aaxis\":{\"gridcolor\":\"white\",\"linecolor\":\"white\",\"ticks\":\"\"},\"baxis\":{\"gridcolor\":\"white\",\"linecolor\":\"white\",\"ticks\":\"\"},\"caxis\":{\"gridcolor\":\"white\",\"linecolor\":\"white\",\"ticks\":\"\"}},\"coloraxis\":{\"colorbar\":{\"outlinewidth\":0,\"ticks\":\"\"}},\"colorscale\":{\"sequential\":[[0.0,\"#0d0887\"],[0.1111111111111111,\"#46039f\"],[0.2222222222222222,\"#7201a8\"],[0.3333333333333333,\"#9c179e\"],[0.4444444444444444,\"#bd3786\"],[0.5555555555555556,\"#d8576b\"],[0.6666666666666666,\"#ed7953\"],[0.7777777777777778,\"#fb9f3a\"],[0.8888888888888888,\"#fdca26\"],[1.0,\"#f0f921\"]],\"sequentialminus\":[[0.0,\"#0d0887\"],[0.1111111111111111,\"#46039f\"],[0.2222222222222222,\"#7201a8\"],[0.3333333333333333,\"#9c179e\"],[0.4444444444444444,\"#bd3786\"],[0.5555555555555556,\"#d8576b\"],[0.6666666666666666,\"#ed7953\"],[0.7777777777777778,\"#fb9f3a\"],[0.8888888888888888,\"#fdca26\"],[1.0,\"#f0f921\"]],\"diverging\":[[0,\"#8e0152\"],[0.1,\"#c51b7d\"],[0.2,\"#de77ae\"],[0.3,\"#f1b6da\"],[0.4,\"#fde0ef\"],[0.5,\"#f7f7f7\"],[0.6,\"#e6f5d0\"],[0.7,\"#b8e186\"],[0.8,\"#7fbc41\"],[0.9,\"#4d9221\"],[1,\"#276419\"]]},\"xaxis\":{\"gridcolor\":\"white\",\"linecolor\":\"white\",\"ticks\":\"\",\"title\":{\"standoff\":15},\"zerolinecolor\":\"white\",\"automargin\":true,\"zerolinewidth\":2},\"yaxis\":{\"gridcolor\":\"white\",\"linecolor\":\"white\",\"ticks\":\"\",\"title\":{\"standoff\":15},\"zerolinecolor\":\"white\",\"automargin\":true,\"zerolinewidth\":2},\"scene\":{\"xaxis\":{\"backgroundcolor\":\"#E5ECF6\",\"gridcolor\":\"white\",\"linecolor\":\"white\",\"showbackground\":true,\"ticks\":\"\",\"zerolinecolor\":\"white\",\"gridwidth\":2},\"yaxis\":{\"backgroundcolor\":\"#E5ECF6\",\"gridcolor\":\"white\",\"linecolor\":\"white\",\"showbackground\":true,\"ticks\":\"\",\"zerolinecolor\":\"white\",\"gridwidth\":2},\"zaxis\":{\"backgroundcolor\":\"#E5ECF6\",\"gridcolor\":\"white\",\"linecolor\":\"white\",\"showbackground\":true,\"ticks\":\"\",\"zerolinecolor\":\"white\",\"gridwidth\":2}},\"shapedefaults\":{\"line\":{\"color\":\"#2a3f5f\"}},\"annotationdefaults\":{\"arrowcolor\":\"#2a3f5f\",\"arrowhead\":0,\"arrowwidth\":1},\"geo\":{\"bgcolor\":\"white\",\"landcolor\":\"#E5ECF6\",\"subunitcolor\":\"white\",\"showland\":true,\"showlakes\":true,\"lakecolor\":\"white\"},\"title\":{\"x\":0.05},\"mapbox\":{\"style\":\"light\"}}},\"xaxis\":{\"anchor\":\"y\",\"domain\":[0.0,1.0],\"title\":{\"text\":\"PC1 39.6%\"}},\"yaxis\":{\"anchor\":\"x\",\"domain\":[0.0,1.0],\"title\":{\"text\":\"PC2 28.6%\"}},\"legend\":{\"title\":{\"text\":\"color\"},\"tracegroupgap\":0},\"margin\":{\"t\":60},\"title\":{\"text\":\"Soil Microbes by Site without Reduction\"}},                        {\"responsive\": true}                    ).then(function(){\n",
       "                            \n",
       "var gd = document.getElementById('36f3b9ce-72d3-43b2-8464-b187c5b9921e');\n",
       "var x = new MutationObserver(function (mutations, observer) {{\n",
       "        var display = window.getComputedStyle(gd).display;\n",
       "        if (!display || display === 'none') {{\n",
       "            console.log([gd, 'removed!']);\n",
       "            Plotly.purge(gd);\n",
       "            observer.disconnect();\n",
       "        }}\n",
       "}});\n",
       "\n",
       "// Listen for the removal of the full notebook cells\n",
       "var notebookContainer = gd.closest('#notebook-container');\n",
       "if (notebookContainer) {{\n",
       "    x.observe(notebookContainer, {childList: true});\n",
       "}}\n",
       "\n",
       "// Listen for the clearing of the current output cell\n",
       "var outputEl = gd.closest('.output');\n",
       "if (outputEl) {{\n",
       "    x.observe(outputEl, {childList: true});\n",
       "}}\n",
       "\n",
       "                        })                };                });            </script>        </div>"
      ]
     },
     "metadata": {},
     "output_type": "display_data"
    }
   ],
   "source": [
    "X = pc1_df[genera_col]\n",
    "\n",
    "pca = PCA(n_components=2)\n",
    "components = pca.fit_transform(X)\n",
    "\n",
    "fig = px.scatter(components, x=0, y=1, color=pc1_df['site_id'])\n",
    "fig.update_layout(\n",
    "    title = \"Soil Microbes by Site without Reduction\",\n",
    "    xaxis_title=\"PC1 \" + str(round(100*pca.explained_variance_ratio_[0], 1)) + '%',\n",
    "    yaxis_title=\"PC2 \" + str(round(100*pca.explained_variance_ratio_[1], 1)) + '%')\n",
    "fig.show()"
   ]
  },
  {
   "cell_type": "code",
   "execution_count": 12,
   "id": "8f872d98",
   "metadata": {},
   "outputs": [],
   "source": [
    "### Keeping top 1000 most common genera"
   ]
  },
  {
   "cell_type": "code",
   "execution_count": 52,
   "id": "73f0c7ff",
   "metadata": {},
   "outputs": [],
   "source": [
    "pc2_df = pivoted_df.copy()"
   ]
  },
  {
   "cell_type": "code",
   "execution_count": 53,
   "id": "02487664",
   "metadata": {},
   "outputs": [],
   "source": [
    "sum_col = pc2_df[genera_col].sum()\n",
    "top_100 = sum_col.nlargest(50)\n",
    "select_columns = (top_100.index).tolist()\n",
    "select_columns.insert(0, 'V2')\n",
    "select_columns.insert(0, 'sample_id')\n",
    "select_columns.insert(0, 'site_id')\n",
    "select_columns.insert(0, 'species')\n",
    "select_columns.insert(0, 'collect_date')\n",
    "pc2_df = pc2_df[select_columns]"
   ]
  },
  {
   "cell_type": "code",
   "execution_count": 54,
   "id": "e70af845",
   "metadata": {},
   "outputs": [
    {
     "data": {
      "text/html": [
       "<div>\n",
       "<style scoped>\n",
       "    .dataframe tbody tr th:only-of-type {\n",
       "        vertical-align: middle;\n",
       "    }\n",
       "\n",
       "    .dataframe tbody tr th {\n",
       "        vertical-align: top;\n",
       "    }\n",
       "\n",
       "    .dataframe thead th {\n",
       "        text-align: right;\n",
       "    }\n",
       "</style>\n",
       "<table border=\"1\" class=\"dataframe\">\n",
       "  <thead>\n",
       "    <tr style=\"text-align: right;\">\n",
       "      <th>genera</th>\n",
       "      <th>collect_date</th>\n",
       "      <th>species</th>\n",
       "      <th>site_id</th>\n",
       "      <th>sample_id</th>\n",
       "      <th>V2</th>\n",
       "      <th>Bacteria|Proteobacteria|Alphaproteobacteria|Rhizobiales|Bradyrhizobiaceae|Bradyrhizobium</th>\n",
       "      <th>Bacteria|Actinobacteria|Actinobacteria|Streptomycetales|Streptomycetaceae|Streptomyces</th>\n",
       "      <th>Bacteria|Cyanobacteria||Synechococcales|Synechococcaceae|Synechococcus</th>\n",
       "      <th>Bacteria|Proteobacteria|Gammaproteobacteria|Pseudomonadales|Pseudomonadaceae|Pseudomonas</th>\n",
       "      <th>Bacteria|Cyanobacteria||Synechococcales|Synechococcaceae|Thermosynechococcus</th>\n",
       "      <th>...</th>\n",
       "      <th>Bacteria|Proteobacteria|Alphaproteobacteria|Caulobacterales|Caulobacteraceae|Brevundimonas</th>\n",
       "      <th>Bacteria|Tenericutes|Mollicutes|Entomoplasmatales|Spiroplasmataceae|Spiroplasma</th>\n",
       "      <th>Bacteria|Actinobacteria|Actinobacteria|Micromonosporales|Micromonosporaceae|Plantactinospora</th>\n",
       "      <th>Bacteria|Actinobacteria|Actinobacteria|Micrococcales|Micrococcaceae|Arthrobacter</th>\n",
       "      <th>Bacteria|Firmicutes|Bacilli|Bacillales|Staphylococcaceae|Staphylococcus</th>\n",
       "      <th>Bacteria|Firmicutes|Bacilli|Bacillales|Bacillaceae|Bacillus</th>\n",
       "      <th>Bacteria|Actinobacteria|Actinobacteria|Corynebacteriales|Nocardiaceae|Rhodococcus</th>\n",
       "      <th>Bacteria|Proteobacteria|Betaproteobacteria|Rhodocyclales|Zoogloeaceae|Azoarcus</th>\n",
       "      <th>Bacteria|Proteobacteria|Betaproteobacteria|Burkholderiales|Alcaligenaceae|Bordetella</th>\n",
       "      <th>Bacteria|Bacteroidetes|Flavobacteriia|Flavobacteriales|Flavobacteriaceae|Flavobacterium</th>\n",
       "    </tr>\n",
       "  </thead>\n",
       "  <tbody>\n",
       "    <tr>\n",
       "      <th>0</th>\n",
       "      <td>6/29/2021</td>\n",
       "      <td>syriaca</td>\n",
       "      <td>CMB</td>\n",
       "      <td>CMB10</td>\n",
       "      <td>0.999777</td>\n",
       "      <td>0.093727</td>\n",
       "      <td>0.080597</td>\n",
       "      <td>0.000510</td>\n",
       "      <td>0.024729</td>\n",
       "      <td>0.000000</td>\n",
       "      <td>...</td>\n",
       "      <td>0.006899</td>\n",
       "      <td>0.000000</td>\n",
       "      <td>0.003892</td>\n",
       "      <td>0.001793</td>\n",
       "      <td>0.00000</td>\n",
       "      <td>0.000429</td>\n",
       "      <td>0.007131</td>\n",
       "      <td>0.006186</td>\n",
       "      <td>0.004675</td>\n",
       "      <td>0.000364</td>\n",
       "    </tr>\n",
       "    <tr>\n",
       "      <th>1</th>\n",
       "      <td>6/29/2021</td>\n",
       "      <td>syriaca</td>\n",
       "      <td>CMB</td>\n",
       "      <td>CMB11</td>\n",
       "      <td>1.000000</td>\n",
       "      <td>0.097675</td>\n",
       "      <td>0.082029</td>\n",
       "      <td>0.000599</td>\n",
       "      <td>0.033588</td>\n",
       "      <td>0.000049</td>\n",
       "      <td>...</td>\n",
       "      <td>0.006570</td>\n",
       "      <td>0.000000</td>\n",
       "      <td>0.005160</td>\n",
       "      <td>0.001533</td>\n",
       "      <td>0.00000</td>\n",
       "      <td>0.000495</td>\n",
       "      <td>0.007736</td>\n",
       "      <td>0.005828</td>\n",
       "      <td>0.004207</td>\n",
       "      <td>0.000669</td>\n",
       "    </tr>\n",
       "    <tr>\n",
       "      <th>2</th>\n",
       "      <td>6/29/2021</td>\n",
       "      <td>syriaca</td>\n",
       "      <td>CMB</td>\n",
       "      <td>CMB13</td>\n",
       "      <td>0.989131</td>\n",
       "      <td>0.122075</td>\n",
       "      <td>0.100412</td>\n",
       "      <td>0.000539</td>\n",
       "      <td>0.031240</td>\n",
       "      <td>0.000000</td>\n",
       "      <td>...</td>\n",
       "      <td>0.003747</td>\n",
       "      <td>0.000000</td>\n",
       "      <td>0.003164</td>\n",
       "      <td>0.002357</td>\n",
       "      <td>0.00000</td>\n",
       "      <td>0.000862</td>\n",
       "      <td>0.007590</td>\n",
       "      <td>0.003457</td>\n",
       "      <td>0.005725</td>\n",
       "      <td>0.001261</td>\n",
       "    </tr>\n",
       "    <tr>\n",
       "      <th>3</th>\n",
       "      <td>6/29/2021</td>\n",
       "      <td>syriaca</td>\n",
       "      <td>CMB</td>\n",
       "      <td>CMB15</td>\n",
       "      <td>0.998548</td>\n",
       "      <td>0.149311</td>\n",
       "      <td>0.080603</td>\n",
       "      <td>0.000000</td>\n",
       "      <td>0.067397</td>\n",
       "      <td>0.000000</td>\n",
       "      <td>...</td>\n",
       "      <td>0.006756</td>\n",
       "      <td>0.000000</td>\n",
       "      <td>0.004207</td>\n",
       "      <td>0.002506</td>\n",
       "      <td>0.00000</td>\n",
       "      <td>0.001367</td>\n",
       "      <td>0.006340</td>\n",
       "      <td>0.003429</td>\n",
       "      <td>0.004054</td>\n",
       "      <td>0.000214</td>\n",
       "    </tr>\n",
       "    <tr>\n",
       "      <th>4</th>\n",
       "      <td>6/29/2021</td>\n",
       "      <td>syriaca</td>\n",
       "      <td>CMB</td>\n",
       "      <td>CMB16</td>\n",
       "      <td>0.999243</td>\n",
       "      <td>0.098761</td>\n",
       "      <td>0.092399</td>\n",
       "      <td>0.000494</td>\n",
       "      <td>0.049438</td>\n",
       "      <td>0.000000</td>\n",
       "      <td>...</td>\n",
       "      <td>0.005863</td>\n",
       "      <td>0.000077</td>\n",
       "      <td>0.005523</td>\n",
       "      <td>0.001797</td>\n",
       "      <td>0.00004</td>\n",
       "      <td>0.001907</td>\n",
       "      <td>0.007864</td>\n",
       "      <td>0.005000</td>\n",
       "      <td>0.005478</td>\n",
       "      <td>0.002379</td>\n",
       "    </tr>\n",
       "  </tbody>\n",
       "</table>\n",
       "<p>5 rows × 55 columns</p>\n",
       "</div>"
      ],
      "text/plain": [
       "genera collect_date  species site_id sample_id        V2  \\\n",
       "0         6/29/2021  syriaca     CMB     CMB10  0.999777   \n",
       "1         6/29/2021  syriaca     CMB     CMB11  1.000000   \n",
       "2         6/29/2021  syriaca     CMB     CMB13  0.989131   \n",
       "3         6/29/2021  syriaca     CMB     CMB15  0.998548   \n",
       "4         6/29/2021  syriaca     CMB     CMB16  0.999243   \n",
       "\n",
       "genera  Bacteria|Proteobacteria|Alphaproteobacteria|Rhizobiales|Bradyrhizobiaceae|Bradyrhizobium  \\\n",
       "0                                                0.093727                                          \n",
       "1                                                0.097675                                          \n",
       "2                                                0.122075                                          \n",
       "3                                                0.149311                                          \n",
       "4                                                0.098761                                          \n",
       "\n",
       "genera  Bacteria|Actinobacteria|Actinobacteria|Streptomycetales|Streptomycetaceae|Streptomyces  \\\n",
       "0                                                0.080597                                        \n",
       "1                                                0.082029                                        \n",
       "2                                                0.100412                                        \n",
       "3                                                0.080603                                        \n",
       "4                                                0.092399                                        \n",
       "\n",
       "genera  Bacteria|Cyanobacteria||Synechococcales|Synechococcaceae|Synechococcus  \\\n",
       "0                                                0.000510                        \n",
       "1                                                0.000599                        \n",
       "2                                                0.000539                        \n",
       "3                                                0.000000                        \n",
       "4                                                0.000494                        \n",
       "\n",
       "genera  Bacteria|Proteobacteria|Gammaproteobacteria|Pseudomonadales|Pseudomonadaceae|Pseudomonas  \\\n",
       "0                                                0.024729                                          \n",
       "1                                                0.033588                                          \n",
       "2                                                0.031240                                          \n",
       "3                                                0.067397                                          \n",
       "4                                                0.049438                                          \n",
       "\n",
       "genera  Bacteria|Cyanobacteria||Synechococcales|Synechococcaceae|Thermosynechococcus  \\\n",
       "0                                                0.000000                              \n",
       "1                                                0.000049                              \n",
       "2                                                0.000000                              \n",
       "3                                                0.000000                              \n",
       "4                                                0.000000                              \n",
       "\n",
       "genera  ...  \\\n",
       "0       ...   \n",
       "1       ...   \n",
       "2       ...   \n",
       "3       ...   \n",
       "4       ...   \n",
       "\n",
       "genera  Bacteria|Proteobacteria|Alphaproteobacteria|Caulobacterales|Caulobacteraceae|Brevundimonas  \\\n",
       "0                                                0.006899                                            \n",
       "1                                                0.006570                                            \n",
       "2                                                0.003747                                            \n",
       "3                                                0.006756                                            \n",
       "4                                                0.005863                                            \n",
       "\n",
       "genera  Bacteria|Tenericutes|Mollicutes|Entomoplasmatales|Spiroplasmataceae|Spiroplasma  \\\n",
       "0                                                0.000000                                 \n",
       "1                                                0.000000                                 \n",
       "2                                                0.000000                                 \n",
       "3                                                0.000000                                 \n",
       "4                                                0.000077                                 \n",
       "\n",
       "genera  Bacteria|Actinobacteria|Actinobacteria|Micromonosporales|Micromonosporaceae|Plantactinospora  \\\n",
       "0                                                0.003892                                              \n",
       "1                                                0.005160                                              \n",
       "2                                                0.003164                                              \n",
       "3                                                0.004207                                              \n",
       "4                                                0.005523                                              \n",
       "\n",
       "genera  Bacteria|Actinobacteria|Actinobacteria|Micrococcales|Micrococcaceae|Arthrobacter  \\\n",
       "0                                                0.001793                                  \n",
       "1                                                0.001533                                  \n",
       "2                                                0.002357                                  \n",
       "3                                                0.002506                                  \n",
       "4                                                0.001797                                  \n",
       "\n",
       "genera  Bacteria|Firmicutes|Bacilli|Bacillales|Staphylococcaceae|Staphylococcus  \\\n",
       "0                                                 0.00000                         \n",
       "1                                                 0.00000                         \n",
       "2                                                 0.00000                         \n",
       "3                                                 0.00000                         \n",
       "4                                                 0.00004                         \n",
       "\n",
       "genera  Bacteria|Firmicutes|Bacilli|Bacillales|Bacillaceae|Bacillus  \\\n",
       "0                                                0.000429             \n",
       "1                                                0.000495             \n",
       "2                                                0.000862             \n",
       "3                                                0.001367             \n",
       "4                                                0.001907             \n",
       "\n",
       "genera  Bacteria|Actinobacteria|Actinobacteria|Corynebacteriales|Nocardiaceae|Rhodococcus  \\\n",
       "0                                                0.007131                                   \n",
       "1                                                0.007736                                   \n",
       "2                                                0.007590                                   \n",
       "3                                                0.006340                                   \n",
       "4                                                0.007864                                   \n",
       "\n",
       "genera  Bacteria|Proteobacteria|Betaproteobacteria|Rhodocyclales|Zoogloeaceae|Azoarcus  \\\n",
       "0                                                0.006186                                \n",
       "1                                                0.005828                                \n",
       "2                                                0.003457                                \n",
       "3                                                0.003429                                \n",
       "4                                                0.005000                                \n",
       "\n",
       "genera  Bacteria|Proteobacteria|Betaproteobacteria|Burkholderiales|Alcaligenaceae|Bordetella  \\\n",
       "0                                                0.004675                                      \n",
       "1                                                0.004207                                      \n",
       "2                                                0.005725                                      \n",
       "3                                                0.004054                                      \n",
       "4                                                0.005478                                      \n",
       "\n",
       "genera  Bacteria|Bacteroidetes|Flavobacteriia|Flavobacteriales|Flavobacteriaceae|Flavobacterium  \n",
       "0                                                0.000364                                        \n",
       "1                                                0.000669                                        \n",
       "2                                                0.001261                                        \n",
       "3                                                0.000214                                        \n",
       "4                                                0.002379                                        \n",
       "\n",
       "[5 rows x 55 columns]"
      ]
     },
     "execution_count": 54,
     "metadata": {},
     "output_type": "execute_result"
    }
   ],
   "source": [
    "pc2_df.head()"
   ]
  },
  {
   "cell_type": "code",
   "execution_count": 55,
   "id": "a961265d",
   "metadata": {},
   "outputs": [],
   "source": [
    "pc2_df[top_100.index] = StandardScaler().fit_transform(pc2_df[top_100.index])  "
   ]
  },
  {
   "cell_type": "code",
   "execution_count": 57,
   "id": "c0632f1a",
   "metadata": {},
   "outputs": [
    {
     "data": {
      "application/vnd.plotly.v1+json": {
       "config": {
        "plotlyServerURL": "https://plot.ly"
       },
       "data": [
        {
         "hovertemplate": "color=CMB<br>0=%{x}<br>1=%{y}<extra></extra>",
         "legendgroup": "CMB",
         "marker": {
          "color": "#636efa",
          "symbol": "circle"
         },
         "mode": "markers",
         "name": "CMB",
         "orientation": "v",
         "showlegend": true,
         "type": "scatter",
         "x": [
          -2.766949325557418,
          -3.0102698823689766,
          -2.6242922717118478,
          -2.7836750206192886,
          -2.9694759049727986,
          -2.471247593550828,
          -3.222027248370294,
          -2.49809300388573,
          -3.4399508242373735,
          -2.4322607210210205,
          -2.708441995789839,
          -3.0645533390928605,
          -2.7518911049018255,
          -3.279037699902511,
          -3.03448018060095,
          -3.187092972550786,
          -3.0540690050293238,
          -2.962055150264927,
          -2.8926710070902564
         ],
         "xaxis": "x",
         "y": [
          -1.1329556864060837,
          -0.9767625070859406,
          -1.5284954057101796,
          -2.1062314773200863,
          -1.4906639023998969,
          -0.7484907833036215,
          0.17412445270048976,
          -1.564970976188286,
          -2.6887166104646085,
          -1.6352617026928977,
          -1.354039463353913,
          -0.8930161016269053,
          -1.4172158822500798,
          0.4533694368497477,
          -0.7997126735156163,
          -1.1460394979239827,
          -0.43572803015188194,
          -1.8213591744564412,
          0.39682872231718924
         ],
         "yaxis": "y"
        },
        {
         "hovertemplate": "color=FRW<br>0=%{x}<br>1=%{y}<extra></extra>",
         "legendgroup": "FRW",
         "marker": {
          "color": "#EF553B",
          "symbol": "circle"
         },
         "mode": "markers",
         "name": "FRW",
         "orientation": "v",
         "showlegend": true,
         "type": "scatter",
         "x": [
          6.9888524483545975,
          7.984619392174669,
          7.175205076265719,
          7.235799353615583,
          6.9980881507508785,
          6.514767084516357,
          7.666942927681191,
          6.805355113736811,
          7.638626955355019,
          7.0831570400509625,
          7.023707462712814
         ],
         "xaxis": "x",
         "y": [
          0.24468035528129187,
          0.8317293860233627,
          0.8645868955537732,
          -0.10421122981277448,
          0.6458793043019297,
          0.3618860912617387,
          0.6389486301778502,
          0.9611827528301753,
          0.250643295039816,
          0.132434000667533,
          0.6211851840018914
         ],
         "yaxis": "y"
        },
        {
         "hovertemplate": "color=HR<br>0=%{x}<br>1=%{y}<extra></extra>",
         "legendgroup": "HR",
         "marker": {
          "color": "#00cc96",
          "symbol": "circle"
         },
         "mode": "markers",
         "name": "HR",
         "orientation": "v",
         "showlegend": true,
         "type": "scatter",
         "x": [
          -1.5322025711059226,
          -0.27651271405287836,
          -4.998053174342768,
          -2.274749532505776
         ],
         "xaxis": "x",
         "y": [
          -2.6136964679867902,
          -1.0640994811166617,
          7.948813776704856,
          5.635757269589549
         ],
         "yaxis": "y"
        },
        {
         "hovertemplate": "color=LFS<br>0=%{x}<br>1=%{y}<extra></extra>",
         "legendgroup": "LFS",
         "marker": {
          "color": "#ab63fa",
          "symbol": "circle"
         },
         "mode": "markers",
         "name": "LFS",
         "orientation": "v",
         "showlegend": true,
         "type": "scatter",
         "x": [
          -3.3353984541061736,
          -3.0210420921455245,
          -3.2053132099739123,
          -4.059679352062997,
          -3.652931683612192,
          -3.5006353185382184,
          -3.4649792252990803,
          -2.897796379720793,
          -3.585442381593115,
          -3.672933410302723,
          -3.583394466841224,
          -3.57545058904773,
          -3.899096070807175
         ],
         "xaxis": "x",
         "y": [
          -0.9448126394620983,
          -0.9882633859870184,
          0.8161544914931309,
          2.9324442700379727,
          0.37942128374169126,
          -0.4938313411606868,
          -0.622041665754411,
          1.7989557866310317,
          1.0297067906121133,
          0.9268929041235968,
          1.1284763598078136,
          0.5207251423105421,
          0.6621439133026522
         ],
         "yaxis": "y"
        },
        {
         "hovertemplate": "color=LM<br>0=%{x}<br>1=%{y}<extra></extra>",
         "legendgroup": "LM",
         "marker": {
          "color": "#FFA15A",
          "symbol": "circle"
         },
         "mode": "markers",
         "name": "LM",
         "orientation": "v",
         "showlegend": true,
         "type": "scatter",
         "x": [
          -2.837455890580318,
          -3.3108567575076338,
          -3.6637649318826253,
          -3.6989915807762515,
          -3.42185196837656,
          -3.5907495769707802,
          -3.4530369351759953,
          -3.78803102219061,
          -3.884221572425598,
          -3.410055432831883,
          -3.4605420672663,
          -3.1985840712823315,
          -3.2357902449675224,
          -4.216314254688947,
          -3.2084439341546136,
          -2.4261159971915425,
          -2.6276865376817446,
          -3.475970751655931,
          -3.896493920858417
         ],
         "xaxis": "x",
         "y": [
          -0.9863102792188982,
          1.5166460738420966,
          1.5572676162069048,
          1.0365886004879012,
          2.1277496950669956,
          1.3135381897490501,
          2.7952280761749018,
          2.3627907987432386,
          3.36935208420235,
          1.4053107125318811,
          1.5720382738622714,
          0.6356358571212276,
          0.23006411782889657,
          2.7127723922719884,
          0.9025405184306375,
          -0.6076267571445774,
          -1.379382963442512,
          0.7678173793247355,
          2.721157866373288
         ],
         "yaxis": "y"
        },
        {
         "hovertemplate": "color=MKP<br>0=%{x}<br>1=%{y}<extra></extra>",
         "legendgroup": "MKP",
         "marker": {
          "color": "#19d3f3",
          "symbol": "circle"
         },
         "mode": "markers",
         "name": "MKP",
         "orientation": "v",
         "showlegend": true,
         "type": "scatter",
         "x": [
          1.1092192818225741,
          -3.2075554752255364,
          -4.3441466308290755,
          -3.980050055807737,
          -4.218686193544584,
          -1.9111374487577355,
          -5.144904114589273,
          -5.806572014276334
         ],
         "xaxis": "x",
         "y": [
          -5.170748830020093,
          -0.13292157076844197,
          4.964959806081502,
          2.8453831341608318,
          4.8036440573036145,
          -0.7154719126595035,
          6.699018606164842,
          8.768625511919808
         ],
         "yaxis": "y"
        },
        {
         "hovertemplate": "color=MMP<br>0=%{x}<br>1=%{y}<extra></extra>",
         "legendgroup": "MMP",
         "marker": {
          "color": "#FF6692",
          "symbol": "circle"
         },
         "mode": "markers",
         "name": "MMP",
         "orientation": "v",
         "showlegend": true,
         "type": "scatter",
         "x": [
          -2.9875037985313657,
          -2.855016621074362,
          -2.929992510075394,
          -3.113651634957121,
          -3.1663294549063434,
          -3.2149623107795806,
          -2.5580338260757594,
          -2.8549579813761383,
          -3.7501022542164106,
          -2.58098821835061,
          -3.939153575965712,
          -3.079764974633253,
          -3.172605821614522,
          -3.071928495928794,
          -3.125947495137084,
          -2.8092889794710483,
          -2.6363814608011746,
          -3.7414811322234143,
          -3.1768590373357974
         ],
         "xaxis": "x",
         "y": [
          -1.8065277515386604,
          -2.0971809816190947,
          -1.0184618556426754,
          -1.129392386184405,
          -0.3360646190539052,
          -0.4787000681315821,
          -2.7816711767882616,
          -3.475888035786455,
          1.1493529178798318,
          -1.879325265581921,
          0.8590358427976815,
          -1.3702995676999117,
          -1.8214679448445468,
          -1.627829339509529,
          -0.4831842832074873,
          -1.0594744724240435,
          -1.4636625035786588,
          -0.21319436013386037,
          -0.5174108209834227
         ],
         "yaxis": "y"
        },
        {
         "hovertemplate": "color=PNR<br>0=%{x}<br>1=%{y}<extra></extra>",
         "legendgroup": "PNR",
         "marker": {
          "color": "#B6E880",
          "symbol": "circle"
         },
         "mode": "markers",
         "name": "PNR",
         "orientation": "v",
         "showlegend": true,
         "type": "scatter",
         "x": [
          7.52140867053533,
          7.532474987945425,
          6.259455652502261
         ],
         "xaxis": "x",
         "y": [
          0.9933995347830821,
          0.2961038275578962,
          0.46820474807932033
         ],
         "yaxis": "y"
        },
        {
         "hovertemplate": "color=PTW<br>0=%{x}<br>1=%{y}<extra></extra>",
         "legendgroup": "PTW",
         "marker": {
          "color": "#FF97FF",
          "symbol": "circle"
         },
         "mode": "markers",
         "name": "PTW",
         "orientation": "v",
         "showlegend": true,
         "type": "scatter",
         "x": [
          -3.7848151020629905,
          -2.7879372255254364,
          -3.594228083520011,
          -3.3455960880299487,
          -3.3151190765889593,
          -2.770239304543261,
          -2.6092927633193552,
          -3.1644896646744143
         ],
         "xaxis": "x",
         "y": [
          1.8273929508797913,
          -0.28479935794698724,
          1.3487500540256459,
          -0.5994797607153913,
          0.48994331826998333,
          -0.3757540542540745,
          -0.8311988986469716,
          -1.1759364775719725
         ],
         "yaxis": "y"
        },
        {
         "hovertemplate": "color=RF<br>0=%{x}<br>1=%{y}<extra></extra>",
         "legendgroup": "RF",
         "marker": {
          "color": "#FECB52",
          "symbol": "circle"
         },
         "mode": "markers",
         "name": "RF",
         "orientation": "v",
         "showlegend": true,
         "type": "scatter",
         "x": [
          7.446042520619313,
          8.137715974937331,
          7.268357424683368,
          7.518737209709857,
          6.9409257807799225,
          7.942583512314854,
          7.785621188569858,
          7.246964916257829,
          7.4992611043374975,
          6.8623469974487055,
          7.200233010078055
         ],
         "xaxis": "x",
         "y": [
          0.6882472362655192,
          1.371871019730572,
          0.7960713367367289,
          0.5021582570473725,
          0.14961618546395433,
          0.7190078208721362,
          0.7973411416047586,
          0.5431983987488759,
          0.14910781403754353,
          0.0026150065143194486,
          0.5656185546103235
         ],
         "yaxis": "y"
        },
        {
         "hovertemplate": "color=RGT<br>0=%{x}<br>1=%{y}<extra></extra>",
         "legendgroup": "RGT",
         "marker": {
          "color": "#636efa",
          "symbol": "circle"
         },
         "mode": "markers",
         "name": "RGT",
         "orientation": "v",
         "showlegend": true,
         "type": "scatter",
         "x": [
          -3.2718730079959046,
          -3.2333719826193303,
          -3.0510769958063464,
          -2.7672793199463572,
          -2.821198517880578
         ],
         "xaxis": "x",
         "y": [
          1.7031845869201805,
          0.8325256300305968,
          -1.2044200681970556,
          -1.4923277298193387,
          -0.3373969867061353
         ],
         "yaxis": "y"
        },
        {
         "hovertemplate": "color=RRL<br>0=%{x}<br>1=%{y}<extra></extra>",
         "legendgroup": "RRL",
         "marker": {
          "color": "#EF553B",
          "symbol": "circle"
         },
         "mode": "markers",
         "name": "RRL",
         "orientation": "v",
         "showlegend": true,
         "type": "scatter",
         "x": [
          1.7832036488378478,
          1.6314249389209967,
          2.0605537859108978,
          0.8579719984456516,
          0.8064206625296649,
          -1.4753702955485215,
          -2.686041658902616,
          -2.0507041798181493,
          -2.3359089677254388,
          -2.7798568272909545,
          -0.7672772316118782,
          -2.7426481858896268,
          -2.2511162963768743,
          -1.07782409640346,
          1.128988895220022,
          0.2991733196141978,
          1.1676828312062,
          0.04996349418779609,
          1.0254524734430355
         ],
         "xaxis": "x",
         "y": [
          -1.6940483233629355,
          -2.9617217891799665,
          -1.9704647386379575,
          -2.733648834681918,
          0.13585389601427944,
          -5.605881978667863,
          -4.404908908476941,
          -3.671817061688089,
          -4.477288396649746,
          0.22134910409796094,
          -3.6973157744016802,
          0.9031100503135701,
          -0.5761892239859405,
          -0.0737801039569728,
          -1.6988139114331928,
          -4.168753669086673,
          -1.9136702350932404,
          -3.6110159454660944,
          -2.3655237223016274
         ],
         "yaxis": "y"
        },
        {
         "hovertemplate": "color=SLG<br>0=%{x}<br>1=%{y}<extra></extra>",
         "legendgroup": "SLG",
         "marker": {
          "color": "#00cc96",
          "symbol": "circle"
         },
         "mode": "markers",
         "name": "SLG",
         "orientation": "v",
         "showlegend": true,
         "type": "scatter",
         "x": [
          7.7222749990006845,
          7.665690535512341,
          7.436520465422256,
          7.610556336758438,
          7.268114110943039,
          7.383046377427108,
          7.451021926893495,
          7.271774767220431,
          7.239487681916262,
          7.492184943928224,
          7.319332095606767,
          7.375470572203252,
          7.315683120493211,
          7.610511657068463,
          7.371101611077055,
          7.280761819191584,
          7.543530407871496
         ],
         "xaxis": "x",
         "y": [
          0.8151175676482648,
          0.19620770893934153,
          0.5799360026353937,
          0.7556582277389362,
          0.617980216053853,
          0.40815498958371665,
          0.8469749181278114,
          0.45058208758508467,
          0.6067296585698811,
          0.5524647420636378,
          0.8657735709029973,
          0.21531355373379618,
          0.6052480776639069,
          0.498911368222622,
          0.9283926765301442,
          0.6080339339166054,
          0.5193313866134561
         ],
         "yaxis": "y"
        }
       ],
       "layout": {
        "legend": {
         "title": {
          "text": "color"
         },
         "tracegroupgap": 0
        },
        "margin": {
         "t": 60
        },
        "template": {
         "data": {
          "bar": [
           {
            "error_x": {
             "color": "#2a3f5f"
            },
            "error_y": {
             "color": "#2a3f5f"
            },
            "marker": {
             "line": {
              "color": "#E5ECF6",
              "width": 0.5
             },
             "pattern": {
              "fillmode": "overlay",
              "size": 10,
              "solidity": 0.2
             }
            },
            "type": "bar"
           }
          ],
          "barpolar": [
           {
            "marker": {
             "line": {
              "color": "#E5ECF6",
              "width": 0.5
             },
             "pattern": {
              "fillmode": "overlay",
              "size": 10,
              "solidity": 0.2
             }
            },
            "type": "barpolar"
           }
          ],
          "carpet": [
           {
            "aaxis": {
             "endlinecolor": "#2a3f5f",
             "gridcolor": "white",
             "linecolor": "white",
             "minorgridcolor": "white",
             "startlinecolor": "#2a3f5f"
            },
            "baxis": {
             "endlinecolor": "#2a3f5f",
             "gridcolor": "white",
             "linecolor": "white",
             "minorgridcolor": "white",
             "startlinecolor": "#2a3f5f"
            },
            "type": "carpet"
           }
          ],
          "choropleth": [
           {
            "colorbar": {
             "outlinewidth": 0,
             "ticks": ""
            },
            "type": "choropleth"
           }
          ],
          "contour": [
           {
            "colorbar": {
             "outlinewidth": 0,
             "ticks": ""
            },
            "colorscale": [
             [
              0,
              "#0d0887"
             ],
             [
              0.1111111111111111,
              "#46039f"
             ],
             [
              0.2222222222222222,
              "#7201a8"
             ],
             [
              0.3333333333333333,
              "#9c179e"
             ],
             [
              0.4444444444444444,
              "#bd3786"
             ],
             [
              0.5555555555555556,
              "#d8576b"
             ],
             [
              0.6666666666666666,
              "#ed7953"
             ],
             [
              0.7777777777777778,
              "#fb9f3a"
             ],
             [
              0.8888888888888888,
              "#fdca26"
             ],
             [
              1,
              "#f0f921"
             ]
            ],
            "type": "contour"
           }
          ],
          "contourcarpet": [
           {
            "colorbar": {
             "outlinewidth": 0,
             "ticks": ""
            },
            "type": "contourcarpet"
           }
          ],
          "heatmap": [
           {
            "colorbar": {
             "outlinewidth": 0,
             "ticks": ""
            },
            "colorscale": [
             [
              0,
              "#0d0887"
             ],
             [
              0.1111111111111111,
              "#46039f"
             ],
             [
              0.2222222222222222,
              "#7201a8"
             ],
             [
              0.3333333333333333,
              "#9c179e"
             ],
             [
              0.4444444444444444,
              "#bd3786"
             ],
             [
              0.5555555555555556,
              "#d8576b"
             ],
             [
              0.6666666666666666,
              "#ed7953"
             ],
             [
              0.7777777777777778,
              "#fb9f3a"
             ],
             [
              0.8888888888888888,
              "#fdca26"
             ],
             [
              1,
              "#f0f921"
             ]
            ],
            "type": "heatmap"
           }
          ],
          "heatmapgl": [
           {
            "colorbar": {
             "outlinewidth": 0,
             "ticks": ""
            },
            "colorscale": [
             [
              0,
              "#0d0887"
             ],
             [
              0.1111111111111111,
              "#46039f"
             ],
             [
              0.2222222222222222,
              "#7201a8"
             ],
             [
              0.3333333333333333,
              "#9c179e"
             ],
             [
              0.4444444444444444,
              "#bd3786"
             ],
             [
              0.5555555555555556,
              "#d8576b"
             ],
             [
              0.6666666666666666,
              "#ed7953"
             ],
             [
              0.7777777777777778,
              "#fb9f3a"
             ],
             [
              0.8888888888888888,
              "#fdca26"
             ],
             [
              1,
              "#f0f921"
             ]
            ],
            "type": "heatmapgl"
           }
          ],
          "histogram": [
           {
            "marker": {
             "pattern": {
              "fillmode": "overlay",
              "size": 10,
              "solidity": 0.2
             }
            },
            "type": "histogram"
           }
          ],
          "histogram2d": [
           {
            "colorbar": {
             "outlinewidth": 0,
             "ticks": ""
            },
            "colorscale": [
             [
              0,
              "#0d0887"
             ],
             [
              0.1111111111111111,
              "#46039f"
             ],
             [
              0.2222222222222222,
              "#7201a8"
             ],
             [
              0.3333333333333333,
              "#9c179e"
             ],
             [
              0.4444444444444444,
              "#bd3786"
             ],
             [
              0.5555555555555556,
              "#d8576b"
             ],
             [
              0.6666666666666666,
              "#ed7953"
             ],
             [
              0.7777777777777778,
              "#fb9f3a"
             ],
             [
              0.8888888888888888,
              "#fdca26"
             ],
             [
              1,
              "#f0f921"
             ]
            ],
            "type": "histogram2d"
           }
          ],
          "histogram2dcontour": [
           {
            "colorbar": {
             "outlinewidth": 0,
             "ticks": ""
            },
            "colorscale": [
             [
              0,
              "#0d0887"
             ],
             [
              0.1111111111111111,
              "#46039f"
             ],
             [
              0.2222222222222222,
              "#7201a8"
             ],
             [
              0.3333333333333333,
              "#9c179e"
             ],
             [
              0.4444444444444444,
              "#bd3786"
             ],
             [
              0.5555555555555556,
              "#d8576b"
             ],
             [
              0.6666666666666666,
              "#ed7953"
             ],
             [
              0.7777777777777778,
              "#fb9f3a"
             ],
             [
              0.8888888888888888,
              "#fdca26"
             ],
             [
              1,
              "#f0f921"
             ]
            ],
            "type": "histogram2dcontour"
           }
          ],
          "mesh3d": [
           {
            "colorbar": {
             "outlinewidth": 0,
             "ticks": ""
            },
            "type": "mesh3d"
           }
          ],
          "parcoords": [
           {
            "line": {
             "colorbar": {
              "outlinewidth": 0,
              "ticks": ""
             }
            },
            "type": "parcoords"
           }
          ],
          "pie": [
           {
            "automargin": true,
            "type": "pie"
           }
          ],
          "scatter": [
           {
            "fillpattern": {
             "fillmode": "overlay",
             "size": 10,
             "solidity": 0.2
            },
            "type": "scatter"
           }
          ],
          "scatter3d": [
           {
            "line": {
             "colorbar": {
              "outlinewidth": 0,
              "ticks": ""
             }
            },
            "marker": {
             "colorbar": {
              "outlinewidth": 0,
              "ticks": ""
             }
            },
            "type": "scatter3d"
           }
          ],
          "scattercarpet": [
           {
            "marker": {
             "colorbar": {
              "outlinewidth": 0,
              "ticks": ""
             }
            },
            "type": "scattercarpet"
           }
          ],
          "scattergeo": [
           {
            "marker": {
             "colorbar": {
              "outlinewidth": 0,
              "ticks": ""
             }
            },
            "type": "scattergeo"
           }
          ],
          "scattergl": [
           {
            "marker": {
             "colorbar": {
              "outlinewidth": 0,
              "ticks": ""
             }
            },
            "type": "scattergl"
           }
          ],
          "scattermapbox": [
           {
            "marker": {
             "colorbar": {
              "outlinewidth": 0,
              "ticks": ""
             }
            },
            "type": "scattermapbox"
           }
          ],
          "scatterpolar": [
           {
            "marker": {
             "colorbar": {
              "outlinewidth": 0,
              "ticks": ""
             }
            },
            "type": "scatterpolar"
           }
          ],
          "scatterpolargl": [
           {
            "marker": {
             "colorbar": {
              "outlinewidth": 0,
              "ticks": ""
             }
            },
            "type": "scatterpolargl"
           }
          ],
          "scatterternary": [
           {
            "marker": {
             "colorbar": {
              "outlinewidth": 0,
              "ticks": ""
             }
            },
            "type": "scatterternary"
           }
          ],
          "surface": [
           {
            "colorbar": {
             "outlinewidth": 0,
             "ticks": ""
            },
            "colorscale": [
             [
              0,
              "#0d0887"
             ],
             [
              0.1111111111111111,
              "#46039f"
             ],
             [
              0.2222222222222222,
              "#7201a8"
             ],
             [
              0.3333333333333333,
              "#9c179e"
             ],
             [
              0.4444444444444444,
              "#bd3786"
             ],
             [
              0.5555555555555556,
              "#d8576b"
             ],
             [
              0.6666666666666666,
              "#ed7953"
             ],
             [
              0.7777777777777778,
              "#fb9f3a"
             ],
             [
              0.8888888888888888,
              "#fdca26"
             ],
             [
              1,
              "#f0f921"
             ]
            ],
            "type": "surface"
           }
          ],
          "table": [
           {
            "cells": {
             "fill": {
              "color": "#EBF0F8"
             },
             "line": {
              "color": "white"
             }
            },
            "header": {
             "fill": {
              "color": "#C8D4E3"
             },
             "line": {
              "color": "white"
             }
            },
            "type": "table"
           }
          ]
         },
         "layout": {
          "annotationdefaults": {
           "arrowcolor": "#2a3f5f",
           "arrowhead": 0,
           "arrowwidth": 1
          },
          "autotypenumbers": "strict",
          "coloraxis": {
           "colorbar": {
            "outlinewidth": 0,
            "ticks": ""
           }
          },
          "colorscale": {
           "diverging": [
            [
             0,
             "#8e0152"
            ],
            [
             0.1,
             "#c51b7d"
            ],
            [
             0.2,
             "#de77ae"
            ],
            [
             0.3,
             "#f1b6da"
            ],
            [
             0.4,
             "#fde0ef"
            ],
            [
             0.5,
             "#f7f7f7"
            ],
            [
             0.6,
             "#e6f5d0"
            ],
            [
             0.7,
             "#b8e186"
            ],
            [
             0.8,
             "#7fbc41"
            ],
            [
             0.9,
             "#4d9221"
            ],
            [
             1,
             "#276419"
            ]
           ],
           "sequential": [
            [
             0,
             "#0d0887"
            ],
            [
             0.1111111111111111,
             "#46039f"
            ],
            [
             0.2222222222222222,
             "#7201a8"
            ],
            [
             0.3333333333333333,
             "#9c179e"
            ],
            [
             0.4444444444444444,
             "#bd3786"
            ],
            [
             0.5555555555555556,
             "#d8576b"
            ],
            [
             0.6666666666666666,
             "#ed7953"
            ],
            [
             0.7777777777777778,
             "#fb9f3a"
            ],
            [
             0.8888888888888888,
             "#fdca26"
            ],
            [
             1,
             "#f0f921"
            ]
           ],
           "sequentialminus": [
            [
             0,
             "#0d0887"
            ],
            [
             0.1111111111111111,
             "#46039f"
            ],
            [
             0.2222222222222222,
             "#7201a8"
            ],
            [
             0.3333333333333333,
             "#9c179e"
            ],
            [
             0.4444444444444444,
             "#bd3786"
            ],
            [
             0.5555555555555556,
             "#d8576b"
            ],
            [
             0.6666666666666666,
             "#ed7953"
            ],
            [
             0.7777777777777778,
             "#fb9f3a"
            ],
            [
             0.8888888888888888,
             "#fdca26"
            ],
            [
             1,
             "#f0f921"
            ]
           ]
          },
          "colorway": [
           "#636efa",
           "#EF553B",
           "#00cc96",
           "#ab63fa",
           "#FFA15A",
           "#19d3f3",
           "#FF6692",
           "#B6E880",
           "#FF97FF",
           "#FECB52"
          ],
          "font": {
           "color": "#2a3f5f"
          },
          "geo": {
           "bgcolor": "white",
           "lakecolor": "white",
           "landcolor": "#E5ECF6",
           "showlakes": true,
           "showland": true,
           "subunitcolor": "white"
          },
          "hoverlabel": {
           "align": "left"
          },
          "hovermode": "closest",
          "mapbox": {
           "style": "light"
          },
          "paper_bgcolor": "white",
          "plot_bgcolor": "#E5ECF6",
          "polar": {
           "angularaxis": {
            "gridcolor": "white",
            "linecolor": "white",
            "ticks": ""
           },
           "bgcolor": "#E5ECF6",
           "radialaxis": {
            "gridcolor": "white",
            "linecolor": "white",
            "ticks": ""
           }
          },
          "scene": {
           "xaxis": {
            "backgroundcolor": "#E5ECF6",
            "gridcolor": "white",
            "gridwidth": 2,
            "linecolor": "white",
            "showbackground": true,
            "ticks": "",
            "zerolinecolor": "white"
           },
           "yaxis": {
            "backgroundcolor": "#E5ECF6",
            "gridcolor": "white",
            "gridwidth": 2,
            "linecolor": "white",
            "showbackground": true,
            "ticks": "",
            "zerolinecolor": "white"
           },
           "zaxis": {
            "backgroundcolor": "#E5ECF6",
            "gridcolor": "white",
            "gridwidth": 2,
            "linecolor": "white",
            "showbackground": true,
            "ticks": "",
            "zerolinecolor": "white"
           }
          },
          "shapedefaults": {
           "line": {
            "color": "#2a3f5f"
           }
          },
          "ternary": {
           "aaxis": {
            "gridcolor": "white",
            "linecolor": "white",
            "ticks": ""
           },
           "baxis": {
            "gridcolor": "white",
            "linecolor": "white",
            "ticks": ""
           },
           "bgcolor": "#E5ECF6",
           "caxis": {
            "gridcolor": "white",
            "linecolor": "white",
            "ticks": ""
           }
          },
          "title": {
           "x": 0.05
          },
          "xaxis": {
           "automargin": true,
           "gridcolor": "white",
           "linecolor": "white",
           "ticks": "",
           "title": {
            "standoff": 15
           },
           "zerolinecolor": "white",
           "zerolinewidth": 2
          },
          "yaxis": {
           "automargin": true,
           "gridcolor": "white",
           "linecolor": "white",
           "ticks": "",
           "title": {
            "standoff": 15
           },
           "zerolinecolor": "white",
           "zerolinewidth": 2
          }
         }
        },
        "title": {
         "text": "100 Most Abundant Leaf Microbe Genera by Site PCA"
        },
        "xaxis": {
         "anchor": "y",
         "domain": [
          0,
          1
         ],
         "title": {
          "text": "PC1 42.9%"
         }
        },
        "yaxis": {
         "anchor": "x",
         "domain": [
          0,
          1
         ],
         "title": {
          "text": "PC2 8.6%"
         }
        }
       }
      },
      "text/html": [
       "<div>                            <div id=\"604a5830-9def-469e-b706-5669be17cca6\" class=\"plotly-graph-div\" style=\"height:525px; width:100%;\"></div>            <script type=\"text/javascript\">                require([\"plotly\"], function(Plotly) {                    window.PLOTLYENV=window.PLOTLYENV || {};                                    if (document.getElementById(\"604a5830-9def-469e-b706-5669be17cca6\")) {                    Plotly.newPlot(                        \"604a5830-9def-469e-b706-5669be17cca6\",                        [{\"hovertemplate\":\"color=CMB<br>0=%{x}<br>1=%{y}<extra></extra>\",\"legendgroup\":\"CMB\",\"marker\":{\"color\":\"#636efa\",\"symbol\":\"circle\"},\"mode\":\"markers\",\"name\":\"CMB\",\"orientation\":\"v\",\"showlegend\":true,\"x\":[-2.766949325557418,-3.0102698823689766,-2.6242922717118478,-2.7836750206192886,-2.9694759049727986,-2.471247593550828,-3.222027248370294,-2.49809300388573,-3.4399508242373735,-2.4322607210210205,-2.708441995789839,-3.0645533390928605,-2.7518911049018255,-3.279037699902511,-3.03448018060095,-3.187092972550786,-3.0540690050293238,-2.962055150264927,-2.8926710070902564],\"xaxis\":\"x\",\"y\":[-1.1329556864060837,-0.9767625070859406,-1.5284954057101796,-2.1062314773200863,-1.4906639023998969,-0.7484907833036215,0.17412445270048976,-1.564970976188286,-2.6887166104646085,-1.6352617026928977,-1.354039463353913,-0.8930161016269053,-1.4172158822500798,0.4533694368497477,-0.7997126735156163,-1.1460394979239827,-0.43572803015188194,-1.8213591744564412,0.39682872231718924],\"yaxis\":\"y\",\"type\":\"scatter\"},{\"hovertemplate\":\"color=FRW<br>0=%{x}<br>1=%{y}<extra></extra>\",\"legendgroup\":\"FRW\",\"marker\":{\"color\":\"#EF553B\",\"symbol\":\"circle\"},\"mode\":\"markers\",\"name\":\"FRW\",\"orientation\":\"v\",\"showlegend\":true,\"x\":[6.9888524483545975,7.984619392174669,7.175205076265719,7.235799353615583,6.9980881507508785,6.514767084516357,7.666942927681191,6.805355113736811,7.638626955355019,7.0831570400509625,7.023707462712814],\"xaxis\":\"x\",\"y\":[0.24468035528129187,0.8317293860233627,0.8645868955537732,-0.10421122981277448,0.6458793043019297,0.3618860912617387,0.6389486301778502,0.9611827528301753,0.250643295039816,0.132434000667533,0.6211851840018914],\"yaxis\":\"y\",\"type\":\"scatter\"},{\"hovertemplate\":\"color=HR<br>0=%{x}<br>1=%{y}<extra></extra>\",\"legendgroup\":\"HR\",\"marker\":{\"color\":\"#00cc96\",\"symbol\":\"circle\"},\"mode\":\"markers\",\"name\":\"HR\",\"orientation\":\"v\",\"showlegend\":true,\"x\":[-1.5322025711059226,-0.27651271405287836,-4.998053174342768,-2.274749532505776],\"xaxis\":\"x\",\"y\":[-2.6136964679867902,-1.0640994811166617,7.948813776704856,5.635757269589549],\"yaxis\":\"y\",\"type\":\"scatter\"},{\"hovertemplate\":\"color=LFS<br>0=%{x}<br>1=%{y}<extra></extra>\",\"legendgroup\":\"LFS\",\"marker\":{\"color\":\"#ab63fa\",\"symbol\":\"circle\"},\"mode\":\"markers\",\"name\":\"LFS\",\"orientation\":\"v\",\"showlegend\":true,\"x\":[-3.3353984541061736,-3.0210420921455245,-3.2053132099739123,-4.059679352062997,-3.652931683612192,-3.5006353185382184,-3.4649792252990803,-2.897796379720793,-3.585442381593115,-3.672933410302723,-3.583394466841224,-3.57545058904773,-3.899096070807175],\"xaxis\":\"x\",\"y\":[-0.9448126394620983,-0.9882633859870184,0.8161544914931309,2.9324442700379727,0.37942128374169126,-0.4938313411606868,-0.622041665754411,1.7989557866310317,1.0297067906121133,0.9268929041235968,1.1284763598078136,0.5207251423105421,0.6621439133026522],\"yaxis\":\"y\",\"type\":\"scatter\"},{\"hovertemplate\":\"color=LM<br>0=%{x}<br>1=%{y}<extra></extra>\",\"legendgroup\":\"LM\",\"marker\":{\"color\":\"#FFA15A\",\"symbol\":\"circle\"},\"mode\":\"markers\",\"name\":\"LM\",\"orientation\":\"v\",\"showlegend\":true,\"x\":[-2.837455890580318,-3.3108567575076338,-3.6637649318826253,-3.6989915807762515,-3.42185196837656,-3.5907495769707802,-3.4530369351759953,-3.78803102219061,-3.884221572425598,-3.410055432831883,-3.4605420672663,-3.1985840712823315,-3.2357902449675224,-4.216314254688947,-3.2084439341546136,-2.4261159971915425,-2.6276865376817446,-3.475970751655931,-3.896493920858417],\"xaxis\":\"x\",\"y\":[-0.9863102792188982,1.5166460738420966,1.5572676162069048,1.0365886004879012,2.1277496950669956,1.3135381897490501,2.7952280761749018,2.3627907987432386,3.36935208420235,1.4053107125318811,1.5720382738622714,0.6356358571212276,0.23006411782889657,2.7127723922719884,0.9025405184306375,-0.6076267571445774,-1.379382963442512,0.7678173793247355,2.721157866373288],\"yaxis\":\"y\",\"type\":\"scatter\"},{\"hovertemplate\":\"color=MKP<br>0=%{x}<br>1=%{y}<extra></extra>\",\"legendgroup\":\"MKP\",\"marker\":{\"color\":\"#19d3f3\",\"symbol\":\"circle\"},\"mode\":\"markers\",\"name\":\"MKP\",\"orientation\":\"v\",\"showlegend\":true,\"x\":[1.1092192818225741,-3.2075554752255364,-4.3441466308290755,-3.980050055807737,-4.218686193544584,-1.9111374487577355,-5.144904114589273,-5.806572014276334],\"xaxis\":\"x\",\"y\":[-5.170748830020093,-0.13292157076844197,4.964959806081502,2.8453831341608318,4.8036440573036145,-0.7154719126595035,6.699018606164842,8.768625511919808],\"yaxis\":\"y\",\"type\":\"scatter\"},{\"hovertemplate\":\"color=MMP<br>0=%{x}<br>1=%{y}<extra></extra>\",\"legendgroup\":\"MMP\",\"marker\":{\"color\":\"#FF6692\",\"symbol\":\"circle\"},\"mode\":\"markers\",\"name\":\"MMP\",\"orientation\":\"v\",\"showlegend\":true,\"x\":[-2.9875037985313657,-2.855016621074362,-2.929992510075394,-3.113651634957121,-3.1663294549063434,-3.2149623107795806,-2.5580338260757594,-2.8549579813761383,-3.7501022542164106,-2.58098821835061,-3.939153575965712,-3.079764974633253,-3.172605821614522,-3.071928495928794,-3.125947495137084,-2.8092889794710483,-2.6363814608011746,-3.7414811322234143,-3.1768590373357974],\"xaxis\":\"x\",\"y\":[-1.8065277515386604,-2.0971809816190947,-1.0184618556426754,-1.129392386184405,-0.3360646190539052,-0.4787000681315821,-2.7816711767882616,-3.475888035786455,1.1493529178798318,-1.879325265581921,0.8590358427976815,-1.3702995676999117,-1.8214679448445468,-1.627829339509529,-0.4831842832074873,-1.0594744724240435,-1.4636625035786588,-0.21319436013386037,-0.5174108209834227],\"yaxis\":\"y\",\"type\":\"scatter\"},{\"hovertemplate\":\"color=PNR<br>0=%{x}<br>1=%{y}<extra></extra>\",\"legendgroup\":\"PNR\",\"marker\":{\"color\":\"#B6E880\",\"symbol\":\"circle\"},\"mode\":\"markers\",\"name\":\"PNR\",\"orientation\":\"v\",\"showlegend\":true,\"x\":[7.52140867053533,7.532474987945425,6.259455652502261],\"xaxis\":\"x\",\"y\":[0.9933995347830821,0.2961038275578962,0.46820474807932033],\"yaxis\":\"y\",\"type\":\"scatter\"},{\"hovertemplate\":\"color=PTW<br>0=%{x}<br>1=%{y}<extra></extra>\",\"legendgroup\":\"PTW\",\"marker\":{\"color\":\"#FF97FF\",\"symbol\":\"circle\"},\"mode\":\"markers\",\"name\":\"PTW\",\"orientation\":\"v\",\"showlegend\":true,\"x\":[-3.7848151020629905,-2.7879372255254364,-3.594228083520011,-3.3455960880299487,-3.3151190765889593,-2.770239304543261,-2.6092927633193552,-3.1644896646744143],\"xaxis\":\"x\",\"y\":[1.8273929508797913,-0.28479935794698724,1.3487500540256459,-0.5994797607153913,0.48994331826998333,-0.3757540542540745,-0.8311988986469716,-1.1759364775719725],\"yaxis\":\"y\",\"type\":\"scatter\"},{\"hovertemplate\":\"color=RF<br>0=%{x}<br>1=%{y}<extra></extra>\",\"legendgroup\":\"RF\",\"marker\":{\"color\":\"#FECB52\",\"symbol\":\"circle\"},\"mode\":\"markers\",\"name\":\"RF\",\"orientation\":\"v\",\"showlegend\":true,\"x\":[7.446042520619313,8.137715974937331,7.268357424683368,7.518737209709857,6.9409257807799225,7.942583512314854,7.785621188569858,7.246964916257829,7.4992611043374975,6.8623469974487055,7.200233010078055],\"xaxis\":\"x\",\"y\":[0.6882472362655192,1.371871019730572,0.7960713367367289,0.5021582570473725,0.14961618546395433,0.7190078208721362,0.7973411416047586,0.5431983987488759,0.14910781403754353,0.0026150065143194486,0.5656185546103235],\"yaxis\":\"y\",\"type\":\"scatter\"},{\"hovertemplate\":\"color=RGT<br>0=%{x}<br>1=%{y}<extra></extra>\",\"legendgroup\":\"RGT\",\"marker\":{\"color\":\"#636efa\",\"symbol\":\"circle\"},\"mode\":\"markers\",\"name\":\"RGT\",\"orientation\":\"v\",\"showlegend\":true,\"x\":[-3.2718730079959046,-3.2333719826193303,-3.0510769958063464,-2.7672793199463572,-2.821198517880578],\"xaxis\":\"x\",\"y\":[1.7031845869201805,0.8325256300305968,-1.2044200681970556,-1.4923277298193387,-0.3373969867061353],\"yaxis\":\"y\",\"type\":\"scatter\"},{\"hovertemplate\":\"color=RRL<br>0=%{x}<br>1=%{y}<extra></extra>\",\"legendgroup\":\"RRL\",\"marker\":{\"color\":\"#EF553B\",\"symbol\":\"circle\"},\"mode\":\"markers\",\"name\":\"RRL\",\"orientation\":\"v\",\"showlegend\":true,\"x\":[1.7832036488378478,1.6314249389209967,2.0605537859108978,0.8579719984456516,0.8064206625296649,-1.4753702955485215,-2.686041658902616,-2.0507041798181493,-2.3359089677254388,-2.7798568272909545,-0.7672772316118782,-2.7426481858896268,-2.2511162963768743,-1.07782409640346,1.128988895220022,0.2991733196141978,1.1676828312062,0.04996349418779609,1.0254524734430355],\"xaxis\":\"x\",\"y\":[-1.6940483233629355,-2.9617217891799665,-1.9704647386379575,-2.733648834681918,0.13585389601427944,-5.605881978667863,-4.404908908476941,-3.671817061688089,-4.477288396649746,0.22134910409796094,-3.6973157744016802,0.9031100503135701,-0.5761892239859405,-0.0737801039569728,-1.6988139114331928,-4.168753669086673,-1.9136702350932404,-3.6110159454660944,-2.3655237223016274],\"yaxis\":\"y\",\"type\":\"scatter\"},{\"hovertemplate\":\"color=SLG<br>0=%{x}<br>1=%{y}<extra></extra>\",\"legendgroup\":\"SLG\",\"marker\":{\"color\":\"#00cc96\",\"symbol\":\"circle\"},\"mode\":\"markers\",\"name\":\"SLG\",\"orientation\":\"v\",\"showlegend\":true,\"x\":[7.7222749990006845,7.665690535512341,7.436520465422256,7.610556336758438,7.268114110943039,7.383046377427108,7.451021926893495,7.271774767220431,7.239487681916262,7.492184943928224,7.319332095606767,7.375470572203252,7.315683120493211,7.610511657068463,7.371101611077055,7.280761819191584,7.543530407871496],\"xaxis\":\"x\",\"y\":[0.8151175676482648,0.19620770893934153,0.5799360026353937,0.7556582277389362,0.617980216053853,0.40815498958371665,0.8469749181278114,0.45058208758508467,0.6067296585698811,0.5524647420636378,0.8657735709029973,0.21531355373379618,0.6052480776639069,0.498911368222622,0.9283926765301442,0.6080339339166054,0.5193313866134561],\"yaxis\":\"y\",\"type\":\"scatter\"}],                        {\"template\":{\"data\":{\"histogram2dcontour\":[{\"type\":\"histogram2dcontour\",\"colorbar\":{\"outlinewidth\":0,\"ticks\":\"\"},\"colorscale\":[[0.0,\"#0d0887\"],[0.1111111111111111,\"#46039f\"],[0.2222222222222222,\"#7201a8\"],[0.3333333333333333,\"#9c179e\"],[0.4444444444444444,\"#bd3786\"],[0.5555555555555556,\"#d8576b\"],[0.6666666666666666,\"#ed7953\"],[0.7777777777777778,\"#fb9f3a\"],[0.8888888888888888,\"#fdca26\"],[1.0,\"#f0f921\"]]}],\"choropleth\":[{\"type\":\"choropleth\",\"colorbar\":{\"outlinewidth\":0,\"ticks\":\"\"}}],\"histogram2d\":[{\"type\":\"histogram2d\",\"colorbar\":{\"outlinewidth\":0,\"ticks\":\"\"},\"colorscale\":[[0.0,\"#0d0887\"],[0.1111111111111111,\"#46039f\"],[0.2222222222222222,\"#7201a8\"],[0.3333333333333333,\"#9c179e\"],[0.4444444444444444,\"#bd3786\"],[0.5555555555555556,\"#d8576b\"],[0.6666666666666666,\"#ed7953\"],[0.7777777777777778,\"#fb9f3a\"],[0.8888888888888888,\"#fdca26\"],[1.0,\"#f0f921\"]]}],\"heatmap\":[{\"type\":\"heatmap\",\"colorbar\":{\"outlinewidth\":0,\"ticks\":\"\"},\"colorscale\":[[0.0,\"#0d0887\"],[0.1111111111111111,\"#46039f\"],[0.2222222222222222,\"#7201a8\"],[0.3333333333333333,\"#9c179e\"],[0.4444444444444444,\"#bd3786\"],[0.5555555555555556,\"#d8576b\"],[0.6666666666666666,\"#ed7953\"],[0.7777777777777778,\"#fb9f3a\"],[0.8888888888888888,\"#fdca26\"],[1.0,\"#f0f921\"]]}],\"heatmapgl\":[{\"type\":\"heatmapgl\",\"colorbar\":{\"outlinewidth\":0,\"ticks\":\"\"},\"colorscale\":[[0.0,\"#0d0887\"],[0.1111111111111111,\"#46039f\"],[0.2222222222222222,\"#7201a8\"],[0.3333333333333333,\"#9c179e\"],[0.4444444444444444,\"#bd3786\"],[0.5555555555555556,\"#d8576b\"],[0.6666666666666666,\"#ed7953\"],[0.7777777777777778,\"#fb9f3a\"],[0.8888888888888888,\"#fdca26\"],[1.0,\"#f0f921\"]]}],\"contourcarpet\":[{\"type\":\"contourcarpet\",\"colorbar\":{\"outlinewidth\":0,\"ticks\":\"\"}}],\"contour\":[{\"type\":\"contour\",\"colorbar\":{\"outlinewidth\":0,\"ticks\":\"\"},\"colorscale\":[[0.0,\"#0d0887\"],[0.1111111111111111,\"#46039f\"],[0.2222222222222222,\"#7201a8\"],[0.3333333333333333,\"#9c179e\"],[0.4444444444444444,\"#bd3786\"],[0.5555555555555556,\"#d8576b\"],[0.6666666666666666,\"#ed7953\"],[0.7777777777777778,\"#fb9f3a\"],[0.8888888888888888,\"#fdca26\"],[1.0,\"#f0f921\"]]}],\"surface\":[{\"type\":\"surface\",\"colorbar\":{\"outlinewidth\":0,\"ticks\":\"\"},\"colorscale\":[[0.0,\"#0d0887\"],[0.1111111111111111,\"#46039f\"],[0.2222222222222222,\"#7201a8\"],[0.3333333333333333,\"#9c179e\"],[0.4444444444444444,\"#bd3786\"],[0.5555555555555556,\"#d8576b\"],[0.6666666666666666,\"#ed7953\"],[0.7777777777777778,\"#fb9f3a\"],[0.8888888888888888,\"#fdca26\"],[1.0,\"#f0f921\"]]}],\"mesh3d\":[{\"type\":\"mesh3d\",\"colorbar\":{\"outlinewidth\":0,\"ticks\":\"\"}}],\"scatter\":[{\"fillpattern\":{\"fillmode\":\"overlay\",\"size\":10,\"solidity\":0.2},\"type\":\"scatter\"}],\"parcoords\":[{\"type\":\"parcoords\",\"line\":{\"colorbar\":{\"outlinewidth\":0,\"ticks\":\"\"}}}],\"scatterpolargl\":[{\"type\":\"scatterpolargl\",\"marker\":{\"colorbar\":{\"outlinewidth\":0,\"ticks\":\"\"}}}],\"bar\":[{\"error_x\":{\"color\":\"#2a3f5f\"},\"error_y\":{\"color\":\"#2a3f5f\"},\"marker\":{\"line\":{\"color\":\"#E5ECF6\",\"width\":0.5},\"pattern\":{\"fillmode\":\"overlay\",\"size\":10,\"solidity\":0.2}},\"type\":\"bar\"}],\"scattergeo\":[{\"type\":\"scattergeo\",\"marker\":{\"colorbar\":{\"outlinewidth\":0,\"ticks\":\"\"}}}],\"scatterpolar\":[{\"type\":\"scatterpolar\",\"marker\":{\"colorbar\":{\"outlinewidth\":0,\"ticks\":\"\"}}}],\"histogram\":[{\"marker\":{\"pattern\":{\"fillmode\":\"overlay\",\"size\":10,\"solidity\":0.2}},\"type\":\"histogram\"}],\"scattergl\":[{\"type\":\"scattergl\",\"marker\":{\"colorbar\":{\"outlinewidth\":0,\"ticks\":\"\"}}}],\"scatter3d\":[{\"type\":\"scatter3d\",\"line\":{\"colorbar\":{\"outlinewidth\":0,\"ticks\":\"\"}},\"marker\":{\"colorbar\":{\"outlinewidth\":0,\"ticks\":\"\"}}}],\"scattermapbox\":[{\"type\":\"scattermapbox\",\"marker\":{\"colorbar\":{\"outlinewidth\":0,\"ticks\":\"\"}}}],\"scatterternary\":[{\"type\":\"scatterternary\",\"marker\":{\"colorbar\":{\"outlinewidth\":0,\"ticks\":\"\"}}}],\"scattercarpet\":[{\"type\":\"scattercarpet\",\"marker\":{\"colorbar\":{\"outlinewidth\":0,\"ticks\":\"\"}}}],\"carpet\":[{\"aaxis\":{\"endlinecolor\":\"#2a3f5f\",\"gridcolor\":\"white\",\"linecolor\":\"white\",\"minorgridcolor\":\"white\",\"startlinecolor\":\"#2a3f5f\"},\"baxis\":{\"endlinecolor\":\"#2a3f5f\",\"gridcolor\":\"white\",\"linecolor\":\"white\",\"minorgridcolor\":\"white\",\"startlinecolor\":\"#2a3f5f\"},\"type\":\"carpet\"}],\"table\":[{\"cells\":{\"fill\":{\"color\":\"#EBF0F8\"},\"line\":{\"color\":\"white\"}},\"header\":{\"fill\":{\"color\":\"#C8D4E3\"},\"line\":{\"color\":\"white\"}},\"type\":\"table\"}],\"barpolar\":[{\"marker\":{\"line\":{\"color\":\"#E5ECF6\",\"width\":0.5},\"pattern\":{\"fillmode\":\"overlay\",\"size\":10,\"solidity\":0.2}},\"type\":\"barpolar\"}],\"pie\":[{\"automargin\":true,\"type\":\"pie\"}]},\"layout\":{\"autotypenumbers\":\"strict\",\"colorway\":[\"#636efa\",\"#EF553B\",\"#00cc96\",\"#ab63fa\",\"#FFA15A\",\"#19d3f3\",\"#FF6692\",\"#B6E880\",\"#FF97FF\",\"#FECB52\"],\"font\":{\"color\":\"#2a3f5f\"},\"hovermode\":\"closest\",\"hoverlabel\":{\"align\":\"left\"},\"paper_bgcolor\":\"white\",\"plot_bgcolor\":\"#E5ECF6\",\"polar\":{\"bgcolor\":\"#E5ECF6\",\"angularaxis\":{\"gridcolor\":\"white\",\"linecolor\":\"white\",\"ticks\":\"\"},\"radialaxis\":{\"gridcolor\":\"white\",\"linecolor\":\"white\",\"ticks\":\"\"}},\"ternary\":{\"bgcolor\":\"#E5ECF6\",\"aaxis\":{\"gridcolor\":\"white\",\"linecolor\":\"white\",\"ticks\":\"\"},\"baxis\":{\"gridcolor\":\"white\",\"linecolor\":\"white\",\"ticks\":\"\"},\"caxis\":{\"gridcolor\":\"white\",\"linecolor\":\"white\",\"ticks\":\"\"}},\"coloraxis\":{\"colorbar\":{\"outlinewidth\":0,\"ticks\":\"\"}},\"colorscale\":{\"sequential\":[[0.0,\"#0d0887\"],[0.1111111111111111,\"#46039f\"],[0.2222222222222222,\"#7201a8\"],[0.3333333333333333,\"#9c179e\"],[0.4444444444444444,\"#bd3786\"],[0.5555555555555556,\"#d8576b\"],[0.6666666666666666,\"#ed7953\"],[0.7777777777777778,\"#fb9f3a\"],[0.8888888888888888,\"#fdca26\"],[1.0,\"#f0f921\"]],\"sequentialminus\":[[0.0,\"#0d0887\"],[0.1111111111111111,\"#46039f\"],[0.2222222222222222,\"#7201a8\"],[0.3333333333333333,\"#9c179e\"],[0.4444444444444444,\"#bd3786\"],[0.5555555555555556,\"#d8576b\"],[0.6666666666666666,\"#ed7953\"],[0.7777777777777778,\"#fb9f3a\"],[0.8888888888888888,\"#fdca26\"],[1.0,\"#f0f921\"]],\"diverging\":[[0,\"#8e0152\"],[0.1,\"#c51b7d\"],[0.2,\"#de77ae\"],[0.3,\"#f1b6da\"],[0.4,\"#fde0ef\"],[0.5,\"#f7f7f7\"],[0.6,\"#e6f5d0\"],[0.7,\"#b8e186\"],[0.8,\"#7fbc41\"],[0.9,\"#4d9221\"],[1,\"#276419\"]]},\"xaxis\":{\"gridcolor\":\"white\",\"linecolor\":\"white\",\"ticks\":\"\",\"title\":{\"standoff\":15},\"zerolinecolor\":\"white\",\"automargin\":true,\"zerolinewidth\":2},\"yaxis\":{\"gridcolor\":\"white\",\"linecolor\":\"white\",\"ticks\":\"\",\"title\":{\"standoff\":15},\"zerolinecolor\":\"white\",\"automargin\":true,\"zerolinewidth\":2},\"scene\":{\"xaxis\":{\"backgroundcolor\":\"#E5ECF6\",\"gridcolor\":\"white\",\"linecolor\":\"white\",\"showbackground\":true,\"ticks\":\"\",\"zerolinecolor\":\"white\",\"gridwidth\":2},\"yaxis\":{\"backgroundcolor\":\"#E5ECF6\",\"gridcolor\":\"white\",\"linecolor\":\"white\",\"showbackground\":true,\"ticks\":\"\",\"zerolinecolor\":\"white\",\"gridwidth\":2},\"zaxis\":{\"backgroundcolor\":\"#E5ECF6\",\"gridcolor\":\"white\",\"linecolor\":\"white\",\"showbackground\":true,\"ticks\":\"\",\"zerolinecolor\":\"white\",\"gridwidth\":2}},\"shapedefaults\":{\"line\":{\"color\":\"#2a3f5f\"}},\"annotationdefaults\":{\"arrowcolor\":\"#2a3f5f\",\"arrowhead\":0,\"arrowwidth\":1},\"geo\":{\"bgcolor\":\"white\",\"landcolor\":\"#E5ECF6\",\"subunitcolor\":\"white\",\"showland\":true,\"showlakes\":true,\"lakecolor\":\"white\"},\"title\":{\"x\":0.05},\"mapbox\":{\"style\":\"light\"}}},\"xaxis\":{\"anchor\":\"y\",\"domain\":[0.0,1.0],\"title\":{\"text\":\"PC1 42.9%\"}},\"yaxis\":{\"anchor\":\"x\",\"domain\":[0.0,1.0],\"title\":{\"text\":\"PC2 8.6%\"}},\"legend\":{\"title\":{\"text\":\"color\"},\"tracegroupgap\":0},\"margin\":{\"t\":60},\"title\":{\"text\":\"100 Most Abundant Leaf Microbe Genera by Site PCA\"}},                        {\"responsive\": true}                    ).then(function(){\n",
       "                            \n",
       "var gd = document.getElementById('604a5830-9def-469e-b706-5669be17cca6');\n",
       "var x = new MutationObserver(function (mutations, observer) {{\n",
       "        var display = window.getComputedStyle(gd).display;\n",
       "        if (!display || display === 'none') {{\n",
       "            console.log([gd, 'removed!']);\n",
       "            Plotly.purge(gd);\n",
       "            observer.disconnect();\n",
       "        }}\n",
       "}});\n",
       "\n",
       "// Listen for the removal of the full notebook cells\n",
       "var notebookContainer = gd.closest('#notebook-container');\n",
       "if (notebookContainer) {{\n",
       "    x.observe(notebookContainer, {childList: true});\n",
       "}}\n",
       "\n",
       "// Listen for the clearing of the current output cell\n",
       "var outputEl = gd.closest('.output');\n",
       "if (outputEl) {{\n",
       "    x.observe(outputEl, {childList: true});\n",
       "}}\n",
       "\n",
       "                        })                };                });            </script>        </div>"
      ]
     },
     "metadata": {},
     "output_type": "display_data"
    }
   ],
   "source": [
    "X = pc2_df[top_100.index]\n",
    "\n",
    "pca = PCA(n_components=2)\n",
    "components = pca.fit_transform(X)\n",
    "\n",
    "fig = px.scatter(components, x=0, y=1, color=pc2_df['site_id'])\n",
    "fig.update_layout(\n",
    "    title = \"100 Most Abundant Leaf Microbe Genera by Site PCA\",\n",
    "    xaxis_title=\"PC1 \" + str(round(100*pca.explained_variance_ratio_[0], 1)) + '%',\n",
    "    yaxis_title=\"PC2 \" + str(round(100*pca.explained_variance_ratio_[1], 1)) + '%')\n",
    "fig.show()"
   ]
  },
  {
   "cell_type": "code",
   "execution_count": 21,
   "id": "366a058a",
   "metadata": {},
   "outputs": [],
   "source": [
    "pc2_df['site_id'].replace({'CMB': 1, 'FRW': 1, 'LFS': 1, 'LM': 0, 'MMP': 1, 'MKP': 2,\n",
    "                    'PNR': 2, 'PTW': 0, 'RF': 2, 'RGT': 0, 'RRL': 0, 'SGC': 0, 'SLG': 1,'HR': 3}, inplace=True) #\n",
    "pc2_df = pc2_df[pc2_df[\"site_id\"].isin([0,1,2,3])]\n",
    "\n",
    "pc2_df['site_id'].unique()\n",
    "\n",
    "pc2_df['site_id'] = pc2_df['site_id'].replace([0], 'Wintergreen')\n",
    "pc2_df['site_id'] = pc2_df['site_id'].replace([1], 'Cole Mountain')\n",
    "pc2_df['site_id'] = pc2_df['site_id'].replace([2], 'Blacksburg')\n",
    "pc2_df['site_id'] = pc2_df['site_id'].replace([3], 'HR')"
   ]
  },
  {
   "cell_type": "code",
   "execution_count": 22,
   "id": "3a5b5e79",
   "metadata": {},
   "outputs": [
    {
     "data": {
      "application/vnd.plotly.v1+json": {
       "config": {
        "plotlyServerURL": "https://plot.ly"
       },
       "data": [
        {
         "hovertemplate": "color=Cole Mountain<br>0=%{x}<br>1=%{y}<extra></extra>",
         "legendgroup": "Cole Mountain",
         "marker": {
          "color": "#636efa",
          "symbol": "circle"
         },
         "mode": "markers",
         "name": "Cole Mountain",
         "orientation": "v",
         "showlegend": true,
         "type": "scatter",
         "x": [
          -18.445129415152,
          -17.607434654448344,
          -17.329390300274127,
          -7.39713203786074,
          -17.147965068230103,
          -4.967749373955504,
          -15.998257533990055,
          -12.784415534756773,
          -1.6091762336340316,
          -18.06112360818947,
          -15.48091258448164,
          -9.496618253093914,
          -15.849675889491055,
          -7.533562685997259,
          -12.568965306747545,
          -13.061208513948987,
          -17.205339918494577,
          -5.50534216562243,
          -17.463087587716213,
          25.64339090901556,
          23.725407647197933,
          23.40503531880145,
          25.088560197020247,
          24.098828333859128,
          25.281355871774622,
          24.527034893710333,
          23.722026065877017,
          25.291983095657546,
          23.28087000221166,
          24.814942816422832,
          -11.251813877461386,
          -11.719387653534245,
          -20.062271754155585,
          -12.804663195561156,
          -15.044520807580273,
          -12.944744938695518,
          -12.375843058153814,
          -15.116346649633776,
          -14.036799808489777,
          -14.397446322741233,
          -21.18452886257768,
          -17.633047935822855,
          -12.44490867912504,
          -16.158408710118163,
          -7.119140039516798,
          -19.08281211961441,
          -13.027071234126414,
          -10.678718397389249,
          -12.825229852395095,
          -10.818540445378037,
          -7.885929392865953,
          -11.809748175684371,
          -15.433335922234344,
          -7.076192956236394,
          -16.91259323070706,
          -13.902107247277282,
          -12.07272055599909,
          -17.621273707629715,
          -13.704361163503288,
          -13.217573803284006,
          -13.178821778940113,
          -12.053183608796596,
          24.702884838648146,
          26.91501934944353,
          25.440192949267235,
          26.01382868715176,
          24.961028045201452,
          25.10725797317074,
          26.152447759798896,
          26.33345010315042,
          26.297415742731417,
          26.716159622027952,
          23.789572522846512,
          26.59897037844412,
          25.116554550208946,
          25.1999269144908,
          23.175533278710123,
          25.588669861065377,
          25.45851799628183
         ],
         "xaxis": "x",
         "y": [
          -0.9848377687945421,
          -1.3579171114649307,
          -1.6065067819173362,
          6.568298655943331,
          -2.0743823011486024,
          5.034572796992868,
          -1.4428668010691192,
          3.4982868903954025,
          12.006213167289053,
          -3.7497833061103534,
          -0.3439150804226769,
          3.698615458133364,
          -1.6982819764107693,
          3.3342279911051564,
          2.009749158516368,
          1.4304289912853798,
          -2.0054532107645486,
          9.381627589531622,
          -2.555716416046443,
          -6.812358251188189,
          -2.9875785493142426,
          -4.554632338050553,
          -5.712725352690241,
          -3.8305224753231775,
          -5.980387276580716,
          -4.572387237252802,
          -2.9751242314906747,
          -5.977599971647783,
          -4.667442506272966,
          -5.2529347854218935,
          3.487436427147335,
          3.034100229754839,
          -5.985110031649741,
          -1.7255168652033723,
          -1.7800292453034665,
          0.3178466124054137,
          1.3700798694885037,
          -3.8533728794628566,
          -1.9617727489658316,
          -1.6307052513553246,
          -6.123476007421336,
          -3.2316252011779754,
          0.7300657097211118,
          -0.2045982536765442,
          5.037610427511138,
          -3.5008267625943374,
          1.3205383578215337,
          1.9740628293439408,
          0.8444575419570671,
          2.78845126647781,
          6.698967432943559,
          -0.22326306097717075,
          -0.7768026126692811,
          5.036475041177499,
          -1.7891169625525714,
          0.7996391675069108,
          2.0310045912883594,
          -3.326659060648652,
          -0.8091579299660994,
          -0.05070706625242056,
          -0.23249400082427643,
          0.10152139598446774,
          -5.552203657500516,
          -10.21697181769797,
          -5.838631907712585,
          -8.811834364837003,
          -4.278974196337022,
          -5.942981976766047,
          -9.217291351424143,
          -7.947140903954056,
          -7.896869952091225,
          -9.917469327920898,
          -3.1151730547931877,
          -7.79894474549868,
          -4.792859539016745,
          -5.484996343502984,
          -1.0799442312360203,
          -5.830189231430045,
          -5.978908284298755
         ],
         "yaxis": "y"
        },
        {
         "hovertemplate": "color=HR<br>0=%{x}<br>1=%{y}<extra></extra>",
         "legendgroup": "HR",
         "marker": {
          "color": "#EF553B",
          "symbol": "circle"
         },
         "mode": "markers",
         "name": "HR",
         "orientation": "v",
         "showlegend": true,
         "type": "scatter",
         "x": [
          5.7866614280345186,
          14.65823843577824,
          5.3113786830123715,
          10.530823538568209
         ],
         "xaxis": "x",
         "y": [
          15.206199552676559,
          16.5570556689864,
          14.069916035917872,
          17.68768019915197
         ],
         "yaxis": "y"
        },
        {
         "hovertemplate": "color=Wintergreen<br>0=%{x}<br>1=%{y}<extra></extra>",
         "legendgroup": "Wintergreen",
         "marker": {
          "color": "#00cc96",
          "symbol": "circle"
         },
         "mode": "markers",
         "name": "Wintergreen",
         "orientation": "v",
         "showlegend": true,
         "type": "scatter",
         "x": [
          -20.276557076428965,
          -18.48122203256458,
          -17.29033062632496,
          -17.510365543043626,
          -21.621944901322546,
          -18.348436647293173,
          -12.910043723194283,
          -18.22455995912229,
          -17.942048570968787,
          -15.858816537747169,
          -21.161885536451827,
          -20.087970985540327,
          -18.076779003459436,
          -19.21273376116758,
          -20.122076927039423,
          -18.709309934373895,
          -19.212777283762396,
          -14.287537730319142,
          -21.7364224748497,
          -19.423537624981822,
          -18.496181671467657,
          -20.23187283377886,
          -16.820763100689796,
          -21.784221790271374,
          -20.601466619358114,
          -16.008185929754124,
          -14.500184795818349,
          -17.84489380458847,
          -17.839267374444923,
          -14.115031954616274,
          -21.105348773927343,
          -16.92455697019582,
          16.13770563294387,
          17.22562502572933,
          17.170050083715108,
          17.102718520233648,
          15.407934224965222,
          8.211574070024279,
          -1.2147196363247672,
          6.795759274552593,
          5.948794322800099,
          14.855118172435558,
          11.212810287759185,
          13.767121348419382,
          9.13810249597604,
          12.628466511638765,
          15.564747825778019,
          14.008586109783618,
          13.912435156826298,
          14.998268207884845,
          15.558179362790534
         ],
         "xaxis": "x",
         "y": [
          -4.892175550378389,
          -5.251297138193174,
          -3.6975111112762344,
          -1.6905400129290575,
          -8.014845951943892,
          -3.0735128853620455,
          -1.773537231396065,
          -4.612211822318733,
          -4.397556701265597,
          -1.195969422367097,
          -5.745987086120886,
          -4.4038777326719005,
          -3.771697765248838,
          -5.5129104794230015,
          -5.116836940915253,
          -4.267394478806439,
          -2.981019243265156,
          0.01864273760935078,
          -8.25976313418338,
          -4.92253916881335,
          -4.1508109978427274,
          -5.264934870322736,
          -0.6137092328476861,
          -6.365317673243951,
          -4.708223235200919,
          -0.6269504289770856,
          0.9785387297154832,
          -3.7360652909285075,
          -2.528505856452007,
          0.586877254841457,
          -3.5987321389741225,
          -1.446738452576969,
          11.203231305658752,
          19.05202704820902,
          11.234582521752163,
          15.200173751272535,
          16.792582981436354,
          19.885345808685674,
          13.343219329588836,
          17.058543946635066,
          16.87100204409816,
          12.902673869729664,
          17.662368372667036,
          14.077101955528043,
          15.582995051844106,
          14.591101756893236,
          11.393511293451041,
          14.535781129945141,
          12.905045233744747,
          14.94731286762233,
          13.720362291517356
         ],
         "yaxis": "y"
        },
        {
         "hovertemplate": "color=Blacksburg<br>0=%{x}<br>1=%{y}<extra></extra>",
         "legendgroup": "Blacksburg",
         "marker": {
          "color": "#ab63fa",
          "symbol": "circle"
         },
         "mode": "markers",
         "name": "Blacksburg",
         "orientation": "v",
         "showlegend": true,
         "type": "scatter",
         "x": [
          16.654053474201554,
          -14.151429063847342,
          -14.638224138587805,
          -20.059293456721218,
          -13.920706353254918,
          -12.058703001465634,
          -6.128277918174116,
          -9.69432651932338,
          25.98153213921891,
          25.68047009279564,
          25.076090409888568,
          25.027762251868094,
          25.128671452655002,
          26.390996245100595,
          26.066498877719695,
          26.645633835415268,
          25.178095094041453,
          25.16762484090884,
          27.553929663009942,
          26.7188527351326,
          26.217618040482403,
          27.87379154160373
         ],
         "xaxis": "x",
         "y": [
          12.255759356272685,
          0.09832883343720515,
          -2.3422951534830005,
          -5.605651412086742,
          -1.303771310882709,
          2.709855591158125,
          4.47333619046377,
          0.8707726740307293,
          -7.704528989407533,
          -7.520291247956301,
          -5.0219297234278315,
          -6.850055729302939,
          -5.970879521716774,
          -8.802354252638526,
          -7.104115350341335,
          -7.85389163725637,
          -6.269061936673178,
          -4.827732921771629,
          -10.777613756445202,
          -7.798852451232092,
          -9.432575042441004,
          -11.149457956853404
         ],
         "yaxis": "y"
        }
       ],
       "layout": {
        "legend": {
         "title": {
          "text": "color"
         },
         "tracegroupgap": 0
        },
        "margin": {
         "t": 60
        },
        "template": {
         "data": {
          "bar": [
           {
            "error_x": {
             "color": "#2a3f5f"
            },
            "error_y": {
             "color": "#2a3f5f"
            },
            "marker": {
             "line": {
              "color": "#E5ECF6",
              "width": 0.5
             },
             "pattern": {
              "fillmode": "overlay",
              "size": 10,
              "solidity": 0.2
             }
            },
            "type": "bar"
           }
          ],
          "barpolar": [
           {
            "marker": {
             "line": {
              "color": "#E5ECF6",
              "width": 0.5
             },
             "pattern": {
              "fillmode": "overlay",
              "size": 10,
              "solidity": 0.2
             }
            },
            "type": "barpolar"
           }
          ],
          "carpet": [
           {
            "aaxis": {
             "endlinecolor": "#2a3f5f",
             "gridcolor": "white",
             "linecolor": "white",
             "minorgridcolor": "white",
             "startlinecolor": "#2a3f5f"
            },
            "baxis": {
             "endlinecolor": "#2a3f5f",
             "gridcolor": "white",
             "linecolor": "white",
             "minorgridcolor": "white",
             "startlinecolor": "#2a3f5f"
            },
            "type": "carpet"
           }
          ],
          "choropleth": [
           {
            "colorbar": {
             "outlinewidth": 0,
             "ticks": ""
            },
            "type": "choropleth"
           }
          ],
          "contour": [
           {
            "colorbar": {
             "outlinewidth": 0,
             "ticks": ""
            },
            "colorscale": [
             [
              0,
              "#0d0887"
             ],
             [
              0.1111111111111111,
              "#46039f"
             ],
             [
              0.2222222222222222,
              "#7201a8"
             ],
             [
              0.3333333333333333,
              "#9c179e"
             ],
             [
              0.4444444444444444,
              "#bd3786"
             ],
             [
              0.5555555555555556,
              "#d8576b"
             ],
             [
              0.6666666666666666,
              "#ed7953"
             ],
             [
              0.7777777777777778,
              "#fb9f3a"
             ],
             [
              0.8888888888888888,
              "#fdca26"
             ],
             [
              1,
              "#f0f921"
             ]
            ],
            "type": "contour"
           }
          ],
          "contourcarpet": [
           {
            "colorbar": {
             "outlinewidth": 0,
             "ticks": ""
            },
            "type": "contourcarpet"
           }
          ],
          "heatmap": [
           {
            "colorbar": {
             "outlinewidth": 0,
             "ticks": ""
            },
            "colorscale": [
             [
              0,
              "#0d0887"
             ],
             [
              0.1111111111111111,
              "#46039f"
             ],
             [
              0.2222222222222222,
              "#7201a8"
             ],
             [
              0.3333333333333333,
              "#9c179e"
             ],
             [
              0.4444444444444444,
              "#bd3786"
             ],
             [
              0.5555555555555556,
              "#d8576b"
             ],
             [
              0.6666666666666666,
              "#ed7953"
             ],
             [
              0.7777777777777778,
              "#fb9f3a"
             ],
             [
              0.8888888888888888,
              "#fdca26"
             ],
             [
              1,
              "#f0f921"
             ]
            ],
            "type": "heatmap"
           }
          ],
          "heatmapgl": [
           {
            "colorbar": {
             "outlinewidth": 0,
             "ticks": ""
            },
            "colorscale": [
             [
              0,
              "#0d0887"
             ],
             [
              0.1111111111111111,
              "#46039f"
             ],
             [
              0.2222222222222222,
              "#7201a8"
             ],
             [
              0.3333333333333333,
              "#9c179e"
             ],
             [
              0.4444444444444444,
              "#bd3786"
             ],
             [
              0.5555555555555556,
              "#d8576b"
             ],
             [
              0.6666666666666666,
              "#ed7953"
             ],
             [
              0.7777777777777778,
              "#fb9f3a"
             ],
             [
              0.8888888888888888,
              "#fdca26"
             ],
             [
              1,
              "#f0f921"
             ]
            ],
            "type": "heatmapgl"
           }
          ],
          "histogram": [
           {
            "marker": {
             "pattern": {
              "fillmode": "overlay",
              "size": 10,
              "solidity": 0.2
             }
            },
            "type": "histogram"
           }
          ],
          "histogram2d": [
           {
            "colorbar": {
             "outlinewidth": 0,
             "ticks": ""
            },
            "colorscale": [
             [
              0,
              "#0d0887"
             ],
             [
              0.1111111111111111,
              "#46039f"
             ],
             [
              0.2222222222222222,
              "#7201a8"
             ],
             [
              0.3333333333333333,
              "#9c179e"
             ],
             [
              0.4444444444444444,
              "#bd3786"
             ],
             [
              0.5555555555555556,
              "#d8576b"
             ],
             [
              0.6666666666666666,
              "#ed7953"
             ],
             [
              0.7777777777777778,
              "#fb9f3a"
             ],
             [
              0.8888888888888888,
              "#fdca26"
             ],
             [
              1,
              "#f0f921"
             ]
            ],
            "type": "histogram2d"
           }
          ],
          "histogram2dcontour": [
           {
            "colorbar": {
             "outlinewidth": 0,
             "ticks": ""
            },
            "colorscale": [
             [
              0,
              "#0d0887"
             ],
             [
              0.1111111111111111,
              "#46039f"
             ],
             [
              0.2222222222222222,
              "#7201a8"
             ],
             [
              0.3333333333333333,
              "#9c179e"
             ],
             [
              0.4444444444444444,
              "#bd3786"
             ],
             [
              0.5555555555555556,
              "#d8576b"
             ],
             [
              0.6666666666666666,
              "#ed7953"
             ],
             [
              0.7777777777777778,
              "#fb9f3a"
             ],
             [
              0.8888888888888888,
              "#fdca26"
             ],
             [
              1,
              "#f0f921"
             ]
            ],
            "type": "histogram2dcontour"
           }
          ],
          "mesh3d": [
           {
            "colorbar": {
             "outlinewidth": 0,
             "ticks": ""
            },
            "type": "mesh3d"
           }
          ],
          "parcoords": [
           {
            "line": {
             "colorbar": {
              "outlinewidth": 0,
              "ticks": ""
             }
            },
            "type": "parcoords"
           }
          ],
          "pie": [
           {
            "automargin": true,
            "type": "pie"
           }
          ],
          "scatter": [
           {
            "fillpattern": {
             "fillmode": "overlay",
             "size": 10,
             "solidity": 0.2
            },
            "type": "scatter"
           }
          ],
          "scatter3d": [
           {
            "line": {
             "colorbar": {
              "outlinewidth": 0,
              "ticks": ""
             }
            },
            "marker": {
             "colorbar": {
              "outlinewidth": 0,
              "ticks": ""
             }
            },
            "type": "scatter3d"
           }
          ],
          "scattercarpet": [
           {
            "marker": {
             "colorbar": {
              "outlinewidth": 0,
              "ticks": ""
             }
            },
            "type": "scattercarpet"
           }
          ],
          "scattergeo": [
           {
            "marker": {
             "colorbar": {
              "outlinewidth": 0,
              "ticks": ""
             }
            },
            "type": "scattergeo"
           }
          ],
          "scattergl": [
           {
            "marker": {
             "colorbar": {
              "outlinewidth": 0,
              "ticks": ""
             }
            },
            "type": "scattergl"
           }
          ],
          "scattermapbox": [
           {
            "marker": {
             "colorbar": {
              "outlinewidth": 0,
              "ticks": ""
             }
            },
            "type": "scattermapbox"
           }
          ],
          "scatterpolar": [
           {
            "marker": {
             "colorbar": {
              "outlinewidth": 0,
              "ticks": ""
             }
            },
            "type": "scatterpolar"
           }
          ],
          "scatterpolargl": [
           {
            "marker": {
             "colorbar": {
              "outlinewidth": 0,
              "ticks": ""
             }
            },
            "type": "scatterpolargl"
           }
          ],
          "scatterternary": [
           {
            "marker": {
             "colorbar": {
              "outlinewidth": 0,
              "ticks": ""
             }
            },
            "type": "scatterternary"
           }
          ],
          "surface": [
           {
            "colorbar": {
             "outlinewidth": 0,
             "ticks": ""
            },
            "colorscale": [
             [
              0,
              "#0d0887"
             ],
             [
              0.1111111111111111,
              "#46039f"
             ],
             [
              0.2222222222222222,
              "#7201a8"
             ],
             [
              0.3333333333333333,
              "#9c179e"
             ],
             [
              0.4444444444444444,
              "#bd3786"
             ],
             [
              0.5555555555555556,
              "#d8576b"
             ],
             [
              0.6666666666666666,
              "#ed7953"
             ],
             [
              0.7777777777777778,
              "#fb9f3a"
             ],
             [
              0.8888888888888888,
              "#fdca26"
             ],
             [
              1,
              "#f0f921"
             ]
            ],
            "type": "surface"
           }
          ],
          "table": [
           {
            "cells": {
             "fill": {
              "color": "#EBF0F8"
             },
             "line": {
              "color": "white"
             }
            },
            "header": {
             "fill": {
              "color": "#C8D4E3"
             },
             "line": {
              "color": "white"
             }
            },
            "type": "table"
           }
          ]
         },
         "layout": {
          "annotationdefaults": {
           "arrowcolor": "#2a3f5f",
           "arrowhead": 0,
           "arrowwidth": 1
          },
          "autotypenumbers": "strict",
          "coloraxis": {
           "colorbar": {
            "outlinewidth": 0,
            "ticks": ""
           }
          },
          "colorscale": {
           "diverging": [
            [
             0,
             "#8e0152"
            ],
            [
             0.1,
             "#c51b7d"
            ],
            [
             0.2,
             "#de77ae"
            ],
            [
             0.3,
             "#f1b6da"
            ],
            [
             0.4,
             "#fde0ef"
            ],
            [
             0.5,
             "#f7f7f7"
            ],
            [
             0.6,
             "#e6f5d0"
            ],
            [
             0.7,
             "#b8e186"
            ],
            [
             0.8,
             "#7fbc41"
            ],
            [
             0.9,
             "#4d9221"
            ],
            [
             1,
             "#276419"
            ]
           ],
           "sequential": [
            [
             0,
             "#0d0887"
            ],
            [
             0.1111111111111111,
             "#46039f"
            ],
            [
             0.2222222222222222,
             "#7201a8"
            ],
            [
             0.3333333333333333,
             "#9c179e"
            ],
            [
             0.4444444444444444,
             "#bd3786"
            ],
            [
             0.5555555555555556,
             "#d8576b"
            ],
            [
             0.6666666666666666,
             "#ed7953"
            ],
            [
             0.7777777777777778,
             "#fb9f3a"
            ],
            [
             0.8888888888888888,
             "#fdca26"
            ],
            [
             1,
             "#f0f921"
            ]
           ],
           "sequentialminus": [
            [
             0,
             "#0d0887"
            ],
            [
             0.1111111111111111,
             "#46039f"
            ],
            [
             0.2222222222222222,
             "#7201a8"
            ],
            [
             0.3333333333333333,
             "#9c179e"
            ],
            [
             0.4444444444444444,
             "#bd3786"
            ],
            [
             0.5555555555555556,
             "#d8576b"
            ],
            [
             0.6666666666666666,
             "#ed7953"
            ],
            [
             0.7777777777777778,
             "#fb9f3a"
            ],
            [
             0.8888888888888888,
             "#fdca26"
            ],
            [
             1,
             "#f0f921"
            ]
           ]
          },
          "colorway": [
           "#636efa",
           "#EF553B",
           "#00cc96",
           "#ab63fa",
           "#FFA15A",
           "#19d3f3",
           "#FF6692",
           "#B6E880",
           "#FF97FF",
           "#FECB52"
          ],
          "font": {
           "color": "#2a3f5f"
          },
          "geo": {
           "bgcolor": "white",
           "lakecolor": "white",
           "landcolor": "#E5ECF6",
           "showlakes": true,
           "showland": true,
           "subunitcolor": "white"
          },
          "hoverlabel": {
           "align": "left"
          },
          "hovermode": "closest",
          "mapbox": {
           "style": "light"
          },
          "paper_bgcolor": "white",
          "plot_bgcolor": "#E5ECF6",
          "polar": {
           "angularaxis": {
            "gridcolor": "white",
            "linecolor": "white",
            "ticks": ""
           },
           "bgcolor": "#E5ECF6",
           "radialaxis": {
            "gridcolor": "white",
            "linecolor": "white",
            "ticks": ""
           }
          },
          "scene": {
           "xaxis": {
            "backgroundcolor": "#E5ECF6",
            "gridcolor": "white",
            "gridwidth": 2,
            "linecolor": "white",
            "showbackground": true,
            "ticks": "",
            "zerolinecolor": "white"
           },
           "yaxis": {
            "backgroundcolor": "#E5ECF6",
            "gridcolor": "white",
            "gridwidth": 2,
            "linecolor": "white",
            "showbackground": true,
            "ticks": "",
            "zerolinecolor": "white"
           },
           "zaxis": {
            "backgroundcolor": "#E5ECF6",
            "gridcolor": "white",
            "gridwidth": 2,
            "linecolor": "white",
            "showbackground": true,
            "ticks": "",
            "zerolinecolor": "white"
           }
          },
          "shapedefaults": {
           "line": {
            "color": "#2a3f5f"
           }
          },
          "ternary": {
           "aaxis": {
            "gridcolor": "white",
            "linecolor": "white",
            "ticks": ""
           },
           "baxis": {
            "gridcolor": "white",
            "linecolor": "white",
            "ticks": ""
           },
           "bgcolor": "#E5ECF6",
           "caxis": {
            "gridcolor": "white",
            "linecolor": "white",
            "ticks": ""
           }
          },
          "title": {
           "x": 0.05
          },
          "xaxis": {
           "automargin": true,
           "gridcolor": "white",
           "linecolor": "white",
           "ticks": "",
           "title": {
            "standoff": 15
           },
           "zerolinecolor": "white",
           "zerolinewidth": 2
          },
          "yaxis": {
           "automargin": true,
           "gridcolor": "white",
           "linecolor": "white",
           "ticks": "",
           "title": {
            "standoff": 15
           },
           "zerolinecolor": "white",
           "zerolinewidth": 2
          }
         }
        },
        "title": {
         "text": "100 Most Abundant Leaf Microbe Genera by Broad Geographic Location PCA"
        },
        "xaxis": {
         "anchor": "y",
         "domain": [
          0,
          1
         ],
         "title": {
          "text": "PC1 34.2%"
         }
        },
        "yaxis": {
         "anchor": "x",
         "domain": [
          0,
          1
         ],
         "title": {
          "text": "PC2 5.6%"
         }
        }
       }
      },
      "text/html": [
       "<div>                            <div id=\"fa48d0e6-cf64-4554-ba46-d3abd30b9494\" class=\"plotly-graph-div\" style=\"height:525px; width:100%;\"></div>            <script type=\"text/javascript\">                require([\"plotly\"], function(Plotly) {                    window.PLOTLYENV=window.PLOTLYENV || {};                                    if (document.getElementById(\"fa48d0e6-cf64-4554-ba46-d3abd30b9494\")) {                    Plotly.newPlot(                        \"fa48d0e6-cf64-4554-ba46-d3abd30b9494\",                        [{\"hovertemplate\":\"color=Cole Mountain<br>0=%{x}<br>1=%{y}<extra></extra>\",\"legendgroup\":\"Cole Mountain\",\"marker\":{\"color\":\"#636efa\",\"symbol\":\"circle\"},\"mode\":\"markers\",\"name\":\"Cole Mountain\",\"orientation\":\"v\",\"showlegend\":true,\"x\":[-18.445129415152,-17.607434654448344,-17.329390300274127,-7.39713203786074,-17.147965068230103,-4.967749373955504,-15.998257533990055,-12.784415534756773,-1.6091762336340316,-18.06112360818947,-15.48091258448164,-9.496618253093914,-15.849675889491055,-7.533562685997259,-12.568965306747545,-13.061208513948987,-17.205339918494577,-5.50534216562243,-17.463087587716213,25.64339090901556,23.725407647197933,23.40503531880145,25.088560197020247,24.098828333859128,25.281355871774622,24.527034893710333,23.722026065877017,25.291983095657546,23.28087000221166,24.814942816422832,-11.251813877461386,-11.719387653534245,-20.062271754155585,-12.804663195561156,-15.044520807580273,-12.944744938695518,-12.375843058153814,-15.116346649633776,-14.036799808489777,-14.397446322741233,-21.18452886257768,-17.633047935822855,-12.44490867912504,-16.158408710118163,-7.119140039516798,-19.08281211961441,-13.027071234126414,-10.678718397389249,-12.825229852395095,-10.818540445378037,-7.885929392865953,-11.809748175684371,-15.433335922234344,-7.076192956236394,-16.91259323070706,-13.902107247277282,-12.07272055599909,-17.621273707629715,-13.704361163503288,-13.217573803284006,-13.178821778940113,-12.053183608796596,24.702884838648146,26.91501934944353,25.440192949267235,26.01382868715176,24.961028045201452,25.10725797317074,26.152447759798896,26.33345010315042,26.297415742731417,26.716159622027952,23.789572522846512,26.59897037844412,25.116554550208946,25.1999269144908,23.175533278710123,25.588669861065377,25.45851799628183],\"xaxis\":\"x\",\"y\":[-0.9848377687945421,-1.3579171114649307,-1.6065067819173362,6.568298655943331,-2.0743823011486024,5.034572796992868,-1.4428668010691192,3.4982868903954025,12.006213167289053,-3.7497833061103534,-0.3439150804226769,3.698615458133364,-1.6982819764107693,3.3342279911051564,2.009749158516368,1.4304289912853798,-2.0054532107645486,9.381627589531622,-2.555716416046443,-6.812358251188189,-2.9875785493142426,-4.554632338050553,-5.712725352690241,-3.8305224753231775,-5.980387276580716,-4.572387237252802,-2.9751242314906747,-5.977599971647783,-4.667442506272966,-5.2529347854218935,3.487436427147335,3.034100229754839,-5.985110031649741,-1.7255168652033723,-1.7800292453034665,0.3178466124054137,1.3700798694885037,-3.8533728794628566,-1.9617727489658316,-1.6307052513553246,-6.123476007421336,-3.2316252011779754,0.7300657097211118,-0.2045982536765442,5.037610427511138,-3.5008267625943374,1.3205383578215337,1.9740628293439408,0.8444575419570671,2.78845126647781,6.698967432943559,-0.22326306097717075,-0.7768026126692811,5.036475041177499,-1.7891169625525714,0.7996391675069108,2.0310045912883594,-3.326659060648652,-0.8091579299660994,-0.05070706625242056,-0.23249400082427643,0.10152139598446774,-5.552203657500516,-10.21697181769797,-5.838631907712585,-8.811834364837003,-4.278974196337022,-5.942981976766047,-9.217291351424143,-7.947140903954056,-7.896869952091225,-9.917469327920898,-3.1151730547931877,-7.79894474549868,-4.792859539016745,-5.484996343502984,-1.0799442312360203,-5.830189231430045,-5.978908284298755],\"yaxis\":\"y\",\"type\":\"scatter\"},{\"hovertemplate\":\"color=HR<br>0=%{x}<br>1=%{y}<extra></extra>\",\"legendgroup\":\"HR\",\"marker\":{\"color\":\"#EF553B\",\"symbol\":\"circle\"},\"mode\":\"markers\",\"name\":\"HR\",\"orientation\":\"v\",\"showlegend\":true,\"x\":[5.7866614280345186,14.65823843577824,5.3113786830123715,10.530823538568209],\"xaxis\":\"x\",\"y\":[15.206199552676559,16.5570556689864,14.069916035917872,17.68768019915197],\"yaxis\":\"y\",\"type\":\"scatter\"},{\"hovertemplate\":\"color=Wintergreen<br>0=%{x}<br>1=%{y}<extra></extra>\",\"legendgroup\":\"Wintergreen\",\"marker\":{\"color\":\"#00cc96\",\"symbol\":\"circle\"},\"mode\":\"markers\",\"name\":\"Wintergreen\",\"orientation\":\"v\",\"showlegend\":true,\"x\":[-20.276557076428965,-18.48122203256458,-17.29033062632496,-17.510365543043626,-21.621944901322546,-18.348436647293173,-12.910043723194283,-18.22455995912229,-17.942048570968787,-15.858816537747169,-21.161885536451827,-20.087970985540327,-18.076779003459436,-19.21273376116758,-20.122076927039423,-18.709309934373895,-19.212777283762396,-14.287537730319142,-21.7364224748497,-19.423537624981822,-18.496181671467657,-20.23187283377886,-16.820763100689796,-21.784221790271374,-20.601466619358114,-16.008185929754124,-14.500184795818349,-17.84489380458847,-17.839267374444923,-14.115031954616274,-21.105348773927343,-16.92455697019582,16.13770563294387,17.22562502572933,17.170050083715108,17.102718520233648,15.407934224965222,8.211574070024279,-1.2147196363247672,6.795759274552593,5.948794322800099,14.855118172435558,11.212810287759185,13.767121348419382,9.13810249597604,12.628466511638765,15.564747825778019,14.008586109783618,13.912435156826298,14.998268207884845,15.558179362790534],\"xaxis\":\"x\",\"y\":[-4.892175550378389,-5.251297138193174,-3.6975111112762344,-1.6905400129290575,-8.014845951943892,-3.0735128853620455,-1.773537231396065,-4.612211822318733,-4.397556701265597,-1.195969422367097,-5.745987086120886,-4.4038777326719005,-3.771697765248838,-5.5129104794230015,-5.116836940915253,-4.267394478806439,-2.981019243265156,0.01864273760935078,-8.25976313418338,-4.92253916881335,-4.1508109978427274,-5.264934870322736,-0.6137092328476861,-6.365317673243951,-4.708223235200919,-0.6269504289770856,0.9785387297154832,-3.7360652909285075,-2.528505856452007,0.586877254841457,-3.5987321389741225,-1.446738452576969,11.203231305658752,19.05202704820902,11.234582521752163,15.200173751272535,16.792582981436354,19.885345808685674,13.343219329588836,17.058543946635066,16.87100204409816,12.902673869729664,17.662368372667036,14.077101955528043,15.582995051844106,14.591101756893236,11.393511293451041,14.535781129945141,12.905045233744747,14.94731286762233,13.720362291517356],\"yaxis\":\"y\",\"type\":\"scatter\"},{\"hovertemplate\":\"color=Blacksburg<br>0=%{x}<br>1=%{y}<extra></extra>\",\"legendgroup\":\"Blacksburg\",\"marker\":{\"color\":\"#ab63fa\",\"symbol\":\"circle\"},\"mode\":\"markers\",\"name\":\"Blacksburg\",\"orientation\":\"v\",\"showlegend\":true,\"x\":[16.654053474201554,-14.151429063847342,-14.638224138587805,-20.059293456721218,-13.920706353254918,-12.058703001465634,-6.128277918174116,-9.69432651932338,25.98153213921891,25.68047009279564,25.076090409888568,25.027762251868094,25.128671452655002,26.390996245100595,26.066498877719695,26.645633835415268,25.178095094041453,25.16762484090884,27.553929663009942,26.7188527351326,26.217618040482403,27.87379154160373],\"xaxis\":\"x\",\"y\":[12.255759356272685,0.09832883343720515,-2.3422951534830005,-5.605651412086742,-1.303771310882709,2.709855591158125,4.47333619046377,0.8707726740307293,-7.704528989407533,-7.520291247956301,-5.0219297234278315,-6.850055729302939,-5.970879521716774,-8.802354252638526,-7.104115350341335,-7.85389163725637,-6.269061936673178,-4.827732921771629,-10.777613756445202,-7.798852451232092,-9.432575042441004,-11.149457956853404],\"yaxis\":\"y\",\"type\":\"scatter\"}],                        {\"template\":{\"data\":{\"histogram2dcontour\":[{\"type\":\"histogram2dcontour\",\"colorbar\":{\"outlinewidth\":0,\"ticks\":\"\"},\"colorscale\":[[0.0,\"#0d0887\"],[0.1111111111111111,\"#46039f\"],[0.2222222222222222,\"#7201a8\"],[0.3333333333333333,\"#9c179e\"],[0.4444444444444444,\"#bd3786\"],[0.5555555555555556,\"#d8576b\"],[0.6666666666666666,\"#ed7953\"],[0.7777777777777778,\"#fb9f3a\"],[0.8888888888888888,\"#fdca26\"],[1.0,\"#f0f921\"]]}],\"choropleth\":[{\"type\":\"choropleth\",\"colorbar\":{\"outlinewidth\":0,\"ticks\":\"\"}}],\"histogram2d\":[{\"type\":\"histogram2d\",\"colorbar\":{\"outlinewidth\":0,\"ticks\":\"\"},\"colorscale\":[[0.0,\"#0d0887\"],[0.1111111111111111,\"#46039f\"],[0.2222222222222222,\"#7201a8\"],[0.3333333333333333,\"#9c179e\"],[0.4444444444444444,\"#bd3786\"],[0.5555555555555556,\"#d8576b\"],[0.6666666666666666,\"#ed7953\"],[0.7777777777777778,\"#fb9f3a\"],[0.8888888888888888,\"#fdca26\"],[1.0,\"#f0f921\"]]}],\"heatmap\":[{\"type\":\"heatmap\",\"colorbar\":{\"outlinewidth\":0,\"ticks\":\"\"},\"colorscale\":[[0.0,\"#0d0887\"],[0.1111111111111111,\"#46039f\"],[0.2222222222222222,\"#7201a8\"],[0.3333333333333333,\"#9c179e\"],[0.4444444444444444,\"#bd3786\"],[0.5555555555555556,\"#d8576b\"],[0.6666666666666666,\"#ed7953\"],[0.7777777777777778,\"#fb9f3a\"],[0.8888888888888888,\"#fdca26\"],[1.0,\"#f0f921\"]]}],\"heatmapgl\":[{\"type\":\"heatmapgl\",\"colorbar\":{\"outlinewidth\":0,\"ticks\":\"\"},\"colorscale\":[[0.0,\"#0d0887\"],[0.1111111111111111,\"#46039f\"],[0.2222222222222222,\"#7201a8\"],[0.3333333333333333,\"#9c179e\"],[0.4444444444444444,\"#bd3786\"],[0.5555555555555556,\"#d8576b\"],[0.6666666666666666,\"#ed7953\"],[0.7777777777777778,\"#fb9f3a\"],[0.8888888888888888,\"#fdca26\"],[1.0,\"#f0f921\"]]}],\"contourcarpet\":[{\"type\":\"contourcarpet\",\"colorbar\":{\"outlinewidth\":0,\"ticks\":\"\"}}],\"contour\":[{\"type\":\"contour\",\"colorbar\":{\"outlinewidth\":0,\"ticks\":\"\"},\"colorscale\":[[0.0,\"#0d0887\"],[0.1111111111111111,\"#46039f\"],[0.2222222222222222,\"#7201a8\"],[0.3333333333333333,\"#9c179e\"],[0.4444444444444444,\"#bd3786\"],[0.5555555555555556,\"#d8576b\"],[0.6666666666666666,\"#ed7953\"],[0.7777777777777778,\"#fb9f3a\"],[0.8888888888888888,\"#fdca26\"],[1.0,\"#f0f921\"]]}],\"surface\":[{\"type\":\"surface\",\"colorbar\":{\"outlinewidth\":0,\"ticks\":\"\"},\"colorscale\":[[0.0,\"#0d0887\"],[0.1111111111111111,\"#46039f\"],[0.2222222222222222,\"#7201a8\"],[0.3333333333333333,\"#9c179e\"],[0.4444444444444444,\"#bd3786\"],[0.5555555555555556,\"#d8576b\"],[0.6666666666666666,\"#ed7953\"],[0.7777777777777778,\"#fb9f3a\"],[0.8888888888888888,\"#fdca26\"],[1.0,\"#f0f921\"]]}],\"mesh3d\":[{\"type\":\"mesh3d\",\"colorbar\":{\"outlinewidth\":0,\"ticks\":\"\"}}],\"scatter\":[{\"fillpattern\":{\"fillmode\":\"overlay\",\"size\":10,\"solidity\":0.2},\"type\":\"scatter\"}],\"parcoords\":[{\"type\":\"parcoords\",\"line\":{\"colorbar\":{\"outlinewidth\":0,\"ticks\":\"\"}}}],\"scatterpolargl\":[{\"type\":\"scatterpolargl\",\"marker\":{\"colorbar\":{\"outlinewidth\":0,\"ticks\":\"\"}}}],\"bar\":[{\"error_x\":{\"color\":\"#2a3f5f\"},\"error_y\":{\"color\":\"#2a3f5f\"},\"marker\":{\"line\":{\"color\":\"#E5ECF6\",\"width\":0.5},\"pattern\":{\"fillmode\":\"overlay\",\"size\":10,\"solidity\":0.2}},\"type\":\"bar\"}],\"scattergeo\":[{\"type\":\"scattergeo\",\"marker\":{\"colorbar\":{\"outlinewidth\":0,\"ticks\":\"\"}}}],\"scatterpolar\":[{\"type\":\"scatterpolar\",\"marker\":{\"colorbar\":{\"outlinewidth\":0,\"ticks\":\"\"}}}],\"histogram\":[{\"marker\":{\"pattern\":{\"fillmode\":\"overlay\",\"size\":10,\"solidity\":0.2}},\"type\":\"histogram\"}],\"scattergl\":[{\"type\":\"scattergl\",\"marker\":{\"colorbar\":{\"outlinewidth\":0,\"ticks\":\"\"}}}],\"scatter3d\":[{\"type\":\"scatter3d\",\"line\":{\"colorbar\":{\"outlinewidth\":0,\"ticks\":\"\"}},\"marker\":{\"colorbar\":{\"outlinewidth\":0,\"ticks\":\"\"}}}],\"scattermapbox\":[{\"type\":\"scattermapbox\",\"marker\":{\"colorbar\":{\"outlinewidth\":0,\"ticks\":\"\"}}}],\"scatterternary\":[{\"type\":\"scatterternary\",\"marker\":{\"colorbar\":{\"outlinewidth\":0,\"ticks\":\"\"}}}],\"scattercarpet\":[{\"type\":\"scattercarpet\",\"marker\":{\"colorbar\":{\"outlinewidth\":0,\"ticks\":\"\"}}}],\"carpet\":[{\"aaxis\":{\"endlinecolor\":\"#2a3f5f\",\"gridcolor\":\"white\",\"linecolor\":\"white\",\"minorgridcolor\":\"white\",\"startlinecolor\":\"#2a3f5f\"},\"baxis\":{\"endlinecolor\":\"#2a3f5f\",\"gridcolor\":\"white\",\"linecolor\":\"white\",\"minorgridcolor\":\"white\",\"startlinecolor\":\"#2a3f5f\"},\"type\":\"carpet\"}],\"table\":[{\"cells\":{\"fill\":{\"color\":\"#EBF0F8\"},\"line\":{\"color\":\"white\"}},\"header\":{\"fill\":{\"color\":\"#C8D4E3\"},\"line\":{\"color\":\"white\"}},\"type\":\"table\"}],\"barpolar\":[{\"marker\":{\"line\":{\"color\":\"#E5ECF6\",\"width\":0.5},\"pattern\":{\"fillmode\":\"overlay\",\"size\":10,\"solidity\":0.2}},\"type\":\"barpolar\"}],\"pie\":[{\"automargin\":true,\"type\":\"pie\"}]},\"layout\":{\"autotypenumbers\":\"strict\",\"colorway\":[\"#636efa\",\"#EF553B\",\"#00cc96\",\"#ab63fa\",\"#FFA15A\",\"#19d3f3\",\"#FF6692\",\"#B6E880\",\"#FF97FF\",\"#FECB52\"],\"font\":{\"color\":\"#2a3f5f\"},\"hovermode\":\"closest\",\"hoverlabel\":{\"align\":\"left\"},\"paper_bgcolor\":\"white\",\"plot_bgcolor\":\"#E5ECF6\",\"polar\":{\"bgcolor\":\"#E5ECF6\",\"angularaxis\":{\"gridcolor\":\"white\",\"linecolor\":\"white\",\"ticks\":\"\"},\"radialaxis\":{\"gridcolor\":\"white\",\"linecolor\":\"white\",\"ticks\":\"\"}},\"ternary\":{\"bgcolor\":\"#E5ECF6\",\"aaxis\":{\"gridcolor\":\"white\",\"linecolor\":\"white\",\"ticks\":\"\"},\"baxis\":{\"gridcolor\":\"white\",\"linecolor\":\"white\",\"ticks\":\"\"},\"caxis\":{\"gridcolor\":\"white\",\"linecolor\":\"white\",\"ticks\":\"\"}},\"coloraxis\":{\"colorbar\":{\"outlinewidth\":0,\"ticks\":\"\"}},\"colorscale\":{\"sequential\":[[0.0,\"#0d0887\"],[0.1111111111111111,\"#46039f\"],[0.2222222222222222,\"#7201a8\"],[0.3333333333333333,\"#9c179e\"],[0.4444444444444444,\"#bd3786\"],[0.5555555555555556,\"#d8576b\"],[0.6666666666666666,\"#ed7953\"],[0.7777777777777778,\"#fb9f3a\"],[0.8888888888888888,\"#fdca26\"],[1.0,\"#f0f921\"]],\"sequentialminus\":[[0.0,\"#0d0887\"],[0.1111111111111111,\"#46039f\"],[0.2222222222222222,\"#7201a8\"],[0.3333333333333333,\"#9c179e\"],[0.4444444444444444,\"#bd3786\"],[0.5555555555555556,\"#d8576b\"],[0.6666666666666666,\"#ed7953\"],[0.7777777777777778,\"#fb9f3a\"],[0.8888888888888888,\"#fdca26\"],[1.0,\"#f0f921\"]],\"diverging\":[[0,\"#8e0152\"],[0.1,\"#c51b7d\"],[0.2,\"#de77ae\"],[0.3,\"#f1b6da\"],[0.4,\"#fde0ef\"],[0.5,\"#f7f7f7\"],[0.6,\"#e6f5d0\"],[0.7,\"#b8e186\"],[0.8,\"#7fbc41\"],[0.9,\"#4d9221\"],[1,\"#276419\"]]},\"xaxis\":{\"gridcolor\":\"white\",\"linecolor\":\"white\",\"ticks\":\"\",\"title\":{\"standoff\":15},\"zerolinecolor\":\"white\",\"automargin\":true,\"zerolinewidth\":2},\"yaxis\":{\"gridcolor\":\"white\",\"linecolor\":\"white\",\"ticks\":\"\",\"title\":{\"standoff\":15},\"zerolinecolor\":\"white\",\"automargin\":true,\"zerolinewidth\":2},\"scene\":{\"xaxis\":{\"backgroundcolor\":\"#E5ECF6\",\"gridcolor\":\"white\",\"linecolor\":\"white\",\"showbackground\":true,\"ticks\":\"\",\"zerolinecolor\":\"white\",\"gridwidth\":2},\"yaxis\":{\"backgroundcolor\":\"#E5ECF6\",\"gridcolor\":\"white\",\"linecolor\":\"white\",\"showbackground\":true,\"ticks\":\"\",\"zerolinecolor\":\"white\",\"gridwidth\":2},\"zaxis\":{\"backgroundcolor\":\"#E5ECF6\",\"gridcolor\":\"white\",\"linecolor\":\"white\",\"showbackground\":true,\"ticks\":\"\",\"zerolinecolor\":\"white\",\"gridwidth\":2}},\"shapedefaults\":{\"line\":{\"color\":\"#2a3f5f\"}},\"annotationdefaults\":{\"arrowcolor\":\"#2a3f5f\",\"arrowhead\":0,\"arrowwidth\":1},\"geo\":{\"bgcolor\":\"white\",\"landcolor\":\"#E5ECF6\",\"subunitcolor\":\"white\",\"showland\":true,\"showlakes\":true,\"lakecolor\":\"white\"},\"title\":{\"x\":0.05},\"mapbox\":{\"style\":\"light\"}}},\"xaxis\":{\"anchor\":\"y\",\"domain\":[0.0,1.0],\"title\":{\"text\":\"PC1 34.2%\"}},\"yaxis\":{\"anchor\":\"x\",\"domain\":[0.0,1.0],\"title\":{\"text\":\"PC2 5.6%\"}},\"legend\":{\"title\":{\"text\":\"color\"},\"tracegroupgap\":0},\"margin\":{\"t\":60},\"title\":{\"text\":\"100 Most Abundant Leaf Microbe Genera by Broad Geographic Location PCA\"}},                        {\"responsive\": true}                    ).then(function(){\n",
       "                            \n",
       "var gd = document.getElementById('fa48d0e6-cf64-4554-ba46-d3abd30b9494');\n",
       "var x = new MutationObserver(function (mutations, observer) {{\n",
       "        var display = window.getComputedStyle(gd).display;\n",
       "        if (!display || display === 'none') {{\n",
       "            console.log([gd, 'removed!']);\n",
       "            Plotly.purge(gd);\n",
       "            observer.disconnect();\n",
       "        }}\n",
       "}});\n",
       "\n",
       "// Listen for the removal of the full notebook cells\n",
       "var notebookContainer = gd.closest('#notebook-container');\n",
       "if (notebookContainer) {{\n",
       "    x.observe(notebookContainer, {childList: true});\n",
       "}}\n",
       "\n",
       "// Listen for the clearing of the current output cell\n",
       "var outputEl = gd.closest('.output');\n",
       "if (outputEl) {{\n",
       "    x.observe(outputEl, {childList: true});\n",
       "}}\n",
       "\n",
       "                        })                };                });            </script>        </div>"
      ]
     },
     "metadata": {},
     "output_type": "display_data"
    }
   ],
   "source": [
    "X = pc2_df[top_100.index]\n",
    "\n",
    "pca = PCA(n_components=2)\n",
    "components = pca.fit_transform(X)\n",
    "\n",
    "fig = px.scatter(components, x=0, y=1, color=pc2_df['site_id'])\n",
    "fig.update_layout(\n",
    "    title = \"100 Most Abundant Leaf Microbe Genera by Broad Geographic Location PCA\",\n",
    "    xaxis_title=\"PC1 \" + str(round(100*pca.explained_variance_ratio_[0], 1)) + '%',\n",
    "    yaxis_title=\"PC2 \" + str(round(100*pca.explained_variance_ratio_[1], 1)) + '%')\n",
    "fig.show()"
   ]
  },
  {
   "cell_type": "code",
   "execution_count": 23,
   "id": "9ff1cfa4",
   "metadata": {},
   "outputs": [],
   "source": [
    "### Keping top 100 genera"
   ]
  },
  {
   "cell_type": "code",
   "execution_count": 28,
   "id": "19caf3a2",
   "metadata": {},
   "outputs": [],
   "source": [
    "pc3_df = pivoted_df.copy()"
   ]
  },
  {
   "cell_type": "code",
   "execution_count": 29,
   "id": "23ebfa54",
   "metadata": {},
   "outputs": [],
   "source": [
    "sum_col = pc3_df[genera_col].sum()\n",
    "top_50 = sum_col.nlargest(100)\n",
    "select_columns = (top_50.index).tolist()\n",
    "select_columns.insert(0, 'V2')\n",
    "select_columns.insert(0, 'sample_id')\n",
    "select_columns.insert(0, 'site_id')\n",
    "select_columns.insert(0, 'species')\n",
    "pc3_df = pc3_df[select_columns]"
   ]
  },
  {
   "cell_type": "code",
   "execution_count": 30,
   "id": "b408f4ca",
   "metadata": {},
   "outputs": [],
   "source": [
    "pc3_df[top_50.index] = StandardScaler().fit_transform(pc3_df[top_50.index])  "
   ]
  },
  {
   "cell_type": "code",
   "execution_count": 31,
   "id": "eac9ccbf",
   "metadata": {},
   "outputs": [
    {
     "data": {
      "application/vnd.plotly.v1+json": {
       "config": {
        "plotlyServerURL": "https://plot.ly"
       },
       "data": [
        {
         "hovertemplate": "color=CMB<br>0=%{x}<br>1=%{y}<extra></extra>",
         "legendgroup": "CMB",
         "marker": {
          "color": "#636efa",
          "symbol": "circle"
         },
         "mode": "markers",
         "name": "CMB",
         "orientation": "v",
         "showlegend": true,
         "type": "scatter",
         "x": [
          -3.869218841088769,
          -4.23089393956293,
          -3.7619601641747322,
          -4.09097784251389,
          -3.9702824505528875,
          -3.3431720084159817,
          -4.304615907821897,
          -4.4212418153951,
          -3.4283779047679195,
          -3.782007108036632,
          -3.591013612048619,
          -4.109281525832044,
          -3.8379043961031276,
          -3.7133779101101276,
          -4.0084339352296565,
          -3.8028276309308175,
          -4.670162307853379,
          -3.6113878522234826,
          -4.6019769510687265
         ],
         "xaxis": "x",
         "y": [
          -1.5457845211948384,
          -1.6384666840867517,
          -2.2487306442902018,
          -2.3554053773392707,
          -2.640170953444384,
          -0.15718283478239786,
          -0.4167488284085961,
          -2.6688562412806687,
          -2.9792270983562403,
          -2.324593181354694,
          -1.7121833725326179,
          -1.8016253333585903,
          -2.4068918128659624,
          0.399113914909385,
          -2.0681354626881236,
          -1.934696603264693,
          -1.3674263749203002,
          -2.476419819194672,
          0.12502659462677274
         ],
         "yaxis": "y"
        },
        {
         "hovertemplate": "color=FRW<br>0=%{x}<br>1=%{y}<extra></extra>",
         "legendgroup": "FRW",
         "marker": {
          "color": "#EF553B",
          "symbol": "circle"
         },
         "mode": "markers",
         "name": "FRW",
         "orientation": "v",
         "showlegend": true,
         "type": "scatter",
         "x": [
          9.38913067018038,
          10.162226897781242,
          9.769201467520224,
          9.504966905467093,
          9.440467041087219,
          9.270652753508841,
          9.567820660112464,
          9.187572644213557,
          9.716802248802102,
          9.315393799369861,
          9.993812615398761
         ],
         "xaxis": "x",
         "y": [
          0.022222155172950602,
          0.08179799887308016,
          -0.2955319718665164,
          0.5425894374241922,
          0.33704625809814204,
          0.6133100471946177,
          0.011538780119749516,
          0.08671342373527942,
          -0.4272785876040259,
          -0.08296211554120106,
          -0.0013546008572509257
         ],
         "yaxis": "y"
        },
        {
         "hovertemplate": "color=HR<br>0=%{x}<br>1=%{y}<extra></extra>",
         "legendgroup": "HR",
         "marker": {
          "color": "#00cc96",
          "symbol": "circle"
         },
         "mode": "markers",
         "name": "HR",
         "orientation": "v",
         "showlegend": true,
         "type": "scatter",
         "x": [
          -1.9312549326111785,
          0.32304883140665813,
          -5.8433398489426525,
          -4.166227649381334
         ],
         "xaxis": "x",
         "y": [
          -2.211954531028283,
          6.569908868319663,
          11.468764293175228,
          16.38813033483443
         ],
         "yaxis": "y"
        },
        {
         "hovertemplate": "color=LFS<br>0=%{x}<br>1=%{y}<extra></extra>",
         "legendgroup": "LFS",
         "marker": {
          "color": "#ab63fa",
          "symbol": "circle"
         },
         "mode": "markers",
         "name": "LFS",
         "orientation": "v",
         "showlegend": true,
         "type": "scatter",
         "x": [
          -4.534431258634618,
          -4.619290636629358,
          -4.877509798688043,
          -5.247970070353009,
          -4.946520610050511,
          -4.778375903845234,
          -4.469879474856306,
          -4.997291553726235,
          -4.586012492076129,
          -5.1087775407637155,
          -5.598560519818487,
          -4.943001502610904,
          -4.923837009513587
         ],
         "xaxis": "x",
         "y": [
          -2.3920760158452987,
          -2.4360817018047483,
          -0.4497069915631719,
          1.9093408645911811,
          -1.2317379405338165,
          -1.978822582875884,
          -1.6907089488998372,
          0.34818265465505766,
          0.5687571466111061,
          -0.41572459977914417,
          0.20235404331113083,
          -1.0150128665231661,
          -0.6844619445394174
         ],
         "yaxis": "y"
        },
        {
         "hovertemplate": "color=LM<br>0=%{x}<br>1=%{y}<extra></extra>",
         "legendgroup": "LM",
         "marker": {
          "color": "#FFA15A",
          "symbol": "circle"
         },
         "mode": "markers",
         "name": "LM",
         "orientation": "v",
         "showlegend": true,
         "type": "scatter",
         "x": [
          -4.589378191799763,
          -5.259732637029045,
          -5.0752100419513475,
          -5.9792577940857905,
          -5.730118906389903,
          -5.252902519630119,
          -4.648866798416268,
          -5.533420728561796,
          -5.711938341074282,
          -5.386976101214665,
          -5.741610710831969,
          -5.328639236884131,
          -4.9610731802665935,
          -6.459523664917656,
          -5.4619689868919785,
          -4.143135246774803,
          -4.3641074397577295,
          -4.919540217132616,
          -5.825943413544717
         ],
         "xaxis": "x",
         "y": [
          -2.2788725513989045,
          0.9776047087012897,
          1.1574389350518786,
          0.32344812570269277,
          2.0901391114327055,
          1.0318237776662107,
          2.821541155888034,
          2.201542579153583,
          3.3213402650751367,
          0.47025564607218445,
          1.4992128057444862,
          -0.2883269828853845,
          -0.33970181184380527,
          2.654470754378316,
          0.42200990042517766,
          -2.056517485222166,
          -2.6895168717611844,
          -0.12938027018461098,
          2.1435377043683705
         ],
         "yaxis": "y"
        },
        {
         "hovertemplate": "color=MKP<br>0=%{x}<br>1=%{y}<extra></extra>",
         "legendgroup": "MKP",
         "marker": {
          "color": "#19d3f3",
          "symbol": "circle"
         },
         "mode": "markers",
         "name": "MKP",
         "orientation": "v",
         "showlegend": true,
         "type": "scatter",
         "x": [
          3.8980616084586943,
          -4.60485395678928,
          -5.571027589941458,
          -5.941493075822688,
          -5.538588823495099,
          -3.0827152801039155,
          -6.800192077031319,
          -6.985789225971964
         ],
         "xaxis": "x",
         "y": [
          0.27967612946756326,
          -0.5643942702097106,
          4.6214694061947705,
          1.9672914654567113,
          5.166248258610711,
          -1.3637376210008372,
          7.100094341492955,
          7.576875594767224
         ],
         "yaxis": "y"
        },
        {
         "hovertemplate": "color=MMP<br>0=%{x}<br>1=%{y}<extra></extra>",
         "legendgroup": "MMP",
         "marker": {
          "color": "#FF6692",
          "symbol": "circle"
         },
         "mode": "markers",
         "name": "MMP",
         "orientation": "v",
         "showlegend": true,
         "type": "scatter",
         "x": [
          -4.604340134263453,
          -3.3921571870970966,
          -4.863972699521204,
          -4.180253655196002,
          -4.057183914406546,
          -4.364886259670471,
          -3.4501954696411636,
          -3.590851670015515,
          -5.327400980635023,
          -3.716866215925032,
          -4.822906681265936,
          -4.67093988415835,
          -3.655875860051174,
          -3.7417204345623554,
          -4.401637278093781,
          -3.937174737376,
          -3.5262627101819093,
          -5.031000873314409,
          -4.309608075289388
         ],
         "xaxis": "x",
         "y": [
          -4.016343134553595,
          -3.2429107924804095,
          -2.154443528659995,
          -2.333258043594572,
          -0.910198981042,
          -2.7050580331367313,
          -3.9319415850749064,
          -4.789099456929413,
          0.3403220975747184,
          -3.1587387132710565,
          -0.29201071029411585,
          -3.0283183726602205,
          -3.000244250920104,
          -3.1401097652966827,
          -1.6204135000279707,
          -2.002874586816198,
          -2.483600447625917,
          -1.3360005794037888,
          -1.527049113182258
         ],
         "yaxis": "y"
        },
        {
         "hovertemplate": "color=PNR<br>0=%{x}<br>1=%{y}<extra></extra>",
         "legendgroup": "PNR",
         "marker": {
          "color": "#B6E880",
          "symbol": "circle"
         },
         "mode": "markers",
         "name": "PNR",
         "orientation": "v",
         "showlegend": true,
         "type": "scatter",
         "x": [
          9.886950772720953,
          9.616525930308468,
          8.69841017887994
         ],
         "xaxis": "x",
         "y": [
          -0.5721445589773596,
          -0.3807018735218242,
          -0.04416611652991056
         ],
         "yaxis": "y"
        },
        {
         "hovertemplate": "color=PTW<br>0=%{x}<br>1=%{y}<extra></extra>",
         "legendgroup": "PTW",
         "marker": {
          "color": "#FF97FF",
          "symbol": "circle"
         },
         "mode": "markers",
         "name": "PTW",
         "orientation": "v",
         "showlegend": true,
         "type": "scatter",
         "x": [
          -5.763342808213375,
          -4.8390104507680665,
          -6.1183698537231495,
          -4.985198878288755,
          -4.980342148574955,
          -4.686166597504959,
          -4.311310081340932,
          -4.9367069802076005
         ],
         "xaxis": "x",
         "y": [
          1.0149721943875727,
          -0.339830482712083,
          1.8048188057516268,
          -1.2659375068911063,
          0.34514965703467027,
          -1.5165772009754035,
          -1.7760018004616998,
          -2.2614633454205615
         ],
         "yaxis": "y"
        },
        {
         "hovertemplate": "color=RF<br>0=%{x}<br>1=%{y}<extra></extra>",
         "legendgroup": "RF",
         "marker": {
          "color": "#FECB52",
          "symbol": "circle"
         },
         "mode": "markers",
         "name": "RF",
         "orientation": "v",
         "showlegend": true,
         "type": "scatter",
         "x": [
          9.931910900452596,
          9.904294171812076,
          9.470385319713921,
          9.660398410094714,
          9.444702269153867,
          10.010259763016903,
          10.370556090652668,
          10.042112596447634,
          10.246402055815281,
          9.646801536005102,
          10.518087179296712
         ],
         "xaxis": "x",
         "y": [
          -0.5210180206917286,
          0.00802461885476648,
          -0.3260991031664214,
          -0.32435170799840135,
          -0.10356178530348538,
          -0.6054263045125478,
          0.3223061232730871,
          -0.40874863637263736,
          -0.8248854980568653,
          -0.7755702282997258,
          -0.506830452429745
         ],
         "yaxis": "y"
        },
        {
         "hovertemplate": "color=RGT<br>0=%{x}<br>1=%{y}<extra></extra>",
         "legendgroup": "RGT",
         "marker": {
          "color": "#636efa",
          "symbol": "circle"
         },
         "mode": "markers",
         "name": "RGT",
         "orientation": "v",
         "showlegend": true,
         "type": "scatter",
         "x": [
          -4.820749199586533,
          -5.224038575086871,
          -4.209412105196133,
          -4.476604370229272,
          -4.746453236836065
         ],
         "xaxis": "x",
         "y": [
          1.4470496297092907,
          0.7357282738095032,
          -2.332812630331883,
          -2.5233091971382575,
          -1.3026976179511238
         ],
         "yaxis": "y"
        },
        {
         "hovertemplate": "color=RRL<br>0=%{x}<br>1=%{y}<extra></extra>",
         "legendgroup": "RRL",
         "marker": {
          "color": "#EF553B",
          "symbol": "circle"
         },
         "mode": "markers",
         "name": "RRL",
         "orientation": "v",
         "showlegend": true,
         "type": "scatter",
         "x": [
          4.003003175964514,
          3.83213266718547,
          4.676434842801398,
          3.104561875438744,
          2.598257012196361,
          -1.341724057059263,
          -3.086362747047765,
          -2.389083681052626,
          -2.315445250179181,
          0.7939087059608511,
          0.63865378928614,
          -1.714554144300538,
          -4.184765546921476,
          0.4640817802217822,
          3.532300012478452,
          2.337180092404286,
          2.536996844373149,
          1.8116021061784429,
          3.4213146959498557
         ],
         "xaxis": "x",
         "y": [
          1.9121991573930084,
          2.761807316592268,
          1.9736581643861606,
          3.2898942091983234,
          8.29165195527511,
          -4.558082161246634,
          -4.433687408594538,
          -3.3920942011868105,
          -1.8016194538562207,
          1.4362509032519735,
          -1.3070600080363073,
          3.175023416033599,
          10.247964247518166,
          2.3678318699398155,
          2.046754584523512,
          1.8678571464220814,
          0.3111908619485699,
          5.376906040201385,
          3.863806362906876
         ],
         "yaxis": "y"
        },
        {
         "hovertemplate": "color=SLG<br>0=%{x}<br>1=%{y}<extra></extra>",
         "legendgroup": "SLG",
         "marker": {
          "color": "#00cc96",
          "symbol": "circle"
         },
         "mode": "markers",
         "name": "SLG",
         "orientation": "v",
         "showlegend": true,
         "type": "scatter",
         "x": [
          9.990400231022193,
          9.905840993039936,
          10.144578803338623,
          9.90392801852001,
          10.041563324748132,
          9.736806790058486,
          9.99607720565682,
          9.782197432301647,
          10.472053241817568,
          9.922103685390091,
          9.060069312486531,
          9.902522813717805,
          9.499231057398061,
          9.87253575671702,
          9.132753918392902,
          10.040871608834903,
          10.253357413767063
         ],
         "xaxis": "x",
         "y": [
          -0.151630952452979,
          -0.8393415817335808,
          -0.3597245922878043,
          -0.171628097587851,
          -0.029555382801965093,
          -0.4817045307169612,
          -0.25375158675833326,
          -0.5776761377625367,
          -0.3148357302955539,
          -0.7003016643067138,
          -0.14821855303480586,
          -0.30575962598001055,
          0.38290132862587,
          -0.40590203621526694,
          0.26885311062456774,
          -0.09326210093514452,
          -0.6167476809044014
         ],
         "yaxis": "y"
        }
       ],
       "layout": {
        "legend": {
         "title": {
          "text": "color"
         },
         "tracegroupgap": 0
        },
        "margin": {
         "t": 60
        },
        "template": {
         "data": {
          "bar": [
           {
            "error_x": {
             "color": "#2a3f5f"
            },
            "error_y": {
             "color": "#2a3f5f"
            },
            "marker": {
             "line": {
              "color": "#E5ECF6",
              "width": 0.5
             },
             "pattern": {
              "fillmode": "overlay",
              "size": 10,
              "solidity": 0.2
             }
            },
            "type": "bar"
           }
          ],
          "barpolar": [
           {
            "marker": {
             "line": {
              "color": "#E5ECF6",
              "width": 0.5
             },
             "pattern": {
              "fillmode": "overlay",
              "size": 10,
              "solidity": 0.2
             }
            },
            "type": "barpolar"
           }
          ],
          "carpet": [
           {
            "aaxis": {
             "endlinecolor": "#2a3f5f",
             "gridcolor": "white",
             "linecolor": "white",
             "minorgridcolor": "white",
             "startlinecolor": "#2a3f5f"
            },
            "baxis": {
             "endlinecolor": "#2a3f5f",
             "gridcolor": "white",
             "linecolor": "white",
             "minorgridcolor": "white",
             "startlinecolor": "#2a3f5f"
            },
            "type": "carpet"
           }
          ],
          "choropleth": [
           {
            "colorbar": {
             "outlinewidth": 0,
             "ticks": ""
            },
            "type": "choropleth"
           }
          ],
          "contour": [
           {
            "colorbar": {
             "outlinewidth": 0,
             "ticks": ""
            },
            "colorscale": [
             [
              0,
              "#0d0887"
             ],
             [
              0.1111111111111111,
              "#46039f"
             ],
             [
              0.2222222222222222,
              "#7201a8"
             ],
             [
              0.3333333333333333,
              "#9c179e"
             ],
             [
              0.4444444444444444,
              "#bd3786"
             ],
             [
              0.5555555555555556,
              "#d8576b"
             ],
             [
              0.6666666666666666,
              "#ed7953"
             ],
             [
              0.7777777777777778,
              "#fb9f3a"
             ],
             [
              0.8888888888888888,
              "#fdca26"
             ],
             [
              1,
              "#f0f921"
             ]
            ],
            "type": "contour"
           }
          ],
          "contourcarpet": [
           {
            "colorbar": {
             "outlinewidth": 0,
             "ticks": ""
            },
            "type": "contourcarpet"
           }
          ],
          "heatmap": [
           {
            "colorbar": {
             "outlinewidth": 0,
             "ticks": ""
            },
            "colorscale": [
             [
              0,
              "#0d0887"
             ],
             [
              0.1111111111111111,
              "#46039f"
             ],
             [
              0.2222222222222222,
              "#7201a8"
             ],
             [
              0.3333333333333333,
              "#9c179e"
             ],
             [
              0.4444444444444444,
              "#bd3786"
             ],
             [
              0.5555555555555556,
              "#d8576b"
             ],
             [
              0.6666666666666666,
              "#ed7953"
             ],
             [
              0.7777777777777778,
              "#fb9f3a"
             ],
             [
              0.8888888888888888,
              "#fdca26"
             ],
             [
              1,
              "#f0f921"
             ]
            ],
            "type": "heatmap"
           }
          ],
          "heatmapgl": [
           {
            "colorbar": {
             "outlinewidth": 0,
             "ticks": ""
            },
            "colorscale": [
             [
              0,
              "#0d0887"
             ],
             [
              0.1111111111111111,
              "#46039f"
             ],
             [
              0.2222222222222222,
              "#7201a8"
             ],
             [
              0.3333333333333333,
              "#9c179e"
             ],
             [
              0.4444444444444444,
              "#bd3786"
             ],
             [
              0.5555555555555556,
              "#d8576b"
             ],
             [
              0.6666666666666666,
              "#ed7953"
             ],
             [
              0.7777777777777778,
              "#fb9f3a"
             ],
             [
              0.8888888888888888,
              "#fdca26"
             ],
             [
              1,
              "#f0f921"
             ]
            ],
            "type": "heatmapgl"
           }
          ],
          "histogram": [
           {
            "marker": {
             "pattern": {
              "fillmode": "overlay",
              "size": 10,
              "solidity": 0.2
             }
            },
            "type": "histogram"
           }
          ],
          "histogram2d": [
           {
            "colorbar": {
             "outlinewidth": 0,
             "ticks": ""
            },
            "colorscale": [
             [
              0,
              "#0d0887"
             ],
             [
              0.1111111111111111,
              "#46039f"
             ],
             [
              0.2222222222222222,
              "#7201a8"
             ],
             [
              0.3333333333333333,
              "#9c179e"
             ],
             [
              0.4444444444444444,
              "#bd3786"
             ],
             [
              0.5555555555555556,
              "#d8576b"
             ],
             [
              0.6666666666666666,
              "#ed7953"
             ],
             [
              0.7777777777777778,
              "#fb9f3a"
             ],
             [
              0.8888888888888888,
              "#fdca26"
             ],
             [
              1,
              "#f0f921"
             ]
            ],
            "type": "histogram2d"
           }
          ],
          "histogram2dcontour": [
           {
            "colorbar": {
             "outlinewidth": 0,
             "ticks": ""
            },
            "colorscale": [
             [
              0,
              "#0d0887"
             ],
             [
              0.1111111111111111,
              "#46039f"
             ],
             [
              0.2222222222222222,
              "#7201a8"
             ],
             [
              0.3333333333333333,
              "#9c179e"
             ],
             [
              0.4444444444444444,
              "#bd3786"
             ],
             [
              0.5555555555555556,
              "#d8576b"
             ],
             [
              0.6666666666666666,
              "#ed7953"
             ],
             [
              0.7777777777777778,
              "#fb9f3a"
             ],
             [
              0.8888888888888888,
              "#fdca26"
             ],
             [
              1,
              "#f0f921"
             ]
            ],
            "type": "histogram2dcontour"
           }
          ],
          "mesh3d": [
           {
            "colorbar": {
             "outlinewidth": 0,
             "ticks": ""
            },
            "type": "mesh3d"
           }
          ],
          "parcoords": [
           {
            "line": {
             "colorbar": {
              "outlinewidth": 0,
              "ticks": ""
             }
            },
            "type": "parcoords"
           }
          ],
          "pie": [
           {
            "automargin": true,
            "type": "pie"
           }
          ],
          "scatter": [
           {
            "fillpattern": {
             "fillmode": "overlay",
             "size": 10,
             "solidity": 0.2
            },
            "type": "scatter"
           }
          ],
          "scatter3d": [
           {
            "line": {
             "colorbar": {
              "outlinewidth": 0,
              "ticks": ""
             }
            },
            "marker": {
             "colorbar": {
              "outlinewidth": 0,
              "ticks": ""
             }
            },
            "type": "scatter3d"
           }
          ],
          "scattercarpet": [
           {
            "marker": {
             "colorbar": {
              "outlinewidth": 0,
              "ticks": ""
             }
            },
            "type": "scattercarpet"
           }
          ],
          "scattergeo": [
           {
            "marker": {
             "colorbar": {
              "outlinewidth": 0,
              "ticks": ""
             }
            },
            "type": "scattergeo"
           }
          ],
          "scattergl": [
           {
            "marker": {
             "colorbar": {
              "outlinewidth": 0,
              "ticks": ""
             }
            },
            "type": "scattergl"
           }
          ],
          "scattermapbox": [
           {
            "marker": {
             "colorbar": {
              "outlinewidth": 0,
              "ticks": ""
             }
            },
            "type": "scattermapbox"
           }
          ],
          "scatterpolar": [
           {
            "marker": {
             "colorbar": {
              "outlinewidth": 0,
              "ticks": ""
             }
            },
            "type": "scatterpolar"
           }
          ],
          "scatterpolargl": [
           {
            "marker": {
             "colorbar": {
              "outlinewidth": 0,
              "ticks": ""
             }
            },
            "type": "scatterpolargl"
           }
          ],
          "scatterternary": [
           {
            "marker": {
             "colorbar": {
              "outlinewidth": 0,
              "ticks": ""
             }
            },
            "type": "scatterternary"
           }
          ],
          "surface": [
           {
            "colorbar": {
             "outlinewidth": 0,
             "ticks": ""
            },
            "colorscale": [
             [
              0,
              "#0d0887"
             ],
             [
              0.1111111111111111,
              "#46039f"
             ],
             [
              0.2222222222222222,
              "#7201a8"
             ],
             [
              0.3333333333333333,
              "#9c179e"
             ],
             [
              0.4444444444444444,
              "#bd3786"
             ],
             [
              0.5555555555555556,
              "#d8576b"
             ],
             [
              0.6666666666666666,
              "#ed7953"
             ],
             [
              0.7777777777777778,
              "#fb9f3a"
             ],
             [
              0.8888888888888888,
              "#fdca26"
             ],
             [
              1,
              "#f0f921"
             ]
            ],
            "type": "surface"
           }
          ],
          "table": [
           {
            "cells": {
             "fill": {
              "color": "#EBF0F8"
             },
             "line": {
              "color": "white"
             }
            },
            "header": {
             "fill": {
              "color": "#C8D4E3"
             },
             "line": {
              "color": "white"
             }
            },
            "type": "table"
           }
          ]
         },
         "layout": {
          "annotationdefaults": {
           "arrowcolor": "#2a3f5f",
           "arrowhead": 0,
           "arrowwidth": 1
          },
          "autotypenumbers": "strict",
          "coloraxis": {
           "colorbar": {
            "outlinewidth": 0,
            "ticks": ""
           }
          },
          "colorscale": {
           "diverging": [
            [
             0,
             "#8e0152"
            ],
            [
             0.1,
             "#c51b7d"
            ],
            [
             0.2,
             "#de77ae"
            ],
            [
             0.3,
             "#f1b6da"
            ],
            [
             0.4,
             "#fde0ef"
            ],
            [
             0.5,
             "#f7f7f7"
            ],
            [
             0.6,
             "#e6f5d0"
            ],
            [
             0.7,
             "#b8e186"
            ],
            [
             0.8,
             "#7fbc41"
            ],
            [
             0.9,
             "#4d9221"
            ],
            [
             1,
             "#276419"
            ]
           ],
           "sequential": [
            [
             0,
             "#0d0887"
            ],
            [
             0.1111111111111111,
             "#46039f"
            ],
            [
             0.2222222222222222,
             "#7201a8"
            ],
            [
             0.3333333333333333,
             "#9c179e"
            ],
            [
             0.4444444444444444,
             "#bd3786"
            ],
            [
             0.5555555555555556,
             "#d8576b"
            ],
            [
             0.6666666666666666,
             "#ed7953"
            ],
            [
             0.7777777777777778,
             "#fb9f3a"
            ],
            [
             0.8888888888888888,
             "#fdca26"
            ],
            [
             1,
             "#f0f921"
            ]
           ],
           "sequentialminus": [
            [
             0,
             "#0d0887"
            ],
            [
             0.1111111111111111,
             "#46039f"
            ],
            [
             0.2222222222222222,
             "#7201a8"
            ],
            [
             0.3333333333333333,
             "#9c179e"
            ],
            [
             0.4444444444444444,
             "#bd3786"
            ],
            [
             0.5555555555555556,
             "#d8576b"
            ],
            [
             0.6666666666666666,
             "#ed7953"
            ],
            [
             0.7777777777777778,
             "#fb9f3a"
            ],
            [
             0.8888888888888888,
             "#fdca26"
            ],
            [
             1,
             "#f0f921"
            ]
           ]
          },
          "colorway": [
           "#636efa",
           "#EF553B",
           "#00cc96",
           "#ab63fa",
           "#FFA15A",
           "#19d3f3",
           "#FF6692",
           "#B6E880",
           "#FF97FF",
           "#FECB52"
          ],
          "font": {
           "color": "#2a3f5f"
          },
          "geo": {
           "bgcolor": "white",
           "lakecolor": "white",
           "landcolor": "#E5ECF6",
           "showlakes": true,
           "showland": true,
           "subunitcolor": "white"
          },
          "hoverlabel": {
           "align": "left"
          },
          "hovermode": "closest",
          "mapbox": {
           "style": "light"
          },
          "paper_bgcolor": "white",
          "plot_bgcolor": "#E5ECF6",
          "polar": {
           "angularaxis": {
            "gridcolor": "white",
            "linecolor": "white",
            "ticks": ""
           },
           "bgcolor": "#E5ECF6",
           "radialaxis": {
            "gridcolor": "white",
            "linecolor": "white",
            "ticks": ""
           }
          },
          "scene": {
           "xaxis": {
            "backgroundcolor": "#E5ECF6",
            "gridcolor": "white",
            "gridwidth": 2,
            "linecolor": "white",
            "showbackground": true,
            "ticks": "",
            "zerolinecolor": "white"
           },
           "yaxis": {
            "backgroundcolor": "#E5ECF6",
            "gridcolor": "white",
            "gridwidth": 2,
            "linecolor": "white",
            "showbackground": true,
            "ticks": "",
            "zerolinecolor": "white"
           },
           "zaxis": {
            "backgroundcolor": "#E5ECF6",
            "gridcolor": "white",
            "gridwidth": 2,
            "linecolor": "white",
            "showbackground": true,
            "ticks": "",
            "zerolinecolor": "white"
           }
          },
          "shapedefaults": {
           "line": {
            "color": "#2a3f5f"
           }
          },
          "ternary": {
           "aaxis": {
            "gridcolor": "white",
            "linecolor": "white",
            "ticks": ""
           },
           "baxis": {
            "gridcolor": "white",
            "linecolor": "white",
            "ticks": ""
           },
           "bgcolor": "#E5ECF6",
           "caxis": {
            "gridcolor": "white",
            "linecolor": "white",
            "ticks": ""
           }
          },
          "title": {
           "x": 0.05
          },
          "xaxis": {
           "automargin": true,
           "gridcolor": "white",
           "linecolor": "white",
           "ticks": "",
           "title": {
            "standoff": 15
           },
           "zerolinecolor": "white",
           "zerolinewidth": 2
          },
          "yaxis": {
           "automargin": true,
           "gridcolor": "white",
           "linecolor": "white",
           "ticks": "",
           "title": {
            "standoff": 15
           },
           "zerolinecolor": "white",
           "zerolinewidth": 2
          }
         }
        },
        "title": {
         "text": "50 Most Abundant Leaf Microbe Genera by Site PCA"
        },
        "xaxis": {
         "anchor": "y",
         "domain": [
          0,
          1
         ],
         "title": {
          "text": "PC1 40.2%"
         }
        },
        "yaxis": {
         "anchor": "x",
         "domain": [
          0,
          1
         ],
         "title": {
          "text": "PC2 8.2%"
         }
        }
       }
      },
      "text/html": [
       "<div>                            <div id=\"f0d05c2f-ce7b-486e-8028-0722cde2ab32\" class=\"plotly-graph-div\" style=\"height:525px; width:100%;\"></div>            <script type=\"text/javascript\">                require([\"plotly\"], function(Plotly) {                    window.PLOTLYENV=window.PLOTLYENV || {};                                    if (document.getElementById(\"f0d05c2f-ce7b-486e-8028-0722cde2ab32\")) {                    Plotly.newPlot(                        \"f0d05c2f-ce7b-486e-8028-0722cde2ab32\",                        [{\"hovertemplate\":\"color=CMB<br>0=%{x}<br>1=%{y}<extra></extra>\",\"legendgroup\":\"CMB\",\"marker\":{\"color\":\"#636efa\",\"symbol\":\"circle\"},\"mode\":\"markers\",\"name\":\"CMB\",\"orientation\":\"v\",\"showlegend\":true,\"x\":[-3.869218841088769,-4.23089393956293,-3.7619601641747322,-4.09097784251389,-3.9702824505528875,-3.3431720084159817,-4.304615907821897,-4.4212418153951,-3.4283779047679195,-3.782007108036632,-3.591013612048619,-4.109281525832044,-3.8379043961031276,-3.7133779101101276,-4.0084339352296565,-3.8028276309308175,-4.670162307853379,-3.6113878522234826,-4.6019769510687265],\"xaxis\":\"x\",\"y\":[-1.5457845211948384,-1.6384666840867517,-2.2487306442902018,-2.3554053773392707,-2.640170953444384,-0.15718283478239786,-0.4167488284085961,-2.6688562412806687,-2.9792270983562403,-2.324593181354694,-1.7121833725326179,-1.8016253333585903,-2.4068918128659624,0.399113914909385,-2.0681354626881236,-1.934696603264693,-1.3674263749203002,-2.476419819194672,0.12502659462677274],\"yaxis\":\"y\",\"type\":\"scatter\"},{\"hovertemplate\":\"color=FRW<br>0=%{x}<br>1=%{y}<extra></extra>\",\"legendgroup\":\"FRW\",\"marker\":{\"color\":\"#EF553B\",\"symbol\":\"circle\"},\"mode\":\"markers\",\"name\":\"FRW\",\"orientation\":\"v\",\"showlegend\":true,\"x\":[9.38913067018038,10.162226897781242,9.769201467520224,9.504966905467093,9.440467041087219,9.270652753508841,9.567820660112464,9.187572644213557,9.716802248802102,9.315393799369861,9.993812615398761],\"xaxis\":\"x\",\"y\":[0.022222155172950602,0.08179799887308016,-0.2955319718665164,0.5425894374241922,0.33704625809814204,0.6133100471946177,0.011538780119749516,0.08671342373527942,-0.4272785876040259,-0.08296211554120106,-0.0013546008572509257],\"yaxis\":\"y\",\"type\":\"scatter\"},{\"hovertemplate\":\"color=HR<br>0=%{x}<br>1=%{y}<extra></extra>\",\"legendgroup\":\"HR\",\"marker\":{\"color\":\"#00cc96\",\"symbol\":\"circle\"},\"mode\":\"markers\",\"name\":\"HR\",\"orientation\":\"v\",\"showlegend\":true,\"x\":[-1.9312549326111785,0.32304883140665813,-5.8433398489426525,-4.166227649381334],\"xaxis\":\"x\",\"y\":[-2.211954531028283,6.569908868319663,11.468764293175228,16.38813033483443],\"yaxis\":\"y\",\"type\":\"scatter\"},{\"hovertemplate\":\"color=LFS<br>0=%{x}<br>1=%{y}<extra></extra>\",\"legendgroup\":\"LFS\",\"marker\":{\"color\":\"#ab63fa\",\"symbol\":\"circle\"},\"mode\":\"markers\",\"name\":\"LFS\",\"orientation\":\"v\",\"showlegend\":true,\"x\":[-4.534431258634618,-4.619290636629358,-4.877509798688043,-5.247970070353009,-4.946520610050511,-4.778375903845234,-4.469879474856306,-4.997291553726235,-4.586012492076129,-5.1087775407637155,-5.598560519818487,-4.943001502610904,-4.923837009513587],\"xaxis\":\"x\",\"y\":[-2.3920760158452987,-2.4360817018047483,-0.4497069915631719,1.9093408645911811,-1.2317379405338165,-1.978822582875884,-1.6907089488998372,0.34818265465505766,0.5687571466111061,-0.41572459977914417,0.20235404331113083,-1.0150128665231661,-0.6844619445394174],\"yaxis\":\"y\",\"type\":\"scatter\"},{\"hovertemplate\":\"color=LM<br>0=%{x}<br>1=%{y}<extra></extra>\",\"legendgroup\":\"LM\",\"marker\":{\"color\":\"#FFA15A\",\"symbol\":\"circle\"},\"mode\":\"markers\",\"name\":\"LM\",\"orientation\":\"v\",\"showlegend\":true,\"x\":[-4.589378191799763,-5.259732637029045,-5.0752100419513475,-5.9792577940857905,-5.730118906389903,-5.252902519630119,-4.648866798416268,-5.533420728561796,-5.711938341074282,-5.386976101214665,-5.741610710831969,-5.328639236884131,-4.9610731802665935,-6.459523664917656,-5.4619689868919785,-4.143135246774803,-4.3641074397577295,-4.919540217132616,-5.825943413544717],\"xaxis\":\"x\",\"y\":[-2.2788725513989045,0.9776047087012897,1.1574389350518786,0.32344812570269277,2.0901391114327055,1.0318237776662107,2.821541155888034,2.201542579153583,3.3213402650751367,0.47025564607218445,1.4992128057444862,-0.2883269828853845,-0.33970181184380527,2.654470754378316,0.42200990042517766,-2.056517485222166,-2.6895168717611844,-0.12938027018461098,2.1435377043683705],\"yaxis\":\"y\",\"type\":\"scatter\"},{\"hovertemplate\":\"color=MKP<br>0=%{x}<br>1=%{y}<extra></extra>\",\"legendgroup\":\"MKP\",\"marker\":{\"color\":\"#19d3f3\",\"symbol\":\"circle\"},\"mode\":\"markers\",\"name\":\"MKP\",\"orientation\":\"v\",\"showlegend\":true,\"x\":[3.8980616084586943,-4.60485395678928,-5.571027589941458,-5.941493075822688,-5.538588823495099,-3.0827152801039155,-6.800192077031319,-6.985789225971964],\"xaxis\":\"x\",\"y\":[0.27967612946756326,-0.5643942702097106,4.6214694061947705,1.9672914654567113,5.166248258610711,-1.3637376210008372,7.100094341492955,7.576875594767224],\"yaxis\":\"y\",\"type\":\"scatter\"},{\"hovertemplate\":\"color=MMP<br>0=%{x}<br>1=%{y}<extra></extra>\",\"legendgroup\":\"MMP\",\"marker\":{\"color\":\"#FF6692\",\"symbol\":\"circle\"},\"mode\":\"markers\",\"name\":\"MMP\",\"orientation\":\"v\",\"showlegend\":true,\"x\":[-4.604340134263453,-3.3921571870970966,-4.863972699521204,-4.180253655196002,-4.057183914406546,-4.364886259670471,-3.4501954696411636,-3.590851670015515,-5.327400980635023,-3.716866215925032,-4.822906681265936,-4.67093988415835,-3.655875860051174,-3.7417204345623554,-4.401637278093781,-3.937174737376,-3.5262627101819093,-5.031000873314409,-4.309608075289388],\"xaxis\":\"x\",\"y\":[-4.016343134553595,-3.2429107924804095,-2.154443528659995,-2.333258043594572,-0.910198981042,-2.7050580331367313,-3.9319415850749064,-4.789099456929413,0.3403220975747184,-3.1587387132710565,-0.29201071029411585,-3.0283183726602205,-3.000244250920104,-3.1401097652966827,-1.6204135000279707,-2.002874586816198,-2.483600447625917,-1.3360005794037888,-1.527049113182258],\"yaxis\":\"y\",\"type\":\"scatter\"},{\"hovertemplate\":\"color=PNR<br>0=%{x}<br>1=%{y}<extra></extra>\",\"legendgroup\":\"PNR\",\"marker\":{\"color\":\"#B6E880\",\"symbol\":\"circle\"},\"mode\":\"markers\",\"name\":\"PNR\",\"orientation\":\"v\",\"showlegend\":true,\"x\":[9.886950772720953,9.616525930308468,8.69841017887994],\"xaxis\":\"x\",\"y\":[-0.5721445589773596,-0.3807018735218242,-0.04416611652991056],\"yaxis\":\"y\",\"type\":\"scatter\"},{\"hovertemplate\":\"color=PTW<br>0=%{x}<br>1=%{y}<extra></extra>\",\"legendgroup\":\"PTW\",\"marker\":{\"color\":\"#FF97FF\",\"symbol\":\"circle\"},\"mode\":\"markers\",\"name\":\"PTW\",\"orientation\":\"v\",\"showlegend\":true,\"x\":[-5.763342808213375,-4.8390104507680665,-6.1183698537231495,-4.985198878288755,-4.980342148574955,-4.686166597504959,-4.311310081340932,-4.9367069802076005],\"xaxis\":\"x\",\"y\":[1.0149721943875727,-0.339830482712083,1.8048188057516268,-1.2659375068911063,0.34514965703467027,-1.5165772009754035,-1.7760018004616998,-2.2614633454205615],\"yaxis\":\"y\",\"type\":\"scatter\"},{\"hovertemplate\":\"color=RF<br>0=%{x}<br>1=%{y}<extra></extra>\",\"legendgroup\":\"RF\",\"marker\":{\"color\":\"#FECB52\",\"symbol\":\"circle\"},\"mode\":\"markers\",\"name\":\"RF\",\"orientation\":\"v\",\"showlegend\":true,\"x\":[9.931910900452596,9.904294171812076,9.470385319713921,9.660398410094714,9.444702269153867,10.010259763016903,10.370556090652668,10.042112596447634,10.246402055815281,9.646801536005102,10.518087179296712],\"xaxis\":\"x\",\"y\":[-0.5210180206917286,0.00802461885476648,-0.3260991031664214,-0.32435170799840135,-0.10356178530348538,-0.6054263045125478,0.3223061232730871,-0.40874863637263736,-0.8248854980568653,-0.7755702282997258,-0.506830452429745],\"yaxis\":\"y\",\"type\":\"scatter\"},{\"hovertemplate\":\"color=RGT<br>0=%{x}<br>1=%{y}<extra></extra>\",\"legendgroup\":\"RGT\",\"marker\":{\"color\":\"#636efa\",\"symbol\":\"circle\"},\"mode\":\"markers\",\"name\":\"RGT\",\"orientation\":\"v\",\"showlegend\":true,\"x\":[-4.820749199586533,-5.224038575086871,-4.209412105196133,-4.476604370229272,-4.746453236836065],\"xaxis\":\"x\",\"y\":[1.4470496297092907,0.7357282738095032,-2.332812630331883,-2.5233091971382575,-1.3026976179511238],\"yaxis\":\"y\",\"type\":\"scatter\"},{\"hovertemplate\":\"color=RRL<br>0=%{x}<br>1=%{y}<extra></extra>\",\"legendgroup\":\"RRL\",\"marker\":{\"color\":\"#EF553B\",\"symbol\":\"circle\"},\"mode\":\"markers\",\"name\":\"RRL\",\"orientation\":\"v\",\"showlegend\":true,\"x\":[4.003003175964514,3.83213266718547,4.676434842801398,3.104561875438744,2.598257012196361,-1.341724057059263,-3.086362747047765,-2.389083681052626,-2.315445250179181,0.7939087059608511,0.63865378928614,-1.714554144300538,-4.184765546921476,0.4640817802217822,3.532300012478452,2.337180092404286,2.536996844373149,1.8116021061784429,3.4213146959498557],\"xaxis\":\"x\",\"y\":[1.9121991573930084,2.761807316592268,1.9736581643861606,3.2898942091983234,8.29165195527511,-4.558082161246634,-4.433687408594538,-3.3920942011868105,-1.8016194538562207,1.4362509032519735,-1.3070600080363073,3.175023416033599,10.247964247518166,2.3678318699398155,2.046754584523512,1.8678571464220814,0.3111908619485699,5.376906040201385,3.863806362906876],\"yaxis\":\"y\",\"type\":\"scatter\"},{\"hovertemplate\":\"color=SLG<br>0=%{x}<br>1=%{y}<extra></extra>\",\"legendgroup\":\"SLG\",\"marker\":{\"color\":\"#00cc96\",\"symbol\":\"circle\"},\"mode\":\"markers\",\"name\":\"SLG\",\"orientation\":\"v\",\"showlegend\":true,\"x\":[9.990400231022193,9.905840993039936,10.144578803338623,9.90392801852001,10.041563324748132,9.736806790058486,9.99607720565682,9.782197432301647,10.472053241817568,9.922103685390091,9.060069312486531,9.902522813717805,9.499231057398061,9.87253575671702,9.132753918392902,10.040871608834903,10.253357413767063],\"xaxis\":\"x\",\"y\":[-0.151630952452979,-0.8393415817335808,-0.3597245922878043,-0.171628097587851,-0.029555382801965093,-0.4817045307169612,-0.25375158675833326,-0.5776761377625367,-0.3148357302955539,-0.7003016643067138,-0.14821855303480586,-0.30575962598001055,0.38290132862587,-0.40590203621526694,0.26885311062456774,-0.09326210093514452,-0.6167476809044014],\"yaxis\":\"y\",\"type\":\"scatter\"}],                        {\"template\":{\"data\":{\"histogram2dcontour\":[{\"type\":\"histogram2dcontour\",\"colorbar\":{\"outlinewidth\":0,\"ticks\":\"\"},\"colorscale\":[[0.0,\"#0d0887\"],[0.1111111111111111,\"#46039f\"],[0.2222222222222222,\"#7201a8\"],[0.3333333333333333,\"#9c179e\"],[0.4444444444444444,\"#bd3786\"],[0.5555555555555556,\"#d8576b\"],[0.6666666666666666,\"#ed7953\"],[0.7777777777777778,\"#fb9f3a\"],[0.8888888888888888,\"#fdca26\"],[1.0,\"#f0f921\"]]}],\"choropleth\":[{\"type\":\"choropleth\",\"colorbar\":{\"outlinewidth\":0,\"ticks\":\"\"}}],\"histogram2d\":[{\"type\":\"histogram2d\",\"colorbar\":{\"outlinewidth\":0,\"ticks\":\"\"},\"colorscale\":[[0.0,\"#0d0887\"],[0.1111111111111111,\"#46039f\"],[0.2222222222222222,\"#7201a8\"],[0.3333333333333333,\"#9c179e\"],[0.4444444444444444,\"#bd3786\"],[0.5555555555555556,\"#d8576b\"],[0.6666666666666666,\"#ed7953\"],[0.7777777777777778,\"#fb9f3a\"],[0.8888888888888888,\"#fdca26\"],[1.0,\"#f0f921\"]]}],\"heatmap\":[{\"type\":\"heatmap\",\"colorbar\":{\"outlinewidth\":0,\"ticks\":\"\"},\"colorscale\":[[0.0,\"#0d0887\"],[0.1111111111111111,\"#46039f\"],[0.2222222222222222,\"#7201a8\"],[0.3333333333333333,\"#9c179e\"],[0.4444444444444444,\"#bd3786\"],[0.5555555555555556,\"#d8576b\"],[0.6666666666666666,\"#ed7953\"],[0.7777777777777778,\"#fb9f3a\"],[0.8888888888888888,\"#fdca26\"],[1.0,\"#f0f921\"]]}],\"heatmapgl\":[{\"type\":\"heatmapgl\",\"colorbar\":{\"outlinewidth\":0,\"ticks\":\"\"},\"colorscale\":[[0.0,\"#0d0887\"],[0.1111111111111111,\"#46039f\"],[0.2222222222222222,\"#7201a8\"],[0.3333333333333333,\"#9c179e\"],[0.4444444444444444,\"#bd3786\"],[0.5555555555555556,\"#d8576b\"],[0.6666666666666666,\"#ed7953\"],[0.7777777777777778,\"#fb9f3a\"],[0.8888888888888888,\"#fdca26\"],[1.0,\"#f0f921\"]]}],\"contourcarpet\":[{\"type\":\"contourcarpet\",\"colorbar\":{\"outlinewidth\":0,\"ticks\":\"\"}}],\"contour\":[{\"type\":\"contour\",\"colorbar\":{\"outlinewidth\":0,\"ticks\":\"\"},\"colorscale\":[[0.0,\"#0d0887\"],[0.1111111111111111,\"#46039f\"],[0.2222222222222222,\"#7201a8\"],[0.3333333333333333,\"#9c179e\"],[0.4444444444444444,\"#bd3786\"],[0.5555555555555556,\"#d8576b\"],[0.6666666666666666,\"#ed7953\"],[0.7777777777777778,\"#fb9f3a\"],[0.8888888888888888,\"#fdca26\"],[1.0,\"#f0f921\"]]}],\"surface\":[{\"type\":\"surface\",\"colorbar\":{\"outlinewidth\":0,\"ticks\":\"\"},\"colorscale\":[[0.0,\"#0d0887\"],[0.1111111111111111,\"#46039f\"],[0.2222222222222222,\"#7201a8\"],[0.3333333333333333,\"#9c179e\"],[0.4444444444444444,\"#bd3786\"],[0.5555555555555556,\"#d8576b\"],[0.6666666666666666,\"#ed7953\"],[0.7777777777777778,\"#fb9f3a\"],[0.8888888888888888,\"#fdca26\"],[1.0,\"#f0f921\"]]}],\"mesh3d\":[{\"type\":\"mesh3d\",\"colorbar\":{\"outlinewidth\":0,\"ticks\":\"\"}}],\"scatter\":[{\"fillpattern\":{\"fillmode\":\"overlay\",\"size\":10,\"solidity\":0.2},\"type\":\"scatter\"}],\"parcoords\":[{\"type\":\"parcoords\",\"line\":{\"colorbar\":{\"outlinewidth\":0,\"ticks\":\"\"}}}],\"scatterpolargl\":[{\"type\":\"scatterpolargl\",\"marker\":{\"colorbar\":{\"outlinewidth\":0,\"ticks\":\"\"}}}],\"bar\":[{\"error_x\":{\"color\":\"#2a3f5f\"},\"error_y\":{\"color\":\"#2a3f5f\"},\"marker\":{\"line\":{\"color\":\"#E5ECF6\",\"width\":0.5},\"pattern\":{\"fillmode\":\"overlay\",\"size\":10,\"solidity\":0.2}},\"type\":\"bar\"}],\"scattergeo\":[{\"type\":\"scattergeo\",\"marker\":{\"colorbar\":{\"outlinewidth\":0,\"ticks\":\"\"}}}],\"scatterpolar\":[{\"type\":\"scatterpolar\",\"marker\":{\"colorbar\":{\"outlinewidth\":0,\"ticks\":\"\"}}}],\"histogram\":[{\"marker\":{\"pattern\":{\"fillmode\":\"overlay\",\"size\":10,\"solidity\":0.2}},\"type\":\"histogram\"}],\"scattergl\":[{\"type\":\"scattergl\",\"marker\":{\"colorbar\":{\"outlinewidth\":0,\"ticks\":\"\"}}}],\"scatter3d\":[{\"type\":\"scatter3d\",\"line\":{\"colorbar\":{\"outlinewidth\":0,\"ticks\":\"\"}},\"marker\":{\"colorbar\":{\"outlinewidth\":0,\"ticks\":\"\"}}}],\"scattermapbox\":[{\"type\":\"scattermapbox\",\"marker\":{\"colorbar\":{\"outlinewidth\":0,\"ticks\":\"\"}}}],\"scatterternary\":[{\"type\":\"scatterternary\",\"marker\":{\"colorbar\":{\"outlinewidth\":0,\"ticks\":\"\"}}}],\"scattercarpet\":[{\"type\":\"scattercarpet\",\"marker\":{\"colorbar\":{\"outlinewidth\":0,\"ticks\":\"\"}}}],\"carpet\":[{\"aaxis\":{\"endlinecolor\":\"#2a3f5f\",\"gridcolor\":\"white\",\"linecolor\":\"white\",\"minorgridcolor\":\"white\",\"startlinecolor\":\"#2a3f5f\"},\"baxis\":{\"endlinecolor\":\"#2a3f5f\",\"gridcolor\":\"white\",\"linecolor\":\"white\",\"minorgridcolor\":\"white\",\"startlinecolor\":\"#2a3f5f\"},\"type\":\"carpet\"}],\"table\":[{\"cells\":{\"fill\":{\"color\":\"#EBF0F8\"},\"line\":{\"color\":\"white\"}},\"header\":{\"fill\":{\"color\":\"#C8D4E3\"},\"line\":{\"color\":\"white\"}},\"type\":\"table\"}],\"barpolar\":[{\"marker\":{\"line\":{\"color\":\"#E5ECF6\",\"width\":0.5},\"pattern\":{\"fillmode\":\"overlay\",\"size\":10,\"solidity\":0.2}},\"type\":\"barpolar\"}],\"pie\":[{\"automargin\":true,\"type\":\"pie\"}]},\"layout\":{\"autotypenumbers\":\"strict\",\"colorway\":[\"#636efa\",\"#EF553B\",\"#00cc96\",\"#ab63fa\",\"#FFA15A\",\"#19d3f3\",\"#FF6692\",\"#B6E880\",\"#FF97FF\",\"#FECB52\"],\"font\":{\"color\":\"#2a3f5f\"},\"hovermode\":\"closest\",\"hoverlabel\":{\"align\":\"left\"},\"paper_bgcolor\":\"white\",\"plot_bgcolor\":\"#E5ECF6\",\"polar\":{\"bgcolor\":\"#E5ECF6\",\"angularaxis\":{\"gridcolor\":\"white\",\"linecolor\":\"white\",\"ticks\":\"\"},\"radialaxis\":{\"gridcolor\":\"white\",\"linecolor\":\"white\",\"ticks\":\"\"}},\"ternary\":{\"bgcolor\":\"#E5ECF6\",\"aaxis\":{\"gridcolor\":\"white\",\"linecolor\":\"white\",\"ticks\":\"\"},\"baxis\":{\"gridcolor\":\"white\",\"linecolor\":\"white\",\"ticks\":\"\"},\"caxis\":{\"gridcolor\":\"white\",\"linecolor\":\"white\",\"ticks\":\"\"}},\"coloraxis\":{\"colorbar\":{\"outlinewidth\":0,\"ticks\":\"\"}},\"colorscale\":{\"sequential\":[[0.0,\"#0d0887\"],[0.1111111111111111,\"#46039f\"],[0.2222222222222222,\"#7201a8\"],[0.3333333333333333,\"#9c179e\"],[0.4444444444444444,\"#bd3786\"],[0.5555555555555556,\"#d8576b\"],[0.6666666666666666,\"#ed7953\"],[0.7777777777777778,\"#fb9f3a\"],[0.8888888888888888,\"#fdca26\"],[1.0,\"#f0f921\"]],\"sequentialminus\":[[0.0,\"#0d0887\"],[0.1111111111111111,\"#46039f\"],[0.2222222222222222,\"#7201a8\"],[0.3333333333333333,\"#9c179e\"],[0.4444444444444444,\"#bd3786\"],[0.5555555555555556,\"#d8576b\"],[0.6666666666666666,\"#ed7953\"],[0.7777777777777778,\"#fb9f3a\"],[0.8888888888888888,\"#fdca26\"],[1.0,\"#f0f921\"]],\"diverging\":[[0,\"#8e0152\"],[0.1,\"#c51b7d\"],[0.2,\"#de77ae\"],[0.3,\"#f1b6da\"],[0.4,\"#fde0ef\"],[0.5,\"#f7f7f7\"],[0.6,\"#e6f5d0\"],[0.7,\"#b8e186\"],[0.8,\"#7fbc41\"],[0.9,\"#4d9221\"],[1,\"#276419\"]]},\"xaxis\":{\"gridcolor\":\"white\",\"linecolor\":\"white\",\"ticks\":\"\",\"title\":{\"standoff\":15},\"zerolinecolor\":\"white\",\"automargin\":true,\"zerolinewidth\":2},\"yaxis\":{\"gridcolor\":\"white\",\"linecolor\":\"white\",\"ticks\":\"\",\"title\":{\"standoff\":15},\"zerolinecolor\":\"white\",\"automargin\":true,\"zerolinewidth\":2},\"scene\":{\"xaxis\":{\"backgroundcolor\":\"#E5ECF6\",\"gridcolor\":\"white\",\"linecolor\":\"white\",\"showbackground\":true,\"ticks\":\"\",\"zerolinecolor\":\"white\",\"gridwidth\":2},\"yaxis\":{\"backgroundcolor\":\"#E5ECF6\",\"gridcolor\":\"white\",\"linecolor\":\"white\",\"showbackground\":true,\"ticks\":\"\",\"zerolinecolor\":\"white\",\"gridwidth\":2},\"zaxis\":{\"backgroundcolor\":\"#E5ECF6\",\"gridcolor\":\"white\",\"linecolor\":\"white\",\"showbackground\":true,\"ticks\":\"\",\"zerolinecolor\":\"white\",\"gridwidth\":2}},\"shapedefaults\":{\"line\":{\"color\":\"#2a3f5f\"}},\"annotationdefaults\":{\"arrowcolor\":\"#2a3f5f\",\"arrowhead\":0,\"arrowwidth\":1},\"geo\":{\"bgcolor\":\"white\",\"landcolor\":\"#E5ECF6\",\"subunitcolor\":\"white\",\"showland\":true,\"showlakes\":true,\"lakecolor\":\"white\"},\"title\":{\"x\":0.05},\"mapbox\":{\"style\":\"light\"}}},\"xaxis\":{\"anchor\":\"y\",\"domain\":[0.0,1.0],\"title\":{\"text\":\"PC1 40.2%\"}},\"yaxis\":{\"anchor\":\"x\",\"domain\":[0.0,1.0],\"title\":{\"text\":\"PC2 8.2%\"}},\"legend\":{\"title\":{\"text\":\"color\"},\"tracegroupgap\":0},\"margin\":{\"t\":60},\"title\":{\"text\":\"50 Most Abundant Leaf Microbe Genera by Site PCA\"}},                        {\"responsive\": true}                    ).then(function(){\n",
       "                            \n",
       "var gd = document.getElementById('f0d05c2f-ce7b-486e-8028-0722cde2ab32');\n",
       "var x = new MutationObserver(function (mutations, observer) {{\n",
       "        var display = window.getComputedStyle(gd).display;\n",
       "        if (!display || display === 'none') {{\n",
       "            console.log([gd, 'removed!']);\n",
       "            Plotly.purge(gd);\n",
       "            observer.disconnect();\n",
       "        }}\n",
       "}});\n",
       "\n",
       "// Listen for the removal of the full notebook cells\n",
       "var notebookContainer = gd.closest('#notebook-container');\n",
       "if (notebookContainer) {{\n",
       "    x.observe(notebookContainer, {childList: true});\n",
       "}}\n",
       "\n",
       "// Listen for the clearing of the current output cell\n",
       "var outputEl = gd.closest('.output');\n",
       "if (outputEl) {{\n",
       "    x.observe(outputEl, {childList: true});\n",
       "}}\n",
       "\n",
       "                        })                };                });            </script>        </div>"
      ]
     },
     "metadata": {},
     "output_type": "display_data"
    }
   ],
   "source": [
    "X = pc3_df[top_50.index]\n",
    "\n",
    "pca = PCA(n_components=2)\n",
    "components = pca.fit_transform(X)\n",
    "\n",
    "fig = px.scatter(components, x=0, y=1, color=pc3_df['site_id'])\n",
    "fig.update_layout(\n",
    "    title = \"50 Most Abundant Leaf Microbe Genera by Site PCA\",\n",
    "    xaxis_title=\"PC1 \" + str(round(100*pca.explained_variance_ratio_[0], 1)) + '%',\n",
    "    yaxis_title=\"PC2 \" + str(round(100*pca.explained_variance_ratio_[1], 1)) + '%')\n",
    "fig.show()"
   ]
  },
  {
   "cell_type": "code",
   "execution_count": 32,
   "id": "51825152",
   "metadata": {},
   "outputs": [],
   "source": [
    "pc3_df['site_id'].replace({'CMB': 1, 'FRW': 1, 'LFS': 1, 'LM': 0, 'MMP': 1, 'MKP': 2,\n",
    "                    'PNR': 2, 'PTW': 0, 'RF': 2, 'RGT': 0, 'RRL': 0, 'SGC': 0, 'SLG': 1,'HR': 3}, inplace=True) #\n",
    "pc3_df = pc3_df[pc3_df[\"site_id\"].isin([0,1,2,3])]\n",
    "\n",
    "pc3_df['site_id'].unique()\n",
    "\n",
    "pc3_df['site_id'] = pc3_df['site_id'].replace([0], 'Wintergreen')\n",
    "pc3_df['site_id'] = pc3_df['site_id'].replace([1], 'Cole Mountain')\n",
    "pc3_df['site_id'] = pc3_df['site_id'].replace([2], 'Blacksburg')\n",
    "pc3_df['site_id'] = pc3_df['site_id'].replace([3], 'HR')"
   ]
  },
  {
   "cell_type": "code",
   "execution_count": 33,
   "id": "f8eefa92",
   "metadata": {},
   "outputs": [
    {
     "data": {
      "application/vnd.plotly.v1+json": {
       "config": {
        "plotlyServerURL": "https://plot.ly"
       },
       "data": [
        {
         "hovertemplate": "color=Cole Mountain<br>0=%{x}<br>1=%{y}<extra></extra>",
         "legendgroup": "Cole Mountain",
         "marker": {
          "color": "#636efa",
          "symbol": "circle"
         },
         "mode": "markers",
         "name": "Cole Mountain",
         "orientation": "v",
         "showlegend": true,
         "type": "scatter",
         "x": [
          -3.869218841088769,
          -4.23089393956293,
          -3.7619601641747322,
          -4.09097784251389,
          -3.9702824505528875,
          -3.3431720084159817,
          -4.304615907821897,
          -4.4212418153951,
          -3.4283779047679195,
          -3.782007108036632,
          -3.591013612048619,
          -4.109281525832044,
          -3.8379043961031276,
          -3.7133779101101276,
          -4.0084339352296565,
          -3.8028276309308175,
          -4.670162307853379,
          -3.6113878522234826,
          -4.6019769510687265,
          9.38913067018038,
          10.162226897781242,
          9.769201467520224,
          9.504966905467093,
          9.440467041087219,
          9.270652753508841,
          9.567820660112464,
          9.187572644213557,
          9.716802248802102,
          9.315393799369861,
          9.993812615398761,
          -4.534431258634618,
          -4.619290636629358,
          -4.877509798688043,
          -5.247970070353009,
          -4.946520610050511,
          -4.778375903845234,
          -4.469879474856306,
          -4.997291553726235,
          -4.586012492076129,
          -5.1087775407637155,
          -5.598560519818487,
          -4.943001502610904,
          -4.923837009513587,
          -4.604340134263453,
          -3.3921571870970966,
          -4.863972699521204,
          -4.180253655196002,
          -4.057183914406546,
          -4.364886259670471,
          -3.4501954696411636,
          -3.590851670015515,
          -5.327400980635023,
          -3.716866215925032,
          -4.822906681265936,
          -4.67093988415835,
          -3.655875860051174,
          -3.7417204345623554,
          -4.401637278093781,
          -3.937174737376,
          -3.5262627101819093,
          -5.031000873314409,
          -4.309608075289388,
          9.990400231022193,
          9.905840993039936,
          10.144578803338623,
          9.90392801852001,
          10.041563324748132,
          9.736806790058486,
          9.99607720565682,
          9.782197432301647,
          10.472053241817568,
          9.922103685390091,
          9.060069312486531,
          9.902522813717805,
          9.499231057398061,
          9.87253575671702,
          9.132753918392902,
          10.040871608834903,
          10.253357413767063
         ],
         "xaxis": "x",
         "y": [
          -1.5457845211948384,
          -1.6384666840867517,
          -2.2487306442902018,
          -2.3554053773392707,
          -2.640170953444384,
          -0.15718283478239786,
          -0.4167488284085961,
          -2.6688562412806687,
          -2.9792270983562403,
          -2.324593181354694,
          -1.7121833725326179,
          -1.8016253333585903,
          -2.4068918128659624,
          0.399113914909385,
          -2.0681354626881236,
          -1.934696603264693,
          -1.3674263749203002,
          -2.476419819194672,
          0.12502659462677274,
          0.022222155172950602,
          0.08179799887308016,
          -0.2955319718665164,
          0.5425894374241922,
          0.33704625809814204,
          0.6133100471946177,
          0.011538780119749516,
          0.08671342373527942,
          -0.4272785876040259,
          -0.08296211554120106,
          -0.0013546008572509257,
          -2.3920760158452987,
          -2.4360817018047483,
          -0.4497069915631719,
          1.9093408645911811,
          -1.2317379405338165,
          -1.978822582875884,
          -1.6907089488998372,
          0.34818265465505766,
          0.5687571466111061,
          -0.41572459977914417,
          0.20235404331113083,
          -1.0150128665231661,
          -0.6844619445394174,
          -4.016343134553595,
          -3.2429107924804095,
          -2.154443528659995,
          -2.333258043594572,
          -0.910198981042,
          -2.7050580331367313,
          -3.9319415850749064,
          -4.789099456929413,
          0.3403220975747184,
          -3.1587387132710565,
          -0.29201071029411585,
          -3.0283183726602205,
          -3.000244250920104,
          -3.1401097652966827,
          -1.6204135000279707,
          -2.002874586816198,
          -2.483600447625917,
          -1.3360005794037888,
          -1.527049113182258,
          -0.151630952452979,
          -0.8393415817335808,
          -0.3597245922878043,
          -0.171628097587851,
          -0.029555382801965093,
          -0.4817045307169612,
          -0.25375158675833326,
          -0.5776761377625367,
          -0.3148357302955539,
          -0.7003016643067138,
          -0.14821855303480586,
          -0.30575962598001055,
          0.38290132862587,
          -0.40590203621526694,
          0.26885311062456774,
          -0.09326210093514452,
          -0.6167476809044014
         ],
         "yaxis": "y"
        },
        {
         "hovertemplate": "color=HR<br>0=%{x}<br>1=%{y}<extra></extra>",
         "legendgroup": "HR",
         "marker": {
          "color": "#EF553B",
          "symbol": "circle"
         },
         "mode": "markers",
         "name": "HR",
         "orientation": "v",
         "showlegend": true,
         "type": "scatter",
         "x": [
          -1.9312549326111785,
          0.32304883140665813,
          -5.8433398489426525,
          -4.166227649381334
         ],
         "xaxis": "x",
         "y": [
          -2.211954531028283,
          6.569908868319663,
          11.468764293175228,
          16.38813033483443
         ],
         "yaxis": "y"
        },
        {
         "hovertemplate": "color=Wintergreen<br>0=%{x}<br>1=%{y}<extra></extra>",
         "legendgroup": "Wintergreen",
         "marker": {
          "color": "#00cc96",
          "symbol": "circle"
         },
         "mode": "markers",
         "name": "Wintergreen",
         "orientation": "v",
         "showlegend": true,
         "type": "scatter",
         "x": [
          -4.589378191799763,
          -5.259732637029045,
          -5.0752100419513475,
          -5.9792577940857905,
          -5.730118906389903,
          -5.252902519630119,
          -4.648866798416268,
          -5.533420728561796,
          -5.711938341074282,
          -5.386976101214665,
          -5.741610710831969,
          -5.328639236884131,
          -4.9610731802665935,
          -6.459523664917656,
          -5.4619689868919785,
          -4.143135246774803,
          -4.3641074397577295,
          -4.919540217132616,
          -5.825943413544717,
          -5.763342808213375,
          -4.8390104507680665,
          -6.1183698537231495,
          -4.985198878288755,
          -4.980342148574955,
          -4.686166597504959,
          -4.311310081340932,
          -4.9367069802076005,
          -4.820749199586533,
          -5.224038575086871,
          -4.209412105196133,
          -4.476604370229272,
          -4.746453236836065,
          4.003003175964514,
          3.83213266718547,
          4.676434842801398,
          3.104561875438744,
          2.598257012196361,
          -1.341724057059263,
          -3.086362747047765,
          -2.389083681052626,
          -2.315445250179181,
          0.7939087059608511,
          0.63865378928614,
          -1.714554144300538,
          -4.184765546921476,
          0.4640817802217822,
          3.532300012478452,
          2.337180092404286,
          2.536996844373149,
          1.8116021061784429,
          3.4213146959498557
         ],
         "xaxis": "x",
         "y": [
          -2.2788725513989045,
          0.9776047087012897,
          1.1574389350518786,
          0.32344812570269277,
          2.0901391114327055,
          1.0318237776662107,
          2.821541155888034,
          2.201542579153583,
          3.3213402650751367,
          0.47025564607218445,
          1.4992128057444862,
          -0.2883269828853845,
          -0.33970181184380527,
          2.654470754378316,
          0.42200990042517766,
          -2.056517485222166,
          -2.6895168717611844,
          -0.12938027018461098,
          2.1435377043683705,
          1.0149721943875727,
          -0.339830482712083,
          1.8048188057516268,
          -1.2659375068911063,
          0.34514965703467027,
          -1.5165772009754035,
          -1.7760018004616998,
          -2.2614633454205615,
          1.4470496297092907,
          0.7357282738095032,
          -2.332812630331883,
          -2.5233091971382575,
          -1.3026976179511238,
          1.9121991573930084,
          2.761807316592268,
          1.9736581643861606,
          3.2898942091983234,
          8.29165195527511,
          -4.558082161246634,
          -4.433687408594538,
          -3.3920942011868105,
          -1.8016194538562207,
          1.4362509032519735,
          -1.3070600080363073,
          3.175023416033599,
          10.247964247518166,
          2.3678318699398155,
          2.046754584523512,
          1.8678571464220814,
          0.3111908619485699,
          5.376906040201385,
          3.863806362906876
         ],
         "yaxis": "y"
        },
        {
         "hovertemplate": "color=Blacksburg<br>0=%{x}<br>1=%{y}<extra></extra>",
         "legendgroup": "Blacksburg",
         "marker": {
          "color": "#ab63fa",
          "symbol": "circle"
         },
         "mode": "markers",
         "name": "Blacksburg",
         "orientation": "v",
         "showlegend": true,
         "type": "scatter",
         "x": [
          3.8980616084586943,
          -4.60485395678928,
          -5.571027589941458,
          -5.941493075822688,
          -5.538588823495099,
          -3.0827152801039155,
          -6.800192077031319,
          -6.985789225971964,
          9.886950772720953,
          9.616525930308468,
          8.69841017887994,
          9.931910900452596,
          9.904294171812076,
          9.470385319713921,
          9.660398410094714,
          9.444702269153867,
          10.010259763016903,
          10.370556090652668,
          10.042112596447634,
          10.246402055815281,
          9.646801536005102,
          10.518087179296712
         ],
         "xaxis": "x",
         "y": [
          0.27967612946756326,
          -0.5643942702097106,
          4.6214694061947705,
          1.9672914654567113,
          5.166248258610711,
          -1.3637376210008372,
          7.100094341492955,
          7.576875594767224,
          -0.5721445589773596,
          -0.3807018735218242,
          -0.04416611652991056,
          -0.5210180206917286,
          0.00802461885476648,
          -0.3260991031664214,
          -0.32435170799840135,
          -0.10356178530348538,
          -0.6054263045125478,
          0.3223061232730871,
          -0.40874863637263736,
          -0.8248854980568653,
          -0.7755702282997258,
          -0.506830452429745
         ],
         "yaxis": "y"
        }
       ],
       "layout": {
        "legend": {
         "title": {
          "text": "color"
         },
         "tracegroupgap": 0
        },
        "margin": {
         "t": 60
        },
        "template": {
         "data": {
          "bar": [
           {
            "error_x": {
             "color": "#2a3f5f"
            },
            "error_y": {
             "color": "#2a3f5f"
            },
            "marker": {
             "line": {
              "color": "#E5ECF6",
              "width": 0.5
             },
             "pattern": {
              "fillmode": "overlay",
              "size": 10,
              "solidity": 0.2
             }
            },
            "type": "bar"
           }
          ],
          "barpolar": [
           {
            "marker": {
             "line": {
              "color": "#E5ECF6",
              "width": 0.5
             },
             "pattern": {
              "fillmode": "overlay",
              "size": 10,
              "solidity": 0.2
             }
            },
            "type": "barpolar"
           }
          ],
          "carpet": [
           {
            "aaxis": {
             "endlinecolor": "#2a3f5f",
             "gridcolor": "white",
             "linecolor": "white",
             "minorgridcolor": "white",
             "startlinecolor": "#2a3f5f"
            },
            "baxis": {
             "endlinecolor": "#2a3f5f",
             "gridcolor": "white",
             "linecolor": "white",
             "minorgridcolor": "white",
             "startlinecolor": "#2a3f5f"
            },
            "type": "carpet"
           }
          ],
          "choropleth": [
           {
            "colorbar": {
             "outlinewidth": 0,
             "ticks": ""
            },
            "type": "choropleth"
           }
          ],
          "contour": [
           {
            "colorbar": {
             "outlinewidth": 0,
             "ticks": ""
            },
            "colorscale": [
             [
              0,
              "#0d0887"
             ],
             [
              0.1111111111111111,
              "#46039f"
             ],
             [
              0.2222222222222222,
              "#7201a8"
             ],
             [
              0.3333333333333333,
              "#9c179e"
             ],
             [
              0.4444444444444444,
              "#bd3786"
             ],
             [
              0.5555555555555556,
              "#d8576b"
             ],
             [
              0.6666666666666666,
              "#ed7953"
             ],
             [
              0.7777777777777778,
              "#fb9f3a"
             ],
             [
              0.8888888888888888,
              "#fdca26"
             ],
             [
              1,
              "#f0f921"
             ]
            ],
            "type": "contour"
           }
          ],
          "contourcarpet": [
           {
            "colorbar": {
             "outlinewidth": 0,
             "ticks": ""
            },
            "type": "contourcarpet"
           }
          ],
          "heatmap": [
           {
            "colorbar": {
             "outlinewidth": 0,
             "ticks": ""
            },
            "colorscale": [
             [
              0,
              "#0d0887"
             ],
             [
              0.1111111111111111,
              "#46039f"
             ],
             [
              0.2222222222222222,
              "#7201a8"
             ],
             [
              0.3333333333333333,
              "#9c179e"
             ],
             [
              0.4444444444444444,
              "#bd3786"
             ],
             [
              0.5555555555555556,
              "#d8576b"
             ],
             [
              0.6666666666666666,
              "#ed7953"
             ],
             [
              0.7777777777777778,
              "#fb9f3a"
             ],
             [
              0.8888888888888888,
              "#fdca26"
             ],
             [
              1,
              "#f0f921"
             ]
            ],
            "type": "heatmap"
           }
          ],
          "heatmapgl": [
           {
            "colorbar": {
             "outlinewidth": 0,
             "ticks": ""
            },
            "colorscale": [
             [
              0,
              "#0d0887"
             ],
             [
              0.1111111111111111,
              "#46039f"
             ],
             [
              0.2222222222222222,
              "#7201a8"
             ],
             [
              0.3333333333333333,
              "#9c179e"
             ],
             [
              0.4444444444444444,
              "#bd3786"
             ],
             [
              0.5555555555555556,
              "#d8576b"
             ],
             [
              0.6666666666666666,
              "#ed7953"
             ],
             [
              0.7777777777777778,
              "#fb9f3a"
             ],
             [
              0.8888888888888888,
              "#fdca26"
             ],
             [
              1,
              "#f0f921"
             ]
            ],
            "type": "heatmapgl"
           }
          ],
          "histogram": [
           {
            "marker": {
             "pattern": {
              "fillmode": "overlay",
              "size": 10,
              "solidity": 0.2
             }
            },
            "type": "histogram"
           }
          ],
          "histogram2d": [
           {
            "colorbar": {
             "outlinewidth": 0,
             "ticks": ""
            },
            "colorscale": [
             [
              0,
              "#0d0887"
             ],
             [
              0.1111111111111111,
              "#46039f"
             ],
             [
              0.2222222222222222,
              "#7201a8"
             ],
             [
              0.3333333333333333,
              "#9c179e"
             ],
             [
              0.4444444444444444,
              "#bd3786"
             ],
             [
              0.5555555555555556,
              "#d8576b"
             ],
             [
              0.6666666666666666,
              "#ed7953"
             ],
             [
              0.7777777777777778,
              "#fb9f3a"
             ],
             [
              0.8888888888888888,
              "#fdca26"
             ],
             [
              1,
              "#f0f921"
             ]
            ],
            "type": "histogram2d"
           }
          ],
          "histogram2dcontour": [
           {
            "colorbar": {
             "outlinewidth": 0,
             "ticks": ""
            },
            "colorscale": [
             [
              0,
              "#0d0887"
             ],
             [
              0.1111111111111111,
              "#46039f"
             ],
             [
              0.2222222222222222,
              "#7201a8"
             ],
             [
              0.3333333333333333,
              "#9c179e"
             ],
             [
              0.4444444444444444,
              "#bd3786"
             ],
             [
              0.5555555555555556,
              "#d8576b"
             ],
             [
              0.6666666666666666,
              "#ed7953"
             ],
             [
              0.7777777777777778,
              "#fb9f3a"
             ],
             [
              0.8888888888888888,
              "#fdca26"
             ],
             [
              1,
              "#f0f921"
             ]
            ],
            "type": "histogram2dcontour"
           }
          ],
          "mesh3d": [
           {
            "colorbar": {
             "outlinewidth": 0,
             "ticks": ""
            },
            "type": "mesh3d"
           }
          ],
          "parcoords": [
           {
            "line": {
             "colorbar": {
              "outlinewidth": 0,
              "ticks": ""
             }
            },
            "type": "parcoords"
           }
          ],
          "pie": [
           {
            "automargin": true,
            "type": "pie"
           }
          ],
          "scatter": [
           {
            "fillpattern": {
             "fillmode": "overlay",
             "size": 10,
             "solidity": 0.2
            },
            "type": "scatter"
           }
          ],
          "scatter3d": [
           {
            "line": {
             "colorbar": {
              "outlinewidth": 0,
              "ticks": ""
             }
            },
            "marker": {
             "colorbar": {
              "outlinewidth": 0,
              "ticks": ""
             }
            },
            "type": "scatter3d"
           }
          ],
          "scattercarpet": [
           {
            "marker": {
             "colorbar": {
              "outlinewidth": 0,
              "ticks": ""
             }
            },
            "type": "scattercarpet"
           }
          ],
          "scattergeo": [
           {
            "marker": {
             "colorbar": {
              "outlinewidth": 0,
              "ticks": ""
             }
            },
            "type": "scattergeo"
           }
          ],
          "scattergl": [
           {
            "marker": {
             "colorbar": {
              "outlinewidth": 0,
              "ticks": ""
             }
            },
            "type": "scattergl"
           }
          ],
          "scattermapbox": [
           {
            "marker": {
             "colorbar": {
              "outlinewidth": 0,
              "ticks": ""
             }
            },
            "type": "scattermapbox"
           }
          ],
          "scatterpolar": [
           {
            "marker": {
             "colorbar": {
              "outlinewidth": 0,
              "ticks": ""
             }
            },
            "type": "scatterpolar"
           }
          ],
          "scatterpolargl": [
           {
            "marker": {
             "colorbar": {
              "outlinewidth": 0,
              "ticks": ""
             }
            },
            "type": "scatterpolargl"
           }
          ],
          "scatterternary": [
           {
            "marker": {
             "colorbar": {
              "outlinewidth": 0,
              "ticks": ""
             }
            },
            "type": "scatterternary"
           }
          ],
          "surface": [
           {
            "colorbar": {
             "outlinewidth": 0,
             "ticks": ""
            },
            "colorscale": [
             [
              0,
              "#0d0887"
             ],
             [
              0.1111111111111111,
              "#46039f"
             ],
             [
              0.2222222222222222,
              "#7201a8"
             ],
             [
              0.3333333333333333,
              "#9c179e"
             ],
             [
              0.4444444444444444,
              "#bd3786"
             ],
             [
              0.5555555555555556,
              "#d8576b"
             ],
             [
              0.6666666666666666,
              "#ed7953"
             ],
             [
              0.7777777777777778,
              "#fb9f3a"
             ],
             [
              0.8888888888888888,
              "#fdca26"
             ],
             [
              1,
              "#f0f921"
             ]
            ],
            "type": "surface"
           }
          ],
          "table": [
           {
            "cells": {
             "fill": {
              "color": "#EBF0F8"
             },
             "line": {
              "color": "white"
             }
            },
            "header": {
             "fill": {
              "color": "#C8D4E3"
             },
             "line": {
              "color": "white"
             }
            },
            "type": "table"
           }
          ]
         },
         "layout": {
          "annotationdefaults": {
           "arrowcolor": "#2a3f5f",
           "arrowhead": 0,
           "arrowwidth": 1
          },
          "autotypenumbers": "strict",
          "coloraxis": {
           "colorbar": {
            "outlinewidth": 0,
            "ticks": ""
           }
          },
          "colorscale": {
           "diverging": [
            [
             0,
             "#8e0152"
            ],
            [
             0.1,
             "#c51b7d"
            ],
            [
             0.2,
             "#de77ae"
            ],
            [
             0.3,
             "#f1b6da"
            ],
            [
             0.4,
             "#fde0ef"
            ],
            [
             0.5,
             "#f7f7f7"
            ],
            [
             0.6,
             "#e6f5d0"
            ],
            [
             0.7,
             "#b8e186"
            ],
            [
             0.8,
             "#7fbc41"
            ],
            [
             0.9,
             "#4d9221"
            ],
            [
             1,
             "#276419"
            ]
           ],
           "sequential": [
            [
             0,
             "#0d0887"
            ],
            [
             0.1111111111111111,
             "#46039f"
            ],
            [
             0.2222222222222222,
             "#7201a8"
            ],
            [
             0.3333333333333333,
             "#9c179e"
            ],
            [
             0.4444444444444444,
             "#bd3786"
            ],
            [
             0.5555555555555556,
             "#d8576b"
            ],
            [
             0.6666666666666666,
             "#ed7953"
            ],
            [
             0.7777777777777778,
             "#fb9f3a"
            ],
            [
             0.8888888888888888,
             "#fdca26"
            ],
            [
             1,
             "#f0f921"
            ]
           ],
           "sequentialminus": [
            [
             0,
             "#0d0887"
            ],
            [
             0.1111111111111111,
             "#46039f"
            ],
            [
             0.2222222222222222,
             "#7201a8"
            ],
            [
             0.3333333333333333,
             "#9c179e"
            ],
            [
             0.4444444444444444,
             "#bd3786"
            ],
            [
             0.5555555555555556,
             "#d8576b"
            ],
            [
             0.6666666666666666,
             "#ed7953"
            ],
            [
             0.7777777777777778,
             "#fb9f3a"
            ],
            [
             0.8888888888888888,
             "#fdca26"
            ],
            [
             1,
             "#f0f921"
            ]
           ]
          },
          "colorway": [
           "#636efa",
           "#EF553B",
           "#00cc96",
           "#ab63fa",
           "#FFA15A",
           "#19d3f3",
           "#FF6692",
           "#B6E880",
           "#FF97FF",
           "#FECB52"
          ],
          "font": {
           "color": "#2a3f5f"
          },
          "geo": {
           "bgcolor": "white",
           "lakecolor": "white",
           "landcolor": "#E5ECF6",
           "showlakes": true,
           "showland": true,
           "subunitcolor": "white"
          },
          "hoverlabel": {
           "align": "left"
          },
          "hovermode": "closest",
          "mapbox": {
           "style": "light"
          },
          "paper_bgcolor": "white",
          "plot_bgcolor": "#E5ECF6",
          "polar": {
           "angularaxis": {
            "gridcolor": "white",
            "linecolor": "white",
            "ticks": ""
           },
           "bgcolor": "#E5ECF6",
           "radialaxis": {
            "gridcolor": "white",
            "linecolor": "white",
            "ticks": ""
           }
          },
          "scene": {
           "xaxis": {
            "backgroundcolor": "#E5ECF6",
            "gridcolor": "white",
            "gridwidth": 2,
            "linecolor": "white",
            "showbackground": true,
            "ticks": "",
            "zerolinecolor": "white"
           },
           "yaxis": {
            "backgroundcolor": "#E5ECF6",
            "gridcolor": "white",
            "gridwidth": 2,
            "linecolor": "white",
            "showbackground": true,
            "ticks": "",
            "zerolinecolor": "white"
           },
           "zaxis": {
            "backgroundcolor": "#E5ECF6",
            "gridcolor": "white",
            "gridwidth": 2,
            "linecolor": "white",
            "showbackground": true,
            "ticks": "",
            "zerolinecolor": "white"
           }
          },
          "shapedefaults": {
           "line": {
            "color": "#2a3f5f"
           }
          },
          "ternary": {
           "aaxis": {
            "gridcolor": "white",
            "linecolor": "white",
            "ticks": ""
           },
           "baxis": {
            "gridcolor": "white",
            "linecolor": "white",
            "ticks": ""
           },
           "bgcolor": "#E5ECF6",
           "caxis": {
            "gridcolor": "white",
            "linecolor": "white",
            "ticks": ""
           }
          },
          "title": {
           "x": 0.05
          },
          "xaxis": {
           "automargin": true,
           "gridcolor": "white",
           "linecolor": "white",
           "ticks": "",
           "title": {
            "standoff": 15
           },
           "zerolinecolor": "white",
           "zerolinewidth": 2
          },
          "yaxis": {
           "automargin": true,
           "gridcolor": "white",
           "linecolor": "white",
           "ticks": "",
           "title": {
            "standoff": 15
           },
           "zerolinecolor": "white",
           "zerolinewidth": 2
          }
         }
        },
        "title": {
         "text": "50 Most Abundant Leaf Microbe Genera by Broad Geographic Location PCA"
        },
        "xaxis": {
         "anchor": "y",
         "domain": [
          0,
          1
         ],
         "title": {
          "text": "PC1 40.2%"
         }
        },
        "yaxis": {
         "anchor": "x",
         "domain": [
          0,
          1
         ],
         "title": {
          "text": "PC2 8.2%"
         }
        }
       }
      },
      "text/html": [
       "<div>                            <div id=\"daa2529c-dc4e-441c-a265-0974da2b38fd\" class=\"plotly-graph-div\" style=\"height:525px; width:100%;\"></div>            <script type=\"text/javascript\">                require([\"plotly\"], function(Plotly) {                    window.PLOTLYENV=window.PLOTLYENV || {};                                    if (document.getElementById(\"daa2529c-dc4e-441c-a265-0974da2b38fd\")) {                    Plotly.newPlot(                        \"daa2529c-dc4e-441c-a265-0974da2b38fd\",                        [{\"hovertemplate\":\"color=Cole Mountain<br>0=%{x}<br>1=%{y}<extra></extra>\",\"legendgroup\":\"Cole Mountain\",\"marker\":{\"color\":\"#636efa\",\"symbol\":\"circle\"},\"mode\":\"markers\",\"name\":\"Cole Mountain\",\"orientation\":\"v\",\"showlegend\":true,\"x\":[-3.869218841088769,-4.23089393956293,-3.7619601641747322,-4.09097784251389,-3.9702824505528875,-3.3431720084159817,-4.304615907821897,-4.4212418153951,-3.4283779047679195,-3.782007108036632,-3.591013612048619,-4.109281525832044,-3.8379043961031276,-3.7133779101101276,-4.0084339352296565,-3.8028276309308175,-4.670162307853379,-3.6113878522234826,-4.6019769510687265,9.38913067018038,10.162226897781242,9.769201467520224,9.504966905467093,9.440467041087219,9.270652753508841,9.567820660112464,9.187572644213557,9.716802248802102,9.315393799369861,9.993812615398761,-4.534431258634618,-4.619290636629358,-4.877509798688043,-5.247970070353009,-4.946520610050511,-4.778375903845234,-4.469879474856306,-4.997291553726235,-4.586012492076129,-5.1087775407637155,-5.598560519818487,-4.943001502610904,-4.923837009513587,-4.604340134263453,-3.3921571870970966,-4.863972699521204,-4.180253655196002,-4.057183914406546,-4.364886259670471,-3.4501954696411636,-3.590851670015515,-5.327400980635023,-3.716866215925032,-4.822906681265936,-4.67093988415835,-3.655875860051174,-3.7417204345623554,-4.401637278093781,-3.937174737376,-3.5262627101819093,-5.031000873314409,-4.309608075289388,9.990400231022193,9.905840993039936,10.144578803338623,9.90392801852001,10.041563324748132,9.736806790058486,9.99607720565682,9.782197432301647,10.472053241817568,9.922103685390091,9.060069312486531,9.902522813717805,9.499231057398061,9.87253575671702,9.132753918392902,10.040871608834903,10.253357413767063],\"xaxis\":\"x\",\"y\":[-1.5457845211948384,-1.6384666840867517,-2.2487306442902018,-2.3554053773392707,-2.640170953444384,-0.15718283478239786,-0.4167488284085961,-2.6688562412806687,-2.9792270983562403,-2.324593181354694,-1.7121833725326179,-1.8016253333585903,-2.4068918128659624,0.399113914909385,-2.0681354626881236,-1.934696603264693,-1.3674263749203002,-2.476419819194672,0.12502659462677274,0.022222155172950602,0.08179799887308016,-0.2955319718665164,0.5425894374241922,0.33704625809814204,0.6133100471946177,0.011538780119749516,0.08671342373527942,-0.4272785876040259,-0.08296211554120106,-0.0013546008572509257,-2.3920760158452987,-2.4360817018047483,-0.4497069915631719,1.9093408645911811,-1.2317379405338165,-1.978822582875884,-1.6907089488998372,0.34818265465505766,0.5687571466111061,-0.41572459977914417,0.20235404331113083,-1.0150128665231661,-0.6844619445394174,-4.016343134553595,-3.2429107924804095,-2.154443528659995,-2.333258043594572,-0.910198981042,-2.7050580331367313,-3.9319415850749064,-4.789099456929413,0.3403220975747184,-3.1587387132710565,-0.29201071029411585,-3.0283183726602205,-3.000244250920104,-3.1401097652966827,-1.6204135000279707,-2.002874586816198,-2.483600447625917,-1.3360005794037888,-1.527049113182258,-0.151630952452979,-0.8393415817335808,-0.3597245922878043,-0.171628097587851,-0.029555382801965093,-0.4817045307169612,-0.25375158675833326,-0.5776761377625367,-0.3148357302955539,-0.7003016643067138,-0.14821855303480586,-0.30575962598001055,0.38290132862587,-0.40590203621526694,0.26885311062456774,-0.09326210093514452,-0.6167476809044014],\"yaxis\":\"y\",\"type\":\"scatter\"},{\"hovertemplate\":\"color=HR<br>0=%{x}<br>1=%{y}<extra></extra>\",\"legendgroup\":\"HR\",\"marker\":{\"color\":\"#EF553B\",\"symbol\":\"circle\"},\"mode\":\"markers\",\"name\":\"HR\",\"orientation\":\"v\",\"showlegend\":true,\"x\":[-1.9312549326111785,0.32304883140665813,-5.8433398489426525,-4.166227649381334],\"xaxis\":\"x\",\"y\":[-2.211954531028283,6.569908868319663,11.468764293175228,16.38813033483443],\"yaxis\":\"y\",\"type\":\"scatter\"},{\"hovertemplate\":\"color=Wintergreen<br>0=%{x}<br>1=%{y}<extra></extra>\",\"legendgroup\":\"Wintergreen\",\"marker\":{\"color\":\"#00cc96\",\"symbol\":\"circle\"},\"mode\":\"markers\",\"name\":\"Wintergreen\",\"orientation\":\"v\",\"showlegend\":true,\"x\":[-4.589378191799763,-5.259732637029045,-5.0752100419513475,-5.9792577940857905,-5.730118906389903,-5.252902519630119,-4.648866798416268,-5.533420728561796,-5.711938341074282,-5.386976101214665,-5.741610710831969,-5.328639236884131,-4.9610731802665935,-6.459523664917656,-5.4619689868919785,-4.143135246774803,-4.3641074397577295,-4.919540217132616,-5.825943413544717,-5.763342808213375,-4.8390104507680665,-6.1183698537231495,-4.985198878288755,-4.980342148574955,-4.686166597504959,-4.311310081340932,-4.9367069802076005,-4.820749199586533,-5.224038575086871,-4.209412105196133,-4.476604370229272,-4.746453236836065,4.003003175964514,3.83213266718547,4.676434842801398,3.104561875438744,2.598257012196361,-1.341724057059263,-3.086362747047765,-2.389083681052626,-2.315445250179181,0.7939087059608511,0.63865378928614,-1.714554144300538,-4.184765546921476,0.4640817802217822,3.532300012478452,2.337180092404286,2.536996844373149,1.8116021061784429,3.4213146959498557],\"xaxis\":\"x\",\"y\":[-2.2788725513989045,0.9776047087012897,1.1574389350518786,0.32344812570269277,2.0901391114327055,1.0318237776662107,2.821541155888034,2.201542579153583,3.3213402650751367,0.47025564607218445,1.4992128057444862,-0.2883269828853845,-0.33970181184380527,2.654470754378316,0.42200990042517766,-2.056517485222166,-2.6895168717611844,-0.12938027018461098,2.1435377043683705,1.0149721943875727,-0.339830482712083,1.8048188057516268,-1.2659375068911063,0.34514965703467027,-1.5165772009754035,-1.7760018004616998,-2.2614633454205615,1.4470496297092907,0.7357282738095032,-2.332812630331883,-2.5233091971382575,-1.3026976179511238,1.9121991573930084,2.761807316592268,1.9736581643861606,3.2898942091983234,8.29165195527511,-4.558082161246634,-4.433687408594538,-3.3920942011868105,-1.8016194538562207,1.4362509032519735,-1.3070600080363073,3.175023416033599,10.247964247518166,2.3678318699398155,2.046754584523512,1.8678571464220814,0.3111908619485699,5.376906040201385,3.863806362906876],\"yaxis\":\"y\",\"type\":\"scatter\"},{\"hovertemplate\":\"color=Blacksburg<br>0=%{x}<br>1=%{y}<extra></extra>\",\"legendgroup\":\"Blacksburg\",\"marker\":{\"color\":\"#ab63fa\",\"symbol\":\"circle\"},\"mode\":\"markers\",\"name\":\"Blacksburg\",\"orientation\":\"v\",\"showlegend\":true,\"x\":[3.8980616084586943,-4.60485395678928,-5.571027589941458,-5.941493075822688,-5.538588823495099,-3.0827152801039155,-6.800192077031319,-6.985789225971964,9.886950772720953,9.616525930308468,8.69841017887994,9.931910900452596,9.904294171812076,9.470385319713921,9.660398410094714,9.444702269153867,10.010259763016903,10.370556090652668,10.042112596447634,10.246402055815281,9.646801536005102,10.518087179296712],\"xaxis\":\"x\",\"y\":[0.27967612946756326,-0.5643942702097106,4.6214694061947705,1.9672914654567113,5.166248258610711,-1.3637376210008372,7.100094341492955,7.576875594767224,-0.5721445589773596,-0.3807018735218242,-0.04416611652991056,-0.5210180206917286,0.00802461885476648,-0.3260991031664214,-0.32435170799840135,-0.10356178530348538,-0.6054263045125478,0.3223061232730871,-0.40874863637263736,-0.8248854980568653,-0.7755702282997258,-0.506830452429745],\"yaxis\":\"y\",\"type\":\"scatter\"}],                        {\"template\":{\"data\":{\"histogram2dcontour\":[{\"type\":\"histogram2dcontour\",\"colorbar\":{\"outlinewidth\":0,\"ticks\":\"\"},\"colorscale\":[[0.0,\"#0d0887\"],[0.1111111111111111,\"#46039f\"],[0.2222222222222222,\"#7201a8\"],[0.3333333333333333,\"#9c179e\"],[0.4444444444444444,\"#bd3786\"],[0.5555555555555556,\"#d8576b\"],[0.6666666666666666,\"#ed7953\"],[0.7777777777777778,\"#fb9f3a\"],[0.8888888888888888,\"#fdca26\"],[1.0,\"#f0f921\"]]}],\"choropleth\":[{\"type\":\"choropleth\",\"colorbar\":{\"outlinewidth\":0,\"ticks\":\"\"}}],\"histogram2d\":[{\"type\":\"histogram2d\",\"colorbar\":{\"outlinewidth\":0,\"ticks\":\"\"},\"colorscale\":[[0.0,\"#0d0887\"],[0.1111111111111111,\"#46039f\"],[0.2222222222222222,\"#7201a8\"],[0.3333333333333333,\"#9c179e\"],[0.4444444444444444,\"#bd3786\"],[0.5555555555555556,\"#d8576b\"],[0.6666666666666666,\"#ed7953\"],[0.7777777777777778,\"#fb9f3a\"],[0.8888888888888888,\"#fdca26\"],[1.0,\"#f0f921\"]]}],\"heatmap\":[{\"type\":\"heatmap\",\"colorbar\":{\"outlinewidth\":0,\"ticks\":\"\"},\"colorscale\":[[0.0,\"#0d0887\"],[0.1111111111111111,\"#46039f\"],[0.2222222222222222,\"#7201a8\"],[0.3333333333333333,\"#9c179e\"],[0.4444444444444444,\"#bd3786\"],[0.5555555555555556,\"#d8576b\"],[0.6666666666666666,\"#ed7953\"],[0.7777777777777778,\"#fb9f3a\"],[0.8888888888888888,\"#fdca26\"],[1.0,\"#f0f921\"]]}],\"heatmapgl\":[{\"type\":\"heatmapgl\",\"colorbar\":{\"outlinewidth\":0,\"ticks\":\"\"},\"colorscale\":[[0.0,\"#0d0887\"],[0.1111111111111111,\"#46039f\"],[0.2222222222222222,\"#7201a8\"],[0.3333333333333333,\"#9c179e\"],[0.4444444444444444,\"#bd3786\"],[0.5555555555555556,\"#d8576b\"],[0.6666666666666666,\"#ed7953\"],[0.7777777777777778,\"#fb9f3a\"],[0.8888888888888888,\"#fdca26\"],[1.0,\"#f0f921\"]]}],\"contourcarpet\":[{\"type\":\"contourcarpet\",\"colorbar\":{\"outlinewidth\":0,\"ticks\":\"\"}}],\"contour\":[{\"type\":\"contour\",\"colorbar\":{\"outlinewidth\":0,\"ticks\":\"\"},\"colorscale\":[[0.0,\"#0d0887\"],[0.1111111111111111,\"#46039f\"],[0.2222222222222222,\"#7201a8\"],[0.3333333333333333,\"#9c179e\"],[0.4444444444444444,\"#bd3786\"],[0.5555555555555556,\"#d8576b\"],[0.6666666666666666,\"#ed7953\"],[0.7777777777777778,\"#fb9f3a\"],[0.8888888888888888,\"#fdca26\"],[1.0,\"#f0f921\"]]}],\"surface\":[{\"type\":\"surface\",\"colorbar\":{\"outlinewidth\":0,\"ticks\":\"\"},\"colorscale\":[[0.0,\"#0d0887\"],[0.1111111111111111,\"#46039f\"],[0.2222222222222222,\"#7201a8\"],[0.3333333333333333,\"#9c179e\"],[0.4444444444444444,\"#bd3786\"],[0.5555555555555556,\"#d8576b\"],[0.6666666666666666,\"#ed7953\"],[0.7777777777777778,\"#fb9f3a\"],[0.8888888888888888,\"#fdca26\"],[1.0,\"#f0f921\"]]}],\"mesh3d\":[{\"type\":\"mesh3d\",\"colorbar\":{\"outlinewidth\":0,\"ticks\":\"\"}}],\"scatter\":[{\"fillpattern\":{\"fillmode\":\"overlay\",\"size\":10,\"solidity\":0.2},\"type\":\"scatter\"}],\"parcoords\":[{\"type\":\"parcoords\",\"line\":{\"colorbar\":{\"outlinewidth\":0,\"ticks\":\"\"}}}],\"scatterpolargl\":[{\"type\":\"scatterpolargl\",\"marker\":{\"colorbar\":{\"outlinewidth\":0,\"ticks\":\"\"}}}],\"bar\":[{\"error_x\":{\"color\":\"#2a3f5f\"},\"error_y\":{\"color\":\"#2a3f5f\"},\"marker\":{\"line\":{\"color\":\"#E5ECF6\",\"width\":0.5},\"pattern\":{\"fillmode\":\"overlay\",\"size\":10,\"solidity\":0.2}},\"type\":\"bar\"}],\"scattergeo\":[{\"type\":\"scattergeo\",\"marker\":{\"colorbar\":{\"outlinewidth\":0,\"ticks\":\"\"}}}],\"scatterpolar\":[{\"type\":\"scatterpolar\",\"marker\":{\"colorbar\":{\"outlinewidth\":0,\"ticks\":\"\"}}}],\"histogram\":[{\"marker\":{\"pattern\":{\"fillmode\":\"overlay\",\"size\":10,\"solidity\":0.2}},\"type\":\"histogram\"}],\"scattergl\":[{\"type\":\"scattergl\",\"marker\":{\"colorbar\":{\"outlinewidth\":0,\"ticks\":\"\"}}}],\"scatter3d\":[{\"type\":\"scatter3d\",\"line\":{\"colorbar\":{\"outlinewidth\":0,\"ticks\":\"\"}},\"marker\":{\"colorbar\":{\"outlinewidth\":0,\"ticks\":\"\"}}}],\"scattermapbox\":[{\"type\":\"scattermapbox\",\"marker\":{\"colorbar\":{\"outlinewidth\":0,\"ticks\":\"\"}}}],\"scatterternary\":[{\"type\":\"scatterternary\",\"marker\":{\"colorbar\":{\"outlinewidth\":0,\"ticks\":\"\"}}}],\"scattercarpet\":[{\"type\":\"scattercarpet\",\"marker\":{\"colorbar\":{\"outlinewidth\":0,\"ticks\":\"\"}}}],\"carpet\":[{\"aaxis\":{\"endlinecolor\":\"#2a3f5f\",\"gridcolor\":\"white\",\"linecolor\":\"white\",\"minorgridcolor\":\"white\",\"startlinecolor\":\"#2a3f5f\"},\"baxis\":{\"endlinecolor\":\"#2a3f5f\",\"gridcolor\":\"white\",\"linecolor\":\"white\",\"minorgridcolor\":\"white\",\"startlinecolor\":\"#2a3f5f\"},\"type\":\"carpet\"}],\"table\":[{\"cells\":{\"fill\":{\"color\":\"#EBF0F8\"},\"line\":{\"color\":\"white\"}},\"header\":{\"fill\":{\"color\":\"#C8D4E3\"},\"line\":{\"color\":\"white\"}},\"type\":\"table\"}],\"barpolar\":[{\"marker\":{\"line\":{\"color\":\"#E5ECF6\",\"width\":0.5},\"pattern\":{\"fillmode\":\"overlay\",\"size\":10,\"solidity\":0.2}},\"type\":\"barpolar\"}],\"pie\":[{\"automargin\":true,\"type\":\"pie\"}]},\"layout\":{\"autotypenumbers\":\"strict\",\"colorway\":[\"#636efa\",\"#EF553B\",\"#00cc96\",\"#ab63fa\",\"#FFA15A\",\"#19d3f3\",\"#FF6692\",\"#B6E880\",\"#FF97FF\",\"#FECB52\"],\"font\":{\"color\":\"#2a3f5f\"},\"hovermode\":\"closest\",\"hoverlabel\":{\"align\":\"left\"},\"paper_bgcolor\":\"white\",\"plot_bgcolor\":\"#E5ECF6\",\"polar\":{\"bgcolor\":\"#E5ECF6\",\"angularaxis\":{\"gridcolor\":\"white\",\"linecolor\":\"white\",\"ticks\":\"\"},\"radialaxis\":{\"gridcolor\":\"white\",\"linecolor\":\"white\",\"ticks\":\"\"}},\"ternary\":{\"bgcolor\":\"#E5ECF6\",\"aaxis\":{\"gridcolor\":\"white\",\"linecolor\":\"white\",\"ticks\":\"\"},\"baxis\":{\"gridcolor\":\"white\",\"linecolor\":\"white\",\"ticks\":\"\"},\"caxis\":{\"gridcolor\":\"white\",\"linecolor\":\"white\",\"ticks\":\"\"}},\"coloraxis\":{\"colorbar\":{\"outlinewidth\":0,\"ticks\":\"\"}},\"colorscale\":{\"sequential\":[[0.0,\"#0d0887\"],[0.1111111111111111,\"#46039f\"],[0.2222222222222222,\"#7201a8\"],[0.3333333333333333,\"#9c179e\"],[0.4444444444444444,\"#bd3786\"],[0.5555555555555556,\"#d8576b\"],[0.6666666666666666,\"#ed7953\"],[0.7777777777777778,\"#fb9f3a\"],[0.8888888888888888,\"#fdca26\"],[1.0,\"#f0f921\"]],\"sequentialminus\":[[0.0,\"#0d0887\"],[0.1111111111111111,\"#46039f\"],[0.2222222222222222,\"#7201a8\"],[0.3333333333333333,\"#9c179e\"],[0.4444444444444444,\"#bd3786\"],[0.5555555555555556,\"#d8576b\"],[0.6666666666666666,\"#ed7953\"],[0.7777777777777778,\"#fb9f3a\"],[0.8888888888888888,\"#fdca26\"],[1.0,\"#f0f921\"]],\"diverging\":[[0,\"#8e0152\"],[0.1,\"#c51b7d\"],[0.2,\"#de77ae\"],[0.3,\"#f1b6da\"],[0.4,\"#fde0ef\"],[0.5,\"#f7f7f7\"],[0.6,\"#e6f5d0\"],[0.7,\"#b8e186\"],[0.8,\"#7fbc41\"],[0.9,\"#4d9221\"],[1,\"#276419\"]]},\"xaxis\":{\"gridcolor\":\"white\",\"linecolor\":\"white\",\"ticks\":\"\",\"title\":{\"standoff\":15},\"zerolinecolor\":\"white\",\"automargin\":true,\"zerolinewidth\":2},\"yaxis\":{\"gridcolor\":\"white\",\"linecolor\":\"white\",\"ticks\":\"\",\"title\":{\"standoff\":15},\"zerolinecolor\":\"white\",\"automargin\":true,\"zerolinewidth\":2},\"scene\":{\"xaxis\":{\"backgroundcolor\":\"#E5ECF6\",\"gridcolor\":\"white\",\"linecolor\":\"white\",\"showbackground\":true,\"ticks\":\"\",\"zerolinecolor\":\"white\",\"gridwidth\":2},\"yaxis\":{\"backgroundcolor\":\"#E5ECF6\",\"gridcolor\":\"white\",\"linecolor\":\"white\",\"showbackground\":true,\"ticks\":\"\",\"zerolinecolor\":\"white\",\"gridwidth\":2},\"zaxis\":{\"backgroundcolor\":\"#E5ECF6\",\"gridcolor\":\"white\",\"linecolor\":\"white\",\"showbackground\":true,\"ticks\":\"\",\"zerolinecolor\":\"white\",\"gridwidth\":2}},\"shapedefaults\":{\"line\":{\"color\":\"#2a3f5f\"}},\"annotationdefaults\":{\"arrowcolor\":\"#2a3f5f\",\"arrowhead\":0,\"arrowwidth\":1},\"geo\":{\"bgcolor\":\"white\",\"landcolor\":\"#E5ECF6\",\"subunitcolor\":\"white\",\"showland\":true,\"showlakes\":true,\"lakecolor\":\"white\"},\"title\":{\"x\":0.05},\"mapbox\":{\"style\":\"light\"}}},\"xaxis\":{\"anchor\":\"y\",\"domain\":[0.0,1.0],\"title\":{\"text\":\"PC1 40.2%\"}},\"yaxis\":{\"anchor\":\"x\",\"domain\":[0.0,1.0],\"title\":{\"text\":\"PC2 8.2%\"}},\"legend\":{\"title\":{\"text\":\"color\"},\"tracegroupgap\":0},\"margin\":{\"t\":60},\"title\":{\"text\":\"50 Most Abundant Leaf Microbe Genera by Broad Geographic Location PCA\"}},                        {\"responsive\": true}                    ).then(function(){\n",
       "                            \n",
       "var gd = document.getElementById('daa2529c-dc4e-441c-a265-0974da2b38fd');\n",
       "var x = new MutationObserver(function (mutations, observer) {{\n",
       "        var display = window.getComputedStyle(gd).display;\n",
       "        if (!display || display === 'none') {{\n",
       "            console.log([gd, 'removed!']);\n",
       "            Plotly.purge(gd);\n",
       "            observer.disconnect();\n",
       "        }}\n",
       "}});\n",
       "\n",
       "// Listen for the removal of the full notebook cells\n",
       "var notebookContainer = gd.closest('#notebook-container');\n",
       "if (notebookContainer) {{\n",
       "    x.observe(notebookContainer, {childList: true});\n",
       "}}\n",
       "\n",
       "// Listen for the clearing of the current output cell\n",
       "var outputEl = gd.closest('.output');\n",
       "if (outputEl) {{\n",
       "    x.observe(outputEl, {childList: true});\n",
       "}}\n",
       "\n",
       "                        })                };                });            </script>        </div>"
      ]
     },
     "metadata": {},
     "output_type": "display_data"
    }
   ],
   "source": [
    "X = pc3_df[top_50.index]\n",
    "\n",
    "pca = PCA(n_components=2)\n",
    "components = pca.fit_transform(X)\n",
    "\n",
    "fig = px.scatter(components, x=0, y=1, color=pc3_df['site_id'])\n",
    "fig.update_layout(\n",
    "    title = \"50 Most Abundant Leaf Microbe Genera by Broad Geographic Location PCA\",\n",
    "    xaxis_title=\"PC1 \" + str(round(100*pca.explained_variance_ratio_[0], 1)) + '%',\n",
    "    yaxis_title=\"PC2 \" + str(round(100*pca.explained_variance_ratio_[1], 1)) + '%')\n",
    "fig.show()"
   ]
  },
  {
   "cell_type": "code",
   "execution_count": null,
   "id": "93622b63",
   "metadata": {},
   "outputs": [],
   "source": []
  }
 ],
 "metadata": {
  "kernelspec": {
   "display_name": "Python 3 (ipykernel)",
   "language": "python",
   "name": "python3"
  },
  "language_info": {
   "codemirror_mode": {
    "name": "ipython",
    "version": 3
   },
   "file_extension": ".py",
   "mimetype": "text/x-python",
   "name": "python",
   "nbconvert_exporter": "python",
   "pygments_lexer": "ipython3",
   "version": "3.11.4"
  }
 },
 "nbformat": 4,
 "nbformat_minor": 5
}
