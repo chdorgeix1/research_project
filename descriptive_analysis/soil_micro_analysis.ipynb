{
 "cells": [
  {
   "cell_type": "code",
   "execution_count": 35,
   "id": "c9b2eafc",
   "metadata": {},
   "outputs": [],
   "source": [
    "import pandas as pd\n",
    "import numpy as np\n",
    "import sqlite3\n",
    "import plotly.express as px\n",
    "from sklearn.decomposition import PCA\n",
    "from sklearn.preprocessing import StandardScaler\n",
    "import matplotlib.pyplot as plt\n",
    "import seaborn as sns\n",
    "from sklearn.manifold import TSNE\n",
    "import statsmodels\n",
    "import statsmodels.api as sm\n",
    "from statsmodels.multivariate.manova import MANOVA\n",
    "from scipy import stats\n",
    "\n",
    "from useful_functions import *"
   ]
  },
  {
   "cell_type": "code",
   "execution_count": 36,
   "id": "882a8770",
   "metadata": {},
   "outputs": [
    {
     "data": {
      "text/plain": [
       "(394056, 15)"
      ]
     },
     "execution_count": 36,
     "metadata": {},
     "output_type": "execute_result"
    }
   ],
   "source": [
    "tables_to_join = [\"tSoilMicrobeGenera\", \"tSample\", \"tPlantDNA\"]\n",
    "common_column = \"sample_id\"\n",
    "full_df = import_all_data(tables_to_join, common_column)\n",
    "full_df.shape"
   ]
  },
  {
   "cell_type": "code",
   "execution_count": 37,
   "id": "5459b3e8",
   "metadata": {},
   "outputs": [
    {
     "data": {
      "text/plain": [
       "(394056, 13)"
      ]
     },
     "execution_count": 37,
     "metadata": {},
     "output_type": "execute_result"
    }
   ],
   "source": [
    "#drop duplicate columns\n",
    "df = full_df.copy()\n",
    "df = df.T.drop_duplicates().T\n",
    "df.shape"
   ]
  },
  {
   "cell_type": "code",
   "execution_count": 38,
   "id": "559c08f6",
   "metadata": {},
   "outputs": [
    {
     "data": {
      "text/html": [
       "<div>\n",
       "<style scoped>\n",
       "    .dataframe tbody tr th:only-of-type {\n",
       "        vertical-align: middle;\n",
       "    }\n",
       "\n",
       "    .dataframe tbody tr th {\n",
       "        vertical-align: top;\n",
       "    }\n",
       "\n",
       "    .dataframe thead th {\n",
       "        text-align: right;\n",
       "    }\n",
       "</style>\n",
       "<table border=\"1\" class=\"dataframe\">\n",
       "  <thead>\n",
       "    <tr style=\"text-align: right;\">\n",
       "      <th></th>\n",
       "      <th></th>\n",
       "      <th></th>\n",
       "      <th></th>\n",
       "      <th>genera</th>\n",
       "      <th>Archaea|Candidatus Korarchaeota||||Candidatus Korarchaeum</th>\n",
       "      <th>Archaea|Crenarchaeota|Thermoprotei|Acidilobales|Acidilobaceae|Acidilobus</th>\n",
       "      <th>Archaea|Crenarchaeota|Thermoprotei|Acidilobales|Caldisphaeraceae|Caldisphaera</th>\n",
       "      <th>Archaea|Crenarchaeota|Thermoprotei|Desulfurococcales|Desulfurococcaceae|Aeropyrum</th>\n",
       "      <th>Archaea|Crenarchaeota|Thermoprotei|Desulfurococcales|Desulfurococcaceae|Desulfurococcus</th>\n",
       "      <th>Archaea|Crenarchaeota|Thermoprotei|Desulfurococcales|Desulfurococcaceae|Ignicoccus</th>\n",
       "      <th>Archaea|Crenarchaeota|Thermoprotei|Desulfurococcales|Desulfurococcaceae|Staphylothermus</th>\n",
       "      <th>Archaea|Crenarchaeota|Thermoprotei|Desulfurococcales|Desulfurococcaceae|Thermogladius</th>\n",
       "      <th>Archaea|Crenarchaeota|Thermoprotei|Desulfurococcales|Desulfurococcaceae|Thermosphaera</th>\n",
       "      <th>Archaea|Crenarchaeota|Thermoprotei|Desulfurococcales|Pyrodictiaceae|Hyperthermus</th>\n",
       "      <th>...</th>\n",
       "      <th>Viruses||||Geminiviridae|Begomovirus</th>\n",
       "      <th>Viruses||||Inoviridae|Inovirus</th>\n",
       "      <th>Viruses||||Iridoviridae|Iridovirus</th>\n",
       "      <th>Viruses||||Microviridae|Phix174microvirus</th>\n",
       "      <th>Viruses||||Mimiviridae|Hokovirus</th>\n",
       "      <th>Viruses||||Mimiviridae|Klosneuvirus</th>\n",
       "      <th>Viruses||||Mimiviridae|Tupanvirus</th>\n",
       "      <th>Viruses||||Partitiviridae|Alphapartitivirus</th>\n",
       "      <th>Viruses||||Polydnaviridae|Bracovirus</th>\n",
       "      <th>Viruses|||||Pandoravirus</th>\n",
       "    </tr>\n",
       "    <tr>\n",
       "      <th>sample_id</th>\n",
       "      <th>site_id</th>\n",
       "      <th>species</th>\n",
       "      <th>V2</th>\n",
       "      <th>collect_date</th>\n",
       "      <th></th>\n",
       "      <th></th>\n",
       "      <th></th>\n",
       "      <th></th>\n",
       "      <th></th>\n",
       "      <th></th>\n",
       "      <th></th>\n",
       "      <th></th>\n",
       "      <th></th>\n",
       "      <th></th>\n",
       "      <th></th>\n",
       "      <th></th>\n",
       "      <th></th>\n",
       "      <th></th>\n",
       "      <th></th>\n",
       "      <th></th>\n",
       "      <th></th>\n",
       "      <th></th>\n",
       "      <th></th>\n",
       "      <th></th>\n",
       "      <th></th>\n",
       "    </tr>\n",
       "  </thead>\n",
       "  <tbody>\n",
       "    <tr>\n",
       "      <th>CMB10</th>\n",
       "      <th>CMB</th>\n",
       "      <th>syriaca</th>\n",
       "      <th>0.999777121</th>\n",
       "      <th>6/29/2021</th>\n",
       "      <td>0.0</td>\n",
       "      <td>0.0</td>\n",
       "      <td>0.0</td>\n",
       "      <td>0.00068</td>\n",
       "      <td>0.0</td>\n",
       "      <td>0.0</td>\n",
       "      <td>0.0</td>\n",
       "      <td>0.0</td>\n",
       "      <td>0.0</td>\n",
       "      <td>0.0</td>\n",
       "      <td>...</td>\n",
       "      <td>0.0</td>\n",
       "      <td>0.0</td>\n",
       "      <td>0.0</td>\n",
       "      <td>0.0</td>\n",
       "      <td>0.0</td>\n",
       "      <td>0.0</td>\n",
       "      <td>0.0</td>\n",
       "      <td>0.0</td>\n",
       "      <td>0.0</td>\n",
       "      <td>0.0</td>\n",
       "    </tr>\n",
       "    <tr>\n",
       "      <th>CMB11</th>\n",
       "      <th>CMB</th>\n",
       "      <th>syriaca</th>\n",
       "      <th>0.999999983</th>\n",
       "      <th>6/29/2021</th>\n",
       "      <td>0.0</td>\n",
       "      <td>0.0</td>\n",
       "      <td>0.0</td>\n",
       "      <td>0.0</td>\n",
       "      <td>0.0</td>\n",
       "      <td>0.0</td>\n",
       "      <td>0.0</td>\n",
       "      <td>0.0</td>\n",
       "      <td>0.0</td>\n",
       "      <td>0.0</td>\n",
       "      <td>...</td>\n",
       "      <td>0.0</td>\n",
       "      <td>0.0</td>\n",
       "      <td>0.0</td>\n",
       "      <td>0.0</td>\n",
       "      <td>0.0</td>\n",
       "      <td>0.0</td>\n",
       "      <td>0.0</td>\n",
       "      <td>0.0</td>\n",
       "      <td>0.0</td>\n",
       "      <td>0.0</td>\n",
       "    </tr>\n",
       "    <tr>\n",
       "      <th>CMB13</th>\n",
       "      <th>CMB</th>\n",
       "      <th>syriaca</th>\n",
       "      <th>0.989130596</th>\n",
       "      <th>6/29/2021</th>\n",
       "      <td>0.0</td>\n",
       "      <td>0.0</td>\n",
       "      <td>0.0</td>\n",
       "      <td>0.0</td>\n",
       "      <td>0.0</td>\n",
       "      <td>0.0</td>\n",
       "      <td>0.0</td>\n",
       "      <td>0.0</td>\n",
       "      <td>0.0</td>\n",
       "      <td>0.0</td>\n",
       "      <td>...</td>\n",
       "      <td>0.0</td>\n",
       "      <td>0.0</td>\n",
       "      <td>0.0</td>\n",
       "      <td>0.0</td>\n",
       "      <td>0.0</td>\n",
       "      <td>0.0</td>\n",
       "      <td>0.0</td>\n",
       "      <td>0.0</td>\n",
       "      <td>0.0</td>\n",
       "      <td>0.0</td>\n",
       "    </tr>\n",
       "    <tr>\n",
       "      <th>CMB15</th>\n",
       "      <th>CMB</th>\n",
       "      <th>syriaca</th>\n",
       "      <th>0.998547653</th>\n",
       "      <th>6/29/2021</th>\n",
       "      <td>0.0</td>\n",
       "      <td>0.0</td>\n",
       "      <td>0.0</td>\n",
       "      <td>0.0</td>\n",
       "      <td>0.0</td>\n",
       "      <td>0.0</td>\n",
       "      <td>0.0</td>\n",
       "      <td>0.0</td>\n",
       "      <td>0.0</td>\n",
       "      <td>0.0</td>\n",
       "      <td>...</td>\n",
       "      <td>0.0</td>\n",
       "      <td>0.0</td>\n",
       "      <td>0.0</td>\n",
       "      <td>0.0</td>\n",
       "      <td>0.0</td>\n",
       "      <td>0.0</td>\n",
       "      <td>0.0</td>\n",
       "      <td>0.0</td>\n",
       "      <td>0.0</td>\n",
       "      <td>0.0</td>\n",
       "    </tr>\n",
       "    <tr>\n",
       "      <th>CMB16</th>\n",
       "      <th>CMB</th>\n",
       "      <th>syriaca</th>\n",
       "      <th>0.999243483</th>\n",
       "      <th>6/29/2021</th>\n",
       "      <td>0.0</td>\n",
       "      <td>0.0</td>\n",
       "      <td>0.0</td>\n",
       "      <td>0.0</td>\n",
       "      <td>0.0</td>\n",
       "      <td>0.0</td>\n",
       "      <td>0.0</td>\n",
       "      <td>0.0</td>\n",
       "      <td>0.0</td>\n",
       "      <td>0.0</td>\n",
       "      <td>...</td>\n",
       "      <td>0.0</td>\n",
       "      <td>0.0</td>\n",
       "      <td>0.0</td>\n",
       "      <td>0.0</td>\n",
       "      <td>0.0</td>\n",
       "      <td>0.00308</td>\n",
       "      <td>0.0</td>\n",
       "      <td>0.0</td>\n",
       "      <td>0.0</td>\n",
       "      <td>0.0</td>\n",
       "    </tr>\n",
       "  </tbody>\n",
       "</table>\n",
       "<p>5 rows × 2526 columns</p>\n",
       "</div>"
      ],
      "text/plain": [
       "genera                                             Archaea|Candidatus Korarchaeota||||Candidatus Korarchaeum  \\\n",
       "sample_id site_id species V2          collect_date                                                             \n",
       "CMB10     CMB     syriaca 0.999777121 6/29/2021                                                   0.0          \n",
       "CMB11     CMB     syriaca 0.999999983 6/29/2021                                                   0.0          \n",
       "CMB13     CMB     syriaca 0.989130596 6/29/2021                                                   0.0          \n",
       "CMB15     CMB     syriaca 0.998547653 6/29/2021                                                   0.0          \n",
       "CMB16     CMB     syriaca 0.999243483 6/29/2021                                                   0.0          \n",
       "\n",
       "genera                                             Archaea|Crenarchaeota|Thermoprotei|Acidilobales|Acidilobaceae|Acidilobus  \\\n",
       "sample_id site_id species V2          collect_date                                                                            \n",
       "CMB10     CMB     syriaca 0.999777121 6/29/2021                                                   0.0                         \n",
       "CMB11     CMB     syriaca 0.999999983 6/29/2021                                                   0.0                         \n",
       "CMB13     CMB     syriaca 0.989130596 6/29/2021                                                   0.0                         \n",
       "CMB15     CMB     syriaca 0.998547653 6/29/2021                                                   0.0                         \n",
       "CMB16     CMB     syriaca 0.999243483 6/29/2021                                                   0.0                         \n",
       "\n",
       "genera                                             Archaea|Crenarchaeota|Thermoprotei|Acidilobales|Caldisphaeraceae|Caldisphaera  \\\n",
       "sample_id site_id species V2          collect_date                                                                                 \n",
       "CMB10     CMB     syriaca 0.999777121 6/29/2021                                                   0.0                              \n",
       "CMB11     CMB     syriaca 0.999999983 6/29/2021                                                   0.0                              \n",
       "CMB13     CMB     syriaca 0.989130596 6/29/2021                                                   0.0                              \n",
       "CMB15     CMB     syriaca 0.998547653 6/29/2021                                                   0.0                              \n",
       "CMB16     CMB     syriaca 0.999243483 6/29/2021                                                   0.0                              \n",
       "\n",
       "genera                                             Archaea|Crenarchaeota|Thermoprotei|Desulfurococcales|Desulfurococcaceae|Aeropyrum  \\\n",
       "sample_id site_id species V2          collect_date                                                                                     \n",
       "CMB10     CMB     syriaca 0.999777121 6/29/2021                                               0.00068                                  \n",
       "CMB11     CMB     syriaca 0.999999983 6/29/2021                                                   0.0                                  \n",
       "CMB13     CMB     syriaca 0.989130596 6/29/2021                                                   0.0                                  \n",
       "CMB15     CMB     syriaca 0.998547653 6/29/2021                                                   0.0                                  \n",
       "CMB16     CMB     syriaca 0.999243483 6/29/2021                                                   0.0                                  \n",
       "\n",
       "genera                                             Archaea|Crenarchaeota|Thermoprotei|Desulfurococcales|Desulfurococcaceae|Desulfurococcus  \\\n",
       "sample_id site_id species V2          collect_date                                                                                           \n",
       "CMB10     CMB     syriaca 0.999777121 6/29/2021                                                   0.0                                        \n",
       "CMB11     CMB     syriaca 0.999999983 6/29/2021                                                   0.0                                        \n",
       "CMB13     CMB     syriaca 0.989130596 6/29/2021                                                   0.0                                        \n",
       "CMB15     CMB     syriaca 0.998547653 6/29/2021                                                   0.0                                        \n",
       "CMB16     CMB     syriaca 0.999243483 6/29/2021                                                   0.0                                        \n",
       "\n",
       "genera                                             Archaea|Crenarchaeota|Thermoprotei|Desulfurococcales|Desulfurococcaceae|Ignicoccus  \\\n",
       "sample_id site_id species V2          collect_date                                                                                      \n",
       "CMB10     CMB     syriaca 0.999777121 6/29/2021                                                   0.0                                   \n",
       "CMB11     CMB     syriaca 0.999999983 6/29/2021                                                   0.0                                   \n",
       "CMB13     CMB     syriaca 0.989130596 6/29/2021                                                   0.0                                   \n",
       "CMB15     CMB     syriaca 0.998547653 6/29/2021                                                   0.0                                   \n",
       "CMB16     CMB     syriaca 0.999243483 6/29/2021                                                   0.0                                   \n",
       "\n",
       "genera                                             Archaea|Crenarchaeota|Thermoprotei|Desulfurococcales|Desulfurococcaceae|Staphylothermus  \\\n",
       "sample_id site_id species V2          collect_date                                                                                           \n",
       "CMB10     CMB     syriaca 0.999777121 6/29/2021                                                   0.0                                        \n",
       "CMB11     CMB     syriaca 0.999999983 6/29/2021                                                   0.0                                        \n",
       "CMB13     CMB     syriaca 0.989130596 6/29/2021                                                   0.0                                        \n",
       "CMB15     CMB     syriaca 0.998547653 6/29/2021                                                   0.0                                        \n",
       "CMB16     CMB     syriaca 0.999243483 6/29/2021                                                   0.0                                        \n",
       "\n",
       "genera                                             Archaea|Crenarchaeota|Thermoprotei|Desulfurococcales|Desulfurococcaceae|Thermogladius  \\\n",
       "sample_id site_id species V2          collect_date                                                                                         \n",
       "CMB10     CMB     syriaca 0.999777121 6/29/2021                                                   0.0                                      \n",
       "CMB11     CMB     syriaca 0.999999983 6/29/2021                                                   0.0                                      \n",
       "CMB13     CMB     syriaca 0.989130596 6/29/2021                                                   0.0                                      \n",
       "CMB15     CMB     syriaca 0.998547653 6/29/2021                                                   0.0                                      \n",
       "CMB16     CMB     syriaca 0.999243483 6/29/2021                                                   0.0                                      \n",
       "\n",
       "genera                                             Archaea|Crenarchaeota|Thermoprotei|Desulfurococcales|Desulfurococcaceae|Thermosphaera  \\\n",
       "sample_id site_id species V2          collect_date                                                                                         \n",
       "CMB10     CMB     syriaca 0.999777121 6/29/2021                                                   0.0                                      \n",
       "CMB11     CMB     syriaca 0.999999983 6/29/2021                                                   0.0                                      \n",
       "CMB13     CMB     syriaca 0.989130596 6/29/2021                                                   0.0                                      \n",
       "CMB15     CMB     syriaca 0.998547653 6/29/2021                                                   0.0                                      \n",
       "CMB16     CMB     syriaca 0.999243483 6/29/2021                                                   0.0                                      \n",
       "\n",
       "genera                                             Archaea|Crenarchaeota|Thermoprotei|Desulfurococcales|Pyrodictiaceae|Hyperthermus  \\\n",
       "sample_id site_id species V2          collect_date                                                                                    \n",
       "CMB10     CMB     syriaca 0.999777121 6/29/2021                                                   0.0                                 \n",
       "CMB11     CMB     syriaca 0.999999983 6/29/2021                                                   0.0                                 \n",
       "CMB13     CMB     syriaca 0.989130596 6/29/2021                                                   0.0                                 \n",
       "CMB15     CMB     syriaca 0.998547653 6/29/2021                                                   0.0                                 \n",
       "CMB16     CMB     syriaca 0.999243483 6/29/2021                                                   0.0                                 \n",
       "\n",
       "genera                                              ...  \\\n",
       "sample_id site_id species V2          collect_date  ...   \n",
       "CMB10     CMB     syriaca 0.999777121 6/29/2021     ...   \n",
       "CMB11     CMB     syriaca 0.999999983 6/29/2021     ...   \n",
       "CMB13     CMB     syriaca 0.989130596 6/29/2021     ...   \n",
       "CMB15     CMB     syriaca 0.998547653 6/29/2021     ...   \n",
       "CMB16     CMB     syriaca 0.999243483 6/29/2021     ...   \n",
       "\n",
       "genera                                             Viruses||||Geminiviridae|Begomovirus  \\\n",
       "sample_id site_id species V2          collect_date                                        \n",
       "CMB10     CMB     syriaca 0.999777121 6/29/2021                                     0.0   \n",
       "CMB11     CMB     syriaca 0.999999983 6/29/2021                                     0.0   \n",
       "CMB13     CMB     syriaca 0.989130596 6/29/2021                                     0.0   \n",
       "CMB15     CMB     syriaca 0.998547653 6/29/2021                                     0.0   \n",
       "CMB16     CMB     syriaca 0.999243483 6/29/2021                                     0.0   \n",
       "\n",
       "genera                                             Viruses||||Inoviridae|Inovirus  \\\n",
       "sample_id site_id species V2          collect_date                                  \n",
       "CMB10     CMB     syriaca 0.999777121 6/29/2021                               0.0   \n",
       "CMB11     CMB     syriaca 0.999999983 6/29/2021                               0.0   \n",
       "CMB13     CMB     syriaca 0.989130596 6/29/2021                               0.0   \n",
       "CMB15     CMB     syriaca 0.998547653 6/29/2021                               0.0   \n",
       "CMB16     CMB     syriaca 0.999243483 6/29/2021                               0.0   \n",
       "\n",
       "genera                                             Viruses||||Iridoviridae|Iridovirus  \\\n",
       "sample_id site_id species V2          collect_date                                      \n",
       "CMB10     CMB     syriaca 0.999777121 6/29/2021                                   0.0   \n",
       "CMB11     CMB     syriaca 0.999999983 6/29/2021                                   0.0   \n",
       "CMB13     CMB     syriaca 0.989130596 6/29/2021                                   0.0   \n",
       "CMB15     CMB     syriaca 0.998547653 6/29/2021                                   0.0   \n",
       "CMB16     CMB     syriaca 0.999243483 6/29/2021                                   0.0   \n",
       "\n",
       "genera                                             Viruses||||Microviridae|Phix174microvirus  \\\n",
       "sample_id site_id species V2          collect_date                                             \n",
       "CMB10     CMB     syriaca 0.999777121 6/29/2021                                          0.0   \n",
       "CMB11     CMB     syriaca 0.999999983 6/29/2021                                          0.0   \n",
       "CMB13     CMB     syriaca 0.989130596 6/29/2021                                          0.0   \n",
       "CMB15     CMB     syriaca 0.998547653 6/29/2021                                          0.0   \n",
       "CMB16     CMB     syriaca 0.999243483 6/29/2021                                          0.0   \n",
       "\n",
       "genera                                             Viruses||||Mimiviridae|Hokovirus  \\\n",
       "sample_id site_id species V2          collect_date                                    \n",
       "CMB10     CMB     syriaca 0.999777121 6/29/2021                                 0.0   \n",
       "CMB11     CMB     syriaca 0.999999983 6/29/2021                                 0.0   \n",
       "CMB13     CMB     syriaca 0.989130596 6/29/2021                                 0.0   \n",
       "CMB15     CMB     syriaca 0.998547653 6/29/2021                                 0.0   \n",
       "CMB16     CMB     syriaca 0.999243483 6/29/2021                                 0.0   \n",
       "\n",
       "genera                                             Viruses||||Mimiviridae|Klosneuvirus  \\\n",
       "sample_id site_id species V2          collect_date                                       \n",
       "CMB10     CMB     syriaca 0.999777121 6/29/2021                                    0.0   \n",
       "CMB11     CMB     syriaca 0.999999983 6/29/2021                                    0.0   \n",
       "CMB13     CMB     syriaca 0.989130596 6/29/2021                                    0.0   \n",
       "CMB15     CMB     syriaca 0.998547653 6/29/2021                                    0.0   \n",
       "CMB16     CMB     syriaca 0.999243483 6/29/2021                                0.00308   \n",
       "\n",
       "genera                                             Viruses||||Mimiviridae|Tupanvirus  \\\n",
       "sample_id site_id species V2          collect_date                                     \n",
       "CMB10     CMB     syriaca 0.999777121 6/29/2021                                  0.0   \n",
       "CMB11     CMB     syriaca 0.999999983 6/29/2021                                  0.0   \n",
       "CMB13     CMB     syriaca 0.989130596 6/29/2021                                  0.0   \n",
       "CMB15     CMB     syriaca 0.998547653 6/29/2021                                  0.0   \n",
       "CMB16     CMB     syriaca 0.999243483 6/29/2021                                  0.0   \n",
       "\n",
       "genera                                             Viruses||||Partitiviridae|Alphapartitivirus  \\\n",
       "sample_id site_id species V2          collect_date                                               \n",
       "CMB10     CMB     syriaca 0.999777121 6/29/2021                                            0.0   \n",
       "CMB11     CMB     syriaca 0.999999983 6/29/2021                                            0.0   \n",
       "CMB13     CMB     syriaca 0.989130596 6/29/2021                                            0.0   \n",
       "CMB15     CMB     syriaca 0.998547653 6/29/2021                                            0.0   \n",
       "CMB16     CMB     syriaca 0.999243483 6/29/2021                                            0.0   \n",
       "\n",
       "genera                                             Viruses||||Polydnaviridae|Bracovirus  \\\n",
       "sample_id site_id species V2          collect_date                                        \n",
       "CMB10     CMB     syriaca 0.999777121 6/29/2021                                     0.0   \n",
       "CMB11     CMB     syriaca 0.999999983 6/29/2021                                     0.0   \n",
       "CMB13     CMB     syriaca 0.989130596 6/29/2021                                     0.0   \n",
       "CMB15     CMB     syriaca 0.998547653 6/29/2021                                     0.0   \n",
       "CMB16     CMB     syriaca 0.999243483 6/29/2021                                     0.0   \n",
       "\n",
       "genera                                             Viruses|||||Pandoravirus  \n",
       "sample_id site_id species V2          collect_date                           \n",
       "CMB10     CMB     syriaca 0.999777121 6/29/2021                         0.0  \n",
       "CMB11     CMB     syriaca 0.999999983 6/29/2021                         0.0  \n",
       "CMB13     CMB     syriaca 0.989130596 6/29/2021                         0.0  \n",
       "CMB15     CMB     syriaca 0.998547653 6/29/2021                         0.0  \n",
       "CMB16     CMB     syriaca 0.999243483 6/29/2021                         0.0  \n",
       "\n",
       "[5 rows x 2526 columns]"
      ]
     },
     "execution_count": 38,
     "metadata": {},
     "output_type": "execute_result"
    }
   ],
   "source": [
    "pivoted_df = df.pivot(index=['sample_id', 'site_id', 'species', 'V2', 'collect_date'], columns='genera', values='relative_abundance')\n",
    "pivoted_df.head()"
   ]
  },
  {
   "cell_type": "code",
   "execution_count": 39,
   "id": "acb30d8c",
   "metadata": {},
   "outputs": [
    {
     "data": {
      "text/plain": [
       "(156, 2526)"
      ]
     },
     "execution_count": 39,
     "metadata": {},
     "output_type": "execute_result"
    }
   ],
   "source": [
    "pivoted_df.shape"
   ]
  },
  {
   "cell_type": "code",
   "execution_count": 50,
   "id": "b5b50ca3",
   "metadata": {},
   "outputs": [
    {
     "data": {
      "text/plain": [
       "array(['CMB', 'FRW', 'HR', 'LFS', 'LM', 'MKP', 'MMP', 'PNR', 'PTW', 'RF',\n",
       "       'RGT', 'RRL', 'SLG'], dtype=object)"
      ]
     },
     "execution_count": 50,
     "metadata": {},
     "output_type": "execute_result"
    }
   ],
   "source": [
    "pivoted_df['site_id'].unique()"
   ]
  },
  {
   "cell_type": "code",
   "execution_count": 40,
   "id": "017f534f",
   "metadata": {},
   "outputs": [],
   "source": [
    "row_sum = pivoted_df.sum(axis=1)\n",
    "pivoted_df = pivoted_df.reset_index()"
   ]
  },
  {
   "cell_type": "code",
   "execution_count": 43,
   "id": "089f1639",
   "metadata": {},
   "outputs": [],
   "source": [
    "genera_col = pivoted_df.columns\n",
    "genera_col = genera_col.drop(['sample_id','site_id', 'species', 'V2', 'collect_date'])\n",
    "\n",
    "sub_pivot = pivoted_df[genera_col].astype(float).copy()"
   ]
  },
  {
   "cell_type": "code",
   "execution_count": 44,
   "id": "9027c1bb",
   "metadata": {},
   "outputs": [
    {
     "name": "stdout",
     "output_type": "stream",
     "text": [
      "0      1.0\n",
      "1      1.0\n",
      "2      1.0\n",
      "3      1.0\n",
      "4      1.0\n",
      "      ... \n",
      "151    1.0\n",
      "152    1.0\n",
      "153    1.0\n",
      "154    1.0\n",
      "155    1.0\n",
      "Length: 156, dtype: float64\n"
     ]
    }
   ],
   "source": [
    "# make all of the rows sum to 1\n",
    "for row in range(sub_pivot.shape[0]):\n",
    "    sub_pivot.loc[row] = sub_pivot.loc[row]/row_sum[row]\n",
    "\n",
    "# find the sum of each column\n",
    "new_sum = sub_pivot.sum(axis=1)\n",
    "new_sum\n",
    "\n",
    "# recombine original df with samples with new summed/\"oned\" data\n",
    "pivoted_df[genera_col] = sub_pivot\n",
    "\n",
    "row_sum = pivoted_df[genera_col].sum(axis=1)\n",
    "print(row_sum)"
   ]
  },
  {
   "cell_type": "code",
   "execution_count": null,
   "id": "83e0b6f2",
   "metadata": {},
   "outputs": [],
   "source": [
    "### PCA ALL DATA"
   ]
  },
  {
   "cell_type": "code",
   "execution_count": 9,
   "id": "aca56f15",
   "metadata": {},
   "outputs": [],
   "source": [
    "pc1_df = pivoted_df.copy()"
   ]
  },
  {
   "cell_type": "code",
   "execution_count": 11,
   "id": "2b978ca5",
   "metadata": {},
   "outputs": [
    {
     "data": {
      "application/vnd.plotly.v1+json": {
       "config": {
        "plotlyServerURL": "https://plot.ly"
       },
       "data": [
        {
         "hovertemplate": "color=CMB<br>0=%{x}<br>1=%{y}<extra></extra>",
         "legendgroup": "CMB",
         "marker": {
          "color": "#636efa",
          "symbol": "circle"
         },
         "mode": "markers",
         "name": "CMB",
         "orientation": "v",
         "showlegend": true,
         "type": "scatter",
         "x": [
          -0.023021653465846816,
          -0.023706132813709545,
          -0.02599173106388664,
          -0.028187682859546228,
          -0.025216505960194258,
          -0.024945011156818606,
          -0.023223838720028984,
          -0.02521397360334484,
          -0.03055861013495962,
          -0.02583740675486167,
          -0.027358124390524156,
          -0.029005960550157188,
          -0.024916496908114778,
          -0.0303016820911408,
          -0.02670220957248353,
          -0.025478198528781106,
          -0.025172532248257145,
          -0.026586717705605053,
          -0.022524911943268666
         ],
         "xaxis": "x",
         "y": [
          -0.07202278476425282,
          -0.07489826521136604,
          -0.08630811051540586,
          -0.0997288368172669,
          -0.08092407852002892,
          -0.08053580438801951,
          -0.06919345110524902,
          -0.08264288616134424,
          -0.1094692601440594,
          -0.0835834552514886,
          -0.09241441287881241,
          -0.10082883294787404,
          -0.0788572017652789,
          -0.10494532884162443,
          -0.08902033658542494,
          -0.08359235704784528,
          -0.08216102476352696,
          -0.0910316774450936,
          -0.06861385374902287
         ],
         "yaxis": "y"
        },
        {
         "hovertemplate": "color=FRW<br>0=%{x}<br>1=%{y}<extra></extra>",
         "legendgroup": "FRW",
         "marker": {
          "color": "#EF553B",
          "symbol": "circle"
         },
         "mode": "markers",
         "name": "FRW",
         "orientation": "v",
         "showlegend": true,
         "type": "scatter",
         "x": [
          -0.02707276620615231,
          -0.02715364819222299,
          -0.029854351134984823,
          -0.026134687009724353,
          -0.026709704973130938,
          -0.027619637579239777,
          -0.026499659936995604,
          -0.033636155690102656,
          -0.027702871704270896,
          -0.026913068630879763,
          -0.027443632726135214
         ],
         "xaxis": "x",
         "y": [
          0.16690816321995156,
          0.16509601096004708,
          0.20791390923589342,
          0.16421315700708625,
          0.1653262762162313,
          0.17813585262632708,
          0.1697947672269124,
          0.22989493861495927,
          0.16457001549608857,
          0.1589898479754041,
          0.1720392976687657
         ],
         "yaxis": "y"
        },
        {
         "hovertemplate": "color=HR<br>0=%{x}<br>1=%{y}<extra></extra>",
         "legendgroup": "HR",
         "marker": {
          "color": "#00cc96",
          "symbol": "circle"
         },
         "mode": "markers",
         "name": "HR",
         "orientation": "v",
         "showlegend": true,
         "type": "scatter",
         "x": [
          -0.030947677378778002,
          -0.008817750071558697,
          -0.016493926233014572,
          -0.01437380821803321
         ],
         "xaxis": "x",
         "y": [
          -0.11121888624154472,
          -0.04954816928612322,
          -0.04466560483442986,
          -0.039061302691364826
         ],
         "yaxis": "y"
        },
        {
         "hovertemplate": "color=LFS<br>0=%{x}<br>1=%{y}<extra></extra>",
         "legendgroup": "LFS",
         "marker": {
          "color": "#ab63fa",
          "symbol": "circle"
         },
         "mode": "markers",
         "name": "LFS",
         "orientation": "v",
         "showlegend": true,
         "type": "scatter",
         "x": [
          -0.025679191706138794,
          -0.02505591873954249,
          -0.02250297067181749,
          -0.023906471410026817,
          -0.023070937665804953,
          -0.026064129922290118,
          -0.024038828279905965,
          -0.023354991440080873,
          -0.023954945931679582,
          -0.023122711067087177,
          -0.02116406237519401,
          -0.022449676873161108,
          -0.02549073577955455
         ],
         "xaxis": "x",
         "y": [
          -0.08543265938158255,
          -0.08112095995925576,
          -0.06541690177393246,
          -0.07313419374621374,
          -0.06856807012367629,
          -0.08513474631923779,
          -0.07478307282300997,
          -0.0666604285433631,
          -0.07386068608487781,
          -0.06951752989204327,
          -0.06092606379230252,
          -0.06615780226424851,
          -0.0820473549990219
         ],
         "yaxis": "y"
        },
        {
         "hovertemplate": "color=LM<br>0=%{x}<br>1=%{y}<extra></extra>",
         "legendgroup": "LM",
         "marker": {
          "color": "#FFA15A",
          "symbol": "circle"
         },
         "mode": "markers",
         "name": "LM",
         "orientation": "v",
         "showlegend": true,
         "type": "scatter",
         "x": [
          -0.022769214933523817,
          -0.020346659321020085,
          -0.021260195868342813,
          -0.02135043206576237,
          -0.019939228707979966,
          -0.020893854974309345,
          -0.020757872242564885,
          -0.020768107932401397,
          -0.020502813851069675,
          -0.02121912913585464,
          -0.020012910434665212,
          -0.020992739843513755,
          -0.02182143665903329,
          -0.020296475795929487,
          -0.02095442110307246,
          -0.023567988757778928,
          -0.023516464923389317,
          -0.022554078181596476,
          -0.019962480253503133
         ],
         "xaxis": "x",
         "y": [
          -0.06791063351619464,
          -0.05539225164072091,
          -0.05963599620878631,
          -0.061828786848332894,
          -0.05428852556781206,
          -0.05864313798581762,
          -0.05742629674228412,
          -0.058619474464129254,
          -0.057525871736461454,
          -0.060532952953184664,
          -0.054956491921130106,
          -0.060593016035118456,
          -0.06264812873902344,
          -0.055815571529506704,
          -0.059653088651304476,
          -0.07192896706428108,
          -0.07257667618165274,
          -0.068107908357146,
          -0.05531137381013733
         ],
         "yaxis": "y"
        },
        {
         "hovertemplate": "color=MKP<br>0=%{x}<br>1=%{y}<extra></extra>",
         "legendgroup": "MKP",
         "marker": {
          "color": "#19d3f3",
          "symbol": "circle"
         },
         "mode": "markers",
         "name": "MKP",
         "orientation": "v",
         "showlegend": true,
         "type": "scatter",
         "x": [
          -0.019961368629450308,
          -0.021525426778097864,
          -0.020014062624760316,
          -0.020059009666816868,
          -0.019972483575925796,
          -0.020909832521039274,
          -0.018944700158371214,
          -0.019118980983590255
         ],
         "xaxis": "x",
         "y": [
          -0.06988222533979317,
          -0.05833002166957938,
          -0.05274843851845123,
          -0.053399574250352716,
          -0.05350080513362053,
          -0.054957861154079544,
          -0.049382046265903694,
          -0.049741132718663025
         ],
         "yaxis": "y"
        },
        {
         "hovertemplate": "color=MMP<br>0=%{x}<br>1=%{y}<extra></extra>",
         "legendgroup": "MMP",
         "marker": {
          "color": "#FF6692",
          "symbol": "circle"
         },
         "mode": "markers",
         "name": "MMP",
         "orientation": "v",
         "showlegend": true,
         "type": "scatter",
         "x": [
          -0.023430347184882325,
          -0.029016955148662177,
          -0.021501605988572915,
          -0.024503484016838013,
          -0.025574073001710475,
          -0.024386528650289212,
          -0.025492519285897273,
          -0.027558420496393135,
          -0.025617923851551705,
          -0.025782148568065048,
          -0.02871577863652039,
          -0.02371528058080688,
          -0.025173955714743634,
          -0.025763214475083302,
          -0.025363862197714294,
          -0.02446365722268572,
          -0.02663477092997818,
          -0.024018787908862884,
          -0.023971526108245843
         ],
         "xaxis": "x",
         "y": [
          -0.07107526117911948,
          -0.09894723355372453,
          -0.06232572761458052,
          -0.07700501053651589,
          -0.0799844754665866,
          -0.0751206481436678,
          -0.08116888321531043,
          -0.09472099299122756,
          -0.08111237252375172,
          -0.08405775267180743,
          -0.09583329568790347,
          -0.0729240975119815,
          -0.08048487573853934,
          -0.08293208030566414,
          -0.08085460644711284,
          -0.07676775499709847,
          -0.08678419924030804,
          -0.0743208275604347,
          -0.07396150700121297
         ],
         "yaxis": "y"
        },
        {
         "hovertemplate": "color=PNR<br>0=%{x}<br>1=%{y}<extra></extra>",
         "legendgroup": "PNR",
         "marker": {
          "color": "#B6E880",
          "symbol": "circle"
         },
         "mode": "markers",
         "name": "PNR",
         "orientation": "v",
         "showlegend": true,
         "type": "scatter",
         "x": [
          -0.02874967139826797,
          -0.030759089936517107,
          -0.02553233632358601
         ],
         "xaxis": "x",
         "y": [
          0.17957560605750025,
          0.19707105312792095,
          0.1889906020728393
         ],
         "yaxis": "y"
        },
        {
         "hovertemplate": "color=PTW<br>0=%{x}<br>1=%{y}<extra></extra>",
         "legendgroup": "PTW",
         "marker": {
          "color": "#FF97FF",
          "symbol": "circle"
         },
         "mode": "markers",
         "name": "PTW",
         "orientation": "v",
         "showlegend": true,
         "type": "scatter",
         "x": [
          -0.02184316036034723,
          -0.022198840045390463,
          -0.01956069240477175,
          -0.023859409634803184,
          -0.021395495564402737,
          -0.023080157872465753,
          -0.023823071817011605,
          -0.02411050582825987
         ],
         "xaxis": "x",
         "y": [
          -0.0660585830754698,
          -0.07057364828168479,
          -0.05323570444204215,
          -0.07779070771776399,
          -0.06265939901380502,
          -0.07193292406894915,
          -0.07538197603355119,
          -0.07940032820147011
         ],
         "yaxis": "y"
        },
        {
         "hovertemplate": "color=RF<br>0=%{x}<br>1=%{y}<extra></extra>",
         "legendgroup": "RF",
         "marker": {
          "color": "#FECB52",
          "symbol": "circle"
         },
         "mode": "markers",
         "name": "RF",
         "orientation": "v",
         "showlegend": true,
         "type": "scatter",
         "x": [
          -0.029400878835162392,
          -0.03234530556144247,
          -0.02821971192789336,
          -0.026597751295636043,
          -0.026739954307634206,
          -0.03174772746365075,
          -0.03146556808105109,
          -0.0243052594335321,
          -0.027417811234325445,
          -0.025071417923140688,
          -0.027792820002299656
         ],
         "xaxis": "x",
         "y": [
          0.1908744421180054,
          0.22284005059733505,
          0.17699173637595686,
          0.16297726034957907,
          0.1722762360623538,
          0.21085900198277804,
          0.21329683267535413,
          0.14024265452755977,
          0.16989694855285356,
          0.14258114397019658,
          0.17309111473857686
         ],
         "yaxis": "y"
        },
        {
         "hovertemplate": "color=RGT<br>0=%{x}<br>1=%{y}<extra></extra>",
         "legendgroup": "RGT",
         "marker": {
          "color": "#636efa",
          "symbol": "circle"
         },
         "mode": "markers",
         "name": "RGT",
         "orientation": "v",
         "showlegend": true,
         "type": "scatter",
         "x": [
          -0.02119621093946763,
          -0.020694733261513217,
          -0.02263084754673937,
          -0.020940960429571318,
          -0.021736812043888998
         ],
         "xaxis": "x",
         "y": [
          -0.056307204433911184,
          -0.05664870449567177,
          -0.06346054959777976,
          -0.05807029788650936,
          -0.06169681433882345
         ],
         "yaxis": "y"
        },
        {
         "hovertemplate": "color=RRL<br>0=%{x}<br>1=%{y}<extra></extra>",
         "legendgroup": "RRL",
         "marker": {
          "color": "#EF553B",
          "symbol": "circle"
         },
         "mode": "markers",
         "name": "RRL",
         "orientation": "v",
         "showlegend": true,
         "type": "scatter",
         "x": [
          0.8887087081748168,
          0.002377057522538846,
          0.8189202300538868,
          -0.011257251118540293,
          -0.009139395817097613,
          -0.023669772507282034,
          -0.024181849287081243,
          -0.021590647250440284,
          -0.023045518512813657,
          -0.02674298219682623,
          -0.034267058800848196,
          -0.016069723858248643,
          -0.008455240450898543,
          -0.014942358487757308,
          0.818677622127605,
          -0.018127424893019536,
          0.6393273587997037,
          -0.012729920030923278,
          0.4893148402224812
         ],
         "xaxis": "x",
         "y": [
          0.022984277925128506,
          -0.017075767446995047,
          0.01755028289271705,
          -0.07915532230079082,
          -0.02468648205871891,
          -0.08496741576084968,
          -0.08332500457710293,
          -0.07473747313355288,
          -0.07581322828157985,
          -0.10315811179032715,
          -0.14025982891522054,
          -0.06485271600105962,
          -0.029275502608493372,
          -0.08142603379080328,
          0.013503052238348997,
          -0.08780594203395545,
          -0.004213385408133983,
          -0.0898110481951559,
          -0.0012141904291969137
         ],
         "yaxis": "y"
        },
        {
         "hovertemplate": "color=SLG<br>0=%{x}<br>1=%{y}<extra></extra>",
         "legendgroup": "SLG",
         "marker": {
          "color": "#00cc96",
          "symbol": "circle"
         },
         "mode": "markers",
         "name": "SLG",
         "orientation": "v",
         "showlegend": true,
         "type": "scatter",
         "x": [
          -0.030656577083025705,
          -0.03151400623585081,
          -0.031453393111769756,
          -0.02566675663430219,
          -0.02989309800136335,
          -0.03098511324150857,
          -0.027495713826576774,
          -0.02678355106270385,
          -0.02537986637921887,
          -0.027508411675175766,
          -0.029825206066645377,
          -0.02841591631750527,
          -0.03156154367092934,
          -0.03263508493959037,
          -0.03265240427851459,
          -0.03283918620114456,
          -0.028769135580752527
         ],
         "xaxis": "x",
         "y": [
          0.20331288651122909,
          0.2117954141215563,
          0.20795110235180897,
          0.18265547098632495,
          0.19705802411372852,
          0.2067450490856804,
          0.17154978452805625,
          0.16029381172390064,
          0.16176630946593729,
          0.1691762918674226,
          0.20246845685573048,
          0.1816640590886844,
          0.21030298531052277,
          0.2205987810027291,
          0.21509478619272915,
          0.22459868309248,
          0.18322311455740584
         ],
         "yaxis": "y"
        }
       ],
       "layout": {
        "legend": {
         "title": {
          "text": "color"
         },
         "tracegroupgap": 0
        },
        "margin": {
         "t": 60
        },
        "template": {
         "data": {
          "bar": [
           {
            "error_x": {
             "color": "#2a3f5f"
            },
            "error_y": {
             "color": "#2a3f5f"
            },
            "marker": {
             "line": {
              "color": "#E5ECF6",
              "width": 0.5
             },
             "pattern": {
              "fillmode": "overlay",
              "size": 10,
              "solidity": 0.2
             }
            },
            "type": "bar"
           }
          ],
          "barpolar": [
           {
            "marker": {
             "line": {
              "color": "#E5ECF6",
              "width": 0.5
             },
             "pattern": {
              "fillmode": "overlay",
              "size": 10,
              "solidity": 0.2
             }
            },
            "type": "barpolar"
           }
          ],
          "carpet": [
           {
            "aaxis": {
             "endlinecolor": "#2a3f5f",
             "gridcolor": "white",
             "linecolor": "white",
             "minorgridcolor": "white",
             "startlinecolor": "#2a3f5f"
            },
            "baxis": {
             "endlinecolor": "#2a3f5f",
             "gridcolor": "white",
             "linecolor": "white",
             "minorgridcolor": "white",
             "startlinecolor": "#2a3f5f"
            },
            "type": "carpet"
           }
          ],
          "choropleth": [
           {
            "colorbar": {
             "outlinewidth": 0,
             "ticks": ""
            },
            "type": "choropleth"
           }
          ],
          "contour": [
           {
            "colorbar": {
             "outlinewidth": 0,
             "ticks": ""
            },
            "colorscale": [
             [
              0,
              "#0d0887"
             ],
             [
              0.1111111111111111,
              "#46039f"
             ],
             [
              0.2222222222222222,
              "#7201a8"
             ],
             [
              0.3333333333333333,
              "#9c179e"
             ],
             [
              0.4444444444444444,
              "#bd3786"
             ],
             [
              0.5555555555555556,
              "#d8576b"
             ],
             [
              0.6666666666666666,
              "#ed7953"
             ],
             [
              0.7777777777777778,
              "#fb9f3a"
             ],
             [
              0.8888888888888888,
              "#fdca26"
             ],
             [
              1,
              "#f0f921"
             ]
            ],
            "type": "contour"
           }
          ],
          "contourcarpet": [
           {
            "colorbar": {
             "outlinewidth": 0,
             "ticks": ""
            },
            "type": "contourcarpet"
           }
          ],
          "heatmap": [
           {
            "colorbar": {
             "outlinewidth": 0,
             "ticks": ""
            },
            "colorscale": [
             [
              0,
              "#0d0887"
             ],
             [
              0.1111111111111111,
              "#46039f"
             ],
             [
              0.2222222222222222,
              "#7201a8"
             ],
             [
              0.3333333333333333,
              "#9c179e"
             ],
             [
              0.4444444444444444,
              "#bd3786"
             ],
             [
              0.5555555555555556,
              "#d8576b"
             ],
             [
              0.6666666666666666,
              "#ed7953"
             ],
             [
              0.7777777777777778,
              "#fb9f3a"
             ],
             [
              0.8888888888888888,
              "#fdca26"
             ],
             [
              1,
              "#f0f921"
             ]
            ],
            "type": "heatmap"
           }
          ],
          "heatmapgl": [
           {
            "colorbar": {
             "outlinewidth": 0,
             "ticks": ""
            },
            "colorscale": [
             [
              0,
              "#0d0887"
             ],
             [
              0.1111111111111111,
              "#46039f"
             ],
             [
              0.2222222222222222,
              "#7201a8"
             ],
             [
              0.3333333333333333,
              "#9c179e"
             ],
             [
              0.4444444444444444,
              "#bd3786"
             ],
             [
              0.5555555555555556,
              "#d8576b"
             ],
             [
              0.6666666666666666,
              "#ed7953"
             ],
             [
              0.7777777777777778,
              "#fb9f3a"
             ],
             [
              0.8888888888888888,
              "#fdca26"
             ],
             [
              1,
              "#f0f921"
             ]
            ],
            "type": "heatmapgl"
           }
          ],
          "histogram": [
           {
            "marker": {
             "pattern": {
              "fillmode": "overlay",
              "size": 10,
              "solidity": 0.2
             }
            },
            "type": "histogram"
           }
          ],
          "histogram2d": [
           {
            "colorbar": {
             "outlinewidth": 0,
             "ticks": ""
            },
            "colorscale": [
             [
              0,
              "#0d0887"
             ],
             [
              0.1111111111111111,
              "#46039f"
             ],
             [
              0.2222222222222222,
              "#7201a8"
             ],
             [
              0.3333333333333333,
              "#9c179e"
             ],
             [
              0.4444444444444444,
              "#bd3786"
             ],
             [
              0.5555555555555556,
              "#d8576b"
             ],
             [
              0.6666666666666666,
              "#ed7953"
             ],
             [
              0.7777777777777778,
              "#fb9f3a"
             ],
             [
              0.8888888888888888,
              "#fdca26"
             ],
             [
              1,
              "#f0f921"
             ]
            ],
            "type": "histogram2d"
           }
          ],
          "histogram2dcontour": [
           {
            "colorbar": {
             "outlinewidth": 0,
             "ticks": ""
            },
            "colorscale": [
             [
              0,
              "#0d0887"
             ],
             [
              0.1111111111111111,
              "#46039f"
             ],
             [
              0.2222222222222222,
              "#7201a8"
             ],
             [
              0.3333333333333333,
              "#9c179e"
             ],
             [
              0.4444444444444444,
              "#bd3786"
             ],
             [
              0.5555555555555556,
              "#d8576b"
             ],
             [
              0.6666666666666666,
              "#ed7953"
             ],
             [
              0.7777777777777778,
              "#fb9f3a"
             ],
             [
              0.8888888888888888,
              "#fdca26"
             ],
             [
              1,
              "#f0f921"
             ]
            ],
            "type": "histogram2dcontour"
           }
          ],
          "mesh3d": [
           {
            "colorbar": {
             "outlinewidth": 0,
             "ticks": ""
            },
            "type": "mesh3d"
           }
          ],
          "parcoords": [
           {
            "line": {
             "colorbar": {
              "outlinewidth": 0,
              "ticks": ""
             }
            },
            "type": "parcoords"
           }
          ],
          "pie": [
           {
            "automargin": true,
            "type": "pie"
           }
          ],
          "scatter": [
           {
            "fillpattern": {
             "fillmode": "overlay",
             "size": 10,
             "solidity": 0.2
            },
            "type": "scatter"
           }
          ],
          "scatter3d": [
           {
            "line": {
             "colorbar": {
              "outlinewidth": 0,
              "ticks": ""
             }
            },
            "marker": {
             "colorbar": {
              "outlinewidth": 0,
              "ticks": ""
             }
            },
            "type": "scatter3d"
           }
          ],
          "scattercarpet": [
           {
            "marker": {
             "colorbar": {
              "outlinewidth": 0,
              "ticks": ""
             }
            },
            "type": "scattercarpet"
           }
          ],
          "scattergeo": [
           {
            "marker": {
             "colorbar": {
              "outlinewidth": 0,
              "ticks": ""
             }
            },
            "type": "scattergeo"
           }
          ],
          "scattergl": [
           {
            "marker": {
             "colorbar": {
              "outlinewidth": 0,
              "ticks": ""
             }
            },
            "type": "scattergl"
           }
          ],
          "scattermapbox": [
           {
            "marker": {
             "colorbar": {
              "outlinewidth": 0,
              "ticks": ""
             }
            },
            "type": "scattermapbox"
           }
          ],
          "scatterpolar": [
           {
            "marker": {
             "colorbar": {
              "outlinewidth": 0,
              "ticks": ""
             }
            },
            "type": "scatterpolar"
           }
          ],
          "scatterpolargl": [
           {
            "marker": {
             "colorbar": {
              "outlinewidth": 0,
              "ticks": ""
             }
            },
            "type": "scatterpolargl"
           }
          ],
          "scatterternary": [
           {
            "marker": {
             "colorbar": {
              "outlinewidth": 0,
              "ticks": ""
             }
            },
            "type": "scatterternary"
           }
          ],
          "surface": [
           {
            "colorbar": {
             "outlinewidth": 0,
             "ticks": ""
            },
            "colorscale": [
             [
              0,
              "#0d0887"
             ],
             [
              0.1111111111111111,
              "#46039f"
             ],
             [
              0.2222222222222222,
              "#7201a8"
             ],
             [
              0.3333333333333333,
              "#9c179e"
             ],
             [
              0.4444444444444444,
              "#bd3786"
             ],
             [
              0.5555555555555556,
              "#d8576b"
             ],
             [
              0.6666666666666666,
              "#ed7953"
             ],
             [
              0.7777777777777778,
              "#fb9f3a"
             ],
             [
              0.8888888888888888,
              "#fdca26"
             ],
             [
              1,
              "#f0f921"
             ]
            ],
            "type": "surface"
           }
          ],
          "table": [
           {
            "cells": {
             "fill": {
              "color": "#EBF0F8"
             },
             "line": {
              "color": "white"
             }
            },
            "header": {
             "fill": {
              "color": "#C8D4E3"
             },
             "line": {
              "color": "white"
             }
            },
            "type": "table"
           }
          ]
         },
         "layout": {
          "annotationdefaults": {
           "arrowcolor": "#2a3f5f",
           "arrowhead": 0,
           "arrowwidth": 1
          },
          "autotypenumbers": "strict",
          "coloraxis": {
           "colorbar": {
            "outlinewidth": 0,
            "ticks": ""
           }
          },
          "colorscale": {
           "diverging": [
            [
             0,
             "#8e0152"
            ],
            [
             0.1,
             "#c51b7d"
            ],
            [
             0.2,
             "#de77ae"
            ],
            [
             0.3,
             "#f1b6da"
            ],
            [
             0.4,
             "#fde0ef"
            ],
            [
             0.5,
             "#f7f7f7"
            ],
            [
             0.6,
             "#e6f5d0"
            ],
            [
             0.7,
             "#b8e186"
            ],
            [
             0.8,
             "#7fbc41"
            ],
            [
             0.9,
             "#4d9221"
            ],
            [
             1,
             "#276419"
            ]
           ],
           "sequential": [
            [
             0,
             "#0d0887"
            ],
            [
             0.1111111111111111,
             "#46039f"
            ],
            [
             0.2222222222222222,
             "#7201a8"
            ],
            [
             0.3333333333333333,
             "#9c179e"
            ],
            [
             0.4444444444444444,
             "#bd3786"
            ],
            [
             0.5555555555555556,
             "#d8576b"
            ],
            [
             0.6666666666666666,
             "#ed7953"
            ],
            [
             0.7777777777777778,
             "#fb9f3a"
            ],
            [
             0.8888888888888888,
             "#fdca26"
            ],
            [
             1,
             "#f0f921"
            ]
           ],
           "sequentialminus": [
            [
             0,
             "#0d0887"
            ],
            [
             0.1111111111111111,
             "#46039f"
            ],
            [
             0.2222222222222222,
             "#7201a8"
            ],
            [
             0.3333333333333333,
             "#9c179e"
            ],
            [
             0.4444444444444444,
             "#bd3786"
            ],
            [
             0.5555555555555556,
             "#d8576b"
            ],
            [
             0.6666666666666666,
             "#ed7953"
            ],
            [
             0.7777777777777778,
             "#fb9f3a"
            ],
            [
             0.8888888888888888,
             "#fdca26"
            ],
            [
             1,
             "#f0f921"
            ]
           ]
          },
          "colorway": [
           "#636efa",
           "#EF553B",
           "#00cc96",
           "#ab63fa",
           "#FFA15A",
           "#19d3f3",
           "#FF6692",
           "#B6E880",
           "#FF97FF",
           "#FECB52"
          ],
          "font": {
           "color": "#2a3f5f"
          },
          "geo": {
           "bgcolor": "white",
           "lakecolor": "white",
           "landcolor": "#E5ECF6",
           "showlakes": true,
           "showland": true,
           "subunitcolor": "white"
          },
          "hoverlabel": {
           "align": "left"
          },
          "hovermode": "closest",
          "mapbox": {
           "style": "light"
          },
          "paper_bgcolor": "white",
          "plot_bgcolor": "#E5ECF6",
          "polar": {
           "angularaxis": {
            "gridcolor": "white",
            "linecolor": "white",
            "ticks": ""
           },
           "bgcolor": "#E5ECF6",
           "radialaxis": {
            "gridcolor": "white",
            "linecolor": "white",
            "ticks": ""
           }
          },
          "scene": {
           "xaxis": {
            "backgroundcolor": "#E5ECF6",
            "gridcolor": "white",
            "gridwidth": 2,
            "linecolor": "white",
            "showbackground": true,
            "ticks": "",
            "zerolinecolor": "white"
           },
           "yaxis": {
            "backgroundcolor": "#E5ECF6",
            "gridcolor": "white",
            "gridwidth": 2,
            "linecolor": "white",
            "showbackground": true,
            "ticks": "",
            "zerolinecolor": "white"
           },
           "zaxis": {
            "backgroundcolor": "#E5ECF6",
            "gridcolor": "white",
            "gridwidth": 2,
            "linecolor": "white",
            "showbackground": true,
            "ticks": "",
            "zerolinecolor": "white"
           }
          },
          "shapedefaults": {
           "line": {
            "color": "#2a3f5f"
           }
          },
          "ternary": {
           "aaxis": {
            "gridcolor": "white",
            "linecolor": "white",
            "ticks": ""
           },
           "baxis": {
            "gridcolor": "white",
            "linecolor": "white",
            "ticks": ""
           },
           "bgcolor": "#E5ECF6",
           "caxis": {
            "gridcolor": "white",
            "linecolor": "white",
            "ticks": ""
           }
          },
          "title": {
           "x": 0.05
          },
          "xaxis": {
           "automargin": true,
           "gridcolor": "white",
           "linecolor": "white",
           "ticks": "",
           "title": {
            "standoff": 15
           },
           "zerolinecolor": "white",
           "zerolinewidth": 2
          },
          "yaxis": {
           "automargin": true,
           "gridcolor": "white",
           "linecolor": "white",
           "ticks": "",
           "title": {
            "standoff": 15
           },
           "zerolinecolor": "white",
           "zerolinewidth": 2
          }
         }
        },
        "title": {
         "text": "Soil Microbes by Site without Reduction"
        },
        "xaxis": {
         "anchor": "y",
         "domain": [
          0,
          1
         ],
         "title": {
          "text": "PC1 39.6%"
         }
        },
        "yaxis": {
         "anchor": "x",
         "domain": [
          0,
          1
         ],
         "title": {
          "text": "PC2 28.6%"
         }
        }
       }
      },
      "text/html": [
       "<div>                            <div id=\"36f3b9ce-72d3-43b2-8464-b187c5b9921e\" class=\"plotly-graph-div\" style=\"height:525px; width:100%;\"></div>            <script type=\"text/javascript\">                require([\"plotly\"], function(Plotly) {                    window.PLOTLYENV=window.PLOTLYENV || {};                                    if (document.getElementById(\"36f3b9ce-72d3-43b2-8464-b187c5b9921e\")) {                    Plotly.newPlot(                        \"36f3b9ce-72d3-43b2-8464-b187c5b9921e\",                        [{\"hovertemplate\":\"color=CMB<br>0=%{x}<br>1=%{y}<extra></extra>\",\"legendgroup\":\"CMB\",\"marker\":{\"color\":\"#636efa\",\"symbol\":\"circle\"},\"mode\":\"markers\",\"name\":\"CMB\",\"orientation\":\"v\",\"showlegend\":true,\"x\":[-0.023021653465846816,-0.023706132813709545,-0.02599173106388664,-0.028187682859546228,-0.025216505960194258,-0.024945011156818606,-0.023223838720028984,-0.02521397360334484,-0.03055861013495962,-0.02583740675486167,-0.027358124390524156,-0.029005960550157188,-0.024916496908114778,-0.0303016820911408,-0.02670220957248353,-0.025478198528781106,-0.025172532248257145,-0.026586717705605053,-0.022524911943268666],\"xaxis\":\"x\",\"y\":[-0.07202278476425282,-0.07489826521136604,-0.08630811051540586,-0.0997288368172669,-0.08092407852002892,-0.08053580438801951,-0.06919345110524902,-0.08264288616134424,-0.1094692601440594,-0.0835834552514886,-0.09241441287881241,-0.10082883294787404,-0.0788572017652789,-0.10494532884162443,-0.08902033658542494,-0.08359235704784528,-0.08216102476352696,-0.0910316774450936,-0.06861385374902287],\"yaxis\":\"y\",\"type\":\"scatter\"},{\"hovertemplate\":\"color=FRW<br>0=%{x}<br>1=%{y}<extra></extra>\",\"legendgroup\":\"FRW\",\"marker\":{\"color\":\"#EF553B\",\"symbol\":\"circle\"},\"mode\":\"markers\",\"name\":\"FRW\",\"orientation\":\"v\",\"showlegend\":true,\"x\":[-0.02707276620615231,-0.02715364819222299,-0.029854351134984823,-0.026134687009724353,-0.026709704973130938,-0.027619637579239777,-0.026499659936995604,-0.033636155690102656,-0.027702871704270896,-0.026913068630879763,-0.027443632726135214],\"xaxis\":\"x\",\"y\":[0.16690816321995156,0.16509601096004708,0.20791390923589342,0.16421315700708625,0.1653262762162313,0.17813585262632708,0.1697947672269124,0.22989493861495927,0.16457001549608857,0.1589898479754041,0.1720392976687657],\"yaxis\":\"y\",\"type\":\"scatter\"},{\"hovertemplate\":\"color=HR<br>0=%{x}<br>1=%{y}<extra></extra>\",\"legendgroup\":\"HR\",\"marker\":{\"color\":\"#00cc96\",\"symbol\":\"circle\"},\"mode\":\"markers\",\"name\":\"HR\",\"orientation\":\"v\",\"showlegend\":true,\"x\":[-0.030947677378778002,-0.008817750071558697,-0.016493926233014572,-0.01437380821803321],\"xaxis\":\"x\",\"y\":[-0.11121888624154472,-0.04954816928612322,-0.04466560483442986,-0.039061302691364826],\"yaxis\":\"y\",\"type\":\"scatter\"},{\"hovertemplate\":\"color=LFS<br>0=%{x}<br>1=%{y}<extra></extra>\",\"legendgroup\":\"LFS\",\"marker\":{\"color\":\"#ab63fa\",\"symbol\":\"circle\"},\"mode\":\"markers\",\"name\":\"LFS\",\"orientation\":\"v\",\"showlegend\":true,\"x\":[-0.025679191706138794,-0.02505591873954249,-0.02250297067181749,-0.023906471410026817,-0.023070937665804953,-0.026064129922290118,-0.024038828279905965,-0.023354991440080873,-0.023954945931679582,-0.023122711067087177,-0.02116406237519401,-0.022449676873161108,-0.02549073577955455],\"xaxis\":\"x\",\"y\":[-0.08543265938158255,-0.08112095995925576,-0.06541690177393246,-0.07313419374621374,-0.06856807012367629,-0.08513474631923779,-0.07478307282300997,-0.0666604285433631,-0.07386068608487781,-0.06951752989204327,-0.06092606379230252,-0.06615780226424851,-0.0820473549990219],\"yaxis\":\"y\",\"type\":\"scatter\"},{\"hovertemplate\":\"color=LM<br>0=%{x}<br>1=%{y}<extra></extra>\",\"legendgroup\":\"LM\",\"marker\":{\"color\":\"#FFA15A\",\"symbol\":\"circle\"},\"mode\":\"markers\",\"name\":\"LM\",\"orientation\":\"v\",\"showlegend\":true,\"x\":[-0.022769214933523817,-0.020346659321020085,-0.021260195868342813,-0.02135043206576237,-0.019939228707979966,-0.020893854974309345,-0.020757872242564885,-0.020768107932401397,-0.020502813851069675,-0.02121912913585464,-0.020012910434665212,-0.020992739843513755,-0.02182143665903329,-0.020296475795929487,-0.02095442110307246,-0.023567988757778928,-0.023516464923389317,-0.022554078181596476,-0.019962480253503133],\"xaxis\":\"x\",\"y\":[-0.06791063351619464,-0.05539225164072091,-0.05963599620878631,-0.061828786848332894,-0.05428852556781206,-0.05864313798581762,-0.05742629674228412,-0.058619474464129254,-0.057525871736461454,-0.060532952953184664,-0.054956491921130106,-0.060593016035118456,-0.06264812873902344,-0.055815571529506704,-0.059653088651304476,-0.07192896706428108,-0.07257667618165274,-0.068107908357146,-0.05531137381013733],\"yaxis\":\"y\",\"type\":\"scatter\"},{\"hovertemplate\":\"color=MKP<br>0=%{x}<br>1=%{y}<extra></extra>\",\"legendgroup\":\"MKP\",\"marker\":{\"color\":\"#19d3f3\",\"symbol\":\"circle\"},\"mode\":\"markers\",\"name\":\"MKP\",\"orientation\":\"v\",\"showlegend\":true,\"x\":[-0.019961368629450308,-0.021525426778097864,-0.020014062624760316,-0.020059009666816868,-0.019972483575925796,-0.020909832521039274,-0.018944700158371214,-0.019118980983590255],\"xaxis\":\"x\",\"y\":[-0.06988222533979317,-0.05833002166957938,-0.05274843851845123,-0.053399574250352716,-0.05350080513362053,-0.054957861154079544,-0.049382046265903694,-0.049741132718663025],\"yaxis\":\"y\",\"type\":\"scatter\"},{\"hovertemplate\":\"color=MMP<br>0=%{x}<br>1=%{y}<extra></extra>\",\"legendgroup\":\"MMP\",\"marker\":{\"color\":\"#FF6692\",\"symbol\":\"circle\"},\"mode\":\"markers\",\"name\":\"MMP\",\"orientation\":\"v\",\"showlegend\":true,\"x\":[-0.023430347184882325,-0.029016955148662177,-0.021501605988572915,-0.024503484016838013,-0.025574073001710475,-0.024386528650289212,-0.025492519285897273,-0.027558420496393135,-0.025617923851551705,-0.025782148568065048,-0.02871577863652039,-0.02371528058080688,-0.025173955714743634,-0.025763214475083302,-0.025363862197714294,-0.02446365722268572,-0.02663477092997818,-0.024018787908862884,-0.023971526108245843],\"xaxis\":\"x\",\"y\":[-0.07107526117911948,-0.09894723355372453,-0.06232572761458052,-0.07700501053651589,-0.0799844754665866,-0.0751206481436678,-0.08116888321531043,-0.09472099299122756,-0.08111237252375172,-0.08405775267180743,-0.09583329568790347,-0.0729240975119815,-0.08048487573853934,-0.08293208030566414,-0.08085460644711284,-0.07676775499709847,-0.08678419924030804,-0.0743208275604347,-0.07396150700121297],\"yaxis\":\"y\",\"type\":\"scatter\"},{\"hovertemplate\":\"color=PNR<br>0=%{x}<br>1=%{y}<extra></extra>\",\"legendgroup\":\"PNR\",\"marker\":{\"color\":\"#B6E880\",\"symbol\":\"circle\"},\"mode\":\"markers\",\"name\":\"PNR\",\"orientation\":\"v\",\"showlegend\":true,\"x\":[-0.02874967139826797,-0.030759089936517107,-0.02553233632358601],\"xaxis\":\"x\",\"y\":[0.17957560605750025,0.19707105312792095,0.1889906020728393],\"yaxis\":\"y\",\"type\":\"scatter\"},{\"hovertemplate\":\"color=PTW<br>0=%{x}<br>1=%{y}<extra></extra>\",\"legendgroup\":\"PTW\",\"marker\":{\"color\":\"#FF97FF\",\"symbol\":\"circle\"},\"mode\":\"markers\",\"name\":\"PTW\",\"orientation\":\"v\",\"showlegend\":true,\"x\":[-0.02184316036034723,-0.022198840045390463,-0.01956069240477175,-0.023859409634803184,-0.021395495564402737,-0.023080157872465753,-0.023823071817011605,-0.02411050582825987],\"xaxis\":\"x\",\"y\":[-0.0660585830754698,-0.07057364828168479,-0.05323570444204215,-0.07779070771776399,-0.06265939901380502,-0.07193292406894915,-0.07538197603355119,-0.07940032820147011],\"yaxis\":\"y\",\"type\":\"scatter\"},{\"hovertemplate\":\"color=RF<br>0=%{x}<br>1=%{y}<extra></extra>\",\"legendgroup\":\"RF\",\"marker\":{\"color\":\"#FECB52\",\"symbol\":\"circle\"},\"mode\":\"markers\",\"name\":\"RF\",\"orientation\":\"v\",\"showlegend\":true,\"x\":[-0.029400878835162392,-0.03234530556144247,-0.02821971192789336,-0.026597751295636043,-0.026739954307634206,-0.03174772746365075,-0.03146556808105109,-0.0243052594335321,-0.027417811234325445,-0.025071417923140688,-0.027792820002299656],\"xaxis\":\"x\",\"y\":[0.1908744421180054,0.22284005059733505,0.17699173637595686,0.16297726034957907,0.1722762360623538,0.21085900198277804,0.21329683267535413,0.14024265452755977,0.16989694855285356,0.14258114397019658,0.17309111473857686],\"yaxis\":\"y\",\"type\":\"scatter\"},{\"hovertemplate\":\"color=RGT<br>0=%{x}<br>1=%{y}<extra></extra>\",\"legendgroup\":\"RGT\",\"marker\":{\"color\":\"#636efa\",\"symbol\":\"circle\"},\"mode\":\"markers\",\"name\":\"RGT\",\"orientation\":\"v\",\"showlegend\":true,\"x\":[-0.02119621093946763,-0.020694733261513217,-0.02263084754673937,-0.020940960429571318,-0.021736812043888998],\"xaxis\":\"x\",\"y\":[-0.056307204433911184,-0.05664870449567177,-0.06346054959777976,-0.05807029788650936,-0.06169681433882345],\"yaxis\":\"y\",\"type\":\"scatter\"},{\"hovertemplate\":\"color=RRL<br>0=%{x}<br>1=%{y}<extra></extra>\",\"legendgroup\":\"RRL\",\"marker\":{\"color\":\"#EF553B\",\"symbol\":\"circle\"},\"mode\":\"markers\",\"name\":\"RRL\",\"orientation\":\"v\",\"showlegend\":true,\"x\":[0.8887087081748168,0.002377057522538846,0.8189202300538868,-0.011257251118540293,-0.009139395817097613,-0.023669772507282034,-0.024181849287081243,-0.021590647250440284,-0.023045518512813657,-0.02674298219682623,-0.034267058800848196,-0.016069723858248643,-0.008455240450898543,-0.014942358487757308,0.818677622127605,-0.018127424893019536,0.6393273587997037,-0.012729920030923278,0.4893148402224812],\"xaxis\":\"x\",\"y\":[0.022984277925128506,-0.017075767446995047,0.01755028289271705,-0.07915532230079082,-0.02468648205871891,-0.08496741576084968,-0.08332500457710293,-0.07473747313355288,-0.07581322828157985,-0.10315811179032715,-0.14025982891522054,-0.06485271600105962,-0.029275502608493372,-0.08142603379080328,0.013503052238348997,-0.08780594203395545,-0.004213385408133983,-0.0898110481951559,-0.0012141904291969137],\"yaxis\":\"y\",\"type\":\"scatter\"},{\"hovertemplate\":\"color=SLG<br>0=%{x}<br>1=%{y}<extra></extra>\",\"legendgroup\":\"SLG\",\"marker\":{\"color\":\"#00cc96\",\"symbol\":\"circle\"},\"mode\":\"markers\",\"name\":\"SLG\",\"orientation\":\"v\",\"showlegend\":true,\"x\":[-0.030656577083025705,-0.03151400623585081,-0.031453393111769756,-0.02566675663430219,-0.02989309800136335,-0.03098511324150857,-0.027495713826576774,-0.02678355106270385,-0.02537986637921887,-0.027508411675175766,-0.029825206066645377,-0.02841591631750527,-0.03156154367092934,-0.03263508493959037,-0.03265240427851459,-0.03283918620114456,-0.028769135580752527],\"xaxis\":\"x\",\"y\":[0.20331288651122909,0.2117954141215563,0.20795110235180897,0.18265547098632495,0.19705802411372852,0.2067450490856804,0.17154978452805625,0.16029381172390064,0.16176630946593729,0.1691762918674226,0.20246845685573048,0.1816640590886844,0.21030298531052277,0.2205987810027291,0.21509478619272915,0.22459868309248,0.18322311455740584],\"yaxis\":\"y\",\"type\":\"scatter\"}],                        {\"template\":{\"data\":{\"histogram2dcontour\":[{\"type\":\"histogram2dcontour\",\"colorbar\":{\"outlinewidth\":0,\"ticks\":\"\"},\"colorscale\":[[0.0,\"#0d0887\"],[0.1111111111111111,\"#46039f\"],[0.2222222222222222,\"#7201a8\"],[0.3333333333333333,\"#9c179e\"],[0.4444444444444444,\"#bd3786\"],[0.5555555555555556,\"#d8576b\"],[0.6666666666666666,\"#ed7953\"],[0.7777777777777778,\"#fb9f3a\"],[0.8888888888888888,\"#fdca26\"],[1.0,\"#f0f921\"]]}],\"choropleth\":[{\"type\":\"choropleth\",\"colorbar\":{\"outlinewidth\":0,\"ticks\":\"\"}}],\"histogram2d\":[{\"type\":\"histogram2d\",\"colorbar\":{\"outlinewidth\":0,\"ticks\":\"\"},\"colorscale\":[[0.0,\"#0d0887\"],[0.1111111111111111,\"#46039f\"],[0.2222222222222222,\"#7201a8\"],[0.3333333333333333,\"#9c179e\"],[0.4444444444444444,\"#bd3786\"],[0.5555555555555556,\"#d8576b\"],[0.6666666666666666,\"#ed7953\"],[0.7777777777777778,\"#fb9f3a\"],[0.8888888888888888,\"#fdca26\"],[1.0,\"#f0f921\"]]}],\"heatmap\":[{\"type\":\"heatmap\",\"colorbar\":{\"outlinewidth\":0,\"ticks\":\"\"},\"colorscale\":[[0.0,\"#0d0887\"],[0.1111111111111111,\"#46039f\"],[0.2222222222222222,\"#7201a8\"],[0.3333333333333333,\"#9c179e\"],[0.4444444444444444,\"#bd3786\"],[0.5555555555555556,\"#d8576b\"],[0.6666666666666666,\"#ed7953\"],[0.7777777777777778,\"#fb9f3a\"],[0.8888888888888888,\"#fdca26\"],[1.0,\"#f0f921\"]]}],\"heatmapgl\":[{\"type\":\"heatmapgl\",\"colorbar\":{\"outlinewidth\":0,\"ticks\":\"\"},\"colorscale\":[[0.0,\"#0d0887\"],[0.1111111111111111,\"#46039f\"],[0.2222222222222222,\"#7201a8\"],[0.3333333333333333,\"#9c179e\"],[0.4444444444444444,\"#bd3786\"],[0.5555555555555556,\"#d8576b\"],[0.6666666666666666,\"#ed7953\"],[0.7777777777777778,\"#fb9f3a\"],[0.8888888888888888,\"#fdca26\"],[1.0,\"#f0f921\"]]}],\"contourcarpet\":[{\"type\":\"contourcarpet\",\"colorbar\":{\"outlinewidth\":0,\"ticks\":\"\"}}],\"contour\":[{\"type\":\"contour\",\"colorbar\":{\"outlinewidth\":0,\"ticks\":\"\"},\"colorscale\":[[0.0,\"#0d0887\"],[0.1111111111111111,\"#46039f\"],[0.2222222222222222,\"#7201a8\"],[0.3333333333333333,\"#9c179e\"],[0.4444444444444444,\"#bd3786\"],[0.5555555555555556,\"#d8576b\"],[0.6666666666666666,\"#ed7953\"],[0.7777777777777778,\"#fb9f3a\"],[0.8888888888888888,\"#fdca26\"],[1.0,\"#f0f921\"]]}],\"surface\":[{\"type\":\"surface\",\"colorbar\":{\"outlinewidth\":0,\"ticks\":\"\"},\"colorscale\":[[0.0,\"#0d0887\"],[0.1111111111111111,\"#46039f\"],[0.2222222222222222,\"#7201a8\"],[0.3333333333333333,\"#9c179e\"],[0.4444444444444444,\"#bd3786\"],[0.5555555555555556,\"#d8576b\"],[0.6666666666666666,\"#ed7953\"],[0.7777777777777778,\"#fb9f3a\"],[0.8888888888888888,\"#fdca26\"],[1.0,\"#f0f921\"]]}],\"mesh3d\":[{\"type\":\"mesh3d\",\"colorbar\":{\"outlinewidth\":0,\"ticks\":\"\"}}],\"scatter\":[{\"fillpattern\":{\"fillmode\":\"overlay\",\"size\":10,\"solidity\":0.2},\"type\":\"scatter\"}],\"parcoords\":[{\"type\":\"parcoords\",\"line\":{\"colorbar\":{\"outlinewidth\":0,\"ticks\":\"\"}}}],\"scatterpolargl\":[{\"type\":\"scatterpolargl\",\"marker\":{\"colorbar\":{\"outlinewidth\":0,\"ticks\":\"\"}}}],\"bar\":[{\"error_x\":{\"color\":\"#2a3f5f\"},\"error_y\":{\"color\":\"#2a3f5f\"},\"marker\":{\"line\":{\"color\":\"#E5ECF6\",\"width\":0.5},\"pattern\":{\"fillmode\":\"overlay\",\"size\":10,\"solidity\":0.2}},\"type\":\"bar\"}],\"scattergeo\":[{\"type\":\"scattergeo\",\"marker\":{\"colorbar\":{\"outlinewidth\":0,\"ticks\":\"\"}}}],\"scatterpolar\":[{\"type\":\"scatterpolar\",\"marker\":{\"colorbar\":{\"outlinewidth\":0,\"ticks\":\"\"}}}],\"histogram\":[{\"marker\":{\"pattern\":{\"fillmode\":\"overlay\",\"size\":10,\"solidity\":0.2}},\"type\":\"histogram\"}],\"scattergl\":[{\"type\":\"scattergl\",\"marker\":{\"colorbar\":{\"outlinewidth\":0,\"ticks\":\"\"}}}],\"scatter3d\":[{\"type\":\"scatter3d\",\"line\":{\"colorbar\":{\"outlinewidth\":0,\"ticks\":\"\"}},\"marker\":{\"colorbar\":{\"outlinewidth\":0,\"ticks\":\"\"}}}],\"scattermapbox\":[{\"type\":\"scattermapbox\",\"marker\":{\"colorbar\":{\"outlinewidth\":0,\"ticks\":\"\"}}}],\"scatterternary\":[{\"type\":\"scatterternary\",\"marker\":{\"colorbar\":{\"outlinewidth\":0,\"ticks\":\"\"}}}],\"scattercarpet\":[{\"type\":\"scattercarpet\",\"marker\":{\"colorbar\":{\"outlinewidth\":0,\"ticks\":\"\"}}}],\"carpet\":[{\"aaxis\":{\"endlinecolor\":\"#2a3f5f\",\"gridcolor\":\"white\",\"linecolor\":\"white\",\"minorgridcolor\":\"white\",\"startlinecolor\":\"#2a3f5f\"},\"baxis\":{\"endlinecolor\":\"#2a3f5f\",\"gridcolor\":\"white\",\"linecolor\":\"white\",\"minorgridcolor\":\"white\",\"startlinecolor\":\"#2a3f5f\"},\"type\":\"carpet\"}],\"table\":[{\"cells\":{\"fill\":{\"color\":\"#EBF0F8\"},\"line\":{\"color\":\"white\"}},\"header\":{\"fill\":{\"color\":\"#C8D4E3\"},\"line\":{\"color\":\"white\"}},\"type\":\"table\"}],\"barpolar\":[{\"marker\":{\"line\":{\"color\":\"#E5ECF6\",\"width\":0.5},\"pattern\":{\"fillmode\":\"overlay\",\"size\":10,\"solidity\":0.2}},\"type\":\"barpolar\"}],\"pie\":[{\"automargin\":true,\"type\":\"pie\"}]},\"layout\":{\"autotypenumbers\":\"strict\",\"colorway\":[\"#636efa\",\"#EF553B\",\"#00cc96\",\"#ab63fa\",\"#FFA15A\",\"#19d3f3\",\"#FF6692\",\"#B6E880\",\"#FF97FF\",\"#FECB52\"],\"font\":{\"color\":\"#2a3f5f\"},\"hovermode\":\"closest\",\"hoverlabel\":{\"align\":\"left\"},\"paper_bgcolor\":\"white\",\"plot_bgcolor\":\"#E5ECF6\",\"polar\":{\"bgcolor\":\"#E5ECF6\",\"angularaxis\":{\"gridcolor\":\"white\",\"linecolor\":\"white\",\"ticks\":\"\"},\"radialaxis\":{\"gridcolor\":\"white\",\"linecolor\":\"white\",\"ticks\":\"\"}},\"ternary\":{\"bgcolor\":\"#E5ECF6\",\"aaxis\":{\"gridcolor\":\"white\",\"linecolor\":\"white\",\"ticks\":\"\"},\"baxis\":{\"gridcolor\":\"white\",\"linecolor\":\"white\",\"ticks\":\"\"},\"caxis\":{\"gridcolor\":\"white\",\"linecolor\":\"white\",\"ticks\":\"\"}},\"coloraxis\":{\"colorbar\":{\"outlinewidth\":0,\"ticks\":\"\"}},\"colorscale\":{\"sequential\":[[0.0,\"#0d0887\"],[0.1111111111111111,\"#46039f\"],[0.2222222222222222,\"#7201a8\"],[0.3333333333333333,\"#9c179e\"],[0.4444444444444444,\"#bd3786\"],[0.5555555555555556,\"#d8576b\"],[0.6666666666666666,\"#ed7953\"],[0.7777777777777778,\"#fb9f3a\"],[0.8888888888888888,\"#fdca26\"],[1.0,\"#f0f921\"]],\"sequentialminus\":[[0.0,\"#0d0887\"],[0.1111111111111111,\"#46039f\"],[0.2222222222222222,\"#7201a8\"],[0.3333333333333333,\"#9c179e\"],[0.4444444444444444,\"#bd3786\"],[0.5555555555555556,\"#d8576b\"],[0.6666666666666666,\"#ed7953\"],[0.7777777777777778,\"#fb9f3a\"],[0.8888888888888888,\"#fdca26\"],[1.0,\"#f0f921\"]],\"diverging\":[[0,\"#8e0152\"],[0.1,\"#c51b7d\"],[0.2,\"#de77ae\"],[0.3,\"#f1b6da\"],[0.4,\"#fde0ef\"],[0.5,\"#f7f7f7\"],[0.6,\"#e6f5d0\"],[0.7,\"#b8e186\"],[0.8,\"#7fbc41\"],[0.9,\"#4d9221\"],[1,\"#276419\"]]},\"xaxis\":{\"gridcolor\":\"white\",\"linecolor\":\"white\",\"ticks\":\"\",\"title\":{\"standoff\":15},\"zerolinecolor\":\"white\",\"automargin\":true,\"zerolinewidth\":2},\"yaxis\":{\"gridcolor\":\"white\",\"linecolor\":\"white\",\"ticks\":\"\",\"title\":{\"standoff\":15},\"zerolinecolor\":\"white\",\"automargin\":true,\"zerolinewidth\":2},\"scene\":{\"xaxis\":{\"backgroundcolor\":\"#E5ECF6\",\"gridcolor\":\"white\",\"linecolor\":\"white\",\"showbackground\":true,\"ticks\":\"\",\"zerolinecolor\":\"white\",\"gridwidth\":2},\"yaxis\":{\"backgroundcolor\":\"#E5ECF6\",\"gridcolor\":\"white\",\"linecolor\":\"white\",\"showbackground\":true,\"ticks\":\"\",\"zerolinecolor\":\"white\",\"gridwidth\":2},\"zaxis\":{\"backgroundcolor\":\"#E5ECF6\",\"gridcolor\":\"white\",\"linecolor\":\"white\",\"showbackground\":true,\"ticks\":\"\",\"zerolinecolor\":\"white\",\"gridwidth\":2}},\"shapedefaults\":{\"line\":{\"color\":\"#2a3f5f\"}},\"annotationdefaults\":{\"arrowcolor\":\"#2a3f5f\",\"arrowhead\":0,\"arrowwidth\":1},\"geo\":{\"bgcolor\":\"white\",\"landcolor\":\"#E5ECF6\",\"subunitcolor\":\"white\",\"showland\":true,\"showlakes\":true,\"lakecolor\":\"white\"},\"title\":{\"x\":0.05},\"mapbox\":{\"style\":\"light\"}}},\"xaxis\":{\"anchor\":\"y\",\"domain\":[0.0,1.0],\"title\":{\"text\":\"PC1 39.6%\"}},\"yaxis\":{\"anchor\":\"x\",\"domain\":[0.0,1.0],\"title\":{\"text\":\"PC2 28.6%\"}},\"legend\":{\"title\":{\"text\":\"color\"},\"tracegroupgap\":0},\"margin\":{\"t\":60},\"title\":{\"text\":\"Soil Microbes by Site without Reduction\"}},                        {\"responsive\": true}                    ).then(function(){\n",
       "                            \n",
       "var gd = document.getElementById('36f3b9ce-72d3-43b2-8464-b187c5b9921e');\n",
       "var x = new MutationObserver(function (mutations, observer) {{\n",
       "        var display = window.getComputedStyle(gd).display;\n",
       "        if (!display || display === 'none') {{\n",
       "            console.log([gd, 'removed!']);\n",
       "            Plotly.purge(gd);\n",
       "            observer.disconnect();\n",
       "        }}\n",
       "}});\n",
       "\n",
       "// Listen for the removal of the full notebook cells\n",
       "var notebookContainer = gd.closest('#notebook-container');\n",
       "if (notebookContainer) {{\n",
       "    x.observe(notebookContainer, {childList: true});\n",
       "}}\n",
       "\n",
       "// Listen for the clearing of the current output cell\n",
       "var outputEl = gd.closest('.output');\n",
       "if (outputEl) {{\n",
       "    x.observe(outputEl, {childList: true});\n",
       "}}\n",
       "\n",
       "                        })                };                });            </script>        </div>"
      ]
     },
     "metadata": {},
     "output_type": "display_data"
    }
   ],
   "source": [
    "X = pc1_df[genera_col]\n",
    "\n",
    "pca = PCA(n_components=2)\n",
    "components = pca.fit_transform(X)\n",
    "\n",
    "fig = px.scatter(components, x=0, y=1, color=pc1_df['site_id'])\n",
    "fig.update_layout(\n",
    "    title = \"Soil Microbes by Site without Reduction\",\n",
    "    xaxis_title=\"PC1 \" + str(round(100*pca.explained_variance_ratio_[0], 1)) + '%',\n",
    "    yaxis_title=\"PC2 \" + str(round(100*pca.explained_variance_ratio_[1], 1)) + '%')\n",
    "fig.show()"
   ]
  },
  {
   "cell_type": "code",
   "execution_count": 12,
   "id": "5b7bbe13",
   "metadata": {},
   "outputs": [],
   "source": [
    "### Keeping top 1000 most common genera"
   ]
  },
  {
   "cell_type": "code",
   "execution_count": 58,
   "id": "ded1cada",
   "metadata": {},
   "outputs": [],
   "source": [
    "pc2_df = pivoted_df.copy()"
   ]
  },
  {
   "cell_type": "code",
   "execution_count": 59,
   "id": "0957282c",
   "metadata": {},
   "outputs": [],
   "source": [
    "sum_col = pc2_df[genera_col].sum()\n",
    "top_100 = sum_col.nlargest(10)\n",
    "select_columns = (top_100.index).tolist()\n",
    "select_columns.insert(0, 'V2')\n",
    "select_columns.insert(0, 'sample_id')\n",
    "select_columns.insert(0, 'site_id')\n",
    "select_columns.insert(0, 'species')\n",
    "select_columns.insert(0, 'collect_date')\n",
    "pc2_df = pc2_df[select_columns]"
   ]
  },
  {
   "cell_type": "code",
   "execution_count": 60,
   "id": "de038675",
   "metadata": {},
   "outputs": [
    {
     "data": {
      "text/html": [
       "<div>\n",
       "<style scoped>\n",
       "    .dataframe tbody tr th:only-of-type {\n",
       "        vertical-align: middle;\n",
       "    }\n",
       "\n",
       "    .dataframe tbody tr th {\n",
       "        vertical-align: top;\n",
       "    }\n",
       "\n",
       "    .dataframe thead th {\n",
       "        text-align: right;\n",
       "    }\n",
       "</style>\n",
       "<table border=\"1\" class=\"dataframe\">\n",
       "  <thead>\n",
       "    <tr style=\"text-align: right;\">\n",
       "      <th>genera</th>\n",
       "      <th>collect_date</th>\n",
       "      <th>species</th>\n",
       "      <th>site_id</th>\n",
       "      <th>sample_id</th>\n",
       "      <th>V2</th>\n",
       "      <th>Bacteria|Proteobacteria|Alphaproteobacteria|Rhizobiales|Bradyrhizobiaceae|Bradyrhizobium</th>\n",
       "      <th>Bacteria|Actinobacteria|Actinobacteria|Streptomycetales|Streptomycetaceae|Streptomyces</th>\n",
       "      <th>Bacteria|Cyanobacteria||Synechococcales|Synechococcaceae|Synechococcus</th>\n",
       "      <th>Bacteria|Proteobacteria|Gammaproteobacteria|Pseudomonadales|Pseudomonadaceae|Pseudomonas</th>\n",
       "      <th>Bacteria|Cyanobacteria||Synechococcales|Synechococcaceae|Thermosynechococcus</th>\n",
       "      <th>Viruses|||Caudovirales|Podoviridae|T7virus</th>\n",
       "      <th>Bacteria|Actinobacteria|Actinobacteria|Corynebacteriales|Mycobacteriaceae|Mycobacterium</th>\n",
       "      <th>Bacteria|Proteobacteria|Alphaproteobacteria|Sphingomonadales|Sphingomonadaceae|Sphingomonas</th>\n",
       "      <th>Bacteria|Actinobacteria|Actinobacteria|Propionibacteriales|Nocardioidaceae|Nocardioides</th>\n",
       "      <th>Bacteria|Proteobacteria|Gammaproteobacteria|Xanthomonadales|Xanthomonadaceae|Stenotrophomonas</th>\n",
       "    </tr>\n",
       "  </thead>\n",
       "  <tbody>\n",
       "    <tr>\n",
       "      <th>0</th>\n",
       "      <td>6/29/2021</td>\n",
       "      <td>syriaca</td>\n",
       "      <td>CMB</td>\n",
       "      <td>CMB10</td>\n",
       "      <td>0.999777</td>\n",
       "      <td>0.093727</td>\n",
       "      <td>0.080597</td>\n",
       "      <td>0.000510</td>\n",
       "      <td>0.024729</td>\n",
       "      <td>0.000000</td>\n",
       "      <td>0.0</td>\n",
       "      <td>0.031655</td>\n",
       "      <td>0.022974</td>\n",
       "      <td>0.011929</td>\n",
       "      <td>0.015269</td>\n",
       "    </tr>\n",
       "    <tr>\n",
       "      <th>1</th>\n",
       "      <td>6/29/2021</td>\n",
       "      <td>syriaca</td>\n",
       "      <td>CMB</td>\n",
       "      <td>CMB11</td>\n",
       "      <td>1.000000</td>\n",
       "      <td>0.097675</td>\n",
       "      <td>0.082029</td>\n",
       "      <td>0.000599</td>\n",
       "      <td>0.033588</td>\n",
       "      <td>0.000049</td>\n",
       "      <td>0.0</td>\n",
       "      <td>0.023893</td>\n",
       "      <td>0.023239</td>\n",
       "      <td>0.009437</td>\n",
       "      <td>0.012375</td>\n",
       "    </tr>\n",
       "    <tr>\n",
       "      <th>2</th>\n",
       "      <td>6/29/2021</td>\n",
       "      <td>syriaca</td>\n",
       "      <td>CMB</td>\n",
       "      <td>CMB13</td>\n",
       "      <td>0.989131</td>\n",
       "      <td>0.122075</td>\n",
       "      <td>0.100412</td>\n",
       "      <td>0.000539</td>\n",
       "      <td>0.031240</td>\n",
       "      <td>0.000000</td>\n",
       "      <td>0.0</td>\n",
       "      <td>0.027619</td>\n",
       "      <td>0.018817</td>\n",
       "      <td>0.009399</td>\n",
       "      <td>0.006745</td>\n",
       "    </tr>\n",
       "    <tr>\n",
       "      <th>3</th>\n",
       "      <td>6/29/2021</td>\n",
       "      <td>syriaca</td>\n",
       "      <td>CMB</td>\n",
       "      <td>CMB15</td>\n",
       "      <td>0.998548</td>\n",
       "      <td>0.149311</td>\n",
       "      <td>0.080603</td>\n",
       "      <td>0.000000</td>\n",
       "      <td>0.067397</td>\n",
       "      <td>0.000000</td>\n",
       "      <td>0.0</td>\n",
       "      <td>0.049229</td>\n",
       "      <td>0.026631</td>\n",
       "      <td>0.009515</td>\n",
       "      <td>0.004970</td>\n",
       "    </tr>\n",
       "    <tr>\n",
       "      <th>4</th>\n",
       "      <td>6/29/2021</td>\n",
       "      <td>syriaca</td>\n",
       "      <td>CMB</td>\n",
       "      <td>CMB16</td>\n",
       "      <td>0.999243</td>\n",
       "      <td>0.098761</td>\n",
       "      <td>0.092399</td>\n",
       "      <td>0.000494</td>\n",
       "      <td>0.049438</td>\n",
       "      <td>0.000000</td>\n",
       "      <td>0.0</td>\n",
       "      <td>0.025583</td>\n",
       "      <td>0.018831</td>\n",
       "      <td>0.008655</td>\n",
       "      <td>0.008429</td>\n",
       "    </tr>\n",
       "  </tbody>\n",
       "</table>\n",
       "</div>"
      ],
      "text/plain": [
       "genera collect_date  species site_id sample_id        V2  \\\n",
       "0         6/29/2021  syriaca     CMB     CMB10  0.999777   \n",
       "1         6/29/2021  syriaca     CMB     CMB11  1.000000   \n",
       "2         6/29/2021  syriaca     CMB     CMB13  0.989131   \n",
       "3         6/29/2021  syriaca     CMB     CMB15  0.998548   \n",
       "4         6/29/2021  syriaca     CMB     CMB16  0.999243   \n",
       "\n",
       "genera  Bacteria|Proteobacteria|Alphaproteobacteria|Rhizobiales|Bradyrhizobiaceae|Bradyrhizobium  \\\n",
       "0                                                0.093727                                          \n",
       "1                                                0.097675                                          \n",
       "2                                                0.122075                                          \n",
       "3                                                0.149311                                          \n",
       "4                                                0.098761                                          \n",
       "\n",
       "genera  Bacteria|Actinobacteria|Actinobacteria|Streptomycetales|Streptomycetaceae|Streptomyces  \\\n",
       "0                                                0.080597                                        \n",
       "1                                                0.082029                                        \n",
       "2                                                0.100412                                        \n",
       "3                                                0.080603                                        \n",
       "4                                                0.092399                                        \n",
       "\n",
       "genera  Bacteria|Cyanobacteria||Synechococcales|Synechococcaceae|Synechococcus  \\\n",
       "0                                                0.000510                        \n",
       "1                                                0.000599                        \n",
       "2                                                0.000539                        \n",
       "3                                                0.000000                        \n",
       "4                                                0.000494                        \n",
       "\n",
       "genera  Bacteria|Proteobacteria|Gammaproteobacteria|Pseudomonadales|Pseudomonadaceae|Pseudomonas  \\\n",
       "0                                                0.024729                                          \n",
       "1                                                0.033588                                          \n",
       "2                                                0.031240                                          \n",
       "3                                                0.067397                                          \n",
       "4                                                0.049438                                          \n",
       "\n",
       "genera  Bacteria|Cyanobacteria||Synechococcales|Synechococcaceae|Thermosynechococcus  \\\n",
       "0                                                0.000000                              \n",
       "1                                                0.000049                              \n",
       "2                                                0.000000                              \n",
       "3                                                0.000000                              \n",
       "4                                                0.000000                              \n",
       "\n",
       "genera  Viruses|||Caudovirales|Podoviridae|T7virus  \\\n",
       "0                                              0.0   \n",
       "1                                              0.0   \n",
       "2                                              0.0   \n",
       "3                                              0.0   \n",
       "4                                              0.0   \n",
       "\n",
       "genera  Bacteria|Actinobacteria|Actinobacteria|Corynebacteriales|Mycobacteriaceae|Mycobacterium  \\\n",
       "0                                                0.031655                                         \n",
       "1                                                0.023893                                         \n",
       "2                                                0.027619                                         \n",
       "3                                                0.049229                                         \n",
       "4                                                0.025583                                         \n",
       "\n",
       "genera  Bacteria|Proteobacteria|Alphaproteobacteria|Sphingomonadales|Sphingomonadaceae|Sphingomonas  \\\n",
       "0                                                0.022974                                             \n",
       "1                                                0.023239                                             \n",
       "2                                                0.018817                                             \n",
       "3                                                0.026631                                             \n",
       "4                                                0.018831                                             \n",
       "\n",
       "genera  Bacteria|Actinobacteria|Actinobacteria|Propionibacteriales|Nocardioidaceae|Nocardioides  \\\n",
       "0                                                0.011929                                         \n",
       "1                                                0.009437                                         \n",
       "2                                                0.009399                                         \n",
       "3                                                0.009515                                         \n",
       "4                                                0.008655                                         \n",
       "\n",
       "genera  Bacteria|Proteobacteria|Gammaproteobacteria|Xanthomonadales|Xanthomonadaceae|Stenotrophomonas  \n",
       "0                                                0.015269                                              \n",
       "1                                                0.012375                                              \n",
       "2                                                0.006745                                              \n",
       "3                                                0.004970                                              \n",
       "4                                                0.008429                                              "
      ]
     },
     "execution_count": 60,
     "metadata": {},
     "output_type": "execute_result"
    }
   ],
   "source": [
    "pc2_df.head()"
   ]
  },
  {
   "cell_type": "code",
   "execution_count": 61,
   "id": "0a662ad2",
   "metadata": {},
   "outputs": [],
   "source": [
    "pc2_df[top_100.index] = StandardScaler().fit_transform(pc2_df[top_100.index])  "
   ]
  },
  {
   "cell_type": "code",
   "execution_count": 65,
   "id": "110ccb18",
   "metadata": {},
   "outputs": [],
   "source": [
    "pc2_df['site_id'].replace({'CMB': 1, 'FRW': 1, 'LFS': 1, 'LM': 0, 'MMP': 1, 'MKP': 2,\n",
    "                    'PNR': 2, 'PTW': 0, 'RF': 2, 'RGT': 0, 'RRL': 0, 'SGC': 0, 'SLG': 1,'HR': 3}, inplace=True) #\n",
    "pc2_df = pc2_df[pc2_df[\"site_id\"].isin([0,1,2,3])]\n",
    "\n",
    "pc2_df['site_id'].unique()\n",
    "\n",
    "pc2_df['site_id'] = pc2_df['site_id'].replace([0], 'Wintergreen')\n",
    "pc2_df['site_id'] = pc2_df['site_id'].replace([1], 'Cole Mountain')\n",
    "pc2_df['site_id'] = pc2_df['site_id'].replace([2], 'Blacksburg')\n",
    "pc2_df['site_id'] = pc2_df['site_id'].replace([3], 'HR')"
   ]
  },
  {
   "cell_type": "code",
   "execution_count": 66,
   "id": "a939c51c",
   "metadata": {},
   "outputs": [
    {
     "data": {
      "application/vnd.plotly.v1+json": {
       "config": {
        "plotlyServerURL": "https://plot.ly"
       },
       "data": [
        {
         "hovertemplate": "color=Cole Mountain<br>0=%{x}<br>1=%{y}<extra></extra>",
         "legendgroup": "Cole Mountain",
         "marker": {
          "color": "#636efa",
          "symbol": "circle"
         },
         "mode": "markers",
         "name": "Cole Mountain",
         "orientation": "v",
         "showlegend": true,
         "type": "scatter",
         "x": [
          -1.063021099204292,
          -1.203705721047707,
          -1.3799651234464145,
          -2.0350762475042457,
          -1.318304093442492,
          -1.4738852797066098,
          -1.2938859370894844,
          -1.466776519470204,
          -2.08413779241431,
          -1.3937281770811738,
          -1.8242335831158623,
          -2.1503650710393525,
          -1.2351412989127848,
          -2.4818454591362125,
          -1.6723754807758233,
          -1.4060738917010467,
          -1.4822760038628056,
          -1.4265161109858575,
          -1.3115899300497065,
          2.755046422889648,
          2.681343353966249,
          3.196667299820461,
          2.971404674466829,
          2.7578586339852835,
          3.0125021790551867,
          2.6558502204312164,
          3.4203781726356364,
          2.8173002354180956,
          2.5681745204403006,
          2.85992311518383,
          -1.4943613308125487,
          -1.5035238764664507,
          -1.5354698281811603,
          -1.9864831732357873,
          -1.4188642520477268,
          -1.5649257776349226,
          -1.3058464946400792,
          -1.4811443894831717,
          -1.592790649656509,
          -1.4053925634284676,
          -1.3657032743607693,
          -1.2224919163609111,
          -1.8543345887664737,
          -1.2049531681469425,
          -1.854566695124024,
          -0.9617697060839887,
          -1.263498854570442,
          -1.7753719360814988,
          -1.4305953480486167,
          -1.0806510105236085,
          -1.2431615889218386,
          -2.225970564104244,
          -1.2890410383159043,
          -2.447310174853254,
          -1.2687928883395838,
          -1.3249639756675748,
          -1.3697432117688226,
          -1.6515739495063921,
          -1.3894349398591808,
          -1.5824011601875163,
          -1.6082086607529589,
          -1.6985284859229723,
          3.4274419038208785,
          3.799600478346079,
          3.528095682799023,
          3.119940058227221,
          3.035182582083969,
          3.538990898672207,
          3.0508580672875185,
          2.9104761934245356,
          2.9741013319305036,
          3.131079396023093,
          3.1005655500940965,
          3.1551508675645255,
          3.4641619788920037,
          3.5871396658682806,
          3.3587855894674274,
          3.712645229542286,
          3.136247778080847
         ],
         "xaxis": "x",
         "y": [
          -0.14811031817668244,
          -0.005748571090354935,
          -0.3375209876699343,
          -0.39676839033137123,
          -0.05044592049365779,
          0.38422866908926473,
          -0.09165912999616735,
          -0.31509203658351453,
          -1.281909723334775,
          -0.3140336639553755,
          -0.060800860893531615,
          -0.014219045735662513,
          -0.17962687917173398,
          0.16777706622364486,
          -0.17053622800545296,
          -0.15290670849697002,
          0.11120978797600627,
          -1.362899571127082,
          0.36662958543797636,
          -0.10410243345292018,
          -0.0031175239401150965,
          -0.1795869484039073,
          -0.3803122495390812,
          0.29254233445990463,
          -0.03005072919547857,
          -0.13069929808627972,
          0.22357867033681633,
          -0.30923796881407994,
          -0.4835160395093973,
          0.2976423878356169,
          -0.7900610225673182,
          -0.567444172339225,
          0.0007661412688865163,
          0.7028400688053803,
          -0.378431195562914,
          -0.6701038672975813,
          -0.3460639639570596,
          0.43471610010618456,
          0.18692433480302814,
          0.00034438776038477243,
          0.2462276397945624,
          -0.23703979388873525,
          -0.26917738629221755,
          -0.5318653103280789,
          -0.813785085873951,
          0.037939742553364984,
          -0.5119515405156083,
          -0.5602546660559778,
          -0.6248493857611678,
          -1.6537583054019713,
          -1.609669259377911,
          0.2905554729353526,
          -0.4807426905199639,
          -0.12338330001113987,
          -0.9420485488482706,
          -0.9080907323902516,
          -0.8362477831926879,
          -0.22528298626067314,
          -0.2219161481524788,
          -0.5895423070110617,
          -0.44863251771845536,
          -0.07706342450974009,
          0.3160827102515962,
          -0.8450729227176672,
          -0.42414723272183813,
          -0.2992949601491886,
          0.26012415626431534,
          -0.4523081758622895,
          -0.4235316956925428,
          -0.5132217840216023,
          -0.3377536981272139,
          -0.78197610328639,
          0.2204317155073194,
          -0.428415654672731,
          -0.246952516407792,
          -0.30330482622870375,
          0.3058451361203967,
          0.03244051984687558,
          -0.32216823500603936
         ],
         "yaxis": "y"
        },
        {
         "hovertemplate": "color=HR<br>0=%{x}<br>1=%{y}<extra></extra>",
         "legendgroup": "HR",
         "marker": {
          "color": "#EF553B",
          "symbol": "circle"
         },
         "mode": "markers",
         "name": "HR",
         "orientation": "v",
         "showlegend": true,
         "type": "scatter",
         "x": [
          -1.6926237634633408,
          -1.065173970596198,
          -1.7359293931425546,
          -1.2401579330270547
         ],
         "xaxis": "x",
         "y": [
          -2.6822157042885695,
          1.5035793377708877,
          2.1140304486653148,
          3.7945569775762986
         ],
         "yaxis": "y"
        },
        {
         "hovertemplate": "color=Wintergreen<br>0=%{x}<br>1=%{y}<extra></extra>",
         "legendgroup": "Wintergreen",
         "marker": {
          "color": "#00cc96",
          "symbol": "circle"
         },
         "mode": "markers",
         "name": "Wintergreen",
         "orientation": "v",
         "showlegend": true,
         "type": "scatter",
         "x": [
          -0.9473361198137696,
          -0.8511553402169783,
          -1.271378932335994,
          -1.0943116147490488,
          -0.9626681674886655,
          -1.0880012023080694,
          -1.038670153431609,
          -1.2458295022520873,
          -1.2324552844027665,
          -1.2559673256993797,
          -0.9651359339647327,
          -0.982040533944664,
          -1.1529512003995988,
          -1.2746866138330575,
          -1.0244879779144647,
          -1.1188891545454576,
          -0.9885377087394347,
          -1.1656510673277074,
          -1.0251730310443865,
          -1.1808826034686348,
          -1.157568674109147,
          -0.9375594115180036,
          -1.1119552851236383,
          -0.9212231799750267,
          -1.1052333136670183,
          -1.1046668187477533,
          -1.090717629606001,
          -1.2890780714805052,
          -1.0110463908330645,
          -0.7154321746161333,
          -0.5738293521457046,
          -0.8288986446432086,
          1.2564838292690792,
          0.8747839039958186,
          1.2262978607830708,
          -0.9392362587960761,
          -0.5649564125856363,
          -0.7502683071463646,
          -0.5728223992208685,
          -0.5434101107636619,
          -1.079208060373281,
          -2.6928157020719286,
          -2.063430773478101,
          -0.4093257661353741,
          0.3432660115674458,
          -1.3082223487645095,
          1.201808644714608,
          -0.8606813890625438,
          0.9327697362375094,
          -0.92109110544815,
          0.8841097512968714
         ],
         "xaxis": "x",
         "y": [
          -0.4928538528615294,
          0.1645673160042761,
          0.18410153761811351,
          0.5047004857621383,
          0.5400971867448479,
          0.4911397132310776,
          0.7112775050203165,
          0.565635278290718,
          0.6088051811360148,
          0.1364963472698126,
          0.49263695770755167,
          0.3378555476288279,
          -0.0457153271376788,
          0.7647342491147776,
          0.15139244732407373,
          0.016939048265088952,
          -0.4501392474862263,
          -0.10977366158404835,
          0.7609226443237241,
          0.6046660496580452,
          0.0859738643055809,
          0.687961826312643,
          -0.22510953766649663,
          0.4226862693093737,
          0.1500312219040411,
          -0.0443644098847583,
          -0.3525867582784927,
          0.2280318909389853,
          -0.29810976209856443,
          -0.9034309616009987,
          -0.7506304069427161,
          -0.5851761164327531,
          4.447241449221205,
          1.3041673588348828,
          4.014969611410207,
          -0.04050196646561797,
          6.104792639971737,
          -4.814739334318871,
          -3.2214637434773525,
          -0.3895556943867414,
          -2.114813855959116,
          0.9546075338719819,
          -0.15353250033113447,
          -0.09997402738881478,
          1.287373775734128,
          0.27078331134800665,
          3.819940368978464,
          -2.4008657311129333,
          2.1895425233653922,
          -0.8387976074551763,
          3.2147235286817026
         ],
         "yaxis": "y"
        },
        {
         "hovertemplate": "color=Blacksburg<br>0=%{x}<br>1=%{y}<extra></extra>",
         "legendgroup": "Blacksburg",
         "marker": {
          "color": "#ab63fa",
          "symbol": "circle"
         },
         "mode": "markers",
         "name": "Blacksburg",
         "orientation": "v",
         "showlegend": true,
         "type": "scatter",
         "x": [
          0.1301465382167952,
          -0.7889572554439387,
          -1.5508335999934728,
          -1.140341691460312,
          -1.4645140443765572,
          -0.9013883636380312,
          -1.4860642943925428,
          -1.4873957045247717,
          3.0753910895345453,
          3.3236667635584456,
          3.2456460818447854,
          3.271279413294951,
          3.777787313385977,
          3.149152434022864,
          2.886163106124504,
          3.238855058791017,
          3.468765557833568,
          3.349779787609891,
          2.7115812499006817,
          3.052384712790353,
          2.822547726643642,
          3.1274607022580496
         ],
         "xaxis": "x",
         "y": [
          0.4651509131635532,
          -1.0408488736800996,
          1.1100707731716857,
          0.3534717551306103,
          1.1804001912868107,
          -1.25351906312428,
          1.54637705724407,
          1.6746266002317653,
          -0.2598865279413795,
          -0.8234423849121002,
          0.298675620030242,
          0.09416154648988725,
          0.4085897692852555,
          -0.4395753934574565,
          -0.22077523615398648,
          -0.9089882136562623,
          -0.245870440518817,
          0.25980539672894315,
          -0.6187778191018123,
          -1.1060171457425374,
          -1.0068968124016535,
          -0.663735140859
         ],
         "yaxis": "y"
        }
       ],
       "layout": {
        "legend": {
         "title": {
          "text": "color"
         },
         "tracegroupgap": 0
        },
        "margin": {
         "t": 60
        },
        "template": {
         "data": {
          "bar": [
           {
            "error_x": {
             "color": "#2a3f5f"
            },
            "error_y": {
             "color": "#2a3f5f"
            },
            "marker": {
             "line": {
              "color": "#E5ECF6",
              "width": 0.5
             },
             "pattern": {
              "fillmode": "overlay",
              "size": 10,
              "solidity": 0.2
             }
            },
            "type": "bar"
           }
          ],
          "barpolar": [
           {
            "marker": {
             "line": {
              "color": "#E5ECF6",
              "width": 0.5
             },
             "pattern": {
              "fillmode": "overlay",
              "size": 10,
              "solidity": 0.2
             }
            },
            "type": "barpolar"
           }
          ],
          "carpet": [
           {
            "aaxis": {
             "endlinecolor": "#2a3f5f",
             "gridcolor": "white",
             "linecolor": "white",
             "minorgridcolor": "white",
             "startlinecolor": "#2a3f5f"
            },
            "baxis": {
             "endlinecolor": "#2a3f5f",
             "gridcolor": "white",
             "linecolor": "white",
             "minorgridcolor": "white",
             "startlinecolor": "#2a3f5f"
            },
            "type": "carpet"
           }
          ],
          "choropleth": [
           {
            "colorbar": {
             "outlinewidth": 0,
             "ticks": ""
            },
            "type": "choropleth"
           }
          ],
          "contour": [
           {
            "colorbar": {
             "outlinewidth": 0,
             "ticks": ""
            },
            "colorscale": [
             [
              0,
              "#0d0887"
             ],
             [
              0.1111111111111111,
              "#46039f"
             ],
             [
              0.2222222222222222,
              "#7201a8"
             ],
             [
              0.3333333333333333,
              "#9c179e"
             ],
             [
              0.4444444444444444,
              "#bd3786"
             ],
             [
              0.5555555555555556,
              "#d8576b"
             ],
             [
              0.6666666666666666,
              "#ed7953"
             ],
             [
              0.7777777777777778,
              "#fb9f3a"
             ],
             [
              0.8888888888888888,
              "#fdca26"
             ],
             [
              1,
              "#f0f921"
             ]
            ],
            "type": "contour"
           }
          ],
          "contourcarpet": [
           {
            "colorbar": {
             "outlinewidth": 0,
             "ticks": ""
            },
            "type": "contourcarpet"
           }
          ],
          "heatmap": [
           {
            "colorbar": {
             "outlinewidth": 0,
             "ticks": ""
            },
            "colorscale": [
             [
              0,
              "#0d0887"
             ],
             [
              0.1111111111111111,
              "#46039f"
             ],
             [
              0.2222222222222222,
              "#7201a8"
             ],
             [
              0.3333333333333333,
              "#9c179e"
             ],
             [
              0.4444444444444444,
              "#bd3786"
             ],
             [
              0.5555555555555556,
              "#d8576b"
             ],
             [
              0.6666666666666666,
              "#ed7953"
             ],
             [
              0.7777777777777778,
              "#fb9f3a"
             ],
             [
              0.8888888888888888,
              "#fdca26"
             ],
             [
              1,
              "#f0f921"
             ]
            ],
            "type": "heatmap"
           }
          ],
          "heatmapgl": [
           {
            "colorbar": {
             "outlinewidth": 0,
             "ticks": ""
            },
            "colorscale": [
             [
              0,
              "#0d0887"
             ],
             [
              0.1111111111111111,
              "#46039f"
             ],
             [
              0.2222222222222222,
              "#7201a8"
             ],
             [
              0.3333333333333333,
              "#9c179e"
             ],
             [
              0.4444444444444444,
              "#bd3786"
             ],
             [
              0.5555555555555556,
              "#d8576b"
             ],
             [
              0.6666666666666666,
              "#ed7953"
             ],
             [
              0.7777777777777778,
              "#fb9f3a"
             ],
             [
              0.8888888888888888,
              "#fdca26"
             ],
             [
              1,
              "#f0f921"
             ]
            ],
            "type": "heatmapgl"
           }
          ],
          "histogram": [
           {
            "marker": {
             "pattern": {
              "fillmode": "overlay",
              "size": 10,
              "solidity": 0.2
             }
            },
            "type": "histogram"
           }
          ],
          "histogram2d": [
           {
            "colorbar": {
             "outlinewidth": 0,
             "ticks": ""
            },
            "colorscale": [
             [
              0,
              "#0d0887"
             ],
             [
              0.1111111111111111,
              "#46039f"
             ],
             [
              0.2222222222222222,
              "#7201a8"
             ],
             [
              0.3333333333333333,
              "#9c179e"
             ],
             [
              0.4444444444444444,
              "#bd3786"
             ],
             [
              0.5555555555555556,
              "#d8576b"
             ],
             [
              0.6666666666666666,
              "#ed7953"
             ],
             [
              0.7777777777777778,
              "#fb9f3a"
             ],
             [
              0.8888888888888888,
              "#fdca26"
             ],
             [
              1,
              "#f0f921"
             ]
            ],
            "type": "histogram2d"
           }
          ],
          "histogram2dcontour": [
           {
            "colorbar": {
             "outlinewidth": 0,
             "ticks": ""
            },
            "colorscale": [
             [
              0,
              "#0d0887"
             ],
             [
              0.1111111111111111,
              "#46039f"
             ],
             [
              0.2222222222222222,
              "#7201a8"
             ],
             [
              0.3333333333333333,
              "#9c179e"
             ],
             [
              0.4444444444444444,
              "#bd3786"
             ],
             [
              0.5555555555555556,
              "#d8576b"
             ],
             [
              0.6666666666666666,
              "#ed7953"
             ],
             [
              0.7777777777777778,
              "#fb9f3a"
             ],
             [
              0.8888888888888888,
              "#fdca26"
             ],
             [
              1,
              "#f0f921"
             ]
            ],
            "type": "histogram2dcontour"
           }
          ],
          "mesh3d": [
           {
            "colorbar": {
             "outlinewidth": 0,
             "ticks": ""
            },
            "type": "mesh3d"
           }
          ],
          "parcoords": [
           {
            "line": {
             "colorbar": {
              "outlinewidth": 0,
              "ticks": ""
             }
            },
            "type": "parcoords"
           }
          ],
          "pie": [
           {
            "automargin": true,
            "type": "pie"
           }
          ],
          "scatter": [
           {
            "fillpattern": {
             "fillmode": "overlay",
             "size": 10,
             "solidity": 0.2
            },
            "type": "scatter"
           }
          ],
          "scatter3d": [
           {
            "line": {
             "colorbar": {
              "outlinewidth": 0,
              "ticks": ""
             }
            },
            "marker": {
             "colorbar": {
              "outlinewidth": 0,
              "ticks": ""
             }
            },
            "type": "scatter3d"
           }
          ],
          "scattercarpet": [
           {
            "marker": {
             "colorbar": {
              "outlinewidth": 0,
              "ticks": ""
             }
            },
            "type": "scattercarpet"
           }
          ],
          "scattergeo": [
           {
            "marker": {
             "colorbar": {
              "outlinewidth": 0,
              "ticks": ""
             }
            },
            "type": "scattergeo"
           }
          ],
          "scattergl": [
           {
            "marker": {
             "colorbar": {
              "outlinewidth": 0,
              "ticks": ""
             }
            },
            "type": "scattergl"
           }
          ],
          "scattermapbox": [
           {
            "marker": {
             "colorbar": {
              "outlinewidth": 0,
              "ticks": ""
             }
            },
            "type": "scattermapbox"
           }
          ],
          "scatterpolar": [
           {
            "marker": {
             "colorbar": {
              "outlinewidth": 0,
              "ticks": ""
             }
            },
            "type": "scatterpolar"
           }
          ],
          "scatterpolargl": [
           {
            "marker": {
             "colorbar": {
              "outlinewidth": 0,
              "ticks": ""
             }
            },
            "type": "scatterpolargl"
           }
          ],
          "scatterternary": [
           {
            "marker": {
             "colorbar": {
              "outlinewidth": 0,
              "ticks": ""
             }
            },
            "type": "scatterternary"
           }
          ],
          "surface": [
           {
            "colorbar": {
             "outlinewidth": 0,
             "ticks": ""
            },
            "colorscale": [
             [
              0,
              "#0d0887"
             ],
             [
              0.1111111111111111,
              "#46039f"
             ],
             [
              0.2222222222222222,
              "#7201a8"
             ],
             [
              0.3333333333333333,
              "#9c179e"
             ],
             [
              0.4444444444444444,
              "#bd3786"
             ],
             [
              0.5555555555555556,
              "#d8576b"
             ],
             [
              0.6666666666666666,
              "#ed7953"
             ],
             [
              0.7777777777777778,
              "#fb9f3a"
             ],
             [
              0.8888888888888888,
              "#fdca26"
             ],
             [
              1,
              "#f0f921"
             ]
            ],
            "type": "surface"
           }
          ],
          "table": [
           {
            "cells": {
             "fill": {
              "color": "#EBF0F8"
             },
             "line": {
              "color": "white"
             }
            },
            "header": {
             "fill": {
              "color": "#C8D4E3"
             },
             "line": {
              "color": "white"
             }
            },
            "type": "table"
           }
          ]
         },
         "layout": {
          "annotationdefaults": {
           "arrowcolor": "#2a3f5f",
           "arrowhead": 0,
           "arrowwidth": 1
          },
          "autotypenumbers": "strict",
          "coloraxis": {
           "colorbar": {
            "outlinewidth": 0,
            "ticks": ""
           }
          },
          "colorscale": {
           "diverging": [
            [
             0,
             "#8e0152"
            ],
            [
             0.1,
             "#c51b7d"
            ],
            [
             0.2,
             "#de77ae"
            ],
            [
             0.3,
             "#f1b6da"
            ],
            [
             0.4,
             "#fde0ef"
            ],
            [
             0.5,
             "#f7f7f7"
            ],
            [
             0.6,
             "#e6f5d0"
            ],
            [
             0.7,
             "#b8e186"
            ],
            [
             0.8,
             "#7fbc41"
            ],
            [
             0.9,
             "#4d9221"
            ],
            [
             1,
             "#276419"
            ]
           ],
           "sequential": [
            [
             0,
             "#0d0887"
            ],
            [
             0.1111111111111111,
             "#46039f"
            ],
            [
             0.2222222222222222,
             "#7201a8"
            ],
            [
             0.3333333333333333,
             "#9c179e"
            ],
            [
             0.4444444444444444,
             "#bd3786"
            ],
            [
             0.5555555555555556,
             "#d8576b"
            ],
            [
             0.6666666666666666,
             "#ed7953"
            ],
            [
             0.7777777777777778,
             "#fb9f3a"
            ],
            [
             0.8888888888888888,
             "#fdca26"
            ],
            [
             1,
             "#f0f921"
            ]
           ],
           "sequentialminus": [
            [
             0,
             "#0d0887"
            ],
            [
             0.1111111111111111,
             "#46039f"
            ],
            [
             0.2222222222222222,
             "#7201a8"
            ],
            [
             0.3333333333333333,
             "#9c179e"
            ],
            [
             0.4444444444444444,
             "#bd3786"
            ],
            [
             0.5555555555555556,
             "#d8576b"
            ],
            [
             0.6666666666666666,
             "#ed7953"
            ],
            [
             0.7777777777777778,
             "#fb9f3a"
            ],
            [
             0.8888888888888888,
             "#fdca26"
            ],
            [
             1,
             "#f0f921"
            ]
           ]
          },
          "colorway": [
           "#636efa",
           "#EF553B",
           "#00cc96",
           "#ab63fa",
           "#FFA15A",
           "#19d3f3",
           "#FF6692",
           "#B6E880",
           "#FF97FF",
           "#FECB52"
          ],
          "font": {
           "color": "#2a3f5f"
          },
          "geo": {
           "bgcolor": "white",
           "lakecolor": "white",
           "landcolor": "#E5ECF6",
           "showlakes": true,
           "showland": true,
           "subunitcolor": "white"
          },
          "hoverlabel": {
           "align": "left"
          },
          "hovermode": "closest",
          "mapbox": {
           "style": "light"
          },
          "paper_bgcolor": "white",
          "plot_bgcolor": "#E5ECF6",
          "polar": {
           "angularaxis": {
            "gridcolor": "white",
            "linecolor": "white",
            "ticks": ""
           },
           "bgcolor": "#E5ECF6",
           "radialaxis": {
            "gridcolor": "white",
            "linecolor": "white",
            "ticks": ""
           }
          },
          "scene": {
           "xaxis": {
            "backgroundcolor": "#E5ECF6",
            "gridcolor": "white",
            "gridwidth": 2,
            "linecolor": "white",
            "showbackground": true,
            "ticks": "",
            "zerolinecolor": "white"
           },
           "yaxis": {
            "backgroundcolor": "#E5ECF6",
            "gridcolor": "white",
            "gridwidth": 2,
            "linecolor": "white",
            "showbackground": true,
            "ticks": "",
            "zerolinecolor": "white"
           },
           "zaxis": {
            "backgroundcolor": "#E5ECF6",
            "gridcolor": "white",
            "gridwidth": 2,
            "linecolor": "white",
            "showbackground": true,
            "ticks": "",
            "zerolinecolor": "white"
           }
          },
          "shapedefaults": {
           "line": {
            "color": "#2a3f5f"
           }
          },
          "ternary": {
           "aaxis": {
            "gridcolor": "white",
            "linecolor": "white",
            "ticks": ""
           },
           "baxis": {
            "gridcolor": "white",
            "linecolor": "white",
            "ticks": ""
           },
           "bgcolor": "#E5ECF6",
           "caxis": {
            "gridcolor": "white",
            "linecolor": "white",
            "ticks": ""
           }
          },
          "title": {
           "x": 0.05
          },
          "xaxis": {
           "automargin": true,
           "gridcolor": "white",
           "linecolor": "white",
           "ticks": "",
           "title": {
            "standoff": 15
           },
           "zerolinecolor": "white",
           "zerolinewidth": 2
          },
          "yaxis": {
           "automargin": true,
           "gridcolor": "white",
           "linecolor": "white",
           "ticks": "",
           "title": {
            "standoff": 15
           },
           "zerolinecolor": "white",
           "zerolinewidth": 2
          }
         }
        },
        "title": {
         "text": "100 Most Abundant Leaf Microbe Genera by Site PCA"
        },
        "xaxis": {
         "anchor": "y",
         "domain": [
          0,
          1
         ],
         "title": {
          "text": "PC1 40.2%"
         }
        },
        "yaxis": {
         "anchor": "x",
         "domain": [
          0,
          1
         ],
         "title": {
          "text": "PC2 14.4%"
         }
        }
       }
      },
      "text/html": [
       "<div>                            <div id=\"361beea9-017b-4813-b4ef-84a955781d50\" class=\"plotly-graph-div\" style=\"height:525px; width:100%;\"></div>            <script type=\"text/javascript\">                require([\"plotly\"], function(Plotly) {                    window.PLOTLYENV=window.PLOTLYENV || {};                                    if (document.getElementById(\"361beea9-017b-4813-b4ef-84a955781d50\")) {                    Plotly.newPlot(                        \"361beea9-017b-4813-b4ef-84a955781d50\",                        [{\"hovertemplate\":\"color=Cole Mountain<br>0=%{x}<br>1=%{y}<extra></extra>\",\"legendgroup\":\"Cole Mountain\",\"marker\":{\"color\":\"#636efa\",\"symbol\":\"circle\"},\"mode\":\"markers\",\"name\":\"Cole Mountain\",\"orientation\":\"v\",\"showlegend\":true,\"x\":[-1.063021099204292,-1.203705721047707,-1.3799651234464145,-2.0350762475042457,-1.318304093442492,-1.4738852797066098,-1.2938859370894844,-1.466776519470204,-2.08413779241431,-1.3937281770811738,-1.8242335831158623,-2.1503650710393525,-1.2351412989127848,-2.4818454591362125,-1.6723754807758233,-1.4060738917010467,-1.4822760038628056,-1.4265161109858575,-1.3115899300497065,2.755046422889648,2.681343353966249,3.196667299820461,2.971404674466829,2.7578586339852835,3.0125021790551867,2.6558502204312164,3.4203781726356364,2.8173002354180956,2.5681745204403006,2.85992311518383,-1.4943613308125487,-1.5035238764664507,-1.5354698281811603,-1.9864831732357873,-1.4188642520477268,-1.5649257776349226,-1.3058464946400792,-1.4811443894831717,-1.592790649656509,-1.4053925634284676,-1.3657032743607693,-1.2224919163609111,-1.8543345887664737,-1.2049531681469425,-1.854566695124024,-0.9617697060839887,-1.263498854570442,-1.7753719360814988,-1.4305953480486167,-1.0806510105236085,-1.2431615889218386,-2.225970564104244,-1.2890410383159043,-2.447310174853254,-1.2687928883395838,-1.3249639756675748,-1.3697432117688226,-1.6515739495063921,-1.3894349398591808,-1.5824011601875163,-1.6082086607529589,-1.6985284859229723,3.4274419038208785,3.799600478346079,3.528095682799023,3.119940058227221,3.035182582083969,3.538990898672207,3.0508580672875185,2.9104761934245356,2.9741013319305036,3.131079396023093,3.1005655500940965,3.1551508675645255,3.4641619788920037,3.5871396658682806,3.3587855894674274,3.712645229542286,3.136247778080847],\"xaxis\":\"x\",\"y\":[-0.14811031817668244,-0.005748571090354935,-0.3375209876699343,-0.39676839033137123,-0.05044592049365779,0.38422866908926473,-0.09165912999616735,-0.31509203658351453,-1.281909723334775,-0.3140336639553755,-0.060800860893531615,-0.014219045735662513,-0.17962687917173398,0.16777706622364486,-0.17053622800545296,-0.15290670849697002,0.11120978797600627,-1.362899571127082,0.36662958543797636,-0.10410243345292018,-0.0031175239401150965,-0.1795869484039073,-0.3803122495390812,0.29254233445990463,-0.03005072919547857,-0.13069929808627972,0.22357867033681633,-0.30923796881407994,-0.4835160395093973,0.2976423878356169,-0.7900610225673182,-0.567444172339225,0.0007661412688865163,0.7028400688053803,-0.378431195562914,-0.6701038672975813,-0.3460639639570596,0.43471610010618456,0.18692433480302814,0.00034438776038477243,0.2462276397945624,-0.23703979388873525,-0.26917738629221755,-0.5318653103280789,-0.813785085873951,0.037939742553364984,-0.5119515405156083,-0.5602546660559778,-0.6248493857611678,-1.6537583054019713,-1.609669259377911,0.2905554729353526,-0.4807426905199639,-0.12338330001113987,-0.9420485488482706,-0.9080907323902516,-0.8362477831926879,-0.22528298626067314,-0.2219161481524788,-0.5895423070110617,-0.44863251771845536,-0.07706342450974009,0.3160827102515962,-0.8450729227176672,-0.42414723272183813,-0.2992949601491886,0.26012415626431534,-0.4523081758622895,-0.4235316956925428,-0.5132217840216023,-0.3377536981272139,-0.78197610328639,0.2204317155073194,-0.428415654672731,-0.246952516407792,-0.30330482622870375,0.3058451361203967,0.03244051984687558,-0.32216823500603936],\"yaxis\":\"y\",\"type\":\"scatter\"},{\"hovertemplate\":\"color=HR<br>0=%{x}<br>1=%{y}<extra></extra>\",\"legendgroup\":\"HR\",\"marker\":{\"color\":\"#EF553B\",\"symbol\":\"circle\"},\"mode\":\"markers\",\"name\":\"HR\",\"orientation\":\"v\",\"showlegend\":true,\"x\":[-1.6926237634633408,-1.065173970596198,-1.7359293931425546,-1.2401579330270547],\"xaxis\":\"x\",\"y\":[-2.6822157042885695,1.5035793377708877,2.1140304486653148,3.7945569775762986],\"yaxis\":\"y\",\"type\":\"scatter\"},{\"hovertemplate\":\"color=Wintergreen<br>0=%{x}<br>1=%{y}<extra></extra>\",\"legendgroup\":\"Wintergreen\",\"marker\":{\"color\":\"#00cc96\",\"symbol\":\"circle\"},\"mode\":\"markers\",\"name\":\"Wintergreen\",\"orientation\":\"v\",\"showlegend\":true,\"x\":[-0.9473361198137696,-0.8511553402169783,-1.271378932335994,-1.0943116147490488,-0.9626681674886655,-1.0880012023080694,-1.038670153431609,-1.2458295022520873,-1.2324552844027665,-1.2559673256993797,-0.9651359339647327,-0.982040533944664,-1.1529512003995988,-1.2746866138330575,-1.0244879779144647,-1.1188891545454576,-0.9885377087394347,-1.1656510673277074,-1.0251730310443865,-1.1808826034686348,-1.157568674109147,-0.9375594115180036,-1.1119552851236383,-0.9212231799750267,-1.1052333136670183,-1.1046668187477533,-1.090717629606001,-1.2890780714805052,-1.0110463908330645,-0.7154321746161333,-0.5738293521457046,-0.8288986446432086,1.2564838292690792,0.8747839039958186,1.2262978607830708,-0.9392362587960761,-0.5649564125856363,-0.7502683071463646,-0.5728223992208685,-0.5434101107636619,-1.079208060373281,-2.6928157020719286,-2.063430773478101,-0.4093257661353741,0.3432660115674458,-1.3082223487645095,1.201808644714608,-0.8606813890625438,0.9327697362375094,-0.92109110544815,0.8841097512968714],\"xaxis\":\"x\",\"y\":[-0.4928538528615294,0.1645673160042761,0.18410153761811351,0.5047004857621383,0.5400971867448479,0.4911397132310776,0.7112775050203165,0.565635278290718,0.6088051811360148,0.1364963472698126,0.49263695770755167,0.3378555476288279,-0.0457153271376788,0.7647342491147776,0.15139244732407373,0.016939048265088952,-0.4501392474862263,-0.10977366158404835,0.7609226443237241,0.6046660496580452,0.0859738643055809,0.687961826312643,-0.22510953766649663,0.4226862693093737,0.1500312219040411,-0.0443644098847583,-0.3525867582784927,0.2280318909389853,-0.29810976209856443,-0.9034309616009987,-0.7506304069427161,-0.5851761164327531,4.447241449221205,1.3041673588348828,4.014969611410207,-0.04050196646561797,6.104792639971737,-4.814739334318871,-3.2214637434773525,-0.3895556943867414,-2.114813855959116,0.9546075338719819,-0.15353250033113447,-0.09997402738881478,1.287373775734128,0.27078331134800665,3.819940368978464,-2.4008657311129333,2.1895425233653922,-0.8387976074551763,3.2147235286817026],\"yaxis\":\"y\",\"type\":\"scatter\"},{\"hovertemplate\":\"color=Blacksburg<br>0=%{x}<br>1=%{y}<extra></extra>\",\"legendgroup\":\"Blacksburg\",\"marker\":{\"color\":\"#ab63fa\",\"symbol\":\"circle\"},\"mode\":\"markers\",\"name\":\"Blacksburg\",\"orientation\":\"v\",\"showlegend\":true,\"x\":[0.1301465382167952,-0.7889572554439387,-1.5508335999934728,-1.140341691460312,-1.4645140443765572,-0.9013883636380312,-1.4860642943925428,-1.4873957045247717,3.0753910895345453,3.3236667635584456,3.2456460818447854,3.271279413294951,3.777787313385977,3.149152434022864,2.886163106124504,3.238855058791017,3.468765557833568,3.349779787609891,2.7115812499006817,3.052384712790353,2.822547726643642,3.1274607022580496],\"xaxis\":\"x\",\"y\":[0.4651509131635532,-1.0408488736800996,1.1100707731716857,0.3534717551306103,1.1804001912868107,-1.25351906312428,1.54637705724407,1.6746266002317653,-0.2598865279413795,-0.8234423849121002,0.298675620030242,0.09416154648988725,0.4085897692852555,-0.4395753934574565,-0.22077523615398648,-0.9089882136562623,-0.245870440518817,0.25980539672894315,-0.6187778191018123,-1.1060171457425374,-1.0068968124016535,-0.663735140859],\"yaxis\":\"y\",\"type\":\"scatter\"}],                        {\"template\":{\"data\":{\"histogram2dcontour\":[{\"type\":\"histogram2dcontour\",\"colorbar\":{\"outlinewidth\":0,\"ticks\":\"\"},\"colorscale\":[[0.0,\"#0d0887\"],[0.1111111111111111,\"#46039f\"],[0.2222222222222222,\"#7201a8\"],[0.3333333333333333,\"#9c179e\"],[0.4444444444444444,\"#bd3786\"],[0.5555555555555556,\"#d8576b\"],[0.6666666666666666,\"#ed7953\"],[0.7777777777777778,\"#fb9f3a\"],[0.8888888888888888,\"#fdca26\"],[1.0,\"#f0f921\"]]}],\"choropleth\":[{\"type\":\"choropleth\",\"colorbar\":{\"outlinewidth\":0,\"ticks\":\"\"}}],\"histogram2d\":[{\"type\":\"histogram2d\",\"colorbar\":{\"outlinewidth\":0,\"ticks\":\"\"},\"colorscale\":[[0.0,\"#0d0887\"],[0.1111111111111111,\"#46039f\"],[0.2222222222222222,\"#7201a8\"],[0.3333333333333333,\"#9c179e\"],[0.4444444444444444,\"#bd3786\"],[0.5555555555555556,\"#d8576b\"],[0.6666666666666666,\"#ed7953\"],[0.7777777777777778,\"#fb9f3a\"],[0.8888888888888888,\"#fdca26\"],[1.0,\"#f0f921\"]]}],\"heatmap\":[{\"type\":\"heatmap\",\"colorbar\":{\"outlinewidth\":0,\"ticks\":\"\"},\"colorscale\":[[0.0,\"#0d0887\"],[0.1111111111111111,\"#46039f\"],[0.2222222222222222,\"#7201a8\"],[0.3333333333333333,\"#9c179e\"],[0.4444444444444444,\"#bd3786\"],[0.5555555555555556,\"#d8576b\"],[0.6666666666666666,\"#ed7953\"],[0.7777777777777778,\"#fb9f3a\"],[0.8888888888888888,\"#fdca26\"],[1.0,\"#f0f921\"]]}],\"heatmapgl\":[{\"type\":\"heatmapgl\",\"colorbar\":{\"outlinewidth\":0,\"ticks\":\"\"},\"colorscale\":[[0.0,\"#0d0887\"],[0.1111111111111111,\"#46039f\"],[0.2222222222222222,\"#7201a8\"],[0.3333333333333333,\"#9c179e\"],[0.4444444444444444,\"#bd3786\"],[0.5555555555555556,\"#d8576b\"],[0.6666666666666666,\"#ed7953\"],[0.7777777777777778,\"#fb9f3a\"],[0.8888888888888888,\"#fdca26\"],[1.0,\"#f0f921\"]]}],\"contourcarpet\":[{\"type\":\"contourcarpet\",\"colorbar\":{\"outlinewidth\":0,\"ticks\":\"\"}}],\"contour\":[{\"type\":\"contour\",\"colorbar\":{\"outlinewidth\":0,\"ticks\":\"\"},\"colorscale\":[[0.0,\"#0d0887\"],[0.1111111111111111,\"#46039f\"],[0.2222222222222222,\"#7201a8\"],[0.3333333333333333,\"#9c179e\"],[0.4444444444444444,\"#bd3786\"],[0.5555555555555556,\"#d8576b\"],[0.6666666666666666,\"#ed7953\"],[0.7777777777777778,\"#fb9f3a\"],[0.8888888888888888,\"#fdca26\"],[1.0,\"#f0f921\"]]}],\"surface\":[{\"type\":\"surface\",\"colorbar\":{\"outlinewidth\":0,\"ticks\":\"\"},\"colorscale\":[[0.0,\"#0d0887\"],[0.1111111111111111,\"#46039f\"],[0.2222222222222222,\"#7201a8\"],[0.3333333333333333,\"#9c179e\"],[0.4444444444444444,\"#bd3786\"],[0.5555555555555556,\"#d8576b\"],[0.6666666666666666,\"#ed7953\"],[0.7777777777777778,\"#fb9f3a\"],[0.8888888888888888,\"#fdca26\"],[1.0,\"#f0f921\"]]}],\"mesh3d\":[{\"type\":\"mesh3d\",\"colorbar\":{\"outlinewidth\":0,\"ticks\":\"\"}}],\"scatter\":[{\"fillpattern\":{\"fillmode\":\"overlay\",\"size\":10,\"solidity\":0.2},\"type\":\"scatter\"}],\"parcoords\":[{\"type\":\"parcoords\",\"line\":{\"colorbar\":{\"outlinewidth\":0,\"ticks\":\"\"}}}],\"scatterpolargl\":[{\"type\":\"scatterpolargl\",\"marker\":{\"colorbar\":{\"outlinewidth\":0,\"ticks\":\"\"}}}],\"bar\":[{\"error_x\":{\"color\":\"#2a3f5f\"},\"error_y\":{\"color\":\"#2a3f5f\"},\"marker\":{\"line\":{\"color\":\"#E5ECF6\",\"width\":0.5},\"pattern\":{\"fillmode\":\"overlay\",\"size\":10,\"solidity\":0.2}},\"type\":\"bar\"}],\"scattergeo\":[{\"type\":\"scattergeo\",\"marker\":{\"colorbar\":{\"outlinewidth\":0,\"ticks\":\"\"}}}],\"scatterpolar\":[{\"type\":\"scatterpolar\",\"marker\":{\"colorbar\":{\"outlinewidth\":0,\"ticks\":\"\"}}}],\"histogram\":[{\"marker\":{\"pattern\":{\"fillmode\":\"overlay\",\"size\":10,\"solidity\":0.2}},\"type\":\"histogram\"}],\"scattergl\":[{\"type\":\"scattergl\",\"marker\":{\"colorbar\":{\"outlinewidth\":0,\"ticks\":\"\"}}}],\"scatter3d\":[{\"type\":\"scatter3d\",\"line\":{\"colorbar\":{\"outlinewidth\":0,\"ticks\":\"\"}},\"marker\":{\"colorbar\":{\"outlinewidth\":0,\"ticks\":\"\"}}}],\"scattermapbox\":[{\"type\":\"scattermapbox\",\"marker\":{\"colorbar\":{\"outlinewidth\":0,\"ticks\":\"\"}}}],\"scatterternary\":[{\"type\":\"scatterternary\",\"marker\":{\"colorbar\":{\"outlinewidth\":0,\"ticks\":\"\"}}}],\"scattercarpet\":[{\"type\":\"scattercarpet\",\"marker\":{\"colorbar\":{\"outlinewidth\":0,\"ticks\":\"\"}}}],\"carpet\":[{\"aaxis\":{\"endlinecolor\":\"#2a3f5f\",\"gridcolor\":\"white\",\"linecolor\":\"white\",\"minorgridcolor\":\"white\",\"startlinecolor\":\"#2a3f5f\"},\"baxis\":{\"endlinecolor\":\"#2a3f5f\",\"gridcolor\":\"white\",\"linecolor\":\"white\",\"minorgridcolor\":\"white\",\"startlinecolor\":\"#2a3f5f\"},\"type\":\"carpet\"}],\"table\":[{\"cells\":{\"fill\":{\"color\":\"#EBF0F8\"},\"line\":{\"color\":\"white\"}},\"header\":{\"fill\":{\"color\":\"#C8D4E3\"},\"line\":{\"color\":\"white\"}},\"type\":\"table\"}],\"barpolar\":[{\"marker\":{\"line\":{\"color\":\"#E5ECF6\",\"width\":0.5},\"pattern\":{\"fillmode\":\"overlay\",\"size\":10,\"solidity\":0.2}},\"type\":\"barpolar\"}],\"pie\":[{\"automargin\":true,\"type\":\"pie\"}]},\"layout\":{\"autotypenumbers\":\"strict\",\"colorway\":[\"#636efa\",\"#EF553B\",\"#00cc96\",\"#ab63fa\",\"#FFA15A\",\"#19d3f3\",\"#FF6692\",\"#B6E880\",\"#FF97FF\",\"#FECB52\"],\"font\":{\"color\":\"#2a3f5f\"},\"hovermode\":\"closest\",\"hoverlabel\":{\"align\":\"left\"},\"paper_bgcolor\":\"white\",\"plot_bgcolor\":\"#E5ECF6\",\"polar\":{\"bgcolor\":\"#E5ECF6\",\"angularaxis\":{\"gridcolor\":\"white\",\"linecolor\":\"white\",\"ticks\":\"\"},\"radialaxis\":{\"gridcolor\":\"white\",\"linecolor\":\"white\",\"ticks\":\"\"}},\"ternary\":{\"bgcolor\":\"#E5ECF6\",\"aaxis\":{\"gridcolor\":\"white\",\"linecolor\":\"white\",\"ticks\":\"\"},\"baxis\":{\"gridcolor\":\"white\",\"linecolor\":\"white\",\"ticks\":\"\"},\"caxis\":{\"gridcolor\":\"white\",\"linecolor\":\"white\",\"ticks\":\"\"}},\"coloraxis\":{\"colorbar\":{\"outlinewidth\":0,\"ticks\":\"\"}},\"colorscale\":{\"sequential\":[[0.0,\"#0d0887\"],[0.1111111111111111,\"#46039f\"],[0.2222222222222222,\"#7201a8\"],[0.3333333333333333,\"#9c179e\"],[0.4444444444444444,\"#bd3786\"],[0.5555555555555556,\"#d8576b\"],[0.6666666666666666,\"#ed7953\"],[0.7777777777777778,\"#fb9f3a\"],[0.8888888888888888,\"#fdca26\"],[1.0,\"#f0f921\"]],\"sequentialminus\":[[0.0,\"#0d0887\"],[0.1111111111111111,\"#46039f\"],[0.2222222222222222,\"#7201a8\"],[0.3333333333333333,\"#9c179e\"],[0.4444444444444444,\"#bd3786\"],[0.5555555555555556,\"#d8576b\"],[0.6666666666666666,\"#ed7953\"],[0.7777777777777778,\"#fb9f3a\"],[0.8888888888888888,\"#fdca26\"],[1.0,\"#f0f921\"]],\"diverging\":[[0,\"#8e0152\"],[0.1,\"#c51b7d\"],[0.2,\"#de77ae\"],[0.3,\"#f1b6da\"],[0.4,\"#fde0ef\"],[0.5,\"#f7f7f7\"],[0.6,\"#e6f5d0\"],[0.7,\"#b8e186\"],[0.8,\"#7fbc41\"],[0.9,\"#4d9221\"],[1,\"#276419\"]]},\"xaxis\":{\"gridcolor\":\"white\",\"linecolor\":\"white\",\"ticks\":\"\",\"title\":{\"standoff\":15},\"zerolinecolor\":\"white\",\"automargin\":true,\"zerolinewidth\":2},\"yaxis\":{\"gridcolor\":\"white\",\"linecolor\":\"white\",\"ticks\":\"\",\"title\":{\"standoff\":15},\"zerolinecolor\":\"white\",\"automargin\":true,\"zerolinewidth\":2},\"scene\":{\"xaxis\":{\"backgroundcolor\":\"#E5ECF6\",\"gridcolor\":\"white\",\"linecolor\":\"white\",\"showbackground\":true,\"ticks\":\"\",\"zerolinecolor\":\"white\",\"gridwidth\":2},\"yaxis\":{\"backgroundcolor\":\"#E5ECF6\",\"gridcolor\":\"white\",\"linecolor\":\"white\",\"showbackground\":true,\"ticks\":\"\",\"zerolinecolor\":\"white\",\"gridwidth\":2},\"zaxis\":{\"backgroundcolor\":\"#E5ECF6\",\"gridcolor\":\"white\",\"linecolor\":\"white\",\"showbackground\":true,\"ticks\":\"\",\"zerolinecolor\":\"white\",\"gridwidth\":2}},\"shapedefaults\":{\"line\":{\"color\":\"#2a3f5f\"}},\"annotationdefaults\":{\"arrowcolor\":\"#2a3f5f\",\"arrowhead\":0,\"arrowwidth\":1},\"geo\":{\"bgcolor\":\"white\",\"landcolor\":\"#E5ECF6\",\"subunitcolor\":\"white\",\"showland\":true,\"showlakes\":true,\"lakecolor\":\"white\"},\"title\":{\"x\":0.05},\"mapbox\":{\"style\":\"light\"}}},\"xaxis\":{\"anchor\":\"y\",\"domain\":[0.0,1.0],\"title\":{\"text\":\"PC1 40.2%\"}},\"yaxis\":{\"anchor\":\"x\",\"domain\":[0.0,1.0],\"title\":{\"text\":\"PC2 14.4%\"}},\"legend\":{\"title\":{\"text\":\"color\"},\"tracegroupgap\":0},\"margin\":{\"t\":60},\"title\":{\"text\":\"100 Most Abundant Leaf Microbe Genera by Site PCA\"}},                        {\"responsive\": true}                    ).then(function(){\n",
       "                            \n",
       "var gd = document.getElementById('361beea9-017b-4813-b4ef-84a955781d50');\n",
       "var x = new MutationObserver(function (mutations, observer) {{\n",
       "        var display = window.getComputedStyle(gd).display;\n",
       "        if (!display || display === 'none') {{\n",
       "            console.log([gd, 'removed!']);\n",
       "            Plotly.purge(gd);\n",
       "            observer.disconnect();\n",
       "        }}\n",
       "}});\n",
       "\n",
       "// Listen for the removal of the full notebook cells\n",
       "var notebookContainer = gd.closest('#notebook-container');\n",
       "if (notebookContainer) {{\n",
       "    x.observe(notebookContainer, {childList: true});\n",
       "}}\n",
       "\n",
       "// Listen for the clearing of the current output cell\n",
       "var outputEl = gd.closest('.output');\n",
       "if (outputEl) {{\n",
       "    x.observe(outputEl, {childList: true});\n",
       "}}\n",
       "\n",
       "                        })                };                });            </script>        </div>"
      ]
     },
     "metadata": {},
     "output_type": "display_data"
    }
   ],
   "source": [
    "X = pc2_df[top_100.index]\n",
    "\n",
    "pca = PCA(n_components=2)\n",
    "components = pca.fit_transform(X)\n",
    "\n",
    "fig = px.scatter(components, x=0, y=1, color=pc2_df['site_id'])\n",
    "fig.update_layout(\n",
    "    title = \"100 Most Abundant Leaf Microbe Genera by Site PCA\",\n",
    "    xaxis_title=\"PC1 \" + str(round(100*pca.explained_variance_ratio_[0], 1)) + '%',\n",
    "    yaxis_title=\"PC2 \" + str(round(100*pca.explained_variance_ratio_[1], 1)) + '%')\n",
    "fig.show()"
   ]
  },
  {
   "cell_type": "code",
   "execution_count": 21,
   "id": "c5c27e6c",
   "metadata": {},
   "outputs": [],
   "source": [
    "pc2_df['site_id'].replace({'CMB': 1, 'FRW': 1, 'LFS': 1, 'LM': 0, 'MMP': 1, 'MKP': 2,\n",
    "                    'PNR': 2, 'PTW': 0, 'RF': 2, 'RGT': 0, 'RRL': 0, 'SGC': 0, 'SLG': 1,'HR': 3}, inplace=True) #\n",
    "pc2_df = pc2_df[pc2_df[\"site_id\"].isin([0,1,2,3])]\n",
    "\n",
    "pc2_df['site_id'].unique()\n",
    "\n",
    "pc2_df['site_id'] = pc2_df['site_id'].replace([0], 'Wintergreen')\n",
    "pc2_df['site_id'] = pc2_df['site_id'].replace([1], 'Cole Mountain')\n",
    "pc2_df['site_id'] = pc2_df['site_id'].replace([2], 'Blacksburg')\n",
    "pc2_df['site_id'] = pc2_df['site_id'].replace([3], 'HR')"
   ]
  },
  {
   "cell_type": "code",
   "execution_count": 22,
   "id": "3c85f2fc",
   "metadata": {},
   "outputs": [
    {
     "data": {
      "application/vnd.plotly.v1+json": {
       "config": {
        "plotlyServerURL": "https://plot.ly"
       },
       "data": [
        {
         "hovertemplate": "color=Cole Mountain<br>0=%{x}<br>1=%{y}<extra></extra>",
         "legendgroup": "Cole Mountain",
         "marker": {
          "color": "#636efa",
          "symbol": "circle"
         },
         "mode": "markers",
         "name": "Cole Mountain",
         "orientation": "v",
         "showlegend": true,
         "type": "scatter",
         "x": [
          -18.445129415152,
          -17.607434654448344,
          -17.329390300274127,
          -7.39713203786074,
          -17.147965068230103,
          -4.967749373955504,
          -15.998257533990055,
          -12.784415534756773,
          -1.6091762336340316,
          -18.06112360818947,
          -15.48091258448164,
          -9.496618253093914,
          -15.849675889491055,
          -7.533562685997259,
          -12.568965306747545,
          -13.061208513948987,
          -17.205339918494577,
          -5.50534216562243,
          -17.463087587716213,
          25.64339090901556,
          23.725407647197933,
          23.40503531880145,
          25.088560197020247,
          24.098828333859128,
          25.281355871774622,
          24.527034893710333,
          23.722026065877017,
          25.291983095657546,
          23.28087000221166,
          24.814942816422832,
          -11.251813877461386,
          -11.719387653534245,
          -20.062271754155585,
          -12.804663195561156,
          -15.044520807580273,
          -12.944744938695518,
          -12.375843058153814,
          -15.116346649633776,
          -14.036799808489777,
          -14.397446322741233,
          -21.18452886257768,
          -17.633047935822855,
          -12.44490867912504,
          -16.158408710118163,
          -7.119140039516798,
          -19.08281211961441,
          -13.027071234126414,
          -10.678718397389249,
          -12.825229852395095,
          -10.818540445378037,
          -7.885929392865953,
          -11.809748175684371,
          -15.433335922234344,
          -7.076192956236394,
          -16.91259323070706,
          -13.902107247277282,
          -12.07272055599909,
          -17.621273707629715,
          -13.704361163503288,
          -13.217573803284006,
          -13.178821778940113,
          -12.053183608796596,
          24.702884838648146,
          26.91501934944353,
          25.440192949267235,
          26.01382868715176,
          24.961028045201452,
          25.10725797317074,
          26.152447759798896,
          26.33345010315042,
          26.297415742731417,
          26.716159622027952,
          23.789572522846512,
          26.59897037844412,
          25.116554550208946,
          25.1999269144908,
          23.175533278710123,
          25.588669861065377,
          25.45851799628183
         ],
         "xaxis": "x",
         "y": [
          -0.9848377687945421,
          -1.3579171114649307,
          -1.6065067819173362,
          6.568298655943331,
          -2.0743823011486024,
          5.034572796992868,
          -1.4428668010691192,
          3.4982868903954025,
          12.006213167289053,
          -3.7497833061103534,
          -0.3439150804226769,
          3.698615458133364,
          -1.6982819764107693,
          3.3342279911051564,
          2.009749158516368,
          1.4304289912853798,
          -2.0054532107645486,
          9.381627589531622,
          -2.555716416046443,
          -6.812358251188189,
          -2.9875785493142426,
          -4.554632338050553,
          -5.712725352690241,
          -3.8305224753231775,
          -5.980387276580716,
          -4.572387237252802,
          -2.9751242314906747,
          -5.977599971647783,
          -4.667442506272966,
          -5.2529347854218935,
          3.487436427147335,
          3.034100229754839,
          -5.985110031649741,
          -1.7255168652033723,
          -1.7800292453034665,
          0.3178466124054137,
          1.3700798694885037,
          -3.8533728794628566,
          -1.9617727489658316,
          -1.6307052513553246,
          -6.123476007421336,
          -3.2316252011779754,
          0.7300657097211118,
          -0.2045982536765442,
          5.037610427511138,
          -3.5008267625943374,
          1.3205383578215337,
          1.9740628293439408,
          0.8444575419570671,
          2.78845126647781,
          6.698967432943559,
          -0.22326306097717075,
          -0.7768026126692811,
          5.036475041177499,
          -1.7891169625525714,
          0.7996391675069108,
          2.0310045912883594,
          -3.326659060648652,
          -0.8091579299660994,
          -0.05070706625242056,
          -0.23249400082427643,
          0.10152139598446774,
          -5.552203657500516,
          -10.21697181769797,
          -5.838631907712585,
          -8.811834364837003,
          -4.278974196337022,
          -5.942981976766047,
          -9.217291351424143,
          -7.947140903954056,
          -7.896869952091225,
          -9.917469327920898,
          -3.1151730547931877,
          -7.79894474549868,
          -4.792859539016745,
          -5.484996343502984,
          -1.0799442312360203,
          -5.830189231430045,
          -5.978908284298755
         ],
         "yaxis": "y"
        },
        {
         "hovertemplate": "color=HR<br>0=%{x}<br>1=%{y}<extra></extra>",
         "legendgroup": "HR",
         "marker": {
          "color": "#EF553B",
          "symbol": "circle"
         },
         "mode": "markers",
         "name": "HR",
         "orientation": "v",
         "showlegend": true,
         "type": "scatter",
         "x": [
          5.7866614280345186,
          14.65823843577824,
          5.3113786830123715,
          10.530823538568209
         ],
         "xaxis": "x",
         "y": [
          15.206199552676559,
          16.5570556689864,
          14.069916035917872,
          17.68768019915197
         ],
         "yaxis": "y"
        },
        {
         "hovertemplate": "color=Wintergreen<br>0=%{x}<br>1=%{y}<extra></extra>",
         "legendgroup": "Wintergreen",
         "marker": {
          "color": "#00cc96",
          "symbol": "circle"
         },
         "mode": "markers",
         "name": "Wintergreen",
         "orientation": "v",
         "showlegend": true,
         "type": "scatter",
         "x": [
          -20.276557076428965,
          -18.48122203256458,
          -17.29033062632496,
          -17.510365543043626,
          -21.621944901322546,
          -18.348436647293173,
          -12.910043723194283,
          -18.22455995912229,
          -17.942048570968787,
          -15.858816537747169,
          -21.161885536451827,
          -20.087970985540327,
          -18.076779003459436,
          -19.21273376116758,
          -20.122076927039423,
          -18.709309934373895,
          -19.212777283762396,
          -14.287537730319142,
          -21.7364224748497,
          -19.423537624981822,
          -18.496181671467657,
          -20.23187283377886,
          -16.820763100689796,
          -21.784221790271374,
          -20.601466619358114,
          -16.008185929754124,
          -14.500184795818349,
          -17.84489380458847,
          -17.839267374444923,
          -14.115031954616274,
          -21.105348773927343,
          -16.92455697019582,
          16.13770563294387,
          17.22562502572933,
          17.170050083715108,
          17.102718520233648,
          15.407934224965222,
          8.211574070024279,
          -1.2147196363247672,
          6.795759274552593,
          5.948794322800099,
          14.855118172435558,
          11.212810287759185,
          13.767121348419382,
          9.13810249597604,
          12.628466511638765,
          15.564747825778019,
          14.008586109783618,
          13.912435156826298,
          14.998268207884845,
          15.558179362790534
         ],
         "xaxis": "x",
         "y": [
          -4.892175550378389,
          -5.251297138193174,
          -3.6975111112762344,
          -1.6905400129290575,
          -8.014845951943892,
          -3.0735128853620455,
          -1.773537231396065,
          -4.612211822318733,
          -4.397556701265597,
          -1.195969422367097,
          -5.745987086120886,
          -4.4038777326719005,
          -3.771697765248838,
          -5.5129104794230015,
          -5.116836940915253,
          -4.267394478806439,
          -2.981019243265156,
          0.01864273760935078,
          -8.25976313418338,
          -4.92253916881335,
          -4.1508109978427274,
          -5.264934870322736,
          -0.6137092328476861,
          -6.365317673243951,
          -4.708223235200919,
          -0.6269504289770856,
          0.9785387297154832,
          -3.7360652909285075,
          -2.528505856452007,
          0.586877254841457,
          -3.5987321389741225,
          -1.446738452576969,
          11.203231305658752,
          19.05202704820902,
          11.234582521752163,
          15.200173751272535,
          16.792582981436354,
          19.885345808685674,
          13.343219329588836,
          17.058543946635066,
          16.87100204409816,
          12.902673869729664,
          17.662368372667036,
          14.077101955528043,
          15.582995051844106,
          14.591101756893236,
          11.393511293451041,
          14.535781129945141,
          12.905045233744747,
          14.94731286762233,
          13.720362291517356
         ],
         "yaxis": "y"
        },
        {
         "hovertemplate": "color=Blacksburg<br>0=%{x}<br>1=%{y}<extra></extra>",
         "legendgroup": "Blacksburg",
         "marker": {
          "color": "#ab63fa",
          "symbol": "circle"
         },
         "mode": "markers",
         "name": "Blacksburg",
         "orientation": "v",
         "showlegend": true,
         "type": "scatter",
         "x": [
          16.654053474201554,
          -14.151429063847342,
          -14.638224138587805,
          -20.059293456721218,
          -13.920706353254918,
          -12.058703001465634,
          -6.128277918174116,
          -9.69432651932338,
          25.98153213921891,
          25.68047009279564,
          25.076090409888568,
          25.027762251868094,
          25.128671452655002,
          26.390996245100595,
          26.066498877719695,
          26.645633835415268,
          25.178095094041453,
          25.16762484090884,
          27.553929663009942,
          26.7188527351326,
          26.217618040482403,
          27.87379154160373
         ],
         "xaxis": "x",
         "y": [
          12.255759356272685,
          0.09832883343720515,
          -2.3422951534830005,
          -5.605651412086742,
          -1.303771310882709,
          2.709855591158125,
          4.47333619046377,
          0.8707726740307293,
          -7.704528989407533,
          -7.520291247956301,
          -5.0219297234278315,
          -6.850055729302939,
          -5.970879521716774,
          -8.802354252638526,
          -7.104115350341335,
          -7.85389163725637,
          -6.269061936673178,
          -4.827732921771629,
          -10.777613756445202,
          -7.798852451232092,
          -9.432575042441004,
          -11.149457956853404
         ],
         "yaxis": "y"
        }
       ],
       "layout": {
        "legend": {
         "title": {
          "text": "color"
         },
         "tracegroupgap": 0
        },
        "margin": {
         "t": 60
        },
        "template": {
         "data": {
          "bar": [
           {
            "error_x": {
             "color": "#2a3f5f"
            },
            "error_y": {
             "color": "#2a3f5f"
            },
            "marker": {
             "line": {
              "color": "#E5ECF6",
              "width": 0.5
             },
             "pattern": {
              "fillmode": "overlay",
              "size": 10,
              "solidity": 0.2
             }
            },
            "type": "bar"
           }
          ],
          "barpolar": [
           {
            "marker": {
             "line": {
              "color": "#E5ECF6",
              "width": 0.5
             },
             "pattern": {
              "fillmode": "overlay",
              "size": 10,
              "solidity": 0.2
             }
            },
            "type": "barpolar"
           }
          ],
          "carpet": [
           {
            "aaxis": {
             "endlinecolor": "#2a3f5f",
             "gridcolor": "white",
             "linecolor": "white",
             "minorgridcolor": "white",
             "startlinecolor": "#2a3f5f"
            },
            "baxis": {
             "endlinecolor": "#2a3f5f",
             "gridcolor": "white",
             "linecolor": "white",
             "minorgridcolor": "white",
             "startlinecolor": "#2a3f5f"
            },
            "type": "carpet"
           }
          ],
          "choropleth": [
           {
            "colorbar": {
             "outlinewidth": 0,
             "ticks": ""
            },
            "type": "choropleth"
           }
          ],
          "contour": [
           {
            "colorbar": {
             "outlinewidth": 0,
             "ticks": ""
            },
            "colorscale": [
             [
              0,
              "#0d0887"
             ],
             [
              0.1111111111111111,
              "#46039f"
             ],
             [
              0.2222222222222222,
              "#7201a8"
             ],
             [
              0.3333333333333333,
              "#9c179e"
             ],
             [
              0.4444444444444444,
              "#bd3786"
             ],
             [
              0.5555555555555556,
              "#d8576b"
             ],
             [
              0.6666666666666666,
              "#ed7953"
             ],
             [
              0.7777777777777778,
              "#fb9f3a"
             ],
             [
              0.8888888888888888,
              "#fdca26"
             ],
             [
              1,
              "#f0f921"
             ]
            ],
            "type": "contour"
           }
          ],
          "contourcarpet": [
           {
            "colorbar": {
             "outlinewidth": 0,
             "ticks": ""
            },
            "type": "contourcarpet"
           }
          ],
          "heatmap": [
           {
            "colorbar": {
             "outlinewidth": 0,
             "ticks": ""
            },
            "colorscale": [
             [
              0,
              "#0d0887"
             ],
             [
              0.1111111111111111,
              "#46039f"
             ],
             [
              0.2222222222222222,
              "#7201a8"
             ],
             [
              0.3333333333333333,
              "#9c179e"
             ],
             [
              0.4444444444444444,
              "#bd3786"
             ],
             [
              0.5555555555555556,
              "#d8576b"
             ],
             [
              0.6666666666666666,
              "#ed7953"
             ],
             [
              0.7777777777777778,
              "#fb9f3a"
             ],
             [
              0.8888888888888888,
              "#fdca26"
             ],
             [
              1,
              "#f0f921"
             ]
            ],
            "type": "heatmap"
           }
          ],
          "heatmapgl": [
           {
            "colorbar": {
             "outlinewidth": 0,
             "ticks": ""
            },
            "colorscale": [
             [
              0,
              "#0d0887"
             ],
             [
              0.1111111111111111,
              "#46039f"
             ],
             [
              0.2222222222222222,
              "#7201a8"
             ],
             [
              0.3333333333333333,
              "#9c179e"
             ],
             [
              0.4444444444444444,
              "#bd3786"
             ],
             [
              0.5555555555555556,
              "#d8576b"
             ],
             [
              0.6666666666666666,
              "#ed7953"
             ],
             [
              0.7777777777777778,
              "#fb9f3a"
             ],
             [
              0.8888888888888888,
              "#fdca26"
             ],
             [
              1,
              "#f0f921"
             ]
            ],
            "type": "heatmapgl"
           }
          ],
          "histogram": [
           {
            "marker": {
             "pattern": {
              "fillmode": "overlay",
              "size": 10,
              "solidity": 0.2
             }
            },
            "type": "histogram"
           }
          ],
          "histogram2d": [
           {
            "colorbar": {
             "outlinewidth": 0,
             "ticks": ""
            },
            "colorscale": [
             [
              0,
              "#0d0887"
             ],
             [
              0.1111111111111111,
              "#46039f"
             ],
             [
              0.2222222222222222,
              "#7201a8"
             ],
             [
              0.3333333333333333,
              "#9c179e"
             ],
             [
              0.4444444444444444,
              "#bd3786"
             ],
             [
              0.5555555555555556,
              "#d8576b"
             ],
             [
              0.6666666666666666,
              "#ed7953"
             ],
             [
              0.7777777777777778,
              "#fb9f3a"
             ],
             [
              0.8888888888888888,
              "#fdca26"
             ],
             [
              1,
              "#f0f921"
             ]
            ],
            "type": "histogram2d"
           }
          ],
          "histogram2dcontour": [
           {
            "colorbar": {
             "outlinewidth": 0,
             "ticks": ""
            },
            "colorscale": [
             [
              0,
              "#0d0887"
             ],
             [
              0.1111111111111111,
              "#46039f"
             ],
             [
              0.2222222222222222,
              "#7201a8"
             ],
             [
              0.3333333333333333,
              "#9c179e"
             ],
             [
              0.4444444444444444,
              "#bd3786"
             ],
             [
              0.5555555555555556,
              "#d8576b"
             ],
             [
              0.6666666666666666,
              "#ed7953"
             ],
             [
              0.7777777777777778,
              "#fb9f3a"
             ],
             [
              0.8888888888888888,
              "#fdca26"
             ],
             [
              1,
              "#f0f921"
             ]
            ],
            "type": "histogram2dcontour"
           }
          ],
          "mesh3d": [
           {
            "colorbar": {
             "outlinewidth": 0,
             "ticks": ""
            },
            "type": "mesh3d"
           }
          ],
          "parcoords": [
           {
            "line": {
             "colorbar": {
              "outlinewidth": 0,
              "ticks": ""
             }
            },
            "type": "parcoords"
           }
          ],
          "pie": [
           {
            "automargin": true,
            "type": "pie"
           }
          ],
          "scatter": [
           {
            "fillpattern": {
             "fillmode": "overlay",
             "size": 10,
             "solidity": 0.2
            },
            "type": "scatter"
           }
          ],
          "scatter3d": [
           {
            "line": {
             "colorbar": {
              "outlinewidth": 0,
              "ticks": ""
             }
            },
            "marker": {
             "colorbar": {
              "outlinewidth": 0,
              "ticks": ""
             }
            },
            "type": "scatter3d"
           }
          ],
          "scattercarpet": [
           {
            "marker": {
             "colorbar": {
              "outlinewidth": 0,
              "ticks": ""
             }
            },
            "type": "scattercarpet"
           }
          ],
          "scattergeo": [
           {
            "marker": {
             "colorbar": {
              "outlinewidth": 0,
              "ticks": ""
             }
            },
            "type": "scattergeo"
           }
          ],
          "scattergl": [
           {
            "marker": {
             "colorbar": {
              "outlinewidth": 0,
              "ticks": ""
             }
            },
            "type": "scattergl"
           }
          ],
          "scattermapbox": [
           {
            "marker": {
             "colorbar": {
              "outlinewidth": 0,
              "ticks": ""
             }
            },
            "type": "scattermapbox"
           }
          ],
          "scatterpolar": [
           {
            "marker": {
             "colorbar": {
              "outlinewidth": 0,
              "ticks": ""
             }
            },
            "type": "scatterpolar"
           }
          ],
          "scatterpolargl": [
           {
            "marker": {
             "colorbar": {
              "outlinewidth": 0,
              "ticks": ""
             }
            },
            "type": "scatterpolargl"
           }
          ],
          "scatterternary": [
           {
            "marker": {
             "colorbar": {
              "outlinewidth": 0,
              "ticks": ""
             }
            },
            "type": "scatterternary"
           }
          ],
          "surface": [
           {
            "colorbar": {
             "outlinewidth": 0,
             "ticks": ""
            },
            "colorscale": [
             [
              0,
              "#0d0887"
             ],
             [
              0.1111111111111111,
              "#46039f"
             ],
             [
              0.2222222222222222,
              "#7201a8"
             ],
             [
              0.3333333333333333,
              "#9c179e"
             ],
             [
              0.4444444444444444,
              "#bd3786"
             ],
             [
              0.5555555555555556,
              "#d8576b"
             ],
             [
              0.6666666666666666,
              "#ed7953"
             ],
             [
              0.7777777777777778,
              "#fb9f3a"
             ],
             [
              0.8888888888888888,
              "#fdca26"
             ],
             [
              1,
              "#f0f921"
             ]
            ],
            "type": "surface"
           }
          ],
          "table": [
           {
            "cells": {
             "fill": {
              "color": "#EBF0F8"
             },
             "line": {
              "color": "white"
             }
            },
            "header": {
             "fill": {
              "color": "#C8D4E3"
             },
             "line": {
              "color": "white"
             }
            },
            "type": "table"
           }
          ]
         },
         "layout": {
          "annotationdefaults": {
           "arrowcolor": "#2a3f5f",
           "arrowhead": 0,
           "arrowwidth": 1
          },
          "autotypenumbers": "strict",
          "coloraxis": {
           "colorbar": {
            "outlinewidth": 0,
            "ticks": ""
           }
          },
          "colorscale": {
           "diverging": [
            [
             0,
             "#8e0152"
            ],
            [
             0.1,
             "#c51b7d"
            ],
            [
             0.2,
             "#de77ae"
            ],
            [
             0.3,
             "#f1b6da"
            ],
            [
             0.4,
             "#fde0ef"
            ],
            [
             0.5,
             "#f7f7f7"
            ],
            [
             0.6,
             "#e6f5d0"
            ],
            [
             0.7,
             "#b8e186"
            ],
            [
             0.8,
             "#7fbc41"
            ],
            [
             0.9,
             "#4d9221"
            ],
            [
             1,
             "#276419"
            ]
           ],
           "sequential": [
            [
             0,
             "#0d0887"
            ],
            [
             0.1111111111111111,
             "#46039f"
            ],
            [
             0.2222222222222222,
             "#7201a8"
            ],
            [
             0.3333333333333333,
             "#9c179e"
            ],
            [
             0.4444444444444444,
             "#bd3786"
            ],
            [
             0.5555555555555556,
             "#d8576b"
            ],
            [
             0.6666666666666666,
             "#ed7953"
            ],
            [
             0.7777777777777778,
             "#fb9f3a"
            ],
            [
             0.8888888888888888,
             "#fdca26"
            ],
            [
             1,
             "#f0f921"
            ]
           ],
           "sequentialminus": [
            [
             0,
             "#0d0887"
            ],
            [
             0.1111111111111111,
             "#46039f"
            ],
            [
             0.2222222222222222,
             "#7201a8"
            ],
            [
             0.3333333333333333,
             "#9c179e"
            ],
            [
             0.4444444444444444,
             "#bd3786"
            ],
            [
             0.5555555555555556,
             "#d8576b"
            ],
            [
             0.6666666666666666,
             "#ed7953"
            ],
            [
             0.7777777777777778,
             "#fb9f3a"
            ],
            [
             0.8888888888888888,
             "#fdca26"
            ],
            [
             1,
             "#f0f921"
            ]
           ]
          },
          "colorway": [
           "#636efa",
           "#EF553B",
           "#00cc96",
           "#ab63fa",
           "#FFA15A",
           "#19d3f3",
           "#FF6692",
           "#B6E880",
           "#FF97FF",
           "#FECB52"
          ],
          "font": {
           "color": "#2a3f5f"
          },
          "geo": {
           "bgcolor": "white",
           "lakecolor": "white",
           "landcolor": "#E5ECF6",
           "showlakes": true,
           "showland": true,
           "subunitcolor": "white"
          },
          "hoverlabel": {
           "align": "left"
          },
          "hovermode": "closest",
          "mapbox": {
           "style": "light"
          },
          "paper_bgcolor": "white",
          "plot_bgcolor": "#E5ECF6",
          "polar": {
           "angularaxis": {
            "gridcolor": "white",
            "linecolor": "white",
            "ticks": ""
           },
           "bgcolor": "#E5ECF6",
           "radialaxis": {
            "gridcolor": "white",
            "linecolor": "white",
            "ticks": ""
           }
          },
          "scene": {
           "xaxis": {
            "backgroundcolor": "#E5ECF6",
            "gridcolor": "white",
            "gridwidth": 2,
            "linecolor": "white",
            "showbackground": true,
            "ticks": "",
            "zerolinecolor": "white"
           },
           "yaxis": {
            "backgroundcolor": "#E5ECF6",
            "gridcolor": "white",
            "gridwidth": 2,
            "linecolor": "white",
            "showbackground": true,
            "ticks": "",
            "zerolinecolor": "white"
           },
           "zaxis": {
            "backgroundcolor": "#E5ECF6",
            "gridcolor": "white",
            "gridwidth": 2,
            "linecolor": "white",
            "showbackground": true,
            "ticks": "",
            "zerolinecolor": "white"
           }
          },
          "shapedefaults": {
           "line": {
            "color": "#2a3f5f"
           }
          },
          "ternary": {
           "aaxis": {
            "gridcolor": "white",
            "linecolor": "white",
            "ticks": ""
           },
           "baxis": {
            "gridcolor": "white",
            "linecolor": "white",
            "ticks": ""
           },
           "bgcolor": "#E5ECF6",
           "caxis": {
            "gridcolor": "white",
            "linecolor": "white",
            "ticks": ""
           }
          },
          "title": {
           "x": 0.05
          },
          "xaxis": {
           "automargin": true,
           "gridcolor": "white",
           "linecolor": "white",
           "ticks": "",
           "title": {
            "standoff": 15
           },
           "zerolinecolor": "white",
           "zerolinewidth": 2
          },
          "yaxis": {
           "automargin": true,
           "gridcolor": "white",
           "linecolor": "white",
           "ticks": "",
           "title": {
            "standoff": 15
           },
           "zerolinecolor": "white",
           "zerolinewidth": 2
          }
         }
        },
        "title": {
         "text": "100 Most Abundant Leaf Microbe Genera by Broad Geographic Location PCA"
        },
        "xaxis": {
         "anchor": "y",
         "domain": [
          0,
          1
         ],
         "title": {
          "text": "PC1 34.2%"
         }
        },
        "yaxis": {
         "anchor": "x",
         "domain": [
          0,
          1
         ],
         "title": {
          "text": "PC2 5.6%"
         }
        }
       }
      },
      "text/html": [
       "<div>                            <div id=\"fa48d0e6-cf64-4554-ba46-d3abd30b9494\" class=\"plotly-graph-div\" style=\"height:525px; width:100%;\"></div>            <script type=\"text/javascript\">                require([\"plotly\"], function(Plotly) {                    window.PLOTLYENV=window.PLOTLYENV || {};                                    if (document.getElementById(\"fa48d0e6-cf64-4554-ba46-d3abd30b9494\")) {                    Plotly.newPlot(                        \"fa48d0e6-cf64-4554-ba46-d3abd30b9494\",                        [{\"hovertemplate\":\"color=Cole Mountain<br>0=%{x}<br>1=%{y}<extra></extra>\",\"legendgroup\":\"Cole Mountain\",\"marker\":{\"color\":\"#636efa\",\"symbol\":\"circle\"},\"mode\":\"markers\",\"name\":\"Cole Mountain\",\"orientation\":\"v\",\"showlegend\":true,\"x\":[-18.445129415152,-17.607434654448344,-17.329390300274127,-7.39713203786074,-17.147965068230103,-4.967749373955504,-15.998257533990055,-12.784415534756773,-1.6091762336340316,-18.06112360818947,-15.48091258448164,-9.496618253093914,-15.849675889491055,-7.533562685997259,-12.568965306747545,-13.061208513948987,-17.205339918494577,-5.50534216562243,-17.463087587716213,25.64339090901556,23.725407647197933,23.40503531880145,25.088560197020247,24.098828333859128,25.281355871774622,24.527034893710333,23.722026065877017,25.291983095657546,23.28087000221166,24.814942816422832,-11.251813877461386,-11.719387653534245,-20.062271754155585,-12.804663195561156,-15.044520807580273,-12.944744938695518,-12.375843058153814,-15.116346649633776,-14.036799808489777,-14.397446322741233,-21.18452886257768,-17.633047935822855,-12.44490867912504,-16.158408710118163,-7.119140039516798,-19.08281211961441,-13.027071234126414,-10.678718397389249,-12.825229852395095,-10.818540445378037,-7.885929392865953,-11.809748175684371,-15.433335922234344,-7.076192956236394,-16.91259323070706,-13.902107247277282,-12.07272055599909,-17.621273707629715,-13.704361163503288,-13.217573803284006,-13.178821778940113,-12.053183608796596,24.702884838648146,26.91501934944353,25.440192949267235,26.01382868715176,24.961028045201452,25.10725797317074,26.152447759798896,26.33345010315042,26.297415742731417,26.716159622027952,23.789572522846512,26.59897037844412,25.116554550208946,25.1999269144908,23.175533278710123,25.588669861065377,25.45851799628183],\"xaxis\":\"x\",\"y\":[-0.9848377687945421,-1.3579171114649307,-1.6065067819173362,6.568298655943331,-2.0743823011486024,5.034572796992868,-1.4428668010691192,3.4982868903954025,12.006213167289053,-3.7497833061103534,-0.3439150804226769,3.698615458133364,-1.6982819764107693,3.3342279911051564,2.009749158516368,1.4304289912853798,-2.0054532107645486,9.381627589531622,-2.555716416046443,-6.812358251188189,-2.9875785493142426,-4.554632338050553,-5.712725352690241,-3.8305224753231775,-5.980387276580716,-4.572387237252802,-2.9751242314906747,-5.977599971647783,-4.667442506272966,-5.2529347854218935,3.487436427147335,3.034100229754839,-5.985110031649741,-1.7255168652033723,-1.7800292453034665,0.3178466124054137,1.3700798694885037,-3.8533728794628566,-1.9617727489658316,-1.6307052513553246,-6.123476007421336,-3.2316252011779754,0.7300657097211118,-0.2045982536765442,5.037610427511138,-3.5008267625943374,1.3205383578215337,1.9740628293439408,0.8444575419570671,2.78845126647781,6.698967432943559,-0.22326306097717075,-0.7768026126692811,5.036475041177499,-1.7891169625525714,0.7996391675069108,2.0310045912883594,-3.326659060648652,-0.8091579299660994,-0.05070706625242056,-0.23249400082427643,0.10152139598446774,-5.552203657500516,-10.21697181769797,-5.838631907712585,-8.811834364837003,-4.278974196337022,-5.942981976766047,-9.217291351424143,-7.947140903954056,-7.896869952091225,-9.917469327920898,-3.1151730547931877,-7.79894474549868,-4.792859539016745,-5.484996343502984,-1.0799442312360203,-5.830189231430045,-5.978908284298755],\"yaxis\":\"y\",\"type\":\"scatter\"},{\"hovertemplate\":\"color=HR<br>0=%{x}<br>1=%{y}<extra></extra>\",\"legendgroup\":\"HR\",\"marker\":{\"color\":\"#EF553B\",\"symbol\":\"circle\"},\"mode\":\"markers\",\"name\":\"HR\",\"orientation\":\"v\",\"showlegend\":true,\"x\":[5.7866614280345186,14.65823843577824,5.3113786830123715,10.530823538568209],\"xaxis\":\"x\",\"y\":[15.206199552676559,16.5570556689864,14.069916035917872,17.68768019915197],\"yaxis\":\"y\",\"type\":\"scatter\"},{\"hovertemplate\":\"color=Wintergreen<br>0=%{x}<br>1=%{y}<extra></extra>\",\"legendgroup\":\"Wintergreen\",\"marker\":{\"color\":\"#00cc96\",\"symbol\":\"circle\"},\"mode\":\"markers\",\"name\":\"Wintergreen\",\"orientation\":\"v\",\"showlegend\":true,\"x\":[-20.276557076428965,-18.48122203256458,-17.29033062632496,-17.510365543043626,-21.621944901322546,-18.348436647293173,-12.910043723194283,-18.22455995912229,-17.942048570968787,-15.858816537747169,-21.161885536451827,-20.087970985540327,-18.076779003459436,-19.21273376116758,-20.122076927039423,-18.709309934373895,-19.212777283762396,-14.287537730319142,-21.7364224748497,-19.423537624981822,-18.496181671467657,-20.23187283377886,-16.820763100689796,-21.784221790271374,-20.601466619358114,-16.008185929754124,-14.500184795818349,-17.84489380458847,-17.839267374444923,-14.115031954616274,-21.105348773927343,-16.92455697019582,16.13770563294387,17.22562502572933,17.170050083715108,17.102718520233648,15.407934224965222,8.211574070024279,-1.2147196363247672,6.795759274552593,5.948794322800099,14.855118172435558,11.212810287759185,13.767121348419382,9.13810249597604,12.628466511638765,15.564747825778019,14.008586109783618,13.912435156826298,14.998268207884845,15.558179362790534],\"xaxis\":\"x\",\"y\":[-4.892175550378389,-5.251297138193174,-3.6975111112762344,-1.6905400129290575,-8.014845951943892,-3.0735128853620455,-1.773537231396065,-4.612211822318733,-4.397556701265597,-1.195969422367097,-5.745987086120886,-4.4038777326719005,-3.771697765248838,-5.5129104794230015,-5.116836940915253,-4.267394478806439,-2.981019243265156,0.01864273760935078,-8.25976313418338,-4.92253916881335,-4.1508109978427274,-5.264934870322736,-0.6137092328476861,-6.365317673243951,-4.708223235200919,-0.6269504289770856,0.9785387297154832,-3.7360652909285075,-2.528505856452007,0.586877254841457,-3.5987321389741225,-1.446738452576969,11.203231305658752,19.05202704820902,11.234582521752163,15.200173751272535,16.792582981436354,19.885345808685674,13.343219329588836,17.058543946635066,16.87100204409816,12.902673869729664,17.662368372667036,14.077101955528043,15.582995051844106,14.591101756893236,11.393511293451041,14.535781129945141,12.905045233744747,14.94731286762233,13.720362291517356],\"yaxis\":\"y\",\"type\":\"scatter\"},{\"hovertemplate\":\"color=Blacksburg<br>0=%{x}<br>1=%{y}<extra></extra>\",\"legendgroup\":\"Blacksburg\",\"marker\":{\"color\":\"#ab63fa\",\"symbol\":\"circle\"},\"mode\":\"markers\",\"name\":\"Blacksburg\",\"orientation\":\"v\",\"showlegend\":true,\"x\":[16.654053474201554,-14.151429063847342,-14.638224138587805,-20.059293456721218,-13.920706353254918,-12.058703001465634,-6.128277918174116,-9.69432651932338,25.98153213921891,25.68047009279564,25.076090409888568,25.027762251868094,25.128671452655002,26.390996245100595,26.066498877719695,26.645633835415268,25.178095094041453,25.16762484090884,27.553929663009942,26.7188527351326,26.217618040482403,27.87379154160373],\"xaxis\":\"x\",\"y\":[12.255759356272685,0.09832883343720515,-2.3422951534830005,-5.605651412086742,-1.303771310882709,2.709855591158125,4.47333619046377,0.8707726740307293,-7.704528989407533,-7.520291247956301,-5.0219297234278315,-6.850055729302939,-5.970879521716774,-8.802354252638526,-7.104115350341335,-7.85389163725637,-6.269061936673178,-4.827732921771629,-10.777613756445202,-7.798852451232092,-9.432575042441004,-11.149457956853404],\"yaxis\":\"y\",\"type\":\"scatter\"}],                        {\"template\":{\"data\":{\"histogram2dcontour\":[{\"type\":\"histogram2dcontour\",\"colorbar\":{\"outlinewidth\":0,\"ticks\":\"\"},\"colorscale\":[[0.0,\"#0d0887\"],[0.1111111111111111,\"#46039f\"],[0.2222222222222222,\"#7201a8\"],[0.3333333333333333,\"#9c179e\"],[0.4444444444444444,\"#bd3786\"],[0.5555555555555556,\"#d8576b\"],[0.6666666666666666,\"#ed7953\"],[0.7777777777777778,\"#fb9f3a\"],[0.8888888888888888,\"#fdca26\"],[1.0,\"#f0f921\"]]}],\"choropleth\":[{\"type\":\"choropleth\",\"colorbar\":{\"outlinewidth\":0,\"ticks\":\"\"}}],\"histogram2d\":[{\"type\":\"histogram2d\",\"colorbar\":{\"outlinewidth\":0,\"ticks\":\"\"},\"colorscale\":[[0.0,\"#0d0887\"],[0.1111111111111111,\"#46039f\"],[0.2222222222222222,\"#7201a8\"],[0.3333333333333333,\"#9c179e\"],[0.4444444444444444,\"#bd3786\"],[0.5555555555555556,\"#d8576b\"],[0.6666666666666666,\"#ed7953\"],[0.7777777777777778,\"#fb9f3a\"],[0.8888888888888888,\"#fdca26\"],[1.0,\"#f0f921\"]]}],\"heatmap\":[{\"type\":\"heatmap\",\"colorbar\":{\"outlinewidth\":0,\"ticks\":\"\"},\"colorscale\":[[0.0,\"#0d0887\"],[0.1111111111111111,\"#46039f\"],[0.2222222222222222,\"#7201a8\"],[0.3333333333333333,\"#9c179e\"],[0.4444444444444444,\"#bd3786\"],[0.5555555555555556,\"#d8576b\"],[0.6666666666666666,\"#ed7953\"],[0.7777777777777778,\"#fb9f3a\"],[0.8888888888888888,\"#fdca26\"],[1.0,\"#f0f921\"]]}],\"heatmapgl\":[{\"type\":\"heatmapgl\",\"colorbar\":{\"outlinewidth\":0,\"ticks\":\"\"},\"colorscale\":[[0.0,\"#0d0887\"],[0.1111111111111111,\"#46039f\"],[0.2222222222222222,\"#7201a8\"],[0.3333333333333333,\"#9c179e\"],[0.4444444444444444,\"#bd3786\"],[0.5555555555555556,\"#d8576b\"],[0.6666666666666666,\"#ed7953\"],[0.7777777777777778,\"#fb9f3a\"],[0.8888888888888888,\"#fdca26\"],[1.0,\"#f0f921\"]]}],\"contourcarpet\":[{\"type\":\"contourcarpet\",\"colorbar\":{\"outlinewidth\":0,\"ticks\":\"\"}}],\"contour\":[{\"type\":\"contour\",\"colorbar\":{\"outlinewidth\":0,\"ticks\":\"\"},\"colorscale\":[[0.0,\"#0d0887\"],[0.1111111111111111,\"#46039f\"],[0.2222222222222222,\"#7201a8\"],[0.3333333333333333,\"#9c179e\"],[0.4444444444444444,\"#bd3786\"],[0.5555555555555556,\"#d8576b\"],[0.6666666666666666,\"#ed7953\"],[0.7777777777777778,\"#fb9f3a\"],[0.8888888888888888,\"#fdca26\"],[1.0,\"#f0f921\"]]}],\"surface\":[{\"type\":\"surface\",\"colorbar\":{\"outlinewidth\":0,\"ticks\":\"\"},\"colorscale\":[[0.0,\"#0d0887\"],[0.1111111111111111,\"#46039f\"],[0.2222222222222222,\"#7201a8\"],[0.3333333333333333,\"#9c179e\"],[0.4444444444444444,\"#bd3786\"],[0.5555555555555556,\"#d8576b\"],[0.6666666666666666,\"#ed7953\"],[0.7777777777777778,\"#fb9f3a\"],[0.8888888888888888,\"#fdca26\"],[1.0,\"#f0f921\"]]}],\"mesh3d\":[{\"type\":\"mesh3d\",\"colorbar\":{\"outlinewidth\":0,\"ticks\":\"\"}}],\"scatter\":[{\"fillpattern\":{\"fillmode\":\"overlay\",\"size\":10,\"solidity\":0.2},\"type\":\"scatter\"}],\"parcoords\":[{\"type\":\"parcoords\",\"line\":{\"colorbar\":{\"outlinewidth\":0,\"ticks\":\"\"}}}],\"scatterpolargl\":[{\"type\":\"scatterpolargl\",\"marker\":{\"colorbar\":{\"outlinewidth\":0,\"ticks\":\"\"}}}],\"bar\":[{\"error_x\":{\"color\":\"#2a3f5f\"},\"error_y\":{\"color\":\"#2a3f5f\"},\"marker\":{\"line\":{\"color\":\"#E5ECF6\",\"width\":0.5},\"pattern\":{\"fillmode\":\"overlay\",\"size\":10,\"solidity\":0.2}},\"type\":\"bar\"}],\"scattergeo\":[{\"type\":\"scattergeo\",\"marker\":{\"colorbar\":{\"outlinewidth\":0,\"ticks\":\"\"}}}],\"scatterpolar\":[{\"type\":\"scatterpolar\",\"marker\":{\"colorbar\":{\"outlinewidth\":0,\"ticks\":\"\"}}}],\"histogram\":[{\"marker\":{\"pattern\":{\"fillmode\":\"overlay\",\"size\":10,\"solidity\":0.2}},\"type\":\"histogram\"}],\"scattergl\":[{\"type\":\"scattergl\",\"marker\":{\"colorbar\":{\"outlinewidth\":0,\"ticks\":\"\"}}}],\"scatter3d\":[{\"type\":\"scatter3d\",\"line\":{\"colorbar\":{\"outlinewidth\":0,\"ticks\":\"\"}},\"marker\":{\"colorbar\":{\"outlinewidth\":0,\"ticks\":\"\"}}}],\"scattermapbox\":[{\"type\":\"scattermapbox\",\"marker\":{\"colorbar\":{\"outlinewidth\":0,\"ticks\":\"\"}}}],\"scatterternary\":[{\"type\":\"scatterternary\",\"marker\":{\"colorbar\":{\"outlinewidth\":0,\"ticks\":\"\"}}}],\"scattercarpet\":[{\"type\":\"scattercarpet\",\"marker\":{\"colorbar\":{\"outlinewidth\":0,\"ticks\":\"\"}}}],\"carpet\":[{\"aaxis\":{\"endlinecolor\":\"#2a3f5f\",\"gridcolor\":\"white\",\"linecolor\":\"white\",\"minorgridcolor\":\"white\",\"startlinecolor\":\"#2a3f5f\"},\"baxis\":{\"endlinecolor\":\"#2a3f5f\",\"gridcolor\":\"white\",\"linecolor\":\"white\",\"minorgridcolor\":\"white\",\"startlinecolor\":\"#2a3f5f\"},\"type\":\"carpet\"}],\"table\":[{\"cells\":{\"fill\":{\"color\":\"#EBF0F8\"},\"line\":{\"color\":\"white\"}},\"header\":{\"fill\":{\"color\":\"#C8D4E3\"},\"line\":{\"color\":\"white\"}},\"type\":\"table\"}],\"barpolar\":[{\"marker\":{\"line\":{\"color\":\"#E5ECF6\",\"width\":0.5},\"pattern\":{\"fillmode\":\"overlay\",\"size\":10,\"solidity\":0.2}},\"type\":\"barpolar\"}],\"pie\":[{\"automargin\":true,\"type\":\"pie\"}]},\"layout\":{\"autotypenumbers\":\"strict\",\"colorway\":[\"#636efa\",\"#EF553B\",\"#00cc96\",\"#ab63fa\",\"#FFA15A\",\"#19d3f3\",\"#FF6692\",\"#B6E880\",\"#FF97FF\",\"#FECB52\"],\"font\":{\"color\":\"#2a3f5f\"},\"hovermode\":\"closest\",\"hoverlabel\":{\"align\":\"left\"},\"paper_bgcolor\":\"white\",\"plot_bgcolor\":\"#E5ECF6\",\"polar\":{\"bgcolor\":\"#E5ECF6\",\"angularaxis\":{\"gridcolor\":\"white\",\"linecolor\":\"white\",\"ticks\":\"\"},\"radialaxis\":{\"gridcolor\":\"white\",\"linecolor\":\"white\",\"ticks\":\"\"}},\"ternary\":{\"bgcolor\":\"#E5ECF6\",\"aaxis\":{\"gridcolor\":\"white\",\"linecolor\":\"white\",\"ticks\":\"\"},\"baxis\":{\"gridcolor\":\"white\",\"linecolor\":\"white\",\"ticks\":\"\"},\"caxis\":{\"gridcolor\":\"white\",\"linecolor\":\"white\",\"ticks\":\"\"}},\"coloraxis\":{\"colorbar\":{\"outlinewidth\":0,\"ticks\":\"\"}},\"colorscale\":{\"sequential\":[[0.0,\"#0d0887\"],[0.1111111111111111,\"#46039f\"],[0.2222222222222222,\"#7201a8\"],[0.3333333333333333,\"#9c179e\"],[0.4444444444444444,\"#bd3786\"],[0.5555555555555556,\"#d8576b\"],[0.6666666666666666,\"#ed7953\"],[0.7777777777777778,\"#fb9f3a\"],[0.8888888888888888,\"#fdca26\"],[1.0,\"#f0f921\"]],\"sequentialminus\":[[0.0,\"#0d0887\"],[0.1111111111111111,\"#46039f\"],[0.2222222222222222,\"#7201a8\"],[0.3333333333333333,\"#9c179e\"],[0.4444444444444444,\"#bd3786\"],[0.5555555555555556,\"#d8576b\"],[0.6666666666666666,\"#ed7953\"],[0.7777777777777778,\"#fb9f3a\"],[0.8888888888888888,\"#fdca26\"],[1.0,\"#f0f921\"]],\"diverging\":[[0,\"#8e0152\"],[0.1,\"#c51b7d\"],[0.2,\"#de77ae\"],[0.3,\"#f1b6da\"],[0.4,\"#fde0ef\"],[0.5,\"#f7f7f7\"],[0.6,\"#e6f5d0\"],[0.7,\"#b8e186\"],[0.8,\"#7fbc41\"],[0.9,\"#4d9221\"],[1,\"#276419\"]]},\"xaxis\":{\"gridcolor\":\"white\",\"linecolor\":\"white\",\"ticks\":\"\",\"title\":{\"standoff\":15},\"zerolinecolor\":\"white\",\"automargin\":true,\"zerolinewidth\":2},\"yaxis\":{\"gridcolor\":\"white\",\"linecolor\":\"white\",\"ticks\":\"\",\"title\":{\"standoff\":15},\"zerolinecolor\":\"white\",\"automargin\":true,\"zerolinewidth\":2},\"scene\":{\"xaxis\":{\"backgroundcolor\":\"#E5ECF6\",\"gridcolor\":\"white\",\"linecolor\":\"white\",\"showbackground\":true,\"ticks\":\"\",\"zerolinecolor\":\"white\",\"gridwidth\":2},\"yaxis\":{\"backgroundcolor\":\"#E5ECF6\",\"gridcolor\":\"white\",\"linecolor\":\"white\",\"showbackground\":true,\"ticks\":\"\",\"zerolinecolor\":\"white\",\"gridwidth\":2},\"zaxis\":{\"backgroundcolor\":\"#E5ECF6\",\"gridcolor\":\"white\",\"linecolor\":\"white\",\"showbackground\":true,\"ticks\":\"\",\"zerolinecolor\":\"white\",\"gridwidth\":2}},\"shapedefaults\":{\"line\":{\"color\":\"#2a3f5f\"}},\"annotationdefaults\":{\"arrowcolor\":\"#2a3f5f\",\"arrowhead\":0,\"arrowwidth\":1},\"geo\":{\"bgcolor\":\"white\",\"landcolor\":\"#E5ECF6\",\"subunitcolor\":\"white\",\"showland\":true,\"showlakes\":true,\"lakecolor\":\"white\"},\"title\":{\"x\":0.05},\"mapbox\":{\"style\":\"light\"}}},\"xaxis\":{\"anchor\":\"y\",\"domain\":[0.0,1.0],\"title\":{\"text\":\"PC1 34.2%\"}},\"yaxis\":{\"anchor\":\"x\",\"domain\":[0.0,1.0],\"title\":{\"text\":\"PC2 5.6%\"}},\"legend\":{\"title\":{\"text\":\"color\"},\"tracegroupgap\":0},\"margin\":{\"t\":60},\"title\":{\"text\":\"100 Most Abundant Leaf Microbe Genera by Broad Geographic Location PCA\"}},                        {\"responsive\": true}                    ).then(function(){\n",
       "                            \n",
       "var gd = document.getElementById('fa48d0e6-cf64-4554-ba46-d3abd30b9494');\n",
       "var x = new MutationObserver(function (mutations, observer) {{\n",
       "        var display = window.getComputedStyle(gd).display;\n",
       "        if (!display || display === 'none') {{\n",
       "            console.log([gd, 'removed!']);\n",
       "            Plotly.purge(gd);\n",
       "            observer.disconnect();\n",
       "        }}\n",
       "}});\n",
       "\n",
       "// Listen for the removal of the full notebook cells\n",
       "var notebookContainer = gd.closest('#notebook-container');\n",
       "if (notebookContainer) {{\n",
       "    x.observe(notebookContainer, {childList: true});\n",
       "}}\n",
       "\n",
       "// Listen for the clearing of the current output cell\n",
       "var outputEl = gd.closest('.output');\n",
       "if (outputEl) {{\n",
       "    x.observe(outputEl, {childList: true});\n",
       "}}\n",
       "\n",
       "                        })                };                });            </script>        </div>"
      ]
     },
     "metadata": {},
     "output_type": "display_data"
    }
   ],
   "source": [
    "X = pc2_df[top_100.index]\n",
    "\n",
    "pca = PCA(n_components=2)\n",
    "components = pca.fit_transform(X)\n",
    "\n",
    "fig = px.scatter(components, x=0, y=1, color=pc2_df['site_id'])\n",
    "fig.update_layout(\n",
    "    title = \"100 Most Abundant Leaf Microbe Genera by Broad Geographic Location PCA\",\n",
    "    xaxis_title=\"PC1 \" + str(round(100*pca.explained_variance_ratio_[0], 1)) + '%',\n",
    "    yaxis_title=\"PC2 \" + str(round(100*pca.explained_variance_ratio_[1], 1)) + '%')\n",
    "fig.show()"
   ]
  },
  {
   "cell_type": "code",
   "execution_count": 23,
   "id": "d03faa91",
   "metadata": {},
   "outputs": [],
   "source": [
    "### Keping top 100 genera"
   ]
  },
  {
   "cell_type": "code",
   "execution_count": 28,
   "id": "ada46524",
   "metadata": {},
   "outputs": [],
   "source": [
    "pc3_df = pivoted_df.copy()"
   ]
  },
  {
   "cell_type": "code",
   "execution_count": 29,
   "id": "0c88ed7f",
   "metadata": {},
   "outputs": [],
   "source": [
    "sum_col = pc3_df[genera_col].sum()\n",
    "top_50 = sum_col.nlargest(100)\n",
    "select_columns = (top_50.index).tolist()\n",
    "select_columns.insert(0, 'V2')\n",
    "select_columns.insert(0, 'sample_id')\n",
    "select_columns.insert(0, 'site_id')\n",
    "select_columns.insert(0, 'species')\n",
    "pc3_df = pc3_df[select_columns]"
   ]
  },
  {
   "cell_type": "code",
   "execution_count": 30,
   "id": "8c6f71f1",
   "metadata": {},
   "outputs": [],
   "source": [
    "pc3_df[top_50.index] = StandardScaler().fit_transform(pc3_df[top_50.index])  "
   ]
  },
  {
   "cell_type": "code",
   "execution_count": 31,
   "id": "2146107b",
   "metadata": {},
   "outputs": [
    {
     "data": {
      "application/vnd.plotly.v1+json": {
       "config": {
        "plotlyServerURL": "https://plot.ly"
       },
       "data": [
        {
         "hovertemplate": "color=CMB<br>0=%{x}<br>1=%{y}<extra></extra>",
         "legendgroup": "CMB",
         "marker": {
          "color": "#636efa",
          "symbol": "circle"
         },
         "mode": "markers",
         "name": "CMB",
         "orientation": "v",
         "showlegend": true,
         "type": "scatter",
         "x": [
          -3.869218841088769,
          -4.23089393956293,
          -3.7619601641747322,
          -4.09097784251389,
          -3.9702824505528875,
          -3.3431720084159817,
          -4.304615907821897,
          -4.4212418153951,
          -3.4283779047679195,
          -3.782007108036632,
          -3.591013612048619,
          -4.109281525832044,
          -3.8379043961031276,
          -3.7133779101101276,
          -4.0084339352296565,
          -3.8028276309308175,
          -4.670162307853379,
          -3.6113878522234826,
          -4.6019769510687265
         ],
         "xaxis": "x",
         "y": [
          -1.5457845211948384,
          -1.6384666840867517,
          -2.2487306442902018,
          -2.3554053773392707,
          -2.640170953444384,
          -0.15718283478239786,
          -0.4167488284085961,
          -2.6688562412806687,
          -2.9792270983562403,
          -2.324593181354694,
          -1.7121833725326179,
          -1.8016253333585903,
          -2.4068918128659624,
          0.399113914909385,
          -2.0681354626881236,
          -1.934696603264693,
          -1.3674263749203002,
          -2.476419819194672,
          0.12502659462677274
         ],
         "yaxis": "y"
        },
        {
         "hovertemplate": "color=FRW<br>0=%{x}<br>1=%{y}<extra></extra>",
         "legendgroup": "FRW",
         "marker": {
          "color": "#EF553B",
          "symbol": "circle"
         },
         "mode": "markers",
         "name": "FRW",
         "orientation": "v",
         "showlegend": true,
         "type": "scatter",
         "x": [
          9.38913067018038,
          10.162226897781242,
          9.769201467520224,
          9.504966905467093,
          9.440467041087219,
          9.270652753508841,
          9.567820660112464,
          9.187572644213557,
          9.716802248802102,
          9.315393799369861,
          9.993812615398761
         ],
         "xaxis": "x",
         "y": [
          0.022222155172950602,
          0.08179799887308016,
          -0.2955319718665164,
          0.5425894374241922,
          0.33704625809814204,
          0.6133100471946177,
          0.011538780119749516,
          0.08671342373527942,
          -0.4272785876040259,
          -0.08296211554120106,
          -0.0013546008572509257
         ],
         "yaxis": "y"
        },
        {
         "hovertemplate": "color=HR<br>0=%{x}<br>1=%{y}<extra></extra>",
         "legendgroup": "HR",
         "marker": {
          "color": "#00cc96",
          "symbol": "circle"
         },
         "mode": "markers",
         "name": "HR",
         "orientation": "v",
         "showlegend": true,
         "type": "scatter",
         "x": [
          -1.9312549326111785,
          0.32304883140665813,
          -5.8433398489426525,
          -4.166227649381334
         ],
         "xaxis": "x",
         "y": [
          -2.211954531028283,
          6.569908868319663,
          11.468764293175228,
          16.38813033483443
         ],
         "yaxis": "y"
        },
        {
         "hovertemplate": "color=LFS<br>0=%{x}<br>1=%{y}<extra></extra>",
         "legendgroup": "LFS",
         "marker": {
          "color": "#ab63fa",
          "symbol": "circle"
         },
         "mode": "markers",
         "name": "LFS",
         "orientation": "v",
         "showlegend": true,
         "type": "scatter",
         "x": [
          -4.534431258634618,
          -4.619290636629358,
          -4.877509798688043,
          -5.247970070353009,
          -4.946520610050511,
          -4.778375903845234,
          -4.469879474856306,
          -4.997291553726235,
          -4.586012492076129,
          -5.1087775407637155,
          -5.598560519818487,
          -4.943001502610904,
          -4.923837009513587
         ],
         "xaxis": "x",
         "y": [
          -2.3920760158452987,
          -2.4360817018047483,
          -0.4497069915631719,
          1.9093408645911811,
          -1.2317379405338165,
          -1.978822582875884,
          -1.6907089488998372,
          0.34818265465505766,
          0.5687571466111061,
          -0.41572459977914417,
          0.20235404331113083,
          -1.0150128665231661,
          -0.6844619445394174
         ],
         "yaxis": "y"
        },
        {
         "hovertemplate": "color=LM<br>0=%{x}<br>1=%{y}<extra></extra>",
         "legendgroup": "LM",
         "marker": {
          "color": "#FFA15A",
          "symbol": "circle"
         },
         "mode": "markers",
         "name": "LM",
         "orientation": "v",
         "showlegend": true,
         "type": "scatter",
         "x": [
          -4.589378191799763,
          -5.259732637029045,
          -5.0752100419513475,
          -5.9792577940857905,
          -5.730118906389903,
          -5.252902519630119,
          -4.648866798416268,
          -5.533420728561796,
          -5.711938341074282,
          -5.386976101214665,
          -5.741610710831969,
          -5.328639236884131,
          -4.9610731802665935,
          -6.459523664917656,
          -5.4619689868919785,
          -4.143135246774803,
          -4.3641074397577295,
          -4.919540217132616,
          -5.825943413544717
         ],
         "xaxis": "x",
         "y": [
          -2.2788725513989045,
          0.9776047087012897,
          1.1574389350518786,
          0.32344812570269277,
          2.0901391114327055,
          1.0318237776662107,
          2.821541155888034,
          2.201542579153583,
          3.3213402650751367,
          0.47025564607218445,
          1.4992128057444862,
          -0.2883269828853845,
          -0.33970181184380527,
          2.654470754378316,
          0.42200990042517766,
          -2.056517485222166,
          -2.6895168717611844,
          -0.12938027018461098,
          2.1435377043683705
         ],
         "yaxis": "y"
        },
        {
         "hovertemplate": "color=MKP<br>0=%{x}<br>1=%{y}<extra></extra>",
         "legendgroup": "MKP",
         "marker": {
          "color": "#19d3f3",
          "symbol": "circle"
         },
         "mode": "markers",
         "name": "MKP",
         "orientation": "v",
         "showlegend": true,
         "type": "scatter",
         "x": [
          3.8980616084586943,
          -4.60485395678928,
          -5.571027589941458,
          -5.941493075822688,
          -5.538588823495099,
          -3.0827152801039155,
          -6.800192077031319,
          -6.985789225971964
         ],
         "xaxis": "x",
         "y": [
          0.27967612946756326,
          -0.5643942702097106,
          4.6214694061947705,
          1.9672914654567113,
          5.166248258610711,
          -1.3637376210008372,
          7.100094341492955,
          7.576875594767224
         ],
         "yaxis": "y"
        },
        {
         "hovertemplate": "color=MMP<br>0=%{x}<br>1=%{y}<extra></extra>",
         "legendgroup": "MMP",
         "marker": {
          "color": "#FF6692",
          "symbol": "circle"
         },
         "mode": "markers",
         "name": "MMP",
         "orientation": "v",
         "showlegend": true,
         "type": "scatter",
         "x": [
          -4.604340134263453,
          -3.3921571870970966,
          -4.863972699521204,
          -4.180253655196002,
          -4.057183914406546,
          -4.364886259670471,
          -3.4501954696411636,
          -3.590851670015515,
          -5.327400980635023,
          -3.716866215925032,
          -4.822906681265936,
          -4.67093988415835,
          -3.655875860051174,
          -3.7417204345623554,
          -4.401637278093781,
          -3.937174737376,
          -3.5262627101819093,
          -5.031000873314409,
          -4.309608075289388
         ],
         "xaxis": "x",
         "y": [
          -4.016343134553595,
          -3.2429107924804095,
          -2.154443528659995,
          -2.333258043594572,
          -0.910198981042,
          -2.7050580331367313,
          -3.9319415850749064,
          -4.789099456929413,
          0.3403220975747184,
          -3.1587387132710565,
          -0.29201071029411585,
          -3.0283183726602205,
          -3.000244250920104,
          -3.1401097652966827,
          -1.6204135000279707,
          -2.002874586816198,
          -2.483600447625917,
          -1.3360005794037888,
          -1.527049113182258
         ],
         "yaxis": "y"
        },
        {
         "hovertemplate": "color=PNR<br>0=%{x}<br>1=%{y}<extra></extra>",
         "legendgroup": "PNR",
         "marker": {
          "color": "#B6E880",
          "symbol": "circle"
         },
         "mode": "markers",
         "name": "PNR",
         "orientation": "v",
         "showlegend": true,
         "type": "scatter",
         "x": [
          9.886950772720953,
          9.616525930308468,
          8.69841017887994
         ],
         "xaxis": "x",
         "y": [
          -0.5721445589773596,
          -0.3807018735218242,
          -0.04416611652991056
         ],
         "yaxis": "y"
        },
        {
         "hovertemplate": "color=PTW<br>0=%{x}<br>1=%{y}<extra></extra>",
         "legendgroup": "PTW",
         "marker": {
          "color": "#FF97FF",
          "symbol": "circle"
         },
         "mode": "markers",
         "name": "PTW",
         "orientation": "v",
         "showlegend": true,
         "type": "scatter",
         "x": [
          -5.763342808213375,
          -4.8390104507680665,
          -6.1183698537231495,
          -4.985198878288755,
          -4.980342148574955,
          -4.686166597504959,
          -4.311310081340932,
          -4.9367069802076005
         ],
         "xaxis": "x",
         "y": [
          1.0149721943875727,
          -0.339830482712083,
          1.8048188057516268,
          -1.2659375068911063,
          0.34514965703467027,
          -1.5165772009754035,
          -1.7760018004616998,
          -2.2614633454205615
         ],
         "yaxis": "y"
        },
        {
         "hovertemplate": "color=RF<br>0=%{x}<br>1=%{y}<extra></extra>",
         "legendgroup": "RF",
         "marker": {
          "color": "#FECB52",
          "symbol": "circle"
         },
         "mode": "markers",
         "name": "RF",
         "orientation": "v",
         "showlegend": true,
         "type": "scatter",
         "x": [
          9.931910900452596,
          9.904294171812076,
          9.470385319713921,
          9.660398410094714,
          9.444702269153867,
          10.010259763016903,
          10.370556090652668,
          10.042112596447634,
          10.246402055815281,
          9.646801536005102,
          10.518087179296712
         ],
         "xaxis": "x",
         "y": [
          -0.5210180206917286,
          0.00802461885476648,
          -0.3260991031664214,
          -0.32435170799840135,
          -0.10356178530348538,
          -0.6054263045125478,
          0.3223061232730871,
          -0.40874863637263736,
          -0.8248854980568653,
          -0.7755702282997258,
          -0.506830452429745
         ],
         "yaxis": "y"
        },
        {
         "hovertemplate": "color=RGT<br>0=%{x}<br>1=%{y}<extra></extra>",
         "legendgroup": "RGT",
         "marker": {
          "color": "#636efa",
          "symbol": "circle"
         },
         "mode": "markers",
         "name": "RGT",
         "orientation": "v",
         "showlegend": true,
         "type": "scatter",
         "x": [
          -4.820749199586533,
          -5.224038575086871,
          -4.209412105196133,
          -4.476604370229272,
          -4.746453236836065
         ],
         "xaxis": "x",
         "y": [
          1.4470496297092907,
          0.7357282738095032,
          -2.332812630331883,
          -2.5233091971382575,
          -1.3026976179511238
         ],
         "yaxis": "y"
        },
        {
         "hovertemplate": "color=RRL<br>0=%{x}<br>1=%{y}<extra></extra>",
         "legendgroup": "RRL",
         "marker": {
          "color": "#EF553B",
          "symbol": "circle"
         },
         "mode": "markers",
         "name": "RRL",
         "orientation": "v",
         "showlegend": true,
         "type": "scatter",
         "x": [
          4.003003175964514,
          3.83213266718547,
          4.676434842801398,
          3.104561875438744,
          2.598257012196361,
          -1.341724057059263,
          -3.086362747047765,
          -2.389083681052626,
          -2.315445250179181,
          0.7939087059608511,
          0.63865378928614,
          -1.714554144300538,
          -4.184765546921476,
          0.4640817802217822,
          3.532300012478452,
          2.337180092404286,
          2.536996844373149,
          1.8116021061784429,
          3.4213146959498557
         ],
         "xaxis": "x",
         "y": [
          1.9121991573930084,
          2.761807316592268,
          1.9736581643861606,
          3.2898942091983234,
          8.29165195527511,
          -4.558082161246634,
          -4.433687408594538,
          -3.3920942011868105,
          -1.8016194538562207,
          1.4362509032519735,
          -1.3070600080363073,
          3.175023416033599,
          10.247964247518166,
          2.3678318699398155,
          2.046754584523512,
          1.8678571464220814,
          0.3111908619485699,
          5.376906040201385,
          3.863806362906876
         ],
         "yaxis": "y"
        },
        {
         "hovertemplate": "color=SLG<br>0=%{x}<br>1=%{y}<extra></extra>",
         "legendgroup": "SLG",
         "marker": {
          "color": "#00cc96",
          "symbol": "circle"
         },
         "mode": "markers",
         "name": "SLG",
         "orientation": "v",
         "showlegend": true,
         "type": "scatter",
         "x": [
          9.990400231022193,
          9.905840993039936,
          10.144578803338623,
          9.90392801852001,
          10.041563324748132,
          9.736806790058486,
          9.99607720565682,
          9.782197432301647,
          10.472053241817568,
          9.922103685390091,
          9.060069312486531,
          9.902522813717805,
          9.499231057398061,
          9.87253575671702,
          9.132753918392902,
          10.040871608834903,
          10.253357413767063
         ],
         "xaxis": "x",
         "y": [
          -0.151630952452979,
          -0.8393415817335808,
          -0.3597245922878043,
          -0.171628097587851,
          -0.029555382801965093,
          -0.4817045307169612,
          -0.25375158675833326,
          -0.5776761377625367,
          -0.3148357302955539,
          -0.7003016643067138,
          -0.14821855303480586,
          -0.30575962598001055,
          0.38290132862587,
          -0.40590203621526694,
          0.26885311062456774,
          -0.09326210093514452,
          -0.6167476809044014
         ],
         "yaxis": "y"
        }
       ],
       "layout": {
        "legend": {
         "title": {
          "text": "color"
         },
         "tracegroupgap": 0
        },
        "margin": {
         "t": 60
        },
        "template": {
         "data": {
          "bar": [
           {
            "error_x": {
             "color": "#2a3f5f"
            },
            "error_y": {
             "color": "#2a3f5f"
            },
            "marker": {
             "line": {
              "color": "#E5ECF6",
              "width": 0.5
             },
             "pattern": {
              "fillmode": "overlay",
              "size": 10,
              "solidity": 0.2
             }
            },
            "type": "bar"
           }
          ],
          "barpolar": [
           {
            "marker": {
             "line": {
              "color": "#E5ECF6",
              "width": 0.5
             },
             "pattern": {
              "fillmode": "overlay",
              "size": 10,
              "solidity": 0.2
             }
            },
            "type": "barpolar"
           }
          ],
          "carpet": [
           {
            "aaxis": {
             "endlinecolor": "#2a3f5f",
             "gridcolor": "white",
             "linecolor": "white",
             "minorgridcolor": "white",
             "startlinecolor": "#2a3f5f"
            },
            "baxis": {
             "endlinecolor": "#2a3f5f",
             "gridcolor": "white",
             "linecolor": "white",
             "minorgridcolor": "white",
             "startlinecolor": "#2a3f5f"
            },
            "type": "carpet"
           }
          ],
          "choropleth": [
           {
            "colorbar": {
             "outlinewidth": 0,
             "ticks": ""
            },
            "type": "choropleth"
           }
          ],
          "contour": [
           {
            "colorbar": {
             "outlinewidth": 0,
             "ticks": ""
            },
            "colorscale": [
             [
              0,
              "#0d0887"
             ],
             [
              0.1111111111111111,
              "#46039f"
             ],
             [
              0.2222222222222222,
              "#7201a8"
             ],
             [
              0.3333333333333333,
              "#9c179e"
             ],
             [
              0.4444444444444444,
              "#bd3786"
             ],
             [
              0.5555555555555556,
              "#d8576b"
             ],
             [
              0.6666666666666666,
              "#ed7953"
             ],
             [
              0.7777777777777778,
              "#fb9f3a"
             ],
             [
              0.8888888888888888,
              "#fdca26"
             ],
             [
              1,
              "#f0f921"
             ]
            ],
            "type": "contour"
           }
          ],
          "contourcarpet": [
           {
            "colorbar": {
             "outlinewidth": 0,
             "ticks": ""
            },
            "type": "contourcarpet"
           }
          ],
          "heatmap": [
           {
            "colorbar": {
             "outlinewidth": 0,
             "ticks": ""
            },
            "colorscale": [
             [
              0,
              "#0d0887"
             ],
             [
              0.1111111111111111,
              "#46039f"
             ],
             [
              0.2222222222222222,
              "#7201a8"
             ],
             [
              0.3333333333333333,
              "#9c179e"
             ],
             [
              0.4444444444444444,
              "#bd3786"
             ],
             [
              0.5555555555555556,
              "#d8576b"
             ],
             [
              0.6666666666666666,
              "#ed7953"
             ],
             [
              0.7777777777777778,
              "#fb9f3a"
             ],
             [
              0.8888888888888888,
              "#fdca26"
             ],
             [
              1,
              "#f0f921"
             ]
            ],
            "type": "heatmap"
           }
          ],
          "heatmapgl": [
           {
            "colorbar": {
             "outlinewidth": 0,
             "ticks": ""
            },
            "colorscale": [
             [
              0,
              "#0d0887"
             ],
             [
              0.1111111111111111,
              "#46039f"
             ],
             [
              0.2222222222222222,
              "#7201a8"
             ],
             [
              0.3333333333333333,
              "#9c179e"
             ],
             [
              0.4444444444444444,
              "#bd3786"
             ],
             [
              0.5555555555555556,
              "#d8576b"
             ],
             [
              0.6666666666666666,
              "#ed7953"
             ],
             [
              0.7777777777777778,
              "#fb9f3a"
             ],
             [
              0.8888888888888888,
              "#fdca26"
             ],
             [
              1,
              "#f0f921"
             ]
            ],
            "type": "heatmapgl"
           }
          ],
          "histogram": [
           {
            "marker": {
             "pattern": {
              "fillmode": "overlay",
              "size": 10,
              "solidity": 0.2
             }
            },
            "type": "histogram"
           }
          ],
          "histogram2d": [
           {
            "colorbar": {
             "outlinewidth": 0,
             "ticks": ""
            },
            "colorscale": [
             [
              0,
              "#0d0887"
             ],
             [
              0.1111111111111111,
              "#46039f"
             ],
             [
              0.2222222222222222,
              "#7201a8"
             ],
             [
              0.3333333333333333,
              "#9c179e"
             ],
             [
              0.4444444444444444,
              "#bd3786"
             ],
             [
              0.5555555555555556,
              "#d8576b"
             ],
             [
              0.6666666666666666,
              "#ed7953"
             ],
             [
              0.7777777777777778,
              "#fb9f3a"
             ],
             [
              0.8888888888888888,
              "#fdca26"
             ],
             [
              1,
              "#f0f921"
             ]
            ],
            "type": "histogram2d"
           }
          ],
          "histogram2dcontour": [
           {
            "colorbar": {
             "outlinewidth": 0,
             "ticks": ""
            },
            "colorscale": [
             [
              0,
              "#0d0887"
             ],
             [
              0.1111111111111111,
              "#46039f"
             ],
             [
              0.2222222222222222,
              "#7201a8"
             ],
             [
              0.3333333333333333,
              "#9c179e"
             ],
             [
              0.4444444444444444,
              "#bd3786"
             ],
             [
              0.5555555555555556,
              "#d8576b"
             ],
             [
              0.6666666666666666,
              "#ed7953"
             ],
             [
              0.7777777777777778,
              "#fb9f3a"
             ],
             [
              0.8888888888888888,
              "#fdca26"
             ],
             [
              1,
              "#f0f921"
             ]
            ],
            "type": "histogram2dcontour"
           }
          ],
          "mesh3d": [
           {
            "colorbar": {
             "outlinewidth": 0,
             "ticks": ""
            },
            "type": "mesh3d"
           }
          ],
          "parcoords": [
           {
            "line": {
             "colorbar": {
              "outlinewidth": 0,
              "ticks": ""
             }
            },
            "type": "parcoords"
           }
          ],
          "pie": [
           {
            "automargin": true,
            "type": "pie"
           }
          ],
          "scatter": [
           {
            "fillpattern": {
             "fillmode": "overlay",
             "size": 10,
             "solidity": 0.2
            },
            "type": "scatter"
           }
          ],
          "scatter3d": [
           {
            "line": {
             "colorbar": {
              "outlinewidth": 0,
              "ticks": ""
             }
            },
            "marker": {
             "colorbar": {
              "outlinewidth": 0,
              "ticks": ""
             }
            },
            "type": "scatter3d"
           }
          ],
          "scattercarpet": [
           {
            "marker": {
             "colorbar": {
              "outlinewidth": 0,
              "ticks": ""
             }
            },
            "type": "scattercarpet"
           }
          ],
          "scattergeo": [
           {
            "marker": {
             "colorbar": {
              "outlinewidth": 0,
              "ticks": ""
             }
            },
            "type": "scattergeo"
           }
          ],
          "scattergl": [
           {
            "marker": {
             "colorbar": {
              "outlinewidth": 0,
              "ticks": ""
             }
            },
            "type": "scattergl"
           }
          ],
          "scattermapbox": [
           {
            "marker": {
             "colorbar": {
              "outlinewidth": 0,
              "ticks": ""
             }
            },
            "type": "scattermapbox"
           }
          ],
          "scatterpolar": [
           {
            "marker": {
             "colorbar": {
              "outlinewidth": 0,
              "ticks": ""
             }
            },
            "type": "scatterpolar"
           }
          ],
          "scatterpolargl": [
           {
            "marker": {
             "colorbar": {
              "outlinewidth": 0,
              "ticks": ""
             }
            },
            "type": "scatterpolargl"
           }
          ],
          "scatterternary": [
           {
            "marker": {
             "colorbar": {
              "outlinewidth": 0,
              "ticks": ""
             }
            },
            "type": "scatterternary"
           }
          ],
          "surface": [
           {
            "colorbar": {
             "outlinewidth": 0,
             "ticks": ""
            },
            "colorscale": [
             [
              0,
              "#0d0887"
             ],
             [
              0.1111111111111111,
              "#46039f"
             ],
             [
              0.2222222222222222,
              "#7201a8"
             ],
             [
              0.3333333333333333,
              "#9c179e"
             ],
             [
              0.4444444444444444,
              "#bd3786"
             ],
             [
              0.5555555555555556,
              "#d8576b"
             ],
             [
              0.6666666666666666,
              "#ed7953"
             ],
             [
              0.7777777777777778,
              "#fb9f3a"
             ],
             [
              0.8888888888888888,
              "#fdca26"
             ],
             [
              1,
              "#f0f921"
             ]
            ],
            "type": "surface"
           }
          ],
          "table": [
           {
            "cells": {
             "fill": {
              "color": "#EBF0F8"
             },
             "line": {
              "color": "white"
             }
            },
            "header": {
             "fill": {
              "color": "#C8D4E3"
             },
             "line": {
              "color": "white"
             }
            },
            "type": "table"
           }
          ]
         },
         "layout": {
          "annotationdefaults": {
           "arrowcolor": "#2a3f5f",
           "arrowhead": 0,
           "arrowwidth": 1
          },
          "autotypenumbers": "strict",
          "coloraxis": {
           "colorbar": {
            "outlinewidth": 0,
            "ticks": ""
           }
          },
          "colorscale": {
           "diverging": [
            [
             0,
             "#8e0152"
            ],
            [
             0.1,
             "#c51b7d"
            ],
            [
             0.2,
             "#de77ae"
            ],
            [
             0.3,
             "#f1b6da"
            ],
            [
             0.4,
             "#fde0ef"
            ],
            [
             0.5,
             "#f7f7f7"
            ],
            [
             0.6,
             "#e6f5d0"
            ],
            [
             0.7,
             "#b8e186"
            ],
            [
             0.8,
             "#7fbc41"
            ],
            [
             0.9,
             "#4d9221"
            ],
            [
             1,
             "#276419"
            ]
           ],
           "sequential": [
            [
             0,
             "#0d0887"
            ],
            [
             0.1111111111111111,
             "#46039f"
            ],
            [
             0.2222222222222222,
             "#7201a8"
            ],
            [
             0.3333333333333333,
             "#9c179e"
            ],
            [
             0.4444444444444444,
             "#bd3786"
            ],
            [
             0.5555555555555556,
             "#d8576b"
            ],
            [
             0.6666666666666666,
             "#ed7953"
            ],
            [
             0.7777777777777778,
             "#fb9f3a"
            ],
            [
             0.8888888888888888,
             "#fdca26"
            ],
            [
             1,
             "#f0f921"
            ]
           ],
           "sequentialminus": [
            [
             0,
             "#0d0887"
            ],
            [
             0.1111111111111111,
             "#46039f"
            ],
            [
             0.2222222222222222,
             "#7201a8"
            ],
            [
             0.3333333333333333,
             "#9c179e"
            ],
            [
             0.4444444444444444,
             "#bd3786"
            ],
            [
             0.5555555555555556,
             "#d8576b"
            ],
            [
             0.6666666666666666,
             "#ed7953"
            ],
            [
             0.7777777777777778,
             "#fb9f3a"
            ],
            [
             0.8888888888888888,
             "#fdca26"
            ],
            [
             1,
             "#f0f921"
            ]
           ]
          },
          "colorway": [
           "#636efa",
           "#EF553B",
           "#00cc96",
           "#ab63fa",
           "#FFA15A",
           "#19d3f3",
           "#FF6692",
           "#B6E880",
           "#FF97FF",
           "#FECB52"
          ],
          "font": {
           "color": "#2a3f5f"
          },
          "geo": {
           "bgcolor": "white",
           "lakecolor": "white",
           "landcolor": "#E5ECF6",
           "showlakes": true,
           "showland": true,
           "subunitcolor": "white"
          },
          "hoverlabel": {
           "align": "left"
          },
          "hovermode": "closest",
          "mapbox": {
           "style": "light"
          },
          "paper_bgcolor": "white",
          "plot_bgcolor": "#E5ECF6",
          "polar": {
           "angularaxis": {
            "gridcolor": "white",
            "linecolor": "white",
            "ticks": ""
           },
           "bgcolor": "#E5ECF6",
           "radialaxis": {
            "gridcolor": "white",
            "linecolor": "white",
            "ticks": ""
           }
          },
          "scene": {
           "xaxis": {
            "backgroundcolor": "#E5ECF6",
            "gridcolor": "white",
            "gridwidth": 2,
            "linecolor": "white",
            "showbackground": true,
            "ticks": "",
            "zerolinecolor": "white"
           },
           "yaxis": {
            "backgroundcolor": "#E5ECF6",
            "gridcolor": "white",
            "gridwidth": 2,
            "linecolor": "white",
            "showbackground": true,
            "ticks": "",
            "zerolinecolor": "white"
           },
           "zaxis": {
            "backgroundcolor": "#E5ECF6",
            "gridcolor": "white",
            "gridwidth": 2,
            "linecolor": "white",
            "showbackground": true,
            "ticks": "",
            "zerolinecolor": "white"
           }
          },
          "shapedefaults": {
           "line": {
            "color": "#2a3f5f"
           }
          },
          "ternary": {
           "aaxis": {
            "gridcolor": "white",
            "linecolor": "white",
            "ticks": ""
           },
           "baxis": {
            "gridcolor": "white",
            "linecolor": "white",
            "ticks": ""
           },
           "bgcolor": "#E5ECF6",
           "caxis": {
            "gridcolor": "white",
            "linecolor": "white",
            "ticks": ""
           }
          },
          "title": {
           "x": 0.05
          },
          "xaxis": {
           "automargin": true,
           "gridcolor": "white",
           "linecolor": "white",
           "ticks": "",
           "title": {
            "standoff": 15
           },
           "zerolinecolor": "white",
           "zerolinewidth": 2
          },
          "yaxis": {
           "automargin": true,
           "gridcolor": "white",
           "linecolor": "white",
           "ticks": "",
           "title": {
            "standoff": 15
           },
           "zerolinecolor": "white",
           "zerolinewidth": 2
          }
         }
        },
        "title": {
         "text": "50 Most Abundant Leaf Microbe Genera by Site PCA"
        },
        "xaxis": {
         "anchor": "y",
         "domain": [
          0,
          1
         ],
         "title": {
          "text": "PC1 40.2%"
         }
        },
        "yaxis": {
         "anchor": "x",
         "domain": [
          0,
          1
         ],
         "title": {
          "text": "PC2 8.2%"
         }
        }
       }
      },
      "text/html": [
       "<div>                            <div id=\"f0d05c2f-ce7b-486e-8028-0722cde2ab32\" class=\"plotly-graph-div\" style=\"height:525px; width:100%;\"></div>            <script type=\"text/javascript\">                require([\"plotly\"], function(Plotly) {                    window.PLOTLYENV=window.PLOTLYENV || {};                                    if (document.getElementById(\"f0d05c2f-ce7b-486e-8028-0722cde2ab32\")) {                    Plotly.newPlot(                        \"f0d05c2f-ce7b-486e-8028-0722cde2ab32\",                        [{\"hovertemplate\":\"color=CMB<br>0=%{x}<br>1=%{y}<extra></extra>\",\"legendgroup\":\"CMB\",\"marker\":{\"color\":\"#636efa\",\"symbol\":\"circle\"},\"mode\":\"markers\",\"name\":\"CMB\",\"orientation\":\"v\",\"showlegend\":true,\"x\":[-3.869218841088769,-4.23089393956293,-3.7619601641747322,-4.09097784251389,-3.9702824505528875,-3.3431720084159817,-4.304615907821897,-4.4212418153951,-3.4283779047679195,-3.782007108036632,-3.591013612048619,-4.109281525832044,-3.8379043961031276,-3.7133779101101276,-4.0084339352296565,-3.8028276309308175,-4.670162307853379,-3.6113878522234826,-4.6019769510687265],\"xaxis\":\"x\",\"y\":[-1.5457845211948384,-1.6384666840867517,-2.2487306442902018,-2.3554053773392707,-2.640170953444384,-0.15718283478239786,-0.4167488284085961,-2.6688562412806687,-2.9792270983562403,-2.324593181354694,-1.7121833725326179,-1.8016253333585903,-2.4068918128659624,0.399113914909385,-2.0681354626881236,-1.934696603264693,-1.3674263749203002,-2.476419819194672,0.12502659462677274],\"yaxis\":\"y\",\"type\":\"scatter\"},{\"hovertemplate\":\"color=FRW<br>0=%{x}<br>1=%{y}<extra></extra>\",\"legendgroup\":\"FRW\",\"marker\":{\"color\":\"#EF553B\",\"symbol\":\"circle\"},\"mode\":\"markers\",\"name\":\"FRW\",\"orientation\":\"v\",\"showlegend\":true,\"x\":[9.38913067018038,10.162226897781242,9.769201467520224,9.504966905467093,9.440467041087219,9.270652753508841,9.567820660112464,9.187572644213557,9.716802248802102,9.315393799369861,9.993812615398761],\"xaxis\":\"x\",\"y\":[0.022222155172950602,0.08179799887308016,-0.2955319718665164,0.5425894374241922,0.33704625809814204,0.6133100471946177,0.011538780119749516,0.08671342373527942,-0.4272785876040259,-0.08296211554120106,-0.0013546008572509257],\"yaxis\":\"y\",\"type\":\"scatter\"},{\"hovertemplate\":\"color=HR<br>0=%{x}<br>1=%{y}<extra></extra>\",\"legendgroup\":\"HR\",\"marker\":{\"color\":\"#00cc96\",\"symbol\":\"circle\"},\"mode\":\"markers\",\"name\":\"HR\",\"orientation\":\"v\",\"showlegend\":true,\"x\":[-1.9312549326111785,0.32304883140665813,-5.8433398489426525,-4.166227649381334],\"xaxis\":\"x\",\"y\":[-2.211954531028283,6.569908868319663,11.468764293175228,16.38813033483443],\"yaxis\":\"y\",\"type\":\"scatter\"},{\"hovertemplate\":\"color=LFS<br>0=%{x}<br>1=%{y}<extra></extra>\",\"legendgroup\":\"LFS\",\"marker\":{\"color\":\"#ab63fa\",\"symbol\":\"circle\"},\"mode\":\"markers\",\"name\":\"LFS\",\"orientation\":\"v\",\"showlegend\":true,\"x\":[-4.534431258634618,-4.619290636629358,-4.877509798688043,-5.247970070353009,-4.946520610050511,-4.778375903845234,-4.469879474856306,-4.997291553726235,-4.586012492076129,-5.1087775407637155,-5.598560519818487,-4.943001502610904,-4.923837009513587],\"xaxis\":\"x\",\"y\":[-2.3920760158452987,-2.4360817018047483,-0.4497069915631719,1.9093408645911811,-1.2317379405338165,-1.978822582875884,-1.6907089488998372,0.34818265465505766,0.5687571466111061,-0.41572459977914417,0.20235404331113083,-1.0150128665231661,-0.6844619445394174],\"yaxis\":\"y\",\"type\":\"scatter\"},{\"hovertemplate\":\"color=LM<br>0=%{x}<br>1=%{y}<extra></extra>\",\"legendgroup\":\"LM\",\"marker\":{\"color\":\"#FFA15A\",\"symbol\":\"circle\"},\"mode\":\"markers\",\"name\":\"LM\",\"orientation\":\"v\",\"showlegend\":true,\"x\":[-4.589378191799763,-5.259732637029045,-5.0752100419513475,-5.9792577940857905,-5.730118906389903,-5.252902519630119,-4.648866798416268,-5.533420728561796,-5.711938341074282,-5.386976101214665,-5.741610710831969,-5.328639236884131,-4.9610731802665935,-6.459523664917656,-5.4619689868919785,-4.143135246774803,-4.3641074397577295,-4.919540217132616,-5.825943413544717],\"xaxis\":\"x\",\"y\":[-2.2788725513989045,0.9776047087012897,1.1574389350518786,0.32344812570269277,2.0901391114327055,1.0318237776662107,2.821541155888034,2.201542579153583,3.3213402650751367,0.47025564607218445,1.4992128057444862,-0.2883269828853845,-0.33970181184380527,2.654470754378316,0.42200990042517766,-2.056517485222166,-2.6895168717611844,-0.12938027018461098,2.1435377043683705],\"yaxis\":\"y\",\"type\":\"scatter\"},{\"hovertemplate\":\"color=MKP<br>0=%{x}<br>1=%{y}<extra></extra>\",\"legendgroup\":\"MKP\",\"marker\":{\"color\":\"#19d3f3\",\"symbol\":\"circle\"},\"mode\":\"markers\",\"name\":\"MKP\",\"orientation\":\"v\",\"showlegend\":true,\"x\":[3.8980616084586943,-4.60485395678928,-5.571027589941458,-5.941493075822688,-5.538588823495099,-3.0827152801039155,-6.800192077031319,-6.985789225971964],\"xaxis\":\"x\",\"y\":[0.27967612946756326,-0.5643942702097106,4.6214694061947705,1.9672914654567113,5.166248258610711,-1.3637376210008372,7.100094341492955,7.576875594767224],\"yaxis\":\"y\",\"type\":\"scatter\"},{\"hovertemplate\":\"color=MMP<br>0=%{x}<br>1=%{y}<extra></extra>\",\"legendgroup\":\"MMP\",\"marker\":{\"color\":\"#FF6692\",\"symbol\":\"circle\"},\"mode\":\"markers\",\"name\":\"MMP\",\"orientation\":\"v\",\"showlegend\":true,\"x\":[-4.604340134263453,-3.3921571870970966,-4.863972699521204,-4.180253655196002,-4.057183914406546,-4.364886259670471,-3.4501954696411636,-3.590851670015515,-5.327400980635023,-3.716866215925032,-4.822906681265936,-4.67093988415835,-3.655875860051174,-3.7417204345623554,-4.401637278093781,-3.937174737376,-3.5262627101819093,-5.031000873314409,-4.309608075289388],\"xaxis\":\"x\",\"y\":[-4.016343134553595,-3.2429107924804095,-2.154443528659995,-2.333258043594572,-0.910198981042,-2.7050580331367313,-3.9319415850749064,-4.789099456929413,0.3403220975747184,-3.1587387132710565,-0.29201071029411585,-3.0283183726602205,-3.000244250920104,-3.1401097652966827,-1.6204135000279707,-2.002874586816198,-2.483600447625917,-1.3360005794037888,-1.527049113182258],\"yaxis\":\"y\",\"type\":\"scatter\"},{\"hovertemplate\":\"color=PNR<br>0=%{x}<br>1=%{y}<extra></extra>\",\"legendgroup\":\"PNR\",\"marker\":{\"color\":\"#B6E880\",\"symbol\":\"circle\"},\"mode\":\"markers\",\"name\":\"PNR\",\"orientation\":\"v\",\"showlegend\":true,\"x\":[9.886950772720953,9.616525930308468,8.69841017887994],\"xaxis\":\"x\",\"y\":[-0.5721445589773596,-0.3807018735218242,-0.04416611652991056],\"yaxis\":\"y\",\"type\":\"scatter\"},{\"hovertemplate\":\"color=PTW<br>0=%{x}<br>1=%{y}<extra></extra>\",\"legendgroup\":\"PTW\",\"marker\":{\"color\":\"#FF97FF\",\"symbol\":\"circle\"},\"mode\":\"markers\",\"name\":\"PTW\",\"orientation\":\"v\",\"showlegend\":true,\"x\":[-5.763342808213375,-4.8390104507680665,-6.1183698537231495,-4.985198878288755,-4.980342148574955,-4.686166597504959,-4.311310081340932,-4.9367069802076005],\"xaxis\":\"x\",\"y\":[1.0149721943875727,-0.339830482712083,1.8048188057516268,-1.2659375068911063,0.34514965703467027,-1.5165772009754035,-1.7760018004616998,-2.2614633454205615],\"yaxis\":\"y\",\"type\":\"scatter\"},{\"hovertemplate\":\"color=RF<br>0=%{x}<br>1=%{y}<extra></extra>\",\"legendgroup\":\"RF\",\"marker\":{\"color\":\"#FECB52\",\"symbol\":\"circle\"},\"mode\":\"markers\",\"name\":\"RF\",\"orientation\":\"v\",\"showlegend\":true,\"x\":[9.931910900452596,9.904294171812076,9.470385319713921,9.660398410094714,9.444702269153867,10.010259763016903,10.370556090652668,10.042112596447634,10.246402055815281,9.646801536005102,10.518087179296712],\"xaxis\":\"x\",\"y\":[-0.5210180206917286,0.00802461885476648,-0.3260991031664214,-0.32435170799840135,-0.10356178530348538,-0.6054263045125478,0.3223061232730871,-0.40874863637263736,-0.8248854980568653,-0.7755702282997258,-0.506830452429745],\"yaxis\":\"y\",\"type\":\"scatter\"},{\"hovertemplate\":\"color=RGT<br>0=%{x}<br>1=%{y}<extra></extra>\",\"legendgroup\":\"RGT\",\"marker\":{\"color\":\"#636efa\",\"symbol\":\"circle\"},\"mode\":\"markers\",\"name\":\"RGT\",\"orientation\":\"v\",\"showlegend\":true,\"x\":[-4.820749199586533,-5.224038575086871,-4.209412105196133,-4.476604370229272,-4.746453236836065],\"xaxis\":\"x\",\"y\":[1.4470496297092907,0.7357282738095032,-2.332812630331883,-2.5233091971382575,-1.3026976179511238],\"yaxis\":\"y\",\"type\":\"scatter\"},{\"hovertemplate\":\"color=RRL<br>0=%{x}<br>1=%{y}<extra></extra>\",\"legendgroup\":\"RRL\",\"marker\":{\"color\":\"#EF553B\",\"symbol\":\"circle\"},\"mode\":\"markers\",\"name\":\"RRL\",\"orientation\":\"v\",\"showlegend\":true,\"x\":[4.003003175964514,3.83213266718547,4.676434842801398,3.104561875438744,2.598257012196361,-1.341724057059263,-3.086362747047765,-2.389083681052626,-2.315445250179181,0.7939087059608511,0.63865378928614,-1.714554144300538,-4.184765546921476,0.4640817802217822,3.532300012478452,2.337180092404286,2.536996844373149,1.8116021061784429,3.4213146959498557],\"xaxis\":\"x\",\"y\":[1.9121991573930084,2.761807316592268,1.9736581643861606,3.2898942091983234,8.29165195527511,-4.558082161246634,-4.433687408594538,-3.3920942011868105,-1.8016194538562207,1.4362509032519735,-1.3070600080363073,3.175023416033599,10.247964247518166,2.3678318699398155,2.046754584523512,1.8678571464220814,0.3111908619485699,5.376906040201385,3.863806362906876],\"yaxis\":\"y\",\"type\":\"scatter\"},{\"hovertemplate\":\"color=SLG<br>0=%{x}<br>1=%{y}<extra></extra>\",\"legendgroup\":\"SLG\",\"marker\":{\"color\":\"#00cc96\",\"symbol\":\"circle\"},\"mode\":\"markers\",\"name\":\"SLG\",\"orientation\":\"v\",\"showlegend\":true,\"x\":[9.990400231022193,9.905840993039936,10.144578803338623,9.90392801852001,10.041563324748132,9.736806790058486,9.99607720565682,9.782197432301647,10.472053241817568,9.922103685390091,9.060069312486531,9.902522813717805,9.499231057398061,9.87253575671702,9.132753918392902,10.040871608834903,10.253357413767063],\"xaxis\":\"x\",\"y\":[-0.151630952452979,-0.8393415817335808,-0.3597245922878043,-0.171628097587851,-0.029555382801965093,-0.4817045307169612,-0.25375158675833326,-0.5776761377625367,-0.3148357302955539,-0.7003016643067138,-0.14821855303480586,-0.30575962598001055,0.38290132862587,-0.40590203621526694,0.26885311062456774,-0.09326210093514452,-0.6167476809044014],\"yaxis\":\"y\",\"type\":\"scatter\"}],                        {\"template\":{\"data\":{\"histogram2dcontour\":[{\"type\":\"histogram2dcontour\",\"colorbar\":{\"outlinewidth\":0,\"ticks\":\"\"},\"colorscale\":[[0.0,\"#0d0887\"],[0.1111111111111111,\"#46039f\"],[0.2222222222222222,\"#7201a8\"],[0.3333333333333333,\"#9c179e\"],[0.4444444444444444,\"#bd3786\"],[0.5555555555555556,\"#d8576b\"],[0.6666666666666666,\"#ed7953\"],[0.7777777777777778,\"#fb9f3a\"],[0.8888888888888888,\"#fdca26\"],[1.0,\"#f0f921\"]]}],\"choropleth\":[{\"type\":\"choropleth\",\"colorbar\":{\"outlinewidth\":0,\"ticks\":\"\"}}],\"histogram2d\":[{\"type\":\"histogram2d\",\"colorbar\":{\"outlinewidth\":0,\"ticks\":\"\"},\"colorscale\":[[0.0,\"#0d0887\"],[0.1111111111111111,\"#46039f\"],[0.2222222222222222,\"#7201a8\"],[0.3333333333333333,\"#9c179e\"],[0.4444444444444444,\"#bd3786\"],[0.5555555555555556,\"#d8576b\"],[0.6666666666666666,\"#ed7953\"],[0.7777777777777778,\"#fb9f3a\"],[0.8888888888888888,\"#fdca26\"],[1.0,\"#f0f921\"]]}],\"heatmap\":[{\"type\":\"heatmap\",\"colorbar\":{\"outlinewidth\":0,\"ticks\":\"\"},\"colorscale\":[[0.0,\"#0d0887\"],[0.1111111111111111,\"#46039f\"],[0.2222222222222222,\"#7201a8\"],[0.3333333333333333,\"#9c179e\"],[0.4444444444444444,\"#bd3786\"],[0.5555555555555556,\"#d8576b\"],[0.6666666666666666,\"#ed7953\"],[0.7777777777777778,\"#fb9f3a\"],[0.8888888888888888,\"#fdca26\"],[1.0,\"#f0f921\"]]}],\"heatmapgl\":[{\"type\":\"heatmapgl\",\"colorbar\":{\"outlinewidth\":0,\"ticks\":\"\"},\"colorscale\":[[0.0,\"#0d0887\"],[0.1111111111111111,\"#46039f\"],[0.2222222222222222,\"#7201a8\"],[0.3333333333333333,\"#9c179e\"],[0.4444444444444444,\"#bd3786\"],[0.5555555555555556,\"#d8576b\"],[0.6666666666666666,\"#ed7953\"],[0.7777777777777778,\"#fb9f3a\"],[0.8888888888888888,\"#fdca26\"],[1.0,\"#f0f921\"]]}],\"contourcarpet\":[{\"type\":\"contourcarpet\",\"colorbar\":{\"outlinewidth\":0,\"ticks\":\"\"}}],\"contour\":[{\"type\":\"contour\",\"colorbar\":{\"outlinewidth\":0,\"ticks\":\"\"},\"colorscale\":[[0.0,\"#0d0887\"],[0.1111111111111111,\"#46039f\"],[0.2222222222222222,\"#7201a8\"],[0.3333333333333333,\"#9c179e\"],[0.4444444444444444,\"#bd3786\"],[0.5555555555555556,\"#d8576b\"],[0.6666666666666666,\"#ed7953\"],[0.7777777777777778,\"#fb9f3a\"],[0.8888888888888888,\"#fdca26\"],[1.0,\"#f0f921\"]]}],\"surface\":[{\"type\":\"surface\",\"colorbar\":{\"outlinewidth\":0,\"ticks\":\"\"},\"colorscale\":[[0.0,\"#0d0887\"],[0.1111111111111111,\"#46039f\"],[0.2222222222222222,\"#7201a8\"],[0.3333333333333333,\"#9c179e\"],[0.4444444444444444,\"#bd3786\"],[0.5555555555555556,\"#d8576b\"],[0.6666666666666666,\"#ed7953\"],[0.7777777777777778,\"#fb9f3a\"],[0.8888888888888888,\"#fdca26\"],[1.0,\"#f0f921\"]]}],\"mesh3d\":[{\"type\":\"mesh3d\",\"colorbar\":{\"outlinewidth\":0,\"ticks\":\"\"}}],\"scatter\":[{\"fillpattern\":{\"fillmode\":\"overlay\",\"size\":10,\"solidity\":0.2},\"type\":\"scatter\"}],\"parcoords\":[{\"type\":\"parcoords\",\"line\":{\"colorbar\":{\"outlinewidth\":0,\"ticks\":\"\"}}}],\"scatterpolargl\":[{\"type\":\"scatterpolargl\",\"marker\":{\"colorbar\":{\"outlinewidth\":0,\"ticks\":\"\"}}}],\"bar\":[{\"error_x\":{\"color\":\"#2a3f5f\"},\"error_y\":{\"color\":\"#2a3f5f\"},\"marker\":{\"line\":{\"color\":\"#E5ECF6\",\"width\":0.5},\"pattern\":{\"fillmode\":\"overlay\",\"size\":10,\"solidity\":0.2}},\"type\":\"bar\"}],\"scattergeo\":[{\"type\":\"scattergeo\",\"marker\":{\"colorbar\":{\"outlinewidth\":0,\"ticks\":\"\"}}}],\"scatterpolar\":[{\"type\":\"scatterpolar\",\"marker\":{\"colorbar\":{\"outlinewidth\":0,\"ticks\":\"\"}}}],\"histogram\":[{\"marker\":{\"pattern\":{\"fillmode\":\"overlay\",\"size\":10,\"solidity\":0.2}},\"type\":\"histogram\"}],\"scattergl\":[{\"type\":\"scattergl\",\"marker\":{\"colorbar\":{\"outlinewidth\":0,\"ticks\":\"\"}}}],\"scatter3d\":[{\"type\":\"scatter3d\",\"line\":{\"colorbar\":{\"outlinewidth\":0,\"ticks\":\"\"}},\"marker\":{\"colorbar\":{\"outlinewidth\":0,\"ticks\":\"\"}}}],\"scattermapbox\":[{\"type\":\"scattermapbox\",\"marker\":{\"colorbar\":{\"outlinewidth\":0,\"ticks\":\"\"}}}],\"scatterternary\":[{\"type\":\"scatterternary\",\"marker\":{\"colorbar\":{\"outlinewidth\":0,\"ticks\":\"\"}}}],\"scattercarpet\":[{\"type\":\"scattercarpet\",\"marker\":{\"colorbar\":{\"outlinewidth\":0,\"ticks\":\"\"}}}],\"carpet\":[{\"aaxis\":{\"endlinecolor\":\"#2a3f5f\",\"gridcolor\":\"white\",\"linecolor\":\"white\",\"minorgridcolor\":\"white\",\"startlinecolor\":\"#2a3f5f\"},\"baxis\":{\"endlinecolor\":\"#2a3f5f\",\"gridcolor\":\"white\",\"linecolor\":\"white\",\"minorgridcolor\":\"white\",\"startlinecolor\":\"#2a3f5f\"},\"type\":\"carpet\"}],\"table\":[{\"cells\":{\"fill\":{\"color\":\"#EBF0F8\"},\"line\":{\"color\":\"white\"}},\"header\":{\"fill\":{\"color\":\"#C8D4E3\"},\"line\":{\"color\":\"white\"}},\"type\":\"table\"}],\"barpolar\":[{\"marker\":{\"line\":{\"color\":\"#E5ECF6\",\"width\":0.5},\"pattern\":{\"fillmode\":\"overlay\",\"size\":10,\"solidity\":0.2}},\"type\":\"barpolar\"}],\"pie\":[{\"automargin\":true,\"type\":\"pie\"}]},\"layout\":{\"autotypenumbers\":\"strict\",\"colorway\":[\"#636efa\",\"#EF553B\",\"#00cc96\",\"#ab63fa\",\"#FFA15A\",\"#19d3f3\",\"#FF6692\",\"#B6E880\",\"#FF97FF\",\"#FECB52\"],\"font\":{\"color\":\"#2a3f5f\"},\"hovermode\":\"closest\",\"hoverlabel\":{\"align\":\"left\"},\"paper_bgcolor\":\"white\",\"plot_bgcolor\":\"#E5ECF6\",\"polar\":{\"bgcolor\":\"#E5ECF6\",\"angularaxis\":{\"gridcolor\":\"white\",\"linecolor\":\"white\",\"ticks\":\"\"},\"radialaxis\":{\"gridcolor\":\"white\",\"linecolor\":\"white\",\"ticks\":\"\"}},\"ternary\":{\"bgcolor\":\"#E5ECF6\",\"aaxis\":{\"gridcolor\":\"white\",\"linecolor\":\"white\",\"ticks\":\"\"},\"baxis\":{\"gridcolor\":\"white\",\"linecolor\":\"white\",\"ticks\":\"\"},\"caxis\":{\"gridcolor\":\"white\",\"linecolor\":\"white\",\"ticks\":\"\"}},\"coloraxis\":{\"colorbar\":{\"outlinewidth\":0,\"ticks\":\"\"}},\"colorscale\":{\"sequential\":[[0.0,\"#0d0887\"],[0.1111111111111111,\"#46039f\"],[0.2222222222222222,\"#7201a8\"],[0.3333333333333333,\"#9c179e\"],[0.4444444444444444,\"#bd3786\"],[0.5555555555555556,\"#d8576b\"],[0.6666666666666666,\"#ed7953\"],[0.7777777777777778,\"#fb9f3a\"],[0.8888888888888888,\"#fdca26\"],[1.0,\"#f0f921\"]],\"sequentialminus\":[[0.0,\"#0d0887\"],[0.1111111111111111,\"#46039f\"],[0.2222222222222222,\"#7201a8\"],[0.3333333333333333,\"#9c179e\"],[0.4444444444444444,\"#bd3786\"],[0.5555555555555556,\"#d8576b\"],[0.6666666666666666,\"#ed7953\"],[0.7777777777777778,\"#fb9f3a\"],[0.8888888888888888,\"#fdca26\"],[1.0,\"#f0f921\"]],\"diverging\":[[0,\"#8e0152\"],[0.1,\"#c51b7d\"],[0.2,\"#de77ae\"],[0.3,\"#f1b6da\"],[0.4,\"#fde0ef\"],[0.5,\"#f7f7f7\"],[0.6,\"#e6f5d0\"],[0.7,\"#b8e186\"],[0.8,\"#7fbc41\"],[0.9,\"#4d9221\"],[1,\"#276419\"]]},\"xaxis\":{\"gridcolor\":\"white\",\"linecolor\":\"white\",\"ticks\":\"\",\"title\":{\"standoff\":15},\"zerolinecolor\":\"white\",\"automargin\":true,\"zerolinewidth\":2},\"yaxis\":{\"gridcolor\":\"white\",\"linecolor\":\"white\",\"ticks\":\"\",\"title\":{\"standoff\":15},\"zerolinecolor\":\"white\",\"automargin\":true,\"zerolinewidth\":2},\"scene\":{\"xaxis\":{\"backgroundcolor\":\"#E5ECF6\",\"gridcolor\":\"white\",\"linecolor\":\"white\",\"showbackground\":true,\"ticks\":\"\",\"zerolinecolor\":\"white\",\"gridwidth\":2},\"yaxis\":{\"backgroundcolor\":\"#E5ECF6\",\"gridcolor\":\"white\",\"linecolor\":\"white\",\"showbackground\":true,\"ticks\":\"\",\"zerolinecolor\":\"white\",\"gridwidth\":2},\"zaxis\":{\"backgroundcolor\":\"#E5ECF6\",\"gridcolor\":\"white\",\"linecolor\":\"white\",\"showbackground\":true,\"ticks\":\"\",\"zerolinecolor\":\"white\",\"gridwidth\":2}},\"shapedefaults\":{\"line\":{\"color\":\"#2a3f5f\"}},\"annotationdefaults\":{\"arrowcolor\":\"#2a3f5f\",\"arrowhead\":0,\"arrowwidth\":1},\"geo\":{\"bgcolor\":\"white\",\"landcolor\":\"#E5ECF6\",\"subunitcolor\":\"white\",\"showland\":true,\"showlakes\":true,\"lakecolor\":\"white\"},\"title\":{\"x\":0.05},\"mapbox\":{\"style\":\"light\"}}},\"xaxis\":{\"anchor\":\"y\",\"domain\":[0.0,1.0],\"title\":{\"text\":\"PC1 40.2%\"}},\"yaxis\":{\"anchor\":\"x\",\"domain\":[0.0,1.0],\"title\":{\"text\":\"PC2 8.2%\"}},\"legend\":{\"title\":{\"text\":\"color\"},\"tracegroupgap\":0},\"margin\":{\"t\":60},\"title\":{\"text\":\"50 Most Abundant Leaf Microbe Genera by Site PCA\"}},                        {\"responsive\": true}                    ).then(function(){\n",
       "                            \n",
       "var gd = document.getElementById('f0d05c2f-ce7b-486e-8028-0722cde2ab32');\n",
       "var x = new MutationObserver(function (mutations, observer) {{\n",
       "        var display = window.getComputedStyle(gd).display;\n",
       "        if (!display || display === 'none') {{\n",
       "            console.log([gd, 'removed!']);\n",
       "            Plotly.purge(gd);\n",
       "            observer.disconnect();\n",
       "        }}\n",
       "}});\n",
       "\n",
       "// Listen for the removal of the full notebook cells\n",
       "var notebookContainer = gd.closest('#notebook-container');\n",
       "if (notebookContainer) {{\n",
       "    x.observe(notebookContainer, {childList: true});\n",
       "}}\n",
       "\n",
       "// Listen for the clearing of the current output cell\n",
       "var outputEl = gd.closest('.output');\n",
       "if (outputEl) {{\n",
       "    x.observe(outputEl, {childList: true});\n",
       "}}\n",
       "\n",
       "                        })                };                });            </script>        </div>"
      ]
     },
     "metadata": {},
     "output_type": "display_data"
    }
   ],
   "source": [
    "X = pc3_df[top_50.index]\n",
    "\n",
    "pca = PCA(n_components=2)\n",
    "components = pca.fit_transform(X)\n",
    "\n",
    "fig = px.scatter(components, x=0, y=1, color=pc3_df['site_id'])\n",
    "fig.update_layout(\n",
    "    title = \"50 Most Abundant Leaf Microbe Genera by Site PCA\",\n",
    "    xaxis_title=\"PC1 \" + str(round(100*pca.explained_variance_ratio_[0], 1)) + '%',\n",
    "    yaxis_title=\"PC2 \" + str(round(100*pca.explained_variance_ratio_[1], 1)) + '%')\n",
    "fig.show()"
   ]
  },
  {
   "cell_type": "code",
   "execution_count": 32,
   "id": "0d5b6258",
   "metadata": {},
   "outputs": [],
   "source": [
    "pc3_df['site_id'].replace({'CMB': 1, 'FRW': 1, 'LFS': 1, 'LM': 0, 'MMP': 1, 'MKP': 2,\n",
    "                    'PNR': 2, 'PTW': 0, 'RF': 2, 'RGT': 0, 'RRL': 0, 'SGC': 0, 'SLG': 1,'HR': 3}, inplace=True) #\n",
    "pc3_df = pc3_df[pc3_df[\"site_id\"].isin([0,1,2,3])]\n",
    "\n",
    "pc3_df['site_id'].unique()\n",
    "\n",
    "pc3_df['site_id'] = pc3_df['site_id'].replace([0], 'Wintergreen')\n",
    "pc3_df['site_id'] = pc3_df['site_id'].replace([1], 'Cole Mountain')\n",
    "pc3_df['site_id'] = pc3_df['site_id'].replace([2], 'Blacksburg')\n",
    "pc3_df['site_id'] = pc3_df['site_id'].replace([3], 'HR')"
   ]
  },
  {
   "cell_type": "code",
   "execution_count": 33,
   "id": "03bc0a71",
   "metadata": {},
   "outputs": [
    {
     "data": {
      "application/vnd.plotly.v1+json": {
       "config": {
        "plotlyServerURL": "https://plot.ly"
       },
       "data": [
        {
         "hovertemplate": "color=Cole Mountain<br>0=%{x}<br>1=%{y}<extra></extra>",
         "legendgroup": "Cole Mountain",
         "marker": {
          "color": "#636efa",
          "symbol": "circle"
         },
         "mode": "markers",
         "name": "Cole Mountain",
         "orientation": "v",
         "showlegend": true,
         "type": "scatter",
         "x": [
          -3.869218841088769,
          -4.23089393956293,
          -3.7619601641747322,
          -4.09097784251389,
          -3.9702824505528875,
          -3.3431720084159817,
          -4.304615907821897,
          -4.4212418153951,
          -3.4283779047679195,
          -3.782007108036632,
          -3.591013612048619,
          -4.109281525832044,
          -3.8379043961031276,
          -3.7133779101101276,
          -4.0084339352296565,
          -3.8028276309308175,
          -4.670162307853379,
          -3.6113878522234826,
          -4.6019769510687265,
          9.38913067018038,
          10.162226897781242,
          9.769201467520224,
          9.504966905467093,
          9.440467041087219,
          9.270652753508841,
          9.567820660112464,
          9.187572644213557,
          9.716802248802102,
          9.315393799369861,
          9.993812615398761,
          -4.534431258634618,
          -4.619290636629358,
          -4.877509798688043,
          -5.247970070353009,
          -4.946520610050511,
          -4.778375903845234,
          -4.469879474856306,
          -4.997291553726235,
          -4.586012492076129,
          -5.1087775407637155,
          -5.598560519818487,
          -4.943001502610904,
          -4.923837009513587,
          -4.604340134263453,
          -3.3921571870970966,
          -4.863972699521204,
          -4.180253655196002,
          -4.057183914406546,
          -4.364886259670471,
          -3.4501954696411636,
          -3.590851670015515,
          -5.327400980635023,
          -3.716866215925032,
          -4.822906681265936,
          -4.67093988415835,
          -3.655875860051174,
          -3.7417204345623554,
          -4.401637278093781,
          -3.937174737376,
          -3.5262627101819093,
          -5.031000873314409,
          -4.309608075289388,
          9.990400231022193,
          9.905840993039936,
          10.144578803338623,
          9.90392801852001,
          10.041563324748132,
          9.736806790058486,
          9.99607720565682,
          9.782197432301647,
          10.472053241817568,
          9.922103685390091,
          9.060069312486531,
          9.902522813717805,
          9.499231057398061,
          9.87253575671702,
          9.132753918392902,
          10.040871608834903,
          10.253357413767063
         ],
         "xaxis": "x",
         "y": [
          -1.5457845211948384,
          -1.6384666840867517,
          -2.2487306442902018,
          -2.3554053773392707,
          -2.640170953444384,
          -0.15718283478239786,
          -0.4167488284085961,
          -2.6688562412806687,
          -2.9792270983562403,
          -2.324593181354694,
          -1.7121833725326179,
          -1.8016253333585903,
          -2.4068918128659624,
          0.399113914909385,
          -2.0681354626881236,
          -1.934696603264693,
          -1.3674263749203002,
          -2.476419819194672,
          0.12502659462677274,
          0.022222155172950602,
          0.08179799887308016,
          -0.2955319718665164,
          0.5425894374241922,
          0.33704625809814204,
          0.6133100471946177,
          0.011538780119749516,
          0.08671342373527942,
          -0.4272785876040259,
          -0.08296211554120106,
          -0.0013546008572509257,
          -2.3920760158452987,
          -2.4360817018047483,
          -0.4497069915631719,
          1.9093408645911811,
          -1.2317379405338165,
          -1.978822582875884,
          -1.6907089488998372,
          0.34818265465505766,
          0.5687571466111061,
          -0.41572459977914417,
          0.20235404331113083,
          -1.0150128665231661,
          -0.6844619445394174,
          -4.016343134553595,
          -3.2429107924804095,
          -2.154443528659995,
          -2.333258043594572,
          -0.910198981042,
          -2.7050580331367313,
          -3.9319415850749064,
          -4.789099456929413,
          0.3403220975747184,
          -3.1587387132710565,
          -0.29201071029411585,
          -3.0283183726602205,
          -3.000244250920104,
          -3.1401097652966827,
          -1.6204135000279707,
          -2.002874586816198,
          -2.483600447625917,
          -1.3360005794037888,
          -1.527049113182258,
          -0.151630952452979,
          -0.8393415817335808,
          -0.3597245922878043,
          -0.171628097587851,
          -0.029555382801965093,
          -0.4817045307169612,
          -0.25375158675833326,
          -0.5776761377625367,
          -0.3148357302955539,
          -0.7003016643067138,
          -0.14821855303480586,
          -0.30575962598001055,
          0.38290132862587,
          -0.40590203621526694,
          0.26885311062456774,
          -0.09326210093514452,
          -0.6167476809044014
         ],
         "yaxis": "y"
        },
        {
         "hovertemplate": "color=HR<br>0=%{x}<br>1=%{y}<extra></extra>",
         "legendgroup": "HR",
         "marker": {
          "color": "#EF553B",
          "symbol": "circle"
         },
         "mode": "markers",
         "name": "HR",
         "orientation": "v",
         "showlegend": true,
         "type": "scatter",
         "x": [
          -1.9312549326111785,
          0.32304883140665813,
          -5.8433398489426525,
          -4.166227649381334
         ],
         "xaxis": "x",
         "y": [
          -2.211954531028283,
          6.569908868319663,
          11.468764293175228,
          16.38813033483443
         ],
         "yaxis": "y"
        },
        {
         "hovertemplate": "color=Wintergreen<br>0=%{x}<br>1=%{y}<extra></extra>",
         "legendgroup": "Wintergreen",
         "marker": {
          "color": "#00cc96",
          "symbol": "circle"
         },
         "mode": "markers",
         "name": "Wintergreen",
         "orientation": "v",
         "showlegend": true,
         "type": "scatter",
         "x": [
          -4.589378191799763,
          -5.259732637029045,
          -5.0752100419513475,
          -5.9792577940857905,
          -5.730118906389903,
          -5.252902519630119,
          -4.648866798416268,
          -5.533420728561796,
          -5.711938341074282,
          -5.386976101214665,
          -5.741610710831969,
          -5.328639236884131,
          -4.9610731802665935,
          -6.459523664917656,
          -5.4619689868919785,
          -4.143135246774803,
          -4.3641074397577295,
          -4.919540217132616,
          -5.825943413544717,
          -5.763342808213375,
          -4.8390104507680665,
          -6.1183698537231495,
          -4.985198878288755,
          -4.980342148574955,
          -4.686166597504959,
          -4.311310081340932,
          -4.9367069802076005,
          -4.820749199586533,
          -5.224038575086871,
          -4.209412105196133,
          -4.476604370229272,
          -4.746453236836065,
          4.003003175964514,
          3.83213266718547,
          4.676434842801398,
          3.104561875438744,
          2.598257012196361,
          -1.341724057059263,
          -3.086362747047765,
          -2.389083681052626,
          -2.315445250179181,
          0.7939087059608511,
          0.63865378928614,
          -1.714554144300538,
          -4.184765546921476,
          0.4640817802217822,
          3.532300012478452,
          2.337180092404286,
          2.536996844373149,
          1.8116021061784429,
          3.4213146959498557
         ],
         "xaxis": "x",
         "y": [
          -2.2788725513989045,
          0.9776047087012897,
          1.1574389350518786,
          0.32344812570269277,
          2.0901391114327055,
          1.0318237776662107,
          2.821541155888034,
          2.201542579153583,
          3.3213402650751367,
          0.47025564607218445,
          1.4992128057444862,
          -0.2883269828853845,
          -0.33970181184380527,
          2.654470754378316,
          0.42200990042517766,
          -2.056517485222166,
          -2.6895168717611844,
          -0.12938027018461098,
          2.1435377043683705,
          1.0149721943875727,
          -0.339830482712083,
          1.8048188057516268,
          -1.2659375068911063,
          0.34514965703467027,
          -1.5165772009754035,
          -1.7760018004616998,
          -2.2614633454205615,
          1.4470496297092907,
          0.7357282738095032,
          -2.332812630331883,
          -2.5233091971382575,
          -1.3026976179511238,
          1.9121991573930084,
          2.761807316592268,
          1.9736581643861606,
          3.2898942091983234,
          8.29165195527511,
          -4.558082161246634,
          -4.433687408594538,
          -3.3920942011868105,
          -1.8016194538562207,
          1.4362509032519735,
          -1.3070600080363073,
          3.175023416033599,
          10.247964247518166,
          2.3678318699398155,
          2.046754584523512,
          1.8678571464220814,
          0.3111908619485699,
          5.376906040201385,
          3.863806362906876
         ],
         "yaxis": "y"
        },
        {
         "hovertemplate": "color=Blacksburg<br>0=%{x}<br>1=%{y}<extra></extra>",
         "legendgroup": "Blacksburg",
         "marker": {
          "color": "#ab63fa",
          "symbol": "circle"
         },
         "mode": "markers",
         "name": "Blacksburg",
         "orientation": "v",
         "showlegend": true,
         "type": "scatter",
         "x": [
          3.8980616084586943,
          -4.60485395678928,
          -5.571027589941458,
          -5.941493075822688,
          -5.538588823495099,
          -3.0827152801039155,
          -6.800192077031319,
          -6.985789225971964,
          9.886950772720953,
          9.616525930308468,
          8.69841017887994,
          9.931910900452596,
          9.904294171812076,
          9.470385319713921,
          9.660398410094714,
          9.444702269153867,
          10.010259763016903,
          10.370556090652668,
          10.042112596447634,
          10.246402055815281,
          9.646801536005102,
          10.518087179296712
         ],
         "xaxis": "x",
         "y": [
          0.27967612946756326,
          -0.5643942702097106,
          4.6214694061947705,
          1.9672914654567113,
          5.166248258610711,
          -1.3637376210008372,
          7.100094341492955,
          7.576875594767224,
          -0.5721445589773596,
          -0.3807018735218242,
          -0.04416611652991056,
          -0.5210180206917286,
          0.00802461885476648,
          -0.3260991031664214,
          -0.32435170799840135,
          -0.10356178530348538,
          -0.6054263045125478,
          0.3223061232730871,
          -0.40874863637263736,
          -0.8248854980568653,
          -0.7755702282997258,
          -0.506830452429745
         ],
         "yaxis": "y"
        }
       ],
       "layout": {
        "legend": {
         "title": {
          "text": "color"
         },
         "tracegroupgap": 0
        },
        "margin": {
         "t": 60
        },
        "template": {
         "data": {
          "bar": [
           {
            "error_x": {
             "color": "#2a3f5f"
            },
            "error_y": {
             "color": "#2a3f5f"
            },
            "marker": {
             "line": {
              "color": "#E5ECF6",
              "width": 0.5
             },
             "pattern": {
              "fillmode": "overlay",
              "size": 10,
              "solidity": 0.2
             }
            },
            "type": "bar"
           }
          ],
          "barpolar": [
           {
            "marker": {
             "line": {
              "color": "#E5ECF6",
              "width": 0.5
             },
             "pattern": {
              "fillmode": "overlay",
              "size": 10,
              "solidity": 0.2
             }
            },
            "type": "barpolar"
           }
          ],
          "carpet": [
           {
            "aaxis": {
             "endlinecolor": "#2a3f5f",
             "gridcolor": "white",
             "linecolor": "white",
             "minorgridcolor": "white",
             "startlinecolor": "#2a3f5f"
            },
            "baxis": {
             "endlinecolor": "#2a3f5f",
             "gridcolor": "white",
             "linecolor": "white",
             "minorgridcolor": "white",
             "startlinecolor": "#2a3f5f"
            },
            "type": "carpet"
           }
          ],
          "choropleth": [
           {
            "colorbar": {
             "outlinewidth": 0,
             "ticks": ""
            },
            "type": "choropleth"
           }
          ],
          "contour": [
           {
            "colorbar": {
             "outlinewidth": 0,
             "ticks": ""
            },
            "colorscale": [
             [
              0,
              "#0d0887"
             ],
             [
              0.1111111111111111,
              "#46039f"
             ],
             [
              0.2222222222222222,
              "#7201a8"
             ],
             [
              0.3333333333333333,
              "#9c179e"
             ],
             [
              0.4444444444444444,
              "#bd3786"
             ],
             [
              0.5555555555555556,
              "#d8576b"
             ],
             [
              0.6666666666666666,
              "#ed7953"
             ],
             [
              0.7777777777777778,
              "#fb9f3a"
             ],
             [
              0.8888888888888888,
              "#fdca26"
             ],
             [
              1,
              "#f0f921"
             ]
            ],
            "type": "contour"
           }
          ],
          "contourcarpet": [
           {
            "colorbar": {
             "outlinewidth": 0,
             "ticks": ""
            },
            "type": "contourcarpet"
           }
          ],
          "heatmap": [
           {
            "colorbar": {
             "outlinewidth": 0,
             "ticks": ""
            },
            "colorscale": [
             [
              0,
              "#0d0887"
             ],
             [
              0.1111111111111111,
              "#46039f"
             ],
             [
              0.2222222222222222,
              "#7201a8"
             ],
             [
              0.3333333333333333,
              "#9c179e"
             ],
             [
              0.4444444444444444,
              "#bd3786"
             ],
             [
              0.5555555555555556,
              "#d8576b"
             ],
             [
              0.6666666666666666,
              "#ed7953"
             ],
             [
              0.7777777777777778,
              "#fb9f3a"
             ],
             [
              0.8888888888888888,
              "#fdca26"
             ],
             [
              1,
              "#f0f921"
             ]
            ],
            "type": "heatmap"
           }
          ],
          "heatmapgl": [
           {
            "colorbar": {
             "outlinewidth": 0,
             "ticks": ""
            },
            "colorscale": [
             [
              0,
              "#0d0887"
             ],
             [
              0.1111111111111111,
              "#46039f"
             ],
             [
              0.2222222222222222,
              "#7201a8"
             ],
             [
              0.3333333333333333,
              "#9c179e"
             ],
             [
              0.4444444444444444,
              "#bd3786"
             ],
             [
              0.5555555555555556,
              "#d8576b"
             ],
             [
              0.6666666666666666,
              "#ed7953"
             ],
             [
              0.7777777777777778,
              "#fb9f3a"
             ],
             [
              0.8888888888888888,
              "#fdca26"
             ],
             [
              1,
              "#f0f921"
             ]
            ],
            "type": "heatmapgl"
           }
          ],
          "histogram": [
           {
            "marker": {
             "pattern": {
              "fillmode": "overlay",
              "size": 10,
              "solidity": 0.2
             }
            },
            "type": "histogram"
           }
          ],
          "histogram2d": [
           {
            "colorbar": {
             "outlinewidth": 0,
             "ticks": ""
            },
            "colorscale": [
             [
              0,
              "#0d0887"
             ],
             [
              0.1111111111111111,
              "#46039f"
             ],
             [
              0.2222222222222222,
              "#7201a8"
             ],
             [
              0.3333333333333333,
              "#9c179e"
             ],
             [
              0.4444444444444444,
              "#bd3786"
             ],
             [
              0.5555555555555556,
              "#d8576b"
             ],
             [
              0.6666666666666666,
              "#ed7953"
             ],
             [
              0.7777777777777778,
              "#fb9f3a"
             ],
             [
              0.8888888888888888,
              "#fdca26"
             ],
             [
              1,
              "#f0f921"
             ]
            ],
            "type": "histogram2d"
           }
          ],
          "histogram2dcontour": [
           {
            "colorbar": {
             "outlinewidth": 0,
             "ticks": ""
            },
            "colorscale": [
             [
              0,
              "#0d0887"
             ],
             [
              0.1111111111111111,
              "#46039f"
             ],
             [
              0.2222222222222222,
              "#7201a8"
             ],
             [
              0.3333333333333333,
              "#9c179e"
             ],
             [
              0.4444444444444444,
              "#bd3786"
             ],
             [
              0.5555555555555556,
              "#d8576b"
             ],
             [
              0.6666666666666666,
              "#ed7953"
             ],
             [
              0.7777777777777778,
              "#fb9f3a"
             ],
             [
              0.8888888888888888,
              "#fdca26"
             ],
             [
              1,
              "#f0f921"
             ]
            ],
            "type": "histogram2dcontour"
           }
          ],
          "mesh3d": [
           {
            "colorbar": {
             "outlinewidth": 0,
             "ticks": ""
            },
            "type": "mesh3d"
           }
          ],
          "parcoords": [
           {
            "line": {
             "colorbar": {
              "outlinewidth": 0,
              "ticks": ""
             }
            },
            "type": "parcoords"
           }
          ],
          "pie": [
           {
            "automargin": true,
            "type": "pie"
           }
          ],
          "scatter": [
           {
            "fillpattern": {
             "fillmode": "overlay",
             "size": 10,
             "solidity": 0.2
            },
            "type": "scatter"
           }
          ],
          "scatter3d": [
           {
            "line": {
             "colorbar": {
              "outlinewidth": 0,
              "ticks": ""
             }
            },
            "marker": {
             "colorbar": {
              "outlinewidth": 0,
              "ticks": ""
             }
            },
            "type": "scatter3d"
           }
          ],
          "scattercarpet": [
           {
            "marker": {
             "colorbar": {
              "outlinewidth": 0,
              "ticks": ""
             }
            },
            "type": "scattercarpet"
           }
          ],
          "scattergeo": [
           {
            "marker": {
             "colorbar": {
              "outlinewidth": 0,
              "ticks": ""
             }
            },
            "type": "scattergeo"
           }
          ],
          "scattergl": [
           {
            "marker": {
             "colorbar": {
              "outlinewidth": 0,
              "ticks": ""
             }
            },
            "type": "scattergl"
           }
          ],
          "scattermapbox": [
           {
            "marker": {
             "colorbar": {
              "outlinewidth": 0,
              "ticks": ""
             }
            },
            "type": "scattermapbox"
           }
          ],
          "scatterpolar": [
           {
            "marker": {
             "colorbar": {
              "outlinewidth": 0,
              "ticks": ""
             }
            },
            "type": "scatterpolar"
           }
          ],
          "scatterpolargl": [
           {
            "marker": {
             "colorbar": {
              "outlinewidth": 0,
              "ticks": ""
             }
            },
            "type": "scatterpolargl"
           }
          ],
          "scatterternary": [
           {
            "marker": {
             "colorbar": {
              "outlinewidth": 0,
              "ticks": ""
             }
            },
            "type": "scatterternary"
           }
          ],
          "surface": [
           {
            "colorbar": {
             "outlinewidth": 0,
             "ticks": ""
            },
            "colorscale": [
             [
              0,
              "#0d0887"
             ],
             [
              0.1111111111111111,
              "#46039f"
             ],
             [
              0.2222222222222222,
              "#7201a8"
             ],
             [
              0.3333333333333333,
              "#9c179e"
             ],
             [
              0.4444444444444444,
              "#bd3786"
             ],
             [
              0.5555555555555556,
              "#d8576b"
             ],
             [
              0.6666666666666666,
              "#ed7953"
             ],
             [
              0.7777777777777778,
              "#fb9f3a"
             ],
             [
              0.8888888888888888,
              "#fdca26"
             ],
             [
              1,
              "#f0f921"
             ]
            ],
            "type": "surface"
           }
          ],
          "table": [
           {
            "cells": {
             "fill": {
              "color": "#EBF0F8"
             },
             "line": {
              "color": "white"
             }
            },
            "header": {
             "fill": {
              "color": "#C8D4E3"
             },
             "line": {
              "color": "white"
             }
            },
            "type": "table"
           }
          ]
         },
         "layout": {
          "annotationdefaults": {
           "arrowcolor": "#2a3f5f",
           "arrowhead": 0,
           "arrowwidth": 1
          },
          "autotypenumbers": "strict",
          "coloraxis": {
           "colorbar": {
            "outlinewidth": 0,
            "ticks": ""
           }
          },
          "colorscale": {
           "diverging": [
            [
             0,
             "#8e0152"
            ],
            [
             0.1,
             "#c51b7d"
            ],
            [
             0.2,
             "#de77ae"
            ],
            [
             0.3,
             "#f1b6da"
            ],
            [
             0.4,
             "#fde0ef"
            ],
            [
             0.5,
             "#f7f7f7"
            ],
            [
             0.6,
             "#e6f5d0"
            ],
            [
             0.7,
             "#b8e186"
            ],
            [
             0.8,
             "#7fbc41"
            ],
            [
             0.9,
             "#4d9221"
            ],
            [
             1,
             "#276419"
            ]
           ],
           "sequential": [
            [
             0,
             "#0d0887"
            ],
            [
             0.1111111111111111,
             "#46039f"
            ],
            [
             0.2222222222222222,
             "#7201a8"
            ],
            [
             0.3333333333333333,
             "#9c179e"
            ],
            [
             0.4444444444444444,
             "#bd3786"
            ],
            [
             0.5555555555555556,
             "#d8576b"
            ],
            [
             0.6666666666666666,
             "#ed7953"
            ],
            [
             0.7777777777777778,
             "#fb9f3a"
            ],
            [
             0.8888888888888888,
             "#fdca26"
            ],
            [
             1,
             "#f0f921"
            ]
           ],
           "sequentialminus": [
            [
             0,
             "#0d0887"
            ],
            [
             0.1111111111111111,
             "#46039f"
            ],
            [
             0.2222222222222222,
             "#7201a8"
            ],
            [
             0.3333333333333333,
             "#9c179e"
            ],
            [
             0.4444444444444444,
             "#bd3786"
            ],
            [
             0.5555555555555556,
             "#d8576b"
            ],
            [
             0.6666666666666666,
             "#ed7953"
            ],
            [
             0.7777777777777778,
             "#fb9f3a"
            ],
            [
             0.8888888888888888,
             "#fdca26"
            ],
            [
             1,
             "#f0f921"
            ]
           ]
          },
          "colorway": [
           "#636efa",
           "#EF553B",
           "#00cc96",
           "#ab63fa",
           "#FFA15A",
           "#19d3f3",
           "#FF6692",
           "#B6E880",
           "#FF97FF",
           "#FECB52"
          ],
          "font": {
           "color": "#2a3f5f"
          },
          "geo": {
           "bgcolor": "white",
           "lakecolor": "white",
           "landcolor": "#E5ECF6",
           "showlakes": true,
           "showland": true,
           "subunitcolor": "white"
          },
          "hoverlabel": {
           "align": "left"
          },
          "hovermode": "closest",
          "mapbox": {
           "style": "light"
          },
          "paper_bgcolor": "white",
          "plot_bgcolor": "#E5ECF6",
          "polar": {
           "angularaxis": {
            "gridcolor": "white",
            "linecolor": "white",
            "ticks": ""
           },
           "bgcolor": "#E5ECF6",
           "radialaxis": {
            "gridcolor": "white",
            "linecolor": "white",
            "ticks": ""
           }
          },
          "scene": {
           "xaxis": {
            "backgroundcolor": "#E5ECF6",
            "gridcolor": "white",
            "gridwidth": 2,
            "linecolor": "white",
            "showbackground": true,
            "ticks": "",
            "zerolinecolor": "white"
           },
           "yaxis": {
            "backgroundcolor": "#E5ECF6",
            "gridcolor": "white",
            "gridwidth": 2,
            "linecolor": "white",
            "showbackground": true,
            "ticks": "",
            "zerolinecolor": "white"
           },
           "zaxis": {
            "backgroundcolor": "#E5ECF6",
            "gridcolor": "white",
            "gridwidth": 2,
            "linecolor": "white",
            "showbackground": true,
            "ticks": "",
            "zerolinecolor": "white"
           }
          },
          "shapedefaults": {
           "line": {
            "color": "#2a3f5f"
           }
          },
          "ternary": {
           "aaxis": {
            "gridcolor": "white",
            "linecolor": "white",
            "ticks": ""
           },
           "baxis": {
            "gridcolor": "white",
            "linecolor": "white",
            "ticks": ""
           },
           "bgcolor": "#E5ECF6",
           "caxis": {
            "gridcolor": "white",
            "linecolor": "white",
            "ticks": ""
           }
          },
          "title": {
           "x": 0.05
          },
          "xaxis": {
           "automargin": true,
           "gridcolor": "white",
           "linecolor": "white",
           "ticks": "",
           "title": {
            "standoff": 15
           },
           "zerolinecolor": "white",
           "zerolinewidth": 2
          },
          "yaxis": {
           "automargin": true,
           "gridcolor": "white",
           "linecolor": "white",
           "ticks": "",
           "title": {
            "standoff": 15
           },
           "zerolinecolor": "white",
           "zerolinewidth": 2
          }
         }
        },
        "title": {
         "text": "50 Most Abundant Leaf Microbe Genera by Broad Geographic Location PCA"
        },
        "xaxis": {
         "anchor": "y",
         "domain": [
          0,
          1
         ],
         "title": {
          "text": "PC1 40.2%"
         }
        },
        "yaxis": {
         "anchor": "x",
         "domain": [
          0,
          1
         ],
         "title": {
          "text": "PC2 8.2%"
         }
        }
       }
      },
      "text/html": [
       "<div>                            <div id=\"daa2529c-dc4e-441c-a265-0974da2b38fd\" class=\"plotly-graph-div\" style=\"height:525px; width:100%;\"></div>            <script type=\"text/javascript\">                require([\"plotly\"], function(Plotly) {                    window.PLOTLYENV=window.PLOTLYENV || {};                                    if (document.getElementById(\"daa2529c-dc4e-441c-a265-0974da2b38fd\")) {                    Plotly.newPlot(                        \"daa2529c-dc4e-441c-a265-0974da2b38fd\",                        [{\"hovertemplate\":\"color=Cole Mountain<br>0=%{x}<br>1=%{y}<extra></extra>\",\"legendgroup\":\"Cole Mountain\",\"marker\":{\"color\":\"#636efa\",\"symbol\":\"circle\"},\"mode\":\"markers\",\"name\":\"Cole Mountain\",\"orientation\":\"v\",\"showlegend\":true,\"x\":[-3.869218841088769,-4.23089393956293,-3.7619601641747322,-4.09097784251389,-3.9702824505528875,-3.3431720084159817,-4.304615907821897,-4.4212418153951,-3.4283779047679195,-3.782007108036632,-3.591013612048619,-4.109281525832044,-3.8379043961031276,-3.7133779101101276,-4.0084339352296565,-3.8028276309308175,-4.670162307853379,-3.6113878522234826,-4.6019769510687265,9.38913067018038,10.162226897781242,9.769201467520224,9.504966905467093,9.440467041087219,9.270652753508841,9.567820660112464,9.187572644213557,9.716802248802102,9.315393799369861,9.993812615398761,-4.534431258634618,-4.619290636629358,-4.877509798688043,-5.247970070353009,-4.946520610050511,-4.778375903845234,-4.469879474856306,-4.997291553726235,-4.586012492076129,-5.1087775407637155,-5.598560519818487,-4.943001502610904,-4.923837009513587,-4.604340134263453,-3.3921571870970966,-4.863972699521204,-4.180253655196002,-4.057183914406546,-4.364886259670471,-3.4501954696411636,-3.590851670015515,-5.327400980635023,-3.716866215925032,-4.822906681265936,-4.67093988415835,-3.655875860051174,-3.7417204345623554,-4.401637278093781,-3.937174737376,-3.5262627101819093,-5.031000873314409,-4.309608075289388,9.990400231022193,9.905840993039936,10.144578803338623,9.90392801852001,10.041563324748132,9.736806790058486,9.99607720565682,9.782197432301647,10.472053241817568,9.922103685390091,9.060069312486531,9.902522813717805,9.499231057398061,9.87253575671702,9.132753918392902,10.040871608834903,10.253357413767063],\"xaxis\":\"x\",\"y\":[-1.5457845211948384,-1.6384666840867517,-2.2487306442902018,-2.3554053773392707,-2.640170953444384,-0.15718283478239786,-0.4167488284085961,-2.6688562412806687,-2.9792270983562403,-2.324593181354694,-1.7121833725326179,-1.8016253333585903,-2.4068918128659624,0.399113914909385,-2.0681354626881236,-1.934696603264693,-1.3674263749203002,-2.476419819194672,0.12502659462677274,0.022222155172950602,0.08179799887308016,-0.2955319718665164,0.5425894374241922,0.33704625809814204,0.6133100471946177,0.011538780119749516,0.08671342373527942,-0.4272785876040259,-0.08296211554120106,-0.0013546008572509257,-2.3920760158452987,-2.4360817018047483,-0.4497069915631719,1.9093408645911811,-1.2317379405338165,-1.978822582875884,-1.6907089488998372,0.34818265465505766,0.5687571466111061,-0.41572459977914417,0.20235404331113083,-1.0150128665231661,-0.6844619445394174,-4.016343134553595,-3.2429107924804095,-2.154443528659995,-2.333258043594572,-0.910198981042,-2.7050580331367313,-3.9319415850749064,-4.789099456929413,0.3403220975747184,-3.1587387132710565,-0.29201071029411585,-3.0283183726602205,-3.000244250920104,-3.1401097652966827,-1.6204135000279707,-2.002874586816198,-2.483600447625917,-1.3360005794037888,-1.527049113182258,-0.151630952452979,-0.8393415817335808,-0.3597245922878043,-0.171628097587851,-0.029555382801965093,-0.4817045307169612,-0.25375158675833326,-0.5776761377625367,-0.3148357302955539,-0.7003016643067138,-0.14821855303480586,-0.30575962598001055,0.38290132862587,-0.40590203621526694,0.26885311062456774,-0.09326210093514452,-0.6167476809044014],\"yaxis\":\"y\",\"type\":\"scatter\"},{\"hovertemplate\":\"color=HR<br>0=%{x}<br>1=%{y}<extra></extra>\",\"legendgroup\":\"HR\",\"marker\":{\"color\":\"#EF553B\",\"symbol\":\"circle\"},\"mode\":\"markers\",\"name\":\"HR\",\"orientation\":\"v\",\"showlegend\":true,\"x\":[-1.9312549326111785,0.32304883140665813,-5.8433398489426525,-4.166227649381334],\"xaxis\":\"x\",\"y\":[-2.211954531028283,6.569908868319663,11.468764293175228,16.38813033483443],\"yaxis\":\"y\",\"type\":\"scatter\"},{\"hovertemplate\":\"color=Wintergreen<br>0=%{x}<br>1=%{y}<extra></extra>\",\"legendgroup\":\"Wintergreen\",\"marker\":{\"color\":\"#00cc96\",\"symbol\":\"circle\"},\"mode\":\"markers\",\"name\":\"Wintergreen\",\"orientation\":\"v\",\"showlegend\":true,\"x\":[-4.589378191799763,-5.259732637029045,-5.0752100419513475,-5.9792577940857905,-5.730118906389903,-5.252902519630119,-4.648866798416268,-5.533420728561796,-5.711938341074282,-5.386976101214665,-5.741610710831969,-5.328639236884131,-4.9610731802665935,-6.459523664917656,-5.4619689868919785,-4.143135246774803,-4.3641074397577295,-4.919540217132616,-5.825943413544717,-5.763342808213375,-4.8390104507680665,-6.1183698537231495,-4.985198878288755,-4.980342148574955,-4.686166597504959,-4.311310081340932,-4.9367069802076005,-4.820749199586533,-5.224038575086871,-4.209412105196133,-4.476604370229272,-4.746453236836065,4.003003175964514,3.83213266718547,4.676434842801398,3.104561875438744,2.598257012196361,-1.341724057059263,-3.086362747047765,-2.389083681052626,-2.315445250179181,0.7939087059608511,0.63865378928614,-1.714554144300538,-4.184765546921476,0.4640817802217822,3.532300012478452,2.337180092404286,2.536996844373149,1.8116021061784429,3.4213146959498557],\"xaxis\":\"x\",\"y\":[-2.2788725513989045,0.9776047087012897,1.1574389350518786,0.32344812570269277,2.0901391114327055,1.0318237776662107,2.821541155888034,2.201542579153583,3.3213402650751367,0.47025564607218445,1.4992128057444862,-0.2883269828853845,-0.33970181184380527,2.654470754378316,0.42200990042517766,-2.056517485222166,-2.6895168717611844,-0.12938027018461098,2.1435377043683705,1.0149721943875727,-0.339830482712083,1.8048188057516268,-1.2659375068911063,0.34514965703467027,-1.5165772009754035,-1.7760018004616998,-2.2614633454205615,1.4470496297092907,0.7357282738095032,-2.332812630331883,-2.5233091971382575,-1.3026976179511238,1.9121991573930084,2.761807316592268,1.9736581643861606,3.2898942091983234,8.29165195527511,-4.558082161246634,-4.433687408594538,-3.3920942011868105,-1.8016194538562207,1.4362509032519735,-1.3070600080363073,3.175023416033599,10.247964247518166,2.3678318699398155,2.046754584523512,1.8678571464220814,0.3111908619485699,5.376906040201385,3.863806362906876],\"yaxis\":\"y\",\"type\":\"scatter\"},{\"hovertemplate\":\"color=Blacksburg<br>0=%{x}<br>1=%{y}<extra></extra>\",\"legendgroup\":\"Blacksburg\",\"marker\":{\"color\":\"#ab63fa\",\"symbol\":\"circle\"},\"mode\":\"markers\",\"name\":\"Blacksburg\",\"orientation\":\"v\",\"showlegend\":true,\"x\":[3.8980616084586943,-4.60485395678928,-5.571027589941458,-5.941493075822688,-5.538588823495099,-3.0827152801039155,-6.800192077031319,-6.985789225971964,9.886950772720953,9.616525930308468,8.69841017887994,9.931910900452596,9.904294171812076,9.470385319713921,9.660398410094714,9.444702269153867,10.010259763016903,10.370556090652668,10.042112596447634,10.246402055815281,9.646801536005102,10.518087179296712],\"xaxis\":\"x\",\"y\":[0.27967612946756326,-0.5643942702097106,4.6214694061947705,1.9672914654567113,5.166248258610711,-1.3637376210008372,7.100094341492955,7.576875594767224,-0.5721445589773596,-0.3807018735218242,-0.04416611652991056,-0.5210180206917286,0.00802461885476648,-0.3260991031664214,-0.32435170799840135,-0.10356178530348538,-0.6054263045125478,0.3223061232730871,-0.40874863637263736,-0.8248854980568653,-0.7755702282997258,-0.506830452429745],\"yaxis\":\"y\",\"type\":\"scatter\"}],                        {\"template\":{\"data\":{\"histogram2dcontour\":[{\"type\":\"histogram2dcontour\",\"colorbar\":{\"outlinewidth\":0,\"ticks\":\"\"},\"colorscale\":[[0.0,\"#0d0887\"],[0.1111111111111111,\"#46039f\"],[0.2222222222222222,\"#7201a8\"],[0.3333333333333333,\"#9c179e\"],[0.4444444444444444,\"#bd3786\"],[0.5555555555555556,\"#d8576b\"],[0.6666666666666666,\"#ed7953\"],[0.7777777777777778,\"#fb9f3a\"],[0.8888888888888888,\"#fdca26\"],[1.0,\"#f0f921\"]]}],\"choropleth\":[{\"type\":\"choropleth\",\"colorbar\":{\"outlinewidth\":0,\"ticks\":\"\"}}],\"histogram2d\":[{\"type\":\"histogram2d\",\"colorbar\":{\"outlinewidth\":0,\"ticks\":\"\"},\"colorscale\":[[0.0,\"#0d0887\"],[0.1111111111111111,\"#46039f\"],[0.2222222222222222,\"#7201a8\"],[0.3333333333333333,\"#9c179e\"],[0.4444444444444444,\"#bd3786\"],[0.5555555555555556,\"#d8576b\"],[0.6666666666666666,\"#ed7953\"],[0.7777777777777778,\"#fb9f3a\"],[0.8888888888888888,\"#fdca26\"],[1.0,\"#f0f921\"]]}],\"heatmap\":[{\"type\":\"heatmap\",\"colorbar\":{\"outlinewidth\":0,\"ticks\":\"\"},\"colorscale\":[[0.0,\"#0d0887\"],[0.1111111111111111,\"#46039f\"],[0.2222222222222222,\"#7201a8\"],[0.3333333333333333,\"#9c179e\"],[0.4444444444444444,\"#bd3786\"],[0.5555555555555556,\"#d8576b\"],[0.6666666666666666,\"#ed7953\"],[0.7777777777777778,\"#fb9f3a\"],[0.8888888888888888,\"#fdca26\"],[1.0,\"#f0f921\"]]}],\"heatmapgl\":[{\"type\":\"heatmapgl\",\"colorbar\":{\"outlinewidth\":0,\"ticks\":\"\"},\"colorscale\":[[0.0,\"#0d0887\"],[0.1111111111111111,\"#46039f\"],[0.2222222222222222,\"#7201a8\"],[0.3333333333333333,\"#9c179e\"],[0.4444444444444444,\"#bd3786\"],[0.5555555555555556,\"#d8576b\"],[0.6666666666666666,\"#ed7953\"],[0.7777777777777778,\"#fb9f3a\"],[0.8888888888888888,\"#fdca26\"],[1.0,\"#f0f921\"]]}],\"contourcarpet\":[{\"type\":\"contourcarpet\",\"colorbar\":{\"outlinewidth\":0,\"ticks\":\"\"}}],\"contour\":[{\"type\":\"contour\",\"colorbar\":{\"outlinewidth\":0,\"ticks\":\"\"},\"colorscale\":[[0.0,\"#0d0887\"],[0.1111111111111111,\"#46039f\"],[0.2222222222222222,\"#7201a8\"],[0.3333333333333333,\"#9c179e\"],[0.4444444444444444,\"#bd3786\"],[0.5555555555555556,\"#d8576b\"],[0.6666666666666666,\"#ed7953\"],[0.7777777777777778,\"#fb9f3a\"],[0.8888888888888888,\"#fdca26\"],[1.0,\"#f0f921\"]]}],\"surface\":[{\"type\":\"surface\",\"colorbar\":{\"outlinewidth\":0,\"ticks\":\"\"},\"colorscale\":[[0.0,\"#0d0887\"],[0.1111111111111111,\"#46039f\"],[0.2222222222222222,\"#7201a8\"],[0.3333333333333333,\"#9c179e\"],[0.4444444444444444,\"#bd3786\"],[0.5555555555555556,\"#d8576b\"],[0.6666666666666666,\"#ed7953\"],[0.7777777777777778,\"#fb9f3a\"],[0.8888888888888888,\"#fdca26\"],[1.0,\"#f0f921\"]]}],\"mesh3d\":[{\"type\":\"mesh3d\",\"colorbar\":{\"outlinewidth\":0,\"ticks\":\"\"}}],\"scatter\":[{\"fillpattern\":{\"fillmode\":\"overlay\",\"size\":10,\"solidity\":0.2},\"type\":\"scatter\"}],\"parcoords\":[{\"type\":\"parcoords\",\"line\":{\"colorbar\":{\"outlinewidth\":0,\"ticks\":\"\"}}}],\"scatterpolargl\":[{\"type\":\"scatterpolargl\",\"marker\":{\"colorbar\":{\"outlinewidth\":0,\"ticks\":\"\"}}}],\"bar\":[{\"error_x\":{\"color\":\"#2a3f5f\"},\"error_y\":{\"color\":\"#2a3f5f\"},\"marker\":{\"line\":{\"color\":\"#E5ECF6\",\"width\":0.5},\"pattern\":{\"fillmode\":\"overlay\",\"size\":10,\"solidity\":0.2}},\"type\":\"bar\"}],\"scattergeo\":[{\"type\":\"scattergeo\",\"marker\":{\"colorbar\":{\"outlinewidth\":0,\"ticks\":\"\"}}}],\"scatterpolar\":[{\"type\":\"scatterpolar\",\"marker\":{\"colorbar\":{\"outlinewidth\":0,\"ticks\":\"\"}}}],\"histogram\":[{\"marker\":{\"pattern\":{\"fillmode\":\"overlay\",\"size\":10,\"solidity\":0.2}},\"type\":\"histogram\"}],\"scattergl\":[{\"type\":\"scattergl\",\"marker\":{\"colorbar\":{\"outlinewidth\":0,\"ticks\":\"\"}}}],\"scatter3d\":[{\"type\":\"scatter3d\",\"line\":{\"colorbar\":{\"outlinewidth\":0,\"ticks\":\"\"}},\"marker\":{\"colorbar\":{\"outlinewidth\":0,\"ticks\":\"\"}}}],\"scattermapbox\":[{\"type\":\"scattermapbox\",\"marker\":{\"colorbar\":{\"outlinewidth\":0,\"ticks\":\"\"}}}],\"scatterternary\":[{\"type\":\"scatterternary\",\"marker\":{\"colorbar\":{\"outlinewidth\":0,\"ticks\":\"\"}}}],\"scattercarpet\":[{\"type\":\"scattercarpet\",\"marker\":{\"colorbar\":{\"outlinewidth\":0,\"ticks\":\"\"}}}],\"carpet\":[{\"aaxis\":{\"endlinecolor\":\"#2a3f5f\",\"gridcolor\":\"white\",\"linecolor\":\"white\",\"minorgridcolor\":\"white\",\"startlinecolor\":\"#2a3f5f\"},\"baxis\":{\"endlinecolor\":\"#2a3f5f\",\"gridcolor\":\"white\",\"linecolor\":\"white\",\"minorgridcolor\":\"white\",\"startlinecolor\":\"#2a3f5f\"},\"type\":\"carpet\"}],\"table\":[{\"cells\":{\"fill\":{\"color\":\"#EBF0F8\"},\"line\":{\"color\":\"white\"}},\"header\":{\"fill\":{\"color\":\"#C8D4E3\"},\"line\":{\"color\":\"white\"}},\"type\":\"table\"}],\"barpolar\":[{\"marker\":{\"line\":{\"color\":\"#E5ECF6\",\"width\":0.5},\"pattern\":{\"fillmode\":\"overlay\",\"size\":10,\"solidity\":0.2}},\"type\":\"barpolar\"}],\"pie\":[{\"automargin\":true,\"type\":\"pie\"}]},\"layout\":{\"autotypenumbers\":\"strict\",\"colorway\":[\"#636efa\",\"#EF553B\",\"#00cc96\",\"#ab63fa\",\"#FFA15A\",\"#19d3f3\",\"#FF6692\",\"#B6E880\",\"#FF97FF\",\"#FECB52\"],\"font\":{\"color\":\"#2a3f5f\"},\"hovermode\":\"closest\",\"hoverlabel\":{\"align\":\"left\"},\"paper_bgcolor\":\"white\",\"plot_bgcolor\":\"#E5ECF6\",\"polar\":{\"bgcolor\":\"#E5ECF6\",\"angularaxis\":{\"gridcolor\":\"white\",\"linecolor\":\"white\",\"ticks\":\"\"},\"radialaxis\":{\"gridcolor\":\"white\",\"linecolor\":\"white\",\"ticks\":\"\"}},\"ternary\":{\"bgcolor\":\"#E5ECF6\",\"aaxis\":{\"gridcolor\":\"white\",\"linecolor\":\"white\",\"ticks\":\"\"},\"baxis\":{\"gridcolor\":\"white\",\"linecolor\":\"white\",\"ticks\":\"\"},\"caxis\":{\"gridcolor\":\"white\",\"linecolor\":\"white\",\"ticks\":\"\"}},\"coloraxis\":{\"colorbar\":{\"outlinewidth\":0,\"ticks\":\"\"}},\"colorscale\":{\"sequential\":[[0.0,\"#0d0887\"],[0.1111111111111111,\"#46039f\"],[0.2222222222222222,\"#7201a8\"],[0.3333333333333333,\"#9c179e\"],[0.4444444444444444,\"#bd3786\"],[0.5555555555555556,\"#d8576b\"],[0.6666666666666666,\"#ed7953\"],[0.7777777777777778,\"#fb9f3a\"],[0.8888888888888888,\"#fdca26\"],[1.0,\"#f0f921\"]],\"sequentialminus\":[[0.0,\"#0d0887\"],[0.1111111111111111,\"#46039f\"],[0.2222222222222222,\"#7201a8\"],[0.3333333333333333,\"#9c179e\"],[0.4444444444444444,\"#bd3786\"],[0.5555555555555556,\"#d8576b\"],[0.6666666666666666,\"#ed7953\"],[0.7777777777777778,\"#fb9f3a\"],[0.8888888888888888,\"#fdca26\"],[1.0,\"#f0f921\"]],\"diverging\":[[0,\"#8e0152\"],[0.1,\"#c51b7d\"],[0.2,\"#de77ae\"],[0.3,\"#f1b6da\"],[0.4,\"#fde0ef\"],[0.5,\"#f7f7f7\"],[0.6,\"#e6f5d0\"],[0.7,\"#b8e186\"],[0.8,\"#7fbc41\"],[0.9,\"#4d9221\"],[1,\"#276419\"]]},\"xaxis\":{\"gridcolor\":\"white\",\"linecolor\":\"white\",\"ticks\":\"\",\"title\":{\"standoff\":15},\"zerolinecolor\":\"white\",\"automargin\":true,\"zerolinewidth\":2},\"yaxis\":{\"gridcolor\":\"white\",\"linecolor\":\"white\",\"ticks\":\"\",\"title\":{\"standoff\":15},\"zerolinecolor\":\"white\",\"automargin\":true,\"zerolinewidth\":2},\"scene\":{\"xaxis\":{\"backgroundcolor\":\"#E5ECF6\",\"gridcolor\":\"white\",\"linecolor\":\"white\",\"showbackground\":true,\"ticks\":\"\",\"zerolinecolor\":\"white\",\"gridwidth\":2},\"yaxis\":{\"backgroundcolor\":\"#E5ECF6\",\"gridcolor\":\"white\",\"linecolor\":\"white\",\"showbackground\":true,\"ticks\":\"\",\"zerolinecolor\":\"white\",\"gridwidth\":2},\"zaxis\":{\"backgroundcolor\":\"#E5ECF6\",\"gridcolor\":\"white\",\"linecolor\":\"white\",\"showbackground\":true,\"ticks\":\"\",\"zerolinecolor\":\"white\",\"gridwidth\":2}},\"shapedefaults\":{\"line\":{\"color\":\"#2a3f5f\"}},\"annotationdefaults\":{\"arrowcolor\":\"#2a3f5f\",\"arrowhead\":0,\"arrowwidth\":1},\"geo\":{\"bgcolor\":\"white\",\"landcolor\":\"#E5ECF6\",\"subunitcolor\":\"white\",\"showland\":true,\"showlakes\":true,\"lakecolor\":\"white\"},\"title\":{\"x\":0.05},\"mapbox\":{\"style\":\"light\"}}},\"xaxis\":{\"anchor\":\"y\",\"domain\":[0.0,1.0],\"title\":{\"text\":\"PC1 40.2%\"}},\"yaxis\":{\"anchor\":\"x\",\"domain\":[0.0,1.0],\"title\":{\"text\":\"PC2 8.2%\"}},\"legend\":{\"title\":{\"text\":\"color\"},\"tracegroupgap\":0},\"margin\":{\"t\":60},\"title\":{\"text\":\"50 Most Abundant Leaf Microbe Genera by Broad Geographic Location PCA\"}},                        {\"responsive\": true}                    ).then(function(){\n",
       "                            \n",
       "var gd = document.getElementById('daa2529c-dc4e-441c-a265-0974da2b38fd');\n",
       "var x = new MutationObserver(function (mutations, observer) {{\n",
       "        var display = window.getComputedStyle(gd).display;\n",
       "        if (!display || display === 'none') {{\n",
       "            console.log([gd, 'removed!']);\n",
       "            Plotly.purge(gd);\n",
       "            observer.disconnect();\n",
       "        }}\n",
       "}});\n",
       "\n",
       "// Listen for the removal of the full notebook cells\n",
       "var notebookContainer = gd.closest('#notebook-container');\n",
       "if (notebookContainer) {{\n",
       "    x.observe(notebookContainer, {childList: true});\n",
       "}}\n",
       "\n",
       "// Listen for the clearing of the current output cell\n",
       "var outputEl = gd.closest('.output');\n",
       "if (outputEl) {{\n",
       "    x.observe(outputEl, {childList: true});\n",
       "}}\n",
       "\n",
       "                        })                };                });            </script>        </div>"
      ]
     },
     "metadata": {},
     "output_type": "display_data"
    }
   ],
   "source": [
    "X = pc3_df[top_50.index]\n",
    "\n",
    "pca = PCA(n_components=2)\n",
    "components = pca.fit_transform(X)\n",
    "\n",
    "fig = px.scatter(components, x=0, y=1, color=pc3_df['site_id'])\n",
    "fig.update_layout(\n",
    "    title = \"50 Most Abundant Leaf Microbe Genera by Broad Geographic Location PCA\",\n",
    "    xaxis_title=\"PC1 \" + str(round(100*pca.explained_variance_ratio_[0], 1)) + '%',\n",
    "    yaxis_title=\"PC2 \" + str(round(100*pca.explained_variance_ratio_[1], 1)) + '%')\n",
    "fig.show()"
   ]
  },
  {
   "cell_type": "code",
   "execution_count": null,
   "id": "ccd2c51a",
   "metadata": {},
   "outputs": [],
   "source": []
  }
 ],
 "metadata": {
  "kernelspec": {
   "display_name": "Python 3 (ipykernel)",
   "language": "python",
   "name": "python3"
  },
  "language_info": {
   "codemirror_mode": {
    "name": "ipython",
    "version": 3
   },
   "file_extension": ".py",
   "mimetype": "text/x-python",
   "name": "python",
   "nbconvert_exporter": "python",
   "pygments_lexer": "ipython3",
   "version": "3.11.4"
  }
 },
 "nbformat": 4,
 "nbformat_minor": 5
}
