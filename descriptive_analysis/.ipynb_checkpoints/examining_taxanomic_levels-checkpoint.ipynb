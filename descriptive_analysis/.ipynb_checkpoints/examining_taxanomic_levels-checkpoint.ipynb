{
 "cells": [
  {
   "cell_type": "code",
   "execution_count": 1,
   "id": "93af93d9",
   "metadata": {},
   "outputs": [],
   "source": [
    "import pandas as pd\n",
    "import numpy as np\n",
    "import sqlite3\n",
    "import plotly.express as px\n",
    "from sklearn.decomposition import PCA\n",
    "from sklearn.preprocessing import StandardScaler\n",
    "import pandas as pd\n",
    "import numpy as np\n",
    "import sqlite3\n",
    "import plotly.express as px\n",
    "from sklearn.decomposition import PCA\n",
    "from sklearn.preprocessing import StandardScaler\n",
    "import matplotlib.pyplot as plt\n",
    "import seaborn as sns\n",
    "from sklearn.manifold import TSNE\n",
    "import statsmodels\n",
    "import statsmodels.api as sm\n",
    "from statsmodels.multivariate.manova import MANOVA\n",
    "import math\n",
    "\n",
    "from useful_functions import *"
   ]
  },
  {
   "cell_type": "code",
   "execution_count": 2,
   "id": "bb87e47a",
   "metadata": {},
   "outputs": [
    {
     "data": {
      "text/plain": [
       "(277695, 15)"
      ]
     },
     "execution_count": 2,
     "metadata": {},
     "output_type": "execute_result"
    }
   ],
   "source": [
    "tables_to_join = [\"tPlantMicrobeGenera\", \"tSample\", \"tPlantDNA\"]\n",
    "common_column = \"sample_id\"\n",
    "full_df = import_all_data(tables_to_join, common_column)\n",
    "full_df.shape"
   ]
  },
  {
   "cell_type": "code",
   "execution_count": 3,
   "id": "eb125033",
   "metadata": {},
   "outputs": [],
   "source": [
    "full_df = full_df.T.drop_duplicates().T"
   ]
  },
  {
   "cell_type": "code",
   "execution_count": 4,
   "id": "9e706360",
   "metadata": {},
   "outputs": [
    {
     "data": {
      "text/html": [
       "<div>\n",
       "<style scoped>\n",
       "    .dataframe tbody tr th:only-of-type {\n",
       "        vertical-align: middle;\n",
       "    }\n",
       "\n",
       "    .dataframe tbody tr th {\n",
       "        vertical-align: top;\n",
       "    }\n",
       "\n",
       "    .dataframe thead th {\n",
       "        text-align: right;\n",
       "    }\n",
       "</style>\n",
       "<table border=\"1\" class=\"dataframe\">\n",
       "  <thead>\n",
       "    <tr style=\"text-align: right;\">\n",
       "      <th></th>\n",
       "      <th>sample_id</th>\n",
       "      <th>genera</th>\n",
       "      <th>relative_abundance</th>\n",
       "      <th>site_id</th>\n",
       "      <th>collect_date</th>\n",
       "      <th>V1</th>\n",
       "      <th>V2</th>\n",
       "      <th>species</th>\n",
       "      <th>PC1</th>\n",
       "      <th>PC2</th>\n",
       "      <th>PC3</th>\n",
       "      <th>PC4</th>\n",
       "      <th>PC5</th>\n",
       "    </tr>\n",
       "  </thead>\n",
       "  <tbody>\n",
       "    <tr>\n",
       "      <th>0</th>\n",
       "      <td>RRL1</td>\n",
       "      <td>Archaea|Euryarchaeota|Halobacteria|Halobacteri...</td>\n",
       "      <td>0.0</td>\n",
       "      <td>RRL</td>\n",
       "      <td>6/25/2021</td>\n",
       "      <td>0.753244</td>\n",
       "      <td>0.246756</td>\n",
       "      <td>exaltata</td>\n",
       "      <td>0.194769</td>\n",
       "      <td>0.048276</td>\n",
       "      <td>-0.02388</td>\n",
       "      <td>-0.017138</td>\n",
       "      <td>-0.039842</td>\n",
       "    </tr>\n",
       "    <tr>\n",
       "      <th>1</th>\n",
       "      <td>RRL2</td>\n",
       "      <td>Archaea|Euryarchaeota|Halobacteria|Halobacteri...</td>\n",
       "      <td>0.01333</td>\n",
       "      <td>RRL</td>\n",
       "      <td>6/25/2021</td>\n",
       "      <td>0.708412</td>\n",
       "      <td>0.291588</td>\n",
       "      <td>exaltata</td>\n",
       "      <td>0.154924</td>\n",
       "      <td>0.071277</td>\n",
       "      <td>0.000923</td>\n",
       "      <td>-0.02583</td>\n",
       "      <td>0.005592</td>\n",
       "    </tr>\n",
       "    <tr>\n",
       "      <th>2</th>\n",
       "      <td>RRL3</td>\n",
       "      <td>Archaea|Euryarchaeota|Halobacteria|Halobacteri...</td>\n",
       "      <td>0.0</td>\n",
       "      <td>RRL</td>\n",
       "      <td>6/25/2021</td>\n",
       "      <td>0.778046</td>\n",
       "      <td>0.221954</td>\n",
       "      <td>exaltata</td>\n",
       "      <td>0.18775</td>\n",
       "      <td>0.035009</td>\n",
       "      <td>-0.016006</td>\n",
       "      <td>-0.012529</td>\n",
       "      <td>-0.011169</td>\n",
       "    </tr>\n",
       "    <tr>\n",
       "      <th>3</th>\n",
       "      <td>RRL4</td>\n",
       "      <td>Archaea|Euryarchaeota|Halobacteria|Halobacteri...</td>\n",
       "      <td>0.00943</td>\n",
       "      <td>RRL</td>\n",
       "      <td>6/25/2021</td>\n",
       "      <td>0.720367</td>\n",
       "      <td>0.279633</td>\n",
       "      <td>exaltata</td>\n",
       "      <td>0.167167</td>\n",
       "      <td>0.046053</td>\n",
       "      <td>-0.032754</td>\n",
       "      <td>-0.016192</td>\n",
       "      <td>-0.028988</td>\n",
       "    </tr>\n",
       "    <tr>\n",
       "      <th>4</th>\n",
       "      <td>RRL5</td>\n",
       "      <td>Archaea|Euryarchaeota|Halobacteria|Halobacteri...</td>\n",
       "      <td>0.00581</td>\n",
       "      <td>RRL</td>\n",
       "      <td>6/25/2021</td>\n",
       "      <td>0.572487</td>\n",
       "      <td>0.427513</td>\n",
       "      <td>exaltata</td>\n",
       "      <td>0.099801</td>\n",
       "      <td>0.0898</td>\n",
       "      <td>0.000613</td>\n",
       "      <td>-0.004979</td>\n",
       "      <td>0.017524</td>\n",
       "    </tr>\n",
       "  </tbody>\n",
       "</table>\n",
       "</div>"
      ],
      "text/plain": [
       "  sample_id                                             genera  \\\n",
       "0      RRL1  Archaea|Euryarchaeota|Halobacteria|Halobacteri...   \n",
       "1      RRL2  Archaea|Euryarchaeota|Halobacteria|Halobacteri...   \n",
       "2      RRL3  Archaea|Euryarchaeota|Halobacteria|Halobacteri...   \n",
       "3      RRL4  Archaea|Euryarchaeota|Halobacteria|Halobacteri...   \n",
       "4      RRL5  Archaea|Euryarchaeota|Halobacteria|Halobacteri...   \n",
       "\n",
       "  relative_abundance site_id collect_date        V1        V2   species  \\\n",
       "0                0.0     RRL    6/25/2021  0.753244  0.246756  exaltata   \n",
       "1            0.01333     RRL    6/25/2021  0.708412  0.291588  exaltata   \n",
       "2                0.0     RRL    6/25/2021  0.778046  0.221954  exaltata   \n",
       "3            0.00943     RRL    6/25/2021  0.720367  0.279633  exaltata   \n",
       "4            0.00581     RRL    6/25/2021  0.572487  0.427513  exaltata   \n",
       "\n",
       "        PC1       PC2       PC3       PC4       PC5  \n",
       "0  0.194769  0.048276  -0.02388 -0.017138 -0.039842  \n",
       "1  0.154924  0.071277  0.000923  -0.02583  0.005592  \n",
       "2   0.18775  0.035009 -0.016006 -0.012529 -0.011169  \n",
       "3  0.167167  0.046053 -0.032754 -0.016192 -0.028988  \n",
       "4  0.099801    0.0898  0.000613 -0.004979  0.017524  "
      ]
     },
     "execution_count": 4,
     "metadata": {},
     "output_type": "execute_result"
    }
   ],
   "source": [
    "full_df.head()"
   ]
  },
  {
   "cell_type": "code",
   "execution_count": 5,
   "id": "44e67b11",
   "metadata": {},
   "outputs": [
    {
     "data": {
      "text/plain": [
       "(277695, 13)"
      ]
     },
     "execution_count": 5,
     "metadata": {},
     "output_type": "execute_result"
    }
   ],
   "source": [
    "full_df.shape"
   ]
  },
  {
   "cell_type": "code",
   "execution_count": 7,
   "id": "92d49fca",
   "metadata": {},
   "outputs": [
    {
     "data": {
      "text/plain": [
       "(165, 1683)"
      ]
     },
     "execution_count": 7,
     "metadata": {},
     "output_type": "execute_result"
    }
   ],
   "source": [
    "df = full_df.copy()\n",
    "subdf = df.copy()\n",
    "origin_pivoted_df = subdf.pivot(index=['sample_id', 'site_id', 'species', 'V2'], columns='genera', values='relative_abundance')\n",
    "origin_pivoted_df.shape"
   ]
  },
  {
   "cell_type": "code",
   "execution_count": 63,
   "id": "d51a49cd",
   "metadata": {},
   "outputs": [
    {
     "data": {
      "text/plain": [
       "'RRL1'"
      ]
     },
     "execution_count": 63,
     "metadata": {},
     "output_type": "execute_result"
    }
   ],
   "source": [
    "sample_list = df['sample_id'].unique()\n",
    "sample_list"
   ]
  },
  {
   "cell_type": "code",
   "execution_count": null,
   "id": "13fcdedb",
   "metadata": {},
   "outputs": [],
   "source": [
    "df[df['relative_abundance'] = 6.20912]"
   ]
  },
  {
   "cell_type": "code",
   "execution_count": 89,
   "id": "34a42551",
   "metadata": {},
   "outputs": [
    {
     "name": "stdout",
     "output_type": "stream",
     "text": [
      "['Bacteria|Cyanobacteria||Synechococcales|Synechococcaceae|Synechococcus']\n",
      "['Bacteria|Cyanobacteria||Synechococcales|Synechococcaceae|Synechococcus']\n",
      "['Bacteria|Cyanobacteria||Synechococcales|Synechococcaceae|Synechococcus']\n",
      "['Bacteria|Cyanobacteria||Synechococcales|Synechococcaceae|Synechococcus']\n",
      "['Bacteria|Cyanobacteria||Synechococcales|Synechococcaceae|Synechococcus']\n",
      "['Bacteria|Cyanobacteria||Synechococcales|Synechococcaceae|Synechococcus']\n",
      "['Bacteria|Cyanobacteria||Synechococcales|Synechococcaceae|Synechococcus']\n",
      "['Bacteria|Firmicutes|Clostridia|Clostridiales|Clostridiaceae|Clostridium']\n",
      "['Bacteria|Cyanobacteria||Synechococcales|Synechococcaceae|Synechococcus']\n",
      "['Bacteria|Cyanobacteria||Synechococcales|Synechococcaceae|Synechococcus']\n",
      "['Bacteria|Cyanobacteria||Synechococcales|Synechococcaceae|Synechococcus']\n",
      "['Bacteria|Cyanobacteria||Synechococcales|Synechococcaceae|Synechococcus']\n",
      "['Bacteria|Cyanobacteria||Synechococcales|Synechococcaceae|Synechococcus']\n",
      "['Bacteria|Cyanobacteria||Synechococcales|Synechococcaceae|Synechococcus']\n",
      "['Bacteria|Cyanobacteria||Synechococcales|Synechococcaceae|Synechococcus']\n",
      "['Bacteria|Cyanobacteria||Synechococcales|Synechococcaceae|Synechococcus']\n",
      "['Bacteria|Cyanobacteria||Synechococcales|Synechococcaceae|Synechococcus']\n",
      "['Bacteria|Cyanobacteria||Synechococcales|Synechococcaceae|Synechococcus']\n",
      "['Bacteria|Cyanobacteria||Synechococcales|Synechococcaceae|Synechococcus']\n",
      "['Bacteria|Cyanobacteria||Synechococcales|Synechococcaceae|Synechococcus']\n",
      "['Bacteria|Cyanobacteria||Synechococcales|Synechococcaceae|Synechococcus']\n",
      "['Bacteria|Cyanobacteria||Synechococcales|Synechococcaceae|Synechococcus']\n",
      "['Bacteria|Cyanobacteria||Synechococcales|Synechococcaceae|Thermosynechococcus']\n",
      "['Bacteria|Cyanobacteria||Synechococcales|Synechococcaceae|Synechococcus']\n",
      "['Bacteria|Cyanobacteria||Synechococcales|Synechococcaceae|Synechococcus']\n",
      "['Bacteria|Cyanobacteria||Synechococcales|Synechococcaceae|Synechococcus']\n",
      "['Bacteria|Cyanobacteria||Synechococcales|Synechococcaceae|Synechococcus']\n",
      "['Bacteria|Cyanobacteria||Synechococcales|Synechococcaceae|Synechococcus']\n",
      "['Bacteria|Cyanobacteria||Synechococcales|Synechococcaceae|Synechococcus']\n",
      "['Bacteria|Cyanobacteria||Synechococcales|Synechococcaceae|Synechococcus']\n",
      "['Bacteria|Cyanobacteria||Synechococcales|Synechococcaceae|Synechococcus']\n",
      "['Bacteria|Cyanobacteria||Synechococcales|Synechococcaceae|Synechococcus']\n",
      "['Bacteria|Cyanobacteria||Synechococcales|Synechococcaceae|Synechococcus']\n",
      "['Bacteria|Cyanobacteria||Synechococcales|Synechococcaceae|Synechococcus']\n",
      "['Bacteria|Cyanobacteria||Synechococcales|Synechococcaceae|Synechococcus']\n",
      "['Bacteria|Cyanobacteria||Synechococcales|Synechococcaceae|Synechococcus']\n",
      "['Bacteria|Cyanobacteria||Synechococcales|Synechococcaceae|Synechococcus']\n",
      "['Bacteria|Cyanobacteria||Synechococcales|Synechococcaceae|Synechococcus']\n",
      "['Bacteria|Cyanobacteria||Synechococcales|Synechococcaceae|Synechococcus']\n",
      "['Bacteria|Cyanobacteria||Synechococcales|Synechococcaceae|Synechococcus']\n",
      "['Bacteria|Cyanobacteria||Synechococcales|Synechococcaceae|Synechococcus']\n",
      "['Bacteria|Cyanobacteria||Synechococcales|Synechococcaceae|Synechococcus']\n",
      "['Bacteria|Cyanobacteria||Synechococcales|Synechococcaceae|Synechococcus']\n",
      "['Bacteria|Cyanobacteria||Synechococcales|Synechococcaceae|Thermosynechococcus']\n",
      "['Bacteria|Cyanobacteria||Synechococcales|Synechococcaceae|Thermosynechococcus']\n",
      "['Bacteria|Cyanobacteria||Synechococcales|Synechococcaceae|Synechococcus']\n",
      "['Bacteria|Cyanobacteria||Synechococcales|Synechococcaceae|Synechococcus']\n",
      "['Bacteria|Cyanobacteria||Synechococcales|Synechococcaceae|Thermosynechococcus']\n",
      "['Bacteria|Cyanobacteria||Synechococcales|Synechococcaceae|Synechococcus']\n",
      "['Bacteria|Cyanobacteria||Synechococcales|Synechococcaceae|Synechococcus']\n",
      "['Bacteria|Cyanobacteria||Synechococcales|Synechococcaceae|Synechococcus']\n",
      "['Bacteria|Cyanobacteria||Synechococcales|Synechococcaceae|Synechococcus']\n",
      "['Bacteria|Cyanobacteria||Synechococcales|Synechococcaceae|Synechococcus']\n",
      "['Bacteria|Cyanobacteria||Synechococcales|Synechococcaceae|Synechococcus']\n",
      "['Bacteria|Cyanobacteria||Synechococcales|Synechococcaceae|Synechococcus']\n",
      "['Bacteria|Cyanobacteria||Synechococcales|Synechococcaceae|Synechococcus']\n",
      "['Bacteria|Cyanobacteria||Synechococcales|Synechococcaceae|Synechococcus']\n",
      "['Bacteria|Cyanobacteria||Synechococcales|Synechococcaceae|Synechococcus']\n",
      "['Bacteria|Cyanobacteria||Synechococcales|Synechococcaceae|Synechococcus']\n",
      "['Bacteria|Cyanobacteria||Synechococcales|Synechococcaceae|Synechococcus']\n",
      "['Bacteria|Proteobacteria|Gammaproteobacteria|Pseudomonadales|Pseudomonadaceae|Pseudomonas']\n",
      "['Bacteria|Cyanobacteria||Synechococcales|Synechococcaceae|Synechococcus']\n",
      "['Bacteria|Proteobacteria|Gammaproteobacteria|Pseudomonadales|Pseudomonadaceae|Pseudomonas']\n",
      "['Bacteria|Cyanobacteria||Synechococcales|Synechococcaceae|Synechococcus']\n",
      "['Bacteria|Cyanobacteria||Synechococcales|Synechococcaceae|Synechococcus']\n",
      "['Bacteria|Proteobacteria|Gammaproteobacteria|Pseudomonadales|Pseudomonadaceae|Pseudomonas']\n",
      "['Bacteria|Cyanobacteria||Synechococcales|Synechococcaceae|Synechococcus']\n",
      "['Bacteria|Cyanobacteria||Synechococcales|Synechococcaceae|Thermosynechococcus']\n",
      "['Bacteria|Cyanobacteria||Synechococcales|Synechococcaceae|Synechococcus']\n",
      "['Bacteria|Cyanobacteria||Synechococcales|Synechococcaceae|Synechococcus']\n",
      "['Bacteria|Cyanobacteria||Synechococcales|Synechococcaceae|Synechococcus']\n",
      "['Bacteria|Cyanobacteria||Synechococcales|Synechococcaceae|Synechococcus']\n",
      "['Bacteria|Cyanobacteria||Synechococcales|Synechococcaceae|Synechococcus']\n",
      "['Bacteria|Cyanobacteria||Synechococcales|Synechococcaceae|Synechococcus']\n",
      "['Bacteria|Cyanobacteria||Synechococcales|Synechococcaceae|Synechococcus']\n",
      "['Bacteria|Cyanobacteria||Synechococcales|Synechococcaceae|Synechococcus']\n",
      "['Bacteria|Cyanobacteria||Synechococcales|Synechococcaceae|Synechococcus']\n",
      "['Bacteria|Cyanobacteria||Synechococcales|Synechococcaceae|Synechococcus']\n",
      "['Bacteria|Cyanobacteria||Synechococcales|Synechococcaceae|Synechococcus']\n",
      "['Bacteria|Cyanobacteria||Synechococcales|Synechococcaceae|Synechococcus']\n",
      "['Bacteria|Cyanobacteria||Synechococcales|Synechococcaceae|Thermosynechococcus']\n",
      "['Bacteria|Cyanobacteria||Synechococcales|Synechococcaceae|Synechococcus']\n",
      "['Bacteria|Cyanobacteria||Synechococcales|Synechococcaceae|Synechococcus']\n",
      "['Bacteria|Cyanobacteria||Synechococcales|Synechococcaceae|Thermosynechococcus']\n",
      "['Bacteria|Cyanobacteria||Synechococcales|Synechococcaceae|Synechococcus']\n",
      "['Bacteria|Cyanobacteria||Synechococcales|Synechococcaceae|Synechococcus']\n",
      "['Bacteria|Cyanobacteria||Synechococcales|Synechococcaceae|Synechococcus']\n",
      "['Bacteria|Cyanobacteria||Synechococcales|Synechococcaceae|Synechococcus']\n",
      "['Bacteria|Cyanobacteria||Synechococcales|Synechococcaceae|Synechococcus']\n",
      "['Bacteria|Cyanobacteria||Synechococcales|Synechococcaceae|Synechococcus']\n",
      "['Bacteria|Cyanobacteria||Synechococcales|Synechococcaceae|Synechococcus']\n",
      "['Bacteria|Cyanobacteria||Synechococcales|Synechococcaceae|Synechococcus']\n",
      "['Bacteria|Cyanobacteria||Synechococcales|Synechococcaceae|Synechococcus']\n",
      "['Bacteria|Cyanobacteria||Synechococcales|Synechococcaceae|Synechococcus']\n",
      "['Bacteria|Cyanobacteria||Synechococcales|Synechococcaceae|Synechococcus']\n",
      "['Bacteria|Cyanobacteria||Synechococcales|Synechococcaceae|Synechococcus']\n",
      "['Bacteria|Cyanobacteria||Synechococcales|Synechococcaceae|Synechococcus']\n",
      "['Bacteria|Cyanobacteria||Synechococcales|Synechococcaceae|Synechococcus']\n",
      "['Bacteria|Cyanobacteria||Synechococcales|Synechococcaceae|Synechococcus']\n",
      "['Bacteria|Cyanobacteria||Synechococcales|Synechococcaceae|Synechococcus']\n",
      "['Bacteria|Cyanobacteria||Synechococcales|Synechococcaceae|Synechococcus']\n",
      "['Bacteria|Cyanobacteria||Synechococcales|Synechococcaceae|Synechococcus']\n",
      "['Bacteria|Cyanobacteria||Synechococcales|Synechococcaceae|Synechococcus']\n",
      "['Bacteria|Cyanobacteria||Synechococcales|Synechococcaceae|Synechococcus']\n",
      "['Bacteria|Cyanobacteria||Synechococcales|Synechococcaceae|Synechococcus']\n",
      "['Bacteria|Cyanobacteria||Synechococcales|Synechococcaceae|Synechococcus']\n",
      "['Bacteria|Cyanobacteria||Synechococcales|Synechococcaceae|Synechococcus']\n",
      "['Bacteria|Cyanobacteria||Synechococcales|Synechococcaceae|Synechococcus']\n",
      "['Bacteria|Cyanobacteria||Synechococcales|Synechococcaceae|Synechococcus']\n",
      "['Bacteria|Cyanobacteria||Synechococcales|Synechococcaceae|Synechococcus']\n",
      "['Bacteria|Cyanobacteria||Synechococcales|Synechococcaceae|Synechococcus']\n",
      "['Bacteria|Cyanobacteria||Synechococcales|Synechococcaceae|Synechococcus']\n"
     ]
    },
    {
     "name": "stdout",
     "output_type": "stream",
     "text": [
      "['Bacteria|Cyanobacteria||Synechococcales|Synechococcaceae|Synechococcus']\n",
      "['Bacteria|Cyanobacteria||Synechococcales|Synechococcaceae|Synechococcus']\n",
      "['Bacteria|Cyanobacteria||Synechococcales|Synechococcaceae|Synechococcus']\n",
      "['Bacteria|Cyanobacteria||Synechococcales|Synechococcaceae|Synechococcus']\n",
      "['Bacteria|Cyanobacteria||Synechococcales|Synechococcaceae|Synechococcus']\n",
      "['Bacteria|Cyanobacteria||Synechococcales|Synechococcaceae|Synechococcus']\n",
      "['Bacteria|Cyanobacteria||Synechococcales|Synechococcaceae|Synechococcus']\n",
      "['Bacteria|Cyanobacteria||Synechococcales|Synechococcaceae|Synechococcus']\n",
      "['Bacteria|Cyanobacteria||Synechococcales|Synechococcaceae|Synechococcus']\n",
      "['Bacteria|Cyanobacteria||Synechococcales|Synechococcaceae|Synechococcus']\n",
      "['Bacteria|Cyanobacteria||Synechococcales|Synechococcaceae|Synechococcus']\n",
      "['Bacteria|Cyanobacteria||Synechococcales|Synechococcaceae|Synechococcus']\n",
      "['Bacteria|Cyanobacteria||Synechococcales|Synechococcaceae|Synechococcus']\n",
      "['Bacteria|Cyanobacteria||Synechococcales|Synechococcaceae|Synechococcus']\n",
      "['Bacteria|Cyanobacteria||Synechococcales|Synechococcaceae|Synechococcus']\n",
      "['Bacteria|Cyanobacteria||Synechococcales|Synechococcaceae|Synechococcus']\n",
      "['Bacteria|Cyanobacteria||Synechococcales|Synechococcaceae|Synechococcus']\n",
      "['Bacteria|Cyanobacteria||Synechococcales|Synechococcaceae|Synechococcus']\n",
      "['Bacteria|Cyanobacteria||Synechococcales|Synechococcaceae|Synechococcus']\n",
      "['Bacteria|Cyanobacteria||Synechococcales|Synechococcaceae|Synechococcus']\n",
      "['Bacteria|Cyanobacteria||Synechococcales|Synechococcaceae|Synechococcus']\n",
      "['Bacteria|Cyanobacteria||Synechococcales|Synechococcaceae|Synechococcus']\n",
      "['Bacteria|Cyanobacteria||Synechococcales|Synechococcaceae|Synechococcus']\n",
      "['Bacteria|Cyanobacteria||Synechococcales|Synechococcaceae|Synechococcus']\n",
      "['Bacteria|Cyanobacteria||Synechococcales|Synechococcaceae|Synechococcus']\n",
      "['Bacteria|Cyanobacteria||Synechococcales|Synechococcaceae|Synechococcus']\n",
      "['Bacteria|Cyanobacteria||Synechococcales|Synechococcaceae|Synechococcus']\n",
      "['Bacteria|Cyanobacteria||Synechococcales|Synechococcaceae|Thermosynechococcus']\n",
      "['Bacteria|Cyanobacteria||Synechococcales|Synechococcaceae|Synechococcus']\n",
      "['Bacteria|Cyanobacteria||Synechococcales|Synechococcaceae|Synechococcus']\n",
      "['Bacteria|Cyanobacteria||Synechococcales|Synechococcaceae|Synechococcus']\n",
      "['Bacteria|Cyanobacteria||Synechococcales|Synechococcaceae|Synechococcus']\n",
      "['Bacteria|Cyanobacteria||Synechococcales|Synechococcaceae|Synechococcus']\n",
      "['Bacteria|Cyanobacteria||Synechococcales|Synechococcaceae|Synechococcus']\n",
      "['Bacteria|Cyanobacteria||Synechococcales|Synechococcaceae|Synechococcus']\n",
      "['Bacteria|Cyanobacteria||Synechococcales|Synechococcaceae|Synechococcus']\n",
      "['Bacteria|Cyanobacteria||Synechococcales|Synechococcaceae|Synechococcus']\n",
      "['Bacteria|Cyanobacteria||Synechococcales|Synechococcaceae|Synechococcus']\n",
      "['Bacteria|Cyanobacteria||Synechococcales|Synechococcaceae|Synechococcus']\n",
      "['Bacteria|Cyanobacteria||Synechococcales|Synechococcaceae|Synechococcus']\n",
      "['Bacteria|Cyanobacteria||Synechococcales|Synechococcaceae|Synechococcus']\n",
      "['Bacteria|Cyanobacteria||Synechococcales|Synechococcaceae|Synechococcus']\n",
      "['Bacteria|Cyanobacteria||Synechococcales|Prochloraceae|Prochlorococcus']\n",
      "['Bacteria|Cyanobacteria||Synechococcales|Synechococcaceae|Synechococcus']\n",
      "['Bacteria|Cyanobacteria||Synechococcales|Synechococcaceae|Synechococcus']\n",
      "['Bacteria|Cyanobacteria||Synechococcales|Synechococcaceae|Synechococcus']\n",
      "['Bacteria|Cyanobacteria||Synechococcales|Synechococcaceae|Synechococcus']\n",
      "['Bacteria|Cyanobacteria||Synechococcales|Synechococcaceae|Synechococcus']\n",
      "['Bacteria|Cyanobacteria||Synechococcales|Synechococcaceae|Synechococcus']\n",
      "['Viruses||||Partitiviridae|Betapartitivirus']\n",
      "['Bacteria|Cyanobacteria||Synechococcales|Synechococcaceae|Synechococcus']\n",
      "['Bacteria|Cyanobacteria||Synechococcales|Synechococcaceae|Synechococcus']\n",
      "['Bacteria|Cyanobacteria||Synechococcales|Synechococcaceae|Synechococcus']\n"
     ]
    }
   ],
   "source": [
    "for i in sample_list:\n",
    "    val = df[df[\"sample_id\"] == i]['relative_abundance'].max()\n",
    "    x = (df[df['relative_abundance'] == val]['genera'])\n",
    "    y = x.tolist()\n",
    "    print(y)"
   ]
  },
  {
   "cell_type": "code",
   "execution_count": 86,
   "id": "63030a45",
   "metadata": {},
   "outputs": [
    {
     "data": {
      "text/plain": [
       "'Cyanobacteria'"
      ]
     },
     "execution_count": 86,
     "metadata": {},
     "output_type": "execute_result"
    }
   ],
   "source": [
    "y = x.tolist()\n",
    "y[0].split('|')[1]"
   ]
  },
  {
   "cell_type": "code",
   "execution_count": 75,
   "id": "220f973e",
   "metadata": {},
   "outputs": [
    {
     "name": "stdout",
     "output_type": "stream",
     "text": [
      "False\n"
     ]
    }
   ],
   "source": [
    "print('Bacteria|Cyanobacteria||Synechococcales|Synec' in df['genera'])"
   ]
  },
  {
   "cell_type": "code",
   "execution_count": 44,
   "id": "46ea4f71",
   "metadata": {},
   "outputs": [
    {
     "data": {
      "text/plain": [
       "sample_id  site_id  species   V2      \n",
       "CMB10      CMB      syriaca   0.999777        0.0\n",
       "CMB11      CMB      syriaca   1.000000        0.0\n",
       "CMB13      CMB      syriaca   0.989131        0.0\n",
       "CMB14      CMB      syriaca   0.999992        0.0\n",
       "CMB15      CMB      syriaca   0.998548    0.02993\n",
       "                                           ...   \n",
       "SLG3       SLG      exaltata  0.448157        0.0\n",
       "SLG4       SLG      exaltata  0.412527        0.0\n",
       "SLG5       SLG      exaltata  0.307915        0.0\n",
       "SLG6       SLG      exaltata  0.482944        0.0\n",
       "SLG8       SLG      syriaca   0.999504    0.03363\n",
       "Name: Archaea|Euryarchaeota|Halobacteria|Halobacteriales|Haloarculaceae|Halapricum, Length: 165, dtype: object"
      ]
     },
     "execution_count": 44,
     "metadata": {},
     "output_type": "execute_result"
    }
   ],
   "source": [
    "origin_pivoted_df['Archaea|Euryarchaeota|Halobacteria|Halobacteriales|Haloarculaceae|Halapricum']"
   ]
  },
  {
   "cell_type": "code",
   "execution_count": 23,
   "id": "cb0bae14",
   "metadata": {},
   "outputs": [],
   "source": [
    "genera_list = []\n",
    "value_list = []\n",
    "for i in origin_pivoted_df.columns:\n",
    "    genera_list.append(i)\n",
    "    value_list.append(sum(origin_pivoted_df[i]))"
   ]
  },
  {
   "cell_type": "code",
   "execution_count": 32,
   "id": "38ddee26",
   "metadata": {},
   "outputs": [
    {
     "data": {
      "text/plain": [
       "[905.1327099999999,\n",
       " 520.5177100000001,\n",
       " 274.84986000000004,\n",
       " 190.30445000000006,\n",
       " 190.16735000000006,\n",
       " 143.20207999999997,\n",
       " 136.61874000000003,\n",
       " 105.85389000000005,\n",
       " 99.89197000000001,\n",
       " 94.59135000000005]"
      ]
     },
     "execution_count": 32,
     "metadata": {},
     "output_type": "execute_result"
    }
   ],
   "source": [
    "value_list.sort(reverse = True)\n",
    "value_list[0:10]"
   ]
  },
  {
   "cell_type": "code",
   "execution_count": 33,
   "id": "af6c7208",
   "metadata": {},
   "outputs": [
    {
     "data": {
      "text/plain": [
       "<BarContainer object of 1683 artists>"
      ]
     },
     "execution_count": 33,
     "metadata": {},
     "output_type": "execute_result"
    },
    {
     "data": {
      "image/png": "[encoded data removed]",
      "text/plain": [
       "<Figure size 640x480 with 1 Axes>"
      ]
     },
     "metadata": {},
     "output_type": "display_data"
    }
   ],
   "source": [
    "plt.bar(genera_list, value_list, color ='maroon', width = 0.4)"
   ]
  },
  {
   "cell_type": "code",
   "execution_count": 14,
   "id": "b1514884",
   "metadata": {},
   "outputs": [
    {
     "ename": "KeyError",
     "evalue": "\"['species'] not found in axis\"",
     "output_type": "error",
     "traceback": [
      "\u001b[1;31m---------------------------------------------------------------------------\u001b[0m",
      "\u001b[1;31mKeyError\u001b[0m                                  Traceback (most recent call last)",
      "Cell \u001b[1;32mIn[14], line 1\u001b[0m\n\u001b[1;32m----> 1\u001b[0m test_df \u001b[38;5;241m=\u001b[39m origin_pivoted_df\u001b[38;5;241m.\u001b[39mdrop([\u001b[38;5;124m'\u001b[39m\u001b[38;5;124mspecies\u001b[39m\u001b[38;5;124m'\u001b[39m], axis \u001b[38;5;241m=\u001b[39m \u001b[38;5;241m1\u001b[39m)\n\u001b[0;32m      2\u001b[0m test_df\u001b[38;5;241m.\u001b[39mhead()\n",
      "File \u001b[1;32m~\\anaconda3.1\\envs\\research_env\\Lib\\site-packages\\pandas\\core\\frame.py:5258\u001b[0m, in \u001b[0;36mDataFrame.drop\u001b[1;34m(self, labels, axis, index, columns, level, inplace, errors)\u001b[0m\n\u001b[0;32m   5110\u001b[0m \u001b[38;5;28;01mdef\u001b[39;00m \u001b[38;5;21mdrop\u001b[39m(\n\u001b[0;32m   5111\u001b[0m     \u001b[38;5;28mself\u001b[39m,\n\u001b[0;32m   5112\u001b[0m     labels: IndexLabel \u001b[38;5;241m=\u001b[39m \u001b[38;5;28;01mNone\u001b[39;00m,\n\u001b[1;32m   (...)\u001b[0m\n\u001b[0;32m   5119\u001b[0m     errors: IgnoreRaise \u001b[38;5;241m=\u001b[39m \u001b[38;5;124m\"\u001b[39m\u001b[38;5;124mraise\u001b[39m\u001b[38;5;124m\"\u001b[39m,\n\u001b[0;32m   5120\u001b[0m ) \u001b[38;5;241m-\u001b[39m\u001b[38;5;241m>\u001b[39m DataFrame \u001b[38;5;241m|\u001b[39m \u001b[38;5;28;01mNone\u001b[39;00m:\n\u001b[0;32m   5121\u001b[0m \u001b[38;5;250m    \u001b[39m\u001b[38;5;124;03m\"\"\"\u001b[39;00m\n\u001b[0;32m   5122\u001b[0m \u001b[38;5;124;03m    Drop specified labels from rows or columns.\u001b[39;00m\n\u001b[0;32m   5123\u001b[0m \n\u001b[1;32m   (...)\u001b[0m\n\u001b[0;32m   5256\u001b[0m \u001b[38;5;124;03m            weight  1.0     0.8\u001b[39;00m\n\u001b[0;32m   5257\u001b[0m \u001b[38;5;124;03m    \"\"\"\u001b[39;00m\n\u001b[1;32m-> 5258\u001b[0m     \u001b[38;5;28;01mreturn\u001b[39;00m \u001b[38;5;28msuper\u001b[39m()\u001b[38;5;241m.\u001b[39mdrop(\n\u001b[0;32m   5259\u001b[0m         labels\u001b[38;5;241m=\u001b[39mlabels,\n\u001b[0;32m   5260\u001b[0m         axis\u001b[38;5;241m=\u001b[39maxis,\n\u001b[0;32m   5261\u001b[0m         index\u001b[38;5;241m=\u001b[39mindex,\n\u001b[0;32m   5262\u001b[0m         columns\u001b[38;5;241m=\u001b[39mcolumns,\n\u001b[0;32m   5263\u001b[0m         level\u001b[38;5;241m=\u001b[39mlevel,\n\u001b[0;32m   5264\u001b[0m         inplace\u001b[38;5;241m=\u001b[39minplace,\n\u001b[0;32m   5265\u001b[0m         errors\u001b[38;5;241m=\u001b[39merrors,\n\u001b[0;32m   5266\u001b[0m     )\n",
      "File \u001b[1;32m~\\anaconda3.1\\envs\\research_env\\Lib\\site-packages\\pandas\\core\\generic.py:4549\u001b[0m, in \u001b[0;36mNDFrame.drop\u001b[1;34m(self, labels, axis, index, columns, level, inplace, errors)\u001b[0m\n\u001b[0;32m   4547\u001b[0m \u001b[38;5;28;01mfor\u001b[39;00m axis, labels \u001b[38;5;129;01min\u001b[39;00m axes\u001b[38;5;241m.\u001b[39mitems():\n\u001b[0;32m   4548\u001b[0m     \u001b[38;5;28;01mif\u001b[39;00m labels \u001b[38;5;129;01mis\u001b[39;00m \u001b[38;5;129;01mnot\u001b[39;00m \u001b[38;5;28;01mNone\u001b[39;00m:\n\u001b[1;32m-> 4549\u001b[0m         obj \u001b[38;5;241m=\u001b[39m obj\u001b[38;5;241m.\u001b[39m_drop_axis(labels, axis, level\u001b[38;5;241m=\u001b[39mlevel, errors\u001b[38;5;241m=\u001b[39merrors)\n\u001b[0;32m   4551\u001b[0m \u001b[38;5;28;01mif\u001b[39;00m inplace:\n\u001b[0;32m   4552\u001b[0m     \u001b[38;5;28mself\u001b[39m\u001b[38;5;241m.\u001b[39m_update_inplace(obj)\n",
      "File \u001b[1;32m~\\anaconda3.1\\envs\\research_env\\Lib\\site-packages\\pandas\\core\\generic.py:4591\u001b[0m, in \u001b[0;36mNDFrame._drop_axis\u001b[1;34m(self, labels, axis, level, errors, only_slice)\u001b[0m\n\u001b[0;32m   4589\u001b[0m         new_axis \u001b[38;5;241m=\u001b[39m axis\u001b[38;5;241m.\u001b[39mdrop(labels, level\u001b[38;5;241m=\u001b[39mlevel, errors\u001b[38;5;241m=\u001b[39merrors)\n\u001b[0;32m   4590\u001b[0m     \u001b[38;5;28;01melse\u001b[39;00m:\n\u001b[1;32m-> 4591\u001b[0m         new_axis \u001b[38;5;241m=\u001b[39m axis\u001b[38;5;241m.\u001b[39mdrop(labels, errors\u001b[38;5;241m=\u001b[39merrors)\n\u001b[0;32m   4592\u001b[0m     indexer \u001b[38;5;241m=\u001b[39m axis\u001b[38;5;241m.\u001b[39mget_indexer(new_axis)\n\u001b[0;32m   4594\u001b[0m \u001b[38;5;66;03m# Case for non-unique axis\u001b[39;00m\n\u001b[0;32m   4595\u001b[0m \u001b[38;5;28;01melse\u001b[39;00m:\n",
      "File \u001b[1;32m~\\anaconda3.1\\envs\\research_env\\Lib\\site-packages\\pandas\\core\\indexes\\base.py:6699\u001b[0m, in \u001b[0;36mIndex.drop\u001b[1;34m(self, labels, errors)\u001b[0m\n\u001b[0;32m   6697\u001b[0m \u001b[38;5;28;01mif\u001b[39;00m mask\u001b[38;5;241m.\u001b[39many():\n\u001b[0;32m   6698\u001b[0m     \u001b[38;5;28;01mif\u001b[39;00m errors \u001b[38;5;241m!=\u001b[39m \u001b[38;5;124m\"\u001b[39m\u001b[38;5;124mignore\u001b[39m\u001b[38;5;124m\"\u001b[39m:\n\u001b[1;32m-> 6699\u001b[0m         \u001b[38;5;28;01mraise\u001b[39;00m \u001b[38;5;167;01mKeyError\u001b[39;00m(\u001b[38;5;124mf\u001b[39m\u001b[38;5;124m\"\u001b[39m\u001b[38;5;132;01m{\u001b[39;00m\u001b[38;5;28mlist\u001b[39m(labels[mask])\u001b[38;5;132;01m}\u001b[39;00m\u001b[38;5;124m not found in axis\u001b[39m\u001b[38;5;124m\"\u001b[39m)\n\u001b[0;32m   6700\u001b[0m     indexer \u001b[38;5;241m=\u001b[39m indexer[\u001b[38;5;241m~\u001b[39mmask]\n\u001b[0;32m   6701\u001b[0m \u001b[38;5;28;01mreturn\u001b[39;00m \u001b[38;5;28mself\u001b[39m\u001b[38;5;241m.\u001b[39mdelete(indexer)\n",
      "\u001b[1;31mKeyError\u001b[0m: \"['species'] not found in axis\""
     ]
    }
   ],
   "source": [
    "test_df = origin_pivoted_df.drop(['species'], axis = 1)\n",
    "test_df.head()"
   ]
  },
  {
   "cell_type": "code",
   "execution_count": null,
   "id": "14d7ab72",
   "metadata": {},
   "outputs": [],
   "source": []
  }
 ],
 "metadata": {
  "kernelspec": {
   "display_name": "Python 3 (ipykernel)",
   "language": "python",
   "name": "python3"
  },
  "language_info": {
   "codemirror_mode": {
    "name": "ipython",
    "version": 3
   },
   "file_extension": ".py",
   "mimetype": "text/x-python",
   "name": "python",
   "nbconvert_exporter": "python",
   "pygments_lexer": "ipython3",
   "version": "3.11.4"
  }
 },
 "nbformat": 4,
 "nbformat_minor": 5
}
