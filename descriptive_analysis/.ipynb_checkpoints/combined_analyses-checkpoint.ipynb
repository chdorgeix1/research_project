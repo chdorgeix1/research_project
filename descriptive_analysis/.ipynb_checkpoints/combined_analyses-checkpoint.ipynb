{
 "cells": [
  {
   "cell_type": "code",
   "execution_count": 110,
   "id": "7410c009",
   "metadata": {},
   "outputs": [],
   "source": [
    "import pandas as pd\n",
    "import numpy as np\n",
    "import sqlite3\n",
    "import plotly.express as px\n",
    "from sklearn.decomposition import PCA\n",
    "from sklearn.preprocessing import StandardScaler\n",
    "import pandas as pd\n",
    "import numpy as np\n",
    "import sqlite3\n",
    "import plotly.express as px\n",
    "from sklearn.decomposition import PCA\n",
    "from sklearn.preprocessing import StandardScaler\n",
    "import matplotlib.pyplot as plt\n",
    "import seaborn as sns\n",
    "from sklearn.manifold import TSNE\n",
    "import statsmodels\n",
    "import statsmodels.api as sm\n",
    "from statsmodels.multivariate.manova import MANOVA\n",
    "import math"
   ]
  },
  {
   "cell_type": "code",
   "execution_count": 111,
   "id": "bc114d87",
   "metadata": {},
   "outputs": [],
   "source": [
    "# Connect to the database. If it does not exist, it will be created\n",
    "conn = sqlite3.connect(r'C:\\Users\\15404\\Documents\\GitHub\\research_project\\sql_db\\test3.db')\n",
    "# Create a cursor object. This is how we interact with the database\n",
    "curs = conn.cursor()\n",
    "\n",
    "\n",
    "### IMPORTANT!!! ###\n",
    "# By default, sqlite does not enforce foreign key constraints. \n",
    "# According to the documentation, this is for backwards compatibility. You have to turn them on yourself.\n",
    "curs.execute('PRAGMA foreign_keys=ON;')\n",
    "\n",
    "fulldf = pd.read_sql(\"\"\"SELECT *\n",
    "                        FROM tPlantDNA AS t1\n",
    "                        INNER JOIN tSoilNutrients AS t2 ON t1.sample_id = t2.sample_id\n",
    "                        INNER JOIN tSample AS t3 ON t1.sample_id = t3.sample_id;\"\"\", conn)\n",
    "\n",
    "conn.close()"
   ]
  },
  {
   "cell_type": "code",
   "execution_count": 112,
   "id": "cddc0957",
   "metadata": {},
   "outputs": [],
   "source": [
    "fulldf = fulldf.T.drop_duplicates().T"
   ]
  },
  {
   "cell_type": "code",
   "execution_count": 113,
   "id": "0fdfb828",
   "metadata": {},
   "outputs": [],
   "source": [
    "nutrients = fulldf.columns.drop(['ENR', 'V1','V2','PC1', 'PC2', 'PC3', 'PC4', 'PC5', 'sample_id', 'species', 'site_id', 'collect_date']) \n",
    "fulldf[nutrients] = fulldf[nutrients].astype(float)"
   ]
  },
  {
   "cell_type": "code",
   "execution_count": 114,
   "id": "ce7764a0",
   "metadata": {},
   "outputs": [],
   "source": [
    "df = fulldf"
   ]
  },
  {
   "cell_type": "code",
   "execution_count": 115,
   "id": "f1b1b884",
   "metadata": {},
   "outputs": [],
   "source": [
    "df[nutrients] = StandardScaler().fit_transform(df[nutrients])  "
   ]
  },
  {
   "cell_type": "markdown",
   "id": "99c99545",
   "metadata": {},
   "source": [
    "## By Site Soil Nutrient PCA"
   ]
  },
  {
   "cell_type": "code",
   "execution_count": 116,
   "id": "41470177",
   "metadata": {},
   "outputs": [
    {
     "data": {
      "application/vnd.plotly.v1+json": {
       "config": {
        "plotlyServerURL": "https://plot.ly"
       },
       "data": [
        {
         "hovertemplate": "color=RRL<br>0=%{x}<br>1=%{y}<extra></extra>",
         "legendgroup": "RRL",
         "marker": {
          "color": "#636efa",
          "symbol": "circle"
         },
         "mode": "markers",
         "name": "RRL",
         "orientation": "v",
         "showlegend": true,
         "type": "scatter",
         "x": [
          0.38904146068087636,
          -2.039807182737004,
          -1.258526493746799,
          -0.3279518716742438,
          -2.218003819710688,
          -0.6138829812444746,
          -1.1504457634658956,
          -1.2893562044865885,
          -0.7645318610995938,
          -1.5622038711379045,
          -0.7556908443446544,
          -2.752422862644242,
          -0.8385767057950055,
          -1.2245918480513065,
          -2.0212638169553925,
          -1.6015557404274374,
          -1.090470317498827,
          -0.9735068963571627,
          -1.7689659860621132
         ],
         "xaxis": "x",
         "y": [
          -3.01661334722135,
          -2.4187312722830008,
          -2.376065472038258,
          -2.443979542538047,
          -2.6202336719454116,
          -2.5166226563377325,
          -1.9584480449727926,
          -1.9169500194304518,
          -2.895504317950769,
          -1.373968887779038,
          -2.036050514403146,
          -2.080349262082771,
          -1.5173690759716043,
          -2.3032777554862967,
          -2.902683543121988,
          -2.688319752907863,
          -2.3448820716166754,
          -2.6674752310786682,
          -2.226421369456524
         ],
         "yaxis": "y"
        },
        {
         "hovertemplate": "color=FRW<br>0=%{x}<br>1=%{y}<extra></extra>",
         "legendgroup": "FRW",
         "marker": {
          "color": "#EF553B",
          "symbol": "circle"
         },
         "mode": "markers",
         "name": "FRW",
         "orientation": "v",
         "showlegend": true,
         "type": "scatter",
         "x": [
          1.7744499136344727,
          1.4155477202220619,
          2.0441053303132635,
          2.495693057752424,
          1.4873010096592465,
          2.9916619241812885,
          1.0077166486178875,
          1.2461665147580772,
          1.290591479286529,
          1.3165837934815536,
          2.1862548360577674
         ],
         "xaxis": "x",
         "y": [
          -1.5233926466258823,
          -1.873636877035977,
          -1.6157663485234888,
          -1.7768803628448346,
          -1.2695373166289654,
          -1.8944643884962535,
          -1.8052353032719102,
          -1.7965982091812147,
          -2.3226617483852734,
          -2.2127724591882045,
          -2.1283836999221966
         ],
         "yaxis": "y"
        },
        {
         "hovertemplate": "color=MMP<br>0=%{x}<br>1=%{y}<extra></extra>",
         "legendgroup": "MMP",
         "marker": {
          "color": "#00cc96",
          "symbol": "circle"
         },
         "mode": "markers",
         "name": "MMP",
         "orientation": "v",
         "showlegend": true,
         "type": "scatter",
         "x": [
          0.02064849327269901,
          -0.936305263410869,
          0.832559961334585,
          -0.6952415447134807,
          -1.9712275511489263,
          -0.12704721184890375,
          0.33930231851353376,
          -0.008228403663284029,
          -0.8685022763236069,
          -2.374752682723077,
          -1.312986648773651,
          -2.2535899413806177,
          0.6800872874668574,
          -0.23369505089335174,
          -1.4121058085452907,
          -0.9918318516992339,
          0.3547279050186699,
          -1.3866485907390025,
          1.7607003980159484
         ],
         "xaxis": "x",
         "y": [
          2.229683059667102,
          3.6912840454691236,
          1.9653172291213488,
          1.7225244812729539,
          1.6816818459627587,
          1.688869898394083,
          2.920578400659973,
          1.3943468137865433,
          1.096217658047479,
          1.4879982261961984,
          1.9007809577940498,
          1.0633827653508123,
          1.8819929770722899,
          2.1845361167116044,
          1.174102452702242,
          1.4142557075925564,
          1.6178648425835633,
          1.188174175442277,
          3.4603821021430186
         ],
         "yaxis": "y"
        },
        {
         "hovertemplate": "color=PNR<br>0=%{x}<br>1=%{y}<extra></extra>",
         "legendgroup": "PNR",
         "marker": {
          "color": "#ab63fa",
          "symbol": "circle"
         },
         "mode": "markers",
         "name": "PNR",
         "orientation": "v",
         "showlegend": true,
         "type": "scatter",
         "x": [
          2.59753396348883,
          0.7055457861303325,
          3.4351134771531076
         ],
         "xaxis": "x",
         "y": [
          -1.8208715107142066,
          -1.8769556590707566,
          -1.5552698494666204
         ],
         "yaxis": "y"
        },
        {
         "hovertemplate": "color=CMB<br>0=%{x}<br>1=%{y}<extra></extra>",
         "legendgroup": "CMB",
         "marker": {
          "color": "#FFA15A",
          "symbol": "circle"
         },
         "mode": "markers",
         "name": "CMB",
         "orientation": "v",
         "showlegend": true,
         "type": "scatter",
         "x": [
          -2.6871597614312743,
          -1.9637239177758632,
          -1.3011497367655305,
          -2.9462633293830023,
          -2.041208706045965,
          -2.108571582999993,
          -1.0379113734280252,
          -0.7618112274777232,
          -1.212492330544661,
          -2.2945362720580182,
          -1.137084377376017,
          -1.5880602717413503,
          -0.1220154533694414,
          -3.034185772283657,
          -0.4035639302676373,
          -1.0936181553037225,
          -2.9442480531461173,
          -0.8486986480077012,
          -1.8284004535593081,
          -1.7629144439535205,
          -2.599598785801312
         ],
         "xaxis": "x",
         "y": [
          1.5712817991147507,
          2.653094028546475,
          2.7846231773011003,
          1.6446800142349631,
          1.4314265757774545,
          0.8586406733602017,
          2.3500367118965615,
          1.4438144897492973,
          1.2584710674340522,
          2.042152883580458,
          2.0980594730352937,
          1.3489292636519614,
          1.7770360676497083,
          2.1053646203629013,
          1.533780758182054,
          1.4385523039774393,
          1.9865385393482422,
          1.2931803761804879,
          1.2107277115218513,
          1.5537957340280075,
          0.6400103557851108
         ],
         "yaxis": "y"
        },
        {
         "hovertemplate": "color=SLG<br>0=%{x}<br>1=%{y}<extra></extra>",
         "legendgroup": "SLG",
         "marker": {
          "color": "#19d3f3",
          "symbol": "circle"
         },
         "mode": "markers",
         "name": "SLG",
         "orientation": "v",
         "showlegend": true,
         "type": "scatter",
         "x": [
          -2.785128670209554,
          1.9969956251869188,
          -2.2330333246301395,
          2.5991805665424264,
          -2.0712694993736034,
          -0.09527727416183747,
          -2.2901237719928744,
          3.410390561413674,
          -2.7024495997599063,
          0.4396529842593842,
          -2.5357825520776203,
          3.0710754274245664,
          -2.0143899069700124,
          2.748352142734547,
          -1.4721386765261062,
          0.27266950555620323,
          2.3188434863673892
         ],
         "xaxis": "x",
         "y": [
          -1.3065619200688805,
          -1.12347441232894,
          -0.857865297127187,
          -1.6097689563908193,
          -0.45881405123766733,
          -2.0320100592563177,
          -0.5494873262054703,
          -0.9165797015177837,
          -0.8341074243779002,
          -1.4465325560663223,
          -1.0753873699302725,
          -2.408058300184845,
          -1.0991908228229843,
          -1.346197790620188,
          -0.7168056191966348,
          -1.5820343930359069,
          -0.8539747338138454
         ],
         "yaxis": "y"
        },
        {
         "hovertemplate": "color=RF<br>0=%{x}<br>1=%{y}<extra></extra>",
         "legendgroup": "RF",
         "marker": {
          "color": "#FF6692",
          "symbol": "circle"
         },
         "mode": "markers",
         "name": "RF",
         "orientation": "v",
         "showlegend": true,
         "type": "scatter",
         "x": [
          -2.8785097068087953,
          -1.133586043587872,
          -1.0478862946505638,
          -1.947001489178237,
          -0.4109039499386248,
          0.15876072103706199,
          -0.8895441305597495,
          0.2919657437508577,
          -1.1476019976190008,
          0.6099386671640565,
          -1.241982399507667
         ],
         "xaxis": "x",
         "y": [
          -0.8278804527868392,
          -0.5071555451168834,
          0.5418214140696623,
          -1.262515838811231,
          -0.548276589770159,
          0.11966903203124078,
          0.6325442262911642,
          -0.9120543605684889,
          0.7384601744102907,
          0.23084389342480213,
          -0.11070412642897927
         ],
         "yaxis": "y"
        },
        {
         "hovertemplate": "color=LFS<br>0=%{x}<br>1=%{y}<extra></extra>",
         "legendgroup": "LFS",
         "marker": {
          "color": "#B6E880",
          "symbol": "circle"
         },
         "mode": "markers",
         "name": "LFS",
         "orientation": "v",
         "showlegend": true,
         "type": "scatter",
         "x": [
          -1.4439766944285644,
          1.9725822276172658,
          -0.16818209733895562,
          2.5021834615025904,
          0.4465906691686195,
          0.6749555876871168,
          3.2765908630185354,
          0.7538840318664548,
          3.0476170182399493,
          1.4694960506838162,
          0.7326635748176376,
          0.0032468834367250757,
          -3.9736875811872325,
          0.7585881255400654
         ],
         "xaxis": "x",
         "y": [
          3.3724592916981613,
          4.917360000538279,
          3.36867579111138,
          4.014969719039666,
          3.211523087068743,
          3.475666212621081,
          4.854742538269508,
          3.743482431105615,
          4.021390885411555,
          3.985862170186353,
          5.006181454040857,
          4.4839360839949425,
          -2.0597814114894204,
          3.6937486916641378
         ],
         "yaxis": "y"
        },
        {
         "hovertemplate": "color=HR<br>0=%{x}<br>1=%{y}<extra></extra>",
         "legendgroup": "HR",
         "marker": {
          "color": "#FF97FF",
          "symbol": "circle"
         },
         "mode": "markers",
         "name": "HR",
         "orientation": "v",
         "showlegend": true,
         "type": "scatter",
         "x": [
          -1.036448129313127,
          -0.46823700330425094,
          -0.76615066934547,
          -2.704139603163041
         ],
         "xaxis": "x",
         "y": [
          -0.9072437833191284,
          -0.3633689350272374,
          -1.223207985684048,
          -0.5678171255261601
         ],
         "yaxis": "y"
        },
        {
         "hovertemplate": "color=PTW<br>0=%{x}<br>1=%{y}<extra></extra>",
         "legendgroup": "PTW",
         "marker": {
          "color": "#FECB52",
          "symbol": "circle"
         },
         "mode": "markers",
         "name": "PTW",
         "orientation": "v",
         "showlegend": true,
         "type": "scatter",
         "x": [
          -2.5808187715663125,
          -2.0095837922531556,
          -1.3915281068473266,
          -1.5290054099472192,
          -0.9015263421426237,
          -1.193063635296111
         ],
         "xaxis": "x",
         "y": [
          -1.390733223943229,
          -1.8904187769844998,
          -1.9992843811947518,
          -1.9713026295103042,
          -1.2255826629380593,
          -1.028415865488044
         ],
         "yaxis": "y"
        },
        {
         "hovertemplate": "color=LM<br>0=%{x}<br>1=%{y}<extra></extra>",
         "legendgroup": "LM",
         "marker": {
          "color": "#636efa",
          "symbol": "circle"
         },
         "mode": "markers",
         "name": "LM",
         "orientation": "v",
         "showlegend": true,
         "type": "scatter",
         "x": [
          -2.0391253098670568,
          1.5910825534455524,
          1.3895875105531341,
          -0.30378966996397516,
          2.5170281182612477,
          -0.4341974436655598,
          -2.3648399736242594,
          1.1766936934649832,
          1.8170542094134643,
          2.2614269493496177,
          1.7857557143964602,
          -0.8223259909003229,
          -2.745385838499199,
          0.8832152888848733,
          0.07192403531771575,
          -0.2943906959141047,
          0.521699341520324,
          0.7352536798018207,
          0.9038655964873403,
          -0.5870066513327106
         ],
         "xaxis": "x",
         "y": [
          -1.6305962560869307,
          0.3784613655312265,
          0.23064515117283,
          -1.0037733317949802,
          0.4707350308066806,
          -0.6159264352038791,
          -0.5977991652271173,
          -0.1417147433592517,
          1.476528098439674,
          0.17402025265391496,
          1.2067035002229487,
          -1.9672546536202489,
          -1.4301217361683336,
          -0.45934391783058737,
          -0.38984996296489616,
          -0.30114149051355493,
          -0.46958220737415063,
          0.3272057835382708,
          0.39766618256978137,
          -0.735198035194739
         ],
         "yaxis": "y"
        },
        {
         "hovertemplate": "color=MKP<br>0=%{x}<br>1=%{y}<extra></extra>",
         "legendgroup": "MKP",
         "marker": {
          "color": "#EF553B",
          "symbol": "circle"
         },
         "mode": "markers",
         "name": "MKP",
         "orientation": "v",
         "showlegend": true,
         "type": "scatter",
         "x": [
          6.037113362169879,
          3.1153570215589412,
          4.864559640334466,
          3.7597656366743024,
          4.466669594365925,
          3.8842195325271023,
          4.503056499798597,
          4.034341402723632
         ],
         "xaxis": "x",
         "y": [
          -0.8167185089889306,
          -0.14767510236725198,
          0.9434698371214106,
          -1.459323237793611,
          -1.125072364915392,
          -1.6723009026756892,
          -1.0662386797440098,
          -1.6214156376521023
         ],
         "yaxis": "y"
        },
        {
         "hovertemplate": "color=RGT<br>0=%{x}<br>1=%{y}<extra></extra>",
         "legendgroup": "RGT",
         "marker": {
          "color": "#00cc96",
          "symbol": "circle"
         },
         "mode": "markers",
         "name": "RGT",
         "orientation": "v",
         "showlegend": true,
         "type": "scatter",
         "x": [
          3.034222266286158,
          2.1809669825244424,
          2.509957380322922,
          1.246353281506225,
          1.4422852023786494,
          4.672715351803754,
          3.8614261235477945
         ],
         "xaxis": "x",
         "y": [
          -0.5134916382193838,
          -0.856478663278172,
          -0.6941338402119882,
          -0.7405274219907232,
          -0.7282286240092095,
          -0.4514336737941995,
          -0.38263583199559004
         ],
         "yaxis": "y"
        }
       ],
       "layout": {
        "legend": {
         "title": {
          "text": "color"
         },
         "tracegroupgap": 0
        },
        "margin": {
         "t": 60
        },
        "template": {
         "data": {
          "bar": [
           {
            "error_x": {
             "color": "#2a3f5f"
            },
            "error_y": {
             "color": "#2a3f5f"
            },
            "marker": {
             "line": {
              "color": "#E5ECF6",
              "width": 0.5
             },
             "pattern": {
              "fillmode": "overlay",
              "size": 10,
              "solidity": 0.2
             }
            },
            "type": "bar"
           }
          ],
          "barpolar": [
           {
            "marker": {
             "line": {
              "color": "#E5ECF6",
              "width": 0.5
             },
             "pattern": {
              "fillmode": "overlay",
              "size": 10,
              "solidity": 0.2
             }
            },
            "type": "barpolar"
           }
          ],
          "carpet": [
           {
            "aaxis": {
             "endlinecolor": "#2a3f5f",
             "gridcolor": "white",
             "linecolor": "white",
             "minorgridcolor": "white",
             "startlinecolor": "#2a3f5f"
            },
            "baxis": {
             "endlinecolor": "#2a3f5f",
             "gridcolor": "white",
             "linecolor": "white",
             "minorgridcolor": "white",
             "startlinecolor": "#2a3f5f"
            },
            "type": "carpet"
           }
          ],
          "choropleth": [
           {
            "colorbar": {
             "outlinewidth": 0,
             "ticks": ""
            },
            "type": "choropleth"
           }
          ],
          "contour": [
           {
            "colorbar": {
             "outlinewidth": 0,
             "ticks": ""
            },
            "colorscale": [
             [
              0,
              "#0d0887"
             ],
             [
              0.1111111111111111,
              "#46039f"
             ],
             [
              0.2222222222222222,
              "#7201a8"
             ],
             [
              0.3333333333333333,
              "#9c179e"
             ],
             [
              0.4444444444444444,
              "#bd3786"
             ],
             [
              0.5555555555555556,
              "#d8576b"
             ],
             [
              0.6666666666666666,
              "#ed7953"
             ],
             [
              0.7777777777777778,
              "#fb9f3a"
             ],
             [
              0.8888888888888888,
              "#fdca26"
             ],
             [
              1,
              "#f0f921"
             ]
            ],
            "type": "contour"
           }
          ],
          "contourcarpet": [
           {
            "colorbar": {
             "outlinewidth": 0,
             "ticks": ""
            },
            "type": "contourcarpet"
           }
          ],
          "heatmap": [
           {
            "colorbar": {
             "outlinewidth": 0,
             "ticks": ""
            },
            "colorscale": [
             [
              0,
              "#0d0887"
             ],
             [
              0.1111111111111111,
              "#46039f"
             ],
             [
              0.2222222222222222,
              "#7201a8"
             ],
             [
              0.3333333333333333,
              "#9c179e"
             ],
             [
              0.4444444444444444,
              "#bd3786"
             ],
             [
              0.5555555555555556,
              "#d8576b"
             ],
             [
              0.6666666666666666,
              "#ed7953"
             ],
             [
              0.7777777777777778,
              "#fb9f3a"
             ],
             [
              0.8888888888888888,
              "#fdca26"
             ],
             [
              1,
              "#f0f921"
             ]
            ],
            "type": "heatmap"
           }
          ],
          "heatmapgl": [
           {
            "colorbar": {
             "outlinewidth": 0,
             "ticks": ""
            },
            "colorscale": [
             [
              0,
              "#0d0887"
             ],
             [
              0.1111111111111111,
              "#46039f"
             ],
             [
              0.2222222222222222,
              "#7201a8"
             ],
             [
              0.3333333333333333,
              "#9c179e"
             ],
             [
              0.4444444444444444,
              "#bd3786"
             ],
             [
              0.5555555555555556,
              "#d8576b"
             ],
             [
              0.6666666666666666,
              "#ed7953"
             ],
             [
              0.7777777777777778,
              "#fb9f3a"
             ],
             [
              0.8888888888888888,
              "#fdca26"
             ],
             [
              1,
              "#f0f921"
             ]
            ],
            "type": "heatmapgl"
           }
          ],
          "histogram": [
           {
            "marker": {
             "pattern": {
              "fillmode": "overlay",
              "size": 10,
              "solidity": 0.2
             }
            },
            "type": "histogram"
           }
          ],
          "histogram2d": [
           {
            "colorbar": {
             "outlinewidth": 0,
             "ticks": ""
            },
            "colorscale": [
             [
              0,
              "#0d0887"
             ],
             [
              0.1111111111111111,
              "#46039f"
             ],
             [
              0.2222222222222222,
              "#7201a8"
             ],
             [
              0.3333333333333333,
              "#9c179e"
             ],
             [
              0.4444444444444444,
              "#bd3786"
             ],
             [
              0.5555555555555556,
              "#d8576b"
             ],
             [
              0.6666666666666666,
              "#ed7953"
             ],
             [
              0.7777777777777778,
              "#fb9f3a"
             ],
             [
              0.8888888888888888,
              "#fdca26"
             ],
             [
              1,
              "#f0f921"
             ]
            ],
            "type": "histogram2d"
           }
          ],
          "histogram2dcontour": [
           {
            "colorbar": {
             "outlinewidth": 0,
             "ticks": ""
            },
            "colorscale": [
             [
              0,
              "#0d0887"
             ],
             [
              0.1111111111111111,
              "#46039f"
             ],
             [
              0.2222222222222222,
              "#7201a8"
             ],
             [
              0.3333333333333333,
              "#9c179e"
             ],
             [
              0.4444444444444444,
              "#bd3786"
             ],
             [
              0.5555555555555556,
              "#d8576b"
             ],
             [
              0.6666666666666666,
              "#ed7953"
             ],
             [
              0.7777777777777778,
              "#fb9f3a"
             ],
             [
              0.8888888888888888,
              "#fdca26"
             ],
             [
              1,
              "#f0f921"
             ]
            ],
            "type": "histogram2dcontour"
           }
          ],
          "mesh3d": [
           {
            "colorbar": {
             "outlinewidth": 0,
             "ticks": ""
            },
            "type": "mesh3d"
           }
          ],
          "parcoords": [
           {
            "line": {
             "colorbar": {
              "outlinewidth": 0,
              "ticks": ""
             }
            },
            "type": "parcoords"
           }
          ],
          "pie": [
           {
            "automargin": true,
            "type": "pie"
           }
          ],
          "scatter": [
           {
            "fillpattern": {
             "fillmode": "overlay",
             "size": 10,
             "solidity": 0.2
            },
            "type": "scatter"
           }
          ],
          "scatter3d": [
           {
            "line": {
             "colorbar": {
              "outlinewidth": 0,
              "ticks": ""
             }
            },
            "marker": {
             "colorbar": {
              "outlinewidth": 0,
              "ticks": ""
             }
            },
            "type": "scatter3d"
           }
          ],
          "scattercarpet": [
           {
            "marker": {
             "colorbar": {
              "outlinewidth": 0,
              "ticks": ""
             }
            },
            "type": "scattercarpet"
           }
          ],
          "scattergeo": [
           {
            "marker": {
             "colorbar": {
              "outlinewidth": 0,
              "ticks": ""
             }
            },
            "type": "scattergeo"
           }
          ],
          "scattergl": [
           {
            "marker": {
             "colorbar": {
              "outlinewidth": 0,
              "ticks": ""
             }
            },
            "type": "scattergl"
           }
          ],
          "scattermapbox": [
           {
            "marker": {
             "colorbar": {
              "outlinewidth": 0,
              "ticks": ""
             }
            },
            "type": "scattermapbox"
           }
          ],
          "scatterpolar": [
           {
            "marker": {
             "colorbar": {
              "outlinewidth": 0,
              "ticks": ""
             }
            },
            "type": "scatterpolar"
           }
          ],
          "scatterpolargl": [
           {
            "marker": {
             "colorbar": {
              "outlinewidth": 0,
              "ticks": ""
             }
            },
            "type": "scatterpolargl"
           }
          ],
          "scatterternary": [
           {
            "marker": {
             "colorbar": {
              "outlinewidth": 0,
              "ticks": ""
             }
            },
            "type": "scatterternary"
           }
          ],
          "surface": [
           {
            "colorbar": {
             "outlinewidth": 0,
             "ticks": ""
            },
            "colorscale": [
             [
              0,
              "#0d0887"
             ],
             [
              0.1111111111111111,
              "#46039f"
             ],
             [
              0.2222222222222222,
              "#7201a8"
             ],
             [
              0.3333333333333333,
              "#9c179e"
             ],
             [
              0.4444444444444444,
              "#bd3786"
             ],
             [
              0.5555555555555556,
              "#d8576b"
             ],
             [
              0.6666666666666666,
              "#ed7953"
             ],
             [
              0.7777777777777778,
              "#fb9f3a"
             ],
             [
              0.8888888888888888,
              "#fdca26"
             ],
             [
              1,
              "#f0f921"
             ]
            ],
            "type": "surface"
           }
          ],
          "table": [
           {
            "cells": {
             "fill": {
              "color": "#EBF0F8"
             },
             "line": {
              "color": "white"
             }
            },
            "header": {
             "fill": {
              "color": "#C8D4E3"
             },
             "line": {
              "color": "white"
             }
            },
            "type": "table"
           }
          ]
         },
         "layout": {
          "annotationdefaults": {
           "arrowcolor": "#2a3f5f",
           "arrowhead": 0,
           "arrowwidth": 1
          },
          "autotypenumbers": "strict",
          "coloraxis": {
           "colorbar": {
            "outlinewidth": 0,
            "ticks": ""
           }
          },
          "colorscale": {
           "diverging": [
            [
             0,
             "#8e0152"
            ],
            [
             0.1,
             "#c51b7d"
            ],
            [
             0.2,
             "#de77ae"
            ],
            [
             0.3,
             "#f1b6da"
            ],
            [
             0.4,
             "#fde0ef"
            ],
            [
             0.5,
             "#f7f7f7"
            ],
            [
             0.6,
             "#e6f5d0"
            ],
            [
             0.7,
             "#b8e186"
            ],
            [
             0.8,
             "#7fbc41"
            ],
            [
             0.9,
             "#4d9221"
            ],
            [
             1,
             "#276419"
            ]
           ],
           "sequential": [
            [
             0,
             "#0d0887"
            ],
            [
             0.1111111111111111,
             "#46039f"
            ],
            [
             0.2222222222222222,
             "#7201a8"
            ],
            [
             0.3333333333333333,
             "#9c179e"
            ],
            [
             0.4444444444444444,
             "#bd3786"
            ],
            [
             0.5555555555555556,
             "#d8576b"
            ],
            [
             0.6666666666666666,
             "#ed7953"
            ],
            [
             0.7777777777777778,
             "#fb9f3a"
            ],
            [
             0.8888888888888888,
             "#fdca26"
            ],
            [
             1,
             "#f0f921"
            ]
           ],
           "sequentialminus": [
            [
             0,
             "#0d0887"
            ],
            [
             0.1111111111111111,
             "#46039f"
            ],
            [
             0.2222222222222222,
             "#7201a8"
            ],
            [
             0.3333333333333333,
             "#9c179e"
            ],
            [
             0.4444444444444444,
             "#bd3786"
            ],
            [
             0.5555555555555556,
             "#d8576b"
            ],
            [
             0.6666666666666666,
             "#ed7953"
            ],
            [
             0.7777777777777778,
             "#fb9f3a"
            ],
            [
             0.8888888888888888,
             "#fdca26"
            ],
            [
             1,
             "#f0f921"
            ]
           ]
          },
          "colorway": [
           "#636efa",
           "#EF553B",
           "#00cc96",
           "#ab63fa",
           "#FFA15A",
           "#19d3f3",
           "#FF6692",
           "#B6E880",
           "#FF97FF",
           "#FECB52"
          ],
          "font": {
           "color": "#2a3f5f"
          },
          "geo": {
           "bgcolor": "white",
           "lakecolor": "white",
           "landcolor": "#E5ECF6",
           "showlakes": true,
           "showland": true,
           "subunitcolor": "white"
          },
          "hoverlabel": {
           "align": "left"
          },
          "hovermode": "closest",
          "mapbox": {
           "style": "light"
          },
          "paper_bgcolor": "white",
          "plot_bgcolor": "#E5ECF6",
          "polar": {
           "angularaxis": {
            "gridcolor": "white",
            "linecolor": "white",
            "ticks": ""
           },
           "bgcolor": "#E5ECF6",
           "radialaxis": {
            "gridcolor": "white",
            "linecolor": "white",
            "ticks": ""
           }
          },
          "scene": {
           "xaxis": {
            "backgroundcolor": "#E5ECF6",
            "gridcolor": "white",
            "gridwidth": 2,
            "linecolor": "white",
            "showbackground": true,
            "ticks": "",
            "zerolinecolor": "white"
           },
           "yaxis": {
            "backgroundcolor": "#E5ECF6",
            "gridcolor": "white",
            "gridwidth": 2,
            "linecolor": "white",
            "showbackground": true,
            "ticks": "",
            "zerolinecolor": "white"
           },
           "zaxis": {
            "backgroundcolor": "#E5ECF6",
            "gridcolor": "white",
            "gridwidth": 2,
            "linecolor": "white",
            "showbackground": true,
            "ticks": "",
            "zerolinecolor": "white"
           }
          },
          "shapedefaults": {
           "line": {
            "color": "#2a3f5f"
           }
          },
          "ternary": {
           "aaxis": {
            "gridcolor": "white",
            "linecolor": "white",
            "ticks": ""
           },
           "baxis": {
            "gridcolor": "white",
            "linecolor": "white",
            "ticks": ""
           },
           "bgcolor": "#E5ECF6",
           "caxis": {
            "gridcolor": "white",
            "linecolor": "white",
            "ticks": ""
           }
          },
          "title": {
           "x": 0.05
          },
          "xaxis": {
           "automargin": true,
           "gridcolor": "white",
           "linecolor": "white",
           "ticks": "",
           "title": {
            "standoff": 15
           },
           "zerolinecolor": "white",
           "zerolinewidth": 2
          },
          "yaxis": {
           "automargin": true,
           "gridcolor": "white",
           "linecolor": "white",
           "ticks": "",
           "title": {
            "standoff": 15
           },
           "zerolinecolor": "white",
           "zerolinewidth": 2
          }
         }
        },
        "xaxis": {
         "anchor": "y",
         "domain": [
          0,
          1
         ],
         "title": {
          "text": "PC1 26.9%"
         }
        },
        "yaxis": {
         "anchor": "x",
         "domain": [
          0,
          1
         ],
         "title": {
          "text": "PC2 24.8%"
         }
        }
       }
      },
      "text/html": [
       "<div>                            <div id=\"aa1da378-569c-4b60-8971-8907e02b1cb0\" class=\"plotly-graph-div\" style=\"height:525px; width:100%;\"></div>            <script type=\"text/javascript\">                require([\"plotly\"], function(Plotly) {                    window.PLOTLYENV=window.PLOTLYENV || {};                                    if (document.getElementById(\"aa1da378-569c-4b60-8971-8907e02b1cb0\")) {                    Plotly.newPlot(                        \"aa1da378-569c-4b60-8971-8907e02b1cb0\",                        [{\"hovertemplate\":\"color=RRL<br>0=%{x}<br>1=%{y}<extra></extra>\",\"legendgroup\":\"RRL\",\"marker\":{\"color\":\"#636efa\",\"symbol\":\"circle\"},\"mode\":\"markers\",\"name\":\"RRL\",\"orientation\":\"v\",\"showlegend\":true,\"x\":[0.38904146068087636,-2.039807182737004,-1.258526493746799,-0.3279518716742438,-2.218003819710688,-0.6138829812444746,-1.1504457634658956,-1.2893562044865885,-0.7645318610995938,-1.5622038711379045,-0.7556908443446544,-2.752422862644242,-0.8385767057950055,-1.2245918480513065,-2.0212638169553925,-1.6015557404274374,-1.090470317498827,-0.9735068963571627,-1.7689659860621132],\"xaxis\":\"x\",\"y\":[-3.01661334722135,-2.4187312722830008,-2.376065472038258,-2.443979542538047,-2.6202336719454116,-2.5166226563377325,-1.9584480449727926,-1.9169500194304518,-2.895504317950769,-1.373968887779038,-2.036050514403146,-2.080349262082771,-1.5173690759716043,-2.3032777554862967,-2.902683543121988,-2.688319752907863,-2.3448820716166754,-2.6674752310786682,-2.226421369456524],\"yaxis\":\"y\",\"type\":\"scatter\"},{\"hovertemplate\":\"color=FRW<br>0=%{x}<br>1=%{y}<extra></extra>\",\"legendgroup\":\"FRW\",\"marker\":{\"color\":\"#EF553B\",\"symbol\":\"circle\"},\"mode\":\"markers\",\"name\":\"FRW\",\"orientation\":\"v\",\"showlegend\":true,\"x\":[1.7744499136344727,1.4155477202220619,2.0441053303132635,2.495693057752424,1.4873010096592465,2.9916619241812885,1.0077166486178875,1.2461665147580772,1.290591479286529,1.3165837934815536,2.1862548360577674],\"xaxis\":\"x\",\"y\":[-1.5233926466258823,-1.873636877035977,-1.6157663485234888,-1.7768803628448346,-1.2695373166289654,-1.8944643884962535,-1.8052353032719102,-1.7965982091812147,-2.3226617483852734,-2.2127724591882045,-2.1283836999221966],\"yaxis\":\"y\",\"type\":\"scatter\"},{\"hovertemplate\":\"color=MMP<br>0=%{x}<br>1=%{y}<extra></extra>\",\"legendgroup\":\"MMP\",\"marker\":{\"color\":\"#00cc96\",\"symbol\":\"circle\"},\"mode\":\"markers\",\"name\":\"MMP\",\"orientation\":\"v\",\"showlegend\":true,\"x\":[0.02064849327269901,-0.936305263410869,0.832559961334585,-0.6952415447134807,-1.9712275511489263,-0.12704721184890375,0.33930231851353376,-0.008228403663284029,-0.8685022763236069,-2.374752682723077,-1.312986648773651,-2.2535899413806177,0.6800872874668574,-0.23369505089335174,-1.4121058085452907,-0.9918318516992339,0.3547279050186699,-1.3866485907390025,1.7607003980159484],\"xaxis\":\"x\",\"y\":[2.229683059667102,3.6912840454691236,1.9653172291213488,1.7225244812729539,1.6816818459627587,1.688869898394083,2.920578400659973,1.3943468137865433,1.096217658047479,1.4879982261961984,1.9007809577940498,1.0633827653508123,1.8819929770722899,2.1845361167116044,1.174102452702242,1.4142557075925564,1.6178648425835633,1.188174175442277,3.4603821021430186],\"yaxis\":\"y\",\"type\":\"scatter\"},{\"hovertemplate\":\"color=PNR<br>0=%{x}<br>1=%{y}<extra></extra>\",\"legendgroup\":\"PNR\",\"marker\":{\"color\":\"#ab63fa\",\"symbol\":\"circle\"},\"mode\":\"markers\",\"name\":\"PNR\",\"orientation\":\"v\",\"showlegend\":true,\"x\":[2.59753396348883,0.7055457861303325,3.4351134771531076],\"xaxis\":\"x\",\"y\":[-1.8208715107142066,-1.8769556590707566,-1.5552698494666204],\"yaxis\":\"y\",\"type\":\"scatter\"},{\"hovertemplate\":\"color=CMB<br>0=%{x}<br>1=%{y}<extra></extra>\",\"legendgroup\":\"CMB\",\"marker\":{\"color\":\"#FFA15A\",\"symbol\":\"circle\"},\"mode\":\"markers\",\"name\":\"CMB\",\"orientation\":\"v\",\"showlegend\":true,\"x\":[-2.6871597614312743,-1.9637239177758632,-1.3011497367655305,-2.9462633293830023,-2.041208706045965,-2.108571582999993,-1.0379113734280252,-0.7618112274777232,-1.212492330544661,-2.2945362720580182,-1.137084377376017,-1.5880602717413503,-0.1220154533694414,-3.034185772283657,-0.4035639302676373,-1.0936181553037225,-2.9442480531461173,-0.8486986480077012,-1.8284004535593081,-1.7629144439535205,-2.599598785801312],\"xaxis\":\"x\",\"y\":[1.5712817991147507,2.653094028546475,2.7846231773011003,1.6446800142349631,1.4314265757774545,0.8586406733602017,2.3500367118965615,1.4438144897492973,1.2584710674340522,2.042152883580458,2.0980594730352937,1.3489292636519614,1.7770360676497083,2.1053646203629013,1.533780758182054,1.4385523039774393,1.9865385393482422,1.2931803761804879,1.2107277115218513,1.5537957340280075,0.6400103557851108],\"yaxis\":\"y\",\"type\":\"scatter\"},{\"hovertemplate\":\"color=SLG<br>0=%{x}<br>1=%{y}<extra></extra>\",\"legendgroup\":\"SLG\",\"marker\":{\"color\":\"#19d3f3\",\"symbol\":\"circle\"},\"mode\":\"markers\",\"name\":\"SLG\",\"orientation\":\"v\",\"showlegend\":true,\"x\":[-2.785128670209554,1.9969956251869188,-2.2330333246301395,2.5991805665424264,-2.0712694993736034,-0.09527727416183747,-2.2901237719928744,3.410390561413674,-2.7024495997599063,0.4396529842593842,-2.5357825520776203,3.0710754274245664,-2.0143899069700124,2.748352142734547,-1.4721386765261062,0.27266950555620323,2.3188434863673892],\"xaxis\":\"x\",\"y\":[-1.3065619200688805,-1.12347441232894,-0.857865297127187,-1.6097689563908193,-0.45881405123766733,-2.0320100592563177,-0.5494873262054703,-0.9165797015177837,-0.8341074243779002,-1.4465325560663223,-1.0753873699302725,-2.408058300184845,-1.0991908228229843,-1.346197790620188,-0.7168056191966348,-1.5820343930359069,-0.8539747338138454],\"yaxis\":\"y\",\"type\":\"scatter\"},{\"hovertemplate\":\"color=RF<br>0=%{x}<br>1=%{y}<extra></extra>\",\"legendgroup\":\"RF\",\"marker\":{\"color\":\"#FF6692\",\"symbol\":\"circle\"},\"mode\":\"markers\",\"name\":\"RF\",\"orientation\":\"v\",\"showlegend\":true,\"x\":[-2.8785097068087953,-1.133586043587872,-1.0478862946505638,-1.947001489178237,-0.4109039499386248,0.15876072103706199,-0.8895441305597495,0.2919657437508577,-1.1476019976190008,0.6099386671640565,-1.241982399507667],\"xaxis\":\"x\",\"y\":[-0.8278804527868392,-0.5071555451168834,0.5418214140696623,-1.262515838811231,-0.548276589770159,0.11966903203124078,0.6325442262911642,-0.9120543605684889,0.7384601744102907,0.23084389342480213,-0.11070412642897927],\"yaxis\":\"y\",\"type\":\"scatter\"},{\"hovertemplate\":\"color=LFS<br>0=%{x}<br>1=%{y}<extra></extra>\",\"legendgroup\":\"LFS\",\"marker\":{\"color\":\"#B6E880\",\"symbol\":\"circle\"},\"mode\":\"markers\",\"name\":\"LFS\",\"orientation\":\"v\",\"showlegend\":true,\"x\":[-1.4439766944285644,1.9725822276172658,-0.16818209733895562,2.5021834615025904,0.4465906691686195,0.6749555876871168,3.2765908630185354,0.7538840318664548,3.0476170182399493,1.4694960506838162,0.7326635748176376,0.0032468834367250757,-3.9736875811872325,0.7585881255400654],\"xaxis\":\"x\",\"y\":[3.3724592916981613,4.917360000538279,3.36867579111138,4.014969719039666,3.211523087068743,3.475666212621081,4.854742538269508,3.743482431105615,4.021390885411555,3.985862170186353,5.006181454040857,4.4839360839949425,-2.0597814114894204,3.6937486916641378],\"yaxis\":\"y\",\"type\":\"scatter\"},{\"hovertemplate\":\"color=HR<br>0=%{x}<br>1=%{y}<extra></extra>\",\"legendgroup\":\"HR\",\"marker\":{\"color\":\"#FF97FF\",\"symbol\":\"circle\"},\"mode\":\"markers\",\"name\":\"HR\",\"orientation\":\"v\",\"showlegend\":true,\"x\":[-1.036448129313127,-0.46823700330425094,-0.76615066934547,-2.704139603163041],\"xaxis\":\"x\",\"y\":[-0.9072437833191284,-0.3633689350272374,-1.223207985684048,-0.5678171255261601],\"yaxis\":\"y\",\"type\":\"scatter\"},{\"hovertemplate\":\"color=PTW<br>0=%{x}<br>1=%{y}<extra></extra>\",\"legendgroup\":\"PTW\",\"marker\":{\"color\":\"#FECB52\",\"symbol\":\"circle\"},\"mode\":\"markers\",\"name\":\"PTW\",\"orientation\":\"v\",\"showlegend\":true,\"x\":[-2.5808187715663125,-2.0095837922531556,-1.3915281068473266,-1.5290054099472192,-0.9015263421426237,-1.193063635296111],\"xaxis\":\"x\",\"y\":[-1.390733223943229,-1.8904187769844998,-1.9992843811947518,-1.9713026295103042,-1.2255826629380593,-1.028415865488044],\"yaxis\":\"y\",\"type\":\"scatter\"},{\"hovertemplate\":\"color=LM<br>0=%{x}<br>1=%{y}<extra></extra>\",\"legendgroup\":\"LM\",\"marker\":{\"color\":\"#636efa\",\"symbol\":\"circle\"},\"mode\":\"markers\",\"name\":\"LM\",\"orientation\":\"v\",\"showlegend\":true,\"x\":[-2.0391253098670568,1.5910825534455524,1.3895875105531341,-0.30378966996397516,2.5170281182612477,-0.4341974436655598,-2.3648399736242594,1.1766936934649832,1.8170542094134643,2.2614269493496177,1.7857557143964602,-0.8223259909003229,-2.745385838499199,0.8832152888848733,0.07192403531771575,-0.2943906959141047,0.521699341520324,0.7352536798018207,0.9038655964873403,-0.5870066513327106],\"xaxis\":\"x\",\"y\":[-1.6305962560869307,0.3784613655312265,0.23064515117283,-1.0037733317949802,0.4707350308066806,-0.6159264352038791,-0.5977991652271173,-0.1417147433592517,1.476528098439674,0.17402025265391496,1.2067035002229487,-1.9672546536202489,-1.4301217361683336,-0.45934391783058737,-0.38984996296489616,-0.30114149051355493,-0.46958220737415063,0.3272057835382708,0.39766618256978137,-0.735198035194739],\"yaxis\":\"y\",\"type\":\"scatter\"},{\"hovertemplate\":\"color=MKP<br>0=%{x}<br>1=%{y}<extra></extra>\",\"legendgroup\":\"MKP\",\"marker\":{\"color\":\"#EF553B\",\"symbol\":\"circle\"},\"mode\":\"markers\",\"name\":\"MKP\",\"orientation\":\"v\",\"showlegend\":true,\"x\":[6.037113362169879,3.1153570215589412,4.864559640334466,3.7597656366743024,4.466669594365925,3.8842195325271023,4.503056499798597,4.034341402723632],\"xaxis\":\"x\",\"y\":[-0.8167185089889306,-0.14767510236725198,0.9434698371214106,-1.459323237793611,-1.125072364915392,-1.6723009026756892,-1.0662386797440098,-1.6214156376521023],\"yaxis\":\"y\",\"type\":\"scatter\"},{\"hovertemplate\":\"color=RGT<br>0=%{x}<br>1=%{y}<extra></extra>\",\"legendgroup\":\"RGT\",\"marker\":{\"color\":\"#00cc96\",\"symbol\":\"circle\"},\"mode\":\"markers\",\"name\":\"RGT\",\"orientation\":\"v\",\"showlegend\":true,\"x\":[3.034222266286158,2.1809669825244424,2.509957380322922,1.246353281506225,1.4422852023786494,4.672715351803754,3.8614261235477945],\"xaxis\":\"x\",\"y\":[-0.5134916382193838,-0.856478663278172,-0.6941338402119882,-0.7405274219907232,-0.7282286240092095,-0.4514336737941995,-0.38263583199559004],\"yaxis\":\"y\",\"type\":\"scatter\"}],                        {\"template\":{\"data\":{\"histogram2dcontour\":[{\"type\":\"histogram2dcontour\",\"colorbar\":{\"outlinewidth\":0,\"ticks\":\"\"},\"colorscale\":[[0.0,\"#0d0887\"],[0.1111111111111111,\"#46039f\"],[0.2222222222222222,\"#7201a8\"],[0.3333333333333333,\"#9c179e\"],[0.4444444444444444,\"#bd3786\"],[0.5555555555555556,\"#d8576b\"],[0.6666666666666666,\"#ed7953\"],[0.7777777777777778,\"#fb9f3a\"],[0.8888888888888888,\"#fdca26\"],[1.0,\"#f0f921\"]]}],\"choropleth\":[{\"type\":\"choropleth\",\"colorbar\":{\"outlinewidth\":0,\"ticks\":\"\"}}],\"histogram2d\":[{\"type\":\"histogram2d\",\"colorbar\":{\"outlinewidth\":0,\"ticks\":\"\"},\"colorscale\":[[0.0,\"#0d0887\"],[0.1111111111111111,\"#46039f\"],[0.2222222222222222,\"#7201a8\"],[0.3333333333333333,\"#9c179e\"],[0.4444444444444444,\"#bd3786\"],[0.5555555555555556,\"#d8576b\"],[0.6666666666666666,\"#ed7953\"],[0.7777777777777778,\"#fb9f3a\"],[0.8888888888888888,\"#fdca26\"],[1.0,\"#f0f921\"]]}],\"heatmap\":[{\"type\":\"heatmap\",\"colorbar\":{\"outlinewidth\":0,\"ticks\":\"\"},\"colorscale\":[[0.0,\"#0d0887\"],[0.1111111111111111,\"#46039f\"],[0.2222222222222222,\"#7201a8\"],[0.3333333333333333,\"#9c179e\"],[0.4444444444444444,\"#bd3786\"],[0.5555555555555556,\"#d8576b\"],[0.6666666666666666,\"#ed7953\"],[0.7777777777777778,\"#fb9f3a\"],[0.8888888888888888,\"#fdca26\"],[1.0,\"#f0f921\"]]}],\"heatmapgl\":[{\"type\":\"heatmapgl\",\"colorbar\":{\"outlinewidth\":0,\"ticks\":\"\"},\"colorscale\":[[0.0,\"#0d0887\"],[0.1111111111111111,\"#46039f\"],[0.2222222222222222,\"#7201a8\"],[0.3333333333333333,\"#9c179e\"],[0.4444444444444444,\"#bd3786\"],[0.5555555555555556,\"#d8576b\"],[0.6666666666666666,\"#ed7953\"],[0.7777777777777778,\"#fb9f3a\"],[0.8888888888888888,\"#fdca26\"],[1.0,\"#f0f921\"]]}],\"contourcarpet\":[{\"type\":\"contourcarpet\",\"colorbar\":{\"outlinewidth\":0,\"ticks\":\"\"}}],\"contour\":[{\"type\":\"contour\",\"colorbar\":{\"outlinewidth\":0,\"ticks\":\"\"},\"colorscale\":[[0.0,\"#0d0887\"],[0.1111111111111111,\"#46039f\"],[0.2222222222222222,\"#7201a8\"],[0.3333333333333333,\"#9c179e\"],[0.4444444444444444,\"#bd3786\"],[0.5555555555555556,\"#d8576b\"],[0.6666666666666666,\"#ed7953\"],[0.7777777777777778,\"#fb9f3a\"],[0.8888888888888888,\"#fdca26\"],[1.0,\"#f0f921\"]]}],\"surface\":[{\"type\":\"surface\",\"colorbar\":{\"outlinewidth\":0,\"ticks\":\"\"},\"colorscale\":[[0.0,\"#0d0887\"],[0.1111111111111111,\"#46039f\"],[0.2222222222222222,\"#7201a8\"],[0.3333333333333333,\"#9c179e\"],[0.4444444444444444,\"#bd3786\"],[0.5555555555555556,\"#d8576b\"],[0.6666666666666666,\"#ed7953\"],[0.7777777777777778,\"#fb9f3a\"],[0.8888888888888888,\"#fdca26\"],[1.0,\"#f0f921\"]]}],\"mesh3d\":[{\"type\":\"mesh3d\",\"colorbar\":{\"outlinewidth\":0,\"ticks\":\"\"}}],\"scatter\":[{\"fillpattern\":{\"fillmode\":\"overlay\",\"size\":10,\"solidity\":0.2},\"type\":\"scatter\"}],\"parcoords\":[{\"type\":\"parcoords\",\"line\":{\"colorbar\":{\"outlinewidth\":0,\"ticks\":\"\"}}}],\"scatterpolargl\":[{\"type\":\"scatterpolargl\",\"marker\":{\"colorbar\":{\"outlinewidth\":0,\"ticks\":\"\"}}}],\"bar\":[{\"error_x\":{\"color\":\"#2a3f5f\"},\"error_y\":{\"color\":\"#2a3f5f\"},\"marker\":{\"line\":{\"color\":\"#E5ECF6\",\"width\":0.5},\"pattern\":{\"fillmode\":\"overlay\",\"size\":10,\"solidity\":0.2}},\"type\":\"bar\"}],\"scattergeo\":[{\"type\":\"scattergeo\",\"marker\":{\"colorbar\":{\"outlinewidth\":0,\"ticks\":\"\"}}}],\"scatterpolar\":[{\"type\":\"scatterpolar\",\"marker\":{\"colorbar\":{\"outlinewidth\":0,\"ticks\":\"\"}}}],\"histogram\":[{\"marker\":{\"pattern\":{\"fillmode\":\"overlay\",\"size\":10,\"solidity\":0.2}},\"type\":\"histogram\"}],\"scattergl\":[{\"type\":\"scattergl\",\"marker\":{\"colorbar\":{\"outlinewidth\":0,\"ticks\":\"\"}}}],\"scatter3d\":[{\"type\":\"scatter3d\",\"line\":{\"colorbar\":{\"outlinewidth\":0,\"ticks\":\"\"}},\"marker\":{\"colorbar\":{\"outlinewidth\":0,\"ticks\":\"\"}}}],\"scattermapbox\":[{\"type\":\"scattermapbox\",\"marker\":{\"colorbar\":{\"outlinewidth\":0,\"ticks\":\"\"}}}],\"scatterternary\":[{\"type\":\"scatterternary\",\"marker\":{\"colorbar\":{\"outlinewidth\":0,\"ticks\":\"\"}}}],\"scattercarpet\":[{\"type\":\"scattercarpet\",\"marker\":{\"colorbar\":{\"outlinewidth\":0,\"ticks\":\"\"}}}],\"carpet\":[{\"aaxis\":{\"endlinecolor\":\"#2a3f5f\",\"gridcolor\":\"white\",\"linecolor\":\"white\",\"minorgridcolor\":\"white\",\"startlinecolor\":\"#2a3f5f\"},\"baxis\":{\"endlinecolor\":\"#2a3f5f\",\"gridcolor\":\"white\",\"linecolor\":\"white\",\"minorgridcolor\":\"white\",\"startlinecolor\":\"#2a3f5f\"},\"type\":\"carpet\"}],\"table\":[{\"cells\":{\"fill\":{\"color\":\"#EBF0F8\"},\"line\":{\"color\":\"white\"}},\"header\":{\"fill\":{\"color\":\"#C8D4E3\"},\"line\":{\"color\":\"white\"}},\"type\":\"table\"}],\"barpolar\":[{\"marker\":{\"line\":{\"color\":\"#E5ECF6\",\"width\":0.5},\"pattern\":{\"fillmode\":\"overlay\",\"size\":10,\"solidity\":0.2}},\"type\":\"barpolar\"}],\"pie\":[{\"automargin\":true,\"type\":\"pie\"}]},\"layout\":{\"autotypenumbers\":\"strict\",\"colorway\":[\"#636efa\",\"#EF553B\",\"#00cc96\",\"#ab63fa\",\"#FFA15A\",\"#19d3f3\",\"#FF6692\",\"#B6E880\",\"#FF97FF\",\"#FECB52\"],\"font\":{\"color\":\"#2a3f5f\"},\"hovermode\":\"closest\",\"hoverlabel\":{\"align\":\"left\"},\"paper_bgcolor\":\"white\",\"plot_bgcolor\":\"#E5ECF6\",\"polar\":{\"bgcolor\":\"#E5ECF6\",\"angularaxis\":{\"gridcolor\":\"white\",\"linecolor\":\"white\",\"ticks\":\"\"},\"radialaxis\":{\"gridcolor\":\"white\",\"linecolor\":\"white\",\"ticks\":\"\"}},\"ternary\":{\"bgcolor\":\"#E5ECF6\",\"aaxis\":{\"gridcolor\":\"white\",\"linecolor\":\"white\",\"ticks\":\"\"},\"baxis\":{\"gridcolor\":\"white\",\"linecolor\":\"white\",\"ticks\":\"\"},\"caxis\":{\"gridcolor\":\"white\",\"linecolor\":\"white\",\"ticks\":\"\"}},\"coloraxis\":{\"colorbar\":{\"outlinewidth\":0,\"ticks\":\"\"}},\"colorscale\":{\"sequential\":[[0.0,\"#0d0887\"],[0.1111111111111111,\"#46039f\"],[0.2222222222222222,\"#7201a8\"],[0.3333333333333333,\"#9c179e\"],[0.4444444444444444,\"#bd3786\"],[0.5555555555555556,\"#d8576b\"],[0.6666666666666666,\"#ed7953\"],[0.7777777777777778,\"#fb9f3a\"],[0.8888888888888888,\"#fdca26\"],[1.0,\"#f0f921\"]],\"sequentialminus\":[[0.0,\"#0d0887\"],[0.1111111111111111,\"#46039f\"],[0.2222222222222222,\"#7201a8\"],[0.3333333333333333,\"#9c179e\"],[0.4444444444444444,\"#bd3786\"],[0.5555555555555556,\"#d8576b\"],[0.6666666666666666,\"#ed7953\"],[0.7777777777777778,\"#fb9f3a\"],[0.8888888888888888,\"#fdca26\"],[1.0,\"#f0f921\"]],\"diverging\":[[0,\"#8e0152\"],[0.1,\"#c51b7d\"],[0.2,\"#de77ae\"],[0.3,\"#f1b6da\"],[0.4,\"#fde0ef\"],[0.5,\"#f7f7f7\"],[0.6,\"#e6f5d0\"],[0.7,\"#b8e186\"],[0.8,\"#7fbc41\"],[0.9,\"#4d9221\"],[1,\"#276419\"]]},\"xaxis\":{\"gridcolor\":\"white\",\"linecolor\":\"white\",\"ticks\":\"\",\"title\":{\"standoff\":15},\"zerolinecolor\":\"white\",\"automargin\":true,\"zerolinewidth\":2},\"yaxis\":{\"gridcolor\":\"white\",\"linecolor\":\"white\",\"ticks\":\"\",\"title\":{\"standoff\":15},\"zerolinecolor\":\"white\",\"automargin\":true,\"zerolinewidth\":2},\"scene\":{\"xaxis\":{\"backgroundcolor\":\"#E5ECF6\",\"gridcolor\":\"white\",\"linecolor\":\"white\",\"showbackground\":true,\"ticks\":\"\",\"zerolinecolor\":\"white\",\"gridwidth\":2},\"yaxis\":{\"backgroundcolor\":\"#E5ECF6\",\"gridcolor\":\"white\",\"linecolor\":\"white\",\"showbackground\":true,\"ticks\":\"\",\"zerolinecolor\":\"white\",\"gridwidth\":2},\"zaxis\":{\"backgroundcolor\":\"#E5ECF6\",\"gridcolor\":\"white\",\"linecolor\":\"white\",\"showbackground\":true,\"ticks\":\"\",\"zerolinecolor\":\"white\",\"gridwidth\":2}},\"shapedefaults\":{\"line\":{\"color\":\"#2a3f5f\"}},\"annotationdefaults\":{\"arrowcolor\":\"#2a3f5f\",\"arrowhead\":0,\"arrowwidth\":1},\"geo\":{\"bgcolor\":\"white\",\"landcolor\":\"#E5ECF6\",\"subunitcolor\":\"white\",\"showland\":true,\"showlakes\":true,\"lakecolor\":\"white\"},\"title\":{\"x\":0.05},\"mapbox\":{\"style\":\"light\"}}},\"xaxis\":{\"anchor\":\"y\",\"domain\":[0.0,1.0],\"title\":{\"text\":\"PC1 26.9%\"}},\"yaxis\":{\"anchor\":\"x\",\"domain\":[0.0,1.0],\"title\":{\"text\":\"PC2 24.8%\"}},\"legend\":{\"title\":{\"text\":\"color\"},\"tracegroupgap\":0},\"margin\":{\"t\":60}},                        {\"responsive\": true}                    ).then(function(){\n",
       "                            \n",
       "var gd = document.getElementById('aa1da378-569c-4b60-8971-8907e02b1cb0');\n",
       "var x = new MutationObserver(function (mutations, observer) {{\n",
       "        var display = window.getComputedStyle(gd).display;\n",
       "        if (!display || display === 'none') {{\n",
       "            console.log([gd, 'removed!']);\n",
       "            Plotly.purge(gd);\n",
       "            observer.disconnect();\n",
       "        }}\n",
       "}});\n",
       "\n",
       "// Listen for the removal of the full notebook cells\n",
       "var notebookContainer = gd.closest('#notebook-container');\n",
       "if (notebookContainer) {{\n",
       "    x.observe(notebookContainer, {childList: true});\n",
       "}}\n",
       "\n",
       "// Listen for the clearing of the current output cell\n",
       "var outputEl = gd.closest('.output');\n",
       "if (outputEl) {{\n",
       "    x.observe(outputEl, {childList: true});\n",
       "}}\n",
       "\n",
       "                        })                };                });            </script>        </div>"
      ]
     },
     "metadata": {},
     "output_type": "display_data"
    }
   ],
   "source": [
    "X = df[nutrients]\n",
    "\n",
    "pca = PCA(n_components=2)\n",
    "components = pca.fit_transform(X)\n",
    "\n",
    "fig = px.scatter(components, x=0, y=1, color=df['site_id'])\n",
    "fig.update_layout(\n",
    "    xaxis_title=\"PC1 \" + str(round(100*pca.explained_variance_ratio_[0], 1)) + '%',\n",
    "    yaxis_title=\"PC2 \" + str(round(100*pca.explained_variance_ratio_[1], 1)) + '%')\n",
    "fig.show()"
   ]
  },
  {
   "cell_type": "markdown",
   "id": "3a4e1fed",
   "metadata": {},
   "source": [
    "## PCA by Broad Geographic Location"
   ]
  },
  {
   "cell_type": "code",
   "execution_count": 117,
   "id": "b1eb57c8",
   "metadata": {},
   "outputs": [
    {
     "data": {
      "text/plain": [
       "(160, 27)"
      ]
     },
     "execution_count": 117,
     "metadata": {},
     "output_type": "execute_result"
    }
   ],
   "source": [
    "df.shape"
   ]
  },
  {
   "cell_type": "code",
   "execution_count": 118,
   "id": "c0c141d2",
   "metadata": {},
   "outputs": [
    {
     "data": {
      "text/plain": [
       "array(['RRL', 'FRW', 'MMP', 'PNR', 'CMB', 'SLG', 'RF', 'LFS', 'HR', 'PTW',\n",
       "       'LM', 'MKP', 'RGT'], dtype=object)"
      ]
     },
     "execution_count": 118,
     "metadata": {},
     "output_type": "execute_result"
    }
   ],
   "source": [
    "df['site_id'].unique()"
   ]
  },
  {
   "cell_type": "code",
   "execution_count": 119,
   "id": "70f84124",
   "metadata": {},
   "outputs": [],
   "source": [
    "subdf = df\n",
    "subdf['site_id'].replace({'CMB': 1, 'FRW': 1, 'LFS': 1, 'LM': 0, 'MMP': 1, 'MKP': 2,\n",
    "                    'PNR': 2, 'PTW': 0, 'RF': 2, 'RGT': 0, 'RRL': 0, 'SGC': 0, 'SLG': 1,'HR': 3}, inplace=True) #\n",
    "subdf = subdf[subdf[\"site_id\"].isin([0,1,2,3])]"
   ]
  },
  {
   "cell_type": "code",
   "execution_count": 120,
   "id": "e30df4af",
   "metadata": {},
   "outputs": [
    {
     "data": {
      "text/plain": [
       "array([0, 1, 2, 3], dtype=int64)"
      ]
     },
     "execution_count": 120,
     "metadata": {},
     "output_type": "execute_result"
    }
   ],
   "source": [
    "subdf['site_id'].unique()"
   ]
  },
  {
   "cell_type": "code",
   "execution_count": 121,
   "id": "fb935102",
   "metadata": {},
   "outputs": [],
   "source": [
    "subdf['site_id'] = subdf['site_id'].replace([0], 'Wintergreen')\n",
    "subdf['site_id'] = subdf['site_id'].replace([1], 'Cole Mountain')\n",
    "subdf['site_id'] = subdf['site_id'].replace([2], 'Blacksburg')\n",
    "subdf['site_id'] = subdf['site_id'].replace([3], 'HR')"
   ]
  },
  {
   "cell_type": "code",
   "execution_count": 122,
   "id": "504a1c59",
   "metadata": {},
   "outputs": [
    {
     "data": {
      "text/plain": [
       "array(['Wintergreen', 'Cole Mountain', 'Blacksburg', 'HR'], dtype=object)"
      ]
     },
     "execution_count": 122,
     "metadata": {},
     "output_type": "execute_result"
    }
   ],
   "source": [
    "subdf['site_id'].unique()"
   ]
  },
  {
   "cell_type": "code",
   "execution_count": 123,
   "id": "bc2de673",
   "metadata": {},
   "outputs": [
    {
     "data": {
      "application/vnd.plotly.v1+json": {
       "config": {
        "plotlyServerURL": "https://plot.ly"
       },
       "data": [
        {
         "hovertemplate": "color=Wintergreen<br>0=%{x}<br>1=%{y}<extra></extra>",
         "legendgroup": "Wintergreen",
         "marker": {
          "color": "#636efa",
          "symbol": "circle"
         },
         "mode": "markers",
         "name": "Wintergreen",
         "orientation": "v",
         "showlegend": true,
         "type": "scatter",
         "x": [
          0.38904146068087636,
          -2.039807182737004,
          -1.258526493746799,
          -0.3279518716742438,
          -2.218003819710688,
          -0.6138829812444746,
          -1.1504457634658956,
          -1.2893562044865885,
          -0.7645318610995938,
          -1.5622038711379045,
          -0.7556908443446544,
          -2.752422862644242,
          -0.8385767057950055,
          -1.2245918480513065,
          -2.0212638169553925,
          -1.6015557404274374,
          -1.090470317498827,
          -0.9735068963571627,
          -1.7689659860621132,
          -2.5808187715663125,
          -2.0391253098670568,
          1.5910825534455524,
          1.3895875105531341,
          3.034222266286158,
          -2.0095837922531556,
          -0.30378966996397516,
          2.5170281182612477,
          -0.4341974436655598,
          2.1809669825244424,
          -1.3915281068473266,
          -2.3648399736242594,
          1.1766936934649832,
          1.8170542094134643,
          2.509957380322922,
          -1.5290054099472192,
          2.2614269493496177,
          1.7857557143964602,
          -0.8223259909003229,
          1.246353281506225,
          -2.745385838499199,
          0.8832152888848733,
          1.4422852023786494,
          0.07192403531771575,
          -0.2943906959141047,
          4.672715351803754,
          -0.9015263421426237,
          0.521699341520324,
          0.7352536798018207,
          3.8614261235477945,
          -1.193063635296111,
          0.9038655964873403,
          -0.5870066513327106
         ],
         "xaxis": "x",
         "y": [
          -3.01661334722135,
          -2.4187312722830008,
          -2.376065472038258,
          -2.443979542538047,
          -2.6202336719454116,
          -2.5166226563377325,
          -1.9584480449727926,
          -1.9169500194304518,
          -2.895504317950769,
          -1.373968887779038,
          -2.036050514403146,
          -2.080349262082771,
          -1.5173690759716043,
          -2.3032777554862967,
          -2.902683543121988,
          -2.688319752907863,
          -2.3448820716166754,
          -2.6674752310786682,
          -2.226421369456524,
          -1.390733223943229,
          -1.6305962560869307,
          0.3784613655312265,
          0.23064515117283,
          -0.5134916382193838,
          -1.8904187769844998,
          -1.0037733317949802,
          0.4707350308066806,
          -0.6159264352038791,
          -0.856478663278172,
          -1.9992843811947518,
          -0.5977991652271173,
          -0.1417147433592517,
          1.476528098439674,
          -0.6941338402119882,
          -1.9713026295103042,
          0.17402025265391496,
          1.2067035002229487,
          -1.9672546536202489,
          -0.7405274219907232,
          -1.4301217361683336,
          -0.45934391783058737,
          -0.7282286240092095,
          -0.38984996296489616,
          -0.30114149051355493,
          -0.4514336737941995,
          -1.2255826629380593,
          -0.46958220737415063,
          0.3272057835382708,
          -0.38263583199559004,
          -1.028415865488044,
          0.39766618256978137,
          -0.735198035194739
         ],
         "yaxis": "y"
        },
        {
         "hovertemplate": "color=Cole Mountain<br>0=%{x}<br>1=%{y}<extra></extra>",
         "legendgroup": "Cole Mountain",
         "marker": {
          "color": "#EF553B",
          "symbol": "circle"
         },
         "mode": "markers",
         "name": "Cole Mountain",
         "orientation": "v",
         "showlegend": true,
         "type": "scatter",
         "x": [
          1.7744499136344727,
          1.4155477202220619,
          0.02064849327269901,
          -0.936305263410869,
          -2.6871597614312743,
          -1.9637239177758632,
          -2.785128670209554,
          1.9969956251869188,
          2.0441053303132635,
          2.495693057752424,
          0.832559961334585,
          -0.6952415447134807,
          -1.3011497367655305,
          -2.9462633293830023,
          -2.041208706045965,
          -2.2330333246301395,
          2.5991805665424264,
          -1.9712275511489263,
          -0.12704721184890375,
          0.33930231851353376,
          -2.108571582999993,
          -1.0379113734280252,
          -2.0712694993736034,
          -0.09527727416183747,
          1.4873010096592465,
          -0.008228403663284029,
          -0.8685022763236069,
          -2.374752682723077,
          -0.7618112274777232,
          -1.212492330544661,
          -2.2945362720580182,
          -2.2901237719928744,
          3.410390561413674,
          2.9916619241812885,
          -1.312986648773651,
          -2.2535899413806177,
          0.6800872874668574,
          -1.137084377376017,
          -1.5880602717413503,
          -0.1220154533694414,
          -2.7024495997599063,
          0.4396529842593842,
          1.0077166486178875,
          -0.23369505089335174,
          -1.4121058085452907,
          -3.034185772283657,
          -0.4035639302676373,
          -1.0936181553037225,
          -2.5357825520776203,
          3.0710754274245664,
          1.2461665147580772,
          1.290591479286529,
          -0.9918318516992339,
          0.3547279050186699,
          -2.9442480531461173,
          -0.8486986480077012,
          -1.8284004535593081,
          -2.0143899069700124,
          2.748352142734547,
          1.3165837934815536,
          2.1862548360577674,
          -1.3866485907390025,
          1.7607003980159484,
          -1.7629144439535205,
          -2.599598785801312,
          -1.4721386765261062,
          -1.4439766944285644,
          1.9725822276172658,
          -0.16818209733895562,
          2.5021834615025904,
          0.4465906691686195,
          0.6749555876871168,
          3.2765908630185354,
          0.27266950555620323,
          0.7538840318664548,
          3.0476170182399493,
          2.3188434863673892,
          1.4694960506838162,
          0.7326635748176376,
          0.0032468834367250757,
          -3.9736875811872325,
          0.7585881255400654
         ],
         "xaxis": "x",
         "y": [
          -1.5233926466258823,
          -1.873636877035977,
          2.229683059667102,
          3.6912840454691236,
          1.5712817991147507,
          2.653094028546475,
          -1.3065619200688805,
          -1.12347441232894,
          -1.6157663485234888,
          -1.7768803628448346,
          1.9653172291213488,
          1.7225244812729539,
          2.7846231773011003,
          1.6446800142349631,
          1.4314265757774545,
          -0.857865297127187,
          -1.6097689563908193,
          1.6816818459627587,
          1.688869898394083,
          2.920578400659973,
          0.8586406733602017,
          2.3500367118965615,
          -0.45881405123766733,
          -2.0320100592563177,
          -1.2695373166289654,
          1.3943468137865433,
          1.096217658047479,
          1.4879982261961984,
          1.4438144897492973,
          1.2584710674340522,
          2.042152883580458,
          -0.5494873262054703,
          -0.9165797015177837,
          -1.8944643884962535,
          1.9007809577940498,
          1.0633827653508123,
          1.8819929770722899,
          2.0980594730352937,
          1.3489292636519614,
          1.7770360676497083,
          -0.8341074243779002,
          -1.4465325560663223,
          -1.8052353032719102,
          2.1845361167116044,
          1.174102452702242,
          2.1053646203629013,
          1.533780758182054,
          1.4385523039774393,
          -1.0753873699302725,
          -2.408058300184845,
          -1.7965982091812147,
          -2.3226617483852734,
          1.4142557075925564,
          1.6178648425835633,
          1.9865385393482422,
          1.2931803761804879,
          1.2107277115218513,
          -1.0991908228229843,
          -1.346197790620188,
          -2.2127724591882045,
          -2.1283836999221966,
          1.188174175442277,
          3.4603821021430186,
          1.5537957340280075,
          0.6400103557851108,
          -0.7168056191966348,
          3.3724592916981613,
          4.917360000538279,
          3.36867579111138,
          4.014969719039666,
          3.211523087068743,
          3.475666212621081,
          4.854742538269508,
          -1.5820343930359069,
          3.743482431105615,
          4.021390885411555,
          -0.8539747338138454,
          3.985862170186353,
          5.006181454040857,
          4.4839360839949425,
          -2.0597814114894204,
          3.6937486916641378
         ],
         "yaxis": "y"
        },
        {
         "hovertemplate": "color=Blacksburg<br>0=%{x}<br>1=%{y}<extra></extra>",
         "legendgroup": "Blacksburg",
         "marker": {
          "color": "#00cc96",
          "symbol": "circle"
         },
         "mode": "markers",
         "name": "Blacksburg",
         "orientation": "v",
         "showlegend": true,
         "type": "scatter",
         "x": [
          2.59753396348883,
          0.7055457861303325,
          3.4351134771531076,
          -2.8785097068087953,
          6.037113362169879,
          -1.133586043587872,
          3.1153570215589412,
          4.864559640334466,
          3.7597656366743024,
          -1.0478862946505638,
          4.466669594365925,
          -1.947001489178237,
          -0.4109039499386248,
          3.8842195325271023,
          0.15876072103706199,
          -0.8895441305597495,
          4.503056499798597,
          0.2919657437508577,
          -1.1476019976190008,
          4.034341402723632,
          0.6099386671640565,
          -1.241982399507667
         ],
         "xaxis": "x",
         "y": [
          -1.8208715107142066,
          -1.8769556590707566,
          -1.5552698494666204,
          -0.8278804527868392,
          -0.8167185089889306,
          -0.5071555451168834,
          -0.14767510236725198,
          0.9434698371214106,
          -1.459323237793611,
          0.5418214140696623,
          -1.125072364915392,
          -1.262515838811231,
          -0.548276589770159,
          -1.6723009026756892,
          0.11966903203124078,
          0.6325442262911642,
          -1.0662386797440098,
          -0.9120543605684889,
          0.7384601744102907,
          -1.6214156376521023,
          0.23084389342480213,
          -0.11070412642897927
         ],
         "yaxis": "y"
        },
        {
         "hovertemplate": "color=HR<br>0=%{x}<br>1=%{y}<extra></extra>",
         "legendgroup": "HR",
         "marker": {
          "color": "#ab63fa",
          "symbol": "circle"
         },
         "mode": "markers",
         "name": "HR",
         "orientation": "v",
         "showlegend": true,
         "type": "scatter",
         "x": [
          -1.036448129313127,
          -0.46823700330425094,
          -0.76615066934547,
          -2.704139603163041
         ],
         "xaxis": "x",
         "y": [
          -0.9072437833191284,
          -0.3633689350272374,
          -1.223207985684048,
          -0.5678171255261601
         ],
         "yaxis": "y"
        }
       ],
       "layout": {
        "legend": {
         "title": {
          "text": "color"
         },
         "tracegroupgap": 0
        },
        "margin": {
         "t": 60
        },
        "template": {
         "data": {
          "bar": [
           {
            "error_x": {
             "color": "#2a3f5f"
            },
            "error_y": {
             "color": "#2a3f5f"
            },
            "marker": {
             "line": {
              "color": "#E5ECF6",
              "width": 0.5
             },
             "pattern": {
              "fillmode": "overlay",
              "size": 10,
              "solidity": 0.2
             }
            },
            "type": "bar"
           }
          ],
          "barpolar": [
           {
            "marker": {
             "line": {
              "color": "#E5ECF6",
              "width": 0.5
             },
             "pattern": {
              "fillmode": "overlay",
              "size": 10,
              "solidity": 0.2
             }
            },
            "type": "barpolar"
           }
          ],
          "carpet": [
           {
            "aaxis": {
             "endlinecolor": "#2a3f5f",
             "gridcolor": "white",
             "linecolor": "white",
             "minorgridcolor": "white",
             "startlinecolor": "#2a3f5f"
            },
            "baxis": {
             "endlinecolor": "#2a3f5f",
             "gridcolor": "white",
             "linecolor": "white",
             "minorgridcolor": "white",
             "startlinecolor": "#2a3f5f"
            },
            "type": "carpet"
           }
          ],
          "choropleth": [
           {
            "colorbar": {
             "outlinewidth": 0,
             "ticks": ""
            },
            "type": "choropleth"
           }
          ],
          "contour": [
           {
            "colorbar": {
             "outlinewidth": 0,
             "ticks": ""
            },
            "colorscale": [
             [
              0,
              "#0d0887"
             ],
             [
              0.1111111111111111,
              "#46039f"
             ],
             [
              0.2222222222222222,
              "#7201a8"
             ],
             [
              0.3333333333333333,
              "#9c179e"
             ],
             [
              0.4444444444444444,
              "#bd3786"
             ],
             [
              0.5555555555555556,
              "#d8576b"
             ],
             [
              0.6666666666666666,
              "#ed7953"
             ],
             [
              0.7777777777777778,
              "#fb9f3a"
             ],
             [
              0.8888888888888888,
              "#fdca26"
             ],
             [
              1,
              "#f0f921"
             ]
            ],
            "type": "contour"
           }
          ],
          "contourcarpet": [
           {
            "colorbar": {
             "outlinewidth": 0,
             "ticks": ""
            },
            "type": "contourcarpet"
           }
          ],
          "heatmap": [
           {
            "colorbar": {
             "outlinewidth": 0,
             "ticks": ""
            },
            "colorscale": [
             [
              0,
              "#0d0887"
             ],
             [
              0.1111111111111111,
              "#46039f"
             ],
             [
              0.2222222222222222,
              "#7201a8"
             ],
             [
              0.3333333333333333,
              "#9c179e"
             ],
             [
              0.4444444444444444,
              "#bd3786"
             ],
             [
              0.5555555555555556,
              "#d8576b"
             ],
             [
              0.6666666666666666,
              "#ed7953"
             ],
             [
              0.7777777777777778,
              "#fb9f3a"
             ],
             [
              0.8888888888888888,
              "#fdca26"
             ],
             [
              1,
              "#f0f921"
             ]
            ],
            "type": "heatmap"
           }
          ],
          "heatmapgl": [
           {
            "colorbar": {
             "outlinewidth": 0,
             "ticks": ""
            },
            "colorscale": [
             [
              0,
              "#0d0887"
             ],
             [
              0.1111111111111111,
              "#46039f"
             ],
             [
              0.2222222222222222,
              "#7201a8"
             ],
             [
              0.3333333333333333,
              "#9c179e"
             ],
             [
              0.4444444444444444,
              "#bd3786"
             ],
             [
              0.5555555555555556,
              "#d8576b"
             ],
             [
              0.6666666666666666,
              "#ed7953"
             ],
             [
              0.7777777777777778,
              "#fb9f3a"
             ],
             [
              0.8888888888888888,
              "#fdca26"
             ],
             [
              1,
              "#f0f921"
             ]
            ],
            "type": "heatmapgl"
           }
          ],
          "histogram": [
           {
            "marker": {
             "pattern": {
              "fillmode": "overlay",
              "size": 10,
              "solidity": 0.2
             }
            },
            "type": "histogram"
           }
          ],
          "histogram2d": [
           {
            "colorbar": {
             "outlinewidth": 0,
             "ticks": ""
            },
            "colorscale": [
             [
              0,
              "#0d0887"
             ],
             [
              0.1111111111111111,
              "#46039f"
             ],
             [
              0.2222222222222222,
              "#7201a8"
             ],
             [
              0.3333333333333333,
              "#9c179e"
             ],
             [
              0.4444444444444444,
              "#bd3786"
             ],
             [
              0.5555555555555556,
              "#d8576b"
             ],
             [
              0.6666666666666666,
              "#ed7953"
             ],
             [
              0.7777777777777778,
              "#fb9f3a"
             ],
             [
              0.8888888888888888,
              "#fdca26"
             ],
             [
              1,
              "#f0f921"
             ]
            ],
            "type": "histogram2d"
           }
          ],
          "histogram2dcontour": [
           {
            "colorbar": {
             "outlinewidth": 0,
             "ticks": ""
            },
            "colorscale": [
             [
              0,
              "#0d0887"
             ],
             [
              0.1111111111111111,
              "#46039f"
             ],
             [
              0.2222222222222222,
              "#7201a8"
             ],
             [
              0.3333333333333333,
              "#9c179e"
             ],
             [
              0.4444444444444444,
              "#bd3786"
             ],
             [
              0.5555555555555556,
              "#d8576b"
             ],
             [
              0.6666666666666666,
              "#ed7953"
             ],
             [
              0.7777777777777778,
              "#fb9f3a"
             ],
             [
              0.8888888888888888,
              "#fdca26"
             ],
             [
              1,
              "#f0f921"
             ]
            ],
            "type": "histogram2dcontour"
           }
          ],
          "mesh3d": [
           {
            "colorbar": {
             "outlinewidth": 0,
             "ticks": ""
            },
            "type": "mesh3d"
           }
          ],
          "parcoords": [
           {
            "line": {
             "colorbar": {
              "outlinewidth": 0,
              "ticks": ""
             }
            },
            "type": "parcoords"
           }
          ],
          "pie": [
           {
            "automargin": true,
            "type": "pie"
           }
          ],
          "scatter": [
           {
            "fillpattern": {
             "fillmode": "overlay",
             "size": 10,
             "solidity": 0.2
            },
            "type": "scatter"
           }
          ],
          "scatter3d": [
           {
            "line": {
             "colorbar": {
              "outlinewidth": 0,
              "ticks": ""
             }
            },
            "marker": {
             "colorbar": {
              "outlinewidth": 0,
              "ticks": ""
             }
            },
            "type": "scatter3d"
           }
          ],
          "scattercarpet": [
           {
            "marker": {
             "colorbar": {
              "outlinewidth": 0,
              "ticks": ""
             }
            },
            "type": "scattercarpet"
           }
          ],
          "scattergeo": [
           {
            "marker": {
             "colorbar": {
              "outlinewidth": 0,
              "ticks": ""
             }
            },
            "type": "scattergeo"
           }
          ],
          "scattergl": [
           {
            "marker": {
             "colorbar": {
              "outlinewidth": 0,
              "ticks": ""
             }
            },
            "type": "scattergl"
           }
          ],
          "scattermapbox": [
           {
            "marker": {
             "colorbar": {
              "outlinewidth": 0,
              "ticks": ""
             }
            },
            "type": "scattermapbox"
           }
          ],
          "scatterpolar": [
           {
            "marker": {
             "colorbar": {
              "outlinewidth": 0,
              "ticks": ""
             }
            },
            "type": "scatterpolar"
           }
          ],
          "scatterpolargl": [
           {
            "marker": {
             "colorbar": {
              "outlinewidth": 0,
              "ticks": ""
             }
            },
            "type": "scatterpolargl"
           }
          ],
          "scatterternary": [
           {
            "marker": {
             "colorbar": {
              "outlinewidth": 0,
              "ticks": ""
             }
            },
            "type": "scatterternary"
           }
          ],
          "surface": [
           {
            "colorbar": {
             "outlinewidth": 0,
             "ticks": ""
            },
            "colorscale": [
             [
              0,
              "#0d0887"
             ],
             [
              0.1111111111111111,
              "#46039f"
             ],
             [
              0.2222222222222222,
              "#7201a8"
             ],
             [
              0.3333333333333333,
              "#9c179e"
             ],
             [
              0.4444444444444444,
              "#bd3786"
             ],
             [
              0.5555555555555556,
              "#d8576b"
             ],
             [
              0.6666666666666666,
              "#ed7953"
             ],
             [
              0.7777777777777778,
              "#fb9f3a"
             ],
             [
              0.8888888888888888,
              "#fdca26"
             ],
             [
              1,
              "#f0f921"
             ]
            ],
            "type": "surface"
           }
          ],
          "table": [
           {
            "cells": {
             "fill": {
              "color": "#EBF0F8"
             },
             "line": {
              "color": "white"
             }
            },
            "header": {
             "fill": {
              "color": "#C8D4E3"
             },
             "line": {
              "color": "white"
             }
            },
            "type": "table"
           }
          ]
         },
         "layout": {
          "annotationdefaults": {
           "arrowcolor": "#2a3f5f",
           "arrowhead": 0,
           "arrowwidth": 1
          },
          "autotypenumbers": "strict",
          "coloraxis": {
           "colorbar": {
            "outlinewidth": 0,
            "ticks": ""
           }
          },
          "colorscale": {
           "diverging": [
            [
             0,
             "#8e0152"
            ],
            [
             0.1,
             "#c51b7d"
            ],
            [
             0.2,
             "#de77ae"
            ],
            [
             0.3,
             "#f1b6da"
            ],
            [
             0.4,
             "#fde0ef"
            ],
            [
             0.5,
             "#f7f7f7"
            ],
            [
             0.6,
             "#e6f5d0"
            ],
            [
             0.7,
             "#b8e186"
            ],
            [
             0.8,
             "#7fbc41"
            ],
            [
             0.9,
             "#4d9221"
            ],
            [
             1,
             "#276419"
            ]
           ],
           "sequential": [
            [
             0,
             "#0d0887"
            ],
            [
             0.1111111111111111,
             "#46039f"
            ],
            [
             0.2222222222222222,
             "#7201a8"
            ],
            [
             0.3333333333333333,
             "#9c179e"
            ],
            [
             0.4444444444444444,
             "#bd3786"
            ],
            [
             0.5555555555555556,
             "#d8576b"
            ],
            [
             0.6666666666666666,
             "#ed7953"
            ],
            [
             0.7777777777777778,
             "#fb9f3a"
            ],
            [
             0.8888888888888888,
             "#fdca26"
            ],
            [
             1,
             "#f0f921"
            ]
           ],
           "sequentialminus": [
            [
             0,
             "#0d0887"
            ],
            [
             0.1111111111111111,
             "#46039f"
            ],
            [
             0.2222222222222222,
             "#7201a8"
            ],
            [
             0.3333333333333333,
             "#9c179e"
            ],
            [
             0.4444444444444444,
             "#bd3786"
            ],
            [
             0.5555555555555556,
             "#d8576b"
            ],
            [
             0.6666666666666666,
             "#ed7953"
            ],
            [
             0.7777777777777778,
             "#fb9f3a"
            ],
            [
             0.8888888888888888,
             "#fdca26"
            ],
            [
             1,
             "#f0f921"
            ]
           ]
          },
          "colorway": [
           "#636efa",
           "#EF553B",
           "#00cc96",
           "#ab63fa",
           "#FFA15A",
           "#19d3f3",
           "#FF6692",
           "#B6E880",
           "#FF97FF",
           "#FECB52"
          ],
          "font": {
           "color": "#2a3f5f"
          },
          "geo": {
           "bgcolor": "white",
           "lakecolor": "white",
           "landcolor": "#E5ECF6",
           "showlakes": true,
           "showland": true,
           "subunitcolor": "white"
          },
          "hoverlabel": {
           "align": "left"
          },
          "hovermode": "closest",
          "mapbox": {
           "style": "light"
          },
          "paper_bgcolor": "white",
          "plot_bgcolor": "#E5ECF6",
          "polar": {
           "angularaxis": {
            "gridcolor": "white",
            "linecolor": "white",
            "ticks": ""
           },
           "bgcolor": "#E5ECF6",
           "radialaxis": {
            "gridcolor": "white",
            "linecolor": "white",
            "ticks": ""
           }
          },
          "scene": {
           "xaxis": {
            "backgroundcolor": "#E5ECF6",
            "gridcolor": "white",
            "gridwidth": 2,
            "linecolor": "white",
            "showbackground": true,
            "ticks": "",
            "zerolinecolor": "white"
           },
           "yaxis": {
            "backgroundcolor": "#E5ECF6",
            "gridcolor": "white",
            "gridwidth": 2,
            "linecolor": "white",
            "showbackground": true,
            "ticks": "",
            "zerolinecolor": "white"
           },
           "zaxis": {
            "backgroundcolor": "#E5ECF6",
            "gridcolor": "white",
            "gridwidth": 2,
            "linecolor": "white",
            "showbackground": true,
            "ticks": "",
            "zerolinecolor": "white"
           }
          },
          "shapedefaults": {
           "line": {
            "color": "#2a3f5f"
           }
          },
          "ternary": {
           "aaxis": {
            "gridcolor": "white",
            "linecolor": "white",
            "ticks": ""
           },
           "baxis": {
            "gridcolor": "white",
            "linecolor": "white",
            "ticks": ""
           },
           "bgcolor": "#E5ECF6",
           "caxis": {
            "gridcolor": "white",
            "linecolor": "white",
            "ticks": ""
           }
          },
          "title": {
           "x": 0.05
          },
          "xaxis": {
           "automargin": true,
           "gridcolor": "white",
           "linecolor": "white",
           "ticks": "",
           "title": {
            "standoff": 15
           },
           "zerolinecolor": "white",
           "zerolinewidth": 2
          },
          "yaxis": {
           "automargin": true,
           "gridcolor": "white",
           "linecolor": "white",
           "ticks": "",
           "title": {
            "standoff": 15
           },
           "zerolinecolor": "white",
           "zerolinewidth": 2
          }
         }
        },
        "xaxis": {
         "anchor": "y",
         "domain": [
          0,
          1
         ],
         "title": {
          "text": "PC1 26.9%"
         }
        },
        "yaxis": {
         "anchor": "x",
         "domain": [
          0,
          1
         ],
         "title": {
          "text": "PC2 24.8%"
         }
        }
       }
      },
      "text/html": [
       "<div>                            <div id=\"6c263332-0c8d-4b97-bc54-1efa4c6e3c03\" class=\"plotly-graph-div\" style=\"height:525px; width:100%;\"></div>            <script type=\"text/javascript\">                require([\"plotly\"], function(Plotly) {                    window.PLOTLYENV=window.PLOTLYENV || {};                                    if (document.getElementById(\"6c263332-0c8d-4b97-bc54-1efa4c6e3c03\")) {                    Plotly.newPlot(                        \"6c263332-0c8d-4b97-bc54-1efa4c6e3c03\",                        [{\"hovertemplate\":\"color=Wintergreen<br>0=%{x}<br>1=%{y}<extra></extra>\",\"legendgroup\":\"Wintergreen\",\"marker\":{\"color\":\"#636efa\",\"symbol\":\"circle\"},\"mode\":\"markers\",\"name\":\"Wintergreen\",\"orientation\":\"v\",\"showlegend\":true,\"x\":[0.38904146068087636,-2.039807182737004,-1.258526493746799,-0.3279518716742438,-2.218003819710688,-0.6138829812444746,-1.1504457634658956,-1.2893562044865885,-0.7645318610995938,-1.5622038711379045,-0.7556908443446544,-2.752422862644242,-0.8385767057950055,-1.2245918480513065,-2.0212638169553925,-1.6015557404274374,-1.090470317498827,-0.9735068963571627,-1.7689659860621132,-2.5808187715663125,-2.0391253098670568,1.5910825534455524,1.3895875105531341,3.034222266286158,-2.0095837922531556,-0.30378966996397516,2.5170281182612477,-0.4341974436655598,2.1809669825244424,-1.3915281068473266,-2.3648399736242594,1.1766936934649832,1.8170542094134643,2.509957380322922,-1.5290054099472192,2.2614269493496177,1.7857557143964602,-0.8223259909003229,1.246353281506225,-2.745385838499199,0.8832152888848733,1.4422852023786494,0.07192403531771575,-0.2943906959141047,4.672715351803754,-0.9015263421426237,0.521699341520324,0.7352536798018207,3.8614261235477945,-1.193063635296111,0.9038655964873403,-0.5870066513327106],\"xaxis\":\"x\",\"y\":[-3.01661334722135,-2.4187312722830008,-2.376065472038258,-2.443979542538047,-2.6202336719454116,-2.5166226563377325,-1.9584480449727926,-1.9169500194304518,-2.895504317950769,-1.373968887779038,-2.036050514403146,-2.080349262082771,-1.5173690759716043,-2.3032777554862967,-2.902683543121988,-2.688319752907863,-2.3448820716166754,-2.6674752310786682,-2.226421369456524,-1.390733223943229,-1.6305962560869307,0.3784613655312265,0.23064515117283,-0.5134916382193838,-1.8904187769844998,-1.0037733317949802,0.4707350308066806,-0.6159264352038791,-0.856478663278172,-1.9992843811947518,-0.5977991652271173,-0.1417147433592517,1.476528098439674,-0.6941338402119882,-1.9713026295103042,0.17402025265391496,1.2067035002229487,-1.9672546536202489,-0.7405274219907232,-1.4301217361683336,-0.45934391783058737,-0.7282286240092095,-0.38984996296489616,-0.30114149051355493,-0.4514336737941995,-1.2255826629380593,-0.46958220737415063,0.3272057835382708,-0.38263583199559004,-1.028415865488044,0.39766618256978137,-0.735198035194739],\"yaxis\":\"y\",\"type\":\"scatter\"},{\"hovertemplate\":\"color=Cole Mountain<br>0=%{x}<br>1=%{y}<extra></extra>\",\"legendgroup\":\"Cole Mountain\",\"marker\":{\"color\":\"#EF553B\",\"symbol\":\"circle\"},\"mode\":\"markers\",\"name\":\"Cole Mountain\",\"orientation\":\"v\",\"showlegend\":true,\"x\":[1.7744499136344727,1.4155477202220619,0.02064849327269901,-0.936305263410869,-2.6871597614312743,-1.9637239177758632,-2.785128670209554,1.9969956251869188,2.0441053303132635,2.495693057752424,0.832559961334585,-0.6952415447134807,-1.3011497367655305,-2.9462633293830023,-2.041208706045965,-2.2330333246301395,2.5991805665424264,-1.9712275511489263,-0.12704721184890375,0.33930231851353376,-2.108571582999993,-1.0379113734280252,-2.0712694993736034,-0.09527727416183747,1.4873010096592465,-0.008228403663284029,-0.8685022763236069,-2.374752682723077,-0.7618112274777232,-1.212492330544661,-2.2945362720580182,-2.2901237719928744,3.410390561413674,2.9916619241812885,-1.312986648773651,-2.2535899413806177,0.6800872874668574,-1.137084377376017,-1.5880602717413503,-0.1220154533694414,-2.7024495997599063,0.4396529842593842,1.0077166486178875,-0.23369505089335174,-1.4121058085452907,-3.034185772283657,-0.4035639302676373,-1.0936181553037225,-2.5357825520776203,3.0710754274245664,1.2461665147580772,1.290591479286529,-0.9918318516992339,0.3547279050186699,-2.9442480531461173,-0.8486986480077012,-1.8284004535593081,-2.0143899069700124,2.748352142734547,1.3165837934815536,2.1862548360577674,-1.3866485907390025,1.7607003980159484,-1.7629144439535205,-2.599598785801312,-1.4721386765261062,-1.4439766944285644,1.9725822276172658,-0.16818209733895562,2.5021834615025904,0.4465906691686195,0.6749555876871168,3.2765908630185354,0.27266950555620323,0.7538840318664548,3.0476170182399493,2.3188434863673892,1.4694960506838162,0.7326635748176376,0.0032468834367250757,-3.9736875811872325,0.7585881255400654],\"xaxis\":\"x\",\"y\":[-1.5233926466258823,-1.873636877035977,2.229683059667102,3.6912840454691236,1.5712817991147507,2.653094028546475,-1.3065619200688805,-1.12347441232894,-1.6157663485234888,-1.7768803628448346,1.9653172291213488,1.7225244812729539,2.7846231773011003,1.6446800142349631,1.4314265757774545,-0.857865297127187,-1.6097689563908193,1.6816818459627587,1.688869898394083,2.920578400659973,0.8586406733602017,2.3500367118965615,-0.45881405123766733,-2.0320100592563177,-1.2695373166289654,1.3943468137865433,1.096217658047479,1.4879982261961984,1.4438144897492973,1.2584710674340522,2.042152883580458,-0.5494873262054703,-0.9165797015177837,-1.8944643884962535,1.9007809577940498,1.0633827653508123,1.8819929770722899,2.0980594730352937,1.3489292636519614,1.7770360676497083,-0.8341074243779002,-1.4465325560663223,-1.8052353032719102,2.1845361167116044,1.174102452702242,2.1053646203629013,1.533780758182054,1.4385523039774393,-1.0753873699302725,-2.408058300184845,-1.7965982091812147,-2.3226617483852734,1.4142557075925564,1.6178648425835633,1.9865385393482422,1.2931803761804879,1.2107277115218513,-1.0991908228229843,-1.346197790620188,-2.2127724591882045,-2.1283836999221966,1.188174175442277,3.4603821021430186,1.5537957340280075,0.6400103557851108,-0.7168056191966348,3.3724592916981613,4.917360000538279,3.36867579111138,4.014969719039666,3.211523087068743,3.475666212621081,4.854742538269508,-1.5820343930359069,3.743482431105615,4.021390885411555,-0.8539747338138454,3.985862170186353,5.006181454040857,4.4839360839949425,-2.0597814114894204,3.6937486916641378],\"yaxis\":\"y\",\"type\":\"scatter\"},{\"hovertemplate\":\"color=Blacksburg<br>0=%{x}<br>1=%{y}<extra></extra>\",\"legendgroup\":\"Blacksburg\",\"marker\":{\"color\":\"#00cc96\",\"symbol\":\"circle\"},\"mode\":\"markers\",\"name\":\"Blacksburg\",\"orientation\":\"v\",\"showlegend\":true,\"x\":[2.59753396348883,0.7055457861303325,3.4351134771531076,-2.8785097068087953,6.037113362169879,-1.133586043587872,3.1153570215589412,4.864559640334466,3.7597656366743024,-1.0478862946505638,4.466669594365925,-1.947001489178237,-0.4109039499386248,3.8842195325271023,0.15876072103706199,-0.8895441305597495,4.503056499798597,0.2919657437508577,-1.1476019976190008,4.034341402723632,0.6099386671640565,-1.241982399507667],\"xaxis\":\"x\",\"y\":[-1.8208715107142066,-1.8769556590707566,-1.5552698494666204,-0.8278804527868392,-0.8167185089889306,-0.5071555451168834,-0.14767510236725198,0.9434698371214106,-1.459323237793611,0.5418214140696623,-1.125072364915392,-1.262515838811231,-0.548276589770159,-1.6723009026756892,0.11966903203124078,0.6325442262911642,-1.0662386797440098,-0.9120543605684889,0.7384601744102907,-1.6214156376521023,0.23084389342480213,-0.11070412642897927],\"yaxis\":\"y\",\"type\":\"scatter\"},{\"hovertemplate\":\"color=HR<br>0=%{x}<br>1=%{y}<extra></extra>\",\"legendgroup\":\"HR\",\"marker\":{\"color\":\"#ab63fa\",\"symbol\":\"circle\"},\"mode\":\"markers\",\"name\":\"HR\",\"orientation\":\"v\",\"showlegend\":true,\"x\":[-1.036448129313127,-0.46823700330425094,-0.76615066934547,-2.704139603163041],\"xaxis\":\"x\",\"y\":[-0.9072437833191284,-0.3633689350272374,-1.223207985684048,-0.5678171255261601],\"yaxis\":\"y\",\"type\":\"scatter\"}],                        {\"template\":{\"data\":{\"histogram2dcontour\":[{\"type\":\"histogram2dcontour\",\"colorbar\":{\"outlinewidth\":0,\"ticks\":\"\"},\"colorscale\":[[0.0,\"#0d0887\"],[0.1111111111111111,\"#46039f\"],[0.2222222222222222,\"#7201a8\"],[0.3333333333333333,\"#9c179e\"],[0.4444444444444444,\"#bd3786\"],[0.5555555555555556,\"#d8576b\"],[0.6666666666666666,\"#ed7953\"],[0.7777777777777778,\"#fb9f3a\"],[0.8888888888888888,\"#fdca26\"],[1.0,\"#f0f921\"]]}],\"choropleth\":[{\"type\":\"choropleth\",\"colorbar\":{\"outlinewidth\":0,\"ticks\":\"\"}}],\"histogram2d\":[{\"type\":\"histogram2d\",\"colorbar\":{\"outlinewidth\":0,\"ticks\":\"\"},\"colorscale\":[[0.0,\"#0d0887\"],[0.1111111111111111,\"#46039f\"],[0.2222222222222222,\"#7201a8\"],[0.3333333333333333,\"#9c179e\"],[0.4444444444444444,\"#bd3786\"],[0.5555555555555556,\"#d8576b\"],[0.6666666666666666,\"#ed7953\"],[0.7777777777777778,\"#fb9f3a\"],[0.8888888888888888,\"#fdca26\"],[1.0,\"#f0f921\"]]}],\"heatmap\":[{\"type\":\"heatmap\",\"colorbar\":{\"outlinewidth\":0,\"ticks\":\"\"},\"colorscale\":[[0.0,\"#0d0887\"],[0.1111111111111111,\"#46039f\"],[0.2222222222222222,\"#7201a8\"],[0.3333333333333333,\"#9c179e\"],[0.4444444444444444,\"#bd3786\"],[0.5555555555555556,\"#d8576b\"],[0.6666666666666666,\"#ed7953\"],[0.7777777777777778,\"#fb9f3a\"],[0.8888888888888888,\"#fdca26\"],[1.0,\"#f0f921\"]]}],\"heatmapgl\":[{\"type\":\"heatmapgl\",\"colorbar\":{\"outlinewidth\":0,\"ticks\":\"\"},\"colorscale\":[[0.0,\"#0d0887\"],[0.1111111111111111,\"#46039f\"],[0.2222222222222222,\"#7201a8\"],[0.3333333333333333,\"#9c179e\"],[0.4444444444444444,\"#bd3786\"],[0.5555555555555556,\"#d8576b\"],[0.6666666666666666,\"#ed7953\"],[0.7777777777777778,\"#fb9f3a\"],[0.8888888888888888,\"#fdca26\"],[1.0,\"#f0f921\"]]}],\"contourcarpet\":[{\"type\":\"contourcarpet\",\"colorbar\":{\"outlinewidth\":0,\"ticks\":\"\"}}],\"contour\":[{\"type\":\"contour\",\"colorbar\":{\"outlinewidth\":0,\"ticks\":\"\"},\"colorscale\":[[0.0,\"#0d0887\"],[0.1111111111111111,\"#46039f\"],[0.2222222222222222,\"#7201a8\"],[0.3333333333333333,\"#9c179e\"],[0.4444444444444444,\"#bd3786\"],[0.5555555555555556,\"#d8576b\"],[0.6666666666666666,\"#ed7953\"],[0.7777777777777778,\"#fb9f3a\"],[0.8888888888888888,\"#fdca26\"],[1.0,\"#f0f921\"]]}],\"surface\":[{\"type\":\"surface\",\"colorbar\":{\"outlinewidth\":0,\"ticks\":\"\"},\"colorscale\":[[0.0,\"#0d0887\"],[0.1111111111111111,\"#46039f\"],[0.2222222222222222,\"#7201a8\"],[0.3333333333333333,\"#9c179e\"],[0.4444444444444444,\"#bd3786\"],[0.5555555555555556,\"#d8576b\"],[0.6666666666666666,\"#ed7953\"],[0.7777777777777778,\"#fb9f3a\"],[0.8888888888888888,\"#fdca26\"],[1.0,\"#f0f921\"]]}],\"mesh3d\":[{\"type\":\"mesh3d\",\"colorbar\":{\"outlinewidth\":0,\"ticks\":\"\"}}],\"scatter\":[{\"fillpattern\":{\"fillmode\":\"overlay\",\"size\":10,\"solidity\":0.2},\"type\":\"scatter\"}],\"parcoords\":[{\"type\":\"parcoords\",\"line\":{\"colorbar\":{\"outlinewidth\":0,\"ticks\":\"\"}}}],\"scatterpolargl\":[{\"type\":\"scatterpolargl\",\"marker\":{\"colorbar\":{\"outlinewidth\":0,\"ticks\":\"\"}}}],\"bar\":[{\"error_x\":{\"color\":\"#2a3f5f\"},\"error_y\":{\"color\":\"#2a3f5f\"},\"marker\":{\"line\":{\"color\":\"#E5ECF6\",\"width\":0.5},\"pattern\":{\"fillmode\":\"overlay\",\"size\":10,\"solidity\":0.2}},\"type\":\"bar\"}],\"scattergeo\":[{\"type\":\"scattergeo\",\"marker\":{\"colorbar\":{\"outlinewidth\":0,\"ticks\":\"\"}}}],\"scatterpolar\":[{\"type\":\"scatterpolar\",\"marker\":{\"colorbar\":{\"outlinewidth\":0,\"ticks\":\"\"}}}],\"histogram\":[{\"marker\":{\"pattern\":{\"fillmode\":\"overlay\",\"size\":10,\"solidity\":0.2}},\"type\":\"histogram\"}],\"scattergl\":[{\"type\":\"scattergl\",\"marker\":{\"colorbar\":{\"outlinewidth\":0,\"ticks\":\"\"}}}],\"scatter3d\":[{\"type\":\"scatter3d\",\"line\":{\"colorbar\":{\"outlinewidth\":0,\"ticks\":\"\"}},\"marker\":{\"colorbar\":{\"outlinewidth\":0,\"ticks\":\"\"}}}],\"scattermapbox\":[{\"type\":\"scattermapbox\",\"marker\":{\"colorbar\":{\"outlinewidth\":0,\"ticks\":\"\"}}}],\"scatterternary\":[{\"type\":\"scatterternary\",\"marker\":{\"colorbar\":{\"outlinewidth\":0,\"ticks\":\"\"}}}],\"scattercarpet\":[{\"type\":\"scattercarpet\",\"marker\":{\"colorbar\":{\"outlinewidth\":0,\"ticks\":\"\"}}}],\"carpet\":[{\"aaxis\":{\"endlinecolor\":\"#2a3f5f\",\"gridcolor\":\"white\",\"linecolor\":\"white\",\"minorgridcolor\":\"white\",\"startlinecolor\":\"#2a3f5f\"},\"baxis\":{\"endlinecolor\":\"#2a3f5f\",\"gridcolor\":\"white\",\"linecolor\":\"white\",\"minorgridcolor\":\"white\",\"startlinecolor\":\"#2a3f5f\"},\"type\":\"carpet\"}],\"table\":[{\"cells\":{\"fill\":{\"color\":\"#EBF0F8\"},\"line\":{\"color\":\"white\"}},\"header\":{\"fill\":{\"color\":\"#C8D4E3\"},\"line\":{\"color\":\"white\"}},\"type\":\"table\"}],\"barpolar\":[{\"marker\":{\"line\":{\"color\":\"#E5ECF6\",\"width\":0.5},\"pattern\":{\"fillmode\":\"overlay\",\"size\":10,\"solidity\":0.2}},\"type\":\"barpolar\"}],\"pie\":[{\"automargin\":true,\"type\":\"pie\"}]},\"layout\":{\"autotypenumbers\":\"strict\",\"colorway\":[\"#636efa\",\"#EF553B\",\"#00cc96\",\"#ab63fa\",\"#FFA15A\",\"#19d3f3\",\"#FF6692\",\"#B6E880\",\"#FF97FF\",\"#FECB52\"],\"font\":{\"color\":\"#2a3f5f\"},\"hovermode\":\"closest\",\"hoverlabel\":{\"align\":\"left\"},\"paper_bgcolor\":\"white\",\"plot_bgcolor\":\"#E5ECF6\",\"polar\":{\"bgcolor\":\"#E5ECF6\",\"angularaxis\":{\"gridcolor\":\"white\",\"linecolor\":\"white\",\"ticks\":\"\"},\"radialaxis\":{\"gridcolor\":\"white\",\"linecolor\":\"white\",\"ticks\":\"\"}},\"ternary\":{\"bgcolor\":\"#E5ECF6\",\"aaxis\":{\"gridcolor\":\"white\",\"linecolor\":\"white\",\"ticks\":\"\"},\"baxis\":{\"gridcolor\":\"white\",\"linecolor\":\"white\",\"ticks\":\"\"},\"caxis\":{\"gridcolor\":\"white\",\"linecolor\":\"white\",\"ticks\":\"\"}},\"coloraxis\":{\"colorbar\":{\"outlinewidth\":0,\"ticks\":\"\"}},\"colorscale\":{\"sequential\":[[0.0,\"#0d0887\"],[0.1111111111111111,\"#46039f\"],[0.2222222222222222,\"#7201a8\"],[0.3333333333333333,\"#9c179e\"],[0.4444444444444444,\"#bd3786\"],[0.5555555555555556,\"#d8576b\"],[0.6666666666666666,\"#ed7953\"],[0.7777777777777778,\"#fb9f3a\"],[0.8888888888888888,\"#fdca26\"],[1.0,\"#f0f921\"]],\"sequentialminus\":[[0.0,\"#0d0887\"],[0.1111111111111111,\"#46039f\"],[0.2222222222222222,\"#7201a8\"],[0.3333333333333333,\"#9c179e\"],[0.4444444444444444,\"#bd3786\"],[0.5555555555555556,\"#d8576b\"],[0.6666666666666666,\"#ed7953\"],[0.7777777777777778,\"#fb9f3a\"],[0.8888888888888888,\"#fdca26\"],[1.0,\"#f0f921\"]],\"diverging\":[[0,\"#8e0152\"],[0.1,\"#c51b7d\"],[0.2,\"#de77ae\"],[0.3,\"#f1b6da\"],[0.4,\"#fde0ef\"],[0.5,\"#f7f7f7\"],[0.6,\"#e6f5d0\"],[0.7,\"#b8e186\"],[0.8,\"#7fbc41\"],[0.9,\"#4d9221\"],[1,\"#276419\"]]},\"xaxis\":{\"gridcolor\":\"white\",\"linecolor\":\"white\",\"ticks\":\"\",\"title\":{\"standoff\":15},\"zerolinecolor\":\"white\",\"automargin\":true,\"zerolinewidth\":2},\"yaxis\":{\"gridcolor\":\"white\",\"linecolor\":\"white\",\"ticks\":\"\",\"title\":{\"standoff\":15},\"zerolinecolor\":\"white\",\"automargin\":true,\"zerolinewidth\":2},\"scene\":{\"xaxis\":{\"backgroundcolor\":\"#E5ECF6\",\"gridcolor\":\"white\",\"linecolor\":\"white\",\"showbackground\":true,\"ticks\":\"\",\"zerolinecolor\":\"white\",\"gridwidth\":2},\"yaxis\":{\"backgroundcolor\":\"#E5ECF6\",\"gridcolor\":\"white\",\"linecolor\":\"white\",\"showbackground\":true,\"ticks\":\"\",\"zerolinecolor\":\"white\",\"gridwidth\":2},\"zaxis\":{\"backgroundcolor\":\"#E5ECF6\",\"gridcolor\":\"white\",\"linecolor\":\"white\",\"showbackground\":true,\"ticks\":\"\",\"zerolinecolor\":\"white\",\"gridwidth\":2}},\"shapedefaults\":{\"line\":{\"color\":\"#2a3f5f\"}},\"annotationdefaults\":{\"arrowcolor\":\"#2a3f5f\",\"arrowhead\":0,\"arrowwidth\":1},\"geo\":{\"bgcolor\":\"white\",\"landcolor\":\"#E5ECF6\",\"subunitcolor\":\"white\",\"showland\":true,\"showlakes\":true,\"lakecolor\":\"white\"},\"title\":{\"x\":0.05},\"mapbox\":{\"style\":\"light\"}}},\"xaxis\":{\"anchor\":\"y\",\"domain\":[0.0,1.0],\"title\":{\"text\":\"PC1 26.9%\"}},\"yaxis\":{\"anchor\":\"x\",\"domain\":[0.0,1.0],\"title\":{\"text\":\"PC2 24.8%\"}},\"legend\":{\"title\":{\"text\":\"color\"},\"tracegroupgap\":0},\"margin\":{\"t\":60}},                        {\"responsive\": true}                    ).then(function(){\n",
       "                            \n",
       "var gd = document.getElementById('6c263332-0c8d-4b97-bc54-1efa4c6e3c03');\n",
       "var x = new MutationObserver(function (mutations, observer) {{\n",
       "        var display = window.getComputedStyle(gd).display;\n",
       "        if (!display || display === 'none') {{\n",
       "            console.log([gd, 'removed!']);\n",
       "            Plotly.purge(gd);\n",
       "            observer.disconnect();\n",
       "        }}\n",
       "}});\n",
       "\n",
       "// Listen for the removal of the full notebook cells\n",
       "var notebookContainer = gd.closest('#notebook-container');\n",
       "if (notebookContainer) {{\n",
       "    x.observe(notebookContainer, {childList: true});\n",
       "}}\n",
       "\n",
       "// Listen for the clearing of the current output cell\n",
       "var outputEl = gd.closest('.output');\n",
       "if (outputEl) {{\n",
       "    x.observe(outputEl, {childList: true});\n",
       "}}\n",
       "\n",
       "                        })                };                });            </script>        </div>"
      ]
     },
     "metadata": {},
     "output_type": "display_data"
    }
   ],
   "source": [
    "X = subdf[nutrients]\n",
    "\n",
    "pca = PCA(n_components=2)\n",
    "components = pca.fit_transform(X)\n",
    "\n",
    "fig = px.scatter(components, x=0, y=1, color=subdf['site_id'])\n",
    "fig.update_layout(\n",
    "    xaxis_title=\"PC1 \" + str(round(100*pca.explained_variance_ratio_[0], 1)) + '%',\n",
    "    yaxis_title=\"PC2 \" + str(round(100*pca.explained_variance_ratio_[1], 1)) + '%')\n",
    "fig.show()"
   ]
  },
  {
   "cell_type": "markdown",
   "id": "46527169",
   "metadata": {},
   "source": [
    "## PCA By Species Using Genetic Data"
   ]
  },
  {
   "cell_type": "code",
   "execution_count": 124,
   "id": "58d222a0",
   "metadata": {},
   "outputs": [],
   "source": [
    "subdf['species_dna'] = subdf['V2']"
   ]
  },
  {
   "cell_type": "code",
   "execution_count": 125,
   "id": "75b5c1a7",
   "metadata": {},
   "outputs": [
    {
     "data": {
      "text/html": [
       "<div>\n",
       "<style scoped>\n",
       "    .dataframe tbody tr th:only-of-type {\n",
       "        vertical-align: middle;\n",
       "    }\n",
       "\n",
       "    .dataframe tbody tr th {\n",
       "        vertical-align: top;\n",
       "    }\n",
       "\n",
       "    .dataframe thead th {\n",
       "        text-align: right;\n",
       "    }\n",
       "</style>\n",
       "<table border=\"1\" class=\"dataframe\">\n",
       "  <thead>\n",
       "    <tr style=\"text-align: right;\">\n",
       "      <th></th>\n",
       "      <th>sample_id</th>\n",
       "      <th>V1</th>\n",
       "      <th>V2</th>\n",
       "      <th>species</th>\n",
       "      <th>PC1</th>\n",
       "      <th>PC2</th>\n",
       "      <th>PC3</th>\n",
       "      <th>PC4</th>\n",
       "      <th>PC5</th>\n",
       "      <th>OM</th>\n",
       "      <th>...</th>\n",
       "      <th>Sulfur</th>\n",
       "      <th>Sodium</th>\n",
       "      <th>Zinc</th>\n",
       "      <th>Manganese</th>\n",
       "      <th>Iron</th>\n",
       "      <th>Copper</th>\n",
       "      <th>Boron</th>\n",
       "      <th>site_id</th>\n",
       "      <th>collect_date</th>\n",
       "      <th>species_dna</th>\n",
       "    </tr>\n",
       "  </thead>\n",
       "  <tbody>\n",
       "    <tr>\n",
       "      <th>0</th>\n",
       "      <td>RRL1</td>\n",
       "      <td>0.753244</td>\n",
       "      <td>0.246756</td>\n",
       "      <td>exaltata</td>\n",
       "      <td>0.194769</td>\n",
       "      <td>0.048276</td>\n",
       "      <td>-0.02388</td>\n",
       "      <td>-0.017138</td>\n",
       "      <td>-0.039842</td>\n",
       "      <td>0.053029</td>\n",
       "      <td>...</td>\n",
       "      <td>-1.041732</td>\n",
       "      <td>5.664035</td>\n",
       "      <td>-0.864184</td>\n",
       "      <td>0.070207</td>\n",
       "      <td>-0.443548</td>\n",
       "      <td>3.144685</td>\n",
       "      <td>-0.660275</td>\n",
       "      <td>Wintergreen</td>\n",
       "      <td>6/25/2021</td>\n",
       "      <td>0.246756</td>\n",
       "    </tr>\n",
       "    <tr>\n",
       "      <th>1</th>\n",
       "      <td>RRL9</td>\n",
       "      <td>0.581366</td>\n",
       "      <td>0.418634</td>\n",
       "      <td>exaltata</td>\n",
       "      <td>0.097719</td>\n",
       "      <td>0.094733</td>\n",
       "      <td>-0.00656</td>\n",
       "      <td>0.012822</td>\n",
       "      <td>-0.022248</td>\n",
       "      <td>-0.118378</td>\n",
       "      <td>...</td>\n",
       "      <td>-0.292285</td>\n",
       "      <td>0.166878</td>\n",
       "      <td>-0.876883</td>\n",
       "      <td>0.157455</td>\n",
       "      <td>0.123343</td>\n",
       "      <td>2.361486</td>\n",
       "      <td>-0.936831</td>\n",
       "      <td>Wintergreen</td>\n",
       "      <td>6/25/2021</td>\n",
       "      <td>0.418634</td>\n",
       "    </tr>\n",
       "    <tr>\n",
       "      <th>2</th>\n",
       "      <td>RRL17</td>\n",
       "      <td>0.591513</td>\n",
       "      <td>0.408487</td>\n",
       "      <td>exaltata</td>\n",
       "      <td>0.099527</td>\n",
       "      <td>0.091996</td>\n",
       "      <td>0.004098</td>\n",
       "      <td>-0.021347</td>\n",
       "      <td>0.00719</td>\n",
       "      <td>-0.394533</td>\n",
       "      <td>...</td>\n",
       "      <td>-1.191622</td>\n",
       "      <td>-0.094891</td>\n",
       "      <td>-0.813387</td>\n",
       "      <td>0.484634</td>\n",
       "      <td>-0.656133</td>\n",
       "      <td>0.571316</td>\n",
       "      <td>-0.936831</td>\n",
       "      <td>Wintergreen</td>\n",
       "      <td>6/25/2021</td>\n",
       "      <td>0.408487</td>\n",
       "    </tr>\n",
       "    <tr>\n",
       "      <th>3</th>\n",
       "      <td>FRW3</td>\n",
       "      <td>0.048066</td>\n",
       "      <td>0.951934</td>\n",
       "      <td>syriaca</td>\n",
       "      <td>-0.139465</td>\n",
       "      <td>-0.064022</td>\n",
       "      <td>-0.009963</td>\n",
       "      <td>-0.047536</td>\n",
       "      <td>0.024757</td>\n",
       "      <td>-0.727824</td>\n",
       "      <td>...</td>\n",
       "      <td>-0.891843</td>\n",
       "      <td>1.213956</td>\n",
       "      <td>-0.330815</td>\n",
       "      <td>-0.322408</td>\n",
       "      <td>0.619373</td>\n",
       "      <td>1.242630</td>\n",
       "      <td>0.999055</td>\n",
       "      <td>Cole Mountain</td>\n",
       "      <td>6/25/2021</td>\n",
       "      <td>0.951934</td>\n",
       "    </tr>\n",
       "    <tr>\n",
       "      <th>4</th>\n",
       "      <td>FRW12</td>\n",
       "      <td>0.003946</td>\n",
       "      <td>0.996054</td>\n",
       "      <td>syriaca</td>\n",
       "      <td>-0.155135</td>\n",
       "      <td>0.055455</td>\n",
       "      <td>0.009907</td>\n",
       "      <td>-0.043334</td>\n",
       "      <td>-0.009337</td>\n",
       "      <td>-0.661166</td>\n",
       "      <td>...</td>\n",
       "      <td>-1.191622</td>\n",
       "      <td>0.952186</td>\n",
       "      <td>-0.546703</td>\n",
       "      <td>-0.344220</td>\n",
       "      <td>-0.018380</td>\n",
       "      <td>0.571316</td>\n",
       "      <td>0.999055</td>\n",
       "      <td>Cole Mountain</td>\n",
       "      <td>6/25/2021</td>\n",
       "      <td>0.996054</td>\n",
       "    </tr>\n",
       "  </tbody>\n",
       "</table>\n",
       "<p>5 rows × 28 columns</p>\n",
       "</div>"
      ],
      "text/plain": [
       "  sample_id        V1        V2   species       PC1       PC2       PC3  \\\n",
       "0      RRL1  0.753244  0.246756  exaltata  0.194769  0.048276  -0.02388   \n",
       "1      RRL9  0.581366  0.418634  exaltata  0.097719  0.094733  -0.00656   \n",
       "2     RRL17  0.591513  0.408487  exaltata  0.099527  0.091996  0.004098   \n",
       "3      FRW3  0.048066  0.951934   syriaca -0.139465 -0.064022 -0.009963   \n",
       "4     FRW12  0.003946  0.996054   syriaca -0.155135  0.055455  0.009907   \n",
       "\n",
       "        PC4       PC5        OM  ...    Sulfur    Sodium      Zinc  Manganese  \\\n",
       "0 -0.017138 -0.039842  0.053029  ... -1.041732  5.664035 -0.864184   0.070207   \n",
       "1  0.012822 -0.022248 -0.118378  ... -0.292285  0.166878 -0.876883   0.157455   \n",
       "2 -0.021347   0.00719 -0.394533  ... -1.191622 -0.094891 -0.813387   0.484634   \n",
       "3 -0.047536  0.024757 -0.727824  ... -0.891843  1.213956 -0.330815  -0.322408   \n",
       "4 -0.043334 -0.009337 -0.661166  ... -1.191622  0.952186 -0.546703  -0.344220   \n",
       "\n",
       "       Iron    Copper     Boron        site_id  collect_date  species_dna  \n",
       "0 -0.443548  3.144685 -0.660275    Wintergreen     6/25/2021     0.246756  \n",
       "1  0.123343  2.361486 -0.936831    Wintergreen     6/25/2021     0.418634  \n",
       "2 -0.656133  0.571316 -0.936831    Wintergreen     6/25/2021     0.408487  \n",
       "3  0.619373  1.242630  0.999055  Cole Mountain     6/25/2021     0.951934  \n",
       "4 -0.018380  0.571316  0.999055  Cole Mountain     6/25/2021     0.996054  \n",
       "\n",
       "[5 rows x 28 columns]"
      ]
     },
     "execution_count": 125,
     "metadata": {},
     "output_type": "execute_result"
    }
   ],
   "source": [
    "subdf.head()"
   ]
  },
  {
   "cell_type": "code",
   "execution_count": 132,
   "id": "249e0d9f",
   "metadata": {},
   "outputs": [
    {
     "ename": "TypeError",
     "evalue": "loop of ufunc does not support argument 0 of type float which has no callable rint method",
     "output_type": "error",
     "traceback": [
      "\u001b[1;31m---------------------------------------------------------------------------\u001b[0m",
      "\u001b[1;31mAttributeError\u001b[0m                            Traceback (most recent call last)",
      "\u001b[1;31mAttributeError\u001b[0m: 'float' object has no attribute 'rint'",
      "\nThe above exception was the direct cause of the following exception:\n",
      "\u001b[1;31mTypeError\u001b[0m                                 Traceback (most recent call last)",
      "File \u001b[1;32m~\\anaconda3.1\\envs\\research_env\\Lib\\site-packages\\numpy\\core\\fromnumeric.py:59\u001b[0m, in \u001b[0;36m_wrapfunc\u001b[1;34m(obj, method, *args, **kwds)\u001b[0m\n\u001b[0;32m     58\u001b[0m \u001b[38;5;28;01mtry\u001b[39;00m:\n\u001b[1;32m---> 59\u001b[0m     \u001b[38;5;28;01mreturn\u001b[39;00m bound(\u001b[38;5;241m*\u001b[39margs, \u001b[38;5;241m*\u001b[39m\u001b[38;5;241m*\u001b[39mkwds)\n\u001b[0;32m     60\u001b[0m \u001b[38;5;28;01mexcept\u001b[39;00m \u001b[38;5;167;01mTypeError\u001b[39;00m:\n\u001b[0;32m     61\u001b[0m     \u001b[38;5;66;03m# A TypeError occurs if the object does have such a method in its\u001b[39;00m\n\u001b[0;32m     62\u001b[0m     \u001b[38;5;66;03m# class, but its signature is not identical to that of NumPy's. This\u001b[39;00m\n\u001b[1;32m   (...)\u001b[0m\n\u001b[0;32m     66\u001b[0m     \u001b[38;5;66;03m# Call _wrapit from within the except clause to ensure a potential\u001b[39;00m\n\u001b[0;32m     67\u001b[0m     \u001b[38;5;66;03m# exception has a traceback chain.\u001b[39;00m\n",
      "File \u001b[1;32m~\\anaconda3.1\\envs\\research_env\\Lib\\site-packages\\pandas\\core\\series.py:2569\u001b[0m, in \u001b[0;36mSeries.round\u001b[1;34m(self, decimals, *args, **kwargs)\u001b[0m\n\u001b[0;32m   2568\u001b[0m nv\u001b[38;5;241m.\u001b[39mvalidate_round(args, kwargs)\n\u001b[1;32m-> 2569\u001b[0m result \u001b[38;5;241m=\u001b[39m \u001b[38;5;28mself\u001b[39m\u001b[38;5;241m.\u001b[39m_values\u001b[38;5;241m.\u001b[39mround(decimals)\n\u001b[0;32m   2570\u001b[0m result \u001b[38;5;241m=\u001b[39m \u001b[38;5;28mself\u001b[39m\u001b[38;5;241m.\u001b[39m_constructor(result, index\u001b[38;5;241m=\u001b[39m\u001b[38;5;28mself\u001b[39m\u001b[38;5;241m.\u001b[39mindex, copy\u001b[38;5;241m=\u001b[39m\u001b[38;5;28;01mFalse\u001b[39;00m)\u001b[38;5;241m.\u001b[39m__finalize__(\n\u001b[0;32m   2571\u001b[0m     \u001b[38;5;28mself\u001b[39m, method\u001b[38;5;241m=\u001b[39m\u001b[38;5;124m\"\u001b[39m\u001b[38;5;124mround\u001b[39m\u001b[38;5;124m\"\u001b[39m\n\u001b[0;32m   2572\u001b[0m )\n",
      "\u001b[1;31mTypeError\u001b[0m: loop of ufunc does not support argument 0 of type float which has no callable rint method",
      "\nDuring handling of the above exception, another exception occurred:\n",
      "\u001b[1;31mAttributeError\u001b[0m                            Traceback (most recent call last)",
      "\u001b[1;31mAttributeError\u001b[0m: 'float' object has no attribute 'rint'",
      "\nThe above exception was the direct cause of the following exception:\n",
      "\u001b[1;31mTypeError\u001b[0m                                 Traceback (most recent call last)",
      "Cell \u001b[1;32mIn[132], line 1\u001b[0m\n\u001b[1;32m----> 1\u001b[0m subdf[\u001b[38;5;124m'\u001b[39m\u001b[38;5;124mspecies_dna\u001b[39m\u001b[38;5;124m'\u001b[39m] \u001b[38;5;241m=\u001b[39m np\u001b[38;5;241m.\u001b[39mround(subdf[\u001b[38;5;124m'\u001b[39m\u001b[38;5;124mspecies_dna\u001b[39m\u001b[38;5;124m'\u001b[39m], \u001b[38;5;241m2\u001b[39m)\n",
      "File \u001b[1;32m~\\anaconda3.1\\envs\\research_env\\Lib\\site-packages\\numpy\\core\\fromnumeric.py:3360\u001b[0m, in \u001b[0;36mround\u001b[1;34m(a, decimals, out)\u001b[0m\n\u001b[0;32m   3269\u001b[0m \u001b[38;5;129m@array_function_dispatch\u001b[39m(_round_dispatcher)\n\u001b[0;32m   3270\u001b[0m \u001b[38;5;28;01mdef\u001b[39;00m \u001b[38;5;21mround\u001b[39m(a, decimals\u001b[38;5;241m=\u001b[39m\u001b[38;5;241m0\u001b[39m, out\u001b[38;5;241m=\u001b[39m\u001b[38;5;28;01mNone\u001b[39;00m):\n\u001b[0;32m   3271\u001b[0m \u001b[38;5;250m    \u001b[39m\u001b[38;5;124;03m\"\"\"\u001b[39;00m\n\u001b[0;32m   3272\u001b[0m \u001b[38;5;124;03m    Evenly round to the given number of decimals.\u001b[39;00m\n\u001b[0;32m   3273\u001b[0m \n\u001b[1;32m   (...)\u001b[0m\n\u001b[0;32m   3358\u001b[0m \n\u001b[0;32m   3359\u001b[0m \u001b[38;5;124;03m    \"\"\"\u001b[39;00m\n\u001b[1;32m-> 3360\u001b[0m     \u001b[38;5;28;01mreturn\u001b[39;00m _wrapfunc(a, \u001b[38;5;124m'\u001b[39m\u001b[38;5;124mround\u001b[39m\u001b[38;5;124m'\u001b[39m, decimals\u001b[38;5;241m=\u001b[39mdecimals, out\u001b[38;5;241m=\u001b[39mout)\n",
      "File \u001b[1;32m~\\anaconda3.1\\envs\\research_env\\Lib\\site-packages\\numpy\\core\\fromnumeric.py:68\u001b[0m, in \u001b[0;36m_wrapfunc\u001b[1;34m(obj, method, *args, **kwds)\u001b[0m\n\u001b[0;32m     59\u001b[0m     \u001b[38;5;28;01mreturn\u001b[39;00m bound(\u001b[38;5;241m*\u001b[39margs, \u001b[38;5;241m*\u001b[39m\u001b[38;5;241m*\u001b[39mkwds)\n\u001b[0;32m     60\u001b[0m \u001b[38;5;28;01mexcept\u001b[39;00m \u001b[38;5;167;01mTypeError\u001b[39;00m:\n\u001b[0;32m     61\u001b[0m     \u001b[38;5;66;03m# A TypeError occurs if the object does have such a method in its\u001b[39;00m\n\u001b[0;32m     62\u001b[0m     \u001b[38;5;66;03m# class, but its signature is not identical to that of NumPy's. This\u001b[39;00m\n\u001b[1;32m   (...)\u001b[0m\n\u001b[0;32m     66\u001b[0m     \u001b[38;5;66;03m# Call _wrapit from within the except clause to ensure a potential\u001b[39;00m\n\u001b[0;32m     67\u001b[0m     \u001b[38;5;66;03m# exception has a traceback chain.\u001b[39;00m\n\u001b[1;32m---> 68\u001b[0m     \u001b[38;5;28;01mreturn\u001b[39;00m _wrapit(obj, method, \u001b[38;5;241m*\u001b[39margs, \u001b[38;5;241m*\u001b[39m\u001b[38;5;241m*\u001b[39mkwds)\n",
      "File \u001b[1;32m~\\anaconda3.1\\envs\\research_env\\Lib\\site-packages\\numpy\\core\\fromnumeric.py:45\u001b[0m, in \u001b[0;36m_wrapit\u001b[1;34m(obj, method, *args, **kwds)\u001b[0m\n\u001b[0;32m     43\u001b[0m \u001b[38;5;28;01mexcept\u001b[39;00m \u001b[38;5;167;01mAttributeError\u001b[39;00m:\n\u001b[0;32m     44\u001b[0m     wrap \u001b[38;5;241m=\u001b[39m \u001b[38;5;28;01mNone\u001b[39;00m\n\u001b[1;32m---> 45\u001b[0m result \u001b[38;5;241m=\u001b[39m \u001b[38;5;28mgetattr\u001b[39m(asarray(obj), method)(\u001b[38;5;241m*\u001b[39margs, \u001b[38;5;241m*\u001b[39m\u001b[38;5;241m*\u001b[39mkwds)\n\u001b[0;32m     46\u001b[0m \u001b[38;5;28;01mif\u001b[39;00m wrap:\n\u001b[0;32m     47\u001b[0m     \u001b[38;5;28;01mif\u001b[39;00m \u001b[38;5;129;01mnot\u001b[39;00m \u001b[38;5;28misinstance\u001b[39m(result, mu\u001b[38;5;241m.\u001b[39mndarray):\n",
      "\u001b[1;31mTypeError\u001b[0m: loop of ufunc does not support argument 0 of type float which has no callable rint method"
     ]
    }
   ],
   "source": [
    "subdf['species_dna'] = np.round(subdf['species_dna'], 2)"
   ]
  },
  {
   "cell_type": "code",
   "execution_count": null,
   "id": "bdc53b4f",
   "metadata": {},
   "outputs": [],
   "source": []
  }
 ],
 "metadata": {
  "kernelspec": {
   "display_name": "Python 3 (ipykernel)",
   "language": "python",
   "name": "python3"
  },
  "language_info": {
   "codemirror_mode": {
    "name": "ipython",
    "version": 3
   },
   "file_extension": ".py",
   "mimetype": "text/x-python",
   "name": "python",
   "nbconvert_exporter": "python",
   "pygments_lexer": "ipython3",
   "version": "3.11.4"
  }
 },
 "nbformat": 4,
 "nbformat_minor": 5
}
