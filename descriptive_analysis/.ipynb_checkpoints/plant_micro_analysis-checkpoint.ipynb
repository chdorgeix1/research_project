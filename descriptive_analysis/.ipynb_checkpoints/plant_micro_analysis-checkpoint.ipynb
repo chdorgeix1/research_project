{
 "cells": [
  {
   "cell_type": "code",
   "execution_count": 32,
   "id": "fd18f17c",
   "metadata": {},
   "outputs": [],
   "source": [
    "import pandas as pd\n",
    "import numpy as np\n",
    "import sqlite3\n",
    "import plotly.express as px\n",
    "from sklearn.decomposition import PCA\n",
    "from sklearn.preprocessing import StandardScaler\n",
    "import matplotlib.pyplot as plt\n",
    "import seaborn as sns\n",
    "from sklearn.manifold import TSNE\n",
    "import statsmodels\n",
    "import statsmodels.api as sm\n",
    "from statsmodels.multivariate.manova import MANOVA\n",
    "from scipy import stats\n",
    "\n",
    "from useful_functions import *"
   ]
  },
  {
   "cell_type": "markdown",
   "id": "01049d27",
   "metadata": {},
   "source": [
    "## Import Data"
   ]
  },
  {
   "cell_type": "code",
   "execution_count": 33,
   "id": "21d504b1",
   "metadata": {},
   "outputs": [
    {
     "data": {
      "text/plain": [
       "(277695, 15)"
      ]
     },
     "execution_count": 33,
     "metadata": {},
     "output_type": "execute_result"
    }
   ],
   "source": [
    "tables_to_join = [\"tPlantMicrobeGenera\", \"tSample\", \"tPlantDNA\"]\n",
    "common_column = \"sample_id\"\n",
    "full_df = import_all_data(tables_to_join, common_column)\n",
    "full_df.shape"
   ]
  },
  {
   "cell_type": "code",
   "execution_count": 34,
   "id": "91e25d49",
   "metadata": {},
   "outputs": [
    {
     "data": {
      "text/html": [
       "<div>\n",
       "<style scoped>\n",
       "    .dataframe tbody tr th:only-of-type {\n",
       "        vertical-align: middle;\n",
       "    }\n",
       "\n",
       "    .dataframe tbody tr th {\n",
       "        vertical-align: top;\n",
       "    }\n",
       "\n",
       "    .dataframe thead th {\n",
       "        text-align: right;\n",
       "    }\n",
       "</style>\n",
       "<table border=\"1\" class=\"dataframe\">\n",
       "  <thead>\n",
       "    <tr style=\"text-align: right;\">\n",
       "      <th></th>\n",
       "      <th>sample_id</th>\n",
       "      <th>genera</th>\n",
       "      <th>relative_abundance</th>\n",
       "      <th>sample_id</th>\n",
       "      <th>site_id</th>\n",
       "      <th>collect_date</th>\n",
       "      <th>sample_id</th>\n",
       "      <th>V1</th>\n",
       "      <th>V2</th>\n",
       "      <th>species</th>\n",
       "      <th>PC1</th>\n",
       "      <th>PC2</th>\n",
       "      <th>PC3</th>\n",
       "      <th>PC4</th>\n",
       "      <th>PC5</th>\n",
       "    </tr>\n",
       "  </thead>\n",
       "  <tbody>\n",
       "    <tr>\n",
       "      <th>0</th>\n",
       "      <td>RRL1</td>\n",
       "      <td>Archaea|Euryarchaeota|Halobacteria|Halobacteri...</td>\n",
       "      <td>0.00000</td>\n",
       "      <td>RRL1</td>\n",
       "      <td>RRL</td>\n",
       "      <td>6/25/2021</td>\n",
       "      <td>RRL1</td>\n",
       "      <td>0.753244</td>\n",
       "      <td>0.246756</td>\n",
       "      <td>exaltata</td>\n",
       "      <td>0.194769</td>\n",
       "      <td>0.048276</td>\n",
       "      <td>-0.023880</td>\n",
       "      <td>-0.017138</td>\n",
       "      <td>-0.039842</td>\n",
       "    </tr>\n",
       "    <tr>\n",
       "      <th>1</th>\n",
       "      <td>RRL2</td>\n",
       "      <td>Archaea|Euryarchaeota|Halobacteria|Halobacteri...</td>\n",
       "      <td>0.01333</td>\n",
       "      <td>RRL2</td>\n",
       "      <td>RRL</td>\n",
       "      <td>6/25/2021</td>\n",
       "      <td>RRL2</td>\n",
       "      <td>0.708412</td>\n",
       "      <td>0.291588</td>\n",
       "      <td>exaltata</td>\n",
       "      <td>0.154924</td>\n",
       "      <td>0.071277</td>\n",
       "      <td>0.000923</td>\n",
       "      <td>-0.025830</td>\n",
       "      <td>0.005592</td>\n",
       "    </tr>\n",
       "    <tr>\n",
       "      <th>2</th>\n",
       "      <td>RRL3</td>\n",
       "      <td>Archaea|Euryarchaeota|Halobacteria|Halobacteri...</td>\n",
       "      <td>0.00000</td>\n",
       "      <td>RRL3</td>\n",
       "      <td>RRL</td>\n",
       "      <td>6/25/2021</td>\n",
       "      <td>RRL3</td>\n",
       "      <td>0.778046</td>\n",
       "      <td>0.221954</td>\n",
       "      <td>exaltata</td>\n",
       "      <td>0.187750</td>\n",
       "      <td>0.035009</td>\n",
       "      <td>-0.016006</td>\n",
       "      <td>-0.012529</td>\n",
       "      <td>-0.011169</td>\n",
       "    </tr>\n",
       "    <tr>\n",
       "      <th>3</th>\n",
       "      <td>RRL4</td>\n",
       "      <td>Archaea|Euryarchaeota|Halobacteria|Halobacteri...</td>\n",
       "      <td>0.00943</td>\n",
       "      <td>RRL4</td>\n",
       "      <td>RRL</td>\n",
       "      <td>6/25/2021</td>\n",
       "      <td>RRL4</td>\n",
       "      <td>0.720367</td>\n",
       "      <td>0.279633</td>\n",
       "      <td>exaltata</td>\n",
       "      <td>0.167167</td>\n",
       "      <td>0.046053</td>\n",
       "      <td>-0.032754</td>\n",
       "      <td>-0.016192</td>\n",
       "      <td>-0.028988</td>\n",
       "    </tr>\n",
       "    <tr>\n",
       "      <th>4</th>\n",
       "      <td>RRL5</td>\n",
       "      <td>Archaea|Euryarchaeota|Halobacteria|Halobacteri...</td>\n",
       "      <td>0.00581</td>\n",
       "      <td>RRL5</td>\n",
       "      <td>RRL</td>\n",
       "      <td>6/25/2021</td>\n",
       "      <td>RRL5</td>\n",
       "      <td>0.572487</td>\n",
       "      <td>0.427513</td>\n",
       "      <td>exaltata</td>\n",
       "      <td>0.099801</td>\n",
       "      <td>0.089800</td>\n",
       "      <td>0.000613</td>\n",
       "      <td>-0.004979</td>\n",
       "      <td>0.017524</td>\n",
       "    </tr>\n",
       "  </tbody>\n",
       "</table>\n",
       "</div>"
      ],
      "text/plain": [
       "  sample_id                                             genera  \\\n",
       "0      RRL1  Archaea|Euryarchaeota|Halobacteria|Halobacteri...   \n",
       "1      RRL2  Archaea|Euryarchaeota|Halobacteria|Halobacteri...   \n",
       "2      RRL3  Archaea|Euryarchaeota|Halobacteria|Halobacteri...   \n",
       "3      RRL4  Archaea|Euryarchaeota|Halobacteria|Halobacteri...   \n",
       "4      RRL5  Archaea|Euryarchaeota|Halobacteria|Halobacteri...   \n",
       "\n",
       "   relative_abundance sample_id site_id collect_date sample_id        V1  \\\n",
       "0             0.00000      RRL1     RRL    6/25/2021      RRL1  0.753244   \n",
       "1             0.01333      RRL2     RRL    6/25/2021      RRL2  0.708412   \n",
       "2             0.00000      RRL3     RRL    6/25/2021      RRL3  0.778046   \n",
       "3             0.00943      RRL4     RRL    6/25/2021      RRL4  0.720367   \n",
       "4             0.00581      RRL5     RRL    6/25/2021      RRL5  0.572487   \n",
       "\n",
       "         V2   species       PC1       PC2       PC3       PC4       PC5  \n",
       "0  0.246756  exaltata  0.194769  0.048276 -0.023880 -0.017138 -0.039842  \n",
       "1  0.291588  exaltata  0.154924  0.071277  0.000923 -0.025830  0.005592  \n",
       "2  0.221954  exaltata  0.187750  0.035009 -0.016006 -0.012529 -0.011169  \n",
       "3  0.279633  exaltata  0.167167  0.046053 -0.032754 -0.016192 -0.028988  \n",
       "4  0.427513  exaltata  0.099801  0.089800  0.000613 -0.004979  0.017524  "
      ]
     },
     "execution_count": 34,
     "metadata": {},
     "output_type": "execute_result"
    }
   ],
   "source": [
    "full_df.head()"
   ]
  },
  {
   "cell_type": "markdown",
   "id": "3ca3afed",
   "metadata": {},
   "source": [
    "## Clean Data"
   ]
  },
  {
   "cell_type": "code",
   "execution_count": 112,
   "id": "5aac0081",
   "metadata": {},
   "outputs": [
    {
     "data": {
      "text/plain": [
       "(277695, 13)"
      ]
     },
     "execution_count": 112,
     "metadata": {},
     "output_type": "execute_result"
    }
   ],
   "source": [
    "#drop duplicate columns\n",
    "df = full_df\n",
    "df = df.T.drop_duplicates().T\n",
    "df.shape"
   ]
  },
  {
   "cell_type": "code",
   "execution_count": 113,
   "id": "5d60ea4d",
   "metadata": {},
   "outputs": [],
   "source": [
    "subdf = df"
   ]
  },
  {
   "cell_type": "code",
   "execution_count": 130,
   "id": "d55950b9",
   "metadata": {},
   "outputs": [
    {
     "data": {
      "text/plain": [
       "(165, 1683)"
      ]
     },
     "execution_count": 130,
     "metadata": {},
     "output_type": "execute_result"
    }
   ],
   "source": [
    "pivoted_df = subdf.pivot(index=['sample_id', 'site_id', 'species'], columns='genera', values='relative_abundance')\n",
    "pivoted_df.shape"
   ]
  },
  {
   "cell_type": "code",
   "execution_count": 131,
   "id": "4c34d8e0",
   "metadata": {},
   "outputs": [
    {
     "data": {
      "text/html": [
       "<div>\n",
       "<style scoped>\n",
       "    .dataframe tbody tr th:only-of-type {\n",
       "        vertical-align: middle;\n",
       "    }\n",
       "\n",
       "    .dataframe tbody tr th {\n",
       "        vertical-align: top;\n",
       "    }\n",
       "\n",
       "    .dataframe thead th {\n",
       "        text-align: right;\n",
       "    }\n",
       "</style>\n",
       "<table border=\"1\" class=\"dataframe\">\n",
       "  <thead>\n",
       "    <tr style=\"text-align: right;\">\n",
       "      <th></th>\n",
       "      <th></th>\n",
       "      <th>genera</th>\n",
       "      <th>Archaea|Euryarchaeota|Halobacteria|Halobacteriales|Haloarculaceae|Halapricum</th>\n",
       "      <th>Archaea|Euryarchaeota|Halobacteria|Halobacteriales|Halococcaceae|Halococcus</th>\n",
       "      <th>Archaea|Euryarchaeota|Halobacteria|Natrialbales|Natrialbaceae|Natrinema</th>\n",
       "      <th>Archaea|Euryarchaeota|Halobacteria|Natrialbales|Natrialbaceae|Natronococcus</th>\n",
       "      <th>Archaea|Euryarchaeota|Halobacteria|Natrialbales|Natrialbaceae|Saliphagus</th>\n",
       "      <th>Archaea|Euryarchaeota|Methanobacteria|Methanobacteriales|Methanobacteriaceae|Methanobacterium</th>\n",
       "      <th>Archaea|Euryarchaeota|Methanobacteria|Methanobacteriales|Methanobacteriaceae|Methanobrevibacter</th>\n",
       "      <th>Archaea|Euryarchaeota|Thermoplasmata|Methanomassiliicoccales|Methanomassiliicoccaceae|Methanomassiliicoccus</th>\n",
       "      <th>Archaea|Thaumarchaeota|Nitrososphaeria|Nitrososphaerales|Nitrososphaeraceae|Candidatus Nitrosocosmicus</th>\n",
       "      <th>Bacteria|Abditibacteriota|Abditibacteria|Abditibacteriales|Abitibacteriaceae|Abditibacterium</th>\n",
       "      <th>...</th>\n",
       "      <th>Viruses|||Caudovirales|Siphoviridae|Np1virus</th>\n",
       "      <th>Viruses|||Caudovirales|Siphoviridae|Pa6virus</th>\n",
       "      <th>Viruses|||Caudovirales|Siphoviridae|Sextaecvirus</th>\n",
       "      <th>Viruses|||Caudovirales|Siphoviridae|Sk1virus</th>\n",
       "      <th>Viruses|||Herpesvirales|Herpesviridae|Varicellovirus</th>\n",
       "      <th>Viruses||||Baculoviridae|Alphabaculovirus</th>\n",
       "      <th>Viruses||||Baculoviridae|Betabaculovirus</th>\n",
       "      <th>Viruses||||Microviridae|Phix174microvirus</th>\n",
       "      <th>Viruses||||Mimiviridae|Cafeteriavirus</th>\n",
       "      <th>Viruses||||Partitiviridae|Betapartitivirus</th>\n",
       "    </tr>\n",
       "    <tr>\n",
       "      <th>sample_id</th>\n",
       "      <th>site_id</th>\n",
       "      <th>species</th>\n",
       "      <th></th>\n",
       "      <th></th>\n",
       "      <th></th>\n",
       "      <th></th>\n",
       "      <th></th>\n",
       "      <th></th>\n",
       "      <th></th>\n",
       "      <th></th>\n",
       "      <th></th>\n",
       "      <th></th>\n",
       "      <th></th>\n",
       "      <th></th>\n",
       "      <th></th>\n",
       "      <th></th>\n",
       "      <th></th>\n",
       "      <th></th>\n",
       "      <th></th>\n",
       "      <th></th>\n",
       "      <th></th>\n",
       "      <th></th>\n",
       "      <th></th>\n",
       "    </tr>\n",
       "  </thead>\n",
       "  <tbody>\n",
       "    <tr>\n",
       "      <th>CMB10</th>\n",
       "      <th>CMB</th>\n",
       "      <th>syriaca</th>\n",
       "      <td>0.0</td>\n",
       "      <td>0.0765</td>\n",
       "      <td>0.0</td>\n",
       "      <td>0.0</td>\n",
       "      <td>0.00256</td>\n",
       "      <td>0.0</td>\n",
       "      <td>0.0</td>\n",
       "      <td>0.0</td>\n",
       "      <td>0.0</td>\n",
       "      <td>0.0</td>\n",
       "      <td>...</td>\n",
       "      <td>0.0</td>\n",
       "      <td>0.0</td>\n",
       "      <td>0.0</td>\n",
       "      <td>0.0</td>\n",
       "      <td>0.33369</td>\n",
       "      <td>0.0</td>\n",
       "      <td>0.0</td>\n",
       "      <td>0.28122</td>\n",
       "      <td>0.0</td>\n",
       "      <td>0.0</td>\n",
       "    </tr>\n",
       "    <tr>\n",
       "      <th>CMB11</th>\n",
       "      <th>CMB</th>\n",
       "      <th>syriaca</th>\n",
       "      <td>0.0</td>\n",
       "      <td>0.07147</td>\n",
       "      <td>0.0</td>\n",
       "      <td>0.0</td>\n",
       "      <td>0.00267</td>\n",
       "      <td>0.0</td>\n",
       "      <td>0.01641</td>\n",
       "      <td>0.0</td>\n",
       "      <td>0.0</td>\n",
       "      <td>0.0</td>\n",
       "      <td>...</td>\n",
       "      <td>0.0</td>\n",
       "      <td>0.0</td>\n",
       "      <td>0.0</td>\n",
       "      <td>0.0</td>\n",
       "      <td>0.69867</td>\n",
       "      <td>0.0</td>\n",
       "      <td>0.0</td>\n",
       "      <td>0.56396</td>\n",
       "      <td>0.0</td>\n",
       "      <td>0.0</td>\n",
       "    </tr>\n",
       "    <tr>\n",
       "      <th>CMB13</th>\n",
       "      <th>CMB</th>\n",
       "      <th>syriaca</th>\n",
       "      <td>0.0</td>\n",
       "      <td>0.09585</td>\n",
       "      <td>0.0</td>\n",
       "      <td>0.0</td>\n",
       "      <td>0.00428</td>\n",
       "      <td>0.0</td>\n",
       "      <td>0.0</td>\n",
       "      <td>0.0</td>\n",
       "      <td>0.0</td>\n",
       "      <td>0.0</td>\n",
       "      <td>...</td>\n",
       "      <td>0.0</td>\n",
       "      <td>0.0</td>\n",
       "      <td>0.0</td>\n",
       "      <td>0.0</td>\n",
       "      <td>0.0</td>\n",
       "      <td>0.0</td>\n",
       "      <td>0.0</td>\n",
       "      <td>0.0</td>\n",
       "      <td>0.0</td>\n",
       "      <td>0.0</td>\n",
       "    </tr>\n",
       "    <tr>\n",
       "      <th>CMB14</th>\n",
       "      <th>CMB</th>\n",
       "      <th>syriaca</th>\n",
       "      <td>0.0</td>\n",
       "      <td>0.1262</td>\n",
       "      <td>0.0</td>\n",
       "      <td>0.0</td>\n",
       "      <td>0.00329</td>\n",
       "      <td>0.0</td>\n",
       "      <td>0.0136</td>\n",
       "      <td>0.0</td>\n",
       "      <td>0.0</td>\n",
       "      <td>0.0</td>\n",
       "      <td>...</td>\n",
       "      <td>0.0</td>\n",
       "      <td>0.0</td>\n",
       "      <td>0.0</td>\n",
       "      <td>0.0</td>\n",
       "      <td>0.81434</td>\n",
       "      <td>0.0</td>\n",
       "      <td>0.0</td>\n",
       "      <td>0.39777</td>\n",
       "      <td>0.0</td>\n",
       "      <td>0.0</td>\n",
       "    </tr>\n",
       "    <tr>\n",
       "      <th>CMB15</th>\n",
       "      <th>CMB</th>\n",
       "      <th>syriaca</th>\n",
       "      <td>0.02993</td>\n",
       "      <td>0.08792</td>\n",
       "      <td>0.0</td>\n",
       "      <td>0.0</td>\n",
       "      <td>0.0</td>\n",
       "      <td>0.0</td>\n",
       "      <td>0.0</td>\n",
       "      <td>0.0</td>\n",
       "      <td>0.0</td>\n",
       "      <td>0.0</td>\n",
       "      <td>...</td>\n",
       "      <td>0.0</td>\n",
       "      <td>0.0</td>\n",
       "      <td>0.0</td>\n",
       "      <td>0.0</td>\n",
       "      <td>0.5256</td>\n",
       "      <td>0.01059</td>\n",
       "      <td>0.0</td>\n",
       "      <td>0.0</td>\n",
       "      <td>0.0</td>\n",
       "      <td>0.0</td>\n",
       "    </tr>\n",
       "  </tbody>\n",
       "</table>\n",
       "<p>5 rows × 1683 columns</p>\n",
       "</div>"
      ],
      "text/plain": [
       "genera                    Archaea|Euryarchaeota|Halobacteria|Halobacteriales|Haloarculaceae|Halapricum  \\\n",
       "sample_id site_id species                                                                                \n",
       "CMB10     CMB     syriaca                                                0.0                             \n",
       "CMB11     CMB     syriaca                                                0.0                             \n",
       "CMB13     CMB     syriaca                                                0.0                             \n",
       "CMB14     CMB     syriaca                                                0.0                             \n",
       "CMB15     CMB     syriaca                                            0.02993                             \n",
       "\n",
       "genera                    Archaea|Euryarchaeota|Halobacteria|Halobacteriales|Halococcaceae|Halococcus  \\\n",
       "sample_id site_id species                                                                               \n",
       "CMB10     CMB     syriaca                                             0.0765                            \n",
       "CMB11     CMB     syriaca                                            0.07147                            \n",
       "CMB13     CMB     syriaca                                            0.09585                            \n",
       "CMB14     CMB     syriaca                                             0.1262                            \n",
       "CMB15     CMB     syriaca                                            0.08792                            \n",
       "\n",
       "genera                    Archaea|Euryarchaeota|Halobacteria|Natrialbales|Natrialbaceae|Natrinema  \\\n",
       "sample_id site_id species                                                                           \n",
       "CMB10     CMB     syriaca                                                0.0                        \n",
       "CMB11     CMB     syriaca                                                0.0                        \n",
       "CMB13     CMB     syriaca                                                0.0                        \n",
       "CMB14     CMB     syriaca                                                0.0                        \n",
       "CMB15     CMB     syriaca                                                0.0                        \n",
       "\n",
       "genera                    Archaea|Euryarchaeota|Halobacteria|Natrialbales|Natrialbaceae|Natronococcus  \\\n",
       "sample_id site_id species                                                                               \n",
       "CMB10     CMB     syriaca                                                0.0                            \n",
       "CMB11     CMB     syriaca                                                0.0                            \n",
       "CMB13     CMB     syriaca                                                0.0                            \n",
       "CMB14     CMB     syriaca                                                0.0                            \n",
       "CMB15     CMB     syriaca                                                0.0                            \n",
       "\n",
       "genera                    Archaea|Euryarchaeota|Halobacteria|Natrialbales|Natrialbaceae|Saliphagus  \\\n",
       "sample_id site_id species                                                                            \n",
       "CMB10     CMB     syriaca                                            0.00256                         \n",
       "CMB11     CMB     syriaca                                            0.00267                         \n",
       "CMB13     CMB     syriaca                                            0.00428                         \n",
       "CMB14     CMB     syriaca                                            0.00329                         \n",
       "CMB15     CMB     syriaca                                                0.0                         \n",
       "\n",
       "genera                    Archaea|Euryarchaeota|Methanobacteria|Methanobacteriales|Methanobacteriaceae|Methanobacterium  \\\n",
       "sample_id site_id species                                                                                                 \n",
       "CMB10     CMB     syriaca                                                0.0                                              \n",
       "CMB11     CMB     syriaca                                                0.0                                              \n",
       "CMB13     CMB     syriaca                                                0.0                                              \n",
       "CMB14     CMB     syriaca                                                0.0                                              \n",
       "CMB15     CMB     syriaca                                                0.0                                              \n",
       "\n",
       "genera                    Archaea|Euryarchaeota|Methanobacteria|Methanobacteriales|Methanobacteriaceae|Methanobrevibacter  \\\n",
       "sample_id site_id species                                                                                                   \n",
       "CMB10     CMB     syriaca                                                0.0                                                \n",
       "CMB11     CMB     syriaca                                            0.01641                                                \n",
       "CMB13     CMB     syriaca                                                0.0                                                \n",
       "CMB14     CMB     syriaca                                             0.0136                                                \n",
       "CMB15     CMB     syriaca                                                0.0                                                \n",
       "\n",
       "genera                    Archaea|Euryarchaeota|Thermoplasmata|Methanomassiliicoccales|Methanomassiliicoccaceae|Methanomassiliicoccus  \\\n",
       "sample_id site_id species                                                                                                               \n",
       "CMB10     CMB     syriaca                                                0.0                                                            \n",
       "CMB11     CMB     syriaca                                                0.0                                                            \n",
       "CMB13     CMB     syriaca                                                0.0                                                            \n",
       "CMB14     CMB     syriaca                                                0.0                                                            \n",
       "CMB15     CMB     syriaca                                                0.0                                                            \n",
       "\n",
       "genera                    Archaea|Thaumarchaeota|Nitrososphaeria|Nitrososphaerales|Nitrososphaeraceae|Candidatus Nitrosocosmicus  \\\n",
       "sample_id site_id species                                                                                                          \n",
       "CMB10     CMB     syriaca                                                0.0                                                       \n",
       "CMB11     CMB     syriaca                                                0.0                                                       \n",
       "CMB13     CMB     syriaca                                                0.0                                                       \n",
       "CMB14     CMB     syriaca                                                0.0                                                       \n",
       "CMB15     CMB     syriaca                                                0.0                                                       \n",
       "\n",
       "genera                    Bacteria|Abditibacteriota|Abditibacteria|Abditibacteriales|Abitibacteriaceae|Abditibacterium  \\\n",
       "sample_id site_id species                                                                                                \n",
       "CMB10     CMB     syriaca                                                0.0                                             \n",
       "CMB11     CMB     syriaca                                                0.0                                             \n",
       "CMB13     CMB     syriaca                                                0.0                                             \n",
       "CMB14     CMB     syriaca                                                0.0                                             \n",
       "CMB15     CMB     syriaca                                                0.0                                             \n",
       "\n",
       "genera                     ... Viruses|||Caudovirales|Siphoviridae|Np1virus  \\\n",
       "sample_id site_id species  ...                                                \n",
       "CMB10     CMB     syriaca  ...                                          0.0   \n",
       "CMB11     CMB     syriaca  ...                                          0.0   \n",
       "CMB13     CMB     syriaca  ...                                          0.0   \n",
       "CMB14     CMB     syriaca  ...                                          0.0   \n",
       "CMB15     CMB     syriaca  ...                                          0.0   \n",
       "\n",
       "genera                    Viruses|||Caudovirales|Siphoviridae|Pa6virus  \\\n",
       "sample_id site_id species                                                \n",
       "CMB10     CMB     syriaca                                          0.0   \n",
       "CMB11     CMB     syriaca                                          0.0   \n",
       "CMB13     CMB     syriaca                                          0.0   \n",
       "CMB14     CMB     syriaca                                          0.0   \n",
       "CMB15     CMB     syriaca                                          0.0   \n",
       "\n",
       "genera                    Viruses|||Caudovirales|Siphoviridae|Sextaecvirus  \\\n",
       "sample_id site_id species                                                    \n",
       "CMB10     CMB     syriaca                                              0.0   \n",
       "CMB11     CMB     syriaca                                              0.0   \n",
       "CMB13     CMB     syriaca                                              0.0   \n",
       "CMB14     CMB     syriaca                                              0.0   \n",
       "CMB15     CMB     syriaca                                              0.0   \n",
       "\n",
       "genera                    Viruses|||Caudovirales|Siphoviridae|Sk1virus  \\\n",
       "sample_id site_id species                                                \n",
       "CMB10     CMB     syriaca                                          0.0   \n",
       "CMB11     CMB     syriaca                                          0.0   \n",
       "CMB13     CMB     syriaca                                          0.0   \n",
       "CMB14     CMB     syriaca                                          0.0   \n",
       "CMB15     CMB     syriaca                                          0.0   \n",
       "\n",
       "genera                    Viruses|||Herpesvirales|Herpesviridae|Varicellovirus  \\\n",
       "sample_id site_id species                                                        \n",
       "CMB10     CMB     syriaca                                            0.33369     \n",
       "CMB11     CMB     syriaca                                            0.69867     \n",
       "CMB13     CMB     syriaca                                                0.0     \n",
       "CMB14     CMB     syriaca                                            0.81434     \n",
       "CMB15     CMB     syriaca                                             0.5256     \n",
       "\n",
       "genera                    Viruses||||Baculoviridae|Alphabaculovirus  \\\n",
       "sample_id site_id species                                             \n",
       "CMB10     CMB     syriaca                                       0.0   \n",
       "CMB11     CMB     syriaca                                       0.0   \n",
       "CMB13     CMB     syriaca                                       0.0   \n",
       "CMB14     CMB     syriaca                                       0.0   \n",
       "CMB15     CMB     syriaca                                   0.01059   \n",
       "\n",
       "genera                    Viruses||||Baculoviridae|Betabaculovirus  \\\n",
       "sample_id site_id species                                            \n",
       "CMB10     CMB     syriaca                                      0.0   \n",
       "CMB11     CMB     syriaca                                      0.0   \n",
       "CMB13     CMB     syriaca                                      0.0   \n",
       "CMB14     CMB     syriaca                                      0.0   \n",
       "CMB15     CMB     syriaca                                      0.0   \n",
       "\n",
       "genera                    Viruses||||Microviridae|Phix174microvirus  \\\n",
       "sample_id site_id species                                             \n",
       "CMB10     CMB     syriaca                                   0.28122   \n",
       "CMB11     CMB     syriaca                                   0.56396   \n",
       "CMB13     CMB     syriaca                                       0.0   \n",
       "CMB14     CMB     syriaca                                   0.39777   \n",
       "CMB15     CMB     syriaca                                       0.0   \n",
       "\n",
       "genera                    Viruses||||Mimiviridae|Cafeteriavirus  \\\n",
       "sample_id site_id species                                         \n",
       "CMB10     CMB     syriaca                                   0.0   \n",
       "CMB11     CMB     syriaca                                   0.0   \n",
       "CMB13     CMB     syriaca                                   0.0   \n",
       "CMB14     CMB     syriaca                                   0.0   \n",
       "CMB15     CMB     syriaca                                   0.0   \n",
       "\n",
       "genera                    Viruses||||Partitiviridae|Betapartitivirus  \n",
       "sample_id site_id species                                             \n",
       "CMB10     CMB     syriaca                                        0.0  \n",
       "CMB11     CMB     syriaca                                        0.0  \n",
       "CMB13     CMB     syriaca                                        0.0  \n",
       "CMB14     CMB     syriaca                                        0.0  \n",
       "CMB15     CMB     syriaca                                        0.0  \n",
       "\n",
       "[5 rows x 1683 columns]"
      ]
     },
     "execution_count": 131,
     "metadata": {},
     "output_type": "execute_result"
    }
   ],
   "source": [
    "pivoted_df.head()"
   ]
  },
  {
   "cell_type": "code",
   "execution_count": 132,
   "id": "e0b5190d",
   "metadata": {},
   "outputs": [],
   "source": [
    "row_sum = pivoted_df.sum(axis=1)"
   ]
  },
  {
   "cell_type": "code",
   "execution_count": 133,
   "id": "b9d5b1bf",
   "metadata": {},
   "outputs": [],
   "source": [
    "pivoted_df = pivoted_df.reset_index()"
   ]
  },
  {
   "cell_type": "markdown",
   "id": "5e8853f4",
   "metadata": {},
   "source": [
    "### Create Dataset with Values summing to 1 for each row"
   ]
  },
  {
   "cell_type": "code",
   "execution_count": 134,
   "id": "a85fdb57",
   "metadata": {},
   "outputs": [],
   "source": [
    "genera_col = pivoted_df.columns\n",
    "genera_col = genera_col.drop(['sample_id','site_id', 'species'])"
   ]
  },
  {
   "cell_type": "code",
   "execution_count": 135,
   "id": "2977175b",
   "metadata": {},
   "outputs": [],
   "source": [
    "sub_pivot = pivoted_df[genera_col].astype(float)"
   ]
  },
  {
   "cell_type": "code",
   "execution_count": 136,
   "id": "7f906c72",
   "metadata": {},
   "outputs": [],
   "source": [
    "for row in range(sub_pivot.shape[0]):\n",
    "    sub_pivot.loc[row] = sub_pivot.loc[row]/row_sum[row]"
   ]
  },
  {
   "cell_type": "code",
   "execution_count": 137,
   "id": "1d121b3a",
   "metadata": {},
   "outputs": [
    {
     "data": {
      "text/plain": [
       "0      1.0\n",
       "1      1.0\n",
       "2      1.0\n",
       "3      1.0\n",
       "4      1.0\n",
       "      ... \n",
       "160    1.0\n",
       "161    1.0\n",
       "162    1.0\n",
       "163    1.0\n",
       "164    1.0\n",
       "Length: 165, dtype: float64"
      ]
     },
     "execution_count": 137,
     "metadata": {},
     "output_type": "execute_result"
    }
   ],
   "source": [
    "new_sum = sub_pivot.sum(axis=1)\n",
    "new_sum"
   ]
  },
  {
   "cell_type": "code",
   "execution_count": 138,
   "id": "cb69df3b",
   "metadata": {},
   "outputs": [],
   "source": [
    "pivoted_df[genera_col] = sub_pivot"
   ]
  },
  {
   "cell_type": "code",
   "execution_count": 139,
   "id": "b113ea9a",
   "metadata": {},
   "outputs": [
    {
     "data": {
      "text/html": [
       "<div>\n",
       "<style scoped>\n",
       "    .dataframe tbody tr th:only-of-type {\n",
       "        vertical-align: middle;\n",
       "    }\n",
       "\n",
       "    .dataframe tbody tr th {\n",
       "        vertical-align: top;\n",
       "    }\n",
       "\n",
       "    .dataframe thead th {\n",
       "        text-align: right;\n",
       "    }\n",
       "</style>\n",
       "<table border=\"1\" class=\"dataframe\">\n",
       "  <thead>\n",
       "    <tr style=\"text-align: right;\">\n",
       "      <th>genera</th>\n",
       "      <th>sample_id</th>\n",
       "      <th>site_id</th>\n",
       "      <th>species</th>\n",
       "      <th>Archaea|Euryarchaeota|Halobacteria|Halobacteriales|Haloarculaceae|Halapricum</th>\n",
       "      <th>Archaea|Euryarchaeota|Halobacteria|Halobacteriales|Halococcaceae|Halococcus</th>\n",
       "      <th>Archaea|Euryarchaeota|Halobacteria|Natrialbales|Natrialbaceae|Natrinema</th>\n",
       "      <th>Archaea|Euryarchaeota|Halobacteria|Natrialbales|Natrialbaceae|Natronococcus</th>\n",
       "      <th>Archaea|Euryarchaeota|Halobacteria|Natrialbales|Natrialbaceae|Saliphagus</th>\n",
       "      <th>Archaea|Euryarchaeota|Methanobacteria|Methanobacteriales|Methanobacteriaceae|Methanobacterium</th>\n",
       "      <th>Archaea|Euryarchaeota|Methanobacteria|Methanobacteriales|Methanobacteriaceae|Methanobrevibacter</th>\n",
       "      <th>...</th>\n",
       "      <th>Viruses|||Caudovirales|Siphoviridae|Np1virus</th>\n",
       "      <th>Viruses|||Caudovirales|Siphoviridae|Pa6virus</th>\n",
       "      <th>Viruses|||Caudovirales|Siphoviridae|Sextaecvirus</th>\n",
       "      <th>Viruses|||Caudovirales|Siphoviridae|Sk1virus</th>\n",
       "      <th>Viruses|||Herpesvirales|Herpesviridae|Varicellovirus</th>\n",
       "      <th>Viruses||||Baculoviridae|Alphabaculovirus</th>\n",
       "      <th>Viruses||||Baculoviridae|Betabaculovirus</th>\n",
       "      <th>Viruses||||Microviridae|Phix174microvirus</th>\n",
       "      <th>Viruses||||Mimiviridae|Cafeteriavirus</th>\n",
       "      <th>Viruses||||Partitiviridae|Betapartitivirus</th>\n",
       "    </tr>\n",
       "  </thead>\n",
       "  <tbody>\n",
       "    <tr>\n",
       "      <th>0</th>\n",
       "      <td>CMB10</td>\n",
       "      <td>CMB</td>\n",
       "      <td>syriaca</td>\n",
       "      <td>0.000000</td>\n",
       "      <td>0.002321</td>\n",
       "      <td>0.0</td>\n",
       "      <td>0.0</td>\n",
       "      <td>0.000078</td>\n",
       "      <td>0.0</td>\n",
       "      <td>0.000000</td>\n",
       "      <td>...</td>\n",
       "      <td>0.0</td>\n",
       "      <td>0.0</td>\n",
       "      <td>0.0</td>\n",
       "      <td>0.0</td>\n",
       "      <td>0.010126</td>\n",
       "      <td>0.000000</td>\n",
       "      <td>0.0</td>\n",
       "      <td>0.008534</td>\n",
       "      <td>0.0</td>\n",
       "      <td>0.0</td>\n",
       "    </tr>\n",
       "    <tr>\n",
       "      <th>1</th>\n",
       "      <td>CMB11</td>\n",
       "      <td>CMB</td>\n",
       "      <td>syriaca</td>\n",
       "      <td>0.000000</td>\n",
       "      <td>0.002065</td>\n",
       "      <td>0.0</td>\n",
       "      <td>0.0</td>\n",
       "      <td>0.000077</td>\n",
       "      <td>0.0</td>\n",
       "      <td>0.000474</td>\n",
       "      <td>...</td>\n",
       "      <td>0.0</td>\n",
       "      <td>0.0</td>\n",
       "      <td>0.0</td>\n",
       "      <td>0.0</td>\n",
       "      <td>0.020183</td>\n",
       "      <td>0.000000</td>\n",
       "      <td>0.0</td>\n",
       "      <td>0.016292</td>\n",
       "      <td>0.0</td>\n",
       "      <td>0.0</td>\n",
       "    </tr>\n",
       "    <tr>\n",
       "      <th>2</th>\n",
       "      <td>CMB13</td>\n",
       "      <td>CMB</td>\n",
       "      <td>syriaca</td>\n",
       "      <td>0.000000</td>\n",
       "      <td>0.003318</td>\n",
       "      <td>0.0</td>\n",
       "      <td>0.0</td>\n",
       "      <td>0.000148</td>\n",
       "      <td>0.0</td>\n",
       "      <td>0.000000</td>\n",
       "      <td>...</td>\n",
       "      <td>0.0</td>\n",
       "      <td>0.0</td>\n",
       "      <td>0.0</td>\n",
       "      <td>0.0</td>\n",
       "      <td>0.000000</td>\n",
       "      <td>0.000000</td>\n",
       "      <td>0.0</td>\n",
       "      <td>0.000000</td>\n",
       "      <td>0.0</td>\n",
       "      <td>0.0</td>\n",
       "    </tr>\n",
       "    <tr>\n",
       "      <th>3</th>\n",
       "      <td>CMB14</td>\n",
       "      <td>CMB</td>\n",
       "      <td>syriaca</td>\n",
       "      <td>0.000000</td>\n",
       "      <td>0.004577</td>\n",
       "      <td>0.0</td>\n",
       "      <td>0.0</td>\n",
       "      <td>0.000119</td>\n",
       "      <td>0.0</td>\n",
       "      <td>0.000493</td>\n",
       "      <td>...</td>\n",
       "      <td>0.0</td>\n",
       "      <td>0.0</td>\n",
       "      <td>0.0</td>\n",
       "      <td>0.0</td>\n",
       "      <td>0.029538</td>\n",
       "      <td>0.000000</td>\n",
       "      <td>0.0</td>\n",
       "      <td>0.014428</td>\n",
       "      <td>0.0</td>\n",
       "      <td>0.0</td>\n",
       "    </tr>\n",
       "    <tr>\n",
       "      <th>4</th>\n",
       "      <td>CMB15</td>\n",
       "      <td>CMB</td>\n",
       "      <td>syriaca</td>\n",
       "      <td>0.000963</td>\n",
       "      <td>0.002829</td>\n",
       "      <td>0.0</td>\n",
       "      <td>0.0</td>\n",
       "      <td>0.000000</td>\n",
       "      <td>0.0</td>\n",
       "      <td>0.000000</td>\n",
       "      <td>...</td>\n",
       "      <td>0.0</td>\n",
       "      <td>0.0</td>\n",
       "      <td>0.0</td>\n",
       "      <td>0.0</td>\n",
       "      <td>0.016913</td>\n",
       "      <td>0.000341</td>\n",
       "      <td>0.0</td>\n",
       "      <td>0.000000</td>\n",
       "      <td>0.0</td>\n",
       "      <td>0.0</td>\n",
       "    </tr>\n",
       "  </tbody>\n",
       "</table>\n",
       "<p>5 rows × 1686 columns</p>\n",
       "</div>"
      ],
      "text/plain": [
       "genera sample_id site_id  species  \\\n",
       "0          CMB10     CMB  syriaca   \n",
       "1          CMB11     CMB  syriaca   \n",
       "2          CMB13     CMB  syriaca   \n",
       "3          CMB14     CMB  syriaca   \n",
       "4          CMB15     CMB  syriaca   \n",
       "\n",
       "genera  Archaea|Euryarchaeota|Halobacteria|Halobacteriales|Haloarculaceae|Halapricum  \\\n",
       "0                                                0.000000                              \n",
       "1                                                0.000000                              \n",
       "2                                                0.000000                              \n",
       "3                                                0.000000                              \n",
       "4                                                0.000963                              \n",
       "\n",
       "genera  Archaea|Euryarchaeota|Halobacteria|Halobacteriales|Halococcaceae|Halococcus  \\\n",
       "0                                                0.002321                             \n",
       "1                                                0.002065                             \n",
       "2                                                0.003318                             \n",
       "3                                                0.004577                             \n",
       "4                                                0.002829                             \n",
       "\n",
       "genera  Archaea|Euryarchaeota|Halobacteria|Natrialbales|Natrialbaceae|Natrinema  \\\n",
       "0                                                     0.0                         \n",
       "1                                                     0.0                         \n",
       "2                                                     0.0                         \n",
       "3                                                     0.0                         \n",
       "4                                                     0.0                         \n",
       "\n",
       "genera  Archaea|Euryarchaeota|Halobacteria|Natrialbales|Natrialbaceae|Natronococcus  \\\n",
       "0                                                     0.0                             \n",
       "1                                                     0.0                             \n",
       "2                                                     0.0                             \n",
       "3                                                     0.0                             \n",
       "4                                                     0.0                             \n",
       "\n",
       "genera  Archaea|Euryarchaeota|Halobacteria|Natrialbales|Natrialbaceae|Saliphagus  \\\n",
       "0                                                0.000078                          \n",
       "1                                                0.000077                          \n",
       "2                                                0.000148                          \n",
       "3                                                0.000119                          \n",
       "4                                                0.000000                          \n",
       "\n",
       "genera  Archaea|Euryarchaeota|Methanobacteria|Methanobacteriales|Methanobacteriaceae|Methanobacterium  \\\n",
       "0                                                     0.0                                               \n",
       "1                                                     0.0                                               \n",
       "2                                                     0.0                                               \n",
       "3                                                     0.0                                               \n",
       "4                                                     0.0                                               \n",
       "\n",
       "genera  Archaea|Euryarchaeota|Methanobacteria|Methanobacteriales|Methanobacteriaceae|Methanobrevibacter  \\\n",
       "0                                                0.000000                                                 \n",
       "1                                                0.000474                                                 \n",
       "2                                                0.000000                                                 \n",
       "3                                                0.000493                                                 \n",
       "4                                                0.000000                                                 \n",
       "\n",
       "genera  ...  Viruses|||Caudovirales|Siphoviridae|Np1virus  \\\n",
       "0       ...                                           0.0   \n",
       "1       ...                                           0.0   \n",
       "2       ...                                           0.0   \n",
       "3       ...                                           0.0   \n",
       "4       ...                                           0.0   \n",
       "\n",
       "genera  Viruses|||Caudovirales|Siphoviridae|Pa6virus  \\\n",
       "0                                                0.0   \n",
       "1                                                0.0   \n",
       "2                                                0.0   \n",
       "3                                                0.0   \n",
       "4                                                0.0   \n",
       "\n",
       "genera  Viruses|||Caudovirales|Siphoviridae|Sextaecvirus  \\\n",
       "0                                                    0.0   \n",
       "1                                                    0.0   \n",
       "2                                                    0.0   \n",
       "3                                                    0.0   \n",
       "4                                                    0.0   \n",
       "\n",
       "genera  Viruses|||Caudovirales|Siphoviridae|Sk1virus  \\\n",
       "0                                                0.0   \n",
       "1                                                0.0   \n",
       "2                                                0.0   \n",
       "3                                                0.0   \n",
       "4                                                0.0   \n",
       "\n",
       "genera  Viruses|||Herpesvirales|Herpesviridae|Varicellovirus  \\\n",
       "0                                                0.010126      \n",
       "1                                                0.020183      \n",
       "2                                                0.000000      \n",
       "3                                                0.029538      \n",
       "4                                                0.016913      \n",
       "\n",
       "genera  Viruses||||Baculoviridae|Alphabaculovirus  \\\n",
       "0                                        0.000000   \n",
       "1                                        0.000000   \n",
       "2                                        0.000000   \n",
       "3                                        0.000000   \n",
       "4                                        0.000341   \n",
       "\n",
       "genera  Viruses||||Baculoviridae|Betabaculovirus  \\\n",
       "0                                            0.0   \n",
       "1                                            0.0   \n",
       "2                                            0.0   \n",
       "3                                            0.0   \n",
       "4                                            0.0   \n",
       "\n",
       "genera  Viruses||||Microviridae|Phix174microvirus  \\\n",
       "0                                        0.008534   \n",
       "1                                        0.016292   \n",
       "2                                        0.000000   \n",
       "3                                        0.014428   \n",
       "4                                        0.000000   \n",
       "\n",
       "genera  Viruses||||Mimiviridae|Cafeteriavirus  \\\n",
       "0                                         0.0   \n",
       "1                                         0.0   \n",
       "2                                         0.0   \n",
       "3                                         0.0   \n",
       "4                                         0.0   \n",
       "\n",
       "genera  Viruses||||Partitiviridae|Betapartitivirus  \n",
       "0                                              0.0  \n",
       "1                                              0.0  \n",
       "2                                              0.0  \n",
       "3                                              0.0  \n",
       "4                                              0.0  \n",
       "\n",
       "[5 rows x 1686 columns]"
      ]
     },
     "execution_count": 139,
     "metadata": {},
     "output_type": "execute_result"
    }
   ],
   "source": [
    "pivoted_df.head()"
   ]
  },
  {
   "cell_type": "code",
   "execution_count": 140,
   "id": "d5bfb37a",
   "metadata": {},
   "outputs": [
    {
     "name": "stdout",
     "output_type": "stream",
     "text": [
      "0      1.0\n",
      "1      1.0\n",
      "2      1.0\n",
      "3      1.0\n",
      "4      1.0\n",
      "      ... \n",
      "160    1.0\n",
      "161    1.0\n",
      "162    1.0\n",
      "163    1.0\n",
      "164    1.0\n",
      "Length: 165, dtype: float64\n"
     ]
    }
   ],
   "source": [
    "row_sum = pivoted_df[genera_col].sum(axis=1)\n",
    "print(row_sum)"
   ]
  },
  {
   "cell_type": "markdown",
   "id": "55e51668",
   "metadata": {},
   "source": [
    "### Without further modification PCA by Site"
   ]
  },
  {
   "cell_type": "code",
   "execution_count": 141,
   "id": "0ef985c9",
   "metadata": {},
   "outputs": [
    {
     "data": {
      "application/vnd.plotly.v1+json": {
       "config": {
        "plotlyServerURL": "https://plot.ly"
       },
       "data": [
        {
         "hovertemplate": "color=CMB<br>0=%{x}<br>1=%{y}<extra></extra>",
         "legendgroup": "CMB",
         "marker": {
          "color": "#636efa",
          "symbol": "circle"
         },
         "mode": "markers",
         "name": "CMB",
         "orientation": "v",
         "showlegend": true,
         "type": "scatter",
         "x": [
          0.08078289119362747,
          0.058632432308815596,
          0.0718211796022516,
          0.04030440407869071,
          -0.10066180403097771,
          -0.026726905967440658,
          -0.054349690245439224,
          0.025111395351155454,
          -0.07784085030145733,
          -0.13202446566566992,
          0.08450385135882135,
          -0.0694536927641184,
          0.0692851508249368,
          0.03877709751641736,
          0.016423614096292397,
          -0.004234347363871771,
          0.11611702901742849,
          0.04175340487413363,
          0.13339181562127256,
          -0.038145753658802885
         ],
         "xaxis": "x",
         "y": [
          0.018696658534326307,
          0.011900753870640001,
          0.022186800101967597,
          -0.002405521508502567,
          0.1686491400256772,
          -0.01706691043422888,
          0.16256126691593653,
          0.03738061910459245,
          0.08366245694009397,
          0.11915267790766851,
          0.02651883155204821,
          -0.01863663922920079,
          -0.010530133477612303,
          0.02755151106866076,
          0.05542888547880731,
          -0.012489334591997034,
          0.038320107585214674,
          0.003677431009724727,
          0.019419775412621455,
          0.03471761602958755
         ],
         "yaxis": "y"
        },
        {
         "hovertemplate": "color=FRW<br>0=%{x}<br>1=%{y}<extra></extra>",
         "legendgroup": "FRW",
         "marker": {
          "color": "#EF553B",
          "symbol": "circle"
         },
         "mode": "markers",
         "name": "FRW",
         "orientation": "v",
         "showlegend": true,
         "type": "scatter",
         "x": [
          -0.03730464579273844,
          -0.01049875445208872,
          -0.007420064788636012,
          0.04151553403018011,
          0.05436119709021496,
          -0.053093353664427974,
          0.06044800888410399,
          -0.04190584373181345,
          -0.007739827585858961,
          0.05832558263723691,
          -0.02594019383659079
         ],
         "xaxis": "x",
         "y": [
          -0.052817664315156894,
          -0.03829127117919058,
          -0.021569756733919507,
          -0.021826619081081404,
          -0.010172409205527307,
          -0.0028850042415819277,
          -0.0006980414109896094,
          -0.04194118384514417,
          -0.03626928561197083,
          -0.001175071475849041,
          -0.044732299932948395
         ],
         "yaxis": "y"
        },
        {
         "hovertemplate": "color=HR<br>0=%{x}<br>1=%{y}<extra></extra>",
         "legendgroup": "HR",
         "marker": {
          "color": "#00cc96",
          "symbol": "circle"
         },
         "mode": "markers",
         "name": "HR",
         "orientation": "v",
         "showlegend": true,
         "type": "scatter",
         "x": [
          0.03984373277630222,
          0.0620989188749749,
          0.048431551666689686,
          0.03056163567628432,
          0.0548638736235923,
          -0.04832265088878468
         ],
         "xaxis": "x",
         "y": [
          -0.01724741080959436,
          -1.310096578636077e-05,
          -0.00394571443381198,
          0.006850534007105651,
          0.0001473648249121592,
          -0.004589658413967233
         ],
         "yaxis": "y"
        },
        {
         "hovertemplate": "color=LFS<br>0=%{x}<br>1=%{y}<extra></extra>",
         "legendgroup": "LFS",
         "marker": {
          "color": "#ab63fa",
          "symbol": "circle"
         },
         "mode": "markers",
         "name": "LFS",
         "orientation": "v",
         "showlegend": true,
         "type": "scatter",
         "x": [
          0.04395650925445163,
          0.001667644463638006,
          -0.021466528403732844,
          0.06995153368436621,
          -0.027936911291307834,
          -0.04241416453227112,
          0.08813446614370121,
          -0.005782062221304101,
          0.08288196915031634,
          -0.035769688702958685,
          -0.028522952423683984,
          -0.005225103806790536,
          0.046825646665129936,
          -0.031062958342514067
         ],
         "xaxis": "x",
         "y": [
          -0.006282697253609457,
          0.038506928079788456,
          0.027260582505546832,
          0.016761622698297864,
          0.05070758142387299,
          0.13298645653883095,
          0.04056858457801613,
          -0.032971286414121,
          0.020021427150357974,
          0.015634085434172433,
          0.001175193795874207,
          0.02178550418872594,
          0.018092040161177735,
          0.06457561614009731
         ],
         "yaxis": "y"
        },
        {
         "hovertemplate": "color=LM<br>0=%{x}<br>1=%{y}<extra></extra>",
         "legendgroup": "LM",
         "marker": {
          "color": "#FFA15A",
          "symbol": "circle"
         },
         "mode": "markers",
         "name": "LM",
         "orientation": "v",
         "showlegend": true,
         "type": "scatter",
         "x": [
          0.006502723904471916,
          0.0149221657008182,
          -0.04276597064626043,
          0.011995850498713545,
          -0.01537718874120557,
          -0.014477561036912907,
          -0.007958378195458181,
          -0.041763608505933345,
          -0.007771017956043771,
          -0.08398903046821755,
          -0.006656189359716126,
          -0.059222075584817464,
          -0.008753579835781762,
          -0.0212195622377798,
          -0.022913252825219547,
          -0.003430742321225723,
          0.012817772812413737,
          -0.03300108307070397,
          0.017782142731061823,
          0.03951269045867985
         ],
         "xaxis": "x",
         "y": [
          -0.03156290467220784,
          -0.03012601498908211,
          -0.012264011385327851,
          0.00467734364134629,
          0.004243864520966053,
          0.017098772034042756,
          0.026438717080446542,
          -0.033491814850307465,
          -0.02012539572347096,
          -0.03575541527291417,
          -0.036446432116243745,
          -0.023636456429196373,
          -0.03717864219957069,
          -0.004850752636441831,
          -0.014150199652992546,
          0.02760389635145942,
          0.002804926518342612,
          -0.04957259896840258,
          -0.03057061008995405,
          0.008678265745270895
         ],
         "yaxis": "y"
        },
        {
         "hovertemplate": "color=MKP<br>0=%{x}<br>1=%{y}<extra></extra>",
         "legendgroup": "MKP",
         "marker": {
          "color": "#19d3f3",
          "symbol": "circle"
         },
         "mode": "markers",
         "name": "MKP",
         "orientation": "v",
         "showlegend": true,
         "type": "scatter",
         "x": [
          -0.01905059174211327,
          0.02343785982558989,
          -0.08177710233625092,
          0.04822069402073294,
          0.014901114898362895,
          -0.024023114682112816,
          0.042713664051502676,
          -0.0951030190976082
         ],
         "xaxis": "x",
         "y": [
          -0.0047076930781046996,
          0.03593355746440958,
          0.03393885585706529,
          0.021722301852738667,
          0.0019745185382927417,
          0.039464442262304146,
          0.00398016479273203,
          0.005601727914152096
         ],
         "yaxis": "y"
        },
        {
         "hovertemplate": "color=MMP<br>0=%{x}<br>1=%{y}<extra></extra>",
         "legendgroup": "MMP",
         "marker": {
          "color": "#FF6692",
          "symbol": "circle"
         },
         "mode": "markers",
         "name": "MMP",
         "orientation": "v",
         "showlegend": true,
         "type": "scatter",
         "x": [
          -0.0437154118669285,
          -0.009551589674469039,
          0.03457732960173307,
          -0.030186254015987457,
          0.03376523347435684,
          -0.019243101065040503,
          -0.06342710134463532,
          -0.06460652068011993,
          -0.04833772080761323,
          0.039284254546082704,
          -0.10978013523269685,
          0.11162668157298196,
          -0.031593253343012086,
          -0.018192433615289393,
          -0.006674190677128373,
          0.034205233788717065,
          -0.002458906520754606,
          -0.02866789744611541,
          0.030361307687709886
         ],
         "xaxis": "x",
         "y": [
          -0.05919620905449104,
          -0.024303024138725662,
          0.014124218038663655,
          -0.037531665847018024,
          -0.0087722615351136,
          -0.031084358958604792,
          -0.03322282007721288,
          -0.03650682223637078,
          0.04658921003084123,
          0.04028533380780808,
          -0.03013032207143005,
          0.009112410670807388,
          0.00794170293066627,
          -0.05234297878197868,
          -0.029605150089865515,
          0.0378766371464755,
          -0.03457905969987487,
          -0.036813033172060944,
          -0.016396497709091868
         ],
         "yaxis": "y"
        },
        {
         "hovertemplate": "color=PNR<br>0=%{x}<br>1=%{y}<extra></extra>",
         "legendgroup": "PNR",
         "marker": {
          "color": "#B6E880",
          "symbol": "circle"
         },
         "mode": "markers",
         "name": "PNR",
         "orientation": "v",
         "showlegend": true,
         "type": "scatter",
         "x": [
          0.0016294571013684325,
          -0.059903297356358035,
          -0.06291648645054256
         ],
         "xaxis": "x",
         "y": [
          -0.020637063340646147,
          0.01865337873022753,
          -0.019851513699561927
         ],
         "yaxis": "y"
        },
        {
         "hovertemplate": "color=PTW<br>0=%{x}<br>1=%{y}<extra></extra>",
         "legendgroup": "PTW",
         "marker": {
          "color": "#FF97FF",
          "symbol": "circle"
         },
         "mode": "markers",
         "name": "PTW",
         "orientation": "v",
         "showlegend": true,
         "type": "scatter",
         "x": [
          0.0703664817839247,
          -0.049352862367030965,
          0.02439866600864574,
          -0.05921883380021436,
          -0.0008620331362176378,
          -0.08221080277654128,
          -0.03842062432182838,
          -0.0025420795802102115,
          0.0381579920779471,
          -0.0019596789406162688
         ],
         "xaxis": "x",
         "y": [
          0.01827057715215864,
          -0.0028975509512531228,
          0.0189632718682121,
          0.021453726451812646,
          0.02481263755216719,
          0.020809596210663237,
          0.019887010309538156,
          0.030304132729739336,
          0.021863305689951366,
          0.01883862782903659
         ],
         "yaxis": "y"
        },
        {
         "hovertemplate": "color=RF<br>0=%{x}<br>1=%{y}<extra></extra>",
         "legendgroup": "RF",
         "marker": {
          "color": "#FECB52",
          "symbol": "circle"
         },
         "mode": "markers",
         "name": "RF",
         "orientation": "v",
         "showlegend": true,
         "type": "scatter",
         "x": [
          -0.030649509175614365,
          0.1014825319011256,
          0.014469610361393562,
          -0.04466024095992758,
          -0.014442302866897936,
          -0.04465954284669073,
          0.024144108579261962,
          0.050171797531030043,
          0.05081151320729345,
          0.058820841960421005,
          -0.071697700688345
         ],
         "xaxis": "x",
         "y": [
          -0.019046679454198752,
          0.0021785388870056276,
          0.01373928246052058,
          0.006049998559471005,
          0.006120147302190009,
          -0.04477531367310882,
          -0.015345756105767121,
          0.00012866070010457892,
          0.031115825246787708,
          0.019432901704902594,
          -0.01317086924278251
         ],
         "yaxis": "y"
        },
        {
         "hovertemplate": "color=RGT<br>0=%{x}<br>1=%{y}<extra></extra>",
         "legendgroup": "RGT",
         "marker": {
          "color": "#636efa",
          "symbol": "circle"
         },
         "mode": "markers",
         "name": "RGT",
         "orientation": "v",
         "showlegend": true,
         "type": "scatter",
         "x": [
          -0.052009428987301515,
          -0.03977796522301152,
          -0.03516506274236824,
          0.011379514483427167,
          0.03627594020527472,
          -0.007458675484963194,
          0.03815803998167168
         ],
         "xaxis": "x",
         "y": [
          -0.04337925954632941,
          -0.02881611925418918,
          -0.006262959500962593,
          -0.03610446593173583,
          -0.017175158247314838,
          -0.03922994875970538,
          -0.018521924359593333
         ],
         "yaxis": "y"
        },
        {
         "hovertemplate": "color=RRL<br>0=%{x}<br>1=%{y}<extra></extra>",
         "legendgroup": "RRL",
         "marker": {
          "color": "#EF553B",
          "symbol": "circle"
         },
         "mode": "markers",
         "name": "RRL",
         "orientation": "v",
         "showlegend": true,
         "type": "scatter",
         "x": [
          0.009394945654102522,
          0.04433894420511114,
          0.051330395194275936,
          -0.0018804550244123093,
          0.06372641302759664,
          0.02653964940776527,
          0.017738933875250083,
          0.024704582809551213,
          0.08838682019148072,
          -0.04362789805217902,
          0.00475112255557545,
          -0.026236675072412466,
          0.06742241892855912,
          0.0810155211881347,
          0.040754284891362,
          0.015627548035517393,
          0.015375411126332346,
          -0.031018313085680482,
          -0.0955072105829648
         ],
         "xaxis": "x",
         "y": [
          -0.01917699045784848,
          -0.013984420577912769,
          -0.0030819832411838094,
          0.0007361848776833555,
          -0.011767690855798528,
          -0.0024724020776468302,
          -0.035486267178739504,
          -0.01317611913069494,
          -0.01073561559136961,
          -0.04039000641716863,
          -0.026033332722582885,
          -0.02427988565061587,
          -0.005162124140610347,
          0.0008989827008179863,
          -0.023994147730498284,
          -0.030521542466050187,
          0.003301958050867505,
          -0.03968578579224904,
          -0.008160563346630217
         ],
         "yaxis": "y"
        },
        {
         "hovertemplate": "color=SLG<br>0=%{x}<br>1=%{y}<extra></extra>",
         "legendgroup": "SLG",
         "marker": {
          "color": "#00cc96",
          "symbol": "circle"
         },
         "mode": "markers",
         "name": "SLG",
         "orientation": "v",
         "showlegend": true,
         "type": "scatter",
         "x": [
          0.011709824222870296,
          -0.031872221077959464,
          -0.024623502048394,
          -0.03128508354366927,
          -0.0038135502208133817,
          -0.04656389748927359,
          -0.026564107704113774,
          -0.0270308150185873,
          0.04160533702959272,
          0.005249644587102847,
          0.03658844357284814,
          -0.019958134988743267,
          -0.06841176895569681,
          -0.014193010004465855,
          0.015469360697764535,
          -0.026122295595446255,
          -0.04324802085660809
         ],
         "xaxis": "x",
         "y": [
          -0.01108417432984214,
          -0.007393135776177796,
          -0.0040987539690973225,
          -0.0367095120617059,
          -0.0149612630029905,
          -0.026723830437265818,
          0.06585271398433137,
          -0.02116003314054395,
          -0.0037003775518334087,
          -0.0317459183986385,
          0.008143652181644607,
          0.007780581545308001,
          -0.030261223513534337,
          -0.015651711855274454,
          -0.013581953807163719,
          0.01811544179552368,
          -0.028564547493180912
         ],
         "yaxis": "y"
        }
       ],
       "layout": {
        "legend": {
         "title": {
          "text": "color"
         },
         "tracegroupgap": 0
        },
        "margin": {
         "t": 60
        },
        "template": {
         "data": {
          "bar": [
           {
            "error_x": {
             "color": "#2a3f5f"
            },
            "error_y": {
             "color": "#2a3f5f"
            },
            "marker": {
             "line": {
              "color": "#E5ECF6",
              "width": 0.5
             },
             "pattern": {
              "fillmode": "overlay",
              "size": 10,
              "solidity": 0.2
             }
            },
            "type": "bar"
           }
          ],
          "barpolar": [
           {
            "marker": {
             "line": {
              "color": "#E5ECF6",
              "width": 0.5
             },
             "pattern": {
              "fillmode": "overlay",
              "size": 10,
              "solidity": 0.2
             }
            },
            "type": "barpolar"
           }
          ],
          "carpet": [
           {
            "aaxis": {
             "endlinecolor": "#2a3f5f",
             "gridcolor": "white",
             "linecolor": "white",
             "minorgridcolor": "white",
             "startlinecolor": "#2a3f5f"
            },
            "baxis": {
             "endlinecolor": "#2a3f5f",
             "gridcolor": "white",
             "linecolor": "white",
             "minorgridcolor": "white",
             "startlinecolor": "#2a3f5f"
            },
            "type": "carpet"
           }
          ],
          "choropleth": [
           {
            "colorbar": {
             "outlinewidth": 0,
             "ticks": ""
            },
            "type": "choropleth"
           }
          ],
          "contour": [
           {
            "colorbar": {
             "outlinewidth": 0,
             "ticks": ""
            },
            "colorscale": [
             [
              0,
              "#0d0887"
             ],
             [
              0.1111111111111111,
              "#46039f"
             ],
             [
              0.2222222222222222,
              "#7201a8"
             ],
             [
              0.3333333333333333,
              "#9c179e"
             ],
             [
              0.4444444444444444,
              "#bd3786"
             ],
             [
              0.5555555555555556,
              "#d8576b"
             ],
             [
              0.6666666666666666,
              "#ed7953"
             ],
             [
              0.7777777777777778,
              "#fb9f3a"
             ],
             [
              0.8888888888888888,
              "#fdca26"
             ],
             [
              1,
              "#f0f921"
             ]
            ],
            "type": "contour"
           }
          ],
          "contourcarpet": [
           {
            "colorbar": {
             "outlinewidth": 0,
             "ticks": ""
            },
            "type": "contourcarpet"
           }
          ],
          "heatmap": [
           {
            "colorbar": {
             "outlinewidth": 0,
             "ticks": ""
            },
            "colorscale": [
             [
              0,
              "#0d0887"
             ],
             [
              0.1111111111111111,
              "#46039f"
             ],
             [
              0.2222222222222222,
              "#7201a8"
             ],
             [
              0.3333333333333333,
              "#9c179e"
             ],
             [
              0.4444444444444444,
              "#bd3786"
             ],
             [
              0.5555555555555556,
              "#d8576b"
             ],
             [
              0.6666666666666666,
              "#ed7953"
             ],
             [
              0.7777777777777778,
              "#fb9f3a"
             ],
             [
              0.8888888888888888,
              "#fdca26"
             ],
             [
              1,
              "#f0f921"
             ]
            ],
            "type": "heatmap"
           }
          ],
          "heatmapgl": [
           {
            "colorbar": {
             "outlinewidth": 0,
             "ticks": ""
            },
            "colorscale": [
             [
              0,
              "#0d0887"
             ],
             [
              0.1111111111111111,
              "#46039f"
             ],
             [
              0.2222222222222222,
              "#7201a8"
             ],
             [
              0.3333333333333333,
              "#9c179e"
             ],
             [
              0.4444444444444444,
              "#bd3786"
             ],
             [
              0.5555555555555556,
              "#d8576b"
             ],
             [
              0.6666666666666666,
              "#ed7953"
             ],
             [
              0.7777777777777778,
              "#fb9f3a"
             ],
             [
              0.8888888888888888,
              "#fdca26"
             ],
             [
              1,
              "#f0f921"
             ]
            ],
            "type": "heatmapgl"
           }
          ],
          "histogram": [
           {
            "marker": {
             "pattern": {
              "fillmode": "overlay",
              "size": 10,
              "solidity": 0.2
             }
            },
            "type": "histogram"
           }
          ],
          "histogram2d": [
           {
            "colorbar": {
             "outlinewidth": 0,
             "ticks": ""
            },
            "colorscale": [
             [
              0,
              "#0d0887"
             ],
             [
              0.1111111111111111,
              "#46039f"
             ],
             [
              0.2222222222222222,
              "#7201a8"
             ],
             [
              0.3333333333333333,
              "#9c179e"
             ],
             [
              0.4444444444444444,
              "#bd3786"
             ],
             [
              0.5555555555555556,
              "#d8576b"
             ],
             [
              0.6666666666666666,
              "#ed7953"
             ],
             [
              0.7777777777777778,
              "#fb9f3a"
             ],
             [
              0.8888888888888888,
              "#fdca26"
             ],
             [
              1,
              "#f0f921"
             ]
            ],
            "type": "histogram2d"
           }
          ],
          "histogram2dcontour": [
           {
            "colorbar": {
             "outlinewidth": 0,
             "ticks": ""
            },
            "colorscale": [
             [
              0,
              "#0d0887"
             ],
             [
              0.1111111111111111,
              "#46039f"
             ],
             [
              0.2222222222222222,
              "#7201a8"
             ],
             [
              0.3333333333333333,
              "#9c179e"
             ],
             [
              0.4444444444444444,
              "#bd3786"
             ],
             [
              0.5555555555555556,
              "#d8576b"
             ],
             [
              0.6666666666666666,
              "#ed7953"
             ],
             [
              0.7777777777777778,
              "#fb9f3a"
             ],
             [
              0.8888888888888888,
              "#fdca26"
             ],
             [
              1,
              "#f0f921"
             ]
            ],
            "type": "histogram2dcontour"
           }
          ],
          "mesh3d": [
           {
            "colorbar": {
             "outlinewidth": 0,
             "ticks": ""
            },
            "type": "mesh3d"
           }
          ],
          "parcoords": [
           {
            "line": {
             "colorbar": {
              "outlinewidth": 0,
              "ticks": ""
             }
            },
            "type": "parcoords"
           }
          ],
          "pie": [
           {
            "automargin": true,
            "type": "pie"
           }
          ],
          "scatter": [
           {
            "fillpattern": {
             "fillmode": "overlay",
             "size": 10,
             "solidity": 0.2
            },
            "type": "scatter"
           }
          ],
          "scatter3d": [
           {
            "line": {
             "colorbar": {
              "outlinewidth": 0,
              "ticks": ""
             }
            },
            "marker": {
             "colorbar": {
              "outlinewidth": 0,
              "ticks": ""
             }
            },
            "type": "scatter3d"
           }
          ],
          "scattercarpet": [
           {
            "marker": {
             "colorbar": {
              "outlinewidth": 0,
              "ticks": ""
             }
            },
            "type": "scattercarpet"
           }
          ],
          "scattergeo": [
           {
            "marker": {
             "colorbar": {
              "outlinewidth": 0,
              "ticks": ""
             }
            },
            "type": "scattergeo"
           }
          ],
          "scattergl": [
           {
            "marker": {
             "colorbar": {
              "outlinewidth": 0,
              "ticks": ""
             }
            },
            "type": "scattergl"
           }
          ],
          "scattermapbox": [
           {
            "marker": {
             "colorbar": {
              "outlinewidth": 0,
              "ticks": ""
             }
            },
            "type": "scattermapbox"
           }
          ],
          "scatterpolar": [
           {
            "marker": {
             "colorbar": {
              "outlinewidth": 0,
              "ticks": ""
             }
            },
            "type": "scatterpolar"
           }
          ],
          "scatterpolargl": [
           {
            "marker": {
             "colorbar": {
              "outlinewidth": 0,
              "ticks": ""
             }
            },
            "type": "scatterpolargl"
           }
          ],
          "scatterternary": [
           {
            "marker": {
             "colorbar": {
              "outlinewidth": 0,
              "ticks": ""
             }
            },
            "type": "scatterternary"
           }
          ],
          "surface": [
           {
            "colorbar": {
             "outlinewidth": 0,
             "ticks": ""
            },
            "colorscale": [
             [
              0,
              "#0d0887"
             ],
             [
              0.1111111111111111,
              "#46039f"
             ],
             [
              0.2222222222222222,
              "#7201a8"
             ],
             [
              0.3333333333333333,
              "#9c179e"
             ],
             [
              0.4444444444444444,
              "#bd3786"
             ],
             [
              0.5555555555555556,
              "#d8576b"
             ],
             [
              0.6666666666666666,
              "#ed7953"
             ],
             [
              0.7777777777777778,
              "#fb9f3a"
             ],
             [
              0.8888888888888888,
              "#fdca26"
             ],
             [
              1,
              "#f0f921"
             ]
            ],
            "type": "surface"
           }
          ],
          "table": [
           {
            "cells": {
             "fill": {
              "color": "#EBF0F8"
             },
             "line": {
              "color": "white"
             }
            },
            "header": {
             "fill": {
              "color": "#C8D4E3"
             },
             "line": {
              "color": "white"
             }
            },
            "type": "table"
           }
          ]
         },
         "layout": {
          "annotationdefaults": {
           "arrowcolor": "#2a3f5f",
           "arrowhead": 0,
           "arrowwidth": 1
          },
          "autotypenumbers": "strict",
          "coloraxis": {
           "colorbar": {
            "outlinewidth": 0,
            "ticks": ""
           }
          },
          "colorscale": {
           "diverging": [
            [
             0,
             "#8e0152"
            ],
            [
             0.1,
             "#c51b7d"
            ],
            [
             0.2,
             "#de77ae"
            ],
            [
             0.3,
             "#f1b6da"
            ],
            [
             0.4,
             "#fde0ef"
            ],
            [
             0.5,
             "#f7f7f7"
            ],
            [
             0.6,
             "#e6f5d0"
            ],
            [
             0.7,
             "#b8e186"
            ],
            [
             0.8,
             "#7fbc41"
            ],
            [
             0.9,
             "#4d9221"
            ],
            [
             1,
             "#276419"
            ]
           ],
           "sequential": [
            [
             0,
             "#0d0887"
            ],
            [
             0.1111111111111111,
             "#46039f"
            ],
            [
             0.2222222222222222,
             "#7201a8"
            ],
            [
             0.3333333333333333,
             "#9c179e"
            ],
            [
             0.4444444444444444,
             "#bd3786"
            ],
            [
             0.5555555555555556,
             "#d8576b"
            ],
            [
             0.6666666666666666,
             "#ed7953"
            ],
            [
             0.7777777777777778,
             "#fb9f3a"
            ],
            [
             0.8888888888888888,
             "#fdca26"
            ],
            [
             1,
             "#f0f921"
            ]
           ],
           "sequentialminus": [
            [
             0,
             "#0d0887"
            ],
            [
             0.1111111111111111,
             "#46039f"
            ],
            [
             0.2222222222222222,
             "#7201a8"
            ],
            [
             0.3333333333333333,
             "#9c179e"
            ],
            [
             0.4444444444444444,
             "#bd3786"
            ],
            [
             0.5555555555555556,
             "#d8576b"
            ],
            [
             0.6666666666666666,
             "#ed7953"
            ],
            [
             0.7777777777777778,
             "#fb9f3a"
            ],
            [
             0.8888888888888888,
             "#fdca26"
            ],
            [
             1,
             "#f0f921"
            ]
           ]
          },
          "colorway": [
           "#636efa",
           "#EF553B",
           "#00cc96",
           "#ab63fa",
           "#FFA15A",
           "#19d3f3",
           "#FF6692",
           "#B6E880",
           "#FF97FF",
           "#FECB52"
          ],
          "font": {
           "color": "#2a3f5f"
          },
          "geo": {
           "bgcolor": "white",
           "lakecolor": "white",
           "landcolor": "#E5ECF6",
           "showlakes": true,
           "showland": true,
           "subunitcolor": "white"
          },
          "hoverlabel": {
           "align": "left"
          },
          "hovermode": "closest",
          "mapbox": {
           "style": "light"
          },
          "paper_bgcolor": "white",
          "plot_bgcolor": "#E5ECF6",
          "polar": {
           "angularaxis": {
            "gridcolor": "white",
            "linecolor": "white",
            "ticks": ""
           },
           "bgcolor": "#E5ECF6",
           "radialaxis": {
            "gridcolor": "white",
            "linecolor": "white",
            "ticks": ""
           }
          },
          "scene": {
           "xaxis": {
            "backgroundcolor": "#E5ECF6",
            "gridcolor": "white",
            "gridwidth": 2,
            "linecolor": "white",
            "showbackground": true,
            "ticks": "",
            "zerolinecolor": "white"
           },
           "yaxis": {
            "backgroundcolor": "#E5ECF6",
            "gridcolor": "white",
            "gridwidth": 2,
            "linecolor": "white",
            "showbackground": true,
            "ticks": "",
            "zerolinecolor": "white"
           },
           "zaxis": {
            "backgroundcolor": "#E5ECF6",
            "gridcolor": "white",
            "gridwidth": 2,
            "linecolor": "white",
            "showbackground": true,
            "ticks": "",
            "zerolinecolor": "white"
           }
          },
          "shapedefaults": {
           "line": {
            "color": "#2a3f5f"
           }
          },
          "ternary": {
           "aaxis": {
            "gridcolor": "white",
            "linecolor": "white",
            "ticks": ""
           },
           "baxis": {
            "gridcolor": "white",
            "linecolor": "white",
            "ticks": ""
           },
           "bgcolor": "#E5ECF6",
           "caxis": {
            "gridcolor": "white",
            "linecolor": "white",
            "ticks": ""
           }
          },
          "title": {
           "x": 0.05
          },
          "xaxis": {
           "automargin": true,
           "gridcolor": "white",
           "linecolor": "white",
           "ticks": "",
           "title": {
            "standoff": 15
           },
           "zerolinecolor": "white",
           "zerolinewidth": 2
          },
          "yaxis": {
           "automargin": true,
           "gridcolor": "white",
           "linecolor": "white",
           "ticks": "",
           "title": {
            "standoff": 15
           },
           "zerolinecolor": "white",
           "zerolinewidth": 2
          }
         }
        },
        "title": {
         "text": "Plant Nutrients by Site Not Including Nitrogen PCA"
        },
        "xaxis": {
         "anchor": "y",
         "domain": [
          0,
          1
         ],
         "title": {
          "text": "PC1 28.3%"
         }
        },
        "yaxis": {
         "anchor": "x",
         "domain": [
          0,
          1
         ],
         "title": {
          "text": "PC2 15.0%"
         }
        }
       }
      },
      "text/html": [
       "<div>                            <div id=\"a075eb1d-1d4c-40bc-9e42-2e7b9e0cc9c9\" class=\"plotly-graph-div\" style=\"height:525px; width:100%;\"></div>            <script type=\"text/javascript\">                require([\"plotly\"], function(Plotly) {                    window.PLOTLYENV=window.PLOTLYENV || {};                                    if (document.getElementById(\"a075eb1d-1d4c-40bc-9e42-2e7b9e0cc9c9\")) {                    Plotly.newPlot(                        \"a075eb1d-1d4c-40bc-9e42-2e7b9e0cc9c9\",                        [{\"hovertemplate\":\"color=CMB<br>0=%{x}<br>1=%{y}<extra></extra>\",\"legendgroup\":\"CMB\",\"marker\":{\"color\":\"#636efa\",\"symbol\":\"circle\"},\"mode\":\"markers\",\"name\":\"CMB\",\"orientation\":\"v\",\"showlegend\":true,\"x\":[0.08078289119362747,0.058632432308815596,0.0718211796022516,0.04030440407869071,-0.10066180403097771,-0.026726905967440658,-0.054349690245439224,0.025111395351155454,-0.07784085030145733,-0.13202446566566992,0.08450385135882135,-0.0694536927641184,0.0692851508249368,0.03877709751641736,0.016423614096292397,-0.004234347363871771,0.11611702901742849,0.04175340487413363,0.13339181562127256,-0.038145753658802885],\"xaxis\":\"x\",\"y\":[0.018696658534326307,0.011900753870640001,0.022186800101967597,-0.002405521508502567,0.1686491400256772,-0.01706691043422888,0.16256126691593653,0.03738061910459245,0.08366245694009397,0.11915267790766851,0.02651883155204821,-0.01863663922920079,-0.010530133477612303,0.02755151106866076,0.05542888547880731,-0.012489334591997034,0.038320107585214674,0.003677431009724727,0.019419775412621455,0.03471761602958755],\"yaxis\":\"y\",\"type\":\"scatter\"},{\"hovertemplate\":\"color=FRW<br>0=%{x}<br>1=%{y}<extra></extra>\",\"legendgroup\":\"FRW\",\"marker\":{\"color\":\"#EF553B\",\"symbol\":\"circle\"},\"mode\":\"markers\",\"name\":\"FRW\",\"orientation\":\"v\",\"showlegend\":true,\"x\":[-0.03730464579273844,-0.01049875445208872,-0.007420064788636012,0.04151553403018011,0.05436119709021496,-0.053093353664427974,0.06044800888410399,-0.04190584373181345,-0.007739827585858961,0.05832558263723691,-0.02594019383659079],\"xaxis\":\"x\",\"y\":[-0.052817664315156894,-0.03829127117919058,-0.021569756733919507,-0.021826619081081404,-0.010172409205527307,-0.0028850042415819277,-0.0006980414109896094,-0.04194118384514417,-0.03626928561197083,-0.001175071475849041,-0.044732299932948395],\"yaxis\":\"y\",\"type\":\"scatter\"},{\"hovertemplate\":\"color=HR<br>0=%{x}<br>1=%{y}<extra></extra>\",\"legendgroup\":\"HR\",\"marker\":{\"color\":\"#00cc96\",\"symbol\":\"circle\"},\"mode\":\"markers\",\"name\":\"HR\",\"orientation\":\"v\",\"showlegend\":true,\"x\":[0.03984373277630222,0.0620989188749749,0.048431551666689686,0.03056163567628432,0.0548638736235923,-0.04832265088878468],\"xaxis\":\"x\",\"y\":[-0.01724741080959436,-1.310096578636077e-05,-0.00394571443381198,0.006850534007105651,0.0001473648249121592,-0.004589658413967233],\"yaxis\":\"y\",\"type\":\"scatter\"},{\"hovertemplate\":\"color=LFS<br>0=%{x}<br>1=%{y}<extra></extra>\",\"legendgroup\":\"LFS\",\"marker\":{\"color\":\"#ab63fa\",\"symbol\":\"circle\"},\"mode\":\"markers\",\"name\":\"LFS\",\"orientation\":\"v\",\"showlegend\":true,\"x\":[0.04395650925445163,0.001667644463638006,-0.021466528403732844,0.06995153368436621,-0.027936911291307834,-0.04241416453227112,0.08813446614370121,-0.005782062221304101,0.08288196915031634,-0.035769688702958685,-0.028522952423683984,-0.005225103806790536,0.046825646665129936,-0.031062958342514067],\"xaxis\":\"x\",\"y\":[-0.006282697253609457,0.038506928079788456,0.027260582505546832,0.016761622698297864,0.05070758142387299,0.13298645653883095,0.04056858457801613,-0.032971286414121,0.020021427150357974,0.015634085434172433,0.001175193795874207,0.02178550418872594,0.018092040161177735,0.06457561614009731],\"yaxis\":\"y\",\"type\":\"scatter\"},{\"hovertemplate\":\"color=LM<br>0=%{x}<br>1=%{y}<extra></extra>\",\"legendgroup\":\"LM\",\"marker\":{\"color\":\"#FFA15A\",\"symbol\":\"circle\"},\"mode\":\"markers\",\"name\":\"LM\",\"orientation\":\"v\",\"showlegend\":true,\"x\":[0.006502723904471916,0.0149221657008182,-0.04276597064626043,0.011995850498713545,-0.01537718874120557,-0.014477561036912907,-0.007958378195458181,-0.041763608505933345,-0.007771017956043771,-0.08398903046821755,-0.006656189359716126,-0.059222075584817464,-0.008753579835781762,-0.0212195622377798,-0.022913252825219547,-0.003430742321225723,0.012817772812413737,-0.03300108307070397,0.017782142731061823,0.03951269045867985],\"xaxis\":\"x\",\"y\":[-0.03156290467220784,-0.03012601498908211,-0.012264011385327851,0.00467734364134629,0.004243864520966053,0.017098772034042756,0.026438717080446542,-0.033491814850307465,-0.02012539572347096,-0.03575541527291417,-0.036446432116243745,-0.023636456429196373,-0.03717864219957069,-0.004850752636441831,-0.014150199652992546,0.02760389635145942,0.002804926518342612,-0.04957259896840258,-0.03057061008995405,0.008678265745270895],\"yaxis\":\"y\",\"type\":\"scatter\"},{\"hovertemplate\":\"color=MKP<br>0=%{x}<br>1=%{y}<extra></extra>\",\"legendgroup\":\"MKP\",\"marker\":{\"color\":\"#19d3f3\",\"symbol\":\"circle\"},\"mode\":\"markers\",\"name\":\"MKP\",\"orientation\":\"v\",\"showlegend\":true,\"x\":[-0.01905059174211327,0.02343785982558989,-0.08177710233625092,0.04822069402073294,0.014901114898362895,-0.024023114682112816,0.042713664051502676,-0.0951030190976082],\"xaxis\":\"x\",\"y\":[-0.0047076930781046996,0.03593355746440958,0.03393885585706529,0.021722301852738667,0.0019745185382927417,0.039464442262304146,0.00398016479273203,0.005601727914152096],\"yaxis\":\"y\",\"type\":\"scatter\"},{\"hovertemplate\":\"color=MMP<br>0=%{x}<br>1=%{y}<extra></extra>\",\"legendgroup\":\"MMP\",\"marker\":{\"color\":\"#FF6692\",\"symbol\":\"circle\"},\"mode\":\"markers\",\"name\":\"MMP\",\"orientation\":\"v\",\"showlegend\":true,\"x\":[-0.0437154118669285,-0.009551589674469039,0.03457732960173307,-0.030186254015987457,0.03376523347435684,-0.019243101065040503,-0.06342710134463532,-0.06460652068011993,-0.04833772080761323,0.039284254546082704,-0.10978013523269685,0.11162668157298196,-0.031593253343012086,-0.018192433615289393,-0.006674190677128373,0.034205233788717065,-0.002458906520754606,-0.02866789744611541,0.030361307687709886],\"xaxis\":\"x\",\"y\":[-0.05919620905449104,-0.024303024138725662,0.014124218038663655,-0.037531665847018024,-0.0087722615351136,-0.031084358958604792,-0.03322282007721288,-0.03650682223637078,0.04658921003084123,0.04028533380780808,-0.03013032207143005,0.009112410670807388,0.00794170293066627,-0.05234297878197868,-0.029605150089865515,0.0378766371464755,-0.03457905969987487,-0.036813033172060944,-0.016396497709091868],\"yaxis\":\"y\",\"type\":\"scatter\"},{\"hovertemplate\":\"color=PNR<br>0=%{x}<br>1=%{y}<extra></extra>\",\"legendgroup\":\"PNR\",\"marker\":{\"color\":\"#B6E880\",\"symbol\":\"circle\"},\"mode\":\"markers\",\"name\":\"PNR\",\"orientation\":\"v\",\"showlegend\":true,\"x\":[0.0016294571013684325,-0.059903297356358035,-0.06291648645054256],\"xaxis\":\"x\",\"y\":[-0.020637063340646147,0.01865337873022753,-0.019851513699561927],\"yaxis\":\"y\",\"type\":\"scatter\"},{\"hovertemplate\":\"color=PTW<br>0=%{x}<br>1=%{y}<extra></extra>\",\"legendgroup\":\"PTW\",\"marker\":{\"color\":\"#FF97FF\",\"symbol\":\"circle\"},\"mode\":\"markers\",\"name\":\"PTW\",\"orientation\":\"v\",\"showlegend\":true,\"x\":[0.0703664817839247,-0.049352862367030965,0.02439866600864574,-0.05921883380021436,-0.0008620331362176378,-0.08221080277654128,-0.03842062432182838,-0.0025420795802102115,0.0381579920779471,-0.0019596789406162688],\"xaxis\":\"x\",\"y\":[0.01827057715215864,-0.0028975509512531228,0.0189632718682121,0.021453726451812646,0.02481263755216719,0.020809596210663237,0.019887010309538156,0.030304132729739336,0.021863305689951366,0.01883862782903659],\"yaxis\":\"y\",\"type\":\"scatter\"},{\"hovertemplate\":\"color=RF<br>0=%{x}<br>1=%{y}<extra></extra>\",\"legendgroup\":\"RF\",\"marker\":{\"color\":\"#FECB52\",\"symbol\":\"circle\"},\"mode\":\"markers\",\"name\":\"RF\",\"orientation\":\"v\",\"showlegend\":true,\"x\":[-0.030649509175614365,0.1014825319011256,0.014469610361393562,-0.04466024095992758,-0.014442302866897936,-0.04465954284669073,0.024144108579261962,0.050171797531030043,0.05081151320729345,0.058820841960421005,-0.071697700688345],\"xaxis\":\"x\",\"y\":[-0.019046679454198752,0.0021785388870056276,0.01373928246052058,0.006049998559471005,0.006120147302190009,-0.04477531367310882,-0.015345756105767121,0.00012866070010457892,0.031115825246787708,0.019432901704902594,-0.01317086924278251],\"yaxis\":\"y\",\"type\":\"scatter\"},{\"hovertemplate\":\"color=RGT<br>0=%{x}<br>1=%{y}<extra></extra>\",\"legendgroup\":\"RGT\",\"marker\":{\"color\":\"#636efa\",\"symbol\":\"circle\"},\"mode\":\"markers\",\"name\":\"RGT\",\"orientation\":\"v\",\"showlegend\":true,\"x\":[-0.052009428987301515,-0.03977796522301152,-0.03516506274236824,0.011379514483427167,0.03627594020527472,-0.007458675484963194,0.03815803998167168],\"xaxis\":\"x\",\"y\":[-0.04337925954632941,-0.02881611925418918,-0.006262959500962593,-0.03610446593173583,-0.017175158247314838,-0.03922994875970538,-0.018521924359593333],\"yaxis\":\"y\",\"type\":\"scatter\"},{\"hovertemplate\":\"color=RRL<br>0=%{x}<br>1=%{y}<extra></extra>\",\"legendgroup\":\"RRL\",\"marker\":{\"color\":\"#EF553B\",\"symbol\":\"circle\"},\"mode\":\"markers\",\"name\":\"RRL\",\"orientation\":\"v\",\"showlegend\":true,\"x\":[0.009394945654102522,0.04433894420511114,0.051330395194275936,-0.0018804550244123093,0.06372641302759664,0.02653964940776527,0.017738933875250083,0.024704582809551213,0.08838682019148072,-0.04362789805217902,0.00475112255557545,-0.026236675072412466,0.06742241892855912,0.0810155211881347,0.040754284891362,0.015627548035517393,0.015375411126332346,-0.031018313085680482,-0.0955072105829648],\"xaxis\":\"x\",\"y\":[-0.01917699045784848,-0.013984420577912769,-0.0030819832411838094,0.0007361848776833555,-0.011767690855798528,-0.0024724020776468302,-0.035486267178739504,-0.01317611913069494,-0.01073561559136961,-0.04039000641716863,-0.026033332722582885,-0.02427988565061587,-0.005162124140610347,0.0008989827008179863,-0.023994147730498284,-0.030521542466050187,0.003301958050867505,-0.03968578579224904,-0.008160563346630217],\"yaxis\":\"y\",\"type\":\"scatter\"},{\"hovertemplate\":\"color=SLG<br>0=%{x}<br>1=%{y}<extra></extra>\",\"legendgroup\":\"SLG\",\"marker\":{\"color\":\"#00cc96\",\"symbol\":\"circle\"},\"mode\":\"markers\",\"name\":\"SLG\",\"orientation\":\"v\",\"showlegend\":true,\"x\":[0.011709824222870296,-0.031872221077959464,-0.024623502048394,-0.03128508354366927,-0.0038135502208133817,-0.04656389748927359,-0.026564107704113774,-0.0270308150185873,0.04160533702959272,0.005249644587102847,0.03658844357284814,-0.019958134988743267,-0.06841176895569681,-0.014193010004465855,0.015469360697764535,-0.026122295595446255,-0.04324802085660809],\"xaxis\":\"x\",\"y\":[-0.01108417432984214,-0.007393135776177796,-0.0040987539690973225,-0.0367095120617059,-0.0149612630029905,-0.026723830437265818,0.06585271398433137,-0.02116003314054395,-0.0037003775518334087,-0.0317459183986385,0.008143652181644607,0.007780581545308001,-0.030261223513534337,-0.015651711855274454,-0.013581953807163719,0.01811544179552368,-0.028564547493180912],\"yaxis\":\"y\",\"type\":\"scatter\"}],                        {\"template\":{\"data\":{\"histogram2dcontour\":[{\"type\":\"histogram2dcontour\",\"colorbar\":{\"outlinewidth\":0,\"ticks\":\"\"},\"colorscale\":[[0.0,\"#0d0887\"],[0.1111111111111111,\"#46039f\"],[0.2222222222222222,\"#7201a8\"],[0.3333333333333333,\"#9c179e\"],[0.4444444444444444,\"#bd3786\"],[0.5555555555555556,\"#d8576b\"],[0.6666666666666666,\"#ed7953\"],[0.7777777777777778,\"#fb9f3a\"],[0.8888888888888888,\"#fdca26\"],[1.0,\"#f0f921\"]]}],\"choropleth\":[{\"type\":\"choropleth\",\"colorbar\":{\"outlinewidth\":0,\"ticks\":\"\"}}],\"histogram2d\":[{\"type\":\"histogram2d\",\"colorbar\":{\"outlinewidth\":0,\"ticks\":\"\"},\"colorscale\":[[0.0,\"#0d0887\"],[0.1111111111111111,\"#46039f\"],[0.2222222222222222,\"#7201a8\"],[0.3333333333333333,\"#9c179e\"],[0.4444444444444444,\"#bd3786\"],[0.5555555555555556,\"#d8576b\"],[0.6666666666666666,\"#ed7953\"],[0.7777777777777778,\"#fb9f3a\"],[0.8888888888888888,\"#fdca26\"],[1.0,\"#f0f921\"]]}],\"heatmap\":[{\"type\":\"heatmap\",\"colorbar\":{\"outlinewidth\":0,\"ticks\":\"\"},\"colorscale\":[[0.0,\"#0d0887\"],[0.1111111111111111,\"#46039f\"],[0.2222222222222222,\"#7201a8\"],[0.3333333333333333,\"#9c179e\"],[0.4444444444444444,\"#bd3786\"],[0.5555555555555556,\"#d8576b\"],[0.6666666666666666,\"#ed7953\"],[0.7777777777777778,\"#fb9f3a\"],[0.8888888888888888,\"#fdca26\"],[1.0,\"#f0f921\"]]}],\"heatmapgl\":[{\"type\":\"heatmapgl\",\"colorbar\":{\"outlinewidth\":0,\"ticks\":\"\"},\"colorscale\":[[0.0,\"#0d0887\"],[0.1111111111111111,\"#46039f\"],[0.2222222222222222,\"#7201a8\"],[0.3333333333333333,\"#9c179e\"],[0.4444444444444444,\"#bd3786\"],[0.5555555555555556,\"#d8576b\"],[0.6666666666666666,\"#ed7953\"],[0.7777777777777778,\"#fb9f3a\"],[0.8888888888888888,\"#fdca26\"],[1.0,\"#f0f921\"]]}],\"contourcarpet\":[{\"type\":\"contourcarpet\",\"colorbar\":{\"outlinewidth\":0,\"ticks\":\"\"}}],\"contour\":[{\"type\":\"contour\",\"colorbar\":{\"outlinewidth\":0,\"ticks\":\"\"},\"colorscale\":[[0.0,\"#0d0887\"],[0.1111111111111111,\"#46039f\"],[0.2222222222222222,\"#7201a8\"],[0.3333333333333333,\"#9c179e\"],[0.4444444444444444,\"#bd3786\"],[0.5555555555555556,\"#d8576b\"],[0.6666666666666666,\"#ed7953\"],[0.7777777777777778,\"#fb9f3a\"],[0.8888888888888888,\"#fdca26\"],[1.0,\"#f0f921\"]]}],\"surface\":[{\"type\":\"surface\",\"colorbar\":{\"outlinewidth\":0,\"ticks\":\"\"},\"colorscale\":[[0.0,\"#0d0887\"],[0.1111111111111111,\"#46039f\"],[0.2222222222222222,\"#7201a8\"],[0.3333333333333333,\"#9c179e\"],[0.4444444444444444,\"#bd3786\"],[0.5555555555555556,\"#d8576b\"],[0.6666666666666666,\"#ed7953\"],[0.7777777777777778,\"#fb9f3a\"],[0.8888888888888888,\"#fdca26\"],[1.0,\"#f0f921\"]]}],\"mesh3d\":[{\"type\":\"mesh3d\",\"colorbar\":{\"outlinewidth\":0,\"ticks\":\"\"}}],\"scatter\":[{\"fillpattern\":{\"fillmode\":\"overlay\",\"size\":10,\"solidity\":0.2},\"type\":\"scatter\"}],\"parcoords\":[{\"type\":\"parcoords\",\"line\":{\"colorbar\":{\"outlinewidth\":0,\"ticks\":\"\"}}}],\"scatterpolargl\":[{\"type\":\"scatterpolargl\",\"marker\":{\"colorbar\":{\"outlinewidth\":0,\"ticks\":\"\"}}}],\"bar\":[{\"error_x\":{\"color\":\"#2a3f5f\"},\"error_y\":{\"color\":\"#2a3f5f\"},\"marker\":{\"line\":{\"color\":\"#E5ECF6\",\"width\":0.5},\"pattern\":{\"fillmode\":\"overlay\",\"size\":10,\"solidity\":0.2}},\"type\":\"bar\"}],\"scattergeo\":[{\"type\":\"scattergeo\",\"marker\":{\"colorbar\":{\"outlinewidth\":0,\"ticks\":\"\"}}}],\"scatterpolar\":[{\"type\":\"scatterpolar\",\"marker\":{\"colorbar\":{\"outlinewidth\":0,\"ticks\":\"\"}}}],\"histogram\":[{\"marker\":{\"pattern\":{\"fillmode\":\"overlay\",\"size\":10,\"solidity\":0.2}},\"type\":\"histogram\"}],\"scattergl\":[{\"type\":\"scattergl\",\"marker\":{\"colorbar\":{\"outlinewidth\":0,\"ticks\":\"\"}}}],\"scatter3d\":[{\"type\":\"scatter3d\",\"line\":{\"colorbar\":{\"outlinewidth\":0,\"ticks\":\"\"}},\"marker\":{\"colorbar\":{\"outlinewidth\":0,\"ticks\":\"\"}}}],\"scattermapbox\":[{\"type\":\"scattermapbox\",\"marker\":{\"colorbar\":{\"outlinewidth\":0,\"ticks\":\"\"}}}],\"scatterternary\":[{\"type\":\"scatterternary\",\"marker\":{\"colorbar\":{\"outlinewidth\":0,\"ticks\":\"\"}}}],\"scattercarpet\":[{\"type\":\"scattercarpet\",\"marker\":{\"colorbar\":{\"outlinewidth\":0,\"ticks\":\"\"}}}],\"carpet\":[{\"aaxis\":{\"endlinecolor\":\"#2a3f5f\",\"gridcolor\":\"white\",\"linecolor\":\"white\",\"minorgridcolor\":\"white\",\"startlinecolor\":\"#2a3f5f\"},\"baxis\":{\"endlinecolor\":\"#2a3f5f\",\"gridcolor\":\"white\",\"linecolor\":\"white\",\"minorgridcolor\":\"white\",\"startlinecolor\":\"#2a3f5f\"},\"type\":\"carpet\"}],\"table\":[{\"cells\":{\"fill\":{\"color\":\"#EBF0F8\"},\"line\":{\"color\":\"white\"}},\"header\":{\"fill\":{\"color\":\"#C8D4E3\"},\"line\":{\"color\":\"white\"}},\"type\":\"table\"}],\"barpolar\":[{\"marker\":{\"line\":{\"color\":\"#E5ECF6\",\"width\":0.5},\"pattern\":{\"fillmode\":\"overlay\",\"size\":10,\"solidity\":0.2}},\"type\":\"barpolar\"}],\"pie\":[{\"automargin\":true,\"type\":\"pie\"}]},\"layout\":{\"autotypenumbers\":\"strict\",\"colorway\":[\"#636efa\",\"#EF553B\",\"#00cc96\",\"#ab63fa\",\"#FFA15A\",\"#19d3f3\",\"#FF6692\",\"#B6E880\",\"#FF97FF\",\"#FECB52\"],\"font\":{\"color\":\"#2a3f5f\"},\"hovermode\":\"closest\",\"hoverlabel\":{\"align\":\"left\"},\"paper_bgcolor\":\"white\",\"plot_bgcolor\":\"#E5ECF6\",\"polar\":{\"bgcolor\":\"#E5ECF6\",\"angularaxis\":{\"gridcolor\":\"white\",\"linecolor\":\"white\",\"ticks\":\"\"},\"radialaxis\":{\"gridcolor\":\"white\",\"linecolor\":\"white\",\"ticks\":\"\"}},\"ternary\":{\"bgcolor\":\"#E5ECF6\",\"aaxis\":{\"gridcolor\":\"white\",\"linecolor\":\"white\",\"ticks\":\"\"},\"baxis\":{\"gridcolor\":\"white\",\"linecolor\":\"white\",\"ticks\":\"\"},\"caxis\":{\"gridcolor\":\"white\",\"linecolor\":\"white\",\"ticks\":\"\"}},\"coloraxis\":{\"colorbar\":{\"outlinewidth\":0,\"ticks\":\"\"}},\"colorscale\":{\"sequential\":[[0.0,\"#0d0887\"],[0.1111111111111111,\"#46039f\"],[0.2222222222222222,\"#7201a8\"],[0.3333333333333333,\"#9c179e\"],[0.4444444444444444,\"#bd3786\"],[0.5555555555555556,\"#d8576b\"],[0.6666666666666666,\"#ed7953\"],[0.7777777777777778,\"#fb9f3a\"],[0.8888888888888888,\"#fdca26\"],[1.0,\"#f0f921\"]],\"sequentialminus\":[[0.0,\"#0d0887\"],[0.1111111111111111,\"#46039f\"],[0.2222222222222222,\"#7201a8\"],[0.3333333333333333,\"#9c179e\"],[0.4444444444444444,\"#bd3786\"],[0.5555555555555556,\"#d8576b\"],[0.6666666666666666,\"#ed7953\"],[0.7777777777777778,\"#fb9f3a\"],[0.8888888888888888,\"#fdca26\"],[1.0,\"#f0f921\"]],\"diverging\":[[0,\"#8e0152\"],[0.1,\"#c51b7d\"],[0.2,\"#de77ae\"],[0.3,\"#f1b6da\"],[0.4,\"#fde0ef\"],[0.5,\"#f7f7f7\"],[0.6,\"#e6f5d0\"],[0.7,\"#b8e186\"],[0.8,\"#7fbc41\"],[0.9,\"#4d9221\"],[1,\"#276419\"]]},\"xaxis\":{\"gridcolor\":\"white\",\"linecolor\":\"white\",\"ticks\":\"\",\"title\":{\"standoff\":15},\"zerolinecolor\":\"white\",\"automargin\":true,\"zerolinewidth\":2},\"yaxis\":{\"gridcolor\":\"white\",\"linecolor\":\"white\",\"ticks\":\"\",\"title\":{\"standoff\":15},\"zerolinecolor\":\"white\",\"automargin\":true,\"zerolinewidth\":2},\"scene\":{\"xaxis\":{\"backgroundcolor\":\"#E5ECF6\",\"gridcolor\":\"white\",\"linecolor\":\"white\",\"showbackground\":true,\"ticks\":\"\",\"zerolinecolor\":\"white\",\"gridwidth\":2},\"yaxis\":{\"backgroundcolor\":\"#E5ECF6\",\"gridcolor\":\"white\",\"linecolor\":\"white\",\"showbackground\":true,\"ticks\":\"\",\"zerolinecolor\":\"white\",\"gridwidth\":2},\"zaxis\":{\"backgroundcolor\":\"#E5ECF6\",\"gridcolor\":\"white\",\"linecolor\":\"white\",\"showbackground\":true,\"ticks\":\"\",\"zerolinecolor\":\"white\",\"gridwidth\":2}},\"shapedefaults\":{\"line\":{\"color\":\"#2a3f5f\"}},\"annotationdefaults\":{\"arrowcolor\":\"#2a3f5f\",\"arrowhead\":0,\"arrowwidth\":1},\"geo\":{\"bgcolor\":\"white\",\"landcolor\":\"#E5ECF6\",\"subunitcolor\":\"white\",\"showland\":true,\"showlakes\":true,\"lakecolor\":\"white\"},\"title\":{\"x\":0.05},\"mapbox\":{\"style\":\"light\"}}},\"xaxis\":{\"anchor\":\"y\",\"domain\":[0.0,1.0],\"title\":{\"text\":\"PC1 28.3%\"}},\"yaxis\":{\"anchor\":\"x\",\"domain\":[0.0,1.0],\"title\":{\"text\":\"PC2 15.0%\"}},\"legend\":{\"title\":{\"text\":\"color\"},\"tracegroupgap\":0},\"margin\":{\"t\":60},\"title\":{\"text\":\"Plant Nutrients by Site Not Including Nitrogen PCA\"}},                        {\"responsive\": true}                    ).then(function(){\n",
       "                            \n",
       "var gd = document.getElementById('a075eb1d-1d4c-40bc-9e42-2e7b9e0cc9c9');\n",
       "var x = new MutationObserver(function (mutations, observer) {{\n",
       "        var display = window.getComputedStyle(gd).display;\n",
       "        if (!display || display === 'none') {{\n",
       "            console.log([gd, 'removed!']);\n",
       "            Plotly.purge(gd);\n",
       "            observer.disconnect();\n",
       "        }}\n",
       "}});\n",
       "\n",
       "// Listen for the removal of the full notebook cells\n",
       "var notebookContainer = gd.closest('#notebook-container');\n",
       "if (notebookContainer) {{\n",
       "    x.observe(notebookContainer, {childList: true});\n",
       "}}\n",
       "\n",
       "// Listen for the clearing of the current output cell\n",
       "var outputEl = gd.closest('.output');\n",
       "if (outputEl) {{\n",
       "    x.observe(outputEl, {childList: true});\n",
       "}}\n",
       "\n",
       "                        })                };                });            </script>        </div>"
      ]
     },
     "metadata": {},
     "output_type": "display_data"
    }
   ],
   "source": [
    "X = pivoted_df[genera_col]\n",
    "\n",
    "pca = PCA(n_components=2)\n",
    "components = pca.fit_transform(X)\n",
    "\n",
    "fig = px.scatter(components, x=0, y=1, color=pivoted_df['site_id'])\n",
    "fig.update_layout(\n",
    "    title = \"Plant Nutrients by Site Not Including Nitrogen PCA\",\n",
    "    xaxis_title=\"PC1 \" + str(round(100*pca.explained_variance_ratio_[0], 1)) + '%',\n",
    "    yaxis_title=\"PC2 \" + str(round(100*pca.explained_variance_ratio_[1], 1)) + '%')\n",
    "fig.show()"
   ]
  },
  {
   "cell_type": "markdown",
   "id": "d25163c5",
   "metadata": {},
   "source": [
    "### Without further modification PCA by Species"
   ]
  },
  {
   "cell_type": "code",
   "execution_count": 142,
   "id": "fb13d53a",
   "metadata": {},
   "outputs": [
    {
     "data": {
      "application/vnd.plotly.v1+json": {
       "config": {
        "plotlyServerURL": "https://plot.ly"
       },
       "data": [
        {
         "hovertemplate": "color=syriaca<br>0=%{x}<br>1=%{y}<extra></extra>",
         "legendgroup": "syriaca",
         "marker": {
          "color": "#636efa",
          "symbol": "circle"
         },
         "mode": "markers",
         "name": "syriaca",
         "orientation": "v",
         "showlegend": true,
         "type": "scatter",
         "x": [
          0.08078289119494535,
          0.0586324323140864,
          0.0718211796172824,
          0.04030440409061108,
          -0.10066180403375963,
          -0.02672690595993841,
          -0.05434969024472178,
          0.025111395357913048,
          -0.07784085029850173,
          -0.13202446566254453,
          0.0845038513478538,
          -0.06945369276067453,
          0.06928515083291525,
          0.038777097519462934,
          0.016423614103502533,
          -0.004234347348808575,
          0.11611702902726577,
          0.041753404881740876,
          0.1333918156380284,
          -0.038145753661839775,
          -0.037304645789219666,
          -0.010498754464493103,
          -0.00742006479652843,
          0.04151553403115241,
          0.05436119708826981,
          -0.0530933536648182,
          0.06044800887776883,
          -0.04190584373083341,
          -0.007739827597095974,
          0.058325582633492114,
          -0.025940193836354652,
          0.01492216570794448,
          -0.042765970640084895,
          0.01199585049206775,
          -0.015377188754699572,
          -0.014477561035554731,
          -0.00795837819444743,
          -0.04176360850101595,
          -0.007771017960529833,
          -0.08398903046298391,
          -0.0066561893566492985,
          -0.059222075588250336,
          -0.0087535798409256,
          -0.021219562241789558,
          -0.02291325281876141,
          -0.0034307423340750472,
          0.03951269044932003,
          -0.019050591747606805,
          0.02343785984125033,
          -0.08177710233606866,
          0.04822069401223951,
          0.014901114904072116,
          -0.0240231146766868,
          0.04271366405708641,
          -0.09510301909973777,
          -0.04371541186884018,
          -0.009551589679254489,
          0.034577329587629616,
          -0.030186254020489064,
          0.0337652334539911,
          -0.019243101063324164,
          -0.06342710133960185,
          -0.06460652068089134,
          -0.0483377208070067,
          0.03928425454499299,
          -0.10978013523572151,
          0.11162668156198269,
          -0.031593253340086544,
          -0.018192433620895215,
          -0.006674190674239377,
          0.034205233778431245,
          -0.0024589065357287212,
          -0.028667897449054573,
          0.030361307667122826,
          0.0016294571104212088,
          -0.06291648643915966,
          -0.030649509173971815,
          0.10148253190483374,
          0.014469610366930275,
          -0.04466024097150445,
          -0.04465954284015279,
          0.024144108575645057,
          0.05017179752984818,
          0.050811513203430726,
          0.05882084195861335,
          -0.07169770072725777,
          -0.052009428986779786,
          -0.03977796521141431,
          -0.03516506275868947,
          0.011379514488046985,
          0.03627594021196759,
          -0.007458675489659103,
          0.038158039989068124,
          -0.03187222104980977,
          -0.024623502049955996,
          -0.03128508354285357,
          -0.003813550213926296,
          -0.04656389748972602,
          -0.026564107710471702,
          -0.02703081500423654,
          0.005249644597498375,
          0.03658844356131786,
          -0.019958134995121474,
          -0.04324802085194373
         ],
         "xaxis": "x",
         "y": [
          0.01869665915993992,
          0.011900756964693603,
          0.022186806485616266,
          -0.0024055154049548444,
          0.16864913960772748,
          -0.017066907582964853,
          0.16256126752763916,
          0.037380622987405514,
          0.08366245744051758,
          0.11915267940845607,
          0.026518826632427696,
          -0.01863663949442195,
          -0.010530129180591966,
          0.02755151319030084,
          0.05542888873268644,
          -0.012489326012236273,
          0.038320113261145025,
          0.0036774349357385832,
          0.019419783403968983,
          0.03471761487192469,
          -0.052817664238612616,
          -0.03829127740267113,
          -0.02156976450874753,
          -0.021826619463118594,
          -0.010172408902158283,
          -0.0028850050622014805,
          -0.0006980443047268119,
          -0.041941185509364924,
          -0.036269290111448915,
          -0.0011750752809817045,
          -0.04473230195734866,
          -0.030126010674577097,
          -0.01226400748447857,
          0.0046773406507765476,
          0.004243858737618048,
          0.017098772151450115,
          0.026438717010285023,
          -0.033491809797767044,
          -0.02012539632629544,
          -0.03575541423225866,
          -0.03644643093942055,
          -0.02363645944187248,
          -0.03717864480876464,
          -0.004850756003363111,
          -0.014150193799056947,
          0.027603893174452866,
          0.008678259273871202,
          -0.004707697383336059,
          0.03593356563835994,
          0.0339388544299971,
          0.021722296614739785,
          0.001974522514065056,
          0.03946444522760208,
          0.003980165562025508,
          0.005601726491551459,
          -0.05919620956937993,
          -0.024303025348087298,
          0.014124211252469886,
          -0.03753166828423463,
          -0.008772271930008166,
          -0.031084359411329154,
          -0.03322281602123417,
          -0.03650682134086579,
          0.04658921013594397,
          0.040285334109015095,
          -0.03013032466179464,
          0.009112405889047232,
          0.007941705169766439,
          -0.05234298015306199,
          -0.029605147715445892,
          0.03787663087097708,
          -0.034579068924461887,
          -0.03681303615572179,
          -0.016396508642599054,
          -0.020637058894689368,
          -0.01985150829228175,
          -0.019046677931608046,
          0.002178541639937462,
          0.013739286413144392,
          0.006049991928518484,
          -0.044775308819278666,
          -0.015345757823280598,
          0.00012866193350791197,
          0.031115821823055317,
          0.019432902896917674,
          -0.01317089645266004,
          -0.04337925782101582,
          -0.02881611286347493,
          -0.006262965638754462,
          -0.03610446395258905,
          -0.017175153828546105,
          -0.03922995106963473,
          -0.0185219199962934,
          -0.00739311959799303,
          -0.004098755038250168,
          -0.03670951133694426,
          -0.01496125959580917,
          -0.026723828718606936,
          0.06585271079085638,
          -0.021160026277704486,
          -0.03174591111315034,
          0.008143645635945444,
          0.007780579664288283,
          -0.028564544776473074
         ],
         "yaxis": "y"
        },
        {
         "hovertemplate": "color=quadrifolia<br>0=%{x}<br>1=%{y}<extra></extra>",
         "legendgroup": "quadrifolia",
         "marker": {
          "color": "#EF553B",
          "symbol": "circle"
         },
         "mode": "markers",
         "name": "quadrifolia",
         "orientation": "v",
         "showlegend": true,
         "type": "scatter",
         "x": [
          0.03984373277913298,
          0.06209891886085784,
          0.04843155166627927,
          0.030561635673840883,
          0.05486387361404187,
          -0.0483226508836526,
          0.006502723891505825,
          0.012817772818998272,
          -0.03300108306951399,
          0.0177821427289919
         ],
         "xaxis": "x",
         "y": [
          -0.01724740873145194,
          -1.3107506661752712e-05,
          -0.0039457149963810475,
          0.006850533663619608,
          0.00014735972245243792,
          -0.004589655154866398,
          -0.031562912292353536,
          0.002804928800881244,
          -0.04957259772958911,
          -0.030570611021966298
         ],
         "yaxis": "y"
        },
        {
         "hovertemplate": "color=exaltata<br>0=%{x}<br>1=%{y}<extra></extra>",
         "legendgroup": "exaltata",
         "marker": {
          "color": "#00cc96",
          "symbol": "circle"
         },
         "mode": "markers",
         "name": "exaltata",
         "orientation": "v",
         "showlegend": true,
         "type": "scatter",
         "x": [
          0.04395650926805706,
          0.0016676444560184524,
          -0.021466528400726353,
          0.06995153368459743,
          -0.027936911291399354,
          -0.04241416453561113,
          0.08813446615035897,
          -0.005782062222686377,
          0.08288196915177397,
          -0.03576968869870949,
          -0.028522952415794185,
          -0.005225103802222393,
          0.04682564665907056,
          -0.031062958346852302,
          0.07036648179412094,
          -0.04935286236860066,
          0.02439866599425307,
          -0.05921883380304412,
          -0.000862033133632076,
          -0.08221080278188254,
          -0.03842062432376962,
          -0.0025420795765277934,
          0.038157992079808696,
          -0.0019596789415415646,
          -0.014442302864945066,
          0.009394945664202835,
          0.04433894421338762,
          0.051330395190011,
          -0.001880455014658922,
          0.06372641302018049,
          0.02653964941184325,
          0.017738933876312417,
          0.024704582802271318,
          0.08838682018432904,
          -0.04362789806169108,
          0.0047511225481696485,
          -0.026236675084367708,
          0.06742241892311847,
          0.08101552118196027,
          0.040754284899166514,
          0.015627548017805224,
          0.015375411130612228,
          -0.031018313076690264,
          -0.09550721057348878,
          0.011709824236417367,
          0.04160533702979521,
          -0.06841176894434962,
          -0.014193009997784035,
          0.01546936071066282,
          -0.026122295587712518
         ],
         "xaxis": "x",
         "y": [
          -0.006282690181229178,
          0.03850692378007886,
          0.027260583269866304,
          0.01676162263461387,
          0.050707581179357995,
          0.13298645440526757,
          0.04056858610242124,
          -0.03297128695023565,
          0.020021427263143037,
          0.01563408847487933,
          0.0011751982869486449,
          0.021785506387755657,
          0.018092036716853256,
          0.0645756123814594,
          0.018270581892108072,
          -0.002897551247977038,
          0.018963264235641812,
          0.021453729033590677,
          0.024812638290407755,
          0.02080959468975993,
          0.01988700963205638,
          0.03030413401425654,
          0.021863305882090987,
          0.018838626907784154,
          0.00612014649282043,
          -0.01917698486526801,
          -0.013984417406159431,
          -0.003081985103221069,
          0.0007361894548287915,
          -0.011767695296596832,
          -0.0024724001654506302,
          -0.03548626707433714,
          -0.013176123201004102,
          -0.010735619613014571,
          -0.040390013443270194,
          -0.02603333694932224,
          -0.024279892063857795,
          -0.005162127739630506,
          0.0008989786637703857,
          -0.02399414494503599,
          -0.030521551853105056,
          0.0033019596236050393,
          -0.03968578284169536,
          -0.008160559162252926,
          -0.011084163533910334,
          -0.0037003776638719244,
          -0.030261216573290332,
          -0.01565170308063803,
          -0.013581946316108429,
          0.018115447419178355
         ],
         "yaxis": "y"
        },
        {
         "hovertemplate": "color=hybrid<br>0=%{x}<br>1=%{y}<extra></extra>",
         "legendgroup": "hybrid",
         "marker": {
          "color": "#ab63fa",
          "symbol": "circle"
         },
         "mode": "markers",
         "name": "hybrid",
         "orientation": "v",
         "showlegend": true,
         "type": "scatter",
         "x": [
          -0.05990329736036483
         ],
         "xaxis": "x",
         "y": [
          0.01865337646688605
         ],
         "yaxis": "y"
        }
       ],
       "layout": {
        "legend": {
         "title": {
          "text": "color"
         },
         "tracegroupgap": 0
        },
        "margin": {
         "t": 60
        },
        "template": {
         "data": {
          "bar": [
           {
            "error_x": {
             "color": "#2a3f5f"
            },
            "error_y": {
             "color": "#2a3f5f"
            },
            "marker": {
             "line": {
              "color": "#E5ECF6",
              "width": 0.5
             },
             "pattern": {
              "fillmode": "overlay",
              "size": 10,
              "solidity": 0.2
             }
            },
            "type": "bar"
           }
          ],
          "barpolar": [
           {
            "marker": {
             "line": {
              "color": "#E5ECF6",
              "width": 0.5
             },
             "pattern": {
              "fillmode": "overlay",
              "size": 10,
              "solidity": 0.2
             }
            },
            "type": "barpolar"
           }
          ],
          "carpet": [
           {
            "aaxis": {
             "endlinecolor": "#2a3f5f",
             "gridcolor": "white",
             "linecolor": "white",
             "minorgridcolor": "white",
             "startlinecolor": "#2a3f5f"
            },
            "baxis": {
             "endlinecolor": "#2a3f5f",
             "gridcolor": "white",
             "linecolor": "white",
             "minorgridcolor": "white",
             "startlinecolor": "#2a3f5f"
            },
            "type": "carpet"
           }
          ],
          "choropleth": [
           {
            "colorbar": {
             "outlinewidth": 0,
             "ticks": ""
            },
            "type": "choropleth"
           }
          ],
          "contour": [
           {
            "colorbar": {
             "outlinewidth": 0,
             "ticks": ""
            },
            "colorscale": [
             [
              0,
              "#0d0887"
             ],
             [
              0.1111111111111111,
              "#46039f"
             ],
             [
              0.2222222222222222,
              "#7201a8"
             ],
             [
              0.3333333333333333,
              "#9c179e"
             ],
             [
              0.4444444444444444,
              "#bd3786"
             ],
             [
              0.5555555555555556,
              "#d8576b"
             ],
             [
              0.6666666666666666,
              "#ed7953"
             ],
             [
              0.7777777777777778,
              "#fb9f3a"
             ],
             [
              0.8888888888888888,
              "#fdca26"
             ],
             [
              1,
              "#f0f921"
             ]
            ],
            "type": "contour"
           }
          ],
          "contourcarpet": [
           {
            "colorbar": {
             "outlinewidth": 0,
             "ticks": ""
            },
            "type": "contourcarpet"
           }
          ],
          "heatmap": [
           {
            "colorbar": {
             "outlinewidth": 0,
             "ticks": ""
            },
            "colorscale": [
             [
              0,
              "#0d0887"
             ],
             [
              0.1111111111111111,
              "#46039f"
             ],
             [
              0.2222222222222222,
              "#7201a8"
             ],
             [
              0.3333333333333333,
              "#9c179e"
             ],
             [
              0.4444444444444444,
              "#bd3786"
             ],
             [
              0.5555555555555556,
              "#d8576b"
             ],
             [
              0.6666666666666666,
              "#ed7953"
             ],
             [
              0.7777777777777778,
              "#fb9f3a"
             ],
             [
              0.8888888888888888,
              "#fdca26"
             ],
             [
              1,
              "#f0f921"
             ]
            ],
            "type": "heatmap"
           }
          ],
          "heatmapgl": [
           {
            "colorbar": {
             "outlinewidth": 0,
             "ticks": ""
            },
            "colorscale": [
             [
              0,
              "#0d0887"
             ],
             [
              0.1111111111111111,
              "#46039f"
             ],
             [
              0.2222222222222222,
              "#7201a8"
             ],
             [
              0.3333333333333333,
              "#9c179e"
             ],
             [
              0.4444444444444444,
              "#bd3786"
             ],
             [
              0.5555555555555556,
              "#d8576b"
             ],
             [
              0.6666666666666666,
              "#ed7953"
             ],
             [
              0.7777777777777778,
              "#fb9f3a"
             ],
             [
              0.8888888888888888,
              "#fdca26"
             ],
             [
              1,
              "#f0f921"
             ]
            ],
            "type": "heatmapgl"
           }
          ],
          "histogram": [
           {
            "marker": {
             "pattern": {
              "fillmode": "overlay",
              "size": 10,
              "solidity": 0.2
             }
            },
            "type": "histogram"
           }
          ],
          "histogram2d": [
           {
            "colorbar": {
             "outlinewidth": 0,
             "ticks": ""
            },
            "colorscale": [
             [
              0,
              "#0d0887"
             ],
             [
              0.1111111111111111,
              "#46039f"
             ],
             [
              0.2222222222222222,
              "#7201a8"
             ],
             [
              0.3333333333333333,
              "#9c179e"
             ],
             [
              0.4444444444444444,
              "#bd3786"
             ],
             [
              0.5555555555555556,
              "#d8576b"
             ],
             [
              0.6666666666666666,
              "#ed7953"
             ],
             [
              0.7777777777777778,
              "#fb9f3a"
             ],
             [
              0.8888888888888888,
              "#fdca26"
             ],
             [
              1,
              "#f0f921"
             ]
            ],
            "type": "histogram2d"
           }
          ],
          "histogram2dcontour": [
           {
            "colorbar": {
             "outlinewidth": 0,
             "ticks": ""
            },
            "colorscale": [
             [
              0,
              "#0d0887"
             ],
             [
              0.1111111111111111,
              "#46039f"
             ],
             [
              0.2222222222222222,
              "#7201a8"
             ],
             [
              0.3333333333333333,
              "#9c179e"
             ],
             [
              0.4444444444444444,
              "#bd3786"
             ],
             [
              0.5555555555555556,
              "#d8576b"
             ],
             [
              0.6666666666666666,
              "#ed7953"
             ],
             [
              0.7777777777777778,
              "#fb9f3a"
             ],
             [
              0.8888888888888888,
              "#fdca26"
             ],
             [
              1,
              "#f0f921"
             ]
            ],
            "type": "histogram2dcontour"
           }
          ],
          "mesh3d": [
           {
            "colorbar": {
             "outlinewidth": 0,
             "ticks": ""
            },
            "type": "mesh3d"
           }
          ],
          "parcoords": [
           {
            "line": {
             "colorbar": {
              "outlinewidth": 0,
              "ticks": ""
             }
            },
            "type": "parcoords"
           }
          ],
          "pie": [
           {
            "automargin": true,
            "type": "pie"
           }
          ],
          "scatter": [
           {
            "fillpattern": {
             "fillmode": "overlay",
             "size": 10,
             "solidity": 0.2
            },
            "type": "scatter"
           }
          ],
          "scatter3d": [
           {
            "line": {
             "colorbar": {
              "outlinewidth": 0,
              "ticks": ""
             }
            },
            "marker": {
             "colorbar": {
              "outlinewidth": 0,
              "ticks": ""
             }
            },
            "type": "scatter3d"
           }
          ],
          "scattercarpet": [
           {
            "marker": {
             "colorbar": {
              "outlinewidth": 0,
              "ticks": ""
             }
            },
            "type": "scattercarpet"
           }
          ],
          "scattergeo": [
           {
            "marker": {
             "colorbar": {
              "outlinewidth": 0,
              "ticks": ""
             }
            },
            "type": "scattergeo"
           }
          ],
          "scattergl": [
           {
            "marker": {
             "colorbar": {
              "outlinewidth": 0,
              "ticks": ""
             }
            },
            "type": "scattergl"
           }
          ],
          "scattermapbox": [
           {
            "marker": {
             "colorbar": {
              "outlinewidth": 0,
              "ticks": ""
             }
            },
            "type": "scattermapbox"
           }
          ],
          "scatterpolar": [
           {
            "marker": {
             "colorbar": {
              "outlinewidth": 0,
              "ticks": ""
             }
            },
            "type": "scatterpolar"
           }
          ],
          "scatterpolargl": [
           {
            "marker": {
             "colorbar": {
              "outlinewidth": 0,
              "ticks": ""
             }
            },
            "type": "scatterpolargl"
           }
          ],
          "scatterternary": [
           {
            "marker": {
             "colorbar": {
              "outlinewidth": 0,
              "ticks": ""
             }
            },
            "type": "scatterternary"
           }
          ],
          "surface": [
           {
            "colorbar": {
             "outlinewidth": 0,
             "ticks": ""
            },
            "colorscale": [
             [
              0,
              "#0d0887"
             ],
             [
              0.1111111111111111,
              "#46039f"
             ],
             [
              0.2222222222222222,
              "#7201a8"
             ],
             [
              0.3333333333333333,
              "#9c179e"
             ],
             [
              0.4444444444444444,
              "#bd3786"
             ],
             [
              0.5555555555555556,
              "#d8576b"
             ],
             [
              0.6666666666666666,
              "#ed7953"
             ],
             [
              0.7777777777777778,
              "#fb9f3a"
             ],
             [
              0.8888888888888888,
              "#fdca26"
             ],
             [
              1,
              "#f0f921"
             ]
            ],
            "type": "surface"
           }
          ],
          "table": [
           {
            "cells": {
             "fill": {
              "color": "#EBF0F8"
             },
             "line": {
              "color": "white"
             }
            },
            "header": {
             "fill": {
              "color": "#C8D4E3"
             },
             "line": {
              "color": "white"
             }
            },
            "type": "table"
           }
          ]
         },
         "layout": {
          "annotationdefaults": {
           "arrowcolor": "#2a3f5f",
           "arrowhead": 0,
           "arrowwidth": 1
          },
          "autotypenumbers": "strict",
          "coloraxis": {
           "colorbar": {
            "outlinewidth": 0,
            "ticks": ""
           }
          },
          "colorscale": {
           "diverging": [
            [
             0,
             "#8e0152"
            ],
            [
             0.1,
             "#c51b7d"
            ],
            [
             0.2,
             "#de77ae"
            ],
            [
             0.3,
             "#f1b6da"
            ],
            [
             0.4,
             "#fde0ef"
            ],
            [
             0.5,
             "#f7f7f7"
            ],
            [
             0.6,
             "#e6f5d0"
            ],
            [
             0.7,
             "#b8e186"
            ],
            [
             0.8,
             "#7fbc41"
            ],
            [
             0.9,
             "#4d9221"
            ],
            [
             1,
             "#276419"
            ]
           ],
           "sequential": [
            [
             0,
             "#0d0887"
            ],
            [
             0.1111111111111111,
             "#46039f"
            ],
            [
             0.2222222222222222,
             "#7201a8"
            ],
            [
             0.3333333333333333,
             "#9c179e"
            ],
            [
             0.4444444444444444,
             "#bd3786"
            ],
            [
             0.5555555555555556,
             "#d8576b"
            ],
            [
             0.6666666666666666,
             "#ed7953"
            ],
            [
             0.7777777777777778,
             "#fb9f3a"
            ],
            [
             0.8888888888888888,
             "#fdca26"
            ],
            [
             1,
             "#f0f921"
            ]
           ],
           "sequentialminus": [
            [
             0,
             "#0d0887"
            ],
            [
             0.1111111111111111,
             "#46039f"
            ],
            [
             0.2222222222222222,
             "#7201a8"
            ],
            [
             0.3333333333333333,
             "#9c179e"
            ],
            [
             0.4444444444444444,
             "#bd3786"
            ],
            [
             0.5555555555555556,
             "#d8576b"
            ],
            [
             0.6666666666666666,
             "#ed7953"
            ],
            [
             0.7777777777777778,
             "#fb9f3a"
            ],
            [
             0.8888888888888888,
             "#fdca26"
            ],
            [
             1,
             "#f0f921"
            ]
           ]
          },
          "colorway": [
           "#636efa",
           "#EF553B",
           "#00cc96",
           "#ab63fa",
           "#FFA15A",
           "#19d3f3",
           "#FF6692",
           "#B6E880",
           "#FF97FF",
           "#FECB52"
          ],
          "font": {
           "color": "#2a3f5f"
          },
          "geo": {
           "bgcolor": "white",
           "lakecolor": "white",
           "landcolor": "#E5ECF6",
           "showlakes": true,
           "showland": true,
           "subunitcolor": "white"
          },
          "hoverlabel": {
           "align": "left"
          },
          "hovermode": "closest",
          "mapbox": {
           "style": "light"
          },
          "paper_bgcolor": "white",
          "plot_bgcolor": "#E5ECF6",
          "polar": {
           "angularaxis": {
            "gridcolor": "white",
            "linecolor": "white",
            "ticks": ""
           },
           "bgcolor": "#E5ECF6",
           "radialaxis": {
            "gridcolor": "white",
            "linecolor": "white",
            "ticks": ""
           }
          },
          "scene": {
           "xaxis": {
            "backgroundcolor": "#E5ECF6",
            "gridcolor": "white",
            "gridwidth": 2,
            "linecolor": "white",
            "showbackground": true,
            "ticks": "",
            "zerolinecolor": "white"
           },
           "yaxis": {
            "backgroundcolor": "#E5ECF6",
            "gridcolor": "white",
            "gridwidth": 2,
            "linecolor": "white",
            "showbackground": true,
            "ticks": "",
            "zerolinecolor": "white"
           },
           "zaxis": {
            "backgroundcolor": "#E5ECF6",
            "gridcolor": "white",
            "gridwidth": 2,
            "linecolor": "white",
            "showbackground": true,
            "ticks": "",
            "zerolinecolor": "white"
           }
          },
          "shapedefaults": {
           "line": {
            "color": "#2a3f5f"
           }
          },
          "ternary": {
           "aaxis": {
            "gridcolor": "white",
            "linecolor": "white",
            "ticks": ""
           },
           "baxis": {
            "gridcolor": "white",
            "linecolor": "white",
            "ticks": ""
           },
           "bgcolor": "#E5ECF6",
           "caxis": {
            "gridcolor": "white",
            "linecolor": "white",
            "ticks": ""
           }
          },
          "title": {
           "x": 0.05
          },
          "xaxis": {
           "automargin": true,
           "gridcolor": "white",
           "linecolor": "white",
           "ticks": "",
           "title": {
            "standoff": 15
           },
           "zerolinecolor": "white",
           "zerolinewidth": 2
          },
          "yaxis": {
           "automargin": true,
           "gridcolor": "white",
           "linecolor": "white",
           "ticks": "",
           "title": {
            "standoff": 15
           },
           "zerolinecolor": "white",
           "zerolinewidth": 2
          }
         }
        },
        "title": {
         "text": "Plant Nutrients by Site Not Including Nitrogen PCA"
        },
        "xaxis": {
         "anchor": "y",
         "domain": [
          0,
          1
         ],
         "title": {
          "text": "PC1 28.3%"
         }
        },
        "yaxis": {
         "anchor": "x",
         "domain": [
          0,
          1
         ],
         "title": {
          "text": "PC2 15.0%"
         }
        }
       }
      },
      "text/html": [
       "<div>                            <div id=\"6835335f-4131-42b1-a676-41624c509902\" class=\"plotly-graph-div\" style=\"height:525px; width:100%;\"></div>            <script type=\"text/javascript\">                require([\"plotly\"], function(Plotly) {                    window.PLOTLYENV=window.PLOTLYENV || {};                                    if (document.getElementById(\"6835335f-4131-42b1-a676-41624c509902\")) {                    Plotly.newPlot(                        \"6835335f-4131-42b1-a676-41624c509902\",                        [{\"hovertemplate\":\"color=syriaca<br>0=%{x}<br>1=%{y}<extra></extra>\",\"legendgroup\":\"syriaca\",\"marker\":{\"color\":\"#636efa\",\"symbol\":\"circle\"},\"mode\":\"markers\",\"name\":\"syriaca\",\"orientation\":\"v\",\"showlegend\":true,\"x\":[0.08078289119494535,0.0586324323140864,0.0718211796172824,0.04030440409061108,-0.10066180403375963,-0.02672690595993841,-0.05434969024472178,0.025111395357913048,-0.07784085029850173,-0.13202446566254453,0.0845038513478538,-0.06945369276067453,0.06928515083291525,0.038777097519462934,0.016423614103502533,-0.004234347348808575,0.11611702902726577,0.041753404881740876,0.1333918156380284,-0.038145753661839775,-0.037304645789219666,-0.010498754464493103,-0.00742006479652843,0.04151553403115241,0.05436119708826981,-0.0530933536648182,0.06044800887776883,-0.04190584373083341,-0.007739827597095974,0.058325582633492114,-0.025940193836354652,0.01492216570794448,-0.042765970640084895,0.01199585049206775,-0.015377188754699572,-0.014477561035554731,-0.00795837819444743,-0.04176360850101595,-0.007771017960529833,-0.08398903046298391,-0.0066561893566492985,-0.059222075588250336,-0.0087535798409256,-0.021219562241789558,-0.02291325281876141,-0.0034307423340750472,0.03951269044932003,-0.019050591747606805,0.02343785984125033,-0.08177710233606866,0.04822069401223951,0.014901114904072116,-0.0240231146766868,0.04271366405708641,-0.09510301909973777,-0.04371541186884018,-0.009551589679254489,0.034577329587629616,-0.030186254020489064,0.0337652334539911,-0.019243101063324164,-0.06342710133960185,-0.06460652068089134,-0.0483377208070067,0.03928425454499299,-0.10978013523572151,0.11162668156198269,-0.031593253340086544,-0.018192433620895215,-0.006674190674239377,0.034205233778431245,-0.0024589065357287212,-0.028667897449054573,0.030361307667122826,0.0016294571104212088,-0.06291648643915966,-0.030649509173971815,0.10148253190483374,0.014469610366930275,-0.04466024097150445,-0.04465954284015279,0.024144108575645057,0.05017179752984818,0.050811513203430726,0.05882084195861335,-0.07169770072725777,-0.052009428986779786,-0.03977796521141431,-0.03516506275868947,0.011379514488046985,0.03627594021196759,-0.007458675489659103,0.038158039989068124,-0.03187222104980977,-0.024623502049955996,-0.03128508354285357,-0.003813550213926296,-0.04656389748972602,-0.026564107710471702,-0.02703081500423654,0.005249644597498375,0.03658844356131786,-0.019958134995121474,-0.04324802085194373],\"xaxis\":\"x\",\"y\":[0.01869665915993992,0.011900756964693603,0.022186806485616266,-0.0024055154049548444,0.16864913960772748,-0.017066907582964853,0.16256126752763916,0.037380622987405514,0.08366245744051758,0.11915267940845607,0.026518826632427696,-0.01863663949442195,-0.010530129180591966,0.02755151319030084,0.05542888873268644,-0.012489326012236273,0.038320113261145025,0.0036774349357385832,0.019419783403968983,0.03471761487192469,-0.052817664238612616,-0.03829127740267113,-0.02156976450874753,-0.021826619463118594,-0.010172408902158283,-0.0028850050622014805,-0.0006980443047268119,-0.041941185509364924,-0.036269290111448915,-0.0011750752809817045,-0.04473230195734866,-0.030126010674577097,-0.01226400748447857,0.0046773406507765476,0.004243858737618048,0.017098772151450115,0.026438717010285023,-0.033491809797767044,-0.02012539632629544,-0.03575541423225866,-0.03644643093942055,-0.02363645944187248,-0.03717864480876464,-0.004850756003363111,-0.014150193799056947,0.027603893174452866,0.008678259273871202,-0.004707697383336059,0.03593356563835994,0.0339388544299971,0.021722296614739785,0.001974522514065056,0.03946444522760208,0.003980165562025508,0.005601726491551459,-0.05919620956937993,-0.024303025348087298,0.014124211252469886,-0.03753166828423463,-0.008772271930008166,-0.031084359411329154,-0.03322281602123417,-0.03650682134086579,0.04658921013594397,0.040285334109015095,-0.03013032466179464,0.009112405889047232,0.007941705169766439,-0.05234298015306199,-0.029605147715445892,0.03787663087097708,-0.034579068924461887,-0.03681303615572179,-0.016396508642599054,-0.020637058894689368,-0.01985150829228175,-0.019046677931608046,0.002178541639937462,0.013739286413144392,0.006049991928518484,-0.044775308819278666,-0.015345757823280598,0.00012866193350791197,0.031115821823055317,0.019432902896917674,-0.01317089645266004,-0.04337925782101582,-0.02881611286347493,-0.006262965638754462,-0.03610446395258905,-0.017175153828546105,-0.03922995106963473,-0.0185219199962934,-0.00739311959799303,-0.004098755038250168,-0.03670951133694426,-0.01496125959580917,-0.026723828718606936,0.06585271079085638,-0.021160026277704486,-0.03174591111315034,0.008143645635945444,0.007780579664288283,-0.028564544776473074],\"yaxis\":\"y\",\"type\":\"scatter\"},{\"hovertemplate\":\"color=quadrifolia<br>0=%{x}<br>1=%{y}<extra></extra>\",\"legendgroup\":\"quadrifolia\",\"marker\":{\"color\":\"#EF553B\",\"symbol\":\"circle\"},\"mode\":\"markers\",\"name\":\"quadrifolia\",\"orientation\":\"v\",\"showlegend\":true,\"x\":[0.03984373277913298,0.06209891886085784,0.04843155166627927,0.030561635673840883,0.05486387361404187,-0.0483226508836526,0.006502723891505825,0.012817772818998272,-0.03300108306951399,0.0177821427289919],\"xaxis\":\"x\",\"y\":[-0.01724740873145194,-1.3107506661752712e-05,-0.0039457149963810475,0.006850533663619608,0.00014735972245243792,-0.004589655154866398,-0.031562912292353536,0.002804928800881244,-0.04957259772958911,-0.030570611021966298],\"yaxis\":\"y\",\"type\":\"scatter\"},{\"hovertemplate\":\"color=exaltata<br>0=%{x}<br>1=%{y}<extra></extra>\",\"legendgroup\":\"exaltata\",\"marker\":{\"color\":\"#00cc96\",\"symbol\":\"circle\"},\"mode\":\"markers\",\"name\":\"exaltata\",\"orientation\":\"v\",\"showlegend\":true,\"x\":[0.04395650926805706,0.0016676444560184524,-0.021466528400726353,0.06995153368459743,-0.027936911291399354,-0.04241416453561113,0.08813446615035897,-0.005782062222686377,0.08288196915177397,-0.03576968869870949,-0.028522952415794185,-0.005225103802222393,0.04682564665907056,-0.031062958346852302,0.07036648179412094,-0.04935286236860066,0.02439866599425307,-0.05921883380304412,-0.000862033133632076,-0.08221080278188254,-0.03842062432376962,-0.0025420795765277934,0.038157992079808696,-0.0019596789415415646,-0.014442302864945066,0.009394945664202835,0.04433894421338762,0.051330395190011,-0.001880455014658922,0.06372641302018049,0.02653964941184325,0.017738933876312417,0.024704582802271318,0.08838682018432904,-0.04362789806169108,0.0047511225481696485,-0.026236675084367708,0.06742241892311847,0.08101552118196027,0.040754284899166514,0.015627548017805224,0.015375411130612228,-0.031018313076690264,-0.09550721057348878,0.011709824236417367,0.04160533702979521,-0.06841176894434962,-0.014193009997784035,0.01546936071066282,-0.026122295587712518],\"xaxis\":\"x\",\"y\":[-0.006282690181229178,0.03850692378007886,0.027260583269866304,0.01676162263461387,0.050707581179357995,0.13298645440526757,0.04056858610242124,-0.03297128695023565,0.020021427263143037,0.01563408847487933,0.0011751982869486449,0.021785506387755657,0.018092036716853256,0.0645756123814594,0.018270581892108072,-0.002897551247977038,0.018963264235641812,0.021453729033590677,0.024812638290407755,0.02080959468975993,0.01988700963205638,0.03030413401425654,0.021863305882090987,0.018838626907784154,0.00612014649282043,-0.01917698486526801,-0.013984417406159431,-0.003081985103221069,0.0007361894548287915,-0.011767695296596832,-0.0024724001654506302,-0.03548626707433714,-0.013176123201004102,-0.010735619613014571,-0.040390013443270194,-0.02603333694932224,-0.024279892063857795,-0.005162127739630506,0.0008989786637703857,-0.02399414494503599,-0.030521551853105056,0.0033019596236050393,-0.03968578284169536,-0.008160559162252926,-0.011084163533910334,-0.0037003776638719244,-0.030261216573290332,-0.01565170308063803,-0.013581946316108429,0.018115447419178355],\"yaxis\":\"y\",\"type\":\"scatter\"},{\"hovertemplate\":\"color=hybrid<br>0=%{x}<br>1=%{y}<extra></extra>\",\"legendgroup\":\"hybrid\",\"marker\":{\"color\":\"#ab63fa\",\"symbol\":\"circle\"},\"mode\":\"markers\",\"name\":\"hybrid\",\"orientation\":\"v\",\"showlegend\":true,\"x\":[-0.05990329736036483],\"xaxis\":\"x\",\"y\":[0.01865337646688605],\"yaxis\":\"y\",\"type\":\"scatter\"}],                        {\"template\":{\"data\":{\"histogram2dcontour\":[{\"type\":\"histogram2dcontour\",\"colorbar\":{\"outlinewidth\":0,\"ticks\":\"\"},\"colorscale\":[[0.0,\"#0d0887\"],[0.1111111111111111,\"#46039f\"],[0.2222222222222222,\"#7201a8\"],[0.3333333333333333,\"#9c179e\"],[0.4444444444444444,\"#bd3786\"],[0.5555555555555556,\"#d8576b\"],[0.6666666666666666,\"#ed7953\"],[0.7777777777777778,\"#fb9f3a\"],[0.8888888888888888,\"#fdca26\"],[1.0,\"#f0f921\"]]}],\"choropleth\":[{\"type\":\"choropleth\",\"colorbar\":{\"outlinewidth\":0,\"ticks\":\"\"}}],\"histogram2d\":[{\"type\":\"histogram2d\",\"colorbar\":{\"outlinewidth\":0,\"ticks\":\"\"},\"colorscale\":[[0.0,\"#0d0887\"],[0.1111111111111111,\"#46039f\"],[0.2222222222222222,\"#7201a8\"],[0.3333333333333333,\"#9c179e\"],[0.4444444444444444,\"#bd3786\"],[0.5555555555555556,\"#d8576b\"],[0.6666666666666666,\"#ed7953\"],[0.7777777777777778,\"#fb9f3a\"],[0.8888888888888888,\"#fdca26\"],[1.0,\"#f0f921\"]]}],\"heatmap\":[{\"type\":\"heatmap\",\"colorbar\":{\"outlinewidth\":0,\"ticks\":\"\"},\"colorscale\":[[0.0,\"#0d0887\"],[0.1111111111111111,\"#46039f\"],[0.2222222222222222,\"#7201a8\"],[0.3333333333333333,\"#9c179e\"],[0.4444444444444444,\"#bd3786\"],[0.5555555555555556,\"#d8576b\"],[0.6666666666666666,\"#ed7953\"],[0.7777777777777778,\"#fb9f3a\"],[0.8888888888888888,\"#fdca26\"],[1.0,\"#f0f921\"]]}],\"heatmapgl\":[{\"type\":\"heatmapgl\",\"colorbar\":{\"outlinewidth\":0,\"ticks\":\"\"},\"colorscale\":[[0.0,\"#0d0887\"],[0.1111111111111111,\"#46039f\"],[0.2222222222222222,\"#7201a8\"],[0.3333333333333333,\"#9c179e\"],[0.4444444444444444,\"#bd3786\"],[0.5555555555555556,\"#d8576b\"],[0.6666666666666666,\"#ed7953\"],[0.7777777777777778,\"#fb9f3a\"],[0.8888888888888888,\"#fdca26\"],[1.0,\"#f0f921\"]]}],\"contourcarpet\":[{\"type\":\"contourcarpet\",\"colorbar\":{\"outlinewidth\":0,\"ticks\":\"\"}}],\"contour\":[{\"type\":\"contour\",\"colorbar\":{\"outlinewidth\":0,\"ticks\":\"\"},\"colorscale\":[[0.0,\"#0d0887\"],[0.1111111111111111,\"#46039f\"],[0.2222222222222222,\"#7201a8\"],[0.3333333333333333,\"#9c179e\"],[0.4444444444444444,\"#bd3786\"],[0.5555555555555556,\"#d8576b\"],[0.6666666666666666,\"#ed7953\"],[0.7777777777777778,\"#fb9f3a\"],[0.8888888888888888,\"#fdca26\"],[1.0,\"#f0f921\"]]}],\"surface\":[{\"type\":\"surface\",\"colorbar\":{\"outlinewidth\":0,\"ticks\":\"\"},\"colorscale\":[[0.0,\"#0d0887\"],[0.1111111111111111,\"#46039f\"],[0.2222222222222222,\"#7201a8\"],[0.3333333333333333,\"#9c179e\"],[0.4444444444444444,\"#bd3786\"],[0.5555555555555556,\"#d8576b\"],[0.6666666666666666,\"#ed7953\"],[0.7777777777777778,\"#fb9f3a\"],[0.8888888888888888,\"#fdca26\"],[1.0,\"#f0f921\"]]}],\"mesh3d\":[{\"type\":\"mesh3d\",\"colorbar\":{\"outlinewidth\":0,\"ticks\":\"\"}}],\"scatter\":[{\"fillpattern\":{\"fillmode\":\"overlay\",\"size\":10,\"solidity\":0.2},\"type\":\"scatter\"}],\"parcoords\":[{\"type\":\"parcoords\",\"line\":{\"colorbar\":{\"outlinewidth\":0,\"ticks\":\"\"}}}],\"scatterpolargl\":[{\"type\":\"scatterpolargl\",\"marker\":{\"colorbar\":{\"outlinewidth\":0,\"ticks\":\"\"}}}],\"bar\":[{\"error_x\":{\"color\":\"#2a3f5f\"},\"error_y\":{\"color\":\"#2a3f5f\"},\"marker\":{\"line\":{\"color\":\"#E5ECF6\",\"width\":0.5},\"pattern\":{\"fillmode\":\"overlay\",\"size\":10,\"solidity\":0.2}},\"type\":\"bar\"}],\"scattergeo\":[{\"type\":\"scattergeo\",\"marker\":{\"colorbar\":{\"outlinewidth\":0,\"ticks\":\"\"}}}],\"scatterpolar\":[{\"type\":\"scatterpolar\",\"marker\":{\"colorbar\":{\"outlinewidth\":0,\"ticks\":\"\"}}}],\"histogram\":[{\"marker\":{\"pattern\":{\"fillmode\":\"overlay\",\"size\":10,\"solidity\":0.2}},\"type\":\"histogram\"}],\"scattergl\":[{\"type\":\"scattergl\",\"marker\":{\"colorbar\":{\"outlinewidth\":0,\"ticks\":\"\"}}}],\"scatter3d\":[{\"type\":\"scatter3d\",\"line\":{\"colorbar\":{\"outlinewidth\":0,\"ticks\":\"\"}},\"marker\":{\"colorbar\":{\"outlinewidth\":0,\"ticks\":\"\"}}}],\"scattermapbox\":[{\"type\":\"scattermapbox\",\"marker\":{\"colorbar\":{\"outlinewidth\":0,\"ticks\":\"\"}}}],\"scatterternary\":[{\"type\":\"scatterternary\",\"marker\":{\"colorbar\":{\"outlinewidth\":0,\"ticks\":\"\"}}}],\"scattercarpet\":[{\"type\":\"scattercarpet\",\"marker\":{\"colorbar\":{\"outlinewidth\":0,\"ticks\":\"\"}}}],\"carpet\":[{\"aaxis\":{\"endlinecolor\":\"#2a3f5f\",\"gridcolor\":\"white\",\"linecolor\":\"white\",\"minorgridcolor\":\"white\",\"startlinecolor\":\"#2a3f5f\"},\"baxis\":{\"endlinecolor\":\"#2a3f5f\",\"gridcolor\":\"white\",\"linecolor\":\"white\",\"minorgridcolor\":\"white\",\"startlinecolor\":\"#2a3f5f\"},\"type\":\"carpet\"}],\"table\":[{\"cells\":{\"fill\":{\"color\":\"#EBF0F8\"},\"line\":{\"color\":\"white\"}},\"header\":{\"fill\":{\"color\":\"#C8D4E3\"},\"line\":{\"color\":\"white\"}},\"type\":\"table\"}],\"barpolar\":[{\"marker\":{\"line\":{\"color\":\"#E5ECF6\",\"width\":0.5},\"pattern\":{\"fillmode\":\"overlay\",\"size\":10,\"solidity\":0.2}},\"type\":\"barpolar\"}],\"pie\":[{\"automargin\":true,\"type\":\"pie\"}]},\"layout\":{\"autotypenumbers\":\"strict\",\"colorway\":[\"#636efa\",\"#EF553B\",\"#00cc96\",\"#ab63fa\",\"#FFA15A\",\"#19d3f3\",\"#FF6692\",\"#B6E880\",\"#FF97FF\",\"#FECB52\"],\"font\":{\"color\":\"#2a3f5f\"},\"hovermode\":\"closest\",\"hoverlabel\":{\"align\":\"left\"},\"paper_bgcolor\":\"white\",\"plot_bgcolor\":\"#E5ECF6\",\"polar\":{\"bgcolor\":\"#E5ECF6\",\"angularaxis\":{\"gridcolor\":\"white\",\"linecolor\":\"white\",\"ticks\":\"\"},\"radialaxis\":{\"gridcolor\":\"white\",\"linecolor\":\"white\",\"ticks\":\"\"}},\"ternary\":{\"bgcolor\":\"#E5ECF6\",\"aaxis\":{\"gridcolor\":\"white\",\"linecolor\":\"white\",\"ticks\":\"\"},\"baxis\":{\"gridcolor\":\"white\",\"linecolor\":\"white\",\"ticks\":\"\"},\"caxis\":{\"gridcolor\":\"white\",\"linecolor\":\"white\",\"ticks\":\"\"}},\"coloraxis\":{\"colorbar\":{\"outlinewidth\":0,\"ticks\":\"\"}},\"colorscale\":{\"sequential\":[[0.0,\"#0d0887\"],[0.1111111111111111,\"#46039f\"],[0.2222222222222222,\"#7201a8\"],[0.3333333333333333,\"#9c179e\"],[0.4444444444444444,\"#bd3786\"],[0.5555555555555556,\"#d8576b\"],[0.6666666666666666,\"#ed7953\"],[0.7777777777777778,\"#fb9f3a\"],[0.8888888888888888,\"#fdca26\"],[1.0,\"#f0f921\"]],\"sequentialminus\":[[0.0,\"#0d0887\"],[0.1111111111111111,\"#46039f\"],[0.2222222222222222,\"#7201a8\"],[0.3333333333333333,\"#9c179e\"],[0.4444444444444444,\"#bd3786\"],[0.5555555555555556,\"#d8576b\"],[0.6666666666666666,\"#ed7953\"],[0.7777777777777778,\"#fb9f3a\"],[0.8888888888888888,\"#fdca26\"],[1.0,\"#f0f921\"]],\"diverging\":[[0,\"#8e0152\"],[0.1,\"#c51b7d\"],[0.2,\"#de77ae\"],[0.3,\"#f1b6da\"],[0.4,\"#fde0ef\"],[0.5,\"#f7f7f7\"],[0.6,\"#e6f5d0\"],[0.7,\"#b8e186\"],[0.8,\"#7fbc41\"],[0.9,\"#4d9221\"],[1,\"#276419\"]]},\"xaxis\":{\"gridcolor\":\"white\",\"linecolor\":\"white\",\"ticks\":\"\",\"title\":{\"standoff\":15},\"zerolinecolor\":\"white\",\"automargin\":true,\"zerolinewidth\":2},\"yaxis\":{\"gridcolor\":\"white\",\"linecolor\":\"white\",\"ticks\":\"\",\"title\":{\"standoff\":15},\"zerolinecolor\":\"white\",\"automargin\":true,\"zerolinewidth\":2},\"scene\":{\"xaxis\":{\"backgroundcolor\":\"#E5ECF6\",\"gridcolor\":\"white\",\"linecolor\":\"white\",\"showbackground\":true,\"ticks\":\"\",\"zerolinecolor\":\"white\",\"gridwidth\":2},\"yaxis\":{\"backgroundcolor\":\"#E5ECF6\",\"gridcolor\":\"white\",\"linecolor\":\"white\",\"showbackground\":true,\"ticks\":\"\",\"zerolinecolor\":\"white\",\"gridwidth\":2},\"zaxis\":{\"backgroundcolor\":\"#E5ECF6\",\"gridcolor\":\"white\",\"linecolor\":\"white\",\"showbackground\":true,\"ticks\":\"\",\"zerolinecolor\":\"white\",\"gridwidth\":2}},\"shapedefaults\":{\"line\":{\"color\":\"#2a3f5f\"}},\"annotationdefaults\":{\"arrowcolor\":\"#2a3f5f\",\"arrowhead\":0,\"arrowwidth\":1},\"geo\":{\"bgcolor\":\"white\",\"landcolor\":\"#E5ECF6\",\"subunitcolor\":\"white\",\"showland\":true,\"showlakes\":true,\"lakecolor\":\"white\"},\"title\":{\"x\":0.05},\"mapbox\":{\"style\":\"light\"}}},\"xaxis\":{\"anchor\":\"y\",\"domain\":[0.0,1.0],\"title\":{\"text\":\"PC1 28.3%\"}},\"yaxis\":{\"anchor\":\"x\",\"domain\":[0.0,1.0],\"title\":{\"text\":\"PC2 15.0%\"}},\"legend\":{\"title\":{\"text\":\"color\"},\"tracegroupgap\":0},\"margin\":{\"t\":60},\"title\":{\"text\":\"Plant Nutrients by Site Not Including Nitrogen PCA\"}},                        {\"responsive\": true}                    ).then(function(){\n",
       "                            \n",
       "var gd = document.getElementById('6835335f-4131-42b1-a676-41624c509902');\n",
       "var x = new MutationObserver(function (mutations, observer) {{\n",
       "        var display = window.getComputedStyle(gd).display;\n",
       "        if (!display || display === 'none') {{\n",
       "            console.log([gd, 'removed!']);\n",
       "            Plotly.purge(gd);\n",
       "            observer.disconnect();\n",
       "        }}\n",
       "}});\n",
       "\n",
       "// Listen for the removal of the full notebook cells\n",
       "var notebookContainer = gd.closest('#notebook-container');\n",
       "if (notebookContainer) {{\n",
       "    x.observe(notebookContainer, {childList: true});\n",
       "}}\n",
       "\n",
       "// Listen for the clearing of the current output cell\n",
       "var outputEl = gd.closest('.output');\n",
       "if (outputEl) {{\n",
       "    x.observe(outputEl, {childList: true});\n",
       "}}\n",
       "\n",
       "                        })                };                });            </script>        </div>"
      ]
     },
     "metadata": {},
     "output_type": "display_data"
    }
   ],
   "source": [
    "X = pivoted_df[genera_col]\n",
    "\n",
    "pca = PCA(n_components=2)\n",
    "components = pca.fit_transform(X)\n",
    "\n",
    "fig = px.scatter(components, x=0, y=1, color=pivoted_df['species'])\n",
    "fig.update_layout(\n",
    "    title = \"Plant Nutrients by Site Not Including Nitrogen PCA\",\n",
    "    xaxis_title=\"PC1 \" + str(round(100*pca.explained_variance_ratio_[0], 1)) + '%',\n",
    "    yaxis_title=\"PC2 \" + str(round(100*pca.explained_variance_ratio_[1], 1)) + '%')\n",
    "fig.show()"
   ]
  },
  {
   "cell_type": "markdown",
   "id": "ded95b99",
   "metadata": {},
   "source": [
    "### Check column sums "
   ]
  },
  {
   "cell_type": "code",
   "execution_count": null,
   "id": "afb370aa",
   "metadata": {},
   "outputs": [],
   "source": [
    "pivoted_df[genera_col]"
   ]
  }
 ],
 "metadata": {
  "kernelspec": {
   "display_name": "Python 3 (ipykernel)",
   "language": "python",
   "name": "python3"
  },
  "language_info": {
   "codemirror_mode": {
    "name": "ipython",
    "version": 3
   },
   "file_extension": ".py",
   "mimetype": "text/x-python",
   "name": "python",
   "nbconvert_exporter": "python",
   "pygments_lexer": "ipython3",
   "version": "3.11.4"
  }
 },
 "nbformat": 4,
 "nbformat_minor": 5
}
