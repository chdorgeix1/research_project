{
 "cells": [
  {
   "cell_type": "code",
   "execution_count": 60,
   "id": "9c248e7d",
   "metadata": {},
   "outputs": [],
   "source": [
    "import pandas as pd\n",
    "import numpy as np\n",
    "import sqlite3\n",
    "import plotly.express as px\n",
    "from sklearn.decomposition import PCA\n",
    "from sklearn.preprocessing import StandardScaler\n",
    "import matplotlib.pyplot as plt\n",
    "import seaborn as sns\n",
    "from sklearn.manifold import TSNE\n",
    "import statsmodels\n",
    "import statsmodels.api as sm\n",
    "from statsmodels.multivariate.manova import MANOVA\n",
    "from scipy import stats\n",
    "\n",
    "from useful_functions import *"
   ]
  },
  {
   "cell_type": "code",
   "execution_count": 61,
   "id": "9a3bc755",
   "metadata": {},
   "outputs": [
    {
     "data": {
      "text/plain": [
       "(167, 22)"
      ]
     },
     "execution_count": 61,
     "metadata": {},
     "output_type": "execute_result"
    }
   ],
   "source": [
    "tables_to_join = [\"tMorphology\", \"tSample\", \"tPlantDNA\"]\n",
    "common_column = \"sample_id\"\n",
    "full_df = import_all_data(tables_to_join, common_column)\n",
    "full_df.shape"
   ]
  },
  {
   "cell_type": "code",
   "execution_count": 62,
   "id": "731df04b",
   "metadata": {},
   "outputs": [
    {
     "data": {
      "text/html": [
       "<div>\n",
       "<style scoped>\n",
       "    .dataframe tbody tr th:only-of-type {\n",
       "        vertical-align: middle;\n",
       "    }\n",
       "\n",
       "    .dataframe tbody tr th {\n",
       "        vertical-align: top;\n",
       "    }\n",
       "\n",
       "    .dataframe thead th {\n",
       "        text-align: right;\n",
       "    }\n",
       "</style>\n",
       "<table border=\"1\" class=\"dataframe\">\n",
       "  <thead>\n",
       "    <tr style=\"text-align: right;\">\n",
       "      <th></th>\n",
       "      <th>sample_id</th>\n",
       "      <th>species</th>\n",
       "      <th>plant_ht</th>\n",
       "      <th>num_leaves</th>\n",
       "      <th>longest_leaf_cm</th>\n",
       "      <th>widest_leaf_cm</th>\n",
       "      <th>stem_diam_mm</th>\n",
       "      <th>num_inflores</th>\n",
       "      <th>num_flowers</th>\n",
       "      <th>herbivory</th>\n",
       "      <th>...</th>\n",
       "      <th>collect_date</th>\n",
       "      <th>sample_id</th>\n",
       "      <th>V1</th>\n",
       "      <th>V2</th>\n",
       "      <th>species</th>\n",
       "      <th>PC1</th>\n",
       "      <th>PC2</th>\n",
       "      <th>PC3</th>\n",
       "      <th>PC4</th>\n",
       "      <th>PC5</th>\n",
       "    </tr>\n",
       "  </thead>\n",
       "  <tbody>\n",
       "    <tr>\n",
       "      <th>0</th>\n",
       "      <td>RRL1</td>\n",
       "      <td>exaltata</td>\n",
       "      <td>90.0</td>\n",
       "      <td>13</td>\n",
       "      <td>None</td>\n",
       "      <td>None</td>\n",
       "      <td>6.0</td>\n",
       "      <td>4.0</td>\n",
       "      <td>None</td>\n",
       "      <td>none</td>\n",
       "      <td>...</td>\n",
       "      <td>6/25/2021</td>\n",
       "      <td>RRL1</td>\n",
       "      <td>0.753244</td>\n",
       "      <td>0.246756</td>\n",
       "      <td>exaltata</td>\n",
       "      <td>0.194769</td>\n",
       "      <td>0.048276</td>\n",
       "      <td>-0.023880</td>\n",
       "      <td>-0.017138</td>\n",
       "      <td>-0.039842</td>\n",
       "    </tr>\n",
       "    <tr>\n",
       "      <th>1</th>\n",
       "      <td>RRL2</td>\n",
       "      <td>exaltata</td>\n",
       "      <td>100.0</td>\n",
       "      <td>14</td>\n",
       "      <td>None</td>\n",
       "      <td>None</td>\n",
       "      <td>5.0</td>\n",
       "      <td>5.0</td>\n",
       "      <td>None</td>\n",
       "      <td>none</td>\n",
       "      <td>...</td>\n",
       "      <td>6/25/2021</td>\n",
       "      <td>RRL2</td>\n",
       "      <td>0.708412</td>\n",
       "      <td>0.291588</td>\n",
       "      <td>exaltata</td>\n",
       "      <td>0.154924</td>\n",
       "      <td>0.071277</td>\n",
       "      <td>0.000923</td>\n",
       "      <td>-0.025830</td>\n",
       "      <td>0.005592</td>\n",
       "    </tr>\n",
       "    <tr>\n",
       "      <th>2</th>\n",
       "      <td>RRL3</td>\n",
       "      <td>exaltata</td>\n",
       "      <td>76.0</td>\n",
       "      <td>14</td>\n",
       "      <td>None</td>\n",
       "      <td>None</td>\n",
       "      <td>5.0</td>\n",
       "      <td>3.0</td>\n",
       "      <td>None</td>\n",
       "      <td>none</td>\n",
       "      <td>...</td>\n",
       "      <td>6/25/2021</td>\n",
       "      <td>RRL3</td>\n",
       "      <td>0.778046</td>\n",
       "      <td>0.221954</td>\n",
       "      <td>exaltata</td>\n",
       "      <td>0.187750</td>\n",
       "      <td>0.035009</td>\n",
       "      <td>-0.016006</td>\n",
       "      <td>-0.012529</td>\n",
       "      <td>-0.011169</td>\n",
       "    </tr>\n",
       "    <tr>\n",
       "      <th>3</th>\n",
       "      <td>RRL4</td>\n",
       "      <td>exaltata</td>\n",
       "      <td>84.0</td>\n",
       "      <td>17</td>\n",
       "      <td>None</td>\n",
       "      <td>None</td>\n",
       "      <td>5.0</td>\n",
       "      <td>3.0</td>\n",
       "      <td>None</td>\n",
       "      <td>none</td>\n",
       "      <td>...</td>\n",
       "      <td>6/25/2021</td>\n",
       "      <td>RRL4</td>\n",
       "      <td>0.720367</td>\n",
       "      <td>0.279633</td>\n",
       "      <td>exaltata</td>\n",
       "      <td>0.167167</td>\n",
       "      <td>0.046053</td>\n",
       "      <td>-0.032754</td>\n",
       "      <td>-0.016192</td>\n",
       "      <td>-0.028988</td>\n",
       "    </tr>\n",
       "    <tr>\n",
       "      <th>4</th>\n",
       "      <td>RRL5</td>\n",
       "      <td>exaltata</td>\n",
       "      <td>130.0</td>\n",
       "      <td>18</td>\n",
       "      <td>None</td>\n",
       "      <td>None</td>\n",
       "      <td>7.0</td>\n",
       "      <td>2.0</td>\n",
       "      <td>None</td>\n",
       "      <td>none</td>\n",
       "      <td>...</td>\n",
       "      <td>6/25/2021</td>\n",
       "      <td>RRL5</td>\n",
       "      <td>0.572487</td>\n",
       "      <td>0.427513</td>\n",
       "      <td>exaltata</td>\n",
       "      <td>0.099801</td>\n",
       "      <td>0.089800</td>\n",
       "      <td>0.000613</td>\n",
       "      <td>-0.004979</td>\n",
       "      <td>0.017524</td>\n",
       "    </tr>\n",
       "  </tbody>\n",
       "</table>\n",
       "<p>5 rows × 22 columns</p>\n",
       "</div>"
      ],
      "text/plain": [
       "  sample_id    species  plant_ht num_leaves longest_leaf_cm widest_leaf_cm  \\\n",
       "0      RRL1  exaltata       90.0         13            None           None   \n",
       "1      RRL2  exaltata      100.0         14            None           None   \n",
       "2      RRL3  exaltata       76.0         14            None           None   \n",
       "3      RRL4  exaltata       84.0         17            None           None   \n",
       "4      RRL5  exaltata      130.0         18            None           None   \n",
       "\n",
       "   stem_diam_mm  num_inflores num_flowers herbivory  ... collect_date  \\\n",
       "0           6.0           4.0        None      none  ...    6/25/2021   \n",
       "1           5.0           5.0        None      none  ...    6/25/2021   \n",
       "2           5.0           3.0        None      none  ...    6/25/2021   \n",
       "3           5.0           3.0        None      none  ...    6/25/2021   \n",
       "4           7.0           2.0        None      none  ...    6/25/2021   \n",
       "\n",
       "  sample_id        V1        V2   species       PC1       PC2       PC3  \\\n",
       "0      RRL1  0.753244  0.246756  exaltata  0.194769  0.048276 -0.023880   \n",
       "1      RRL2  0.708412  0.291588  exaltata  0.154924  0.071277  0.000923   \n",
       "2      RRL3  0.778046  0.221954  exaltata  0.187750  0.035009 -0.016006   \n",
       "3      RRL4  0.720367  0.279633  exaltata  0.167167  0.046053 -0.032754   \n",
       "4      RRL5  0.572487  0.427513  exaltata  0.099801  0.089800  0.000613   \n",
       "\n",
       "        PC4       PC5  \n",
       "0 -0.017138 -0.039842  \n",
       "1 -0.025830  0.005592  \n",
       "2 -0.012529 -0.011169  \n",
       "3 -0.016192 -0.028988  \n",
       "4 -0.004979  0.017524  \n",
       "\n",
       "[5 rows x 22 columns]"
      ]
     },
     "execution_count": 62,
     "metadata": {},
     "output_type": "execute_result"
    }
   ],
   "source": [
    "full_df.head()"
   ]
  },
  {
   "cell_type": "code",
   "execution_count": 63,
   "id": "1b1760a4",
   "metadata": {},
   "outputs": [
    {
     "data": {
      "text/plain": [
       "(167, 19)"
      ]
     },
     "execution_count": 63,
     "metadata": {},
     "output_type": "execute_result"
    }
   ],
   "source": [
    "df = full_df\n",
    "df = df.T.drop_duplicates().T\n",
    "df.shape"
   ]
  },
  {
   "cell_type": "code",
   "execution_count": 64,
   "id": "9acb5231",
   "metadata": {},
   "outputs": [
    {
     "data": {
      "text/html": [
       "<div>\n",
       "<style scoped>\n",
       "    .dataframe tbody tr th:only-of-type {\n",
       "        vertical-align: middle;\n",
       "    }\n",
       "\n",
       "    .dataframe tbody tr th {\n",
       "        vertical-align: top;\n",
       "    }\n",
       "\n",
       "    .dataframe thead th {\n",
       "        text-align: right;\n",
       "    }\n",
       "</style>\n",
       "<table border=\"1\" class=\"dataframe\">\n",
       "  <thead>\n",
       "    <tr style=\"text-align: right;\">\n",
       "      <th></th>\n",
       "      <th>sample_id</th>\n",
       "      <th>species</th>\n",
       "      <th>plant_ht</th>\n",
       "      <th>num_leaves</th>\n",
       "      <th>longest_leaf_cm</th>\n",
       "      <th>widest_leaf_cm</th>\n",
       "      <th>stem_diam_mm</th>\n",
       "      <th>num_inflores</th>\n",
       "      <th>herbivory</th>\n",
       "      <th>site_id</th>\n",
       "      <th>collect_date</th>\n",
       "      <th>V1</th>\n",
       "      <th>V2</th>\n",
       "      <th>species</th>\n",
       "      <th>PC1</th>\n",
       "      <th>PC2</th>\n",
       "      <th>PC3</th>\n",
       "      <th>PC4</th>\n",
       "      <th>PC5</th>\n",
       "    </tr>\n",
       "  </thead>\n",
       "  <tbody>\n",
       "    <tr>\n",
       "      <th>0</th>\n",
       "      <td>RRL1</td>\n",
       "      <td>exaltata</td>\n",
       "      <td>90.0</td>\n",
       "      <td>13</td>\n",
       "      <td>None</td>\n",
       "      <td>None</td>\n",
       "      <td>6.0</td>\n",
       "      <td>4.0</td>\n",
       "      <td>none</td>\n",
       "      <td>RRL</td>\n",
       "      <td>6/25/2021</td>\n",
       "      <td>0.753244</td>\n",
       "      <td>0.246756</td>\n",
       "      <td>exaltata</td>\n",
       "      <td>0.194769</td>\n",
       "      <td>0.048276</td>\n",
       "      <td>-0.02388</td>\n",
       "      <td>-0.017138</td>\n",
       "      <td>-0.039842</td>\n",
       "    </tr>\n",
       "    <tr>\n",
       "      <th>1</th>\n",
       "      <td>RRL2</td>\n",
       "      <td>exaltata</td>\n",
       "      <td>100.0</td>\n",
       "      <td>14</td>\n",
       "      <td>None</td>\n",
       "      <td>None</td>\n",
       "      <td>5.0</td>\n",
       "      <td>5.0</td>\n",
       "      <td>none</td>\n",
       "      <td>RRL</td>\n",
       "      <td>6/25/2021</td>\n",
       "      <td>0.708412</td>\n",
       "      <td>0.291588</td>\n",
       "      <td>exaltata</td>\n",
       "      <td>0.154924</td>\n",
       "      <td>0.071277</td>\n",
       "      <td>0.000923</td>\n",
       "      <td>-0.02583</td>\n",
       "      <td>0.005592</td>\n",
       "    </tr>\n",
       "    <tr>\n",
       "      <th>2</th>\n",
       "      <td>RRL3</td>\n",
       "      <td>exaltata</td>\n",
       "      <td>76.0</td>\n",
       "      <td>14</td>\n",
       "      <td>None</td>\n",
       "      <td>None</td>\n",
       "      <td>5.0</td>\n",
       "      <td>3.0</td>\n",
       "      <td>none</td>\n",
       "      <td>RRL</td>\n",
       "      <td>6/25/2021</td>\n",
       "      <td>0.778046</td>\n",
       "      <td>0.221954</td>\n",
       "      <td>exaltata</td>\n",
       "      <td>0.18775</td>\n",
       "      <td>0.035009</td>\n",
       "      <td>-0.016006</td>\n",
       "      <td>-0.012529</td>\n",
       "      <td>-0.011169</td>\n",
       "    </tr>\n",
       "    <tr>\n",
       "      <th>3</th>\n",
       "      <td>RRL4</td>\n",
       "      <td>exaltata</td>\n",
       "      <td>84.0</td>\n",
       "      <td>17</td>\n",
       "      <td>None</td>\n",
       "      <td>None</td>\n",
       "      <td>5.0</td>\n",
       "      <td>3.0</td>\n",
       "      <td>none</td>\n",
       "      <td>RRL</td>\n",
       "      <td>6/25/2021</td>\n",
       "      <td>0.720367</td>\n",
       "      <td>0.279633</td>\n",
       "      <td>exaltata</td>\n",
       "      <td>0.167167</td>\n",
       "      <td>0.046053</td>\n",
       "      <td>-0.032754</td>\n",
       "      <td>-0.016192</td>\n",
       "      <td>-0.028988</td>\n",
       "    </tr>\n",
       "    <tr>\n",
       "      <th>4</th>\n",
       "      <td>RRL5</td>\n",
       "      <td>exaltata</td>\n",
       "      <td>130.0</td>\n",
       "      <td>18</td>\n",
       "      <td>None</td>\n",
       "      <td>None</td>\n",
       "      <td>7.0</td>\n",
       "      <td>2.0</td>\n",
       "      <td>none</td>\n",
       "      <td>RRL</td>\n",
       "      <td>6/25/2021</td>\n",
       "      <td>0.572487</td>\n",
       "      <td>0.427513</td>\n",
       "      <td>exaltata</td>\n",
       "      <td>0.099801</td>\n",
       "      <td>0.0898</td>\n",
       "      <td>0.000613</td>\n",
       "      <td>-0.004979</td>\n",
       "      <td>0.017524</td>\n",
       "    </tr>\n",
       "  </tbody>\n",
       "</table>\n",
       "</div>"
      ],
      "text/plain": [
       "  sample_id    species plant_ht num_leaves longest_leaf_cm widest_leaf_cm  \\\n",
       "0      RRL1  exaltata      90.0         13            None           None   \n",
       "1      RRL2  exaltata     100.0         14            None           None   \n",
       "2      RRL3  exaltata      76.0         14            None           None   \n",
       "3      RRL4  exaltata      84.0         17            None           None   \n",
       "4      RRL5  exaltata     130.0         18            None           None   \n",
       "\n",
       "  stem_diam_mm num_inflores herbivory site_id collect_date        V1  \\\n",
       "0          6.0          4.0      none     RRL    6/25/2021  0.753244   \n",
       "1          5.0          5.0      none     RRL    6/25/2021  0.708412   \n",
       "2          5.0          3.0      none     RRL    6/25/2021  0.778046   \n",
       "3          5.0          3.0      none     RRL    6/25/2021  0.720367   \n",
       "4          7.0          2.0      none     RRL    6/25/2021  0.572487   \n",
       "\n",
       "         V2   species       PC1       PC2       PC3       PC4       PC5  \n",
       "0  0.246756  exaltata  0.194769  0.048276  -0.02388 -0.017138 -0.039842  \n",
       "1  0.291588  exaltata  0.154924  0.071277  0.000923  -0.02583  0.005592  \n",
       "2  0.221954  exaltata   0.18775  0.035009 -0.016006 -0.012529 -0.011169  \n",
       "3  0.279633  exaltata  0.167167  0.046053 -0.032754 -0.016192 -0.028988  \n",
       "4  0.427513  exaltata  0.099801    0.0898  0.000613 -0.004979  0.017524  "
      ]
     },
     "execution_count": 64,
     "metadata": {},
     "output_type": "execute_result"
    }
   ],
   "source": [
    "df.head()"
   ]
  },
  {
   "cell_type": "code",
   "execution_count": 65,
   "id": "b1de77ec",
   "metadata": {},
   "outputs": [],
   "source": [
    "morph_char = df.columns\n",
    "morph_char = morph_char.drop(['sample_id', 'species', 'longest_leaf_cm',\n",
    "       'widest_leaf_cm', 'herbivory',\n",
    "       'site_id', 'collect_date', 'V1', 'V2', 'species', 'PC1', 'PC2', 'PC3',\n",
    "       'PC4', 'PC5'])"
   ]
  },
  {
   "cell_type": "code",
   "execution_count": 66,
   "id": "203b0022",
   "metadata": {},
   "outputs": [
    {
     "data": {
      "text/plain": [
       "Index(['plant_ht', 'num_leaves', 'stem_diam_mm', 'num_inflores'], dtype='object')"
      ]
     },
     "execution_count": 66,
     "metadata": {},
     "output_type": "execute_result"
    }
   ],
   "source": [
    "morph_char"
   ]
  },
  {
   "cell_type": "code",
   "execution_count": 67,
   "id": "a3167135",
   "metadata": {},
   "outputs": [
    {
     "data": {
      "text/html": [
       "<div>\n",
       "<style scoped>\n",
       "    .dataframe tbody tr th:only-of-type {\n",
       "        vertical-align: middle;\n",
       "    }\n",
       "\n",
       "    .dataframe tbody tr th {\n",
       "        vertical-align: top;\n",
       "    }\n",
       "\n",
       "    .dataframe thead th {\n",
       "        text-align: right;\n",
       "    }\n",
       "</style>\n",
       "<table border=\"1\" class=\"dataframe\">\n",
       "  <thead>\n",
       "    <tr style=\"text-align: right;\">\n",
       "      <th></th>\n",
       "      <th>sample_id</th>\n",
       "      <th>plant_ht</th>\n",
       "      <th>site_id</th>\n",
       "      <th>collect_date</th>\n",
       "      <th>V1</th>\n",
       "      <th>V2</th>\n",
       "      <th>species</th>\n",
       "      <th>PC1</th>\n",
       "      <th>PC2</th>\n",
       "      <th>PC3</th>\n",
       "      <th>PC4</th>\n",
       "      <th>PC5</th>\n",
       "    </tr>\n",
       "  </thead>\n",
       "  <tbody>\n",
       "    <tr>\n",
       "      <th>0</th>\n",
       "      <td>RRL1</td>\n",
       "      <td>90.0</td>\n",
       "      <td>RRL</td>\n",
       "      <td>6/25/2021</td>\n",
       "      <td>0.753244</td>\n",
       "      <td>0.246756</td>\n",
       "      <td>exaltata</td>\n",
       "      <td>0.194769</td>\n",
       "      <td>0.048276</td>\n",
       "      <td>-0.02388</td>\n",
       "      <td>-0.017138</td>\n",
       "      <td>-0.039842</td>\n",
       "    </tr>\n",
       "    <tr>\n",
       "      <th>1</th>\n",
       "      <td>RRL2</td>\n",
       "      <td>100.0</td>\n",
       "      <td>RRL</td>\n",
       "      <td>6/25/2021</td>\n",
       "      <td>0.708412</td>\n",
       "      <td>0.291588</td>\n",
       "      <td>exaltata</td>\n",
       "      <td>0.154924</td>\n",
       "      <td>0.071277</td>\n",
       "      <td>0.000923</td>\n",
       "      <td>-0.02583</td>\n",
       "      <td>0.005592</td>\n",
       "    </tr>\n",
       "    <tr>\n",
       "      <th>2</th>\n",
       "      <td>RRL3</td>\n",
       "      <td>76.0</td>\n",
       "      <td>RRL</td>\n",
       "      <td>6/25/2021</td>\n",
       "      <td>0.778046</td>\n",
       "      <td>0.221954</td>\n",
       "      <td>exaltata</td>\n",
       "      <td>0.18775</td>\n",
       "      <td>0.035009</td>\n",
       "      <td>-0.016006</td>\n",
       "      <td>-0.012529</td>\n",
       "      <td>-0.011169</td>\n",
       "    </tr>\n",
       "    <tr>\n",
       "      <th>3</th>\n",
       "      <td>RRL4</td>\n",
       "      <td>84.0</td>\n",
       "      <td>RRL</td>\n",
       "      <td>6/25/2021</td>\n",
       "      <td>0.720367</td>\n",
       "      <td>0.279633</td>\n",
       "      <td>exaltata</td>\n",
       "      <td>0.167167</td>\n",
       "      <td>0.046053</td>\n",
       "      <td>-0.032754</td>\n",
       "      <td>-0.016192</td>\n",
       "      <td>-0.028988</td>\n",
       "    </tr>\n",
       "    <tr>\n",
       "      <th>4</th>\n",
       "      <td>RRL5</td>\n",
       "      <td>130.0</td>\n",
       "      <td>RRL</td>\n",
       "      <td>6/25/2021</td>\n",
       "      <td>0.572487</td>\n",
       "      <td>0.427513</td>\n",
       "      <td>exaltata</td>\n",
       "      <td>0.099801</td>\n",
       "      <td>0.0898</td>\n",
       "      <td>0.000613</td>\n",
       "      <td>-0.004979</td>\n",
       "      <td>0.017524</td>\n",
       "    </tr>\n",
       "    <tr>\n",
       "      <th>...</th>\n",
       "      <td>...</td>\n",
       "      <td>...</td>\n",
       "      <td>...</td>\n",
       "      <td>...</td>\n",
       "      <td>...</td>\n",
       "      <td>...</td>\n",
       "      <td>...</td>\n",
       "      <td>...</td>\n",
       "      <td>...</td>\n",
       "      <td>...</td>\n",
       "      <td>...</td>\n",
       "      <td>...</td>\n",
       "    </tr>\n",
       "    <tr>\n",
       "      <th>162</th>\n",
       "      <td>RF12</td>\n",
       "      <td>103.0</td>\n",
       "      <td>RF</td>\n",
       "      <td>7/6/2021</td>\n",
       "      <td>0.066616</td>\n",
       "      <td>0.933384</td>\n",
       "      <td>syriaca</td>\n",
       "      <td>-0.136874</td>\n",
       "      <td>0.00839</td>\n",
       "      <td>0.022291</td>\n",
       "      <td>-0.002657</td>\n",
       "      <td>-0.010559</td>\n",
       "    </tr>\n",
       "    <tr>\n",
       "      <th>163</th>\n",
       "      <td>RF13</td>\n",
       "      <td>92.0</td>\n",
       "      <td>RF</td>\n",
       "      <td>7/6/2021</td>\n",
       "      <td>0.344308</td>\n",
       "      <td>0.655692</td>\n",
       "      <td>exaltata</td>\n",
       "      <td>0.001536</td>\n",
       "      <td>0.168855</td>\n",
       "      <td>-0.009237</td>\n",
       "      <td>-0.015274</td>\n",
       "      <td>-0.025609</td>\n",
       "    </tr>\n",
       "    <tr>\n",
       "      <th>164</th>\n",
       "      <td>PNR1</td>\n",
       "      <td>104.0</td>\n",
       "      <td>PNR</td>\n",
       "      <td>7/5/2021</td>\n",
       "      <td>0.0</td>\n",
       "      <td>1.0</td>\n",
       "      <td>syriaca</td>\n",
       "      <td>-0.151155</td>\n",
       "      <td>0.03781</td>\n",
       "      <td>-0.000318</td>\n",
       "      <td>-0.016429</td>\n",
       "      <td>-0.011035</td>\n",
       "    </tr>\n",
       "    <tr>\n",
       "      <th>165</th>\n",
       "      <td>PNR2</td>\n",
       "      <td>114.0</td>\n",
       "      <td>PNR</td>\n",
       "      <td>7/5/2021</td>\n",
       "      <td>0.0</td>\n",
       "      <td>1.0</td>\n",
       "      <td>hybrid</td>\n",
       "      <td>-0.164453</td>\n",
       "      <td>0.078482</td>\n",
       "      <td>0.019092</td>\n",
       "      <td>-0.01896</td>\n",
       "      <td>-0.015882</td>\n",
       "    </tr>\n",
       "    <tr>\n",
       "      <th>166</th>\n",
       "      <td>PNR3</td>\n",
       "      <td>96.0</td>\n",
       "      <td>PNR</td>\n",
       "      <td>7/5/2021</td>\n",
       "      <td>0.000952</td>\n",
       "      <td>0.999048</td>\n",
       "      <td>syriaca</td>\n",
       "      <td>-0.156172</td>\n",
       "      <td>0.034308</td>\n",
       "      <td>0.00876</td>\n",
       "      <td>-0.012746</td>\n",
       "      <td>-0.021257</td>\n",
       "    </tr>\n",
       "  </tbody>\n",
       "</table>\n",
       "<p>167 rows × 12 columns</p>\n",
       "</div>"
      ],
      "text/plain": [
       "    sample_id plant_ht site_id collect_date        V1        V2   species  \\\n",
       "0        RRL1     90.0     RRL    6/25/2021  0.753244  0.246756  exaltata   \n",
       "1        RRL2    100.0     RRL    6/25/2021  0.708412  0.291588  exaltata   \n",
       "2        RRL3     76.0     RRL    6/25/2021  0.778046  0.221954  exaltata   \n",
       "3        RRL4     84.0     RRL    6/25/2021  0.720367  0.279633  exaltata   \n",
       "4        RRL5    130.0     RRL    6/25/2021  0.572487  0.427513  exaltata   \n",
       "..        ...      ...     ...          ...       ...       ...       ...   \n",
       "162      RF12    103.0      RF     7/6/2021  0.066616  0.933384   syriaca   \n",
       "163      RF13     92.0      RF     7/6/2021  0.344308  0.655692  exaltata   \n",
       "164      PNR1    104.0     PNR     7/5/2021       0.0       1.0   syriaca   \n",
       "165      PNR2    114.0     PNR     7/5/2021       0.0       1.0    hybrid   \n",
       "166      PNR3     96.0     PNR     7/5/2021  0.000952  0.999048   syriaca   \n",
       "\n",
       "          PC1       PC2       PC3       PC4       PC5  \n",
       "0    0.194769  0.048276  -0.02388 -0.017138 -0.039842  \n",
       "1    0.154924  0.071277  0.000923  -0.02583  0.005592  \n",
       "2     0.18775  0.035009 -0.016006 -0.012529 -0.011169  \n",
       "3    0.167167  0.046053 -0.032754 -0.016192 -0.028988  \n",
       "4    0.099801    0.0898  0.000613 -0.004979  0.017524  \n",
       "..        ...       ...       ...       ...       ...  \n",
       "162 -0.136874   0.00839  0.022291 -0.002657 -0.010559  \n",
       "163  0.001536  0.168855 -0.009237 -0.015274 -0.025609  \n",
       "164 -0.151155   0.03781 -0.000318 -0.016429 -0.011035  \n",
       "165 -0.164453  0.078482  0.019092  -0.01896 -0.015882  \n",
       "166 -0.156172  0.034308   0.00876 -0.012746 -0.021257  \n",
       "\n",
       "[167 rows x 12 columns]"
      ]
     },
     "execution_count": 67,
     "metadata": {},
     "output_type": "execute_result"
    }
   ],
   "source": [
    "df.dropna(axis = 1)"
   ]
  },
  {
   "cell_type": "code",
   "execution_count": 68,
   "id": "a6daa1cc",
   "metadata": {},
   "outputs": [
    {
     "data": {
      "text/plain": [
       "(167, 19)"
      ]
     },
     "execution_count": 68,
     "metadata": {},
     "output_type": "execute_result"
    }
   ],
   "source": [
    "df.shape"
   ]
  },
  {
   "cell_type": "code",
   "execution_count": 69,
   "id": "a6075f63",
   "metadata": {},
   "outputs": [
    {
     "data": {
      "text/html": [
       "<div>\n",
       "<style scoped>\n",
       "    .dataframe tbody tr th:only-of-type {\n",
       "        vertical-align: middle;\n",
       "    }\n",
       "\n",
       "    .dataframe tbody tr th {\n",
       "        vertical-align: top;\n",
       "    }\n",
       "\n",
       "    .dataframe thead th {\n",
       "        text-align: right;\n",
       "    }\n",
       "</style>\n",
       "<table border=\"1\" class=\"dataframe\">\n",
       "  <thead>\n",
       "    <tr style=\"text-align: right;\">\n",
       "      <th></th>\n",
       "      <th>num_inflores</th>\n",
       "      <th>V2</th>\n",
       "    </tr>\n",
       "  </thead>\n",
       "  <tbody>\n",
       "    <tr>\n",
       "      <th>0</th>\n",
       "      <td>4.0</td>\n",
       "      <td>0.246756</td>\n",
       "    </tr>\n",
       "    <tr>\n",
       "      <th>1</th>\n",
       "      <td>5.0</td>\n",
       "      <td>0.291588</td>\n",
       "    </tr>\n",
       "    <tr>\n",
       "      <th>2</th>\n",
       "      <td>3.0</td>\n",
       "      <td>0.221954</td>\n",
       "    </tr>\n",
       "    <tr>\n",
       "      <th>3</th>\n",
       "      <td>3.0</td>\n",
       "      <td>0.279633</td>\n",
       "    </tr>\n",
       "    <tr>\n",
       "      <th>4</th>\n",
       "      <td>2.0</td>\n",
       "      <td>0.427513</td>\n",
       "    </tr>\n",
       "    <tr>\n",
       "      <th>...</th>\n",
       "      <td>...</td>\n",
       "      <td>...</td>\n",
       "    </tr>\n",
       "    <tr>\n",
       "      <th>162</th>\n",
       "      <td>4.0</td>\n",
       "      <td>0.933384</td>\n",
       "    </tr>\n",
       "    <tr>\n",
       "      <th>163</th>\n",
       "      <td>4.0</td>\n",
       "      <td>0.655692</td>\n",
       "    </tr>\n",
       "    <tr>\n",
       "      <th>164</th>\n",
       "      <td>0.0</td>\n",
       "      <td>1.0</td>\n",
       "    </tr>\n",
       "    <tr>\n",
       "      <th>165</th>\n",
       "      <td>1.0</td>\n",
       "      <td>1.0</td>\n",
       "    </tr>\n",
       "    <tr>\n",
       "      <th>166</th>\n",
       "      <td>0.0</td>\n",
       "      <td>0.999048</td>\n",
       "    </tr>\n",
       "  </tbody>\n",
       "</table>\n",
       "<p>165 rows × 2 columns</p>\n",
       "</div>"
      ],
      "text/plain": [
       "    num_inflores        V2\n",
       "0            4.0  0.246756\n",
       "1            5.0  0.291588\n",
       "2            3.0  0.221954\n",
       "3            3.0  0.279633\n",
       "4            2.0  0.427513\n",
       "..           ...       ...\n",
       "162          4.0  0.933384\n",
       "163          4.0  0.655692\n",
       "164          0.0       1.0\n",
       "165          1.0       1.0\n",
       "166          0.0  0.999048\n",
       "\n",
       "[165 rows x 2 columns]"
      ]
     },
     "execution_count": 69,
     "metadata": {},
     "output_type": "execute_result"
    }
   ],
   "source": [
    "y_data = df[[i, 'V2']].dropna(axis=0)\n",
    "y_data"
   ]
  },
  {
   "cell_type": "markdown",
   "id": "147e29d4",
   "metadata": {},
   "source": [
    "## Boxplot of plant Morphology by V2"
   ]
  },
  {
   "cell_type": "code",
   "execution_count": 70,
   "id": "3c61fb7a",
   "metadata": {
    "scrolled": false
   },
   "outputs": [
    {
     "data": {
      "image/png": "[encoded data removed]",
      "text/plain": [
       "<Figure size 640x480 with 1 Axes>"
      ]
     },
     "metadata": {},
     "output_type": "display_data"
    },
    {
     "name": "stdout",
     "output_type": "stream",
     "text": [
      "plant_ht\n",
      "Correlation coefficient value: -0.011463696112669154\n",
      "Correlation P-Value: 0.8831038147454956\n"
     ]
    },
    {
     "data": {
      "image/png": "[encoded data removed]",
      "text/plain": [
       "<Figure size 640x480 with 1 Axes>"
      ]
     },
     "metadata": {},
     "output_type": "display_data"
    },
    {
     "name": "stdout",
     "output_type": "stream",
     "text": [
      "num_leaves\n",
      "Correlation coefficient value: 0.34861263207030363\n",
      "Correlation P-Value: 5.1049808016009194e-06\n"
     ]
    },
    {
     "data": {
      "image/png": "[encoded data removed]",
      "text/plain": [
       "<Figure size 640x480 with 1 Axes>"
      ]
     },
     "metadata": {},
     "output_type": "display_data"
    },
    {
     "name": "stdout",
     "output_type": "stream",
     "text": [
      "stem_diam_mm\n",
      "Correlation coefficient value: 0.6153753129366686\n",
      "Correlation P-Value: 9.864560791328202e-18\n"
     ]
    },
    {
     "data": {
      "image/png": "[encoded data removed]",
      "text/plain": [
       "<Figure size 640x480 with 1 Axes>"
      ]
     },
     "metadata": {},
     "output_type": "display_data"
    },
    {
     "name": "stdout",
     "output_type": "stream",
     "text": [
      "num_inflores\n",
      "Correlation coefficient value: -0.1313529269565821\n",
      "Correlation P-Value: 0.09262191726652157\n"
     ]
    }
   ],
   "source": [
    "for i in morph_char:\n",
    "    df[i] = pd.to_numeric(df[i], errors='coerce')\n",
    "    y_data = df[[i, 'V2']].dropna(axis=0)\n",
    "    x_data = y_data['V2'].astype(float)\n",
    "    y_data = y_data[i].astype(float)\n",
    "\n",
    "    corel_coef, p_value = stats.pearsonr(x_data, y_data)\n",
    "    \n",
    "    # Perform linear regression to calculate the best-fit line\n",
    "    slope, intercept = np.polyfit(x_data, y_data, 1)\n",
    "\n",
    "    # Create a scatter plot\n",
    "    plt.scatter(x_data, y_data, label='Data Points')\n",
    "\n",
    "    # Create the best-fit line using the slope and intercept\n",
    "    best_fit_line = [slope * x + intercept for x in x_data]\n",
    "\n",
    "    # Plot the best-fit line\n",
    "    plt.plot(x_data, best_fit_line, color='red', label='Best Fit Line')\n",
    "\n",
    "    # Add labels and a legend\n",
    "    plt.xlabel('Proportion Syriaca')\n",
    "    plt.ylabel(i)\n",
    "    #plt.legend()\n",
    "\n",
    "    # Show the plot\n",
    "    plt.title(f'Scatter plot of Genetic Proportion Syriaca and Leaf {i}')\n",
    "    \n",
    "    if p_value < 0.05:\n",
    "        plt.text(x_data.max()-.4, y_data.max(), f\"Pearson's r ={round(corel_coef,2)}\")\n",
    "        plt.text(x_data.max()-.4, y_data.max()*.95, f\"P-Value ={round(p_value, 5)}\")\n",
    "    \n",
    "    plt.show()\n",
    "    \n",
    "    print(i)\n",
    "    print(f'Correlation coefficient value: {corel_coef}')\n",
    "    print(f'Correlation P-Value: {p_value}')"
   ]
  },
  {
   "cell_type": "code",
   "execution_count": 71,
   "id": "5c45540c",
   "metadata": {},
   "outputs": [
    {
     "data": {
      "text/plain": [
       "(167, 19)"
      ]
     },
     "execution_count": 71,
     "metadata": {},
     "output_type": "execute_result"
    }
   ],
   "source": [
    "newdf = full_df\n",
    "newdf = newdf.T.drop_duplicates().T\n",
    "newdf.shape"
   ]
  },
  {
   "cell_type": "code",
   "execution_count": 72,
   "id": "03eeb79a",
   "metadata": {},
   "outputs": [
    {
     "data": {
      "text/html": [
       "<div>\n",
       "<style scoped>\n",
       "    .dataframe tbody tr th:only-of-type {\n",
       "        vertical-align: middle;\n",
       "    }\n",
       "\n",
       "    .dataframe tbody tr th {\n",
       "        vertical-align: top;\n",
       "    }\n",
       "\n",
       "    .dataframe thead th {\n",
       "        text-align: right;\n",
       "    }\n",
       "</style>\n",
       "<table border=\"1\" class=\"dataframe\">\n",
       "  <thead>\n",
       "    <tr style=\"text-align: right;\">\n",
       "      <th></th>\n",
       "      <th>sample_id</th>\n",
       "      <th>species</th>\n",
       "      <th>plant_ht</th>\n",
       "      <th>num_leaves</th>\n",
       "      <th>longest_leaf_cm</th>\n",
       "      <th>widest_leaf_cm</th>\n",
       "      <th>stem_diam_mm</th>\n",
       "      <th>num_inflores</th>\n",
       "      <th>herbivory</th>\n",
       "      <th>site_id</th>\n",
       "      <th>collect_date</th>\n",
       "      <th>V1</th>\n",
       "      <th>V2</th>\n",
       "      <th>species</th>\n",
       "      <th>PC1</th>\n",
       "      <th>PC2</th>\n",
       "      <th>PC3</th>\n",
       "      <th>PC4</th>\n",
       "      <th>PC5</th>\n",
       "    </tr>\n",
       "  </thead>\n",
       "  <tbody>\n",
       "    <tr>\n",
       "      <th>0</th>\n",
       "      <td>RRL1</td>\n",
       "      <td>exaltata</td>\n",
       "      <td>90.0</td>\n",
       "      <td>13</td>\n",
       "      <td>None</td>\n",
       "      <td>None</td>\n",
       "      <td>6.0</td>\n",
       "      <td>4.0</td>\n",
       "      <td>none</td>\n",
       "      <td>RRL</td>\n",
       "      <td>6/25/2021</td>\n",
       "      <td>0.753244</td>\n",
       "      <td>0.246756</td>\n",
       "      <td>exaltata</td>\n",
       "      <td>0.194769</td>\n",
       "      <td>0.048276</td>\n",
       "      <td>-0.02388</td>\n",
       "      <td>-0.017138</td>\n",
       "      <td>-0.039842</td>\n",
       "    </tr>\n",
       "    <tr>\n",
       "      <th>1</th>\n",
       "      <td>RRL2</td>\n",
       "      <td>exaltata</td>\n",
       "      <td>100.0</td>\n",
       "      <td>14</td>\n",
       "      <td>None</td>\n",
       "      <td>None</td>\n",
       "      <td>5.0</td>\n",
       "      <td>5.0</td>\n",
       "      <td>none</td>\n",
       "      <td>RRL</td>\n",
       "      <td>6/25/2021</td>\n",
       "      <td>0.708412</td>\n",
       "      <td>0.291588</td>\n",
       "      <td>exaltata</td>\n",
       "      <td>0.154924</td>\n",
       "      <td>0.071277</td>\n",
       "      <td>0.000923</td>\n",
       "      <td>-0.02583</td>\n",
       "      <td>0.005592</td>\n",
       "    </tr>\n",
       "    <tr>\n",
       "      <th>2</th>\n",
       "      <td>RRL3</td>\n",
       "      <td>exaltata</td>\n",
       "      <td>76.0</td>\n",
       "      <td>14</td>\n",
       "      <td>None</td>\n",
       "      <td>None</td>\n",
       "      <td>5.0</td>\n",
       "      <td>3.0</td>\n",
       "      <td>none</td>\n",
       "      <td>RRL</td>\n",
       "      <td>6/25/2021</td>\n",
       "      <td>0.778046</td>\n",
       "      <td>0.221954</td>\n",
       "      <td>exaltata</td>\n",
       "      <td>0.18775</td>\n",
       "      <td>0.035009</td>\n",
       "      <td>-0.016006</td>\n",
       "      <td>-0.012529</td>\n",
       "      <td>-0.011169</td>\n",
       "    </tr>\n",
       "    <tr>\n",
       "      <th>3</th>\n",
       "      <td>RRL4</td>\n",
       "      <td>exaltata</td>\n",
       "      <td>84.0</td>\n",
       "      <td>17</td>\n",
       "      <td>None</td>\n",
       "      <td>None</td>\n",
       "      <td>5.0</td>\n",
       "      <td>3.0</td>\n",
       "      <td>none</td>\n",
       "      <td>RRL</td>\n",
       "      <td>6/25/2021</td>\n",
       "      <td>0.720367</td>\n",
       "      <td>0.279633</td>\n",
       "      <td>exaltata</td>\n",
       "      <td>0.167167</td>\n",
       "      <td>0.046053</td>\n",
       "      <td>-0.032754</td>\n",
       "      <td>-0.016192</td>\n",
       "      <td>-0.028988</td>\n",
       "    </tr>\n",
       "    <tr>\n",
       "      <th>4</th>\n",
       "      <td>RRL5</td>\n",
       "      <td>exaltata</td>\n",
       "      <td>130.0</td>\n",
       "      <td>18</td>\n",
       "      <td>None</td>\n",
       "      <td>None</td>\n",
       "      <td>7.0</td>\n",
       "      <td>2.0</td>\n",
       "      <td>none</td>\n",
       "      <td>RRL</td>\n",
       "      <td>6/25/2021</td>\n",
       "      <td>0.572487</td>\n",
       "      <td>0.427513</td>\n",
       "      <td>exaltata</td>\n",
       "      <td>0.099801</td>\n",
       "      <td>0.0898</td>\n",
       "      <td>0.000613</td>\n",
       "      <td>-0.004979</td>\n",
       "      <td>0.017524</td>\n",
       "    </tr>\n",
       "  </tbody>\n",
       "</table>\n",
       "</div>"
      ],
      "text/plain": [
       "  sample_id    species plant_ht num_leaves longest_leaf_cm widest_leaf_cm  \\\n",
       "0      RRL1  exaltata      90.0         13            None           None   \n",
       "1      RRL2  exaltata     100.0         14            None           None   \n",
       "2      RRL3  exaltata      76.0         14            None           None   \n",
       "3      RRL4  exaltata      84.0         17            None           None   \n",
       "4      RRL5  exaltata     130.0         18            None           None   \n",
       "\n",
       "  stem_diam_mm num_inflores herbivory site_id collect_date        V1  \\\n",
       "0          6.0          4.0      none     RRL    6/25/2021  0.753244   \n",
       "1          5.0          5.0      none     RRL    6/25/2021  0.708412   \n",
       "2          5.0          3.0      none     RRL    6/25/2021  0.778046   \n",
       "3          5.0          3.0      none     RRL    6/25/2021  0.720367   \n",
       "4          7.0          2.0      none     RRL    6/25/2021  0.572487   \n",
       "\n",
       "         V2   species       PC1       PC2       PC3       PC4       PC5  \n",
       "0  0.246756  exaltata  0.194769  0.048276  -0.02388 -0.017138 -0.039842  \n",
       "1  0.291588  exaltata  0.154924  0.071277  0.000923  -0.02583  0.005592  \n",
       "2  0.221954  exaltata   0.18775  0.035009 -0.016006 -0.012529 -0.011169  \n",
       "3  0.279633  exaltata  0.167167  0.046053 -0.032754 -0.016192 -0.028988  \n",
       "4  0.427513  exaltata  0.099801    0.0898  0.000613 -0.004979  0.017524  "
      ]
     },
     "execution_count": 72,
     "metadata": {},
     "output_type": "execute_result"
    }
   ],
   "source": [
    "newdf.head()"
   ]
  },
  {
   "cell_type": "markdown",
   "id": "c157658a",
   "metadata": {},
   "source": [
    "## Create PCA Based on Site for Morphological Features "
   ]
  },
  {
   "cell_type": "markdown",
   "id": "ac11d150",
   "metadata": {},
   "source": [
    "### Prepare Dataset"
   ]
  },
  {
   "cell_type": "code",
   "execution_count": 77,
   "id": "56d1cf54",
   "metadata": {},
   "outputs": [
    {
     "data": {
      "text/plain": [
       "Index(['plant_ht', 'num_leaves', 'stem_diam_mm', 'num_inflores'], dtype='object')"
      ]
     },
     "execution_count": 77,
     "metadata": {},
     "output_type": "execute_result"
    }
   ],
   "source": [
    "morph_char"
   ]
  },
  {
   "cell_type": "code",
   "execution_count": 75,
   "id": "d6b47617",
   "metadata": {},
   "outputs": [],
   "source": [
    "subdf = newdf[['plant_ht', 'num_leaves', 'stem_diam_mm', 'num_inflores', 'site_id']]"
   ]
  },
  {
   "cell_type": "code",
   "execution_count": 82,
   "id": "8d8ea8ea",
   "metadata": {},
   "outputs": [
    {
     "name": "stderr",
     "output_type": "stream",
     "text": [
      "C:\\Users\\15404\\AppData\\Local\\Temp\\ipykernel_18888\\446697363.py:3: SettingWithCopyWarning: \n",
      "A value is trying to be set on a copy of a slice from a DataFrame.\n",
      "Try using .loc[row_indexer,col_indexer] = value instead\n",
      "\n",
      "See the caveats in the documentation: https://pandas.pydata.org/pandas-docs/stable/user_guide/indexing.html#returning-a-view-versus-a-copy\n",
      "  subdf[i] = pd.to_numeric(subdf[i], errors='coerce')\n"
     ]
    },
    {
     "data": {
      "text/plain": [
       "(167, 5)"
      ]
     },
     "execution_count": 82,
     "metadata": {},
     "output_type": "execute_result"
    }
   ],
   "source": [
    "for i in morph_char:\n",
    "    subdf[i] = pd.to_numeric(subdf[i], errors='coerce')\n",
    "subdf.shape"
   ]
  },
  {
   "cell_type": "code",
   "execution_count": 86,
   "id": "83f6eae5",
   "metadata": {},
   "outputs": [],
   "source": [
    "subdf = subdf.dropna()"
   ]
  },
  {
   "cell_type": "code",
   "execution_count": 87,
   "id": "01561823",
   "metadata": {},
   "outputs": [
    {
     "data": {
      "text/plain": [
       "(152, 5)"
      ]
     },
     "execution_count": 87,
     "metadata": {},
     "output_type": "execute_result"
    }
   ],
   "source": [
    "subdf.shape"
   ]
  },
  {
   "cell_type": "markdown",
   "id": "883fc324",
   "metadata": {},
   "source": [
    "### Create PCA"
   ]
  },
  {
   "cell_type": "code",
   "execution_count": 89,
   "id": "46b67bed",
   "metadata": {},
   "outputs": [
    {
     "name": "stderr",
     "output_type": "stream",
     "text": [
      "C:\\Users\\15404\\AppData\\Local\\Temp\\ipykernel_18888\\2734575153.py:1: SettingWithCopyWarning:\n",
      "\n",
      "\n",
      "A value is trying to be set on a copy of a slice from a DataFrame.\n",
      "Try using .loc[row_indexer,col_indexer] = value instead\n",
      "\n",
      "See the caveats in the documentation: https://pandas.pydata.org/pandas-docs/stable/user_guide/indexing.html#returning-a-view-versus-a-copy\n",
      "\n"
     ]
    },
    {
     "data": {
      "application/vnd.plotly.v1+json": {
       "config": {
        "plotlyServerURL": "https://plot.ly"
       },
       "data": [
        {
         "hovertemplate": "color=RRL<br>0=%{x}<br>1=%{y}<extra></extra>",
         "legendgroup": "RRL",
         "marker": {
          "color": "#636efa",
          "symbol": "circle"
         },
         "mode": "markers",
         "name": "RRL",
         "orientation": "v",
         "showlegend": true,
         "type": "scatter",
         "x": [
          -1.524885097585952,
          -1.0368402231832077,
          -2.196859750892248,
          -1.6473360200629155,
          -0.12879542293760557,
          -0.010373376852132488,
          -1.1240863849368055,
          -0.5140556769235745,
          -1.619969881903876,
          1.5863394755361064,
          -0.13999614884412617,
          2.2887428963718017,
          1.9907648734276104,
          0.06808090634679606,
          1.1396993321290732,
          1.107086479688033,
          -0.5698439264092956,
          0.3824434717621641,
          -0.8254814084032708
         ],
         "xaxis": "x",
         "y": [
          -1.2206510924339526,
          -1.7214309756513573,
          -0.7059804156815639,
          -0.5172362782250939,
          -0.7212161205251686,
          -1.1129849594099337,
          -1.2990717876045652,
          -1.4625401944226877,
          0.09082375964947856,
          -1.7608520741090115,
          -1.4708142458210995,
          -1.518882909436304,
          -1.061339369038951,
          -1.2421954334638627,
          -1.5216202813821171,
          -1.5532209048844707,
          -0.6949138588687936,
          -1.5754533478941268,
          -1.0784086463551472
         ],
         "yaxis": "y"
        },
        {
         "hovertemplate": "color=FRW<br>0=%{x}<br>1=%{y}<extra></extra>",
         "legendgroup": "FRW",
         "marker": {
          "color": "#EF553B",
          "symbol": "circle"
         },
         "mode": "markers",
         "name": "FRW",
         "orientation": "v",
         "showlegend": true,
         "type": "scatter",
         "x": [
          0.22458164937396627,
          0.8108100067531728,
          1.1368440191630915,
          0.826510330139216,
          -0.02945699978797735,
          2.417530002631325,
          1.0985952523217117,
          1.1629119756784476,
          -0.11323834102208266,
          0.7066513159445786
         ],
         "xaxis": "x",
         "y": [
          -1.9129993498300446,
          -1.95544747923869,
          -1.0778712151580754,
          -1.0562592760519067,
          -0.5765508907211566,
          0.35882892913407005,
          -0.4996257776418395,
          -1.4293080106289775,
          -1.0951912746886057,
          -0.6655007115074674
         ],
         "yaxis": "y"
        },
        {
         "hovertemplate": "color=MMP<br>0=%{x}<br>1=%{y}<extra></extra>",
         "legendgroup": "MMP",
         "marker": {
          "color": "#00cc96",
          "symbol": "circle"
         },
         "mode": "markers",
         "name": "MMP",
         "orientation": "v",
         "showlegend": true,
         "type": "scatter",
         "x": [
          -1.456680857258464,
          -1.8816454694473241,
          -0.8098359575860284,
          -1.8105460966939004,
          -2.024669282582838,
          -1.6143702168199898,
          0.0966835056486907,
          -1.77173327398052,
          -2.337239356131893,
          -0.33494616567898666,
          -1.4036906552429347,
          -0.7529450675406825,
          -0.4036180678282117,
          0.5183451620409257,
          -0.6540903565098776,
          -1.0230862312378028,
          -0.8719417676019606,
          0.6548346773545605,
          -0.5590267683995614,
          -1.2795966254689417
         ],
         "xaxis": "x",
         "y": [
          2.016612934372785,
          1.4067544087464823,
          1.7548641173837705,
          1.5717029230257427,
          1.0595719017431033,
          1.8608318740877172,
          -0.45317921973272035,
          1.6228110821996535,
          0.22020194321132597,
          -0.04181899042243808,
          0.23962640617646772,
          -0.9124498577355608,
          1.28174894949179,
          2.816611850162739,
          -0.1728279522280995,
          0.6143897737513109,
          0.38713341506312354,
          1.2435889075887971,
          1.590033256896599,
          0.8592383086147785
         ],
         "yaxis": "y"
        },
        {
         "hovertemplate": "color=CMB<br>0=%{x}<br>1=%{y}<extra></extra>",
         "legendgroup": "CMB",
         "marker": {
          "color": "#ab63fa",
          "symbol": "circle"
         },
         "mode": "markers",
         "name": "CMB",
         "orientation": "v",
         "showlegend": true,
         "type": "scatter",
         "x": [
          0.6120945182104733,
          -1.5144757629469037,
          -2.0816018741379185,
          0.38262395973737834,
          1.249348122912225,
          -0.8744241107749604,
          0.1977223015911367,
          -1.9328768559577323,
          -1.3536771066230338,
          -0.9766807446079134,
          -0.5628153183647878,
          -1.39524370234161,
          -0.890406462097004,
          0.11128615435735983,
          -0.2909495264009493,
          0.872006835243761,
          -0.15676989143364295,
          -0.23471738425636088,
          1.1206786069105719,
          -0.02439334643645404
         ],
         "xaxis": "x",
         "y": [
          -0.34589906507555357,
          0.6519130550731167,
          0.6036967306976796,
          0.5892492392654811,
          -1.174470791369325,
          0.8327015214217692,
          -0.43859653214800315,
          0.870861563324762,
          1.0403326906463102,
          1.0829322728851747,
          -0.9068331155989878,
          -0.417052191118094,
          -0.3811634801100874,
          -0.6934337514076555,
          -0.6160233305773697,
          -1.5806002569098876,
          -1.5617132251418175,
          0.649960104468724,
          -0.9363331277367158,
          0.20239278385984166
         ],
         "yaxis": "y"
        },
        {
         "hovertemplate": "color=SLG<br>0=%{x}<br>1=%{y}<extra></extra>",
         "legendgroup": "SLG",
         "marker": {
          "color": "#FFA15A",
          "symbol": "circle"
         },
         "mode": "markers",
         "name": "SLG",
         "orientation": "v",
         "showlegend": true,
         "type": "scatter",
         "x": [
          -0.8741395098836979,
          -0.40041654273125565,
          -0.9204367178818893,
          1.0732277452168473,
          -0.4710415149920296,
          -0.9201011038547194,
          -1.6295531517260182,
          -0.12124140126454025,
          0.7436902700439936,
          -0.1327870528244044,
          -0.8629880243244247,
          -1.4516881267728265,
          0.3531123789101392,
          -0.4442314075564474,
          2.1783213375735238,
          -1.0006741813209572,
          0.6406865194085635
         ],
         "xaxis": "x",
         "y": [
          -2.372727356345982,
          -0.558523071486966,
          -0.9483051607292088,
          -0.9582972461716079,
          -1.5413130689220227,
          -0.8076600848798579,
          1.506938495853481,
          1.5950970932059436,
          1.0040049355331788,
          0.48196908460831417,
          1.8129176733251737,
          0.7637658784884005,
          -1.192650454457506,
          0.4203310177711611,
          -0.29729676233326363,
          0.5764179937391084,
          1.9802851792596543
         ],
         "yaxis": "y"
        },
        {
         "hovertemplate": "color=LFS<br>0=%{x}<br>1=%{y}<extra></extra>",
         "legendgroup": "LFS",
         "marker": {
          "color": "#19d3f3",
          "symbol": "circle"
         },
         "mode": "markers",
         "name": "LFS",
         "orientation": "v",
         "showlegend": true,
         "type": "scatter",
         "x": [
          1.2836227059026397,
          -1.448113741144006,
          -1.6004025468492076,
          -0.4855345985913701,
          -0.0875002570512254,
          0.08371833201549594,
          -0.39587958948592106,
          0.7721404255103125,
          -1.4557693027778578,
          -1.1366251119469666,
          -0.20785803647353118,
          -0.08082717276386589,
          0.594429240131446,
          0.2945597583154183
         ],
         "xaxis": "x",
         "y": [
          0.6259261636848935,
          -0.044321836831617084,
          -1.0405669847427477,
          -1.1681466805528633,
          -1.1156760677099027,
          -0.3918603152337042,
          -0.547759029310861,
          -0.7333922810623803,
          -0.5106092617481942,
          -0.3796002999425332,
          -0.8244427132133165,
          -0.15395717713772933,
          -0.25422433695114444,
          -0.2941328108900397
         ],
         "yaxis": "y"
        },
        {
         "hovertemplate": "color=RGT<br>0=%{x}<br>1=%{y}<extra></extra>",
         "legendgroup": "RGT",
         "marker": {
          "color": "#FF6692",
          "symbol": "circle"
         },
         "mode": "markers",
         "name": "RGT",
         "orientation": "v",
         "showlegend": true,
         "type": "scatter",
         "x": [
          -0.5468329670427442,
          -0.4584318651159831,
          -1.4867018014171762,
          -0.1526364158150731,
          -0.1531457791465461,
          -0.4202299456948618
         ],
         "xaxis": "x",
         "y": [
          0.3070318859328688,
          -0.42899382611867143,
          1.6723560612060104,
          1.298683030655467,
          2.7363258512116793,
          2.9097829424259865
         ],
         "yaxis": "y"
        },
        {
         "hovertemplate": "color=PTW<br>0=%{x}<br>1=%{y}<extra></extra>",
         "legendgroup": "PTW",
         "marker": {
          "color": "#B6E880",
          "symbol": "circle"
         },
         "mode": "markers",
         "name": "PTW",
         "orientation": "v",
         "showlegend": true,
         "type": "scatter",
         "x": [
          -0.5881361580776668,
          0.2940423698354029,
          -1.1684908475855298,
          -1.1974770147842109,
          -0.4015515731744416,
          -0.36504863080738886,
          -1.6773569642216284,
          -0.8075970001055861,
          -1.182001453838378,
          -0.3774671946044166
         ],
         "xaxis": "x",
         "y": [
          -1.2814458123911554,
          -0.8394276358425866,
          -1.1372504157079562,
          -0.3909176389696376,
          -1.5591397706339376,
          -0.8806985634505314,
          -0.8614931513918681,
          -0.9042596610911074,
          -1.2595154929943932,
          -1.36548324969834
         ],
         "yaxis": "y"
        },
        {
         "hovertemplate": "color=LM<br>0=%{x}<br>1=%{y}<extra></extra>",
         "legendgroup": "LM",
         "marker": {
          "color": "#FF97FF",
          "symbol": "circle"
         },
         "mode": "markers",
         "name": "LM",
         "orientation": "v",
         "showlegend": true,
         "type": "scatter",
         "x": [
          2.242737027935784,
          1.4660339957273392,
          2.5295503942616344,
          2.914591518028947,
          2.560381352940167,
          0.17849989218981166,
          -0.2552565985537171,
          0.5343487095705791,
          3.0264057704713925,
          0.8237353609264113,
          2.819300594523158,
          5.595887969832657,
          2.679247291684508,
          2.939485911118792,
          0.4846789093875083,
          0.5407678100615764
         ],
         "xaxis": "x",
         "y": [
          0.4431008919778891,
          0.11640239594826456,
          0.8571860286262698,
          1.3326863891353409,
          0.5242464944865995,
          1.056324095545921,
          0.739614283912481,
          0.9561407904864652,
          0.5090270463206951,
          0.611800062565731,
          1.322144798911927,
          0.3440755220189931,
          2.166087426201822,
          0.8491465027644923,
          1.2486519618505982,
          1.2414720395464716
         ],
         "yaxis": "y"
        },
        {
         "hovertemplate": "color=MKP<br>0=%{x}<br>1=%{y}<extra></extra>",
         "legendgroup": "MKP",
         "marker": {
          "color": "#FECB52",
          "symbol": "circle"
         },
         "mode": "markers",
         "name": "MKP",
         "orientation": "v",
         "showlegend": true,
         "type": "scatter",
         "x": [
          0.26868288787908073,
          1.6291239091451895,
          0.3118695126372975,
          0.4760700917633159,
          1.2618470304624292,
          3.0450429277931073,
          3.6400631637269827,
          -0.8711609744382919
         ],
         "xaxis": "x",
         "y": [
          0.6848385411364045,
          -0.5682806313927304,
          0.7878306082879182,
          0.1863975868902456,
          0.5346241672720797,
          1.4590888831447546,
          1.1234920397432455,
          0.80133542345605
         ],
         "yaxis": "y"
        },
        {
         "hovertemplate": "color=RF<br>0=%{x}<br>1=%{y}<extra></extra>",
         "legendgroup": "RF",
         "marker": {
          "color": "#636efa",
          "symbol": "circle"
         },
         "mode": "markers",
         "name": "RF",
         "orientation": "v",
         "showlegend": true,
         "type": "scatter",
         "x": [
          -0.9065089766321806,
          0.6458623108246776,
          -0.6689389638663664,
          1.450741495711983,
          0.7528376723558106,
          -0.45924187963580354,
          1.7975967503552583,
          -0.05453445380829909,
          -0.1049115513338908
         ],
         "xaxis": "x",
         "y": [
          -0.19077230773210285,
          -0.6279649655779473,
          1.373976583443427,
          -0.37040283898019627,
          -0.46278192576205224,
          0.24820258118777375,
          0.7321960440017344,
          1.2623920846029075,
          -0.34761369807332654
         ],
         "yaxis": "y"
        },
        {
         "hovertemplate": "color=PNR<br>0=%{x}<br>1=%{y}<extra></extra>",
         "legendgroup": "PNR",
         "marker": {
          "color": "#EF553B",
          "symbol": "circle"
         },
         "mode": "markers",
         "name": "PNR",
         "orientation": "v",
         "showlegend": true,
         "type": "scatter",
         "x": [
          -1.1789027551798392,
          -0.24829088822655235,
          -1.0715824679953625
         ],
         "xaxis": "x",
         "y": [
          0.5102911128977978,
          0.47884194222566234,
          1.0390040360153907
         ],
         "yaxis": "y"
        }
       ],
       "layout": {
        "legend": {
         "title": {
          "text": "color"
         },
         "tracegroupgap": 0
        },
        "margin": {
         "t": 60
        },
        "template": {
         "data": {
          "bar": [
           {
            "error_x": {
             "color": "#2a3f5f"
            },
            "error_y": {
             "color": "#2a3f5f"
            },
            "marker": {
             "line": {
              "color": "#E5ECF6",
              "width": 0.5
             },
             "pattern": {
              "fillmode": "overlay",
              "size": 10,
              "solidity": 0.2
             }
            },
            "type": "bar"
           }
          ],
          "barpolar": [
           {
            "marker": {
             "line": {
              "color": "#E5ECF6",
              "width": 0.5
             },
             "pattern": {
              "fillmode": "overlay",
              "size": 10,
              "solidity": 0.2
             }
            },
            "type": "barpolar"
           }
          ],
          "carpet": [
           {
            "aaxis": {
             "endlinecolor": "#2a3f5f",
             "gridcolor": "white",
             "linecolor": "white",
             "minorgridcolor": "white",
             "startlinecolor": "#2a3f5f"
            },
            "baxis": {
             "endlinecolor": "#2a3f5f",
             "gridcolor": "white",
             "linecolor": "white",
             "minorgridcolor": "white",
             "startlinecolor": "#2a3f5f"
            },
            "type": "carpet"
           }
          ],
          "choropleth": [
           {
            "colorbar": {
             "outlinewidth": 0,
             "ticks": ""
            },
            "type": "choropleth"
           }
          ],
          "contour": [
           {
            "colorbar": {
             "outlinewidth": 0,
             "ticks": ""
            },
            "colorscale": [
             [
              0,
              "#0d0887"
             ],
             [
              0.1111111111111111,
              "#46039f"
             ],
             [
              0.2222222222222222,
              "#7201a8"
             ],
             [
              0.3333333333333333,
              "#9c179e"
             ],
             [
              0.4444444444444444,
              "#bd3786"
             ],
             [
              0.5555555555555556,
              "#d8576b"
             ],
             [
              0.6666666666666666,
              "#ed7953"
             ],
             [
              0.7777777777777778,
              "#fb9f3a"
             ],
             [
              0.8888888888888888,
              "#fdca26"
             ],
             [
              1,
              "#f0f921"
             ]
            ],
            "type": "contour"
           }
          ],
          "contourcarpet": [
           {
            "colorbar": {
             "outlinewidth": 0,
             "ticks": ""
            },
            "type": "contourcarpet"
           }
          ],
          "heatmap": [
           {
            "colorbar": {
             "outlinewidth": 0,
             "ticks": ""
            },
            "colorscale": [
             [
              0,
              "#0d0887"
             ],
             [
              0.1111111111111111,
              "#46039f"
             ],
             [
              0.2222222222222222,
              "#7201a8"
             ],
             [
              0.3333333333333333,
              "#9c179e"
             ],
             [
              0.4444444444444444,
              "#bd3786"
             ],
             [
              0.5555555555555556,
              "#d8576b"
             ],
             [
              0.6666666666666666,
              "#ed7953"
             ],
             [
              0.7777777777777778,
              "#fb9f3a"
             ],
             [
              0.8888888888888888,
              "#fdca26"
             ],
             [
              1,
              "#f0f921"
             ]
            ],
            "type": "heatmap"
           }
          ],
          "heatmapgl": [
           {
            "colorbar": {
             "outlinewidth": 0,
             "ticks": ""
            },
            "colorscale": [
             [
              0,
              "#0d0887"
             ],
             [
              0.1111111111111111,
              "#46039f"
             ],
             [
              0.2222222222222222,
              "#7201a8"
             ],
             [
              0.3333333333333333,
              "#9c179e"
             ],
             [
              0.4444444444444444,
              "#bd3786"
             ],
             [
              0.5555555555555556,
              "#d8576b"
             ],
             [
              0.6666666666666666,
              "#ed7953"
             ],
             [
              0.7777777777777778,
              "#fb9f3a"
             ],
             [
              0.8888888888888888,
              "#fdca26"
             ],
             [
              1,
              "#f0f921"
             ]
            ],
            "type": "heatmapgl"
           }
          ],
          "histogram": [
           {
            "marker": {
             "pattern": {
              "fillmode": "overlay",
              "size": 10,
              "solidity": 0.2
             }
            },
            "type": "histogram"
           }
          ],
          "histogram2d": [
           {
            "colorbar": {
             "outlinewidth": 0,
             "ticks": ""
            },
            "colorscale": [
             [
              0,
              "#0d0887"
             ],
             [
              0.1111111111111111,
              "#46039f"
             ],
             [
              0.2222222222222222,
              "#7201a8"
             ],
             [
              0.3333333333333333,
              "#9c179e"
             ],
             [
              0.4444444444444444,
              "#bd3786"
             ],
             [
              0.5555555555555556,
              "#d8576b"
             ],
             [
              0.6666666666666666,
              "#ed7953"
             ],
             [
              0.7777777777777778,
              "#fb9f3a"
             ],
             [
              0.8888888888888888,
              "#fdca26"
             ],
             [
              1,
              "#f0f921"
             ]
            ],
            "type": "histogram2d"
           }
          ],
          "histogram2dcontour": [
           {
            "colorbar": {
             "outlinewidth": 0,
             "ticks": ""
            },
            "colorscale": [
             [
              0,
              "#0d0887"
             ],
             [
              0.1111111111111111,
              "#46039f"
             ],
             [
              0.2222222222222222,
              "#7201a8"
             ],
             [
              0.3333333333333333,
              "#9c179e"
             ],
             [
              0.4444444444444444,
              "#bd3786"
             ],
             [
              0.5555555555555556,
              "#d8576b"
             ],
             [
              0.6666666666666666,
              "#ed7953"
             ],
             [
              0.7777777777777778,
              "#fb9f3a"
             ],
             [
              0.8888888888888888,
              "#fdca26"
             ],
             [
              1,
              "#f0f921"
             ]
            ],
            "type": "histogram2dcontour"
           }
          ],
          "mesh3d": [
           {
            "colorbar": {
             "outlinewidth": 0,
             "ticks": ""
            },
            "type": "mesh3d"
           }
          ],
          "parcoords": [
           {
            "line": {
             "colorbar": {
              "outlinewidth": 0,
              "ticks": ""
             }
            },
            "type": "parcoords"
           }
          ],
          "pie": [
           {
            "automargin": true,
            "type": "pie"
           }
          ],
          "scatter": [
           {
            "fillpattern": {
             "fillmode": "overlay",
             "size": 10,
             "solidity": 0.2
            },
            "type": "scatter"
           }
          ],
          "scatter3d": [
           {
            "line": {
             "colorbar": {
              "outlinewidth": 0,
              "ticks": ""
             }
            },
            "marker": {
             "colorbar": {
              "outlinewidth": 0,
              "ticks": ""
             }
            },
            "type": "scatter3d"
           }
          ],
          "scattercarpet": [
           {
            "marker": {
             "colorbar": {
              "outlinewidth": 0,
              "ticks": ""
             }
            },
            "type": "scattercarpet"
           }
          ],
          "scattergeo": [
           {
            "marker": {
             "colorbar": {
              "outlinewidth": 0,
              "ticks": ""
             }
            },
            "type": "scattergeo"
           }
          ],
          "scattergl": [
           {
            "marker": {
             "colorbar": {
              "outlinewidth": 0,
              "ticks": ""
             }
            },
            "type": "scattergl"
           }
          ],
          "scattermapbox": [
           {
            "marker": {
             "colorbar": {
              "outlinewidth": 0,
              "ticks": ""
             }
            },
            "type": "scattermapbox"
           }
          ],
          "scatterpolar": [
           {
            "marker": {
             "colorbar": {
              "outlinewidth": 0,
              "ticks": ""
             }
            },
            "type": "scatterpolar"
           }
          ],
          "scatterpolargl": [
           {
            "marker": {
             "colorbar": {
              "outlinewidth": 0,
              "ticks": ""
             }
            },
            "type": "scatterpolargl"
           }
          ],
          "scatterternary": [
           {
            "marker": {
             "colorbar": {
              "outlinewidth": 0,
              "ticks": ""
             }
            },
            "type": "scatterternary"
           }
          ],
          "surface": [
           {
            "colorbar": {
             "outlinewidth": 0,
             "ticks": ""
            },
            "colorscale": [
             [
              0,
              "#0d0887"
             ],
             [
              0.1111111111111111,
              "#46039f"
             ],
             [
              0.2222222222222222,
              "#7201a8"
             ],
             [
              0.3333333333333333,
              "#9c179e"
             ],
             [
              0.4444444444444444,
              "#bd3786"
             ],
             [
              0.5555555555555556,
              "#d8576b"
             ],
             [
              0.6666666666666666,
              "#ed7953"
             ],
             [
              0.7777777777777778,
              "#fb9f3a"
             ],
             [
              0.8888888888888888,
              "#fdca26"
             ],
             [
              1,
              "#f0f921"
             ]
            ],
            "type": "surface"
           }
          ],
          "table": [
           {
            "cells": {
             "fill": {
              "color": "#EBF0F8"
             },
             "line": {
              "color": "white"
             }
            },
            "header": {
             "fill": {
              "color": "#C8D4E3"
             },
             "line": {
              "color": "white"
             }
            },
            "type": "table"
           }
          ]
         },
         "layout": {
          "annotationdefaults": {
           "arrowcolor": "#2a3f5f",
           "arrowhead": 0,
           "arrowwidth": 1
          },
          "autotypenumbers": "strict",
          "coloraxis": {
           "colorbar": {
            "outlinewidth": 0,
            "ticks": ""
           }
          },
          "colorscale": {
           "diverging": [
            [
             0,
             "#8e0152"
            ],
            [
             0.1,
             "#c51b7d"
            ],
            [
             0.2,
             "#de77ae"
            ],
            [
             0.3,
             "#f1b6da"
            ],
            [
             0.4,
             "#fde0ef"
            ],
            [
             0.5,
             "#f7f7f7"
            ],
            [
             0.6,
             "#e6f5d0"
            ],
            [
             0.7,
             "#b8e186"
            ],
            [
             0.8,
             "#7fbc41"
            ],
            [
             0.9,
             "#4d9221"
            ],
            [
             1,
             "#276419"
            ]
           ],
           "sequential": [
            [
             0,
             "#0d0887"
            ],
            [
             0.1111111111111111,
             "#46039f"
            ],
            [
             0.2222222222222222,
             "#7201a8"
            ],
            [
             0.3333333333333333,
             "#9c179e"
            ],
            [
             0.4444444444444444,
             "#bd3786"
            ],
            [
             0.5555555555555556,
             "#d8576b"
            ],
            [
             0.6666666666666666,
             "#ed7953"
            ],
            [
             0.7777777777777778,
             "#fb9f3a"
            ],
            [
             0.8888888888888888,
             "#fdca26"
            ],
            [
             1,
             "#f0f921"
            ]
           ],
           "sequentialminus": [
            [
             0,
             "#0d0887"
            ],
            [
             0.1111111111111111,
             "#46039f"
            ],
            [
             0.2222222222222222,
             "#7201a8"
            ],
            [
             0.3333333333333333,
             "#9c179e"
            ],
            [
             0.4444444444444444,
             "#bd3786"
            ],
            [
             0.5555555555555556,
             "#d8576b"
            ],
            [
             0.6666666666666666,
             "#ed7953"
            ],
            [
             0.7777777777777778,
             "#fb9f3a"
            ],
            [
             0.8888888888888888,
             "#fdca26"
            ],
            [
             1,
             "#f0f921"
            ]
           ]
          },
          "colorway": [
           "#636efa",
           "#EF553B",
           "#00cc96",
           "#ab63fa",
           "#FFA15A",
           "#19d3f3",
           "#FF6692",
           "#B6E880",
           "#FF97FF",
           "#FECB52"
          ],
          "font": {
           "color": "#2a3f5f"
          },
          "geo": {
           "bgcolor": "white",
           "lakecolor": "white",
           "landcolor": "#E5ECF6",
           "showlakes": true,
           "showland": true,
           "subunitcolor": "white"
          },
          "hoverlabel": {
           "align": "left"
          },
          "hovermode": "closest",
          "mapbox": {
           "style": "light"
          },
          "paper_bgcolor": "white",
          "plot_bgcolor": "#E5ECF6",
          "polar": {
           "angularaxis": {
            "gridcolor": "white",
            "linecolor": "white",
            "ticks": ""
           },
           "bgcolor": "#E5ECF6",
           "radialaxis": {
            "gridcolor": "white",
            "linecolor": "white",
            "ticks": ""
           }
          },
          "scene": {
           "xaxis": {
            "backgroundcolor": "#E5ECF6",
            "gridcolor": "white",
            "gridwidth": 2,
            "linecolor": "white",
            "showbackground": true,
            "ticks": "",
            "zerolinecolor": "white"
           },
           "yaxis": {
            "backgroundcolor": "#E5ECF6",
            "gridcolor": "white",
            "gridwidth": 2,
            "linecolor": "white",
            "showbackground": true,
            "ticks": "",
            "zerolinecolor": "white"
           },
           "zaxis": {
            "backgroundcolor": "#E5ECF6",
            "gridcolor": "white",
            "gridwidth": 2,
            "linecolor": "white",
            "showbackground": true,
            "ticks": "",
            "zerolinecolor": "white"
           }
          },
          "shapedefaults": {
           "line": {
            "color": "#2a3f5f"
           }
          },
          "ternary": {
           "aaxis": {
            "gridcolor": "white",
            "linecolor": "white",
            "ticks": ""
           },
           "baxis": {
            "gridcolor": "white",
            "linecolor": "white",
            "ticks": ""
           },
           "bgcolor": "#E5ECF6",
           "caxis": {
            "gridcolor": "white",
            "linecolor": "white",
            "ticks": ""
           }
          },
          "title": {
           "x": 0.05
          },
          "xaxis": {
           "automargin": true,
           "gridcolor": "white",
           "linecolor": "white",
           "ticks": "",
           "title": {
            "standoff": 15
           },
           "zerolinecolor": "white",
           "zerolinewidth": 2
          },
          "yaxis": {
           "automargin": true,
           "gridcolor": "white",
           "linecolor": "white",
           "ticks": "",
           "title": {
            "standoff": 15
           },
           "zerolinecolor": "white",
           "zerolinewidth": 2
          }
         }
        },
        "title": {
         "text": "Plant Nutrients by Site Not Including Nitrogen PCA"
        },
        "xaxis": {
         "anchor": "y",
         "domain": [
          0,
          1
         ],
         "title": {
          "text": "PC1 44.1%"
         }
        },
        "yaxis": {
         "anchor": "x",
         "domain": [
          0,
          1
         ],
         "title": {
          "text": "PC2 31.0%"
         }
        }
       }
      },
      "text/html": [
       "<div>                            <div id=\"6f0cdcc8-29d4-48ff-8b7b-b40fa536505b\" class=\"plotly-graph-div\" style=\"height:525px; width:100%;\"></div>            <script type=\"text/javascript\">                require([\"plotly\"], function(Plotly) {                    window.PLOTLYENV=window.PLOTLYENV || {};                                    if (document.getElementById(\"6f0cdcc8-29d4-48ff-8b7b-b40fa536505b\")) {                    Plotly.newPlot(                        \"6f0cdcc8-29d4-48ff-8b7b-b40fa536505b\",                        [{\"hovertemplate\":\"color=RRL<br>0=%{x}<br>1=%{y}<extra></extra>\",\"legendgroup\":\"RRL\",\"marker\":{\"color\":\"#636efa\",\"symbol\":\"circle\"},\"mode\":\"markers\",\"name\":\"RRL\",\"orientation\":\"v\",\"showlegend\":true,\"x\":[-1.524885097585952,-1.0368402231832077,-2.196859750892248,-1.6473360200629155,-0.12879542293760557,-0.010373376852132488,-1.1240863849368055,-0.5140556769235745,-1.619969881903876,1.5863394755361064,-0.13999614884412617,2.2887428963718017,1.9907648734276104,0.06808090634679606,1.1396993321290732,1.107086479688033,-0.5698439264092956,0.3824434717621641,-0.8254814084032708],\"xaxis\":\"x\",\"y\":[-1.2206510924339526,-1.7214309756513573,-0.7059804156815639,-0.5172362782250939,-0.7212161205251686,-1.1129849594099337,-1.2990717876045652,-1.4625401944226877,0.09082375964947856,-1.7608520741090115,-1.4708142458210995,-1.518882909436304,-1.061339369038951,-1.2421954334638627,-1.5216202813821171,-1.5532209048844707,-0.6949138588687936,-1.5754533478941268,-1.0784086463551472],\"yaxis\":\"y\",\"type\":\"scatter\"},{\"hovertemplate\":\"color=FRW<br>0=%{x}<br>1=%{y}<extra></extra>\",\"legendgroup\":\"FRW\",\"marker\":{\"color\":\"#EF553B\",\"symbol\":\"circle\"},\"mode\":\"markers\",\"name\":\"FRW\",\"orientation\":\"v\",\"showlegend\":true,\"x\":[0.22458164937396627,0.8108100067531728,1.1368440191630915,0.826510330139216,-0.02945699978797735,2.417530002631325,1.0985952523217117,1.1629119756784476,-0.11323834102208266,0.7066513159445786],\"xaxis\":\"x\",\"y\":[-1.9129993498300446,-1.95544747923869,-1.0778712151580754,-1.0562592760519067,-0.5765508907211566,0.35882892913407005,-0.4996257776418395,-1.4293080106289775,-1.0951912746886057,-0.6655007115074674],\"yaxis\":\"y\",\"type\":\"scatter\"},{\"hovertemplate\":\"color=MMP<br>0=%{x}<br>1=%{y}<extra></extra>\",\"legendgroup\":\"MMP\",\"marker\":{\"color\":\"#00cc96\",\"symbol\":\"circle\"},\"mode\":\"markers\",\"name\":\"MMP\",\"orientation\":\"v\",\"showlegend\":true,\"x\":[-1.456680857258464,-1.8816454694473241,-0.8098359575860284,-1.8105460966939004,-2.024669282582838,-1.6143702168199898,0.0966835056486907,-1.77173327398052,-2.337239356131893,-0.33494616567898666,-1.4036906552429347,-0.7529450675406825,-0.4036180678282117,0.5183451620409257,-0.6540903565098776,-1.0230862312378028,-0.8719417676019606,0.6548346773545605,-0.5590267683995614,-1.2795966254689417],\"xaxis\":\"x\",\"y\":[2.016612934372785,1.4067544087464823,1.7548641173837705,1.5717029230257427,1.0595719017431033,1.8608318740877172,-0.45317921973272035,1.6228110821996535,0.22020194321132597,-0.04181899042243808,0.23962640617646772,-0.9124498577355608,1.28174894949179,2.816611850162739,-0.1728279522280995,0.6143897737513109,0.38713341506312354,1.2435889075887971,1.590033256896599,0.8592383086147785],\"yaxis\":\"y\",\"type\":\"scatter\"},{\"hovertemplate\":\"color=CMB<br>0=%{x}<br>1=%{y}<extra></extra>\",\"legendgroup\":\"CMB\",\"marker\":{\"color\":\"#ab63fa\",\"symbol\":\"circle\"},\"mode\":\"markers\",\"name\":\"CMB\",\"orientation\":\"v\",\"showlegend\":true,\"x\":[0.6120945182104733,-1.5144757629469037,-2.0816018741379185,0.38262395973737834,1.249348122912225,-0.8744241107749604,0.1977223015911367,-1.9328768559577323,-1.3536771066230338,-0.9766807446079134,-0.5628153183647878,-1.39524370234161,-0.890406462097004,0.11128615435735983,-0.2909495264009493,0.872006835243761,-0.15676989143364295,-0.23471738425636088,1.1206786069105719,-0.02439334643645404],\"xaxis\":\"x\",\"y\":[-0.34589906507555357,0.6519130550731167,0.6036967306976796,0.5892492392654811,-1.174470791369325,0.8327015214217692,-0.43859653214800315,0.870861563324762,1.0403326906463102,1.0829322728851747,-0.9068331155989878,-0.417052191118094,-0.3811634801100874,-0.6934337514076555,-0.6160233305773697,-1.5806002569098876,-1.5617132251418175,0.649960104468724,-0.9363331277367158,0.20239278385984166],\"yaxis\":\"y\",\"type\":\"scatter\"},{\"hovertemplate\":\"color=SLG<br>0=%{x}<br>1=%{y}<extra></extra>\",\"legendgroup\":\"SLG\",\"marker\":{\"color\":\"#FFA15A\",\"symbol\":\"circle\"},\"mode\":\"markers\",\"name\":\"SLG\",\"orientation\":\"v\",\"showlegend\":true,\"x\":[-0.8741395098836979,-0.40041654273125565,-0.9204367178818893,1.0732277452168473,-0.4710415149920296,-0.9201011038547194,-1.6295531517260182,-0.12124140126454025,0.7436902700439936,-0.1327870528244044,-0.8629880243244247,-1.4516881267728265,0.3531123789101392,-0.4442314075564474,2.1783213375735238,-1.0006741813209572,0.6406865194085635],\"xaxis\":\"x\",\"y\":[-2.372727356345982,-0.558523071486966,-0.9483051607292088,-0.9582972461716079,-1.5413130689220227,-0.8076600848798579,1.506938495853481,1.5950970932059436,1.0040049355331788,0.48196908460831417,1.8129176733251737,0.7637658784884005,-1.192650454457506,0.4203310177711611,-0.29729676233326363,0.5764179937391084,1.9802851792596543],\"yaxis\":\"y\",\"type\":\"scatter\"},{\"hovertemplate\":\"color=LFS<br>0=%{x}<br>1=%{y}<extra></extra>\",\"legendgroup\":\"LFS\",\"marker\":{\"color\":\"#19d3f3\",\"symbol\":\"circle\"},\"mode\":\"markers\",\"name\":\"LFS\",\"orientation\":\"v\",\"showlegend\":true,\"x\":[1.2836227059026397,-1.448113741144006,-1.6004025468492076,-0.4855345985913701,-0.0875002570512254,0.08371833201549594,-0.39587958948592106,0.7721404255103125,-1.4557693027778578,-1.1366251119469666,-0.20785803647353118,-0.08082717276386589,0.594429240131446,0.2945597583154183],\"xaxis\":\"x\",\"y\":[0.6259261636848935,-0.044321836831617084,-1.0405669847427477,-1.1681466805528633,-1.1156760677099027,-0.3918603152337042,-0.547759029310861,-0.7333922810623803,-0.5106092617481942,-0.3796002999425332,-0.8244427132133165,-0.15395717713772933,-0.25422433695114444,-0.2941328108900397],\"yaxis\":\"y\",\"type\":\"scatter\"},{\"hovertemplate\":\"color=RGT<br>0=%{x}<br>1=%{y}<extra></extra>\",\"legendgroup\":\"RGT\",\"marker\":{\"color\":\"#FF6692\",\"symbol\":\"circle\"},\"mode\":\"markers\",\"name\":\"RGT\",\"orientation\":\"v\",\"showlegend\":true,\"x\":[-0.5468329670427442,-0.4584318651159831,-1.4867018014171762,-0.1526364158150731,-0.1531457791465461,-0.4202299456948618],\"xaxis\":\"x\",\"y\":[0.3070318859328688,-0.42899382611867143,1.6723560612060104,1.298683030655467,2.7363258512116793,2.9097829424259865],\"yaxis\":\"y\",\"type\":\"scatter\"},{\"hovertemplate\":\"color=PTW<br>0=%{x}<br>1=%{y}<extra></extra>\",\"legendgroup\":\"PTW\",\"marker\":{\"color\":\"#B6E880\",\"symbol\":\"circle\"},\"mode\":\"markers\",\"name\":\"PTW\",\"orientation\":\"v\",\"showlegend\":true,\"x\":[-0.5881361580776668,0.2940423698354029,-1.1684908475855298,-1.1974770147842109,-0.4015515731744416,-0.36504863080738886,-1.6773569642216284,-0.8075970001055861,-1.182001453838378,-0.3774671946044166],\"xaxis\":\"x\",\"y\":[-1.2814458123911554,-0.8394276358425866,-1.1372504157079562,-0.3909176389696376,-1.5591397706339376,-0.8806985634505314,-0.8614931513918681,-0.9042596610911074,-1.2595154929943932,-1.36548324969834],\"yaxis\":\"y\",\"type\":\"scatter\"},{\"hovertemplate\":\"color=LM<br>0=%{x}<br>1=%{y}<extra></extra>\",\"legendgroup\":\"LM\",\"marker\":{\"color\":\"#FF97FF\",\"symbol\":\"circle\"},\"mode\":\"markers\",\"name\":\"LM\",\"orientation\":\"v\",\"showlegend\":true,\"x\":[2.242737027935784,1.4660339957273392,2.5295503942616344,2.914591518028947,2.560381352940167,0.17849989218981166,-0.2552565985537171,0.5343487095705791,3.0264057704713925,0.8237353609264113,2.819300594523158,5.595887969832657,2.679247291684508,2.939485911118792,0.4846789093875083,0.5407678100615764],\"xaxis\":\"x\",\"y\":[0.4431008919778891,0.11640239594826456,0.8571860286262698,1.3326863891353409,0.5242464944865995,1.056324095545921,0.739614283912481,0.9561407904864652,0.5090270463206951,0.611800062565731,1.322144798911927,0.3440755220189931,2.166087426201822,0.8491465027644923,1.2486519618505982,1.2414720395464716],\"yaxis\":\"y\",\"type\":\"scatter\"},{\"hovertemplate\":\"color=MKP<br>0=%{x}<br>1=%{y}<extra></extra>\",\"legendgroup\":\"MKP\",\"marker\":{\"color\":\"#FECB52\",\"symbol\":\"circle\"},\"mode\":\"markers\",\"name\":\"MKP\",\"orientation\":\"v\",\"showlegend\":true,\"x\":[0.26868288787908073,1.6291239091451895,0.3118695126372975,0.4760700917633159,1.2618470304624292,3.0450429277931073,3.6400631637269827,-0.8711609744382919],\"xaxis\":\"x\",\"y\":[0.6848385411364045,-0.5682806313927304,0.7878306082879182,0.1863975868902456,0.5346241672720797,1.4590888831447546,1.1234920397432455,0.80133542345605],\"yaxis\":\"y\",\"type\":\"scatter\"},{\"hovertemplate\":\"color=RF<br>0=%{x}<br>1=%{y}<extra></extra>\",\"legendgroup\":\"RF\",\"marker\":{\"color\":\"#636efa\",\"symbol\":\"circle\"},\"mode\":\"markers\",\"name\":\"RF\",\"orientation\":\"v\",\"showlegend\":true,\"x\":[-0.9065089766321806,0.6458623108246776,-0.6689389638663664,1.450741495711983,0.7528376723558106,-0.45924187963580354,1.7975967503552583,-0.05453445380829909,-0.1049115513338908],\"xaxis\":\"x\",\"y\":[-0.19077230773210285,-0.6279649655779473,1.373976583443427,-0.37040283898019627,-0.46278192576205224,0.24820258118777375,0.7321960440017344,1.2623920846029075,-0.34761369807332654],\"yaxis\":\"y\",\"type\":\"scatter\"},{\"hovertemplate\":\"color=PNR<br>0=%{x}<br>1=%{y}<extra></extra>\",\"legendgroup\":\"PNR\",\"marker\":{\"color\":\"#EF553B\",\"symbol\":\"circle\"},\"mode\":\"markers\",\"name\":\"PNR\",\"orientation\":\"v\",\"showlegend\":true,\"x\":[-1.1789027551798392,-0.24829088822655235,-1.0715824679953625],\"xaxis\":\"x\",\"y\":[0.5102911128977978,0.47884194222566234,1.0390040360153907],\"yaxis\":\"y\",\"type\":\"scatter\"}],                        {\"template\":{\"data\":{\"histogram2dcontour\":[{\"type\":\"histogram2dcontour\",\"colorbar\":{\"outlinewidth\":0,\"ticks\":\"\"},\"colorscale\":[[0.0,\"#0d0887\"],[0.1111111111111111,\"#46039f\"],[0.2222222222222222,\"#7201a8\"],[0.3333333333333333,\"#9c179e\"],[0.4444444444444444,\"#bd3786\"],[0.5555555555555556,\"#d8576b\"],[0.6666666666666666,\"#ed7953\"],[0.7777777777777778,\"#fb9f3a\"],[0.8888888888888888,\"#fdca26\"],[1.0,\"#f0f921\"]]}],\"choropleth\":[{\"type\":\"choropleth\",\"colorbar\":{\"outlinewidth\":0,\"ticks\":\"\"}}],\"histogram2d\":[{\"type\":\"histogram2d\",\"colorbar\":{\"outlinewidth\":0,\"ticks\":\"\"},\"colorscale\":[[0.0,\"#0d0887\"],[0.1111111111111111,\"#46039f\"],[0.2222222222222222,\"#7201a8\"],[0.3333333333333333,\"#9c179e\"],[0.4444444444444444,\"#bd3786\"],[0.5555555555555556,\"#d8576b\"],[0.6666666666666666,\"#ed7953\"],[0.7777777777777778,\"#fb9f3a\"],[0.8888888888888888,\"#fdca26\"],[1.0,\"#f0f921\"]]}],\"heatmap\":[{\"type\":\"heatmap\",\"colorbar\":{\"outlinewidth\":0,\"ticks\":\"\"},\"colorscale\":[[0.0,\"#0d0887\"],[0.1111111111111111,\"#46039f\"],[0.2222222222222222,\"#7201a8\"],[0.3333333333333333,\"#9c179e\"],[0.4444444444444444,\"#bd3786\"],[0.5555555555555556,\"#d8576b\"],[0.6666666666666666,\"#ed7953\"],[0.7777777777777778,\"#fb9f3a\"],[0.8888888888888888,\"#fdca26\"],[1.0,\"#f0f921\"]]}],\"heatmapgl\":[{\"type\":\"heatmapgl\",\"colorbar\":{\"outlinewidth\":0,\"ticks\":\"\"},\"colorscale\":[[0.0,\"#0d0887\"],[0.1111111111111111,\"#46039f\"],[0.2222222222222222,\"#7201a8\"],[0.3333333333333333,\"#9c179e\"],[0.4444444444444444,\"#bd3786\"],[0.5555555555555556,\"#d8576b\"],[0.6666666666666666,\"#ed7953\"],[0.7777777777777778,\"#fb9f3a\"],[0.8888888888888888,\"#fdca26\"],[1.0,\"#f0f921\"]]}],\"contourcarpet\":[{\"type\":\"contourcarpet\",\"colorbar\":{\"outlinewidth\":0,\"ticks\":\"\"}}],\"contour\":[{\"type\":\"contour\",\"colorbar\":{\"outlinewidth\":0,\"ticks\":\"\"},\"colorscale\":[[0.0,\"#0d0887\"],[0.1111111111111111,\"#46039f\"],[0.2222222222222222,\"#7201a8\"],[0.3333333333333333,\"#9c179e\"],[0.4444444444444444,\"#bd3786\"],[0.5555555555555556,\"#d8576b\"],[0.6666666666666666,\"#ed7953\"],[0.7777777777777778,\"#fb9f3a\"],[0.8888888888888888,\"#fdca26\"],[1.0,\"#f0f921\"]]}],\"surface\":[{\"type\":\"surface\",\"colorbar\":{\"outlinewidth\":0,\"ticks\":\"\"},\"colorscale\":[[0.0,\"#0d0887\"],[0.1111111111111111,\"#46039f\"],[0.2222222222222222,\"#7201a8\"],[0.3333333333333333,\"#9c179e\"],[0.4444444444444444,\"#bd3786\"],[0.5555555555555556,\"#d8576b\"],[0.6666666666666666,\"#ed7953\"],[0.7777777777777778,\"#fb9f3a\"],[0.8888888888888888,\"#fdca26\"],[1.0,\"#f0f921\"]]}],\"mesh3d\":[{\"type\":\"mesh3d\",\"colorbar\":{\"outlinewidth\":0,\"ticks\":\"\"}}],\"scatter\":[{\"fillpattern\":{\"fillmode\":\"overlay\",\"size\":10,\"solidity\":0.2},\"type\":\"scatter\"}],\"parcoords\":[{\"type\":\"parcoords\",\"line\":{\"colorbar\":{\"outlinewidth\":0,\"ticks\":\"\"}}}],\"scatterpolargl\":[{\"type\":\"scatterpolargl\",\"marker\":{\"colorbar\":{\"outlinewidth\":0,\"ticks\":\"\"}}}],\"bar\":[{\"error_x\":{\"color\":\"#2a3f5f\"},\"error_y\":{\"color\":\"#2a3f5f\"},\"marker\":{\"line\":{\"color\":\"#E5ECF6\",\"width\":0.5},\"pattern\":{\"fillmode\":\"overlay\",\"size\":10,\"solidity\":0.2}},\"type\":\"bar\"}],\"scattergeo\":[{\"type\":\"scattergeo\",\"marker\":{\"colorbar\":{\"outlinewidth\":0,\"ticks\":\"\"}}}],\"scatterpolar\":[{\"type\":\"scatterpolar\",\"marker\":{\"colorbar\":{\"outlinewidth\":0,\"ticks\":\"\"}}}],\"histogram\":[{\"marker\":{\"pattern\":{\"fillmode\":\"overlay\",\"size\":10,\"solidity\":0.2}},\"type\":\"histogram\"}],\"scattergl\":[{\"type\":\"scattergl\",\"marker\":{\"colorbar\":{\"outlinewidth\":0,\"ticks\":\"\"}}}],\"scatter3d\":[{\"type\":\"scatter3d\",\"line\":{\"colorbar\":{\"outlinewidth\":0,\"ticks\":\"\"}},\"marker\":{\"colorbar\":{\"outlinewidth\":0,\"ticks\":\"\"}}}],\"scattermapbox\":[{\"type\":\"scattermapbox\",\"marker\":{\"colorbar\":{\"outlinewidth\":0,\"ticks\":\"\"}}}],\"scatterternary\":[{\"type\":\"scatterternary\",\"marker\":{\"colorbar\":{\"outlinewidth\":0,\"ticks\":\"\"}}}],\"scattercarpet\":[{\"type\":\"scattercarpet\",\"marker\":{\"colorbar\":{\"outlinewidth\":0,\"ticks\":\"\"}}}],\"carpet\":[{\"aaxis\":{\"endlinecolor\":\"#2a3f5f\",\"gridcolor\":\"white\",\"linecolor\":\"white\",\"minorgridcolor\":\"white\",\"startlinecolor\":\"#2a3f5f\"},\"baxis\":{\"endlinecolor\":\"#2a3f5f\",\"gridcolor\":\"white\",\"linecolor\":\"white\",\"minorgridcolor\":\"white\",\"startlinecolor\":\"#2a3f5f\"},\"type\":\"carpet\"}],\"table\":[{\"cells\":{\"fill\":{\"color\":\"#EBF0F8\"},\"line\":{\"color\":\"white\"}},\"header\":{\"fill\":{\"color\":\"#C8D4E3\"},\"line\":{\"color\":\"white\"}},\"type\":\"table\"}],\"barpolar\":[{\"marker\":{\"line\":{\"color\":\"#E5ECF6\",\"width\":0.5},\"pattern\":{\"fillmode\":\"overlay\",\"size\":10,\"solidity\":0.2}},\"type\":\"barpolar\"}],\"pie\":[{\"automargin\":true,\"type\":\"pie\"}]},\"layout\":{\"autotypenumbers\":\"strict\",\"colorway\":[\"#636efa\",\"#EF553B\",\"#00cc96\",\"#ab63fa\",\"#FFA15A\",\"#19d3f3\",\"#FF6692\",\"#B6E880\",\"#FF97FF\",\"#FECB52\"],\"font\":{\"color\":\"#2a3f5f\"},\"hovermode\":\"closest\",\"hoverlabel\":{\"align\":\"left\"},\"paper_bgcolor\":\"white\",\"plot_bgcolor\":\"#E5ECF6\",\"polar\":{\"bgcolor\":\"#E5ECF6\",\"angularaxis\":{\"gridcolor\":\"white\",\"linecolor\":\"white\",\"ticks\":\"\"},\"radialaxis\":{\"gridcolor\":\"white\",\"linecolor\":\"white\",\"ticks\":\"\"}},\"ternary\":{\"bgcolor\":\"#E5ECF6\",\"aaxis\":{\"gridcolor\":\"white\",\"linecolor\":\"white\",\"ticks\":\"\"},\"baxis\":{\"gridcolor\":\"white\",\"linecolor\":\"white\",\"ticks\":\"\"},\"caxis\":{\"gridcolor\":\"white\",\"linecolor\":\"white\",\"ticks\":\"\"}},\"coloraxis\":{\"colorbar\":{\"outlinewidth\":0,\"ticks\":\"\"}},\"colorscale\":{\"sequential\":[[0.0,\"#0d0887\"],[0.1111111111111111,\"#46039f\"],[0.2222222222222222,\"#7201a8\"],[0.3333333333333333,\"#9c179e\"],[0.4444444444444444,\"#bd3786\"],[0.5555555555555556,\"#d8576b\"],[0.6666666666666666,\"#ed7953\"],[0.7777777777777778,\"#fb9f3a\"],[0.8888888888888888,\"#fdca26\"],[1.0,\"#f0f921\"]],\"sequentialminus\":[[0.0,\"#0d0887\"],[0.1111111111111111,\"#46039f\"],[0.2222222222222222,\"#7201a8\"],[0.3333333333333333,\"#9c179e\"],[0.4444444444444444,\"#bd3786\"],[0.5555555555555556,\"#d8576b\"],[0.6666666666666666,\"#ed7953\"],[0.7777777777777778,\"#fb9f3a\"],[0.8888888888888888,\"#fdca26\"],[1.0,\"#f0f921\"]],\"diverging\":[[0,\"#8e0152\"],[0.1,\"#c51b7d\"],[0.2,\"#de77ae\"],[0.3,\"#f1b6da\"],[0.4,\"#fde0ef\"],[0.5,\"#f7f7f7\"],[0.6,\"#e6f5d0\"],[0.7,\"#b8e186\"],[0.8,\"#7fbc41\"],[0.9,\"#4d9221\"],[1,\"#276419\"]]},\"xaxis\":{\"gridcolor\":\"white\",\"linecolor\":\"white\",\"ticks\":\"\",\"title\":{\"standoff\":15},\"zerolinecolor\":\"white\",\"automargin\":true,\"zerolinewidth\":2},\"yaxis\":{\"gridcolor\":\"white\",\"linecolor\":\"white\",\"ticks\":\"\",\"title\":{\"standoff\":15},\"zerolinecolor\":\"white\",\"automargin\":true,\"zerolinewidth\":2},\"scene\":{\"xaxis\":{\"backgroundcolor\":\"#E5ECF6\",\"gridcolor\":\"white\",\"linecolor\":\"white\",\"showbackground\":true,\"ticks\":\"\",\"zerolinecolor\":\"white\",\"gridwidth\":2},\"yaxis\":{\"backgroundcolor\":\"#E5ECF6\",\"gridcolor\":\"white\",\"linecolor\":\"white\",\"showbackground\":true,\"ticks\":\"\",\"zerolinecolor\":\"white\",\"gridwidth\":2},\"zaxis\":{\"backgroundcolor\":\"#E5ECF6\",\"gridcolor\":\"white\",\"linecolor\":\"white\",\"showbackground\":true,\"ticks\":\"\",\"zerolinecolor\":\"white\",\"gridwidth\":2}},\"shapedefaults\":{\"line\":{\"color\":\"#2a3f5f\"}},\"annotationdefaults\":{\"arrowcolor\":\"#2a3f5f\",\"arrowhead\":0,\"arrowwidth\":1},\"geo\":{\"bgcolor\":\"white\",\"landcolor\":\"#E5ECF6\",\"subunitcolor\":\"white\",\"showland\":true,\"showlakes\":true,\"lakecolor\":\"white\"},\"title\":{\"x\":0.05},\"mapbox\":{\"style\":\"light\"}}},\"xaxis\":{\"anchor\":\"y\",\"domain\":[0.0,1.0],\"title\":{\"text\":\"PC1 44.1%\"}},\"yaxis\":{\"anchor\":\"x\",\"domain\":[0.0,1.0],\"title\":{\"text\":\"PC2 31.0%\"}},\"legend\":{\"title\":{\"text\":\"color\"},\"tracegroupgap\":0},\"margin\":{\"t\":60},\"title\":{\"text\":\"Plant Nutrients by Site Not Including Nitrogen PCA\"}},                        {\"responsive\": true}                    ).then(function(){\n",
       "                            \n",
       "var gd = document.getElementById('6f0cdcc8-29d4-48ff-8b7b-b40fa536505b');\n",
       "var x = new MutationObserver(function (mutations, observer) {{\n",
       "        var display = window.getComputedStyle(gd).display;\n",
       "        if (!display || display === 'none') {{\n",
       "            console.log([gd, 'removed!']);\n",
       "            Plotly.purge(gd);\n",
       "            observer.disconnect();\n",
       "        }}\n",
       "}});\n",
       "\n",
       "// Listen for the removal of the full notebook cells\n",
       "var notebookContainer = gd.closest('#notebook-container');\n",
       "if (notebookContainer) {{\n",
       "    x.observe(notebookContainer, {childList: true});\n",
       "}}\n",
       "\n",
       "// Listen for the clearing of the current output cell\n",
       "var outputEl = gd.closest('.output');\n",
       "if (outputEl) {{\n",
       "    x.observe(outputEl, {childList: true});\n",
       "}}\n",
       "\n",
       "                        })                };                });            </script>        </div>"
      ]
     },
     "metadata": {},
     "output_type": "display_data"
    }
   ],
   "source": [
    "subdf[morph_char] = StandardScaler().fit_transform(subdf[morph_char])  \n",
    "X = subdf[morph_char]\n",
    "\n",
    "pca = PCA(n_components=2)\n",
    "components = pca.fit_transform(X)\n",
    "\n",
    "fig = px.scatter(components, x=0, y=1, color=subdf['site_id'])\n",
    "fig.update_layout(\n",
    "    title = \"Plant Nutrients by Site Not Including Nitrogen PCA\",\n",
    "    xaxis_title=\"PC1 \" + str(round(100*pca.explained_variance_ratio_[0], 1)) + '%',\n",
    "    yaxis_title=\"PC2 \" + str(round(100*pca.explained_variance_ratio_[1], 1)) + '%')\n",
    "fig.show()"
   ]
  },
  {
   "cell_type": "code",
   "execution_count": null,
   "id": "829f2c60",
   "metadata": {},
   "outputs": [],
   "source": []
  }
 ],
 "metadata": {
  "kernelspec": {
   "display_name": "Python 3 (ipykernel)",
   "language": "python",
   "name": "python3"
  },
  "language_info": {
   "codemirror_mode": {
    "name": "ipython",
    "version": 3
   },
   "file_extension": ".py",
   "mimetype": "text/x-python",
   "name": "python",
   "nbconvert_exporter": "python",
   "pygments_lexer": "ipython3",
   "version": "3.11.4"
  }
 },
 "nbformat": 4,
 "nbformat_minor": 5
}
